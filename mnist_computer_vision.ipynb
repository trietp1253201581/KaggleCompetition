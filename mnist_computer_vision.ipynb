{
  "cells": [
    {
      "cell_type": "markdown",
      "metadata": {
        "id": "view-in-github",
        "colab_type": "text"
      },
      "source": [
        "<a href=\"https://colab.research.google.com/github/trietp1253201581/KaggleCompetition/blob/main/mnist_computer_vision.ipynb\" target=\"_parent\"><img src=\"https://colab.research.google.com/assets/colab-badge.svg\" alt=\"Open In Colab\"/></a>"
      ]
    },
    {
      "cell_type": "markdown",
      "metadata": {
        "id": "9rY8G3HRNPTV"
      },
      "source": [
        "# Digit Recognizer"
      ]
    },
    {
      "cell_type": "markdown",
      "metadata": {
        "id": "4XpJK-NXNPTW"
      },
      "source": [
        "## Download and explore the data"
      ]
    },
    {
      "cell_type": "code",
      "execution_count": 1,
      "metadata": {
        "id": "3fZYTzA8NPTX"
      },
      "outputs": [],
      "source": [
        "import os\n",
        "os.environ['KAGGLE_CONFIG_DIR'] = '.'"
      ]
    },
    {
      "cell_type": "code",
      "execution_count": 2,
      "metadata": {
        "colab": {
          "base_uri": "https://localhost:8080/"
        },
        "id": "i68uBw-DNPTX",
        "outputId": "a884c925-6fa6-447b-abd9-58dd2b67d5dd"
      },
      "outputs": [
        {
          "output_type": "stream",
          "name": "stdout",
          "text": [
            "Warning: Your Kaggle API key is readable by other users on this system! To fix this, you can run 'chmod 600 ./kaggle.json'\n",
            "digit-recognizer.zip: Skipping, found more recently modified local copy (use --force to force download)\n"
          ]
        }
      ],
      "source": [
        "!kaggle competitions download -c digit-recognizer"
      ]
    },
    {
      "cell_type": "code",
      "execution_count": 3,
      "metadata": {
        "id": "NC_LfRYoNPTY"
      },
      "outputs": [],
      "source": [
        "from zipfile import ZipFile\n",
        "with ZipFile('digit-recognizer.zip') as f:\n",
        "    f.extractall('digit-recognize-data')"
      ]
    },
    {
      "cell_type": "code",
      "execution_count": 4,
      "metadata": {
        "id": "dzlWYYCMNPTY"
      },
      "outputs": [],
      "source": [
        "import torch\n",
        "import pandas as pd"
      ]
    },
    {
      "cell_type": "code",
      "execution_count": 5,
      "metadata": {
        "id": "kDe-xRtBNPTY"
      },
      "outputs": [],
      "source": [
        "data_dir = 'digit-recognize-data/'\n",
        "raw_df = pd.read_csv(data_dir+'train.csv')\n",
        "test_df = pd.read_csv(data_dir+'test.csv')\n",
        "sub_df = pd.read_csv(data_dir+'sample_submission.csv')"
      ]
    },
    {
      "cell_type": "code",
      "execution_count": 6,
      "metadata": {
        "colab": {
          "base_uri": "https://localhost:8080/"
        },
        "id": "aCU0z1ZINPTY",
        "outputId": "43ef0c72-ebe9-48b8-fee4-e9f2899b3552"
      },
      "outputs": [
        {
          "output_type": "execute_result",
          "data": {
            "text/plain": [
              "['pixel0',\n",
              " 'pixel1',\n",
              " 'pixel2',\n",
              " 'pixel3',\n",
              " 'pixel4',\n",
              " 'pixel5',\n",
              " 'pixel6',\n",
              " 'pixel7',\n",
              " 'pixel8',\n",
              " 'pixel9',\n",
              " 'pixel10',\n",
              " 'pixel11',\n",
              " 'pixel12',\n",
              " 'pixel13',\n",
              " 'pixel14',\n",
              " 'pixel15',\n",
              " 'pixel16',\n",
              " 'pixel17',\n",
              " 'pixel18',\n",
              " 'pixel19',\n",
              " 'pixel20',\n",
              " 'pixel21',\n",
              " 'pixel22',\n",
              " 'pixel23',\n",
              " 'pixel24',\n",
              " 'pixel25',\n",
              " 'pixel26',\n",
              " 'pixel27',\n",
              " 'pixel28',\n",
              " 'pixel29',\n",
              " 'pixel30',\n",
              " 'pixel31',\n",
              " 'pixel32',\n",
              " 'pixel33',\n",
              " 'pixel34',\n",
              " 'pixel35',\n",
              " 'pixel36',\n",
              " 'pixel37',\n",
              " 'pixel38',\n",
              " 'pixel39',\n",
              " 'pixel40',\n",
              " 'pixel41',\n",
              " 'pixel42',\n",
              " 'pixel43',\n",
              " 'pixel44',\n",
              " 'pixel45',\n",
              " 'pixel46',\n",
              " 'pixel47',\n",
              " 'pixel48',\n",
              " 'pixel49',\n",
              " 'pixel50',\n",
              " 'pixel51',\n",
              " 'pixel52',\n",
              " 'pixel53',\n",
              " 'pixel54',\n",
              " 'pixel55',\n",
              " 'pixel56',\n",
              " 'pixel57',\n",
              " 'pixel58',\n",
              " 'pixel59',\n",
              " 'pixel60',\n",
              " 'pixel61',\n",
              " 'pixel62',\n",
              " 'pixel63',\n",
              " 'pixel64',\n",
              " 'pixel65',\n",
              " 'pixel66',\n",
              " 'pixel67',\n",
              " 'pixel68',\n",
              " 'pixel69',\n",
              " 'pixel70',\n",
              " 'pixel71',\n",
              " 'pixel72',\n",
              " 'pixel73',\n",
              " 'pixel74',\n",
              " 'pixel75',\n",
              " 'pixel76',\n",
              " 'pixel77',\n",
              " 'pixel78',\n",
              " 'pixel79',\n",
              " 'pixel80',\n",
              " 'pixel81',\n",
              " 'pixel82',\n",
              " 'pixel83',\n",
              " 'pixel84',\n",
              " 'pixel85',\n",
              " 'pixel86',\n",
              " 'pixel87',\n",
              " 'pixel88',\n",
              " 'pixel89',\n",
              " 'pixel90',\n",
              " 'pixel91',\n",
              " 'pixel92',\n",
              " 'pixel93',\n",
              " 'pixel94',\n",
              " 'pixel95',\n",
              " 'pixel96',\n",
              " 'pixel97',\n",
              " 'pixel98',\n",
              " 'pixel99',\n",
              " 'pixel100',\n",
              " 'pixel101',\n",
              " 'pixel102',\n",
              " 'pixel103',\n",
              " 'pixel104',\n",
              " 'pixel105',\n",
              " 'pixel106',\n",
              " 'pixel107',\n",
              " 'pixel108',\n",
              " 'pixel109',\n",
              " 'pixel110',\n",
              " 'pixel111',\n",
              " 'pixel112',\n",
              " 'pixel113',\n",
              " 'pixel114',\n",
              " 'pixel115',\n",
              " 'pixel116',\n",
              " 'pixel117',\n",
              " 'pixel118',\n",
              " 'pixel119',\n",
              " 'pixel120',\n",
              " 'pixel121',\n",
              " 'pixel122',\n",
              " 'pixel123',\n",
              " 'pixel124',\n",
              " 'pixel125',\n",
              " 'pixel126',\n",
              " 'pixel127',\n",
              " 'pixel128',\n",
              " 'pixel129',\n",
              " 'pixel130',\n",
              " 'pixel131',\n",
              " 'pixel132',\n",
              " 'pixel133',\n",
              " 'pixel134',\n",
              " 'pixel135',\n",
              " 'pixel136',\n",
              " 'pixel137',\n",
              " 'pixel138',\n",
              " 'pixel139',\n",
              " 'pixel140',\n",
              " 'pixel141',\n",
              " 'pixel142',\n",
              " 'pixel143',\n",
              " 'pixel144',\n",
              " 'pixel145',\n",
              " 'pixel146',\n",
              " 'pixel147',\n",
              " 'pixel148',\n",
              " 'pixel149',\n",
              " 'pixel150',\n",
              " 'pixel151',\n",
              " 'pixel152',\n",
              " 'pixel153',\n",
              " 'pixel154',\n",
              " 'pixel155',\n",
              " 'pixel156',\n",
              " 'pixel157',\n",
              " 'pixel158',\n",
              " 'pixel159',\n",
              " 'pixel160',\n",
              " 'pixel161',\n",
              " 'pixel162',\n",
              " 'pixel163',\n",
              " 'pixel164',\n",
              " 'pixel165',\n",
              " 'pixel166',\n",
              " 'pixel167',\n",
              " 'pixel168',\n",
              " 'pixel169',\n",
              " 'pixel170',\n",
              " 'pixel171',\n",
              " 'pixel172',\n",
              " 'pixel173',\n",
              " 'pixel174',\n",
              " 'pixel175',\n",
              " 'pixel176',\n",
              " 'pixel177',\n",
              " 'pixel178',\n",
              " 'pixel179',\n",
              " 'pixel180',\n",
              " 'pixel181',\n",
              " 'pixel182',\n",
              " 'pixel183',\n",
              " 'pixel184',\n",
              " 'pixel185',\n",
              " 'pixel186',\n",
              " 'pixel187',\n",
              " 'pixel188',\n",
              " 'pixel189',\n",
              " 'pixel190',\n",
              " 'pixel191',\n",
              " 'pixel192',\n",
              " 'pixel193',\n",
              " 'pixel194',\n",
              " 'pixel195',\n",
              " 'pixel196',\n",
              " 'pixel197',\n",
              " 'pixel198',\n",
              " 'pixel199',\n",
              " 'pixel200',\n",
              " 'pixel201',\n",
              " 'pixel202',\n",
              " 'pixel203',\n",
              " 'pixel204',\n",
              " 'pixel205',\n",
              " 'pixel206',\n",
              " 'pixel207',\n",
              " 'pixel208',\n",
              " 'pixel209',\n",
              " 'pixel210',\n",
              " 'pixel211',\n",
              " 'pixel212',\n",
              " 'pixel213',\n",
              " 'pixel214',\n",
              " 'pixel215',\n",
              " 'pixel216',\n",
              " 'pixel217',\n",
              " 'pixel218',\n",
              " 'pixel219',\n",
              " 'pixel220',\n",
              " 'pixel221',\n",
              " 'pixel222',\n",
              " 'pixel223',\n",
              " 'pixel224',\n",
              " 'pixel225',\n",
              " 'pixel226',\n",
              " 'pixel227',\n",
              " 'pixel228',\n",
              " 'pixel229',\n",
              " 'pixel230',\n",
              " 'pixel231',\n",
              " 'pixel232',\n",
              " 'pixel233',\n",
              " 'pixel234',\n",
              " 'pixel235',\n",
              " 'pixel236',\n",
              " 'pixel237',\n",
              " 'pixel238',\n",
              " 'pixel239',\n",
              " 'pixel240',\n",
              " 'pixel241',\n",
              " 'pixel242',\n",
              " 'pixel243',\n",
              " 'pixel244',\n",
              " 'pixel245',\n",
              " 'pixel246',\n",
              " 'pixel247',\n",
              " 'pixel248',\n",
              " 'pixel249',\n",
              " 'pixel250',\n",
              " 'pixel251',\n",
              " 'pixel252',\n",
              " 'pixel253',\n",
              " 'pixel254',\n",
              " 'pixel255',\n",
              " 'pixel256',\n",
              " 'pixel257',\n",
              " 'pixel258',\n",
              " 'pixel259',\n",
              " 'pixel260',\n",
              " 'pixel261',\n",
              " 'pixel262',\n",
              " 'pixel263',\n",
              " 'pixel264',\n",
              " 'pixel265',\n",
              " 'pixel266',\n",
              " 'pixel267',\n",
              " 'pixel268',\n",
              " 'pixel269',\n",
              " 'pixel270',\n",
              " 'pixel271',\n",
              " 'pixel272',\n",
              " 'pixel273',\n",
              " 'pixel274',\n",
              " 'pixel275',\n",
              " 'pixel276',\n",
              " 'pixel277',\n",
              " 'pixel278',\n",
              " 'pixel279',\n",
              " 'pixel280',\n",
              " 'pixel281',\n",
              " 'pixel282',\n",
              " 'pixel283',\n",
              " 'pixel284',\n",
              " 'pixel285',\n",
              " 'pixel286',\n",
              " 'pixel287',\n",
              " 'pixel288',\n",
              " 'pixel289',\n",
              " 'pixel290',\n",
              " 'pixel291',\n",
              " 'pixel292',\n",
              " 'pixel293',\n",
              " 'pixel294',\n",
              " 'pixel295',\n",
              " 'pixel296',\n",
              " 'pixel297',\n",
              " 'pixel298',\n",
              " 'pixel299',\n",
              " 'pixel300',\n",
              " 'pixel301',\n",
              " 'pixel302',\n",
              " 'pixel303',\n",
              " 'pixel304',\n",
              " 'pixel305',\n",
              " 'pixel306',\n",
              " 'pixel307',\n",
              " 'pixel308',\n",
              " 'pixel309',\n",
              " 'pixel310',\n",
              " 'pixel311',\n",
              " 'pixel312',\n",
              " 'pixel313',\n",
              " 'pixel314',\n",
              " 'pixel315',\n",
              " 'pixel316',\n",
              " 'pixel317',\n",
              " 'pixel318',\n",
              " 'pixel319',\n",
              " 'pixel320',\n",
              " 'pixel321',\n",
              " 'pixel322',\n",
              " 'pixel323',\n",
              " 'pixel324',\n",
              " 'pixel325',\n",
              " 'pixel326',\n",
              " 'pixel327',\n",
              " 'pixel328',\n",
              " 'pixel329',\n",
              " 'pixel330',\n",
              " 'pixel331',\n",
              " 'pixel332',\n",
              " 'pixel333',\n",
              " 'pixel334',\n",
              " 'pixel335',\n",
              " 'pixel336',\n",
              " 'pixel337',\n",
              " 'pixel338',\n",
              " 'pixel339',\n",
              " 'pixel340',\n",
              " 'pixel341',\n",
              " 'pixel342',\n",
              " 'pixel343',\n",
              " 'pixel344',\n",
              " 'pixel345',\n",
              " 'pixel346',\n",
              " 'pixel347',\n",
              " 'pixel348',\n",
              " 'pixel349',\n",
              " 'pixel350',\n",
              " 'pixel351',\n",
              " 'pixel352',\n",
              " 'pixel353',\n",
              " 'pixel354',\n",
              " 'pixel355',\n",
              " 'pixel356',\n",
              " 'pixel357',\n",
              " 'pixel358',\n",
              " 'pixel359',\n",
              " 'pixel360',\n",
              " 'pixel361',\n",
              " 'pixel362',\n",
              " 'pixel363',\n",
              " 'pixel364',\n",
              " 'pixel365',\n",
              " 'pixel366',\n",
              " 'pixel367',\n",
              " 'pixel368',\n",
              " 'pixel369',\n",
              " 'pixel370',\n",
              " 'pixel371',\n",
              " 'pixel372',\n",
              " 'pixel373',\n",
              " 'pixel374',\n",
              " 'pixel375',\n",
              " 'pixel376',\n",
              " 'pixel377',\n",
              " 'pixel378',\n",
              " 'pixel379',\n",
              " 'pixel380',\n",
              " 'pixel381',\n",
              " 'pixel382',\n",
              " 'pixel383',\n",
              " 'pixel384',\n",
              " 'pixel385',\n",
              " 'pixel386',\n",
              " 'pixel387',\n",
              " 'pixel388',\n",
              " 'pixel389',\n",
              " 'pixel390',\n",
              " 'pixel391',\n",
              " 'pixel392',\n",
              " 'pixel393',\n",
              " 'pixel394',\n",
              " 'pixel395',\n",
              " 'pixel396',\n",
              " 'pixel397',\n",
              " 'pixel398',\n",
              " 'pixel399',\n",
              " 'pixel400',\n",
              " 'pixel401',\n",
              " 'pixel402',\n",
              " 'pixel403',\n",
              " 'pixel404',\n",
              " 'pixel405',\n",
              " 'pixel406',\n",
              " 'pixel407',\n",
              " 'pixel408',\n",
              " 'pixel409',\n",
              " 'pixel410',\n",
              " 'pixel411',\n",
              " 'pixel412',\n",
              " 'pixel413',\n",
              " 'pixel414',\n",
              " 'pixel415',\n",
              " 'pixel416',\n",
              " 'pixel417',\n",
              " 'pixel418',\n",
              " 'pixel419',\n",
              " 'pixel420',\n",
              " 'pixel421',\n",
              " 'pixel422',\n",
              " 'pixel423',\n",
              " 'pixel424',\n",
              " 'pixel425',\n",
              " 'pixel426',\n",
              " 'pixel427',\n",
              " 'pixel428',\n",
              " 'pixel429',\n",
              " 'pixel430',\n",
              " 'pixel431',\n",
              " 'pixel432',\n",
              " 'pixel433',\n",
              " 'pixel434',\n",
              " 'pixel435',\n",
              " 'pixel436',\n",
              " 'pixel437',\n",
              " 'pixel438',\n",
              " 'pixel439',\n",
              " 'pixel440',\n",
              " 'pixel441',\n",
              " 'pixel442',\n",
              " 'pixel443',\n",
              " 'pixel444',\n",
              " 'pixel445',\n",
              " 'pixel446',\n",
              " 'pixel447',\n",
              " 'pixel448',\n",
              " 'pixel449',\n",
              " 'pixel450',\n",
              " 'pixel451',\n",
              " 'pixel452',\n",
              " 'pixel453',\n",
              " 'pixel454',\n",
              " 'pixel455',\n",
              " 'pixel456',\n",
              " 'pixel457',\n",
              " 'pixel458',\n",
              " 'pixel459',\n",
              " 'pixel460',\n",
              " 'pixel461',\n",
              " 'pixel462',\n",
              " 'pixel463',\n",
              " 'pixel464',\n",
              " 'pixel465',\n",
              " 'pixel466',\n",
              " 'pixel467',\n",
              " 'pixel468',\n",
              " 'pixel469',\n",
              " 'pixel470',\n",
              " 'pixel471',\n",
              " 'pixel472',\n",
              " 'pixel473',\n",
              " 'pixel474',\n",
              " 'pixel475',\n",
              " 'pixel476',\n",
              " 'pixel477',\n",
              " 'pixel478',\n",
              " 'pixel479',\n",
              " 'pixel480',\n",
              " 'pixel481',\n",
              " 'pixel482',\n",
              " 'pixel483',\n",
              " 'pixel484',\n",
              " 'pixel485',\n",
              " 'pixel486',\n",
              " 'pixel487',\n",
              " 'pixel488',\n",
              " 'pixel489',\n",
              " 'pixel490',\n",
              " 'pixel491',\n",
              " 'pixel492',\n",
              " 'pixel493',\n",
              " 'pixel494',\n",
              " 'pixel495',\n",
              " 'pixel496',\n",
              " 'pixel497',\n",
              " 'pixel498',\n",
              " 'pixel499',\n",
              " 'pixel500',\n",
              " 'pixel501',\n",
              " 'pixel502',\n",
              " 'pixel503',\n",
              " 'pixel504',\n",
              " 'pixel505',\n",
              " 'pixel506',\n",
              " 'pixel507',\n",
              " 'pixel508',\n",
              " 'pixel509',\n",
              " 'pixel510',\n",
              " 'pixel511',\n",
              " 'pixel512',\n",
              " 'pixel513',\n",
              " 'pixel514',\n",
              " 'pixel515',\n",
              " 'pixel516',\n",
              " 'pixel517',\n",
              " 'pixel518',\n",
              " 'pixel519',\n",
              " 'pixel520',\n",
              " 'pixel521',\n",
              " 'pixel522',\n",
              " 'pixel523',\n",
              " 'pixel524',\n",
              " 'pixel525',\n",
              " 'pixel526',\n",
              " 'pixel527',\n",
              " 'pixel528',\n",
              " 'pixel529',\n",
              " 'pixel530',\n",
              " 'pixel531',\n",
              " 'pixel532',\n",
              " 'pixel533',\n",
              " 'pixel534',\n",
              " 'pixel535',\n",
              " 'pixel536',\n",
              " 'pixel537',\n",
              " 'pixel538',\n",
              " 'pixel539',\n",
              " 'pixel540',\n",
              " 'pixel541',\n",
              " 'pixel542',\n",
              " 'pixel543',\n",
              " 'pixel544',\n",
              " 'pixel545',\n",
              " 'pixel546',\n",
              " 'pixel547',\n",
              " 'pixel548',\n",
              " 'pixel549',\n",
              " 'pixel550',\n",
              " 'pixel551',\n",
              " 'pixel552',\n",
              " 'pixel553',\n",
              " 'pixel554',\n",
              " 'pixel555',\n",
              " 'pixel556',\n",
              " 'pixel557',\n",
              " 'pixel558',\n",
              " 'pixel559',\n",
              " 'pixel560',\n",
              " 'pixel561',\n",
              " 'pixel562',\n",
              " 'pixel563',\n",
              " 'pixel564',\n",
              " 'pixel565',\n",
              " 'pixel566',\n",
              " 'pixel567',\n",
              " 'pixel568',\n",
              " 'pixel569',\n",
              " 'pixel570',\n",
              " 'pixel571',\n",
              " 'pixel572',\n",
              " 'pixel573',\n",
              " 'pixel574',\n",
              " 'pixel575',\n",
              " 'pixel576',\n",
              " 'pixel577',\n",
              " 'pixel578',\n",
              " 'pixel579',\n",
              " 'pixel580',\n",
              " 'pixel581',\n",
              " 'pixel582',\n",
              " 'pixel583',\n",
              " 'pixel584',\n",
              " 'pixel585',\n",
              " 'pixel586',\n",
              " 'pixel587',\n",
              " 'pixel588',\n",
              " 'pixel589',\n",
              " 'pixel590',\n",
              " 'pixel591',\n",
              " 'pixel592',\n",
              " 'pixel593',\n",
              " 'pixel594',\n",
              " 'pixel595',\n",
              " 'pixel596',\n",
              " 'pixel597',\n",
              " 'pixel598',\n",
              " 'pixel599',\n",
              " 'pixel600',\n",
              " 'pixel601',\n",
              " 'pixel602',\n",
              " 'pixel603',\n",
              " 'pixel604',\n",
              " 'pixel605',\n",
              " 'pixel606',\n",
              " 'pixel607',\n",
              " 'pixel608',\n",
              " 'pixel609',\n",
              " 'pixel610',\n",
              " 'pixel611',\n",
              " 'pixel612',\n",
              " 'pixel613',\n",
              " 'pixel614',\n",
              " 'pixel615',\n",
              " 'pixel616',\n",
              " 'pixel617',\n",
              " 'pixel618',\n",
              " 'pixel619',\n",
              " 'pixel620',\n",
              " 'pixel621',\n",
              " 'pixel622',\n",
              " 'pixel623',\n",
              " 'pixel624',\n",
              " 'pixel625',\n",
              " 'pixel626',\n",
              " 'pixel627',\n",
              " 'pixel628',\n",
              " 'pixel629',\n",
              " 'pixel630',\n",
              " 'pixel631',\n",
              " 'pixel632',\n",
              " 'pixel633',\n",
              " 'pixel634',\n",
              " 'pixel635',\n",
              " 'pixel636',\n",
              " 'pixel637',\n",
              " 'pixel638',\n",
              " 'pixel639',\n",
              " 'pixel640',\n",
              " 'pixel641',\n",
              " 'pixel642',\n",
              " 'pixel643',\n",
              " 'pixel644',\n",
              " 'pixel645',\n",
              " 'pixel646',\n",
              " 'pixel647',\n",
              " 'pixel648',\n",
              " 'pixel649',\n",
              " 'pixel650',\n",
              " 'pixel651',\n",
              " 'pixel652',\n",
              " 'pixel653',\n",
              " 'pixel654',\n",
              " 'pixel655',\n",
              " 'pixel656',\n",
              " 'pixel657',\n",
              " 'pixel658',\n",
              " 'pixel659',\n",
              " 'pixel660',\n",
              " 'pixel661',\n",
              " 'pixel662',\n",
              " 'pixel663',\n",
              " 'pixel664',\n",
              " 'pixel665',\n",
              " 'pixel666',\n",
              " 'pixel667',\n",
              " 'pixel668',\n",
              " 'pixel669',\n",
              " 'pixel670',\n",
              " 'pixel671',\n",
              " 'pixel672',\n",
              " 'pixel673',\n",
              " 'pixel674',\n",
              " 'pixel675',\n",
              " 'pixel676',\n",
              " 'pixel677',\n",
              " 'pixel678',\n",
              " 'pixel679',\n",
              " 'pixel680',\n",
              " 'pixel681',\n",
              " 'pixel682',\n",
              " 'pixel683',\n",
              " 'pixel684',\n",
              " 'pixel685',\n",
              " 'pixel686',\n",
              " 'pixel687',\n",
              " 'pixel688',\n",
              " 'pixel689',\n",
              " 'pixel690',\n",
              " 'pixel691',\n",
              " 'pixel692',\n",
              " 'pixel693',\n",
              " 'pixel694',\n",
              " 'pixel695',\n",
              " 'pixel696',\n",
              " 'pixel697',\n",
              " 'pixel698',\n",
              " 'pixel699',\n",
              " 'pixel700',\n",
              " 'pixel701',\n",
              " 'pixel702',\n",
              " 'pixel703',\n",
              " 'pixel704',\n",
              " 'pixel705',\n",
              " 'pixel706',\n",
              " 'pixel707',\n",
              " 'pixel708',\n",
              " 'pixel709',\n",
              " 'pixel710',\n",
              " 'pixel711',\n",
              " 'pixel712',\n",
              " 'pixel713',\n",
              " 'pixel714',\n",
              " 'pixel715',\n",
              " 'pixel716',\n",
              " 'pixel717',\n",
              " 'pixel718',\n",
              " 'pixel719',\n",
              " 'pixel720',\n",
              " 'pixel721',\n",
              " 'pixel722',\n",
              " 'pixel723',\n",
              " 'pixel724',\n",
              " 'pixel725',\n",
              " 'pixel726',\n",
              " 'pixel727',\n",
              " 'pixel728',\n",
              " 'pixel729',\n",
              " 'pixel730',\n",
              " 'pixel731',\n",
              " 'pixel732',\n",
              " 'pixel733',\n",
              " 'pixel734',\n",
              " 'pixel735',\n",
              " 'pixel736',\n",
              " 'pixel737',\n",
              " 'pixel738',\n",
              " 'pixel739',\n",
              " 'pixel740',\n",
              " 'pixel741',\n",
              " 'pixel742',\n",
              " 'pixel743',\n",
              " 'pixel744',\n",
              " 'pixel745',\n",
              " 'pixel746',\n",
              " 'pixel747',\n",
              " 'pixel748',\n",
              " 'pixel749',\n",
              " 'pixel750',\n",
              " 'pixel751',\n",
              " 'pixel752',\n",
              " 'pixel753',\n",
              " 'pixel754',\n",
              " 'pixel755',\n",
              " 'pixel756',\n",
              " 'pixel757',\n",
              " 'pixel758',\n",
              " 'pixel759',\n",
              " 'pixel760',\n",
              " 'pixel761',\n",
              " 'pixel762',\n",
              " 'pixel763',\n",
              " 'pixel764',\n",
              " 'pixel765',\n",
              " 'pixel766',\n",
              " 'pixel767',\n",
              " 'pixel768',\n",
              " 'pixel769',\n",
              " 'pixel770',\n",
              " 'pixel771',\n",
              " 'pixel772',\n",
              " 'pixel773',\n",
              " 'pixel774',\n",
              " 'pixel775',\n",
              " 'pixel776',\n",
              " 'pixel777',\n",
              " 'pixel778',\n",
              " 'pixel779',\n",
              " 'pixel780',\n",
              " 'pixel781',\n",
              " 'pixel782',\n",
              " 'pixel783']"
            ]
          },
          "metadata": {},
          "execution_count": 6
        }
      ],
      "source": [
        "input_cols = raw_df.columns.tolist()\n",
        "input_cols.remove('label')\n",
        "input_cols"
      ]
    },
    {
      "cell_type": "code",
      "execution_count": 7,
      "metadata": {
        "id": "V8xzWCPqNPTZ"
      },
      "outputs": [],
      "source": [
        "target_col = 'label'"
      ]
    },
    {
      "cell_type": "code",
      "source": [
        "for col in input_cols:\n",
        "    raw_df[col] = raw_df[col]/255"
      ],
      "metadata": {
        "id": "wDQQEyYPWflp"
      },
      "execution_count": 8,
      "outputs": []
    },
    {
      "cell_type": "code",
      "execution_count": 9,
      "metadata": {
        "id": "IvSdA7gcNPTa"
      },
      "outputs": [],
      "source": [
        "input_tensor = torch.tensor(raw_df[input_cols].values, dtype=torch.float32)\n",
        "target_tensor = torch.tensor(raw_df[target_col].values)"
      ]
    },
    {
      "cell_type": "code",
      "source": [
        "from torch.utils.data import TensorDataset, DataLoader"
      ],
      "metadata": {
        "id": "csTEo-asNqko"
      },
      "execution_count": 10,
      "outputs": []
    },
    {
      "cell_type": "code",
      "source": [
        "raw_ds = TensorDataset(input_tensor, target_tensor)\n",
        "raw_ds[0]"
      ],
      "metadata": {
        "colab": {
          "base_uri": "https://localhost:8080/"
        },
        "id": "0lm3cCMRNuus",
        "outputId": "7a741324-3715-489b-9567-3086aee8c6e0"
      },
      "execution_count": 11,
      "outputs": [
        {
          "output_type": "execute_result",
          "data": {
            "text/plain": [
              "(tensor([0.0000, 0.0000, 0.0000, 0.0000, 0.0000, 0.0000, 0.0000, 0.0000, 0.0000,\n",
              "         0.0000, 0.0000, 0.0000, 0.0000, 0.0000, 0.0000, 0.0000, 0.0000, 0.0000,\n",
              "         0.0000, 0.0000, 0.0000, 0.0000, 0.0000, 0.0000, 0.0000, 0.0000, 0.0000,\n",
              "         0.0000, 0.0000, 0.0000, 0.0000, 0.0000, 0.0000, 0.0000, 0.0000, 0.0000,\n",
              "         0.0000, 0.0000, 0.0000, 0.0000, 0.0000, 0.0000, 0.0000, 0.0000, 0.0000,\n",
              "         0.0000, 0.0000, 0.0000, 0.0000, 0.0000, 0.0000, 0.0000, 0.0000, 0.0000,\n",
              "         0.0000, 0.0000, 0.0000, 0.0000, 0.0000, 0.0000, 0.0000, 0.0000, 0.0000,\n",
              "         0.0000, 0.0000, 0.0000, 0.0000, 0.0000, 0.0000, 0.0000, 0.0000, 0.0000,\n",
              "         0.0000, 0.0000, 0.0000, 0.0000, 0.0000, 0.0000, 0.0000, 0.0000, 0.0000,\n",
              "         0.0000, 0.0000, 0.0000, 0.0000, 0.0000, 0.0000, 0.0000, 0.0000, 0.0000,\n",
              "         0.0000, 0.0000, 0.0000, 0.0000, 0.0000, 0.0000, 0.0000, 0.0000, 0.0000,\n",
              "         0.0000, 0.0000, 0.0000, 0.0000, 0.0000, 0.0000, 0.0000, 0.0000, 0.0000,\n",
              "         0.0000, 0.0000, 0.0000, 0.0000, 0.0000, 0.0000, 0.0000, 0.0000, 0.0000,\n",
              "         0.0000, 0.0000, 0.0000, 0.0000, 0.0000, 0.0000, 0.0000, 0.0000, 0.0000,\n",
              "         0.0000, 0.0000, 0.0000, 0.0000, 0.0000, 0.0000, 0.7373, 1.0000, 0.3686,\n",
              "         0.0000, 0.0000, 0.0000, 0.0000, 0.0000, 0.0000, 0.0000, 0.0000, 0.0000,\n",
              "         0.0000, 0.0000, 0.0000, 0.0000, 0.0000, 0.0000, 0.0000, 0.0000, 0.0000,\n",
              "         0.0000, 0.0000, 0.0000, 0.0000, 0.0000, 0.0000, 0.7490, 0.9804, 0.9922,\n",
              "         0.3647, 0.0000, 0.0000, 0.0000, 0.0000, 0.0000, 0.0000, 0.0000, 0.0000,\n",
              "         0.0000, 0.0000, 0.0000, 0.0000, 0.0000, 0.0000, 0.0000, 0.0000, 0.0000,\n",
              "         0.0000, 0.0000, 0.0000, 0.0000, 0.0000, 0.0000, 0.4824, 0.9725, 0.9922,\n",
              "         0.6549, 0.0392, 0.0000, 0.0000, 0.0000, 0.0000, 0.0000, 0.0000, 0.0000,\n",
              "         0.0000, 0.0000, 0.0000, 0.0000, 0.0000, 0.0000, 0.0000, 0.0000, 0.0000,\n",
              "         0.0000, 0.0000, 0.0000, 0.0000, 0.0000, 0.0000, 0.3137, 0.9686, 0.9922,\n",
              "         0.8157, 0.0510, 0.0000, 0.0000, 0.0000, 0.0000, 0.0000, 0.0000, 0.0000,\n",
              "         0.0000, 0.0000, 0.0000, 0.0000, 0.0000, 0.0000, 0.0000, 0.0000, 0.0000,\n",
              "         0.0000, 0.0000, 0.0000, 0.0000, 0.0000, 0.0000, 0.1137, 0.8118, 0.9922,\n",
              "         0.9216, 0.3020, 0.0000, 0.0000, 0.0000, 0.0000, 0.0000, 0.0000, 0.0000,\n",
              "         0.0000, 0.0000, 0.0000, 0.0000, 0.0000, 0.0000, 0.0000, 0.0000, 0.0000,\n",
              "         0.0000, 0.0000, 0.0000, 0.0000, 0.0000, 0.0000, 0.2118, 0.8196, 0.9922,\n",
              "         0.9922, 0.3451, 0.0000, 0.0000, 0.0000, 0.0000, 0.0000, 0.0000, 0.0000,\n",
              "         0.0000, 0.0000, 0.0000, 0.0000, 0.0000, 0.0000, 0.0000, 0.0000, 0.0000,\n",
              "         0.0000, 0.0000, 0.0000, 0.0000, 0.0000, 0.0000, 0.3647, 0.9961, 0.9922,\n",
              "         0.9333, 0.6667, 0.0667, 0.0000, 0.0000, 0.0000, 0.0000, 0.0000, 0.0000,\n",
              "         0.0000, 0.0000, 0.0000, 0.0000, 0.0000, 0.0000, 0.0000, 0.0000, 0.0000,\n",
              "         0.0000, 0.0000, 0.0000, 0.0000, 0.0000, 0.0000, 0.0902, 0.8235, 0.9961,\n",
              "         0.9922, 0.6235, 0.0000, 0.0000, 0.0000, 0.0000, 0.0000, 0.0000, 0.0000,\n",
              "         0.0000, 0.0000, 0.0000, 0.0000, 0.0000, 0.0000, 0.0000, 0.0000, 0.0000,\n",
              "         0.0000, 0.0000, 0.0000, 0.0000, 0.0000, 0.0000, 0.0627, 0.8196, 0.9922,\n",
              "         0.9961, 0.9412, 0.3176, 0.0000, 0.0000, 0.0000, 0.0000, 0.0000, 0.0000,\n",
              "         0.0000, 0.0000, 0.0000, 0.0000, 0.0000, 0.0000, 0.0000, 0.0000, 0.0000,\n",
              "         0.0000, 0.0000, 0.0000, 0.0000, 0.0000, 0.0000, 0.0000, 0.1059, 0.9922,\n",
              "         0.9922, 0.9961, 0.0510, 0.0000, 0.0000, 0.0000, 0.0000, 0.0000, 0.0000,\n",
              "         0.0000, 0.0000, 0.0000, 0.0000, 0.0000, 0.0000, 0.0000, 0.0000, 0.0000,\n",
              "         0.0000, 0.0000, 0.0000, 0.0000, 0.0000, 0.0000, 0.0000, 0.0784, 0.8078,\n",
              "         0.9961, 0.9961, 0.7765, 0.0275, 0.0000, 0.0000, 0.0000, 0.0000, 0.0000,\n",
              "         0.0000, 0.0000, 0.0000, 0.0000, 0.0000, 0.0000, 0.0000, 0.0000, 0.0000,\n",
              "         0.0000, 0.0000, 0.0000, 0.0000, 0.0000, 0.0000, 0.0000, 0.0000, 0.6588,\n",
              "         0.9922, 0.9922, 0.7686, 0.0275, 0.0000, 0.0000, 0.0000, 0.0000, 0.0000,\n",
              "         0.0000, 0.0000, 0.0000, 0.0000, 0.0000, 0.0000, 0.0000, 0.0000, 0.0000,\n",
              "         0.0000, 0.0000, 0.0000, 0.0000, 0.0000, 0.0000, 0.0000, 0.0000, 0.0784,\n",
              "         0.7961, 0.9922, 0.9725, 0.2980, 0.0000, 0.0000, 0.0000, 0.0000, 0.0000,\n",
              "         0.0000, 0.0000, 0.0000, 0.0000, 0.0000, 0.0000, 0.0000, 0.0000, 0.0000,\n",
              "         0.0000, 0.0000, 0.0000, 0.0000, 0.0000, 0.0000, 0.0000, 0.0000, 0.0863,\n",
              "         0.7373, 0.9922, 0.9608, 0.3647, 0.0000, 0.0000, 0.0000, 0.0000, 0.0000,\n",
              "         0.0000, 0.0000, 0.0000, 0.0000, 0.0000, 0.0000, 0.0000, 0.0000, 0.0000,\n",
              "         0.0000, 0.0000, 0.0000, 0.0000, 0.0000, 0.0000, 0.0000, 0.0000, 0.0000,\n",
              "         0.4039, 0.9922, 0.9922, 0.7490, 0.0000, 0.0000, 0.0000, 0.0000, 0.0000,\n",
              "         0.0000, 0.0000, 0.0000, 0.0000, 0.0000, 0.0000, 0.0000, 0.0000, 0.0000,\n",
              "         0.0000, 0.0000, 0.0000, 0.0000, 0.0000, 0.0000, 0.0000, 0.0000, 0.0000,\n",
              "         0.3490, 0.9412, 0.9922, 0.7647, 0.0980, 0.0000, 0.0000, 0.0000, 0.0000,\n",
              "         0.0000, 0.0000, 0.0000, 0.0000, 0.0000, 0.0000, 0.0000, 0.0000, 0.0000,\n",
              "         0.0000, 0.0000, 0.0000, 0.0000, 0.0000, 0.0000, 0.0000, 0.0000, 0.0000,\n",
              "         0.0588, 0.8627, 0.9922, 0.9922, 0.3137, 0.0000, 0.0000, 0.0000, 0.0000,\n",
              "         0.0000, 0.0000, 0.0000, 0.0000, 0.0000, 0.0000, 0.0000, 0.0000, 0.0000,\n",
              "         0.0000, 0.0000, 0.0000, 0.0000, 0.0000, 0.0000, 0.0000, 0.0000, 0.0000,\n",
              "         0.0000, 0.3686, 0.9922, 0.9922, 0.9922, 0.3686, 0.0000, 0.0000, 0.0000,\n",
              "         0.0000, 0.0000, 0.0000, 0.0000, 0.0000, 0.0000, 0.0000, 0.0000, 0.0000,\n",
              "         0.0000, 0.0000, 0.0000, 0.0000, 0.0000, 0.0000, 0.0000, 0.0000, 0.0000,\n",
              "         0.0000, 0.0000, 0.3490, 0.9843, 0.9922, 0.9804, 0.5137, 0.0000, 0.0000,\n",
              "         0.0000, 0.0000, 0.0000, 0.0000, 0.0000, 0.0000, 0.0000, 0.0000, 0.0000,\n",
              "         0.0000, 0.0000, 0.0000, 0.0000, 0.0000, 0.0000, 0.0000, 0.0000, 0.0000,\n",
              "         0.0000, 0.0000, 0.0000, 0.0000, 0.8392, 0.8549, 0.3725, 0.0000, 0.0000,\n",
              "         0.0000, 0.0000, 0.0000, 0.0000, 0.0000, 0.0000, 0.0000, 0.0000, 0.0000,\n",
              "         0.0000, 0.0000, 0.0000, 0.0000, 0.0000, 0.0000, 0.0000, 0.0000, 0.0000,\n",
              "         0.0000, 0.0000, 0.0000, 0.0000, 0.0000, 0.0000, 0.0000, 0.0000, 0.0000,\n",
              "         0.0000, 0.0000, 0.0000, 0.0000, 0.0000, 0.0000, 0.0000, 0.0000, 0.0000,\n",
              "         0.0000, 0.0000, 0.0000, 0.0000, 0.0000, 0.0000, 0.0000, 0.0000, 0.0000,\n",
              "         0.0000, 0.0000, 0.0000, 0.0000, 0.0000, 0.0000, 0.0000, 0.0000, 0.0000,\n",
              "         0.0000, 0.0000, 0.0000, 0.0000, 0.0000, 0.0000, 0.0000, 0.0000, 0.0000,\n",
              "         0.0000, 0.0000, 0.0000, 0.0000, 0.0000, 0.0000, 0.0000, 0.0000, 0.0000,\n",
              "         0.0000, 0.0000, 0.0000, 0.0000, 0.0000, 0.0000, 0.0000, 0.0000, 0.0000,\n",
              "         0.0000, 0.0000, 0.0000, 0.0000, 0.0000, 0.0000, 0.0000, 0.0000, 0.0000,\n",
              "         0.0000, 0.0000, 0.0000, 0.0000, 0.0000, 0.0000, 0.0000, 0.0000, 0.0000,\n",
              "         0.0000, 0.0000, 0.0000, 0.0000, 0.0000, 0.0000, 0.0000, 0.0000, 0.0000,\n",
              "         0.0000, 0.0000, 0.0000, 0.0000, 0.0000, 0.0000, 0.0000, 0.0000, 0.0000,\n",
              "         0.0000, 0.0000, 0.0000, 0.0000, 0.0000, 0.0000, 0.0000, 0.0000, 0.0000,\n",
              "         0.0000]),\n",
              " tensor(1))"
            ]
          },
          "metadata": {},
          "execution_count": 11
        }
      ]
    },
    {
      "cell_type": "code",
      "source": [
        "image_sample = raw_ds[100][0].reshape(28, 28)\n",
        "import matplotlib.pyplot as plt\n",
        "print(raw_ds[100][1])\n",
        "plt.imshow(image_sample, cmap='gray')"
      ],
      "metadata": {
        "colab": {
          "base_uri": "https://localhost:8080/",
          "height": 465
        },
        "id": "I3h-pnxqN1M_",
        "outputId": "b0cfa33d-8a4e-4b1b-ee25-0a2b05151eaf"
      },
      "execution_count": 12,
      "outputs": [
        {
          "output_type": "stream",
          "name": "stdout",
          "text": [
            "tensor(9)\n"
          ]
        },
        {
          "output_type": "execute_result",
          "data": {
            "text/plain": [
              "<matplotlib.image.AxesImage at 0x79737d4c1e70>"
            ]
          },
          "metadata": {},
          "execution_count": 12
        },
        {
          "output_type": "display_data",
          "data": {
            "text/plain": [
              "<Figure size 640x480 with 1 Axes>"
            ],
            "image/png": "[encoded data removed]"
          },
          "metadata": {}
        }
      ]
    },
    {
      "cell_type": "code",
      "source": [
        "random_seed = 42\n",
        "torch.manual_seed(random_seed)"
      ],
      "metadata": {
        "colab": {
          "base_uri": "https://localhost:8080/"
        },
        "id": "FO2pv0oWOoFm",
        "outputId": "ec384ec5-8c35-4397-f12c-212ed370562a"
      },
      "execution_count": 13,
      "outputs": [
        {
          "output_type": "execute_result",
          "data": {
            "text/plain": [
              "<torch._C.Generator at 0x79745834e2d0>"
            ]
          },
          "metadata": {},
          "execution_count": 13
        }
      ]
    },
    {
      "cell_type": "code",
      "source": [
        "val_size = 8000\n",
        "train_size = len(raw_ds) - val_size"
      ],
      "metadata": {
        "id": "x3G-QnjtPfVF"
      },
      "execution_count": 14,
      "outputs": []
    },
    {
      "cell_type": "code",
      "source": [
        "train_ds, val_ds = torch.utils.data.random_split(raw_ds, [train_size, val_size])"
      ],
      "metadata": {
        "id": "pQq2Nw3UPoPo"
      },
      "execution_count": 15,
      "outputs": []
    },
    {
      "cell_type": "code",
      "source": [
        "batch_size = 128"
      ],
      "metadata": {
        "id": "fiSlRRCVQ-KA"
      },
      "execution_count": 16,
      "outputs": []
    },
    {
      "cell_type": "code",
      "source": [
        "from torch.utils.data import DataLoader\n",
        "train_dl = DataLoader(train_ds, batch_size, shuffle=True, num_workers=2, pin_memory=True)\n",
        "val_dl = DataLoader(val_ds, batch_size*2, num_workers=2, pin_memory=True)"
      ],
      "metadata": {
        "id": "-aM0YNI-PrqV"
      },
      "execution_count": 17,
      "outputs": []
    },
    {
      "cell_type": "markdown",
      "source": [
        "## Model"
      ],
      "metadata": {
        "id": "ndEbYlcuRQzw"
      }
    },
    {
      "cell_type": "code",
      "source": [
        "def accurary(output, target):\n",
        "    _, pred = torch.max(output, dim=1)\n",
        "    return torch.tensor(torch.sum(pred==target).item()/len(target))"
      ],
      "metadata": {
        "id": "A_UD0rqVSM3U"
      },
      "execution_count": 18,
      "outputs": []
    },
    {
      "cell_type": "code",
      "source": [
        "import torch.nn as nn\n",
        "import torch.nn.functional as F"
      ],
      "metadata": {
        "id": "08kkLmNlSpSI"
      },
      "execution_count": 19,
      "outputs": []
    },
    {
      "cell_type": "code",
      "source": [
        "class BaseModel(nn.Module):\n",
        "    def training_step(self, batch):\n",
        "        images, targets = batch\n",
        "        out = self(images)\n",
        "        loss = F.cross_entropy(out, targets)\n",
        "        return loss\n",
        "\n",
        "    def validation_step(self, batch):\n",
        "        images, targets = batch\n",
        "        out = self(images)\n",
        "        loss = F.cross_entropy(out, targets)\n",
        "        acc = accurary(out, targets)\n",
        "        return {'val_loss': loss.detach(), 'val_acc': acc}\n",
        "\n",
        "    def validation_epoch_end(self, outputs):\n",
        "        batch_losses = [x['val_loss'] for x in outputs]\n",
        "        epoch_loss = torch.stack(batch_losses).mean()\n",
        "        batch_accs = [x['val_acc'] for x in outputs]\n",
        "        epoch_acc = torch.stack(batch_accs).mean()\n",
        "        return {'val_loss': epoch_loss.item(), 'val_acc': epoch_acc.item()}\n",
        "\n",
        "    def epoch_end(self, epoch, result):\n",
        "        print(\"Epoch [{}], val_loss: {:.4f}, val_acc: {:.4f}\".format(epoch, result['val_loss'], result['val_acc']))"
      ],
      "metadata": {
        "id": "crnEfrdCSsqO"
      },
      "execution_count": 20,
      "outputs": []
    },
    {
      "cell_type": "code",
      "source": [
        "def get_default_device():\n",
        "    if torch.cuda.is_available():\n",
        "        return torch.device('cuda')\n",
        "    else:\n",
        "        return torch.device('cpu')\n",
        "\n",
        "def to_device(data, device):\n",
        "    if isinstance(data, (list, tuple)):\n",
        "        return [to_device(x, device) for x in data]\n",
        "    return data.to(device, non_blocking=True)\n",
        "\n",
        "class DeviceDataLoader():\n",
        "    def __init__(self, dl, device):\n",
        "        self.dl = dl\n",
        "        self.device = device\n",
        "\n",
        "    def __iter__(self):\n",
        "        for batch in self.dl:\n",
        "            yield to_device(batch, self.device)\n",
        "\n",
        "    def __len__(self):\n",
        "        return len(self.dl)"
      ],
      "metadata": {
        "id": "GyAHx1zOVjNK"
      },
      "execution_count": 21,
      "outputs": []
    },
    {
      "cell_type": "code",
      "source": [
        "get_default_device()"
      ],
      "metadata": {
        "colab": {
          "base_uri": "https://localhost:8080/"
        },
        "id": "9yIxAnBXV2S8",
        "outputId": "c484c87b-8fdb-4de4-d0fe-710f1aba1ca8"
      },
      "execution_count": 22,
      "outputs": [
        {
          "output_type": "execute_result",
          "data": {
            "text/plain": [
              "device(type='cuda')"
            ]
          },
          "metadata": {},
          "execution_count": 22
        }
      ]
    },
    {
      "cell_type": "code",
      "source": [
        "def predict_image(img, model):\n",
        "    xb = to_device(img.unsqueeze(0), get_default_device())\n",
        "    yb = model(xb)\n",
        "    _, preds = torch.max(yb, dim=1)\n",
        "    return preds[0].item()"
      ],
      "metadata": {
        "id": "kXOypF_8ZcB6"
      },
      "execution_count": 23,
      "outputs": []
    },
    {
      "cell_type": "code",
      "source": [
        "test_df[input_cols] = test_df[input_cols]/255"
      ],
      "metadata": {
        "id": "BpmyNSf8awaT"
      },
      "execution_count": 24,
      "outputs": []
    },
    {
      "cell_type": "code",
      "source": [
        "test_ds = TensorDataset(torch.tensor(test_df[input_cols].values, dtype=torch.float32))"
      ],
      "metadata": {
        "id": "ZFeAdktva1kG"
      },
      "execution_count": 27,
      "outputs": []
    },
    {
      "cell_type": "markdown",
      "source": [
        "## CNN Model"
      ],
      "metadata": {
        "id": "coQhQVuEtZCA"
      }
    },
    {
      "cell_type": "code",
      "source": [
        "input_tensor = input_tensor.reshape(-1, 1, 28, 28)\n",
        "\n",
        "raw_ds = TensorDataset(input_tensor, target_tensor)\n",
        "raw_ds[0][0].shape"
      ],
      "metadata": {
        "id": "5xbgNyGke5xz",
        "colab": {
          "base_uri": "https://localhost:8080/"
        },
        "outputId": "c295ddad-1802-49cc-ee52-ad6fe0b7607d"
      },
      "execution_count": 28,
      "outputs": [
        {
          "output_type": "execute_result",
          "data": {
            "text/plain": [
              "torch.Size([1, 28, 28])"
            ]
          },
          "metadata": {},
          "execution_count": 28
        }
      ]
    },
    {
      "cell_type": "code",
      "source": [
        "import torchvision.transforms as T\n",
        "input_tensor = T.Resize((32, 32))(input_tensor)"
      ],
      "metadata": {
        "id": "j0y3xyyry0hw"
      },
      "execution_count": 29,
      "outputs": []
    },
    {
      "cell_type": "code",
      "source": [
        "raw_ds = TensorDataset(input_tensor, target_tensor)\n",
        "raw_ds[0][0].shape"
      ],
      "metadata": {
        "colab": {
          "base_uri": "https://localhost:8080/"
        },
        "id": "5Z7zHSxa0Km6",
        "outputId": "6429b4dd-dae4-4445-905b-005d0da94e42"
      },
      "execution_count": 30,
      "outputs": [
        {
          "output_type": "execute_result",
          "data": {
            "text/plain": [
              "torch.Size([1, 32, 32])"
            ]
          },
          "metadata": {},
          "execution_count": 30
        }
      ]
    },
    {
      "cell_type": "code",
      "source": [
        "image_sample = raw_ds[501][0].permute(1, 2, 0)\n",
        "import matplotlib.pyplot as plt\n",
        "print(raw_ds[501][1])\n",
        "plt.imshow(image_sample, cmap='gray')"
      ],
      "metadata": {
        "colab": {
          "base_uri": "https://localhost:8080/",
          "height": 465
        },
        "id": "RF_ksCFJ0B8-",
        "outputId": "3a2f01da-30ef-47cb-e344-e1ea65cad2ff"
      },
      "execution_count": 31,
      "outputs": [
        {
          "output_type": "stream",
          "name": "stdout",
          "text": [
            "tensor(9)\n"
          ]
        },
        {
          "output_type": "execute_result",
          "data": {
            "text/plain": [
              "<matplotlib.image.AxesImage at 0x797368df4460>"
            ]
          },
          "metadata": {},
          "execution_count": 31
        },
        {
          "output_type": "display_data",
          "data": {
            "text/plain": [
              "<Figure size 640x480 with 1 Axes>"
            ],
            "image/png": "[encoded data removed]"
          },
          "metadata": {}
        }
      ]
    },
    {
      "cell_type": "code",
      "source": [
        "train_ds, val_ds = torch.utils.data.random_split(raw_ds, [train_size, val_size])"
      ],
      "metadata": {
        "id": "xzOHVCNWtlXi"
      },
      "execution_count": 32,
      "outputs": []
    },
    {
      "cell_type": "code",
      "source": [
        "train_dl = DataLoader(train_ds, batch_size, shuffle=True, num_workers=2, pin_memory=True)\n",
        "val_dl = DataLoader(val_ds, batch_size*2, num_workers=2, pin_memory=True)"
      ],
      "metadata": {
        "id": "rFaOyNHZuCf3"
      },
      "execution_count": 33,
      "outputs": []
    },
    {
      "cell_type": "code",
      "source": [
        "train_dl = DeviceDataLoader(train_dl, get_default_device())\n",
        "val_dl = DeviceDataLoader(val_dl, get_default_device())"
      ],
      "metadata": {
        "id": "Hs6e1ZWfuFWT"
      },
      "execution_count": 34,
      "outputs": []
    },
    {
      "cell_type": "code",
      "source": [
        "def conv_block(in_channels, out_channels, pool=False):\n",
        "    layers = [nn.Conv2d(in_channels, out_channels, kernel_size=3, padding=1),\n",
        "              nn.BatchNorm2d(out_channels),\n",
        "              nn.ReLU(inplace=True)]\n",
        "    if pool:\n",
        "        layers.append(nn.MaxPool2d(2))\n",
        "    return nn.Sequential(*layers)"
      ],
      "metadata": {
        "id": "EhHZrhHB5sUx"
      },
      "execution_count": 46,
      "outputs": []
    },
    {
      "cell_type": "code",
      "source": [
        "class CNNModel(BaseModel):\n",
        "    def __init__(self):\n",
        "        super().__init__()\n",
        "\n",
        "        self.prep = conv_block(1, 64)\n",
        "        self.layer1 = conv_block(64, 128, pool=True)\n",
        "        self.res1 = nn.Sequential(conv_block(128, 128), conv_block(128, 128))\n",
        "\n",
        "        self.layer2 = conv_block(128, 256, pool=True)\n",
        "        self.layer3 = conv_block(256, 512, pool=True)\n",
        "        self.res2 = nn.Sequential(conv_block(512, 512), conv_block(512, 512))\n",
        "\n",
        "        self.classifier = nn.Sequential(nn.MaxPool2d(4),\n",
        "                                        nn.Flatten(),\n",
        "                                        nn.Dropout(0.2),\n",
        "                                        nn.Linear(512, 10))\n",
        "\n",
        "    def forward(self, xb):\n",
        "        out = self.prep(xb)\n",
        "        out = self.layer1(out)\n",
        "        out = self.res1(out) + out\n",
        "        out = self.layer2(out)\n",
        "        out = self.layer3(out)\n",
        "        out = self.res2(out) + out\n",
        "        out = self.classifier(out)\n",
        "        return out"
      ],
      "metadata": {
        "id": "V_4spCqMuMqQ"
      },
      "execution_count": 47,
      "outputs": []
    },
    {
      "cell_type": "code",
      "source": [
        "CNNModel()"
      ],
      "metadata": {
        "colab": {
          "base_uri": "https://localhost:8080/"
        },
        "id": "QmJttVRcu0B9",
        "outputId": "76d95528-7cfb-4999-fe9c-cfec616414eb"
      },
      "execution_count": 48,
      "outputs": [
        {
          "output_type": "execute_result",
          "data": {
            "text/plain": [
              "CNNModel(\n",
              "  (prep): Sequential(\n",
              "    (0): Conv2d(1, 64, kernel_size=(3, 3), stride=(1, 1), padding=(1, 1))\n",
              "    (1): BatchNorm2d(64, eps=1e-05, momentum=0.1, affine=True, track_running_stats=True)\n",
              "    (2): ReLU(inplace=True)\n",
              "  )\n",
              "  (layer1): Sequential(\n",
              "    (0): Conv2d(64, 128, kernel_size=(3, 3), stride=(1, 1), padding=(1, 1))\n",
              "    (1): BatchNorm2d(128, eps=1e-05, momentum=0.1, affine=True, track_running_stats=True)\n",
              "    (2): ReLU(inplace=True)\n",
              "    (3): MaxPool2d(kernel_size=2, stride=2, padding=0, dilation=1, ceil_mode=False)\n",
              "  )\n",
              "  (res1): Sequential(\n",
              "    (0): Sequential(\n",
              "      (0): Conv2d(128, 128, kernel_size=(3, 3), stride=(1, 1), padding=(1, 1))\n",
              "      (1): BatchNorm2d(128, eps=1e-05, momentum=0.1, affine=True, track_running_stats=True)\n",
              "      (2): ReLU(inplace=True)\n",
              "    )\n",
              "    (1): Sequential(\n",
              "      (0): Conv2d(128, 128, kernel_size=(3, 3), stride=(1, 1), padding=(1, 1))\n",
              "      (1): BatchNorm2d(128, eps=1e-05, momentum=0.1, affine=True, track_running_stats=True)\n",
              "      (2): ReLU(inplace=True)\n",
              "    )\n",
              "  )\n",
              "  (layer2): Sequential(\n",
              "    (0): Conv2d(128, 256, kernel_size=(3, 3), stride=(1, 1), padding=(1, 1))\n",
              "    (1): BatchNorm2d(256, eps=1e-05, momentum=0.1, affine=True, track_running_stats=True)\n",
              "    (2): ReLU(inplace=True)\n",
              "    (3): MaxPool2d(kernel_size=2, stride=2, padding=0, dilation=1, ceil_mode=False)\n",
              "  )\n",
              "  (layer3): Sequential(\n",
              "    (0): Conv2d(256, 512, kernel_size=(3, 3), stride=(1, 1), padding=(1, 1))\n",
              "    (1): BatchNorm2d(512, eps=1e-05, momentum=0.1, affine=True, track_running_stats=True)\n",
              "    (2): ReLU(inplace=True)\n",
              "    (3): MaxPool2d(kernel_size=2, stride=2, padding=0, dilation=1, ceil_mode=False)\n",
              "  )\n",
              "  (res2): Sequential(\n",
              "    (0): Sequential(\n",
              "      (0): Conv2d(512, 512, kernel_size=(3, 3), stride=(1, 1), padding=(1, 1))\n",
              "      (1): BatchNorm2d(512, eps=1e-05, momentum=0.1, affine=True, track_running_stats=True)\n",
              "      (2): ReLU(inplace=True)\n",
              "    )\n",
              "    (1): Sequential(\n",
              "      (0): Conv2d(512, 512, kernel_size=(3, 3), stride=(1, 1), padding=(1, 1))\n",
              "      (1): BatchNorm2d(512, eps=1e-05, momentum=0.1, affine=True, track_running_stats=True)\n",
              "      (2): ReLU(inplace=True)\n",
              "    )\n",
              "  )\n",
              "  (classifier): Sequential(\n",
              "    (0): MaxPool2d(kernel_size=4, stride=4, padding=0, dilation=1, ceil_mode=False)\n",
              "    (1): Flatten(start_dim=1, end_dim=-1)\n",
              "    (2): Dropout(p=0.2, inplace=False)\n",
              "    (3): Linear(in_features=512, out_features=10, bias=True)\n",
              "  )\n",
              ")"
            ]
          },
          "metadata": {},
          "execution_count": 48
        }
      ]
    },
    {
      "cell_type": "code",
      "source": [
        "cnn_model = to_device(CNNModel(), get_default_device())"
      ],
      "metadata": {
        "id": "Y6gWEe2nu4jj"
      },
      "execution_count": 49,
      "outputs": []
    },
    {
      "cell_type": "code",
      "source": [
        "@torch.no_grad()\n",
        "def evaluate(model, val_dl):\n",
        "    model.eval()\n",
        "    outputs = [model.validation_step(batch) for batch in val_dl]\n",
        "    return model.validation_epoch_end(outputs)\n",
        "\n",
        "def fit_cnn(epochs, lr, model, train_dl, val_dl, opt_func=torch.optim.SGD):\n",
        "    history = []\n",
        "    optimizer = opt_func(model.parameters(), lr)\n",
        "    for epoch in range(epochs):\n",
        "        # Training\n",
        "        model.train()\n",
        "        for batch in train_dl:\n",
        "            loss = model.training_step(batch)\n",
        "            loss.backward()\n",
        "            optimizer.step()\n",
        "            optimizer.zero_grad()\n",
        "        # Validation\n",
        "        result = evaluate(model, val_dl)\n",
        "        model.epoch_end(epoch, result)\n",
        "        history.append(result)\n",
        "    return history"
      ],
      "metadata": {
        "id": "wj_F40HDu-tX"
      },
      "execution_count": 38,
      "outputs": []
    },
    {
      "cell_type": "code",
      "source": [
        "@torch.no_grad()\n",
        "def evaluate(model, val_dl):\n",
        "    model.eval()\n",
        "    outputs = [model.validation_step(batch) for batch in val_dl]\n",
        "    return model.validation_epoch_end(outputs)"
      ],
      "metadata": {
        "id": "SCXSNYPK6adr"
      },
      "execution_count": 50,
      "outputs": []
    },
    {
      "cell_type": "code",
      "source": [
        "def get_lr(optimizer):\n",
        "    for param_group in optimizer.param_groups:\n",
        "        return param_group['lr']"
      ],
      "metadata": {
        "id": "L_fy_wv96bX0"
      },
      "execution_count": 51,
      "outputs": []
    },
    {
      "cell_type": "code",
      "source": [
        "def fit_cnn(epochs, lr, model, train_dl, val_dl, opt_func=torch.optim.SGD,\n",
        "            weight_decay=0,grad_clip=None):\n",
        "    torch.cuda.empty_cache()\n",
        "    history = []\n",
        "    optimizer = opt_func(model.parameters(), lr, weight_decay=weight_decay)\n",
        "    sched = torch.optim.lr_scheduler.OneCycleLR(optimizer, lr, epochs=epochs,\n",
        "                                                steps_per_epoch=len(train_dl))\n",
        "    for epoch in range(epochs):\n",
        "        # Training\n",
        "        model.train()\n",
        "        train_losses = []\n",
        "        for batch in train_dl:\n",
        "            loss = model.training_step(batch)\n",
        "            train_losses.append(loss)\n",
        "            loss.backward()\n",
        "            if grad_clip:\n",
        "                nn.utils.clip_grad_value_(model.parameters(), grad_clip)\n",
        "            optimizer.step()\n",
        "            optimizer.zero_grad()\n",
        "            sched.step()\n",
        "        # Validation\n",
        "        result = evaluate(model, val_dl)\n",
        "        result['train_loss'] = torch.stack(train_losses).mean().item()\n",
        "        model.epoch_end(epoch, result)\n",
        "        history.append(result)\n",
        "    return history"
      ],
      "metadata": {
        "id": "LJn2nUED6cn7"
      },
      "execution_count": 52,
      "outputs": []
    },
    {
      "cell_type": "code",
      "source": [
        "history = [evaluate(cnn_model, val_dl)]\n",
        "history"
      ],
      "metadata": {
        "colab": {
          "base_uri": "https://localhost:8080/"
        },
        "id": "zBq4s7jEvm62",
        "outputId": "31c8392f-d3dc-4f6e-add7-df30f87e3a78"
      },
      "execution_count": 53,
      "outputs": [
        {
          "output_type": "execute_result",
          "data": {
            "text/plain": [
              "[{'val_loss': 2.3038201332092285, 'val_acc': 0.0946044921875}]"
            ]
          },
          "metadata": {},
          "execution_count": 53
        }
      ]
    },
    {
      "cell_type": "code",
      "source": [
        "history += fit_cnn(7, 0.01, cnn_model, train_dl, val_dl, opt_func=torch.optim.Adam,\n",
        "                   weight_decay=1e-4, grad_clip=0.1)"
      ],
      "metadata": {
        "colab": {
          "base_uri": "https://localhost:8080/"
        },
        "id": "1DxhrxoSvpD0",
        "outputId": "dbeb1a0a-69f8-4745-c714-f0e6cb3b50b0"
      },
      "execution_count": 54,
      "outputs": [
        {
          "output_type": "stream",
          "name": "stdout",
          "text": [
            "Epoch [0], val_loss: 0.4080, val_acc: 0.9105\n",
            "Epoch [1], val_loss: 0.1767, val_acc: 0.9581\n",
            "Epoch [2], val_loss: 0.5582, val_acc: 0.9012\n",
            "Epoch [3], val_loss: 0.0477, val_acc: 0.9865\n",
            "Epoch [4], val_loss: 0.0420, val_acc: 0.9893\n",
            "Epoch [5], val_loss: 0.0260, val_acc: 0.9934\n",
            "Epoch [6], val_loss: 0.0249, val_acc: 0.9945\n"
          ]
        }
      ]
    },
    {
      "cell_type": "code",
      "source": [
        "for t in cnn_model.parameters():\n",
        "    print(t.shape)"
      ],
      "metadata": {
        "colab": {
          "base_uri": "https://localhost:8080/"
        },
        "id": "zD4P_87vvzoN",
        "outputId": "ba04fc67-3195-4b09-a6f5-bb664701b606"
      },
      "execution_count": 55,
      "outputs": [
        {
          "output_type": "stream",
          "name": "stdout",
          "text": [
            "torch.Size([64, 1, 3, 3])\n",
            "torch.Size([64])\n",
            "torch.Size([64])\n",
            "torch.Size([64])\n",
            "torch.Size([128, 64, 3, 3])\n",
            "torch.Size([128])\n",
            "torch.Size([128])\n",
            "torch.Size([128])\n",
            "torch.Size([128, 128, 3, 3])\n",
            "torch.Size([128])\n",
            "torch.Size([128])\n",
            "torch.Size([128])\n",
            "torch.Size([128, 128, 3, 3])\n",
            "torch.Size([128])\n",
            "torch.Size([128])\n",
            "torch.Size([128])\n",
            "torch.Size([256, 128, 3, 3])\n",
            "torch.Size([256])\n",
            "torch.Size([256])\n",
            "torch.Size([256])\n",
            "torch.Size([512, 256, 3, 3])\n",
            "torch.Size([512])\n",
            "torch.Size([512])\n",
            "torch.Size([512])\n",
            "torch.Size([512, 512, 3, 3])\n",
            "torch.Size([512])\n",
            "torch.Size([512])\n",
            "torch.Size([512])\n",
            "torch.Size([512, 512, 3, 3])\n",
            "torch.Size([512])\n",
            "torch.Size([512])\n",
            "torch.Size([512])\n",
            "torch.Size([10, 512])\n",
            "torch.Size([10])\n"
          ]
        }
      ]
    },
    {
      "cell_type": "code",
      "source": [
        "test_input_tensors = torch.tensor(test_df[input_cols].values, dtype=torch.float32)\n",
        "test_input_tensors = test_input_tensors.reshape(-1, 1, 28, 28)\n",
        "test_input_tensors = T.Resize((32, 32))(test_input_tensors)\n",
        "test_input_tensors = test_input_tensors.reshape(-1, 1, 32, 32)\n",
        "test_ds = TensorDataset(test_input_tensors)"
      ],
      "metadata": {
        "id": "z9sijwKs1-i6"
      },
      "execution_count": 56,
      "outputs": []
    },
    {
      "cell_type": "code",
      "source": [
        "image_sample = test_ds[0][0].permute(1, 2, 0)\n",
        "print(predict_image(test_ds[0][0], cnn_model))\n",
        "plt.imshow(image_sample, cmap='gray')"
      ],
      "metadata": {
        "colab": {
          "base_uri": "https://localhost:8080/",
          "height": 465
        },
        "id": "EJsnQrpqwYIr",
        "outputId": "c884b35a-be61-47d0-e115-49f1022c3274"
      },
      "execution_count": 58,
      "outputs": [
        {
          "output_type": "stream",
          "name": "stdout",
          "text": [
            "2\n"
          ]
        },
        {
          "output_type": "execute_result",
          "data": {
            "text/plain": [
              "<matplotlib.image.AxesImage at 0x797368c53820>"
            ]
          },
          "metadata": {},
          "execution_count": 58
        },
        {
          "output_type": "display_data",
          "data": {
            "text/plain": [
              "<Figure size 640x480 with 1 Axes>"
            ],
            "image/png": "[encoded data removed]"
          },
          "metadata": {}
        }
      ]
    },
    {
      "cell_type": "code",
      "source": [
        "for i in range(len(test_ds)):\n",
        "    sub_df.loc[i, 'Label'] = predict_image(test_ds[i][0], cnn_model)\n",
        "sub_df.to_csv('submission.csv', index=False)"
      ],
      "metadata": {
        "id": "cCdp_Ywm1x4K"
      },
      "execution_count": 59,
      "outputs": []
    },
    {
      "cell_type": "code",
      "source": [
        "image_sample = test_ds[2][0].permute(1, 2, 0)\n",
        "print(predict_image(test_ds[2][0], cnn_model))\n",
        "plt.imshow(image_sample, cmap='gray')"
      ],
      "metadata": {
        "colab": {
          "base_uri": "https://localhost:8080/",
          "height": 465
        },
        "id": "K4CeiOG57xMV",
        "outputId": "3065e369-8aec-4187-e410-5a90fc35f8b2"
      },
      "execution_count": 62,
      "outputs": [
        {
          "output_type": "stream",
          "name": "stdout",
          "text": [
            "9\n"
          ]
        },
        {
          "output_type": "execute_result",
          "data": {
            "text/plain": [
              "<matplotlib.image.AxesImage at 0x79735342ee90>"
            ]
          },
          "metadata": {},
          "execution_count": 62
        },
        {
          "output_type": "display_data",
          "data": {
            "text/plain": [
              "<Figure size 640x480 with 1 Axes>"
            ],
            "image/png": "[encoded data removed]"
          },
          "metadata": {}
        }
      ]
    },
    {
      "cell_type": "code",
      "source": [],
      "metadata": {
        "id": "njUaT-fY8L6c"
      },
      "execution_count": null,
      "outputs": []
    }
  ],
  "metadata": {
    "kernelspec": {
      "display_name": "Python 3",
      "name": "python3"
    },
    "language_info": {
      "codemirror_mode": {
        "name": "ipython",
        "version": 3
      },
      "file_extension": ".py",
      "mimetype": "text/x-python",
      "name": "python",
      "nbconvert_exporter": "python",
      "pygments_lexer": "ipython3",
      "version": "3.11.9"
    },
    "colab": {
      "provenance": [],
      "gpuType": "T4",
      "include_colab_link": true
    },
    "accelerator": "GPU"
  },
  "nbformat": 4,
  "nbformat_minor": 0
}