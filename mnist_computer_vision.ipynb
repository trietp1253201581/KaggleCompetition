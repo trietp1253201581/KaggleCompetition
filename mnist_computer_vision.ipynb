{
  "cells": [
    {
      "cell_type": "markdown",
      "metadata": {
        "id": "view-in-github",
        "colab_type": "text"
      },
      "source": [
        "<a href=\"https://colab.research.google.com/github/trietp1253201581/KaggleCompetition/blob/main/mnist_computer_vision.ipynb\" target=\"_parent\"><img src=\"https://colab.research.google.com/assets/colab-badge.svg\" alt=\"Open In Colab\"/></a>"
      ]
    },
    {
      "cell_type": "markdown",
      "metadata": {
        "id": "9rY8G3HRNPTV"
      },
      "source": [
        "# Digit Recognizer"
      ]
    },
    {
      "cell_type": "markdown",
      "metadata": {
        "id": "4XpJK-NXNPTW"
      },
      "source": [
        "## Download and explore the data"
      ]
    },
    {
      "cell_type": "code",
      "execution_count": 1,
      "metadata": {
        "id": "3fZYTzA8NPTX"
      },
      "outputs": [],
      "source": [
        "import os\n",
        "os.environ['KAGGLE_CONFIG_DIR'] = '.'"
      ]
    },
    {
      "cell_type": "code",
      "execution_count": 2,
      "metadata": {
        "colab": {
          "base_uri": "https://localhost:8080/"
        },
        "id": "i68uBw-DNPTX",
        "outputId": "9fc6780c-77c9-4de4-9118-a9ef71a95202"
      },
      "outputs": [
        {
          "output_type": "stream",
          "name": "stdout",
          "text": [
            "Warning: Your Kaggle API key is readable by other users on this system! To fix this, you can run 'chmod 600 ./kaggle.json'\n",
            "digit-recognizer.zip: Skipping, found more recently modified local copy (use --force to force download)\n"
          ]
        }
      ],
      "source": [
        "!kaggle competitions download -c digit-recognizer"
      ]
    },
    {
      "cell_type": "code",
      "execution_count": 3,
      "metadata": {
        "id": "NC_LfRYoNPTY"
      },
      "outputs": [],
      "source": [
        "from zipfile import ZipFile\n",
        "with ZipFile('digit-recognizer.zip') as f:\n",
        "    f.extractall('digit-recognize-data')"
      ]
    },
    {
      "cell_type": "code",
      "execution_count": 4,
      "metadata": {
        "id": "dzlWYYCMNPTY"
      },
      "outputs": [],
      "source": [
        "import torch\n",
        "import pandas as pd"
      ]
    },
    {
      "cell_type": "code",
      "execution_count": 5,
      "metadata": {
        "id": "kDe-xRtBNPTY"
      },
      "outputs": [],
      "source": [
        "data_dir = 'digit-recognize-data/'\n",
        "raw_df = pd.read_csv(data_dir+'train.csv')\n",
        "test_df = pd.read_csv(data_dir+'test.csv')\n",
        "sub_df = pd.read_csv(data_dir+'sample_submission.csv')"
      ]
    },
    {
      "cell_type": "code",
      "execution_count": 6,
      "metadata": {
        "colab": {
          "base_uri": "https://localhost:8080/"
        },
        "id": "aCU0z1ZINPTY",
        "outputId": "1df45bb2-cac4-476b-8974-6e996de4e72a"
      },
      "outputs": [
        {
          "output_type": "execute_result",
          "data": {
            "text/plain": [
              "['pixel0',\n",
              " 'pixel1',\n",
              " 'pixel2',\n",
              " 'pixel3',\n",
              " 'pixel4',\n",
              " 'pixel5',\n",
              " 'pixel6',\n",
              " 'pixel7',\n",
              " 'pixel8',\n",
              " 'pixel9',\n",
              " 'pixel10',\n",
              " 'pixel11',\n",
              " 'pixel12',\n",
              " 'pixel13',\n",
              " 'pixel14',\n",
              " 'pixel15',\n",
              " 'pixel16',\n",
              " 'pixel17',\n",
              " 'pixel18',\n",
              " 'pixel19',\n",
              " 'pixel20',\n",
              " 'pixel21',\n",
              " 'pixel22',\n",
              " 'pixel23',\n",
              " 'pixel24',\n",
              " 'pixel25',\n",
              " 'pixel26',\n",
              " 'pixel27',\n",
              " 'pixel28',\n",
              " 'pixel29',\n",
              " 'pixel30',\n",
              " 'pixel31',\n",
              " 'pixel32',\n",
              " 'pixel33',\n",
              " 'pixel34',\n",
              " 'pixel35',\n",
              " 'pixel36',\n",
              " 'pixel37',\n",
              " 'pixel38',\n",
              " 'pixel39',\n",
              " 'pixel40',\n",
              " 'pixel41',\n",
              " 'pixel42',\n",
              " 'pixel43',\n",
              " 'pixel44',\n",
              " 'pixel45',\n",
              " 'pixel46',\n",
              " 'pixel47',\n",
              " 'pixel48',\n",
              " 'pixel49',\n",
              " 'pixel50',\n",
              " 'pixel51',\n",
              " 'pixel52',\n",
              " 'pixel53',\n",
              " 'pixel54',\n",
              " 'pixel55',\n",
              " 'pixel56',\n",
              " 'pixel57',\n",
              " 'pixel58',\n",
              " 'pixel59',\n",
              " 'pixel60',\n",
              " 'pixel61',\n",
              " 'pixel62',\n",
              " 'pixel63',\n",
              " 'pixel64',\n",
              " 'pixel65',\n",
              " 'pixel66',\n",
              " 'pixel67',\n",
              " 'pixel68',\n",
              " 'pixel69',\n",
              " 'pixel70',\n",
              " 'pixel71',\n",
              " 'pixel72',\n",
              " 'pixel73',\n",
              " 'pixel74',\n",
              " 'pixel75',\n",
              " 'pixel76',\n",
              " 'pixel77',\n",
              " 'pixel78',\n",
              " 'pixel79',\n",
              " 'pixel80',\n",
              " 'pixel81',\n",
              " 'pixel82',\n",
              " 'pixel83',\n",
              " 'pixel84',\n",
              " 'pixel85',\n",
              " 'pixel86',\n",
              " 'pixel87',\n",
              " 'pixel88',\n",
              " 'pixel89',\n",
              " 'pixel90',\n",
              " 'pixel91',\n",
              " 'pixel92',\n",
              " 'pixel93',\n",
              " 'pixel94',\n",
              " 'pixel95',\n",
              " 'pixel96',\n",
              " 'pixel97',\n",
              " 'pixel98',\n",
              " 'pixel99',\n",
              " 'pixel100',\n",
              " 'pixel101',\n",
              " 'pixel102',\n",
              " 'pixel103',\n",
              " 'pixel104',\n",
              " 'pixel105',\n",
              " 'pixel106',\n",
              " 'pixel107',\n",
              " 'pixel108',\n",
              " 'pixel109',\n",
              " 'pixel110',\n",
              " 'pixel111',\n",
              " 'pixel112',\n",
              " 'pixel113',\n",
              " 'pixel114',\n",
              " 'pixel115',\n",
              " 'pixel116',\n",
              " 'pixel117',\n",
              " 'pixel118',\n",
              " 'pixel119',\n",
              " 'pixel120',\n",
              " 'pixel121',\n",
              " 'pixel122',\n",
              " 'pixel123',\n",
              " 'pixel124',\n",
              " 'pixel125',\n",
              " 'pixel126',\n",
              " 'pixel127',\n",
              " 'pixel128',\n",
              " 'pixel129',\n",
              " 'pixel130',\n",
              " 'pixel131',\n",
              " 'pixel132',\n",
              " 'pixel133',\n",
              " 'pixel134',\n",
              " 'pixel135',\n",
              " 'pixel136',\n",
              " 'pixel137',\n",
              " 'pixel138',\n",
              " 'pixel139',\n",
              " 'pixel140',\n",
              " 'pixel141',\n",
              " 'pixel142',\n",
              " 'pixel143',\n",
              " 'pixel144',\n",
              " 'pixel145',\n",
              " 'pixel146',\n",
              " 'pixel147',\n",
              " 'pixel148',\n",
              " 'pixel149',\n",
              " 'pixel150',\n",
              " 'pixel151',\n",
              " 'pixel152',\n",
              " 'pixel153',\n",
              " 'pixel154',\n",
              " 'pixel155',\n",
              " 'pixel156',\n",
              " 'pixel157',\n",
              " 'pixel158',\n",
              " 'pixel159',\n",
              " 'pixel160',\n",
              " 'pixel161',\n",
              " 'pixel162',\n",
              " 'pixel163',\n",
              " 'pixel164',\n",
              " 'pixel165',\n",
              " 'pixel166',\n",
              " 'pixel167',\n",
              " 'pixel168',\n",
              " 'pixel169',\n",
              " 'pixel170',\n",
              " 'pixel171',\n",
              " 'pixel172',\n",
              " 'pixel173',\n",
              " 'pixel174',\n",
              " 'pixel175',\n",
              " 'pixel176',\n",
              " 'pixel177',\n",
              " 'pixel178',\n",
              " 'pixel179',\n",
              " 'pixel180',\n",
              " 'pixel181',\n",
              " 'pixel182',\n",
              " 'pixel183',\n",
              " 'pixel184',\n",
              " 'pixel185',\n",
              " 'pixel186',\n",
              " 'pixel187',\n",
              " 'pixel188',\n",
              " 'pixel189',\n",
              " 'pixel190',\n",
              " 'pixel191',\n",
              " 'pixel192',\n",
              " 'pixel193',\n",
              " 'pixel194',\n",
              " 'pixel195',\n",
              " 'pixel196',\n",
              " 'pixel197',\n",
              " 'pixel198',\n",
              " 'pixel199',\n",
              " 'pixel200',\n",
              " 'pixel201',\n",
              " 'pixel202',\n",
              " 'pixel203',\n",
              " 'pixel204',\n",
              " 'pixel205',\n",
              " 'pixel206',\n",
              " 'pixel207',\n",
              " 'pixel208',\n",
              " 'pixel209',\n",
              " 'pixel210',\n",
              " 'pixel211',\n",
              " 'pixel212',\n",
              " 'pixel213',\n",
              " 'pixel214',\n",
              " 'pixel215',\n",
              " 'pixel216',\n",
              " 'pixel217',\n",
              " 'pixel218',\n",
              " 'pixel219',\n",
              " 'pixel220',\n",
              " 'pixel221',\n",
              " 'pixel222',\n",
              " 'pixel223',\n",
              " 'pixel224',\n",
              " 'pixel225',\n",
              " 'pixel226',\n",
              " 'pixel227',\n",
              " 'pixel228',\n",
              " 'pixel229',\n",
              " 'pixel230',\n",
              " 'pixel231',\n",
              " 'pixel232',\n",
              " 'pixel233',\n",
              " 'pixel234',\n",
              " 'pixel235',\n",
              " 'pixel236',\n",
              " 'pixel237',\n",
              " 'pixel238',\n",
              " 'pixel239',\n",
              " 'pixel240',\n",
              " 'pixel241',\n",
              " 'pixel242',\n",
              " 'pixel243',\n",
              " 'pixel244',\n",
              " 'pixel245',\n",
              " 'pixel246',\n",
              " 'pixel247',\n",
              " 'pixel248',\n",
              " 'pixel249',\n",
              " 'pixel250',\n",
              " 'pixel251',\n",
              " 'pixel252',\n",
              " 'pixel253',\n",
              " 'pixel254',\n",
              " 'pixel255',\n",
              " 'pixel256',\n",
              " 'pixel257',\n",
              " 'pixel258',\n",
              " 'pixel259',\n",
              " 'pixel260',\n",
              " 'pixel261',\n",
              " 'pixel262',\n",
              " 'pixel263',\n",
              " 'pixel264',\n",
              " 'pixel265',\n",
              " 'pixel266',\n",
              " 'pixel267',\n",
              " 'pixel268',\n",
              " 'pixel269',\n",
              " 'pixel270',\n",
              " 'pixel271',\n",
              " 'pixel272',\n",
              " 'pixel273',\n",
              " 'pixel274',\n",
              " 'pixel275',\n",
              " 'pixel276',\n",
              " 'pixel277',\n",
              " 'pixel278',\n",
              " 'pixel279',\n",
              " 'pixel280',\n",
              " 'pixel281',\n",
              " 'pixel282',\n",
              " 'pixel283',\n",
              " 'pixel284',\n",
              " 'pixel285',\n",
              " 'pixel286',\n",
              " 'pixel287',\n",
              " 'pixel288',\n",
              " 'pixel289',\n",
              " 'pixel290',\n",
              " 'pixel291',\n",
              " 'pixel292',\n",
              " 'pixel293',\n",
              " 'pixel294',\n",
              " 'pixel295',\n",
              " 'pixel296',\n",
              " 'pixel297',\n",
              " 'pixel298',\n",
              " 'pixel299',\n",
              " 'pixel300',\n",
              " 'pixel301',\n",
              " 'pixel302',\n",
              " 'pixel303',\n",
              " 'pixel304',\n",
              " 'pixel305',\n",
              " 'pixel306',\n",
              " 'pixel307',\n",
              " 'pixel308',\n",
              " 'pixel309',\n",
              " 'pixel310',\n",
              " 'pixel311',\n",
              " 'pixel312',\n",
              " 'pixel313',\n",
              " 'pixel314',\n",
              " 'pixel315',\n",
              " 'pixel316',\n",
              " 'pixel317',\n",
              " 'pixel318',\n",
              " 'pixel319',\n",
              " 'pixel320',\n",
              " 'pixel321',\n",
              " 'pixel322',\n",
              " 'pixel323',\n",
              " 'pixel324',\n",
              " 'pixel325',\n",
              " 'pixel326',\n",
              " 'pixel327',\n",
              " 'pixel328',\n",
              " 'pixel329',\n",
              " 'pixel330',\n",
              " 'pixel331',\n",
              " 'pixel332',\n",
              " 'pixel333',\n",
              " 'pixel334',\n",
              " 'pixel335',\n",
              " 'pixel336',\n",
              " 'pixel337',\n",
              " 'pixel338',\n",
              " 'pixel339',\n",
              " 'pixel340',\n",
              " 'pixel341',\n",
              " 'pixel342',\n",
              " 'pixel343',\n",
              " 'pixel344',\n",
              " 'pixel345',\n",
              " 'pixel346',\n",
              " 'pixel347',\n",
              " 'pixel348',\n",
              " 'pixel349',\n",
              " 'pixel350',\n",
              " 'pixel351',\n",
              " 'pixel352',\n",
              " 'pixel353',\n",
              " 'pixel354',\n",
              " 'pixel355',\n",
              " 'pixel356',\n",
              " 'pixel357',\n",
              " 'pixel358',\n",
              " 'pixel359',\n",
              " 'pixel360',\n",
              " 'pixel361',\n",
              " 'pixel362',\n",
              " 'pixel363',\n",
              " 'pixel364',\n",
              " 'pixel365',\n",
              " 'pixel366',\n",
              " 'pixel367',\n",
              " 'pixel368',\n",
              " 'pixel369',\n",
              " 'pixel370',\n",
              " 'pixel371',\n",
              " 'pixel372',\n",
              " 'pixel373',\n",
              " 'pixel374',\n",
              " 'pixel375',\n",
              " 'pixel376',\n",
              " 'pixel377',\n",
              " 'pixel378',\n",
              " 'pixel379',\n",
              " 'pixel380',\n",
              " 'pixel381',\n",
              " 'pixel382',\n",
              " 'pixel383',\n",
              " 'pixel384',\n",
              " 'pixel385',\n",
              " 'pixel386',\n",
              " 'pixel387',\n",
              " 'pixel388',\n",
              " 'pixel389',\n",
              " 'pixel390',\n",
              " 'pixel391',\n",
              " 'pixel392',\n",
              " 'pixel393',\n",
              " 'pixel394',\n",
              " 'pixel395',\n",
              " 'pixel396',\n",
              " 'pixel397',\n",
              " 'pixel398',\n",
              " 'pixel399',\n",
              " 'pixel400',\n",
              " 'pixel401',\n",
              " 'pixel402',\n",
              " 'pixel403',\n",
              " 'pixel404',\n",
              " 'pixel405',\n",
              " 'pixel406',\n",
              " 'pixel407',\n",
              " 'pixel408',\n",
              " 'pixel409',\n",
              " 'pixel410',\n",
              " 'pixel411',\n",
              " 'pixel412',\n",
              " 'pixel413',\n",
              " 'pixel414',\n",
              " 'pixel415',\n",
              " 'pixel416',\n",
              " 'pixel417',\n",
              " 'pixel418',\n",
              " 'pixel419',\n",
              " 'pixel420',\n",
              " 'pixel421',\n",
              " 'pixel422',\n",
              " 'pixel423',\n",
              " 'pixel424',\n",
              " 'pixel425',\n",
              " 'pixel426',\n",
              " 'pixel427',\n",
              " 'pixel428',\n",
              " 'pixel429',\n",
              " 'pixel430',\n",
              " 'pixel431',\n",
              " 'pixel432',\n",
              " 'pixel433',\n",
              " 'pixel434',\n",
              " 'pixel435',\n",
              " 'pixel436',\n",
              " 'pixel437',\n",
              " 'pixel438',\n",
              " 'pixel439',\n",
              " 'pixel440',\n",
              " 'pixel441',\n",
              " 'pixel442',\n",
              " 'pixel443',\n",
              " 'pixel444',\n",
              " 'pixel445',\n",
              " 'pixel446',\n",
              " 'pixel447',\n",
              " 'pixel448',\n",
              " 'pixel449',\n",
              " 'pixel450',\n",
              " 'pixel451',\n",
              " 'pixel452',\n",
              " 'pixel453',\n",
              " 'pixel454',\n",
              " 'pixel455',\n",
              " 'pixel456',\n",
              " 'pixel457',\n",
              " 'pixel458',\n",
              " 'pixel459',\n",
              " 'pixel460',\n",
              " 'pixel461',\n",
              " 'pixel462',\n",
              " 'pixel463',\n",
              " 'pixel464',\n",
              " 'pixel465',\n",
              " 'pixel466',\n",
              " 'pixel467',\n",
              " 'pixel468',\n",
              " 'pixel469',\n",
              " 'pixel470',\n",
              " 'pixel471',\n",
              " 'pixel472',\n",
              " 'pixel473',\n",
              " 'pixel474',\n",
              " 'pixel475',\n",
              " 'pixel476',\n",
              " 'pixel477',\n",
              " 'pixel478',\n",
              " 'pixel479',\n",
              " 'pixel480',\n",
              " 'pixel481',\n",
              " 'pixel482',\n",
              " 'pixel483',\n",
              " 'pixel484',\n",
              " 'pixel485',\n",
              " 'pixel486',\n",
              " 'pixel487',\n",
              " 'pixel488',\n",
              " 'pixel489',\n",
              " 'pixel490',\n",
              " 'pixel491',\n",
              " 'pixel492',\n",
              " 'pixel493',\n",
              " 'pixel494',\n",
              " 'pixel495',\n",
              " 'pixel496',\n",
              " 'pixel497',\n",
              " 'pixel498',\n",
              " 'pixel499',\n",
              " 'pixel500',\n",
              " 'pixel501',\n",
              " 'pixel502',\n",
              " 'pixel503',\n",
              " 'pixel504',\n",
              " 'pixel505',\n",
              " 'pixel506',\n",
              " 'pixel507',\n",
              " 'pixel508',\n",
              " 'pixel509',\n",
              " 'pixel510',\n",
              " 'pixel511',\n",
              " 'pixel512',\n",
              " 'pixel513',\n",
              " 'pixel514',\n",
              " 'pixel515',\n",
              " 'pixel516',\n",
              " 'pixel517',\n",
              " 'pixel518',\n",
              " 'pixel519',\n",
              " 'pixel520',\n",
              " 'pixel521',\n",
              " 'pixel522',\n",
              " 'pixel523',\n",
              " 'pixel524',\n",
              " 'pixel525',\n",
              " 'pixel526',\n",
              " 'pixel527',\n",
              " 'pixel528',\n",
              " 'pixel529',\n",
              " 'pixel530',\n",
              " 'pixel531',\n",
              " 'pixel532',\n",
              " 'pixel533',\n",
              " 'pixel534',\n",
              " 'pixel535',\n",
              " 'pixel536',\n",
              " 'pixel537',\n",
              " 'pixel538',\n",
              " 'pixel539',\n",
              " 'pixel540',\n",
              " 'pixel541',\n",
              " 'pixel542',\n",
              " 'pixel543',\n",
              " 'pixel544',\n",
              " 'pixel545',\n",
              " 'pixel546',\n",
              " 'pixel547',\n",
              " 'pixel548',\n",
              " 'pixel549',\n",
              " 'pixel550',\n",
              " 'pixel551',\n",
              " 'pixel552',\n",
              " 'pixel553',\n",
              " 'pixel554',\n",
              " 'pixel555',\n",
              " 'pixel556',\n",
              " 'pixel557',\n",
              " 'pixel558',\n",
              " 'pixel559',\n",
              " 'pixel560',\n",
              " 'pixel561',\n",
              " 'pixel562',\n",
              " 'pixel563',\n",
              " 'pixel564',\n",
              " 'pixel565',\n",
              " 'pixel566',\n",
              " 'pixel567',\n",
              " 'pixel568',\n",
              " 'pixel569',\n",
              " 'pixel570',\n",
              " 'pixel571',\n",
              " 'pixel572',\n",
              " 'pixel573',\n",
              " 'pixel574',\n",
              " 'pixel575',\n",
              " 'pixel576',\n",
              " 'pixel577',\n",
              " 'pixel578',\n",
              " 'pixel579',\n",
              " 'pixel580',\n",
              " 'pixel581',\n",
              " 'pixel582',\n",
              " 'pixel583',\n",
              " 'pixel584',\n",
              " 'pixel585',\n",
              " 'pixel586',\n",
              " 'pixel587',\n",
              " 'pixel588',\n",
              " 'pixel589',\n",
              " 'pixel590',\n",
              " 'pixel591',\n",
              " 'pixel592',\n",
              " 'pixel593',\n",
              " 'pixel594',\n",
              " 'pixel595',\n",
              " 'pixel596',\n",
              " 'pixel597',\n",
              " 'pixel598',\n",
              " 'pixel599',\n",
              " 'pixel600',\n",
              " 'pixel601',\n",
              " 'pixel602',\n",
              " 'pixel603',\n",
              " 'pixel604',\n",
              " 'pixel605',\n",
              " 'pixel606',\n",
              " 'pixel607',\n",
              " 'pixel608',\n",
              " 'pixel609',\n",
              " 'pixel610',\n",
              " 'pixel611',\n",
              " 'pixel612',\n",
              " 'pixel613',\n",
              " 'pixel614',\n",
              " 'pixel615',\n",
              " 'pixel616',\n",
              " 'pixel617',\n",
              " 'pixel618',\n",
              " 'pixel619',\n",
              " 'pixel620',\n",
              " 'pixel621',\n",
              " 'pixel622',\n",
              " 'pixel623',\n",
              " 'pixel624',\n",
              " 'pixel625',\n",
              " 'pixel626',\n",
              " 'pixel627',\n",
              " 'pixel628',\n",
              " 'pixel629',\n",
              " 'pixel630',\n",
              " 'pixel631',\n",
              " 'pixel632',\n",
              " 'pixel633',\n",
              " 'pixel634',\n",
              " 'pixel635',\n",
              " 'pixel636',\n",
              " 'pixel637',\n",
              " 'pixel638',\n",
              " 'pixel639',\n",
              " 'pixel640',\n",
              " 'pixel641',\n",
              " 'pixel642',\n",
              " 'pixel643',\n",
              " 'pixel644',\n",
              " 'pixel645',\n",
              " 'pixel646',\n",
              " 'pixel647',\n",
              " 'pixel648',\n",
              " 'pixel649',\n",
              " 'pixel650',\n",
              " 'pixel651',\n",
              " 'pixel652',\n",
              " 'pixel653',\n",
              " 'pixel654',\n",
              " 'pixel655',\n",
              " 'pixel656',\n",
              " 'pixel657',\n",
              " 'pixel658',\n",
              " 'pixel659',\n",
              " 'pixel660',\n",
              " 'pixel661',\n",
              " 'pixel662',\n",
              " 'pixel663',\n",
              " 'pixel664',\n",
              " 'pixel665',\n",
              " 'pixel666',\n",
              " 'pixel667',\n",
              " 'pixel668',\n",
              " 'pixel669',\n",
              " 'pixel670',\n",
              " 'pixel671',\n",
              " 'pixel672',\n",
              " 'pixel673',\n",
              " 'pixel674',\n",
              " 'pixel675',\n",
              " 'pixel676',\n",
              " 'pixel677',\n",
              " 'pixel678',\n",
              " 'pixel679',\n",
              " 'pixel680',\n",
              " 'pixel681',\n",
              " 'pixel682',\n",
              " 'pixel683',\n",
              " 'pixel684',\n",
              " 'pixel685',\n",
              " 'pixel686',\n",
              " 'pixel687',\n",
              " 'pixel688',\n",
              " 'pixel689',\n",
              " 'pixel690',\n",
              " 'pixel691',\n",
              " 'pixel692',\n",
              " 'pixel693',\n",
              " 'pixel694',\n",
              " 'pixel695',\n",
              " 'pixel696',\n",
              " 'pixel697',\n",
              " 'pixel698',\n",
              " 'pixel699',\n",
              " 'pixel700',\n",
              " 'pixel701',\n",
              " 'pixel702',\n",
              " 'pixel703',\n",
              " 'pixel704',\n",
              " 'pixel705',\n",
              " 'pixel706',\n",
              " 'pixel707',\n",
              " 'pixel708',\n",
              " 'pixel709',\n",
              " 'pixel710',\n",
              " 'pixel711',\n",
              " 'pixel712',\n",
              " 'pixel713',\n",
              " 'pixel714',\n",
              " 'pixel715',\n",
              " 'pixel716',\n",
              " 'pixel717',\n",
              " 'pixel718',\n",
              " 'pixel719',\n",
              " 'pixel720',\n",
              " 'pixel721',\n",
              " 'pixel722',\n",
              " 'pixel723',\n",
              " 'pixel724',\n",
              " 'pixel725',\n",
              " 'pixel726',\n",
              " 'pixel727',\n",
              " 'pixel728',\n",
              " 'pixel729',\n",
              " 'pixel730',\n",
              " 'pixel731',\n",
              " 'pixel732',\n",
              " 'pixel733',\n",
              " 'pixel734',\n",
              " 'pixel735',\n",
              " 'pixel736',\n",
              " 'pixel737',\n",
              " 'pixel738',\n",
              " 'pixel739',\n",
              " 'pixel740',\n",
              " 'pixel741',\n",
              " 'pixel742',\n",
              " 'pixel743',\n",
              " 'pixel744',\n",
              " 'pixel745',\n",
              " 'pixel746',\n",
              " 'pixel747',\n",
              " 'pixel748',\n",
              " 'pixel749',\n",
              " 'pixel750',\n",
              " 'pixel751',\n",
              " 'pixel752',\n",
              " 'pixel753',\n",
              " 'pixel754',\n",
              " 'pixel755',\n",
              " 'pixel756',\n",
              " 'pixel757',\n",
              " 'pixel758',\n",
              " 'pixel759',\n",
              " 'pixel760',\n",
              " 'pixel761',\n",
              " 'pixel762',\n",
              " 'pixel763',\n",
              " 'pixel764',\n",
              " 'pixel765',\n",
              " 'pixel766',\n",
              " 'pixel767',\n",
              " 'pixel768',\n",
              " 'pixel769',\n",
              " 'pixel770',\n",
              " 'pixel771',\n",
              " 'pixel772',\n",
              " 'pixel773',\n",
              " 'pixel774',\n",
              " 'pixel775',\n",
              " 'pixel776',\n",
              " 'pixel777',\n",
              " 'pixel778',\n",
              " 'pixel779',\n",
              " 'pixel780',\n",
              " 'pixel781',\n",
              " 'pixel782',\n",
              " 'pixel783']"
            ]
          },
          "metadata": {},
          "execution_count": 6
        }
      ],
      "source": [
        "input_cols = raw_df.columns.tolist()\n",
        "input_cols.remove('label')\n",
        "input_cols"
      ]
    },
    {
      "cell_type": "code",
      "execution_count": 7,
      "metadata": {
        "id": "V8xzWCPqNPTZ"
      },
      "outputs": [],
      "source": [
        "target_col = 'label'"
      ]
    },
    {
      "cell_type": "code",
      "source": [
        "for col in input_cols:\n",
        "    raw_df[col] = raw_df[col]/255"
      ],
      "metadata": {
        "id": "wDQQEyYPWflp"
      },
      "execution_count": 8,
      "outputs": []
    },
    {
      "cell_type": "code",
      "execution_count": 9,
      "metadata": {
        "id": "IvSdA7gcNPTa"
      },
      "outputs": [],
      "source": [
        "input_tensor = torch.tensor(raw_df[input_cols].values, dtype=torch.float32)\n",
        "target_tensor = torch.tensor(raw_df[target_col].values)"
      ]
    },
    {
      "cell_type": "code",
      "source": [
        "from torch.utils.data import TensorDataset, DataLoader"
      ],
      "metadata": {
        "id": "csTEo-asNqko"
      },
      "execution_count": 10,
      "outputs": []
    },
    {
      "cell_type": "code",
      "source": [
        "raw_ds = TensorDataset(input_tensor, target_tensor)\n",
        "raw_ds[0]"
      ],
      "metadata": {
        "colab": {
          "base_uri": "https://localhost:8080/"
        },
        "id": "0lm3cCMRNuus",
        "outputId": "e77ed22f-1da0-47a1-9c67-61ca8129bc5e"
      },
      "execution_count": 11,
      "outputs": [
        {
          "output_type": "execute_result",
          "data": {
            "text/plain": [
              "(tensor([0.0000, 0.0000, 0.0000, 0.0000, 0.0000, 0.0000, 0.0000, 0.0000, 0.0000,\n",
              "         0.0000, 0.0000, 0.0000, 0.0000, 0.0000, 0.0000, 0.0000, 0.0000, 0.0000,\n",
              "         0.0000, 0.0000, 0.0000, 0.0000, 0.0000, 0.0000, 0.0000, 0.0000, 0.0000,\n",
              "         0.0000, 0.0000, 0.0000, 0.0000, 0.0000, 0.0000, 0.0000, 0.0000, 0.0000,\n",
              "         0.0000, 0.0000, 0.0000, 0.0000, 0.0000, 0.0000, 0.0000, 0.0000, 0.0000,\n",
              "         0.0000, 0.0000, 0.0000, 0.0000, 0.0000, 0.0000, 0.0000, 0.0000, 0.0000,\n",
              "         0.0000, 0.0000, 0.0000, 0.0000, 0.0000, 0.0000, 0.0000, 0.0000, 0.0000,\n",
              "         0.0000, 0.0000, 0.0000, 0.0000, 0.0000, 0.0000, 0.0000, 0.0000, 0.0000,\n",
              "         0.0000, 0.0000, 0.0000, 0.0000, 0.0000, 0.0000, 0.0000, 0.0000, 0.0000,\n",
              "         0.0000, 0.0000, 0.0000, 0.0000, 0.0000, 0.0000, 0.0000, 0.0000, 0.0000,\n",
              "         0.0000, 0.0000, 0.0000, 0.0000, 0.0000, 0.0000, 0.0000, 0.0000, 0.0000,\n",
              "         0.0000, 0.0000, 0.0000, 0.0000, 0.0000, 0.0000, 0.0000, 0.0000, 0.0000,\n",
              "         0.0000, 0.0000, 0.0000, 0.0000, 0.0000, 0.0000, 0.0000, 0.0000, 0.0000,\n",
              "         0.0000, 0.0000, 0.0000, 0.0000, 0.0000, 0.0000, 0.0000, 0.0000, 0.0000,\n",
              "         0.0000, 0.0000, 0.0000, 0.0000, 0.0000, 0.0000, 0.7373, 1.0000, 0.3686,\n",
              "         0.0000, 0.0000, 0.0000, 0.0000, 0.0000, 0.0000, 0.0000, 0.0000, 0.0000,\n",
              "         0.0000, 0.0000, 0.0000, 0.0000, 0.0000, 0.0000, 0.0000, 0.0000, 0.0000,\n",
              "         0.0000, 0.0000, 0.0000, 0.0000, 0.0000, 0.0000, 0.7490, 0.9804, 0.9922,\n",
              "         0.3647, 0.0000, 0.0000, 0.0000, 0.0000, 0.0000, 0.0000, 0.0000, 0.0000,\n",
              "         0.0000, 0.0000, 0.0000, 0.0000, 0.0000, 0.0000, 0.0000, 0.0000, 0.0000,\n",
              "         0.0000, 0.0000, 0.0000, 0.0000, 0.0000, 0.0000, 0.4824, 0.9725, 0.9922,\n",
              "         0.6549, 0.0392, 0.0000, 0.0000, 0.0000, 0.0000, 0.0000, 0.0000, 0.0000,\n",
              "         0.0000, 0.0000, 0.0000, 0.0000, 0.0000, 0.0000, 0.0000, 0.0000, 0.0000,\n",
              "         0.0000, 0.0000, 0.0000, 0.0000, 0.0000, 0.0000, 0.3137, 0.9686, 0.9922,\n",
              "         0.8157, 0.0510, 0.0000, 0.0000, 0.0000, 0.0000, 0.0000, 0.0000, 0.0000,\n",
              "         0.0000, 0.0000, 0.0000, 0.0000, 0.0000, 0.0000, 0.0000, 0.0000, 0.0000,\n",
              "         0.0000, 0.0000, 0.0000, 0.0000, 0.0000, 0.0000, 0.1137, 0.8118, 0.9922,\n",
              "         0.9216, 0.3020, 0.0000, 0.0000, 0.0000, 0.0000, 0.0000, 0.0000, 0.0000,\n",
              "         0.0000, 0.0000, 0.0000, 0.0000, 0.0000, 0.0000, 0.0000, 0.0000, 0.0000,\n",
              "         0.0000, 0.0000, 0.0000, 0.0000, 0.0000, 0.0000, 0.2118, 0.8196, 0.9922,\n",
              "         0.9922, 0.3451, 0.0000, 0.0000, 0.0000, 0.0000, 0.0000, 0.0000, 0.0000,\n",
              "         0.0000, 0.0000, 0.0000, 0.0000, 0.0000, 0.0000, 0.0000, 0.0000, 0.0000,\n",
              "         0.0000, 0.0000, 0.0000, 0.0000, 0.0000, 0.0000, 0.3647, 0.9961, 0.9922,\n",
              "         0.9333, 0.6667, 0.0667, 0.0000, 0.0000, 0.0000, 0.0000, 0.0000, 0.0000,\n",
              "         0.0000, 0.0000, 0.0000, 0.0000, 0.0000, 0.0000, 0.0000, 0.0000, 0.0000,\n",
              "         0.0000, 0.0000, 0.0000, 0.0000, 0.0000, 0.0000, 0.0902, 0.8235, 0.9961,\n",
              "         0.9922, 0.6235, 0.0000, 0.0000, 0.0000, 0.0000, 0.0000, 0.0000, 0.0000,\n",
              "         0.0000, 0.0000, 0.0000, 0.0000, 0.0000, 0.0000, 0.0000, 0.0000, 0.0000,\n",
              "         0.0000, 0.0000, 0.0000, 0.0000, 0.0000, 0.0000, 0.0627, 0.8196, 0.9922,\n",
              "         0.9961, 0.9412, 0.3176, 0.0000, 0.0000, 0.0000, 0.0000, 0.0000, 0.0000,\n",
              "         0.0000, 0.0000, 0.0000, 0.0000, 0.0000, 0.0000, 0.0000, 0.0000, 0.0000,\n",
              "         0.0000, 0.0000, 0.0000, 0.0000, 0.0000, 0.0000, 0.0000, 0.1059, 0.9922,\n",
              "         0.9922, 0.9961, 0.0510, 0.0000, 0.0000, 0.0000, 0.0000, 0.0000, 0.0000,\n",
              "         0.0000, 0.0000, 0.0000, 0.0000, 0.0000, 0.0000, 0.0000, 0.0000, 0.0000,\n",
              "         0.0000, 0.0000, 0.0000, 0.0000, 0.0000, 0.0000, 0.0000, 0.0784, 0.8078,\n",
              "         0.9961, 0.9961, 0.7765, 0.0275, 0.0000, 0.0000, 0.0000, 0.0000, 0.0000,\n",
              "         0.0000, 0.0000, 0.0000, 0.0000, 0.0000, 0.0000, 0.0000, 0.0000, 0.0000,\n",
              "         0.0000, 0.0000, 0.0000, 0.0000, 0.0000, 0.0000, 0.0000, 0.0000, 0.6588,\n",
              "         0.9922, 0.9922, 0.7686, 0.0275, 0.0000, 0.0000, 0.0000, 0.0000, 0.0000,\n",
              "         0.0000, 0.0000, 0.0000, 0.0000, 0.0000, 0.0000, 0.0000, 0.0000, 0.0000,\n",
              "         0.0000, 0.0000, 0.0000, 0.0000, 0.0000, 0.0000, 0.0000, 0.0000, 0.0784,\n",
              "         0.7961, 0.9922, 0.9725, 0.2980, 0.0000, 0.0000, 0.0000, 0.0000, 0.0000,\n",
              "         0.0000, 0.0000, 0.0000, 0.0000, 0.0000, 0.0000, 0.0000, 0.0000, 0.0000,\n",
              "         0.0000, 0.0000, 0.0000, 0.0000, 0.0000, 0.0000, 0.0000, 0.0000, 0.0863,\n",
              "         0.7373, 0.9922, 0.9608, 0.3647, 0.0000, 0.0000, 0.0000, 0.0000, 0.0000,\n",
              "         0.0000, 0.0000, 0.0000, 0.0000, 0.0000, 0.0000, 0.0000, 0.0000, 0.0000,\n",
              "         0.0000, 0.0000, 0.0000, 0.0000, 0.0000, 0.0000, 0.0000, 0.0000, 0.0000,\n",
              "         0.4039, 0.9922, 0.9922, 0.7490, 0.0000, 0.0000, 0.0000, 0.0000, 0.0000,\n",
              "         0.0000, 0.0000, 0.0000, 0.0000, 0.0000, 0.0000, 0.0000, 0.0000, 0.0000,\n",
              "         0.0000, 0.0000, 0.0000, 0.0000, 0.0000, 0.0000, 0.0000, 0.0000, 0.0000,\n",
              "         0.3490, 0.9412, 0.9922, 0.7647, 0.0980, 0.0000, 0.0000, 0.0000, 0.0000,\n",
              "         0.0000, 0.0000, 0.0000, 0.0000, 0.0000, 0.0000, 0.0000, 0.0000, 0.0000,\n",
              "         0.0000, 0.0000, 0.0000, 0.0000, 0.0000, 0.0000, 0.0000, 0.0000, 0.0000,\n",
              "         0.0588, 0.8627, 0.9922, 0.9922, 0.3137, 0.0000, 0.0000, 0.0000, 0.0000,\n",
              "         0.0000, 0.0000, 0.0000, 0.0000, 0.0000, 0.0000, 0.0000, 0.0000, 0.0000,\n",
              "         0.0000, 0.0000, 0.0000, 0.0000, 0.0000, 0.0000, 0.0000, 0.0000, 0.0000,\n",
              "         0.0000, 0.3686, 0.9922, 0.9922, 0.9922, 0.3686, 0.0000, 0.0000, 0.0000,\n",
              "         0.0000, 0.0000, 0.0000, 0.0000, 0.0000, 0.0000, 0.0000, 0.0000, 0.0000,\n",
              "         0.0000, 0.0000, 0.0000, 0.0000, 0.0000, 0.0000, 0.0000, 0.0000, 0.0000,\n",
              "         0.0000, 0.0000, 0.3490, 0.9843, 0.9922, 0.9804, 0.5137, 0.0000, 0.0000,\n",
              "         0.0000, 0.0000, 0.0000, 0.0000, 0.0000, 0.0000, 0.0000, 0.0000, 0.0000,\n",
              "         0.0000, 0.0000, 0.0000, 0.0000, 0.0000, 0.0000, 0.0000, 0.0000, 0.0000,\n",
              "         0.0000, 0.0000, 0.0000, 0.0000, 0.8392, 0.8549, 0.3725, 0.0000, 0.0000,\n",
              "         0.0000, 0.0000, 0.0000, 0.0000, 0.0000, 0.0000, 0.0000, 0.0000, 0.0000,\n",
              "         0.0000, 0.0000, 0.0000, 0.0000, 0.0000, 0.0000, 0.0000, 0.0000, 0.0000,\n",
              "         0.0000, 0.0000, 0.0000, 0.0000, 0.0000, 0.0000, 0.0000, 0.0000, 0.0000,\n",
              "         0.0000, 0.0000, 0.0000, 0.0000, 0.0000, 0.0000, 0.0000, 0.0000, 0.0000,\n",
              "         0.0000, 0.0000, 0.0000, 0.0000, 0.0000, 0.0000, 0.0000, 0.0000, 0.0000,\n",
              "         0.0000, 0.0000, 0.0000, 0.0000, 0.0000, 0.0000, 0.0000, 0.0000, 0.0000,\n",
              "         0.0000, 0.0000, 0.0000, 0.0000, 0.0000, 0.0000, 0.0000, 0.0000, 0.0000,\n",
              "         0.0000, 0.0000, 0.0000, 0.0000, 0.0000, 0.0000, 0.0000, 0.0000, 0.0000,\n",
              "         0.0000, 0.0000, 0.0000, 0.0000, 0.0000, 0.0000, 0.0000, 0.0000, 0.0000,\n",
              "         0.0000, 0.0000, 0.0000, 0.0000, 0.0000, 0.0000, 0.0000, 0.0000, 0.0000,\n",
              "         0.0000, 0.0000, 0.0000, 0.0000, 0.0000, 0.0000, 0.0000, 0.0000, 0.0000,\n",
              "         0.0000, 0.0000, 0.0000, 0.0000, 0.0000, 0.0000, 0.0000, 0.0000, 0.0000,\n",
              "         0.0000, 0.0000, 0.0000, 0.0000, 0.0000, 0.0000, 0.0000, 0.0000, 0.0000,\n",
              "         0.0000, 0.0000, 0.0000, 0.0000, 0.0000, 0.0000, 0.0000, 0.0000, 0.0000,\n",
              "         0.0000]),\n",
              " tensor(1))"
            ]
          },
          "metadata": {},
          "execution_count": 11
        }
      ]
    },
    {
      "cell_type": "code",
      "source": [
        "image_sample = raw_ds[100][0].reshape(28, 28)\n",
        "import matplotlib.pyplot as plt\n",
        "print(raw_ds[100][1])\n",
        "plt.imshow(image_sample, cmap='gray')"
      ],
      "metadata": {
        "colab": {
          "base_uri": "https://localhost:8080/",
          "height": 465
        },
        "id": "I3h-pnxqN1M_",
        "outputId": "f7a9b4a7-6cc2-4df0-ce35-c7fe4d852342"
      },
      "execution_count": 12,
      "outputs": [
        {
          "output_type": "stream",
          "name": "stdout",
          "text": [
            "tensor(9)\n"
          ]
        },
        {
          "output_type": "execute_result",
          "data": {
            "text/plain": [
              "<matplotlib.image.AxesImage at 0x786ab7f431f0>"
            ]
          },
          "metadata": {},
          "execution_count": 12
        },
        {
          "output_type": "display_data",
          "data": {
            "text/plain": [
              "<Figure size 640x480 with 1 Axes>"
            ],
            "image/png": "[encoded data removed]"
          },
          "metadata": {}
        }
      ]
    },
    {
      "cell_type": "code",
      "source": [
        "random_seed = 42\n",
        "torch.manual_seed(random_seed)"
      ],
      "metadata": {
        "colab": {
          "base_uri": "https://localhost:8080/"
        },
        "id": "FO2pv0oWOoFm",
        "outputId": "a4b951b2-b98c-433b-935d-417f7126f9b0"
      },
      "execution_count": 13,
      "outputs": [
        {
          "output_type": "execute_result",
          "data": {
            "text/plain": [
              "<torch._C.Generator at 0x786b940754f0>"
            ]
          },
          "metadata": {},
          "execution_count": 13
        }
      ]
    },
    {
      "cell_type": "code",
      "source": [
        "val_size = 8000\n",
        "train_size = len(raw_ds) - val_size"
      ],
      "metadata": {
        "id": "x3G-QnjtPfVF"
      },
      "execution_count": 14,
      "outputs": []
    },
    {
      "cell_type": "code",
      "source": [
        "train_ds, val_ds = torch.utils.data.random_split(raw_ds, [train_size, val_size])"
      ],
      "metadata": {
        "id": "pQq2Nw3UPoPo"
      },
      "execution_count": 15,
      "outputs": []
    },
    {
      "cell_type": "code",
      "source": [
        "batch_size = 128"
      ],
      "metadata": {
        "id": "fiSlRRCVQ-KA"
      },
      "execution_count": 16,
      "outputs": []
    },
    {
      "cell_type": "code",
      "source": [
        "from torch.utils.data import DataLoader\n",
        "train_dl = DataLoader(train_ds, batch_size, shuffle=True, num_workers=2, pin_memory=True)\n",
        "val_dl = DataLoader(val_ds, batch_size*2, num_workers=2, pin_memory=True)"
      ],
      "metadata": {
        "id": "-aM0YNI-PrqV"
      },
      "execution_count": 17,
      "outputs": []
    },
    {
      "cell_type": "markdown",
      "source": [
        "## Model"
      ],
      "metadata": {
        "id": "ndEbYlcuRQzw"
      }
    },
    {
      "cell_type": "code",
      "source": [
        "def accurary(output, target):\n",
        "    _, pred = torch.max(output, dim=1)\n",
        "    return torch.tensor(torch.sum(pred==target).item()/len(target))"
      ],
      "metadata": {
        "id": "A_UD0rqVSM3U"
      },
      "execution_count": 18,
      "outputs": []
    },
    {
      "cell_type": "code",
      "source": [
        "import torch.nn as nn\n",
        "import torch.nn.functional as F"
      ],
      "metadata": {
        "id": "08kkLmNlSpSI"
      },
      "execution_count": 19,
      "outputs": []
    },
    {
      "cell_type": "code",
      "source": [
        "class BaseModel(nn.Module):\n",
        "    def training_step(self, batch):\n",
        "        images, targets = batch\n",
        "        out = self(images)\n",
        "        loss = F.cross_entropy(out, targets)\n",
        "        return loss\n",
        "\n",
        "    def validation_step(self, batch):\n",
        "        images, targets = batch\n",
        "        out = self(images)\n",
        "        loss = F.cross_entropy(out, targets)\n",
        "        acc = accurary(out, targets)\n",
        "        return {'val_loss': loss.detach(), 'val_acc': acc}\n",
        "\n",
        "    def validation_epoch_end(self, outputs):\n",
        "        batch_losses = [x['val_loss'] for x in outputs]\n",
        "        epoch_loss = torch.stack(batch_losses).mean()\n",
        "        batch_accs = [x['val_acc'] for x in outputs]\n",
        "        epoch_acc = torch.stack(batch_accs).mean()\n",
        "        return {'val_loss': epoch_loss.item(), 'val_acc': epoch_acc.item()}\n",
        "\n",
        "    def epoch_end(self, epoch, result):\n",
        "        print(\"Epoch [{}], val_loss: {:.4f}, val_acc: {:.4f}\".format(epoch, result['val_loss'], result['val_acc']))"
      ],
      "metadata": {
        "id": "crnEfrdCSsqO"
      },
      "execution_count": 20,
      "outputs": []
    },
    {
      "cell_type": "code",
      "source": [
        "class _2LayerNNModel(BaseModel):\n",
        "    def __init__(self):\n",
        "        super().__init__()\n",
        "        self.linear1 = nn.Linear(784, 32)\n",
        "        self.linear2 = nn.Linear(32, 10)\n",
        "\n",
        "    def forward(self, xb):\n",
        "        out = self.linear1(xb)\n",
        "        out = F.relu(out)\n",
        "        out = self.linear2(out)\n",
        "        return out"
      ],
      "metadata": {
        "id": "ky6Ub2ZAS8Ti"
      },
      "execution_count": 21,
      "outputs": []
    },
    {
      "cell_type": "code",
      "source": [
        "model = _2LayerNNModel()\n",
        "for t in model.parameters():\n",
        "    print(t.shape)"
      ],
      "metadata": {
        "colab": {
          "base_uri": "https://localhost:8080/"
        },
        "id": "lv-HekckUsiP",
        "outputId": "2a48eee1-a340-4a3f-c14d-b08750ae0123"
      },
      "execution_count": 22,
      "outputs": [
        {
          "output_type": "stream",
          "name": "stdout",
          "text": [
            "torch.Size([32, 784])\n",
            "torch.Size([32])\n",
            "torch.Size([10, 32])\n",
            "torch.Size([10])\n"
          ]
        }
      ]
    },
    {
      "cell_type": "code",
      "source": [
        "def evaluate(model, val_dl):\n",
        "    outputs = [model.validation_step(batch) for batch in val_dl]\n",
        "    return model.validation_epoch_end(outputs)"
      ],
      "metadata": {
        "id": "-3aSR67FUywF"
      },
      "execution_count": 23,
      "outputs": []
    },
    {
      "cell_type": "code",
      "source": [
        "def fit(epochs, lr, model, train_dl, val_dl, opt_func=torch.optim.SGD):\n",
        "    history = []\n",
        "    optimizer = opt_func(model.parameters(), lr)\n",
        "\n",
        "    for epoch in range(epochs):\n",
        "        # Training\n",
        "        for batch in train_dl:\n",
        "            loss = model.training_step(batch)\n",
        "            loss.backward()\n",
        "            optimizer.step()\n",
        "            optimizer.zero_grad()\n",
        "        # Validation\n",
        "        result = evaluate(model, val_dl)\n",
        "        model.epoch_end(epoch, result)\n",
        "        history.append(result)\n",
        "    return history"
      ],
      "metadata": {
        "id": "lZjxDZSnU8kR"
      },
      "execution_count": 24,
      "outputs": []
    },
    {
      "cell_type": "code",
      "source": [
        "def get_default_device():\n",
        "    if torch.cuda.is_available():\n",
        "        return torch.device('cuda')\n",
        "    else:\n",
        "        return torch.device('cpu')\n",
        "\n",
        "def to_device(data, device):\n",
        "    if isinstance(data, (list, tuple)):\n",
        "        return [to_device(x, device) for x in data]\n",
        "    return data.to(device, non_blocking=True)\n",
        "\n",
        "class DeviceDataLoader():\n",
        "    def __init__(self, dl, device):\n",
        "        self.dl = dl\n",
        "        self.device = device\n",
        "\n",
        "    def __iter__(self):\n",
        "        for batch in self.dl:\n",
        "            yield to_device(batch, self.device)\n",
        "\n",
        "    def __len__(self):\n",
        "        return len(self.dl)"
      ],
      "metadata": {
        "id": "GyAHx1zOVjNK"
      },
      "execution_count": 25,
      "outputs": []
    },
    {
      "cell_type": "code",
      "source": [
        "get_default_device()"
      ],
      "metadata": {
        "colab": {
          "base_uri": "https://localhost:8080/"
        },
        "id": "9yIxAnBXV2S8",
        "outputId": "2a45919f-d145-4625-8303-8adf396dcd41"
      },
      "execution_count": 26,
      "outputs": [
        {
          "output_type": "execute_result",
          "data": {
            "text/plain": [
              "device(type='cuda')"
            ]
          },
          "metadata": {},
          "execution_count": 26
        }
      ]
    },
    {
      "cell_type": "code",
      "source": [
        "train_dl = DeviceDataLoader(train_dl, get_default_device())\n",
        "val_dl = DeviceDataLoader(val_dl, get_default_device())"
      ],
      "metadata": {
        "id": "I1M7uz2qV3WF"
      },
      "execution_count": 27,
      "outputs": []
    },
    {
      "cell_type": "code",
      "source": [
        "model = to_device(_2LayerNNModel(), get_default_device())"
      ],
      "metadata": {
        "id": "LCNfBWlDV5Uj"
      },
      "execution_count": 28,
      "outputs": []
    },
    {
      "cell_type": "code",
      "source": [
        "history = [evaluate(model, val_dl)]\n",
        "history"
      ],
      "metadata": {
        "colab": {
          "base_uri": "https://localhost:8080/"
        },
        "id": "gCX3h8fBWBFY",
        "outputId": "c400730d-4ef8-4a40-a952-8afa9ef064a6"
      },
      "execution_count": 29,
      "outputs": [
        {
          "output_type": "execute_result",
          "data": {
            "text/plain": [
              "[{'val_loss': 2.3189501762390137, 'val_acc': 0.0943603515625}]"
            ]
          },
          "metadata": {},
          "execution_count": 29
        }
      ]
    },
    {
      "cell_type": "code",
      "source": [
        "history += fit(5, 0.5, model, train_dl, val_dl)"
      ],
      "metadata": {
        "colab": {
          "base_uri": "https://localhost:8080/"
        },
        "id": "aWlzsenZWGiV",
        "outputId": "8880b44d-4a9c-4132-c067-5ddd468528f1"
      },
      "execution_count": 30,
      "outputs": [
        {
          "output_type": "stream",
          "name": "stdout",
          "text": [
            "Epoch [0], val_loss: 0.2709, val_acc: 0.9153\n",
            "Epoch [1], val_loss: 0.2251, val_acc: 0.9324\n",
            "Epoch [2], val_loss: 0.2069, val_acc: 0.9379\n",
            "Epoch [3], val_loss: 0.2111, val_acc: 0.9355\n",
            "Epoch [4], val_loss: 0.1599, val_acc: 0.9507\n"
          ]
        }
      ]
    },
    {
      "cell_type": "code",
      "source": [
        "history += fit(5, 0.2, model, train_dl, val_dl)"
      ],
      "metadata": {
        "colab": {
          "base_uri": "https://localhost:8080/"
        },
        "id": "77pdDjx4YJiV",
        "outputId": "b7cc0a6b-00df-4ca3-e9b7-81099b7cac4c"
      },
      "execution_count": 31,
      "outputs": [
        {
          "output_type": "stream",
          "name": "stdout",
          "text": [
            "Epoch [0], val_loss: 0.1399, val_acc: 0.9574\n",
            "Epoch [1], val_loss: 0.1382, val_acc: 0.9590\n",
            "Epoch [2], val_loss: 0.1351, val_acc: 0.9612\n",
            "Epoch [3], val_loss: 0.1375, val_acc: 0.9594\n",
            "Epoch [4], val_loss: 0.1341, val_acc: 0.9604\n"
          ]
        }
      ]
    },
    {
      "cell_type": "code",
      "source": [
        "history += fit(5, 0.1, model, train_dl, val_dl)"
      ],
      "metadata": {
        "colab": {
          "base_uri": "https://localhost:8080/"
        },
        "id": "P-R5ps2RYP6Q",
        "outputId": "b8b0a2d8-4eea-48cb-9590-7c8d48bf077e"
      },
      "execution_count": 32,
      "outputs": [
        {
          "output_type": "stream",
          "name": "stdout",
          "text": [
            "Epoch [0], val_loss: 0.1298, val_acc: 0.9608\n",
            "Epoch [1], val_loss: 0.1305, val_acc: 0.9602\n",
            "Epoch [2], val_loss: 0.1300, val_acc: 0.9619\n",
            "Epoch [3], val_loss: 0.1293, val_acc: 0.9619\n",
            "Epoch [4], val_loss: 0.1298, val_acc: 0.9600\n"
          ]
        }
      ]
    },
    {
      "cell_type": "code",
      "source": [
        "history += fit(5, 0.05, model, train_dl, val_dl)"
      ],
      "metadata": {
        "colab": {
          "base_uri": "https://localhost:8080/"
        },
        "id": "l3RaMvgNYUst",
        "outputId": "51685e9e-a9e6-4471-dd13-3a8f4373157c"
      },
      "execution_count": 33,
      "outputs": [
        {
          "output_type": "stream",
          "name": "stdout",
          "text": [
            "Epoch [0], val_loss: 0.1282, val_acc: 0.9619\n",
            "Epoch [1], val_loss: 0.1279, val_acc: 0.9618\n",
            "Epoch [2], val_loss: 0.1279, val_acc: 0.9613\n",
            "Epoch [3], val_loss: 0.1276, val_acc: 0.9612\n",
            "Epoch [4], val_loss: 0.1280, val_acc: 0.9618\n"
          ]
        }
      ]
    },
    {
      "cell_type": "code",
      "source": [
        "history += fit(5, 0.01, model, train_dl, val_dl)"
      ],
      "metadata": {
        "colab": {
          "base_uri": "https://localhost:8080/"
        },
        "id": "oWakZ_v9Ydhx",
        "outputId": "fdbd0ead-9e93-4c4b-b888-2303e5946fa6"
      },
      "execution_count": 34,
      "outputs": [
        {
          "output_type": "stream",
          "name": "stdout",
          "text": [
            "Epoch [0], val_loss: 0.1277, val_acc: 0.9626\n",
            "Epoch [1], val_loss: 0.1277, val_acc: 0.9626\n",
            "Epoch [2], val_loss: 0.1278, val_acc: 0.9624\n",
            "Epoch [3], val_loss: 0.1279, val_acc: 0.9625\n",
            "Epoch [4], val_loss: 0.1277, val_acc: 0.9626\n"
          ]
        }
      ]
    },
    {
      "cell_type": "code",
      "source": [
        "def predict_image(img, model):\n",
        "    xb = to_device(img.unsqueeze(0), get_default_device())\n",
        "    yb = model(xb)\n",
        "    _, preds = torch.max(yb, dim=1)\n",
        "    return preds[0].item()"
      ],
      "metadata": {
        "id": "kXOypF_8ZcB6"
      },
      "execution_count": 46,
      "outputs": []
    },
    {
      "cell_type": "code",
      "source": [
        "test_df[input_cols] = test_df[input_cols]/255"
      ],
      "metadata": {
        "id": "BpmyNSf8awaT"
      },
      "execution_count": 38,
      "outputs": []
    },
    {
      "cell_type": "code",
      "source": [
        "test_ds = TensorDataset(torch.tensor(test_df[input_cols].values, dtype=torch.float32))"
      ],
      "metadata": {
        "id": "ZFeAdktva1kG"
      },
      "execution_count": 47,
      "outputs": []
    },
    {
      "cell_type": "code",
      "source": [
        "image_sample = test_ds[11][0].reshape(28, 28)\n",
        "print(predict_image(test_ds[11][0], model))\n",
        "plt.imshow(image_sample, cmap='gray')"
      ],
      "metadata": {
        "colab": {
          "base_uri": "https://localhost:8080/",
          "height": 465
        },
        "id": "Ctdf-2fObrRx",
        "outputId": "99ce061b-70d2-4f97-d0fb-ea484fbb12ba"
      },
      "execution_count": 54,
      "outputs": [
        {
          "output_type": "stream",
          "name": "stdout",
          "text": [
            "7\n"
          ]
        },
        {
          "output_type": "execute_result",
          "data": {
            "text/plain": [
              "<matplotlib.image.AxesImage at 0x786aa5f03460>"
            ]
          },
          "metadata": {},
          "execution_count": 54
        },
        {
          "output_type": "display_data",
          "data": {
            "text/plain": [
              "<Figure size 640x480 with 1 Axes>"
            ],
            "image/png": "[encoded data removed]"
          },
          "metadata": {}
        }
      ]
    },
    {
      "cell_type": "code",
      "source": [
        "for i in range(len(test_ds)):\n",
        "    sub_df.loc[i, 'Label'] = predict_image(test_ds[i][0], model)"
      ],
      "metadata": {
        "id": "z0sQ09cOdgAt"
      },
      "execution_count": 52,
      "outputs": []
    },
    {
      "cell_type": "code",
      "source": [
        "sub_df.to_csv('submission.csv', index=False)"
      ],
      "metadata": {
        "id": "JG_dQFr0dxw_"
      },
      "execution_count": 55,
      "outputs": []
    },
    {
      "cell_type": "code",
      "source": [
        "class _3LayerNNModel(BaseModel):\n",
        "    def __init__(self):\n",
        "        super().__init__()\n",
        "        self.linear1 = nn.Linear(784, 128)\n",
        "        self.linear2 = nn.Linear(128, 64)\n",
        "        self.linear3 = nn.Linear(64, 10)\n",
        "\n",
        "    def forward(self, xb):\n",
        "        out = self.linear1(xb)\n",
        "        out = F.relu(out)\n",
        "        out = self.linear2(out)\n",
        "        out = F.relu(out)\n",
        "        out = self.linear3(out)\n",
        "        return out"
      ],
      "metadata": {
        "id": "nRk73We0eQj_"
      },
      "execution_count": 56,
      "outputs": []
    },
    {
      "cell_type": "code",
      "source": [
        "model = to_device(_3LayerNNModel(), get_default_device())"
      ],
      "metadata": {
        "id": "yYLj65Mmd7wE"
      },
      "execution_count": 58,
      "outputs": []
    },
    {
      "cell_type": "code",
      "source": [
        "history = [evaluate(model, val_dl)]\n",
        "history"
      ],
      "metadata": {
        "colab": {
          "base_uri": "https://localhost:8080/"
        },
        "id": "ZhtiEFAyeaWL",
        "outputId": "dbbe2823-8cd0-418b-cf4c-791242b6c2d6"
      },
      "execution_count": 59,
      "outputs": [
        {
          "output_type": "execute_result",
          "data": {
            "text/plain": [
              "[{'val_loss': 2.304136276245117, 'val_acc': 0.1109619140625}]"
            ]
          },
          "metadata": {},
          "execution_count": 59
        }
      ]
    },
    {
      "cell_type": "code",
      "source": [
        "history += fit(5, 0.5, model, train_dl, val_dl)"
      ],
      "metadata": {
        "colab": {
          "base_uri": "https://localhost:8080/"
        },
        "id": "-eGB761WeiPf",
        "outputId": "392385b5-2d1d-4894-d7d5-a695b02e581c"
      },
      "execution_count": 60,
      "outputs": [
        {
          "output_type": "stream",
          "name": "stdout",
          "text": [
            "Epoch [0], val_loss: 0.2774, val_acc: 0.9149\n",
            "Epoch [1], val_loss: 0.1556, val_acc: 0.9531\n",
            "Epoch [2], val_loss: 0.1236, val_acc: 0.9633\n",
            "Epoch [3], val_loss: 0.1082, val_acc: 0.9667\n",
            "Epoch [4], val_loss: 0.1054, val_acc: 0.9700\n"
          ]
        }
      ]
    },
    {
      "cell_type": "code",
      "source": [
        "history += fit(5, 0.1, model, train_dl, val_dl)"
      ],
      "metadata": {
        "colab": {
          "base_uri": "https://localhost:8080/"
        },
        "id": "2Ggp1uXNekSI",
        "outputId": "04ba6887-62d0-4f54-9b4c-c5ce90f99ca2"
      },
      "execution_count": 61,
      "outputs": [
        {
          "output_type": "stream",
          "name": "stdout",
          "text": [
            "Epoch [0], val_loss: 0.0937, val_acc: 0.9725\n",
            "Epoch [1], val_loss: 0.0925, val_acc: 0.9741\n",
            "Epoch [2], val_loss: 0.0938, val_acc: 0.9739\n",
            "Epoch [3], val_loss: 0.0938, val_acc: 0.9735\n",
            "Epoch [4], val_loss: 0.0936, val_acc: 0.9747\n"
          ]
        }
      ]
    },
    {
      "cell_type": "code",
      "source": [
        "history += fit(5, 0.05, model, train_dl, val_dl)"
      ],
      "metadata": {
        "colab": {
          "base_uri": "https://localhost:8080/"
        },
        "id": "Ixkqv-0zepzW",
        "outputId": "b3fec2f1-c8cb-456d-8f2b-f6d258263bb3"
      },
      "execution_count": 62,
      "outputs": [
        {
          "output_type": "stream",
          "name": "stdout",
          "text": [
            "Epoch [0], val_loss: 0.0932, val_acc: 0.9739\n",
            "Epoch [1], val_loss: 0.0938, val_acc: 0.9746\n",
            "Epoch [2], val_loss: 0.0931, val_acc: 0.9752\n",
            "Epoch [3], val_loss: 0.0941, val_acc: 0.9744\n",
            "Epoch [4], val_loss: 0.0940, val_acc: 0.9742\n"
          ]
        }
      ]
    },
    {
      "cell_type": "code",
      "source": [
        "for i in range(len(test_ds)):\n",
        "    sub_df.loc[i, 'Label'] = predict_image(test_ds[i][0], model)\n",
        "sub_df.to_csv('submission.csv', index=False)"
      ],
      "metadata": {
        "id": "kGnWW7Ndeu59"
      },
      "execution_count": 63,
      "outputs": []
    },
    {
      "cell_type": "code",
      "source": [],
      "metadata": {
        "id": "5xbgNyGke5xz"
      },
      "execution_count": null,
      "outputs": []
    }
  ],
  "metadata": {
    "kernelspec": {
      "display_name": "Python 3",
      "name": "python3"
    },
    "language_info": {
      "codemirror_mode": {
        "name": "ipython",
        "version": 3
      },
      "file_extension": ".py",
      "mimetype": "text/x-python",
      "name": "python",
      "nbconvert_exporter": "python",
      "pygments_lexer": "ipython3",
      "version": "3.11.9"
    },
    "colab": {
      "provenance": [],
      "gpuType": "T4",
      "include_colab_link": true
    },
    "accelerator": "GPU"
  },
  "nbformat": 4,
  "nbformat_minor": 0
}