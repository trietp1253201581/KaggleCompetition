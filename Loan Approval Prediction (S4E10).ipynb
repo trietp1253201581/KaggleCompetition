{
 "cells": [
  {
   "cell_type": "markdown",
   "id": "52adba53",
   "metadata": {
    "papermill": {
     "duration": 0.032312,
     "end_time": "2024-10-05T14:15:55.947880",
     "exception": false,
     "start_time": "2024-10-05T14:15:55.915568",
     "status": "completed"
    },
    "tags": []
   },
   "source": [
    "# Loan Approval Prediction"
   ]
  },
  {
   "cell_type": "markdown",
   "id": "6b8ef7ad",
   "metadata": {
    "papermill": {
     "duration": 0.030468,
     "end_time": "2024-10-05T14:15:56.009194",
     "exception": false,
     "start_time": "2024-10-05T14:15:55.978726",
     "status": "completed"
    },
    "tags": []
   },
   "source": [
    "## Import library and datasets"
   ]
  },
  {
   "cell_type": "code",
   "execution_count": 1,
   "id": "c0a299fd",
   "metadata": {
    "execution": {
     "iopub.execute_input": "2024-10-05T14:15:56.073345Z",
     "iopub.status.busy": "2024-10-05T14:15:56.072532Z",
     "iopub.status.idle": "2024-10-05T14:16:02.128988Z",
     "shell.execute_reply": "2024-10-05T14:16:02.128019Z"
    },
    "papermill": {
     "duration": 6.091108,
     "end_time": "2024-10-05T14:16:02.131472",
     "exception": false,
     "start_time": "2024-10-05T14:15:56.040364",
     "status": "completed"
    },
    "tags": []
   },
   "outputs": [],
   "source": [
    "import pandas as pd\n",
    "import numpy as np\n",
    "\n",
    "from sklearn.preprocessing import OneHotEncoder, OrdinalEncoder, MinMaxScaler, StandardScaler\n",
    "from sklearn.impute import SimpleImputer\n",
    "\n",
    "from sklearn.metrics import mean_squared_error, accuracy_score, log_loss, roc_auc_score\n",
    "\n",
    "from sklearn.model_selection import GridSearchCV, train_test_split, StratifiedKFold, cross_val_score, RandomizedSearchCV\n",
    "from sklearn.feature_selection import mutual_info_classif\n",
    "\n",
    "from sklearn.pipeline import make_pipeline, Pipeline\n",
    "from sklearn.compose import ColumnTransformer\n",
    "\n",
    "from sklearn.linear_model import LogisticRegression\n",
    "from sklearn.ensemble import RandomForestClassifier, StackingClassifier, VotingClassifier\n",
    "from xgboost import XGBClassifier\n",
    "from lightgbm import LGBMClassifier\n",
    "from catboost import CatBoostClassifier\n",
    "\n",
    "from scipy.stats import loguniform, uniform\n",
    "\n",
    "import warnings\n",
    "warnings.simplefilter(action='ignore', category=FutureWarning)\n",
    "\n",
    "import matplotlib.pyplot as plt\n",
    "import seaborn as sns\n",
    "%matplotlib inline"
   ]
  },
  {
   "cell_type": "code",
   "execution_count": 2,
   "id": "5bb760e8",
   "metadata": {
    "execution": {
     "iopub.execute_input": "2024-10-05T14:16:02.194995Z",
     "iopub.status.busy": "2024-10-05T14:16:02.194427Z",
     "iopub.status.idle": "2024-10-05T14:16:02.455439Z",
     "shell.execute_reply": "2024-10-05T14:16:02.454634Z"
    },
    "papermill": {
     "duration": 0.294868,
     "end_time": "2024-10-05T14:16:02.457664",
     "exception": false,
     "start_time": "2024-10-05T14:16:02.162796",
     "status": "completed"
    },
    "tags": []
   },
   "outputs": [],
   "source": [
    "data_dir = '/kaggle/input/playground-series-s4e10/'\n",
    "raw_df = pd.read_csv(data_dir + 'train.csv')\n",
    "test_df = pd.read_csv(data_dir + 'test.csv')\n",
    "sub_df = pd.read_csv(data_dir + 'sample_submission.csv')"
   ]
  },
  {
   "cell_type": "code",
   "execution_count": 3,
   "id": "75e09fa6",
   "metadata": {
    "execution": {
     "iopub.execute_input": "2024-10-05T14:16:02.521456Z",
     "iopub.status.busy": "2024-10-05T14:16:02.521105Z",
     "iopub.status.idle": "2024-10-05T14:16:02.599501Z",
     "shell.execute_reply": "2024-10-05T14:16:02.598676Z"
    },
    "papermill": {
     "duration": 0.112696,
     "end_time": "2024-10-05T14:16:02.601731",
     "exception": false,
     "start_time": "2024-10-05T14:16:02.489035",
     "status": "completed"
    },
    "tags": []
   },
   "outputs": [],
   "source": [
    "original_df = pd.read_csv('/kaggle/input/loan-approval-prediction/credit_risk_dataset.csv')"
   ]
  },
  {
   "cell_type": "code",
   "execution_count": 4,
   "id": "1fcf122f",
   "metadata": {
    "execution": {
     "iopub.execute_input": "2024-10-05T14:16:02.666273Z",
     "iopub.status.busy": "2024-10-05T14:16:02.665876Z",
     "iopub.status.idle": "2024-10-05T14:16:02.697555Z",
     "shell.execute_reply": "2024-10-05T14:16:02.696636Z"
    },
    "papermill": {
     "duration": 0.06688,
     "end_time": "2024-10-05T14:16:02.699718",
     "exception": false,
     "start_time": "2024-10-05T14:16:02.632838",
     "status": "completed"
    },
    "tags": []
   },
   "outputs": [
    {
     "data": {
      "text/html": [
       "<div>\n",
       "<style scoped>\n",
       "    .dataframe tbody tr th:only-of-type {\n",
       "        vertical-align: middle;\n",
       "    }\n",
       "\n",
       "    .dataframe tbody tr th {\n",
       "        vertical-align: top;\n",
       "    }\n",
       "\n",
       "    .dataframe thead th {\n",
       "        text-align: right;\n",
       "    }\n",
       "</style>\n",
       "<table border=\"1\" class=\"dataframe\">\n",
       "  <thead>\n",
       "    <tr style=\"text-align: right;\">\n",
       "      <th></th>\n",
       "      <th>id</th>\n",
       "      <th>person_age</th>\n",
       "      <th>person_income</th>\n",
       "      <th>person_home_ownership</th>\n",
       "      <th>person_emp_length</th>\n",
       "      <th>loan_intent</th>\n",
       "      <th>loan_grade</th>\n",
       "      <th>loan_amnt</th>\n",
       "      <th>loan_int_rate</th>\n",
       "      <th>loan_percent_income</th>\n",
       "      <th>cb_person_default_on_file</th>\n",
       "      <th>cb_person_cred_hist_length</th>\n",
       "      <th>loan_status</th>\n",
       "    </tr>\n",
       "  </thead>\n",
       "  <tbody>\n",
       "    <tr>\n",
       "      <th>0</th>\n",
       "      <td>0</td>\n",
       "      <td>37</td>\n",
       "      <td>35000</td>\n",
       "      <td>RENT</td>\n",
       "      <td>0.0</td>\n",
       "      <td>EDUCATION</td>\n",
       "      <td>B</td>\n",
       "      <td>6000</td>\n",
       "      <td>11.49</td>\n",
       "      <td>0.17</td>\n",
       "      <td>N</td>\n",
       "      <td>14</td>\n",
       "      <td>0</td>\n",
       "    </tr>\n",
       "    <tr>\n",
       "      <th>1</th>\n",
       "      <td>1</td>\n",
       "      <td>22</td>\n",
       "      <td>56000</td>\n",
       "      <td>OWN</td>\n",
       "      <td>6.0</td>\n",
       "      <td>MEDICAL</td>\n",
       "      <td>C</td>\n",
       "      <td>4000</td>\n",
       "      <td>13.35</td>\n",
       "      <td>0.07</td>\n",
       "      <td>N</td>\n",
       "      <td>2</td>\n",
       "      <td>0</td>\n",
       "    </tr>\n",
       "    <tr>\n",
       "      <th>2</th>\n",
       "      <td>2</td>\n",
       "      <td>29</td>\n",
       "      <td>28800</td>\n",
       "      <td>OWN</td>\n",
       "      <td>8.0</td>\n",
       "      <td>PERSONAL</td>\n",
       "      <td>A</td>\n",
       "      <td>6000</td>\n",
       "      <td>8.90</td>\n",
       "      <td>0.21</td>\n",
       "      <td>N</td>\n",
       "      <td>10</td>\n",
       "      <td>0</td>\n",
       "    </tr>\n",
       "    <tr>\n",
       "      <th>3</th>\n",
       "      <td>3</td>\n",
       "      <td>30</td>\n",
       "      <td>70000</td>\n",
       "      <td>RENT</td>\n",
       "      <td>14.0</td>\n",
       "      <td>VENTURE</td>\n",
       "      <td>B</td>\n",
       "      <td>12000</td>\n",
       "      <td>11.11</td>\n",
       "      <td>0.17</td>\n",
       "      <td>N</td>\n",
       "      <td>5</td>\n",
       "      <td>0</td>\n",
       "    </tr>\n",
       "    <tr>\n",
       "      <th>4</th>\n",
       "      <td>4</td>\n",
       "      <td>22</td>\n",
       "      <td>60000</td>\n",
       "      <td>RENT</td>\n",
       "      <td>2.0</td>\n",
       "      <td>MEDICAL</td>\n",
       "      <td>A</td>\n",
       "      <td>6000</td>\n",
       "      <td>6.92</td>\n",
       "      <td>0.10</td>\n",
       "      <td>N</td>\n",
       "      <td>3</td>\n",
       "      <td>0</td>\n",
       "    </tr>\n",
       "    <tr>\n",
       "      <th>...</th>\n",
       "      <td>...</td>\n",
       "      <td>...</td>\n",
       "      <td>...</td>\n",
       "      <td>...</td>\n",
       "      <td>...</td>\n",
       "      <td>...</td>\n",
       "      <td>...</td>\n",
       "      <td>...</td>\n",
       "      <td>...</td>\n",
       "      <td>...</td>\n",
       "      <td>...</td>\n",
       "      <td>...</td>\n",
       "      <td>...</td>\n",
       "    </tr>\n",
       "    <tr>\n",
       "      <th>58640</th>\n",
       "      <td>58640</td>\n",
       "      <td>34</td>\n",
       "      <td>120000</td>\n",
       "      <td>MORTGAGE</td>\n",
       "      <td>5.0</td>\n",
       "      <td>EDUCATION</td>\n",
       "      <td>D</td>\n",
       "      <td>25000</td>\n",
       "      <td>15.95</td>\n",
       "      <td>0.21</td>\n",
       "      <td>Y</td>\n",
       "      <td>10</td>\n",
       "      <td>0</td>\n",
       "    </tr>\n",
       "    <tr>\n",
       "      <th>58641</th>\n",
       "      <td>58641</td>\n",
       "      <td>28</td>\n",
       "      <td>28800</td>\n",
       "      <td>RENT</td>\n",
       "      <td>0.0</td>\n",
       "      <td>MEDICAL</td>\n",
       "      <td>C</td>\n",
       "      <td>10000</td>\n",
       "      <td>12.73</td>\n",
       "      <td>0.35</td>\n",
       "      <td>N</td>\n",
       "      <td>8</td>\n",
       "      <td>1</td>\n",
       "    </tr>\n",
       "    <tr>\n",
       "      <th>58642</th>\n",
       "      <td>58642</td>\n",
       "      <td>23</td>\n",
       "      <td>44000</td>\n",
       "      <td>RENT</td>\n",
       "      <td>7.0</td>\n",
       "      <td>EDUCATION</td>\n",
       "      <td>D</td>\n",
       "      <td>6800</td>\n",
       "      <td>16.00</td>\n",
       "      <td>0.15</td>\n",
       "      <td>N</td>\n",
       "      <td>2</td>\n",
       "      <td>1</td>\n",
       "    </tr>\n",
       "    <tr>\n",
       "      <th>58643</th>\n",
       "      <td>58643</td>\n",
       "      <td>22</td>\n",
       "      <td>30000</td>\n",
       "      <td>RENT</td>\n",
       "      <td>2.0</td>\n",
       "      <td>EDUCATION</td>\n",
       "      <td>A</td>\n",
       "      <td>5000</td>\n",
       "      <td>8.90</td>\n",
       "      <td>0.17</td>\n",
       "      <td>N</td>\n",
       "      <td>3</td>\n",
       "      <td>0</td>\n",
       "    </tr>\n",
       "    <tr>\n",
       "      <th>58644</th>\n",
       "      <td>58644</td>\n",
       "      <td>31</td>\n",
       "      <td>75000</td>\n",
       "      <td>MORTGAGE</td>\n",
       "      <td>2.0</td>\n",
       "      <td>VENTURE</td>\n",
       "      <td>B</td>\n",
       "      <td>15000</td>\n",
       "      <td>11.11</td>\n",
       "      <td>0.20</td>\n",
       "      <td>N</td>\n",
       "      <td>5</td>\n",
       "      <td>0</td>\n",
       "    </tr>\n",
       "  </tbody>\n",
       "</table>\n",
       "<p>58645 rows × 13 columns</p>\n",
       "</div>"
      ],
      "text/plain": [
       "          id  person_age  person_income person_home_ownership  \\\n",
       "0          0          37          35000                  RENT   \n",
       "1          1          22          56000                   OWN   \n",
       "2          2          29          28800                   OWN   \n",
       "3          3          30          70000                  RENT   \n",
       "4          4          22          60000                  RENT   \n",
       "...      ...         ...            ...                   ...   \n",
       "58640  58640          34         120000              MORTGAGE   \n",
       "58641  58641          28          28800                  RENT   \n",
       "58642  58642          23          44000                  RENT   \n",
       "58643  58643          22          30000                  RENT   \n",
       "58644  58644          31          75000              MORTGAGE   \n",
       "\n",
       "       person_emp_length loan_intent loan_grade  loan_amnt  loan_int_rate  \\\n",
       "0                    0.0   EDUCATION          B       6000          11.49   \n",
       "1                    6.0     MEDICAL          C       4000          13.35   \n",
       "2                    8.0    PERSONAL          A       6000           8.90   \n",
       "3                   14.0     VENTURE          B      12000          11.11   \n",
       "4                    2.0     MEDICAL          A       6000           6.92   \n",
       "...                  ...         ...        ...        ...            ...   \n",
       "58640                5.0   EDUCATION          D      25000          15.95   \n",
       "58641                0.0     MEDICAL          C      10000          12.73   \n",
       "58642                7.0   EDUCATION          D       6800          16.00   \n",
       "58643                2.0   EDUCATION          A       5000           8.90   \n",
       "58644                2.0     VENTURE          B      15000          11.11   \n",
       "\n",
       "       loan_percent_income cb_person_default_on_file  \\\n",
       "0                     0.17                         N   \n",
       "1                     0.07                         N   \n",
       "2                     0.21                         N   \n",
       "3                     0.17                         N   \n",
       "4                     0.10                         N   \n",
       "...                    ...                       ...   \n",
       "58640                 0.21                         Y   \n",
       "58641                 0.35                         N   \n",
       "58642                 0.15                         N   \n",
       "58643                 0.17                         N   \n",
       "58644                 0.20                         N   \n",
       "\n",
       "       cb_person_cred_hist_length  loan_status  \n",
       "0                              14            0  \n",
       "1                               2            0  \n",
       "2                              10            0  \n",
       "3                               5            0  \n",
       "4                               3            0  \n",
       "...                           ...          ...  \n",
       "58640                          10            0  \n",
       "58641                           8            1  \n",
       "58642                           2            1  \n",
       "58643                           3            0  \n",
       "58644                           5            0  \n",
       "\n",
       "[58645 rows x 13 columns]"
      ]
     },
     "execution_count": 4,
     "metadata": {},
     "output_type": "execute_result"
    }
   ],
   "source": [
    "raw_df"
   ]
  },
  {
   "cell_type": "code",
   "execution_count": 5,
   "id": "22f6f474",
   "metadata": {
    "execution": {
     "iopub.execute_input": "2024-10-05T14:16:02.766019Z",
     "iopub.status.busy": "2024-10-05T14:16:02.765153Z",
     "iopub.status.idle": "2024-10-05T14:16:02.784646Z",
     "shell.execute_reply": "2024-10-05T14:16:02.783726Z"
    },
    "papermill": {
     "duration": 0.053994,
     "end_time": "2024-10-05T14:16:02.786574",
     "exception": false,
     "start_time": "2024-10-05T14:16:02.732580",
     "status": "completed"
    },
    "tags": []
   },
   "outputs": [
    {
     "data": {
      "text/html": [
       "<div>\n",
       "<style scoped>\n",
       "    .dataframe tbody tr th:only-of-type {\n",
       "        vertical-align: middle;\n",
       "    }\n",
       "\n",
       "    .dataframe tbody tr th {\n",
       "        vertical-align: top;\n",
       "    }\n",
       "\n",
       "    .dataframe thead th {\n",
       "        text-align: right;\n",
       "    }\n",
       "</style>\n",
       "<table border=\"1\" class=\"dataframe\">\n",
       "  <thead>\n",
       "    <tr style=\"text-align: right;\">\n",
       "      <th></th>\n",
       "      <th>person_age</th>\n",
       "      <th>person_income</th>\n",
       "      <th>person_home_ownership</th>\n",
       "      <th>person_emp_length</th>\n",
       "      <th>loan_intent</th>\n",
       "      <th>loan_grade</th>\n",
       "      <th>loan_amnt</th>\n",
       "      <th>loan_int_rate</th>\n",
       "      <th>loan_status</th>\n",
       "      <th>loan_percent_income</th>\n",
       "      <th>cb_person_default_on_file</th>\n",
       "      <th>cb_person_cred_hist_length</th>\n",
       "    </tr>\n",
       "  </thead>\n",
       "  <tbody>\n",
       "    <tr>\n",
       "      <th>0</th>\n",
       "      <td>22</td>\n",
       "      <td>59000</td>\n",
       "      <td>RENT</td>\n",
       "      <td>123.0</td>\n",
       "      <td>PERSONAL</td>\n",
       "      <td>D</td>\n",
       "      <td>35000</td>\n",
       "      <td>16.02</td>\n",
       "      <td>1</td>\n",
       "      <td>0.59</td>\n",
       "      <td>Y</td>\n",
       "      <td>3</td>\n",
       "    </tr>\n",
       "    <tr>\n",
       "      <th>1</th>\n",
       "      <td>21</td>\n",
       "      <td>9600</td>\n",
       "      <td>OWN</td>\n",
       "      <td>5.0</td>\n",
       "      <td>EDUCATION</td>\n",
       "      <td>B</td>\n",
       "      <td>1000</td>\n",
       "      <td>11.14</td>\n",
       "      <td>0</td>\n",
       "      <td>0.10</td>\n",
       "      <td>N</td>\n",
       "      <td>2</td>\n",
       "    </tr>\n",
       "    <tr>\n",
       "      <th>2</th>\n",
       "      <td>25</td>\n",
       "      <td>9600</td>\n",
       "      <td>MORTGAGE</td>\n",
       "      <td>1.0</td>\n",
       "      <td>MEDICAL</td>\n",
       "      <td>C</td>\n",
       "      <td>5500</td>\n",
       "      <td>12.87</td>\n",
       "      <td>1</td>\n",
       "      <td>0.57</td>\n",
       "      <td>N</td>\n",
       "      <td>3</td>\n",
       "    </tr>\n",
       "    <tr>\n",
       "      <th>3</th>\n",
       "      <td>23</td>\n",
       "      <td>65500</td>\n",
       "      <td>RENT</td>\n",
       "      <td>4.0</td>\n",
       "      <td>MEDICAL</td>\n",
       "      <td>C</td>\n",
       "      <td>35000</td>\n",
       "      <td>15.23</td>\n",
       "      <td>1</td>\n",
       "      <td>0.53</td>\n",
       "      <td>N</td>\n",
       "      <td>2</td>\n",
       "    </tr>\n",
       "    <tr>\n",
       "      <th>4</th>\n",
       "      <td>24</td>\n",
       "      <td>54400</td>\n",
       "      <td>RENT</td>\n",
       "      <td>8.0</td>\n",
       "      <td>MEDICAL</td>\n",
       "      <td>C</td>\n",
       "      <td>35000</td>\n",
       "      <td>14.27</td>\n",
       "      <td>1</td>\n",
       "      <td>0.55</td>\n",
       "      <td>Y</td>\n",
       "      <td>4</td>\n",
       "    </tr>\n",
       "    <tr>\n",
       "      <th>...</th>\n",
       "      <td>...</td>\n",
       "      <td>...</td>\n",
       "      <td>...</td>\n",
       "      <td>...</td>\n",
       "      <td>...</td>\n",
       "      <td>...</td>\n",
       "      <td>...</td>\n",
       "      <td>...</td>\n",
       "      <td>...</td>\n",
       "      <td>...</td>\n",
       "      <td>...</td>\n",
       "      <td>...</td>\n",
       "    </tr>\n",
       "    <tr>\n",
       "      <th>32576</th>\n",
       "      <td>57</td>\n",
       "      <td>53000</td>\n",
       "      <td>MORTGAGE</td>\n",
       "      <td>1.0</td>\n",
       "      <td>PERSONAL</td>\n",
       "      <td>C</td>\n",
       "      <td>5800</td>\n",
       "      <td>13.16</td>\n",
       "      <td>0</td>\n",
       "      <td>0.11</td>\n",
       "      <td>N</td>\n",
       "      <td>30</td>\n",
       "    </tr>\n",
       "    <tr>\n",
       "      <th>32577</th>\n",
       "      <td>54</td>\n",
       "      <td>120000</td>\n",
       "      <td>MORTGAGE</td>\n",
       "      <td>4.0</td>\n",
       "      <td>PERSONAL</td>\n",
       "      <td>A</td>\n",
       "      <td>17625</td>\n",
       "      <td>7.49</td>\n",
       "      <td>0</td>\n",
       "      <td>0.15</td>\n",
       "      <td>N</td>\n",
       "      <td>19</td>\n",
       "    </tr>\n",
       "    <tr>\n",
       "      <th>32578</th>\n",
       "      <td>65</td>\n",
       "      <td>76000</td>\n",
       "      <td>RENT</td>\n",
       "      <td>3.0</td>\n",
       "      <td>HOMEIMPROVEMENT</td>\n",
       "      <td>B</td>\n",
       "      <td>35000</td>\n",
       "      <td>10.99</td>\n",
       "      <td>1</td>\n",
       "      <td>0.46</td>\n",
       "      <td>N</td>\n",
       "      <td>28</td>\n",
       "    </tr>\n",
       "    <tr>\n",
       "      <th>32579</th>\n",
       "      <td>56</td>\n",
       "      <td>150000</td>\n",
       "      <td>MORTGAGE</td>\n",
       "      <td>5.0</td>\n",
       "      <td>PERSONAL</td>\n",
       "      <td>B</td>\n",
       "      <td>15000</td>\n",
       "      <td>11.48</td>\n",
       "      <td>0</td>\n",
       "      <td>0.10</td>\n",
       "      <td>N</td>\n",
       "      <td>26</td>\n",
       "    </tr>\n",
       "    <tr>\n",
       "      <th>32580</th>\n",
       "      <td>66</td>\n",
       "      <td>42000</td>\n",
       "      <td>RENT</td>\n",
       "      <td>2.0</td>\n",
       "      <td>MEDICAL</td>\n",
       "      <td>B</td>\n",
       "      <td>6475</td>\n",
       "      <td>9.99</td>\n",
       "      <td>0</td>\n",
       "      <td>0.15</td>\n",
       "      <td>N</td>\n",
       "      <td>30</td>\n",
       "    </tr>\n",
       "  </tbody>\n",
       "</table>\n",
       "<p>32581 rows × 12 columns</p>\n",
       "</div>"
      ],
      "text/plain": [
       "       person_age  person_income person_home_ownership  person_emp_length  \\\n",
       "0              22          59000                  RENT              123.0   \n",
       "1              21           9600                   OWN                5.0   \n",
       "2              25           9600              MORTGAGE                1.0   \n",
       "3              23          65500                  RENT                4.0   \n",
       "4              24          54400                  RENT                8.0   \n",
       "...           ...            ...                   ...                ...   \n",
       "32576          57          53000              MORTGAGE                1.0   \n",
       "32577          54         120000              MORTGAGE                4.0   \n",
       "32578          65          76000                  RENT                3.0   \n",
       "32579          56         150000              MORTGAGE                5.0   \n",
       "32580          66          42000                  RENT                2.0   \n",
       "\n",
       "           loan_intent loan_grade  loan_amnt  loan_int_rate  loan_status  \\\n",
       "0             PERSONAL          D      35000          16.02            1   \n",
       "1            EDUCATION          B       1000          11.14            0   \n",
       "2              MEDICAL          C       5500          12.87            1   \n",
       "3              MEDICAL          C      35000          15.23            1   \n",
       "4              MEDICAL          C      35000          14.27            1   \n",
       "...                ...        ...        ...            ...          ...   \n",
       "32576         PERSONAL          C       5800          13.16            0   \n",
       "32577         PERSONAL          A      17625           7.49            0   \n",
       "32578  HOMEIMPROVEMENT          B      35000          10.99            1   \n",
       "32579         PERSONAL          B      15000          11.48            0   \n",
       "32580          MEDICAL          B       6475           9.99            0   \n",
       "\n",
       "       loan_percent_income cb_person_default_on_file  \\\n",
       "0                     0.59                         Y   \n",
       "1                     0.10                         N   \n",
       "2                     0.57                         N   \n",
       "3                     0.53                         N   \n",
       "4                     0.55                         Y   \n",
       "...                    ...                       ...   \n",
       "32576                 0.11                         N   \n",
       "32577                 0.15                         N   \n",
       "32578                 0.46                         N   \n",
       "32579                 0.10                         N   \n",
       "32580                 0.15                         N   \n",
       "\n",
       "       cb_person_cred_hist_length  \n",
       "0                               3  \n",
       "1                               2  \n",
       "2                               3  \n",
       "3                               2  \n",
       "4                               4  \n",
       "...                           ...  \n",
       "32576                          30  \n",
       "32577                          19  \n",
       "32578                          28  \n",
       "32579                          26  \n",
       "32580                          30  \n",
       "\n",
       "[32581 rows x 12 columns]"
      ]
     },
     "execution_count": 5,
     "metadata": {},
     "output_type": "execute_result"
    }
   ],
   "source": [
    "original_df"
   ]
  },
  {
   "cell_type": "code",
   "execution_count": 6,
   "id": "59731f50",
   "metadata": {
    "execution": {
     "iopub.execute_input": "2024-10-05T14:16:02.850907Z",
     "iopub.status.busy": "2024-10-05T14:16:02.850585Z",
     "iopub.status.idle": "2024-10-05T14:16:02.925568Z",
     "shell.execute_reply": "2024-10-05T14:16:02.924644Z"
    },
    "papermill": {
     "duration": 0.109678,
     "end_time": "2024-10-05T14:16:02.927909",
     "exception": false,
     "start_time": "2024-10-05T14:16:02.818231",
     "status": "completed"
    },
    "tags": []
   },
   "outputs": [
    {
     "data": {
      "text/html": [
       "<div>\n",
       "<style scoped>\n",
       "    .dataframe tbody tr th:only-of-type {\n",
       "        vertical-align: middle;\n",
       "    }\n",
       "\n",
       "    .dataframe tbody tr th {\n",
       "        vertical-align: top;\n",
       "    }\n",
       "\n",
       "    .dataframe thead th {\n",
       "        text-align: right;\n",
       "    }\n",
       "</style>\n",
       "<table border=\"1\" class=\"dataframe\">\n",
       "  <thead>\n",
       "    <tr style=\"text-align: right;\">\n",
       "      <th></th>\n",
       "      <th>id</th>\n",
       "      <th>person_age</th>\n",
       "      <th>person_income</th>\n",
       "      <th>person_home_ownership</th>\n",
       "      <th>person_emp_length</th>\n",
       "      <th>loan_intent</th>\n",
       "      <th>loan_grade</th>\n",
       "      <th>loan_amnt</th>\n",
       "      <th>loan_int_rate</th>\n",
       "      <th>loan_percent_income</th>\n",
       "      <th>cb_person_default_on_file</th>\n",
       "      <th>cb_person_cred_hist_length</th>\n",
       "      <th>loan_status</th>\n",
       "    </tr>\n",
       "  </thead>\n",
       "  <tbody>\n",
       "    <tr>\n",
       "      <th>0</th>\n",
       "      <td>0.0</td>\n",
       "      <td>37</td>\n",
       "      <td>35000</td>\n",
       "      <td>RENT</td>\n",
       "      <td>0.0</td>\n",
       "      <td>EDUCATION</td>\n",
       "      <td>B</td>\n",
       "      <td>6000</td>\n",
       "      <td>11.49</td>\n",
       "      <td>0.17</td>\n",
       "      <td>N</td>\n",
       "      <td>14</td>\n",
       "      <td>0.0</td>\n",
       "    </tr>\n",
       "    <tr>\n",
       "      <th>1</th>\n",
       "      <td>1.0</td>\n",
       "      <td>22</td>\n",
       "      <td>56000</td>\n",
       "      <td>OWN</td>\n",
       "      <td>6.0</td>\n",
       "      <td>MEDICAL</td>\n",
       "      <td>C</td>\n",
       "      <td>4000</td>\n",
       "      <td>13.35</td>\n",
       "      <td>0.07</td>\n",
       "      <td>N</td>\n",
       "      <td>2</td>\n",
       "      <td>0.0</td>\n",
       "    </tr>\n",
       "    <tr>\n",
       "      <th>2</th>\n",
       "      <td>2.0</td>\n",
       "      <td>29</td>\n",
       "      <td>28800</td>\n",
       "      <td>OWN</td>\n",
       "      <td>8.0</td>\n",
       "      <td>PERSONAL</td>\n",
       "      <td>A</td>\n",
       "      <td>6000</td>\n",
       "      <td>8.90</td>\n",
       "      <td>0.21</td>\n",
       "      <td>N</td>\n",
       "      <td>10</td>\n",
       "      <td>0.0</td>\n",
       "    </tr>\n",
       "    <tr>\n",
       "      <th>3</th>\n",
       "      <td>3.0</td>\n",
       "      <td>30</td>\n",
       "      <td>70000</td>\n",
       "      <td>RENT</td>\n",
       "      <td>14.0</td>\n",
       "      <td>VENTURE</td>\n",
       "      <td>B</td>\n",
       "      <td>12000</td>\n",
       "      <td>11.11</td>\n",
       "      <td>0.17</td>\n",
       "      <td>N</td>\n",
       "      <td>5</td>\n",
       "      <td>0.0</td>\n",
       "    </tr>\n",
       "    <tr>\n",
       "      <th>4</th>\n",
       "      <td>4.0</td>\n",
       "      <td>22</td>\n",
       "      <td>60000</td>\n",
       "      <td>RENT</td>\n",
       "      <td>2.0</td>\n",
       "      <td>MEDICAL</td>\n",
       "      <td>A</td>\n",
       "      <td>6000</td>\n",
       "      <td>6.92</td>\n",
       "      <td>0.10</td>\n",
       "      <td>N</td>\n",
       "      <td>3</td>\n",
       "      <td>0.0</td>\n",
       "    </tr>\n",
       "    <tr>\n",
       "      <th>...</th>\n",
       "      <td>...</td>\n",
       "      <td>...</td>\n",
       "      <td>...</td>\n",
       "      <td>...</td>\n",
       "      <td>...</td>\n",
       "      <td>...</td>\n",
       "      <td>...</td>\n",
       "      <td>...</td>\n",
       "      <td>...</td>\n",
       "      <td>...</td>\n",
       "      <td>...</td>\n",
       "      <td>...</td>\n",
       "      <td>...</td>\n",
       "    </tr>\n",
       "    <tr>\n",
       "      <th>130319</th>\n",
       "      <td>NaN</td>\n",
       "      <td>57</td>\n",
       "      <td>53000</td>\n",
       "      <td>MORTGAGE</td>\n",
       "      <td>1.0</td>\n",
       "      <td>PERSONAL</td>\n",
       "      <td>C</td>\n",
       "      <td>5800</td>\n",
       "      <td>13.16</td>\n",
       "      <td>0.11</td>\n",
       "      <td>N</td>\n",
       "      <td>30</td>\n",
       "      <td>0.0</td>\n",
       "    </tr>\n",
       "    <tr>\n",
       "      <th>130320</th>\n",
       "      <td>NaN</td>\n",
       "      <td>54</td>\n",
       "      <td>120000</td>\n",
       "      <td>MORTGAGE</td>\n",
       "      <td>4.0</td>\n",
       "      <td>PERSONAL</td>\n",
       "      <td>A</td>\n",
       "      <td>17625</td>\n",
       "      <td>7.49</td>\n",
       "      <td>0.15</td>\n",
       "      <td>N</td>\n",
       "      <td>19</td>\n",
       "      <td>0.0</td>\n",
       "    </tr>\n",
       "    <tr>\n",
       "      <th>130321</th>\n",
       "      <td>NaN</td>\n",
       "      <td>65</td>\n",
       "      <td>76000</td>\n",
       "      <td>RENT</td>\n",
       "      <td>3.0</td>\n",
       "      <td>HOMEIMPROVEMENT</td>\n",
       "      <td>B</td>\n",
       "      <td>35000</td>\n",
       "      <td>10.99</td>\n",
       "      <td>0.46</td>\n",
       "      <td>N</td>\n",
       "      <td>28</td>\n",
       "      <td>1.0</td>\n",
       "    </tr>\n",
       "    <tr>\n",
       "      <th>130322</th>\n",
       "      <td>NaN</td>\n",
       "      <td>56</td>\n",
       "      <td>150000</td>\n",
       "      <td>MORTGAGE</td>\n",
       "      <td>5.0</td>\n",
       "      <td>PERSONAL</td>\n",
       "      <td>B</td>\n",
       "      <td>15000</td>\n",
       "      <td>11.48</td>\n",
       "      <td>0.10</td>\n",
       "      <td>N</td>\n",
       "      <td>26</td>\n",
       "      <td>0.0</td>\n",
       "    </tr>\n",
       "    <tr>\n",
       "      <th>130323</th>\n",
       "      <td>NaN</td>\n",
       "      <td>66</td>\n",
       "      <td>42000</td>\n",
       "      <td>RENT</td>\n",
       "      <td>2.0</td>\n",
       "      <td>MEDICAL</td>\n",
       "      <td>B</td>\n",
       "      <td>6475</td>\n",
       "      <td>9.99</td>\n",
       "      <td>0.15</td>\n",
       "      <td>N</td>\n",
       "      <td>30</td>\n",
       "      <td>0.0</td>\n",
       "    </tr>\n",
       "  </tbody>\n",
       "</table>\n",
       "<p>130324 rows × 13 columns</p>\n",
       "</div>"
      ],
      "text/plain": [
       "         id  person_age  person_income person_home_ownership  \\\n",
       "0       0.0          37          35000                  RENT   \n",
       "1       1.0          22          56000                   OWN   \n",
       "2       2.0          29          28800                   OWN   \n",
       "3       3.0          30          70000                  RENT   \n",
       "4       4.0          22          60000                  RENT   \n",
       "...     ...         ...            ...                   ...   \n",
       "130319  NaN          57          53000              MORTGAGE   \n",
       "130320  NaN          54         120000              MORTGAGE   \n",
       "130321  NaN          65          76000                  RENT   \n",
       "130322  NaN          56         150000              MORTGAGE   \n",
       "130323  NaN          66          42000                  RENT   \n",
       "\n",
       "        person_emp_length      loan_intent loan_grade  loan_amnt  \\\n",
       "0                     0.0        EDUCATION          B       6000   \n",
       "1                     6.0          MEDICAL          C       4000   \n",
       "2                     8.0         PERSONAL          A       6000   \n",
       "3                    14.0          VENTURE          B      12000   \n",
       "4                     2.0          MEDICAL          A       6000   \n",
       "...                   ...              ...        ...        ...   \n",
       "130319                1.0         PERSONAL          C       5800   \n",
       "130320                4.0         PERSONAL          A      17625   \n",
       "130321                3.0  HOMEIMPROVEMENT          B      35000   \n",
       "130322                5.0         PERSONAL          B      15000   \n",
       "130323                2.0          MEDICAL          B       6475   \n",
       "\n",
       "        loan_int_rate  loan_percent_income cb_person_default_on_file  \\\n",
       "0               11.49                 0.17                         N   \n",
       "1               13.35                 0.07                         N   \n",
       "2                8.90                 0.21                         N   \n",
       "3               11.11                 0.17                         N   \n",
       "4                6.92                 0.10                         N   \n",
       "...               ...                  ...                       ...   \n",
       "130319          13.16                 0.11                         N   \n",
       "130320           7.49                 0.15                         N   \n",
       "130321          10.99                 0.46                         N   \n",
       "130322          11.48                 0.10                         N   \n",
       "130323           9.99                 0.15                         N   \n",
       "\n",
       "        cb_person_cred_hist_length  loan_status  \n",
       "0                               14          0.0  \n",
       "1                                2          0.0  \n",
       "2                               10          0.0  \n",
       "3                                5          0.0  \n",
       "4                                3          0.0  \n",
       "...                            ...          ...  \n",
       "130319                          30          0.0  \n",
       "130320                          19          0.0  \n",
       "130321                          28          1.0  \n",
       "130322                          26          0.0  \n",
       "130323                          30          0.0  \n",
       "\n",
       "[130324 rows x 13 columns]"
      ]
     },
     "execution_count": 6,
     "metadata": {},
     "output_type": "execute_result"
    }
   ],
   "source": [
    "concat_df = pd.concat([raw_df, test_df, original_df]).copy().reset_index(drop=True)\n",
    "concat_df"
   ]
  },
  {
   "cell_type": "code",
   "execution_count": 7,
   "id": "f9a360bc",
   "metadata": {
    "execution": {
     "iopub.execute_input": "2024-10-05T14:16:02.995009Z",
     "iopub.status.busy": "2024-10-05T14:16:02.994614Z",
     "iopub.status.idle": "2024-10-05T14:16:03.065897Z",
     "shell.execute_reply": "2024-10-05T14:16:03.065005Z"
    },
    "papermill": {
     "duration": 0.107008,
     "end_time": "2024-10-05T14:16:03.068156",
     "exception": false,
     "start_time": "2024-10-05T14:16:02.961148",
     "status": "completed"
    },
    "tags": []
   },
   "outputs": [
    {
     "data": {
      "text/plain": [
       "id                            32581\n",
       "person_age                        0\n",
       "person_income                     0\n",
       "person_home_ownership             0\n",
       "person_emp_length               895\n",
       "loan_intent                       0\n",
       "loan_grade                        0\n",
       "loan_amnt                         0\n",
       "loan_int_rate                  3116\n",
       "loan_percent_income               0\n",
       "cb_person_default_on_file         0\n",
       "cb_person_cred_hist_length        0\n",
       "loan_status                   39098\n",
       "dtype: int64"
      ]
     },
     "execution_count": 7,
     "metadata": {},
     "output_type": "execute_result"
    }
   ],
   "source": [
    "concat_df.isna().sum()"
   ]
  },
  {
   "cell_type": "code",
   "execution_count": 8,
   "id": "5e418324",
   "metadata": {
    "execution": {
     "iopub.execute_input": "2024-10-05T14:16:03.134354Z",
     "iopub.status.busy": "2024-10-05T14:16:03.133993Z",
     "iopub.status.idle": "2024-10-05T14:16:03.147306Z",
     "shell.execute_reply": "2024-10-05T14:16:03.146516Z"
    },
    "papermill": {
     "duration": 0.048653,
     "end_time": "2024-10-05T14:16:03.149459",
     "exception": false,
     "start_time": "2024-10-05T14:16:03.100806",
     "status": "completed"
    },
    "tags": []
   },
   "outputs": [
    {
     "data": {
      "text/plain": [
       "loan_status\n",
       "0.0    0.830553\n",
       "1.0    0.169447\n",
       "Name: proportion, dtype: float64"
      ]
     },
     "execution_count": 8,
     "metadata": {},
     "output_type": "execute_result"
    }
   ],
   "source": [
    "concat_df['loan_status'].value_counts(normalize=True)"
   ]
  },
  {
   "cell_type": "code",
   "execution_count": 9,
   "id": "fb771713",
   "metadata": {
    "execution": {
     "iopub.execute_input": "2024-10-05T14:16:03.217482Z",
     "iopub.status.busy": "2024-10-05T14:16:03.216593Z",
     "iopub.status.idle": "2024-10-05T14:16:03.234779Z",
     "shell.execute_reply": "2024-10-05T14:16:03.233987Z"
    },
    "papermill": {
     "duration": 0.05382,
     "end_time": "2024-10-05T14:16:03.236684",
     "exception": false,
     "start_time": "2024-10-05T14:16:03.182864",
     "status": "completed"
    },
    "tags": []
   },
   "outputs": [],
   "source": [
    "def view_cat_target_feature_corr(\n",
    "    df: pd.DataFrame,\n",
    "    feature: str,\n",
    "    target: str,\n",
    "    is_numeric: bool=False,\n",
    "    bins: int|list|None=None,\n",
    "    labels: list|None=None\n",
    ") -> pd.DataFrame:\n",
    "    \"\"\"\n",
    "    Xem xét sự phụ thuộc của `df[target]` vào `df[feature]`, trong đó\n",
    "    target là một category, còn feature có thể là dữ liệu numeric hoặc category.\n",
    "    \n",
    "    Parameters\n",
    "    ----------\n",
    "    df: DataFrame\n",
    "        DataFrame để tham chiếu mối quan hệ\n",
    "    feature: str\n",
    "        Tên tính năng để xem xét mối quan hệ với cột đích.\n",
    "    target: str\n",
    "        Tên cột đích (cột cần dự đoán), mang dữ liệu phân loại\n",
    "    is_numeric: bool, default=False\n",
    "        Lựa chọn xem tính năng là numeric hay categorical:\n",
    "        - Nếu là `False`, hàm sẽ đếm tỉ lệ phần trăm của mỗi nhãn đích\n",
    "        trong mỗi nhãn của `feature`.\n",
    "        - Nếu là `True`, hàm sẽ đem feature này phân ra tùy theo\n",
    "        `bins` rồi chuyển về như làm với dữ liệu categorical.\n",
    "    bins: int or list or None, default=None\n",
    "        Số lượng bins để phân chia tính năng thành các dữ liệu categorical:\n",
    "        - Nếu là `int` >= 2, hàm sẽ phân chia chính xác cột này thành `bins` labels.\n",
    "        - Nếu là `list` với len()>=3, hàm sẽ chia cột này thành các phần có các đầu mút là\n",
    "        các phần tử của `list`.\n",
    "        - Nếu là `None`: Nếu feature này là numeric thì chia thành 10 bin, còn \n",
    "        nếu feature này là categorical thì số bin chính là số label. \n",
    "    labels: list or None, default=None\n",
    "        Nếu là list, các label này được đánh lần lượt cho các bin, nếu là None\n",
    "        thì label sẽ được đánh tự động theo thứ tự bin.\n",
    "        \n",
    "    Returns\n",
    "    -------\n",
    "    out_df: DataFrame\n",
    "    Một DataFrame miêu tả mối quan hệ phụ thuộc\n",
    "    \"\"\"\n",
    "    df = df[[feature, target]].copy()\n",
    "    df = df[df[target].isna()==False]\n",
    "    if is_numeric:\n",
    "        if isinstance(bins, int) and bins>=2:\n",
    "            if labels is None:\n",
    "                labels = [i for i in range(bins)]\n",
    "            else:\n",
    "                if len(labels) > bins:\n",
    "                    labels = labels[:bins]\n",
    "                elif len(labels) < bins:\n",
    "                    add_labels = [i for i in range(len(labels), bins)]\n",
    "                    labels += add_labels\n",
    "            df[f'cut_of_{feature}'] = pd.cut(df[feature], bins=bins, labels=labels)\n",
    "        elif isinstance(bins, list) and len(bins)>=3:\n",
    "            num_bins = len(bins) - 1\n",
    "            if labels is None:\n",
    "                labels = [i for i in range(num_bins)]\n",
    "            else:\n",
    "                if len(labels) > num_bins:\n",
    "                    labels = labels[:num_bins]\n",
    "                elif len(labels) < num_bins:\n",
    "                    add_labels = [i for i in range(len(labels), num_bins)]\n",
    "                    labels += add_labels\n",
    "            df[f'cut_of_{feature}'] = pd.cut(df[feature], bins=bins, labels=labels)\n",
    "        else:\n",
    "            num_bins = 10\n",
    "            if labels is None:\n",
    "                labels = [i for i in range(num_bins)]\n",
    "            else:\n",
    "                if len(labels) > num_bins:\n",
    "                    labels = labels[:num_bins]\n",
    "                elif len(labels) < num_bins:\n",
    "                    add_labels = [i for i in range(len(labels), num_bins)]\n",
    "                    labels += add_labels\n",
    "            df[f'cut_of_{feature}'] = pd.cut(df[feature], bins=bins, labels=labels)\n",
    "    else:\n",
    "        df[f'cut_of_{feature}'] = df[feature]\n",
    "    \n",
    "    feature_dict = dict()\n",
    "    total = df[f'cut_of_{feature}'].value_counts()\n",
    "    view_idx = df[target].value_counts().index.tolist()\n",
    "    for idx in view_idx:\n",
    "        label = df[df[target]==idx][f'cut_of_{feature}'].value_counts()\n",
    "        feature_dict[idx] = label/total*100\n",
    "    \n",
    "    out_df = pd.DataFrame(feature_dict, columns=view_idx)\n",
    "    return out_df"
   ]
  },
  {
   "cell_type": "markdown",
   "id": "f380106d",
   "metadata": {
    "papermill": {
     "duration": 0.03249,
     "end_time": "2024-10-05T14:16:03.301383",
     "exception": false,
     "start_time": "2024-10-05T14:16:03.268893",
     "status": "completed"
    },
    "tags": []
   },
   "source": [
    "## EDA, Feature Engineering, Preprocessing"
   ]
  },
  {
   "cell_type": "markdown",
   "id": "0a4010dd",
   "metadata": {
    "papermill": {
     "duration": 0.032153,
     "end_time": "2024-10-05T14:16:03.407272",
     "exception": false,
     "start_time": "2024-10-05T14:16:03.375119",
     "status": "completed"
    },
    "tags": []
   },
   "source": [
    "### Person Age"
   ]
  },
  {
   "cell_type": "code",
   "execution_count": 10,
   "id": "0069819c",
   "metadata": {
    "execution": {
     "iopub.execute_input": "2024-10-05T14:16:03.473864Z",
     "iopub.status.busy": "2024-10-05T14:16:03.473237Z",
     "iopub.status.idle": "2024-10-05T14:16:03.487738Z",
     "shell.execute_reply": "2024-10-05T14:16:03.486858Z"
    },
    "papermill": {
     "duration": 0.049775,
     "end_time": "2024-10-05T14:16:03.489608",
     "exception": false,
     "start_time": "2024-10-05T14:16:03.439833",
     "status": "completed"
    },
    "tags": []
   },
   "outputs": [
    {
     "data": {
      "text/plain": [
       "count    130324.000000\n",
       "mean         27.601570\n",
       "std           6.113756\n",
       "min          20.000000\n",
       "25%          23.000000\n",
       "50%          26.000000\n",
       "75%          30.000000\n",
       "max         144.000000\n",
       "Name: person_age, dtype: float64"
      ]
     },
     "execution_count": 10,
     "metadata": {},
     "output_type": "execute_result"
    }
   ],
   "source": [
    "concat_df['person_age'].describe()"
   ]
  },
  {
   "cell_type": "code",
   "execution_count": 11,
   "id": "69f3b285",
   "metadata": {
    "execution": {
     "iopub.execute_input": "2024-10-05T14:16:03.555666Z",
     "iopub.status.busy": "2024-10-05T14:16:03.555338Z",
     "iopub.status.idle": "2024-10-05T14:16:03.831087Z",
     "shell.execute_reply": "2024-10-05T14:16:03.830109Z"
    },
    "papermill": {
     "duration": 0.31113,
     "end_time": "2024-10-05T14:16:03.833146",
     "exception": false,
     "start_time": "2024-10-05T14:16:03.522016",
     "status": "completed"
    },
    "tags": []
   },
   "outputs": [
    {
     "data": {
      "image/png": "[encoded data removed]",
      "text/plain": [
       "<Figure size 1200x800 with 1 Axes>"
      ]
     },
     "metadata": {},
     "output_type": "display_data"
    }
   ],
   "source": [
    "plt.figure(figsize=(12,8))\n",
    "plt.xlim(0,150)\n",
    "flierprops = dict(marker='o', markerfacecolor='purple', markersize=6,\n",
    "                  linestyle='none', markeredgecolor='black')\n",
    "sns.boxplot(x=concat_df['person_age'], flierprops=flierprops);"
   ]
  },
  {
   "cell_type": "code",
   "execution_count": 12,
   "id": "666bb785",
   "metadata": {
    "execution": {
     "iopub.execute_input": "2024-10-05T14:16:03.901564Z",
     "iopub.status.busy": "2024-10-05T14:16:03.900834Z",
     "iopub.status.idle": "2024-10-05T14:16:03.908693Z",
     "shell.execute_reply": "2024-10-05T14:16:03.907804Z"
    },
    "papermill": {
     "duration": 0.043941,
     "end_time": "2024-10-05T14:16:03.910617",
     "exception": false,
     "start_time": "2024-10-05T14:16:03.866676",
     "status": "completed"
    },
    "tags": []
   },
   "outputs": [],
   "source": [
    "concat_df['person_age'] = concat_df['person_age'].clip(0,90)"
   ]
  },
  {
   "cell_type": "code",
   "execution_count": 13,
   "id": "48df8724",
   "metadata": {
    "execution": {
     "iopub.execute_input": "2024-10-05T14:16:03.977741Z",
     "iopub.status.busy": "2024-10-05T14:16:03.977382Z",
     "iopub.status.idle": "2024-10-05T14:16:04.005916Z",
     "shell.execute_reply": "2024-10-05T14:16:04.004986Z"
    },
    "papermill": {
     "duration": 0.064462,
     "end_time": "2024-10-05T14:16:04.007806",
     "exception": false,
     "start_time": "2024-10-05T14:16:03.943344",
     "status": "completed"
    },
    "tags": []
   },
   "outputs": [
    {
     "data": {
      "text/html": [
       "<div>\n",
       "<style scoped>\n",
       "    .dataframe tbody tr th:only-of-type {\n",
       "        vertical-align: middle;\n",
       "    }\n",
       "\n",
       "    .dataframe tbody tr th {\n",
       "        vertical-align: top;\n",
       "    }\n",
       "\n",
       "    .dataframe thead th {\n",
       "        text-align: right;\n",
       "    }\n",
       "</style>\n",
       "<table border=\"1\" class=\"dataframe\">\n",
       "  <thead>\n",
       "    <tr style=\"text-align: right;\">\n",
       "      <th></th>\n",
       "      <th>0.0</th>\n",
       "      <th>1.0</th>\n",
       "    </tr>\n",
       "    <tr>\n",
       "      <th>cut_of_person_age</th>\n",
       "      <th></th>\n",
       "      <th></th>\n",
       "    </tr>\n",
       "  </thead>\n",
       "  <tbody>\n",
       "    <tr>\n",
       "      <th>0</th>\n",
       "      <td>83.011840</td>\n",
       "      <td>16.988160</td>\n",
       "    </tr>\n",
       "    <tr>\n",
       "      <th>1</th>\n",
       "      <td>83.574219</td>\n",
       "      <td>16.425781</td>\n",
       "    </tr>\n",
       "    <tr>\n",
       "      <th>2</th>\n",
       "      <td>81.141692</td>\n",
       "      <td>18.858308</td>\n",
       "    </tr>\n",
       "    <tr>\n",
       "      <th>3</th>\n",
       "      <td>79.310345</td>\n",
       "      <td>20.689655</td>\n",
       "    </tr>\n",
       "    <tr>\n",
       "      <th>4</th>\n",
       "      <td>84.210526</td>\n",
       "      <td>15.789474</td>\n",
       "    </tr>\n",
       "    <tr>\n",
       "      <th>5</th>\n",
       "      <td>84.615385</td>\n",
       "      <td>15.384615</td>\n",
       "    </tr>\n",
       "  </tbody>\n",
       "</table>\n",
       "</div>"
      ],
      "text/plain": [
       "                         0.0        1.0\n",
       "cut_of_person_age                      \n",
       "0                  83.011840  16.988160\n",
       "1                  83.574219  16.425781\n",
       "2                  81.141692  18.858308\n",
       "3                  79.310345  20.689655\n",
       "4                  84.210526  15.789474\n",
       "5                  84.615385  15.384615"
      ]
     },
     "execution_count": 13,
     "metadata": {},
     "output_type": "execute_result"
    }
   ],
   "source": [
    "view_cat_target_feature_corr(concat_df, 'person_age', 'loan_status', is_numeric=True, bins=6)"
   ]
  },
  {
   "cell_type": "markdown",
   "id": "810fb40c",
   "metadata": {
    "papermill": {
     "duration": 0.032583,
     "end_time": "2024-10-05T14:16:04.073699",
     "exception": false,
     "start_time": "2024-10-05T14:16:04.041116",
     "status": "completed"
    },
    "tags": []
   },
   "source": [
    "### Person income"
   ]
  },
  {
   "cell_type": "code",
   "execution_count": 14,
   "id": "8ab20f7d",
   "metadata": {
    "execution": {
     "iopub.execute_input": "2024-10-05T14:16:04.141322Z",
     "iopub.status.busy": "2024-10-05T14:16:04.140904Z",
     "iopub.status.idle": "2024-10-05T14:16:04.154399Z",
     "shell.execute_reply": "2024-10-05T14:16:04.153488Z"
    },
    "papermill": {
     "duration": 0.049652,
     "end_time": "2024-10-05T14:16:04.156282",
     "exception": false,
     "start_time": "2024-10-05T14:16:04.106630",
     "status": "completed"
    },
    "tags": []
   },
   "outputs": [
    {
     "data": {
      "text/plain": [
       "count    1.303240e+05\n",
       "mean     6.455763e+04\n",
       "std      4.517574e+04\n",
       "min      4.000000e+03\n",
       "25%      4.100000e+04\n",
       "50%      5.718150e+04\n",
       "75%      7.724800e+04\n",
       "max      6.000000e+06\n",
       "Name: person_income, dtype: float64"
      ]
     },
     "execution_count": 14,
     "metadata": {},
     "output_type": "execute_result"
    }
   ],
   "source": [
    "concat_df['person_income'].describe()"
   ]
  },
  {
   "cell_type": "code",
   "execution_count": 15,
   "id": "b8c5a586",
   "metadata": {
    "execution": {
     "iopub.execute_input": "2024-10-05T14:16:04.224918Z",
     "iopub.status.busy": "2024-10-05T14:16:04.224290Z",
     "iopub.status.idle": "2024-10-05T14:16:04.405671Z",
     "shell.execute_reply": "2024-10-05T14:16:04.404751Z"
    },
    "papermill": {
     "duration": 0.218582,
     "end_time": "2024-10-05T14:16:04.407882",
     "exception": false,
     "start_time": "2024-10-05T14:16:04.189300",
     "status": "completed"
    },
    "tags": []
   },
   "outputs": [
    {
     "data": {
      "image/png": "[encoded data removed]",
      "text/plain": [
       "<Figure size 1200x800 with 1 Axes>"
      ]
     },
     "metadata": {},
     "output_type": "display_data"
    }
   ],
   "source": [
    "plt.figure(figsize=(12,8))\n",
    "plt.xlim(3000,6e6+3000)\n",
    "flierprops = dict(marker='o', markerfacecolor='purple', markersize=6,\n",
    "                  linestyle='none', markeredgecolor='black')\n",
    "sns.boxplot(x=concat_df['person_income'], flierprops=flierprops);"
   ]
  },
  {
   "cell_type": "code",
   "execution_count": 16,
   "id": "0d886ea7",
   "metadata": {
    "execution": {
     "iopub.execute_input": "2024-10-05T14:16:04.476784Z",
     "iopub.status.busy": "2024-10-05T14:16:04.476406Z",
     "iopub.status.idle": "2024-10-05T14:16:04.484284Z",
     "shell.execute_reply": "2024-10-05T14:16:04.483538Z"
    },
    "papermill": {
     "duration": 0.044524,
     "end_time": "2024-10-05T14:16:04.486116",
     "exception": false,
     "start_time": "2024-10-05T14:16:04.441592",
     "status": "completed"
    },
    "tags": []
   },
   "outputs": [],
   "source": [
    "concat_df['person_income'] = concat_df['person_income'].clip(0,7e5)"
   ]
  },
  {
   "cell_type": "code",
   "execution_count": 17,
   "id": "19fce5f5",
   "metadata": {
    "execution": {
     "iopub.execute_input": "2024-10-05T14:16:04.555382Z",
     "iopub.status.busy": "2024-10-05T14:16:04.554775Z",
     "iopub.status.idle": "2024-10-05T14:16:04.584858Z",
     "shell.execute_reply": "2024-10-05T14:16:04.583922Z"
    },
    "papermill": {
     "duration": 0.066705,
     "end_time": "2024-10-05T14:16:04.586946",
     "exception": false,
     "start_time": "2024-10-05T14:16:04.520241",
     "status": "completed"
    },
    "tags": []
   },
   "outputs": [
    {
     "data": {
      "text/html": [
       "<div>\n",
       "<style scoped>\n",
       "    .dataframe tbody tr th:only-of-type {\n",
       "        vertical-align: middle;\n",
       "    }\n",
       "\n",
       "    .dataframe tbody tr th {\n",
       "        vertical-align: top;\n",
       "    }\n",
       "\n",
       "    .dataframe thead th {\n",
       "        text-align: right;\n",
       "    }\n",
       "</style>\n",
       "<table border=\"1\" class=\"dataframe\">\n",
       "  <thead>\n",
       "    <tr style=\"text-align: right;\">\n",
       "      <th></th>\n",
       "      <th>0.0</th>\n",
       "      <th>1.0</th>\n",
       "    </tr>\n",
       "    <tr>\n",
       "      <th>cut_of_person_income</th>\n",
       "      <th></th>\n",
       "      <th></th>\n",
       "    </tr>\n",
       "  </thead>\n",
       "  <tbody>\n",
       "    <tr>\n",
       "      <th>0</th>\n",
       "      <td>78.216359</td>\n",
       "      <td>21.783641</td>\n",
       "    </tr>\n",
       "    <tr>\n",
       "      <th>1</th>\n",
       "      <td>91.639419</td>\n",
       "      <td>8.360581</td>\n",
       "    </tr>\n",
       "    <tr>\n",
       "      <th>2</th>\n",
       "      <td>93.730939</td>\n",
       "      <td>6.269061</td>\n",
       "    </tr>\n",
       "    <tr>\n",
       "      <th>3</th>\n",
       "      <td>93.707483</td>\n",
       "      <td>6.292517</td>\n",
       "    </tr>\n",
       "    <tr>\n",
       "      <th>4</th>\n",
       "      <td>91.275168</td>\n",
       "      <td>8.724832</td>\n",
       "    </tr>\n",
       "    <tr>\n",
       "      <th>5</th>\n",
       "      <td>94.545455</td>\n",
       "      <td>5.454545</td>\n",
       "    </tr>\n",
       "    <tr>\n",
       "      <th>6</th>\n",
       "      <td>89.655172</td>\n",
       "      <td>10.344828</td>\n",
       "    </tr>\n",
       "    <tr>\n",
       "      <th>7</th>\n",
       "      <td>92.857143</td>\n",
       "      <td>7.142857</td>\n",
       "    </tr>\n",
       "    <tr>\n",
       "      <th>8</th>\n",
       "      <td>91.666667</td>\n",
       "      <td>8.333333</td>\n",
       "    </tr>\n",
       "    <tr>\n",
       "      <th>9</th>\n",
       "      <td>78.571429</td>\n",
       "      <td>21.428571</td>\n",
       "    </tr>\n",
       "    <tr>\n",
       "      <th>10</th>\n",
       "      <td>96.363636</td>\n",
       "      <td>3.636364</td>\n",
       "    </tr>\n",
       "  </tbody>\n",
       "</table>\n",
       "</div>"
      ],
      "text/plain": [
       "                            0.0        1.0\n",
       "cut_of_person_income                      \n",
       "0                     78.216359  21.783641\n",
       "1                     91.639419   8.360581\n",
       "2                     93.730939   6.269061\n",
       "3                     93.707483   6.292517\n",
       "4                     91.275168   8.724832\n",
       "5                     94.545455   5.454545\n",
       "6                     89.655172  10.344828\n",
       "7                     92.857143   7.142857\n",
       "8                     91.666667   8.333333\n",
       "9                     78.571429  21.428571\n",
       "10                    96.363636   3.636364"
      ]
     },
     "execution_count": 17,
     "metadata": {},
     "output_type": "execute_result"
    }
   ],
   "source": [
    "view_cat_target_feature_corr(concat_df, 'person_income', 'loan_status', is_numeric=True, bins=11)"
   ]
  },
  {
   "cell_type": "markdown",
   "id": "90a73988",
   "metadata": {
    "papermill": {
     "duration": 0.033524,
     "end_time": "2024-10-05T14:16:04.654189",
     "exception": false,
     "start_time": "2024-10-05T14:16:04.620665",
     "status": "completed"
    },
    "tags": []
   },
   "source": [
    "### Person Home Ownership"
   ]
  },
  {
   "cell_type": "code",
   "execution_count": 18,
   "id": "17e0390e",
   "metadata": {
    "execution": {
     "iopub.execute_input": "2024-10-05T14:16:04.743849Z",
     "iopub.status.busy": "2024-10-05T14:16:04.743419Z",
     "iopub.status.idle": "2024-10-05T14:16:04.769740Z",
     "shell.execute_reply": "2024-10-05T14:16:04.768816Z"
    },
    "papermill": {
     "duration": 0.076383,
     "end_time": "2024-10-05T14:16:04.772361",
     "exception": false,
     "start_time": "2024-10-05T14:16:04.695978",
     "status": "completed"
    },
    "tags": []
   },
   "outputs": [
    {
     "data": {
      "text/plain": [
       "person_home_ownership\n",
       "RENT        67320\n",
       "MORTGAGE    54951\n",
       "OWN          7778\n",
       "OTHER         275\n",
       "Name: count, dtype: int64"
      ]
     },
     "execution_count": 18,
     "metadata": {},
     "output_type": "execute_result"
    }
   ],
   "source": [
    "concat_df['person_home_ownership'].value_counts()"
   ]
  },
  {
   "cell_type": "code",
   "execution_count": 19,
   "id": "b0dc16aa",
   "metadata": {
    "execution": {
     "iopub.execute_input": "2024-10-05T14:16:04.855615Z",
     "iopub.status.busy": "2024-10-05T14:16:04.854622Z",
     "iopub.status.idle": "2024-10-05T14:16:04.912816Z",
     "shell.execute_reply": "2024-10-05T14:16:04.911760Z"
    },
    "papermill": {
     "duration": 0.103641,
     "end_time": "2024-10-05T14:16:04.915084",
     "exception": false,
     "start_time": "2024-10-05T14:16:04.811443",
     "status": "completed"
    },
    "tags": []
   },
   "outputs": [
    {
     "data": {
      "text/html": [
       "<div>\n",
       "<style scoped>\n",
       "    .dataframe tbody tr th:only-of-type {\n",
       "        vertical-align: middle;\n",
       "    }\n",
       "\n",
       "    .dataframe tbody tr th {\n",
       "        vertical-align: top;\n",
       "    }\n",
       "\n",
       "    .dataframe thead th {\n",
       "        text-align: right;\n",
       "    }\n",
       "</style>\n",
       "<table border=\"1\" class=\"dataframe\">\n",
       "  <thead>\n",
       "    <tr style=\"text-align: right;\">\n",
       "      <th></th>\n",
       "      <th>0.0</th>\n",
       "      <th>1.0</th>\n",
       "    </tr>\n",
       "    <tr>\n",
       "      <th>cut_of_person_home_ownership</th>\n",
       "      <th></th>\n",
       "      <th></th>\n",
       "    </tr>\n",
       "  </thead>\n",
       "  <tbody>\n",
       "    <tr>\n",
       "      <th>MORTGAGE</th>\n",
       "      <td>91.708477</td>\n",
       "      <td>8.291523</td>\n",
       "    </tr>\n",
       "    <tr>\n",
       "      <th>OTHER</th>\n",
       "      <td>75.510204</td>\n",
       "      <td>24.489796</td>\n",
       "    </tr>\n",
       "    <tr>\n",
       "      <th>OWN</th>\n",
       "      <td>95.875568</td>\n",
       "      <td>4.124432</td>\n",
       "    </tr>\n",
       "    <tr>\n",
       "      <th>RENT</th>\n",
       "      <td>74.487670</td>\n",
       "      <td>25.512330</td>\n",
       "    </tr>\n",
       "  </tbody>\n",
       "</table>\n",
       "</div>"
      ],
      "text/plain": [
       "                                    0.0        1.0\n",
       "cut_of_person_home_ownership                      \n",
       "MORTGAGE                      91.708477   8.291523\n",
       "OTHER                         75.510204  24.489796\n",
       "OWN                           95.875568   4.124432\n",
       "RENT                          74.487670  25.512330"
      ]
     },
     "execution_count": 19,
     "metadata": {},
     "output_type": "execute_result"
    }
   ],
   "source": [
    "view_cat_target_feature_corr(concat_df, 'person_home_ownership', 'loan_status')"
   ]
  },
  {
   "cell_type": "code",
   "execution_count": 20,
   "id": "a0cca396",
   "metadata": {
    "execution": {
     "iopub.execute_input": "2024-10-05T14:16:04.997346Z",
     "iopub.status.busy": "2024-10-05T14:16:04.996357Z",
     "iopub.status.idle": "2024-10-05T14:16:05.020365Z",
     "shell.execute_reply": "2024-10-05T14:16:05.019492Z"
    },
    "papermill": {
     "duration": 0.070388,
     "end_time": "2024-10-05T14:16:05.022358",
     "exception": false,
     "start_time": "2024-10-05T14:16:04.951970",
     "status": "completed"
    },
    "tags": []
   },
   "outputs": [],
   "source": [
    "concat_df['person_home_ownership'] = concat_df['person_home_ownership'].map({\n",
    "    'OWN': 1,\n",
    "    'MORTGAGE': 2,\n",
    "    'OTHER': 3,\n",
    "    'RENT': 4\n",
    "})"
   ]
  },
  {
   "cell_type": "markdown",
   "id": "f84a277c",
   "metadata": {
    "papermill": {
     "duration": 0.034423,
     "end_time": "2024-10-05T14:16:05.091659",
     "exception": false,
     "start_time": "2024-10-05T14:16:05.057236",
     "status": "completed"
    },
    "tags": []
   },
   "source": [
    "### Person Emp Length"
   ]
  },
  {
   "cell_type": "code",
   "execution_count": 21,
   "id": "ba15ff09",
   "metadata": {
    "execution": {
     "iopub.execute_input": "2024-10-05T14:16:05.176756Z",
     "iopub.status.busy": "2024-10-05T14:16:05.175839Z",
     "iopub.status.idle": "2024-10-05T14:16:05.191421Z",
     "shell.execute_reply": "2024-10-05T14:16:05.190397Z"
    },
    "papermill": {
     "duration": 0.065089,
     "end_time": "2024-10-05T14:16:05.193627",
     "exception": false,
     "start_time": "2024-10-05T14:16:05.128538",
     "status": "completed"
    },
    "tags": []
   },
   "outputs": [
    {
     "data": {
      "text/plain": [
       "count    129429.000000\n",
       "mean          4.718510\n",
       "std           3.978429\n",
       "min           0.000000\n",
       "25%           2.000000\n",
       "50%           4.000000\n",
       "75%           7.000000\n",
       "max         123.000000\n",
       "Name: person_emp_length, dtype: float64"
      ]
     },
     "execution_count": 21,
     "metadata": {},
     "output_type": "execute_result"
    }
   ],
   "source": [
    "concat_df['person_emp_length'].describe()"
   ]
  },
  {
   "cell_type": "code",
   "execution_count": 22,
   "id": "2db7b926",
   "metadata": {
    "execution": {
     "iopub.execute_input": "2024-10-05T14:16:05.270498Z",
     "iopub.status.busy": "2024-10-05T14:16:05.270101Z",
     "iopub.status.idle": "2024-10-05T14:16:05.516639Z",
     "shell.execute_reply": "2024-10-05T14:16:05.515615Z"
    },
    "papermill": {
     "duration": 0.286209,
     "end_time": "2024-10-05T14:16:05.518797",
     "exception": false,
     "start_time": "2024-10-05T14:16:05.232588",
     "status": "completed"
    },
    "tags": []
   },
   "outputs": [
    {
     "data": {
      "image/png": "[encoded data removed]",
      "text/plain": [
       "<Figure size 1200x800 with 1 Axes>"
      ]
     },
     "metadata": {},
     "output_type": "display_data"
    }
   ],
   "source": [
    "plt.figure(figsize=(12,8))\n",
    "plt.xlim(-10,130)\n",
    "flierprops = dict(marker='o', markerfacecolor='purple', markersize=6,\n",
    "                  linestyle='none', markeredgecolor='black')\n",
    "sns.boxplot(x=concat_df['person_emp_length'], flierprops=flierprops);"
   ]
  },
  {
   "cell_type": "code",
   "execution_count": 23,
   "id": "50525bd7",
   "metadata": {
    "execution": {
     "iopub.execute_input": "2024-10-05T14:16:05.591027Z",
     "iopub.status.busy": "2024-10-05T14:16:05.590101Z",
     "iopub.status.idle": "2024-10-05T14:16:05.598568Z",
     "shell.execute_reply": "2024-10-05T14:16:05.597708Z"
    },
    "papermill": {
     "duration": 0.046497,
     "end_time": "2024-10-05T14:16:05.600507",
     "exception": false,
     "start_time": "2024-10-05T14:16:05.554010",
     "status": "completed"
    },
    "tags": []
   },
   "outputs": [],
   "source": [
    "concat_df['person_emp_length'] = concat_df['person_emp_length'].clip(0,25)"
   ]
  },
  {
   "cell_type": "code",
   "execution_count": 24,
   "id": "45b35444",
   "metadata": {
    "execution": {
     "iopub.execute_input": "2024-10-05T14:16:05.671719Z",
     "iopub.status.busy": "2024-10-05T14:16:05.671352Z",
     "iopub.status.idle": "2024-10-05T14:16:05.678630Z",
     "shell.execute_reply": "2024-10-05T14:16:05.677653Z"
    },
    "papermill": {
     "duration": 0.045355,
     "end_time": "2024-10-05T14:16:05.681116",
     "exception": false,
     "start_time": "2024-10-05T14:16:05.635761",
     "status": "completed"
    },
    "tags": []
   },
   "outputs": [],
   "source": [
    "mean = concat_df['person_emp_length'].mean()\n",
    "concat_df.fillna({'person_emp_length': mean}, inplace=True)"
   ]
  },
  {
   "cell_type": "code",
   "execution_count": 25,
   "id": "ef9d394d",
   "metadata": {
    "execution": {
     "iopub.execute_input": "2024-10-05T14:16:05.759246Z",
     "iopub.status.busy": "2024-10-05T14:16:05.758267Z",
     "iopub.status.idle": "2024-10-05T14:16:05.788801Z",
     "shell.execute_reply": "2024-10-05T14:16:05.787870Z"
    },
    "papermill": {
     "duration": 0.069333,
     "end_time": "2024-10-05T14:16:05.791210",
     "exception": false,
     "start_time": "2024-10-05T14:16:05.721877",
     "status": "completed"
    },
    "tags": []
   },
   "outputs": [
    {
     "data": {
      "text/html": [
       "<div>\n",
       "<style scoped>\n",
       "    .dataframe tbody tr th:only-of-type {\n",
       "        vertical-align: middle;\n",
       "    }\n",
       "\n",
       "    .dataframe tbody tr th {\n",
       "        vertical-align: top;\n",
       "    }\n",
       "\n",
       "    .dataframe thead th {\n",
       "        text-align: right;\n",
       "    }\n",
       "</style>\n",
       "<table border=\"1\" class=\"dataframe\">\n",
       "  <thead>\n",
       "    <tr style=\"text-align: right;\">\n",
       "      <th></th>\n",
       "      <th>0.0</th>\n",
       "      <th>1.0</th>\n",
       "    </tr>\n",
       "    <tr>\n",
       "      <th>cut_of_person_emp_length</th>\n",
       "      <th></th>\n",
       "      <th></th>\n",
       "    </tr>\n",
       "  </thead>\n",
       "  <tbody>\n",
       "    <tr>\n",
       "      <th>0</th>\n",
       "      <td>79.958938</td>\n",
       "      <td>20.041062</td>\n",
       "    </tr>\n",
       "    <tr>\n",
       "      <th>1</th>\n",
       "      <td>86.073678</td>\n",
       "      <td>13.926322</td>\n",
       "    </tr>\n",
       "    <tr>\n",
       "      <th>2</th>\n",
       "      <td>87.767781</td>\n",
       "      <td>12.232219</td>\n",
       "    </tr>\n",
       "    <tr>\n",
       "      <th>3</th>\n",
       "      <td>89.462164</td>\n",
       "      <td>10.537836</td>\n",
       "    </tr>\n",
       "    <tr>\n",
       "      <th>4</th>\n",
       "      <td>86.825596</td>\n",
       "      <td>13.174404</td>\n",
       "    </tr>\n",
       "    <tr>\n",
       "      <th>5</th>\n",
       "      <td>79.642857</td>\n",
       "      <td>20.357143</td>\n",
       "    </tr>\n",
       "  </tbody>\n",
       "</table>\n",
       "</div>"
      ],
      "text/plain": [
       "                                0.0        1.0\n",
       "cut_of_person_emp_length                      \n",
       "0                         79.958938  20.041062\n",
       "1                         86.073678  13.926322\n",
       "2                         87.767781  12.232219\n",
       "3                         89.462164  10.537836\n",
       "4                         86.825596  13.174404\n",
       "5                         79.642857  20.357143"
      ]
     },
     "execution_count": 25,
     "metadata": {},
     "output_type": "execute_result"
    }
   ],
   "source": [
    "view_cat_target_feature_corr(concat_df, 'person_emp_length', 'loan_status', is_numeric=True, bins=6)"
   ]
  },
  {
   "cell_type": "markdown",
   "id": "8d089519",
   "metadata": {
    "papermill": {
     "duration": 0.034806,
     "end_time": "2024-10-05T14:16:05.865648",
     "exception": false,
     "start_time": "2024-10-05T14:16:05.830842",
     "status": "completed"
    },
    "tags": []
   },
   "source": [
    "### Loan intent"
   ]
  },
  {
   "cell_type": "code",
   "execution_count": 26,
   "id": "740b1b56",
   "metadata": {
    "execution": {
     "iopub.execute_input": "2024-10-05T14:16:05.938059Z",
     "iopub.status.busy": "2024-10-05T14:16:05.937234Z",
     "iopub.status.idle": "2024-10-05T14:16:05.968399Z",
     "shell.execute_reply": "2024-10-05T14:16:05.967505Z"
    },
    "papermill": {
     "duration": 0.069604,
     "end_time": "2024-10-05T14:16:05.970718",
     "exception": false,
     "start_time": "2024-10-05T14:16:05.901114",
     "status": "completed"
    },
    "tags": []
   },
   "outputs": [
    {
     "data": {
      "text/plain": [
       "loan_intent\n",
       "EDUCATION            26800\n",
       "MEDICAL              24452\n",
       "VENTURE              22362\n",
       "PERSONAL             22352\n",
       "DEBTCONSOLIDATION    20260\n",
       "HOMEIMPROVEMENT      14098\n",
       "Name: count, dtype: int64"
      ]
     },
     "execution_count": 26,
     "metadata": {},
     "output_type": "execute_result"
    }
   ],
   "source": [
    "concat_df['loan_intent'].value_counts()"
   ]
  },
  {
   "cell_type": "code",
   "execution_count": 27,
   "id": "f849ac55",
   "metadata": {
    "execution": {
     "iopub.execute_input": "2024-10-05T14:16:06.047849Z",
     "iopub.status.busy": "2024-10-05T14:16:06.046927Z",
     "iopub.status.idle": "2024-10-05T14:16:06.105150Z",
     "shell.execute_reply": "2024-10-05T14:16:06.104189Z"
    },
    "papermill": {
     "duration": 0.09678,
     "end_time": "2024-10-05T14:16:06.107299",
     "exception": false,
     "start_time": "2024-10-05T14:16:06.010519",
     "status": "completed"
    },
    "tags": []
   },
   "outputs": [
    {
     "data": {
      "text/html": [
       "<div>\n",
       "<style scoped>\n",
       "    .dataframe tbody tr th:only-of-type {\n",
       "        vertical-align: middle;\n",
       "    }\n",
       "\n",
       "    .dataframe tbody tr th {\n",
       "        vertical-align: top;\n",
       "    }\n",
       "\n",
       "    .dataframe thead th {\n",
       "        text-align: right;\n",
       "    }\n",
       "</style>\n",
       "<table border=\"1\" class=\"dataframe\">\n",
       "  <thead>\n",
       "    <tr style=\"text-align: right;\">\n",
       "      <th></th>\n",
       "      <th>0.0</th>\n",
       "      <th>1.0</th>\n",
       "    </tr>\n",
       "    <tr>\n",
       "      <th>cut_of_loan_intent</th>\n",
       "      <th></th>\n",
       "      <th></th>\n",
       "    </tr>\n",
       "  </thead>\n",
       "  <tbody>\n",
       "    <tr>\n",
       "      <th>DEBTCONSOLIDATION</th>\n",
       "      <td>77.560125</td>\n",
       "      <td>22.439875</td>\n",
       "    </tr>\n",
       "    <tr>\n",
       "      <th>EDUCATION</th>\n",
       "      <td>87.005982</td>\n",
       "      <td>12.994018</td>\n",
       "    </tr>\n",
       "    <tr>\n",
       "      <th>HOMEIMPROVEMENT</th>\n",
       "      <td>79.443601</td>\n",
       "      <td>20.556399</td>\n",
       "    </tr>\n",
       "    <tr>\n",
       "      <th>MEDICAL</th>\n",
       "      <td>79.006175</td>\n",
       "      <td>20.993825</td>\n",
       "    </tr>\n",
       "    <tr>\n",
       "      <th>PERSONAL</th>\n",
       "      <td>84.372788</td>\n",
       "      <td>15.627212</td>\n",
       "    </tr>\n",
       "    <tr>\n",
       "      <th>VENTURE</th>\n",
       "      <td>88.709472</td>\n",
       "      <td>11.290528</td>\n",
       "    </tr>\n",
       "  </tbody>\n",
       "</table>\n",
       "</div>"
      ],
      "text/plain": [
       "                          0.0        1.0\n",
       "cut_of_loan_intent                      \n",
       "DEBTCONSOLIDATION   77.560125  22.439875\n",
       "EDUCATION           87.005982  12.994018\n",
       "HOMEIMPROVEMENT     79.443601  20.556399\n",
       "MEDICAL             79.006175  20.993825\n",
       "PERSONAL            84.372788  15.627212\n",
       "VENTURE             88.709472  11.290528"
      ]
     },
     "execution_count": 27,
     "metadata": {},
     "output_type": "execute_result"
    }
   ],
   "source": [
    "view_cat_target_feature_corr(concat_df, 'loan_intent', 'loan_status')"
   ]
  },
  {
   "cell_type": "code",
   "execution_count": 28,
   "id": "e2309f19",
   "metadata": {
    "execution": {
     "iopub.execute_input": "2024-10-05T14:16:06.179201Z",
     "iopub.status.busy": "2024-10-05T14:16:06.178529Z",
     "iopub.status.idle": "2024-10-05T14:16:06.199929Z",
     "shell.execute_reply": "2024-10-05T14:16:06.199004Z"
    },
    "papermill": {
     "duration": 0.059467,
     "end_time": "2024-10-05T14:16:06.202097",
     "exception": false,
     "start_time": "2024-10-05T14:16:06.142630",
     "status": "completed"
    },
    "tags": []
   },
   "outputs": [],
   "source": [
    "concat_df['loan_intent'] = concat_df['loan_intent'].map({\n",
    "    'VENTURE': 1,\n",
    "    'EDUCATION': 2,\n",
    "    'PERSONAL': 3,\n",
    "    'HOMEIMPROVEMENT': 4,\n",
    "    'MEDICAL': 5,\n",
    "    'DEBTCONSOLIDATION': 6\n",
    "})"
   ]
  },
  {
   "cell_type": "markdown",
   "id": "a3471a58",
   "metadata": {
    "papermill": {
     "duration": 0.034775,
     "end_time": "2024-10-05T14:16:06.275300",
     "exception": false,
     "start_time": "2024-10-05T14:16:06.240525",
     "status": "completed"
    },
    "tags": []
   },
   "source": [
    "### Loan Grade"
   ]
  },
  {
   "cell_type": "code",
   "execution_count": 29,
   "id": "aae619e5",
   "metadata": {
    "execution": {
     "iopub.execute_input": "2024-10-05T14:16:06.347418Z",
     "iopub.status.busy": "2024-10-05T14:16:06.346593Z",
     "iopub.status.idle": "2024-10-05T14:16:06.370381Z",
     "shell.execute_reply": "2024-10-05T14:16:06.369384Z"
    },
    "papermill": {
     "duration": 0.061887,
     "end_time": "2024-10-05T14:16:06.372338",
     "exception": false,
     "start_time": "2024-10-05T14:16:06.310451",
     "status": "completed"
    },
    "tags": []
   },
   "outputs": [
    {
     "data": {
      "text/plain": [
       "loan_grade\n",
       "A    45766\n",
       "B    44455\n",
       "C    24954\n",
       "D    11929\n",
       "E     2610\n",
       "F      495\n",
       "G      115\n",
       "Name: count, dtype: int64"
      ]
     },
     "execution_count": 29,
     "metadata": {},
     "output_type": "execute_result"
    }
   ],
   "source": [
    "concat_df['loan_grade'].value_counts()"
   ]
  },
  {
   "cell_type": "code",
   "execution_count": 30,
   "id": "141c1b3a",
   "metadata": {
    "execution": {
     "iopub.execute_input": "2024-10-05T14:16:06.444491Z",
     "iopub.status.busy": "2024-10-05T14:16:06.444117Z",
     "iopub.status.idle": "2024-10-05T14:16:06.492876Z",
     "shell.execute_reply": "2024-10-05T14:16:06.491905Z"
    },
    "papermill": {
     "duration": 0.086806,
     "end_time": "2024-10-05T14:16:06.494851",
     "exception": false,
     "start_time": "2024-10-05T14:16:06.408045",
     "status": "completed"
    },
    "tags": []
   },
   "outputs": [
    {
     "data": {
      "text/html": [
       "<div>\n",
       "<style scoped>\n",
       "    .dataframe tbody tr th:only-of-type {\n",
       "        vertical-align: middle;\n",
       "    }\n",
       "\n",
       "    .dataframe tbody tr th {\n",
       "        vertical-align: top;\n",
       "    }\n",
       "\n",
       "    .dataframe thead th {\n",
       "        text-align: right;\n",
       "    }\n",
       "</style>\n",
       "<table border=\"1\" class=\"dataframe\">\n",
       "  <thead>\n",
       "    <tr style=\"text-align: right;\">\n",
       "      <th></th>\n",
       "      <th>0.0</th>\n",
       "      <th>1.0</th>\n",
       "    </tr>\n",
       "    <tr>\n",
       "      <th>cut_of_loan_grade</th>\n",
       "      <th></th>\n",
       "      <th></th>\n",
       "    </tr>\n",
       "  </thead>\n",
       "  <tbody>\n",
       "    <tr>\n",
       "      <th>A</th>\n",
       "      <td>93.372375</td>\n",
       "      <td>6.627625</td>\n",
       "    </tr>\n",
       "    <tr>\n",
       "      <th>B</th>\n",
       "      <td>87.721630</td>\n",
       "      <td>12.278370</td>\n",
       "    </tr>\n",
       "    <tr>\n",
       "      <th>C</th>\n",
       "      <td>83.805876</td>\n",
       "      <td>16.194124</td>\n",
       "    </tr>\n",
       "    <tr>\n",
       "      <th>D</th>\n",
       "      <td>40.773672</td>\n",
       "      <td>59.226328</td>\n",
       "    </tr>\n",
       "    <tr>\n",
       "      <th>E</th>\n",
       "      <td>36.543335</td>\n",
       "      <td>63.456665</td>\n",
       "    </tr>\n",
       "    <tr>\n",
       "      <th>F</th>\n",
       "      <td>33.076923</td>\n",
       "      <td>66.923077</td>\n",
       "    </tr>\n",
       "    <tr>\n",
       "      <th>G</th>\n",
       "      <td>7.216495</td>\n",
       "      <td>92.783505</td>\n",
       "    </tr>\n",
       "  </tbody>\n",
       "</table>\n",
       "</div>"
      ],
      "text/plain": [
       "                         0.0        1.0\n",
       "cut_of_loan_grade                      \n",
       "A                  93.372375   6.627625\n",
       "B                  87.721630  12.278370\n",
       "C                  83.805876  16.194124\n",
       "D                  40.773672  59.226328\n",
       "E                  36.543335  63.456665\n",
       "F                  33.076923  66.923077\n",
       "G                   7.216495  92.783505"
      ]
     },
     "execution_count": 30,
     "metadata": {},
     "output_type": "execute_result"
    }
   ],
   "source": [
    "view_cat_target_feature_corr(concat_df, 'loan_grade', 'loan_status')"
   ]
  },
  {
   "cell_type": "code",
   "execution_count": 31,
   "id": "1ffc3c4b",
   "metadata": {
    "execution": {
     "iopub.execute_input": "2024-10-05T14:16:06.566942Z",
     "iopub.status.busy": "2024-10-05T14:16:06.566596Z",
     "iopub.status.idle": "2024-10-05T14:16:06.578971Z",
     "shell.execute_reply": "2024-10-05T14:16:06.578183Z"
    },
    "papermill": {
     "duration": 0.050799,
     "end_time": "2024-10-05T14:16:06.580927",
     "exception": false,
     "start_time": "2024-10-05T14:16:06.530128",
     "status": "completed"
    },
    "tags": []
   },
   "outputs": [],
   "source": [
    "concat_df['loan_grade'] = concat_df['loan_grade'].map({\n",
    "    'A': 1, 'B': 2, 'C': 3, 'D': 4, 'E': 5, 'F': 6, 'G': 7\n",
    "})"
   ]
  },
  {
   "cell_type": "markdown",
   "id": "36959092",
   "metadata": {
    "papermill": {
     "duration": 0.034708,
     "end_time": "2024-10-05T14:16:06.652102",
     "exception": false,
     "start_time": "2024-10-05T14:16:06.617394",
     "status": "completed"
    },
    "tags": []
   },
   "source": [
    "### Loan amnt"
   ]
  },
  {
   "cell_type": "code",
   "execution_count": 32,
   "id": "71403515",
   "metadata": {
    "execution": {
     "iopub.execute_input": "2024-10-05T14:16:06.724034Z",
     "iopub.status.busy": "2024-10-05T14:16:06.723384Z",
     "iopub.status.idle": "2024-10-05T14:16:06.736273Z",
     "shell.execute_reply": "2024-10-05T14:16:06.735270Z"
    },
    "papermill": {
     "duration": 0.051858,
     "end_time": "2024-10-05T14:16:06.738925",
     "exception": false,
     "start_time": "2024-10-05T14:16:06.687067",
     "status": "completed"
    },
    "tags": []
   },
   "outputs": [
    {
     "data": {
      "text/plain": [
       "count    130324.000000\n",
       "mean       9320.683274\n",
       "std        5768.405599\n",
       "min         500.000000\n",
       "25%        5000.000000\n",
       "50%        8000.000000\n",
       "75%       12000.000000\n",
       "max       35000.000000\n",
       "Name: loan_amnt, dtype: float64"
      ]
     },
     "execution_count": 32,
     "metadata": {},
     "output_type": "execute_result"
    }
   ],
   "source": [
    "concat_df['loan_amnt'].describe()"
   ]
  },
  {
   "cell_type": "code",
   "execution_count": 33,
   "id": "8d11ecf0",
   "metadata": {
    "execution": {
     "iopub.execute_input": "2024-10-05T14:16:06.812141Z",
     "iopub.status.busy": "2024-10-05T14:16:06.811776Z",
     "iopub.status.idle": "2024-10-05T14:16:06.999066Z",
     "shell.execute_reply": "2024-10-05T14:16:06.998176Z"
    },
    "papermill": {
     "duration": 0.225697,
     "end_time": "2024-10-05T14:16:07.001283",
     "exception": false,
     "start_time": "2024-10-05T14:16:06.775586",
     "status": "completed"
    },
    "tags": []
   },
   "outputs": [
    {
     "data": {
      "image/png": "[encoded data removed]",
      "text/plain": [
       "<Figure size 1200x800 with 1 Axes>"
      ]
     },
     "metadata": {},
     "output_type": "display_data"
    }
   ],
   "source": [
    "plt.figure(figsize=(12,8))\n",
    "plt.xlim(400,36000)\n",
    "flierprops = dict(marker='o', markerfacecolor='purple', markersize=6,\n",
    "                  linestyle='none', markeredgecolor='black')\n",
    "sns.boxplot(x=concat_df['loan_amnt'], flierprops=flierprops);"
   ]
  },
  {
   "cell_type": "code",
   "execution_count": 34,
   "id": "9619e3d5",
   "metadata": {
    "execution": {
     "iopub.execute_input": "2024-10-05T14:16:07.074063Z",
     "iopub.status.busy": "2024-10-05T14:16:07.073721Z",
     "iopub.status.idle": "2024-10-05T14:16:07.101065Z",
     "shell.execute_reply": "2024-10-05T14:16:07.100155Z"
    },
    "papermill": {
     "duration": 0.066103,
     "end_time": "2024-10-05T14:16:07.103242",
     "exception": false,
     "start_time": "2024-10-05T14:16:07.037139",
     "status": "completed"
    },
    "tags": []
   },
   "outputs": [
    {
     "data": {
      "text/html": [
       "<div>\n",
       "<style scoped>\n",
       "    .dataframe tbody tr th:only-of-type {\n",
       "        vertical-align: middle;\n",
       "    }\n",
       "\n",
       "    .dataframe tbody tr th {\n",
       "        vertical-align: top;\n",
       "    }\n",
       "\n",
       "    .dataframe thead th {\n",
       "        text-align: right;\n",
       "    }\n",
       "</style>\n",
       "<table border=\"1\" class=\"dataframe\">\n",
       "  <thead>\n",
       "    <tr style=\"text-align: right;\">\n",
       "      <th></th>\n",
       "      <th>0.0</th>\n",
       "      <th>1.0</th>\n",
       "    </tr>\n",
       "    <tr>\n",
       "      <th>cut_of_loan_amnt</th>\n",
       "      <th></th>\n",
       "      <th></th>\n",
       "    </tr>\n",
       "  </thead>\n",
       "  <tbody>\n",
       "    <tr>\n",
       "      <th>0</th>\n",
       "      <td>84.840958</td>\n",
       "      <td>15.159042</td>\n",
       "    </tr>\n",
       "    <tr>\n",
       "      <th>1</th>\n",
       "      <td>87.477511</td>\n",
       "      <td>12.522489</td>\n",
       "    </tr>\n",
       "    <tr>\n",
       "      <th>2</th>\n",
       "      <td>85.428841</td>\n",
       "      <td>14.571159</td>\n",
       "    </tr>\n",
       "    <tr>\n",
       "      <th>3</th>\n",
       "      <td>83.826479</td>\n",
       "      <td>16.173521</td>\n",
       "    </tr>\n",
       "    <tr>\n",
       "      <th>4</th>\n",
       "      <td>76.896855</td>\n",
       "      <td>23.103145</td>\n",
       "    </tr>\n",
       "    <tr>\n",
       "      <th>5</th>\n",
       "      <td>73.273761</td>\n",
       "      <td>26.726239</td>\n",
       "    </tr>\n",
       "    <tr>\n",
       "      <th>6</th>\n",
       "      <td>71.775083</td>\n",
       "      <td>28.224917</td>\n",
       "    </tr>\n",
       "    <tr>\n",
       "      <th>7</th>\n",
       "      <td>67.043189</td>\n",
       "      <td>32.956811</td>\n",
       "    </tr>\n",
       "    <tr>\n",
       "      <th>8</th>\n",
       "      <td>71.739130</td>\n",
       "      <td>28.260870</td>\n",
       "    </tr>\n",
       "    <tr>\n",
       "      <th>9</th>\n",
       "      <td>64.197531</td>\n",
       "      <td>35.802469</td>\n",
       "    </tr>\n",
       "    <tr>\n",
       "      <th>10</th>\n",
       "      <td>68.750000</td>\n",
       "      <td>31.250000</td>\n",
       "    </tr>\n",
       "  </tbody>\n",
       "</table>\n",
       "</div>"
      ],
      "text/plain": [
       "                        0.0        1.0\n",
       "cut_of_loan_amnt                      \n",
       "0                 84.840958  15.159042\n",
       "1                 87.477511  12.522489\n",
       "2                 85.428841  14.571159\n",
       "3                 83.826479  16.173521\n",
       "4                 76.896855  23.103145\n",
       "5                 73.273761  26.726239\n",
       "6                 71.775083  28.224917\n",
       "7                 67.043189  32.956811\n",
       "8                 71.739130  28.260870\n",
       "9                 64.197531  35.802469\n",
       "10                68.750000  31.250000"
      ]
     },
     "execution_count": 34,
     "metadata": {},
     "output_type": "execute_result"
    }
   ],
   "source": [
    "view_cat_target_feature_corr(concat_df, 'loan_amnt', 'loan_status', is_numeric=True, bins=11)"
   ]
  },
  {
   "cell_type": "markdown",
   "id": "6e739108",
   "metadata": {
    "papermill": {
     "duration": 0.036013,
     "end_time": "2024-10-05T14:16:07.175768",
     "exception": false,
     "start_time": "2024-10-05T14:16:07.139755",
     "status": "completed"
    },
    "tags": []
   },
   "source": [
    "### Loan int rate"
   ]
  },
  {
   "cell_type": "code",
   "execution_count": 35,
   "id": "3129285f",
   "metadata": {
    "execution": {
     "iopub.execute_input": "2024-10-05T14:16:07.250763Z",
     "iopub.status.busy": "2024-10-05T14:16:07.249894Z",
     "iopub.status.idle": "2024-10-05T14:16:07.265765Z",
     "shell.execute_reply": "2024-10-05T14:16:07.264860Z"
    },
    "papermill": {
     "duration": 0.055866,
     "end_time": "2024-10-05T14:16:07.267642",
     "exception": false,
     "start_time": "2024-10-05T14:16:07.211776",
     "status": "completed"
    },
    "tags": []
   },
   "outputs": [
    {
     "data": {
      "text/plain": [
       "count    127208.000000\n",
       "mean         10.750077\n",
       "std           3.082540\n",
       "min           5.420000\n",
       "25%           7.880000\n",
       "50%          10.830000\n",
       "75%          13.060000\n",
       "max          23.220000\n",
       "Name: loan_int_rate, dtype: float64"
      ]
     },
     "execution_count": 35,
     "metadata": {},
     "output_type": "execute_result"
    }
   ],
   "source": [
    "concat_df['loan_int_rate'].describe()"
   ]
  },
  {
   "cell_type": "code",
   "execution_count": 36,
   "id": "f0ed7f66",
   "metadata": {
    "execution": {
     "iopub.execute_input": "2024-10-05T14:16:07.341799Z",
     "iopub.status.busy": "2024-10-05T14:16:07.341187Z",
     "iopub.status.idle": "2024-10-05T14:16:07.347457Z",
     "shell.execute_reply": "2024-10-05T14:16:07.346701Z"
    },
    "papermill": {
     "duration": 0.045295,
     "end_time": "2024-10-05T14:16:07.349316",
     "exception": false,
     "start_time": "2024-10-05T14:16:07.304021",
     "status": "completed"
    },
    "tags": []
   },
   "outputs": [],
   "source": [
    "mean = concat_df['loan_int_rate'].mean()\n",
    "concat_df.fillna({'loan_int_rate': mean}, inplace=True)"
   ]
  },
  {
   "cell_type": "code",
   "execution_count": 37,
   "id": "e6b46e50",
   "metadata": {
    "execution": {
     "iopub.execute_input": "2024-10-05T14:16:07.423607Z",
     "iopub.status.busy": "2024-10-05T14:16:07.422748Z",
     "iopub.status.idle": "2024-10-05T14:16:07.448193Z",
     "shell.execute_reply": "2024-10-05T14:16:07.447343Z"
    },
    "papermill": {
     "duration": 0.064799,
     "end_time": "2024-10-05T14:16:07.450255",
     "exception": false,
     "start_time": "2024-10-05T14:16:07.385456",
     "status": "completed"
    },
    "tags": []
   },
   "outputs": [
    {
     "data": {
      "text/html": [
       "<div>\n",
       "<style scoped>\n",
       "    .dataframe tbody tr th:only-of-type {\n",
       "        vertical-align: middle;\n",
       "    }\n",
       "\n",
       "    .dataframe tbody tr th {\n",
       "        vertical-align: top;\n",
       "    }\n",
       "\n",
       "    .dataframe thead th {\n",
       "        text-align: right;\n",
       "    }\n",
       "</style>\n",
       "<table border=\"1\" class=\"dataframe\">\n",
       "  <thead>\n",
       "    <tr style=\"text-align: right;\">\n",
       "      <th></th>\n",
       "      <th>0.0</th>\n",
       "      <th>1.0</th>\n",
       "    </tr>\n",
       "    <tr>\n",
       "      <th>cut_of_loan_int_rate</th>\n",
       "      <th></th>\n",
       "      <th></th>\n",
       "    </tr>\n",
       "  </thead>\n",
       "  <tbody>\n",
       "    <tr>\n",
       "      <th>0</th>\n",
       "      <td>93.961531</td>\n",
       "      <td>6.038469</td>\n",
       "    </tr>\n",
       "    <tr>\n",
       "      <th>1</th>\n",
       "      <td>87.930003</td>\n",
       "      <td>12.069997</td>\n",
       "    </tr>\n",
       "    <tr>\n",
       "      <th>2</th>\n",
       "      <td>83.530374</td>\n",
       "      <td>16.469626</td>\n",
       "    </tr>\n",
       "    <tr>\n",
       "      <th>3</th>\n",
       "      <td>48.786985</td>\n",
       "      <td>51.213015</td>\n",
       "    </tr>\n",
       "    <tr>\n",
       "      <th>4</th>\n",
       "      <td>36.407378</td>\n",
       "      <td>63.592622</td>\n",
       "    </tr>\n",
       "    <tr>\n",
       "      <th>5</th>\n",
       "      <td>23.076923</td>\n",
       "      <td>76.923077</td>\n",
       "    </tr>\n",
       "  </tbody>\n",
       "</table>\n",
       "</div>"
      ],
      "text/plain": [
       "                            0.0        1.0\n",
       "cut_of_loan_int_rate                      \n",
       "0                     93.961531   6.038469\n",
       "1                     87.930003  12.069997\n",
       "2                     83.530374  16.469626\n",
       "3                     48.786985  51.213015\n",
       "4                     36.407378  63.592622\n",
       "5                     23.076923  76.923077"
      ]
     },
     "execution_count": 37,
     "metadata": {},
     "output_type": "execute_result"
    }
   ],
   "source": [
    "view_cat_target_feature_corr(concat_df, 'loan_int_rate', 'loan_status', is_numeric=True, bins=6)"
   ]
  },
  {
   "cell_type": "markdown",
   "id": "30f4d666",
   "metadata": {
    "papermill": {
     "duration": 0.036132,
     "end_time": "2024-10-05T14:16:07.523526",
     "exception": false,
     "start_time": "2024-10-05T14:16:07.487394",
     "status": "completed"
    },
    "tags": []
   },
   "source": [
    "### Loan percent income"
   ]
  },
  {
   "cell_type": "code",
   "execution_count": 38,
   "id": "341ca68b",
   "metadata": {
    "execution": {
     "iopub.execute_input": "2024-10-05T14:16:07.597859Z",
     "iopub.status.busy": "2024-10-05T14:16:07.597120Z",
     "iopub.status.idle": "2024-10-05T14:16:07.611421Z",
     "shell.execute_reply": "2024-10-05T14:16:07.610513Z"
    },
    "papermill": {
     "duration": 0.053533,
     "end_time": "2024-10-05T14:16:07.613325",
     "exception": false,
     "start_time": "2024-10-05T14:16:07.559792",
     "status": "completed"
    },
    "tags": []
   },
   "outputs": [
    {
     "data": {
      "text/plain": [
       "count    130324.000000\n",
       "mean          0.162080\n",
       "std           0.095785\n",
       "min           0.000000\n",
       "25%           0.090000\n",
       "50%           0.140000\n",
       "75%           0.210000\n",
       "max           0.830000\n",
       "Name: loan_percent_income, dtype: float64"
      ]
     },
     "execution_count": 38,
     "metadata": {},
     "output_type": "execute_result"
    }
   ],
   "source": [
    "concat_df['loan_percent_income'].describe()"
   ]
  },
  {
   "cell_type": "code",
   "execution_count": 39,
   "id": "3329eaa0",
   "metadata": {
    "execution": {
     "iopub.execute_input": "2024-10-05T14:16:07.688334Z",
     "iopub.status.busy": "2024-10-05T14:16:07.688005Z",
     "iopub.status.idle": "2024-10-05T14:16:07.711490Z",
     "shell.execute_reply": "2024-10-05T14:16:07.710602Z"
    },
    "papermill": {
     "duration": 0.063277,
     "end_time": "2024-10-05T14:16:07.713518",
     "exception": false,
     "start_time": "2024-10-05T14:16:07.650241",
     "status": "completed"
    },
    "tags": []
   },
   "outputs": [
    {
     "data": {
      "text/html": [
       "<div>\n",
       "<style scoped>\n",
       "    .dataframe tbody tr th:only-of-type {\n",
       "        vertical-align: middle;\n",
       "    }\n",
       "\n",
       "    .dataframe tbody tr th {\n",
       "        vertical-align: top;\n",
       "    }\n",
       "\n",
       "    .dataframe thead th {\n",
       "        text-align: right;\n",
       "    }\n",
       "</style>\n",
       "<table border=\"1\" class=\"dataframe\">\n",
       "  <thead>\n",
       "    <tr style=\"text-align: right;\">\n",
       "      <th></th>\n",
       "      <th>0.0</th>\n",
       "      <th>1.0</th>\n",
       "    </tr>\n",
       "    <tr>\n",
       "      <th>cut_of_loan_percent_income</th>\n",
       "      <th></th>\n",
       "      <th></th>\n",
       "    </tr>\n",
       "  </thead>\n",
       "  <tbody>\n",
       "    <tr>\n",
       "      <th>0</th>\n",
       "      <td>91.410682</td>\n",
       "      <td>8.589318</td>\n",
       "    </tr>\n",
       "    <tr>\n",
       "      <th>1</th>\n",
       "      <td>86.210391</td>\n",
       "      <td>13.789609</td>\n",
       "    </tr>\n",
       "    <tr>\n",
       "      <th>2</th>\n",
       "      <td>47.839801</td>\n",
       "      <td>52.160199</td>\n",
       "    </tr>\n",
       "    <tr>\n",
       "      <th>3</th>\n",
       "      <td>25.771325</td>\n",
       "      <td>74.228675</td>\n",
       "    </tr>\n",
       "    <tr>\n",
       "      <th>4</th>\n",
       "      <td>21.568627</td>\n",
       "      <td>78.431373</td>\n",
       "    </tr>\n",
       "    <tr>\n",
       "      <th>5</th>\n",
       "      <td>23.076923</td>\n",
       "      <td>76.923077</td>\n",
       "    </tr>\n",
       "  </tbody>\n",
       "</table>\n",
       "</div>"
      ],
      "text/plain": [
       "                                  0.0        1.0\n",
       "cut_of_loan_percent_income                      \n",
       "0                           91.410682   8.589318\n",
       "1                           86.210391  13.789609\n",
       "2                           47.839801  52.160199\n",
       "3                           25.771325  74.228675\n",
       "4                           21.568627  78.431373\n",
       "5                           23.076923  76.923077"
      ]
     },
     "execution_count": 39,
     "metadata": {},
     "output_type": "execute_result"
    }
   ],
   "source": [
    "view_cat_target_feature_corr(concat_df, 'loan_percent_income', 'loan_status', is_numeric=True, bins=6)"
   ]
  },
  {
   "cell_type": "markdown",
   "id": "b446f449",
   "metadata": {
    "papermill": {
     "duration": 0.036705,
     "end_time": "2024-10-05T14:16:07.787024",
     "exception": false,
     "start_time": "2024-10-05T14:16:07.750319",
     "status": "completed"
    },
    "tags": []
   },
   "source": [
    "### CB Person Default on File"
   ]
  },
  {
   "cell_type": "code",
   "execution_count": 40,
   "id": "41d81150",
   "metadata": {
    "execution": {
     "iopub.execute_input": "2024-10-05T14:16:07.862229Z",
     "iopub.status.busy": "2024-10-05T14:16:07.861516Z",
     "iopub.status.idle": "2024-10-05T14:16:07.884162Z",
     "shell.execute_reply": "2024-10-05T14:16:07.883182Z"
    },
    "papermill": {
     "duration": 0.062518,
     "end_time": "2024-10-05T14:16:07.886538",
     "exception": false,
     "start_time": "2024-10-05T14:16:07.824020",
     "status": "completed"
    },
    "tags": []
   },
   "outputs": [
    {
     "data": {
      "text/plain": [
       "cb_person_default_on_file\n",
       "N    110006\n",
       "Y     20318\n",
       "Name: count, dtype: int64"
      ]
     },
     "execution_count": 40,
     "metadata": {},
     "output_type": "execute_result"
    }
   ],
   "source": [
    "concat_df['cb_person_default_on_file'].value_counts()"
   ]
  },
  {
   "cell_type": "code",
   "execution_count": 41,
   "id": "9b7caa6d",
   "metadata": {
    "execution": {
     "iopub.execute_input": "2024-10-05T14:16:07.966572Z",
     "iopub.status.busy": "2024-10-05T14:16:07.965903Z",
     "iopub.status.idle": "2024-10-05T14:16:08.013713Z",
     "shell.execute_reply": "2024-10-05T14:16:08.012818Z"
    },
    "papermill": {
     "duration": 0.088173,
     "end_time": "2024-10-05T14:16:08.015903",
     "exception": false,
     "start_time": "2024-10-05T14:16:07.927730",
     "status": "completed"
    },
    "tags": []
   },
   "outputs": [
    {
     "data": {
      "text/html": [
       "<div>\n",
       "<style scoped>\n",
       "    .dataframe tbody tr th:only-of-type {\n",
       "        vertical-align: middle;\n",
       "    }\n",
       "\n",
       "    .dataframe tbody tr th {\n",
       "        vertical-align: top;\n",
       "    }\n",
       "\n",
       "    .dataframe thead th {\n",
       "        text-align: right;\n",
       "    }\n",
       "</style>\n",
       "<table border=\"1\" class=\"dataframe\">\n",
       "  <thead>\n",
       "    <tr style=\"text-align: right;\">\n",
       "      <th></th>\n",
       "      <th>0.0</th>\n",
       "      <th>1.0</th>\n",
       "    </tr>\n",
       "    <tr>\n",
       "      <th>cut_of_cb_person_default_on_file</th>\n",
       "      <th></th>\n",
       "      <th></th>\n",
       "    </tr>\n",
       "  </thead>\n",
       "  <tbody>\n",
       "    <tr>\n",
       "      <th>N</th>\n",
       "      <td>86.083434</td>\n",
       "      <td>13.916566</td>\n",
       "    </tr>\n",
       "    <tr>\n",
       "      <th>Y</th>\n",
       "      <td>66.961999</td>\n",
       "      <td>33.038001</td>\n",
       "    </tr>\n",
       "  </tbody>\n",
       "</table>\n",
       "</div>"
      ],
      "text/plain": [
       "                                        0.0        1.0\n",
       "cut_of_cb_person_default_on_file                      \n",
       "N                                 86.083434  13.916566\n",
       "Y                                 66.961999  33.038001"
      ]
     },
     "execution_count": 41,
     "metadata": {},
     "output_type": "execute_result"
    }
   ],
   "source": [
    "view_cat_target_feature_corr(concat_df, 'cb_person_default_on_file', 'loan_status')"
   ]
  },
  {
   "cell_type": "code",
   "execution_count": 42,
   "id": "3cdb24b7",
   "metadata": {
    "execution": {
     "iopub.execute_input": "2024-10-05T14:16:08.091770Z",
     "iopub.status.busy": "2024-10-05T14:16:08.090922Z",
     "iopub.status.idle": "2024-10-05T14:16:08.105072Z",
     "shell.execute_reply": "2024-10-05T14:16:08.104156Z"
    },
    "papermill": {
     "duration": 0.054241,
     "end_time": "2024-10-05T14:16:08.107158",
     "exception": false,
     "start_time": "2024-10-05T14:16:08.052917",
     "status": "completed"
    },
    "tags": []
   },
   "outputs": [],
   "source": [
    "concat_df['cb_person_default_on_file'] = concat_df['cb_person_default_on_file'].map({\n",
    "    'N': 0, 'Y': 1\n",
    "})"
   ]
  },
  {
   "cell_type": "markdown",
   "id": "d2e2bc72",
   "metadata": {
    "papermill": {
     "duration": 0.03692,
     "end_time": "2024-10-05T14:16:08.180897",
     "exception": false,
     "start_time": "2024-10-05T14:16:08.143977",
     "status": "completed"
    },
    "tags": []
   },
   "source": [
    "### CB Person Credit Hist Length"
   ]
  },
  {
   "cell_type": "code",
   "execution_count": 43,
   "id": "2de1209d",
   "metadata": {
    "execution": {
     "iopub.execute_input": "2024-10-05T14:16:08.257547Z",
     "iopub.status.busy": "2024-10-05T14:16:08.256831Z",
     "iopub.status.idle": "2024-10-05T14:16:08.269401Z",
     "shell.execute_reply": "2024-10-05T14:16:08.268473Z"
    },
    "papermill": {
     "duration": 0.053618,
     "end_time": "2024-10-05T14:16:08.271264",
     "exception": false,
     "start_time": "2024-10-05T14:16:08.217646",
     "status": "completed"
    },
    "tags": []
   },
   "outputs": [
    {
     "data": {
      "text/plain": [
       "count    130324.000000\n",
       "mean          5.816365\n",
       "std           4.048560\n",
       "min           2.000000\n",
       "25%           3.000000\n",
       "50%           4.000000\n",
       "75%           8.000000\n",
       "max          30.000000\n",
       "Name: cb_person_cred_hist_length, dtype: float64"
      ]
     },
     "execution_count": 43,
     "metadata": {},
     "output_type": "execute_result"
    }
   ],
   "source": [
    "concat_df['cb_person_cred_hist_length'].describe()"
   ]
  },
  {
   "cell_type": "code",
   "execution_count": 44,
   "id": "75270a43",
   "metadata": {
    "execution": {
     "iopub.execute_input": "2024-10-05T14:16:08.348516Z",
     "iopub.status.busy": "2024-10-05T14:16:08.347575Z",
     "iopub.status.idle": "2024-10-05T14:16:08.590048Z",
     "shell.execute_reply": "2024-10-05T14:16:08.589097Z"
    },
    "papermill": {
     "duration": 0.283213,
     "end_time": "2024-10-05T14:16:08.592256",
     "exception": false,
     "start_time": "2024-10-05T14:16:08.309043",
     "status": "completed"
    },
    "tags": []
   },
   "outputs": [
    {
     "data": {
      "image/png": "[encoded data removed]",
      "text/plain": [
       "<Figure size 1200x800 with 1 Axes>"
      ]
     },
     "metadata": {},
     "output_type": "display_data"
    }
   ],
   "source": [
    "plt.figure(figsize=(12,8))\n",
    "plt.xlim(1,31)\n",
    "flierprops = dict(marker='o', markerfacecolor='purple', markersize=6,\n",
    "                  linestyle='none', markeredgecolor='black')\n",
    "sns.boxplot(x=concat_df['cb_person_cred_hist_length'], flierprops=flierprops);"
   ]
  },
  {
   "cell_type": "code",
   "execution_count": 45,
   "id": "cd580a9b",
   "metadata": {
    "execution": {
     "iopub.execute_input": "2024-10-05T14:16:08.669417Z",
     "iopub.status.busy": "2024-10-05T14:16:08.668589Z",
     "iopub.status.idle": "2024-10-05T14:16:08.694367Z",
     "shell.execute_reply": "2024-10-05T14:16:08.693451Z"
    },
    "papermill": {
     "duration": 0.066513,
     "end_time": "2024-10-05T14:16:08.696492",
     "exception": false,
     "start_time": "2024-10-05T14:16:08.629979",
     "status": "completed"
    },
    "tags": []
   },
   "outputs": [
    {
     "data": {
      "text/html": [
       "<div>\n",
       "<style scoped>\n",
       "    .dataframe tbody tr th:only-of-type {\n",
       "        vertical-align: middle;\n",
       "    }\n",
       "\n",
       "    .dataframe tbody tr th {\n",
       "        vertical-align: top;\n",
       "    }\n",
       "\n",
       "    .dataframe thead th {\n",
       "        text-align: right;\n",
       "    }\n",
       "</style>\n",
       "<table border=\"1\" class=\"dataframe\">\n",
       "  <thead>\n",
       "    <tr style=\"text-align: right;\">\n",
       "      <th></th>\n",
       "      <th>0.0</th>\n",
       "      <th>1.0</th>\n",
       "    </tr>\n",
       "    <tr>\n",
       "      <th>cut_of_cb_person_cred_hist_length</th>\n",
       "      <th></th>\n",
       "      <th></th>\n",
       "    </tr>\n",
       "  </thead>\n",
       "  <tbody>\n",
       "    <tr>\n",
       "      <th>0</th>\n",
       "      <td>82.672067</td>\n",
       "      <td>17.327933</td>\n",
       "    </tr>\n",
       "    <tr>\n",
       "      <th>1</th>\n",
       "      <td>84.230786</td>\n",
       "      <td>15.769214</td>\n",
       "    </tr>\n",
       "    <tr>\n",
       "      <th>2</th>\n",
       "      <td>82.852292</td>\n",
       "      <td>17.147708</td>\n",
       "    </tr>\n",
       "    <tr>\n",
       "      <th>3</th>\n",
       "      <td>83.907186</td>\n",
       "      <td>16.092814</td>\n",
       "    </tr>\n",
       "    <tr>\n",
       "      <th>4</th>\n",
       "      <td>78.073090</td>\n",
       "      <td>21.926910</td>\n",
       "    </tr>\n",
       "    <tr>\n",
       "      <th>5</th>\n",
       "      <td>76.383764</td>\n",
       "      <td>23.616236</td>\n",
       "    </tr>\n",
       "  </tbody>\n",
       "</table>\n",
       "</div>"
      ],
      "text/plain": [
       "                                         0.0        1.0\n",
       "cut_of_cb_person_cred_hist_length                      \n",
       "0                                  82.672067  17.327933\n",
       "1                                  84.230786  15.769214\n",
       "2                                  82.852292  17.147708\n",
       "3                                  83.907186  16.092814\n",
       "4                                  78.073090  21.926910\n",
       "5                                  76.383764  23.616236"
      ]
     },
     "execution_count": 45,
     "metadata": {},
     "output_type": "execute_result"
    }
   ],
   "source": [
    "view_cat_target_feature_corr(concat_df, 'cb_person_cred_hist_length', 'loan_status', is_numeric=True, bins=6)"
   ]
  },
  {
   "cell_type": "markdown",
   "id": "d31b981a",
   "metadata": {
    "papermill": {
     "duration": 0.037308,
     "end_time": "2024-10-05T14:16:08.771413",
     "exception": false,
     "start_time": "2024-10-05T14:16:08.734105",
     "status": "completed"
    },
    "tags": []
   },
   "source": [
    "### New features"
   ]
  },
  {
   "cell_type": "code",
   "execution_count": 46,
   "id": "0854196f",
   "metadata": {
    "execution": {
     "iopub.execute_input": "2024-10-05T14:16:08.848811Z",
     "iopub.status.busy": "2024-10-05T14:16:08.847919Z",
     "iopub.status.idle": "2024-10-05T14:16:08.853855Z",
     "shell.execute_reply": "2024-10-05T14:16:08.853005Z"
    },
    "papermill": {
     "duration": 0.046917,
     "end_time": "2024-10-05T14:16:08.855931",
     "exception": false,
     "start_time": "2024-10-05T14:16:08.809014",
     "status": "completed"
    },
    "tags": []
   },
   "outputs": [],
   "source": [
    "concat_df['ratio_person_income_person_age'] = concat_df['person_income'] / concat_df['person_age']"
   ]
  },
  {
   "cell_type": "code",
   "execution_count": 47,
   "id": "71e686c3",
   "metadata": {
    "execution": {
     "iopub.execute_input": "2024-10-05T14:16:08.933427Z",
     "iopub.status.busy": "2024-10-05T14:16:08.932619Z",
     "iopub.status.idle": "2024-10-05T14:16:08.959436Z",
     "shell.execute_reply": "2024-10-05T14:16:08.958479Z"
    },
    "papermill": {
     "duration": 0.068237,
     "end_time": "2024-10-05T14:16:08.961674",
     "exception": false,
     "start_time": "2024-10-05T14:16:08.893437",
     "status": "completed"
    },
    "tags": []
   },
   "outputs": [
    {
     "data": {
      "text/html": [
       "<div>\n",
       "<style scoped>\n",
       "    .dataframe tbody tr th:only-of-type {\n",
       "        vertical-align: middle;\n",
       "    }\n",
       "\n",
       "    .dataframe tbody tr th {\n",
       "        vertical-align: top;\n",
       "    }\n",
       "\n",
       "    .dataframe thead th {\n",
       "        text-align: right;\n",
       "    }\n",
       "</style>\n",
       "<table border=\"1\" class=\"dataframe\">\n",
       "  <thead>\n",
       "    <tr style=\"text-align: right;\">\n",
       "      <th></th>\n",
       "      <th>0.0</th>\n",
       "      <th>1.0</th>\n",
       "    </tr>\n",
       "    <tr>\n",
       "      <th>cut_of_ratio_person_income_person_age</th>\n",
       "      <th></th>\n",
       "      <th></th>\n",
       "    </tr>\n",
       "  </thead>\n",
       "  <tbody>\n",
       "    <tr>\n",
       "      <th>0</th>\n",
       "      <td>82.733943</td>\n",
       "      <td>17.266057</td>\n",
       "    </tr>\n",
       "    <tr>\n",
       "      <th>1</th>\n",
       "      <td>93.824619</td>\n",
       "      <td>6.175381</td>\n",
       "    </tr>\n",
       "    <tr>\n",
       "      <th>2</th>\n",
       "      <td>93.700787</td>\n",
       "      <td>6.299213</td>\n",
       "    </tr>\n",
       "    <tr>\n",
       "      <th>3</th>\n",
       "      <td>98.214286</td>\n",
       "      <td>1.785714</td>\n",
       "    </tr>\n",
       "    <tr>\n",
       "      <th>4</th>\n",
       "      <td>83.333333</td>\n",
       "      <td>16.666667</td>\n",
       "    </tr>\n",
       "    <tr>\n",
       "      <th>5</th>\n",
       "      <td>100.000000</td>\n",
       "      <td>0.000000</td>\n",
       "    </tr>\n",
       "  </tbody>\n",
       "</table>\n",
       "</div>"
      ],
      "text/plain": [
       "                                              0.0        1.0\n",
       "cut_of_ratio_person_income_person_age                       \n",
       "0                                       82.733943  17.266057\n",
       "1                                       93.824619   6.175381\n",
       "2                                       93.700787   6.299213\n",
       "3                                       98.214286   1.785714\n",
       "4                                       83.333333  16.666667\n",
       "5                                      100.000000   0.000000"
      ]
     },
     "execution_count": 47,
     "metadata": {},
     "output_type": "execute_result"
    }
   ],
   "source": [
    "view_cat_target_feature_corr(concat_df, 'ratio_person_income_person_age', 'loan_status', is_numeric=True, bins=6)"
   ]
  },
  {
   "cell_type": "code",
   "execution_count": 48,
   "id": "0e236c84",
   "metadata": {
    "execution": {
     "iopub.execute_input": "2024-10-05T14:16:09.040767Z",
     "iopub.status.busy": "2024-10-05T14:16:09.039916Z",
     "iopub.status.idle": "2024-10-05T14:16:09.046318Z",
     "shell.execute_reply": "2024-10-05T14:16:09.045458Z"
    },
    "papermill": {
     "duration": 0.047593,
     "end_time": "2024-10-05T14:16:09.048336",
     "exception": false,
     "start_time": "2024-10-05T14:16:09.000743",
     "status": "completed"
    },
    "tags": []
   },
   "outputs": [],
   "source": [
    "concat_df['ratio_person_income_person_emp_length'] = concat_df['person_income'] / (concat_df['person_emp_length']+0.5)"
   ]
  },
  {
   "cell_type": "code",
   "execution_count": 49,
   "id": "1a54c504",
   "metadata": {
    "execution": {
     "iopub.execute_input": "2024-10-05T14:16:09.126080Z",
     "iopub.status.busy": "2024-10-05T14:16:09.125207Z",
     "iopub.status.idle": "2024-10-05T14:16:09.151771Z",
     "shell.execute_reply": "2024-10-05T14:16:09.150823Z"
    },
    "papermill": {
     "duration": 0.06768,
     "end_time": "2024-10-05T14:16:09.153820",
     "exception": false,
     "start_time": "2024-10-05T14:16:09.086140",
     "status": "completed"
    },
    "tags": []
   },
   "outputs": [
    {
     "data": {
      "text/html": [
       "<div>\n",
       "<style scoped>\n",
       "    .dataframe tbody tr th:only-of-type {\n",
       "        vertical-align: middle;\n",
       "    }\n",
       "\n",
       "    .dataframe tbody tr th {\n",
       "        vertical-align: top;\n",
       "    }\n",
       "\n",
       "    .dataframe thead th {\n",
       "        text-align: right;\n",
       "    }\n",
       "</style>\n",
       "<table border=\"1\" class=\"dataframe\">\n",
       "  <thead>\n",
       "    <tr style=\"text-align: right;\">\n",
       "      <th></th>\n",
       "      <th>0.0</th>\n",
       "      <th>1.0</th>\n",
       "    </tr>\n",
       "    <tr>\n",
       "      <th>cut_of_ratio_person_income_person_emp_length</th>\n",
       "      <th></th>\n",
       "      <th></th>\n",
       "    </tr>\n",
       "  </thead>\n",
       "  <tbody>\n",
       "    <tr>\n",
       "      <th>0</th>\n",
       "      <td>82.976726</td>\n",
       "      <td>17.023274</td>\n",
       "    </tr>\n",
       "    <tr>\n",
       "      <th>1</th>\n",
       "      <td>93.113772</td>\n",
       "      <td>6.886228</td>\n",
       "    </tr>\n",
       "    <tr>\n",
       "      <th>2</th>\n",
       "      <td>96.000000</td>\n",
       "      <td>4.000000</td>\n",
       "    </tr>\n",
       "    <tr>\n",
       "      <th>3</th>\n",
       "      <td>100.000000</td>\n",
       "      <td>0.000000</td>\n",
       "    </tr>\n",
       "    <tr>\n",
       "      <th>4</th>\n",
       "      <td>100.000000</td>\n",
       "      <td>0.000000</td>\n",
       "    </tr>\n",
       "    <tr>\n",
       "      <th>5</th>\n",
       "      <td>100.000000</td>\n",
       "      <td>0.000000</td>\n",
       "    </tr>\n",
       "  </tbody>\n",
       "</table>\n",
       "</div>"
      ],
      "text/plain": [
       "                                                     0.0        1.0\n",
       "cut_of_ratio_person_income_person_emp_length                       \n",
       "0                                              82.976726  17.023274\n",
       "1                                              93.113772   6.886228\n",
       "2                                              96.000000   4.000000\n",
       "3                                             100.000000   0.000000\n",
       "4                                             100.000000   0.000000\n",
       "5                                             100.000000   0.000000"
      ]
     },
     "execution_count": 49,
     "metadata": {},
     "output_type": "execute_result"
    }
   ],
   "source": [
    "view_cat_target_feature_corr(concat_df, 'ratio_person_income_person_emp_length', 'loan_status', is_numeric=True, bins=6)"
   ]
  },
  {
   "cell_type": "code",
   "execution_count": 50,
   "id": "b99d2fa8",
   "metadata": {
    "execution": {
     "iopub.execute_input": "2024-10-05T14:16:09.232405Z",
     "iopub.status.busy": "2024-10-05T14:16:09.232043Z",
     "iopub.status.idle": "2024-10-05T14:16:09.239079Z",
     "shell.execute_reply": "2024-10-05T14:16:09.238182Z"
    },
    "papermill": {
     "duration": 0.049061,
     "end_time": "2024-10-05T14:16:09.241288",
     "exception": false,
     "start_time": "2024-10-05T14:16:09.192227",
     "status": "completed"
    },
    "tags": []
   },
   "outputs": [],
   "source": [
    "concat_df['sum_person_age_person_emp_lenth'] = concat_df['person_age'] + concat_df['person_emp_length']\n",
    "concat_df['ratio_person_age_person_emp_lenth'] = concat_df['person_emp_length'] / concat_df['person_age']"
   ]
  },
  {
   "cell_type": "code",
   "execution_count": 51,
   "id": "414eab9d",
   "metadata": {
    "execution": {
     "iopub.execute_input": "2024-10-05T14:16:09.319752Z",
     "iopub.status.busy": "2024-10-05T14:16:09.319421Z",
     "iopub.status.idle": "2024-10-05T14:16:09.347484Z",
     "shell.execute_reply": "2024-10-05T14:16:09.346730Z"
    },
    "papermill": {
     "duration": 0.069159,
     "end_time": "2024-10-05T14:16:09.349421",
     "exception": false,
     "start_time": "2024-10-05T14:16:09.280262",
     "status": "completed"
    },
    "tags": []
   },
   "outputs": [
    {
     "data": {
      "text/html": [
       "<div>\n",
       "<style scoped>\n",
       "    .dataframe tbody tr th:only-of-type {\n",
       "        vertical-align: middle;\n",
       "    }\n",
       "\n",
       "    .dataframe tbody tr th {\n",
       "        vertical-align: top;\n",
       "    }\n",
       "\n",
       "    .dataframe thead th {\n",
       "        text-align: right;\n",
       "    }\n",
       "</style>\n",
       "<table border=\"1\" class=\"dataframe\">\n",
       "  <thead>\n",
       "    <tr style=\"text-align: right;\">\n",
       "      <th></th>\n",
       "      <th>0.0</th>\n",
       "      <th>1.0</th>\n",
       "    </tr>\n",
       "    <tr>\n",
       "      <th>cut_of_ratio_person_age_person_emp_lenth</th>\n",
       "      <th></th>\n",
       "      <th></th>\n",
       "    </tr>\n",
       "  </thead>\n",
       "  <tbody>\n",
       "    <tr>\n",
       "      <th>0</th>\n",
       "      <td>80.541075</td>\n",
       "      <td>19.458925</td>\n",
       "    </tr>\n",
       "    <tr>\n",
       "      <th>1</th>\n",
       "      <td>86.626651</td>\n",
       "      <td>13.373349</td>\n",
       "    </tr>\n",
       "    <tr>\n",
       "      <th>2</th>\n",
       "      <td>88.671875</td>\n",
       "      <td>11.328125</td>\n",
       "    </tr>\n",
       "    <tr>\n",
       "      <th>3</th>\n",
       "      <td>80.555556</td>\n",
       "      <td>19.444444</td>\n",
       "    </tr>\n",
       "    <tr>\n",
       "      <th>4</th>\n",
       "      <td>50.000000</td>\n",
       "      <td>50.000000</td>\n",
       "    </tr>\n",
       "    <tr>\n",
       "      <th>5</th>\n",
       "      <td>66.666667</td>\n",
       "      <td>33.333333</td>\n",
       "    </tr>\n",
       "  </tbody>\n",
       "</table>\n",
       "</div>"
      ],
      "text/plain": [
       "                                                0.0        1.0\n",
       "cut_of_ratio_person_age_person_emp_lenth                      \n",
       "0                                         80.541075  19.458925\n",
       "1                                         86.626651  13.373349\n",
       "2                                         88.671875  11.328125\n",
       "3                                         80.555556  19.444444\n",
       "4                                         50.000000  50.000000\n",
       "5                                         66.666667  33.333333"
      ]
     },
     "execution_count": 51,
     "metadata": {},
     "output_type": "execute_result"
    }
   ],
   "source": [
    "view_cat_target_feature_corr(concat_df, 'ratio_person_age_person_emp_lenth', 'loan_status', is_numeric=True, bins=6)"
   ]
  },
  {
   "cell_type": "code",
   "execution_count": 52,
   "id": "8d913890",
   "metadata": {
    "execution": {
     "iopub.execute_input": "2024-10-05T14:16:09.428013Z",
     "iopub.status.busy": "2024-10-05T14:16:09.427642Z",
     "iopub.status.idle": "2024-10-05T14:16:09.433229Z",
     "shell.execute_reply": "2024-10-05T14:16:09.432513Z"
    },
    "papermill": {
     "duration": 0.04636,
     "end_time": "2024-10-05T14:16:09.435097",
     "exception": false,
     "start_time": "2024-10-05T14:16:09.388737",
     "status": "completed"
    },
    "tags": []
   },
   "outputs": [],
   "source": [
    "concat_df['person_loan'] = concat_df['person_income'] * concat_df['loan_percent_income']"
   ]
  },
  {
   "cell_type": "code",
   "execution_count": 53,
   "id": "460acb25",
   "metadata": {
    "execution": {
     "iopub.execute_input": "2024-10-05T14:16:09.513570Z",
     "iopub.status.busy": "2024-10-05T14:16:09.513181Z",
     "iopub.status.idle": "2024-10-05T14:16:09.538880Z",
     "shell.execute_reply": "2024-10-05T14:16:09.538030Z"
    },
    "papermill": {
     "duration": 0.067324,
     "end_time": "2024-10-05T14:16:09.541117",
     "exception": false,
     "start_time": "2024-10-05T14:16:09.473793",
     "status": "completed"
    },
    "tags": []
   },
   "outputs": [
    {
     "data": {
      "text/html": [
       "<div>\n",
       "<style scoped>\n",
       "    .dataframe tbody tr th:only-of-type {\n",
       "        vertical-align: middle;\n",
       "    }\n",
       "\n",
       "    .dataframe tbody tr th {\n",
       "        vertical-align: top;\n",
       "    }\n",
       "\n",
       "    .dataframe thead th {\n",
       "        text-align: right;\n",
       "    }\n",
       "</style>\n",
       "<table border=\"1\" class=\"dataframe\">\n",
       "  <thead>\n",
       "    <tr style=\"text-align: right;\">\n",
       "      <th></th>\n",
       "      <th>0.0</th>\n",
       "      <th>1.0</th>\n",
       "    </tr>\n",
       "    <tr>\n",
       "      <th>cut_of_person_loan</th>\n",
       "      <th></th>\n",
       "      <th></th>\n",
       "    </tr>\n",
       "  </thead>\n",
       "  <tbody>\n",
       "    <tr>\n",
       "      <th>0</th>\n",
       "      <td>83.536364</td>\n",
       "      <td>16.463636</td>\n",
       "    </tr>\n",
       "    <tr>\n",
       "      <th>1</th>\n",
       "      <td>69.903517</td>\n",
       "      <td>30.096483</td>\n",
       "    </tr>\n",
       "    <tr>\n",
       "      <th>2</th>\n",
       "      <td>50.000000</td>\n",
       "      <td>50.000000</td>\n",
       "    </tr>\n",
       "    <tr>\n",
       "      <th>3</th>\n",
       "      <td>100.000000</td>\n",
       "      <td>0.000000</td>\n",
       "    </tr>\n",
       "    <tr>\n",
       "      <th>4</th>\n",
       "      <td>100.000000</td>\n",
       "      <td>0.000000</td>\n",
       "    </tr>\n",
       "    <tr>\n",
       "      <th>5</th>\n",
       "      <td>100.000000</td>\n",
       "      <td>0.000000</td>\n",
       "    </tr>\n",
       "  </tbody>\n",
       "</table>\n",
       "</div>"
      ],
      "text/plain": [
       "                           0.0        1.0\n",
       "cut_of_person_loan                       \n",
       "0                    83.536364  16.463636\n",
       "1                    69.903517  30.096483\n",
       "2                    50.000000  50.000000\n",
       "3                   100.000000   0.000000\n",
       "4                   100.000000   0.000000\n",
       "5                   100.000000   0.000000"
      ]
     },
     "execution_count": 53,
     "metadata": {},
     "output_type": "execute_result"
    }
   ],
   "source": [
    "view_cat_target_feature_corr(concat_df, 'person_loan', 'loan_status', is_numeric=True, bins=6)"
   ]
  },
  {
   "cell_type": "code",
   "execution_count": 54,
   "id": "4ab287b1",
   "metadata": {
    "execution": {
     "iopub.execute_input": "2024-10-05T14:16:09.621523Z",
     "iopub.status.busy": "2024-10-05T14:16:09.620821Z",
     "iopub.status.idle": "2024-10-05T14:16:09.627221Z",
     "shell.execute_reply": "2024-10-05T14:16:09.626484Z"
    },
    "papermill": {
     "duration": 0.047767,
     "end_time": "2024-10-05T14:16:09.629145",
     "exception": false,
     "start_time": "2024-10-05T14:16:09.581378",
     "status": "completed"
    },
    "tags": []
   },
   "outputs": [],
   "source": [
    "concat_df['count_cat'] = concat_df['person_home_ownership'] + concat_df['loan_intent'] + concat_df['loan_grade'] + concat_df['cb_person_default_on_file']"
   ]
  },
  {
   "cell_type": "code",
   "execution_count": 55,
   "id": "482eb0ca",
   "metadata": {
    "execution": {
     "iopub.execute_input": "2024-10-05T14:16:09.707764Z",
     "iopub.status.busy": "2024-10-05T14:16:09.707040Z",
     "iopub.status.idle": "2024-10-05T14:16:09.731564Z",
     "shell.execute_reply": "2024-10-05T14:16:09.730682Z"
    },
    "papermill": {
     "duration": 0.065527,
     "end_time": "2024-10-05T14:16:09.733498",
     "exception": false,
     "start_time": "2024-10-05T14:16:09.667971",
     "status": "completed"
    },
    "tags": []
   },
   "outputs": [
    {
     "data": {
      "text/html": [
       "<div>\n",
       "<style scoped>\n",
       "    .dataframe tbody tr th:only-of-type {\n",
       "        vertical-align: middle;\n",
       "    }\n",
       "\n",
       "    .dataframe tbody tr th {\n",
       "        vertical-align: top;\n",
       "    }\n",
       "\n",
       "    .dataframe thead th {\n",
       "        text-align: right;\n",
       "    }\n",
       "</style>\n",
       "<table border=\"1\" class=\"dataframe\">\n",
       "  <thead>\n",
       "    <tr style=\"text-align: right;\">\n",
       "      <th></th>\n",
       "      <th>0.0</th>\n",
       "      <th>1.0</th>\n",
       "    </tr>\n",
       "    <tr>\n",
       "      <th>cut_of_count_cat</th>\n",
       "      <th></th>\n",
       "      <th></th>\n",
       "    </tr>\n",
       "  </thead>\n",
       "  <tbody>\n",
       "    <tr>\n",
       "      <th>3</th>\n",
       "      <td>98.011364</td>\n",
       "      <td>1.988636</td>\n",
       "    </tr>\n",
       "    <tr>\n",
       "      <th>4</th>\n",
       "      <td>99.388223</td>\n",
       "      <td>0.611777</td>\n",
       "    </tr>\n",
       "    <tr>\n",
       "      <th>5</th>\n",
       "      <td>98.365808</td>\n",
       "      <td>1.634192</td>\n",
       "    </tr>\n",
       "    <tr>\n",
       "      <th>6</th>\n",
       "      <td>94.956190</td>\n",
       "      <td>5.043810</td>\n",
       "    </tr>\n",
       "    <tr>\n",
       "      <th>7</th>\n",
       "      <td>91.534525</td>\n",
       "      <td>8.465475</td>\n",
       "    </tr>\n",
       "    <tr>\n",
       "      <th>8</th>\n",
       "      <td>88.444097</td>\n",
       "      <td>11.555903</td>\n",
       "    </tr>\n",
       "    <tr>\n",
       "      <th>9</th>\n",
       "      <td>85.707591</td>\n",
       "      <td>14.292409</td>\n",
       "    </tr>\n",
       "    <tr>\n",
       "      <th>10</th>\n",
       "      <td>80.474158</td>\n",
       "      <td>19.525842</td>\n",
       "    </tr>\n",
       "    <tr>\n",
       "      <th>11</th>\n",
       "      <td>76.332835</td>\n",
       "      <td>23.667165</td>\n",
       "    </tr>\n",
       "    <tr>\n",
       "      <th>12</th>\n",
       "      <td>66.214200</td>\n",
       "      <td>33.785800</td>\n",
       "    </tr>\n",
       "    <tr>\n",
       "      <th>13</th>\n",
       "      <td>52.071006</td>\n",
       "      <td>47.928994</td>\n",
       "    </tr>\n",
       "    <tr>\n",
       "      <th>14</th>\n",
       "      <td>38.465182</td>\n",
       "      <td>61.534818</td>\n",
       "    </tr>\n",
       "    <tr>\n",
       "      <th>15</th>\n",
       "      <td>3.234880</td>\n",
       "      <td>96.765120</td>\n",
       "    </tr>\n",
       "    <tr>\n",
       "      <th>16</th>\n",
       "      <td>1.600000</td>\n",
       "      <td>98.400000</td>\n",
       "    </tr>\n",
       "    <tr>\n",
       "      <th>17</th>\n",
       "      <td>NaN</td>\n",
       "      <td>100.000000</td>\n",
       "    </tr>\n",
       "    <tr>\n",
       "      <th>18</th>\n",
       "      <td>NaN</td>\n",
       "      <td>100.000000</td>\n",
       "    </tr>\n",
       "  </tbody>\n",
       "</table>\n",
       "</div>"
      ],
      "text/plain": [
       "                        0.0         1.0\n",
       "cut_of_count_cat                       \n",
       "3                 98.011364    1.988636\n",
       "4                 99.388223    0.611777\n",
       "5                 98.365808    1.634192\n",
       "6                 94.956190    5.043810\n",
       "7                 91.534525    8.465475\n",
       "8                 88.444097   11.555903\n",
       "9                 85.707591   14.292409\n",
       "10                80.474158   19.525842\n",
       "11                76.332835   23.667165\n",
       "12                66.214200   33.785800\n",
       "13                52.071006   47.928994\n",
       "14                38.465182   61.534818\n",
       "15                 3.234880   96.765120\n",
       "16                 1.600000   98.400000\n",
       "17                      NaN  100.000000\n",
       "18                      NaN  100.000000"
      ]
     },
     "execution_count": 55,
     "metadata": {},
     "output_type": "execute_result"
    }
   ],
   "source": [
    "view_cat_target_feature_corr(concat_df, 'count_cat', 'loan_status')"
   ]
  },
  {
   "cell_type": "markdown",
   "id": "ecaed92e",
   "metadata": {
    "papermill": {
     "duration": 0.038477,
     "end_time": "2024-10-05T14:16:09.811066",
     "exception": false,
     "start_time": "2024-10-05T14:16:09.772589",
     "status": "completed"
    },
    "tags": []
   },
   "source": [
    "### Preprocessing"
   ]
  },
  {
   "cell_type": "code",
   "execution_count": 56,
   "id": "73b8e3c1",
   "metadata": {
    "execution": {
     "iopub.execute_input": "2024-10-05T14:16:09.889521Z",
     "iopub.status.busy": "2024-10-05T14:16:09.888867Z",
     "iopub.status.idle": "2024-10-05T14:16:09.894045Z",
     "shell.execute_reply": "2024-10-05T14:16:09.893123Z"
    },
    "papermill": {
     "duration": 0.046711,
     "end_time": "2024-10-05T14:16:09.895968",
     "exception": false,
     "start_time": "2024-10-05T14:16:09.849257",
     "status": "completed"
    },
    "tags": []
   },
   "outputs": [],
   "source": [
    "concat_df['id'] = concat_df.index"
   ]
  },
  {
   "cell_type": "code",
   "execution_count": 57,
   "id": "3e6e893a",
   "metadata": {
    "execution": {
     "iopub.execute_input": "2024-10-05T14:16:09.975156Z",
     "iopub.status.busy": "2024-10-05T14:16:09.974774Z",
     "iopub.status.idle": "2024-10-05T14:16:09.982025Z",
     "shell.execute_reply": "2024-10-05T14:16:09.981161Z"
    },
    "papermill": {
     "duration": 0.048872,
     "end_time": "2024-10-05T14:16:09.983971",
     "exception": false,
     "start_time": "2024-10-05T14:16:09.935099",
     "status": "completed"
    },
    "tags": []
   },
   "outputs": [
    {
     "data": {
      "text/plain": [
       "(58644, 97742)"
      ]
     },
     "execution_count": 57,
     "metadata": {},
     "output_type": "execute_result"
    }
   ],
   "source": [
    "raw_df['id'].max(), test_df['id'].max()"
   ]
  },
  {
   "cell_type": "code",
   "execution_count": 58,
   "id": "0eeadd97",
   "metadata": {
    "execution": {
     "iopub.execute_input": "2024-10-05T14:16:10.063234Z",
     "iopub.status.busy": "2024-10-05T14:16:10.062281Z",
     "iopub.status.idle": "2024-10-05T14:16:10.086243Z",
     "shell.execute_reply": "2024-10-05T14:16:10.085317Z"
    },
    "papermill": {
     "duration": 0.065893,
     "end_time": "2024-10-05T14:16:10.088326",
     "exception": false,
     "start_time": "2024-10-05T14:16:10.022433",
     "status": "completed"
    },
    "tags": []
   },
   "outputs": [],
   "source": [
    "raw_df = concat_df[concat_df['id']<=58644]\n",
    "test_df = concat_df[(concat_df['id']>58644) & (concat_df['id']<=97742)]\n",
    "original_df = concat_df[concat_df['id']>97742]"
   ]
  },
  {
   "cell_type": "code",
   "execution_count": 59,
   "id": "891d8278",
   "metadata": {
    "execution": {
     "iopub.execute_input": "2024-10-05T14:16:10.167422Z",
     "iopub.status.busy": "2024-10-05T14:16:10.167052Z",
     "iopub.status.idle": "2024-10-05T14:16:10.207007Z",
     "shell.execute_reply": "2024-10-05T14:16:10.206229Z"
    },
    "papermill": {
     "duration": 0.082541,
     "end_time": "2024-10-05T14:16:10.209421",
     "exception": false,
     "start_time": "2024-10-05T14:16:10.126880",
     "status": "completed"
    },
    "tags": []
   },
   "outputs": [],
   "source": [
    "concat_df = pd.concat([raw_df, original_df]).copy()"
   ]
  },
  {
   "cell_type": "code",
   "execution_count": 60,
   "id": "faad0d85",
   "metadata": {
    "execution": {
     "iopub.execute_input": "2024-10-05T14:16:10.291780Z",
     "iopub.status.busy": "2024-10-05T14:16:10.291421Z",
     "iopub.status.idle": "2024-10-05T14:16:10.296102Z",
     "shell.execute_reply": "2024-10-05T14:16:10.295231Z"
    },
    "papermill": {
     "duration": 0.047415,
     "end_time": "2024-10-05T14:16:10.298270",
     "exception": false,
     "start_time": "2024-10-05T14:16:10.250855",
     "status": "completed"
    },
    "tags": []
   },
   "outputs": [],
   "source": [
    "input_cols = concat_df.columns.tolist()\n",
    "input_cols.remove('id')\n",
    "input_cols.remove('loan_status')"
   ]
  },
  {
   "cell_type": "code",
   "execution_count": 61,
   "id": "35e0106c",
   "metadata": {
    "execution": {
     "iopub.execute_input": "2024-10-05T14:16:10.398025Z",
     "iopub.status.busy": "2024-10-05T14:16:10.397314Z",
     "iopub.status.idle": "2024-10-05T14:16:10.405324Z",
     "shell.execute_reply": "2024-10-05T14:16:10.404404Z"
    },
    "papermill": {
     "duration": 0.06197,
     "end_time": "2024-10-05T14:16:10.407546",
     "exception": false,
     "start_time": "2024-10-05T14:16:10.345576",
     "status": "completed"
    },
    "tags": []
   },
   "outputs": [
    {
     "name": "stderr",
     "output_type": "stream",
     "text": [
      "/tmp/ipykernel_23/1421540899.py:2: SettingWithCopyWarning: \n",
      "A value is trying to be set on a copy of a slice from a DataFrame.\n",
      "Try using .loc[row_indexer,col_indexer] = value instead\n",
      "\n",
      "See the caveats in the documentation: https://pandas.pydata.org/pandas-docs/stable/user_guide/indexing.html#returning-a-view-versus-a-copy\n",
      "  df['loan_status'] = df['loan_status'].astype('int8')\n",
      "/tmp/ipykernel_23/1421540899.py:2: SettingWithCopyWarning: \n",
      "A value is trying to be set on a copy of a slice from a DataFrame.\n",
      "Try using .loc[row_indexer,col_indexer] = value instead\n",
      "\n",
      "See the caveats in the documentation: https://pandas.pydata.org/pandas-docs/stable/user_guide/indexing.html#returning-a-view-versus-a-copy\n",
      "  df['loan_status'] = df['loan_status'].astype('int8')\n"
     ]
    }
   ],
   "source": [
    "for df in [raw_df, original_df, concat_df]:\n",
    "    df['loan_status'] = df['loan_status'].astype('int8')"
   ]
  },
  {
   "cell_type": "markdown",
   "id": "f665679c",
   "metadata": {
    "papermill": {
     "duration": 0.038792,
     "end_time": "2024-10-05T14:16:10.486092",
     "exception": false,
     "start_time": "2024-10-05T14:16:10.447300",
     "status": "completed"
    },
    "tags": []
   },
   "source": [
    "### Mutual info"
   ]
  },
  {
   "cell_type": "code",
   "execution_count": 62,
   "id": "aa298a25",
   "metadata": {
    "execution": {
     "iopub.execute_input": "2024-10-05T14:16:10.571819Z",
     "iopub.status.busy": "2024-10-05T14:16:10.571388Z",
     "iopub.status.idle": "2024-10-05T14:16:10.579505Z",
     "shell.execute_reply": "2024-10-05T14:16:10.578452Z"
    },
    "papermill": {
     "duration": 0.055736,
     "end_time": "2024-10-05T14:16:10.582021",
     "exception": false,
     "start_time": "2024-10-05T14:16:10.526285",
     "status": "completed"
    },
    "tags": []
   },
   "outputs": [],
   "source": [
    "inputs, targets = concat_df[input_cols], concat_df['loan_status']"
   ]
  },
  {
   "cell_type": "code",
   "execution_count": 63,
   "id": "d9354564",
   "metadata": {
    "execution": {
     "iopub.execute_input": "2024-10-05T14:16:10.668711Z",
     "iopub.status.busy": "2024-10-05T14:16:10.667673Z",
     "iopub.status.idle": "2024-10-05T14:16:17.817299Z",
     "shell.execute_reply": "2024-10-05T14:16:17.816342Z"
    },
    "papermill": {
     "duration": 7.193058,
     "end_time": "2024-10-05T14:16:17.819544",
     "exception": false,
     "start_time": "2024-10-05T14:16:10.626486",
     "status": "completed"
    },
    "tags": []
   },
   "outputs": [
    {
     "name": "stdout",
     "output_type": "stream",
     "text": [
      "CPU times: user 7.11 s, sys: 30.9 ms, total: 7.14 s\n",
      "Wall time: 7.14 s\n"
     ]
    }
   ],
   "source": [
    "%%time\n",
    "mutual_info = mutual_info_classif(inputs, targets, random_state=42)\n",
    "mutual_info = pd.Series(mutual_info)\n",
    "mutual_info.index = inputs.columns\n",
    "mutual_info = pd.DataFrame(mutual_info.sort_values(ascending=False), columns = [\"Numerical_Feature_MI\"] )"
   ]
  },
  {
   "cell_type": "code",
   "execution_count": 64,
   "id": "b15d6d4f",
   "metadata": {
    "execution": {
     "iopub.execute_input": "2024-10-05T14:16:17.900198Z",
     "iopub.status.busy": "2024-10-05T14:16:17.899728Z",
     "iopub.status.idle": "2024-10-05T14:16:17.958098Z",
     "shell.execute_reply": "2024-10-05T14:16:17.957154Z"
    },
    "papermill": {
     "duration": 0.100764,
     "end_time": "2024-10-05T14:16:17.960133",
     "exception": false,
     "start_time": "2024-10-05T14:16:17.859369",
     "status": "completed"
    },
    "tags": []
   },
   "outputs": [
    {
     "data": {
      "text/html": [
       "<style type=\"text/css\">\n",
       "#T_02113_row0_col0 {\n",
       "  background-color: #ff00ff;\n",
       "  color: #f1f1f1;\n",
       "}\n",
       "#T_02113_row1_col0 {\n",
       "  background-color: #c23dff;\n",
       "  color: #f1f1f1;\n",
       "}\n",
       "#T_02113_row2_col0 {\n",
       "  background-color: #b649ff;\n",
       "  color: #f1f1f1;\n",
       "}\n",
       "#T_02113_row3_col0 {\n",
       "  background-color: #b34cff;\n",
       "  color: #f1f1f1;\n",
       "}\n",
       "#T_02113_row4_col0 {\n",
       "  background-color: #b04fff;\n",
       "  color: #f1f1f1;\n",
       "}\n",
       "#T_02113_row5_col0 {\n",
       "  background-color: #af50ff;\n",
       "  color: #f1f1f1;\n",
       "}\n",
       "#T_02113_row6_col0 {\n",
       "  background-color: #a758ff;\n",
       "  color: #f1f1f1;\n",
       "}\n",
       "#T_02113_row7_col0 {\n",
       "  background-color: #a35cff;\n",
       "  color: #f1f1f1;\n",
       "}\n",
       "#T_02113_row8_col0 {\n",
       "  background-color: #4bb4ff;\n",
       "  color: #000000;\n",
       "}\n",
       "#T_02113_row9_col0 {\n",
       "  background-color: #21deff;\n",
       "  color: #000000;\n",
       "}\n",
       "#T_02113_row10_col0 {\n",
       "  background-color: #1de2ff;\n",
       "  color: #000000;\n",
       "}\n",
       "#T_02113_row11_col0, #T_02113_row12_col0 {\n",
       "  background-color: #10efff;\n",
       "  color: #000000;\n",
       "}\n",
       "#T_02113_row13_col0 {\n",
       "  background-color: #0bf4ff;\n",
       "  color: #000000;\n",
       "}\n",
       "#T_02113_row14_col0 {\n",
       "  background-color: #09f6ff;\n",
       "  color: #000000;\n",
       "}\n",
       "#T_02113_row15_col0 {\n",
       "  background-color: #07f8ff;\n",
       "  color: #000000;\n",
       "}\n",
       "#T_02113_row16_col0 {\n",
       "  background-color: #00ffff;\n",
       "  color: #000000;\n",
       "}\n",
       "</style>\n",
       "<table id=\"T_02113\">\n",
       "  <thead>\n",
       "    <tr>\n",
       "      <th class=\"blank level0\" >&nbsp;</th>\n",
       "      <th id=\"T_02113_level0_col0\" class=\"col_heading level0 col0\" >Numerical_Feature_MI</th>\n",
       "    </tr>\n",
       "  </thead>\n",
       "  <tbody>\n",
       "    <tr>\n",
       "      <th id=\"T_02113_level0_row0\" class=\"row_heading level0 row0\" >person_income</th>\n",
       "      <td id=\"T_02113_row0_col0\" class=\"data row0 col0\" >0.114581</td>\n",
       "    </tr>\n",
       "    <tr>\n",
       "      <th id=\"T_02113_level0_row1\" class=\"row_heading level0 row1\" >ratio_person_income_person_age</th>\n",
       "      <td id=\"T_02113_row1_col0\" class=\"data row1 col0\" >0.087409</td>\n",
       "    </tr>\n",
       "    <tr>\n",
       "      <th id=\"T_02113_level0_row2\" class=\"row_heading level0 row2\" >loan_percent_income</th>\n",
       "      <td id=\"T_02113_row2_col0\" class=\"data row2 col0\" >0.081940</td>\n",
       "    </tr>\n",
       "    <tr>\n",
       "      <th id=\"T_02113_level0_row3\" class=\"row_heading level0 row3\" >loan_int_rate</th>\n",
       "      <td id=\"T_02113_row3_col0\" class=\"data row3 col0\" >0.080742</td>\n",
       "    </tr>\n",
       "    <tr>\n",
       "      <th id=\"T_02113_level0_row4\" class=\"row_heading level0 row4\" >loan_grade</th>\n",
       "      <td id=\"T_02113_row4_col0\" class=\"data row4 col0\" >0.079295</td>\n",
       "    </tr>\n",
       "    <tr>\n",
       "      <th id=\"T_02113_level0_row5\" class=\"row_heading level0 row5\" >person_loan</th>\n",
       "      <td id=\"T_02113_row5_col0\" class=\"data row5 col0\" >0.078746</td>\n",
       "    </tr>\n",
       "    <tr>\n",
       "      <th id=\"T_02113_level0_row6\" class=\"row_heading level0 row6\" >count_cat</th>\n",
       "      <td id=\"T_02113_row6_col0\" class=\"data row6 col0\" >0.075551</td>\n",
       "    </tr>\n",
       "    <tr>\n",
       "      <th id=\"T_02113_level0_row7\" class=\"row_heading level0 row7\" >ratio_person_income_person_emp_length</th>\n",
       "      <td id=\"T_02113_row7_col0\" class=\"data row7 col0\" >0.073490</td>\n",
       "    </tr>\n",
       "    <tr>\n",
       "      <th id=\"T_02113_level0_row8\" class=\"row_heading level0 row8\" >person_home_ownership</th>\n",
       "      <td id=\"T_02113_row8_col0\" class=\"data row8 col0\" >0.034720</td>\n",
       "    </tr>\n",
       "    <tr>\n",
       "      <th id=\"T_02113_level0_row9\" class=\"row_heading level0 row9\" >loan_amnt</th>\n",
       "      <td id=\"T_02113_row9_col0\" class=\"data row9 col0\" >0.016073</td>\n",
       "    </tr>\n",
       "    <tr>\n",
       "      <th id=\"T_02113_level0_row10\" class=\"row_heading level0 row10\" >cb_person_default_on_file</th>\n",
       "      <td id=\"T_02113_row10_col0\" class=\"data row10 col0\" >0.014340</td>\n",
       "    </tr>\n",
       "    <tr>\n",
       "      <th id=\"T_02113_level0_row11\" class=\"row_heading level0 row11\" >person_emp_length</th>\n",
       "      <td id=\"T_02113_row11_col0\" class=\"data row11 col0\" >0.008405</td>\n",
       "    </tr>\n",
       "    <tr>\n",
       "      <th id=\"T_02113_level0_row12\" class=\"row_heading level0 row12\" >loan_intent</th>\n",
       "      <td id=\"T_02113_row12_col0\" class=\"data row12 col0\" >0.008356</td>\n",
       "    </tr>\n",
       "    <tr>\n",
       "      <th id=\"T_02113_level0_row13\" class=\"row_heading level0 row13\" >ratio_person_age_person_emp_lenth</th>\n",
       "      <td id=\"T_02113_row13_col0\" class=\"data row13 col0\" >0.006103</td>\n",
       "    </tr>\n",
       "    <tr>\n",
       "      <th id=\"T_02113_level0_row14\" class=\"row_heading level0 row14\" >sum_person_age_person_emp_lenth</th>\n",
       "      <td id=\"T_02113_row14_col0\" class=\"data row14 col0\" >0.005290</td>\n",
       "    </tr>\n",
       "    <tr>\n",
       "      <th id=\"T_02113_level0_row15\" class=\"row_heading level0 row15\" >person_age</th>\n",
       "      <td id=\"T_02113_row15_col0\" class=\"data row15 col0\" >0.004286</td>\n",
       "    </tr>\n",
       "    <tr>\n",
       "      <th id=\"T_02113_level0_row16\" class=\"row_heading level0 row16\" >cb_person_cred_hist_length</th>\n",
       "      <td id=\"T_02113_row16_col0\" class=\"data row16 col0\" >0.001181</td>\n",
       "    </tr>\n",
       "  </tbody>\n",
       "</table>\n"
      ],
      "text/plain": [
       "<pandas.io.formats.style.Styler at 0x7cc811a99f00>"
      ]
     },
     "execution_count": 64,
     "metadata": {},
     "output_type": "execute_result"
    }
   ],
   "source": [
    "mutual_info.style.background_gradient('cool')"
   ]
  },
  {
   "cell_type": "markdown",
   "id": "d793e57d",
   "metadata": {
    "papermill": {
     "duration": 0.038972,
     "end_time": "2024-10-05T14:16:18.038552",
     "exception": false,
     "start_time": "2024-10-05T14:16:17.999580",
     "status": "completed"
    },
    "tags": []
   },
   "source": [
    "## Training model"
   ]
  },
  {
   "cell_type": "code",
   "execution_count": 65,
   "id": "07be3535",
   "metadata": {
    "execution": {
     "iopub.execute_input": "2024-10-05T14:16:18.118636Z",
     "iopub.status.busy": "2024-10-05T14:16:18.117873Z",
     "iopub.status.idle": "2024-10-05T14:16:18.128495Z",
     "shell.execute_reply": "2024-10-05T14:16:18.127665Z"
    },
    "papermill": {
     "duration": 0.052776,
     "end_time": "2024-10-05T14:16:18.130416",
     "exception": false,
     "start_time": "2024-10-05T14:16:18.077640",
     "status": "completed"
    },
    "tags": []
   },
   "outputs": [],
   "source": [
    "def cross_validation(clf, cv, inputs, targets, test_inputs=None, need_print=False):\n",
    "    train_accs = []\n",
    "    val_accs = []\n",
    "    if test_inputs is not None:\n",
    "        test_preds = np.zeros(len(test_inputs))\n",
    "    else:\n",
    "        test_preds = np.zeros(len(inputs))\n",
    "    for fold, (train_idx, val_idx) in enumerate(cv.split(inputs, targets)):\n",
    "        X_train = inputs.iloc[train_idx].reset_index(drop=True)\n",
    "        y_train = targets.iloc[train_idx].reset_index(drop=True)\n",
    "        X_val = inputs.iloc[val_idx].reset_index(drop=True)\n",
    "        y_val = targets.iloc[val_idx].reset_index(drop=True)\n",
    "\n",
    "        clf.fit(X_train, y_train)\n",
    "\n",
    "        train_pred = clf.predict_proba(X_train)[:,1]\n",
    "        train_acc = roc_auc_score(y_train, train_pred)\n",
    "        train_accs.append(train_acc)\n",
    "        val_pred = clf.predict_proba(X_val)[:,1]\n",
    "        val_acc = roc_auc_score(y_val, val_pred)\n",
    "        val_accs.append(val_acc)\n",
    "\n",
    "        if need_print:\n",
    "            print(f'Fold {fold}: train_acc = {train_acc:.5f}, val_acc = {val_acc:.5f}')\n",
    "\n",
    "        if test_inputs is not None:\n",
    "            test_pred = clf.predict_proba(test_inputs)[:,1]\n",
    "            test_preds += test_pred/cv.get_n_splits()\n",
    "            \n",
    "    m_train_acc = np.mean(train_accs)\n",
    "    s_train_acc = np.std(train_accs)\n",
    "    m_val_acc = np.mean(val_accs)\n",
    "    s_val_acc = np.std(val_accs)\n",
    "    \n",
    "    msg = f'{m_val_acc:.7f} ± {s_val_acc:.7f}'\n",
    "    \n",
    "    if need_print:\n",
    "        print(f'Train acc: {m_train_acc:.7f} ± {s_train_acc:.7f} | Val acc: {m_val_acc:.7f} ± {s_val_acc:.7f}')\n",
    "    return test_preds, msg"
   ]
  },
  {
   "cell_type": "code",
   "execution_count": 66,
   "id": "3e277dc2",
   "metadata": {
    "execution": {
     "iopub.execute_input": "2024-10-05T14:16:18.210390Z",
     "iopub.status.busy": "2024-10-05T14:16:18.209785Z",
     "iopub.status.idle": "2024-10-05T14:16:18.216864Z",
     "shell.execute_reply": "2024-10-05T14:16:18.215995Z"
    },
    "papermill": {
     "duration": 0.049153,
     "end_time": "2024-10-05T14:16:18.218720",
     "exception": false,
     "start_time": "2024-10-05T14:16:18.169567",
     "status": "completed"
    },
    "tags": []
   },
   "outputs": [],
   "source": [
    "def test_with_models(models: dict, features: dict, \n",
    "                     df: pd.DataFrame, target: str, cv):\n",
    "    result = dict()\n",
    "    result['Classifier'] = []\n",
    "    for feature, _ in features.items():\n",
    "        result[f'Acc with {feature} features'] = []\n",
    "    targets = df[target]\n",
    "    for name, model in models.items():\n",
    "        result['Classifier'].append(name)\n",
    "        for f_name, feature in features.items():\n",
    "            inputs = df[feature]\n",
    "            _, msg = cross_validation(model, cv, \n",
    "                                         inputs, targets,\n",
    "                                         test_inputs=None, \n",
    "                                         need_print=False)\n",
    "            result[f'Acc with {f_name} features'].append(msg)\n",
    "    \n",
    "    return pd.DataFrame(result)"
   ]
  },
  {
   "cell_type": "code",
   "execution_count": 67,
   "id": "546d3f9b",
   "metadata": {
    "execution": {
     "iopub.execute_input": "2024-10-05T14:16:18.300735Z",
     "iopub.status.busy": "2024-10-05T14:16:18.299875Z",
     "iopub.status.idle": "2024-10-05T14:16:18.308770Z",
     "shell.execute_reply": "2024-10-05T14:16:18.307893Z"
    },
    "papermill": {
     "duration": 0.052489,
     "end_time": "2024-10-05T14:16:18.310564",
     "exception": false,
     "start_time": "2024-10-05T14:16:18.258075",
     "status": "completed"
    },
    "tags": []
   },
   "outputs": [],
   "source": [
    "classifiers = {\n",
    "    'Logit': LogisticRegression(n_jobs=-1, max_iter=1000),\n",
    "    'RandomForest': RandomForestClassifier(n_jobs=-1),\n",
    "    'XGB': XGBClassifier(n_jobs=-1, device='cuda'),\n",
    "    'LGBM' : LGBMClassifier(n_jobs=-1,verbose=-1),\n",
    "    'CAT': CatBoostClassifier(logging_level='Silent')\n",
    "}\n",
    "features = {\n",
    "    'all': input_cols\n",
    "}\n",
    "cv = StratifiedKFold(n_splits=5, shuffle=True, random_state=42)"
   ]
  },
  {
   "cell_type": "code",
   "execution_count": 68,
   "id": "96056343",
   "metadata": {
    "execution": {
     "iopub.execute_input": "2024-10-05T14:16:18.390642Z",
     "iopub.status.busy": "2024-10-05T14:16:18.389800Z",
     "iopub.status.idle": "2024-10-05T14:17:36.917783Z",
     "shell.execute_reply": "2024-10-05T14:17:36.916773Z"
    },
    "papermill": {
     "duration": 78.609635,
     "end_time": "2024-10-05T14:17:36.959156",
     "exception": false,
     "start_time": "2024-10-05T14:16:18.349521",
     "status": "completed"
    },
    "tags": []
   },
   "outputs": [
    {
     "name": "stderr",
     "output_type": "stream",
     "text": [
      "/opt/conda/lib/python3.10/site-packages/xgboost/core.py:160: UserWarning: [14:16:44] WARNING: /workspace/src/common/error_msg.cc:58: Falling back to prediction using DMatrix due to mismatched devices. This might lead to higher memory usage and slower performance. XGBoost is running on: cuda:0, while the input data is on: cpu.\n",
      "Potential solutions:\n",
      "- Use a data structure that matches the device ordinal in the booster.\n",
      "- Set the device for booster before call to inplace_predict.\n",
      "\n",
      "This warning will only be shown once.\n",
      "\n",
      "  warnings.warn(smsg, UserWarning)\n"
     ]
    },
    {
     "name": "stdout",
     "output_type": "stream",
     "text": [
      "CPU times: user 4min 21s, sys: 14.4 s, total: 4min 36s\n",
      "Wall time: 1min 18s\n"
     ]
    },
    {
     "data": {
      "text/html": [
       "<div>\n",
       "<style scoped>\n",
       "    .dataframe tbody tr th:only-of-type {\n",
       "        vertical-align: middle;\n",
       "    }\n",
       "\n",
       "    .dataframe tbody tr th {\n",
       "        vertical-align: top;\n",
       "    }\n",
       "\n",
       "    .dataframe thead th {\n",
       "        text-align: right;\n",
       "    }\n",
       "</style>\n",
       "<table border=\"1\" class=\"dataframe\">\n",
       "  <thead>\n",
       "    <tr style=\"text-align: right;\">\n",
       "      <th></th>\n",
       "      <th>Classifier</th>\n",
       "      <th>Acc with all features</th>\n",
       "    </tr>\n",
       "  </thead>\n",
       "  <tbody>\n",
       "    <tr>\n",
       "      <th>0</th>\n",
       "      <td>Logit</td>\n",
       "      <td>0.8605737 ± 0.0040612</td>\n",
       "    </tr>\n",
       "    <tr>\n",
       "      <th>1</th>\n",
       "      <td>RandomForest</td>\n",
       "      <td>0.9354109 ± 0.0064318</td>\n",
       "    </tr>\n",
       "    <tr>\n",
       "      <th>2</th>\n",
       "      <td>XGB</td>\n",
       "      <td>0.9522707 ± 0.0050889</td>\n",
       "    </tr>\n",
       "    <tr>\n",
       "      <th>3</th>\n",
       "      <td>LGBM</td>\n",
       "      <td>0.9556220 ± 0.0044400</td>\n",
       "    </tr>\n",
       "    <tr>\n",
       "      <th>4</th>\n",
       "      <td>CAT</td>\n",
       "      <td>0.9558991 ± 0.0052875</td>\n",
       "    </tr>\n",
       "  </tbody>\n",
       "</table>\n",
       "</div>"
      ],
      "text/plain": [
       "     Classifier  Acc with all features\n",
       "0         Logit  0.8605737 ± 0.0040612\n",
       "1  RandomForest  0.9354109 ± 0.0064318\n",
       "2           XGB  0.9522707 ± 0.0050889\n",
       "3          LGBM  0.9556220 ± 0.0044400\n",
       "4           CAT  0.9558991 ± 0.0052875"
      ]
     },
     "execution_count": 68,
     "metadata": {},
     "output_type": "execute_result"
    }
   ],
   "source": [
    "%%time\n",
    "test_with_models(classifiers, features, raw_df, 'loan_status', cv)"
   ]
  },
  {
   "cell_type": "code",
   "execution_count": 69,
   "id": "be1cbd7f",
   "metadata": {
    "execution": {
     "iopub.execute_input": "2024-10-05T14:17:37.082549Z",
     "iopub.status.busy": "2024-10-05T14:17:37.082158Z",
     "iopub.status.idle": "2024-10-05T14:19:26.946891Z",
     "shell.execute_reply": "2024-10-05T14:19:26.945978Z"
    },
    "papermill": {
     "duration": 109.950713,
     "end_time": "2024-10-05T14:19:26.992304",
     "exception": false,
     "start_time": "2024-10-05T14:17:37.041591",
     "status": "completed"
    },
    "tags": []
   },
   "outputs": [
    {
     "name": "stdout",
     "output_type": "stream",
     "text": [
      "CPU times: user 6min 24s, sys: 17.1 s, total: 6min 41s\n",
      "Wall time: 1min 49s\n"
     ]
    },
    {
     "data": {
      "text/html": [
       "<div>\n",
       "<style scoped>\n",
       "    .dataframe tbody tr th:only-of-type {\n",
       "        vertical-align: middle;\n",
       "    }\n",
       "\n",
       "    .dataframe tbody tr th {\n",
       "        vertical-align: top;\n",
       "    }\n",
       "\n",
       "    .dataframe thead th {\n",
       "        text-align: right;\n",
       "    }\n",
       "</style>\n",
       "<table border=\"1\" class=\"dataframe\">\n",
       "  <thead>\n",
       "    <tr style=\"text-align: right;\">\n",
       "      <th></th>\n",
       "      <th>Classifier</th>\n",
       "      <th>Acc with all features</th>\n",
       "    </tr>\n",
       "  </thead>\n",
       "  <tbody>\n",
       "    <tr>\n",
       "      <th>0</th>\n",
       "      <td>Logit</td>\n",
       "      <td>0.8467086 ± 0.0057536</td>\n",
       "    </tr>\n",
       "    <tr>\n",
       "      <th>1</th>\n",
       "      <td>RandomForest</td>\n",
       "      <td>0.9408051 ± 0.0035346</td>\n",
       "    </tr>\n",
       "    <tr>\n",
       "      <th>2</th>\n",
       "      <td>XGB</td>\n",
       "      <td>0.9564566 ± 0.0028088</td>\n",
       "    </tr>\n",
       "    <tr>\n",
       "      <th>3</th>\n",
       "      <td>LGBM</td>\n",
       "      <td>0.9559956 ± 0.0028102</td>\n",
       "    </tr>\n",
       "    <tr>\n",
       "      <th>4</th>\n",
       "      <td>CAT</td>\n",
       "      <td>0.9569839 ± 0.0033183</td>\n",
       "    </tr>\n",
       "  </tbody>\n",
       "</table>\n",
       "</div>"
      ],
      "text/plain": [
       "     Classifier  Acc with all features\n",
       "0         Logit  0.8467086 ± 0.0057536\n",
       "1  RandomForest  0.9408051 ± 0.0035346\n",
       "2           XGB  0.9564566 ± 0.0028088\n",
       "3          LGBM  0.9559956 ± 0.0028102\n",
       "4           CAT  0.9569839 ± 0.0033183"
      ]
     },
     "execution_count": 69,
     "metadata": {},
     "output_type": "execute_result"
    }
   ],
   "source": [
    "%%time\n",
    "test_with_models(classifiers, features, concat_df, 'loan_status', cv)"
   ]
  },
  {
   "cell_type": "code",
   "execution_count": 70,
   "id": "b4fceaa3",
   "metadata": {
    "execution": {
     "iopub.execute_input": "2024-10-05T14:19:27.074545Z",
     "iopub.status.busy": "2024-10-05T14:19:27.073898Z",
     "iopub.status.idle": "2024-10-05T14:19:27.078601Z",
     "shell.execute_reply": "2024-10-05T14:19:27.077736Z"
    },
    "papermill": {
     "duration": 0.048029,
     "end_time": "2024-10-05T14:19:27.080454",
     "exception": false,
     "start_time": "2024-10-05T14:19:27.032425",
     "status": "completed"
    },
    "tags": []
   },
   "outputs": [],
   "source": [
    "scores = {\n",
    "    'Classifier': [],\n",
    "    'Train Score': [],\n",
    "    'Val Score': [],\n",
    "    'Test Score': []\n",
    "}"
   ]
  },
  {
   "cell_type": "code",
   "execution_count": 71,
   "id": "6fc39aae",
   "metadata": {
    "execution": {
     "iopub.execute_input": "2024-10-05T14:19:27.162793Z",
     "iopub.status.busy": "2024-10-05T14:19:27.161902Z",
     "iopub.status.idle": "2024-10-05T14:19:27.173109Z",
     "shell.execute_reply": "2024-10-05T14:19:27.172310Z"
    },
    "papermill": {
     "duration": 0.055167,
     "end_time": "2024-10-05T14:19:27.175099",
     "exception": false,
     "start_time": "2024-10-05T14:19:27.119932",
     "status": "completed"
    },
    "tags": []
   },
   "outputs": [],
   "source": [
    "inputs, targets = concat_df[input_cols], concat_df['loan_status']\n",
    "test_inputs = test_df[input_cols]"
   ]
  },
  {
   "cell_type": "markdown",
   "id": "8fdca9ec",
   "metadata": {
    "papermill": {
     "duration": 0.039861,
     "end_time": "2024-10-05T14:19:27.255764",
     "exception": false,
     "start_time": "2024-10-05T14:19:27.215903",
     "status": "completed"
    },
    "tags": []
   },
   "source": [
    "### Random Forest"
   ]
  },
  {
   "cell_type": "code",
   "execution_count": 72,
   "id": "3f844730",
   "metadata": {
    "execution": {
     "iopub.execute_input": "2024-10-05T14:19:27.337423Z",
     "iopub.status.busy": "2024-10-05T14:19:27.336799Z",
     "iopub.status.idle": "2024-10-05T14:20:02.026865Z",
     "shell.execute_reply": "2024-10-05T14:20:02.025831Z"
    },
    "papermill": {
     "duration": 34.735828,
     "end_time": "2024-10-05T14:20:02.031556",
     "exception": false,
     "start_time": "2024-10-05T14:19:27.295728",
     "status": "completed"
    },
    "tags": []
   },
   "outputs": [
    {
     "name": "stdout",
     "output_type": "stream",
     "text": [
      "Fold 0: train_acc = 1.00000, val_acc = 0.94348\n",
      "Fold 1: train_acc = 1.00000, val_acc = 0.94237\n",
      "Fold 2: train_acc = 1.00000, val_acc = 0.93977\n",
      "Fold 3: train_acc = 1.00000, val_acc = 0.93335\n",
      "Fold 4: train_acc = 1.00000, val_acc = 0.94462\n",
      "Train acc: 0.9999998 ± 0.0000002 | Val acc: 0.9407189 ± 0.0040186\n",
      "CPU times: user 2min 11s, sys: 461 ms, total: 2min 11s\n",
      "Wall time: 34.7 s\n"
     ]
    }
   ],
   "source": [
    "%%time\n",
    "clf = RandomForestClassifier(n_jobs=-1)\n",
    "test_preds, _ = cross_validation(clf, cv, inputs, targets, \n",
    "                                 need_print=True, test_inputs=test_inputs)"
   ]
  },
  {
   "cell_type": "code",
   "execution_count": 73,
   "id": "c33033a2",
   "metadata": {
    "execution": {
     "iopub.execute_input": "2024-10-05T14:20:02.114826Z",
     "iopub.status.busy": "2024-10-05T14:20:02.114328Z",
     "iopub.status.idle": "2024-10-05T14:20:02.201753Z",
     "shell.execute_reply": "2024-10-05T14:20:02.200972Z"
    },
    "papermill": {
     "duration": 0.132112,
     "end_time": "2024-10-05T14:20:02.203941",
     "exception": false,
     "start_time": "2024-10-05T14:20:02.071829",
     "status": "completed"
    },
    "tags": []
   },
   "outputs": [],
   "source": [
    "sub_df['loan_status'] = test_preds\n",
    "sub_df.to_csv('/kaggle/working/sub_rf.csv', index=None)"
   ]
  },
  {
   "cell_type": "code",
   "execution_count": 74,
   "id": "e3ee3db9",
   "metadata": {
    "execution": {
     "iopub.execute_input": "2024-10-05T14:20:02.287620Z",
     "iopub.status.busy": "2024-10-05T14:20:02.287247Z",
     "iopub.status.idle": "2024-10-05T14:20:02.292003Z",
     "shell.execute_reply": "2024-10-05T14:20:02.291126Z"
    },
    "papermill": {
     "duration": 0.048956,
     "end_time": "2024-10-05T14:20:02.294099",
     "exception": false,
     "start_time": "2024-10-05T14:20:02.245143",
     "status": "completed"
    },
    "tags": []
   },
   "outputs": [],
   "source": [
    "scores['Classifier'].append('RF without tuning')\n",
    "scores['Train Score'].append(1.00000)\n",
    "scores['Val Score'].append(0.94060)\n",
    "scores['Test Score'].append(0.94661)"
   ]
  },
  {
   "cell_type": "markdown",
   "id": "40a70680",
   "metadata": {
    "papermill": {
     "duration": 0.04012,
     "end_time": "2024-10-05T14:20:02.375454",
     "exception": false,
     "start_time": "2024-10-05T14:20:02.335334",
     "status": "completed"
    },
    "tags": []
   },
   "source": [
    "### XGB"
   ]
  },
  {
   "cell_type": "code",
   "execution_count": 75,
   "id": "e1cbd293",
   "metadata": {
    "execution": {
     "iopub.execute_input": "2024-10-05T14:20:02.458795Z",
     "iopub.status.busy": "2024-10-05T14:20:02.458174Z",
     "iopub.status.idle": "2024-10-05T14:20:04.573794Z",
     "shell.execute_reply": "2024-10-05T14:20:04.573037Z"
    },
    "papermill": {
     "duration": 2.15954,
     "end_time": "2024-10-05T14:20:04.576111",
     "exception": false,
     "start_time": "2024-10-05T14:20:02.416571",
     "status": "completed"
    },
    "tags": []
   },
   "outputs": [
    {
     "name": "stdout",
     "output_type": "stream",
     "text": [
      "Fold 0: train_acc = 0.98367, val_acc = 0.95936\n",
      "Fold 1: train_acc = 0.98257, val_acc = 0.95857\n",
      "Fold 2: train_acc = 0.98380, val_acc = 0.95420\n",
      "Fold 3: train_acc = 0.98353, val_acc = 0.95210\n",
      "Fold 4: train_acc = 0.98326, val_acc = 0.95805\n",
      "Train acc: 0.9833671 ± 0.0004365 | Val acc: 0.9564566 ± 0.0028088\n",
      "CPU times: user 4.62 s, sys: 50.8 ms, total: 4.67 s\n",
      "Wall time: 2.11 s\n"
     ]
    }
   ],
   "source": [
    "%%time\n",
    "clf = XGBClassifier(n_jobs=-1, device='cuda')\n",
    "test_preds, _ = cross_validation(clf, cv, inputs, targets, \n",
    "                                 need_print=True, test_inputs=test_inputs)"
   ]
  },
  {
   "cell_type": "code",
   "execution_count": 76,
   "id": "bf1d489c",
   "metadata": {
    "execution": {
     "iopub.execute_input": "2024-10-05T14:20:04.660877Z",
     "iopub.status.busy": "2024-10-05T14:20:04.660515Z",
     "iopub.status.idle": "2024-10-05T14:20:04.774995Z",
     "shell.execute_reply": "2024-10-05T14:20:04.773969Z"
    },
    "papermill": {
     "duration": 0.159265,
     "end_time": "2024-10-05T14:20:04.777372",
     "exception": false,
     "start_time": "2024-10-05T14:20:04.618107",
     "status": "completed"
    },
    "tags": []
   },
   "outputs": [],
   "source": [
    "sub_df['loan_status'] = test_preds\n",
    "sub_df.to_csv('/kaggle/working/sub_xgb.csv', index=None)"
   ]
  },
  {
   "cell_type": "code",
   "execution_count": 77,
   "id": "8ebb8dd5",
   "metadata": {
    "execution": {
     "iopub.execute_input": "2024-10-05T14:20:04.860853Z",
     "iopub.status.busy": "2024-10-05T14:20:04.860485Z",
     "iopub.status.idle": "2024-10-05T14:20:04.865408Z",
     "shell.execute_reply": "2024-10-05T14:20:04.864443Z"
    },
    "papermill": {
     "duration": 0.048668,
     "end_time": "2024-10-05T14:20:04.867271",
     "exception": false,
     "start_time": "2024-10-05T14:20:04.818603",
     "status": "completed"
    },
    "tags": []
   },
   "outputs": [],
   "source": [
    "scores['Classifier'].append('XGB without tuning')\n",
    "scores['Train Score'].append(0.98337)\n",
    "scores['Val Score'].append(0.95646)\n",
    "scores['Test Score'].append(0.96417)"
   ]
  },
  {
   "cell_type": "code",
   "execution_count": 78,
   "id": "7b00175f",
   "metadata": {
    "execution": {
     "iopub.execute_input": "2024-10-05T14:20:04.954841Z",
     "iopub.status.busy": "2024-10-05T14:20:04.954475Z",
     "iopub.status.idle": "2024-10-05T14:20:04.965051Z",
     "shell.execute_reply": "2024-10-05T14:20:04.964199Z"
    },
    "papermill": {
     "duration": 0.055135,
     "end_time": "2024-10-05T14:20:04.966989",
     "exception": false,
     "start_time": "2024-10-05T14:20:04.911854",
     "status": "completed"
    },
    "tags": []
   },
   "outputs": [],
   "source": [
    "param_dis = {\n",
    "    'n_estimators': np.arange(100,600,150),\n",
    "    'max_depth': np.arange(8,17,2),\n",
    "    'learning_rate': loguniform(0.009,0.25),\n",
    "    'reg_lambda': loguniform(1e-5,5),\n",
    "    'subsample': loguniform(0.5,1),\n",
    "    'min_child_weight': loguniform(0.4,5),\n",
    "    'eval_metric': ['auc'],\n",
    "    'tree_method': ['hist'],\n",
    "    'colsample_bytree': loguniform(0.25,1),\n",
    "    'nthread': [2],\n",
    "    'n_jobs': [-1],\n",
    "    'device': ['cuda'],\n",
    "    'max_bin': [256,512]\n",
    "}"
   ]
  },
  {
   "cell_type": "code",
   "execution_count": 79,
   "id": "d6c69fb7",
   "metadata": {
    "execution": {
     "iopub.execute_input": "2024-10-05T14:20:05.052043Z",
     "iopub.status.busy": "2024-10-05T14:20:05.051654Z",
     "iopub.status.idle": "2024-10-05T14:20:05.058159Z",
     "shell.execute_reply": "2024-10-05T14:20:05.057267Z"
    },
    "papermill": {
     "duration": 0.052642,
     "end_time": "2024-10-05T14:20:05.060282",
     "exception": false,
     "start_time": "2024-10-05T14:20:05.007640",
     "status": "completed"
    },
    "scrolled": true,
    "tags": []
   },
   "outputs": [
    {
     "data": {
      "text/plain": [
       "\"%%time\\nsearch = RandomizedSearchCV(XGBClassifier(), param_dis, \\n                            n_iter=200, refit=True,\\n                            scoring = 'roc_auc',\\n                            cv=cv, verbose=3)\\nsearch.fit(inputs, targets)\""
      ]
     },
     "execution_count": 79,
     "metadata": {},
     "output_type": "execute_result"
    }
   ],
   "source": [
    "'''%%time\n",
    "search = RandomizedSearchCV(XGBClassifier(), param_dis, \n",
    "                            n_iter=200, refit=True,\n",
    "                            scoring = 'roc_auc',\n",
    "                            cv=cv, verbose=3)\n",
    "search.fit(inputs, targets)'''"
   ]
  },
  {
   "cell_type": "code",
   "execution_count": 80,
   "id": "1fefc193",
   "metadata": {
    "execution": {
     "iopub.execute_input": "2024-10-05T14:20:05.152158Z",
     "iopub.status.busy": "2024-10-05T14:20:05.151444Z",
     "iopub.status.idle": "2024-10-05T14:20:05.156917Z",
     "shell.execute_reply": "2024-10-05T14:20:05.156033Z"
    },
    "papermill": {
     "duration": 0.055993,
     "end_time": "2024-10-05T14:20:05.158834",
     "exception": false,
     "start_time": "2024-10-05T14:20:05.102841",
     "status": "completed"
    },
    "tags": []
   },
   "outputs": [],
   "source": [
    "xgb_best_params = {\n",
    " 'colsample_bytree': 0.32971357590936407,\n",
    " 'device': 'cuda',\n",
    " 'eval_metric': 'auc',\n",
    " 'learning_rate': 0.02959320825872786,\n",
    " 'max_bin': 512,\n",
    " 'max_depth': 12,\n",
    " 'min_child_weight': 3.33437449731815,\n",
    " 'n_estimators': 550,\n",
    " 'n_jobs': -1,\n",
    " 'nthread': 2,\n",
    " 'reg_lambda': 0.017941202696813808,\n",
    " 'subsample': 0.8970317237668648,\n",
    " 'tree_method': 'hist'\n",
    "}"
   ]
  },
  {
   "cell_type": "code",
   "execution_count": 81,
   "id": "d5cf5b83",
   "metadata": {
    "execution": {
     "iopub.execute_input": "2024-10-05T14:20:05.243258Z",
     "iopub.status.busy": "2024-10-05T14:20:05.242881Z",
     "iopub.status.idle": "2024-10-05T14:20:32.568110Z",
     "shell.execute_reply": "2024-10-05T14:20:32.567118Z"
    },
    "papermill": {
     "duration": 27.369865,
     "end_time": "2024-10-05T14:20:32.570544",
     "exception": false,
     "start_time": "2024-10-05T14:20:05.200679",
     "status": "completed"
    },
    "tags": []
   },
   "outputs": [
    {
     "name": "stdout",
     "output_type": "stream",
     "text": [
      "Fold 0: train_acc = 0.99745, val_acc = 0.96111\n",
      "Fold 1: train_acc = 0.99744, val_acc = 0.96007\n",
      "Fold 2: train_acc = 0.99755, val_acc = 0.95644\n",
      "Fold 3: train_acc = 0.99772, val_acc = 0.95345\n",
      "Fold 4: train_acc = 0.99752, val_acc = 0.96000\n",
      "Train acc: 0.9975364 ± 0.0001008 | Val acc: 0.9582136 ± 0.0028584\n",
      "CPU times: user 29.3 s, sys: 171 ms, total: 29.4 s\n",
      "Wall time: 27.3 s\n"
     ]
    }
   ],
   "source": [
    "%%time\n",
    "clf = XGBClassifier(**xgb_best_params)\n",
    "test_preds, _ = cross_validation(clf, cv, inputs, targets, \n",
    "                                 need_print=True, test_inputs=test_inputs)"
   ]
  },
  {
   "cell_type": "code",
   "execution_count": 82,
   "id": "4361554e",
   "metadata": {
    "execution": {
     "iopub.execute_input": "2024-10-05T14:20:32.656468Z",
     "iopub.status.busy": "2024-10-05T14:20:32.655556Z",
     "iopub.status.idle": "2024-10-05T14:20:32.770403Z",
     "shell.execute_reply": "2024-10-05T14:20:32.769576Z"
    },
    "papermill": {
     "duration": 0.160513,
     "end_time": "2024-10-05T14:20:32.772723",
     "exception": false,
     "start_time": "2024-10-05T14:20:32.612210",
     "status": "completed"
    },
    "tags": []
   },
   "outputs": [],
   "source": [
    "sub_df['loan_status'] = test_preds\n",
    "sub_df.to_csv('/kaggle/working/sub_xgb_tuning.csv', index=None)"
   ]
  },
  {
   "cell_type": "code",
   "execution_count": 83,
   "id": "43f60ca1",
   "metadata": {
    "execution": {
     "iopub.execute_input": "2024-10-05T14:20:32.857388Z",
     "iopub.status.busy": "2024-10-05T14:20:32.857034Z",
     "iopub.status.idle": "2024-10-05T14:20:32.861979Z",
     "shell.execute_reply": "2024-10-05T14:20:32.861101Z"
    },
    "papermill": {
     "duration": 0.049402,
     "end_time": "2024-10-05T14:20:32.863852",
     "exception": false,
     "start_time": "2024-10-05T14:20:32.814450",
     "status": "completed"
    },
    "tags": []
   },
   "outputs": [],
   "source": [
    "scores['Classifier'].append('XGB with tuning')\n",
    "scores['Train Score'].append(0.99754)\n",
    "scores['Val Score'].append(0.95821)\n",
    "scores['Test Score'].append(0.96250)"
   ]
  },
  {
   "cell_type": "markdown",
   "id": "6df70802",
   "metadata": {
    "papermill": {
     "duration": 0.04101,
     "end_time": "2024-10-05T14:20:32.946410",
     "exception": false,
     "start_time": "2024-10-05T14:20:32.905400",
     "status": "completed"
    },
    "tags": []
   },
   "source": [
    "### LGBM"
   ]
  },
  {
   "cell_type": "code",
   "execution_count": 84,
   "id": "82dd798b",
   "metadata": {
    "execution": {
     "iopub.execute_input": "2024-10-05T14:20:33.030706Z",
     "iopub.status.busy": "2024-10-05T14:20:33.030368Z",
     "iopub.status.idle": "2024-10-05T14:20:37.735293Z",
     "shell.execute_reply": "2024-10-05T14:20:37.734286Z"
    },
    "papermill": {
     "duration": 4.751154,
     "end_time": "2024-10-05T14:20:37.738728",
     "exception": false,
     "start_time": "2024-10-05T14:20:32.987574",
     "status": "completed"
    },
    "tags": []
   },
   "outputs": [
    {
     "name": "stdout",
     "output_type": "stream",
     "text": [
      "Fold 0: train_acc = 0.96898, val_acc = 0.95881\n",
      "Fold 1: train_acc = 0.96926, val_acc = 0.95688\n",
      "Fold 2: train_acc = 0.96950, val_acc = 0.95382\n",
      "Fold 3: train_acc = 0.97017, val_acc = 0.95171\n",
      "Fold 4: train_acc = 0.97042, val_acc = 0.95877\n",
      "Train acc: 0.9696662 ± 0.0005466 | Val acc: 0.9559956 ± 0.0028102\n",
      "CPU times: user 18.4 s, sys: 122 ms, total: 18.6 s\n",
      "Wall time: 4.7 s\n"
     ]
    }
   ],
   "source": [
    "%%time\n",
    "clf = LGBMClassifier(n_jobs=-1, verbose=-1)\n",
    "test_preds, _ = cross_validation(clf, cv, inputs, targets, \n",
    "                                 need_print=True, test_inputs=test_inputs)"
   ]
  },
  {
   "cell_type": "code",
   "execution_count": 85,
   "id": "805368d7",
   "metadata": {
    "execution": {
     "iopub.execute_input": "2024-10-05T14:20:37.844193Z",
     "iopub.status.busy": "2024-10-05T14:20:37.843784Z",
     "iopub.status.idle": "2024-10-05T14:20:37.977310Z",
     "shell.execute_reply": "2024-10-05T14:20:37.976304Z"
    },
    "papermill": {
     "duration": 0.1893,
     "end_time": "2024-10-05T14:20:37.979748",
     "exception": false,
     "start_time": "2024-10-05T14:20:37.790448",
     "status": "completed"
    },
    "tags": []
   },
   "outputs": [],
   "source": [
    "sub_df['loan_status'] = test_preds\n",
    "sub_df.to_csv('/kaggle/working/sub_lgbm.csv', index=None)"
   ]
  },
  {
   "cell_type": "code",
   "execution_count": 86,
   "id": "06cecdfd",
   "metadata": {
    "execution": {
     "iopub.execute_input": "2024-10-05T14:20:38.070786Z",
     "iopub.status.busy": "2024-10-05T14:20:38.070154Z",
     "iopub.status.idle": "2024-10-05T14:20:38.075225Z",
     "shell.execute_reply": "2024-10-05T14:20:38.074326Z"
    },
    "papermill": {
     "duration": 0.049806,
     "end_time": "2024-10-05T14:20:38.077101",
     "exception": false,
     "start_time": "2024-10-05T14:20:38.027295",
     "status": "completed"
    },
    "tags": []
   },
   "outputs": [],
   "source": [
    "scores['Classifier'].append('LGBM without tuning')\n",
    "scores['Train Score'].append(0.96967)\n",
    "scores['Val Score'].append(0.95599)\n",
    "scores['Test Score'].append(0.96050)"
   ]
  },
  {
   "cell_type": "code",
   "execution_count": 87,
   "id": "e64a7a66",
   "metadata": {
    "execution": {
     "iopub.execute_input": "2024-10-05T14:20:38.164625Z",
     "iopub.status.busy": "2024-10-05T14:20:38.164185Z",
     "iopub.status.idle": "2024-10-05T14:20:38.176781Z",
     "shell.execute_reply": "2024-10-05T14:20:38.175859Z"
    },
    "papermill": {
     "duration": 0.05951,
     "end_time": "2024-10-05T14:20:38.178761",
     "exception": false,
     "start_time": "2024-10-05T14:20:38.119251",
     "status": "completed"
    },
    "tags": []
   },
   "outputs": [],
   "source": [
    "param_dis = {\n",
    "    'num_leaves': np.arange(32,300,7),\n",
    "    'n_jobs': [-1],\n",
    "    'reg_lambda': loguniform(1e-5,4),\n",
    "    'reg_alpha': loguniform(1e-5,4),\n",
    "    'n_estimators': np.arange(50,541,40),\n",
    "    'learning_rate': loguniform(0.001,0.2),\n",
    "    'max_depth': np.arange(15,55,4),\n",
    "    'min_split_gain': loguniform(1e-8,0.1),\n",
    "    'min_child_weight': loguniform(1e-4,0.1),\n",
    "    'min_child_samples': np.arange(8,30,4),\n",
    "    'subsample': loguniform(0.25,1),\n",
    "    'colsample_bytree': loguniform(0.25,1),\n",
    "    'random_state': [42],\n",
    "    'verbose': [-1]\n",
    "}"
   ]
  },
  {
   "cell_type": "code",
   "execution_count": 88,
   "id": "b6924395",
   "metadata": {
    "execution": {
     "iopub.execute_input": "2024-10-05T14:20:38.269740Z",
     "iopub.status.busy": "2024-10-05T14:20:38.269326Z",
     "iopub.status.idle": "2024-10-05T14:20:38.275919Z",
     "shell.execute_reply": "2024-10-05T14:20:38.274940Z"
    },
    "papermill": {
     "duration": 0.056526,
     "end_time": "2024-10-05T14:20:38.278245",
     "exception": false,
     "start_time": "2024-10-05T14:20:38.221719",
     "status": "completed"
    },
    "scrolled": true,
    "tags": []
   },
   "outputs": [
    {
     "data": {
      "text/plain": [
       "\"%%time\\nsearch = RandomizedSearchCV(LGBMClassifier(), param_dis, \\n                            n_iter=200, refit=True,\\n                            scoring = 'roc_auc',\\n                            cv=cv, verbose=3)\\nsearch.fit(inputs, targets)\""
      ]
     },
     "execution_count": 88,
     "metadata": {},
     "output_type": "execute_result"
    }
   ],
   "source": [
    "'''%%time\n",
    "search = RandomizedSearchCV(LGBMClassifier(), param_dis, \n",
    "                            n_iter=200, refit=True,\n",
    "                            scoring = 'roc_auc',\n",
    "                            cv=cv, verbose=3)\n",
    "search.fit(inputs, targets)'''"
   ]
  },
  {
   "cell_type": "code",
   "execution_count": 89,
   "id": "f42b3695",
   "metadata": {
    "execution": {
     "iopub.execute_input": "2024-10-05T14:20:38.363637Z",
     "iopub.status.busy": "2024-10-05T14:20:38.363245Z",
     "iopub.status.idle": "2024-10-05T14:20:38.368938Z",
     "shell.execute_reply": "2024-10-05T14:20:38.368032Z"
    },
    "papermill": {
     "duration": 0.050477,
     "end_time": "2024-10-05T14:20:38.370852",
     "exception": false,
     "start_time": "2024-10-05T14:20:38.320375",
     "status": "completed"
    },
    "tags": []
   },
   "outputs": [],
   "source": [
    "lgbm_best_params = {\n",
    " 'colsample_bytree': 0.4610940402872837,\n",
    " 'learning_rate': 0.04354979569873756,\n",
    " 'max_depth': 27,\n",
    " 'min_child_samples': 12,\n",
    " 'min_child_weight': 0.0015737488805846055,\n",
    " 'min_split_gain': 1.0489063189376473e-06,\n",
    " 'n_estimators': 530,\n",
    " 'n_jobs': -1,\n",
    " 'num_leaves': 60,\n",
    " 'random_state': 42,\n",
    " 'reg_alpha': 0.004866182336617388,\n",
    " 'reg_lambda': 0.0016145837316783641,\n",
    " 'subsample': 0.44042948580194596,\n",
    " 'verbose': -1\n",
    "}"
   ]
  },
  {
   "cell_type": "code",
   "execution_count": 90,
   "id": "573a7cc8",
   "metadata": {
    "execution": {
     "iopub.execute_input": "2024-10-05T14:20:38.455813Z",
     "iopub.status.busy": "2024-10-05T14:20:38.455455Z",
     "iopub.status.idle": "2024-10-05T14:21:00.470917Z",
     "shell.execute_reply": "2024-10-05T14:21:00.469762Z"
    },
    "papermill": {
     "duration": 22.061676,
     "end_time": "2024-10-05T14:21:00.474131",
     "exception": false,
     "start_time": "2024-10-05T14:20:38.412455",
     "status": "completed"
    },
    "tags": []
   },
   "outputs": [
    {
     "name": "stdout",
     "output_type": "stream",
     "text": [
      "Fold 0: train_acc = 0.99076, val_acc = 0.96212\n",
      "Fold 1: train_acc = 0.99122, val_acc = 0.96053\n",
      "Fold 2: train_acc = 0.99172, val_acc = 0.95744\n",
      "Fold 3: train_acc = 0.99187, val_acc = 0.95573\n",
      "Fold 4: train_acc = 0.99162, val_acc = 0.96112\n",
      "Train acc: 0.9914387 ± 0.0004004 | Val acc: 0.9593855 ± 0.0024046\n",
      "CPU times: user 1min 24s, sys: 266 ms, total: 1min 25s\n",
      "Wall time: 22 s\n"
     ]
    }
   ],
   "source": [
    "%%time\n",
    "clf = LGBMClassifier(**lgbm_best_params)\n",
    "test_preds, _ = cross_validation(clf, cv, inputs, targets, \n",
    "                                 need_print=True, test_inputs=test_inputs)"
   ]
  },
  {
   "cell_type": "code",
   "execution_count": 91,
   "id": "d64d7107",
   "metadata": {
    "execution": {
     "iopub.execute_input": "2024-10-05T14:21:00.589400Z",
     "iopub.status.busy": "2024-10-05T14:21:00.588842Z",
     "iopub.status.idle": "2024-10-05T14:21:00.720180Z",
     "shell.execute_reply": "2024-10-05T14:21:00.719399Z"
    },
    "papermill": {
     "duration": 0.189702,
     "end_time": "2024-10-05T14:21:00.722448",
     "exception": false,
     "start_time": "2024-10-05T14:21:00.532746",
     "status": "completed"
    },
    "tags": []
   },
   "outputs": [],
   "source": [
    "sub_df['loan_status'] = test_preds\n",
    "sub_df.to_csv('/kaggle/working/sub_lgbm_tuning.csv', index=None)"
   ]
  },
  {
   "cell_type": "code",
   "execution_count": 92,
   "id": "142ba6e7",
   "metadata": {
    "execution": {
     "iopub.execute_input": "2024-10-05T14:21:00.809509Z",
     "iopub.status.busy": "2024-10-05T14:21:00.808698Z",
     "iopub.status.idle": "2024-10-05T14:21:00.813636Z",
     "shell.execute_reply": "2024-10-05T14:21:00.812786Z"
    },
    "papermill": {
     "duration": 0.05047,
     "end_time": "2024-10-05T14:21:00.815537",
     "exception": false,
     "start_time": "2024-10-05T14:21:00.765067",
     "status": "completed"
    },
    "tags": []
   },
   "outputs": [],
   "source": [
    "scores['Classifier'].append('LGBM with tuning')\n",
    "scores['Train Score'].append(0.99144)\n",
    "scores['Val Score'].append(0.95939)\n",
    "scores['Test Score'].append(0.96424)"
   ]
  },
  {
   "cell_type": "markdown",
   "id": "ff27cfa6",
   "metadata": {
    "papermill": {
     "duration": 0.04306,
     "end_time": "2024-10-05T14:21:00.900642",
     "exception": false,
     "start_time": "2024-10-05T14:21:00.857582",
     "status": "completed"
    },
    "tags": []
   },
   "source": [
    "### CatBoost"
   ]
  },
  {
   "cell_type": "code",
   "execution_count": 93,
   "id": "25d8a5ea",
   "metadata": {
    "execution": {
     "iopub.execute_input": "2024-10-05T14:21:00.988863Z",
     "iopub.status.busy": "2024-10-05T14:21:00.988231Z",
     "iopub.status.idle": "2024-10-05T14:22:06.292531Z",
     "shell.execute_reply": "2024-10-05T14:22:06.291558Z"
    },
    "papermill": {
     "duration": 65.351568,
     "end_time": "2024-10-05T14:22:06.294921",
     "exception": false,
     "start_time": "2024-10-05T14:21:00.943353",
     "status": "completed"
    },
    "tags": []
   },
   "outputs": [
    {
     "name": "stdout",
     "output_type": "stream",
     "text": [
      "Fold 0: train_acc = 0.97417, val_acc = 0.96022\n",
      "Fold 1: train_acc = 0.97447, val_acc = 0.95878\n",
      "Fold 2: train_acc = 0.97488, val_acc = 0.95494\n",
      "Fold 3: train_acc = 0.97591, val_acc = 0.95144\n",
      "Fold 4: train_acc = 0.97573, val_acc = 0.95954\n",
      "Train acc: 0.9750325 ± 0.0006823 | Val acc: 0.9569839 ± 0.0033183\n",
      "CPU times: user 3min 55s, sys: 14.4 s, total: 4min 9s\n",
      "Wall time: 1min 5s\n"
     ]
    }
   ],
   "source": [
    "%%time\n",
    "clf = CatBoostClassifier(logging_level='Silent')\n",
    "test_preds, _ = cross_validation(clf, cv, inputs, targets, \n",
    "                                 need_print=True, test_inputs=test_inputs)"
   ]
  },
  {
   "cell_type": "code",
   "execution_count": 94,
   "id": "b1b15adc",
   "metadata": {
    "execution": {
     "iopub.execute_input": "2024-10-05T14:22:06.383311Z",
     "iopub.status.busy": "2024-10-05T14:22:06.382676Z",
     "iopub.status.idle": "2024-10-05T14:22:06.497697Z",
     "shell.execute_reply": "2024-10-05T14:22:06.496912Z"
    },
    "papermill": {
     "duration": 0.161661,
     "end_time": "2024-10-05T14:22:06.500006",
     "exception": false,
     "start_time": "2024-10-05T14:22:06.338345",
     "status": "completed"
    },
    "tags": []
   },
   "outputs": [],
   "source": [
    "sub_df['loan_status'] = test_preds\n",
    "sub_df.to_csv('/kaggle/working/sub_cat.csv', index=None)"
   ]
  },
  {
   "cell_type": "code",
   "execution_count": 95,
   "id": "8507cc86",
   "metadata": {
    "execution": {
     "iopub.execute_input": "2024-10-05T14:22:06.587722Z",
     "iopub.status.busy": "2024-10-05T14:22:06.586889Z",
     "iopub.status.idle": "2024-10-05T14:22:06.591820Z",
     "shell.execute_reply": "2024-10-05T14:22:06.590998Z"
    },
    "papermill": {
     "duration": 0.05047,
     "end_time": "2024-10-05T14:22:06.593668",
     "exception": false,
     "start_time": "2024-10-05T14:22:06.543198",
     "status": "completed"
    },
    "tags": []
   },
   "outputs": [],
   "source": [
    "scores['Classifier'].append('CAT without tuning')\n",
    "scores['Train Score'].append(0.97503)\n",
    "scores['Val Score'].append(0.95698)\n",
    "scores['Test Score'].append(0.96481)"
   ]
  },
  {
   "cell_type": "code",
   "execution_count": 96,
   "id": "38e99a18",
   "metadata": {
    "execution": {
     "iopub.execute_input": "2024-10-05T14:22:06.683121Z",
     "iopub.status.busy": "2024-10-05T14:22:06.682302Z",
     "iopub.status.idle": "2024-10-05T14:22:06.690753Z",
     "shell.execute_reply": "2024-10-05T14:22:06.689919Z"
    },
    "papermill": {
     "duration": 0.054495,
     "end_time": "2024-10-05T14:22:06.692563",
     "exception": false,
     "start_time": "2024-10-05T14:22:06.638068",
     "status": "completed"
    },
    "tags": []
   },
   "outputs": [],
   "source": [
    "param_dis = {\n",
    "    'eval_metric': ['AUC'],\n",
    "    'iterations': np.arange(750,2000,250),\n",
    "    'learning_rate': loguniform(0.008,0.21),\n",
    "    'random_seed': [42],\n",
    "    'l2_leaf_reg': loguniform(0.8,50),\n",
    "    'bagging_temperature': loguniform(1e-4,1),\n",
    "    'random_strength': np.arange(1,10),\n",
    "    'depth': np.arange(6,10),\n",
    "    'min_data_in_leaf': np.arange(1,5),\n",
    "    'border_count': np.arange(24,256,50),\n",
    "    'logging_level': ['Silent'],\n",
    "    'task_type': ['GPU']\n",
    "}"
   ]
  },
  {
   "cell_type": "code",
   "execution_count": 97,
   "id": "ebda2322",
   "metadata": {
    "execution": {
     "iopub.execute_input": "2024-10-05T14:22:06.779782Z",
     "iopub.status.busy": "2024-10-05T14:22:06.779082Z",
     "iopub.status.idle": "2024-10-05T14:22:06.785069Z",
     "shell.execute_reply": "2024-10-05T14:22:06.784201Z"
    },
    "papermill": {
     "duration": 0.052084,
     "end_time": "2024-10-05T14:22:06.787127",
     "exception": false,
     "start_time": "2024-10-05T14:22:06.735043",
     "status": "completed"
    },
    "scrolled": true,
    "tags": []
   },
   "outputs": [
    {
     "data": {
      "text/plain": [
       "\"%%time\\nsearch = RandomizedSearchCV(CatBoostClassifier(), param_dis, \\n                            n_iter=150, refit=True,\\n                            scoring = 'roc_auc',\\n                            cv=cv, verbose=3)\\nsearch.fit(inputs, targets)\""
      ]
     },
     "execution_count": 97,
     "metadata": {},
     "output_type": "execute_result"
    }
   ],
   "source": [
    "'''%%time\n",
    "search = RandomizedSearchCV(CatBoostClassifier(), param_dis, \n",
    "                            n_iter=150, refit=True,\n",
    "                            scoring = 'roc_auc',\n",
    "                            cv=cv, verbose=3)\n",
    "search.fit(inputs, targets)'''"
   ]
  },
  {
   "cell_type": "code",
   "execution_count": 98,
   "id": "7f47a899",
   "metadata": {
    "execution": {
     "iopub.execute_input": "2024-10-05T14:22:06.874928Z",
     "iopub.status.busy": "2024-10-05T14:22:06.874109Z",
     "iopub.status.idle": "2024-10-05T14:22:06.879339Z",
     "shell.execute_reply": "2024-10-05T14:22:06.878485Z"
    },
    "papermill": {
     "duration": 0.05125,
     "end_time": "2024-10-05T14:22:06.881369",
     "exception": false,
     "start_time": "2024-10-05T14:22:06.830119",
     "status": "completed"
    },
    "tags": []
   },
   "outputs": [],
   "source": [
    "cat_best_params = {\n",
    " 'bagging_temperature': 0.014163798543005526,\n",
    " 'border_count': 224,\n",
    " 'depth': 7,\n",
    " 'eval_metric': 'AUC',\n",
    " 'iterations': 1750,\n",
    " 'l2_leaf_reg': 18.19432247981442,\n",
    " 'learning_rate': 0.0813630363812761,\n",
    " 'logging_level': 'Silent',\n",
    " 'min_data_in_leaf': 3,\n",
    " 'random_seed': 42,\n",
    " 'random_strength': 7\n",
    "}"
   ]
  },
  {
   "cell_type": "code",
   "execution_count": 99,
   "id": "2fd9a545",
   "metadata": {
    "execution": {
     "iopub.execute_input": "2024-10-05T14:22:06.968602Z",
     "iopub.status.busy": "2024-10-05T14:22:06.967775Z",
     "iopub.status.idle": "2024-10-05T14:24:12.153668Z",
     "shell.execute_reply": "2024-10-05T14:24:12.152786Z"
    },
    "papermill": {
     "duration": 125.232128,
     "end_time": "2024-10-05T14:24:12.156027",
     "exception": false,
     "start_time": "2024-10-05T14:22:06.923899",
     "status": "completed"
    },
    "tags": []
   },
   "outputs": [
    {
     "name": "stdout",
     "output_type": "stream",
     "text": [
      "Fold 0: train_acc = 0.98420, val_acc = 0.96099\n",
      "Fold 1: train_acc = 0.98467, val_acc = 0.96014\n",
      "Fold 2: train_acc = 0.98328, val_acc = 0.95546\n",
      "Fold 3: train_acc = 0.98698, val_acc = 0.95280\n",
      "Fold 4: train_acc = 0.98652, val_acc = 0.95991\n",
      "Train acc: 0.9851283 ± 0.0014018 | Val acc: 0.9578590 ± 0.0031801\n",
      "CPU times: user 7min 28s, sys: 30.7 s, total: 7min 59s\n",
      "Wall time: 2min 5s\n"
     ]
    }
   ],
   "source": [
    "%%time\n",
    "clf = CatBoostClassifier(**cat_best_params)\n",
    "test_preds, _ = cross_validation(clf, cv, inputs, targets, \n",
    "                                 need_print=True, test_inputs=test_inputs)"
   ]
  },
  {
   "cell_type": "code",
   "execution_count": 100,
   "id": "d319ae68",
   "metadata": {
    "execution": {
     "iopub.execute_input": "2024-10-05T14:24:12.245298Z",
     "iopub.status.busy": "2024-10-05T14:24:12.244628Z",
     "iopub.status.idle": "2024-10-05T14:24:12.358537Z",
     "shell.execute_reply": "2024-10-05T14:24:12.357746Z"
    },
    "papermill": {
     "duration": 0.160568,
     "end_time": "2024-10-05T14:24:12.360830",
     "exception": false,
     "start_time": "2024-10-05T14:24:12.200262",
     "status": "completed"
    },
    "tags": []
   },
   "outputs": [],
   "source": [
    "sub_df['loan_status'] = test_preds\n",
    "sub_df.to_csv('/kaggle/working/sub_cat_tuning.csv', index=None)"
   ]
  },
  {
   "cell_type": "code",
   "execution_count": 101,
   "id": "f14168f7",
   "metadata": {
    "execution": {
     "iopub.execute_input": "2024-10-05T14:24:12.449739Z",
     "iopub.status.busy": "2024-10-05T14:24:12.448907Z",
     "iopub.status.idle": "2024-10-05T14:24:12.453832Z",
     "shell.execute_reply": "2024-10-05T14:24:12.453002Z"
    },
    "papermill": {
     "duration": 0.051364,
     "end_time": "2024-10-05T14:24:12.455775",
     "exception": false,
     "start_time": "2024-10-05T14:24:12.404411",
     "status": "completed"
    },
    "tags": []
   },
   "outputs": [],
   "source": [
    "scores['Classifier'].append('CAT with tuning')\n",
    "scores['Train Score'].append(0.98513)\n",
    "scores['Val Score'].append(0.95786)\n",
    "scores['Test Score'].append(0.96582)"
   ]
  },
  {
   "cell_type": "code",
   "execution_count": 102,
   "id": "da730d8f",
   "metadata": {
    "execution": {
     "iopub.execute_input": "2024-10-05T14:24:12.543184Z",
     "iopub.status.busy": "2024-10-05T14:24:12.542481Z",
     "iopub.status.idle": "2024-10-05T14:24:12.551693Z",
     "shell.execute_reply": "2024-10-05T14:24:12.550967Z"
    },
    "papermill": {
     "duration": 0.055118,
     "end_time": "2024-10-05T14:24:12.553614",
     "exception": false,
     "start_time": "2024-10-05T14:24:12.498496",
     "status": "completed"
    },
    "tags": []
   },
   "outputs": [],
   "source": [
    "cat_cols = concat_df[input_cols].select_dtypes(include='int64').columns.tolist()"
   ]
  },
  {
   "cell_type": "code",
   "execution_count": 103,
   "id": "7bb99b86",
   "metadata": {
    "execution": {
     "iopub.execute_input": "2024-10-05T14:24:12.641108Z",
     "iopub.status.busy": "2024-10-05T14:24:12.640751Z",
     "iopub.status.idle": "2024-10-05T14:39:21.512034Z",
     "shell.execute_reply": "2024-10-05T14:39:21.510796Z"
    },
    "papermill": {
     "duration": 908.917726,
     "end_time": "2024-10-05T14:39:21.514212",
     "exception": false,
     "start_time": "2024-10-05T14:24:12.596486",
     "status": "completed"
    },
    "tags": []
   },
   "outputs": [
    {
     "name": "stdout",
     "output_type": "stream",
     "text": [
      "Fold 0: train_acc = 0.98846, val_acc = 0.96892\n",
      "Fold 1: train_acc = 0.98934, val_acc = 0.96733\n",
      "Fold 2: train_acc = 0.99002, val_acc = 0.96550\n",
      "Fold 3: train_acc = 0.99068, val_acc = 0.96423\n",
      "Fold 4: train_acc = 0.99016, val_acc = 0.96597\n",
      "Train acc: 0.9897329 ± 0.0007658 | Val acc: 0.9663912 ± 0.0016073\n",
      "CPU times: user 56min 56s, sys: 1min 23s, total: 58min 19s\n",
      "Wall time: 15min 8s\n"
     ]
    }
   ],
   "source": [
    "%%time\n",
    "clf = CatBoostClassifier(**cat_best_params, cat_features=cat_cols)\n",
    "test_preds, _ = cross_validation(clf, cv, inputs, targets, \n",
    "                                 need_print=True, test_inputs=test_inputs)"
   ]
  },
  {
   "cell_type": "code",
   "execution_count": 104,
   "id": "5e7d02f7",
   "metadata": {
    "execution": {
     "iopub.execute_input": "2024-10-05T14:39:21.607023Z",
     "iopub.status.busy": "2024-10-05T14:39:21.606628Z",
     "iopub.status.idle": "2024-10-05T14:39:21.722985Z",
     "shell.execute_reply": "2024-10-05T14:39:21.722015Z"
    },
    "papermill": {
     "duration": 0.164575,
     "end_time": "2024-10-05T14:39:21.725313",
     "exception": false,
     "start_time": "2024-10-05T14:39:21.560738",
     "status": "completed"
    },
    "tags": []
   },
   "outputs": [],
   "source": [
    "sub_df['loan_status'] = test_preds\n",
    "sub_df.to_csv('/kaggle/working/sub_cat_tuning_cat.csv', index=None)"
   ]
  },
  {
   "cell_type": "code",
   "execution_count": 105,
   "id": "d88f7853",
   "metadata": {
    "execution": {
     "iopub.execute_input": "2024-10-05T14:39:21.815864Z",
     "iopub.status.busy": "2024-10-05T14:39:21.815466Z",
     "iopub.status.idle": "2024-10-05T14:39:21.820301Z",
     "shell.execute_reply": "2024-10-05T14:39:21.819407Z"
    },
    "papermill": {
     "duration": 0.052664,
     "end_time": "2024-10-05T14:39:21.822237",
     "exception": false,
     "start_time": "2024-10-05T14:39:21.769573",
     "status": "completed"
    },
    "tags": []
   },
   "outputs": [],
   "source": [
    "scores['Classifier'].append('CAT with tuning, set cat')\n",
    "scores['Train Score'].append(0.98973)\n",
    "scores['Val Score'].append(0.96639)\n",
    "scores['Test Score'].append(0.97275)"
   ]
  },
  {
   "cell_type": "markdown",
   "id": "d0794eb9",
   "metadata": {
    "papermill": {
     "duration": 0.043588,
     "end_time": "2024-10-05T14:39:21.909066",
     "exception": false,
     "start_time": "2024-10-05T14:39:21.865478",
     "status": "completed"
    },
    "tags": []
   },
   "source": [
    "### Voting"
   ]
  },
  {
   "cell_type": "code",
   "execution_count": 106,
   "id": "080ea9d8",
   "metadata": {
    "execution": {
     "iopub.execute_input": "2024-10-05T14:39:21.997434Z",
     "iopub.status.busy": "2024-10-05T14:39:21.997069Z",
     "iopub.status.idle": "2024-10-05T14:55:30.352751Z",
     "shell.execute_reply": "2024-10-05T14:55:30.351641Z"
    },
    "papermill": {
     "duration": 968.407199,
     "end_time": "2024-10-05T14:55:30.359838",
     "exception": false,
     "start_time": "2024-10-05T14:39:21.952639",
     "status": "completed"
    },
    "tags": []
   },
   "outputs": [
    {
     "name": "stdout",
     "output_type": "stream",
     "text": [
      "Fold 0: train_acc = 0.99274, val_acc = 0.96949\n",
      "Fold 1: train_acc = 0.99315, val_acc = 0.96813\n",
      "Fold 2: train_acc = 0.99360, val_acc = 0.96604\n",
      "Fold 3: train_acc = 0.99395, val_acc = 0.96477\n",
      "Fold 4: train_acc = 0.99364, val_acc = 0.96689\n",
      "Train acc: 0.9934161 ± 0.0004220 | Val acc: 0.9670626 ± 0.0016334\n",
      "CPU times: user 1h 43s, sys: 1min 25s, total: 1h 2min 8s\n",
      "Wall time: 16min 8s\n"
     ]
    }
   ],
   "source": [
    "%%time\n",
    "ests = list()\n",
    "ests.append(('rf', RandomForestClassifier(n_jobs=-1)))\n",
    "ests.append(('xgb', XGBClassifier(n_jobs=-1, device='cuda')))\n",
    "ests.append(('lgbm', LGBMClassifier(**lgbm_best_params)))\n",
    "ests.append(('cat', CatBoostClassifier(**cat_best_params, cat_features=cat_cols)))\n",
    "\n",
    "weights = [0.03,0.07,0.1,0.8]\n",
    "\n",
    "clf = VotingClassifier(ests, voting='soft', weights=weights)\n",
    "test_preds, _ = cross_validation(clf, cv, inputs, targets,\n",
    "                                 need_print=True, test_inputs=test_inputs)"
   ]
  },
  {
   "cell_type": "code",
   "execution_count": 107,
   "id": "6095848e",
   "metadata": {
    "execution": {
     "iopub.execute_input": "2024-10-05T14:55:30.465899Z",
     "iopub.status.busy": "2024-10-05T14:55:30.465007Z",
     "iopub.status.idle": "2024-10-05T14:55:30.585107Z",
     "shell.execute_reply": "2024-10-05T14:55:30.584020Z"
    },
    "papermill": {
     "duration": 0.169072,
     "end_time": "2024-10-05T14:55:30.587487",
     "exception": false,
     "start_time": "2024-10-05T14:55:30.418415",
     "status": "completed"
    },
    "tags": []
   },
   "outputs": [],
   "source": [
    "sub_df['loan_status'] = test_preds\n",
    "sub_df.to_csv('/kaggle/working/sub_rf3_xgb7_lgbm10_cat80.csv', index=None)"
   ]
  },
  {
   "cell_type": "code",
   "execution_count": 108,
   "id": "6bf2e8ce",
   "metadata": {
    "execution": {
     "iopub.execute_input": "2024-10-05T14:55:30.682787Z",
     "iopub.status.busy": "2024-10-05T14:55:30.681872Z",
     "iopub.status.idle": "2024-10-05T14:55:30.687178Z",
     "shell.execute_reply": "2024-10-05T14:55:30.686287Z"
    },
    "papermill": {
     "duration": 0.054884,
     "end_time": "2024-10-05T14:55:30.689152",
     "exception": false,
     "start_time": "2024-10-05T14:55:30.634268",
     "status": "completed"
    },
    "tags": []
   },
   "outputs": [],
   "source": [
    "scores['Classifier'].append('RF(3),XGB(7),LGBM(10),CAT(80)')\n",
    "scores['Train Score'].append(0.99341)\n",
    "scores['Val Score'].append(0.96706)\n",
    "scores['Test Score'].append(0.97256)"
   ]
  },
  {
   "cell_type": "code",
   "execution_count": 109,
   "id": "030338e8",
   "metadata": {
    "execution": {
     "iopub.execute_input": "2024-10-05T14:55:30.779992Z",
     "iopub.status.busy": "2024-10-05T14:55:30.779599Z",
     "iopub.status.idle": "2024-10-05T15:11:38.661239Z",
     "shell.execute_reply": "2024-10-05T15:11:38.660282Z"
    },
    "papermill": {
     "duration": 967.929538,
     "end_time": "2024-10-05T15:11:38.663480",
     "exception": false,
     "start_time": "2024-10-05T14:55:30.733942",
     "status": "completed"
    },
    "tags": []
   },
   "outputs": [
    {
     "name": "stdout",
     "output_type": "stream",
     "text": [
      "Fold 0: train_acc = 0.99073, val_acc = 0.96930\n",
      "Fold 1: train_acc = 0.99134, val_acc = 0.96788\n",
      "Fold 2: train_acc = 0.99190, val_acc = 0.96591\n",
      "Fold 3: train_acc = 0.99238, val_acc = 0.96469\n",
      "Fold 4: train_acc = 0.99198, val_acc = 0.96659\n",
      "Train acc: 0.9916659 ± 0.0005731 | Val acc: 0.9668753 ± 0.0015931\n",
      "CPU times: user 1h 41s, sys: 1min 25s, total: 1h 2min 7s\n",
      "Wall time: 16min 7s\n"
     ]
    }
   ],
   "source": [
    "%%time\n",
    "ests = list()\n",
    "ests.append(('rf', RandomForestClassifier(n_jobs=-1)))\n",
    "ests.append(('xgb', XGBClassifier(n_jobs=-1, device='cuda')))\n",
    "ests.append(('lgbm', LGBMClassifier(**lgbm_best_params)))\n",
    "ests.append(('cat', CatBoostClassifier(**cat_best_params, cat_features=cat_cols)))\n",
    "\n",
    "weights = [0.01,0.04,0.05,0.90]\n",
    "\n",
    "clf = VotingClassifier(ests, voting='soft', weights=weights)\n",
    "test_preds, _ = cross_validation(clf, cv, inputs, targets,\n",
    "                                 need_print=True, test_inputs=test_inputs)"
   ]
  },
  {
   "cell_type": "code",
   "execution_count": 110,
   "id": "6455d1ec",
   "metadata": {
    "execution": {
     "iopub.execute_input": "2024-10-05T15:11:38.754762Z",
     "iopub.status.busy": "2024-10-05T15:11:38.753824Z",
     "iopub.status.idle": "2024-10-05T15:11:38.869163Z",
     "shell.execute_reply": "2024-10-05T15:11:38.868405Z"
    },
    "papermill": {
     "duration": 0.162832,
     "end_time": "2024-10-05T15:11:38.871301",
     "exception": false,
     "start_time": "2024-10-05T15:11:38.708469",
     "status": "completed"
    },
    "tags": []
   },
   "outputs": [],
   "source": [
    "sub_df['loan_status'] = test_preds\n",
    "sub_df.to_csv('/kaggle/working/sub_rf1_xgb4_lgbm5_cat90.csv', index=None)"
   ]
  },
  {
   "cell_type": "code",
   "execution_count": 111,
   "id": "e2e3dd7c",
   "metadata": {
    "execution": {
     "iopub.execute_input": "2024-10-05T15:11:38.963034Z",
     "iopub.status.busy": "2024-10-05T15:11:38.962202Z",
     "iopub.status.idle": "2024-10-05T15:11:38.967195Z",
     "shell.execute_reply": "2024-10-05T15:11:38.966343Z"
    },
    "papermill": {
     "duration": 0.052156,
     "end_time": "2024-10-05T15:11:38.969051",
     "exception": false,
     "start_time": "2024-10-05T15:11:38.916895",
     "status": "completed"
    },
    "tags": []
   },
   "outputs": [],
   "source": [
    "scores['Classifier'].append('RF(1),XGB(4),LGBM(5),CAT(90)')\n",
    "scores['Train Score'].append(0.99167)\n",
    "scores['Val Score'].append(0.96687)\n",
    "scores['Test Score'].append(0.97277)"
   ]
  },
  {
   "cell_type": "markdown",
   "id": "1800fe39",
   "metadata": {
    "papermill": {
     "duration": 0.043752,
     "end_time": "2024-10-05T15:11:39.056923",
     "exception": false,
     "start_time": "2024-10-05T15:11:39.013171",
     "status": "completed"
    },
    "tags": []
   },
   "source": [
    "### Review score"
   ]
  },
  {
   "cell_type": "code",
   "execution_count": 112,
   "id": "0355c29d",
   "metadata": {
    "execution": {
     "iopub.execute_input": "2024-10-05T15:11:39.147103Z",
     "iopub.status.busy": "2024-10-05T15:11:39.146462Z",
     "iopub.status.idle": "2024-10-05T15:11:39.164088Z",
     "shell.execute_reply": "2024-10-05T15:11:39.163169Z"
    },
    "papermill": {
     "duration": 0.064781,
     "end_time": "2024-10-05T15:11:39.165987",
     "exception": false,
     "start_time": "2024-10-05T15:11:39.101206",
     "status": "completed"
    },
    "tags": []
   },
   "outputs": [
    {
     "data": {
      "text/html": [
       "<style type=\"text/css\">\n",
       "#T_583e3_row0_col1, #T_583e3_row7_col3, #T_583e3_row8_col2, #T_583e3_row9_col3 {\n",
       "  background-color: #ff00ff;\n",
       "  color: #f1f1f1;\n",
       "}\n",
       "#T_583e3_row0_col2, #T_583e3_row0_col3, #T_583e3_row3_col1 {\n",
       "  background-color: #00ffff;\n",
       "  color: #000000;\n",
       "}\n",
       "#T_583e3_row1_col1 {\n",
       "  background-color: #738cff;\n",
       "  color: #f1f1f1;\n",
       "}\n",
       "#T_583e3_row1_col2 {\n",
       "  background-color: #9966ff;\n",
       "  color: #f1f1f1;\n",
       "}\n",
       "#T_583e3_row1_col3 {\n",
       "  background-color: #ab54ff;\n",
       "  color: #f1f1f1;\n",
       "}\n",
       "#T_583e3_row2_col1 {\n",
       "  background-color: #eb14ff;\n",
       "  color: #f1f1f1;\n",
       "}\n",
       "#T_583e3_row2_col2 {\n",
       "  background-color: #aa55ff;\n",
       "  color: #f1f1f1;\n",
       "}\n",
       "#T_583e3_row2_col3 {\n",
       "  background-color: #9b64ff;\n",
       "  color: #f1f1f1;\n",
       "}\n",
       "#T_583e3_row3_col2 {\n",
       "  background-color: #946bff;\n",
       "  color: #f1f1f1;\n",
       "}\n",
       "#T_583e3_row3_col3 {\n",
       "  background-color: #8778ff;\n",
       "  color: #f1f1f1;\n",
       "}\n",
       "#T_583e3_row4_col1 {\n",
       "  background-color: #b748ff;\n",
       "  color: #f1f1f1;\n",
       "}\n",
       "#T_583e3_row4_col2 {\n",
       "  background-color: #b54aff;\n",
       "  color: #f1f1f1;\n",
       "}\n",
       "#T_583e3_row4_col3 {\n",
       "  background-color: #ac53ff;\n",
       "  color: #f1f1f1;\n",
       "}\n",
       "#T_583e3_row5_col1 {\n",
       "  background-color: #2dd2ff;\n",
       "  color: #000000;\n",
       "}\n",
       "#T_583e3_row5_col2 {\n",
       "  background-color: #9e61ff;\n",
       "  color: #f1f1f1;\n",
       "}\n",
       "#T_583e3_row5_col3 {\n",
       "  background-color: #b24dff;\n",
       "  color: #f1f1f1;\n",
       "}\n",
       "#T_583e3_row6_col1 {\n",
       "  background-color: #827dff;\n",
       "  color: #f1f1f1;\n",
       "}\n",
       "#T_583e3_row6_col2 {\n",
       "  background-color: #a659ff;\n",
       "  color: #f1f1f1;\n",
       "}\n",
       "#T_583e3_row6_col3 {\n",
       "  background-color: #bb44ff;\n",
       "  color: #f1f1f1;\n",
       "}\n",
       "#T_583e3_row7_col1 {\n",
       "  background-color: #a956ff;\n",
       "  color: #f1f1f1;\n",
       "}\n",
       "#T_583e3_row7_col2 {\n",
       "  background-color: #f906ff;\n",
       "  color: #f1f1f1;\n",
       "}\n",
       "#T_583e3_row8_col1 {\n",
       "  background-color: #c837ff;\n",
       "  color: #f1f1f1;\n",
       "}\n",
       "#T_583e3_row8_col3 {\n",
       "  background-color: #fd02ff;\n",
       "  color: #f1f1f1;\n",
       "}\n",
       "#T_583e3_row9_col1 {\n",
       "  background-color: #b946ff;\n",
       "  color: #f1f1f1;\n",
       "}\n",
       "#T_583e3_row9_col2 {\n",
       "  background-color: #fe01ff;\n",
       "  color: #f1f1f1;\n",
       "}\n",
       "</style>\n",
       "<table id=\"T_583e3\">\n",
       "  <thead>\n",
       "    <tr>\n",
       "      <th class=\"blank level0\" >&nbsp;</th>\n",
       "      <th id=\"T_583e3_level0_col0\" class=\"col_heading level0 col0\" >Classifier</th>\n",
       "      <th id=\"T_583e3_level0_col1\" class=\"col_heading level0 col1\" >Train Score</th>\n",
       "      <th id=\"T_583e3_level0_col2\" class=\"col_heading level0 col2\" >Val Score</th>\n",
       "      <th id=\"T_583e3_level0_col3\" class=\"col_heading level0 col3\" >Test Score</th>\n",
       "    </tr>\n",
       "  </thead>\n",
       "  <tbody>\n",
       "    <tr>\n",
       "      <th id=\"T_583e3_level0_row0\" class=\"row_heading level0 row0\" >0</th>\n",
       "      <td id=\"T_583e3_row0_col0\" class=\"data row0 col0\" >RF without tuning</td>\n",
       "      <td id=\"T_583e3_row0_col1\" class=\"data row0 col1\" >1.000000</td>\n",
       "      <td id=\"T_583e3_row0_col2\" class=\"data row0 col2\" >0.940600</td>\n",
       "      <td id=\"T_583e3_row0_col3\" class=\"data row0 col3\" >0.946610</td>\n",
       "    </tr>\n",
       "    <tr>\n",
       "      <th id=\"T_583e3_level0_row1\" class=\"row_heading level0 row1\" >1</th>\n",
       "      <td id=\"T_583e3_row1_col0\" class=\"data row1 col0\" >XGB without tuning</td>\n",
       "      <td id=\"T_583e3_row1_col1\" class=\"data row1 col1\" >0.983370</td>\n",
       "      <td id=\"T_583e3_row1_col2\" class=\"data row1 col2\" >0.956460</td>\n",
       "      <td id=\"T_583e3_row1_col3\" class=\"data row1 col3\" >0.964170</td>\n",
       "    </tr>\n",
       "    <tr>\n",
       "      <th id=\"T_583e3_level0_row2\" class=\"row_heading level0 row2\" >2</th>\n",
       "      <td id=\"T_583e3_row2_col0\" class=\"data row2 col0\" >XGB with tuning</td>\n",
       "      <td id=\"T_583e3_row2_col1\" class=\"data row2 col1\" >0.997540</td>\n",
       "      <td id=\"T_583e3_row2_col2\" class=\"data row2 col2\" >0.958210</td>\n",
       "      <td id=\"T_583e3_row2_col3\" class=\"data row2 col3\" >0.962500</td>\n",
       "    </tr>\n",
       "    <tr>\n",
       "      <th id=\"T_583e3_level0_row3\" class=\"row_heading level0 row3\" >3</th>\n",
       "      <td id=\"T_583e3_row3_col0\" class=\"data row3 col0\" >LGBM without tuning</td>\n",
       "      <td id=\"T_583e3_row3_col1\" class=\"data row3 col1\" >0.969670</td>\n",
       "      <td id=\"T_583e3_row3_col2\" class=\"data row3 col2\" >0.955990</td>\n",
       "      <td id=\"T_583e3_row3_col3\" class=\"data row3 col3\" >0.960500</td>\n",
       "    </tr>\n",
       "    <tr>\n",
       "      <th id=\"T_583e3_level0_row4\" class=\"row_heading level0 row4\" >4</th>\n",
       "      <td id=\"T_583e3_row4_col0\" class=\"data row4 col0\" >LGBM with tuning</td>\n",
       "      <td id=\"T_583e3_row4_col1\" class=\"data row4 col1\" >0.991440</td>\n",
       "      <td id=\"T_583e3_row4_col2\" class=\"data row4 col2\" >0.959390</td>\n",
       "      <td id=\"T_583e3_row4_col3\" class=\"data row4 col3\" >0.964240</td>\n",
       "    </tr>\n",
       "    <tr>\n",
       "      <th id=\"T_583e3_level0_row5\" class=\"row_heading level0 row5\" >5</th>\n",
       "      <td id=\"T_583e3_row5_col0\" class=\"data row5 col0\" >CAT without tuning</td>\n",
       "      <td id=\"T_583e3_row5_col1\" class=\"data row5 col1\" >0.975030</td>\n",
       "      <td id=\"T_583e3_row5_col2\" class=\"data row5 col2\" >0.956980</td>\n",
       "      <td id=\"T_583e3_row5_col3\" class=\"data row5 col3\" >0.964810</td>\n",
       "    </tr>\n",
       "    <tr>\n",
       "      <th id=\"T_583e3_level0_row6\" class=\"row_heading level0 row6\" >6</th>\n",
       "      <td id=\"T_583e3_row6_col0\" class=\"data row6 col0\" >CAT with tuning</td>\n",
       "      <td id=\"T_583e3_row6_col1\" class=\"data row6 col1\" >0.985130</td>\n",
       "      <td id=\"T_583e3_row6_col2\" class=\"data row6 col2\" >0.957860</td>\n",
       "      <td id=\"T_583e3_row6_col3\" class=\"data row6 col3\" >0.965820</td>\n",
       "    </tr>\n",
       "    <tr>\n",
       "      <th id=\"T_583e3_level0_row7\" class=\"row_heading level0 row7\" >7</th>\n",
       "      <td id=\"T_583e3_row7_col0\" class=\"data row7 col0\" >CAT with tuning, set cat</td>\n",
       "      <td id=\"T_583e3_row7_col1\" class=\"data row7 col1\" >0.989730</td>\n",
       "      <td id=\"T_583e3_row7_col2\" class=\"data row7 col2\" >0.966390</td>\n",
       "      <td id=\"T_583e3_row7_col3\" class=\"data row7 col3\" >0.972750</td>\n",
       "    </tr>\n",
       "    <tr>\n",
       "      <th id=\"T_583e3_level0_row8\" class=\"row_heading level0 row8\" >8</th>\n",
       "      <td id=\"T_583e3_row8_col0\" class=\"data row8 col0\" >RF(3),XGB(7),LGBM(10),CAT(80)</td>\n",
       "      <td id=\"T_583e3_row8_col1\" class=\"data row8 col1\" >0.993410</td>\n",
       "      <td id=\"T_583e3_row8_col2\" class=\"data row8 col2\" >0.967060</td>\n",
       "      <td id=\"T_583e3_row8_col3\" class=\"data row8 col3\" >0.972560</td>\n",
       "    </tr>\n",
       "    <tr>\n",
       "      <th id=\"T_583e3_level0_row9\" class=\"row_heading level0 row9\" >9</th>\n",
       "      <td id=\"T_583e3_row9_col0\" class=\"data row9 col0\" >RF(1),XGB(4),LGBM(5),CAT(90)</td>\n",
       "      <td id=\"T_583e3_row9_col1\" class=\"data row9 col1\" >0.991670</td>\n",
       "      <td id=\"T_583e3_row9_col2\" class=\"data row9 col2\" >0.966870</td>\n",
       "      <td id=\"T_583e3_row9_col3\" class=\"data row9 col3\" >0.972770</td>\n",
       "    </tr>\n",
       "  </tbody>\n",
       "</table>\n"
      ],
      "text/plain": [
       "<pandas.io.formats.style.Styler at 0x7cc7b8ff28c0>"
      ]
     },
     "execution_count": 112,
     "metadata": {},
     "output_type": "execute_result"
    }
   ],
   "source": [
    "scores_df = pd.DataFrame(scores)\n",
    "scores_df.style.background_gradient('cool')"
   ]
  },
  {
   "cell_type": "code",
   "execution_count": 113,
   "id": "9de6ae1b",
   "metadata": {
    "execution": {
     "iopub.execute_input": "2024-10-05T15:11:39.258120Z",
     "iopub.status.busy": "2024-10-05T15:11:39.257510Z",
     "iopub.status.idle": "2024-10-05T15:11:39.381802Z",
     "shell.execute_reply": "2024-10-05T15:11:39.380839Z"
    },
    "papermill": {
     "duration": 0.172936,
     "end_time": "2024-10-05T15:11:39.384190",
     "exception": false,
     "start_time": "2024-10-05T15:11:39.211254",
     "status": "completed"
    },
    "tags": []
   },
   "outputs": [],
   "source": [
    "sub_df = pd.read_csv('/kaggle/working/sub_rf1_xgb4_lgbm5_cat90.csv')\n",
    "sub_df.to_csv('/kaggle/working/submission.csv', index=None)"
   ]
  }
 ],
 "metadata": {
  "kaggle": {
   "accelerator": "gpu",
   "dataSources": [
    {
     "databundleVersionId": 9709193,
     "sourceId": 84894,
     "sourceType": "competition"
    },
    {
     "datasetId": 4675026,
     "sourceId": 7949759,
     "sourceType": "datasetVersion"
    }
   ],
   "dockerImageVersionId": 30776,
   "isGpuEnabled": true,
   "isInternetEnabled": true,
   "language": "python",
   "sourceType": "notebook"
  },
  "kernelspec": {
   "display_name": "Python 3",
   "language": "python",
   "name": "python3"
  },
  "language_info": {
   "codemirror_mode": {
    "name": "ipython",
    "version": 3
   },
   "file_extension": ".py",
   "mimetype": "text/x-python",
   "name": "python",
   "nbconvert_exporter": "python",
   "pygments_lexer": "ipython3",
   "version": "3.10.14"
  },
  "papermill": {
   "default_parameters": {},
   "duration": 3349.021457,
   "end_time": "2024-10-05T15:11:42.148993",
   "environment_variables": {},
   "exception": null,
   "input_path": "__notebook__.ipynb",
   "output_path": "__notebook__.ipynb",
   "parameters": {},
   "start_time": "2024-10-05T14:15:53.127536",
   "version": "2.6.0"
  }
 },
 "nbformat": 4,
 "nbformat_minor": 5
}
