{
 "cells": [
  {
   "cell_type": "markdown",
   "id": "fc29ab41",
   "metadata": {
    "papermill": {
     "duration": 0.046549,
     "end_time": "2024-09-27T04:00:37.009960",
     "exception": false,
     "start_time": "2024-09-27T04:00:36.963411",
     "status": "completed"
    },
    "tags": []
   },
   "source": [
    "# Multi-Class Prediction of Cirrhosis Outcomes"
   ]
  },
  {
   "cell_type": "markdown",
   "id": "df61fc21",
   "metadata": {
    "papermill": {
     "duration": 0.042069,
     "end_time": "2024-09-27T04:00:37.094519",
     "exception": false,
     "start_time": "2024-09-27T04:00:37.052450",
     "status": "completed"
    },
    "tags": []
   },
   "source": [
    "## Import library and datasets"
   ]
  },
  {
   "cell_type": "code",
   "execution_count": 1,
   "id": "87c7c697",
   "metadata": {
    "execution": {
     "iopub.execute_input": "2024-09-27T04:00:37.181472Z",
     "iopub.status.busy": "2024-09-27T04:00:37.180998Z",
     "iopub.status.idle": "2024-09-27T04:00:42.151549Z",
     "shell.execute_reply": "2024-09-27T04:00:42.150222Z"
    },
    "papermill": {
     "duration": 5.018011,
     "end_time": "2024-09-27T04:00:42.154805",
     "exception": false,
     "start_time": "2024-09-27T04:00:37.136794",
     "status": "completed"
    },
    "tags": []
   },
   "outputs": [],
   "source": [
    "import pandas as pd\n",
    "import numpy as np\n",
    "\n",
    "from sklearn.preprocessing import OneHotEncoder, OrdinalEncoder, MinMaxScaler, StandardScaler\n",
    "from sklearn.impute import SimpleImputer\n",
    "\n",
    "from sklearn.metrics import mean_squared_error, accuracy_score, log_loss\n",
    "\n",
    "from sklearn.model_selection import GridSearchCV, train_test_split, StratifiedKFold, cross_val_score, RandomizedSearchCV\n",
    "from sklearn.feature_selection import mutual_info_classif\n",
    "\n",
    "from sklearn.pipeline import make_pipeline, Pipeline\n",
    "from sklearn.compose import ColumnTransformer\n",
    "\n",
    "from sklearn.linear_model import LogisticRegression\n",
    "from sklearn.ensemble import RandomForestClassifier, StackingClassifier, VotingClassifier\n",
    "from xgboost import XGBClassifier\n",
    "from lightgbm import LGBMClassifier\n",
    "from catboost import CatBoostClassifier\n",
    "\n",
    "from scipy.stats import loguniform, uniform\n",
    "\n",
    "import warnings\n",
    "warnings.simplefilter(action='ignore', category=FutureWarning)\n",
    "\n",
    "import matplotlib.pyplot as plt\n",
    "import seaborn as sns\n",
    "%matplotlib inline"
   ]
  },
  {
   "cell_type": "code",
   "execution_count": 2,
   "id": "d58e541e",
   "metadata": {
    "execution": {
     "iopub.execute_input": "2024-09-27T04:00:42.273850Z",
     "iopub.status.busy": "2024-09-27T04:00:42.273120Z",
     "iopub.status.idle": "2024-09-27T04:00:42.369572Z",
     "shell.execute_reply": "2024-09-27T04:00:42.368537Z"
    },
    "papermill": {
     "duration": 0.159388,
     "end_time": "2024-09-27T04:00:42.372127",
     "exception": false,
     "start_time": "2024-09-27T04:00:42.212739",
     "status": "completed"
    },
    "tags": []
   },
   "outputs": [],
   "source": [
    "data_dir = '/kaggle/input/playground-series-s3e26/'\n",
    "raw_df = pd.read_csv(data_dir + 'train.csv')\n",
    "test_df = pd.read_csv(data_dir + 'test.csv')\n",
    "sub_df = pd.read_csv(data_dir + 'sample_submission.csv')"
   ]
  },
  {
   "cell_type": "code",
   "execution_count": 3,
   "id": "be83fb3c",
   "metadata": {
    "execution": {
     "iopub.execute_input": "2024-09-27T04:00:42.460973Z",
     "iopub.status.busy": "2024-09-27T04:00:42.459784Z",
     "iopub.status.idle": "2024-09-27T04:00:42.474929Z",
     "shell.execute_reply": "2024-09-27T04:00:42.473951Z"
    },
    "papermill": {
     "duration": 0.061432,
     "end_time": "2024-09-27T04:00:42.477482",
     "exception": false,
     "start_time": "2024-09-27T04:00:42.416050",
     "status": "completed"
    },
    "tags": []
   },
   "outputs": [],
   "source": [
    "original_df = pd.read_csv('/kaggle/input/cirrhosis-patient-survival-prediction/cirrhosis.csv')"
   ]
  },
  {
   "cell_type": "code",
   "execution_count": 4,
   "id": "953f940e",
   "metadata": {
    "execution": {
     "iopub.execute_input": "2024-09-27T04:00:42.565155Z",
     "iopub.status.busy": "2024-09-27T04:00:42.564096Z",
     "iopub.status.idle": "2024-09-27T04:00:42.616672Z",
     "shell.execute_reply": "2024-09-27T04:00:42.615586Z"
    },
    "papermill": {
     "duration": 0.098966,
     "end_time": "2024-09-27T04:00:42.619259",
     "exception": false,
     "start_time": "2024-09-27T04:00:42.520293",
     "status": "completed"
    },
    "tags": []
   },
   "outputs": [
    {
     "data": {
      "text/html": [
       "<div>\n",
       "<style scoped>\n",
       "    .dataframe tbody tr th:only-of-type {\n",
       "        vertical-align: middle;\n",
       "    }\n",
       "\n",
       "    .dataframe tbody tr th {\n",
       "        vertical-align: top;\n",
       "    }\n",
       "\n",
       "    .dataframe thead th {\n",
       "        text-align: right;\n",
       "    }\n",
       "</style>\n",
       "<table border=\"1\" class=\"dataframe\">\n",
       "  <thead>\n",
       "    <tr style=\"text-align: right;\">\n",
       "      <th></th>\n",
       "      <th>id</th>\n",
       "      <th>N_Days</th>\n",
       "      <th>Drug</th>\n",
       "      <th>Age</th>\n",
       "      <th>Sex</th>\n",
       "      <th>Ascites</th>\n",
       "      <th>Hepatomegaly</th>\n",
       "      <th>Spiders</th>\n",
       "      <th>Edema</th>\n",
       "      <th>Bilirubin</th>\n",
       "      <th>Cholesterol</th>\n",
       "      <th>Albumin</th>\n",
       "      <th>Copper</th>\n",
       "      <th>Alk_Phos</th>\n",
       "      <th>SGOT</th>\n",
       "      <th>Tryglicerides</th>\n",
       "      <th>Platelets</th>\n",
       "      <th>Prothrombin</th>\n",
       "      <th>Stage</th>\n",
       "      <th>Status</th>\n",
       "    </tr>\n",
       "  </thead>\n",
       "  <tbody>\n",
       "    <tr>\n",
       "      <th>0</th>\n",
       "      <td>0</td>\n",
       "      <td>999</td>\n",
       "      <td>D-penicillamine</td>\n",
       "      <td>21532</td>\n",
       "      <td>M</td>\n",
       "      <td>N</td>\n",
       "      <td>N</td>\n",
       "      <td>N</td>\n",
       "      <td>N</td>\n",
       "      <td>2.3</td>\n",
       "      <td>316.0</td>\n",
       "      <td>3.35</td>\n",
       "      <td>172.0</td>\n",
       "      <td>1601.0</td>\n",
       "      <td>179.80</td>\n",
       "      <td>63.0</td>\n",
       "      <td>394.0</td>\n",
       "      <td>9.7</td>\n",
       "      <td>3.0</td>\n",
       "      <td>D</td>\n",
       "    </tr>\n",
       "    <tr>\n",
       "      <th>1</th>\n",
       "      <td>1</td>\n",
       "      <td>2574</td>\n",
       "      <td>Placebo</td>\n",
       "      <td>19237</td>\n",
       "      <td>F</td>\n",
       "      <td>N</td>\n",
       "      <td>N</td>\n",
       "      <td>N</td>\n",
       "      <td>N</td>\n",
       "      <td>0.9</td>\n",
       "      <td>364.0</td>\n",
       "      <td>3.54</td>\n",
       "      <td>63.0</td>\n",
       "      <td>1440.0</td>\n",
       "      <td>134.85</td>\n",
       "      <td>88.0</td>\n",
       "      <td>361.0</td>\n",
       "      <td>11.0</td>\n",
       "      <td>3.0</td>\n",
       "      <td>C</td>\n",
       "    </tr>\n",
       "    <tr>\n",
       "      <th>2</th>\n",
       "      <td>2</td>\n",
       "      <td>3428</td>\n",
       "      <td>Placebo</td>\n",
       "      <td>13727</td>\n",
       "      <td>F</td>\n",
       "      <td>N</td>\n",
       "      <td>Y</td>\n",
       "      <td>Y</td>\n",
       "      <td>Y</td>\n",
       "      <td>3.3</td>\n",
       "      <td>299.0</td>\n",
       "      <td>3.55</td>\n",
       "      <td>131.0</td>\n",
       "      <td>1029.0</td>\n",
       "      <td>119.35</td>\n",
       "      <td>50.0</td>\n",
       "      <td>199.0</td>\n",
       "      <td>11.7</td>\n",
       "      <td>4.0</td>\n",
       "      <td>D</td>\n",
       "    </tr>\n",
       "    <tr>\n",
       "      <th>3</th>\n",
       "      <td>3</td>\n",
       "      <td>2576</td>\n",
       "      <td>Placebo</td>\n",
       "      <td>18460</td>\n",
       "      <td>F</td>\n",
       "      <td>N</td>\n",
       "      <td>N</td>\n",
       "      <td>N</td>\n",
       "      <td>N</td>\n",
       "      <td>0.6</td>\n",
       "      <td>256.0</td>\n",
       "      <td>3.50</td>\n",
       "      <td>58.0</td>\n",
       "      <td>1653.0</td>\n",
       "      <td>71.30</td>\n",
       "      <td>96.0</td>\n",
       "      <td>269.0</td>\n",
       "      <td>10.7</td>\n",
       "      <td>3.0</td>\n",
       "      <td>C</td>\n",
       "    </tr>\n",
       "    <tr>\n",
       "      <th>4</th>\n",
       "      <td>4</td>\n",
       "      <td>788</td>\n",
       "      <td>Placebo</td>\n",
       "      <td>16658</td>\n",
       "      <td>F</td>\n",
       "      <td>N</td>\n",
       "      <td>Y</td>\n",
       "      <td>N</td>\n",
       "      <td>N</td>\n",
       "      <td>1.1</td>\n",
       "      <td>346.0</td>\n",
       "      <td>3.65</td>\n",
       "      <td>63.0</td>\n",
       "      <td>1181.0</td>\n",
       "      <td>125.55</td>\n",
       "      <td>96.0</td>\n",
       "      <td>298.0</td>\n",
       "      <td>10.6</td>\n",
       "      <td>4.0</td>\n",
       "      <td>C</td>\n",
       "    </tr>\n",
       "    <tr>\n",
       "      <th>...</th>\n",
       "      <td>...</td>\n",
       "      <td>...</td>\n",
       "      <td>...</td>\n",
       "      <td>...</td>\n",
       "      <td>...</td>\n",
       "      <td>...</td>\n",
       "      <td>...</td>\n",
       "      <td>...</td>\n",
       "      <td>...</td>\n",
       "      <td>...</td>\n",
       "      <td>...</td>\n",
       "      <td>...</td>\n",
       "      <td>...</td>\n",
       "      <td>...</td>\n",
       "      <td>...</td>\n",
       "      <td>...</td>\n",
       "      <td>...</td>\n",
       "      <td>...</td>\n",
       "      <td>...</td>\n",
       "      <td>...</td>\n",
       "    </tr>\n",
       "    <tr>\n",
       "      <th>7900</th>\n",
       "      <td>7900</td>\n",
       "      <td>1166</td>\n",
       "      <td>D-penicillamine</td>\n",
       "      <td>16839</td>\n",
       "      <td>F</td>\n",
       "      <td>N</td>\n",
       "      <td>N</td>\n",
       "      <td>N</td>\n",
       "      <td>N</td>\n",
       "      <td>0.8</td>\n",
       "      <td>309.0</td>\n",
       "      <td>3.56</td>\n",
       "      <td>38.0</td>\n",
       "      <td>1629.0</td>\n",
       "      <td>79.05</td>\n",
       "      <td>224.0</td>\n",
       "      <td>344.0</td>\n",
       "      <td>9.9</td>\n",
       "      <td>2.0</td>\n",
       "      <td>C</td>\n",
       "    </tr>\n",
       "    <tr>\n",
       "      <th>7901</th>\n",
       "      <td>7901</td>\n",
       "      <td>1492</td>\n",
       "      <td>Placebo</td>\n",
       "      <td>17031</td>\n",
       "      <td>F</td>\n",
       "      <td>N</td>\n",
       "      <td>Y</td>\n",
       "      <td>N</td>\n",
       "      <td>N</td>\n",
       "      <td>0.9</td>\n",
       "      <td>260.0</td>\n",
       "      <td>3.43</td>\n",
       "      <td>62.0</td>\n",
       "      <td>1440.0</td>\n",
       "      <td>142.00</td>\n",
       "      <td>78.0</td>\n",
       "      <td>277.0</td>\n",
       "      <td>10.0</td>\n",
       "      <td>4.0</td>\n",
       "      <td>C</td>\n",
       "    </tr>\n",
       "    <tr>\n",
       "      <th>7902</th>\n",
       "      <td>7902</td>\n",
       "      <td>1576</td>\n",
       "      <td>D-penicillamine</td>\n",
       "      <td>25873</td>\n",
       "      <td>F</td>\n",
       "      <td>N</td>\n",
       "      <td>N</td>\n",
       "      <td>Y</td>\n",
       "      <td>S</td>\n",
       "      <td>2.0</td>\n",
       "      <td>225.0</td>\n",
       "      <td>3.19</td>\n",
       "      <td>51.0</td>\n",
       "      <td>933.0</td>\n",
       "      <td>69.75</td>\n",
       "      <td>62.0</td>\n",
       "      <td>200.0</td>\n",
       "      <td>12.7</td>\n",
       "      <td>2.0</td>\n",
       "      <td>D</td>\n",
       "    </tr>\n",
       "    <tr>\n",
       "      <th>7903</th>\n",
       "      <td>7903</td>\n",
       "      <td>3584</td>\n",
       "      <td>D-penicillamine</td>\n",
       "      <td>22960</td>\n",
       "      <td>M</td>\n",
       "      <td>N</td>\n",
       "      <td>Y</td>\n",
       "      <td>N</td>\n",
       "      <td>N</td>\n",
       "      <td>0.7</td>\n",
       "      <td>248.0</td>\n",
       "      <td>2.75</td>\n",
       "      <td>32.0</td>\n",
       "      <td>1003.0</td>\n",
       "      <td>57.35</td>\n",
       "      <td>118.0</td>\n",
       "      <td>221.0</td>\n",
       "      <td>10.6</td>\n",
       "      <td>4.0</td>\n",
       "      <td>D</td>\n",
       "    </tr>\n",
       "    <tr>\n",
       "      <th>7904</th>\n",
       "      <td>7904</td>\n",
       "      <td>1978</td>\n",
       "      <td>D-penicillamine</td>\n",
       "      <td>19237</td>\n",
       "      <td>F</td>\n",
       "      <td>N</td>\n",
       "      <td>N</td>\n",
       "      <td>N</td>\n",
       "      <td>N</td>\n",
       "      <td>0.7</td>\n",
       "      <td>256.0</td>\n",
       "      <td>3.23</td>\n",
       "      <td>22.0</td>\n",
       "      <td>645.0</td>\n",
       "      <td>74.40</td>\n",
       "      <td>85.0</td>\n",
       "      <td>336.0</td>\n",
       "      <td>10.3</td>\n",
       "      <td>3.0</td>\n",
       "      <td>C</td>\n",
       "    </tr>\n",
       "  </tbody>\n",
       "</table>\n",
       "<p>7905 rows × 20 columns</p>\n",
       "</div>"
      ],
      "text/plain": [
       "        id  N_Days             Drug    Age Sex Ascites Hepatomegaly Spiders  \\\n",
       "0        0     999  D-penicillamine  21532   M       N            N       N   \n",
       "1        1    2574          Placebo  19237   F       N            N       N   \n",
       "2        2    3428          Placebo  13727   F       N            Y       Y   \n",
       "3        3    2576          Placebo  18460   F       N            N       N   \n",
       "4        4     788          Placebo  16658   F       N            Y       N   \n",
       "...    ...     ...              ...    ...  ..     ...          ...     ...   \n",
       "7900  7900    1166  D-penicillamine  16839   F       N            N       N   \n",
       "7901  7901    1492          Placebo  17031   F       N            Y       N   \n",
       "7902  7902    1576  D-penicillamine  25873   F       N            N       Y   \n",
       "7903  7903    3584  D-penicillamine  22960   M       N            Y       N   \n",
       "7904  7904    1978  D-penicillamine  19237   F       N            N       N   \n",
       "\n",
       "     Edema  Bilirubin  Cholesterol  Albumin  Copper  Alk_Phos    SGOT  \\\n",
       "0        N        2.3        316.0     3.35   172.0    1601.0  179.80   \n",
       "1        N        0.9        364.0     3.54    63.0    1440.0  134.85   \n",
       "2        Y        3.3        299.0     3.55   131.0    1029.0  119.35   \n",
       "3        N        0.6        256.0     3.50    58.0    1653.0   71.30   \n",
       "4        N        1.1        346.0     3.65    63.0    1181.0  125.55   \n",
       "...    ...        ...          ...      ...     ...       ...     ...   \n",
       "7900     N        0.8        309.0     3.56    38.0    1629.0   79.05   \n",
       "7901     N        0.9        260.0     3.43    62.0    1440.0  142.00   \n",
       "7902     S        2.0        225.0     3.19    51.0     933.0   69.75   \n",
       "7903     N        0.7        248.0     2.75    32.0    1003.0   57.35   \n",
       "7904     N        0.7        256.0     3.23    22.0     645.0   74.40   \n",
       "\n",
       "      Tryglicerides  Platelets  Prothrombin  Stage Status  \n",
       "0              63.0      394.0          9.7    3.0      D  \n",
       "1              88.0      361.0         11.0    3.0      C  \n",
       "2              50.0      199.0         11.7    4.0      D  \n",
       "3              96.0      269.0         10.7    3.0      C  \n",
       "4              96.0      298.0         10.6    4.0      C  \n",
       "...             ...        ...          ...    ...    ...  \n",
       "7900          224.0      344.0          9.9    2.0      C  \n",
       "7901           78.0      277.0         10.0    4.0      C  \n",
       "7902           62.0      200.0         12.7    2.0      D  \n",
       "7903          118.0      221.0         10.6    4.0      D  \n",
       "7904           85.0      336.0         10.3    3.0      C  \n",
       "\n",
       "[7905 rows x 20 columns]"
      ]
     },
     "execution_count": 4,
     "metadata": {},
     "output_type": "execute_result"
    }
   ],
   "source": [
    "raw_df"
   ]
  },
  {
   "cell_type": "code",
   "execution_count": 5,
   "id": "061a02aa",
   "metadata": {
    "execution": {
     "iopub.execute_input": "2024-09-27T04:00:42.709002Z",
     "iopub.status.busy": "2024-09-27T04:00:42.708035Z",
     "iopub.status.idle": "2024-09-27T04:00:42.714859Z",
     "shell.execute_reply": "2024-09-27T04:00:42.713748Z"
    },
    "papermill": {
     "duration": 0.053726,
     "end_time": "2024-09-27T04:00:42.717233",
     "exception": false,
     "start_time": "2024-09-27T04:00:42.663507",
     "status": "completed"
    },
    "tags": []
   },
   "outputs": [],
   "source": [
    "original_df.rename({'ID': 'id'}, axis=1, inplace=True)"
   ]
  },
  {
   "cell_type": "code",
   "execution_count": 6,
   "id": "8b4b7711",
   "metadata": {
    "execution": {
     "iopub.execute_input": "2024-09-27T04:00:42.806384Z",
     "iopub.status.busy": "2024-09-27T04:00:42.805957Z",
     "iopub.status.idle": "2024-09-27T04:00:42.849735Z",
     "shell.execute_reply": "2024-09-27T04:00:42.848641Z"
    },
    "papermill": {
     "duration": 0.091909,
     "end_time": "2024-09-27T04:00:42.852229",
     "exception": false,
     "start_time": "2024-09-27T04:00:42.760320",
     "status": "completed"
    },
    "tags": []
   },
   "outputs": [
    {
     "data": {
      "text/html": [
       "<div>\n",
       "<style scoped>\n",
       "    .dataframe tbody tr th:only-of-type {\n",
       "        vertical-align: middle;\n",
       "    }\n",
       "\n",
       "    .dataframe tbody tr th {\n",
       "        vertical-align: top;\n",
       "    }\n",
       "\n",
       "    .dataframe thead th {\n",
       "        text-align: right;\n",
       "    }\n",
       "</style>\n",
       "<table border=\"1\" class=\"dataframe\">\n",
       "  <thead>\n",
       "    <tr style=\"text-align: right;\">\n",
       "      <th></th>\n",
       "      <th>id</th>\n",
       "      <th>N_Days</th>\n",
       "      <th>Drug</th>\n",
       "      <th>Age</th>\n",
       "      <th>Sex</th>\n",
       "      <th>Ascites</th>\n",
       "      <th>Hepatomegaly</th>\n",
       "      <th>Spiders</th>\n",
       "      <th>Edema</th>\n",
       "      <th>Bilirubin</th>\n",
       "      <th>Cholesterol</th>\n",
       "      <th>Albumin</th>\n",
       "      <th>Copper</th>\n",
       "      <th>Alk_Phos</th>\n",
       "      <th>SGOT</th>\n",
       "      <th>Tryglicerides</th>\n",
       "      <th>Platelets</th>\n",
       "      <th>Prothrombin</th>\n",
       "      <th>Stage</th>\n",
       "      <th>Status</th>\n",
       "    </tr>\n",
       "  </thead>\n",
       "  <tbody>\n",
       "    <tr>\n",
       "      <th>0</th>\n",
       "      <td>0</td>\n",
       "      <td>999</td>\n",
       "      <td>D-penicillamine</td>\n",
       "      <td>21532</td>\n",
       "      <td>M</td>\n",
       "      <td>N</td>\n",
       "      <td>N</td>\n",
       "      <td>N</td>\n",
       "      <td>N</td>\n",
       "      <td>2.3</td>\n",
       "      <td>316.0</td>\n",
       "      <td>3.35</td>\n",
       "      <td>172.0</td>\n",
       "      <td>1601.0</td>\n",
       "      <td>179.80</td>\n",
       "      <td>63.0</td>\n",
       "      <td>394.0</td>\n",
       "      <td>9.7</td>\n",
       "      <td>3.0</td>\n",
       "      <td>D</td>\n",
       "    </tr>\n",
       "    <tr>\n",
       "      <th>1</th>\n",
       "      <td>1</td>\n",
       "      <td>2574</td>\n",
       "      <td>Placebo</td>\n",
       "      <td>19237</td>\n",
       "      <td>F</td>\n",
       "      <td>N</td>\n",
       "      <td>N</td>\n",
       "      <td>N</td>\n",
       "      <td>N</td>\n",
       "      <td>0.9</td>\n",
       "      <td>364.0</td>\n",
       "      <td>3.54</td>\n",
       "      <td>63.0</td>\n",
       "      <td>1440.0</td>\n",
       "      <td>134.85</td>\n",
       "      <td>88.0</td>\n",
       "      <td>361.0</td>\n",
       "      <td>11.0</td>\n",
       "      <td>3.0</td>\n",
       "      <td>C</td>\n",
       "    </tr>\n",
       "    <tr>\n",
       "      <th>2</th>\n",
       "      <td>2</td>\n",
       "      <td>3428</td>\n",
       "      <td>Placebo</td>\n",
       "      <td>13727</td>\n",
       "      <td>F</td>\n",
       "      <td>N</td>\n",
       "      <td>Y</td>\n",
       "      <td>Y</td>\n",
       "      <td>Y</td>\n",
       "      <td>3.3</td>\n",
       "      <td>299.0</td>\n",
       "      <td>3.55</td>\n",
       "      <td>131.0</td>\n",
       "      <td>1029.0</td>\n",
       "      <td>119.35</td>\n",
       "      <td>50.0</td>\n",
       "      <td>199.0</td>\n",
       "      <td>11.7</td>\n",
       "      <td>4.0</td>\n",
       "      <td>D</td>\n",
       "    </tr>\n",
       "    <tr>\n",
       "      <th>3</th>\n",
       "      <td>3</td>\n",
       "      <td>2576</td>\n",
       "      <td>Placebo</td>\n",
       "      <td>18460</td>\n",
       "      <td>F</td>\n",
       "      <td>N</td>\n",
       "      <td>N</td>\n",
       "      <td>N</td>\n",
       "      <td>N</td>\n",
       "      <td>0.6</td>\n",
       "      <td>256.0</td>\n",
       "      <td>3.50</td>\n",
       "      <td>58.0</td>\n",
       "      <td>1653.0</td>\n",
       "      <td>71.30</td>\n",
       "      <td>96.0</td>\n",
       "      <td>269.0</td>\n",
       "      <td>10.7</td>\n",
       "      <td>3.0</td>\n",
       "      <td>C</td>\n",
       "    </tr>\n",
       "    <tr>\n",
       "      <th>4</th>\n",
       "      <td>4</td>\n",
       "      <td>788</td>\n",
       "      <td>Placebo</td>\n",
       "      <td>16658</td>\n",
       "      <td>F</td>\n",
       "      <td>N</td>\n",
       "      <td>Y</td>\n",
       "      <td>N</td>\n",
       "      <td>N</td>\n",
       "      <td>1.1</td>\n",
       "      <td>346.0</td>\n",
       "      <td>3.65</td>\n",
       "      <td>63.0</td>\n",
       "      <td>1181.0</td>\n",
       "      <td>125.55</td>\n",
       "      <td>96.0</td>\n",
       "      <td>298.0</td>\n",
       "      <td>10.6</td>\n",
       "      <td>4.0</td>\n",
       "      <td>C</td>\n",
       "    </tr>\n",
       "    <tr>\n",
       "      <th>...</th>\n",
       "      <td>...</td>\n",
       "      <td>...</td>\n",
       "      <td>...</td>\n",
       "      <td>...</td>\n",
       "      <td>...</td>\n",
       "      <td>...</td>\n",
       "      <td>...</td>\n",
       "      <td>...</td>\n",
       "      <td>...</td>\n",
       "      <td>...</td>\n",
       "      <td>...</td>\n",
       "      <td>...</td>\n",
       "      <td>...</td>\n",
       "      <td>...</td>\n",
       "      <td>...</td>\n",
       "      <td>...</td>\n",
       "      <td>...</td>\n",
       "      <td>...</td>\n",
       "      <td>...</td>\n",
       "      <td>...</td>\n",
       "    </tr>\n",
       "    <tr>\n",
       "      <th>13589</th>\n",
       "      <td>414</td>\n",
       "      <td>681</td>\n",
       "      <td>NaN</td>\n",
       "      <td>24472</td>\n",
       "      <td>F</td>\n",
       "      <td>NaN</td>\n",
       "      <td>NaN</td>\n",
       "      <td>NaN</td>\n",
       "      <td>N</td>\n",
       "      <td>1.2</td>\n",
       "      <td>NaN</td>\n",
       "      <td>2.96</td>\n",
       "      <td>NaN</td>\n",
       "      <td>NaN</td>\n",
       "      <td>NaN</td>\n",
       "      <td>NaN</td>\n",
       "      <td>174.0</td>\n",
       "      <td>10.9</td>\n",
       "      <td>3.0</td>\n",
       "      <td>D</td>\n",
       "    </tr>\n",
       "    <tr>\n",
       "      <th>13590</th>\n",
       "      <td>415</td>\n",
       "      <td>1103</td>\n",
       "      <td>NaN</td>\n",
       "      <td>14245</td>\n",
       "      <td>F</td>\n",
       "      <td>NaN</td>\n",
       "      <td>NaN</td>\n",
       "      <td>NaN</td>\n",
       "      <td>N</td>\n",
       "      <td>0.9</td>\n",
       "      <td>NaN</td>\n",
       "      <td>3.83</td>\n",
       "      <td>NaN</td>\n",
       "      <td>NaN</td>\n",
       "      <td>NaN</td>\n",
       "      <td>NaN</td>\n",
       "      <td>180.0</td>\n",
       "      <td>11.2</td>\n",
       "      <td>4.0</td>\n",
       "      <td>C</td>\n",
       "    </tr>\n",
       "    <tr>\n",
       "      <th>13591</th>\n",
       "      <td>416</td>\n",
       "      <td>1055</td>\n",
       "      <td>NaN</td>\n",
       "      <td>20819</td>\n",
       "      <td>F</td>\n",
       "      <td>NaN</td>\n",
       "      <td>NaN</td>\n",
       "      <td>NaN</td>\n",
       "      <td>N</td>\n",
       "      <td>1.6</td>\n",
       "      <td>NaN</td>\n",
       "      <td>3.42</td>\n",
       "      <td>NaN</td>\n",
       "      <td>NaN</td>\n",
       "      <td>NaN</td>\n",
       "      <td>NaN</td>\n",
       "      <td>143.0</td>\n",
       "      <td>9.9</td>\n",
       "      <td>3.0</td>\n",
       "      <td>C</td>\n",
       "    </tr>\n",
       "    <tr>\n",
       "      <th>13592</th>\n",
       "      <td>417</td>\n",
       "      <td>691</td>\n",
       "      <td>NaN</td>\n",
       "      <td>21185</td>\n",
       "      <td>F</td>\n",
       "      <td>NaN</td>\n",
       "      <td>NaN</td>\n",
       "      <td>NaN</td>\n",
       "      <td>N</td>\n",
       "      <td>0.8</td>\n",
       "      <td>NaN</td>\n",
       "      <td>3.75</td>\n",
       "      <td>NaN</td>\n",
       "      <td>NaN</td>\n",
       "      <td>NaN</td>\n",
       "      <td>NaN</td>\n",
       "      <td>269.0</td>\n",
       "      <td>10.4</td>\n",
       "      <td>3.0</td>\n",
       "      <td>C</td>\n",
       "    </tr>\n",
       "    <tr>\n",
       "      <th>13593</th>\n",
       "      <td>418</td>\n",
       "      <td>976</td>\n",
       "      <td>NaN</td>\n",
       "      <td>19358</td>\n",
       "      <td>F</td>\n",
       "      <td>NaN</td>\n",
       "      <td>NaN</td>\n",
       "      <td>NaN</td>\n",
       "      <td>N</td>\n",
       "      <td>0.7</td>\n",
       "      <td>NaN</td>\n",
       "      <td>3.29</td>\n",
       "      <td>NaN</td>\n",
       "      <td>NaN</td>\n",
       "      <td>NaN</td>\n",
       "      <td>NaN</td>\n",
       "      <td>350.0</td>\n",
       "      <td>10.6</td>\n",
       "      <td>4.0</td>\n",
       "      <td>C</td>\n",
       "    </tr>\n",
       "  </tbody>\n",
       "</table>\n",
       "<p>13594 rows × 20 columns</p>\n",
       "</div>"
      ],
      "text/plain": [
       "        id  N_Days             Drug    Age Sex Ascites Hepatomegaly Spiders  \\\n",
       "0        0     999  D-penicillamine  21532   M       N            N       N   \n",
       "1        1    2574          Placebo  19237   F       N            N       N   \n",
       "2        2    3428          Placebo  13727   F       N            Y       Y   \n",
       "3        3    2576          Placebo  18460   F       N            N       N   \n",
       "4        4     788          Placebo  16658   F       N            Y       N   \n",
       "...    ...     ...              ...    ...  ..     ...          ...     ...   \n",
       "13589  414     681              NaN  24472   F     NaN          NaN     NaN   \n",
       "13590  415    1103              NaN  14245   F     NaN          NaN     NaN   \n",
       "13591  416    1055              NaN  20819   F     NaN          NaN     NaN   \n",
       "13592  417     691              NaN  21185   F     NaN          NaN     NaN   \n",
       "13593  418     976              NaN  19358   F     NaN          NaN     NaN   \n",
       "\n",
       "      Edema  Bilirubin  Cholesterol  Albumin  Copper  Alk_Phos    SGOT  \\\n",
       "0         N        2.3        316.0     3.35   172.0    1601.0  179.80   \n",
       "1         N        0.9        364.0     3.54    63.0    1440.0  134.85   \n",
       "2         Y        3.3        299.0     3.55   131.0    1029.0  119.35   \n",
       "3         N        0.6        256.0     3.50    58.0    1653.0   71.30   \n",
       "4         N        1.1        346.0     3.65    63.0    1181.0  125.55   \n",
       "...     ...        ...          ...      ...     ...       ...     ...   \n",
       "13589     N        1.2          NaN     2.96     NaN       NaN     NaN   \n",
       "13590     N        0.9          NaN     3.83     NaN       NaN     NaN   \n",
       "13591     N        1.6          NaN     3.42     NaN       NaN     NaN   \n",
       "13592     N        0.8          NaN     3.75     NaN       NaN     NaN   \n",
       "13593     N        0.7          NaN     3.29     NaN       NaN     NaN   \n",
       "\n",
       "       Tryglicerides  Platelets  Prothrombin  Stage Status  \n",
       "0               63.0      394.0          9.7    3.0      D  \n",
       "1               88.0      361.0         11.0    3.0      C  \n",
       "2               50.0      199.0         11.7    4.0      D  \n",
       "3               96.0      269.0         10.7    3.0      C  \n",
       "4               96.0      298.0         10.6    4.0      C  \n",
       "...              ...        ...          ...    ...    ...  \n",
       "13589            NaN      174.0         10.9    3.0      D  \n",
       "13590            NaN      180.0         11.2    4.0      C  \n",
       "13591            NaN      143.0          9.9    3.0      C  \n",
       "13592            NaN      269.0         10.4    3.0      C  \n",
       "13593            NaN      350.0         10.6    4.0      C  \n",
       "\n",
       "[13594 rows x 20 columns]"
      ]
     },
     "execution_count": 6,
     "metadata": {},
     "output_type": "execute_result"
    }
   ],
   "source": [
    "concat_df = pd.concat([raw_df, test_df, original_df]).reset_index(drop=True)\n",
    "concat_df"
   ]
  },
  {
   "cell_type": "code",
   "execution_count": 7,
   "id": "745e540c",
   "metadata": {
    "execution": {
     "iopub.execute_input": "2024-09-27T04:00:42.944944Z",
     "iopub.status.busy": "2024-09-27T04:00:42.943852Z",
     "iopub.status.idle": "2024-09-27T04:00:42.962268Z",
     "shell.execute_reply": "2024-09-27T04:00:42.961203Z"
    },
    "papermill": {
     "duration": 0.066891,
     "end_time": "2024-09-27T04:00:42.964880",
     "exception": false,
     "start_time": "2024-09-27T04:00:42.897989",
     "status": "completed"
    },
    "tags": []
   },
   "outputs": [
    {
     "data": {
      "text/plain": [
       "id               0\n",
       "N_Days           0\n",
       "Drug             0\n",
       "Age              0\n",
       "Sex              0\n",
       "Ascites          0\n",
       "Hepatomegaly     0\n",
       "Spiders          0\n",
       "Edema            0\n",
       "Bilirubin        0\n",
       "Cholesterol      0\n",
       "Albumin          0\n",
       "Copper           0\n",
       "Alk_Phos         0\n",
       "SGOT             0\n",
       "Tryglicerides    0\n",
       "Platelets        0\n",
       "Prothrombin      0\n",
       "Stage            0\n",
       "Status           0\n",
       "dtype: int64"
      ]
     },
     "execution_count": 7,
     "metadata": {},
     "output_type": "execute_result"
    }
   ],
   "source": [
    "raw_df.isna().sum()"
   ]
  },
  {
   "cell_type": "code",
   "execution_count": 8,
   "id": "1f44c8d5",
   "metadata": {
    "execution": {
     "iopub.execute_input": "2024-09-27T04:00:43.056625Z",
     "iopub.status.busy": "2024-09-27T04:00:43.055772Z",
     "iopub.status.idle": "2024-09-27T04:00:43.075579Z",
     "shell.execute_reply": "2024-09-27T04:00:43.074332Z"
    },
    "papermill": {
     "duration": 0.069177,
     "end_time": "2024-09-27T04:00:43.078116",
     "exception": false,
     "start_time": "2024-09-27T04:00:43.008939",
     "status": "completed"
    },
    "tags": []
   },
   "outputs": [
    {
     "data": {
      "text/plain": [
       "id                  0\n",
       "N_Days              0\n",
       "Drug              106\n",
       "Age                 0\n",
       "Sex                 0\n",
       "Ascites           106\n",
       "Hepatomegaly      106\n",
       "Spiders           106\n",
       "Edema               0\n",
       "Bilirubin           0\n",
       "Cholesterol       134\n",
       "Albumin             0\n",
       "Copper            108\n",
       "Alk_Phos          106\n",
       "SGOT              106\n",
       "Tryglicerides     136\n",
       "Platelets          11\n",
       "Prothrombin         2\n",
       "Stage               6\n",
       "Status           5271\n",
       "dtype: int64"
      ]
     },
     "execution_count": 8,
     "metadata": {},
     "output_type": "execute_result"
    }
   ],
   "source": [
    "concat_df.isna().sum()"
   ]
  },
  {
   "cell_type": "code",
   "execution_count": 9,
   "id": "8e42e77b",
   "metadata": {
    "execution": {
     "iopub.execute_input": "2024-09-27T04:00:43.169445Z",
     "iopub.status.busy": "2024-09-27T04:00:43.169018Z",
     "iopub.status.idle": "2024-09-27T04:00:43.189233Z",
     "shell.execute_reply": "2024-09-27T04:00:43.188008Z"
    },
    "papermill": {
     "duration": 0.069111,
     "end_time": "2024-09-27T04:00:43.191869",
     "exception": false,
     "start_time": "2024-09-27T04:00:43.122758",
     "status": "completed"
    },
    "tags": []
   },
   "outputs": [],
   "source": [
    "def view_cat_target_feature(\n",
    "    df: pd.DataFrame,\n",
    "    feature: str,\n",
    "    target: str,\n",
    "    is_numeric: bool=False,\n",
    "    bins: int|list|None=None,\n",
    "    labels: list|None=None\n",
    ") -> pd.DataFrame:\n",
    "    \"\"\"\n",
    "    Xem xét sự phụ thuộc của `df[target]` vào `df[feature]`, trong đó\n",
    "    target là một category, còn feature có thể là dữ liệu numeric hoặc category.\n",
    "    \n",
    "    Parameters\n",
    "    ----------\n",
    "    df: DataFrame\n",
    "        DataFrame để tham chiếu mối quan hệ\n",
    "    feature: str\n",
    "        Tên tính năng để xem xét mối quan hệ với cột đích.\n",
    "    target: str\n",
    "        Tên cột đích (cột cần dự đoán), mang dữ liệu phân loại\n",
    "    is_numeric: bool, default=False\n",
    "        Lựa chọn xem tính năng là numeric hay categorical:\n",
    "        - Nếu là `False`, hàm sẽ đếm tỉ lệ phần trăm của mỗi nhãn đích\n",
    "        trong mỗi nhãn của `feature`.\n",
    "        - Nếu là `True`, hàm sẽ đem feature này phân ra tùy theo\n",
    "        `bins` rồi chuyển về như làm với dữ liệu categorical.\n",
    "    split_numeric_method: str or None, default=None\n",
    "    bins: int or list or None, default=None\n",
    "        Số lượng bins để phân chia tính năng thành các dữ liệu categorical:\n",
    "        - Nếu là `int` >= 2, hàm sẽ phân chia chính xác cột này thành `bins` labels.\n",
    "        - Nếu là `list` với len()>=3, hàm sẽ chia cột này thành các phần có các đầu mút là\n",
    "        các phần tử của `list`.\n",
    "        - Nếu là `None`: Nếu feature này là numeric thì chia thành 10 bin, còn \n",
    "        nếu feature này là categorical thì số bin chính là số label. \n",
    "    labels: list or None, default=None\n",
    "        Nếu là list, các label này được đánh lần lượt cho các bin, nếu là None\n",
    "        thì label sẽ được đánh tự động theo thứ tự bin.\n",
    "        \n",
    "    Returns\n",
    "    -------\n",
    "    out_df: DataFrame\n",
    "    Một DataFrame miêu tả mối quan hệ phụ thuộc\n",
    "    \"\"\"\n",
    "    df = df[[feature, target]].copy()\n",
    "    df = df[df[target].isna()==False]\n",
    "    if isinstance(bins, int) and bins>=2:\n",
    "        if labels is None:\n",
    "            labels = [i for i in range(bins)]\n",
    "        else:\n",
    "            if len(labels) > bins:\n",
    "                labels = labels[:bins]\n",
    "            elif len(labels) < bins:\n",
    "                add_labels = [i for i in range(len(labels), bins)]\n",
    "                labels += add_labels\n",
    "        df[f'cut_of_{feature}'] = pd.cut(df[feature], bins=bins, labels=labels)\n",
    "    elif isinstance(bins, list) and len(bins)>=3:\n",
    "        num_bins = len(bins) - 1\n",
    "        if labels is None:\n",
    "            labels = [i for i in range(num_bins)]\n",
    "        else:\n",
    "            if len(labels) > num_bins:\n",
    "                labels = labels[:num_bins]\n",
    "            elif len(labels) < num_bins:\n",
    "                add_labels = [i for i in range(len(labels), num_bins)]\n",
    "                labels += add_labels\n",
    "        df[f'cut_of_{feature}'] = pd.cut(df[feature], bins=bins, labels=labels)\n",
    "    else:\n",
    "        if is_numeric:\n",
    "            num_bins = 10\n",
    "            if labels is None:\n",
    "                labels = [i for i in range(num_bins)]\n",
    "            else:\n",
    "                if len(labels) > num_bins:\n",
    "                    labels = labels[:num_bins]\n",
    "                elif len(labels) < num_bins:\n",
    "                    add_labels = [i for i in range(len(labels), num_bins)]\n",
    "                    labels += add_labels\n",
    "            df[f'cut_of_{feature}'] = pd.cut(df[feature], bins=bins, labels=labels)\n",
    "        else:\n",
    "            df[f'cut_of_{feature}'] = df[feature]\n",
    "    \n",
    "    feature_dict = dict()\n",
    "    total = df[f'cut_of_{feature}'].value_counts()\n",
    "    view_idx = df[target].value_counts().index.tolist()\n",
    "    for idx in view_idx:\n",
    "        label = df[df[target]==idx][f'cut_of_{feature}'].value_counts()\n",
    "        feature_dict[idx] = label/total*100\n",
    "    \n",
    "    out_df = pd.DataFrame(feature_dict, columns=view_idx)\n",
    "    return out_df"
   ]
  },
  {
   "cell_type": "code",
   "execution_count": 10,
   "id": "59baa4ea",
   "metadata": {
    "execution": {
     "iopub.execute_input": "2024-09-27T04:00:43.283983Z",
     "iopub.status.busy": "2024-09-27T04:00:43.283004Z",
     "iopub.status.idle": "2024-09-27T04:00:43.297950Z",
     "shell.execute_reply": "2024-09-27T04:00:43.296607Z"
    },
    "papermill": {
     "duration": 0.063623,
     "end_time": "2024-09-27T04:00:43.300691",
     "exception": false,
     "start_time": "2024-09-27T04:00:43.237068",
     "status": "completed"
    },
    "tags": []
   },
   "outputs": [
    {
     "data": {
      "text/plain": [
       "Status\n",
       "C     5197\n",
       "D     2826\n",
       "CL     300\n",
       "Name: count, dtype: int64"
      ]
     },
     "execution_count": 10,
     "metadata": {},
     "output_type": "execute_result"
    }
   ],
   "source": [
    "concat_df['Status'].value_counts()"
   ]
  },
  {
   "cell_type": "markdown",
   "id": "9826bcaf",
   "metadata": {
    "papermill": {
     "duration": 0.044824,
     "end_time": "2024-09-27T04:00:43.446330",
     "exception": false,
     "start_time": "2024-09-27T04:00:43.401506",
     "status": "completed"
    },
    "tags": []
   },
   "source": [
    "## EDA, Feature Engineering and Preprocessing"
   ]
  },
  {
   "cell_type": "markdown",
   "id": "f0ec0531",
   "metadata": {
    "papermill": {
     "duration": 0.043659,
     "end_time": "2024-09-27T04:00:43.533873",
     "exception": false,
     "start_time": "2024-09-27T04:00:43.490214",
     "status": "completed"
    },
    "tags": []
   },
   "source": [
    "### N_Days"
   ]
  },
  {
   "cell_type": "code",
   "execution_count": 11,
   "id": "1633154c",
   "metadata": {
    "execution": {
     "iopub.execute_input": "2024-09-27T04:00:43.626324Z",
     "iopub.status.busy": "2024-09-27T04:00:43.625896Z",
     "iopub.status.idle": "2024-09-27T04:00:43.639451Z",
     "shell.execute_reply": "2024-09-27T04:00:43.638335Z"
    },
    "papermill": {
     "duration": 0.063356,
     "end_time": "2024-09-27T04:00:43.641981",
     "exception": false,
     "start_time": "2024-09-27T04:00:43.578625",
     "status": "completed"
    },
    "tags": []
   },
   "outputs": [
    {
     "data": {
      "text/plain": [
       "count    13594.000000\n",
       "mean      2030.022289\n",
       "std       1091.807165\n",
       "min         41.000000\n",
       "25%       1230.000000\n",
       "50%       1847.000000\n",
       "75%       2689.000000\n",
       "max       4795.000000\n",
       "Name: N_Days, dtype: float64"
      ]
     },
     "execution_count": 11,
     "metadata": {},
     "output_type": "execute_result"
    }
   ],
   "source": [
    "concat_df['N_Days'].describe()"
   ]
  },
  {
   "cell_type": "code",
   "execution_count": 12,
   "id": "7d587ce8",
   "metadata": {
    "execution": {
     "iopub.execute_input": "2024-09-27T04:00:43.732600Z",
     "iopub.status.busy": "2024-09-27T04:00:43.732136Z",
     "iopub.status.idle": "2024-09-27T04:00:44.074662Z",
     "shell.execute_reply": "2024-09-27T04:00:44.073457Z"
    },
    "papermill": {
     "duration": 0.391025,
     "end_time": "2024-09-27T04:00:44.077387",
     "exception": false,
     "start_time": "2024-09-27T04:00:43.686362",
     "status": "completed"
    },
    "tags": []
   },
   "outputs": [
    {
     "data": {
      "image/png": "[encoded data removed]",
      "text/plain": [
       "<Figure size 1200x800 with 1 Axes>"
      ]
     },
     "metadata": {},
     "output_type": "display_data"
    }
   ],
   "source": [
    "plt.figure(figsize=(12,8))\n",
    "plt.hist(concat_df['N_Days'], bins=13);"
   ]
  },
  {
   "cell_type": "code",
   "execution_count": 13,
   "id": "7f538510",
   "metadata": {
    "execution": {
     "iopub.execute_input": "2024-09-27T04:00:44.169164Z",
     "iopub.status.busy": "2024-09-27T04:00:44.168726Z",
     "iopub.status.idle": "2024-09-27T04:00:44.213766Z",
     "shell.execute_reply": "2024-09-27T04:00:44.212480Z"
    },
    "papermill": {
     "duration": 0.094263,
     "end_time": "2024-09-27T04:00:44.216361",
     "exception": false,
     "start_time": "2024-09-27T04:00:44.122098",
     "status": "completed"
    },
    "tags": []
   },
   "outputs": [
    {
     "data": {
      "text/html": [
       "<div>\n",
       "<style scoped>\n",
       "    .dataframe tbody tr th:only-of-type {\n",
       "        vertical-align: middle;\n",
       "    }\n",
       "\n",
       "    .dataframe tbody tr th {\n",
       "        vertical-align: top;\n",
       "    }\n",
       "\n",
       "    .dataframe thead th {\n",
       "        text-align: right;\n",
       "    }\n",
       "</style>\n",
       "<table border=\"1\" class=\"dataframe\">\n",
       "  <thead>\n",
       "    <tr style=\"text-align: right;\">\n",
       "      <th></th>\n",
       "      <th>C</th>\n",
       "      <th>D</th>\n",
       "      <th>CL</th>\n",
       "    </tr>\n",
       "    <tr>\n",
       "      <th>cut_of_N_Days</th>\n",
       "      <th></th>\n",
       "      <th></th>\n",
       "      <th></th>\n",
       "    </tr>\n",
       "  </thead>\n",
       "  <tbody>\n",
       "    <tr>\n",
       "      <th>0</th>\n",
       "      <td>6.611570</td>\n",
       "      <td>92.355372</td>\n",
       "      <td>1.033058</td>\n",
       "    </tr>\n",
       "    <tr>\n",
       "      <th>1</th>\n",
       "      <td>16.008772</td>\n",
       "      <td>75.438596</td>\n",
       "      <td>8.552632</td>\n",
       "    </tr>\n",
       "    <tr>\n",
       "      <th>2</th>\n",
       "      <td>26.658323</td>\n",
       "      <td>67.459324</td>\n",
       "      <td>5.882353</td>\n",
       "    </tr>\n",
       "    <tr>\n",
       "      <th>3</th>\n",
       "      <td>68.690314</td>\n",
       "      <td>25.920873</td>\n",
       "      <td>5.388813</td>\n",
       "    </tr>\n",
       "    <tr>\n",
       "      <th>4</th>\n",
       "      <td>70.903674</td>\n",
       "      <td>25.024826</td>\n",
       "      <td>4.071500</td>\n",
       "    </tr>\n",
       "    <tr>\n",
       "      <th>5</th>\n",
       "      <td>81.321474</td>\n",
       "      <td>17.153748</td>\n",
       "      <td>1.524778</td>\n",
       "    </tr>\n",
       "    <tr>\n",
       "      <th>6</th>\n",
       "      <td>73.623446</td>\n",
       "      <td>21.758437</td>\n",
       "      <td>4.618117</td>\n",
       "    </tr>\n",
       "    <tr>\n",
       "      <th>7</th>\n",
       "      <td>78.678038</td>\n",
       "      <td>20.255864</td>\n",
       "      <td>1.066098</td>\n",
       "    </tr>\n",
       "    <tr>\n",
       "      <th>8</th>\n",
       "      <td>79.349904</td>\n",
       "      <td>19.120459</td>\n",
       "      <td>1.529637</td>\n",
       "    </tr>\n",
       "    <tr>\n",
       "      <th>9</th>\n",
       "      <td>65.535248</td>\n",
       "      <td>33.681462</td>\n",
       "      <td>0.783290</td>\n",
       "    </tr>\n",
       "    <tr>\n",
       "      <th>10</th>\n",
       "      <td>76.744186</td>\n",
       "      <td>22.093023</td>\n",
       "      <td>1.162791</td>\n",
       "    </tr>\n",
       "    <tr>\n",
       "      <th>11</th>\n",
       "      <td>77.737226</td>\n",
       "      <td>21.167883</td>\n",
       "      <td>1.094891</td>\n",
       "    </tr>\n",
       "    <tr>\n",
       "      <th>12</th>\n",
       "      <td>86.341463</td>\n",
       "      <td>12.682927</td>\n",
       "      <td>0.975610</td>\n",
       "    </tr>\n",
       "  </tbody>\n",
       "</table>\n",
       "</div>"
      ],
      "text/plain": [
       "                       C          D        CL\n",
       "cut_of_N_Days                                \n",
       "0               6.611570  92.355372  1.033058\n",
       "1              16.008772  75.438596  8.552632\n",
       "2              26.658323  67.459324  5.882353\n",
       "3              68.690314  25.920873  5.388813\n",
       "4              70.903674  25.024826  4.071500\n",
       "5              81.321474  17.153748  1.524778\n",
       "6              73.623446  21.758437  4.618117\n",
       "7              78.678038  20.255864  1.066098\n",
       "8              79.349904  19.120459  1.529637\n",
       "9              65.535248  33.681462  0.783290\n",
       "10             76.744186  22.093023  1.162791\n",
       "11             77.737226  21.167883  1.094891\n",
       "12             86.341463  12.682927  0.975610"
      ]
     },
     "execution_count": 13,
     "metadata": {},
     "output_type": "execute_result"
    }
   ],
   "source": [
    "view_cat_target_feature(df=concat_df, feature='N_Days', target='Status', bins=13)"
   ]
  },
  {
   "cell_type": "markdown",
   "id": "78824952",
   "metadata": {
    "papermill": {
     "duration": 0.045287,
     "end_time": "2024-09-27T04:00:44.307426",
     "exception": false,
     "start_time": "2024-09-27T04:00:44.262139",
     "status": "completed"
    },
    "tags": []
   },
   "source": [
    "### Drug"
   ]
  },
  {
   "cell_type": "code",
   "execution_count": 14,
   "id": "c6c8599d",
   "metadata": {
    "execution": {
     "iopub.execute_input": "2024-09-27T04:00:44.399710Z",
     "iopub.status.busy": "2024-09-27T04:00:44.399219Z",
     "iopub.status.idle": "2024-09-27T04:00:44.409401Z",
     "shell.execute_reply": "2024-09-27T04:00:44.408400Z"
    },
    "papermill": {
     "duration": 0.05897,
     "end_time": "2024-09-27T04:00:44.411678",
     "exception": false,
     "start_time": "2024-09-27T04:00:44.352708",
     "status": "completed"
    },
    "tags": []
   },
   "outputs": [
    {
     "data": {
      "text/plain": [
       "Drug\n",
       "Placebo            6858\n",
       "D-penicillamine    6630\n",
       "NaN                 106\n",
       "Name: count, dtype: int64"
      ]
     },
     "execution_count": 14,
     "metadata": {},
     "output_type": "execute_result"
    }
   ],
   "source": [
    "concat_df['Drug'].value_counts(dropna=False)"
   ]
  },
  {
   "cell_type": "code",
   "execution_count": 15,
   "id": "782b6928",
   "metadata": {
    "execution": {
     "iopub.execute_input": "2024-09-27T04:00:44.506160Z",
     "iopub.status.busy": "2024-09-27T04:00:44.505368Z",
     "iopub.status.idle": "2024-09-27T04:00:44.513884Z",
     "shell.execute_reply": "2024-09-27T04:00:44.512821Z"
    },
    "papermill": {
     "duration": 0.058537,
     "end_time": "2024-09-27T04:00:44.516218",
     "exception": false,
     "start_time": "2024-09-27T04:00:44.457681",
     "status": "completed"
    },
    "tags": []
   },
   "outputs": [],
   "source": [
    "concat_df.fillna({'Drug': 'UNK'}, inplace=True)"
   ]
  },
  {
   "cell_type": "code",
   "execution_count": 16,
   "id": "473dd943",
   "metadata": {
    "execution": {
     "iopub.execute_input": "2024-09-27T04:00:44.608975Z",
     "iopub.status.busy": "2024-09-27T04:00:44.607912Z",
     "iopub.status.idle": "2024-09-27T04:00:44.641299Z",
     "shell.execute_reply": "2024-09-27T04:00:44.639803Z"
    },
    "papermill": {
     "duration": 0.082522,
     "end_time": "2024-09-27T04:00:44.643861",
     "exception": false,
     "start_time": "2024-09-27T04:00:44.561339",
     "status": "completed"
    },
    "tags": []
   },
   "outputs": [
    {
     "data": {
      "text/html": [
       "<div>\n",
       "<style scoped>\n",
       "    .dataframe tbody tr th:only-of-type {\n",
       "        vertical-align: middle;\n",
       "    }\n",
       "\n",
       "    .dataframe tbody tr th {\n",
       "        vertical-align: top;\n",
       "    }\n",
       "\n",
       "    .dataframe thead th {\n",
       "        text-align: right;\n",
       "    }\n",
       "</style>\n",
       "<table border=\"1\" class=\"dataframe\">\n",
       "  <thead>\n",
       "    <tr style=\"text-align: right;\">\n",
       "      <th></th>\n",
       "      <th>C</th>\n",
       "      <th>D</th>\n",
       "      <th>CL</th>\n",
       "    </tr>\n",
       "    <tr>\n",
       "      <th>cut_of_Drug</th>\n",
       "      <th></th>\n",
       "      <th></th>\n",
       "      <th></th>\n",
       "    </tr>\n",
       "  </thead>\n",
       "  <tbody>\n",
       "    <tr>\n",
       "      <th>D-penicillamine</th>\n",
       "      <td>61.386627</td>\n",
       "      <td>34.641007</td>\n",
       "      <td>3.972366</td>\n",
       "    </tr>\n",
       "    <tr>\n",
       "      <th>Placebo</th>\n",
       "      <td>63.520653</td>\n",
       "      <td>33.285303</td>\n",
       "      <td>3.194044</td>\n",
       "    </tr>\n",
       "    <tr>\n",
       "      <th>UNK</th>\n",
       "      <td>60.377358</td>\n",
       "      <td>33.962264</td>\n",
       "      <td>5.660377</td>\n",
       "    </tr>\n",
       "  </tbody>\n",
       "</table>\n",
       "</div>"
      ],
      "text/plain": [
       "                         C          D        CL\n",
       "cut_of_Drug                                    \n",
       "D-penicillamine  61.386627  34.641007  3.972366\n",
       "Placebo          63.520653  33.285303  3.194044\n",
       "UNK              60.377358  33.962264  5.660377"
      ]
     },
     "execution_count": 16,
     "metadata": {},
     "output_type": "execute_result"
    }
   ],
   "source": [
    "view_cat_target_feature(df=concat_df, feature='Drug', target='Status')"
   ]
  },
  {
   "cell_type": "code",
   "execution_count": 17,
   "id": "e013d812",
   "metadata": {
    "execution": {
     "iopub.execute_input": "2024-09-27T04:00:44.736964Z",
     "iopub.status.busy": "2024-09-27T04:00:44.736106Z",
     "iopub.status.idle": "2024-09-27T04:00:44.744557Z",
     "shell.execute_reply": "2024-09-27T04:00:44.743485Z"
    },
    "papermill": {
     "duration": 0.057489,
     "end_time": "2024-09-27T04:00:44.746866",
     "exception": false,
     "start_time": "2024-09-27T04:00:44.689377",
     "status": "completed"
    },
    "tags": []
   },
   "outputs": [],
   "source": [
    "concat_df['Drug'] = concat_df['Drug'].map({\n",
    "    'D-penicillamine': 1,\n",
    "    'Placebo': 2,\n",
    "    'UNK': 0\n",
    "})"
   ]
  },
  {
   "cell_type": "markdown",
   "id": "9a53e4bf",
   "metadata": {
    "papermill": {
     "duration": 0.045505,
     "end_time": "2024-09-27T04:00:44.837714",
     "exception": false,
     "start_time": "2024-09-27T04:00:44.792209",
     "status": "completed"
    },
    "tags": []
   },
   "source": [
    "### Age"
   ]
  },
  {
   "cell_type": "code",
   "execution_count": 18,
   "id": "d6500245",
   "metadata": {
    "execution": {
     "iopub.execute_input": "2024-09-27T04:00:44.930714Z",
     "iopub.status.busy": "2024-09-27T04:00:44.929831Z",
     "iopub.status.idle": "2024-09-27T04:00:44.941631Z",
     "shell.execute_reply": "2024-09-27T04:00:44.940556Z"
    },
    "papermill": {
     "duration": 0.061369,
     "end_time": "2024-09-27T04:00:44.944352",
     "exception": false,
     "start_time": "2024-09-27T04:00:44.882983",
     "status": "completed"
    },
    "tags": []
   },
   "outputs": [
    {
     "data": {
      "text/plain": [
       "count    13594.000000\n",
       "mean     18426.389584\n",
       "std       3647.574984\n",
       "min       9598.000000\n",
       "25%      15612.000000\n",
       "50%      18719.000000\n",
       "75%      20684.000000\n",
       "max      28650.000000\n",
       "Name: Age, dtype: float64"
      ]
     },
     "execution_count": 18,
     "metadata": {},
     "output_type": "execute_result"
    }
   ],
   "source": [
    "concat_df['Age'].describe()"
   ]
  },
  {
   "cell_type": "code",
   "execution_count": 19,
   "id": "fc375f3d",
   "metadata": {
    "execution": {
     "iopub.execute_input": "2024-09-27T04:00:45.037501Z",
     "iopub.status.busy": "2024-09-27T04:00:45.037057Z",
     "iopub.status.idle": "2024-09-27T04:00:45.365519Z",
     "shell.execute_reply": "2024-09-27T04:00:45.364411Z"
    },
    "papermill": {
     "duration": 0.377991,
     "end_time": "2024-09-27T04:00:45.368055",
     "exception": false,
     "start_time": "2024-09-27T04:00:44.990064",
     "status": "completed"
    },
    "tags": []
   },
   "outputs": [
    {
     "data": {
      "image/png": "[encoded data removed]",
      "text/plain": [
       "<Figure size 1200x800 with 1 Axes>"
      ]
     },
     "metadata": {},
     "output_type": "display_data"
    }
   ],
   "source": [
    "plt.figure(figsize=(12,8))\n",
    "plt.hist(concat_df['Age'], bins=13);"
   ]
  },
  {
   "cell_type": "code",
   "execution_count": 20,
   "id": "1e4c845f",
   "metadata": {
    "execution": {
     "iopub.execute_input": "2024-09-27T04:00:45.464146Z",
     "iopub.status.busy": "2024-09-27T04:00:45.463710Z",
     "iopub.status.idle": "2024-09-27T04:00:45.498903Z",
     "shell.execute_reply": "2024-09-27T04:00:45.497681Z"
    },
    "papermill": {
     "duration": 0.085972,
     "end_time": "2024-09-27T04:00:45.501433",
     "exception": false,
     "start_time": "2024-09-27T04:00:45.415461",
     "status": "completed"
    },
    "tags": []
   },
   "outputs": [
    {
     "data": {
      "text/html": [
       "<div>\n",
       "<style scoped>\n",
       "    .dataframe tbody tr th:only-of-type {\n",
       "        vertical-align: middle;\n",
       "    }\n",
       "\n",
       "    .dataframe tbody tr th {\n",
       "        vertical-align: top;\n",
       "    }\n",
       "\n",
       "    .dataframe thead th {\n",
       "        text-align: right;\n",
       "    }\n",
       "</style>\n",
       "<table border=\"1\" class=\"dataframe\">\n",
       "  <thead>\n",
       "    <tr style=\"text-align: right;\">\n",
       "      <th></th>\n",
       "      <th>C</th>\n",
       "      <th>D</th>\n",
       "      <th>CL</th>\n",
       "    </tr>\n",
       "    <tr>\n",
       "      <th>cut_of_Age</th>\n",
       "      <th></th>\n",
       "      <th></th>\n",
       "      <th></th>\n",
       "    </tr>\n",
       "  </thead>\n",
       "  <tbody>\n",
       "    <tr>\n",
       "      <th>0</th>\n",
       "      <td>81.481481</td>\n",
       "      <td>16.049383</td>\n",
       "      <td>2.469136</td>\n",
       "    </tr>\n",
       "    <tr>\n",
       "      <th>1</th>\n",
       "      <td>74.759615</td>\n",
       "      <td>17.788462</td>\n",
       "      <td>7.451923</td>\n",
       "    </tr>\n",
       "    <tr>\n",
       "      <th>2</th>\n",
       "      <td>68.158348</td>\n",
       "      <td>23.235800</td>\n",
       "      <td>8.605852</td>\n",
       "    </tr>\n",
       "    <tr>\n",
       "      <th>3</th>\n",
       "      <td>70.517052</td>\n",
       "      <td>21.342134</td>\n",
       "      <td>8.140814</td>\n",
       "    </tr>\n",
       "    <tr>\n",
       "      <th>4</th>\n",
       "      <td>67.035176</td>\n",
       "      <td>30.150754</td>\n",
       "      <td>2.814070</td>\n",
       "    </tr>\n",
       "    <tr>\n",
       "      <th>5</th>\n",
       "      <td>66.310680</td>\n",
       "      <td>28.932039</td>\n",
       "      <td>4.757282</td>\n",
       "    </tr>\n",
       "    <tr>\n",
       "      <th>6</th>\n",
       "      <td>52.756508</td>\n",
       "      <td>45.482389</td>\n",
       "      <td>1.761103</td>\n",
       "    </tr>\n",
       "    <tr>\n",
       "      <th>7</th>\n",
       "      <td>72.244570</td>\n",
       "      <td>25.985519</td>\n",
       "      <td>1.769912</td>\n",
       "    </tr>\n",
       "    <tr>\n",
       "      <th>8</th>\n",
       "      <td>41.237113</td>\n",
       "      <td>57.731959</td>\n",
       "      <td>1.030928</td>\n",
       "    </tr>\n",
       "    <tr>\n",
       "      <th>9</th>\n",
       "      <td>64.372470</td>\n",
       "      <td>34.615385</td>\n",
       "      <td>1.012146</td>\n",
       "    </tr>\n",
       "    <tr>\n",
       "      <th>10</th>\n",
       "      <td>35.064935</td>\n",
       "      <td>63.311688</td>\n",
       "      <td>1.623377</td>\n",
       "    </tr>\n",
       "    <tr>\n",
       "      <th>11</th>\n",
       "      <td>36.263736</td>\n",
       "      <td>61.538462</td>\n",
       "      <td>2.197802</td>\n",
       "    </tr>\n",
       "    <tr>\n",
       "      <th>12</th>\n",
       "      <td>72.043011</td>\n",
       "      <td>26.881720</td>\n",
       "      <td>1.075269</td>\n",
       "    </tr>\n",
       "  </tbody>\n",
       "</table>\n",
       "</div>"
      ],
      "text/plain": [
       "                    C          D        CL\n",
       "cut_of_Age                                \n",
       "0           81.481481  16.049383  2.469136\n",
       "1           74.759615  17.788462  7.451923\n",
       "2           68.158348  23.235800  8.605852\n",
       "3           70.517052  21.342134  8.140814\n",
       "4           67.035176  30.150754  2.814070\n",
       "5           66.310680  28.932039  4.757282\n",
       "6           52.756508  45.482389  1.761103\n",
       "7           72.244570  25.985519  1.769912\n",
       "8           41.237113  57.731959  1.030928\n",
       "9           64.372470  34.615385  1.012146\n",
       "10          35.064935  63.311688  1.623377\n",
       "11          36.263736  61.538462  2.197802\n",
       "12          72.043011  26.881720  1.075269"
      ]
     },
     "execution_count": 20,
     "metadata": {},
     "output_type": "execute_result"
    }
   ],
   "source": [
    "view_cat_target_feature(concat_df, 'Age', 'Status', bins=13)"
   ]
  },
  {
   "cell_type": "markdown",
   "id": "459cddfd",
   "metadata": {
    "papermill": {
     "duration": 0.045805,
     "end_time": "2024-09-27T04:00:45.593269",
     "exception": false,
     "start_time": "2024-09-27T04:00:45.547464",
     "status": "completed"
    },
    "tags": []
   },
   "source": [
    "### Sex"
   ]
  },
  {
   "cell_type": "code",
   "execution_count": 21,
   "id": "7799919e",
   "metadata": {
    "execution": {
     "iopub.execute_input": "2024-09-27T04:00:45.689346Z",
     "iopub.status.busy": "2024-09-27T04:00:45.688927Z",
     "iopub.status.idle": "2024-09-27T04:00:45.700157Z",
     "shell.execute_reply": "2024-09-27T04:00:45.698857Z"
    },
    "papermill": {
     "duration": 0.062521,
     "end_time": "2024-09-27T04:00:45.702704",
     "exception": false,
     "start_time": "2024-09-27T04:00:45.640183",
     "status": "completed"
    },
    "tags": []
   },
   "outputs": [
    {
     "data": {
      "text/plain": [
       "Sex\n",
       "F    12587\n",
       "M     1007\n",
       "Name: count, dtype: int64"
      ]
     },
     "execution_count": 21,
     "metadata": {},
     "output_type": "execute_result"
    }
   ],
   "source": [
    "concat_df['Sex'].value_counts(dropna=False)"
   ]
  },
  {
   "cell_type": "code",
   "execution_count": 22,
   "id": "9fad5ca6",
   "metadata": {
    "execution": {
     "iopub.execute_input": "2024-09-27T04:00:45.802721Z",
     "iopub.status.busy": "2024-09-27T04:00:45.802239Z",
     "iopub.status.idle": "2024-09-27T04:00:45.834632Z",
     "shell.execute_reply": "2024-09-27T04:00:45.833285Z"
    },
    "papermill": {
     "duration": 0.085638,
     "end_time": "2024-09-27T04:00:45.837250",
     "exception": false,
     "start_time": "2024-09-27T04:00:45.751612",
     "status": "completed"
    },
    "tags": []
   },
   "outputs": [
    {
     "data": {
      "text/html": [
       "<div>\n",
       "<style scoped>\n",
       "    .dataframe tbody tr th:only-of-type {\n",
       "        vertical-align: middle;\n",
       "    }\n",
       "\n",
       "    .dataframe tbody tr th {\n",
       "        vertical-align: top;\n",
       "    }\n",
       "\n",
       "    .dataframe thead th {\n",
       "        text-align: right;\n",
       "    }\n",
       "</style>\n",
       "<table border=\"1\" class=\"dataframe\">\n",
       "  <thead>\n",
       "    <tr style=\"text-align: right;\">\n",
       "      <th></th>\n",
       "      <th>C</th>\n",
       "      <th>D</th>\n",
       "      <th>CL</th>\n",
       "    </tr>\n",
       "    <tr>\n",
       "      <th>cut_of_Sex</th>\n",
       "      <th></th>\n",
       "      <th></th>\n",
       "      <th></th>\n",
       "    </tr>\n",
       "  </thead>\n",
       "  <tbody>\n",
       "    <tr>\n",
       "      <th>F</th>\n",
       "      <td>64.202335</td>\n",
       "      <td>32.256809</td>\n",
       "      <td>3.540856</td>\n",
       "    </tr>\n",
       "    <tr>\n",
       "      <th>M</th>\n",
       "      <td>40.293638</td>\n",
       "      <td>55.301794</td>\n",
       "      <td>4.404568</td>\n",
       "    </tr>\n",
       "  </tbody>\n",
       "</table>\n",
       "</div>"
      ],
      "text/plain": [
       "                    C          D        CL\n",
       "cut_of_Sex                                \n",
       "F           64.202335  32.256809  3.540856\n",
       "M           40.293638  55.301794  4.404568"
      ]
     },
     "execution_count": 22,
     "metadata": {},
     "output_type": "execute_result"
    }
   ],
   "source": [
    "view_cat_target_feature(concat_df, 'Sex', 'Status')"
   ]
  },
  {
   "cell_type": "code",
   "execution_count": 23,
   "id": "be6b15f9",
   "metadata": {
    "execution": {
     "iopub.execute_input": "2024-09-27T04:00:45.932175Z",
     "iopub.status.busy": "2024-09-27T04:00:45.931716Z",
     "iopub.status.idle": "2024-09-27T04:00:45.939791Z",
     "shell.execute_reply": "2024-09-27T04:00:45.938606Z"
    },
    "papermill": {
     "duration": 0.058584,
     "end_time": "2024-09-27T04:00:45.942623",
     "exception": false,
     "start_time": "2024-09-27T04:00:45.884039",
     "status": "completed"
    },
    "tags": []
   },
   "outputs": [],
   "source": [
    "concat_df['Sex'] = concat_df['Sex'].map({'F': 0, 'M': 1})"
   ]
  },
  {
   "cell_type": "markdown",
   "id": "e291c622",
   "metadata": {
    "papermill": {
     "duration": 0.046617,
     "end_time": "2024-09-27T04:00:46.036811",
     "exception": false,
     "start_time": "2024-09-27T04:00:45.990194",
     "status": "completed"
    },
    "tags": []
   },
   "source": [
    "### Stage"
   ]
  },
  {
   "cell_type": "code",
   "execution_count": 24,
   "id": "210704e8",
   "metadata": {
    "execution": {
     "iopub.execute_input": "2024-09-27T04:00:46.135158Z",
     "iopub.status.busy": "2024-09-27T04:00:46.134745Z",
     "iopub.status.idle": "2024-09-27T04:00:46.146676Z",
     "shell.execute_reply": "2024-09-27T04:00:46.145440Z"
    },
    "papermill": {
     "duration": 0.06336,
     "end_time": "2024-09-27T04:00:46.149207",
     "exception": false,
     "start_time": "2024-09-27T04:00:46.085847",
     "status": "completed"
    },
    "tags": []
   },
   "outputs": [
    {
     "data": {
      "text/plain": [
       "Stage\n",
       "3.0    5430\n",
       "4.0    4639\n",
       "2.0    2861\n",
       "1.0     658\n",
       "NaN       6\n",
       "Name: count, dtype: int64"
      ]
     },
     "execution_count": 24,
     "metadata": {},
     "output_type": "execute_result"
    }
   ],
   "source": [
    "concat_df['Stage'].value_counts(dropna=False)"
   ]
  },
  {
   "cell_type": "code",
   "execution_count": 25,
   "id": "c6099090",
   "metadata": {
    "execution": {
     "iopub.execute_input": "2024-09-27T04:00:46.247748Z",
     "iopub.status.busy": "2024-09-27T04:00:46.246588Z",
     "iopub.status.idle": "2024-09-27T04:00:46.253613Z",
     "shell.execute_reply": "2024-09-27T04:00:46.252474Z"
    },
    "papermill": {
     "duration": 0.059044,
     "end_time": "2024-09-27T04:00:46.256321",
     "exception": false,
     "start_time": "2024-09-27T04:00:46.197277",
     "status": "completed"
    },
    "tags": []
   },
   "outputs": [],
   "source": [
    "concat_df.fillna({'Stage': 3.0}, inplace=True)"
   ]
  },
  {
   "cell_type": "code",
   "execution_count": 26,
   "id": "d05a5ea4",
   "metadata": {
    "execution": {
     "iopub.execute_input": "2024-09-27T04:00:46.352847Z",
     "iopub.status.busy": "2024-09-27T04:00:46.351839Z",
     "iopub.status.idle": "2024-09-27T04:00:46.358118Z",
     "shell.execute_reply": "2024-09-27T04:00:46.357013Z"
    },
    "papermill": {
     "duration": 0.057305,
     "end_time": "2024-09-27T04:00:46.360650",
     "exception": false,
     "start_time": "2024-09-27T04:00:46.303345",
     "status": "completed"
    },
    "tags": []
   },
   "outputs": [],
   "source": [
    "concat_df['Stage'] = concat_df['Stage'].astype('int8')"
   ]
  },
  {
   "cell_type": "code",
   "execution_count": 27,
   "id": "a256696d",
   "metadata": {
    "execution": {
     "iopub.execute_input": "2024-09-27T04:00:46.458094Z",
     "iopub.status.busy": "2024-09-27T04:00:46.457687Z",
     "iopub.status.idle": "2024-09-27T04:00:46.488128Z",
     "shell.execute_reply": "2024-09-27T04:00:46.486834Z"
    },
    "papermill": {
     "duration": 0.081841,
     "end_time": "2024-09-27T04:00:46.490736",
     "exception": false,
     "start_time": "2024-09-27T04:00:46.408895",
     "status": "completed"
    },
    "tags": []
   },
   "outputs": [
    {
     "data": {
      "text/html": [
       "<div>\n",
       "<style scoped>\n",
       "    .dataframe tbody tr th:only-of-type {\n",
       "        vertical-align: middle;\n",
       "    }\n",
       "\n",
       "    .dataframe tbody tr th {\n",
       "        vertical-align: top;\n",
       "    }\n",
       "\n",
       "    .dataframe thead th {\n",
       "        text-align: right;\n",
       "    }\n",
       "</style>\n",
       "<table border=\"1\" class=\"dataframe\">\n",
       "  <thead>\n",
       "    <tr style=\"text-align: right;\">\n",
       "      <th></th>\n",
       "      <th>C</th>\n",
       "      <th>D</th>\n",
       "      <th>CL</th>\n",
       "    </tr>\n",
       "    <tr>\n",
       "      <th>cut_of_Stage</th>\n",
       "      <th></th>\n",
       "      <th></th>\n",
       "      <th></th>\n",
       "    </tr>\n",
       "  </thead>\n",
       "  <tbody>\n",
       "    <tr>\n",
       "      <th>1</th>\n",
       "      <td>88.516746</td>\n",
       "      <td>9.808612</td>\n",
       "      <td>1.674641</td>\n",
       "    </tr>\n",
       "    <tr>\n",
       "      <th>2</th>\n",
       "      <td>77.809633</td>\n",
       "      <td>19.208716</td>\n",
       "      <td>2.981651</td>\n",
       "    </tr>\n",
       "    <tr>\n",
       "      <th>3</th>\n",
       "      <td>72.329511</td>\n",
       "      <td>23.958962</td>\n",
       "      <td>3.711527</td>\n",
       "    </tr>\n",
       "    <tr>\n",
       "      <th>4</th>\n",
       "      <td>37.688795</td>\n",
       "      <td>58.166491</td>\n",
       "      <td>4.144714</td>\n",
       "    </tr>\n",
       "  </tbody>\n",
       "</table>\n",
       "</div>"
      ],
      "text/plain": [
       "                      C          D        CL\n",
       "cut_of_Stage                                \n",
       "1             88.516746   9.808612  1.674641\n",
       "2             77.809633  19.208716  2.981651\n",
       "3             72.329511  23.958962  3.711527\n",
       "4             37.688795  58.166491  4.144714"
      ]
     },
     "execution_count": 27,
     "metadata": {},
     "output_type": "execute_result"
    }
   ],
   "source": [
    "view_cat_target_feature(concat_df, 'Stage', 'Status')"
   ]
  },
  {
   "cell_type": "markdown",
   "id": "b051aa42",
   "metadata": {
    "papermill": {
     "duration": 0.047525,
     "end_time": "2024-09-27T04:00:46.585775",
     "exception": false,
     "start_time": "2024-09-27T04:00:46.538250",
     "status": "completed"
    },
    "tags": []
   },
   "source": [
    "### Ascites, Hepatomegaly, Spiders, Edema"
   ]
  },
  {
   "cell_type": "code",
   "execution_count": 28,
   "id": "bb86b72e",
   "metadata": {
    "execution": {
     "iopub.execute_input": "2024-09-27T04:00:46.683167Z",
     "iopub.status.busy": "2024-09-27T04:00:46.682043Z",
     "iopub.status.idle": "2024-09-27T04:00:46.692622Z",
     "shell.execute_reply": "2024-09-27T04:00:46.691293Z"
    },
    "papermill": {
     "duration": 0.062214,
     "end_time": "2024-09-27T04:00:46.695258",
     "exception": false,
     "start_time": "2024-09-27T04:00:46.633044",
     "status": "completed"
    },
    "tags": []
   },
   "outputs": [
    {
     "data": {
      "text/plain": [
       "Ascites\n",
       "N      12840\n",
       "Y        648\n",
       "NaN      106\n",
       "Name: count, dtype: int64"
      ]
     },
     "execution_count": 28,
     "metadata": {},
     "output_type": "execute_result"
    }
   ],
   "source": [
    "concat_df['Ascites'].value_counts(dropna=False)"
   ]
  },
  {
   "cell_type": "code",
   "execution_count": 29,
   "id": "aad1edf2",
   "metadata": {
    "execution": {
     "iopub.execute_input": "2024-09-27T04:00:46.792974Z",
     "iopub.status.busy": "2024-09-27T04:00:46.792462Z",
     "iopub.status.idle": "2024-09-27T04:00:46.803351Z",
     "shell.execute_reply": "2024-09-27T04:00:46.801834Z"
    },
    "papermill": {
     "duration": 0.063006,
     "end_time": "2024-09-27T04:00:46.806301",
     "exception": false,
     "start_time": "2024-09-27T04:00:46.743295",
     "status": "completed"
    },
    "tags": []
   },
   "outputs": [
    {
     "data": {
      "text/plain": [
       "Hepatomegaly\n",
       "Y      6932\n",
       "N      6556\n",
       "NaN     106\n",
       "Name: count, dtype: int64"
      ]
     },
     "execution_count": 29,
     "metadata": {},
     "output_type": "execute_result"
    }
   ],
   "source": [
    "concat_df['Hepatomegaly'].value_counts(dropna=False)"
   ]
  },
  {
   "cell_type": "code",
   "execution_count": 30,
   "id": "535f8973",
   "metadata": {
    "execution": {
     "iopub.execute_input": "2024-09-27T04:00:46.904965Z",
     "iopub.status.busy": "2024-09-27T04:00:46.904485Z",
     "iopub.status.idle": "2024-09-27T04:00:46.914766Z",
     "shell.execute_reply": "2024-09-27T04:00:46.913590Z"
    },
    "papermill": {
     "duration": 0.061655,
     "end_time": "2024-09-27T04:00:46.917296",
     "exception": false,
     "start_time": "2024-09-27T04:00:46.855641",
     "status": "completed"
    },
    "tags": []
   },
   "outputs": [
    {
     "data": {
      "text/plain": [
       "Spiders\n",
       "N      10160\n",
       "Y       3328\n",
       "NaN      106\n",
       "Name: count, dtype: int64"
      ]
     },
     "execution_count": 30,
     "metadata": {},
     "output_type": "execute_result"
    }
   ],
   "source": [
    "concat_df['Spiders'].value_counts(dropna=False)"
   ]
  },
  {
   "cell_type": "code",
   "execution_count": 31,
   "id": "3a12b519",
   "metadata": {
    "execution": {
     "iopub.execute_input": "2024-09-27T04:00:47.017004Z",
     "iopub.status.busy": "2024-09-27T04:00:47.016488Z",
     "iopub.status.idle": "2024-09-27T04:00:47.028040Z",
     "shell.execute_reply": "2024-09-27T04:00:47.026541Z"
    },
    "papermill": {
     "duration": 0.064637,
     "end_time": "2024-09-27T04:00:47.030835",
     "exception": false,
     "start_time": "2024-09-27T04:00:46.966198",
     "status": "completed"
    },
    "tags": []
   },
   "outputs": [
    {
     "data": {
      "text/plain": [
       "Edema\n",
       "N    12301\n",
       "S      705\n",
       "Y      588\n",
       "Name: count, dtype: int64"
      ]
     },
     "execution_count": 31,
     "metadata": {},
     "output_type": "execute_result"
    }
   ],
   "source": [
    "concat_df['Edema'].value_counts(dropna=False)"
   ]
  },
  {
   "cell_type": "code",
   "execution_count": 32,
   "id": "6fd1b441",
   "metadata": {
    "execution": {
     "iopub.execute_input": "2024-09-27T04:00:47.130785Z",
     "iopub.status.busy": "2024-09-27T04:00:47.130295Z",
     "iopub.status.idle": "2024-09-27T04:00:47.155315Z",
     "shell.execute_reply": "2024-09-27T04:00:47.153897Z"
    },
    "papermill": {
     "duration": 0.077854,
     "end_time": "2024-09-27T04:00:47.158402",
     "exception": false,
     "start_time": "2024-09-27T04:00:47.080548",
     "status": "completed"
    },
    "tags": []
   },
   "outputs": [],
   "source": [
    "imputer = SimpleImputer(strategy='most_frequent')\n",
    "concat_df[['Ascites','Hepatomegaly','Spiders','Edema']] = imputer.fit_transform(concat_df[['Ascites','Hepatomegaly','Spiders','Edema']])"
   ]
  },
  {
   "cell_type": "code",
   "execution_count": 33,
   "id": "6a5052da",
   "metadata": {
    "execution": {
     "iopub.execute_input": "2024-09-27T04:00:47.257167Z",
     "iopub.status.busy": "2024-09-27T04:00:47.256695Z",
     "iopub.status.idle": "2024-09-27T04:00:47.290633Z",
     "shell.execute_reply": "2024-09-27T04:00:47.289374Z"
    },
    "papermill": {
     "duration": 0.086492,
     "end_time": "2024-09-27T04:00:47.293328",
     "exception": false,
     "start_time": "2024-09-27T04:00:47.206836",
     "status": "completed"
    },
    "tags": []
   },
   "outputs": [
    {
     "data": {
      "text/html": [
       "<div>\n",
       "<style scoped>\n",
       "    .dataframe tbody tr th:only-of-type {\n",
       "        vertical-align: middle;\n",
       "    }\n",
       "\n",
       "    .dataframe tbody tr th {\n",
       "        vertical-align: top;\n",
       "    }\n",
       "\n",
       "    .dataframe thead th {\n",
       "        text-align: right;\n",
       "    }\n",
       "</style>\n",
       "<table border=\"1\" class=\"dataframe\">\n",
       "  <thead>\n",
       "    <tr style=\"text-align: right;\">\n",
       "      <th></th>\n",
       "      <th>C</th>\n",
       "      <th>D</th>\n",
       "      <th>CL</th>\n",
       "    </tr>\n",
       "    <tr>\n",
       "      <th>cut_of_Ascites</th>\n",
       "      <th></th>\n",
       "      <th></th>\n",
       "      <th></th>\n",
       "    </tr>\n",
       "  </thead>\n",
       "  <tbody>\n",
       "    <tr>\n",
       "      <th>N</th>\n",
       "      <td>65.298649</td>\n",
       "      <td>30.988761</td>\n",
       "      <td>3.712590</td>\n",
       "    </tr>\n",
       "    <tr>\n",
       "      <th>Y</th>\n",
       "      <td>6.435644</td>\n",
       "      <td>92.079208</td>\n",
       "      <td>1.485149</td>\n",
       "    </tr>\n",
       "  </tbody>\n",
       "</table>\n",
       "</div>"
      ],
      "text/plain": [
       "                        C          D        CL\n",
       "cut_of_Ascites                                \n",
       "N               65.298649  30.988761  3.712590\n",
       "Y                6.435644  92.079208  1.485149"
      ]
     },
     "execution_count": 33,
     "metadata": {},
     "output_type": "execute_result"
    }
   ],
   "source": [
    "view_cat_target_feature(concat_df, 'Ascites', 'Status')"
   ]
  },
  {
   "cell_type": "code",
   "execution_count": 34,
   "id": "6fbcca1c",
   "metadata": {
    "execution": {
     "iopub.execute_input": "2024-09-27T04:00:47.395911Z",
     "iopub.status.busy": "2024-09-27T04:00:47.394936Z",
     "iopub.status.idle": "2024-09-27T04:00:47.428307Z",
     "shell.execute_reply": "2024-09-27T04:00:47.427177Z"
    },
    "papermill": {
     "duration": 0.087411,
     "end_time": "2024-09-27T04:00:47.430904",
     "exception": false,
     "start_time": "2024-09-27T04:00:47.343493",
     "status": "completed"
    },
    "tags": []
   },
   "outputs": [
    {
     "data": {
      "text/html": [
       "<div>\n",
       "<style scoped>\n",
       "    .dataframe tbody tr th:only-of-type {\n",
       "        vertical-align: middle;\n",
       "    }\n",
       "\n",
       "    .dataframe tbody tr th {\n",
       "        vertical-align: top;\n",
       "    }\n",
       "\n",
       "    .dataframe thead th {\n",
       "        text-align: right;\n",
       "    }\n",
       "</style>\n",
       "<table border=\"1\" class=\"dataframe\">\n",
       "  <thead>\n",
       "    <tr style=\"text-align: right;\">\n",
       "      <th></th>\n",
       "      <th>C</th>\n",
       "      <th>D</th>\n",
       "      <th>CL</th>\n",
       "    </tr>\n",
       "    <tr>\n",
       "      <th>cut_of_Hepatomegaly</th>\n",
       "      <th></th>\n",
       "      <th></th>\n",
       "      <th></th>\n",
       "    </tr>\n",
       "  </thead>\n",
       "  <tbody>\n",
       "    <tr>\n",
       "      <th>N</th>\n",
       "      <td>81.743462</td>\n",
       "      <td>15.367372</td>\n",
       "      <td>2.889166</td>\n",
       "    </tr>\n",
       "    <tr>\n",
       "      <th>Y</th>\n",
       "      <td>44.452182</td>\n",
       "      <td>51.276695</td>\n",
       "      <td>4.271123</td>\n",
       "    </tr>\n",
       "  </tbody>\n",
       "</table>\n",
       "</div>"
      ],
      "text/plain": [
       "                             C          D        CL\n",
       "cut_of_Hepatomegaly                                \n",
       "N                    81.743462  15.367372  2.889166\n",
       "Y                    44.452182  51.276695  4.271123"
      ]
     },
     "execution_count": 34,
     "metadata": {},
     "output_type": "execute_result"
    }
   ],
   "source": [
    "view_cat_target_feature(concat_df, 'Hepatomegaly', 'Status')"
   ]
  },
  {
   "cell_type": "code",
   "execution_count": 35,
   "id": "631674f6",
   "metadata": {
    "execution": {
     "iopub.execute_input": "2024-09-27T04:00:47.530334Z",
     "iopub.status.busy": "2024-09-27T04:00:47.529916Z",
     "iopub.status.idle": "2024-09-27T04:00:47.563475Z",
     "shell.execute_reply": "2024-09-27T04:00:47.562288Z"
    },
    "papermill": {
     "duration": 0.085772,
     "end_time": "2024-09-27T04:00:47.566090",
     "exception": false,
     "start_time": "2024-09-27T04:00:47.480318",
     "status": "completed"
    },
    "tags": []
   },
   "outputs": [
    {
     "data": {
      "text/html": [
       "<div>\n",
       "<style scoped>\n",
       "    .dataframe tbody tr th:only-of-type {\n",
       "        vertical-align: middle;\n",
       "    }\n",
       "\n",
       "    .dataframe tbody tr th {\n",
       "        vertical-align: top;\n",
       "    }\n",
       "\n",
       "    .dataframe thead th {\n",
       "        text-align: right;\n",
       "    }\n",
       "</style>\n",
       "<table border=\"1\" class=\"dataframe\">\n",
       "  <thead>\n",
       "    <tr style=\"text-align: right;\">\n",
       "      <th></th>\n",
       "      <th>C</th>\n",
       "      <th>D</th>\n",
       "      <th>CL</th>\n",
       "    </tr>\n",
       "    <tr>\n",
       "      <th>cut_of_Spiders</th>\n",
       "      <th></th>\n",
       "      <th></th>\n",
       "      <th></th>\n",
       "    </tr>\n",
       "  </thead>\n",
       "  <tbody>\n",
       "    <tr>\n",
       "      <th>N</th>\n",
       "      <td>71.035907</td>\n",
       "      <td>25.579917</td>\n",
       "      <td>3.384175</td>\n",
       "    </tr>\n",
       "    <tr>\n",
       "      <th>Y</th>\n",
       "      <td>35.781173</td>\n",
       "      <td>59.931000</td>\n",
       "      <td>4.287827</td>\n",
       "    </tr>\n",
       "  </tbody>\n",
       "</table>\n",
       "</div>"
      ],
      "text/plain": [
       "                        C          D        CL\n",
       "cut_of_Spiders                                \n",
       "N               71.035907  25.579917  3.384175\n",
       "Y               35.781173  59.931000  4.287827"
      ]
     },
     "execution_count": 35,
     "metadata": {},
     "output_type": "execute_result"
    }
   ],
   "source": [
    "view_cat_target_feature(concat_df, 'Spiders', 'Status')"
   ]
  },
  {
   "cell_type": "code",
   "execution_count": 36,
   "id": "631b25e1",
   "metadata": {
    "execution": {
     "iopub.execute_input": "2024-09-27T04:00:47.665613Z",
     "iopub.status.busy": "2024-09-27T04:00:47.665142Z",
     "iopub.status.idle": "2024-09-27T04:00:47.697847Z",
     "shell.execute_reply": "2024-09-27T04:00:47.696610Z"
    },
    "papermill": {
     "duration": 0.086125,
     "end_time": "2024-09-27T04:00:47.700709",
     "exception": false,
     "start_time": "2024-09-27T04:00:47.614584",
     "status": "completed"
    },
    "tags": []
   },
   "outputs": [
    {
     "data": {
      "text/html": [
       "<div>\n",
       "<style scoped>\n",
       "    .dataframe tbody tr th:only-of-type {\n",
       "        vertical-align: middle;\n",
       "    }\n",
       "\n",
       "    .dataframe tbody tr th {\n",
       "        vertical-align: top;\n",
       "    }\n",
       "\n",
       "    .dataframe thead th {\n",
       "        text-align: right;\n",
       "    }\n",
       "</style>\n",
       "<table border=\"1\" class=\"dataframe\">\n",
       "  <thead>\n",
       "    <tr style=\"text-align: right;\">\n",
       "      <th></th>\n",
       "      <th>C</th>\n",
       "      <th>D</th>\n",
       "      <th>CL</th>\n",
       "    </tr>\n",
       "    <tr>\n",
       "      <th>cut_of_Edema</th>\n",
       "      <th></th>\n",
       "      <th></th>\n",
       "      <th></th>\n",
       "    </tr>\n",
       "  </thead>\n",
       "  <tbody>\n",
       "    <tr>\n",
       "      <th>N</th>\n",
       "      <td>67.371923</td>\n",
       "      <td>28.915502</td>\n",
       "      <td>3.712575</td>\n",
       "    </tr>\n",
       "    <tr>\n",
       "      <th>S</th>\n",
       "      <td>28.216704</td>\n",
       "      <td>67.494357</td>\n",
       "      <td>4.288939</td>\n",
       "    </tr>\n",
       "    <tr>\n",
       "      <th>Y</th>\n",
       "      <td>2.465753</td>\n",
       "      <td>96.986301</td>\n",
       "      <td>0.547945</td>\n",
       "    </tr>\n",
       "  </tbody>\n",
       "</table>\n",
       "</div>"
      ],
      "text/plain": [
       "                      C          D        CL\n",
       "cut_of_Edema                                \n",
       "N             67.371923  28.915502  3.712575\n",
       "S             28.216704  67.494357  4.288939\n",
       "Y              2.465753  96.986301  0.547945"
      ]
     },
     "execution_count": 36,
     "metadata": {},
     "output_type": "execute_result"
    }
   ],
   "source": [
    "view_cat_target_feature(concat_df, 'Edema', 'Status')"
   ]
  },
  {
   "cell_type": "code",
   "execution_count": 37,
   "id": "5b11f5aa",
   "metadata": {
    "execution": {
     "iopub.execute_input": "2024-09-27T04:00:47.802015Z",
     "iopub.status.busy": "2024-09-27T04:00:47.801151Z",
     "iopub.status.idle": "2024-09-27T04:00:47.825382Z",
     "shell.execute_reply": "2024-09-27T04:00:47.823707Z"
    },
    "papermill": {
     "duration": 0.080105,
     "end_time": "2024-09-27T04:00:47.829957",
     "exception": false,
     "start_time": "2024-09-27T04:00:47.749852",
     "status": "completed"
    },
    "tags": []
   },
   "outputs": [],
   "source": [
    "for col in ['Ascites','Hepatomegaly','Spiders']:\n",
    "    concat_df[col] = concat_df[col].map({'N': 0, 'Y': 1})\n",
    "concat_df['Edema'] = concat_df['Edema'].map({'N': 0, 'S': 1, 'Y': 2})\n",
    "concat_df[['Ascites','Hepatomegaly','Spiders','Edema']] = concat_df[['Ascites','Hepatomegaly','Spiders','Edema']].astype('int8')"
   ]
  },
  {
   "cell_type": "markdown",
   "id": "361446a8",
   "metadata": {
    "papermill": {
     "duration": 0.055017,
     "end_time": "2024-09-27T04:00:47.941298",
     "exception": false,
     "start_time": "2024-09-27T04:00:47.886281",
     "status": "completed"
    },
    "tags": []
   },
   "source": [
    "### Bilirubin, Cholesterol, Albumin, Copper, Alk_Phos, SGOT, Tryglicerides, Platelets, Prothrombin"
   ]
  },
  {
   "cell_type": "code",
   "execution_count": 38,
   "id": "38ac4bcb",
   "metadata": {
    "execution": {
     "iopub.execute_input": "2024-09-27T04:00:48.044511Z",
     "iopub.status.busy": "2024-09-27T04:00:48.043990Z",
     "iopub.status.idle": "2024-09-27T04:00:48.050469Z",
     "shell.execute_reply": "2024-09-27T04:00:48.049088Z"
    },
    "papermill": {
     "duration": 0.062077,
     "end_time": "2024-09-27T04:00:48.053724",
     "exception": false,
     "start_time": "2024-09-27T04:00:47.991647",
     "status": "completed"
    },
    "tags": []
   },
   "outputs": [],
   "source": [
    "quanti_cols = ['Bilirubin', 'Cholesterol', 'Albumin', 'Copper',\n",
    "       'Alk_Phos', 'SGOT', 'Tryglicerides', 'Platelets', 'Prothrombin']"
   ]
  },
  {
   "cell_type": "code",
   "execution_count": 39,
   "id": "761e6450",
   "metadata": {
    "execution": {
     "iopub.execute_input": "2024-09-27T04:00:48.156321Z",
     "iopub.status.busy": "2024-09-27T04:00:48.155880Z",
     "iopub.status.idle": "2024-09-27T04:00:48.203478Z",
     "shell.execute_reply": "2024-09-27T04:00:48.202153Z"
    },
    "papermill": {
     "duration": 0.101482,
     "end_time": "2024-09-27T04:00:48.206280",
     "exception": false,
     "start_time": "2024-09-27T04:00:48.104798",
     "status": "completed"
    },
    "tags": []
   },
   "outputs": [
    {
     "data": {
      "text/html": [
       "<div>\n",
       "<style scoped>\n",
       "    .dataframe tbody tr th:only-of-type {\n",
       "        vertical-align: middle;\n",
       "    }\n",
       "\n",
       "    .dataframe tbody tr th {\n",
       "        vertical-align: top;\n",
       "    }\n",
       "\n",
       "    .dataframe thead th {\n",
       "        text-align: right;\n",
       "    }\n",
       "</style>\n",
       "<table border=\"1\" class=\"dataframe\">\n",
       "  <thead>\n",
       "    <tr style=\"text-align: right;\">\n",
       "      <th></th>\n",
       "      <th>Bilirubin</th>\n",
       "      <th>Cholesterol</th>\n",
       "      <th>Albumin</th>\n",
       "      <th>Copper</th>\n",
       "      <th>Alk_Phos</th>\n",
       "      <th>SGOT</th>\n",
       "      <th>Tryglicerides</th>\n",
       "      <th>Platelets</th>\n",
       "      <th>Prothrombin</th>\n",
       "    </tr>\n",
       "  </thead>\n",
       "  <tbody>\n",
       "    <tr>\n",
       "      <th>count</th>\n",
       "      <td>13594.000000</td>\n",
       "      <td>13460.000000</td>\n",
       "      <td>13594.000000</td>\n",
       "      <td>13486.000000</td>\n",
       "      <td>13488.000000</td>\n",
       "      <td>13488.000000</td>\n",
       "      <td>13458.000000</td>\n",
       "      <td>13583.000000</td>\n",
       "      <td>13592.000000</td>\n",
       "    </tr>\n",
       "    <tr>\n",
       "      <th>mean</th>\n",
       "      <td>2.616033</td>\n",
       "      <td>351.715379</td>\n",
       "      <td>3.542783</td>\n",
       "      <td>84.531036</td>\n",
       "      <td>1818.429018</td>\n",
       "      <td>114.391074</td>\n",
       "      <td>115.515158</td>\n",
       "      <td>264.515424</td>\n",
       "      <td>10.633912</td>\n",
       "    </tr>\n",
       "    <tr>\n",
       "      <th>std</th>\n",
       "      <td>3.849061</td>\n",
       "      <td>198.211595</td>\n",
       "      <td>0.352334</td>\n",
       "      <td>76.801741</td>\n",
       "      <td>1921.938476</td>\n",
       "      <td>49.070388</td>\n",
       "      <td>52.866122</td>\n",
       "      <td>87.860881</td>\n",
       "      <td>0.794518</td>\n",
       "    </tr>\n",
       "    <tr>\n",
       "      <th>min</th>\n",
       "      <td>0.300000</td>\n",
       "      <td>120.000000</td>\n",
       "      <td>1.960000</td>\n",
       "      <td>4.000000</td>\n",
       "      <td>289.000000</td>\n",
       "      <td>26.350000</td>\n",
       "      <td>33.000000</td>\n",
       "      <td>62.000000</td>\n",
       "      <td>9.000000</td>\n",
       "    </tr>\n",
       "    <tr>\n",
       "      <th>25%</th>\n",
       "      <td>0.700000</td>\n",
       "      <td>248.000000</td>\n",
       "      <td>3.350000</td>\n",
       "      <td>39.000000</td>\n",
       "      <td>824.000000</td>\n",
       "      <td>75.950000</td>\n",
       "      <td>84.000000</td>\n",
       "      <td>210.000000</td>\n",
       "      <td>10.000000</td>\n",
       "    </tr>\n",
       "    <tr>\n",
       "      <th>50%</th>\n",
       "      <td>1.100000</td>\n",
       "      <td>299.000000</td>\n",
       "      <td>3.580000</td>\n",
       "      <td>64.000000</td>\n",
       "      <td>1166.000000</td>\n",
       "      <td>106.965000</td>\n",
       "      <td>104.000000</td>\n",
       "      <td>263.000000</td>\n",
       "      <td>10.600000</td>\n",
       "    </tr>\n",
       "    <tr>\n",
       "      <th>75%</th>\n",
       "      <td>3.000000</td>\n",
       "      <td>390.000000</td>\n",
       "      <td>3.770000</td>\n",
       "      <td>102.000000</td>\n",
       "      <td>1840.000000</td>\n",
       "      <td>137.950000</td>\n",
       "      <td>139.000000</td>\n",
       "      <td>316.000000</td>\n",
       "      <td>11.000000</td>\n",
       "    </tr>\n",
       "    <tr>\n",
       "      <th>max</th>\n",
       "      <td>28.000000</td>\n",
       "      <td>1775.000000</td>\n",
       "      <td>4.640000</td>\n",
       "      <td>588.000000</td>\n",
       "      <td>13862.400000</td>\n",
       "      <td>457.250000</td>\n",
       "      <td>598.000000</td>\n",
       "      <td>721.000000</td>\n",
       "      <td>18.000000</td>\n",
       "    </tr>\n",
       "  </tbody>\n",
       "</table>\n",
       "</div>"
      ],
      "text/plain": [
       "          Bilirubin   Cholesterol       Albumin        Copper      Alk_Phos  \\\n",
       "count  13594.000000  13460.000000  13594.000000  13486.000000  13488.000000   \n",
       "mean       2.616033    351.715379      3.542783     84.531036   1818.429018   \n",
       "std        3.849061    198.211595      0.352334     76.801741   1921.938476   \n",
       "min        0.300000    120.000000      1.960000      4.000000    289.000000   \n",
       "25%        0.700000    248.000000      3.350000     39.000000    824.000000   \n",
       "50%        1.100000    299.000000      3.580000     64.000000   1166.000000   \n",
       "75%        3.000000    390.000000      3.770000    102.000000   1840.000000   \n",
       "max       28.000000   1775.000000      4.640000    588.000000  13862.400000   \n",
       "\n",
       "               SGOT  Tryglicerides     Platelets   Prothrombin  \n",
       "count  13488.000000   13458.000000  13583.000000  13592.000000  \n",
       "mean     114.391074     115.515158    264.515424     10.633912  \n",
       "std       49.070388      52.866122     87.860881      0.794518  \n",
       "min       26.350000      33.000000     62.000000      9.000000  \n",
       "25%       75.950000      84.000000    210.000000     10.000000  \n",
       "50%      106.965000     104.000000    263.000000     10.600000  \n",
       "75%      137.950000     139.000000    316.000000     11.000000  \n",
       "max      457.250000     598.000000    721.000000     18.000000  "
      ]
     },
     "execution_count": 39,
     "metadata": {},
     "output_type": "execute_result"
    }
   ],
   "source": [
    "concat_df[quanti_cols].describe()"
   ]
  },
  {
   "cell_type": "code",
   "execution_count": 40,
   "id": "64f0f2b5",
   "metadata": {
    "execution": {
     "iopub.execute_input": "2024-09-27T04:00:48.319561Z",
     "iopub.status.busy": "2024-09-27T04:00:48.319095Z",
     "iopub.status.idle": "2024-09-27T04:00:48.334423Z",
     "shell.execute_reply": "2024-09-27T04:00:48.333051Z"
    },
    "papermill": {
     "duration": 0.07643,
     "end_time": "2024-09-27T04:00:48.337456",
     "exception": false,
     "start_time": "2024-09-27T04:00:48.261026",
     "status": "completed"
    },
    "tags": []
   },
   "outputs": [],
   "source": [
    "imputer = SimpleImputer()\n",
    "concat_df[quanti_cols] = imputer.fit_transform(concat_df[quanti_cols])"
   ]
  },
  {
   "cell_type": "markdown",
   "id": "448aeaf2",
   "metadata": {
    "papermill": {
     "duration": 0.049224,
     "end_time": "2024-09-27T04:00:48.436596",
     "exception": false,
     "start_time": "2024-09-27T04:00:48.387372",
     "status": "completed"
    },
    "tags": []
   },
   "source": [
    "### Interactive Features"
   ]
  },
  {
   "cell_type": "code",
   "execution_count": 41,
   "id": "3ee7c5f3",
   "metadata": {
    "execution": {
     "iopub.execute_input": "2024-09-27T04:00:48.540283Z",
     "iopub.status.busy": "2024-09-27T04:00:48.539846Z",
     "iopub.status.idle": "2024-09-27T04:00:48.547506Z",
     "shell.execute_reply": "2024-09-27T04:00:48.546432Z"
    },
    "papermill": {
     "duration": 0.061898,
     "end_time": "2024-09-27T04:00:48.549913",
     "exception": false,
     "start_time": "2024-09-27T04:00:48.488015",
     "status": "completed"
    },
    "tags": []
   },
   "outputs": [
    {
     "data": {
      "text/plain": [
       "Index(['id', 'N_Days', 'Drug', 'Age', 'Sex', 'Ascites', 'Hepatomegaly',\n",
       "       'Spiders', 'Edema', 'Bilirubin', 'Cholesterol', 'Albumin', 'Copper',\n",
       "       'Alk_Phos', 'SGOT', 'Tryglicerides', 'Platelets', 'Prothrombin',\n",
       "       'Stage', 'Status'],\n",
       "      dtype='object')"
      ]
     },
     "execution_count": 41,
     "metadata": {},
     "output_type": "execute_result"
    }
   ],
   "source": [
    "concat_df.columns"
   ]
  },
  {
   "cell_type": "markdown",
   "id": "21dff8e7",
   "metadata": {
    "papermill": {
     "duration": 0.048854,
     "end_time": "2024-09-27T04:00:48.648164",
     "exception": false,
     "start_time": "2024-09-27T04:00:48.599310",
     "status": "completed"
    },
    "tags": []
   },
   "source": [
    "We count the condition."
   ]
  },
  {
   "cell_type": "code",
   "execution_count": 42,
   "id": "760b774c",
   "metadata": {
    "execution": {
     "iopub.execute_input": "2024-09-27T04:00:48.750381Z",
     "iopub.status.busy": "2024-09-27T04:00:48.749345Z",
     "iopub.status.idle": "2024-09-27T04:00:48.758920Z",
     "shell.execute_reply": "2024-09-27T04:00:48.757633Z"
    },
    "papermill": {
     "duration": 0.06415,
     "end_time": "2024-09-27T04:00:48.761833",
     "exception": false,
     "start_time": "2024-09-27T04:00:48.697683",
     "status": "completed"
    },
    "tags": []
   },
   "outputs": [],
   "source": [
    "concat_df['count_condition'] = concat_df['Ascites'] + concat_df['Hepatomegaly'] + concat_df['Spiders'] + concat_df['Edema']"
   ]
  },
  {
   "cell_type": "code",
   "execution_count": 43,
   "id": "74b1ec32",
   "metadata": {
    "execution": {
     "iopub.execute_input": "2024-09-27T04:00:48.871797Z",
     "iopub.status.busy": "2024-09-27T04:00:48.871147Z",
     "iopub.status.idle": "2024-09-27T04:00:48.909543Z",
     "shell.execute_reply": "2024-09-27T04:00:48.908173Z"
    },
    "papermill": {
     "duration": 0.092006,
     "end_time": "2024-09-27T04:00:48.912382",
     "exception": false,
     "start_time": "2024-09-27T04:00:48.820376",
     "status": "completed"
    },
    "tags": []
   },
   "outputs": [
    {
     "data": {
      "text/html": [
       "<div>\n",
       "<style scoped>\n",
       "    .dataframe tbody tr th:only-of-type {\n",
       "        vertical-align: middle;\n",
       "    }\n",
       "\n",
       "    .dataframe tbody tr th {\n",
       "        vertical-align: top;\n",
       "    }\n",
       "\n",
       "    .dataframe thead th {\n",
       "        text-align: right;\n",
       "    }\n",
       "</style>\n",
       "<table border=\"1\" class=\"dataframe\">\n",
       "  <thead>\n",
       "    <tr style=\"text-align: right;\">\n",
       "      <th></th>\n",
       "      <th>C</th>\n",
       "      <th>D</th>\n",
       "      <th>CL</th>\n",
       "    </tr>\n",
       "    <tr>\n",
       "      <th>cut_of_count_condition</th>\n",
       "      <th></th>\n",
       "      <th></th>\n",
       "      <th></th>\n",
       "    </tr>\n",
       "  </thead>\n",
       "  <tbody>\n",
       "    <tr>\n",
       "      <th>0</th>\n",
       "      <td>85.171534</td>\n",
       "      <td>12.078253</td>\n",
       "      <td>2.750213</td>\n",
       "    </tr>\n",
       "    <tr>\n",
       "      <th>1</th>\n",
       "      <td>58.256228</td>\n",
       "      <td>37.402135</td>\n",
       "      <td>4.341637</td>\n",
       "    </tr>\n",
       "    <tr>\n",
       "      <th>2</th>\n",
       "      <td>36.819172</td>\n",
       "      <td>58.242556</td>\n",
       "      <td>4.938272</td>\n",
       "    </tr>\n",
       "    <tr>\n",
       "      <th>3</th>\n",
       "      <td>15.833333</td>\n",
       "      <td>79.583333</td>\n",
       "      <td>4.583333</td>\n",
       "    </tr>\n",
       "    <tr>\n",
       "      <th>4</th>\n",
       "      <td>4.651163</td>\n",
       "      <td>94.883721</td>\n",
       "      <td>0.465116</td>\n",
       "    </tr>\n",
       "    <tr>\n",
       "      <th>5</th>\n",
       "      <td>0.649351</td>\n",
       "      <td>98.701299</td>\n",
       "      <td>0.649351</td>\n",
       "    </tr>\n",
       "  </tbody>\n",
       "</table>\n",
       "</div>"
      ],
      "text/plain": [
       "                                C          D        CL\n",
       "cut_of_count_condition                                \n",
       "0                       85.171534  12.078253  2.750213\n",
       "1                       58.256228  37.402135  4.341637\n",
       "2                       36.819172  58.242556  4.938272\n",
       "3                       15.833333  79.583333  4.583333\n",
       "4                        4.651163  94.883721  0.465116\n",
       "5                        0.649351  98.701299  0.649351"
      ]
     },
     "execution_count": 43,
     "metadata": {},
     "output_type": "execute_result"
    }
   ],
   "source": [
    "view_cat_target_feature(concat_df, 'count_condition', 'Status')"
   ]
  },
  {
   "cell_type": "markdown",
   "id": "9b611881",
   "metadata": {
    "papermill": {
     "duration": 0.04968,
     "end_time": "2024-09-27T04:00:49.012072",
     "exception": false,
     "start_time": "2024-09-27T04:00:48.962392",
     "status": "completed"
    },
    "tags": []
   },
   "source": [
    "`N_Days` and `Age` are both days data, so we calculate ratio of them."
   ]
  },
  {
   "cell_type": "code",
   "execution_count": 44,
   "id": "df87c844",
   "metadata": {
    "execution": {
     "iopub.execute_input": "2024-09-27T04:00:49.115899Z",
     "iopub.status.busy": "2024-09-27T04:00:49.115317Z",
     "iopub.status.idle": "2024-09-27T04:00:49.130495Z",
     "shell.execute_reply": "2024-09-27T04:00:49.129196Z"
    },
    "papermill": {
     "duration": 0.069054,
     "end_time": "2024-09-27T04:00:49.133283",
     "exception": false,
     "start_time": "2024-09-27T04:00:49.064229",
     "status": "completed"
    },
    "tags": []
   },
   "outputs": [
    {
     "data": {
      "text/plain": [
       "count    13594.000000\n",
       "mean        11.598310\n",
       "std          6.823912\n",
       "min          0.159087\n",
       "25%          6.430002\n",
       "50%         10.646879\n",
       "75%         15.408918\n",
       "max         45.450237\n",
       "Name: ratio_N_Days_Age, dtype: float64"
      ]
     },
     "execution_count": 44,
     "metadata": {},
     "output_type": "execute_result"
    }
   ],
   "source": [
    "concat_df['ratio_N_Days_Age'] = concat_df['N_Days'] / concat_df['Age'] * 100\n",
    "concat_df['ratio_N_Days_Age'].describe()"
   ]
  },
  {
   "cell_type": "code",
   "execution_count": 45,
   "id": "5f975443",
   "metadata": {
    "execution": {
     "iopub.execute_input": "2024-09-27T04:00:49.236494Z",
     "iopub.status.busy": "2024-09-27T04:00:49.235341Z",
     "iopub.status.idle": "2024-09-27T04:00:49.276590Z",
     "shell.execute_reply": "2024-09-27T04:00:49.275288Z"
    },
    "papermill": {
     "duration": 0.095217,
     "end_time": "2024-09-27T04:00:49.279313",
     "exception": false,
     "start_time": "2024-09-27T04:00:49.184096",
     "status": "completed"
    },
    "tags": []
   },
   "outputs": [
    {
     "data": {
      "text/html": [
       "<div>\n",
       "<style scoped>\n",
       "    .dataframe tbody tr th:only-of-type {\n",
       "        vertical-align: middle;\n",
       "    }\n",
       "\n",
       "    .dataframe tbody tr th {\n",
       "        vertical-align: top;\n",
       "    }\n",
       "\n",
       "    .dataframe thead th {\n",
       "        text-align: right;\n",
       "    }\n",
       "</style>\n",
       "<table border=\"1\" class=\"dataframe\">\n",
       "  <thead>\n",
       "    <tr style=\"text-align: right;\">\n",
       "      <th></th>\n",
       "      <th>C</th>\n",
       "      <th>D</th>\n",
       "      <th>CL</th>\n",
       "    </tr>\n",
       "    <tr>\n",
       "      <th>cut_of_ratio_N_Days_Age</th>\n",
       "      <th></th>\n",
       "      <th></th>\n",
       "      <th></th>\n",
       "    </tr>\n",
       "  </thead>\n",
       "  <tbody>\n",
       "    <tr>\n",
       "      <th>0</th>\n",
       "      <td>34.514925</td>\n",
       "      <td>61.194030</td>\n",
       "      <td>4.291045</td>\n",
       "    </tr>\n",
       "    <tr>\n",
       "      <th>1</th>\n",
       "      <td>74.347202</td>\n",
       "      <td>21.779053</td>\n",
       "      <td>3.873745</td>\n",
       "    </tr>\n",
       "    <tr>\n",
       "      <th>2</th>\n",
       "      <td>77.451593</td>\n",
       "      <td>20.112430</td>\n",
       "      <td>2.435978</td>\n",
       "    </tr>\n",
       "    <tr>\n",
       "      <th>3</th>\n",
       "      <td>78.070175</td>\n",
       "      <td>20.175439</td>\n",
       "      <td>1.754386</td>\n",
       "    </tr>\n",
       "    <tr>\n",
       "      <th>4</th>\n",
       "      <td>83.333333</td>\n",
       "      <td>14.444444</td>\n",
       "      <td>2.222222</td>\n",
       "    </tr>\n",
       "    <tr>\n",
       "      <th>5</th>\n",
       "      <td>90.909091</td>\n",
       "      <td>0.000000</td>\n",
       "      <td>9.090909</td>\n",
       "    </tr>\n",
       "  </tbody>\n",
       "</table>\n",
       "</div>"
      ],
      "text/plain": [
       "                                 C          D        CL\n",
       "cut_of_ratio_N_Days_Age                                \n",
       "0                        34.514925  61.194030  4.291045\n",
       "1                        74.347202  21.779053  3.873745\n",
       "2                        77.451593  20.112430  2.435978\n",
       "3                        78.070175  20.175439  1.754386\n",
       "4                        83.333333  14.444444  2.222222\n",
       "5                        90.909091   0.000000  9.090909"
      ]
     },
     "execution_count": 45,
     "metadata": {},
     "output_type": "execute_result"
    }
   ],
   "source": [
    "view_cat_target_feature(concat_df, 'ratio_N_Days_Age', 'Status', bins=6)"
   ]
  },
  {
   "cell_type": "markdown",
   "id": "dfbba624",
   "metadata": {
    "papermill": {
     "duration": 0.050529,
     "end_time": "2024-09-27T04:00:49.383444",
     "exception": false,
     "start_time": "2024-09-27T04:00:49.332915",
     "status": "completed"
    },
    "tags": []
   },
   "source": [
    "Now we compute ratio, sum of same dimension quanti cols."
   ]
  },
  {
   "cell_type": "code",
   "execution_count": 46,
   "id": "45574af7",
   "metadata": {
    "execution": {
     "iopub.execute_input": "2024-09-27T04:00:49.485362Z",
     "iopub.status.busy": "2024-09-27T04:00:49.484615Z",
     "iopub.status.idle": "2024-09-27T04:00:49.493153Z",
     "shell.execute_reply": "2024-09-27T04:00:49.491972Z"
    },
    "papermill": {
     "duration": 0.062589,
     "end_time": "2024-09-27T04:00:49.495879",
     "exception": false,
     "start_time": "2024-09-27T04:00:49.433290",
     "status": "completed"
    },
    "tags": []
   },
   "outputs": [],
   "source": [
    "concat_df['ratio_Bilirubin_Cholesterol'] = concat_df['Bilirubin'] / concat_df['Cholesterol'] * 100\n",
    "concat_df['sum_Bilirubin_Cholesterol'] = concat_df['Bilirubin'] + concat_df['Cholesterol']"
   ]
  },
  {
   "cell_type": "code",
   "execution_count": 47,
   "id": "ef478e5d",
   "metadata": {
    "execution": {
     "iopub.execute_input": "2024-09-27T04:00:49.598132Z",
     "iopub.status.busy": "2024-09-27T04:00:49.597681Z",
     "iopub.status.idle": "2024-09-27T04:00:49.606762Z",
     "shell.execute_reply": "2024-09-27T04:00:49.605554Z"
    },
    "papermill": {
     "duration": 0.063845,
     "end_time": "2024-09-27T04:00:49.609424",
     "exception": false,
     "start_time": "2024-09-27T04:00:49.545579",
     "status": "completed"
    },
    "tags": []
   },
   "outputs": [],
   "source": [
    "concat_df['ratio_Alk_Phos_SGOT'] = (concat_df['Alk_Phos']/1000) / concat_df['SGOT'] * 100\n",
    "concat_df['sum_Alk_Phos_SGOT'] = concat_df['Alk_Phos']/1000 + concat_df['SGOT']"
   ]
  },
  {
   "cell_type": "markdown",
   "id": "a7343858",
   "metadata": {
    "papermill": {
     "duration": 0.049577,
     "end_time": "2024-09-27T04:00:49.710393",
     "exception": false,
     "start_time": "2024-09-27T04:00:49.660816",
     "status": "completed"
    },
    "tags": []
   },
   "source": [
    "### Split and compute mutual info"
   ]
  },
  {
   "cell_type": "code",
   "execution_count": 48,
   "id": "77ae1664",
   "metadata": {
    "execution": {
     "iopub.execute_input": "2024-09-27T04:00:49.814492Z",
     "iopub.status.busy": "2024-09-27T04:00:49.814056Z",
     "iopub.status.idle": "2024-09-27T04:00:49.819835Z",
     "shell.execute_reply": "2024-09-27T04:00:49.818595Z"
    },
    "papermill": {
     "duration": 0.060174,
     "end_time": "2024-09-27T04:00:49.822332",
     "exception": false,
     "start_time": "2024-09-27T04:00:49.762158",
     "status": "completed"
    },
    "tags": []
   },
   "outputs": [],
   "source": [
    "input_cols = concat_df.columns.tolist()\n",
    "input_cols.remove('id')\n",
    "input_cols.remove('Status')"
   ]
  },
  {
   "cell_type": "code",
   "execution_count": 49,
   "id": "c075a767",
   "metadata": {
    "execution": {
     "iopub.execute_input": "2024-09-27T04:00:49.925288Z",
     "iopub.status.busy": "2024-09-27T04:00:49.924831Z",
     "iopub.status.idle": "2024-09-27T04:00:49.945920Z",
     "shell.execute_reply": "2024-09-27T04:00:49.944549Z"
    },
    "papermill": {
     "duration": 0.076542,
     "end_time": "2024-09-27T04:00:49.948925",
     "exception": false,
     "start_time": "2024-09-27T04:00:49.872383",
     "status": "completed"
    },
    "tags": []
   },
   "outputs": [],
   "source": [
    "scaler = MinMaxScaler()\n",
    "concat_df[input_cols] = scaler.fit_transform(concat_df[input_cols])"
   ]
  },
  {
   "cell_type": "code",
   "execution_count": 50,
   "id": "05aaf851",
   "metadata": {
    "execution": {
     "iopub.execute_input": "2024-09-27T04:00:50.051832Z",
     "iopub.status.busy": "2024-09-27T04:00:50.050518Z",
     "iopub.status.idle": "2024-09-27T04:00:50.058020Z",
     "shell.execute_reply": "2024-09-27T04:00:50.056800Z"
    },
    "papermill": {
     "duration": 0.061823,
     "end_time": "2024-09-27T04:00:50.060948",
     "exception": false,
     "start_time": "2024-09-27T04:00:49.999125",
     "status": "completed"
    },
    "tags": []
   },
   "outputs": [],
   "source": [
    "raw_id_max, test_id_max = raw_df['id'].max(), test_df['id'].max()"
   ]
  },
  {
   "cell_type": "code",
   "execution_count": 51,
   "id": "c5e0cfef",
   "metadata": {
    "execution": {
     "iopub.execute_input": "2024-09-27T04:00:50.165261Z",
     "iopub.status.busy": "2024-09-27T04:00:50.164780Z",
     "iopub.status.idle": "2024-09-27T04:00:50.177861Z",
     "shell.execute_reply": "2024-09-27T04:00:50.176545Z"
    },
    "papermill": {
     "duration": 0.068804,
     "end_time": "2024-09-27T04:00:50.180952",
     "exception": false,
     "start_time": "2024-09-27T04:00:50.112148",
     "status": "completed"
    },
    "tags": []
   },
   "outputs": [],
   "source": [
    "raw_df = concat_df[concat_df.index<=raw_id_max]\n",
    "test_df = concat_df[(concat_df.index<=test_id_max)&(concat_df.index>raw_id_max)]\n",
    "original_df = concat_df[concat_df.index>test_id_max]"
   ]
  },
  {
   "cell_type": "code",
   "execution_count": 52,
   "id": "c9f998eb",
   "metadata": {
    "execution": {
     "iopub.execute_input": "2024-09-27T04:00:50.284405Z",
     "iopub.status.busy": "2024-09-27T04:00:50.283979Z",
     "iopub.status.idle": "2024-09-27T04:00:50.294141Z",
     "shell.execute_reply": "2024-09-27T04:00:50.292880Z"
    },
    "papermill": {
     "duration": 0.065672,
     "end_time": "2024-09-27T04:00:50.297726",
     "exception": false,
     "start_time": "2024-09-27T04:00:50.232054",
     "status": "completed"
    },
    "tags": []
   },
   "outputs": [
    {
     "name": "stderr",
     "output_type": "stream",
     "text": [
      "/tmp/ipykernel_17/443210789.py:2: SettingWithCopyWarning: \n",
      "A value is trying to be set on a copy of a slice from a DataFrame.\n",
      "Try using .loc[row_indexer,col_indexer] = value instead\n",
      "\n",
      "See the caveats in the documentation: https://pandas.pydata.org/pandas-docs/stable/user_guide/indexing.html#returning-a-view-versus-a-copy\n",
      "  df['Status'] = df['Status'].map({'C': 0, 'CL': 1, 'D': 2})\n",
      "/tmp/ipykernel_17/443210789.py:2: SettingWithCopyWarning: \n",
      "A value is trying to be set on a copy of a slice from a DataFrame.\n",
      "Try using .loc[row_indexer,col_indexer] = value instead\n",
      "\n",
      "See the caveats in the documentation: https://pandas.pydata.org/pandas-docs/stable/user_guide/indexing.html#returning-a-view-versus-a-copy\n",
      "  df['Status'] = df['Status'].map({'C': 0, 'CL': 1, 'D': 2})\n"
     ]
    }
   ],
   "source": [
    "for df in [raw_df, original_df]:\n",
    "    df['Status'] = df['Status'].map({'C': 0, 'CL': 1, 'D': 2})"
   ]
  },
  {
   "cell_type": "code",
   "execution_count": 53,
   "id": "f52ca087",
   "metadata": {
    "execution": {
     "iopub.execute_input": "2024-09-27T04:00:50.401297Z",
     "iopub.status.busy": "2024-09-27T04:00:50.400871Z",
     "iopub.status.idle": "2024-09-27T04:00:50.411772Z",
     "shell.execute_reply": "2024-09-27T04:00:50.410644Z"
    },
    "papermill": {
     "duration": 0.065919,
     "end_time": "2024-09-27T04:00:50.414683",
     "exception": false,
     "start_time": "2024-09-27T04:00:50.348764",
     "status": "completed"
    },
    "tags": []
   },
   "outputs": [],
   "source": [
    "concat_df = pd.concat([raw_df, original_df]).copy()"
   ]
  },
  {
   "cell_type": "code",
   "execution_count": 54,
   "id": "1345a20f",
   "metadata": {
    "execution": {
     "iopub.execute_input": "2024-09-27T04:00:50.518362Z",
     "iopub.status.busy": "2024-09-27T04:00:50.517918Z",
     "iopub.status.idle": "2024-09-27T04:00:50.524899Z",
     "shell.execute_reply": "2024-09-27T04:00:50.523600Z"
    },
    "papermill": {
     "duration": 0.06212,
     "end_time": "2024-09-27T04:00:50.527328",
     "exception": false,
     "start_time": "2024-09-27T04:00:50.465208",
     "status": "completed"
    },
    "tags": []
   },
   "outputs": [],
   "source": [
    "inputs, targets = concat_df[input_cols], concat_df['Status']"
   ]
  },
  {
   "cell_type": "code",
   "execution_count": 55,
   "id": "ed0badf2",
   "metadata": {
    "execution": {
     "iopub.execute_input": "2024-09-27T04:00:50.630757Z",
     "iopub.status.busy": "2024-09-27T04:00:50.630293Z",
     "iopub.status.idle": "2024-09-27T04:00:51.561244Z",
     "shell.execute_reply": "2024-09-27T04:00:51.559860Z"
    },
    "papermill": {
     "duration": 0.986396,
     "end_time": "2024-09-27T04:00:51.564099",
     "exception": false,
     "start_time": "2024-09-27T04:00:50.577703",
     "status": "completed"
    },
    "tags": []
   },
   "outputs": [
    {
     "name": "stdout",
     "output_type": "stream",
     "text": [
      "CPU times: user 917 ms, sys: 7.21 ms, total: 925 ms\n",
      "Wall time: 924 ms\n"
     ]
    }
   ],
   "source": [
    "%%time\n",
    "mutual_info = mutual_info_classif(inputs, targets, random_state=42)\n",
    "mutual_info = pd.Series(mutual_info)\n",
    "mutual_info.index = inputs.columns\n",
    "mutual_info = pd.DataFrame(mutual_info.sort_values(ascending=False), columns = [\"Numerical_Feature_MI\"] )"
   ]
  },
  {
   "cell_type": "code",
   "execution_count": 56,
   "id": "d84dea4d",
   "metadata": {
    "execution": {
     "iopub.execute_input": "2024-09-27T04:00:51.668595Z",
     "iopub.status.busy": "2024-09-27T04:00:51.667390Z",
     "iopub.status.idle": "2024-09-27T04:00:51.741104Z",
     "shell.execute_reply": "2024-09-27T04:00:51.739969Z"
    },
    "papermill": {
     "duration": 0.128157,
     "end_time": "2024-09-27T04:00:51.744027",
     "exception": false,
     "start_time": "2024-09-27T04:00:51.615870",
     "status": "completed"
    },
    "tags": []
   },
   "outputs": [
    {
     "data": {
      "text/html": [
       "<style type=\"text/css\">\n",
       "#T_24e87_row0_col0 {\n",
       "  background-color: #ff00ff;\n",
       "  color: #f1f1f1;\n",
       "}\n",
       "#T_24e87_row1_col0 {\n",
       "  background-color: #f807ff;\n",
       "  color: #f1f1f1;\n",
       "}\n",
       "#T_24e87_row2_col0 {\n",
       "  background-color: #ed12ff;\n",
       "  color: #f1f1f1;\n",
       "}\n",
       "#T_24e87_row3_col0 {\n",
       "  background-color: #e916ff;\n",
       "  color: #f1f1f1;\n",
       "}\n",
       "#T_24e87_row4_col0 {\n",
       "  background-color: #e817ff;\n",
       "  color: #f1f1f1;\n",
       "}\n",
       "#T_24e87_row5_col0 {\n",
       "  background-color: #e718ff;\n",
       "  color: #f1f1f1;\n",
       "}\n",
       "#T_24e87_row6_col0 {\n",
       "  background-color: #cd32ff;\n",
       "  color: #f1f1f1;\n",
       "}\n",
       "#T_24e87_row7_col0 {\n",
       "  background-color: #be41ff;\n",
       "  color: #f1f1f1;\n",
       "}\n",
       "#T_24e87_row8_col0 {\n",
       "  background-color: #b946ff;\n",
       "  color: #f1f1f1;\n",
       "}\n",
       "#T_24e87_row9_col0 {\n",
       "  background-color: #ae51ff;\n",
       "  color: #f1f1f1;\n",
       "}\n",
       "#T_24e87_row10_col0, #T_24e87_row11_col0 {\n",
       "  background-color: #ad52ff;\n",
       "  color: #f1f1f1;\n",
       "}\n",
       "#T_24e87_row12_col0 {\n",
       "  background-color: #a45bff;\n",
       "  color: #f1f1f1;\n",
       "}\n",
       "#T_24e87_row13_col0 {\n",
       "  background-color: #a35cff;\n",
       "  color: #f1f1f1;\n",
       "}\n",
       "#T_24e87_row14_col0 {\n",
       "  background-color: #837cff;\n",
       "  color: #f1f1f1;\n",
       "}\n",
       "#T_24e87_row15_col0 {\n",
       "  background-color: #7689ff;\n",
       "  color: #f1f1f1;\n",
       "}\n",
       "#T_24e87_row16_col0 {\n",
       "  background-color: #6d92ff;\n",
       "  color: #f1f1f1;\n",
       "}\n",
       "#T_24e87_row17_col0 {\n",
       "  background-color: #5ea1ff;\n",
       "  color: #f1f1f1;\n",
       "}\n",
       "#T_24e87_row18_col0 {\n",
       "  background-color: #5aa5ff;\n",
       "  color: #f1f1f1;\n",
       "}\n",
       "#T_24e87_row19_col0 {\n",
       "  background-color: #4eb1ff;\n",
       "  color: #f1f1f1;\n",
       "}\n",
       "#T_24e87_row20_col0 {\n",
       "  background-color: #38c7ff;\n",
       "  color: #000000;\n",
       "}\n",
       "#T_24e87_row21_col0 {\n",
       "  background-color: #2bd4ff;\n",
       "  color: #000000;\n",
       "}\n",
       "#T_24e87_row22_col0 {\n",
       "  background-color: #1ae5ff;\n",
       "  color: #000000;\n",
       "}\n",
       "#T_24e87_row23_col0 {\n",
       "  background-color: #00ffff;\n",
       "  color: #000000;\n",
       "}\n",
       "</style>\n",
       "<table id=\"T_24e87\">\n",
       "  <thead>\n",
       "    <tr>\n",
       "      <th class=\"blank level0\" >&nbsp;</th>\n",
       "      <th id=\"T_24e87_level0_col0\" class=\"col_heading level0 col0\" >Numerical_Feature_MI</th>\n",
       "    </tr>\n",
       "  </thead>\n",
       "  <tbody>\n",
       "    <tr>\n",
       "      <th id=\"T_24e87_level0_row0\" class=\"row_heading level0 row0\" >ratio_Bilirubin_Cholesterol</th>\n",
       "      <td id=\"T_24e87_row0_col0\" class=\"data row0 col0\" >0.208347</td>\n",
       "    </tr>\n",
       "    <tr>\n",
       "      <th id=\"T_24e87_level0_row1\" class=\"row_heading level0 row1\" >N_Days</th>\n",
       "      <td id=\"T_24e87_row1_col0\" class=\"data row1 col0\" >0.202547</td>\n",
       "    </tr>\n",
       "    <tr>\n",
       "      <th id=\"T_24e87_level0_row2\" class=\"row_heading level0 row2\" >ratio_N_Days_Age</th>\n",
       "      <td id=\"T_24e87_row2_col0\" class=\"data row2 col0\" >0.192957</td>\n",
       "    </tr>\n",
       "    <tr>\n",
       "      <th id=\"T_24e87_level0_row3\" class=\"row_heading level0 row3\" >Bilirubin</th>\n",
       "      <td id=\"T_24e87_row3_col0\" class=\"data row3 col0\" >0.190424</td>\n",
       "    </tr>\n",
       "    <tr>\n",
       "      <th id=\"T_24e87_level0_row4\" class=\"row_heading level0 row4\" >sum_Alk_Phos_SGOT</th>\n",
       "      <td id=\"T_24e87_row4_col0\" class=\"data row4 col0\" >0.188904</td>\n",
       "    </tr>\n",
       "    <tr>\n",
       "      <th id=\"T_24e87_level0_row5\" class=\"row_heading level0 row5\" >sum_Bilirubin_Cholesterol</th>\n",
       "      <td id=\"T_24e87_row5_col0\" class=\"data row5 col0\" >0.188141</td>\n",
       "    </tr>\n",
       "    <tr>\n",
       "      <th id=\"T_24e87_level0_row6\" class=\"row_heading level0 row6\" >Copper</th>\n",
       "      <td id=\"T_24e87_row6_col0\" class=\"data row6 col0\" >0.167107</td>\n",
       "    </tr>\n",
       "    <tr>\n",
       "      <th id=\"T_24e87_level0_row7\" class=\"row_heading level0 row7\" >Alk_Phos</th>\n",
       "      <td id=\"T_24e87_row7_col0\" class=\"data row7 col0\" >0.154743</td>\n",
       "    </tr>\n",
       "    <tr>\n",
       "      <th id=\"T_24e87_level0_row8\" class=\"row_heading level0 row8\" >Cholesterol</th>\n",
       "      <td id=\"T_24e87_row8_col0\" class=\"data row8 col0\" >0.150909</td>\n",
       "    </tr>\n",
       "    <tr>\n",
       "      <th id=\"T_24e87_level0_row9\" class=\"row_heading level0 row9\" >ratio_Alk_Phos_SGOT</th>\n",
       "      <td id=\"T_24e87_row9_col0\" class=\"data row9 col0\" >0.141914</td>\n",
       "    </tr>\n",
       "    <tr>\n",
       "      <th id=\"T_24e87_level0_row10\" class=\"row_heading level0 row10\" >SGOT</th>\n",
       "      <td id=\"T_24e87_row10_col0\" class=\"data row10 col0\" >0.141542</td>\n",
       "    </tr>\n",
       "    <tr>\n",
       "      <th id=\"T_24e87_level0_row11\" class=\"row_heading level0 row11\" >Platelets</th>\n",
       "      <td id=\"T_24e87_row11_col0\" class=\"data row11 col0\" >0.141461</td>\n",
       "    </tr>\n",
       "    <tr>\n",
       "      <th id=\"T_24e87_level0_row12\" class=\"row_heading level0 row12\" >count_condition</th>\n",
       "      <td id=\"T_24e87_row12_col0\" class=\"data row12 col0\" >0.133503</td>\n",
       "    </tr>\n",
       "    <tr>\n",
       "      <th id=\"T_24e87_level0_row13\" class=\"row_heading level0 row13\" >Age</th>\n",
       "      <td id=\"T_24e87_row13_col0\" class=\"data row13 col0\" >0.133305</td>\n",
       "    </tr>\n",
       "    <tr>\n",
       "      <th id=\"T_24e87_level0_row14\" class=\"row_heading level0 row14\" >Tryglicerides</th>\n",
       "      <td id=\"T_24e87_row14_col0\" class=\"data row14 col0\" >0.107243</td>\n",
       "    </tr>\n",
       "    <tr>\n",
       "      <th id=\"T_24e87_level0_row15\" class=\"row_heading level0 row15\" >Prothrombin</th>\n",
       "      <td id=\"T_24e87_row15_col0\" class=\"data row15 col0\" >0.096540</td>\n",
       "    </tr>\n",
       "    <tr>\n",
       "      <th id=\"T_24e87_level0_row16\" class=\"row_heading level0 row16\" >Albumin</th>\n",
       "      <td id=\"T_24e87_row16_col0\" class=\"data row16 col0\" >0.089449</td>\n",
       "    </tr>\n",
       "    <tr>\n",
       "      <th id=\"T_24e87_level0_row17\" class=\"row_heading level0 row17\" >Hepatomegaly</th>\n",
       "      <td id=\"T_24e87_row17_col0\" class=\"data row17 col0\" >0.076669</td>\n",
       "    </tr>\n",
       "    <tr>\n",
       "      <th id=\"T_24e87_level0_row18\" class=\"row_heading level0 row18\" >Stage</th>\n",
       "      <td id=\"T_24e87_row18_col0\" class=\"data row18 col0\" >0.073889</td>\n",
       "    </tr>\n",
       "    <tr>\n",
       "      <th id=\"T_24e87_level0_row19\" class=\"row_heading level0 row19\" >Edema</th>\n",
       "      <td id=\"T_24e87_row19_col0\" class=\"data row19 col0\" >0.063846</td>\n",
       "    </tr>\n",
       "    <tr>\n",
       "      <th id=\"T_24e87_level0_row20\" class=\"row_heading level0 row20\" >Spiders</th>\n",
       "      <td id=\"T_24e87_row20_col0\" class=\"data row20 col0\" >0.045803</td>\n",
       "    </tr>\n",
       "    <tr>\n",
       "      <th id=\"T_24e87_level0_row21\" class=\"row_heading level0 row21\" >Ascites</th>\n",
       "      <td id=\"T_24e87_row21_col0\" class=\"data row21 col0\" >0.035031</td>\n",
       "    </tr>\n",
       "    <tr>\n",
       "      <th id=\"T_24e87_level0_row22\" class=\"row_heading level0 row22\" >Sex</th>\n",
       "      <td id=\"T_24e87_row22_col0\" class=\"data row22 col0\" >0.021189</td>\n",
       "    </tr>\n",
       "    <tr>\n",
       "      <th id=\"T_24e87_level0_row23\" class=\"row_heading level0 row23\" >Drug</th>\n",
       "      <td id=\"T_24e87_row23_col0\" class=\"data row23 col0\" >0.000000</td>\n",
       "    </tr>\n",
       "  </tbody>\n",
       "</table>\n"
      ],
      "text/plain": [
       "<pandas.io.formats.style.Styler at 0x7a26d3b6c430>"
      ]
     },
     "execution_count": 56,
     "metadata": {},
     "output_type": "execute_result"
    }
   ],
   "source": [
    "mutual_info.style.background_gradient('cool')"
   ]
  },
  {
   "cell_type": "markdown",
   "id": "955c673c",
   "metadata": {
    "papermill": {
     "duration": 0.050565,
     "end_time": "2024-09-27T04:00:51.846178",
     "exception": false,
     "start_time": "2024-09-27T04:00:51.795613",
     "status": "completed"
    },
    "tags": []
   },
   "source": [
    "## Training model and tuning hyperparameters"
   ]
  },
  {
   "cell_type": "code",
   "execution_count": 57,
   "id": "ebdb1abc",
   "metadata": {
    "execution": {
     "iopub.execute_input": "2024-09-27T04:00:51.949493Z",
     "iopub.status.busy": "2024-09-27T04:00:51.949046Z",
     "iopub.status.idle": "2024-09-27T04:00:51.963362Z",
     "shell.execute_reply": "2024-09-27T04:00:51.962133Z"
    },
    "papermill": {
     "duration": 0.069508,
     "end_time": "2024-09-27T04:00:51.966276",
     "exception": false,
     "start_time": "2024-09-27T04:00:51.896768",
     "status": "completed"
    },
    "tags": []
   },
   "outputs": [],
   "source": [
    "def cross_validation(clf, cv, inputs, targets, num_classes=2,\n",
    "                     test_inputs=None, need_print=False):\n",
    "    train_accs = []\n",
    "    val_accs = []\n",
    "    if test_inputs is not None:\n",
    "        test_preds = np.zeros((len(test_inputs), num_classes))\n",
    "    else:\n",
    "        test_preds = np.zeros((len(inputs), num_classes))\n",
    "    for fold, (train_idx, val_idx) in enumerate(cv.split(inputs, targets)):\n",
    "        X_train = inputs.iloc[train_idx].reset_index(drop=True)\n",
    "        y_train = targets.iloc[train_idx].reset_index(drop=True)\n",
    "        X_val = inputs.iloc[val_idx].reset_index(drop=True)\n",
    "        y_val = targets.iloc[val_idx].reset_index(drop=True)\n",
    "\n",
    "        clf.fit(X_train, y_train)\n",
    "\n",
    "        train_pred = clf.predict_proba(X_train)\n",
    "        train_acc = log_loss(y_train, train_pred)\n",
    "        train_accs.append(train_acc)\n",
    "        val_pred = clf.predict_proba(X_val)\n",
    "        val_acc = log_loss(y_val, val_pred)\n",
    "        val_accs.append(val_acc)\n",
    "\n",
    "        if need_print:\n",
    "            print(f'Fold {fold}: train_acc = {train_acc:.5f}, val_acc = {val_acc:.5f}')\n",
    "\n",
    "        if test_inputs is not None:\n",
    "            test_pred = clf.predict_proba(test_inputs)\n",
    "            test_preds += test_pred/cv.get_n_splits()\n",
    "            \n",
    "    m_train_acc = np.mean(train_accs)\n",
    "    s_train_acc = np.std(train_accs)\n",
    "    m_val_acc = np.mean(val_accs)\n",
    "    s_val_acc = np.std(val_accs)\n",
    "    \n",
    "    msg = f'{m_val_acc:.7f} ± {s_val_acc:.7f}'\n",
    "    \n",
    "    if need_print:\n",
    "        print(f'Train acc: {m_train_acc:.7f} ± {s_train_acc:.7f} | Val acc: {m_val_acc:.7f} ± {s_val_acc:.7f}')\n",
    "    return test_preds, msg"
   ]
  },
  {
   "cell_type": "code",
   "execution_count": 58,
   "id": "134c9fbc",
   "metadata": {
    "execution": {
     "iopub.execute_input": "2024-09-27T04:00:52.078448Z",
     "iopub.status.busy": "2024-09-27T04:00:52.077986Z",
     "iopub.status.idle": "2024-09-27T04:00:52.088126Z",
     "shell.execute_reply": "2024-09-27T04:00:52.086629Z"
    },
    "papermill": {
     "duration": 0.067493,
     "end_time": "2024-09-27T04:00:52.091139",
     "exception": false,
     "start_time": "2024-09-27T04:00:52.023646",
     "status": "completed"
    },
    "tags": []
   },
   "outputs": [],
   "source": [
    "def test_with_models(models: dict, features: dict, \n",
    "                     df: pd.DataFrame, target: str, cv):\n",
    "    result = dict()\n",
    "    result['Classifier'] = []\n",
    "    for feature, _ in features.items():\n",
    "        result[f'Acc with {feature} features'] = []\n",
    "    targets = df[target]\n",
    "    for name, model in models.items():\n",
    "        result['Classifier'].append(name)\n",
    "        for f_name, feature in features.items():\n",
    "            inputs = df[feature]\n",
    "            _, msg = cross_validation(model, cv, \n",
    "                                         inputs, targets,\n",
    "                                         num_classes=3,\n",
    "                                         test_inputs=None, \n",
    "                                         need_print=False)\n",
    "            result[f'Acc with {f_name} features'].append(msg)\n",
    "    \n",
    "    return pd.DataFrame(result)"
   ]
  },
  {
   "cell_type": "code",
   "execution_count": 59,
   "id": "ff6632b3",
   "metadata": {
    "execution": {
     "iopub.execute_input": "2024-09-27T04:00:52.206684Z",
     "iopub.status.busy": "2024-09-27T04:00:52.206153Z",
     "iopub.status.idle": "2024-09-27T04:00:52.219805Z",
     "shell.execute_reply": "2024-09-27T04:00:52.218301Z"
    },
    "papermill": {
     "duration": 0.080413,
     "end_time": "2024-09-27T04:00:52.223551",
     "exception": false,
     "start_time": "2024-09-27T04:00:52.143138",
     "status": "completed"
    },
    "tags": []
   },
   "outputs": [],
   "source": [
    "classifiers = {\n",
    "    'Logit': LogisticRegression(n_jobs=-1, max_iter=1000),\n",
    "    'RandomForest': RandomForestClassifier(n_jobs=-1),\n",
    "    'XGB': XGBClassifier(n_jobs=-1),\n",
    "    'LGBM' : LGBMClassifier(n_jobs=-1,verbose=0),\n",
    "    'CAT': CatBoostClassifier(logging_level='Silent')\n",
    "}\n",
    "features = {\n",
    "    'all': input_cols\n",
    "}\n",
    "cv = StratifiedKFold(n_splits=5, shuffle=True, random_state=42)"
   ]
  },
  {
   "cell_type": "markdown",
   "id": "a639159e",
   "metadata": {
    "papermill": {
     "duration": 0.052062,
     "end_time": "2024-09-27T04:00:52.338416",
     "exception": false,
     "start_time": "2024-09-27T04:00:52.286354",
     "status": "completed"
    },
    "tags": []
   },
   "source": [
    "First we look at raw_df"
   ]
  },
  {
   "cell_type": "code",
   "execution_count": 60,
   "id": "c7ccdf90",
   "metadata": {
    "execution": {
     "iopub.execute_input": "2024-09-27T04:00:52.444097Z",
     "iopub.status.busy": "2024-09-27T04:00:52.443676Z",
     "iopub.status.idle": "2024-09-27T04:01:54.764077Z",
     "shell.execute_reply": "2024-09-27T04:01:54.762879Z"
    },
    "papermill": {
     "duration": 62.42621,
     "end_time": "2024-09-27T04:01:54.817336",
     "exception": false,
     "start_time": "2024-09-27T04:00:52.391126",
     "status": "completed"
    },
    "tags": []
   },
   "outputs": [
    {
     "name": "stdout",
     "output_type": "stream",
     "text": [
      "CPU times: user 2min 55s, sys: 13.5 s, total: 3min 9s\n",
      "Wall time: 1min 2s\n"
     ]
    },
    {
     "data": {
      "text/html": [
       "<div>\n",
       "<style scoped>\n",
       "    .dataframe tbody tr th:only-of-type {\n",
       "        vertical-align: middle;\n",
       "    }\n",
       "\n",
       "    .dataframe tbody tr th {\n",
       "        vertical-align: top;\n",
       "    }\n",
       "\n",
       "    .dataframe thead th {\n",
       "        text-align: right;\n",
       "    }\n",
       "</style>\n",
       "<table border=\"1\" class=\"dataframe\">\n",
       "  <thead>\n",
       "    <tr style=\"text-align: right;\">\n",
       "      <th></th>\n",
       "      <th>Classifier</th>\n",
       "      <th>Acc with all features</th>\n",
       "    </tr>\n",
       "  </thead>\n",
       "  <tbody>\n",
       "    <tr>\n",
       "      <th>0</th>\n",
       "      <td>Logit</td>\n",
       "      <td>0.5263956 ± 0.0116410</td>\n",
       "    </tr>\n",
       "    <tr>\n",
       "      <th>1</th>\n",
       "      <td>RandomForest</td>\n",
       "      <td>0.5599749 ± 0.0259000</td>\n",
       "    </tr>\n",
       "    <tr>\n",
       "      <th>2</th>\n",
       "      <td>XGB</td>\n",
       "      <td>0.5155798 ± 0.0165749</td>\n",
       "    </tr>\n",
       "    <tr>\n",
       "      <th>3</th>\n",
       "      <td>LGBM</td>\n",
       "      <td>0.4708638 ± 0.0147972</td>\n",
       "    </tr>\n",
       "    <tr>\n",
       "      <th>4</th>\n",
       "      <td>CAT</td>\n",
       "      <td>0.4660896 ± 0.0100640</td>\n",
       "    </tr>\n",
       "  </tbody>\n",
       "</table>\n",
       "</div>"
      ],
      "text/plain": [
       "     Classifier  Acc with all features\n",
       "0         Logit  0.5263956 ± 0.0116410\n",
       "1  RandomForest  0.5599749 ± 0.0259000\n",
       "2           XGB  0.5155798 ± 0.0165749\n",
       "3          LGBM  0.4708638 ± 0.0147972\n",
       "4           CAT  0.4660896 ± 0.0100640"
      ]
     },
     "execution_count": 60,
     "metadata": {},
     "output_type": "execute_result"
    }
   ],
   "source": [
    "%%time\n",
    "test_with_models(classifiers, features, raw_df, 'Status', cv)"
   ]
  },
  {
   "cell_type": "code",
   "execution_count": 61,
   "id": "343fabf8",
   "metadata": {
    "execution": {
     "iopub.execute_input": "2024-09-27T04:01:54.920803Z",
     "iopub.status.busy": "2024-09-27T04:01:54.920329Z",
     "iopub.status.idle": "2024-09-27T04:03:02.855755Z",
     "shell.execute_reply": "2024-09-27T04:03:02.854461Z"
    },
    "papermill": {
     "duration": 68.042717,
     "end_time": "2024-09-27T04:03:02.910951",
     "exception": false,
     "start_time": "2024-09-27T04:01:54.868234",
     "status": "completed"
    },
    "tags": []
   },
   "outputs": [
    {
     "name": "stdout",
     "output_type": "stream",
     "text": [
      "CPU times: user 2min 46s, sys: 13.9 s, total: 3min\n",
      "Wall time: 1min 7s\n"
     ]
    },
    {
     "data": {
      "text/html": [
       "<div>\n",
       "<style scoped>\n",
       "    .dataframe tbody tr th:only-of-type {\n",
       "        vertical-align: middle;\n",
       "    }\n",
       "\n",
       "    .dataframe tbody tr th {\n",
       "        vertical-align: top;\n",
       "    }\n",
       "\n",
       "    .dataframe thead th {\n",
       "        text-align: right;\n",
       "    }\n",
       "</style>\n",
       "<table border=\"1\" class=\"dataframe\">\n",
       "  <thead>\n",
       "    <tr style=\"text-align: right;\">\n",
       "      <th></th>\n",
       "      <th>Classifier</th>\n",
       "      <th>Acc with all features</th>\n",
       "    </tr>\n",
       "  </thead>\n",
       "  <tbody>\n",
       "    <tr>\n",
       "      <th>0</th>\n",
       "      <td>Logit</td>\n",
       "      <td>0.5294375 ± 0.0072297</td>\n",
       "    </tr>\n",
       "    <tr>\n",
       "      <th>1</th>\n",
       "      <td>RandomForest</td>\n",
       "      <td>0.5443553 ± 0.0373445</td>\n",
       "    </tr>\n",
       "    <tr>\n",
       "      <th>2</th>\n",
       "      <td>XGB</td>\n",
       "      <td>0.5075710 ± 0.0210886</td>\n",
       "    </tr>\n",
       "    <tr>\n",
       "      <th>3</th>\n",
       "      <td>LGBM</td>\n",
       "      <td>0.4599496 ± 0.0163209</td>\n",
       "    </tr>\n",
       "    <tr>\n",
       "      <th>4</th>\n",
       "      <td>CAT</td>\n",
       "      <td>0.4558352 ± 0.0148946</td>\n",
       "    </tr>\n",
       "  </tbody>\n",
       "</table>\n",
       "</div>"
      ],
      "text/plain": [
       "     Classifier  Acc with all features\n",
       "0         Logit  0.5294375 ± 0.0072297\n",
       "1  RandomForest  0.5443553 ± 0.0373445\n",
       "2           XGB  0.5075710 ± 0.0210886\n",
       "3          LGBM  0.4599496 ± 0.0163209\n",
       "4           CAT  0.4558352 ± 0.0148946"
      ]
     },
     "execution_count": 61,
     "metadata": {},
     "output_type": "execute_result"
    }
   ],
   "source": [
    "%%time\n",
    "test_with_models(classifiers, features, concat_df, 'Status', cv)"
   ]
  },
  {
   "cell_type": "markdown",
   "id": "97694adb",
   "metadata": {
    "papermill": {
     "duration": 0.050956,
     "end_time": "2024-09-27T04:03:03.013133",
     "exception": false,
     "start_time": "2024-09-27T04:03:02.962177",
     "status": "completed"
    },
    "tags": []
   },
   "source": [
    "So, we choose `concat_df` and 4 model to optim is `Logit`, `RF`, `LGBM`, `CAT`."
   ]
  },
  {
   "cell_type": "code",
   "execution_count": 62,
   "id": "fbfbf2bf",
   "metadata": {
    "execution": {
     "iopub.execute_input": "2024-09-27T04:03:03.118950Z",
     "iopub.status.busy": "2024-09-27T04:03:03.117804Z",
     "iopub.status.idle": "2024-09-27T04:03:03.127076Z",
     "shell.execute_reply": "2024-09-27T04:03:03.125958Z"
    },
    "papermill": {
     "duration": 0.065253,
     "end_time": "2024-09-27T04:03:03.129665",
     "exception": false,
     "start_time": "2024-09-27T04:03:03.064412",
     "status": "completed"
    },
    "tags": []
   },
   "outputs": [],
   "source": [
    "inputs, targets = concat_df[input_cols], concat_df['Status']\n",
    "test_inputs = test_df[input_cols]"
   ]
  },
  {
   "cell_type": "code",
   "execution_count": 63,
   "id": "a03859d4",
   "metadata": {
    "execution": {
     "iopub.execute_input": "2024-09-27T04:03:03.236778Z",
     "iopub.status.busy": "2024-09-27T04:03:03.236290Z",
     "iopub.status.idle": "2024-09-27T04:03:03.243771Z",
     "shell.execute_reply": "2024-09-27T04:03:03.242487Z"
    },
    "papermill": {
     "duration": 0.064152,
     "end_time": "2024-09-27T04:03:03.246619",
     "exception": false,
     "start_time": "2024-09-27T04:03:03.182467",
     "status": "completed"
    },
    "tags": []
   },
   "outputs": [],
   "source": [
    "scores = {\n",
    "    'Classifier': [],\n",
    "    'Train Score': [],\n",
    "    'Val Score': [],\n",
    "    'Test Score': []\n",
    "}"
   ]
  },
  {
   "cell_type": "markdown",
   "id": "a0ee6deb",
   "metadata": {
    "papermill": {
     "duration": 0.052505,
     "end_time": "2024-09-27T04:03:03.354063",
     "exception": false,
     "start_time": "2024-09-27T04:03:03.301558",
     "status": "completed"
    },
    "tags": []
   },
   "source": [
    "### Logistic Regression"
   ]
  },
  {
   "cell_type": "code",
   "execution_count": 64,
   "id": "b9b61e02",
   "metadata": {
    "execution": {
     "iopub.execute_input": "2024-09-27T04:03:03.459059Z",
     "iopub.status.busy": "2024-09-27T04:03:03.457992Z",
     "iopub.status.idle": "2024-09-27T04:03:05.360603Z",
     "shell.execute_reply": "2024-09-27T04:03:05.358744Z"
    },
    "papermill": {
     "duration": 1.961068,
     "end_time": "2024-09-27T04:03:05.366235",
     "exception": false,
     "start_time": "2024-09-27T04:03:03.405167",
     "status": "completed"
    },
    "tags": []
   },
   "outputs": [
    {
     "name": "stdout",
     "output_type": "stream",
     "text": [
      "Fold 0: train_acc = 0.52746, val_acc = 0.51567\n",
      "Fold 1: train_acc = 0.52352, val_acc = 0.53219\n",
      "Fold 2: train_acc = 0.52288, val_acc = 0.53445\n",
      "Fold 3: train_acc = 0.52239, val_acc = 0.53568\n",
      "Fold 4: train_acc = 0.52408, val_acc = 0.52920\n",
      "Train acc: 0.5240658 ± 0.0017889 | Val acc: 0.5294375 ± 0.0072297\n",
      "CPU times: user 4.31 s, sys: 3.18 s, total: 7.49 s\n",
      "Wall time: 1.89 s\n"
     ]
    }
   ],
   "source": [
    "%%time\n",
    "clf = LogisticRegression(max_iter=1000, n_jobs=-1)\n",
    "test_preds, _ = cross_validation(clf, cv, inputs, targets, num_classes=3, \n",
    "                                 need_print=True, test_inputs=test_inputs)"
   ]
  },
  {
   "cell_type": "code",
   "execution_count": 65,
   "id": "9f964ce3",
   "metadata": {
    "execution": {
     "iopub.execute_input": "2024-09-27T04:03:05.528977Z",
     "iopub.status.busy": "2024-09-27T04:03:05.528496Z",
     "iopub.status.idle": "2024-09-27T04:03:05.581561Z",
     "shell.execute_reply": "2024-09-27T04:03:05.580249Z"
    },
    "papermill": {
     "duration": 0.109426,
     "end_time": "2024-09-27T04:03:05.584432",
     "exception": false,
     "start_time": "2024-09-27T04:03:05.475006",
     "status": "completed"
    },
    "tags": []
   },
   "outputs": [],
   "source": [
    "sub_df[['Status_C', 'Status_CL', 'Status_D']] = test_preds\n",
    "sub_df.to_csv('/kaggle/working/sub_logit.csv', index=None)"
   ]
  },
  {
   "cell_type": "code",
   "execution_count": 66,
   "id": "70da78ee",
   "metadata": {
    "execution": {
     "iopub.execute_input": "2024-09-27T04:03:05.694162Z",
     "iopub.status.busy": "2024-09-27T04:03:05.693705Z",
     "iopub.status.idle": "2024-09-27T04:03:05.700144Z",
     "shell.execute_reply": "2024-09-27T04:03:05.698912Z"
    },
    "papermill": {
     "duration": 0.064318,
     "end_time": "2024-09-27T04:03:05.702611",
     "exception": false,
     "start_time": "2024-09-27T04:03:05.638293",
     "status": "completed"
    },
    "tags": []
   },
   "outputs": [],
   "source": [
    "scores['Classifier'].append('Logit without tuning')\n",
    "scores['Train Score'].append(0.52407)\n",
    "scores['Val Score'].append(0.52944)\n",
    "scores['Test Score'].append(0.51082)"
   ]
  },
  {
   "cell_type": "code",
   "execution_count": 67,
   "id": "a2a254f9",
   "metadata": {
    "execution": {
     "iopub.execute_input": "2024-09-27T04:03:05.807501Z",
     "iopub.status.busy": "2024-09-27T04:03:05.807011Z",
     "iopub.status.idle": "2024-09-27T04:03:05.816396Z",
     "shell.execute_reply": "2024-09-27T04:03:05.815287Z"
    },
    "papermill": {
     "duration": 0.0649,
     "end_time": "2024-09-27T04:03:05.819091",
     "exception": false,
     "start_time": "2024-09-27T04:03:05.754191",
     "status": "completed"
    },
    "tags": []
   },
   "outputs": [],
   "source": [
    "param_dis = {\n",
    "    'solver': ['lbfgs','newton-cg','sag','saga'],\n",
    "    'penalty': ['l2',None],\n",
    "    'tol': loguniform(1e-6,1e-2),\n",
    "    'C': loguniform(1e-3,5),\n",
    "    'max_iter': np.arange(300,1500,200),\n",
    "    'n_jobs': [-1]\n",
    "}"
   ]
  },
  {
   "cell_type": "code",
   "execution_count": 68,
   "id": "4460af75",
   "metadata": {
    "execution": {
     "iopub.execute_input": "2024-09-27T04:03:05.924817Z",
     "iopub.status.busy": "2024-09-27T04:03:05.924331Z",
     "iopub.status.idle": "2024-09-27T04:03:05.932719Z",
     "shell.execute_reply": "2024-09-27T04:03:05.931613Z"
    },
    "papermill": {
     "duration": 0.063996,
     "end_time": "2024-09-27T04:03:05.935172",
     "exception": false,
     "start_time": "2024-09-27T04:03:05.871176",
     "status": "completed"
    },
    "scrolled": true,
    "tags": []
   },
   "outputs": [
    {
     "data": {
      "text/plain": [
       "\"search = RandomizedSearchCV(LogisticRegression(),\\n                            param_dis,\\n                            n_iter=150,\\n                            scoring='neg_log_loss', cv=cv,\\n                            refit=True, verbose=3)\\nsearch.fit(inputs, targets)\""
      ]
     },
     "execution_count": 68,
     "metadata": {},
     "output_type": "execute_result"
    }
   ],
   "source": [
    "'''search = RandomizedSearchCV(LogisticRegression(),\n",
    "                            param_dis,\n",
    "                            n_iter=150,\n",
    "                            scoring='neg_log_loss', cv=cv,\n",
    "                            refit=True, verbose=3)\n",
    "search.fit(inputs, targets)'''"
   ]
  },
  {
   "cell_type": "code",
   "execution_count": 69,
   "id": "38faf64c",
   "metadata": {
    "execution": {
     "iopub.execute_input": "2024-09-27T04:03:06.041077Z",
     "iopub.status.busy": "2024-09-27T04:03:06.040280Z",
     "iopub.status.idle": "2024-09-27T04:03:07.943548Z",
     "shell.execute_reply": "2024-09-27T04:03:07.941475Z"
    },
    "papermill": {
     "duration": 1.959364,
     "end_time": "2024-09-27T04:03:07.946609",
     "exception": false,
     "start_time": "2024-09-27T04:03:05.987245",
     "status": "completed"
    },
    "tags": []
   },
   "outputs": [
    {
     "name": "stdout",
     "output_type": "stream",
     "text": [
      "Fold 0: train_acc = 0.52686, val_acc = 0.51498\n",
      "Fold 1: train_acc = 0.52289, val_acc = 0.53103\n",
      "Fold 2: train_acc = 0.52212, val_acc = 0.53512\n",
      "Fold 3: train_acc = 0.52146, val_acc = 0.53580\n",
      "Fold 4: train_acc = 0.52315, val_acc = 0.52972\n",
      "Train acc: 0.5232957 ± 0.0018792 | Val acc: 0.5293271 ± 0.0075408\n",
      "CPU times: user 2.68 s, sys: 1.04 s, total: 3.72 s\n",
      "Wall time: 1.89 s\n"
     ]
    }
   ],
   "source": [
    "%%time\n",
    "best_params = {\n",
    " 'C': 3.871986902028346,\n",
    " 'max_iter': 300,\n",
    " 'penalty': 'l2',\n",
    " 'solver': 'sag',\n",
    " 'tol': 1.702809162585728e-05,\n",
    " 'n_jobs': -1\n",
    "}\n",
    "\n",
    "clf = LogisticRegression(**best_params)\n",
    "test_preds, _ = cross_validation(clf, cv, inputs, targets, num_classes=3, \n",
    "                                 need_print=True, test_inputs=test_inputs)"
   ]
  },
  {
   "cell_type": "code",
   "execution_count": 70,
   "id": "589aef0f",
   "metadata": {
    "execution": {
     "iopub.execute_input": "2024-09-27T04:03:08.113427Z",
     "iopub.status.busy": "2024-09-27T04:03:08.112979Z",
     "iopub.status.idle": "2024-09-27T04:03:08.163364Z",
     "shell.execute_reply": "2024-09-27T04:03:08.162166Z"
    },
    "papermill": {
     "duration": 0.108342,
     "end_time": "2024-09-27T04:03:08.166283",
     "exception": false,
     "start_time": "2024-09-27T04:03:08.057941",
     "status": "completed"
    },
    "tags": []
   },
   "outputs": [],
   "source": [
    "sub_df[['Status_C', 'Status_CL', 'Status_D']] = test_preds\n",
    "sub_df.to_csv('/kaggle/working/sub_logit_tuning.csv', index=None)"
   ]
  },
  {
   "cell_type": "code",
   "execution_count": 71,
   "id": "b74c164d",
   "metadata": {
    "execution": {
     "iopub.execute_input": "2024-09-27T04:03:08.273059Z",
     "iopub.status.busy": "2024-09-27T04:03:08.272595Z",
     "iopub.status.idle": "2024-09-27T04:03:08.278590Z",
     "shell.execute_reply": "2024-09-27T04:03:08.277577Z"
    },
    "papermill": {
     "duration": 0.06241,
     "end_time": "2024-09-27T04:03:08.281176",
     "exception": false,
     "start_time": "2024-09-27T04:03:08.218766",
     "status": "completed"
    },
    "tags": []
   },
   "outputs": [],
   "source": [
    "scores['Classifier'].append('Logit with tuning')\n",
    "scores['Train Score'].append(0.52330)\n",
    "scores['Val Score'].append(0.52934)\n",
    "scores['Test Score'].append(0.51060)"
   ]
  },
  {
   "cell_type": "markdown",
   "id": "12373d74",
   "metadata": {
    "papermill": {
     "duration": 0.052693,
     "end_time": "2024-09-27T04:03:08.385966",
     "exception": false,
     "start_time": "2024-09-27T04:03:08.333273",
     "status": "completed"
    },
    "tags": []
   },
   "source": [
    "### Random Forest"
   ]
  },
  {
   "cell_type": "code",
   "execution_count": 72,
   "id": "0710be24",
   "metadata": {
    "execution": {
     "iopub.execute_input": "2024-09-27T04:03:08.492955Z",
     "iopub.status.busy": "2024-09-27T04:03:08.492002Z",
     "iopub.status.idle": "2024-09-27T04:03:19.424372Z",
     "shell.execute_reply": "2024-09-27T04:03:19.422789Z"
    },
    "papermill": {
     "duration": 10.989149,
     "end_time": "2024-09-27T04:03:19.427101",
     "exception": false,
     "start_time": "2024-09-27T04:03:08.437952",
     "status": "completed"
    },
    "tags": []
   },
   "outputs": [
    {
     "name": "stdout",
     "output_type": "stream",
     "text": [
      "Fold 0: train_acc = 0.11241, val_acc = 0.49834\n",
      "Fold 1: train_acc = 0.11098, val_acc = 0.50759\n",
      "Fold 2: train_acc = 0.11151, val_acc = 0.46979\n",
      "Fold 3: train_acc = 0.11086, val_acc = 0.64896\n",
      "Fold 4: train_acc = 0.11091, val_acc = 0.54241\n",
      "Train acc: 0.1113368 ± 0.0005866 | Val acc: 0.5334173 ± 0.0622509\n",
      "CPU times: user 10.9 s, sys: 28.4 ms, total: 10.9 s\n",
      "Wall time: 10.9 s\n"
     ]
    }
   ],
   "source": [
    "%%time\n",
    "clf = RandomForestClassifier(n_jobs=-1)\n",
    "test_preds, _ = cross_validation(clf, cv, inputs, targets, num_classes=3, \n",
    "                                 need_print=True, test_inputs=test_inputs)"
   ]
  },
  {
   "cell_type": "code",
   "execution_count": 73,
   "id": "757440b2",
   "metadata": {
    "execution": {
     "iopub.execute_input": "2024-09-27T04:03:19.536410Z",
     "iopub.status.busy": "2024-09-27T04:03:19.535420Z",
     "iopub.status.idle": "2024-09-27T04:03:19.570905Z",
     "shell.execute_reply": "2024-09-27T04:03:19.569634Z"
    },
    "papermill": {
     "duration": 0.092642,
     "end_time": "2024-09-27T04:03:19.573763",
     "exception": false,
     "start_time": "2024-09-27T04:03:19.481121",
     "status": "completed"
    },
    "tags": []
   },
   "outputs": [],
   "source": [
    "sub_df[['Status_C', 'Status_CL', 'Status_D']] = test_preds\n",
    "sub_df.to_csv('/kaggle/working/sub_rf.csv', index=None)"
   ]
  },
  {
   "cell_type": "code",
   "execution_count": 74,
   "id": "3a5502f0",
   "metadata": {
    "execution": {
     "iopub.execute_input": "2024-09-27T04:03:19.683913Z",
     "iopub.status.busy": "2024-09-27T04:03:19.683428Z",
     "iopub.status.idle": "2024-09-27T04:03:19.689427Z",
     "shell.execute_reply": "2024-09-27T04:03:19.688360Z"
    },
    "papermill": {
     "duration": 0.063468,
     "end_time": "2024-09-27T04:03:19.691982",
     "exception": false,
     "start_time": "2024-09-27T04:03:19.628514",
     "status": "completed"
    },
    "tags": []
   },
   "outputs": [],
   "source": [
    "scores['Classifier'].append('RF without tuning')\n",
    "scores['Train Score'].append(0.11154)\n",
    "scores['Val Score'].append(0.52978)\n",
    "scores['Test Score'].append(0.44521)"
   ]
  },
  {
   "cell_type": "code",
   "execution_count": 75,
   "id": "cfdd83f6",
   "metadata": {
    "execution": {
     "iopub.execute_input": "2024-09-27T04:03:19.800896Z",
     "iopub.status.busy": "2024-09-27T04:03:19.800403Z",
     "iopub.status.idle": "2024-09-27T04:03:19.810541Z",
     "shell.execute_reply": "2024-09-27T04:03:19.809326Z"
    },
    "papermill": {
     "duration": 0.067126,
     "end_time": "2024-09-27T04:03:19.813185",
     "exception": false,
     "start_time": "2024-09-27T04:03:19.746059",
     "status": "completed"
    },
    "tags": []
   },
   "outputs": [],
   "source": [
    "param_dis = {\n",
    "    'n_estimators': np.arange(50,500,50),\n",
    "    'max_depth': np.arange(10,70,6),\n",
    "    'min_samples_split': np.arange(2,6),\n",
    "    'min_samples_leaf': np.arange(1,5),\n",
    "    'max_features': ['sqrt','log2',None],\n",
    "    'min_weight_fraction_leaf': loguniform(1e-6,0.4),\n",
    "    'max_leaf_nodes': np.arange(20,600,45),\n",
    "    'n_jobs': [-1],\n",
    "    'random_state': [0,17,42,123,1212],\n",
    "    'max_samples': loguniform(0.2,1)\n",
    "}"
   ]
  },
  {
   "cell_type": "code",
   "execution_count": 76,
   "id": "e09c6b59",
   "metadata": {
    "execution": {
     "iopub.execute_input": "2024-09-27T04:03:19.921629Z",
     "iopub.status.busy": "2024-09-27T04:03:19.921182Z",
     "iopub.status.idle": "2024-09-27T04:03:19.928419Z",
     "shell.execute_reply": "2024-09-27T04:03:19.927266Z"
    },
    "papermill": {
     "duration": 0.064335,
     "end_time": "2024-09-27T04:03:19.931240",
     "exception": false,
     "start_time": "2024-09-27T04:03:19.866905",
     "status": "completed"
    },
    "scrolled": true,
    "tags": []
   },
   "outputs": [
    {
     "data": {
      "text/plain": [
       "\"search = RandomizedSearchCV(RandomForestClassifier(),\\n                            param_dis,\\n                            n_iter=150,\\n                            scoring='neg_log_loss', cv=cv,\\n                            refit=True, verbose=3)\\nsearch.fit(inputs, targets)\""
      ]
     },
     "execution_count": 76,
     "metadata": {},
     "output_type": "execute_result"
    }
   ],
   "source": [
    "'''search = RandomizedSearchCV(RandomForestClassifier(),\n",
    "                            param_dis,\n",
    "                            n_iter=150,\n",
    "                            scoring='neg_log_loss', cv=cv,\n",
    "                            refit=True, verbose=3)\n",
    "search.fit(inputs, targets)'''"
   ]
  },
  {
   "cell_type": "code",
   "execution_count": 77,
   "id": "8cdd95f6",
   "metadata": {
    "execution": {
     "iopub.execute_input": "2024-09-27T04:03:20.039672Z",
     "iopub.status.busy": "2024-09-27T04:03:20.039218Z",
     "iopub.status.idle": "2024-09-27T04:03:42.734415Z",
     "shell.execute_reply": "2024-09-27T04:03:42.733100Z"
    },
    "papermill": {
     "duration": 22.752773,
     "end_time": "2024-09-27T04:03:42.737156",
     "exception": false,
     "start_time": "2024-09-27T04:03:19.984383",
     "status": "completed"
    },
    "tags": []
   },
   "outputs": [
    {
     "name": "stdout",
     "output_type": "stream",
     "text": [
      "Fold 0: train_acc = 0.25603, val_acc = 0.44496\n",
      "Fold 1: train_acc = 0.25164, val_acc = 0.46547\n",
      "Fold 2: train_acc = 0.25638, val_acc = 0.45022\n",
      "Fold 3: train_acc = 0.25314, val_acc = 0.46485\n",
      "Fold 4: train_acc = 0.25428, val_acc = 0.45592\n",
      "Train acc: 0.2542937 ± 0.0017771 | Val acc: 0.4562864 ± 0.0080350\n",
      "CPU times: user 22.6 s, sys: 60.2 ms, total: 22.7 s\n",
      "Wall time: 22.7 s\n"
     ]
    }
   ],
   "source": [
    "%%time\n",
    "best_params = {\n",
    " 'max_depth': 16,\n",
    " 'max_features': 'log2',\n",
    " 'max_leaf_nodes': 425,\n",
    " 'max_samples': 0.8894972009241586,\n",
    " 'min_samples_leaf': 3,\n",
    " 'min_samples_split': 3,\n",
    " 'min_weight_fraction_leaf': 1.6489066668787757e-05,\n",
    " 'n_estimators': 250,\n",
    " 'n_jobs': -1,\n",
    " 'random_state': 1212\n",
    "}\n",
    "\n",
    "clf = RandomForestClassifier(**best_params)\n",
    "test_preds, _ = cross_validation(clf, cv, inputs, targets, num_classes=3, \n",
    "                                 need_print=True, test_inputs=test_inputs)"
   ]
  },
  {
   "cell_type": "code",
   "execution_count": 78,
   "id": "5b6e45ac",
   "metadata": {
    "execution": {
     "iopub.execute_input": "2024-09-27T04:03:42.850970Z",
     "iopub.status.busy": "2024-09-27T04:03:42.850038Z",
     "iopub.status.idle": "2024-09-27T04:03:42.898560Z",
     "shell.execute_reply": "2024-09-27T04:03:42.897396Z"
    },
    "papermill": {
     "duration": 0.109234,
     "end_time": "2024-09-27T04:03:42.901281",
     "exception": false,
     "start_time": "2024-09-27T04:03:42.792047",
     "status": "completed"
    },
    "tags": []
   },
   "outputs": [],
   "source": [
    "sub_df[['Status_C', 'Status_CL', 'Status_D']] = test_preds\n",
    "sub_df.to_csv('/kaggle/working/sub_rf_tuning.csv', index=None)"
   ]
  },
  {
   "cell_type": "code",
   "execution_count": 79,
   "id": "405df4d0",
   "metadata": {
    "execution": {
     "iopub.execute_input": "2024-09-27T04:03:43.014204Z",
     "iopub.status.busy": "2024-09-27T04:03:43.013751Z",
     "iopub.status.idle": "2024-09-27T04:03:43.019831Z",
     "shell.execute_reply": "2024-09-27T04:03:43.018755Z"
    },
    "papermill": {
     "duration": 0.065547,
     "end_time": "2024-09-27T04:03:43.022260",
     "exception": false,
     "start_time": "2024-09-27T04:03:42.956713",
     "status": "completed"
    },
    "tags": []
   },
   "outputs": [],
   "source": [
    "scores['Classifier'].append('RF with tuning')\n",
    "scores['Train Score'].append(0.25429)\n",
    "scores['Val Score'].append(0.45629)\n",
    "scores['Test Score'].append(0.43820)"
   ]
  },
  {
   "cell_type": "markdown",
   "id": "55e8b3ac",
   "metadata": {
    "papermill": {
     "duration": 0.053319,
     "end_time": "2024-09-27T04:03:43.131821",
     "exception": false,
     "start_time": "2024-09-27T04:03:43.078502",
     "status": "completed"
    },
    "tags": []
   },
   "source": [
    "### LGBM"
   ]
  },
  {
   "cell_type": "code",
   "execution_count": 80,
   "id": "314b1c47",
   "metadata": {
    "execution": {
     "iopub.execute_input": "2024-09-27T04:03:43.241478Z",
     "iopub.status.busy": "2024-09-27T04:03:43.240990Z",
     "iopub.status.idle": "2024-09-27T04:03:49.947874Z",
     "shell.execute_reply": "2024-09-27T04:03:49.946498Z"
    },
    "papermill": {
     "duration": 6.765056,
     "end_time": "2024-09-27T04:03:49.950656",
     "exception": false,
     "start_time": "2024-09-27T04:03:43.185600",
     "status": "completed"
    },
    "tags": []
   },
   "outputs": [
    {
     "name": "stdout",
     "output_type": "stream",
     "text": [
      "Fold 0: train_acc = 0.14742, val_acc = 0.44444\n",
      "Fold 1: train_acc = 0.13924, val_acc = 0.48133\n",
      "Fold 2: train_acc = 0.14715, val_acc = 0.44093\n",
      "Fold 3: train_acc = 0.14178, val_acc = 0.47617\n",
      "Fold 4: train_acc = 0.14696, val_acc = 0.45687\n",
      "Train acc: 0.1445092 ± 0.0033680 | Val acc: 0.4599496 ± 0.0163209\n",
      "CPU times: user 6.7 s, sys: 2.56 ms, total: 6.7 s\n",
      "Wall time: 6.7 s\n"
     ]
    }
   ],
   "source": [
    "%%time\n",
    "clf = LGBMClassifier(n_jobs=-1, verbose=-1)\n",
    "test_preds, _ = cross_validation(clf, cv, inputs, targets, num_classes=3, \n",
    "                                 need_print=True, test_inputs=test_inputs)"
   ]
  },
  {
   "cell_type": "code",
   "execution_count": 81,
   "id": "efc6b6fc",
   "metadata": {
    "execution": {
     "iopub.execute_input": "2024-09-27T04:03:50.063180Z",
     "iopub.status.busy": "2024-09-27T04:03:50.062124Z",
     "iopub.status.idle": "2024-09-27T04:03:50.111378Z",
     "shell.execute_reply": "2024-09-27T04:03:50.110171Z"
    },
    "papermill": {
     "duration": 0.109146,
     "end_time": "2024-09-27T04:03:50.114176",
     "exception": false,
     "start_time": "2024-09-27T04:03:50.005030",
     "status": "completed"
    },
    "tags": []
   },
   "outputs": [],
   "source": [
    "sub_df[['Status_C', 'Status_CL', 'Status_D']] = test_preds\n",
    "sub_df.to_csv('/kaggle/working/sub_lgbm.csv', index=None)"
   ]
  },
  {
   "cell_type": "code",
   "execution_count": 82,
   "id": "4480cb91",
   "metadata": {
    "execution": {
     "iopub.execute_input": "2024-09-27T04:03:50.225150Z",
     "iopub.status.busy": "2024-09-27T04:03:50.223963Z",
     "iopub.status.idle": "2024-09-27T04:03:50.230621Z",
     "shell.execute_reply": "2024-09-27T04:03:50.229381Z"
    },
    "papermill": {
     "duration": 0.06457,
     "end_time": "2024-09-27T04:03:50.233144",
     "exception": false,
     "start_time": "2024-09-27T04:03:50.168574",
     "status": "completed"
    },
    "tags": []
   },
   "outputs": [],
   "source": [
    "scores['Classifier'].append('LGBM without tuning')\n",
    "scores['Train Score'].append(0.14451)\n",
    "scores['Val Score'].append(0.45995)\n",
    "scores['Test Score'].append(0.42371)"
   ]
  },
  {
   "cell_type": "code",
   "execution_count": 83,
   "id": "ff32f18f",
   "metadata": {
    "execution": {
     "iopub.execute_input": "2024-09-27T04:03:50.344917Z",
     "iopub.status.busy": "2024-09-27T04:03:50.344423Z",
     "iopub.status.idle": "2024-09-27T04:03:50.362248Z",
     "shell.execute_reply": "2024-09-27T04:03:50.360804Z"
    },
    "papermill": {
     "duration": 0.077568,
     "end_time": "2024-09-27T04:03:50.365041",
     "exception": false,
     "start_time": "2024-09-27T04:03:50.287473",
     "status": "completed"
    },
    "tags": []
   },
   "outputs": [],
   "source": [
    "param_dis = {\n",
    "    'num_leaves': np.arange(32,200,10),\n",
    "    'n_jobs': [-1],\n",
    "    'reg_lambda': loguniform(1e-5,4),\n",
    "    'reg_alpha': loguniform(1e-5,4),\n",
    "    'n_estimators': np.arange(50,341,40),\n",
    "    'learning_rate': loguniform(0.001,0.2),\n",
    "    'max_depth': np.arange(12,50,4),\n",
    "    'min_split_gain': loguniform(1e-8,0.1),\n",
    "    'min_child_weight': loguniform(1e-4,0.1),\n",
    "    'min_child_samples': np.arange(8,30,4),\n",
    "    'subsample': loguniform(0.25,1),\n",
    "    'colsample_bytree': loguniform(0.25,1),\n",
    "    'random_state': [42],\n",
    "    'verbose': [-1]\n",
    "}"
   ]
  },
  {
   "cell_type": "code",
   "execution_count": 84,
   "id": "20a09839",
   "metadata": {
    "execution": {
     "iopub.execute_input": "2024-09-27T04:03:50.475069Z",
     "iopub.status.busy": "2024-09-27T04:03:50.474629Z",
     "iopub.status.idle": "2024-09-27T04:03:50.484330Z",
     "shell.execute_reply": "2024-09-27T04:03:50.483138Z"
    },
    "papermill": {
     "duration": 0.067694,
     "end_time": "2024-09-27T04:03:50.486905",
     "exception": false,
     "start_time": "2024-09-27T04:03:50.419211",
     "status": "completed"
    },
    "scrolled": true,
    "tags": []
   },
   "outputs": [
    {
     "data": {
      "text/plain": [
       "\"search = RandomizedSearchCV(LGBMClassifier(),\\n                            param_dis,\\n                            n_iter=150,\\n                            scoring='neg_log_loss', cv=cv,\\n                            refit=True, verbose=3)\\nsearch.fit(inputs, targets)\""
      ]
     },
     "execution_count": 84,
     "metadata": {},
     "output_type": "execute_result"
    }
   ],
   "source": [
    "'''search = RandomizedSearchCV(LGBMClassifier(),\n",
    "                            param_dis,\n",
    "                            n_iter=150,\n",
    "                            scoring='neg_log_loss', cv=cv,\n",
    "                            refit=True, verbose=3)\n",
    "search.fit(inputs, targets)'''"
   ]
  },
  {
   "cell_type": "code",
   "execution_count": 85,
   "id": "a594c0c4",
   "metadata": {
    "execution": {
     "iopub.execute_input": "2024-09-27T04:03:50.598169Z",
     "iopub.status.busy": "2024-09-27T04:03:50.597705Z",
     "iopub.status.idle": "2024-09-27T04:03:56.406905Z",
     "shell.execute_reply": "2024-09-27T04:03:56.405673Z"
    },
    "papermill": {
     "duration": 5.868473,
     "end_time": "2024-09-27T04:03:56.409791",
     "exception": false,
     "start_time": "2024-09-27T04:03:50.541318",
     "status": "completed"
    },
    "tags": []
   },
   "outputs": [
    {
     "name": "stdout",
     "output_type": "stream",
     "text": [
      "Fold 0: train_acc = 0.18101, val_acc = 0.41570\n",
      "Fold 1: train_acc = 0.17625, val_acc = 0.44603\n",
      "Fold 2: train_acc = 0.18243, val_acc = 0.41741\n",
      "Fold 3: train_acc = 0.17741, val_acc = 0.44630\n",
      "Fold 4: train_acc = 0.17918, val_acc = 0.43298\n",
      "Train acc: 0.1792569 ± 0.0022613 | Val acc: 0.4316842 ± 0.0132696\n",
      "CPU times: user 5.8 s, sys: 6.83 ms, total: 5.8 s\n",
      "Wall time: 5.8 s\n"
     ]
    }
   ],
   "source": [
    "%%time\n",
    "best_params = {\n",
    " 'colsample_bytree': 0.29486700431686197,\n",
    " 'learning_rate': 0.06817642591744683,\n",
    " 'max_depth': 44,\n",
    " 'min_child_samples': 8,\n",
    " 'min_child_weight': 0.00044059678355998813,\n",
    " 'min_split_gain': 3.8039048527123264e-05,\n",
    " 'n_estimators': 90,\n",
    " 'n_jobs': -1,\n",
    " 'num_leaves': 62,\n",
    " 'random_state': 42,\n",
    " 'reg_alpha': 0.0001292240294847905,\n",
    " 'reg_lambda': 2.219344450381771,\n",
    " 'subsample': 0.37117045008198346,\n",
    " 'verbose': -1\n",
    "}\n",
    "\n",
    "clf = LGBMClassifier(**best_params)\n",
    "test_preds, _ = cross_validation(clf, cv, inputs, targets, num_classes=3, \n",
    "                                 need_print=True, test_inputs=test_inputs)"
   ]
  },
  {
   "cell_type": "code",
   "execution_count": 86,
   "id": "73f3af2c",
   "metadata": {
    "execution": {
     "iopub.execute_input": "2024-09-27T04:03:56.520783Z",
     "iopub.status.busy": "2024-09-27T04:03:56.520319Z",
     "iopub.status.idle": "2024-09-27T04:03:56.569745Z",
     "shell.execute_reply": "2024-09-27T04:03:56.568513Z"
    },
    "papermill": {
     "duration": 0.108111,
     "end_time": "2024-09-27T04:03:56.572563",
     "exception": false,
     "start_time": "2024-09-27T04:03:56.464452",
     "status": "completed"
    },
    "tags": []
   },
   "outputs": [],
   "source": [
    "sub_df[['Status_C', 'Status_CL', 'Status_D']] = test_preds\n",
    "sub_df.to_csv('/kaggle/working/sub_lgbm_tuning.csv', index=None)"
   ]
  },
  {
   "cell_type": "code",
   "execution_count": 87,
   "id": "d4dd2c68",
   "metadata": {
    "execution": {
     "iopub.execute_input": "2024-09-27T04:03:56.685718Z",
     "iopub.status.busy": "2024-09-27T04:03:56.685251Z",
     "iopub.status.idle": "2024-09-27T04:03:56.691557Z",
     "shell.execute_reply": "2024-09-27T04:03:56.690205Z"
    },
    "papermill": {
     "duration": 0.065733,
     "end_time": "2024-09-27T04:03:56.693978",
     "exception": false,
     "start_time": "2024-09-27T04:03:56.628245",
     "status": "completed"
    },
    "tags": []
   },
   "outputs": [],
   "source": [
    "scores['Classifier'].append('LGBM with tuning')\n",
    "scores['Train Score'].append(0.17926)\n",
    "scores['Val Score'].append(0.43168)\n",
    "scores['Test Score'].append(0.41249)"
   ]
  },
  {
   "cell_type": "markdown",
   "id": "1f305b9e",
   "metadata": {
    "papermill": {
     "duration": 0.054253,
     "end_time": "2024-09-27T04:03:56.802888",
     "exception": false,
     "start_time": "2024-09-27T04:03:56.748635",
     "status": "completed"
    },
    "tags": []
   },
   "source": [
    "### CatBoost"
   ]
  },
  {
   "cell_type": "code",
   "execution_count": 88,
   "id": "1c5d0213",
   "metadata": {
    "execution": {
     "iopub.execute_input": "2024-09-27T04:03:56.915713Z",
     "iopub.status.busy": "2024-09-27T04:03:56.915228Z",
     "iopub.status.idle": "2024-09-27T04:04:38.560459Z",
     "shell.execute_reply": "2024-09-27T04:04:38.559139Z"
    },
    "papermill": {
     "duration": 41.705893,
     "end_time": "2024-09-27T04:04:38.563209",
     "exception": false,
     "start_time": "2024-09-27T04:03:56.857316",
     "status": "completed"
    },
    "tags": []
   },
   "outputs": [
    {
     "name": "stdout",
     "output_type": "stream",
     "text": [
      "Fold 0: train_acc = 0.16566, val_acc = 0.43779\n",
      "Fold 1: train_acc = 0.16010, val_acc = 0.47442\n",
      "Fold 2: train_acc = 0.16476, val_acc = 0.44289\n",
      "Fold 3: train_acc = 0.16015, val_acc = 0.47188\n",
      "Fold 4: train_acc = 0.16602, val_acc = 0.45220\n",
      "Train acc: 0.1633361 ± 0.0026555 | Val acc: 0.4558352 ± 0.0148946\n",
      "CPU times: user 2min 17s, sys: 10.4 s, total: 2min 28s\n",
      "Wall time: 41.6 s\n"
     ]
    }
   ],
   "source": [
    "%%time\n",
    "clf = CatBoostClassifier(logging_level='Silent')\n",
    "test_preds, _ = cross_validation(clf, cv, inputs, targets, num_classes=3, \n",
    "                                 need_print=True, test_inputs=test_inputs)"
   ]
  },
  {
   "cell_type": "code",
   "execution_count": 89,
   "id": "dbf22c20",
   "metadata": {
    "execution": {
     "iopub.execute_input": "2024-09-27T04:04:38.676801Z",
     "iopub.status.busy": "2024-09-27T04:04:38.675996Z",
     "iopub.status.idle": "2024-09-27T04:04:38.725243Z",
     "shell.execute_reply": "2024-09-27T04:04:38.724052Z"
    },
    "papermill": {
     "duration": 0.109021,
     "end_time": "2024-09-27T04:04:38.728093",
     "exception": false,
     "start_time": "2024-09-27T04:04:38.619072",
     "status": "completed"
    },
    "tags": []
   },
   "outputs": [],
   "source": [
    "sub_df[['Status_C', 'Status_CL', 'Status_D']] = test_preds\n",
    "sub_df.to_csv('/kaggle/working/sub_cat.csv', index=None)"
   ]
  },
  {
   "cell_type": "code",
   "execution_count": 90,
   "id": "e19112cb",
   "metadata": {
    "execution": {
     "iopub.execute_input": "2024-09-27T04:04:38.842187Z",
     "iopub.status.busy": "2024-09-27T04:04:38.841741Z",
     "iopub.status.idle": "2024-09-27T04:04:38.848328Z",
     "shell.execute_reply": "2024-09-27T04:04:38.846997Z"
    },
    "papermill": {
     "duration": 0.066218,
     "end_time": "2024-09-27T04:04:38.851090",
     "exception": false,
     "start_time": "2024-09-27T04:04:38.784872",
     "status": "completed"
    },
    "tags": []
   },
   "outputs": [],
   "source": [
    "scores['Classifier'].append('CAT without tuning')\n",
    "scores['Train Score'].append(0.16334)\n",
    "scores['Val Score'].append(0.45584)\n",
    "scores['Test Score'].append(0.42504)"
   ]
  },
  {
   "cell_type": "code",
   "execution_count": 91,
   "id": "55a20834",
   "metadata": {
    "execution": {
     "iopub.execute_input": "2024-09-27T04:04:38.963725Z",
     "iopub.status.busy": "2024-09-27T04:04:38.962820Z",
     "iopub.status.idle": "2024-09-27T04:04:38.973020Z",
     "shell.execute_reply": "2024-09-27T04:04:38.971863Z"
    },
    "papermill": {
     "duration": 0.068979,
     "end_time": "2024-09-27T04:04:38.975469",
     "exception": false,
     "start_time": "2024-09-27T04:04:38.906490",
     "status": "completed"
    },
    "tags": []
   },
   "outputs": [],
   "source": [
    "param_dis = {\n",
    "    'iterations': np.arange(750,1800,250),\n",
    "    'learning_rate': loguniform(0.005,0.15),\n",
    "    'random_seed': [42],\n",
    "    'l2_leaf_reg': loguniform(0.8,50),\n",
    "    'bagging_temperature': loguniform(1e-4,1),\n",
    "    'random_strength': np.arange(1,10),\n",
    "    'depth': np.arange(6,10),\n",
    "    'min_data_in_leaf': np.arange(1,4),\n",
    "    'border_count': np.arange(24,296,50),\n",
    "    'logging_level': ['Silent'],\n",
    "    'task_type': ['GPU']\n",
    "}"
   ]
  },
  {
   "cell_type": "code",
   "execution_count": 92,
   "id": "9df6eccc",
   "metadata": {
    "execution": {
     "iopub.execute_input": "2024-09-27T04:04:39.088514Z",
     "iopub.status.busy": "2024-09-27T04:04:39.088105Z",
     "iopub.status.idle": "2024-09-27T04:04:39.095254Z",
     "shell.execute_reply": "2024-09-27T04:04:39.094189Z"
    },
    "papermill": {
     "duration": 0.06747,
     "end_time": "2024-09-27T04:04:39.097724",
     "exception": false,
     "start_time": "2024-09-27T04:04:39.030254",
     "status": "completed"
    },
    "scrolled": true,
    "tags": []
   },
   "outputs": [
    {
     "data": {
      "text/plain": [
       "\"search = RandomizedSearchCV(CatBoostClassifier(),\\n                            param_dis,\\n                            n_iter=90,\\n                            scoring='neg_log_loss', cv=cv,\\n                            refit=True, verbose=3)\\nsearch.fit(inputs, targets)\""
      ]
     },
     "execution_count": 92,
     "metadata": {},
     "output_type": "execute_result"
    }
   ],
   "source": [
    "'''search = RandomizedSearchCV(CatBoostClassifier(),\n",
    "                            param_dis,\n",
    "                            n_iter=90,\n",
    "                            scoring='neg_log_loss', cv=cv,\n",
    "                            refit=True, verbose=3)\n",
    "search.fit(inputs, targets)'''"
   ]
  },
  {
   "cell_type": "code",
   "execution_count": 93,
   "id": "7277057d",
   "metadata": {
    "execution": {
     "iopub.execute_input": "2024-09-27T04:04:39.210803Z",
     "iopub.status.busy": "2024-09-27T04:04:39.209718Z",
     "iopub.status.idle": "2024-09-27T04:05:52.187222Z",
     "shell.execute_reply": "2024-09-27T04:05:52.185839Z"
    },
    "papermill": {
     "duration": 73.03735,
     "end_time": "2024-09-27T04:05:52.190273",
     "exception": false,
     "start_time": "2024-09-27T04:04:39.152923",
     "status": "completed"
    },
    "tags": []
   },
   "outputs": [
    {
     "name": "stdout",
     "output_type": "stream",
     "text": [
      "Fold 0: train_acc = 0.26875, val_acc = 0.42181\n",
      "Fold 1: train_acc = 0.25612, val_acc = 0.45658\n",
      "Fold 2: train_acc = 0.26551, val_acc = 0.43037\n",
      "Fold 3: train_acc = 0.26765, val_acc = 0.44947\n",
      "Fold 4: train_acc = 0.26871, val_acc = 0.43928\n",
      "Train acc: 0.2653483 ± 0.0047594 | Val acc: 0.4395030 ± 0.0125488\n",
      "CPU times: user 4min 5s, sys: 18.1 s, total: 4min 23s\n",
      "Wall time: 1min 12s\n"
     ]
    }
   ],
   "source": [
    "%%time\n",
    "best_params = {\n",
    " 'bagging_temperature': 0.09899722103462415,\n",
    " 'border_count': 274,\n",
    " 'depth': 6,\n",
    " 'iterations': 1750,\n",
    " 'l2_leaf_reg': 3.009289961330278,\n",
    " 'learning_rate': 0.02240593653645425,\n",
    " 'logging_level': 'Silent',\n",
    " 'min_data_in_leaf': 2,\n",
    " 'random_seed': 42,\n",
    " 'random_strength': 9\n",
    "}\n",
    "\n",
    "clf = CatBoostClassifier(**best_params)\n",
    "test_preds, _ = cross_validation(clf, cv, inputs, targets, num_classes=3, \n",
    "                                 need_print=True, test_inputs=test_inputs)"
   ]
  },
  {
   "cell_type": "code",
   "execution_count": 94,
   "id": "ca25bf8d",
   "metadata": {
    "execution": {
     "iopub.execute_input": "2024-09-27T04:05:52.324290Z",
     "iopub.status.busy": "2024-09-27T04:05:52.323843Z",
     "iopub.status.idle": "2024-09-27T04:05:52.373122Z",
     "shell.execute_reply": "2024-09-27T04:05:52.372074Z"
    },
    "papermill": {
     "duration": 0.111122,
     "end_time": "2024-09-27T04:05:52.376790",
     "exception": false,
     "start_time": "2024-09-27T04:05:52.265668",
     "status": "completed"
    },
    "tags": []
   },
   "outputs": [],
   "source": [
    "sub_df[['Status_C', 'Status_CL', 'Status_D']] = test_preds\n",
    "sub_df.to_csv('/kaggle/working/sub_cat_tuning.csv', index=None)"
   ]
  },
  {
   "cell_type": "code",
   "execution_count": 95,
   "id": "62ae197c",
   "metadata": {
    "execution": {
     "iopub.execute_input": "2024-09-27T04:05:52.491038Z",
     "iopub.status.busy": "2024-09-27T04:05:52.490625Z",
     "iopub.status.idle": "2024-09-27T04:05:52.496744Z",
     "shell.execute_reply": "2024-09-27T04:05:52.495578Z"
    },
    "papermill": {
     "duration": 0.06623,
     "end_time": "2024-09-27T04:05:52.499241",
     "exception": false,
     "start_time": "2024-09-27T04:05:52.433011",
     "status": "completed"
    },
    "tags": []
   },
   "outputs": [],
   "source": [
    "scores['Classifier'].append('CAT with tuning')\n",
    "scores['Train Score'].append(0.26535)\n",
    "scores['Val Score'].append(0.43950)\n",
    "scores['Test Score'].append(0.41904)"
   ]
  },
  {
   "cell_type": "markdown",
   "id": "f66b4d51",
   "metadata": {
    "papermill": {
     "duration": 0.055775,
     "end_time": "2024-09-27T04:05:52.611106",
     "exception": false,
     "start_time": "2024-09-27T04:05:52.555331",
     "status": "completed"
    },
    "tags": []
   },
   "source": [
    "### Stack"
   ]
  },
  {
   "cell_type": "code",
   "execution_count": 96,
   "id": "a3527df8",
   "metadata": {
    "execution": {
     "iopub.execute_input": "2024-09-27T04:05:52.726153Z",
     "iopub.status.busy": "2024-09-27T04:05:52.725112Z",
     "iopub.status.idle": "2024-09-27T04:05:52.735755Z",
     "shell.execute_reply": "2024-09-27T04:05:52.734589Z"
    },
    "papermill": {
     "duration": 0.07119,
     "end_time": "2024-09-27T04:05:52.738155",
     "exception": false,
     "start_time": "2024-09-27T04:05:52.666965",
     "status": "completed"
    },
    "tags": []
   },
   "outputs": [],
   "source": [
    "logit_best_params = {\n",
    " 'C': 3.871986902028346,\n",
    " 'max_iter': 300,\n",
    " 'penalty': 'l2',\n",
    " 'solver': 'sag',\n",
    " 'tol': 1.702809162585728e-05,\n",
    " 'n_jobs': -1\n",
    "}\n",
    "rf_best_params = {\n",
    " 'max_depth': 16,\n",
    " 'max_features': 'log2',\n",
    " 'max_leaf_nodes': 425,\n",
    " 'max_samples': 0.8894972009241586,\n",
    " 'min_samples_leaf': 3,\n",
    " 'min_samples_split': 3,\n",
    " 'min_weight_fraction_leaf': 1.6489066668787757e-05,\n",
    " 'n_estimators': 250,\n",
    " 'n_jobs': -1,\n",
    " 'random_state': 1212\n",
    "}\n",
    "lgbm_best_params = {\n",
    " 'colsample_bytree': 0.29486700431686197,\n",
    " 'learning_rate': 0.06817642591744683,\n",
    " 'max_depth': 44,\n",
    " 'min_child_samples': 8,\n",
    " 'min_child_weight': 0.00044059678355998813,\n",
    " 'min_split_gain': 3.8039048527123264e-05,\n",
    " 'n_estimators': 90,\n",
    " 'n_jobs': -1,\n",
    " 'num_leaves': 62,\n",
    " 'random_state': 42,\n",
    " 'reg_alpha': 0.0001292240294847905,\n",
    " 'reg_lambda': 2.219344450381771,\n",
    " 'subsample': 0.37117045008198346,\n",
    " 'verbose': -1\n",
    "}\n",
    "cat_best_params = {\n",
    " 'bagging_temperature': 0.09899722103462415,\n",
    " 'border_count': 274,\n",
    " 'depth': 6,\n",
    " 'iterations': 1750,\n",
    " 'l2_leaf_reg': 3.009289961330278,\n",
    " 'learning_rate': 0.02240593653645425,\n",
    " 'logging_level': 'Silent',\n",
    " 'min_data_in_leaf': 2,\n",
    " 'random_seed': 42,\n",
    " 'random_strength': 9\n",
    "}"
   ]
  },
  {
   "cell_type": "code",
   "execution_count": 97,
   "id": "ee3ab1ae",
   "metadata": {
    "execution": {
     "iopub.execute_input": "2024-09-27T04:05:52.851931Z",
     "iopub.status.busy": "2024-09-27T04:05:52.851464Z",
     "iopub.status.idle": "2024-09-27T04:08:03.799058Z",
     "shell.execute_reply": "2024-09-27T04:08:03.797694Z"
    },
    "papermill": {
     "duration": 131.008065,
     "end_time": "2024-09-27T04:08:03.801934",
     "exception": false,
     "start_time": "2024-09-27T04:05:52.793869",
     "status": "completed"
    },
    "tags": []
   },
   "outputs": [
    {
     "name": "stdout",
     "output_type": "stream",
     "text": [
      "Fold 0: train_acc = 0.19073, val_acc = 0.43024\n",
      "Fold 1: train_acc = 0.18732, val_acc = 0.45334\n",
      "Fold 2: train_acc = 0.19301, val_acc = 0.43689\n",
      "Fold 3: train_acc = 0.18945, val_acc = 0.45119\n",
      "Fold 4: train_acc = 0.19265, val_acc = 0.44623\n",
      "Train acc: 0.1906309 ± 0.0021045 | Val acc: 0.4435759 ± 0.0087515\n",
      "CPU times: user 2min 10s, sys: 313 ms, total: 2min 10s\n",
      "Wall time: 2min 10s\n"
     ]
    }
   ],
   "source": [
    "%%time\n",
    "level0 = list()\n",
    "level0.append(('rf', RandomForestClassifier(**rf_best_params)))\n",
    "level0.append(('lgbm', LGBMClassifier(**lgbm_best_params)))\n",
    "\n",
    "clf = StackingClassifier(estimators=level0, cv=cv)\n",
    "test_preds, _ = cross_validation(clf, cv, inputs, targets, num_classes=3, \n",
    "                                 need_print=True, test_inputs=test_inputs)"
   ]
  },
  {
   "cell_type": "code",
   "execution_count": 98,
   "id": "a5698766",
   "metadata": {
    "execution": {
     "iopub.execute_input": "2024-09-27T04:08:03.918972Z",
     "iopub.status.busy": "2024-09-27T04:08:03.918511Z",
     "iopub.status.idle": "2024-09-27T04:08:03.966974Z",
     "shell.execute_reply": "2024-09-27T04:08:03.965966Z"
    },
    "papermill": {
     "duration": 0.110736,
     "end_time": "2024-09-27T04:08:03.969761",
     "exception": false,
     "start_time": "2024-09-27T04:08:03.859025",
     "status": "completed"
    },
    "tags": []
   },
   "outputs": [],
   "source": [
    "sub_df[['Status_C', 'Status_CL', 'Status_D']] = test_preds\n",
    "sub_df.to_csv('/kaggle/working/sub_stack_rf_lgbm.csv', index=None)"
   ]
  },
  {
   "cell_type": "code",
   "execution_count": 99,
   "id": "8f8b4d3d",
   "metadata": {
    "execution": {
     "iopub.execute_input": "2024-09-27T04:08:04.084114Z",
     "iopub.status.busy": "2024-09-27T04:08:04.083687Z",
     "iopub.status.idle": "2024-09-27T04:08:04.089844Z",
     "shell.execute_reply": "2024-09-27T04:08:04.088564Z"
    },
    "papermill": {
     "duration": 0.066532,
     "end_time": "2024-09-27T04:08:04.092593",
     "exception": false,
     "start_time": "2024-09-27T04:08:04.026061",
     "status": "completed"
    },
    "tags": []
   },
   "outputs": [],
   "source": [
    "scores['Classifier'].append('Stack RF LGBM')\n",
    "scores['Train Score'].append(0.19063)\n",
    "scores['Val Score'].append(0.44358)\n",
    "scores['Test Score'].append(0.42708)"
   ]
  },
  {
   "cell_type": "code",
   "execution_count": 100,
   "id": "2ca88ff9",
   "metadata": {
    "execution": {
     "iopub.execute_input": "2024-09-27T04:08:04.209816Z",
     "iopub.status.busy": "2024-09-27T04:08:04.209329Z",
     "iopub.status.idle": "2024-09-27T04:16:44.073106Z",
     "shell.execute_reply": "2024-09-27T04:16:44.071573Z"
    },
    "papermill": {
     "duration": 519.925572,
     "end_time": "2024-09-27T04:16:44.075966",
     "exception": false,
     "start_time": "2024-09-27T04:08:04.150394",
     "status": "completed"
    },
    "tags": []
   },
   "outputs": [
    {
     "name": "stdout",
     "output_type": "stream",
     "text": [
      "Fold 0: train_acc = 0.24384, val_acc = 0.43144\n",
      "Fold 1: train_acc = 0.23735, val_acc = 0.45641\n",
      "Fold 2: train_acc = 0.24286, val_acc = 0.44314\n",
      "Fold 3: train_acc = 0.24829, val_acc = 0.45517\n",
      "Fold 4: train_acc = 0.24701, val_acc = 0.44943\n",
      "Train acc: 0.2438698 ± 0.0038192 | Val acc: 0.4471200 ± 0.0091458\n",
      "CPU times: user 24min 55s, sys: 1min 53s, total: 26min 48s\n",
      "Wall time: 8min 39s\n"
     ]
    }
   ],
   "source": [
    "%%time\n",
    "level0 = list()\n",
    "level0.append(('rf', RandomForestClassifier(**rf_best_params)))\n",
    "level0.append(('cat', CatBoostClassifier(**cat_best_params)))\n",
    "\n",
    "clf = StackingClassifier(estimators=level0, cv=cv)\n",
    "test_preds, _ = cross_validation(clf, cv, inputs, targets, num_classes=3, \n",
    "                                 need_print=True, test_inputs=test_inputs)"
   ]
  },
  {
   "cell_type": "code",
   "execution_count": 101,
   "id": "980b7b1c",
   "metadata": {
    "execution": {
     "iopub.execute_input": "2024-09-27T04:16:44.194431Z",
     "iopub.status.busy": "2024-09-27T04:16:44.193349Z",
     "iopub.status.idle": "2024-09-27T04:16:44.241640Z",
     "shell.execute_reply": "2024-09-27T04:16:44.240585Z"
    },
    "papermill": {
     "duration": 0.111002,
     "end_time": "2024-09-27T04:16:44.244410",
     "exception": false,
     "start_time": "2024-09-27T04:16:44.133408",
     "status": "completed"
    },
    "tags": []
   },
   "outputs": [],
   "source": [
    "sub_df[['Status_C', 'Status_CL', 'Status_D']] = test_preds\n",
    "sub_df.to_csv('/kaggle/working/sub_stack_rf_cat.csv', index=None)"
   ]
  },
  {
   "cell_type": "code",
   "execution_count": 102,
   "id": "736257f7",
   "metadata": {
    "execution": {
     "iopub.execute_input": "2024-09-27T04:16:44.360465Z",
     "iopub.status.busy": "2024-09-27T04:16:44.360048Z",
     "iopub.status.idle": "2024-09-27T04:16:44.366403Z",
     "shell.execute_reply": "2024-09-27T04:16:44.365256Z"
    },
    "papermill": {
     "duration": 0.067276,
     "end_time": "2024-09-27T04:16:44.368885",
     "exception": false,
     "start_time": "2024-09-27T04:16:44.301609",
     "status": "completed"
    },
    "tags": []
   },
   "outputs": [],
   "source": [
    "scores['Classifier'].append('Stack RF CAT')\n",
    "scores['Train Score'].append(0.24387)\n",
    "scores['Val Score'].append(0.44712)\n",
    "scores['Test Score'].append(0.43042)"
   ]
  },
  {
   "cell_type": "code",
   "execution_count": 103,
   "id": "95e33670",
   "metadata": {
    "execution": {
     "iopub.execute_input": "2024-09-27T04:16:44.484948Z",
     "iopub.status.busy": "2024-09-27T04:16:44.484492Z",
     "iopub.status.idle": "2024-09-27T04:17:17.189694Z",
     "shell.execute_reply": "2024-09-27T04:17:17.188458Z"
    },
    "papermill": {
     "duration": 32.822203,
     "end_time": "2024-09-27T04:17:17.248712",
     "exception": false,
     "start_time": "2024-09-27T04:16:44.426509",
     "status": "completed"
    },
    "tags": []
   },
   "outputs": [
    {
     "name": "stdout",
     "output_type": "stream",
     "text": [
      "Fold 0: train_acc = 0.20597, val_acc = 0.42840\n",
      "Fold 1: train_acc = 0.20422, val_acc = 0.45211\n",
      "Fold 2: train_acc = 0.20882, val_acc = 0.43361\n",
      "Fold 3: train_acc = 0.20522, val_acc = 0.45152\n",
      "Fold 4: train_acc = 0.21029, val_acc = 0.44738\n",
      "Train acc: 0.2069008 ± 0.0022817 | Val acc: 0.4426031 ± 0.0097499\n",
      "CPU times: user 34.2 s, sys: 2.18 s, total: 36.4 s\n",
      "Wall time: 32.7 s\n"
     ]
    }
   ],
   "source": [
    "%%time\n",
    "level0 = list()\n",
    "level0.append(('logit', LogisticRegression(**logit_best_params)))\n",
    "level0.append(('lgbm', LGBMClassifier(**lgbm_best_params)))\n",
    "\n",
    "clf = StackingClassifier(estimators=level0, cv=cv)\n",
    "test_preds, _ = cross_validation(clf, cv, inputs, targets, num_classes=3, \n",
    "                                 need_print=True, test_inputs=test_inputs)"
   ]
  },
  {
   "cell_type": "code",
   "execution_count": 104,
   "id": "7511cfc0",
   "metadata": {
    "execution": {
     "iopub.execute_input": "2024-09-27T04:17:17.368797Z",
     "iopub.status.busy": "2024-09-27T04:17:17.368289Z",
     "iopub.status.idle": "2024-09-27T04:17:17.418108Z",
     "shell.execute_reply": "2024-09-27T04:17:17.416930Z"
    },
    "papermill": {
     "duration": 0.111948,
     "end_time": "2024-09-27T04:17:17.420983",
     "exception": false,
     "start_time": "2024-09-27T04:17:17.309035",
     "status": "completed"
    },
    "tags": []
   },
   "outputs": [],
   "source": [
    "sub_df[['Status_C', 'Status_CL', 'Status_D']] = test_preds\n",
    "sub_df.to_csv('/kaggle/working/sub_stack_logit_lgbm.csv', index=None)"
   ]
  },
  {
   "cell_type": "code",
   "execution_count": 105,
   "id": "8c0dbcbc",
   "metadata": {
    "execution": {
     "iopub.execute_input": "2024-09-27T04:17:17.541885Z",
     "iopub.status.busy": "2024-09-27T04:17:17.540748Z",
     "iopub.status.idle": "2024-09-27T04:17:17.546921Z",
     "shell.execute_reply": "2024-09-27T04:17:17.545784Z"
    },
    "papermill": {
     "duration": 0.06877,
     "end_time": "2024-09-27T04:17:17.549462",
     "exception": false,
     "start_time": "2024-09-27T04:17:17.480692",
     "status": "completed"
    },
    "tags": []
   },
   "outputs": [],
   "source": [
    "scores['Classifier'].append('Stack Logit LGBM')\n",
    "scores['Train Score'].append(0.20690)\n",
    "scores['Val Score'].append(0.44260)\n",
    "scores['Test Score'].append(0.42872)"
   ]
  },
  {
   "cell_type": "code",
   "execution_count": 106,
   "id": "d6a840e1",
   "metadata": {
    "execution": {
     "iopub.execute_input": "2024-09-27T04:17:17.666804Z",
     "iopub.status.busy": "2024-09-27T04:17:17.666315Z",
     "iopub.status.idle": "2024-09-27T04:19:36.329369Z",
     "shell.execute_reply": "2024-09-27T04:19:36.327995Z"
    },
    "papermill": {
     "duration": 138.724562,
     "end_time": "2024-09-27T04:19:36.332109",
     "exception": false,
     "start_time": "2024-09-27T04:17:17.607547",
     "status": "completed"
    },
    "tags": []
   },
   "outputs": [
    {
     "name": "stdout",
     "output_type": "stream",
     "text": [
      "Fold 0: train_acc = 0.19887, val_acc = 0.42786\n",
      "Fold 1: train_acc = 0.19836, val_acc = 0.45084\n"
     ]
    },
    {
     "name": "stderr",
     "output_type": "stream",
     "text": [
      "/opt/conda/lib/python3.10/site-packages/sklearn/linear_model/_logistic.py:458: ConvergenceWarning: lbfgs failed to converge (status=1):\n",
      "STOP: TOTAL NO. of ITERATIONS REACHED LIMIT.\n",
      "\n",
      "Increase the number of iterations (max_iter) or scale the data as shown in:\n",
      "    https://scikit-learn.org/stable/modules/preprocessing.html\n",
      "Please also refer to the documentation for alternative solver options:\n",
      "    https://scikit-learn.org/stable/modules/linear_model.html#logistic-regression\n",
      "  n_iter_i = _check_optimize_result(\n"
     ]
    },
    {
     "name": "stdout",
     "output_type": "stream",
     "text": [
      "Fold 2: train_acc = 0.20091, val_acc = 0.43669\n",
      "Fold 3: train_acc = 0.19901, val_acc = 0.44995\n"
     ]
    },
    {
     "name": "stderr",
     "output_type": "stream",
     "text": [
      "/opt/conda/lib/python3.10/site-packages/sklearn/linear_model/_logistic.py:458: ConvergenceWarning: lbfgs failed to converge (status=1):\n",
      "STOP: TOTAL NO. of ITERATIONS REACHED LIMIT.\n",
      "\n",
      "Increase the number of iterations (max_iter) or scale the data as shown in:\n",
      "    https://scikit-learn.org/stable/modules/preprocessing.html\n",
      "Please also refer to the documentation for alternative solver options:\n",
      "    https://scikit-learn.org/stable/modules/linear_model.html#logistic-regression\n",
      "  n_iter_i = _check_optimize_result(\n"
     ]
    },
    {
     "name": "stdout",
     "output_type": "stream",
     "text": [
      "Fold 4: train_acc = 0.20144, val_acc = 0.44528\n",
      "Train acc: 0.1997175 ± 0.0012213 | Val acc: 0.4421222 ± 0.0087209\n",
      "CPU times: user 2min 19s, sys: 2.44 s, total: 2min 22s\n",
      "Wall time: 2min 18s\n"
     ]
    }
   ],
   "source": [
    "%%time\n",
    "level0 = list()\n",
    "level0.append(('logit', LogisticRegression(**logit_best_params)))\n",
    "level0.append(('rf', RandomForestClassifier(**rf_best_params)))\n",
    "level0.append(('lgbm', LGBMClassifier(**lgbm_best_params)))\n",
    "\n",
    "clf = StackingClassifier(estimators=level0, cv=cv)\n",
    "test_preds, _ = cross_validation(clf, cv, inputs, targets, num_classes=3, \n",
    "                                 need_print=True, test_inputs=test_inputs)"
   ]
  },
  {
   "cell_type": "code",
   "execution_count": 107,
   "id": "3104df0e",
   "metadata": {
    "execution": {
     "iopub.execute_input": "2024-09-27T04:19:36.451589Z",
     "iopub.status.busy": "2024-09-27T04:19:36.450568Z",
     "iopub.status.idle": "2024-09-27T04:19:36.499398Z",
     "shell.execute_reply": "2024-09-27T04:19:36.498458Z"
    },
    "papermill": {
     "duration": 0.110999,
     "end_time": "2024-09-27T04:19:36.502035",
     "exception": false,
     "start_time": "2024-09-27T04:19:36.391036",
     "status": "completed"
    },
    "tags": []
   },
   "outputs": [],
   "source": [
    "sub_df[['Status_C', 'Status_CL', 'Status_D']] = test_preds\n",
    "sub_df.to_csv('/kaggle/working/sub_stack_logit_rf_lgbm.csv', index=None)"
   ]
  },
  {
   "cell_type": "code",
   "execution_count": 108,
   "id": "27c165c2",
   "metadata": {
    "execution": {
     "iopub.execute_input": "2024-09-27T04:19:36.620537Z",
     "iopub.status.busy": "2024-09-27T04:19:36.620082Z",
     "iopub.status.idle": "2024-09-27T04:19:36.627480Z",
     "shell.execute_reply": "2024-09-27T04:19:36.626397Z"
    },
    "papermill": {
     "duration": 0.069356,
     "end_time": "2024-09-27T04:19:36.630052",
     "exception": false,
     "start_time": "2024-09-27T04:19:36.560696",
     "status": "completed"
    },
    "tags": []
   },
   "outputs": [],
   "source": [
    "scores['Classifier'].append('Stack Logit RF LGBM')\n",
    "scores['Train Score'].append(0.19972)\n",
    "scores['Val Score'].append(0.44211)\n",
    "scores['Test Score'].append(0.42693)"
   ]
  },
  {
   "cell_type": "code",
   "execution_count": 109,
   "id": "d9704dcf",
   "metadata": {
    "execution": {
     "iopub.execute_input": "2024-09-27T04:19:36.748009Z",
     "iopub.status.busy": "2024-09-27T04:19:36.747147Z",
     "iopub.status.idle": "2024-09-27T04:27:02.146781Z",
     "shell.execute_reply": "2024-09-27T04:27:02.145456Z"
    },
    "papermill": {
     "duration": 445.461602,
     "end_time": "2024-09-27T04:27:02.149509",
     "exception": false,
     "start_time": "2024-09-27T04:19:36.687907",
     "status": "completed"
    },
    "tags": []
   },
   "outputs": [
    {
     "name": "stderr",
     "output_type": "stream",
     "text": [
      "/opt/conda/lib/python3.10/site-packages/sklearn/linear_model/_logistic.py:458: ConvergenceWarning: lbfgs failed to converge (status=1):\n",
      "STOP: TOTAL NO. of ITERATIONS REACHED LIMIT.\n",
      "\n",
      "Increase the number of iterations (max_iter) or scale the data as shown in:\n",
      "    https://scikit-learn.org/stable/modules/preprocessing.html\n",
      "Please also refer to the documentation for alternative solver options:\n",
      "    https://scikit-learn.org/stable/modules/linear_model.html#logistic-regression\n",
      "  n_iter_i = _check_optimize_result(\n"
     ]
    },
    {
     "name": "stdout",
     "output_type": "stream",
     "text": [
      "Fold 0: train_acc = 0.21808, val_acc = 0.42761\n"
     ]
    },
    {
     "name": "stderr",
     "output_type": "stream",
     "text": [
      "/opt/conda/lib/python3.10/site-packages/sklearn/linear_model/_logistic.py:458: ConvergenceWarning: lbfgs failed to converge (status=1):\n",
      "STOP: TOTAL NO. of ITERATIONS REACHED LIMIT.\n",
      "\n",
      "Increase the number of iterations (max_iter) or scale the data as shown in:\n",
      "    https://scikit-learn.org/stable/modules/preprocessing.html\n",
      "Please also refer to the documentation for alternative solver options:\n",
      "    https://scikit-learn.org/stable/modules/linear_model.html#logistic-regression\n",
      "  n_iter_i = _check_optimize_result(\n"
     ]
    },
    {
     "name": "stdout",
     "output_type": "stream",
     "text": [
      "Fold 1: train_acc = 0.21485, val_acc = 0.45154\n",
      "Fold 2: train_acc = 0.22269, val_acc = 0.43494\n",
      "Fold 3: train_acc = 0.22335, val_acc = 0.45061\n"
     ]
    },
    {
     "name": "stderr",
     "output_type": "stream",
     "text": [
      "/opt/conda/lib/python3.10/site-packages/sklearn/linear_model/_logistic.py:458: ConvergenceWarning: lbfgs failed to converge (status=1):\n",
      "STOP: TOTAL NO. of ITERATIONS REACHED LIMIT.\n",
      "\n",
      "Increase the number of iterations (max_iter) or scale the data as shown in:\n",
      "    https://scikit-learn.org/stable/modules/preprocessing.html\n",
      "Please also refer to the documentation for alternative solver options:\n",
      "    https://scikit-learn.org/stable/modules/linear_model.html#logistic-regression\n",
      "  n_iter_i = _check_optimize_result(\n"
     ]
    },
    {
     "name": "stdout",
     "output_type": "stream",
     "text": [
      "Fold 4: train_acc = 0.22433, val_acc = 0.44584\n",
      "Train acc: 0.2206629 ± 0.0036121 | Val acc: 0.4421088 ± 0.0093460\n",
      "CPU times: user 23min 40s, sys: 1min 55s, total: 25min 35s\n",
      "Wall time: 7min 25s\n"
     ]
    }
   ],
   "source": [
    "%%time\n",
    "level0 = list()\n",
    "level0.append(('logit', LogisticRegression(**logit_best_params)))\n",
    "level0.append(('lgbm', LGBMClassifier(**lgbm_best_params)))\n",
    "level0.append(('cat', CatBoostClassifier(**cat_best_params)))\n",
    "\n",
    "clf = StackingClassifier(estimators=level0, cv=cv)\n",
    "test_preds, _ = cross_validation(clf, cv, inputs, targets, num_classes=3, \n",
    "                                 need_print=True, test_inputs=test_inputs)"
   ]
  },
  {
   "cell_type": "code",
   "execution_count": 110,
   "id": "2dd78a94",
   "metadata": {
    "execution": {
     "iopub.execute_input": "2024-09-27T04:27:02.298586Z",
     "iopub.status.busy": "2024-09-27T04:27:02.298085Z",
     "iopub.status.idle": "2024-09-27T04:27:02.347283Z",
     "shell.execute_reply": "2024-09-27T04:27:02.346049Z"
    },
    "papermill": {
     "duration": 0.123894,
     "end_time": "2024-09-27T04:27:02.350192",
     "exception": false,
     "start_time": "2024-09-27T04:27:02.226298",
     "status": "completed"
    },
    "tags": []
   },
   "outputs": [],
   "source": [
    "sub_df[['Status_C', 'Status_CL', 'Status_D']] = test_preds\n",
    "sub_df.to_csv('/kaggle/working/sub_stack_logit_lgbm_cat.csv', index=None)"
   ]
  },
  {
   "cell_type": "code",
   "execution_count": 111,
   "id": "2daaff3a",
   "metadata": {
    "execution": {
     "iopub.execute_input": "2024-09-27T04:27:02.471623Z",
     "iopub.status.busy": "2024-09-27T04:27:02.471132Z",
     "iopub.status.idle": "2024-09-27T04:27:02.477320Z",
     "shell.execute_reply": "2024-09-27T04:27:02.476068Z"
    },
    "papermill": {
     "duration": 0.069071,
     "end_time": "2024-09-27T04:27:02.479900",
     "exception": false,
     "start_time": "2024-09-27T04:27:02.410829",
     "status": "completed"
    },
    "tags": []
   },
   "outputs": [],
   "source": [
    "scores['Classifier'].append('Stack Logit LGBM CAT')\n",
    "scores['Train Score'].append(0.22063)\n",
    "scores['Val Score'].append(0.44211)\n",
    "scores['Test Score'].append(0.42794)"
   ]
  },
  {
   "cell_type": "markdown",
   "id": "4cacb5a4",
   "metadata": {
    "papermill": {
     "duration": 0.059918,
     "end_time": "2024-09-27T04:27:02.598745",
     "exception": false,
     "start_time": "2024-09-27T04:27:02.538827",
     "status": "completed"
    },
    "tags": []
   },
   "source": [
    "### Voting"
   ]
  },
  {
   "cell_type": "code",
   "execution_count": 112,
   "id": "a55d1be1",
   "metadata": {
    "execution": {
     "iopub.execute_input": "2024-09-27T04:27:02.719680Z",
     "iopub.status.busy": "2024-09-27T04:27:02.719205Z",
     "iopub.status.idle": "2024-09-27T04:28:45.320940Z",
     "shell.execute_reply": "2024-09-27T04:28:45.319608Z"
    },
    "papermill": {
     "duration": 102.665587,
     "end_time": "2024-09-27T04:28:45.323747",
     "exception": false,
     "start_time": "2024-09-27T04:27:02.658160",
     "status": "completed"
    },
    "tags": []
   },
   "outputs": [
    {
     "name": "stdout",
     "output_type": "stream",
     "text": [
      "Fold 0: train_acc = 0.22394, val_acc = 0.41528\n",
      "Fold 1: train_acc = 0.21795, val_acc = 0.44296\n",
      "Fold 2: train_acc = 0.22411, val_acc = 0.42077\n",
      "Fold 3: train_acc = 0.22056, val_acc = 0.44356\n",
      "Fold 4: train_acc = 0.22226, val_acc = 0.43098\n",
      "Train acc: 0.2217639 ± 0.0023020 | Val acc: 0.4307091 ± 0.0114191\n",
      "CPU times: user 4min 35s, sys: 20.1 s, total: 4min 55s\n",
      "Wall time: 1min 42s\n"
     ]
    }
   ],
   "source": [
    "%%time\n",
    "ests = list()\n",
    "ests.append(('logit', LogisticRegression(**logit_best_params)))\n",
    "ests.append(('rf', RandomForestClassifier(**rf_best_params)))\n",
    "ests.append(('lgbm', LGBMClassifier(**lgbm_best_params)))\n",
    "ests.append(('cat', CatBoostClassifier(**cat_best_params)))\n",
    "\n",
    "weights = [0.1,0.1,0.6,0.2]\n",
    "\n",
    "clf = VotingClassifier(ests, voting='soft', weights=weights)\n",
    "test_preds, _ = cross_validation(clf, cv, inputs, targets, num_classes=3, \n",
    "                                 need_print=True, test_inputs=test_inputs)"
   ]
  },
  {
   "cell_type": "code",
   "execution_count": 113,
   "id": "23aefb11",
   "metadata": {
    "execution": {
     "iopub.execute_input": "2024-09-27T04:28:45.446318Z",
     "iopub.status.busy": "2024-09-27T04:28:45.445865Z",
     "iopub.status.idle": "2024-09-27T04:28:45.495982Z",
     "shell.execute_reply": "2024-09-27T04:28:45.494612Z"
    },
    "papermill": {
     "duration": 0.115292,
     "end_time": "2024-09-27T04:28:45.499012",
     "exception": false,
     "start_time": "2024-09-27T04:28:45.383720",
     "status": "completed"
    },
    "tags": []
   },
   "outputs": [],
   "source": [
    "sub_df[['Status_C', 'Status_CL', 'Status_D']] = test_preds\n",
    "sub_df.to_csv('/kaggle/working/sub_vote_1_1_6_2.csv', index=None)"
   ]
  },
  {
   "cell_type": "code",
   "execution_count": 114,
   "id": "8e6adf04",
   "metadata": {
    "execution": {
     "iopub.execute_input": "2024-09-27T04:28:45.621385Z",
     "iopub.status.busy": "2024-09-27T04:28:45.620918Z",
     "iopub.status.idle": "2024-09-27T04:28:45.627146Z",
     "shell.execute_reply": "2024-09-27T04:28:45.626009Z"
    },
    "papermill": {
     "duration": 0.069607,
     "end_time": "2024-09-27T04:28:45.629737",
     "exception": false,
     "start_time": "2024-09-27T04:28:45.560130",
     "status": "completed"
    },
    "tags": []
   },
   "outputs": [],
   "source": [
    "scores['Classifier'].append('Vote Logit(1) RF(1) LGBM(6) CAT(2)')\n",
    "scores['Train Score'].append(0.22176)\n",
    "scores['Val Score'].append(0.43071)\n",
    "scores['Test Score'].append(0.41448)"
   ]
  },
  {
   "cell_type": "code",
   "execution_count": 115,
   "id": "2df09236",
   "metadata": {
    "execution": {
     "iopub.execute_input": "2024-09-27T04:28:45.751591Z",
     "iopub.status.busy": "2024-09-27T04:28:45.751056Z",
     "iopub.status.idle": "2024-09-27T04:30:29.493915Z",
     "shell.execute_reply": "2024-09-27T04:30:29.492582Z"
    },
    "papermill": {
     "duration": 103.80673,
     "end_time": "2024-09-27T04:30:29.496695",
     "exception": false,
     "start_time": "2024-09-27T04:28:45.689965",
     "status": "completed"
    },
    "tags": []
   },
   "outputs": [
    {
     "name": "stdout",
     "output_type": "stream",
     "text": [
      "Fold 0: train_acc = 0.22381, val_acc = 0.41485\n",
      "Fold 1: train_acc = 0.21731, val_acc = 0.44323\n",
      "Fold 2: train_acc = 0.22380, val_acc = 0.42058\n",
      "Fold 3: train_acc = 0.22077, val_acc = 0.44316\n",
      "Fold 4: train_acc = 0.22239, val_acc = 0.43087\n",
      "Train acc: 0.2216162 ± 0.0024280 | Val acc: 0.4305386 ± 0.0115393\n",
      "CPU times: user 4min 38s, sys: 20.8 s, total: 4min 59s\n",
      "Wall time: 1min 43s\n"
     ]
    }
   ],
   "source": [
    "%%time\n",
    "ests = list()\n",
    "ests.append(('logit', LogisticRegression(**logit_best_params)))\n",
    "ests.append(('rf', RandomForestClassifier(**rf_best_params)))\n",
    "ests.append(('lgbm', LGBMClassifier(**lgbm_best_params)))\n",
    "ests.append(('cat', CatBoostClassifier(**cat_best_params)))\n",
    "\n",
    "weights = [0.05,0.15,0.5,0.3]\n",
    "\n",
    "clf = VotingClassifier(ests, voting='soft', weights=weights)\n",
    "test_preds, _ = cross_validation(clf, cv, inputs, targets, num_classes=3, \n",
    "                                 need_print=True, test_inputs=test_inputs)"
   ]
  },
  {
   "cell_type": "code",
   "execution_count": 116,
   "id": "a3b4b93a",
   "metadata": {
    "execution": {
     "iopub.execute_input": "2024-09-27T04:30:29.624254Z",
     "iopub.status.busy": "2024-09-27T04:30:29.623767Z",
     "iopub.status.idle": "2024-09-27T04:30:29.674501Z",
     "shell.execute_reply": "2024-09-27T04:30:29.673059Z"
    },
    "papermill": {
     "duration": 0.117605,
     "end_time": "2024-09-27T04:30:29.677553",
     "exception": false,
     "start_time": "2024-09-27T04:30:29.559948",
     "status": "completed"
    },
    "tags": []
   },
   "outputs": [],
   "source": [
    "sub_df[['Status_C', 'Status_CL', 'Status_D']] = test_preds\n",
    "sub_df.to_csv('/kaggle/working/sub_vote_05_15_5_3.csv', index=None)"
   ]
  },
  {
   "cell_type": "code",
   "execution_count": 117,
   "id": "043833bb",
   "metadata": {
    "execution": {
     "iopub.execute_input": "2024-09-27T04:30:29.804766Z",
     "iopub.status.busy": "2024-09-27T04:30:29.803352Z",
     "iopub.status.idle": "2024-09-27T04:30:29.812642Z",
     "shell.execute_reply": "2024-09-27T04:30:29.811059Z"
    },
    "papermill": {
     "duration": 0.07723,
     "end_time": "2024-09-27T04:30:29.815605",
     "exception": false,
     "start_time": "2024-09-27T04:30:29.738375",
     "status": "completed"
    },
    "tags": []
   },
   "outputs": [],
   "source": [
    "scores['Classifier'].append('Vote Logit(0.5) RF(1.5) LGBM(5) CAT(3)')\n",
    "scores['Train Score'].append(0.22162)\n",
    "scores['Val Score'].append(0.43053)\n",
    "scores['Test Score'].append(0.41387)"
   ]
  },
  {
   "cell_type": "code",
   "execution_count": 118,
   "id": "7697b29f",
   "metadata": {
    "execution": {
     "iopub.execute_input": "2024-09-27T04:30:29.945290Z",
     "iopub.status.busy": "2024-09-27T04:30:29.944741Z",
     "iopub.status.idle": "2024-09-27T04:32:14.057710Z",
     "shell.execute_reply": "2024-09-27T04:32:14.056579Z"
    },
    "papermill": {
     "duration": 104.17991,
     "end_time": "2024-09-27T04:32:14.060624",
     "exception": false,
     "start_time": "2024-09-27T04:30:29.880714",
     "status": "completed"
    },
    "tags": []
   },
   "outputs": [
    {
     "name": "stdout",
     "output_type": "stream",
     "text": [
      "Fold 0: train_acc = 0.21987, val_acc = 0.41478\n",
      "Fold 1: train_acc = 0.21317, val_acc = 0.44380\n",
      "Fold 2: train_acc = 0.21985, val_acc = 0.42038\n",
      "Fold 3: train_acc = 0.21705, val_acc = 0.44326\n",
      "Fold 4: train_acc = 0.21862, val_acc = 0.43125\n",
      "Train acc: 0.2177125 ± 0.0024972 | Val acc: 0.4306916 ± 0.0117448\n",
      "CPU times: user 4min 38s, sys: 21 s, total: 4min 59s\n",
      "Wall time: 1min 44s\n"
     ]
    }
   ],
   "source": [
    "%%time\n",
    "ests = list()\n",
    "ests.append(('logit', LogisticRegression(**logit_best_params)))\n",
    "ests.append(('rf', RandomForestClassifier(**rf_best_params)))\n",
    "ests.append(('lgbm', LGBMClassifier(**lgbm_best_params)))\n",
    "ests.append(('cat', CatBoostClassifier(**cat_best_params)))\n",
    "\n",
    "weights = [0,0.2,0.45,0.35]\n",
    "\n",
    "clf = VotingClassifier(ests, voting='soft', weights=weights)\n",
    "test_preds, _ = cross_validation(clf, cv, inputs, targets, num_classes=3, \n",
    "                                 need_print=True, test_inputs=test_inputs)"
   ]
  },
  {
   "cell_type": "code",
   "execution_count": 119,
   "id": "d6c09385",
   "metadata": {
    "execution": {
     "iopub.execute_input": "2024-09-27T04:32:14.186775Z",
     "iopub.status.busy": "2024-09-27T04:32:14.186298Z",
     "iopub.status.idle": "2024-09-27T04:32:14.239325Z",
     "shell.execute_reply": "2024-09-27T04:32:14.238216Z"
    },
    "papermill": {
     "duration": 0.119986,
     "end_time": "2024-09-27T04:32:14.242325",
     "exception": false,
     "start_time": "2024-09-27T04:32:14.122339",
     "status": "completed"
    },
    "tags": []
   },
   "outputs": [],
   "source": [
    "sub_df[['Status_C', 'Status_CL', 'Status_D']] = test_preds\n",
    "sub_df.to_csv('/kaggle/working/sub_vote_0_2_45_35.csv', index=None)"
   ]
  },
  {
   "cell_type": "code",
   "execution_count": 120,
   "id": "0fe954b8",
   "metadata": {
    "execution": {
     "iopub.execute_input": "2024-09-27T04:32:14.431084Z",
     "iopub.status.busy": "2024-09-27T04:32:14.430615Z",
     "iopub.status.idle": "2024-09-27T04:32:14.438362Z",
     "shell.execute_reply": "2024-09-27T04:32:14.437326Z"
    },
    "papermill": {
     "duration": 0.137607,
     "end_time": "2024-09-27T04:32:14.440915",
     "exception": false,
     "start_time": "2024-09-27T04:32:14.303308",
     "status": "completed"
    },
    "tags": []
   },
   "outputs": [],
   "source": [
    "scores['Classifier'].append('Vote Logit(0) RF(2) LGBM(4.5) CAT(3.5)')\n",
    "scores['Train Score'].append(0.21771)\n",
    "scores['Val Score'].append(0.43069)\n",
    "scores['Test Score'].append(0.41346)"
   ]
  },
  {
   "cell_type": "code",
   "execution_count": 121,
   "id": "9dc8a3ca",
   "metadata": {
    "execution": {
     "iopub.execute_input": "2024-09-27T04:32:14.564812Z",
     "iopub.status.busy": "2024-09-27T04:32:14.564355Z",
     "iopub.status.idle": "2024-09-27T04:33:58.264626Z",
     "shell.execute_reply": "2024-09-27T04:33:58.263400Z"
    },
    "papermill": {
     "duration": 103.765338,
     "end_time": "2024-09-27T04:33:58.267361",
     "exception": false,
     "start_time": "2024-09-27T04:32:14.502023",
     "status": "completed"
    },
    "tags": []
   },
   "outputs": [
    {
     "name": "stdout",
     "output_type": "stream",
     "text": [
      "Fold 0: train_acc = 0.21230, val_acc = 0.41369\n",
      "Fold 1: train_acc = 0.20592, val_acc = 0.44314\n",
      "Fold 2: train_acc = 0.21254, val_acc = 0.41889\n",
      "Fold 3: train_acc = 0.20934, val_acc = 0.44281\n",
      "Fold 4: train_acc = 0.21095, val_acc = 0.43052\n",
      "Train acc: 0.2102107 ± 0.0024299 | Val acc: 0.4298080 ± 0.0120535\n",
      "CPU times: user 4min 36s, sys: 20.2 s, total: 4min 56s\n",
      "Wall time: 1min 43s\n"
     ]
    }
   ],
   "source": [
    "%%time\n",
    "ests = list()\n",
    "ests.append(('logit', LogisticRegression(**logit_best_params)))\n",
    "ests.append(('rf', RandomForestClassifier(**rf_best_params)))\n",
    "ests.append(('lgbm', LGBMClassifier(**lgbm_best_params)))\n",
    "ests.append(('cat', CatBoostClassifier(**cat_best_params)))\n",
    "\n",
    "weights = [0,0.15,0.55,0.3]\n",
    "\n",
    "clf = VotingClassifier(ests, voting='soft', weights=weights)\n",
    "test_preds, _ = cross_validation(clf, cv, inputs, targets, num_classes=3, \n",
    "                                 need_print=True, test_inputs=test_inputs)"
   ]
  },
  {
   "cell_type": "code",
   "execution_count": 122,
   "id": "bb448fac",
   "metadata": {
    "execution": {
     "iopub.execute_input": "2024-09-27T04:33:58.394462Z",
     "iopub.status.busy": "2024-09-27T04:33:58.394039Z",
     "iopub.status.idle": "2024-09-27T04:33:58.445703Z",
     "shell.execute_reply": "2024-09-27T04:33:58.444489Z"
    },
    "papermill": {
     "duration": 0.118487,
     "end_time": "2024-09-27T04:33:58.448682",
     "exception": false,
     "start_time": "2024-09-27T04:33:58.330195",
     "status": "completed"
    },
    "tags": []
   },
   "outputs": [],
   "source": [
    "sub_df[['Status_C', 'Status_CL', 'Status_D']] = test_preds\n",
    "sub_df.to_csv('/kaggle/working/sub_vote_0_15_55_3.csv', index=None)"
   ]
  },
  {
   "cell_type": "code",
   "execution_count": 123,
   "id": "7a3f1556",
   "metadata": {
    "execution": {
     "iopub.execute_input": "2024-09-27T04:33:58.575023Z",
     "iopub.status.busy": "2024-09-27T04:33:58.574599Z",
     "iopub.status.idle": "2024-09-27T04:33:58.580716Z",
     "shell.execute_reply": "2024-09-27T04:33:58.579371Z"
    },
    "papermill": {
     "duration": 0.072177,
     "end_time": "2024-09-27T04:33:58.583115",
     "exception": false,
     "start_time": "2024-09-27T04:33:58.510938",
     "status": "completed"
    },
    "tags": []
   },
   "outputs": [],
   "source": [
    "scores['Classifier'].append('Vote Logit(0) RF(1.5) LGBM(5.5) CAT(3)')\n",
    "scores['Train Score'].append(0.21021)\n",
    "scores['Val Score'].append(0.42981)\n",
    "scores['Test Score'].append(0.41253)"
   ]
  },
  {
   "cell_type": "code",
   "execution_count": 124,
   "id": "1ebc0b75",
   "metadata": {
    "execution": {
     "iopub.execute_input": "2024-09-27T04:33:58.709507Z",
     "iopub.status.busy": "2024-09-27T04:33:58.709085Z",
     "iopub.status.idle": "2024-09-27T04:35:42.278361Z",
     "shell.execute_reply": "2024-09-27T04:35:42.276761Z"
    },
    "papermill": {
     "duration": 103.634428,
     "end_time": "2024-09-27T04:35:42.281084",
     "exception": false,
     "start_time": "2024-09-27T04:33:58.646656",
     "status": "completed"
    },
    "tags": []
   },
   "outputs": [
    {
     "name": "stdout",
     "output_type": "stream",
     "text": [
      "Fold 0: train_acc = 0.20926, val_acc = 0.41253\n",
      "Fold 1: train_acc = 0.20257, val_acc = 0.44350\n",
      "Fold 2: train_acc = 0.20946, val_acc = 0.41807\n",
      "Fold 3: train_acc = 0.20632, val_acc = 0.44273\n",
      "Fold 4: train_acc = 0.20796, val_acc = 0.43025\n",
      "Train acc: 0.2071150 ± 0.0025358 | Val acc: 0.4294169 ± 0.0125727\n",
      "CPU times: user 4min 38s, sys: 20.3 s, total: 4min 58s\n",
      "Wall time: 1min 43s\n"
     ]
    }
   ],
   "source": [
    "%%time\n",
    "ests = list()\n",
    "ests.append(('logit', LogisticRegression(**logit_best_params)))\n",
    "ests.append(('rf', RandomForestClassifier(**rf_best_params)))\n",
    "ests.append(('lgbm', LGBMClassifier(**lgbm_best_params)))\n",
    "ests.append(('cat', CatBoostClassifier(**cat_best_params)))\n",
    "\n",
    "weights = [0,0.05,0.6,0.35]\n",
    "\n",
    "clf = VotingClassifier(ests, voting='soft', weights=weights)\n",
    "test_preds, _ = cross_validation(clf, cv, inputs, targets, num_classes=3, \n",
    "                                 need_print=True, test_inputs=test_inputs)"
   ]
  },
  {
   "cell_type": "code",
   "execution_count": 125,
   "id": "8da7ffee",
   "metadata": {
    "execution": {
     "iopub.execute_input": "2024-09-27T04:35:42.407289Z",
     "iopub.status.busy": "2024-09-27T04:35:42.406840Z",
     "iopub.status.idle": "2024-09-27T04:35:42.455392Z",
     "shell.execute_reply": "2024-09-27T04:35:42.454240Z"
    },
    "papermill": {
     "duration": 0.114282,
     "end_time": "2024-09-27T04:35:42.458129",
     "exception": false,
     "start_time": "2024-09-27T04:35:42.343847",
     "status": "completed"
    },
    "tags": []
   },
   "outputs": [],
   "source": [
    "sub_df[['Status_C', 'Status_CL', 'Status_D']] = test_preds\n",
    "sub_df.to_csv('/kaggle/working/sub_vote_0_05_6_35.csv', index=None)"
   ]
  },
  {
   "cell_type": "code",
   "execution_count": 126,
   "id": "f36f9f0b",
   "metadata": {
    "execution": {
     "iopub.execute_input": "2024-09-27T04:35:42.585332Z",
     "iopub.status.busy": "2024-09-27T04:35:42.584868Z",
     "iopub.status.idle": "2024-09-27T04:35:42.591197Z",
     "shell.execute_reply": "2024-09-27T04:35:42.589943Z"
    },
    "papermill": {
     "duration": 0.072814,
     "end_time": "2024-09-27T04:35:42.593654",
     "exception": false,
     "start_time": "2024-09-27T04:35:42.520840",
     "status": "completed"
    },
    "tags": []
   },
   "outputs": [],
   "source": [
    "scores['Classifier'].append('Vote Logit(0) RF(0.5) LGBM(6) CAT(3.5)')\n",
    "scores['Train Score'].append(0.20712)\n",
    "scores['Val Score'].append(0.42942)\n",
    "scores['Test Score'].append(0.41192)"
   ]
  },
  {
   "cell_type": "markdown",
   "id": "ebf1994d",
   "metadata": {
    "papermill": {
     "duration": 0.061927,
     "end_time": "2024-09-27T04:35:42.717123",
     "exception": false,
     "start_time": "2024-09-27T04:35:42.655196",
     "status": "completed"
    },
    "tags": []
   },
   "source": [
    "### Best"
   ]
  },
  {
   "cell_type": "code",
   "execution_count": 127,
   "id": "587423b1",
   "metadata": {
    "execution": {
     "iopub.execute_input": "2024-09-27T04:35:42.841884Z",
     "iopub.status.busy": "2024-09-27T04:35:42.841414Z",
     "iopub.status.idle": "2024-09-27T04:35:42.865451Z",
     "shell.execute_reply": "2024-09-27T04:35:42.864230Z"
    },
    "papermill": {
     "duration": 0.089435,
     "end_time": "2024-09-27T04:35:42.868276",
     "exception": false,
     "start_time": "2024-09-27T04:35:42.778841",
     "status": "completed"
    },
    "tags": []
   },
   "outputs": [
    {
     "data": {
      "text/html": [
       "<style type=\"text/css\">\n",
       "#T_b3307_row0_col1, #T_b3307_row0_col2, #T_b3307_row0_col3, #T_b3307_row1_col1, #T_b3307_row1_col3, #T_b3307_row2_col2 {\n",
       "  background-color: #ff00ff;\n",
       "  color: #f1f1f1;\n",
       "}\n",
       "#T_b3307_row1_col2 {\n",
       "  background-color: #fe01ff;\n",
       "  color: #f1f1f1;\n",
       "}\n",
       "#T_b3307_row2_col1, #T_b3307_row16_col2, #T_b3307_row17_col2, #T_b3307_row17_col3 {\n",
       "  background-color: #00ffff;\n",
       "  color: #000000;\n",
       "}\n",
       "#T_b3307_row2_col3 {\n",
       "  background-color: #56a9ff;\n",
       "  color: #f1f1f1;\n",
       "}\n",
       "#T_b3307_row3_col1 {\n",
       "  background-color: #58a7ff;\n",
       "  color: #f1f1f1;\n",
       "}\n",
       "#T_b3307_row3_col2, #T_b3307_row3_col3, #T_b3307_row13_col1, #T_b3307_row14_col1 {\n",
       "  background-color: #44bbff;\n",
       "  color: #000000;\n",
       "}\n",
       "#T_b3307_row4_col1 {\n",
       "  background-color: #14ebff;\n",
       "  color: #000000;\n",
       "}\n",
       "#T_b3307_row4_col2 {\n",
       "  background-color: #4db2ff;\n",
       "  color: #f1f1f1;\n",
       "}\n",
       "#T_b3307_row4_col3 {\n",
       "  background-color: #1ee1ff;\n",
       "  color: #000000;\n",
       "}\n",
       "#T_b3307_row5_col1 {\n",
       "  background-color: #2ad5ff;\n",
       "  color: #000000;\n",
       "}\n",
       "#T_b3307_row5_col2, #T_b3307_row14_col3 {\n",
       "  background-color: #05faff;\n",
       "  color: #000000;\n",
       "}\n",
       "#T_b3307_row5_col3, #T_b3307_row16_col3 {\n",
       "  background-color: #01feff;\n",
       "  color: #000000;\n",
       "}\n",
       "#T_b3307_row6_col1, #T_b3307_row11_col2, #T_b3307_row12_col2 {\n",
       "  background-color: #20dfff;\n",
       "  color: #000000;\n",
       "}\n",
       "#T_b3307_row6_col2, #T_b3307_row12_col1 {\n",
       "  background-color: #43bcff;\n",
       "  color: #000000;\n",
       "}\n",
       "#T_b3307_row6_col3, #T_b3307_row10_col2 {\n",
       "  background-color: #21deff;\n",
       "  color: #000000;\n",
       "}\n",
       "#T_b3307_row7_col1 {\n",
       "  background-color: #5fa0ff;\n",
       "  color: #f1f1f1;\n",
       "}\n",
       "#T_b3307_row7_col2 {\n",
       "  background-color: #19e6ff;\n",
       "  color: #000000;\n",
       "}\n",
       "#T_b3307_row7_col3 {\n",
       "  background-color: #12edff;\n",
       "  color: #000000;\n",
       "}\n",
       "#T_b3307_row8_col1 {\n",
       "  background-color: #31ceff;\n",
       "  color: #000000;\n",
       "}\n",
       "#T_b3307_row8_col2 {\n",
       "  background-color: #24dbff;\n",
       "  color: #000000;\n",
       "}\n",
       "#T_b3307_row8_col3 {\n",
       "  background-color: #27d8ff;\n",
       "  color: #000000;\n",
       "}\n",
       "#T_b3307_row9_col1 {\n",
       "  background-color: #52adff;\n",
       "  color: #f1f1f1;\n",
       "}\n",
       "#T_b3307_row9_col2 {\n",
       "  background-color: #2dd2ff;\n",
       "  color: #000000;\n",
       "}\n",
       "#T_b3307_row9_col3 {\n",
       "  background-color: #2fd0ff;\n",
       "  color: #000000;\n",
       "}\n",
       "#T_b3307_row10_col1, #T_b3307_row17_col1 {\n",
       "  background-color: #3bc4ff;\n",
       "  color: #000000;\n",
       "}\n",
       "#T_b3307_row10_col3 {\n",
       "  background-color: #2bd4ff;\n",
       "  color: #000000;\n",
       "}\n",
       "#T_b3307_row11_col1 {\n",
       "  background-color: #36c9ff;\n",
       "  color: #000000;\n",
       "}\n",
       "#T_b3307_row11_col3 {\n",
       "  background-color: #26d9ff;\n",
       "  color: #000000;\n",
       "}\n",
       "#T_b3307_row12_col3 {\n",
       "  background-color: #29d6ff;\n",
       "  color: #000000;\n",
       "}\n",
       "#T_b3307_row13_col2, #T_b3307_row15_col2, #T_b3307_row15_col3 {\n",
       "  background-color: #03fcff;\n",
       "  color: #000000;\n",
       "}\n",
       "#T_b3307_row13_col3 {\n",
       "  background-color: #06f9ff;\n",
       "  color: #000000;\n",
       "}\n",
       "#T_b3307_row14_col2 {\n",
       "  background-color: #02fdff;\n",
       "  color: #000000;\n",
       "}\n",
       "#T_b3307_row15_col1 {\n",
       "  background-color: #41beff;\n",
       "  color: #000000;\n",
       "}\n",
       "#T_b3307_row16_col1 {\n",
       "  background-color: #3dc2ff;\n",
       "  color: #000000;\n",
       "}\n",
       "</style>\n",
       "<table id=\"T_b3307\">\n",
       "  <thead>\n",
       "    <tr>\n",
       "      <th class=\"blank level0\" >&nbsp;</th>\n",
       "      <th id=\"T_b3307_level0_col0\" class=\"col_heading level0 col0\" >Classifier</th>\n",
       "      <th id=\"T_b3307_level0_col1\" class=\"col_heading level0 col1\" >Train Score</th>\n",
       "      <th id=\"T_b3307_level0_col2\" class=\"col_heading level0 col2\" >Val Score</th>\n",
       "      <th id=\"T_b3307_level0_col3\" class=\"col_heading level0 col3\" >Test Score</th>\n",
       "    </tr>\n",
       "  </thead>\n",
       "  <tbody>\n",
       "    <tr>\n",
       "      <th id=\"T_b3307_level0_row0\" class=\"row_heading level0 row0\" >0</th>\n",
       "      <td id=\"T_b3307_row0_col0\" class=\"data row0 col0\" >Logit without tuning</td>\n",
       "      <td id=\"T_b3307_row0_col1\" class=\"data row0 col1\" >0.524070</td>\n",
       "      <td id=\"T_b3307_row0_col2\" class=\"data row0 col2\" >0.529440</td>\n",
       "      <td id=\"T_b3307_row0_col3\" class=\"data row0 col3\" >0.510820</td>\n",
       "    </tr>\n",
       "    <tr>\n",
       "      <th id=\"T_b3307_level0_row1\" class=\"row_heading level0 row1\" >1</th>\n",
       "      <td id=\"T_b3307_row1_col0\" class=\"data row1 col0\" >Logit with tuning</td>\n",
       "      <td id=\"T_b3307_row1_col1\" class=\"data row1 col1\" >0.523300</td>\n",
       "      <td id=\"T_b3307_row1_col2\" class=\"data row1 col2\" >0.529340</td>\n",
       "      <td id=\"T_b3307_row1_col3\" class=\"data row1 col3\" >0.510600</td>\n",
       "    </tr>\n",
       "    <tr>\n",
       "      <th id=\"T_b3307_level0_row2\" class=\"row_heading level0 row2\" >2</th>\n",
       "      <td id=\"T_b3307_row2_col0\" class=\"data row2 col0\" >RF without tuning</td>\n",
       "      <td id=\"T_b3307_row2_col1\" class=\"data row2 col1\" >0.111540</td>\n",
       "      <td id=\"T_b3307_row2_col2\" class=\"data row2 col2\" >0.529780</td>\n",
       "      <td id=\"T_b3307_row2_col3\" class=\"data row2 col3\" >0.445210</td>\n",
       "    </tr>\n",
       "    <tr>\n",
       "      <th id=\"T_b3307_level0_row3\" class=\"row_heading level0 row3\" >3</th>\n",
       "      <td id=\"T_b3307_row3_col0\" class=\"data row3 col0\" >RF with tuning</td>\n",
       "      <td id=\"T_b3307_row3_col1\" class=\"data row3 col1\" >0.254290</td>\n",
       "      <td id=\"T_b3307_row3_col2\" class=\"data row3 col2\" >0.456290</td>\n",
       "      <td id=\"T_b3307_row3_col3\" class=\"data row3 col3\" >0.438200</td>\n",
       "    </tr>\n",
       "    <tr>\n",
       "      <th id=\"T_b3307_level0_row4\" class=\"row_heading level0 row4\" >4</th>\n",
       "      <td id=\"T_b3307_row4_col0\" class=\"data row4 col0\" >LGBM without tuning</td>\n",
       "      <td id=\"T_b3307_row4_col1\" class=\"data row4 col1\" >0.144510</td>\n",
       "      <td id=\"T_b3307_row4_col2\" class=\"data row4 col2\" >0.459950</td>\n",
       "      <td id=\"T_b3307_row4_col3\" class=\"data row4 col3\" >0.423710</td>\n",
       "    </tr>\n",
       "    <tr>\n",
       "      <th id=\"T_b3307_level0_row5\" class=\"row_heading level0 row5\" >5</th>\n",
       "      <td id=\"T_b3307_row5_col0\" class=\"data row5 col0\" >LGBM with tuning</td>\n",
       "      <td id=\"T_b3307_row5_col1\" class=\"data row5 col1\" >0.179260</td>\n",
       "      <td id=\"T_b3307_row5_col2\" class=\"data row5 col2\" >0.431680</td>\n",
       "      <td id=\"T_b3307_row5_col3\" class=\"data row5 col3\" >0.412490</td>\n",
       "    </tr>\n",
       "    <tr>\n",
       "      <th id=\"T_b3307_level0_row6\" class=\"row_heading level0 row6\" >6</th>\n",
       "      <td id=\"T_b3307_row6_col0\" class=\"data row6 col0\" >CAT without tuning</td>\n",
       "      <td id=\"T_b3307_row6_col1\" class=\"data row6 col1\" >0.163340</td>\n",
       "      <td id=\"T_b3307_row6_col2\" class=\"data row6 col2\" >0.455840</td>\n",
       "      <td id=\"T_b3307_row6_col3\" class=\"data row6 col3\" >0.425040</td>\n",
       "    </tr>\n",
       "    <tr>\n",
       "      <th id=\"T_b3307_level0_row7\" class=\"row_heading level0 row7\" >7</th>\n",
       "      <td id=\"T_b3307_row7_col0\" class=\"data row7 col0\" >CAT with tuning</td>\n",
       "      <td id=\"T_b3307_row7_col1\" class=\"data row7 col1\" >0.265350</td>\n",
       "      <td id=\"T_b3307_row7_col2\" class=\"data row7 col2\" >0.439500</td>\n",
       "      <td id=\"T_b3307_row7_col3\" class=\"data row7 col3\" >0.419040</td>\n",
       "    </tr>\n",
       "    <tr>\n",
       "      <th id=\"T_b3307_level0_row8\" class=\"row_heading level0 row8\" >8</th>\n",
       "      <td id=\"T_b3307_row8_col0\" class=\"data row8 col0\" >Stack RF LGBM</td>\n",
       "      <td id=\"T_b3307_row8_col1\" class=\"data row8 col1\" >0.190630</td>\n",
       "      <td id=\"T_b3307_row8_col2\" class=\"data row8 col2\" >0.443580</td>\n",
       "      <td id=\"T_b3307_row8_col3\" class=\"data row8 col3\" >0.427080</td>\n",
       "    </tr>\n",
       "    <tr>\n",
       "      <th id=\"T_b3307_level0_row9\" class=\"row_heading level0 row9\" >9</th>\n",
       "      <td id=\"T_b3307_row9_col0\" class=\"data row9 col0\" >Stack RF CAT</td>\n",
       "      <td id=\"T_b3307_row9_col1\" class=\"data row9 col1\" >0.243870</td>\n",
       "      <td id=\"T_b3307_row9_col2\" class=\"data row9 col2\" >0.447120</td>\n",
       "      <td id=\"T_b3307_row9_col3\" class=\"data row9 col3\" >0.430420</td>\n",
       "    </tr>\n",
       "    <tr>\n",
       "      <th id=\"T_b3307_level0_row10\" class=\"row_heading level0 row10\" >10</th>\n",
       "      <td id=\"T_b3307_row10_col0\" class=\"data row10 col0\" >Stack Logit LGBM</td>\n",
       "      <td id=\"T_b3307_row10_col1\" class=\"data row10 col1\" >0.206900</td>\n",
       "      <td id=\"T_b3307_row10_col2\" class=\"data row10 col2\" >0.442600</td>\n",
       "      <td id=\"T_b3307_row10_col3\" class=\"data row10 col3\" >0.428720</td>\n",
       "    </tr>\n",
       "    <tr>\n",
       "      <th id=\"T_b3307_level0_row11\" class=\"row_heading level0 row11\" >11</th>\n",
       "      <td id=\"T_b3307_row11_col0\" class=\"data row11 col0\" >Stack Logit RF LGBM</td>\n",
       "      <td id=\"T_b3307_row11_col1\" class=\"data row11 col1\" >0.199720</td>\n",
       "      <td id=\"T_b3307_row11_col2\" class=\"data row11 col2\" >0.442110</td>\n",
       "      <td id=\"T_b3307_row11_col3\" class=\"data row11 col3\" >0.426930</td>\n",
       "    </tr>\n",
       "    <tr>\n",
       "      <th id=\"T_b3307_level0_row12\" class=\"row_heading level0 row12\" >12</th>\n",
       "      <td id=\"T_b3307_row12_col0\" class=\"data row12 col0\" >Stack Logit LGBM CAT</td>\n",
       "      <td id=\"T_b3307_row12_col1\" class=\"data row12 col1\" >0.220630</td>\n",
       "      <td id=\"T_b3307_row12_col2\" class=\"data row12 col2\" >0.442110</td>\n",
       "      <td id=\"T_b3307_row12_col3\" class=\"data row12 col3\" >0.427940</td>\n",
       "    </tr>\n",
       "    <tr>\n",
       "      <th id=\"T_b3307_level0_row13\" class=\"row_heading level0 row13\" >13</th>\n",
       "      <td id=\"T_b3307_row13_col0\" class=\"data row13 col0\" >Vote Logit(1) RF(1) LGBM(6) CAT(2)</td>\n",
       "      <td id=\"T_b3307_row13_col1\" class=\"data row13 col1\" >0.221760</td>\n",
       "      <td id=\"T_b3307_row13_col2\" class=\"data row13 col2\" >0.430710</td>\n",
       "      <td id=\"T_b3307_row13_col3\" class=\"data row13 col3\" >0.414480</td>\n",
       "    </tr>\n",
       "    <tr>\n",
       "      <th id=\"T_b3307_level0_row14\" class=\"row_heading level0 row14\" >14</th>\n",
       "      <td id=\"T_b3307_row14_col0\" class=\"data row14 col0\" >Vote Logit(0.5) RF(1.5) LGBM(5) CAT(3)</td>\n",
       "      <td id=\"T_b3307_row14_col1\" class=\"data row14 col1\" >0.221620</td>\n",
       "      <td id=\"T_b3307_row14_col2\" class=\"data row14 col2\" >0.430530</td>\n",
       "      <td id=\"T_b3307_row14_col3\" class=\"data row14 col3\" >0.413870</td>\n",
       "    </tr>\n",
       "    <tr>\n",
       "      <th id=\"T_b3307_level0_row15\" class=\"row_heading level0 row15\" >15</th>\n",
       "      <td id=\"T_b3307_row15_col0\" class=\"data row15 col0\" >Vote Logit(0) RF(2) LGBM(4.5) CAT(3.5)</td>\n",
       "      <td id=\"T_b3307_row15_col1\" class=\"data row15 col1\" >0.217710</td>\n",
       "      <td id=\"T_b3307_row15_col2\" class=\"data row15 col2\" >0.430690</td>\n",
       "      <td id=\"T_b3307_row15_col3\" class=\"data row15 col3\" >0.413460</td>\n",
       "    </tr>\n",
       "    <tr>\n",
       "      <th id=\"T_b3307_level0_row16\" class=\"row_heading level0 row16\" >16</th>\n",
       "      <td id=\"T_b3307_row16_col0\" class=\"data row16 col0\" >Vote Logit(0) RF(1.5) LGBM(5.5) CAT(3)</td>\n",
       "      <td id=\"T_b3307_row16_col1\" class=\"data row16 col1\" >0.210210</td>\n",
       "      <td id=\"T_b3307_row16_col2\" class=\"data row16 col2\" >0.429810</td>\n",
       "      <td id=\"T_b3307_row16_col3\" class=\"data row16 col3\" >0.412530</td>\n",
       "    </tr>\n",
       "    <tr>\n",
       "      <th id=\"T_b3307_level0_row17\" class=\"row_heading level0 row17\" >17</th>\n",
       "      <td id=\"T_b3307_row17_col0\" class=\"data row17 col0\" >Vote Logit(0) RF(0.5) LGBM(6) CAT(3.5)</td>\n",
       "      <td id=\"T_b3307_row17_col1\" class=\"data row17 col1\" >0.207120</td>\n",
       "      <td id=\"T_b3307_row17_col2\" class=\"data row17 col2\" >0.429420</td>\n",
       "      <td id=\"T_b3307_row17_col3\" class=\"data row17 col3\" >0.411920</td>\n",
       "    </tr>\n",
       "  </tbody>\n",
       "</table>\n"
      ],
      "text/plain": [
       "<pandas.io.formats.style.Styler at 0x7a26d3e810f0>"
      ]
     },
     "execution_count": 127,
     "metadata": {},
     "output_type": "execute_result"
    }
   ],
   "source": [
    "scores_df = pd.DataFrame(scores)\n",
    "scores_df.style.background_gradient(\"cool\")"
   ]
  },
  {
   "cell_type": "code",
   "execution_count": 128,
   "id": "7d364661",
   "metadata": {
    "execution": {
     "iopub.execute_input": "2024-09-27T04:35:42.997395Z",
     "iopub.status.busy": "2024-09-27T04:35:42.996933Z",
     "iopub.status.idle": "2024-09-27T04:35:43.054477Z",
     "shell.execute_reply": "2024-09-27T04:35:43.053407Z"
    },
    "papermill": {
     "duration": 0.126313,
     "end_time": "2024-09-27T04:35:43.057699",
     "exception": false,
     "start_time": "2024-09-27T04:35:42.931386",
     "status": "completed"
    },
    "tags": []
   },
   "outputs": [],
   "source": [
    "sub_df = pd.read_csv('/kaggle/working/sub_vote_0_05_6_35.csv')\n",
    "sub_df.to_csv('/kaggle/working/submission.csv')"
   ]
  }
 ],
 "metadata": {
  "kaggle": {
   "accelerator": "none",
   "dataSources": [
    {
     "databundleVersionId": 7000181,
     "sourceId": 60893,
     "sourceType": "competition"
    },
    {
     "datasetId": 3873965,
     "sourceId": 6724823,
     "sourceType": "datasetVersion"
    }
   ],
   "dockerImageVersionId": 30775,
   "isGpuEnabled": false,
   "isInternetEnabled": true,
   "language": "python",
   "sourceType": "notebook"
  },
  "kernelspec": {
   "display_name": "Python 3",
   "language": "python",
   "name": "python3"
  },
  "language_info": {
   "codemirror_mode": {
    "name": "ipython",
    "version": 3
   },
   "file_extension": ".py",
   "mimetype": "text/x-python",
   "name": "python",
   "nbconvert_exporter": "python",
   "pygments_lexer": "ipython3",
   "version": "3.10.14"
  },
  "papermill": {
   "default_parameters": {},
   "duration": 2111.886924,
   "end_time": "2024-09-27T04:35:45.745733",
   "environment_variables": {},
   "exception": null,
   "input_path": "__notebook__.ipynb",
   "output_path": "__notebook__.ipynb",
   "parameters": {},
   "start_time": "2024-09-27T04:00:33.858809",
   "version": "2.6.0"
  }
 },
 "nbformat": 4,
 "nbformat_minor": 5
}
