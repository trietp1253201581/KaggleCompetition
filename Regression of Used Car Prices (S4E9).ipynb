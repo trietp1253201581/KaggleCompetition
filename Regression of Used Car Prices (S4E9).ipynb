{
 "cells": [
  {
   "cell_type": "markdown",
   "id": "ed14600e",
   "metadata": {
    "papermill": {
     "duration": 0.027366,
     "end_time": "2024-09-04T10:17:50.576551",
     "exception": false,
     "start_time": "2024-09-04T10:17:50.549185",
     "status": "completed"
    },
    "tags": []
   },
   "source": [
    "# Regression of Used Car Prices"
   ]
  },
  {
   "cell_type": "markdown",
   "id": "f2bcb282",
   "metadata": {
    "papermill": {
     "duration": 0.028636,
     "end_time": "2024-09-04T10:17:50.631877",
     "exception": false,
     "start_time": "2024-09-04T10:17:50.603241",
     "status": "completed"
    },
    "tags": []
   },
   "source": [
    "## Import library and read data"
   ]
  },
  {
   "cell_type": "code",
   "execution_count": 1,
   "id": "8eb2fb8c",
   "metadata": {
    "execution": {
     "iopub.execute_input": "2024-09-04T10:17:50.686408Z",
     "iopub.status.busy": "2024-09-04T10:17:50.685950Z",
     "iopub.status.idle": "2024-09-04T10:17:55.239697Z",
     "shell.execute_reply": "2024-09-04T10:17:55.238360Z"
    },
    "papermill": {
     "duration": 4.584213,
     "end_time": "2024-09-04T10:17:55.242919",
     "exception": false,
     "start_time": "2024-09-04T10:17:50.658706",
     "status": "completed"
    },
    "tags": []
   },
   "outputs": [],
   "source": [
    "import pandas as pd\n",
    "import numpy as np\n",
    "\n",
    "from sklearn.preprocessing import OneHotEncoder, OrdinalEncoder, MinMaxScaler, StandardScaler\n",
    "from sklearn.impute import SimpleImputer\n",
    "\n",
    "from sklearn.metrics import mean_squared_error\n",
    "\n",
    "from sklearn.model_selection import GridSearchCV, train_test_split, StratifiedKFold, cross_val_score, RandomizedSearchCV\n",
    "from sklearn.feature_selection import mutual_info_classif\n",
    "\n",
    "from sklearn.pipeline import make_pipeline, Pipeline\n",
    "from sklearn.compose import ColumnTransformer\n",
    "\n",
    "from sklearn.linear_model import LinearRegression, Ridge\n",
    "from sklearn.tree import DecisionTreeRegressor\n",
    "from sklearn.ensemble import RandomForestRegressor, GradientBoostingRegressor\n",
    "from xgboost import XGBRegressor\n",
    "from lightgbm import LGBMRegressor\n",
    "from catboost import CatBoostRegressor\n",
    "\n",
    "from scipy.stats import loguniform, uniform\n",
    "\n",
    "import warnings\n",
    "warnings.simplefilter(action='ignore', category=FutureWarning)\n",
    "\n",
    "import matplotlib.pyplot as plt\n",
    "import seaborn as sns\n",
    "%matplotlib inline"
   ]
  },
  {
   "cell_type": "code",
   "execution_count": 2,
   "id": "f947bc66",
   "metadata": {
    "execution": {
     "iopub.execute_input": "2024-09-04T10:17:55.297876Z",
     "iopub.status.busy": "2024-09-04T10:17:55.297259Z",
     "iopub.status.idle": "2024-09-04T10:17:56.777519Z",
     "shell.execute_reply": "2024-09-04T10:17:56.776172Z"
    },
    "papermill": {
     "duration": 1.510249,
     "end_time": "2024-09-04T10:17:56.780408",
     "exception": false,
     "start_time": "2024-09-04T10:17:55.270159",
     "status": "completed"
    },
    "tags": []
   },
   "outputs": [],
   "source": [
    "data_dir = '/kaggle/input/playground-series-s4e9/'\n",
    "raw_df = pd.read_csv(data_dir + 'train.csv')\n",
    "test_df = pd.read_csv(data_dir + 'test.csv')\n",
    "sub_df = pd.read_csv(data_dir + 'sample_submission.csv')\n",
    "\n",
    "original_data_dir = '/kaggle/input/used-car-price-prediction-dataset/'\n",
    "original_df = pd.read_csv(original_data_dir + 'used_cars.csv')"
   ]
  },
  {
   "cell_type": "code",
   "execution_count": 3,
   "id": "0bec45f0",
   "metadata": {
    "execution": {
     "iopub.execute_input": "2024-09-04T10:17:56.834682Z",
     "iopub.status.busy": "2024-09-04T10:17:56.833999Z",
     "iopub.status.idle": "2024-09-04T10:17:56.868497Z",
     "shell.execute_reply": "2024-09-04T10:17:56.867034Z"
    },
    "papermill": {
     "duration": 0.064645,
     "end_time": "2024-09-04T10:17:56.871554",
     "exception": false,
     "start_time": "2024-09-04T10:17:56.806909",
     "status": "completed"
    },
    "tags": []
   },
   "outputs": [
    {
     "data": {
      "text/html": [
       "<div>\n",
       "<style scoped>\n",
       "    .dataframe tbody tr th:only-of-type {\n",
       "        vertical-align: middle;\n",
       "    }\n",
       "\n",
       "    .dataframe tbody tr th {\n",
       "        vertical-align: top;\n",
       "    }\n",
       "\n",
       "    .dataframe thead th {\n",
       "        text-align: right;\n",
       "    }\n",
       "</style>\n",
       "<table border=\"1\" class=\"dataframe\">\n",
       "  <thead>\n",
       "    <tr style=\"text-align: right;\">\n",
       "      <th></th>\n",
       "      <th>id</th>\n",
       "      <th>brand</th>\n",
       "      <th>model</th>\n",
       "      <th>model_year</th>\n",
       "      <th>milage</th>\n",
       "      <th>fuel_type</th>\n",
       "      <th>engine</th>\n",
       "      <th>transmission</th>\n",
       "      <th>ext_col</th>\n",
       "      <th>int_col</th>\n",
       "      <th>accident</th>\n",
       "      <th>clean_title</th>\n",
       "      <th>price</th>\n",
       "    </tr>\n",
       "  </thead>\n",
       "  <tbody>\n",
       "    <tr>\n",
       "      <th>0</th>\n",
       "      <td>0</td>\n",
       "      <td>MINI</td>\n",
       "      <td>Cooper S Base</td>\n",
       "      <td>2007</td>\n",
       "      <td>213000</td>\n",
       "      <td>Gasoline</td>\n",
       "      <td>172.0HP 1.6L 4 Cylinder Engine Gasoline Fuel</td>\n",
       "      <td>A/T</td>\n",
       "      <td>Yellow</td>\n",
       "      <td>Gray</td>\n",
       "      <td>None reported</td>\n",
       "      <td>Yes</td>\n",
       "      <td>4200</td>\n",
       "    </tr>\n",
       "    <tr>\n",
       "      <th>1</th>\n",
       "      <td>1</td>\n",
       "      <td>Lincoln</td>\n",
       "      <td>LS V8</td>\n",
       "      <td>2002</td>\n",
       "      <td>143250</td>\n",
       "      <td>Gasoline</td>\n",
       "      <td>252.0HP 3.9L 8 Cylinder Engine Gasoline Fuel</td>\n",
       "      <td>A/T</td>\n",
       "      <td>Silver</td>\n",
       "      <td>Beige</td>\n",
       "      <td>At least 1 accident or damage reported</td>\n",
       "      <td>Yes</td>\n",
       "      <td>4999</td>\n",
       "    </tr>\n",
       "    <tr>\n",
       "      <th>2</th>\n",
       "      <td>2</td>\n",
       "      <td>Chevrolet</td>\n",
       "      <td>Silverado 2500 LT</td>\n",
       "      <td>2002</td>\n",
       "      <td>136731</td>\n",
       "      <td>E85 Flex Fuel</td>\n",
       "      <td>320.0HP 5.3L 8 Cylinder Engine Flex Fuel Capab...</td>\n",
       "      <td>A/T</td>\n",
       "      <td>Blue</td>\n",
       "      <td>Gray</td>\n",
       "      <td>None reported</td>\n",
       "      <td>Yes</td>\n",
       "      <td>13900</td>\n",
       "    </tr>\n",
       "    <tr>\n",
       "      <th>3</th>\n",
       "      <td>3</td>\n",
       "      <td>Genesis</td>\n",
       "      <td>G90 5.0 Ultimate</td>\n",
       "      <td>2017</td>\n",
       "      <td>19500</td>\n",
       "      <td>Gasoline</td>\n",
       "      <td>420.0HP 5.0L 8 Cylinder Engine Gasoline Fuel</td>\n",
       "      <td>Transmission w/Dual Shift Mode</td>\n",
       "      <td>Black</td>\n",
       "      <td>Black</td>\n",
       "      <td>None reported</td>\n",
       "      <td>Yes</td>\n",
       "      <td>45000</td>\n",
       "    </tr>\n",
       "    <tr>\n",
       "      <th>4</th>\n",
       "      <td>4</td>\n",
       "      <td>Mercedes-Benz</td>\n",
       "      <td>Metris Base</td>\n",
       "      <td>2021</td>\n",
       "      <td>7388</td>\n",
       "      <td>Gasoline</td>\n",
       "      <td>208.0HP 2.0L 4 Cylinder Engine Gasoline Fuel</td>\n",
       "      <td>7-Speed A/T</td>\n",
       "      <td>Black</td>\n",
       "      <td>Beige</td>\n",
       "      <td>None reported</td>\n",
       "      <td>Yes</td>\n",
       "      <td>97500</td>\n",
       "    </tr>\n",
       "  </tbody>\n",
       "</table>\n",
       "</div>"
      ],
      "text/plain": [
       "   id          brand              model  model_year  milage      fuel_type  \\\n",
       "0   0           MINI      Cooper S Base        2007  213000       Gasoline   \n",
       "1   1        Lincoln              LS V8        2002  143250       Gasoline   \n",
       "2   2      Chevrolet  Silverado 2500 LT        2002  136731  E85 Flex Fuel   \n",
       "3   3        Genesis   G90 5.0 Ultimate        2017   19500       Gasoline   \n",
       "4   4  Mercedes-Benz        Metris Base        2021    7388       Gasoline   \n",
       "\n",
       "                                              engine  \\\n",
       "0       172.0HP 1.6L 4 Cylinder Engine Gasoline Fuel   \n",
       "1       252.0HP 3.9L 8 Cylinder Engine Gasoline Fuel   \n",
       "2  320.0HP 5.3L 8 Cylinder Engine Flex Fuel Capab...   \n",
       "3       420.0HP 5.0L 8 Cylinder Engine Gasoline Fuel   \n",
       "4       208.0HP 2.0L 4 Cylinder Engine Gasoline Fuel   \n",
       "\n",
       "                     transmission ext_col int_col  \\\n",
       "0                             A/T  Yellow    Gray   \n",
       "1                             A/T  Silver   Beige   \n",
       "2                             A/T    Blue    Gray   \n",
       "3  Transmission w/Dual Shift Mode   Black   Black   \n",
       "4                     7-Speed A/T   Black   Beige   \n",
       "\n",
       "                                 accident clean_title  price  \n",
       "0                           None reported         Yes   4200  \n",
       "1  At least 1 accident or damage reported         Yes   4999  \n",
       "2                           None reported         Yes  13900  \n",
       "3                           None reported         Yes  45000  \n",
       "4                           None reported         Yes  97500  "
      ]
     },
     "execution_count": 3,
     "metadata": {},
     "output_type": "execute_result"
    }
   ],
   "source": [
    "raw_df.head()"
   ]
  },
  {
   "cell_type": "code",
   "execution_count": 4,
   "id": "04c82c94",
   "metadata": {
    "execution": {
     "iopub.execute_input": "2024-09-04T10:17:56.935684Z",
     "iopub.status.busy": "2024-09-04T10:17:56.935197Z",
     "iopub.status.idle": "2024-09-04T10:17:57.047356Z",
     "shell.execute_reply": "2024-09-04T10:17:57.046228Z"
    },
    "papermill": {
     "duration": 0.145744,
     "end_time": "2024-09-04T10:17:57.049993",
     "exception": false,
     "start_time": "2024-09-04T10:17:56.904249",
     "status": "completed"
    },
    "tags": []
   },
   "outputs": [
    {
     "data": {
      "text/plain": [
       "id                  0\n",
       "brand               0\n",
       "model               0\n",
       "model_year          0\n",
       "milage              0\n",
       "fuel_type        5083\n",
       "engine              0\n",
       "transmission        0\n",
       "ext_col             0\n",
       "int_col             0\n",
       "accident         2452\n",
       "clean_title     21419\n",
       "price               0\n",
       "dtype: int64"
      ]
     },
     "execution_count": 4,
     "metadata": {},
     "output_type": "execute_result"
    }
   ],
   "source": [
    "raw_df.isna().sum()"
   ]
  },
  {
   "cell_type": "code",
   "execution_count": 5,
   "id": "f7523812",
   "metadata": {
    "execution": {
     "iopub.execute_input": "2024-09-04T10:17:57.105400Z",
     "iopub.status.busy": "2024-09-04T10:17:57.104943Z",
     "iopub.status.idle": "2024-09-04T10:17:57.113088Z",
     "shell.execute_reply": "2024-09-04T10:17:57.111932Z"
    },
    "papermill": {
     "duration": 0.038938,
     "end_time": "2024-09-04T10:17:57.115503",
     "exception": false,
     "start_time": "2024-09-04T10:17:57.076565",
     "status": "completed"
    },
    "tags": []
   },
   "outputs": [],
   "source": [
    "def draw_numeric_features(data, x=None, y=None, overlap=None):\n",
    "    plt.figure(figsize=(30,10))\n",
    "    plt.grid()\n",
    "    sns.lineplot(data, x=x, y=y)\n",
    "    if overlap is not None:\n",
    "        for plot in overlap:\n",
    "            sns.lineplot(data=plot[0], x=plot[1], y=plot[2])\n",
    "\n",
    "def view_avg_of_each(cat_features: str, target: str):\n",
    "    d = dict()\n",
    "    cols = raw_df[cat_features].unique()\n",
    "    for x in cols:\n",
    "        d[x] = raw_df[raw_df[cat_features]==x][target].mean()\n",
    "    return pd.Series(d, index=cols)"
   ]
  },
  {
   "cell_type": "code",
   "execution_count": 6,
   "id": "17230fd1",
   "metadata": {
    "execution": {
     "iopub.execute_input": "2024-09-04T10:17:57.172302Z",
     "iopub.status.busy": "2024-09-04T10:17:57.171726Z",
     "iopub.status.idle": "2024-09-04T10:17:57.202349Z",
     "shell.execute_reply": "2024-09-04T10:17:57.200165Z"
    },
    "papermill": {
     "duration": 0.062828,
     "end_time": "2024-09-04T10:17:57.205356",
     "exception": false,
     "start_time": "2024-09-04T10:17:57.142528",
     "status": "completed"
    },
    "tags": []
   },
   "outputs": [
    {
     "data": {
      "text/plain": [
       "count    1.885330e+05\n",
       "mean     4.387802e+04\n",
       "std      7.881952e+04\n",
       "min      2.000000e+03\n",
       "25%      1.700000e+04\n",
       "50%      3.082500e+04\n",
       "75%      4.990000e+04\n",
       "max      2.954083e+06\n",
       "Name: price, dtype: float64"
      ]
     },
     "execution_count": 6,
     "metadata": {},
     "output_type": "execute_result"
    }
   ],
   "source": [
    "raw_df['price'].describe()"
   ]
  },
  {
   "cell_type": "code",
   "execution_count": 7,
   "id": "0adc5da2",
   "metadata": {
    "execution": {
     "iopub.execute_input": "2024-09-04T10:17:57.264947Z",
     "iopub.status.busy": "2024-09-04T10:17:57.263744Z",
     "iopub.status.idle": "2024-09-04T10:17:57.620863Z",
     "shell.execute_reply": "2024-09-04T10:17:57.619559Z"
    },
    "papermill": {
     "duration": 0.387601,
     "end_time": "2024-09-04T10:17:57.623336",
     "exception": false,
     "start_time": "2024-09-04T10:17:57.235735",
     "status": "completed"
    },
    "tags": []
   },
   "outputs": [
    {
     "data": {
      "image/png": "[encoded data removed]",
      "text/plain": [
       "<Figure size 1200x800 with 1 Axes>"
      ]
     },
     "metadata": {},
     "output_type": "display_data"
    }
   ],
   "source": [
    "plt.figure(figsize=(12,8))\n",
    "plt.hist(raw_df['price'], bins=20);"
   ]
  },
  {
   "cell_type": "code",
   "execution_count": 8,
   "id": "45e4729f",
   "metadata": {
    "execution": {
     "iopub.execute_input": "2024-09-04T10:17:57.682014Z",
     "iopub.status.busy": "2024-09-04T10:17:57.681560Z",
     "iopub.status.idle": "2024-09-04T10:17:57.687174Z",
     "shell.execute_reply": "2024-09-04T10:17:57.685924Z"
    },
    "papermill": {
     "duration": 0.036883,
     "end_time": "2024-09-04T10:17:57.689772",
     "exception": false,
     "start_time": "2024-09-04T10:17:57.652889",
     "status": "completed"
    },
    "tags": []
   },
   "outputs": [],
   "source": [
    "numeric_features = []\n",
    "categorical_features = []\n",
    "original_features = raw_df.columns.tolist()"
   ]
  },
  {
   "cell_type": "markdown",
   "id": "c38c04ca",
   "metadata": {
    "papermill": {
     "duration": 0.026562,
     "end_time": "2024-09-04T10:17:57.743665",
     "exception": false,
     "start_time": "2024-09-04T10:17:57.717103",
     "status": "completed"
    },
    "tags": []
   },
   "source": [
    "## EDA & Feature Engineering"
   ]
  },
  {
   "cell_type": "code",
   "execution_count": 9,
   "id": "763b84a9",
   "metadata": {
    "execution": {
     "iopub.execute_input": "2024-09-04T10:17:57.851717Z",
     "iopub.status.busy": "2024-09-04T10:17:57.851277Z",
     "iopub.status.idle": "2024-09-04T10:17:57.856264Z",
     "shell.execute_reply": "2024-09-04T10:17:57.855099Z"
    },
    "papermill": {
     "duration": 0.088519,
     "end_time": "2024-09-04T10:17:57.858624",
     "exception": false,
     "start_time": "2024-09-04T10:17:57.770105",
     "status": "completed"
    },
    "tags": []
   },
   "outputs": [],
   "source": [
    "# Threshold to classify which values is noise\n",
    "min_threshold = 100"
   ]
  },
  {
   "cell_type": "markdown",
   "id": "669abc50",
   "metadata": {
    "papermill": {
     "duration": 0.02773,
     "end_time": "2024-09-04T10:17:57.912902",
     "exception": false,
     "start_time": "2024-09-04T10:17:57.885172",
     "status": "completed"
    },
    "tags": []
   },
   "source": [
    "### Brand"
   ]
  },
  {
   "cell_type": "code",
   "execution_count": 10,
   "id": "363ddc79",
   "metadata": {
    "execution": {
     "iopub.execute_input": "2024-09-04T10:17:57.967991Z",
     "iopub.status.busy": "2024-09-04T10:17:57.967524Z",
     "iopub.status.idle": "2024-09-04T10:17:57.990804Z",
     "shell.execute_reply": "2024-09-04T10:17:57.989324Z"
    },
    "papermill": {
     "duration": 0.054387,
     "end_time": "2024-09-04T10:17:57.993700",
     "exception": false,
     "start_time": "2024-09-04T10:17:57.939313",
     "status": "completed"
    },
    "tags": []
   },
   "outputs": [
    {
     "data": {
      "text/plain": [
       "57"
      ]
     },
     "execution_count": 10,
     "metadata": {},
     "output_type": "execute_result"
    }
   ],
   "source": [
    "len(raw_df['brand'].unique())"
   ]
  },
  {
   "cell_type": "code",
   "execution_count": 11,
   "id": "c3573534",
   "metadata": {
    "execution": {
     "iopub.execute_input": "2024-09-04T10:17:58.049861Z",
     "iopub.status.busy": "2024-09-04T10:17:58.049423Z",
     "iopub.status.idle": "2024-09-04T10:17:58.054871Z",
     "shell.execute_reply": "2024-09-04T10:17:58.053685Z"
    },
    "papermill": {
     "duration": 0.035768,
     "end_time": "2024-09-04T10:17:58.057126",
     "exception": false,
     "start_time": "2024-09-04T10:17:58.021358",
     "status": "completed"
    },
    "tags": []
   },
   "outputs": [],
   "source": [
    "categorical_features.append('brand')"
   ]
  },
  {
   "cell_type": "markdown",
   "id": "ca654433",
   "metadata": {
    "papermill": {
     "duration": 0.027225,
     "end_time": "2024-09-04T10:17:58.112106",
     "exception": false,
     "start_time": "2024-09-04T10:17:58.084881",
     "status": "completed"
    },
    "tags": []
   },
   "source": [
    "### Model"
   ]
  },
  {
   "cell_type": "code",
   "execution_count": 12,
   "id": "e56ca23a",
   "metadata": {
    "execution": {
     "iopub.execute_input": "2024-09-04T10:17:58.169506Z",
     "iopub.status.busy": "2024-09-04T10:17:58.169000Z",
     "iopub.status.idle": "2024-09-04T10:17:58.194064Z",
     "shell.execute_reply": "2024-09-04T10:17:58.192833Z"
    },
    "papermill": {
     "duration": 0.057493,
     "end_time": "2024-09-04T10:17:58.196750",
     "exception": false,
     "start_time": "2024-09-04T10:17:58.139257",
     "status": "completed"
    },
    "tags": []
   },
   "outputs": [
    {
     "data": {
      "text/plain": [
       "1897"
      ]
     },
     "execution_count": 12,
     "metadata": {},
     "output_type": "execute_result"
    }
   ],
   "source": [
    "len(raw_df['model'].unique())"
   ]
  },
  {
   "cell_type": "code",
   "execution_count": 13,
   "id": "27838e4a",
   "metadata": {
    "execution": {
     "iopub.execute_input": "2024-09-04T10:17:58.252471Z",
     "iopub.status.busy": "2024-09-04T10:17:58.251815Z",
     "iopub.status.idle": "2024-09-04T10:17:58.275716Z",
     "shell.execute_reply": "2024-09-04T10:17:58.274385Z"
    },
    "papermill": {
     "duration": 0.054514,
     "end_time": "2024-09-04T10:17:58.278284",
     "exception": false,
     "start_time": "2024-09-04T10:17:58.223770",
     "status": "completed"
    },
    "tags": []
   },
   "outputs": [
    {
     "data": {
      "text/plain": [
       "1417"
      ]
     },
     "execution_count": 13,
     "metadata": {},
     "output_type": "execute_result"
    }
   ],
   "source": [
    "noise_model = raw_df['model'].value_counts(dropna=False)\n",
    "noise_model = noise_model[noise_model<min_threshold]\n",
    "len(noise_model)"
   ]
  },
  {
   "cell_type": "code",
   "execution_count": 14,
   "id": "2056f3e2",
   "metadata": {
    "execution": {
     "iopub.execute_input": "2024-09-04T10:17:58.334949Z",
     "iopub.status.busy": "2024-09-04T10:17:58.334512Z",
     "iopub.status.idle": "2024-09-04T10:17:59.165550Z",
     "shell.execute_reply": "2024-09-04T10:17:59.164278Z"
    },
    "papermill": {
     "duration": 0.862069,
     "end_time": "2024-09-04T10:17:59.168295",
     "exception": false,
     "start_time": "2024-09-04T10:17:58.306226",
     "status": "completed"
    },
    "tags": []
   },
   "outputs": [],
   "source": [
    "for df in [raw_df, test_df, original_df]:\n",
    "    df['short_model'] = df['model'].apply(lambda x: str(x).split(' ')[0])\n",
    "    df['model'] = df['model'].apply(lambda x: 'noise' if x in noise_model else x)"
   ]
  },
  {
   "cell_type": "code",
   "execution_count": 15,
   "id": "63b8598d",
   "metadata": {
    "execution": {
     "iopub.execute_input": "2024-09-04T10:17:59.225741Z",
     "iopub.status.busy": "2024-09-04T10:17:59.225355Z",
     "iopub.status.idle": "2024-09-04T10:17:59.246856Z",
     "shell.execute_reply": "2024-09-04T10:17:59.245648Z"
    },
    "papermill": {
     "duration": 0.052404,
     "end_time": "2024-09-04T10:17:59.249318",
     "exception": false,
     "start_time": "2024-09-04T10:17:59.196914",
     "status": "completed"
    },
    "tags": []
   },
   "outputs": [
    {
     "data": {
      "text/plain": [
       "517"
      ]
     },
     "execution_count": 15,
     "metadata": {},
     "output_type": "execute_result"
    }
   ],
   "source": [
    "len(raw_df['short_model'].unique())"
   ]
  },
  {
   "cell_type": "code",
   "execution_count": 16,
   "id": "0bb6e880",
   "metadata": {
    "execution": {
     "iopub.execute_input": "2024-09-04T10:17:59.307601Z",
     "iopub.status.busy": "2024-09-04T10:17:59.306734Z",
     "iopub.status.idle": "2024-09-04T10:17:59.312418Z",
     "shell.execute_reply": "2024-09-04T10:17:59.311199Z"
    },
    "papermill": {
     "duration": 0.03736,
     "end_time": "2024-09-04T10:17:59.315116",
     "exception": false,
     "start_time": "2024-09-04T10:17:59.277756",
     "status": "completed"
    },
    "tags": []
   },
   "outputs": [],
   "source": [
    "categorical_features += ['model', 'short_model']"
   ]
  },
  {
   "cell_type": "markdown",
   "id": "90c91987",
   "metadata": {
    "papermill": {
     "duration": 0.028608,
     "end_time": "2024-09-04T10:17:59.370876",
     "exception": false,
     "start_time": "2024-09-04T10:17:59.342268",
     "status": "completed"
    },
    "tags": []
   },
   "source": [
    "### Model year"
   ]
  },
  {
   "cell_type": "code",
   "execution_count": 17,
   "id": "9340d45b",
   "metadata": {
    "execution": {
     "iopub.execute_input": "2024-09-04T10:17:59.428771Z",
     "iopub.status.busy": "2024-09-04T10:17:59.428331Z",
     "iopub.status.idle": "2024-09-04T10:18:02.045530Z",
     "shell.execute_reply": "2024-09-04T10:18:02.044339Z"
    },
    "papermill": {
     "duration": 2.649441,
     "end_time": "2024-09-04T10:18:02.049103",
     "exception": false,
     "start_time": "2024-09-04T10:17:59.399662",
     "status": "completed"
    },
    "tags": []
   },
   "outputs": [
    {
     "data": {
      "image/png": "[encoded data removed]",
      "text/plain": [
       "<Figure size 3000x1000 with 1 Axes>"
      ]
     },
     "metadata": {},
     "output_type": "display_data"
    }
   ],
   "source": [
    "draw_numeric_features(data=raw_df, x='model_year', y='price')"
   ]
  },
  {
   "cell_type": "code",
   "execution_count": 18,
   "id": "0668d993",
   "metadata": {
    "execution": {
     "iopub.execute_input": "2024-09-04T10:18:02.112748Z",
     "iopub.status.busy": "2024-09-04T10:18:02.111947Z",
     "iopub.status.idle": "2024-09-04T10:18:02.121128Z",
     "shell.execute_reply": "2024-09-04T10:18:02.119647Z"
    },
    "papermill": {
     "duration": 0.045086,
     "end_time": "2024-09-04T10:18:02.124007",
     "exception": false,
     "start_time": "2024-09-04T10:18:02.078921",
     "status": "completed"
    },
    "tags": []
   },
   "outputs": [],
   "source": [
    "def get_year_group(x):\n",
    "    if x<=1986:\n",
    "        return 0\n",
    "    if x<=1995:\n",
    "        return 1\n",
    "    if x<=2004:\n",
    "        return 2\n",
    "    if x<=2012:\n",
    "        return 3\n",
    "    if x<=2019:\n",
    "        return 4\n",
    "    if x<=2022:\n",
    "        return 5\n",
    "    return 6\n",
    "\n",
    "def get_assessing_epreciation_percent(x):\n",
    "    if x<=3:\n",
    "        return 6.5 * x\n",
    "    if x<=7:\n",
    "        return 6 * (x - 3) + 6.5 * 3\n",
    "    if x<=10:\n",
    "        return 8.5 * (x-7) + 6 * 4 + 6.5 * 3\n",
    "    return 8.5 * 3 + 6 * 4 + 6.5 * 3 + 0.15 * (x-10)"
   ]
  },
  {
   "cell_type": "code",
   "execution_count": 19,
   "id": "84955f3c",
   "metadata": {
    "execution": {
     "iopub.execute_input": "2024-09-04T10:18:02.188152Z",
     "iopub.status.busy": "2024-09-04T10:18:02.187689Z",
     "iopub.status.idle": "2024-09-04T10:18:02.685867Z",
     "shell.execute_reply": "2024-09-04T10:18:02.684586Z"
    },
    "papermill": {
     "duration": 0.533924,
     "end_time": "2024-09-04T10:18:02.688936",
     "exception": false,
     "start_time": "2024-09-04T10:18:02.155012",
     "status": "completed"
    },
    "tags": []
   },
   "outputs": [],
   "source": [
    "for df in [raw_df, test_df, original_df]:\n",
    "    df['model_year_group'] = df['model_year'].apply(lambda x: get_year_group(x))\n",
    "    df['model_year'] = df['model_year'].apply(lambda x: 2024-x)\n",
    "    df['assessing_epreciation_percent'] = df['model_year'].apply(lambda x: get_assessing_epreciation_percent(x))"
   ]
  },
  {
   "cell_type": "code",
   "execution_count": 20,
   "id": "fe17d8c9",
   "metadata": {
    "execution": {
     "iopub.execute_input": "2024-09-04T10:18:02.751507Z",
     "iopub.status.busy": "2024-09-04T10:18:02.751072Z",
     "iopub.status.idle": "2024-09-04T10:18:02.830249Z",
     "shell.execute_reply": "2024-09-04T10:18:02.829176Z"
    },
    "papermill": {
     "duration": 0.113125,
     "end_time": "2024-09-04T10:18:02.832539",
     "exception": false,
     "start_time": "2024-09-04T10:18:02.719414",
     "status": "completed"
    },
    "tags": []
   },
   "outputs": [
    {
     "data": {
      "text/plain": [
       "3    20153.641926\n",
       "2    17859.240809\n",
       "4    37791.474344\n",
       "5    66676.368290\n",
       "6    95386.817378\n",
       "1    40873.508621\n",
       "0    74124.083333\n",
       "dtype: float64"
      ]
     },
     "execution_count": 20,
     "metadata": {},
     "output_type": "execute_result"
    }
   ],
   "source": [
    "view_avg_of_each('model_year_group','price')"
   ]
  },
  {
   "cell_type": "code",
   "execution_count": 21,
   "id": "de2691e7",
   "metadata": {
    "execution": {
     "iopub.execute_input": "2024-09-04T10:18:02.896629Z",
     "iopub.status.busy": "2024-09-04T10:18:02.895649Z",
     "iopub.status.idle": "2024-09-04T10:18:05.542273Z",
     "shell.execute_reply": "2024-09-04T10:18:05.540841Z"
    },
    "papermill": {
     "duration": 2.684349,
     "end_time": "2024-09-04T10:18:05.546431",
     "exception": false,
     "start_time": "2024-09-04T10:18:02.862082",
     "status": "completed"
    },
    "tags": []
   },
   "outputs": [
    {
     "data": {
      "image/png": "[encoded data removed]",
      "text/plain": [
       "<Figure size 3000x1000 with 1 Axes>"
      ]
     },
     "metadata": {},
     "output_type": "display_data"
    }
   ],
   "source": [
    "draw_numeric_features(data=raw_df, x='assessing_epreciation_percent', y='price')"
   ]
  },
  {
   "cell_type": "code",
   "execution_count": 22,
   "id": "c4dcd410",
   "metadata": {
    "execution": {
     "iopub.execute_input": "2024-09-04T10:18:05.612810Z",
     "iopub.status.busy": "2024-09-04T10:18:05.612420Z",
     "iopub.status.idle": "2024-09-04T10:18:05.617413Z",
     "shell.execute_reply": "2024-09-04T10:18:05.616137Z"
    },
    "papermill": {
     "duration": 0.041268,
     "end_time": "2024-09-04T10:18:05.619684",
     "exception": false,
     "start_time": "2024-09-04T10:18:05.578416",
     "status": "completed"
    },
    "tags": []
   },
   "outputs": [],
   "source": [
    "numeric_features += ['model_year','model_year_group',\n",
    "                     'assessing_epreciation_percent']"
   ]
  },
  {
   "cell_type": "markdown",
   "id": "da5e8cd7",
   "metadata": {
    "papermill": {
     "duration": 0.032243,
     "end_time": "2024-09-04T10:18:05.683247",
     "exception": false,
     "start_time": "2024-09-04T10:18:05.651004",
     "status": "completed"
    },
    "tags": []
   },
   "source": [
    "### Mileage"
   ]
  },
  {
   "cell_type": "code",
   "execution_count": 23,
   "id": "187ae474",
   "metadata": {
    "execution": {
     "iopub.execute_input": "2024-09-04T10:18:05.747478Z",
     "iopub.status.busy": "2024-09-04T10:18:05.747075Z",
     "iopub.status.idle": "2024-09-04T10:19:30.491736Z",
     "shell.execute_reply": "2024-09-04T10:19:30.490502Z"
    },
    "papermill": {
     "duration": 84.812632,
     "end_time": "2024-09-04T10:19:30.527183",
     "exception": false,
     "start_time": "2024-09-04T10:18:05.714551",
     "status": "completed"
    },
    "tags": []
   },
   "outputs": [
    {
     "data": {
      "image/png": "[encoded data removed]",
      "text/plain": [
       "<Figure size 3000x1000 with 1 Axes>"
      ]
     },
     "metadata": {},
     "output_type": "display_data"
    }
   ],
   "source": [
    "draw_numeric_features(data=raw_df, x='milage', y='price')"
   ]
  },
  {
   "cell_type": "code",
   "execution_count": 24,
   "id": "3a60741e",
   "metadata": {
    "execution": {
     "iopub.execute_input": "2024-09-04T10:19:30.595388Z",
     "iopub.status.busy": "2024-09-04T10:19:30.594910Z",
     "iopub.status.idle": "2024-09-04T10:19:30.608902Z",
     "shell.execute_reply": "2024-09-04T10:19:30.607693Z"
    },
    "papermill": {
     "duration": 0.050922,
     "end_time": "2024-09-04T10:19:30.611289",
     "exception": false,
     "start_time": "2024-09-04T10:19:30.560367",
     "status": "completed"
    },
    "tags": []
   },
   "outputs": [],
   "source": [
    "def help_change_milage(x):\n",
    "    milage_str = str(x).split(' ')[0]\n",
    "    milage_lst = milage_str.split(',')\n",
    "    if len(milage_lst) >= 2:\n",
    "        return int(milage_lst[0]) * 1000 + int(milage_lst[1])\n",
    "    return int(milage_lst[0])\n",
    "original_df['milage'] = original_df['milage'].apply(lambda x: help_change_milage(x))"
   ]
  },
  {
   "cell_type": "code",
   "execution_count": 25,
   "id": "0e500d20",
   "metadata": {
    "execution": {
     "iopub.execute_input": "2024-09-04T10:19:30.679852Z",
     "iopub.status.busy": "2024-09-04T10:19:30.679371Z",
     "iopub.status.idle": "2024-09-04T10:19:30.685424Z",
     "shell.execute_reply": "2024-09-04T10:19:30.684181Z"
    },
    "papermill": {
     "duration": 0.043599,
     "end_time": "2024-09-04T10:19:30.687874",
     "exception": false,
     "start_time": "2024-09-04T10:19:30.644275",
     "status": "completed"
    },
    "tags": []
   },
   "outputs": [],
   "source": [
    "def get_milage_group(x):\n",
    "    if x<=20000:\n",
    "        return 4\n",
    "    if x<=70000:\n",
    "        return 3\n",
    "    if x<=120000:\n",
    "        return 2\n",
    "    if x<=190000:\n",
    "        return 1\n",
    "    return 0"
   ]
  },
  {
   "cell_type": "code",
   "execution_count": 26,
   "id": "5f022e4c",
   "metadata": {
    "execution": {
     "iopub.execute_input": "2024-09-04T10:19:30.756654Z",
     "iopub.status.busy": "2024-09-04T10:19:30.756213Z",
     "iopub.status.idle": "2024-09-04T10:19:30.931915Z",
     "shell.execute_reply": "2024-09-04T10:19:30.930683Z"
    },
    "papermill": {
     "duration": 0.213923,
     "end_time": "2024-09-04T10:19:30.934488",
     "exception": false,
     "start_time": "2024-09-04T10:19:30.720565",
     "status": "completed"
    },
    "tags": []
   },
   "outputs": [],
   "source": [
    "for df in [raw_df, test_df, original_df]:\n",
    "    df['milage_group'] = df['milage'].apply(lambda x: get_milage_group(x))"
   ]
  },
  {
   "cell_type": "code",
   "execution_count": 27,
   "id": "e2cfe060",
   "metadata": {
    "execution": {
     "iopub.execute_input": "2024-09-04T10:19:31.004280Z",
     "iopub.status.busy": "2024-09-04T10:19:31.003845Z",
     "iopub.status.idle": "2024-09-04T10:19:31.076841Z",
     "shell.execute_reply": "2024-09-04T10:19:31.075084Z"
    },
    "papermill": {
     "duration": 0.112039,
     "end_time": "2024-09-04T10:19:31.079648",
     "exception": false,
     "start_time": "2024-09-04T10:19:30.967609",
     "status": "completed"
    },
    "tags": []
   },
   "outputs": [
    {
     "data": {
      "text/plain": [
       "0    13805.392821\n",
       "1    14252.966050\n",
       "4    83439.145064\n",
       "3    46213.138404\n",
       "2    24330.013339\n",
       "dtype: float64"
      ]
     },
     "execution_count": 27,
     "metadata": {},
     "output_type": "execute_result"
    }
   ],
   "source": [
    "view_avg_of_each('milage_group','price')"
   ]
  },
  {
   "cell_type": "code",
   "execution_count": 28,
   "id": "8f872b5b",
   "metadata": {
    "execution": {
     "iopub.execute_input": "2024-09-04T10:19:31.161520Z",
     "iopub.status.busy": "2024-09-04T10:19:31.161080Z",
     "iopub.status.idle": "2024-09-04T10:19:31.166969Z",
     "shell.execute_reply": "2024-09-04T10:19:31.165516Z"
    },
    "papermill": {
     "duration": 0.051878,
     "end_time": "2024-09-04T10:19:31.169511",
     "exception": false,
     "start_time": "2024-09-04T10:19:31.117633",
     "status": "completed"
    },
    "tags": []
   },
   "outputs": [],
   "source": [
    "numeric_features += ['milage','milage_group']"
   ]
  },
  {
   "cell_type": "markdown",
   "id": "2d2e4da9",
   "metadata": {
    "papermill": {
     "duration": 0.034442,
     "end_time": "2024-09-04T10:19:31.239556",
     "exception": false,
     "start_time": "2024-09-04T10:19:31.205114",
     "status": "completed"
    },
    "tags": []
   },
   "source": [
    "### Fuel Type"
   ]
  },
  {
   "cell_type": "code",
   "execution_count": 29,
   "id": "8ef15ce5",
   "metadata": {
    "execution": {
     "iopub.execute_input": "2024-09-04T10:19:31.311642Z",
     "iopub.status.busy": "2024-09-04T10:19:31.311218Z",
     "iopub.status.idle": "2024-09-04T10:19:31.328298Z",
     "shell.execute_reply": "2024-09-04T10:19:31.327148Z"
    },
    "papermill": {
     "duration": 0.05576,
     "end_time": "2024-09-04T10:19:31.330653",
     "exception": false,
     "start_time": "2024-09-04T10:19:31.274893",
     "status": "completed"
    },
    "tags": []
   },
   "outputs": [
    {
     "data": {
      "text/plain": [
       "fuel_type\n",
       "Gasoline          165940\n",
       "Hybrid              6832\n",
       "E85 Flex Fuel       5406\n",
       "NaN                 5083\n",
       "Diesel              3955\n",
       "–                    781\n",
       "Plug-In Hybrid       521\n",
       "not supported         15\n",
       "Name: count, dtype: int64"
      ]
     },
     "execution_count": 29,
     "metadata": {},
     "output_type": "execute_result"
    }
   ],
   "source": [
    "raw_df['fuel_type'].value_counts(dropna=False)"
   ]
  },
  {
   "cell_type": "code",
   "execution_count": 30,
   "id": "ae7b7bc8",
   "metadata": {
    "execution": {
     "iopub.execute_input": "2024-09-04T10:19:31.403690Z",
     "iopub.status.busy": "2024-09-04T10:19:31.403268Z",
     "iopub.status.idle": "2024-09-04T10:19:31.530378Z",
     "shell.execute_reply": "2024-09-04T10:19:31.529180Z"
    },
    "papermill": {
     "duration": 0.165956,
     "end_time": "2024-09-04T10:19:31.533344",
     "exception": false,
     "start_time": "2024-09-04T10:19:31.367388",
     "status": "completed"
    },
    "tags": []
   },
   "outputs": [],
   "source": [
    "for df in [raw_df, test_df, original_df]:\n",
    "    df['fuel_type'] = df['fuel_type'].apply(lambda x: 'rem' if (x==np.nan or str(x)=='nan') else x)"
   ]
  },
  {
   "cell_type": "code",
   "execution_count": 31,
   "id": "d6440185",
   "metadata": {
    "execution": {
     "iopub.execute_input": "2024-09-04T10:19:31.605301Z",
     "iopub.status.busy": "2024-09-04T10:19:31.604861Z",
     "iopub.status.idle": "2024-09-04T10:19:31.804926Z",
     "shell.execute_reply": "2024-09-04T10:19:31.803839Z"
    },
    "papermill": {
     "duration": 0.238188,
     "end_time": "2024-09-04T10:19:31.807331",
     "exception": false,
     "start_time": "2024-09-04T10:19:31.569143",
     "status": "completed"
    },
    "tags": []
   },
   "outputs": [
    {
     "data": {
      "text/plain": [
       "Gasoline          43360.013782\n",
       "E85 Flex Fuel     26729.755457\n",
       "rem               60822.612040\n",
       "Hybrid            55473.451698\n",
       "Diesel            48769.587358\n",
       "Plug-In Hybrid    44150.967370\n",
       "–                 36414.285531\n",
       "not supported     20692.733333\n",
       "dtype: float64"
      ]
     },
     "execution_count": 31,
     "metadata": {},
     "output_type": "execute_result"
    }
   ],
   "source": [
    "view_avg_of_each('fuel_type', 'price')"
   ]
  },
  {
   "cell_type": "code",
   "execution_count": 32,
   "id": "41752163",
   "metadata": {
    "execution": {
     "iopub.execute_input": "2024-09-04T10:19:31.880468Z",
     "iopub.status.busy": "2024-09-04T10:19:31.880020Z",
     "iopub.status.idle": "2024-09-04T10:19:31.885579Z",
     "shell.execute_reply": "2024-09-04T10:19:31.884210Z"
    },
    "papermill": {
     "duration": 0.046964,
     "end_time": "2024-09-04T10:19:31.888257",
     "exception": false,
     "start_time": "2024-09-04T10:19:31.841293",
     "status": "completed"
    },
    "tags": []
   },
   "outputs": [],
   "source": [
    "categorical_features.append('fuel_type')"
   ]
  },
  {
   "cell_type": "markdown",
   "id": "280103ad",
   "metadata": {
    "papermill": {
     "duration": 0.033852,
     "end_time": "2024-09-04T10:19:31.956761",
     "exception": false,
     "start_time": "2024-09-04T10:19:31.922909",
     "status": "completed"
    },
    "tags": []
   },
   "source": [
    "### Engine"
   ]
  },
  {
   "cell_type": "code",
   "execution_count": 33,
   "id": "c69d884b",
   "metadata": {
    "execution": {
     "iopub.execute_input": "2024-09-04T10:19:32.027409Z",
     "iopub.status.busy": "2024-09-04T10:19:32.026997Z",
     "iopub.status.idle": "2024-09-04T10:19:32.045146Z",
     "shell.execute_reply": "2024-09-04T10:19:32.043759Z"
    },
    "papermill": {
     "duration": 0.056819,
     "end_time": "2024-09-04T10:19:32.047764",
     "exception": false,
     "start_time": "2024-09-04T10:19:31.990945",
     "status": "completed"
    },
    "tags": []
   },
   "outputs": [
    {
     "data": {
      "text/plain": [
       "0"
      ]
     },
     "execution_count": 33,
     "metadata": {},
     "output_type": "execute_result"
    }
   ],
   "source": [
    "raw_df['engine'].isna().sum()"
   ]
  },
  {
   "cell_type": "code",
   "execution_count": 34,
   "id": "91cb3c35",
   "metadata": {
    "execution": {
     "iopub.execute_input": "2024-09-04T10:19:32.121083Z",
     "iopub.status.busy": "2024-09-04T10:19:32.120578Z",
     "iopub.status.idle": "2024-09-04T10:19:32.149751Z",
     "shell.execute_reply": "2024-09-04T10:19:32.148403Z"
    },
    "papermill": {
     "duration": 0.068598,
     "end_time": "2024-09-04T10:19:32.152928",
     "exception": false,
     "start_time": "2024-09-04T10:19:32.084330",
     "status": "completed"
    },
    "tags": []
   },
   "outputs": [
    {
     "data": {
      "text/plain": [
       "1117"
      ]
     },
     "execution_count": 34,
     "metadata": {},
     "output_type": "execute_result"
    }
   ],
   "source": [
    "len(raw_df['engine'].unique())"
   ]
  },
  {
   "cell_type": "code",
   "execution_count": 35,
   "id": "75689e8d",
   "metadata": {
    "execution": {
     "iopub.execute_input": "2024-09-04T10:19:32.228275Z",
     "iopub.status.busy": "2024-09-04T10:19:32.227809Z",
     "iopub.status.idle": "2024-09-04T10:19:32.238367Z",
     "shell.execute_reply": "2024-09-04T10:19:32.236352Z"
    },
    "papermill": {
     "duration": 0.050955,
     "end_time": "2024-09-04T10:19:32.241223",
     "exception": false,
     "start_time": "2024-09-04T10:19:32.190268",
     "status": "completed"
    },
    "tags": []
   },
   "outputs": [],
   "source": [
    "def split_engine(x, need_find: str):\n",
    "    result = {'HP':np.nan, 'L':np.nan, 'EngineType': 'rem'}\n",
    "    x_lst = str(x).split(' ')\n",
    "    idx_find = {'HP':-1, 'L':-1, 'EngineType':-1}\n",
    "    for i in range(len(x_lst)):\n",
    "        e = x_lst[i]\n",
    "        if e.find('HP')>=0 and idx_find['HP']==-1:\n",
    "            result['HP'] = e.split('HP')[0]\n",
    "            idx_find['HP'] = i\n",
    "        elif e.find('L')>0 and idx_find['L']==-1:\n",
    "            result['L'] = e.split('L')[0]\n",
    "            idx_find['L'] = i\n",
    "        elif e == 'Liter' and idx_find['L']==-1 and i>=1:\n",
    "            result['L'] = x_lst[i-1]\n",
    "            idx_find['L'] = i\n",
    "        elif e in ['Cylinder', 'SOHC', 'DOHC', 'OHV', 'Electric'] and idx_find['EngineType']==-1:\n",
    "            result['EngineType'] = e\n",
    "            idx_find['EngineType'] = i\n",
    "        else:\n",
    "            continue\n",
    "    return result[need_find]"
   ]
  },
  {
   "cell_type": "code",
   "execution_count": 36,
   "id": "61f2ea2e",
   "metadata": {
    "execution": {
     "iopub.execute_input": "2024-09-04T10:19:32.315759Z",
     "iopub.status.busy": "2024-09-04T10:19:32.315326Z",
     "iopub.status.idle": "2024-09-04T10:19:32.334587Z",
     "shell.execute_reply": "2024-09-04T10:19:32.333329Z"
    },
    "papermill": {
     "duration": 0.058518,
     "end_time": "2024-09-04T10:19:32.336811",
     "exception": false,
     "start_time": "2024-09-04T10:19:32.278293",
     "status": "completed"
    },
    "tags": []
   },
   "outputs": [
    {
     "data": {
      "text/plain": [
       "711"
      ]
     },
     "execution_count": 36,
     "metadata": {},
     "output_type": "execute_result"
    }
   ],
   "source": [
    "noise_engine = raw_df['engine'].value_counts(dropna=False)\n",
    "noise_engine = noise_engine[noise_engine<min_threshold]\n",
    "len(noise_engine)"
   ]
  },
  {
   "cell_type": "code",
   "execution_count": 37,
   "id": "48187dfe",
   "metadata": {
    "execution": {
     "iopub.execute_input": "2024-09-04T10:19:32.414103Z",
     "iopub.status.busy": "2024-09-04T10:19:32.413615Z",
     "iopub.status.idle": "2024-09-04T10:19:38.042910Z",
     "shell.execute_reply": "2024-09-04T10:19:38.041410Z"
    },
    "papermill": {
     "duration": 5.672158,
     "end_time": "2024-09-04T10:19:38.045707",
     "exception": false,
     "start_time": "2024-09-04T10:19:32.373549",
     "status": "completed"
    },
    "tags": []
   },
   "outputs": [],
   "source": [
    "for df in [raw_df, test_df, original_df]:\n",
    "    df['HP'] = df['engine'].apply(lambda x: split_engine(x, 'HP'))\n",
    "    df['HP'] = df['HP'].astype('float32')\n",
    "    df['L'] = df['engine'].apply(lambda x: split_engine(x, 'L'))\n",
    "    df['L'] = df['L'].astype('float32')\n",
    "    df['EngineType'] = df['engine'].apply(lambda x: split_engine(x, 'EngineType'))\n",
    "    df['engine'] = df['engine'].apply(lambda x: 'noise' if x in noise_engine else x)"
   ]
  },
  {
   "cell_type": "code",
   "execution_count": 38,
   "id": "7f2e5690",
   "metadata": {
    "execution": {
     "iopub.execute_input": "2024-09-04T10:19:38.117843Z",
     "iopub.status.busy": "2024-09-04T10:19:38.117358Z",
     "iopub.status.idle": "2024-09-04T10:19:38.154103Z",
     "shell.execute_reply": "2024-09-04T10:19:38.152140Z"
    },
    "papermill": {
     "duration": 0.075476,
     "end_time": "2024-09-04T10:19:38.156789",
     "exception": false,
     "start_time": "2024-09-04T10:19:38.081313",
     "status": "completed"
    },
    "tags": []
   },
   "outputs": [
    {
     "data": {
      "text/plain": [
       "EngineType\n",
       "Cylinder    338.147766\n",
       "DOHC        420.000000\n",
       "Electric    509.035553\n",
       "OHV         600.000000\n",
       "SOHC        200.000000\n",
       "rem         224.112671\n",
       "Name: HP, dtype: float32"
      ]
     },
     "execution_count": 38,
     "metadata": {},
     "output_type": "execute_result"
    }
   ],
   "source": [
    "avg_hp_of_engine_type = raw_df.groupby('EngineType')['HP'].mean()\n",
    "avg_hp_of_engine_type['DOHC']=420\n",
    "avg_hp_of_engine_type['OHV']=600\n",
    "avg_hp_of_engine_type['SOHC']=200\n",
    "avg_hp_of_engine_type"
   ]
  },
  {
   "cell_type": "code",
   "execution_count": 39,
   "id": "7292f728",
   "metadata": {
    "execution": {
     "iopub.execute_input": "2024-09-04T10:19:38.231206Z",
     "iopub.status.busy": "2024-09-04T10:19:38.229948Z",
     "iopub.status.idle": "2024-09-04T10:19:38.262694Z",
     "shell.execute_reply": "2024-09-04T10:19:38.261493Z"
    },
    "papermill": {
     "duration": 0.071722,
     "end_time": "2024-09-04T10:19:38.265591",
     "exception": false,
     "start_time": "2024-09-04T10:19:38.193869",
     "status": "completed"
    },
    "tags": []
   },
   "outputs": [
    {
     "data": {
      "text/plain": [
       "EngineType\n",
       "Cylinder    3.821541\n",
       "DOHC        3.304336\n",
       "Electric    0.845652\n",
       "OHV         5.825235\n",
       "SOHC        3.340857\n",
       "rem         2.998732\n",
       "Name: L, dtype: float32"
      ]
     },
     "execution_count": 39,
     "metadata": {},
     "output_type": "execute_result"
    }
   ],
   "source": [
    "avg_l_of_engine_type = raw_df.groupby('EngineType')['L'].mean()\n",
    "avg_l_of_engine_type"
   ]
  },
  {
   "cell_type": "code",
   "execution_count": 40,
   "id": "2921355d",
   "metadata": {
    "execution": {
     "iopub.execute_input": "2024-09-04T10:19:38.344231Z",
     "iopub.status.busy": "2024-09-04T10:19:38.343748Z",
     "iopub.status.idle": "2024-09-04T10:19:45.617990Z",
     "shell.execute_reply": "2024-09-04T10:19:45.616307Z"
    },
    "papermill": {
     "duration": 7.315801,
     "end_time": "2024-09-04T10:19:45.620862",
     "exception": false,
     "start_time": "2024-09-04T10:19:38.305061",
     "status": "completed"
    },
    "tags": []
   },
   "outputs": [],
   "source": [
    "for df in [raw_df, test_df, original_df]:\n",
    "    df['HP'] = df.apply(lambda x: x['HP'] if x['HP']>=0 else avg_hp_of_engine_type.get(x['EngineType']), axis=1)\n",
    "    df['L'] = df.apply(lambda x: x['L'] if x['L']>=0 else avg_l_of_engine_type.get(x['EngineType']), axis=1)"
   ]
  },
  {
   "cell_type": "code",
   "execution_count": 41,
   "id": "6856518a",
   "metadata": {
    "execution": {
     "iopub.execute_input": "2024-09-04T10:19:45.697798Z",
     "iopub.status.busy": "2024-09-04T10:19:45.697277Z",
     "iopub.status.idle": "2024-09-04T10:19:55.172984Z",
     "shell.execute_reply": "2024-09-04T10:19:55.171546Z"
    },
    "papermill": {
     "duration": 9.517361,
     "end_time": "2024-09-04T10:19:55.177750",
     "exception": false,
     "start_time": "2024-09-04T10:19:45.660389",
     "status": "completed"
    },
    "tags": []
   },
   "outputs": [
    {
     "data": {
      "image/png": "[encoded data removed]",
      "text/plain": [
       "<Figure size 3000x1000 with 1 Axes>"
      ]
     },
     "metadata": {},
     "output_type": "display_data"
    }
   ],
   "source": [
    "draw_numeric_features(raw_df, 'HP', 'price')"
   ]
  },
  {
   "cell_type": "code",
   "execution_count": 42,
   "id": "804b9328",
   "metadata": {
    "execution": {
     "iopub.execute_input": "2024-09-04T10:19:55.260153Z",
     "iopub.status.busy": "2024-09-04T10:19:55.259700Z",
     "iopub.status.idle": "2024-09-04T10:19:55.470697Z",
     "shell.execute_reply": "2024-09-04T10:19:55.469448Z"
    },
    "papermill": {
     "duration": 0.253937,
     "end_time": "2024-09-04T10:19:55.473282",
     "exception": false,
     "start_time": "2024-09-04T10:19:55.219345",
     "status": "completed"
    },
    "tags": []
   },
   "outputs": [
    {
     "data": {
      "text/plain": [
       "Cylinder    38861.091978\n",
       "DOHC        68014.759650\n",
       "Electric    60639.006215\n",
       "OHV         70728.657875\n",
       "rem         53557.271687\n",
       "SOHC        54658.378913\n",
       "dtype: float64"
      ]
     },
     "execution_count": 42,
     "metadata": {},
     "output_type": "execute_result"
    }
   ],
   "source": [
    "view_avg_of_each('EngineType','price')"
   ]
  },
  {
   "cell_type": "code",
   "execution_count": 43,
   "id": "d3bcd3c1",
   "metadata": {
    "execution": {
     "iopub.execute_input": "2024-09-04T10:19:55.553240Z",
     "iopub.status.busy": "2024-09-04T10:19:55.552353Z",
     "iopub.status.idle": "2024-09-04T10:19:55.615000Z",
     "shell.execute_reply": "2024-09-04T10:19:55.613853Z"
    },
    "papermill": {
     "duration": 0.105063,
     "end_time": "2024-09-04T10:19:55.617242",
     "exception": false,
     "start_time": "2024-09-04T10:19:55.512179",
     "status": "completed"
    },
    "tags": []
   },
   "outputs": [
    {
     "data": {
      "text/plain": [
       "(929, 407)"
      ]
     },
     "execution_count": 43,
     "metadata": {},
     "output_type": "execute_result"
    }
   ],
   "source": [
    "len(raw_df[['HP','L','EngineType']].value_counts()), len(raw_df['engine'].value_counts())"
   ]
  },
  {
   "cell_type": "code",
   "execution_count": 44,
   "id": "c1095ef4",
   "metadata": {
    "execution": {
     "iopub.execute_input": "2024-09-04T10:19:55.699911Z",
     "iopub.status.busy": "2024-09-04T10:19:55.699440Z",
     "iopub.status.idle": "2024-09-04T10:19:55.704762Z",
     "shell.execute_reply": "2024-09-04T10:19:55.703649Z"
    },
    "papermill": {
     "duration": 0.050323,
     "end_time": "2024-09-04T10:19:55.707137",
     "exception": false,
     "start_time": "2024-09-04T10:19:55.656814",
     "status": "completed"
    },
    "tags": []
   },
   "outputs": [],
   "source": [
    "numeric_features += ['HP','L']\n",
    "categorical_features += ['engine','EngineType']"
   ]
  },
  {
   "cell_type": "markdown",
   "id": "84e93d5a",
   "metadata": {
    "papermill": {
     "duration": 0.040127,
     "end_time": "2024-09-04T10:19:55.787801",
     "exception": false,
     "start_time": "2024-09-04T10:19:55.747674",
     "status": "completed"
    },
    "tags": []
   },
   "source": [
    "### Transmission"
   ]
  },
  {
   "cell_type": "code",
   "execution_count": 45,
   "id": "f78b48af",
   "metadata": {
    "execution": {
     "iopub.execute_input": "2024-09-04T10:19:55.870035Z",
     "iopub.status.busy": "2024-09-04T10:19:55.869567Z",
     "iopub.status.idle": "2024-09-04T10:19:55.891056Z",
     "shell.execute_reply": "2024-09-04T10:19:55.889689Z"
    },
    "papermill": {
     "duration": 0.064926,
     "end_time": "2024-09-04T10:19:55.893644",
     "exception": false,
     "start_time": "2024-09-04T10:19:55.828718",
     "status": "completed"
    },
    "scrolled": true,
    "tags": []
   },
   "outputs": [
    {
     "data": {
      "text/plain": [
       "52"
      ]
     },
     "execution_count": 45,
     "metadata": {},
     "output_type": "execute_result"
    }
   ],
   "source": [
    "len(raw_df['transmission'].unique())"
   ]
  },
  {
   "cell_type": "code",
   "execution_count": 46,
   "id": "03124d3a",
   "metadata": {
    "execution": {
     "iopub.execute_input": "2024-09-04T10:19:55.974511Z",
     "iopub.status.busy": "2024-09-04T10:19:55.974006Z",
     "iopub.status.idle": "2024-09-04T10:19:55.990607Z",
     "shell.execute_reply": "2024-09-04T10:19:55.989456Z"
    },
    "papermill": {
     "duration": 0.060423,
     "end_time": "2024-09-04T10:19:55.993381",
     "exception": false,
     "start_time": "2024-09-04T10:19:55.932958",
     "status": "completed"
    },
    "tags": []
   },
   "outputs": [
    {
     "data": {
      "text/plain": [
       "22"
      ]
     },
     "execution_count": 46,
     "metadata": {},
     "output_type": "execute_result"
    }
   ],
   "source": [
    "noise_transmission = raw_df['transmission'].value_counts(dropna=False)\n",
    "noise_transmission = noise_transmission[noise_transmission<min_threshold]\n",
    "len(noise_transmission)"
   ]
  },
  {
   "cell_type": "code",
   "execution_count": 47,
   "id": "4db1c196",
   "metadata": {
    "execution": {
     "iopub.execute_input": "2024-09-04T10:19:56.074417Z",
     "iopub.status.busy": "2024-09-04T10:19:56.073940Z",
     "iopub.status.idle": "2024-09-04T10:19:56.772866Z",
     "shell.execute_reply": "2024-09-04T10:19:56.771615Z"
    },
    "papermill": {
     "duration": 0.743073,
     "end_time": "2024-09-04T10:19:56.775783",
     "exception": false,
     "start_time": "2024-09-04T10:19:56.032710",
     "status": "completed"
    },
    "tags": []
   },
   "outputs": [],
   "source": [
    "for df in [raw_df, test_df, original_df]:\n",
    "    df['transmission'] = df['transmission'].apply(lambda x: 'noise' if x in noise_transmission else x)"
   ]
  },
  {
   "cell_type": "code",
   "execution_count": 48,
   "id": "47391c41",
   "metadata": {
    "execution": {
     "iopub.execute_input": "2024-09-04T10:19:56.862888Z",
     "iopub.status.busy": "2024-09-04T10:19:56.862400Z",
     "iopub.status.idle": "2024-09-04T10:19:57.537686Z",
     "shell.execute_reply": "2024-09-04T10:19:57.536456Z"
    },
    "papermill": {
     "duration": 0.72413,
     "end_time": "2024-09-04T10:19:57.540243",
     "exception": false,
     "start_time": "2024-09-04T10:19:56.816113",
     "status": "completed"
    },
    "tags": []
   },
   "outputs": [
    {
     "data": {
      "text/plain": [
       "A/T                                   31711.979140\n",
       "Transmission w/Dual Shift Mode        50201.815580\n",
       "7-Speed A/T                           47123.507371\n",
       "8-Speed A/T                           56442.748656\n",
       "10-Speed Automatic                    63990.058786\n",
       "1-Speed A/T                           57869.525415\n",
       "6-Speed A/T                           25864.659998\n",
       "10-Speed A/T                          58806.705992\n",
       "9-Speed A/T                           58859.512675\n",
       "8-Speed Automatic                     68268.461986\n",
       "9-Speed Automatic                     64636.535914\n",
       "5-Speed A/T                           21194.608952\n",
       "Automatic                             59588.575344\n",
       "7-Speed Automatic with Auto-Shift    123758.630546\n",
       "CVT Transmission                      25586.597990\n",
       "5-Speed M/T                           16330.051889\n",
       "M/T                                   27914.500424\n",
       "6-Speed M/T                           33266.568011\n",
       "6-Speed Automatic                     38884.419436\n",
       "noise                                 78182.928482\n",
       "7-Speed M/T                           82012.397183\n",
       "1-Speed Automatic                     69596.758904\n",
       "Automatic CVT                         38554.188179\n",
       "4-Speed A/T                           16939.915554\n",
       "6-Speed Manual                       113867.298578\n",
       "Transmission Overdrive Switch         27755.397436\n",
       "8-Speed Automatic with Auto-Shift    148894.349727\n",
       "7-Speed Manual                       149622.668874\n",
       "7-Speed Automatic                     60935.162921\n",
       "6-Speed Automatic with Auto-Shift     46053.531532\n",
       "5-Speed Automatic                     50542.679245\n",
       "dtype: float64"
      ]
     },
     "execution_count": 48,
     "metadata": {},
     "output_type": "execute_result"
    }
   ],
   "source": [
    "view_avg_of_each('transmission','price')"
   ]
  },
  {
   "cell_type": "code",
   "execution_count": 49,
   "id": "a36bcf26",
   "metadata": {
    "execution": {
     "iopub.execute_input": "2024-09-04T10:19:57.621353Z",
     "iopub.status.busy": "2024-09-04T10:19:57.620926Z",
     "iopub.status.idle": "2024-09-04T10:19:57.625766Z",
     "shell.execute_reply": "2024-09-04T10:19:57.624707Z"
    },
    "papermill": {
     "duration": 0.048666,
     "end_time": "2024-09-04T10:19:57.628136",
     "exception": false,
     "start_time": "2024-09-04T10:19:57.579470",
     "status": "completed"
    },
    "tags": []
   },
   "outputs": [],
   "source": [
    "categorical_features += ['transmission']"
   ]
  },
  {
   "cell_type": "markdown",
   "id": "e5432627",
   "metadata": {
    "papermill": {
     "duration": 0.039001,
     "end_time": "2024-09-04T10:19:57.707356",
     "exception": false,
     "start_time": "2024-09-04T10:19:57.668355",
     "status": "completed"
    },
    "tags": []
   },
   "source": [
    "### Color"
   ]
  },
  {
   "cell_type": "code",
   "execution_count": 50,
   "id": "a8614308",
   "metadata": {
    "execution": {
     "iopub.execute_input": "2024-09-04T10:19:57.789341Z",
     "iopub.status.busy": "2024-09-04T10:19:57.788888Z",
     "iopub.status.idle": "2024-09-04T10:19:58.027639Z",
     "shell.execute_reply": "2024-09-04T10:19:58.026565Z"
    },
    "papermill": {
     "duration": 0.283051,
     "end_time": "2024-09-04T10:19:58.030300",
     "exception": false,
     "start_time": "2024-09-04T10:19:57.747249",
     "status": "completed"
    },
    "tags": []
   },
   "outputs": [],
   "source": [
    "for df in [raw_df, test_df, original_df]:\n",
    "    df['ext_col'] = df['ext_col'].apply(lambda x: str(x).lower())\n",
    "    df['int_col'] = df['int_col'].apply(lambda x: str(x).lower())"
   ]
  },
  {
   "cell_type": "code",
   "execution_count": 51,
   "id": "d9b860bf",
   "metadata": {
    "execution": {
     "iopub.execute_input": "2024-09-04T10:19:58.111274Z",
     "iopub.status.busy": "2024-09-04T10:19:58.110787Z",
     "iopub.status.idle": "2024-09-04T10:19:58.149693Z",
     "shell.execute_reply": "2024-09-04T10:19:58.148105Z"
    },
    "papermill": {
     "duration": 0.082689,
     "end_time": "2024-09-04T10:19:58.152230",
     "exception": false,
     "start_time": "2024-09-04T10:19:58.069541",
     "status": "completed"
    },
    "tags": []
   },
   "outputs": [
    {
     "data": {
      "text/plain": [
       "(257, 119)"
      ]
     },
     "execution_count": 51,
     "metadata": {},
     "output_type": "execute_result"
    }
   ],
   "source": [
    "noise_ext_col = raw_df['ext_col'].value_counts(dropna=False)\n",
    "noise_ext_col = noise_ext_col[noise_ext_col<min_threshold]\n",
    "\n",
    "noise_int_col = raw_df['int_col'].value_counts(dropna=False)\n",
    "noise_int_col = noise_int_col[noise_int_col<min_threshold]\n",
    "\n",
    "len(noise_ext_col), len(noise_int_col)"
   ]
  },
  {
   "cell_type": "code",
   "execution_count": 52,
   "id": "7e3dd0dd",
   "metadata": {
    "execution": {
     "iopub.execute_input": "2024-09-04T10:19:58.237764Z",
     "iopub.status.busy": "2024-09-04T10:19:58.237358Z",
     "iopub.status.idle": "2024-09-04T10:19:59.602294Z",
     "shell.execute_reply": "2024-09-04T10:19:59.601194Z"
    },
    "papermill": {
     "duration": 1.410987,
     "end_time": "2024-09-04T10:19:59.604963",
     "exception": false,
     "start_time": "2024-09-04T10:19:58.193976",
     "status": "completed"
    },
    "tags": []
   },
   "outputs": [],
   "source": [
    "for df in [raw_df, test_df, original_df]:\n",
    "    df['ext_col'] = df['ext_col'].apply(lambda x: 'noise' if x in noise_ext_col else x)\n",
    "    df['int_col'] = df['int_col'].apply(lambda x: 'noise' if x in noise_int_col else x)"
   ]
  },
  {
   "cell_type": "code",
   "execution_count": 53,
   "id": "a50b44ef",
   "metadata": {
    "execution": {
     "iopub.execute_input": "2024-09-04T10:19:59.687494Z",
     "iopub.status.busy": "2024-09-04T10:19:59.687049Z",
     "iopub.status.idle": "2024-09-04T10:19:59.693533Z",
     "shell.execute_reply": "2024-09-04T10:19:59.691811Z"
    },
    "papermill": {
     "duration": 0.051003,
     "end_time": "2024-09-04T10:19:59.696322",
     "exception": false,
     "start_time": "2024-09-04T10:19:59.645319",
     "status": "completed"
    },
    "tags": []
   },
   "outputs": [],
   "source": [
    "categorical_features += ['ext_col','int_col']"
   ]
  },
  {
   "cell_type": "markdown",
   "id": "2199c685",
   "metadata": {
    "papermill": {
     "duration": 0.03973,
     "end_time": "2024-09-04T10:19:59.776883",
     "exception": false,
     "start_time": "2024-09-04T10:19:59.737153",
     "status": "completed"
    },
    "tags": []
   },
   "source": [
    "### Accident"
   ]
  },
  {
   "cell_type": "code",
   "execution_count": 54,
   "id": "b72b12d3",
   "metadata": {
    "execution": {
     "iopub.execute_input": "2024-09-04T10:19:59.858160Z",
     "iopub.status.busy": "2024-09-04T10:19:59.857670Z",
     "iopub.status.idle": "2024-09-04T10:19:59.874060Z",
     "shell.execute_reply": "2024-09-04T10:19:59.872904Z"
    },
    "papermill": {
     "duration": 0.059533,
     "end_time": "2024-09-04T10:19:59.876443",
     "exception": false,
     "start_time": "2024-09-04T10:19:59.816910",
     "status": "completed"
    },
    "tags": []
   },
   "outputs": [
    {
     "data": {
      "text/plain": [
       "accident\n",
       "None reported                             144514\n",
       "At least 1 accident or damage reported     41567\n",
       "NaN                                         2452\n",
       "Name: count, dtype: int64"
      ]
     },
     "execution_count": 54,
     "metadata": {},
     "output_type": "execute_result"
    }
   ],
   "source": [
    "raw_df['accident'].value_counts(dropna=False)"
   ]
  },
  {
   "cell_type": "code",
   "execution_count": 55,
   "id": "dec6ce27",
   "metadata": {
    "execution": {
     "iopub.execute_input": "2024-09-04T10:19:59.957862Z",
     "iopub.status.busy": "2024-09-04T10:19:59.957420Z",
     "iopub.status.idle": "2024-09-04T10:20:00.089444Z",
     "shell.execute_reply": "2024-09-04T10:20:00.088176Z"
    },
    "papermill": {
     "duration": 0.176135,
     "end_time": "2024-09-04T10:20:00.092128",
     "exception": false,
     "start_time": "2024-09-04T10:19:59.915993",
     "status": "completed"
    },
    "tags": []
   },
   "outputs": [],
   "source": [
    "for df in [raw_df, test_df, original_df]:\n",
    "    df['accident'] = df['accident'].apply(lambda x: 1 if x=='At least 1 accident or damage reported' else 0)"
   ]
  },
  {
   "cell_type": "code",
   "execution_count": 56,
   "id": "b04b220c",
   "metadata": {
    "execution": {
     "iopub.execute_input": "2024-09-04T10:20:00.176015Z",
     "iopub.status.busy": "2024-09-04T10:20:00.175527Z",
     "iopub.status.idle": "2024-09-04T10:20:00.251377Z",
     "shell.execute_reply": "2024-09-04T10:20:00.250180Z"
    },
    "papermill": {
     "duration": 0.121288,
     "end_time": "2024-09-04T10:20:00.253873",
     "exception": false,
     "start_time": "2024-09-04T10:20:00.132585",
     "status": "completed"
    },
    "tags": []
   },
   "outputs": [
    {
     "data": {
      "text/plain": [
       "0    49122.876550\n",
       "1    25334.071475\n",
       "dtype: float64"
      ]
     },
     "execution_count": 56,
     "metadata": {},
     "output_type": "execute_result"
    }
   ],
   "source": [
    "view_avg_of_each('accident','price')"
   ]
  },
  {
   "cell_type": "code",
   "execution_count": 57,
   "id": "b50146c7",
   "metadata": {
    "execution": {
     "iopub.execute_input": "2024-09-04T10:20:00.347007Z",
     "iopub.status.busy": "2024-09-04T10:20:00.346514Z",
     "iopub.status.idle": "2024-09-04T10:20:00.353230Z",
     "shell.execute_reply": "2024-09-04T10:20:00.351747Z"
    },
    "papermill": {
     "duration": 0.059044,
     "end_time": "2024-09-04T10:20:00.355993",
     "exception": false,
     "start_time": "2024-09-04T10:20:00.296949",
     "status": "completed"
    },
    "tags": []
   },
   "outputs": [],
   "source": [
    "numeric_features.append('accident')"
   ]
  },
  {
   "cell_type": "markdown",
   "id": "4112b1d7",
   "metadata": {
    "papermill": {
     "duration": 0.040299,
     "end_time": "2024-09-04T10:20:00.442117",
     "exception": false,
     "start_time": "2024-09-04T10:20:00.401818",
     "status": "completed"
    },
    "tags": []
   },
   "source": [
    "### Clean title"
   ]
  },
  {
   "cell_type": "code",
   "execution_count": 58,
   "id": "cabdbf6a",
   "metadata": {
    "execution": {
     "iopub.execute_input": "2024-09-04T10:20:00.524616Z",
     "iopub.status.busy": "2024-09-04T10:20:00.523576Z",
     "iopub.status.idle": "2024-09-04T10:20:00.539491Z",
     "shell.execute_reply": "2024-09-04T10:20:00.538373Z"
    },
    "papermill": {
     "duration": 0.059374,
     "end_time": "2024-09-04T10:20:00.541862",
     "exception": false,
     "start_time": "2024-09-04T10:20:00.482488",
     "status": "completed"
    },
    "tags": []
   },
   "outputs": [
    {
     "data": {
      "text/plain": [
       "clean_title\n",
       "Yes    167114\n",
       "NaN     21419\n",
       "Name: count, dtype: int64"
      ]
     },
     "execution_count": 58,
     "metadata": {},
     "output_type": "execute_result"
    }
   ],
   "source": [
    "raw_df['clean_title'].value_counts(dropna=False)"
   ]
  },
  {
   "cell_type": "code",
   "execution_count": 59,
   "id": "ad28b84f",
   "metadata": {
    "execution": {
     "iopub.execute_input": "2024-09-04T10:20:00.623547Z",
     "iopub.status.busy": "2024-09-04T10:20:00.623095Z",
     "iopub.status.idle": "2024-09-04T10:20:00.755705Z",
     "shell.execute_reply": "2024-09-04T10:20:00.754521Z"
    },
    "papermill": {
     "duration": 0.176628,
     "end_time": "2024-09-04T10:20:00.758435",
     "exception": false,
     "start_time": "2024-09-04T10:20:00.581807",
     "status": "completed"
    },
    "tags": []
   },
   "outputs": [],
   "source": [
    "for df in [raw_df, test_df, original_df]:\n",
    "    df['clean_title'] = df['clean_title'].apply(lambda x: 1 if x=='Yes' else 0)"
   ]
  },
  {
   "cell_type": "code",
   "execution_count": 60,
   "id": "3e6bbc2c",
   "metadata": {
    "execution": {
     "iopub.execute_input": "2024-09-04T10:20:00.842516Z",
     "iopub.status.busy": "2024-09-04T10:20:00.842035Z",
     "iopub.status.idle": "2024-09-04T10:20:00.916410Z",
     "shell.execute_reply": "2024-09-04T10:20:00.915255Z"
    },
    "papermill": {
     "duration": 0.119074,
     "end_time": "2024-09-04T10:20:00.918885",
     "exception": false,
     "start_time": "2024-09-04T10:20:00.799811",
     "status": "completed"
    },
    "tags": []
   },
   "outputs": [
    {
     "data": {
      "text/plain": [
       "1    41354.406704\n",
       "0    63567.566273\n",
       "dtype: float64"
      ]
     },
     "execution_count": 60,
     "metadata": {},
     "output_type": "execute_result"
    }
   ],
   "source": [
    "view_avg_of_each('clean_title','price')"
   ]
  },
  {
   "cell_type": "code",
   "execution_count": 61,
   "id": "626889c2",
   "metadata": {
    "execution": {
     "iopub.execute_input": "2024-09-04T10:20:01.002043Z",
     "iopub.status.busy": "2024-09-04T10:20:01.001599Z",
     "iopub.status.idle": "2024-09-04T10:20:01.006915Z",
     "shell.execute_reply": "2024-09-04T10:20:01.005664Z"
    },
    "papermill": {
     "duration": 0.050297,
     "end_time": "2024-09-04T10:20:01.009279",
     "exception": false,
     "start_time": "2024-09-04T10:20:00.958982",
     "status": "completed"
    },
    "tags": []
   },
   "outputs": [],
   "source": [
    "numeric_features.append('clean_title')"
   ]
  },
  {
   "cell_type": "code",
   "execution_count": 62,
   "id": "9fa19073",
   "metadata": {
    "execution": {
     "iopub.execute_input": "2024-09-04T10:20:01.100298Z",
     "iopub.status.busy": "2024-09-04T10:20:01.099815Z",
     "iopub.status.idle": "2024-09-04T10:20:01.110630Z",
     "shell.execute_reply": "2024-09-04T10:20:01.108631Z"
    },
    "papermill": {
     "duration": 0.062365,
     "end_time": "2024-09-04T10:20:01.113473",
     "exception": false,
     "start_time": "2024-09-04T10:20:01.051108",
     "status": "completed"
    },
    "tags": []
   },
   "outputs": [
    {
     "data": {
      "text/plain": [
       "(9, 9)"
      ]
     },
     "execution_count": 62,
     "metadata": {},
     "output_type": "execute_result"
    }
   ],
   "source": [
    "len(numeric_features), len(categorical_features)"
   ]
  },
  {
   "cell_type": "markdown",
   "id": "27b1630b",
   "metadata": {
    "papermill": {
     "duration": 0.045136,
     "end_time": "2024-09-04T10:20:01.207245",
     "exception": false,
     "start_time": "2024-09-04T10:20:01.162109",
     "status": "completed"
    },
    "tags": []
   },
   "source": [
    "### Interactive Features"
   ]
  },
  {
   "cell_type": "code",
   "execution_count": 63,
   "id": "9d21a73a",
   "metadata": {
    "execution": {
     "iopub.execute_input": "2024-09-04T10:20:01.293217Z",
     "iopub.status.busy": "2024-09-04T10:20:01.292639Z",
     "iopub.status.idle": "2024-09-04T10:20:01.436927Z",
     "shell.execute_reply": "2024-09-04T10:20:01.435637Z"
    },
    "papermill": {
     "duration": 0.190773,
     "end_time": "2024-09-04T10:20:01.439655",
     "exception": false,
     "start_time": "2024-09-04T10:20:01.248882",
     "status": "completed"
    },
    "tags": []
   },
   "outputs": [],
   "source": [
    "brand_model_group_price = raw_df.groupby(['brand','model'])['price'].mean()\n",
    "fuel_engine_transmission_group_price = raw_df.groupby(['fuel_type','EngineType','transmission'])['price'].mean()\n",
    "fuel_engine_group_price = raw_df.groupby(['fuel_type','EngineType'])['price'].mean()"
   ]
  },
  {
   "cell_type": "code",
   "execution_count": 64,
   "id": "787bb1f5",
   "metadata": {
    "execution": {
     "iopub.execute_input": "2024-09-04T10:20:01.522281Z",
     "iopub.status.busy": "2024-09-04T10:20:01.521816Z",
     "iopub.status.idle": "2024-09-04T10:20:34.602709Z",
     "shell.execute_reply": "2024-09-04T10:20:34.601449Z"
    },
    "papermill": {
     "duration": 33.125582,
     "end_time": "2024-09-04T10:20:34.605384",
     "exception": false,
     "start_time": "2024-09-04T10:20:01.479802",
     "status": "completed"
    },
    "tags": []
   },
   "outputs": [],
   "source": [
    "for df in [raw_df, test_df, original_df]:\n",
    "    df['mile_per_year'] = df['milage'] / (df['model_year']+1)\n",
    "    df['HP_per_L'] = df['HP'] / df['L']\n",
    "    df['brand_model_price'] = df.apply(lambda x: brand_model_group_price.get((x['brand'],\n",
    "                                                                              x['model'])), \n",
    "                                       axis=1)\n",
    "    df['fuel_engine_transmission_price'] = df.apply(lambda x: fuel_engine_transmission_group_price.get((x['fuel_type'],\n",
    "                                                                                                        x['EngineType'],\n",
    "                                                                                                        x['transmission'])), \n",
    "                                                    axis=1)\n",
    "    df['fuel_engine_price'] = df.apply(lambda x: fuel_engine_group_price.get((x['fuel_type'],\n",
    "                                                                              x['EngineType'])),\n",
    "                                       axis=1)"
   ]
  },
  {
   "cell_type": "code",
   "execution_count": 65,
   "id": "61e01de3",
   "metadata": {
    "execution": {
     "iopub.execute_input": "2024-09-04T10:20:34.689116Z",
     "iopub.status.busy": "2024-09-04T10:20:34.688672Z",
     "iopub.status.idle": "2024-09-04T10:20:34.701638Z",
     "shell.execute_reply": "2024-09-04T10:20:34.700256Z"
    },
    "papermill": {
     "duration": 0.057679,
     "end_time": "2024-09-04T10:20:34.704305",
     "exception": false,
     "start_time": "2024-09-04T10:20:34.646626",
     "status": "completed"
    },
    "tags": []
   },
   "outputs": [],
   "source": [
    "avg_brand_model_price = raw_df['brand_model_price'].mean()\n",
    "avg_fuel_engine_transmission_price = raw_df['fuel_engine_transmission_price'].mean()\n",
    "avg_fuel_engine_price = raw_df['fuel_engine_price'].mean()\n",
    "test_df.fillna({'brand_model_price': avg_brand_model_price,\n",
    "                'fuel_engine_transmission_price': avg_fuel_engine_transmission_price,\n",
    "                'fuel_engine_price': avg_fuel_engine_price},\n",
    "               inplace=True)"
   ]
  },
  {
   "cell_type": "code",
   "execution_count": 66,
   "id": "240b6d73",
   "metadata": {
    "execution": {
     "iopub.execute_input": "2024-09-04T10:20:34.786466Z",
     "iopub.status.busy": "2024-09-04T10:20:34.786036Z",
     "iopub.status.idle": "2024-09-04T10:20:34.794779Z",
     "shell.execute_reply": "2024-09-04T10:20:34.793435Z"
    },
    "papermill": {
     "duration": 0.052523,
     "end_time": "2024-09-04T10:20:34.797433",
     "exception": false,
     "start_time": "2024-09-04T10:20:34.744910",
     "status": "completed"
    },
    "tags": []
   },
   "outputs": [],
   "source": [
    "original_df.fillna({'brand_model_price': avg_brand_model_price,\n",
    "                'fuel_engine_transmission_price': avg_fuel_engine_transmission_price,\n",
    "                'fuel_engine_price': avg_fuel_engine_price},\n",
    "               inplace=True)"
   ]
  },
  {
   "cell_type": "code",
   "execution_count": 67,
   "id": "9185455f",
   "metadata": {
    "execution": {
     "iopub.execute_input": "2024-09-04T10:20:34.878651Z",
     "iopub.status.busy": "2024-09-04T10:20:34.878237Z",
     "iopub.status.idle": "2024-09-04T10:20:34.883563Z",
     "shell.execute_reply": "2024-09-04T10:20:34.882325Z"
    },
    "papermill": {
     "duration": 0.048778,
     "end_time": "2024-09-04T10:20:34.885964",
     "exception": false,
     "start_time": "2024-09-04T10:20:34.837186",
     "status": "completed"
    },
    "tags": []
   },
   "outputs": [],
   "source": [
    "numeric_features += ['mile_per_year',\n",
    "                     'HP_per_L',\n",
    "                     'brand_model_price',\n",
    "                     'fuel_engine_transmission_price',\n",
    "                     'fuel_engine_price']"
   ]
  },
  {
   "cell_type": "markdown",
   "id": "0ee6c1f0",
   "metadata": {
    "papermill": {
     "duration": 0.040452,
     "end_time": "2024-09-04T10:20:34.966116",
     "exception": false,
     "start_time": "2024-09-04T10:20:34.925664",
     "status": "completed"
    },
    "tags": []
   },
   "source": [
    "## Preprocessing"
   ]
  },
  {
   "cell_type": "code",
   "execution_count": 68,
   "id": "0db452a2",
   "metadata": {
    "execution": {
     "iopub.execute_input": "2024-09-04T10:20:35.047859Z",
     "iopub.status.busy": "2024-09-04T10:20:35.046710Z",
     "iopub.status.idle": "2024-09-04T10:20:35.054775Z",
     "shell.execute_reply": "2024-09-04T10:20:35.053602Z"
    },
    "papermill": {
     "duration": 0.05141,
     "end_time": "2024-09-04T10:20:35.057100",
     "exception": false,
     "start_time": "2024-09-04T10:20:35.005690",
     "status": "completed"
    },
    "tags": []
   },
   "outputs": [
    {
     "data": {
      "text/plain": [
       "4009"
      ]
     },
     "execution_count": 68,
     "metadata": {},
     "output_type": "execute_result"
    }
   ],
   "source": [
    "len(original_df)"
   ]
  },
  {
   "cell_type": "code",
   "execution_count": 69,
   "id": "96d191e5",
   "metadata": {
    "execution": {
     "iopub.execute_input": "2024-09-04T10:20:35.140141Z",
     "iopub.status.busy": "2024-09-04T10:20:35.139718Z",
     "iopub.status.idle": "2024-09-04T10:20:35.155738Z",
     "shell.execute_reply": "2024-09-04T10:20:35.154496Z"
    },
    "papermill": {
     "duration": 0.061095,
     "end_time": "2024-09-04T10:20:35.158415",
     "exception": false,
     "start_time": "2024-09-04T10:20:35.097320",
     "status": "completed"
    },
    "tags": []
   },
   "outputs": [],
   "source": [
    "original_df['id'] = [i for i in range(314223,314223+4009)]\n",
    "def help_change_price(x):\n",
    "    milage_str = str(x).split('$')[1]\n",
    "    milage_lst = milage_str.split(',')\n",
    "    if len(milage_lst) >= 2:\n",
    "        return int(milage_lst[0]) * 1000 + int(milage_lst[1])\n",
    "    return int(milage_lst[0])\n",
    "original_df['price'] = original_df['price'].apply(lambda x: help_change_price(x))"
   ]
  },
  {
   "cell_type": "code",
   "execution_count": 70,
   "id": "3077e349",
   "metadata": {
    "execution": {
     "iopub.execute_input": "2024-09-04T10:20:35.241665Z",
     "iopub.status.busy": "2024-09-04T10:20:35.240680Z",
     "iopub.status.idle": "2024-09-04T10:20:35.245771Z",
     "shell.execute_reply": "2024-09-04T10:20:35.244717Z"
    },
    "papermill": {
     "duration": 0.048538,
     "end_time": "2024-09-04T10:20:35.247937",
     "exception": false,
     "start_time": "2024-09-04T10:20:35.199399",
     "status": "completed"
    },
    "tags": []
   },
   "outputs": [],
   "source": [
    "concat_cols = ['id'] + categorical_features + numeric_features"
   ]
  },
  {
   "cell_type": "code",
   "execution_count": 71,
   "id": "e3c6a765",
   "metadata": {
    "execution": {
     "iopub.execute_input": "2024-09-04T10:20:35.330951Z",
     "iopub.status.busy": "2024-09-04T10:20:35.330474Z",
     "iopub.status.idle": "2024-09-04T10:20:35.741352Z",
     "shell.execute_reply": "2024-09-04T10:20:35.740229Z"
    },
    "papermill": {
     "duration": 0.454888,
     "end_time": "2024-09-04T10:20:35.743784",
     "exception": false,
     "start_time": "2024-09-04T10:20:35.288896",
     "status": "completed"
    },
    "tags": []
   },
   "outputs": [
    {
     "data": {
      "text/html": [
       "<div>\n",
       "<style scoped>\n",
       "    .dataframe tbody tr th:only-of-type {\n",
       "        vertical-align: middle;\n",
       "    }\n",
       "\n",
       "    .dataframe tbody tr th {\n",
       "        vertical-align: top;\n",
       "    }\n",
       "\n",
       "    .dataframe thead th {\n",
       "        text-align: right;\n",
       "    }\n",
       "</style>\n",
       "<table border=\"1\" class=\"dataframe\">\n",
       "  <thead>\n",
       "    <tr style=\"text-align: right;\">\n",
       "      <th></th>\n",
       "      <th>id</th>\n",
       "      <th>brand</th>\n",
       "      <th>model</th>\n",
       "      <th>short_model</th>\n",
       "      <th>fuel_type</th>\n",
       "      <th>engine</th>\n",
       "      <th>EngineType</th>\n",
       "      <th>transmission</th>\n",
       "      <th>ext_col</th>\n",
       "      <th>int_col</th>\n",
       "      <th>...</th>\n",
       "      <th>milage_group</th>\n",
       "      <th>HP</th>\n",
       "      <th>L</th>\n",
       "      <th>accident</th>\n",
       "      <th>clean_title</th>\n",
       "      <th>mile_per_year</th>\n",
       "      <th>HP_per_L</th>\n",
       "      <th>brand_model_price</th>\n",
       "      <th>fuel_engine_transmission_price</th>\n",
       "      <th>fuel_engine_price</th>\n",
       "    </tr>\n",
       "  </thead>\n",
       "  <tbody>\n",
       "    <tr>\n",
       "      <th>0</th>\n",
       "      <td>0</td>\n",
       "      <td>MINI</td>\n",
       "      <td>Cooper S Base</td>\n",
       "      <td>Cooper</td>\n",
       "      <td>Gasoline</td>\n",
       "      <td>172.0HP 1.6L 4 Cylinder Engine Gasoline Fuel</td>\n",
       "      <td>Cylinder</td>\n",
       "      <td>A/T</td>\n",
       "      <td>yellow</td>\n",
       "      <td>gray</td>\n",
       "      <td>...</td>\n",
       "      <td>0</td>\n",
       "      <td>172.0</td>\n",
       "      <td>1.6</td>\n",
       "      <td>0</td>\n",
       "      <td>1</td>\n",
       "      <td>11833.333333</td>\n",
       "      <td>107.499998</td>\n",
       "      <td>12778.315972</td>\n",
       "      <td>29308.109531</td>\n",
       "      <td>38600.009988</td>\n",
       "    </tr>\n",
       "    <tr>\n",
       "      <th>1</th>\n",
       "      <td>1</td>\n",
       "      <td>Lincoln</td>\n",
       "      <td>noise</td>\n",
       "      <td>LS</td>\n",
       "      <td>Gasoline</td>\n",
       "      <td>noise</td>\n",
       "      <td>Cylinder</td>\n",
       "      <td>A/T</td>\n",
       "      <td>silver</td>\n",
       "      <td>beige</td>\n",
       "      <td>...</td>\n",
       "      <td>1</td>\n",
       "      <td>252.0</td>\n",
       "      <td>3.9</td>\n",
       "      <td>1</td>\n",
       "      <td>1</td>\n",
       "      <td>6228.260870</td>\n",
       "      <td>64.615383</td>\n",
       "      <td>27746.704156</td>\n",
       "      <td>29308.109531</td>\n",
       "      <td>38600.009988</td>\n",
       "    </tr>\n",
       "    <tr>\n",
       "      <th>2</th>\n",
       "      <td>2</td>\n",
       "      <td>Chevrolet</td>\n",
       "      <td>noise</td>\n",
       "      <td>Silverado</td>\n",
       "      <td>E85 Flex Fuel</td>\n",
       "      <td>320.0HP 5.3L 8 Cylinder Engine Flex Fuel Capab...</td>\n",
       "      <td>Cylinder</td>\n",
       "      <td>A/T</td>\n",
       "      <td>blue</td>\n",
       "      <td>gray</td>\n",
       "      <td>...</td>\n",
       "      <td>1</td>\n",
       "      <td>320.0</td>\n",
       "      <td>5.3</td>\n",
       "      <td>0</td>\n",
       "      <td>1</td>\n",
       "      <td>5944.826087</td>\n",
       "      <td>60.377356</td>\n",
       "      <td>35853.372897</td>\n",
       "      <td>23435.798489</td>\n",
       "      <td>25241.280210</td>\n",
       "    </tr>\n",
       "    <tr>\n",
       "      <th>3</th>\n",
       "      <td>3</td>\n",
       "      <td>Genesis</td>\n",
       "      <td>noise</td>\n",
       "      <td>G90</td>\n",
       "      <td>Gasoline</td>\n",
       "      <td>420.0HP 5.0L 8 Cylinder Engine Gasoline Fuel</td>\n",
       "      <td>Cylinder</td>\n",
       "      <td>Transmission w/Dual Shift Mode</td>\n",
       "      <td>black</td>\n",
       "      <td>black</td>\n",
       "      <td>...</td>\n",
       "      <td>4</td>\n",
       "      <td>420.0</td>\n",
       "      <td>5.0</td>\n",
       "      <td>0</td>\n",
       "      <td>1</td>\n",
       "      <td>2437.500000</td>\n",
       "      <td>84.000000</td>\n",
       "      <td>53186.033730</td>\n",
       "      <td>50007.655618</td>\n",
       "      <td>38600.009988</td>\n",
       "    </tr>\n",
       "    <tr>\n",
       "      <th>4</th>\n",
       "      <td>4</td>\n",
       "      <td>Mercedes-Benz</td>\n",
       "      <td>Metris Base</td>\n",
       "      <td>Metris</td>\n",
       "      <td>Gasoline</td>\n",
       "      <td>208.0HP 2.0L 4 Cylinder Engine Gasoline Fuel</td>\n",
       "      <td>Cylinder</td>\n",
       "      <td>7-Speed A/T</td>\n",
       "      <td>black</td>\n",
       "      <td>beige</td>\n",
       "      <td>...</td>\n",
       "      <td>4</td>\n",
       "      <td>208.0</td>\n",
       "      <td>2.0</td>\n",
       "      <td>0</td>\n",
       "      <td>1</td>\n",
       "      <td>1847.000000</td>\n",
       "      <td>104.000000</td>\n",
       "      <td>64855.673077</td>\n",
       "      <td>47077.069043</td>\n",
       "      <td>38600.009988</td>\n",
       "    </tr>\n",
       "  </tbody>\n",
       "</table>\n",
       "<p>5 rows × 24 columns</p>\n",
       "</div>"
      ],
      "text/plain": [
       "   id          brand          model short_model      fuel_type  \\\n",
       "0   0           MINI  Cooper S Base      Cooper       Gasoline   \n",
       "1   1        Lincoln          noise          LS       Gasoline   \n",
       "2   2      Chevrolet          noise   Silverado  E85 Flex Fuel   \n",
       "3   3        Genesis          noise         G90       Gasoline   \n",
       "4   4  Mercedes-Benz    Metris Base      Metris       Gasoline   \n",
       "\n",
       "                                              engine EngineType  \\\n",
       "0       172.0HP 1.6L 4 Cylinder Engine Gasoline Fuel   Cylinder   \n",
       "1                                              noise   Cylinder   \n",
       "2  320.0HP 5.3L 8 Cylinder Engine Flex Fuel Capab...   Cylinder   \n",
       "3       420.0HP 5.0L 8 Cylinder Engine Gasoline Fuel   Cylinder   \n",
       "4       208.0HP 2.0L 4 Cylinder Engine Gasoline Fuel   Cylinder   \n",
       "\n",
       "                     transmission ext_col int_col  ...  milage_group     HP  \\\n",
       "0                             A/T  yellow    gray  ...             0  172.0   \n",
       "1                             A/T  silver   beige  ...             1  252.0   \n",
       "2                             A/T    blue    gray  ...             1  320.0   \n",
       "3  Transmission w/Dual Shift Mode   black   black  ...             4  420.0   \n",
       "4                     7-Speed A/T   black   beige  ...             4  208.0   \n",
       "\n",
       "     L  accident  clean_title  mile_per_year    HP_per_L  brand_model_price  \\\n",
       "0  1.6         0            1   11833.333333  107.499998       12778.315972   \n",
       "1  3.9         1            1    6228.260870   64.615383       27746.704156   \n",
       "2  5.3         0            1    5944.826087   60.377356       35853.372897   \n",
       "3  5.0         0            1    2437.500000   84.000000       53186.033730   \n",
       "4  2.0         0            1    1847.000000  104.000000       64855.673077   \n",
       "\n",
       "   fuel_engine_transmission_price  fuel_engine_price  \n",
       "0                    29308.109531       38600.009988  \n",
       "1                    29308.109531       38600.009988  \n",
       "2                    23435.798489       25241.280210  \n",
       "3                    50007.655618       38600.009988  \n",
       "4                    47077.069043       38600.009988  \n",
       "\n",
       "[5 rows x 24 columns]"
      ]
     },
     "execution_count": 71,
     "metadata": {},
     "output_type": "execute_result"
    }
   ],
   "source": [
    "concat_df = pd.concat([raw_df[concat_cols], test_df[concat_cols], original_df[concat_cols]]).copy()\n",
    "concat_df.head()"
   ]
  },
  {
   "cell_type": "code",
   "execution_count": 72,
   "id": "8343f034",
   "metadata": {
    "execution": {
     "iopub.execute_input": "2024-09-04T10:20:35.827427Z",
     "iopub.status.busy": "2024-09-04T10:20:35.826294Z",
     "iopub.status.idle": "2024-09-04T10:20:35.989505Z",
     "shell.execute_reply": "2024-09-04T10:20:35.988298Z"
    },
    "papermill": {
     "duration": 0.208027,
     "end_time": "2024-09-04T10:20:35.992300",
     "exception": false,
     "start_time": "2024-09-04T10:20:35.784273",
     "status": "completed"
    },
    "tags": []
   },
   "outputs": [
    {
     "data": {
      "text/html": [
       "<style>#sk-container-id-1 {color: black;background-color: white;}#sk-container-id-1 pre{padding: 0;}#sk-container-id-1 div.sk-toggleable {background-color: white;}#sk-container-id-1 label.sk-toggleable__label {cursor: pointer;display: block;width: 100%;margin-bottom: 0;padding: 0.3em;box-sizing: border-box;text-align: center;}#sk-container-id-1 label.sk-toggleable__label-arrow:before {content: \"▸\";float: left;margin-right: 0.25em;color: #696969;}#sk-container-id-1 label.sk-toggleable__label-arrow:hover:before {color: black;}#sk-container-id-1 div.sk-estimator:hover label.sk-toggleable__label-arrow:before {color: black;}#sk-container-id-1 div.sk-toggleable__content {max-height: 0;max-width: 0;overflow: hidden;text-align: left;background-color: #f0f8ff;}#sk-container-id-1 div.sk-toggleable__content pre {margin: 0.2em;color: black;border-radius: 0.25em;background-color: #f0f8ff;}#sk-container-id-1 input.sk-toggleable__control:checked~div.sk-toggleable__content {max-height: 200px;max-width: 100%;overflow: auto;}#sk-container-id-1 input.sk-toggleable__control:checked~label.sk-toggleable__label-arrow:before {content: \"▾\";}#sk-container-id-1 div.sk-estimator input.sk-toggleable__control:checked~label.sk-toggleable__label {background-color: #d4ebff;}#sk-container-id-1 div.sk-label input.sk-toggleable__control:checked~label.sk-toggleable__label {background-color: #d4ebff;}#sk-container-id-1 input.sk-hidden--visually {border: 0;clip: rect(1px 1px 1px 1px);clip: rect(1px, 1px, 1px, 1px);height: 1px;margin: -1px;overflow: hidden;padding: 0;position: absolute;width: 1px;}#sk-container-id-1 div.sk-estimator {font-family: monospace;background-color: #f0f8ff;border: 1px dotted black;border-radius: 0.25em;box-sizing: border-box;margin-bottom: 0.5em;}#sk-container-id-1 div.sk-estimator:hover {background-color: #d4ebff;}#sk-container-id-1 div.sk-parallel-item::after {content: \"\";width: 100%;border-bottom: 1px solid gray;flex-grow: 1;}#sk-container-id-1 div.sk-label:hover label.sk-toggleable__label {background-color: #d4ebff;}#sk-container-id-1 div.sk-serial::before {content: \"\";position: absolute;border-left: 1px solid gray;box-sizing: border-box;top: 0;bottom: 0;left: 50%;z-index: 0;}#sk-container-id-1 div.sk-serial {display: flex;flex-direction: column;align-items: center;background-color: white;padding-right: 0.2em;padding-left: 0.2em;position: relative;}#sk-container-id-1 div.sk-item {position: relative;z-index: 1;}#sk-container-id-1 div.sk-parallel {display: flex;align-items: stretch;justify-content: center;background-color: white;position: relative;}#sk-container-id-1 div.sk-item::before, #sk-container-id-1 div.sk-parallel-item::before {content: \"\";position: absolute;border-left: 1px solid gray;box-sizing: border-box;top: 0;bottom: 0;left: 50%;z-index: -1;}#sk-container-id-1 div.sk-parallel-item {display: flex;flex-direction: column;z-index: 1;position: relative;background-color: white;}#sk-container-id-1 div.sk-parallel-item:first-child::after {align-self: flex-end;width: 50%;}#sk-container-id-1 div.sk-parallel-item:last-child::after {align-self: flex-start;width: 50%;}#sk-container-id-1 div.sk-parallel-item:only-child::after {width: 0;}#sk-container-id-1 div.sk-dashed-wrapped {border: 1px dashed gray;margin: 0 0.4em 0.5em 0.4em;box-sizing: border-box;padding-bottom: 0.4em;background-color: white;}#sk-container-id-1 div.sk-label label {font-family: monospace;font-weight: bold;display: inline-block;line-height: 1.2em;}#sk-container-id-1 div.sk-label-container {text-align: center;}#sk-container-id-1 div.sk-container {/* jupyter's `normalize.less` sets `[hidden] { display: none; }` but bootstrap.min.css set `[hidden] { display: none !important; }` so we also need the `!important` here to be able to override the default hidden behavior on the sphinx rendered scikit-learn.org. See: https://github.com/scikit-learn/scikit-learn/issues/21755 */display: inline-block !important;position: relative;}#sk-container-id-1 div.sk-text-repr-fallback {display: none;}</style><div id=\"sk-container-id-1\" class=\"sk-top-container\"><div class=\"sk-text-repr-fallback\"><pre>OrdinalEncoder()</pre><b>In a Jupyter environment, please rerun this cell to show the HTML representation or trust the notebook. <br />On GitHub, the HTML representation is unable to render, please try loading this page with nbviewer.org.</b></div><div class=\"sk-container\" hidden><div class=\"sk-item\"><div class=\"sk-estimator sk-toggleable\"><input class=\"sk-toggleable__control sk-hidden--visually\" id=\"sk-estimator-id-1\" type=\"checkbox\" checked><label for=\"sk-estimator-id-1\" class=\"sk-toggleable__label sk-toggleable__label-arrow\">OrdinalEncoder</label><div class=\"sk-toggleable__content\"><pre>OrdinalEncoder()</pre></div></div></div></div></div>"
      ],
      "text/plain": [
       "OrdinalEncoder()"
      ]
     },
     "execution_count": 72,
     "metadata": {},
     "output_type": "execute_result"
    }
   ],
   "source": [
    "encoder = OrdinalEncoder()\n",
    "encoder.fit(concat_df[categorical_features])"
   ]
  },
  {
   "cell_type": "code",
   "execution_count": 73,
   "id": "17489781",
   "metadata": {
    "execution": {
     "iopub.execute_input": "2024-09-04T10:20:36.074689Z",
     "iopub.status.busy": "2024-09-04T10:20:36.074275Z",
     "iopub.status.idle": "2024-09-04T10:20:36.818879Z",
     "shell.execute_reply": "2024-09-04T10:20:36.817633Z"
    },
    "papermill": {
     "duration": 0.789038,
     "end_time": "2024-09-04T10:20:36.821563",
     "exception": false,
     "start_time": "2024-09-04T10:20:36.032525",
     "status": "completed"
    },
    "tags": []
   },
   "outputs": [],
   "source": [
    "for df in [raw_df, test_df, original_df]:\n",
    "    df[categorical_features] = encoder.transform(df[categorical_features])"
   ]
  },
  {
   "cell_type": "code",
   "execution_count": 74,
   "id": "b0aba084",
   "metadata": {
    "execution": {
     "iopub.execute_input": "2024-09-04T10:20:36.910273Z",
     "iopub.status.busy": "2024-09-04T10:20:36.909855Z",
     "iopub.status.idle": "2024-09-04T10:20:36.916968Z",
     "shell.execute_reply": "2024-09-04T10:20:36.915768Z"
    },
    "papermill": {
     "duration": 0.05405,
     "end_time": "2024-09-04T10:20:36.919582",
     "exception": false,
     "start_time": "2024-09-04T10:20:36.865532",
     "status": "completed"
    },
    "tags": []
   },
   "outputs": [
    {
     "data": {
      "text/plain": [
       "23"
      ]
     },
     "execution_count": 74,
     "metadata": {},
     "output_type": "execute_result"
    }
   ],
   "source": [
    "all_features = numeric_features + categorical_features\n",
    "len(all_features)"
   ]
  },
  {
   "cell_type": "code",
   "execution_count": 75,
   "id": "d2a9c9d2",
   "metadata": {
    "execution": {
     "iopub.execute_input": "2024-09-04T10:20:37.022574Z",
     "iopub.status.busy": "2024-09-04T10:20:37.021713Z",
     "iopub.status.idle": "2024-09-04T10:20:37.048847Z",
     "shell.execute_reply": "2024-09-04T10:20:37.047639Z"
    },
    "papermill": {
     "duration": 0.085977,
     "end_time": "2024-09-04T10:20:37.051488",
     "exception": false,
     "start_time": "2024-09-04T10:20:36.965511",
     "status": "completed"
    },
    "tags": []
   },
   "outputs": [],
   "source": [
    "inputs, targets = raw_df[all_features], raw_df['price']"
   ]
  },
  {
   "cell_type": "code",
   "execution_count": 76,
   "id": "428b5cc7",
   "metadata": {
    "execution": {
     "iopub.execute_input": "2024-09-04T10:20:37.135614Z",
     "iopub.status.busy": "2024-09-04T10:20:37.135160Z",
     "iopub.status.idle": "2024-09-04T10:22:11.871197Z",
     "shell.execute_reply": "2024-09-04T10:22:11.870113Z"
    },
    "papermill": {
     "duration": 94.824316,
     "end_time": "2024-09-04T10:22:11.916643",
     "exception": false,
     "start_time": "2024-09-04T10:20:37.092327",
     "status": "completed"
    },
    "tags": []
   },
   "outputs": [
    {
     "name": "stdout",
     "output_type": "stream",
     "text": [
      "CPU times: user 1min 34s, sys: 476 ms, total: 1min 34s\n",
      "Wall time: 1min 34s\n"
     ]
    },
    {
     "data": {
      "text/html": [
       "<style type=\"text/css\">\n",
       "#T_3f8e6_row0_col0 {\n",
       "  background-color: #ff00ff;\n",
       "  color: #f1f1f1;\n",
       "}\n",
       "#T_3f8e6_row1_col0 {\n",
       "  background-color: #d728ff;\n",
       "  color: #f1f1f1;\n",
       "}\n",
       "#T_3f8e6_row2_col0 {\n",
       "  background-color: #cd32ff;\n",
       "  color: #f1f1f1;\n",
       "}\n",
       "#T_3f8e6_row3_col0 {\n",
       "  background-color: #cc33ff;\n",
       "  color: #f1f1f1;\n",
       "}\n",
       "#T_3f8e6_row4_col0 {\n",
       "  background-color: #c639ff;\n",
       "  color: #f1f1f1;\n",
       "}\n",
       "#T_3f8e6_row5_col0 {\n",
       "  background-color: #bb44ff;\n",
       "  color: #f1f1f1;\n",
       "}\n",
       "#T_3f8e6_row6_col0 {\n",
       "  background-color: #ab54ff;\n",
       "  color: #f1f1f1;\n",
       "}\n",
       "#T_3f8e6_row7_col0 {\n",
       "  background-color: #a25dff;\n",
       "  color: #f1f1f1;\n",
       "}\n",
       "#T_3f8e6_row8_col0 {\n",
       "  background-color: #9768ff;\n",
       "  color: #f1f1f1;\n",
       "}\n",
       "#T_3f8e6_row9_col0 {\n",
       "  background-color: #8d72ff;\n",
       "  color: #f1f1f1;\n",
       "}\n",
       "#T_3f8e6_row10_col0 {\n",
       "  background-color: #8976ff;\n",
       "  color: #f1f1f1;\n",
       "}\n",
       "#T_3f8e6_row11_col0 {\n",
       "  background-color: #6f90ff;\n",
       "  color: #f1f1f1;\n",
       "}\n",
       "#T_3f8e6_row12_col0 {\n",
       "  background-color: #6a95ff;\n",
       "  color: #f1f1f1;\n",
       "}\n",
       "#T_3f8e6_row13_col0 {\n",
       "  background-color: #659aff;\n",
       "  color: #f1f1f1;\n",
       "}\n",
       "#T_3f8e6_row14_col0 {\n",
       "  background-color: #609fff;\n",
       "  color: #f1f1f1;\n",
       "}\n",
       "#T_3f8e6_row15_col0 {\n",
       "  background-color: #4ab5ff;\n",
       "  color: #000000;\n",
       "}\n",
       "#T_3f8e6_row16_col0 {\n",
       "  background-color: #39c6ff;\n",
       "  color: #000000;\n",
       "}\n",
       "#T_3f8e6_row17_col0, #T_3f8e6_row18_col0 {\n",
       "  background-color: #32cdff;\n",
       "  color: #000000;\n",
       "}\n",
       "#T_3f8e6_row19_col0 {\n",
       "  background-color: #2dd2ff;\n",
       "  color: #000000;\n",
       "}\n",
       "#T_3f8e6_row20_col0 {\n",
       "  background-color: #2cd3ff;\n",
       "  color: #000000;\n",
       "}\n",
       "#T_3f8e6_row21_col0 {\n",
       "  background-color: #0cf3ff;\n",
       "  color: #000000;\n",
       "}\n",
       "#T_3f8e6_row22_col0 {\n",
       "  background-color: #00ffff;\n",
       "  color: #000000;\n",
       "}\n",
       "</style>\n",
       "<table id=\"T_3f8e6\">\n",
       "  <thead>\n",
       "    <tr>\n",
       "      <th class=\"blank level0\" >&nbsp;</th>\n",
       "      <th id=\"T_3f8e6_level0_col0\" class=\"col_heading level0 col0\" >Numerical_Feature_MI</th>\n",
       "    </tr>\n",
       "  </thead>\n",
       "  <tbody>\n",
       "    <tr>\n",
       "      <th id=\"T_3f8e6_level0_row0\" class=\"row_heading level0 row0\" >milage</th>\n",
       "      <td id=\"T_3f8e6_row0_col0\" class=\"data row0 col0\" >0.682321</td>\n",
       "    </tr>\n",
       "    <tr>\n",
       "      <th id=\"T_3f8e6_level0_row1\" class=\"row_heading level0 row1\" >engine</th>\n",
       "      <td id=\"T_3f8e6_row1_col0\" class=\"data row1 col0\" >0.579831</td>\n",
       "    </tr>\n",
       "    <tr>\n",
       "      <th id=\"T_3f8e6_level0_row2\" class=\"row_heading level0 row2\" >assessing_epreciation_percent</th>\n",
       "      <td id=\"T_3f8e6_row2_col0\" class=\"data row2 col0\" >0.553326</td>\n",
       "    </tr>\n",
       "    <tr>\n",
       "      <th id=\"T_3f8e6_level0_row3\" class=\"row_heading level0 row3\" >model_year</th>\n",
       "      <td id=\"T_3f8e6_row3_col0\" class=\"data row3 col0\" >0.552323</td>\n",
       "    </tr>\n",
       "    <tr>\n",
       "      <th id=\"T_3f8e6_level0_row4\" class=\"row_heading level0 row4\" >HP</th>\n",
       "      <td id=\"T_3f8e6_row4_col0\" class=\"data row4 col0\" >0.535816</td>\n",
       "    </tr>\n",
       "    <tr>\n",
       "      <th id=\"T_3f8e6_level0_row5\" class=\"row_heading level0 row5\" >HP_per_L</th>\n",
       "      <td id=\"T_3f8e6_row5_col0\" class=\"data row5 col0\" >0.507666</td>\n",
       "    </tr>\n",
       "    <tr>\n",
       "      <th id=\"T_3f8e6_level0_row6\" class=\"row_heading level0 row6\" >fuel_engine_transmission_price</th>\n",
       "      <td id=\"T_3f8e6_row6_col0\" class=\"data row6 col0\" >0.467223</td>\n",
       "    </tr>\n",
       "    <tr>\n",
       "      <th id=\"T_3f8e6_level0_row7\" class=\"row_heading level0 row7\" >transmission</th>\n",
       "      <td id=\"T_3f8e6_row7_col0\" class=\"data row7 col0\" >0.443701</td>\n",
       "    </tr>\n",
       "    <tr>\n",
       "      <th id=\"T_3f8e6_level0_row8\" class=\"row_heading level0 row8\" >model_year_group</th>\n",
       "      <td id=\"T_3f8e6_row8_col0\" class=\"data row8 col0\" >0.415772</td>\n",
       "    </tr>\n",
       "    <tr>\n",
       "      <th id=\"T_3f8e6_level0_row9\" class=\"row_heading level0 row9\" >milage_group</th>\n",
       "      <td id=\"T_3f8e6_row9_col0\" class=\"data row9 col0\" >0.391030</td>\n",
       "    </tr>\n",
       "    <tr>\n",
       "      <th id=\"T_3f8e6_level0_row10\" class=\"row_heading level0 row10\" >brand_model_price</th>\n",
       "      <td id=\"T_3f8e6_row10_col0\" class=\"data row10 col0\" >0.379764</td>\n",
       "    </tr>\n",
       "    <tr>\n",
       "      <th id=\"T_3f8e6_level0_row11\" class=\"row_heading level0 row11\" >fuel_engine_price</th>\n",
       "      <td id=\"T_3f8e6_row11_col0\" class=\"data row11 col0\" >0.313459</td>\n",
       "    </tr>\n",
       "    <tr>\n",
       "      <th id=\"T_3f8e6_level0_row12\" class=\"row_heading level0 row12\" >EngineType</th>\n",
       "      <td id=\"T_3f8e6_row12_col0\" class=\"data row12 col0\" >0.301413</td>\n",
       "    </tr>\n",
       "    <tr>\n",
       "      <th id=\"T_3f8e6_level0_row13\" class=\"row_heading level0 row13\" >short_model</th>\n",
       "      <td id=\"T_3f8e6_row13_col0\" class=\"data row13 col0\" >0.288870</td>\n",
       "    </tr>\n",
       "    <tr>\n",
       "      <th id=\"T_3f8e6_level0_row14\" class=\"row_heading level0 row14\" >model</th>\n",
       "      <td id=\"T_3f8e6_row14_col0\" class=\"data row14 col0\" >0.276368</td>\n",
       "    </tr>\n",
       "    <tr>\n",
       "      <th id=\"T_3f8e6_level0_row15\" class=\"row_heading level0 row15\" >mile_per_year</th>\n",
       "      <td id=\"T_3f8e6_row15_col0\" class=\"data row15 col0\" >0.220921</td>\n",
       "    </tr>\n",
       "    <tr>\n",
       "      <th id=\"T_3f8e6_level0_row16\" class=\"row_heading level0 row16\" >L</th>\n",
       "      <td id=\"T_3f8e6_row16_col0\" class=\"data row16 col0\" >0.178313</td>\n",
       "    </tr>\n",
       "    <tr>\n",
       "      <th id=\"T_3f8e6_level0_row17\" class=\"row_heading level0 row17\" >ext_col</th>\n",
       "      <td id=\"T_3f8e6_row17_col0\" class=\"data row17 col0\" >0.160075</td>\n",
       "    </tr>\n",
       "    <tr>\n",
       "      <th id=\"T_3f8e6_level0_row18\" class=\"row_heading level0 row18\" >clean_title</th>\n",
       "      <td id=\"T_3f8e6_row18_col0\" class=\"data row18 col0\" >0.159616</td>\n",
       "    </tr>\n",
       "    <tr>\n",
       "      <th id=\"T_3f8e6_level0_row19\" class=\"row_heading level0 row19\" >brand</th>\n",
       "      <td id=\"T_3f8e6_row19_col0\" class=\"data row19 col0\" >0.147083</td>\n",
       "    </tr>\n",
       "    <tr>\n",
       "      <th id=\"T_3f8e6_level0_row20\" class=\"row_heading level0 row20\" >int_col</th>\n",
       "      <td id=\"T_3f8e6_row20_col0\" class=\"data row20 col0\" >0.144599</td>\n",
       "    </tr>\n",
       "    <tr>\n",
       "      <th id=\"T_3f8e6_level0_row21\" class=\"row_heading level0 row21\" >accident</th>\n",
       "      <td id=\"T_3f8e6_row21_col0\" class=\"data row21 col0\" >0.062521</td>\n",
       "    </tr>\n",
       "    <tr>\n",
       "      <th id=\"T_3f8e6_level0_row22\" class=\"row_heading level0 row22\" >fuel_type</th>\n",
       "      <td id=\"T_3f8e6_row22_col0\" class=\"data row22 col0\" >0.031039</td>\n",
       "    </tr>\n",
       "  </tbody>\n",
       "</table>\n"
      ],
      "text/plain": [
       "<pandas.io.formats.style.Styler at 0x7fc62a5ab910>"
      ]
     },
     "execution_count": 76,
     "metadata": {},
     "output_type": "execute_result"
    }
   ],
   "source": [
    "%%time\n",
    "mutual_info = mutual_info_classif(inputs, targets, random_state=42)\n",
    "mutual_info = pd.Series(mutual_info)\n",
    "mutual_info.index = inputs.columns\n",
    "mutual_info = pd.DataFrame(mutual_info.sort_values(ascending=False), columns = [\"Numerical_Feature_MI\"] )\n",
    "mutual_info.style.background_gradient(\"cool\")"
   ]
  },
  {
   "cell_type": "code",
   "execution_count": 77,
   "id": "8c2e422f",
   "metadata": {
    "execution": {
     "iopub.execute_input": "2024-09-04T10:22:12.001730Z",
     "iopub.status.busy": "2024-09-04T10:22:12.001317Z",
     "iopub.status.idle": "2024-09-04T10:22:12.008971Z",
     "shell.execute_reply": "2024-09-04T10:22:12.007805Z"
    },
    "papermill": {
     "duration": 0.052974,
     "end_time": "2024-09-04T10:22:12.011470",
     "exception": false,
     "start_time": "2024-09-04T10:22:11.958496",
     "status": "completed"
    },
    "tags": []
   },
   "outputs": [
    {
     "data": {
      "text/plain": [
       "['brand',\n",
       " 'model',\n",
       " 'model_year',\n",
       " 'milage',\n",
       " 'fuel_type',\n",
       " 'engine',\n",
       " 'transmission',\n",
       " 'ext_col',\n",
       " 'int_col',\n",
       " 'accident',\n",
       " 'clean_title']"
      ]
     },
     "execution_count": 77,
     "metadata": {},
     "output_type": "execute_result"
    }
   ],
   "source": [
    "original_features.remove('id')\n",
    "original_features.remove('price')\n",
    "original_features"
   ]
  },
  {
   "cell_type": "markdown",
   "id": "462a5045",
   "metadata": {
    "papermill": {
     "duration": 0.041009,
     "end_time": "2024-09-04T10:22:12.093788",
     "exception": false,
     "start_time": "2024-09-04T10:22:12.052779",
     "status": "completed"
    },
    "tags": []
   },
   "source": [
    "I have chosen a list of features that I fill important"
   ]
  },
  {
   "cell_type": "code",
   "execution_count": 78,
   "id": "836e3a0a",
   "metadata": {
    "execution": {
     "iopub.execute_input": "2024-09-04T10:22:12.180800Z",
     "iopub.status.busy": "2024-09-04T10:22:12.180352Z",
     "iopub.status.idle": "2024-09-04T10:22:12.188587Z",
     "shell.execute_reply": "2024-09-04T10:22:12.187325Z"
    },
    "papermill": {
     "duration": 0.05485,
     "end_time": "2024-09-04T10:22:12.191000",
     "exception": false,
     "start_time": "2024-09-04T10:22:12.136150",
     "status": "completed"
    },
    "tags": []
   },
   "outputs": [
    {
     "data": {
      "text/plain": [
       "15"
      ]
     },
     "execution_count": 78,
     "metadata": {},
     "output_type": "execute_result"
    }
   ],
   "source": [
    "importance_features = ['milage','model_year','assessing_epreciation_percent',\n",
    "                       'HP_per_L','transmission',\n",
    "                       'engine','brand_model_price',\n",
    "                       'model','fuel_engine_transmission_price',\n",
    "                       'clean_title', 'ext_col','int_col',\n",
    "                       'brand','fuel_type','accident']\n",
    "len(importance_features)"
   ]
  },
  {
   "cell_type": "code",
   "execution_count": 79,
   "id": "8144b60d",
   "metadata": {
    "execution": {
     "iopub.execute_input": "2024-09-04T10:22:12.275639Z",
     "iopub.status.busy": "2024-09-04T10:22:12.275189Z",
     "iopub.status.idle": "2024-09-04T10:22:12.282091Z",
     "shell.execute_reply": "2024-09-04T10:22:12.281016Z"
    },
    "papermill": {
     "duration": 0.052324,
     "end_time": "2024-09-04T10:22:12.284493",
     "exception": false,
     "start_time": "2024-09-04T10:22:12.232169",
     "status": "completed"
    },
    "tags": []
   },
   "outputs": [
    {
     "data": {
      "text/plain": [
       "23"
      ]
     },
     "execution_count": 79,
     "metadata": {},
     "output_type": "execute_result"
    }
   ],
   "source": [
    "len(all_features)"
   ]
  },
  {
   "cell_type": "markdown",
   "id": "64d0ae74",
   "metadata": {
    "papermill": {
     "duration": 0.04422,
     "end_time": "2024-09-04T10:22:12.371511",
     "exception": false,
     "start_time": "2024-09-04T10:22:12.327291",
     "status": "completed"
    },
    "tags": []
   },
   "source": [
    "## Training model and tunning hyperparameters"
   ]
  },
  {
   "cell_type": "code",
   "execution_count": 80,
   "id": "7d62c49e",
   "metadata": {
    "execution": {
     "iopub.execute_input": "2024-09-04T10:22:12.460022Z",
     "iopub.status.busy": "2024-09-04T10:22:12.459568Z",
     "iopub.status.idle": "2024-09-04T10:22:12.480729Z",
     "shell.execute_reply": "2024-09-04T10:22:12.479582Z"
    },
    "papermill": {
     "duration": 0.068706,
     "end_time": "2024-09-04T10:22:12.483561",
     "exception": false,
     "start_time": "2024-09-04T10:22:12.414855",
     "status": "completed"
    },
    "tags": []
   },
   "outputs": [],
   "source": [
    "inte_cols = ['brand','model','fuel_type','engine','transmission',\n",
    "             'ext_col','int_col','short_model','EngineType']\n",
    "for col in inte_cols:\n",
    "    raw_df[col] = raw_df[col].astype('int32')\n",
    "    test_df[col] = test_df[col].astype('int32')\n",
    "    original_df[col] = original_df[col].astype('int32')"
   ]
  },
  {
   "cell_type": "code",
   "execution_count": 81,
   "id": "9919537c",
   "metadata": {
    "execution": {
     "iopub.execute_input": "2024-09-04T10:22:12.569751Z",
     "iopub.status.busy": "2024-09-04T10:22:12.569342Z",
     "iopub.status.idle": "2024-09-04T10:22:12.614063Z",
     "shell.execute_reply": "2024-09-04T10:22:12.612860Z"
    },
    "papermill": {
     "duration": 0.091318,
     "end_time": "2024-09-04T10:22:12.616737",
     "exception": false,
     "start_time": "2024-09-04T10:22:12.525419",
     "status": "completed"
    },
    "tags": []
   },
   "outputs": [],
   "source": [
    "concat_df = pd.concat([raw_df, original_df]).copy()\n",
    "concat_df = concat_df.reset_index(drop=True)"
   ]
  },
  {
   "cell_type": "code",
   "execution_count": 82,
   "id": "12d14254",
   "metadata": {
    "execution": {
     "iopub.execute_input": "2024-09-04T10:22:12.702484Z",
     "iopub.status.busy": "2024-09-04T10:22:12.702072Z",
     "iopub.status.idle": "2024-09-04T10:22:12.712599Z",
     "shell.execute_reply": "2024-09-04T10:22:12.711316Z"
    },
    "papermill": {
     "duration": 0.055988,
     "end_time": "2024-09-04T10:22:12.714908",
     "exception": false,
     "start_time": "2024-09-04T10:22:12.658920",
     "status": "completed"
    },
    "tags": []
   },
   "outputs": [],
   "source": [
    "def cross_validation(reg, cv, inputs, targets, test_inputs=None, need_print=False):\n",
    "    train_losses = []\n",
    "    val_losses = []\n",
    "    if test_inputs is not None:\n",
    "        test_preds = np.zeros(len(test_inputs))\n",
    "    else:\n",
    "        test_preds = np.zeros(len(inputs))\n",
    "    for fold, (train_idx, val_idx) in enumerate(cv.split(inputs, targets)):\n",
    "        X_train = inputs.iloc[train_idx].reset_index(drop=True)\n",
    "        y_train = targets.iloc[train_idx].reset_index(drop=True)\n",
    "        X_val = inputs.iloc[val_idx].reset_index(drop=True)\n",
    "        y_val = targets.iloc[val_idx].reset_index(drop=True)\n",
    "\n",
    "        reg.fit(X_train, y_train)\n",
    "\n",
    "        train_pred = reg.predict(X_train)\n",
    "        train_loss = np.sqrt(mean_squared_error(y_train, train_pred))\n",
    "        train_losses.append(train_loss)\n",
    "        val_pred = reg.predict(X_val)\n",
    "        val_loss = np.sqrt(mean_squared_error(y_val, val_pred))\n",
    "        val_losses.append(val_loss)\n",
    "\n",
    "        if need_print:\n",
    "            print(f'Fold {fold}: train_loss = {train_loss:.5f}, val_loss = {val_loss:.5f}')\n",
    "\n",
    "        if test_inputs is not None:\n",
    "            test_pred = reg.predict(test_inputs)\n",
    "            test_preds += test_pred/cv.get_n_splits()\n",
    "\n",
    "    m_train_loss = np.mean(train_losses)\n",
    "    s_train_loss = np.std(train_losses)\n",
    "    m_val_loss = np.mean(val_losses)\n",
    "    s_val_loss = np.std(val_losses)\n",
    "    \n",
    "    msg = f'{m_val_loss:.7f} ± {s_val_loss:.7f}'\n",
    "    \n",
    "    if need_print:\n",
    "        print(f'Train loss: {m_train_loss:.7f} ± {s_train_loss:.7f} | Val loss: {m_val_loss:.7f} ± {s_val_loss:.7f}')\n",
    "    return test_preds, msg"
   ]
  },
  {
   "cell_type": "code",
   "execution_count": 83,
   "id": "2977be37",
   "metadata": {
    "execution": {
     "iopub.execute_input": "2024-09-04T10:22:12.799533Z",
     "iopub.status.busy": "2024-09-04T10:22:12.799134Z",
     "iopub.status.idle": "2024-09-04T10:22:12.807330Z",
     "shell.execute_reply": "2024-09-04T10:22:12.805997Z"
    },
    "papermill": {
     "duration": 0.053586,
     "end_time": "2024-09-04T10:22:12.809784",
     "exception": false,
     "start_time": "2024-09-04T10:22:12.756198",
     "status": "completed"
    },
    "tags": []
   },
   "outputs": [],
   "source": [
    "def test_with_models(models: dict, features: dict, \n",
    "                     df: pd.DataFrame, target: str, cv):\n",
    "    result = dict()\n",
    "    result['Regressor'] = []\n",
    "    for feature, _ in features.items():\n",
    "        result[f'RMSE with {feature} features'] = []\n",
    "    targets = df[target]\n",
    "    for name, model in models.items():\n",
    "        result['Regressor'].append(name)\n",
    "        for f_name, feature in features.items():\n",
    "            inputs = df[feature]\n",
    "            _, msg = cross_validation(model, cv, \n",
    "                                      inputs, targets, \n",
    "                                      test_inputs=None, \n",
    "                                      need_print=False)\n",
    "            result[f'RMSE with {f_name} features'].append(msg)\n",
    "    \n",
    "    return pd.DataFrame(result)"
   ]
  },
  {
   "cell_type": "code",
   "execution_count": 84,
   "id": "97eab047",
   "metadata": {
    "execution": {
     "iopub.execute_input": "2024-09-04T10:22:12.895759Z",
     "iopub.status.busy": "2024-09-04T10:22:12.895304Z",
     "iopub.status.idle": "2024-09-04T10:22:12.906650Z",
     "shell.execute_reply": "2024-09-04T10:22:12.905461Z"
    },
    "papermill": {
     "duration": 0.05756,
     "end_time": "2024-09-04T10:22:12.909181",
     "exception": false,
     "start_time": "2024-09-04T10:22:12.851621",
     "status": "completed"
    },
    "tags": []
   },
   "outputs": [],
   "source": [
    "regressors = {\n",
    "    'LinearRegression': LinearRegression(),\n",
    "    'Ridge': Ridge(),\n",
    "    'DecisionTreeRegressor': DecisionTreeRegressor(),\n",
    "    'RandomForestRegressor': RandomForestRegressor(n_jobs=-1),\n",
    "    'XGBRegressor': XGBRegressor(n_jobs=-1),\n",
    "    'LGBMRegressor': LGBMRegressor(n_jobs=-1, verbose=0),\n",
    "    'CatBoostRegressor': CatBoostRegressor(logging_level='Silent')\n",
    "}\n",
    "features = {\n",
    "    'all': all_features,\n",
    "    'original': original_features,\n",
    "    'importance': importance_features\n",
    "}\n",
    "cv = StratifiedKFold(n_splits=5, shuffle=True, random_state=42)"
   ]
  },
  {
   "cell_type": "code",
   "execution_count": 85,
   "id": "ce94fa43",
   "metadata": {
    "execution": {
     "iopub.execute_input": "2024-09-04T10:22:12.997052Z",
     "iopub.status.busy": "2024-09-04T10:22:12.995819Z",
     "iopub.status.idle": "2024-09-04T10:42:34.081783Z",
     "shell.execute_reply": "2024-09-04T10:42:34.080590Z"
    },
    "papermill": {
     "duration": 1221.17357,
     "end_time": "2024-09-04T10:42:34.125862",
     "exception": false,
     "start_time": "2024-09-04T10:22:12.952292",
     "status": "completed"
    },
    "tags": []
   },
   "outputs": [
    {
     "name": "stdout",
     "output_type": "stream",
     "text": [
      "CPU times: user 1h 12min 30s, sys: 55.5 s, total: 1h 13min 26s\n",
      "Wall time: 20min 21s\n"
     ]
    },
    {
     "data": {
      "text/html": [
       "<div>\n",
       "<style scoped>\n",
       "    .dataframe tbody tr th:only-of-type {\n",
       "        vertical-align: middle;\n",
       "    }\n",
       "\n",
       "    .dataframe tbody tr th {\n",
       "        vertical-align: top;\n",
       "    }\n",
       "\n",
       "    .dataframe thead th {\n",
       "        text-align: right;\n",
       "    }\n",
       "</style>\n",
       "<table border=\"1\" class=\"dataframe\">\n",
       "  <thead>\n",
       "    <tr style=\"text-align: right;\">\n",
       "      <th></th>\n",
       "      <th>Regressor</th>\n",
       "      <th>RMSE with all features</th>\n",
       "      <th>RMSE with original features</th>\n",
       "      <th>RMSE with importance features</th>\n",
       "    </tr>\n",
       "  </thead>\n",
       "  <tbody>\n",
       "    <tr>\n",
       "      <th>0</th>\n",
       "      <td>LinearRegression</td>\n",
       "      <td>73348.8615551 ± 184.2839383</td>\n",
       "      <td>74957.7943141 ± 175.2538847</td>\n",
       "      <td>73491.2788509 ± 178.8616177</td>\n",
       "    </tr>\n",
       "    <tr>\n",
       "      <th>1</th>\n",
       "      <td>Ridge</td>\n",
       "      <td>73348.8613378 ± 184.2832663</td>\n",
       "      <td>74957.7942261 ± 175.2539880</td>\n",
       "      <td>73491.2787767 ± 178.8615462</td>\n",
       "    </tr>\n",
       "    <tr>\n",
       "      <th>2</th>\n",
       "      <td>DecisionTreeRegressor</td>\n",
       "      <td>107567.9342036 ± 2266.8461680</td>\n",
       "      <td>113211.5551814 ± 2632.5695352</td>\n",
       "      <td>112418.7500052 ± 5532.2336725</td>\n",
       "    </tr>\n",
       "    <tr>\n",
       "      <th>3</th>\n",
       "      <td>RandomForestRegressor</td>\n",
       "      <td>77878.6242257 ± 462.9043080</td>\n",
       "      <td>78277.6592819 ± 454.1309325</td>\n",
       "      <td>78203.6547264 ± 556.5355863</td>\n",
       "    </tr>\n",
       "    <tr>\n",
       "      <th>4</th>\n",
       "      <td>XGBRegressor</td>\n",
       "      <td>75878.8835495 ± 485.7405092</td>\n",
       "      <td>75130.2879158 ± 216.7417826</td>\n",
       "      <td>75472.1064604 ± 516.9135262</td>\n",
       "    </tr>\n",
       "    <tr>\n",
       "      <th>5</th>\n",
       "      <td>LGBMRegressor</td>\n",
       "      <td>73039.7907370 ± 234.1091058</td>\n",
       "      <td>73059.5678955 ± 142.6199133</td>\n",
       "      <td>72974.2765527 ± 224.4688789</td>\n",
       "    </tr>\n",
       "    <tr>\n",
       "      <th>6</th>\n",
       "      <td>CatBoostRegressor</td>\n",
       "      <td>73892.0866937 ± 328.7558221</td>\n",
       "      <td>73815.2545957 ± 399.1628689</td>\n",
       "      <td>73980.5915088 ± 324.7950145</td>\n",
       "    </tr>\n",
       "  </tbody>\n",
       "</table>\n",
       "</div>"
      ],
      "text/plain": [
       "               Regressor         RMSE with all features  \\\n",
       "0       LinearRegression    73348.8615551 ± 184.2839383   \n",
       "1                  Ridge    73348.8613378 ± 184.2832663   \n",
       "2  DecisionTreeRegressor  107567.9342036 ± 2266.8461680   \n",
       "3  RandomForestRegressor    77878.6242257 ± 462.9043080   \n",
       "4           XGBRegressor    75878.8835495 ± 485.7405092   \n",
       "5          LGBMRegressor    73039.7907370 ± 234.1091058   \n",
       "6      CatBoostRegressor    73892.0866937 ± 328.7558221   \n",
       "\n",
       "     RMSE with original features  RMSE with importance features  \n",
       "0    74957.7943141 ± 175.2538847    73491.2788509 ± 178.8616177  \n",
       "1    74957.7942261 ± 175.2539880    73491.2787767 ± 178.8615462  \n",
       "2  113211.5551814 ± 2632.5695352  112418.7500052 ± 5532.2336725  \n",
       "3    78277.6592819 ± 454.1309325    78203.6547264 ± 556.5355863  \n",
       "4    75130.2879158 ± 216.7417826    75472.1064604 ± 516.9135262  \n",
       "5    73059.5678955 ± 142.6199133    72974.2765527 ± 224.4688789  \n",
       "6    73815.2545957 ± 399.1628689    73980.5915088 ± 324.7950145  "
      ]
     },
     "execution_count": 85,
     "metadata": {},
     "output_type": "execute_result"
    }
   ],
   "source": [
    "%%time\n",
    "test_with_models(regressors, features, raw_df, 'price', cv)"
   ]
  },
  {
   "cell_type": "markdown",
   "id": "4e337873",
   "metadata": {
    "papermill": {
     "duration": 0.042412,
     "end_time": "2024-09-04T10:42:34.210362",
     "exception": false,
     "start_time": "2024-09-04T10:42:34.167950",
     "status": "completed"
    },
    "tags": []
   },
   "source": [
    "So we choose 3 model to view with `concat_df`, are\n",
    "1. Linear Regression\n",
    "2. LGBM Regressor\n",
    "3. CatBoostRegressor"
   ]
  },
  {
   "cell_type": "code",
   "execution_count": 86,
   "id": "f1db8760",
   "metadata": {
    "execution": {
     "iopub.execute_input": "2024-09-04T10:42:34.296299Z",
     "iopub.status.busy": "2024-09-04T10:42:34.295817Z",
     "iopub.status.idle": "2024-09-04T10:42:34.306008Z",
     "shell.execute_reply": "2024-09-04T10:42:34.304816Z"
    },
    "papermill": {
     "duration": 0.056145,
     "end_time": "2024-09-04T10:42:34.308532",
     "exception": false,
     "start_time": "2024-09-04T10:42:34.252387",
     "status": "completed"
    },
    "tags": []
   },
   "outputs": [],
   "source": [
    "regressors = {\n",
    "    'LinearRegression': LinearRegression(),\n",
    "    'LGBMRegressor': LGBMRegressor(n_jobs=-1, verbose=0),\n",
    "    'CatBoostRegressor': CatBoostRegressor(logging_level='Silent')\n",
    "}\n",
    "features = {\n",
    "    'all': all_features,\n",
    "    'original': original_features,\n",
    "    'importance': importance_features\n",
    "}"
   ]
  },
  {
   "cell_type": "code",
   "execution_count": 87,
   "id": "1cf78091",
   "metadata": {
    "_kg_hide-input": true,
    "_kg_hide-output": true,
    "execution": {
     "iopub.execute_input": "2024-09-04T10:42:34.396947Z",
     "iopub.status.busy": "2024-09-04T10:42:34.396493Z",
     "iopub.status.idle": "2024-09-04T10:48:05.334762Z",
     "shell.execute_reply": "2024-09-04T10:48:05.333418Z"
    },
    "papermill": {
     "duration": 331.026486,
     "end_time": "2024-09-04T10:48:05.379153",
     "exception": false,
     "start_time": "2024-09-04T10:42:34.352667",
     "status": "completed"
    },
    "scrolled": true,
    "tags": []
   },
   "outputs": [
    {
     "name": "stderr",
     "output_type": "stream",
     "text": [
      "/opt/conda/lib/python3.10/site-packages/sklearn/model_selection/_split.py:700: UserWarning: The least populated class in y has only 1 members, which is less than n_splits=5.\n",
      "  warnings.warn(\n",
      "/opt/conda/lib/python3.10/site-packages/sklearn/model_selection/_split.py:700: UserWarning: The least populated class in y has only 1 members, which is less than n_splits=5.\n",
      "  warnings.warn(\n",
      "/opt/conda/lib/python3.10/site-packages/sklearn/model_selection/_split.py:700: UserWarning: The least populated class in y has only 1 members, which is less than n_splits=5.\n",
      "  warnings.warn(\n",
      "/opt/conda/lib/python3.10/site-packages/sklearn/model_selection/_split.py:700: UserWarning: The least populated class in y has only 1 members, which is less than n_splits=5.\n",
      "  warnings.warn(\n",
      "/opt/conda/lib/python3.10/site-packages/sklearn/model_selection/_split.py:700: UserWarning: The least populated class in y has only 1 members, which is less than n_splits=5.\n",
      "  warnings.warn(\n",
      "/opt/conda/lib/python3.10/site-packages/sklearn/model_selection/_split.py:700: UserWarning: The least populated class in y has only 1 members, which is less than n_splits=5.\n",
      "  warnings.warn(\n",
      "/opt/conda/lib/python3.10/site-packages/sklearn/model_selection/_split.py:700: UserWarning: The least populated class in y has only 1 members, which is less than n_splits=5.\n",
      "  warnings.warn(\n",
      "/opt/conda/lib/python3.10/site-packages/sklearn/model_selection/_split.py:700: UserWarning: The least populated class in y has only 1 members, which is less than n_splits=5.\n",
      "  warnings.warn(\n",
      "/opt/conda/lib/python3.10/site-packages/sklearn/model_selection/_split.py:700: UserWarning: The least populated class in y has only 1 members, which is less than n_splits=5.\n",
      "  warnings.warn(\n"
     ]
    },
    {
     "name": "stdout",
     "output_type": "stream",
     "text": [
      "CPU times: user 17min 7s, sys: 40.8 s, total: 17min 47s\n",
      "Wall time: 5min 30s\n"
     ]
    }
   ],
   "source": [
    "%%time\n",
    "result_df = test_with_models(regressors, features, concat_df, 'price', cv)"
   ]
  },
  {
   "cell_type": "code",
   "execution_count": 88,
   "id": "22a9a59f",
   "metadata": {
    "execution": {
     "iopub.execute_input": "2024-09-04T10:48:05.466614Z",
     "iopub.status.busy": "2024-09-04T10:48:05.465651Z",
     "iopub.status.idle": "2024-09-04T10:48:05.477647Z",
     "shell.execute_reply": "2024-09-04T10:48:05.476513Z"
    },
    "papermill": {
     "duration": 0.058304,
     "end_time": "2024-09-04T10:48:05.479914",
     "exception": false,
     "start_time": "2024-09-04T10:48:05.421610",
     "status": "completed"
    },
    "tags": []
   },
   "outputs": [
    {
     "data": {
      "text/html": [
       "<div>\n",
       "<style scoped>\n",
       "    .dataframe tbody tr th:only-of-type {\n",
       "        vertical-align: middle;\n",
       "    }\n",
       "\n",
       "    .dataframe tbody tr th {\n",
       "        vertical-align: top;\n",
       "    }\n",
       "\n",
       "    .dataframe thead th {\n",
       "        text-align: right;\n",
       "    }\n",
       "</style>\n",
       "<table border=\"1\" class=\"dataframe\">\n",
       "  <thead>\n",
       "    <tr style=\"text-align: right;\">\n",
       "      <th></th>\n",
       "      <th>Regressor</th>\n",
       "      <th>RMSE with all features</th>\n",
       "      <th>RMSE with original features</th>\n",
       "      <th>RMSE with importance features</th>\n",
       "    </tr>\n",
       "  </thead>\n",
       "  <tbody>\n",
       "    <tr>\n",
       "      <th>0</th>\n",
       "      <td>LinearRegression</td>\n",
       "      <td>72763.9163446 ± 365.3429900</td>\n",
       "      <td>74439.4463170 ± 329.8490837</td>\n",
       "      <td>72910.5912975 ± 367.7272879</td>\n",
       "    </tr>\n",
       "    <tr>\n",
       "      <th>1</th>\n",
       "      <td>LGBMRegressor</td>\n",
       "      <td>72422.6855465 ± 385.3643520</td>\n",
       "      <td>72511.7220374 ± 358.6435397</td>\n",
       "      <td>72450.5065706 ± 397.7591638</td>\n",
       "    </tr>\n",
       "    <tr>\n",
       "      <th>2</th>\n",
       "      <td>CatBoostRegressor</td>\n",
       "      <td>73053.9639553 ± 294.9529150</td>\n",
       "      <td>73038.6166105 ± 175.5798309</td>\n",
       "      <td>73307.9874660 ± 445.2878678</td>\n",
       "    </tr>\n",
       "  </tbody>\n",
       "</table>\n",
       "</div>"
      ],
      "text/plain": [
       "           Regressor       RMSE with all features  \\\n",
       "0   LinearRegression  72763.9163446 ± 365.3429900   \n",
       "1      LGBMRegressor  72422.6855465 ± 385.3643520   \n",
       "2  CatBoostRegressor  73053.9639553 ± 294.9529150   \n",
       "\n",
       "   RMSE with original features RMSE with importance features  \n",
       "0  74439.4463170 ± 329.8490837   72910.5912975 ± 367.7272879  \n",
       "1  72511.7220374 ± 358.6435397   72450.5065706 ± 397.7591638  \n",
       "2  73038.6166105 ± 175.5798309   73307.9874660 ± 445.2878678  "
      ]
     },
     "execution_count": 88,
     "metadata": {},
     "output_type": "execute_result"
    }
   ],
   "source": [
    "result_df"
   ]
  },
  {
   "cell_type": "markdown",
   "id": "c63a0235",
   "metadata": {
    "papermill": {
     "duration": 0.043436,
     "end_time": "2024-09-04T10:48:05.565524",
     "exception": false,
     "start_time": "2024-09-04T10:48:05.522088",
     "status": "completed"
    },
    "tags": []
   },
   "source": [
    "From this result, we can see that original model make a huge decrese in RMSE, and we can choose `importance_features` for LinearRegression, `all_features` and `original_features` for LGBM and CatBoost (with std smaller)."
   ]
  },
  {
   "cell_type": "code",
   "execution_count": 89,
   "id": "2368cb77",
   "metadata": {
    "execution": {
     "iopub.execute_input": "2024-09-04T10:48:05.653023Z",
     "iopub.status.busy": "2024-09-04T10:48:05.652614Z",
     "iopub.status.idle": "2024-09-04T10:48:05.657454Z",
     "shell.execute_reply": "2024-09-04T10:48:05.656345Z"
    },
    "papermill": {
     "duration": 0.051254,
     "end_time": "2024-09-04T10:48:05.659746",
     "exception": false,
     "start_time": "2024-09-04T10:48:05.608492",
     "status": "completed"
    },
    "tags": []
   },
   "outputs": [],
   "source": [
    "# Save the LB score\n",
    "lb_dict = dict()"
   ]
  },
  {
   "cell_type": "markdown",
   "id": "6fd1b030",
   "metadata": {
    "papermill": {
     "duration": 0.04174,
     "end_time": "2024-09-04T10:48:05.744032",
     "exception": false,
     "start_time": "2024-09-04T10:48:05.702292",
     "status": "completed"
    },
    "tags": []
   },
   "source": [
    "### Linear Regression"
   ]
  },
  {
   "cell_type": "code",
   "execution_count": 90,
   "id": "9f350d85",
   "metadata": {
    "execution": {
     "iopub.execute_input": "2024-09-04T10:48:05.830588Z",
     "iopub.status.busy": "2024-09-04T10:48:05.829545Z",
     "iopub.status.idle": "2024-09-04T10:48:05.846578Z",
     "shell.execute_reply": "2024-09-04T10:48:05.845589Z"
    },
    "papermill": {
     "duration": 0.062675,
     "end_time": "2024-09-04T10:48:05.848971",
     "exception": false,
     "start_time": "2024-09-04T10:48:05.786296",
     "status": "completed"
    },
    "tags": []
   },
   "outputs": [],
   "source": [
    "inputs, targets = concat_df[importance_features], concat_df['price']\n",
    "test_inputs = test_df[importance_features]"
   ]
  },
  {
   "cell_type": "code",
   "execution_count": 91,
   "id": "7c618a22",
   "metadata": {
    "execution": {
     "iopub.execute_input": "2024-09-04T10:48:05.935175Z",
     "iopub.status.busy": "2024-09-04T10:48:05.934718Z",
     "iopub.status.idle": "2024-09-04T10:48:07.153347Z",
     "shell.execute_reply": "2024-09-04T10:48:07.152022Z"
    },
    "papermill": {
     "duration": 1.265305,
     "end_time": "2024-09-04T10:48:07.156611",
     "exception": false,
     "start_time": "2024-09-04T10:48:05.891306",
     "status": "completed"
    },
    "tags": []
   },
   "outputs": [
    {
     "name": "stderr",
     "output_type": "stream",
     "text": [
      "/opt/conda/lib/python3.10/site-packages/sklearn/model_selection/_split.py:700: UserWarning: The least populated class in y has only 1 members, which is less than n_splits=5.\n",
      "  warnings.warn(\n"
     ]
    },
    {
     "name": "stdout",
     "output_type": "stream",
     "text": [
      "Fold 0: train_loss = 72792.35156, val_loss = 73345.25138\n",
      "Fold 1: train_loss = 72850.08322, val_loss = 73111.55824\n",
      "Fold 2: train_loss = 73010.75455, val_loss = 72468.71334\n",
      "Fold 3: train_loss = 73009.42694, val_loss = 72472.56122\n",
      "Fold 4: train_loss = 72839.92698, val_loss = 73154.87231\n",
      "Train loss: 72900.5086500 ± 91.5731094 | Val loss: 72910.5912975 ± 367.7272879\n",
      "CPU times: user 2.69 s, sys: 681 ms, total: 3.38 s\n",
      "Wall time: 1.2 s\n"
     ]
    }
   ],
   "source": [
    "%%time\n",
    "reg = LinearRegression()\n",
    "test_preds, _ = cross_validation(reg, cv, inputs, targets, test_inputs, need_print=True)"
   ]
  },
  {
   "cell_type": "code",
   "execution_count": 92,
   "id": "2c05941e",
   "metadata": {
    "execution": {
     "iopub.execute_input": "2024-09-04T10:48:07.303781Z",
     "iopub.status.busy": "2024-09-04T10:48:07.303334Z",
     "iopub.status.idle": "2024-09-04T10:48:07.584685Z",
     "shell.execute_reply": "2024-09-04T10:48:07.583276Z"
    },
    "papermill": {
     "duration": 0.331007,
     "end_time": "2024-09-04T10:48:07.587478",
     "exception": false,
     "start_time": "2024-09-04T10:48:07.256471",
     "status": "completed"
    },
    "tags": []
   },
   "outputs": [],
   "source": [
    "sub_df['price'] = test_preds\n",
    "sub_df.to_csv('/kaggle/working/sub_linear.csv', index=None)\n",
    "sub_df.head()\n",
    "#LB: 73538.59470\n",
    "lb_dict['linear'] = 73538.59470"
   ]
  },
  {
   "cell_type": "markdown",
   "id": "7d1e0472",
   "metadata": {
    "papermill": {
     "duration": 0.043089,
     "end_time": "2024-09-04T10:48:07.675176",
     "exception": false,
     "start_time": "2024-09-04T10:48:07.632087",
     "status": "completed"
    },
    "tags": []
   },
   "source": [
    "### LGBM Regressor"
   ]
  },
  {
   "cell_type": "code",
   "execution_count": 93,
   "id": "d3fa6803",
   "metadata": {
    "execution": {
     "iopub.execute_input": "2024-09-04T10:48:07.764672Z",
     "iopub.status.busy": "2024-09-04T10:48:07.764251Z",
     "iopub.status.idle": "2024-09-04T10:48:07.778356Z",
     "shell.execute_reply": "2024-09-04T10:48:07.777185Z"
    },
    "papermill": {
     "duration": 0.062334,
     "end_time": "2024-09-04T10:48:07.780774",
     "exception": false,
     "start_time": "2024-09-04T10:48:07.718440",
     "status": "completed"
    },
    "tags": []
   },
   "outputs": [],
   "source": [
    "param_dis = {\n",
    "    'num_leaves': np.arange(35,300,7),\n",
    "    'n_jobs': [-1],\n",
    "    'reg_lambda': loguniform(1e-5,4),\n",
    "    'reg_alpha': loguniform(1e-5,4),\n",
    "    'n_estimators': np.arange(90,341,40),\n",
    "    'learning_rate': loguniform(0.001,0.2),\n",
    "    'max_depth': np.arange(25,55,3),\n",
    "    'min_split_gain': loguniform(1e-8,0.1),\n",
    "    'min_child_weight': loguniform(1e-4,0.1),\n",
    "    'min_child_samples': np.arange(14,30,4),\n",
    "    'subsample': loguniform(0.25,1),\n",
    "    'colsample_bytree': loguniform(0.25,1),\n",
    "    'random_state': [42],\n",
    "    'verbose': [0]\n",
    "}"
   ]
  },
  {
   "cell_type": "code",
   "execution_count": 94,
   "id": "7d15399a",
   "metadata": {
    "execution": {
     "iopub.execute_input": "2024-09-04T10:48:07.871759Z",
     "iopub.status.busy": "2024-09-04T10:48:07.871326Z",
     "iopub.status.idle": "2024-09-04T10:48:07.879996Z",
     "shell.execute_reply": "2024-09-04T10:48:07.878661Z"
    },
    "papermill": {
     "duration": 0.057201,
     "end_time": "2024-09-04T10:48:07.882374",
     "exception": false,
     "start_time": "2024-09-04T10:48:07.825173",
     "status": "completed"
    },
    "scrolled": true,
    "tags": []
   },
   "outputs": [
    {
     "data": {
      "text/plain": [
       "\"\\nsearch = RandomizedSearchCV(LGBMRegressor(),\\n                            param_dis,\\n                            n_iter=120,\\n                            scoring='neg_root_mean_squared_error', cv=4,\\n                            refit=True, verbose=3)\\ninputs, targets = concat_df[all_features], concat_df['price']\\ntest_inputs = test_df[all_features]\\nsearch.fit(inputs, targets)\\n\""
      ]
     },
     "execution_count": 94,
     "metadata": {},
     "output_type": "execute_result"
    }
   ],
   "source": [
    "# Search for all features\n",
    "'''\n",
    "search = RandomizedSearchCV(LGBMRegressor(),\n",
    "                            param_dis,\n",
    "                            n_iter=120,\n",
    "                            scoring='neg_root_mean_squared_error', cv=4,\n",
    "                            refit=True, verbose=3)\n",
    "inputs, targets = concat_df[all_features], concat_df['price']\n",
    "test_inputs = test_df[all_features]\n",
    "search.fit(inputs, targets)\n",
    "'''"
   ]
  },
  {
   "cell_type": "code",
   "execution_count": 95,
   "id": "ae516a16",
   "metadata": {
    "execution": {
     "iopub.execute_input": "2024-09-04T10:48:07.974595Z",
     "iopub.status.busy": "2024-09-04T10:48:07.974070Z",
     "iopub.status.idle": "2024-09-04T10:48:07.981631Z",
     "shell.execute_reply": "2024-09-04T10:48:07.980301Z"
    },
    "papermill": {
     "duration": 0.056308,
     "end_time": "2024-09-04T10:48:07.984077",
     "exception": false,
     "start_time": "2024-09-04T10:48:07.927769",
     "status": "completed"
    },
    "tags": []
   },
   "outputs": [],
   "source": [
    "all_f_best_params = {\n",
    "    'colsample_bytree': 0.2758204682094911,\n",
    "    'learning_rate': 0.01732638635468214,\n",
    "    'max_depth': 25,\n",
    "    'min_child_samples': 22,\n",
    "    'min_child_weight': 0.005920952507638368,\n",
    "    'min_split_gain': 0.00017795678355682018,\n",
    "    'n_estimators': 330,\n",
    "    'n_jobs': -1,\n",
    "    'num_leaves': 70,\n",
    "    'random_state': 42,\n",
    "    'reg_alpha': 0.0008202625309476396,\n",
    "    'reg_lambda': 0.008483893356895155,\n",
    "    'subsample': 0.8197692565344892,\n",
    "    'verbose': 0\n",
    "}\n",
    "reg = LGBMRegressor(**all_f_best_params)"
   ]
  },
  {
   "cell_type": "code",
   "execution_count": 96,
   "id": "4b578409",
   "metadata": {
    "execution": {
     "iopub.execute_input": "2024-09-04T10:48:08.073611Z",
     "iopub.status.busy": "2024-09-04T10:48:08.073104Z",
     "iopub.status.idle": "2024-09-04T10:49:26.778155Z",
     "shell.execute_reply": "2024-09-04T10:49:26.776618Z"
    },
    "papermill": {
     "duration": 78.752308,
     "end_time": "2024-09-04T10:49:26.780696",
     "exception": false,
     "start_time": "2024-09-04T10:48:08.028388",
     "status": "completed"
    },
    "tags": []
   },
   "outputs": [
    {
     "name": "stderr",
     "output_type": "stream",
     "text": [
      "/opt/conda/lib/python3.10/site-packages/sklearn/model_selection/_split.py:700: UserWarning: The least populated class in y has only 1 members, which is less than n_splits=5.\n",
      "  warnings.warn(\n"
     ]
    },
    {
     "name": "stdout",
     "output_type": "stream",
     "text": [
      "Fold 0: train_loss = 68194.32974, val_loss = 72540.13409\n",
      "Fold 1: train_loss = 68058.15904, val_loss = 72275.42802\n",
      "Fold 2: train_loss = 68182.78698, val_loss = 71797.15054\n",
      "Fold 3: train_loss = 68497.72318, val_loss = 71496.54412\n",
      "Fold 4: train_loss = 68073.53183, val_loss = 72257.68876\n",
      "Train loss: 68201.3061561 ± 158.1594491 | Val loss: 72073.3891058 ± 374.6184298\n",
      "CPU times: user 1min 18s, sys: 13 ms, total: 1min 18s\n",
      "Wall time: 1min 18s\n"
     ]
    }
   ],
   "source": [
    "%%time\n",
    "inputs, targets = concat_df[all_features], concat_df['price']\n",
    "test_inputs = test_df[all_features]\n",
    "test_preds, _ = cross_validation(reg, cv, inputs, targets, test_inputs, need_print=True)"
   ]
  },
  {
   "cell_type": "code",
   "execution_count": 97,
   "id": "d99d258d",
   "metadata": {
    "execution": {
     "iopub.execute_input": "2024-09-04T10:49:26.875991Z",
     "iopub.status.busy": "2024-09-04T10:49:26.875540Z",
     "iopub.status.idle": "2024-09-04T10:49:27.180408Z",
     "shell.execute_reply": "2024-09-04T10:49:27.179031Z"
    },
    "papermill": {
     "duration": 0.357964,
     "end_time": "2024-09-04T10:49:27.183360",
     "exception": false,
     "start_time": "2024-09-04T10:49:26.825396",
     "status": "completed"
    },
    "tags": []
   },
   "outputs": [],
   "source": [
    "sub_df['price'] = test_preds\n",
    "sub_df.to_csv('/kaggle/working/sub_lgbm_all.csv', index=None)\n",
    "sub_df.head()\n",
    "#LB: 72440.64497\n",
    "lb_dict['LGBM with all features'] = 72440.64497 "
   ]
  },
  {
   "cell_type": "code",
   "execution_count": 98,
   "id": "ee855896",
   "metadata": {
    "execution": {
     "iopub.execute_input": "2024-09-04T10:49:27.274812Z",
     "iopub.status.busy": "2024-09-04T10:49:27.274395Z",
     "iopub.status.idle": "2024-09-04T10:49:27.291482Z",
     "shell.execute_reply": "2024-09-04T10:49:27.290217Z"
    },
    "papermill": {
     "duration": 0.065977,
     "end_time": "2024-09-04T10:49:27.294012",
     "exception": false,
     "start_time": "2024-09-04T10:49:27.228035",
     "status": "completed"
    },
    "tags": []
   },
   "outputs": [
    {
     "data": {
      "text/plain": [
       "\"\\nsearch = RandomizedSearchCV(LGBMRegressor(),\\n                            param_dis,\\n                            n_iter=120,\\n                            scoring='neg_root_mean_squared_error', cv=4,\\n                            refit=True, verbose=3)\\ninputs, targets = concat_df[original_features], concat_df['price']\\ntest_inputs = test_df[original_features]\\nsearch.fit(inputs, targets)\\n\""
      ]
     },
     "execution_count": 98,
     "metadata": {},
     "output_type": "execute_result"
    }
   ],
   "source": [
    "# Search for original features\n",
    "param_dis = {\n",
    "    'num_leaves': np.arange(35,300,7),\n",
    "    'n_jobs': [-1],\n",
    "    'reg_lambda': loguniform(1e-5,4),\n",
    "    'reg_alpha': loguniform(1e-5,4),\n",
    "    'n_estimators': np.arange(90,341,40),\n",
    "    'learning_rate': loguniform(0.001,0.2),\n",
    "    'max_depth': np.arange(35,60,3),\n",
    "    'min_split_gain': loguniform(1e-8,0.1),\n",
    "    'min_child_weight': loguniform(1e-4,0.1),\n",
    "    'min_child_samples': np.arange(14,30,4),\n",
    "    'subsample': loguniform(0.25,1),\n",
    "    'colsample_bytree': loguniform(0.25,1),\n",
    "    'random_state': [42],\n",
    "    'verbose': [0]\n",
    "}\n",
    "'''\n",
    "search = RandomizedSearchCV(LGBMRegressor(),\n",
    "                            param_dis,\n",
    "                            n_iter=120,\n",
    "                            scoring='neg_root_mean_squared_error', cv=4,\n",
    "                            refit=True, verbose=3)\n",
    "inputs, targets = concat_df[original_features], concat_df['price']\n",
    "test_inputs = test_df[original_features]\n",
    "search.fit(inputs, targets)\n",
    "'''"
   ]
  },
  {
   "cell_type": "code",
   "execution_count": 99,
   "id": "b9324d2c",
   "metadata": {
    "execution": {
     "iopub.execute_input": "2024-09-04T10:49:27.384508Z",
     "iopub.status.busy": "2024-09-04T10:49:27.384099Z",
     "iopub.status.idle": "2024-09-04T10:49:27.391487Z",
     "shell.execute_reply": "2024-09-04T10:49:27.389791Z"
    },
    "papermill": {
     "duration": 0.056464,
     "end_time": "2024-09-04T10:49:27.394234",
     "exception": false,
     "start_time": "2024-09-04T10:49:27.337770",
     "status": "completed"
    },
    "tags": []
   },
   "outputs": [],
   "source": [
    "ori_f_best_params = {\n",
    "    'colsample_bytree': 0.4780013232664833,\n",
    "    'learning_rate': 0.007510835510779154,\n",
    "    'max_depth': 53,\n",
    "    'min_child_samples': 22,\n",
    "    'min_child_weight': 0.0068460232273130335,\n",
    "    'min_split_gain': 2.8810783623795097e-08,\n",
    "    'n_estimators': 330,\n",
    "    'n_jobs': -1,\n",
    "    'num_leaves': 231,\n",
    "    'random_state': 42,\n",
    "    'reg_alpha': 0.016505184112964685,\n",
    "    'reg_lambda': 0.00013891421826824215,\n",
    "    'subsample': 0.49955117962103773,\n",
    "    'verbose': 0\n",
    "}\n",
    "reg = LGBMRegressor(**ori_f_best_params)"
   ]
  },
  {
   "cell_type": "code",
   "execution_count": 100,
   "id": "28078355",
   "metadata": {
    "execution": {
     "iopub.execute_input": "2024-09-04T10:49:27.483859Z",
     "iopub.status.busy": "2024-09-04T10:49:27.483430Z",
     "iopub.status.idle": "2024-09-04T10:51:28.997242Z",
     "shell.execute_reply": "2024-09-04T10:51:28.995917Z"
    },
    "papermill": {
     "duration": 121.561947,
     "end_time": "2024-09-04T10:51:29.000048",
     "exception": false,
     "start_time": "2024-09-04T10:49:27.438101",
     "status": "completed"
    },
    "tags": []
   },
   "outputs": [
    {
     "name": "stderr",
     "output_type": "stream",
     "text": [
      "/opt/conda/lib/python3.10/site-packages/sklearn/model_selection/_split.py:700: UserWarning: The least populated class in y has only 1 members, which is less than n_splits=5.\n",
      "  warnings.warn(\n"
     ]
    },
    {
     "name": "stdout",
     "output_type": "stream",
     "text": [
      "Fold 0: train_loss = 68786.13155, val_loss = 72820.40726\n",
      "Fold 1: train_loss = 68795.82442, val_loss = 72521.71828\n",
      "Fold 2: train_loss = 69000.18616, val_loss = 71909.13552\n",
      "Fold 3: train_loss = 69037.09209, val_loss = 71796.25270\n",
      "Fold 4: train_loss = 68730.93654, val_loss = 72543.11200\n",
      "Train loss: 68870.0341521 ± 123.8892880 | Val loss: 72318.1251526 ± 395.9747293\n",
      "CPU times: user 2min 1s, sys: 34.3 ms, total: 2min 1s\n",
      "Wall time: 2min 1s\n"
     ]
    }
   ],
   "source": [
    "%%time\n",
    "inputs, targets = concat_df[original_features], concat_df['price']\n",
    "test_inputs = test_df[original_features]\n",
    "test_preds, _ = cross_validation(reg, cv, inputs, targets, test_inputs, need_print=True)"
   ]
  },
  {
   "cell_type": "code",
   "execution_count": 101,
   "id": "a80da3c9",
   "metadata": {
    "execution": {
     "iopub.execute_input": "2024-09-04T10:51:29.092119Z",
     "iopub.status.busy": "2024-09-04T10:51:29.091695Z",
     "iopub.status.idle": "2024-09-04T10:51:29.370616Z",
     "shell.execute_reply": "2024-09-04T10:51:29.369383Z"
    },
    "papermill": {
     "duration": 0.327077,
     "end_time": "2024-09-04T10:51:29.373126",
     "exception": false,
     "start_time": "2024-09-04T10:51:29.046049",
     "status": "completed"
    },
    "tags": []
   },
   "outputs": [],
   "source": [
    "sub_df['price'] = test_preds\n",
    "sub_df.to_csv('/kaggle/working/sub_lgbm_ori.csv', index=None)\n",
    "sub_df.head()\n",
    "## LB: 72475.26745\n",
    "lb_dict['LGBM with original features'] = 72475.64497 "
   ]
  },
  {
   "cell_type": "code",
   "execution_count": 102,
   "id": "f4a8c669",
   "metadata": {
    "execution": {
     "iopub.execute_input": "2024-09-04T10:51:29.466259Z",
     "iopub.status.busy": "2024-09-04T10:51:29.465283Z",
     "iopub.status.idle": "2024-09-04T10:52:45.010710Z",
     "shell.execute_reply": "2024-09-04T10:52:45.009137Z"
    },
    "papermill": {
     "duration": 75.594039,
     "end_time": "2024-09-04T10:52:45.013002",
     "exception": false,
     "start_time": "2024-09-04T10:51:29.418963",
     "status": "completed"
    },
    "tags": []
   },
   "outputs": [
    {
     "name": "stderr",
     "output_type": "stream",
     "text": [
      "/opt/conda/lib/python3.10/site-packages/sklearn/model_selection/_split.py:700: UserWarning: The least populated class in y has only 1 members, which is less than n_splits=5.\n",
      "  warnings.warn(\n"
     ]
    },
    {
     "name": "stdout",
     "output_type": "stream",
     "text": [
      "[LightGBM] [Warning] No further splits with positive gain, best gain: -inf\n",
      "[LightGBM] [Warning] No further splits with positive gain, best gain: -inf\n",
      "Fold 0: train_loss = 70352.27614, val_loss = 72748.53117\n",
      "[LightGBM] [Warning] No further splits with positive gain, best gain: -inf\n",
      "[LightGBM] [Warning] No further splits with positive gain, best gain: -inf\n",
      "Fold 1: train_loss = 70334.34699, val_loss = 72410.40752\n",
      "[LightGBM] [Warning] No further splits with positive gain, best gain: -inf\n",
      "[LightGBM] [Warning] No further splits with positive gain, best gain: -inf\n",
      "Fold 2: train_loss = 70607.61737, val_loss = 71732.17209\n",
      "[LightGBM] [Warning] No further splits with positive gain, best gain: -inf\n",
      "[LightGBM] [Warning] No further splits with positive gain, best gain: -inf\n",
      "Fold 3: train_loss = 70676.18333, val_loss = 71658.72620\n",
      "[LightGBM] [Warning] No further splits with positive gain, best gain: -inf\n",
      "[LightGBM] [Warning] No further splits with positive gain, best gain: -inf\n",
      "Fold 4: train_loss = 70411.63906, val_loss = 72437.98104\n",
      "Train loss: 70476.4125778 ± 139.2200742 | Val loss: 72197.5636045 ± 427.4583827\n",
      "CPU times: user 1min 15s, sys: 18.8 ms, total: 1min 15s\n",
      "Wall time: 1min 15s\n"
     ]
    }
   ],
   "source": [
    "%%time\n",
    "reg = LGBMRegressor(**all_f_best_params)\n",
    "# Test with original features and best params of all features\n",
    "test_preds, _ = cross_validation(reg, cv, inputs, targets, test_inputs, need_print=True)"
   ]
  },
  {
   "cell_type": "code",
   "execution_count": 103,
   "id": "68bab5f0",
   "metadata": {
    "execution": {
     "iopub.execute_input": "2024-09-04T10:52:45.105361Z",
     "iopub.status.busy": "2024-09-04T10:52:45.104931Z",
     "iopub.status.idle": "2024-09-04T10:52:45.386379Z",
     "shell.execute_reply": "2024-09-04T10:52:45.384905Z"
    },
    "papermill": {
     "duration": 0.330478,
     "end_time": "2024-09-04T10:52:45.388971",
     "exception": false,
     "start_time": "2024-09-04T10:52:45.058493",
     "status": "completed"
    },
    "tags": []
   },
   "outputs": [],
   "source": [
    "sub_df['price'] = test_preds\n",
    "sub_df.to_csv('/kaggle/working/sub_lgbm_all_ori.csv', index=None)\n",
    "sub_df.head()\n",
    "## LB: 72362.53542\n",
    "lb_dict['LGBM with original features and params opt by all features'] = 72362.53542 "
   ]
  },
  {
   "cell_type": "markdown",
   "id": "3f889e73",
   "metadata": {
    "papermill": {
     "duration": 0.045436,
     "end_time": "2024-09-04T10:52:45.480877",
     "exception": false,
     "start_time": "2024-09-04T10:52:45.435441",
     "status": "completed"
    },
    "tags": []
   },
   "source": [
    "### CatBoost"
   ]
  },
  {
   "cell_type": "code",
   "execution_count": 104,
   "id": "099e8494",
   "metadata": {
    "execution": {
     "iopub.execute_input": "2024-09-04T10:52:45.573446Z",
     "iopub.status.busy": "2024-09-04T10:52:45.573023Z",
     "iopub.status.idle": "2024-09-04T10:52:45.586057Z",
     "shell.execute_reply": "2024-09-04T10:52:45.584709Z"
    },
    "papermill": {
     "duration": 0.062106,
     "end_time": "2024-09-04T10:52:45.588337",
     "exception": false,
     "start_time": "2024-09-04T10:52:45.526231",
     "status": "completed"
    },
    "tags": []
   },
   "outputs": [
    {
     "data": {
      "text/plain": [
       "\"\\nsearch = RandomizedSearchCV(CatBoostRegressor(),\\n                            param_dis,\\n                            n_iter=60,\\n                            scoring='neg_root_mean_squared_error', cv=4,\\n                            refit=True, verbose=3)\\ninputs, targets = concat_df[all_features], concat_df['price']\\ntest_inputs = test_df[all_features]\\n# Fit in 2h3min\\n%%time\\nsearch.fit(inputs, targets)\\n\""
      ]
     },
     "execution_count": 104,
     "metadata": {},
     "output_type": "execute_result"
    }
   ],
   "source": [
    "# Search for all features\n",
    "param_dis = {\n",
    "    'eval_metric': ['RMSE'],\n",
    "    'iterations': np.arange(750,1800,250),\n",
    "    'learning_rate': loguniform(0.005,0.1),\n",
    "    'random_seed': [42],\n",
    "    'l2_leaf_reg': loguniform(0.8,50),\n",
    "    'bagging_temperature': loguniform(1e-4,1),\n",
    "    'random_strength': np.arange(1,10),\n",
    "    'depth': np.arange(6,10),\n",
    "    'min_data_in_leaf': np.arange(1,4),\n",
    "    'border_count': np.arange(64,256,50),\n",
    "    'logging_level': ['Silent']\n",
    "}\n",
    "'''\n",
    "search = RandomizedSearchCV(CatBoostRegressor(),\n",
    "                            param_dis,\n",
    "                            n_iter=60,\n",
    "                            scoring='neg_root_mean_squared_error', cv=4,\n",
    "                            refit=True, verbose=3)\n",
    "inputs, targets = concat_df[all_features], concat_df['price']\n",
    "test_inputs = test_df[all_features]\n",
    "# Fit in 2h3min\n",
    "%%time\n",
    "search.fit(inputs, targets)\n",
    "'''"
   ]
  },
  {
   "cell_type": "code",
   "execution_count": 105,
   "id": "758d3ab3",
   "metadata": {
    "execution": {
     "iopub.execute_input": "2024-09-04T10:52:45.683174Z",
     "iopub.status.busy": "2024-09-04T10:52:45.682730Z",
     "iopub.status.idle": "2024-09-04T10:52:45.689287Z",
     "shell.execute_reply": "2024-09-04T10:52:45.688029Z"
    },
    "papermill": {
     "duration": 0.056991,
     "end_time": "2024-09-04T10:52:45.691594",
     "exception": false,
     "start_time": "2024-09-04T10:52:45.634603",
     "status": "completed"
    },
    "tags": []
   },
   "outputs": [],
   "source": [
    "all_f_best_params = {\n",
    "    'bagging_temperature': 0.03511697617804005,\n",
    "    'border_count': 114,\n",
    "    'depth': 9,\n",
    "    'eval_metric': 'RMSE',\n",
    "    'iterations': 1500,\n",
    "    'l2_leaf_reg': 10.454859619147957,\n",
    "    'learning_rate': 0.005887205040643729,\n",
    "    'logging_level': 'Silent',\n",
    "    'min_data_in_leaf': 1,\n",
    "    'random_seed': 42,\n",
    "    'random_strength': 7\n",
    "}\n",
    "reg = CatBoostRegressor(**all_f_best_params)"
   ]
  },
  {
   "cell_type": "code",
   "execution_count": 106,
   "id": "5803bc61",
   "metadata": {
    "execution": {
     "iopub.execute_input": "2024-09-04T10:52:45.785003Z",
     "iopub.status.busy": "2024-09-04T10:52:45.784541Z",
     "iopub.status.idle": "2024-09-04T10:56:50.918787Z",
     "shell.execute_reply": "2024-09-04T10:56:50.917279Z"
    },
    "papermill": {
     "duration": 245.183606,
     "end_time": "2024-09-04T10:56:50.921306",
     "exception": false,
     "start_time": "2024-09-04T10:52:45.737700",
     "status": "completed"
    },
    "tags": []
   },
   "outputs": [
    {
     "name": "stderr",
     "output_type": "stream",
     "text": [
      "/opt/conda/lib/python3.10/site-packages/sklearn/model_selection/_split.py:700: UserWarning: The least populated class in y has only 1 members, which is less than n_splits=5.\n",
      "  warnings.warn(\n"
     ]
    },
    {
     "name": "stdout",
     "output_type": "stream",
     "text": [
      "Fold 0: train_loss = 70634.33020, val_loss = 72487.11044\n",
      "Fold 1: train_loss = 70664.10933, val_loss = 72150.97340\n",
      "Fold 2: train_loss = 70778.26171, val_loss = 71585.89576\n",
      "Fold 3: train_loss = 70948.35067, val_loss = 71510.66739\n",
      "Fold 4: train_loss = 70620.44457, val_loss = 72271.40318\n",
      "Train loss: 70729.0992958 ± 122.8811118 | Val loss: 72001.2100333 ± 385.9146640\n",
      "CPU times: user 14min 13s, sys: 31.2 s, total: 14min 44s\n",
      "Wall time: 4min 5s\n"
     ]
    }
   ],
   "source": [
    "%%time\n",
    "inputs, targets = concat_df[all_features], concat_df['price']\n",
    "test_inputs = test_df[all_features]\n",
    "# Test with all features and best params of all features\n",
    "test_preds, _ = cross_validation(reg, cv, inputs, targets, test_inputs, need_print=True)"
   ]
  },
  {
   "cell_type": "code",
   "execution_count": 107,
   "id": "af02721e",
   "metadata": {
    "execution": {
     "iopub.execute_input": "2024-09-04T10:56:51.015071Z",
     "iopub.status.busy": "2024-09-04T10:56:51.014163Z",
     "iopub.status.idle": "2024-09-04T10:56:51.290969Z",
     "shell.execute_reply": "2024-09-04T10:56:51.289842Z"
    },
    "papermill": {
     "duration": 0.327326,
     "end_time": "2024-09-04T10:56:51.294319",
     "exception": false,
     "start_time": "2024-09-04T10:56:50.966993",
     "status": "completed"
    },
    "tags": []
   },
   "outputs": [],
   "source": [
    "sub_df['price'] = test_preds\n",
    "sub_df.to_csv('/kaggle/working/sub_cat_all.csv', index=None)\n",
    "sub_df.head()\n",
    "## LB: 72511.30022\n",
    "lb_dict['CatBoost with all features'] = 72511.53542 "
   ]
  },
  {
   "cell_type": "code",
   "execution_count": 108,
   "id": "1ce9f402",
   "metadata": {
    "execution": {
     "iopub.execute_input": "2024-09-04T10:56:51.388654Z",
     "iopub.status.busy": "2024-09-04T10:56:51.387638Z",
     "iopub.status.idle": "2024-09-04T10:59:46.233961Z",
     "shell.execute_reply": "2024-09-04T10:59:46.232695Z"
    },
    "papermill": {
     "duration": 174.896025,
     "end_time": "2024-09-04T10:59:46.236433",
     "exception": false,
     "start_time": "2024-09-04T10:56:51.340408",
     "status": "completed"
    },
    "tags": []
   },
   "outputs": [
    {
     "name": "stderr",
     "output_type": "stream",
     "text": [
      "/opt/conda/lib/python3.10/site-packages/sklearn/model_selection/_split.py:700: UserWarning: The least populated class in y has only 1 members, which is less than n_splits=5.\n",
      "  warnings.warn(\n"
     ]
    },
    {
     "name": "stdout",
     "output_type": "stream",
     "text": [
      "Fold 0: train_loss = 71688.27553, val_loss = 73004.77163\n",
      "Fold 1: train_loss = 71726.83442, val_loss = 72797.47278\n",
      "Fold 2: train_loss = 71945.21291, val_loss = 72104.54419\n",
      "Fold 3: train_loss = 71966.38432, val_loss = 72141.38430\n",
      "Fold 4: train_loss = 71669.76323, val_loss = 72976.11195\n",
      "Train loss: 71799.2940831 ± 129.2789350 | Val loss: 72604.8569723 ± 399.9956587\n",
      "CPU times: user 9min 48s, sys: 30.7 s, total: 10min 19s\n",
      "Wall time: 2min 54s\n"
     ]
    }
   ],
   "source": [
    "%%time\n",
    "inputs, targets = concat_df[original_features], concat_df['price']\n",
    "test_inputs = test_df[original_features]\n",
    "# Test with original features and best params for all features\n",
    "test_preds, _ = cross_validation(reg, cv, inputs, targets, test_inputs, need_print=True)"
   ]
  },
  {
   "cell_type": "code",
   "execution_count": 109,
   "id": "338d2144",
   "metadata": {
    "execution": {
     "iopub.execute_input": "2024-09-04T10:59:46.335512Z",
     "iopub.status.busy": "2024-09-04T10:59:46.335067Z",
     "iopub.status.idle": "2024-09-04T10:59:46.613152Z",
     "shell.execute_reply": "2024-09-04T10:59:46.611925Z"
    },
    "papermill": {
     "duration": 0.331305,
     "end_time": "2024-09-04T10:59:46.615675",
     "exception": false,
     "start_time": "2024-09-04T10:59:46.284370",
     "status": "completed"
    },
    "tags": []
   },
   "outputs": [],
   "source": [
    "sub_df['price'] = test_preds\n",
    "sub_df.to_csv('/kaggle/working/sub_cat_all_ori.csv', index=None)\n",
    "sub_df.head()\n",
    "## LB: 72947.82246\n",
    "lb_dict['CatBoost with original features and params opt by all features'] = 72947.82246 "
   ]
  },
  {
   "cell_type": "markdown",
   "id": "914de00e",
   "metadata": {
    "papermill": {
     "duration": 0.048152,
     "end_time": "2024-09-04T10:59:46.711619",
     "exception": false,
     "start_time": "2024-09-04T10:59:46.663467",
     "status": "completed"
    },
    "tags": []
   },
   "source": [
    "### View LB Score after submissions"
   ]
  },
  {
   "cell_type": "code",
   "execution_count": 110,
   "id": "2a7410ac",
   "metadata": {
    "execution": {
     "iopub.execute_input": "2024-09-04T10:59:46.807803Z",
     "iopub.status.busy": "2024-09-04T10:59:46.807385Z",
     "iopub.status.idle": "2024-09-04T10:59:46.817315Z",
     "shell.execute_reply": "2024-09-04T10:59:46.816210Z"
    },
    "papermill": {
     "duration": 0.061073,
     "end_time": "2024-09-04T10:59:46.819646",
     "exception": false,
     "start_time": "2024-09-04T10:59:46.758573",
     "status": "completed"
    },
    "tags": []
   },
   "outputs": [
    {
     "data": {
      "text/plain": [
       "linear                                                            73538.59470\n",
       "LGBM with all features                                            72440.64497\n",
       "LGBM with original features                                       72475.64497\n",
       "LGBM with original features and params opt by all features        72362.53542\n",
       "CatBoost with all features                                        72511.53542\n",
       "CatBoost with original features and params opt by all features    72947.82246\n",
       "dtype: float64"
      ]
     },
     "execution_count": 110,
     "metadata": {},
     "output_type": "execute_result"
    }
   ],
   "source": [
    "pd.Series(lb_dict)"
   ]
  },
  {
   "cell_type": "markdown",
   "id": "698cb070",
   "metadata": {
    "papermill": {
     "duration": 0.046192,
     "end_time": "2024-09-04T10:59:46.917302",
     "exception": false,
     "start_time": "2024-09-04T10:59:46.871110",
     "status": "completed"
    },
    "tags": []
   },
   "source": [
    "LGBM with original features and params opt by all features is the highest perfomance."
   ]
  },
  {
   "cell_type": "code",
   "execution_count": 111,
   "id": "36374c0a",
   "metadata": {
    "execution": {
     "iopub.execute_input": "2024-09-04T10:59:47.024760Z",
     "iopub.status.busy": "2024-09-04T10:59:47.024254Z",
     "iopub.status.idle": "2024-09-04T10:59:47.079394Z",
     "shell.execute_reply": "2024-09-04T10:59:47.078026Z"
    },
    "papermill": {
     "duration": 0.115147,
     "end_time": "2024-09-04T10:59:47.081946",
     "exception": false,
     "start_time": "2024-09-04T10:59:46.966799",
     "status": "completed"
    },
    "tags": []
   },
   "outputs": [
    {
     "data": {
      "text/html": [
       "<div>\n",
       "<style scoped>\n",
       "    .dataframe tbody tr th:only-of-type {\n",
       "        vertical-align: middle;\n",
       "    }\n",
       "\n",
       "    .dataframe tbody tr th {\n",
       "        vertical-align: top;\n",
       "    }\n",
       "\n",
       "    .dataframe thead th {\n",
       "        text-align: right;\n",
       "    }\n",
       "</style>\n",
       "<table border=\"1\" class=\"dataframe\">\n",
       "  <thead>\n",
       "    <tr style=\"text-align: right;\">\n",
       "      <th></th>\n",
       "      <th>id</th>\n",
       "      <th>price</th>\n",
       "    </tr>\n",
       "  </thead>\n",
       "  <tbody>\n",
       "    <tr>\n",
       "      <th>0</th>\n",
       "      <td>188533</td>\n",
       "      <td>18389.885693</td>\n",
       "    </tr>\n",
       "    <tr>\n",
       "      <th>1</th>\n",
       "      <td>188534</td>\n",
       "      <td>74027.682240</td>\n",
       "    </tr>\n",
       "    <tr>\n",
       "      <th>2</th>\n",
       "      <td>188535</td>\n",
       "      <td>52662.726415</td>\n",
       "    </tr>\n",
       "    <tr>\n",
       "      <th>3</th>\n",
       "      <td>188536</td>\n",
       "      <td>30896.773248</td>\n",
       "    </tr>\n",
       "    <tr>\n",
       "      <th>4</th>\n",
       "      <td>188537</td>\n",
       "      <td>30622.704877</td>\n",
       "    </tr>\n",
       "  </tbody>\n",
       "</table>\n",
       "</div>"
      ],
      "text/plain": [
       "       id         price\n",
       "0  188533  18389.885693\n",
       "1  188534  74027.682240\n",
       "2  188535  52662.726415\n",
       "3  188536  30896.773248\n",
       "4  188537  30622.704877"
      ]
     },
     "execution_count": 111,
     "metadata": {},
     "output_type": "execute_result"
    }
   ],
   "source": [
    "sub_df = pd.read_csv('/kaggle/working/sub_lgbm_all_ori.csv')\n",
    "sub_df.head()"
   ]
  },
  {
   "cell_type": "code",
   "execution_count": 112,
   "id": "320a6355",
   "metadata": {
    "execution": {
     "iopub.execute_input": "2024-09-04T10:59:47.177643Z",
     "iopub.status.busy": "2024-09-04T10:59:47.176925Z",
     "iopub.status.idle": "2024-09-04T10:59:47.459362Z",
     "shell.execute_reply": "2024-09-04T10:59:47.458293Z"
    },
    "papermill": {
     "duration": 0.333098,
     "end_time": "2024-09-04T10:59:47.461644",
     "exception": false,
     "start_time": "2024-09-04T10:59:47.128546",
     "status": "completed"
    },
    "tags": []
   },
   "outputs": [
    {
     "data": {
      "text/html": [
       "<div>\n",
       "<style scoped>\n",
       "    .dataframe tbody tr th:only-of-type {\n",
       "        vertical-align: middle;\n",
       "    }\n",
       "\n",
       "    .dataframe tbody tr th {\n",
       "        vertical-align: top;\n",
       "    }\n",
       "\n",
       "    .dataframe thead th {\n",
       "        text-align: right;\n",
       "    }\n",
       "</style>\n",
       "<table border=\"1\" class=\"dataframe\">\n",
       "  <thead>\n",
       "    <tr style=\"text-align: right;\">\n",
       "      <th></th>\n",
       "      <th>id</th>\n",
       "      <th>price</th>\n",
       "    </tr>\n",
       "  </thead>\n",
       "  <tbody>\n",
       "    <tr>\n",
       "      <th>0</th>\n",
       "      <td>188533</td>\n",
       "      <td>18389.885693</td>\n",
       "    </tr>\n",
       "    <tr>\n",
       "      <th>1</th>\n",
       "      <td>188534</td>\n",
       "      <td>74027.682240</td>\n",
       "    </tr>\n",
       "    <tr>\n",
       "      <th>2</th>\n",
       "      <td>188535</td>\n",
       "      <td>52662.726415</td>\n",
       "    </tr>\n",
       "    <tr>\n",
       "      <th>3</th>\n",
       "      <td>188536</td>\n",
       "      <td>30896.773248</td>\n",
       "    </tr>\n",
       "    <tr>\n",
       "      <th>4</th>\n",
       "      <td>188537</td>\n",
       "      <td>30622.704877</td>\n",
       "    </tr>\n",
       "  </tbody>\n",
       "</table>\n",
       "</div>"
      ],
      "text/plain": [
       "       id         price\n",
       "0  188533  18389.885693\n",
       "1  188534  74027.682240\n",
       "2  188535  52662.726415\n",
       "3  188536  30896.773248\n",
       "4  188537  30622.704877"
      ]
     },
     "execution_count": 112,
     "metadata": {},
     "output_type": "execute_result"
    }
   ],
   "source": [
    "sub_df.to_csv('/kaggle/working/submission.csv', index=None)\n",
    "sub_df.head()"
   ]
  }
 ],
 "metadata": {
  "kaggle": {
   "accelerator": "none",
   "dataSources": [
    {
     "databundleVersionId": 9057646,
     "sourceId": 76728,
     "sourceType": "competition"
    },
    {
     "datasetId": 3742543,
     "sourceId": 6478229,
     "sourceType": "datasetVersion"
    }
   ],
   "dockerImageVersionId": 30761,
   "isGpuEnabled": false,
   "isInternetEnabled": false,
   "language": "python",
   "sourceType": "notebook"
  },
  "kernelspec": {
   "display_name": "Python 3",
   "language": "python",
   "name": "python3"
  },
  "language_info": {
   "codemirror_mode": {
    "name": "ipython",
    "version": 3
   },
   "file_extension": ".py",
   "mimetype": "text/x-python",
   "name": "python",
   "nbconvert_exporter": "python",
   "pygments_lexer": "ipython3",
   "version": "3.10.14"
  },
  "papermill": {
   "default_parameters": {},
   "duration": 2521.047515,
   "end_time": "2024-09-04T10:59:48.632162",
   "environment_variables": {},
   "exception": null,
   "input_path": "__notebook__.ipynb",
   "output_path": "__notebook__.ipynb",
   "parameters": {},
   "start_time": "2024-09-04T10:17:47.584647",
   "version": "2.6.0"
  }
 },
 "nbformat": 4,
 "nbformat_minor": 5
}
