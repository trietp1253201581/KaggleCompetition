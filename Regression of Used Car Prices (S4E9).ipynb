{
 "cells": [
  {
   "cell_type": "markdown",
   "id": "28db9d8a",
   "metadata": {
    "papermill": {
     "duration": 0.02731,
     "end_time": "2024-09-05T11:04:03.980503",
     "exception": false,
     "start_time": "2024-09-05T11:04:03.953193",
     "status": "completed"
    },
    "tags": []
   },
   "source": [
    "# Regression of Used Car Prices"
   ]
  },
  {
   "cell_type": "markdown",
   "id": "a47d5e38",
   "metadata": {
    "papermill": {
     "duration": 0.02535,
     "end_time": "2024-09-05T11:04:04.033016",
     "exception": false,
     "start_time": "2024-09-05T11:04:04.007666",
     "status": "completed"
    },
    "tags": []
   },
   "source": [
    "## Import library and read data"
   ]
  },
  {
   "cell_type": "code",
   "execution_count": 1,
   "id": "d7a44235",
   "metadata": {
    "execution": {
     "iopub.execute_input": "2024-09-05T11:04:04.086257Z",
     "iopub.status.busy": "2024-09-05T11:04:04.085824Z",
     "iopub.status.idle": "2024-09-05T11:04:07.909761Z",
     "shell.execute_reply": "2024-09-05T11:04:07.908766Z"
    },
    "papermill": {
     "duration": 3.853543,
     "end_time": "2024-09-05T11:04:07.912248",
     "exception": false,
     "start_time": "2024-09-05T11:04:04.058705",
     "status": "completed"
    },
    "tags": []
   },
   "outputs": [],
   "source": [
    "import pandas as pd\n",
    "import numpy as np\n",
    "\n",
    "from sklearn.preprocessing import OneHotEncoder, OrdinalEncoder, MinMaxScaler, StandardScaler\n",
    "from sklearn.impute import SimpleImputer\n",
    "\n",
    "from sklearn.metrics import mean_squared_error\n",
    "\n",
    "from sklearn.model_selection import GridSearchCV, train_test_split, StratifiedKFold, cross_val_score, RandomizedSearchCV\n",
    "from sklearn.feature_selection import mutual_info_classif\n",
    "\n",
    "from sklearn.pipeline import make_pipeline, Pipeline\n",
    "from sklearn.compose import ColumnTransformer\n",
    "\n",
    "from sklearn.linear_model import LinearRegression, Ridge\n",
    "from sklearn.tree import DecisionTreeRegressor\n",
    "from sklearn.ensemble import RandomForestRegressor, GradientBoostingRegressor\n",
    "from xgboost import XGBRegressor\n",
    "from lightgbm import LGBMRegressor\n",
    "from catboost import CatBoostRegressor\n",
    "\n",
    "from scipy.stats import loguniform, uniform\n",
    "\n",
    "import warnings\n",
    "warnings.simplefilter(action='ignore', category=FutureWarning)\n",
    "\n",
    "import matplotlib.pyplot as plt\n",
    "import seaborn as sns\n",
    "%matplotlib inline"
   ]
  },
  {
   "cell_type": "code",
   "execution_count": 2,
   "id": "7fe5a5d7",
   "metadata": {
    "execution": {
     "iopub.execute_input": "2024-09-05T11:04:07.966552Z",
     "iopub.status.busy": "2024-09-05T11:04:07.965474Z",
     "iopub.status.idle": "2024-09-05T11:04:09.295286Z",
     "shell.execute_reply": "2024-09-05T11:04:09.294380Z"
    },
    "papermill": {
     "duration": 1.359194,
     "end_time": "2024-09-05T11:04:09.297698",
     "exception": false,
     "start_time": "2024-09-05T11:04:07.938504",
     "status": "completed"
    },
    "tags": []
   },
   "outputs": [],
   "source": [
    "data_dir = '/kaggle/input/playground-series-s4e9/'\n",
    "raw_df = pd.read_csv(data_dir + 'train.csv')\n",
    "test_df = pd.read_csv(data_dir + 'test.csv')\n",
    "sub_df = pd.read_csv(data_dir + 'sample_submission.csv')\n",
    "\n",
    "original_data_dir = '/kaggle/input/used-car-price-prediction-dataset/'\n",
    "original_df = pd.read_csv(original_data_dir + 'used_cars.csv')"
   ]
  },
  {
   "cell_type": "code",
   "execution_count": 3,
   "id": "bd540eb6",
   "metadata": {
    "execution": {
     "iopub.execute_input": "2024-09-05T11:04:09.352019Z",
     "iopub.status.busy": "2024-09-05T11:04:09.351069Z",
     "iopub.status.idle": "2024-09-05T11:04:09.374572Z",
     "shell.execute_reply": "2024-09-05T11:04:09.373589Z"
    },
    "papermill": {
     "duration": 0.052888,
     "end_time": "2024-09-05T11:04:09.376748",
     "exception": false,
     "start_time": "2024-09-05T11:04:09.323860",
     "status": "completed"
    },
    "tags": []
   },
   "outputs": [
    {
     "data": {
      "text/html": [
       "<div>\n",
       "<style scoped>\n",
       "    .dataframe tbody tr th:only-of-type {\n",
       "        vertical-align: middle;\n",
       "    }\n",
       "\n",
       "    .dataframe tbody tr th {\n",
       "        vertical-align: top;\n",
       "    }\n",
       "\n",
       "    .dataframe thead th {\n",
       "        text-align: right;\n",
       "    }\n",
       "</style>\n",
       "<table border=\"1\" class=\"dataframe\">\n",
       "  <thead>\n",
       "    <tr style=\"text-align: right;\">\n",
       "      <th></th>\n",
       "      <th>id</th>\n",
       "      <th>brand</th>\n",
       "      <th>model</th>\n",
       "      <th>model_year</th>\n",
       "      <th>milage</th>\n",
       "      <th>fuel_type</th>\n",
       "      <th>engine</th>\n",
       "      <th>transmission</th>\n",
       "      <th>ext_col</th>\n",
       "      <th>int_col</th>\n",
       "      <th>accident</th>\n",
       "      <th>clean_title</th>\n",
       "      <th>price</th>\n",
       "    </tr>\n",
       "  </thead>\n",
       "  <tbody>\n",
       "    <tr>\n",
       "      <th>0</th>\n",
       "      <td>0</td>\n",
       "      <td>MINI</td>\n",
       "      <td>Cooper S Base</td>\n",
       "      <td>2007</td>\n",
       "      <td>213000</td>\n",
       "      <td>Gasoline</td>\n",
       "      <td>172.0HP 1.6L 4 Cylinder Engine Gasoline Fuel</td>\n",
       "      <td>A/T</td>\n",
       "      <td>Yellow</td>\n",
       "      <td>Gray</td>\n",
       "      <td>None reported</td>\n",
       "      <td>Yes</td>\n",
       "      <td>4200</td>\n",
       "    </tr>\n",
       "    <tr>\n",
       "      <th>1</th>\n",
       "      <td>1</td>\n",
       "      <td>Lincoln</td>\n",
       "      <td>LS V8</td>\n",
       "      <td>2002</td>\n",
       "      <td>143250</td>\n",
       "      <td>Gasoline</td>\n",
       "      <td>252.0HP 3.9L 8 Cylinder Engine Gasoline Fuel</td>\n",
       "      <td>A/T</td>\n",
       "      <td>Silver</td>\n",
       "      <td>Beige</td>\n",
       "      <td>At least 1 accident or damage reported</td>\n",
       "      <td>Yes</td>\n",
       "      <td>4999</td>\n",
       "    </tr>\n",
       "    <tr>\n",
       "      <th>2</th>\n",
       "      <td>2</td>\n",
       "      <td>Chevrolet</td>\n",
       "      <td>Silverado 2500 LT</td>\n",
       "      <td>2002</td>\n",
       "      <td>136731</td>\n",
       "      <td>E85 Flex Fuel</td>\n",
       "      <td>320.0HP 5.3L 8 Cylinder Engine Flex Fuel Capab...</td>\n",
       "      <td>A/T</td>\n",
       "      <td>Blue</td>\n",
       "      <td>Gray</td>\n",
       "      <td>None reported</td>\n",
       "      <td>Yes</td>\n",
       "      <td>13900</td>\n",
       "    </tr>\n",
       "    <tr>\n",
       "      <th>3</th>\n",
       "      <td>3</td>\n",
       "      <td>Genesis</td>\n",
       "      <td>G90 5.0 Ultimate</td>\n",
       "      <td>2017</td>\n",
       "      <td>19500</td>\n",
       "      <td>Gasoline</td>\n",
       "      <td>420.0HP 5.0L 8 Cylinder Engine Gasoline Fuel</td>\n",
       "      <td>Transmission w/Dual Shift Mode</td>\n",
       "      <td>Black</td>\n",
       "      <td>Black</td>\n",
       "      <td>None reported</td>\n",
       "      <td>Yes</td>\n",
       "      <td>45000</td>\n",
       "    </tr>\n",
       "    <tr>\n",
       "      <th>4</th>\n",
       "      <td>4</td>\n",
       "      <td>Mercedes-Benz</td>\n",
       "      <td>Metris Base</td>\n",
       "      <td>2021</td>\n",
       "      <td>7388</td>\n",
       "      <td>Gasoline</td>\n",
       "      <td>208.0HP 2.0L 4 Cylinder Engine Gasoline Fuel</td>\n",
       "      <td>7-Speed A/T</td>\n",
       "      <td>Black</td>\n",
       "      <td>Beige</td>\n",
       "      <td>None reported</td>\n",
       "      <td>Yes</td>\n",
       "      <td>97500</td>\n",
       "    </tr>\n",
       "  </tbody>\n",
       "</table>\n",
       "</div>"
      ],
      "text/plain": [
       "   id          brand              model  model_year  milage      fuel_type  \\\n",
       "0   0           MINI      Cooper S Base        2007  213000       Gasoline   \n",
       "1   1        Lincoln              LS V8        2002  143250       Gasoline   \n",
       "2   2      Chevrolet  Silverado 2500 LT        2002  136731  E85 Flex Fuel   \n",
       "3   3        Genesis   G90 5.0 Ultimate        2017   19500       Gasoline   \n",
       "4   4  Mercedes-Benz        Metris Base        2021    7388       Gasoline   \n",
       "\n",
       "                                              engine  \\\n",
       "0       172.0HP 1.6L 4 Cylinder Engine Gasoline Fuel   \n",
       "1       252.0HP 3.9L 8 Cylinder Engine Gasoline Fuel   \n",
       "2  320.0HP 5.3L 8 Cylinder Engine Flex Fuel Capab...   \n",
       "3       420.0HP 5.0L 8 Cylinder Engine Gasoline Fuel   \n",
       "4       208.0HP 2.0L 4 Cylinder Engine Gasoline Fuel   \n",
       "\n",
       "                     transmission ext_col int_col  \\\n",
       "0                             A/T  Yellow    Gray   \n",
       "1                             A/T  Silver   Beige   \n",
       "2                             A/T    Blue    Gray   \n",
       "3  Transmission w/Dual Shift Mode   Black   Black   \n",
       "4                     7-Speed A/T   Black   Beige   \n",
       "\n",
       "                                 accident clean_title  price  \n",
       "0                           None reported         Yes   4200  \n",
       "1  At least 1 accident or damage reported         Yes   4999  \n",
       "2                           None reported         Yes  13900  \n",
       "3                           None reported         Yes  45000  \n",
       "4                           None reported         Yes  97500  "
      ]
     },
     "execution_count": 3,
     "metadata": {},
     "output_type": "execute_result"
    }
   ],
   "source": [
    "raw_df.head()"
   ]
  },
  {
   "cell_type": "code",
   "execution_count": 4,
   "id": "eead65c3",
   "metadata": {
    "execution": {
     "iopub.execute_input": "2024-09-05T11:04:09.431923Z",
     "iopub.status.busy": "2024-09-05T11:04:09.431507Z",
     "iopub.status.idle": "2024-09-05T11:04:09.521168Z",
     "shell.execute_reply": "2024-09-05T11:04:09.520132Z"
    },
    "papermill": {
     "duration": 0.119236,
     "end_time": "2024-09-05T11:04:09.523436",
     "exception": false,
     "start_time": "2024-09-05T11:04:09.404200",
     "status": "completed"
    },
    "tags": []
   },
   "outputs": [
    {
     "data": {
      "text/plain": [
       "id                  0\n",
       "brand               0\n",
       "model               0\n",
       "model_year          0\n",
       "milage              0\n",
       "fuel_type        5083\n",
       "engine              0\n",
       "transmission        0\n",
       "ext_col             0\n",
       "int_col             0\n",
       "accident         2452\n",
       "clean_title     21419\n",
       "price               0\n",
       "dtype: int64"
      ]
     },
     "execution_count": 4,
     "metadata": {},
     "output_type": "execute_result"
    }
   ],
   "source": [
    "raw_df.isna().sum()"
   ]
  },
  {
   "cell_type": "code",
   "execution_count": 5,
   "id": "28cdeef4",
   "metadata": {
    "execution": {
     "iopub.execute_input": "2024-09-05T11:04:09.578182Z",
     "iopub.status.busy": "2024-09-05T11:04:09.577046Z",
     "iopub.status.idle": "2024-09-05T11:04:09.584684Z",
     "shell.execute_reply": "2024-09-05T11:04:09.583637Z"
    },
    "papermill": {
     "duration": 0.036961,
     "end_time": "2024-09-05T11:04:09.586822",
     "exception": false,
     "start_time": "2024-09-05T11:04:09.549861",
     "status": "completed"
    },
    "tags": []
   },
   "outputs": [],
   "source": [
    "def draw_numeric_features(data, x=None, y=None, overlap=None):\n",
    "    plt.figure(figsize=(30,10))\n",
    "    plt.grid()\n",
    "    sns.lineplot(data, x=x, y=y)\n",
    "    if overlap is not None:\n",
    "        for plot in overlap:\n",
    "            sns.lineplot(data=plot[0], x=plot[1], y=plot[2])\n",
    "\n",
    "def view_avg_of_each(cat_features: str, target: str):\n",
    "    d = dict()\n",
    "    cols = raw_df[cat_features].unique()\n",
    "    for x in cols:\n",
    "        d[x] = raw_df[raw_df[cat_features]==x][target].mean()\n",
    "    return pd.Series(d, index=cols)"
   ]
  },
  {
   "cell_type": "code",
   "execution_count": 6,
   "id": "b4abdf0d",
   "metadata": {
    "execution": {
     "iopub.execute_input": "2024-09-05T11:04:09.641934Z",
     "iopub.status.busy": "2024-09-05T11:04:09.641518Z",
     "iopub.status.idle": "2024-09-05T11:04:09.663678Z",
     "shell.execute_reply": "2024-09-05T11:04:09.662633Z"
    },
    "papermill": {
     "duration": 0.052311,
     "end_time": "2024-09-05T11:04:09.665942",
     "exception": false,
     "start_time": "2024-09-05T11:04:09.613631",
     "status": "completed"
    },
    "tags": []
   },
   "outputs": [
    {
     "data": {
      "text/plain": [
       "count    1.885330e+05\n",
       "mean     4.387802e+04\n",
       "std      7.881952e+04\n",
       "min      2.000000e+03\n",
       "25%      1.700000e+04\n",
       "50%      3.082500e+04\n",
       "75%      4.990000e+04\n",
       "max      2.954083e+06\n",
       "Name: price, dtype: float64"
      ]
     },
     "execution_count": 6,
     "metadata": {},
     "output_type": "execute_result"
    }
   ],
   "source": [
    "raw_df['price'].describe()"
   ]
  },
  {
   "cell_type": "code",
   "execution_count": 7,
   "id": "3ba00f09",
   "metadata": {
    "execution": {
     "iopub.execute_input": "2024-09-05T11:04:09.721080Z",
     "iopub.status.busy": "2024-09-05T11:04:09.720108Z",
     "iopub.status.idle": "2024-09-05T11:04:10.043854Z",
     "shell.execute_reply": "2024-09-05T11:04:10.042700Z"
    },
    "papermill": {
     "duration": 0.353886,
     "end_time": "2024-09-05T11:04:10.046328",
     "exception": false,
     "start_time": "2024-09-05T11:04:09.692442",
     "status": "completed"
    },
    "tags": []
   },
   "outputs": [
    {
     "data": {
      "image/png": "[encoded data removed]",
      "text/plain": [
       "<Figure size 1200x800 with 1 Axes>"
      ]
     },
     "metadata": {},
     "output_type": "display_data"
    }
   ],
   "source": [
    "plt.figure(figsize=(12,8))\n",
    "plt.hist(raw_df['price'], bins=20);"
   ]
  },
  {
   "cell_type": "code",
   "execution_count": 8,
   "id": "988a4d6f",
   "metadata": {
    "execution": {
     "iopub.execute_input": "2024-09-05T11:04:10.101535Z",
     "iopub.status.busy": "2024-09-05T11:04:10.100901Z",
     "iopub.status.idle": "2024-09-05T11:04:10.105875Z",
     "shell.execute_reply": "2024-09-05T11:04:10.104818Z"
    },
    "papermill": {
     "duration": 0.034742,
     "end_time": "2024-09-05T11:04:10.108000",
     "exception": false,
     "start_time": "2024-09-05T11:04:10.073258",
     "status": "completed"
    },
    "tags": []
   },
   "outputs": [],
   "source": [
    "numeric_features = []\n",
    "categorical_features = []\n",
    "original_features = raw_df.columns.tolist()"
   ]
  },
  {
   "cell_type": "markdown",
   "id": "83d685a4",
   "metadata": {
    "papermill": {
     "duration": 0.026125,
     "end_time": "2024-09-05T11:04:10.160874",
     "exception": false,
     "start_time": "2024-09-05T11:04:10.134749",
     "status": "completed"
    },
    "tags": []
   },
   "source": [
    "## EDA & Feature Engineering"
   ]
  },
  {
   "cell_type": "code",
   "execution_count": 9,
   "id": "c2958104",
   "metadata": {
    "execution": {
     "iopub.execute_input": "2024-09-05T11:04:10.266735Z",
     "iopub.status.busy": "2024-09-05T11:04:10.265815Z",
     "iopub.status.idle": "2024-09-05T11:04:10.270305Z",
     "shell.execute_reply": "2024-09-05T11:04:10.269262Z"
    },
    "papermill": {
     "duration": 0.084476,
     "end_time": "2024-09-05T11:04:10.272409",
     "exception": false,
     "start_time": "2024-09-05T11:04:10.187933",
     "status": "completed"
    },
    "tags": []
   },
   "outputs": [],
   "source": [
    "# Threshold to classify which values is noise\n",
    "min_threshold = 100"
   ]
  },
  {
   "cell_type": "markdown",
   "id": "929bd1dd",
   "metadata": {
    "papermill": {
     "duration": 0.026168,
     "end_time": "2024-09-05T11:04:10.325370",
     "exception": false,
     "start_time": "2024-09-05T11:04:10.299202",
     "status": "completed"
    },
    "tags": []
   },
   "source": [
    "### Brand"
   ]
  },
  {
   "cell_type": "code",
   "execution_count": 10,
   "id": "91e3aff0",
   "metadata": {
    "execution": {
     "iopub.execute_input": "2024-09-05T11:04:10.380118Z",
     "iopub.status.busy": "2024-09-05T11:04:10.379426Z",
     "iopub.status.idle": "2024-09-05T11:04:10.402298Z",
     "shell.execute_reply": "2024-09-05T11:04:10.401310Z"
    },
    "papermill": {
     "duration": 0.05257,
     "end_time": "2024-09-05T11:04:10.404330",
     "exception": false,
     "start_time": "2024-09-05T11:04:10.351760",
     "status": "completed"
    },
    "tags": []
   },
   "outputs": [
    {
     "data": {
      "text/plain": [
       "57"
      ]
     },
     "execution_count": 10,
     "metadata": {},
     "output_type": "execute_result"
    }
   ],
   "source": [
    "len(raw_df['brand'].unique())"
   ]
  },
  {
   "cell_type": "code",
   "execution_count": 11,
   "id": "c5e4a42a",
   "metadata": {
    "execution": {
     "iopub.execute_input": "2024-09-05T11:04:10.459258Z",
     "iopub.status.busy": "2024-09-05T11:04:10.458872Z",
     "iopub.status.idle": "2024-09-05T11:04:10.463446Z",
     "shell.execute_reply": "2024-09-05T11:04:10.462439Z"
    },
    "papermill": {
     "duration": 0.034575,
     "end_time": "2024-09-05T11:04:10.465618",
     "exception": false,
     "start_time": "2024-09-05T11:04:10.431043",
     "status": "completed"
    },
    "tags": []
   },
   "outputs": [],
   "source": [
    "categorical_features.append('brand')"
   ]
  },
  {
   "cell_type": "markdown",
   "id": "52378c68",
   "metadata": {
    "papermill": {
     "duration": 0.026462,
     "end_time": "2024-09-05T11:04:10.518779",
     "exception": false,
     "start_time": "2024-09-05T11:04:10.492317",
     "status": "completed"
    },
    "tags": []
   },
   "source": [
    "### Model"
   ]
  },
  {
   "cell_type": "code",
   "execution_count": 12,
   "id": "228ca3a9",
   "metadata": {
    "execution": {
     "iopub.execute_input": "2024-09-05T11:04:10.573954Z",
     "iopub.status.busy": "2024-09-05T11:04:10.573084Z",
     "iopub.status.idle": "2024-09-05T11:04:10.595699Z",
     "shell.execute_reply": "2024-09-05T11:04:10.594694Z"
    },
    "papermill": {
     "duration": 0.052799,
     "end_time": "2024-09-05T11:04:10.598060",
     "exception": false,
     "start_time": "2024-09-05T11:04:10.545261",
     "status": "completed"
    },
    "tags": []
   },
   "outputs": [
    {
     "data": {
      "text/plain": [
       "1897"
      ]
     },
     "execution_count": 12,
     "metadata": {},
     "output_type": "execute_result"
    }
   ],
   "source": [
    "len(raw_df['model'].unique())"
   ]
  },
  {
   "cell_type": "code",
   "execution_count": 13,
   "id": "d872c1ae",
   "metadata": {
    "execution": {
     "iopub.execute_input": "2024-09-05T11:04:10.654410Z",
     "iopub.status.busy": "2024-09-05T11:04:10.653403Z",
     "iopub.status.idle": "2024-09-05T11:04:10.674735Z",
     "shell.execute_reply": "2024-09-05T11:04:10.673720Z"
    },
    "papermill": {
     "duration": 0.051452,
     "end_time": "2024-09-05T11:04:10.676803",
     "exception": false,
     "start_time": "2024-09-05T11:04:10.625351",
     "status": "completed"
    },
    "tags": []
   },
   "outputs": [
    {
     "data": {
      "text/plain": [
       "1417"
      ]
     },
     "execution_count": 13,
     "metadata": {},
     "output_type": "execute_result"
    }
   ],
   "source": [
    "noise_model = raw_df['model'].value_counts(dropna=False)\n",
    "noise_model = noise_model[noise_model<min_threshold]\n",
    "len(noise_model)"
   ]
  },
  {
   "cell_type": "code",
   "execution_count": 14,
   "id": "57f3b910",
   "metadata": {
    "execution": {
     "iopub.execute_input": "2024-09-05T11:04:10.732926Z",
     "iopub.status.busy": "2024-09-05T11:04:10.731987Z",
     "iopub.status.idle": "2024-09-05T11:04:11.566348Z",
     "shell.execute_reply": "2024-09-05T11:04:11.565290Z"
    },
    "papermill": {
     "duration": 0.865059,
     "end_time": "2024-09-05T11:04:11.568756",
     "exception": false,
     "start_time": "2024-09-05T11:04:10.703697",
     "status": "completed"
    },
    "tags": []
   },
   "outputs": [],
   "source": [
    "for df in [raw_df, test_df, original_df]:\n",
    "    df['short_model'] = df['model'].apply(lambda x: str(x).split(' ')[0])\n",
    "    df['model'] = df['model'].apply(lambda x: 'noise' if x in noise_model else x)"
   ]
  },
  {
   "cell_type": "code",
   "execution_count": 15,
   "id": "d085ed6a",
   "metadata": {
    "execution": {
     "iopub.execute_input": "2024-09-05T11:04:11.624770Z",
     "iopub.status.busy": "2024-09-05T11:04:11.624367Z",
     "iopub.status.idle": "2024-09-05T11:04:11.645179Z",
     "shell.execute_reply": "2024-09-05T11:04:11.644182Z"
    },
    "papermill": {
     "duration": 0.051051,
     "end_time": "2024-09-05T11:04:11.647317",
     "exception": false,
     "start_time": "2024-09-05T11:04:11.596266",
     "status": "completed"
    },
    "tags": []
   },
   "outputs": [
    {
     "data": {
      "text/plain": [
       "517"
      ]
     },
     "execution_count": 15,
     "metadata": {},
     "output_type": "execute_result"
    }
   ],
   "source": [
    "len(raw_df['short_model'].unique())"
   ]
  },
  {
   "cell_type": "code",
   "execution_count": 16,
   "id": "37f9758e",
   "metadata": {
    "execution": {
     "iopub.execute_input": "2024-09-05T11:04:11.703005Z",
     "iopub.status.busy": "2024-09-05T11:04:11.702603Z",
     "iopub.status.idle": "2024-09-05T11:04:11.707482Z",
     "shell.execute_reply": "2024-09-05T11:04:11.706450Z"
    },
    "papermill": {
     "duration": 0.035201,
     "end_time": "2024-09-05T11:04:11.709499",
     "exception": false,
     "start_time": "2024-09-05T11:04:11.674298",
     "status": "completed"
    },
    "tags": []
   },
   "outputs": [],
   "source": [
    "categorical_features += ['model', 'short_model']"
   ]
  },
  {
   "cell_type": "markdown",
   "id": "f292d863",
   "metadata": {
    "papermill": {
     "duration": 0.038148,
     "end_time": "2024-09-05T11:04:11.785029",
     "exception": false,
     "start_time": "2024-09-05T11:04:11.746881",
     "status": "completed"
    },
    "tags": []
   },
   "source": [
    "### Model year"
   ]
  },
  {
   "cell_type": "code",
   "execution_count": 17,
   "id": "05345e0b",
   "metadata": {
    "execution": {
     "iopub.execute_input": "2024-09-05T11:04:11.850217Z",
     "iopub.status.busy": "2024-09-05T11:04:11.849805Z",
     "iopub.status.idle": "2024-09-05T11:04:14.359087Z",
     "shell.execute_reply": "2024-09-05T11:04:14.357836Z"
    },
    "papermill": {
     "duration": 2.54193,
     "end_time": "2024-09-05T11:04:14.363080",
     "exception": false,
     "start_time": "2024-09-05T11:04:11.821150",
     "status": "completed"
    },
    "tags": []
   },
   "outputs": [
    {
     "data": {
      "image/png": "[encoded data removed]",
      "text/plain": [
       "<Figure size 3000x1000 with 1 Axes>"
      ]
     },
     "metadata": {},
     "output_type": "display_data"
    }
   ],
   "source": [
    "draw_numeric_features(data=raw_df, x='model_year', y='price')"
   ]
  },
  {
   "cell_type": "code",
   "execution_count": 18,
   "id": "3517875c",
   "metadata": {
    "execution": {
     "iopub.execute_input": "2024-09-05T11:04:14.431910Z",
     "iopub.status.busy": "2024-09-05T11:04:14.430982Z",
     "iopub.status.idle": "2024-09-05T11:04:14.437615Z",
     "shell.execute_reply": "2024-09-05T11:04:14.436811Z"
    },
    "papermill": {
     "duration": 0.046034,
     "end_time": "2024-09-05T11:04:14.439735",
     "exception": false,
     "start_time": "2024-09-05T11:04:14.393701",
     "status": "completed"
    },
    "tags": []
   },
   "outputs": [],
   "source": [
    "def get_assessing_epreciation_percent(x):\n",
    "    if x<1:\n",
    "        return 7\n",
    "    if x<=3:\n",
    "        return 6.5 * x + 7\n",
    "    if x<=7:\n",
    "        return 6 * (x - 3) + 6.5 * 3 + 7\n",
    "    if x<=10:\n",
    "        return 8.5 * (x-7) + 6 * 4 + 6.5 * 3 + 7\n",
    "    return 8.5 * 3 + 6 * 4 + 6.5 * 3 + 0.15 * (x-10) + 7"
   ]
  },
  {
   "cell_type": "code",
   "execution_count": 19,
   "id": "cd7c2e6e",
   "metadata": {
    "execution": {
     "iopub.execute_input": "2024-09-05T11:04:14.503180Z",
     "iopub.status.busy": "2024-09-05T11:04:14.502753Z",
     "iopub.status.idle": "2024-09-05T11:04:14.823489Z",
     "shell.execute_reply": "2024-09-05T11:04:14.822463Z"
    },
    "papermill": {
     "duration": 0.3566,
     "end_time": "2024-09-05T11:04:14.826070",
     "exception": false,
     "start_time": "2024-09-05T11:04:14.469470",
     "status": "completed"
    },
    "tags": []
   },
   "outputs": [],
   "source": [
    "for df in [raw_df, test_df, original_df]:\n",
    "    df['model_year'] = df['model_year'].apply(lambda x: 2024-x)\n",
    "    df['assessing_epreciation_percent'] = df['model_year'].apply(lambda x: get_assessing_epreciation_percent(x))"
   ]
  },
  {
   "cell_type": "code",
   "execution_count": 20,
   "id": "f4801971",
   "metadata": {
    "execution": {
     "iopub.execute_input": "2024-09-05T11:04:14.887330Z",
     "iopub.status.busy": "2024-09-05T11:04:14.886908Z",
     "iopub.status.idle": "2024-09-05T11:04:14.905228Z",
     "shell.execute_reply": "2024-09-05T11:04:14.904129Z"
    },
    "papermill": {
     "duration": 0.051629,
     "end_time": "2024-09-05T11:04:14.907201",
     "exception": false,
     "start_time": "2024-09-05T11:04:14.855572",
     "status": "completed"
    },
    "tags": []
   },
   "outputs": [
    {
     "data": {
      "text/plain": [
       "count    188533.000000\n",
       "mean         50.876764\n",
       "std          21.983172\n",
       "min           7.000000\n",
       "25%          32.500000\n",
       "50%          50.500000\n",
       "75%          76.150000\n",
       "max          82.000000\n",
       "Name: assessing_epreciation_percent, dtype: float64"
      ]
     },
     "execution_count": 20,
     "metadata": {},
     "output_type": "execute_result"
    }
   ],
   "source": [
    "raw_df['assessing_epreciation_percent'].describe()"
   ]
  },
  {
   "cell_type": "code",
   "execution_count": 21,
   "id": "3457b29e",
   "metadata": {
    "execution": {
     "iopub.execute_input": "2024-09-05T11:04:14.967746Z",
     "iopub.status.busy": "2024-09-05T11:04:14.967338Z",
     "iopub.status.idle": "2024-09-05T11:04:14.972201Z",
     "shell.execute_reply": "2024-09-05T11:04:14.971131Z"
    },
    "papermill": {
     "duration": 0.038059,
     "end_time": "2024-09-05T11:04:14.974708",
     "exception": false,
     "start_time": "2024-09-05T11:04:14.936649",
     "status": "completed"
    },
    "tags": []
   },
   "outputs": [],
   "source": [
    "numeric_features += ['model_year','assessing_epreciation_percent']"
   ]
  },
  {
   "cell_type": "markdown",
   "id": "c691d3c9",
   "metadata": {
    "papermill": {
     "duration": 0.028552,
     "end_time": "2024-09-05T11:04:15.037062",
     "exception": false,
     "start_time": "2024-09-05T11:04:15.008510",
     "status": "completed"
    },
    "tags": []
   },
   "source": [
    "### Mileage"
   ]
  },
  {
   "cell_type": "code",
   "execution_count": 22,
   "id": "f101541b",
   "metadata": {
    "execution": {
     "iopub.execute_input": "2024-09-05T11:04:15.097891Z",
     "iopub.status.busy": "2024-09-05T11:04:15.096971Z",
     "iopub.status.idle": "2024-09-05T11:04:15.116210Z",
     "shell.execute_reply": "2024-09-05T11:04:15.115125Z"
    },
    "papermill": {
     "duration": 0.051988,
     "end_time": "2024-09-05T11:04:15.118463",
     "exception": false,
     "start_time": "2024-09-05T11:04:15.066475",
     "status": "completed"
    },
    "tags": []
   },
   "outputs": [],
   "source": [
    "def help_change_milage(x):\n",
    "    milage_str = str(x).split(' ')[0]\n",
    "    milage_lst = milage_str.split(',')\n",
    "    if len(milage_lst) >= 2:\n",
    "        return int(milage_lst[0]) * 1000 + int(milage_lst[1])\n",
    "    return int(milage_lst[0])\n",
    "original_df['milage'] = original_df['milage'].apply(lambda x: help_change_milage(x))"
   ]
  },
  {
   "cell_type": "code",
   "execution_count": 23,
   "id": "c3b6938f",
   "metadata": {
    "execution": {
     "iopub.execute_input": "2024-09-05T11:04:15.179431Z",
     "iopub.status.busy": "2024-09-05T11:04:15.178659Z",
     "iopub.status.idle": "2024-09-05T11:04:15.197587Z",
     "shell.execute_reply": "2024-09-05T11:04:15.196496Z"
    },
    "papermill": {
     "duration": 0.05142,
     "end_time": "2024-09-05T11:04:15.199730",
     "exception": false,
     "start_time": "2024-09-05T11:04:15.148310",
     "status": "completed"
    },
    "tags": []
   },
   "outputs": [
    {
     "data": {
      "text/plain": [
       "count    188533.000000\n",
       "mean      65705.295174\n",
       "std       49798.158076\n",
       "min         100.000000\n",
       "25%       24115.000000\n",
       "50%       57785.000000\n",
       "75%       95400.000000\n",
       "max      405000.000000\n",
       "Name: milage, dtype: float64"
      ]
     },
     "execution_count": 23,
     "metadata": {},
     "output_type": "execute_result"
    }
   ],
   "source": [
    "raw_df['milage'].describe()"
   ]
  },
  {
   "cell_type": "code",
   "execution_count": 24,
   "id": "e3ed27d2",
   "metadata": {
    "execution": {
     "iopub.execute_input": "2024-09-05T11:04:15.259875Z",
     "iopub.status.busy": "2024-09-05T11:04:15.259475Z",
     "iopub.status.idle": "2024-09-05T11:04:15.409061Z",
     "shell.execute_reply": "2024-09-05T11:04:15.408146Z"
    },
    "papermill": {
     "duration": 0.182513,
     "end_time": "2024-09-05T11:04:15.411601",
     "exception": false,
     "start_time": "2024-09-05T11:04:15.229088",
     "status": "completed"
    },
    "tags": []
   },
   "outputs": [],
   "source": [
    "for df in [raw_df, test_df, original_df]:\n",
    "    df['milage_per_year'] = df['milage']/(df['model_year']+1)\n",
    "    df['good_milage'] = df['milage_per_year'].apply(lambda x: 0 if x<12000 else 1)"
   ]
  },
  {
   "cell_type": "code",
   "execution_count": 25,
   "id": "d18ef606",
   "metadata": {
    "execution": {
     "iopub.execute_input": "2024-09-05T11:04:15.473187Z",
     "iopub.status.busy": "2024-09-05T11:04:15.472146Z",
     "iopub.status.idle": "2024-09-05T11:04:15.483828Z",
     "shell.execute_reply": "2024-09-05T11:04:15.482648Z"
    },
    "papermill": {
     "duration": 0.044536,
     "end_time": "2024-09-05T11:04:15.485896",
     "exception": false,
     "start_time": "2024-09-05T11:04:15.441360",
     "status": "completed"
    },
    "tags": []
   },
   "outputs": [
    {
     "data": {
      "text/plain": [
       "good_milage\n",
       "0    167595\n",
       "1     20938\n",
       "Name: count, dtype: int64"
      ]
     },
     "execution_count": 25,
     "metadata": {},
     "output_type": "execute_result"
    }
   ],
   "source": [
    "raw_df['good_milage'].value_counts()"
   ]
  },
  {
   "cell_type": "code",
   "execution_count": 26,
   "id": "a69d0ea9",
   "metadata": {
    "execution": {
     "iopub.execute_input": "2024-09-05T11:04:15.547866Z",
     "iopub.status.busy": "2024-09-05T11:04:15.546913Z",
     "iopub.status.idle": "2024-09-05T11:04:15.609828Z",
     "shell.execute_reply": "2024-09-05T11:04:15.608645Z"
    },
    "papermill": {
     "duration": 0.096562,
     "end_time": "2024-09-05T11:04:15.612190",
     "exception": false,
     "start_time": "2024-09-05T11:04:15.515628",
     "status": "completed"
    },
    "tags": []
   },
   "outputs": [
    {
     "data": {
      "text/plain": [
       "0    45160.392542\n",
       "1    33613.431846\n",
       "dtype: float64"
      ]
     },
     "execution_count": 26,
     "metadata": {},
     "output_type": "execute_result"
    }
   ],
   "source": [
    "view_avg_of_each('good_milage','price')"
   ]
  },
  {
   "cell_type": "code",
   "execution_count": 27,
   "id": "57bc9fd2",
   "metadata": {
    "execution": {
     "iopub.execute_input": "2024-09-05T11:04:15.674443Z",
     "iopub.status.busy": "2024-09-05T11:04:15.673645Z",
     "iopub.status.idle": "2024-09-05T11:04:15.678520Z",
     "shell.execute_reply": "2024-09-05T11:04:15.677469Z"
    },
    "papermill": {
     "duration": 0.038193,
     "end_time": "2024-09-05T11:04:15.680938",
     "exception": false,
     "start_time": "2024-09-05T11:04:15.642745",
     "status": "completed"
    },
    "tags": []
   },
   "outputs": [],
   "source": [
    "numeric_features += ['milage','milage_per_year','good_milage']"
   ]
  },
  {
   "cell_type": "markdown",
   "id": "e7d967ad",
   "metadata": {
    "papermill": {
     "duration": 0.029874,
     "end_time": "2024-09-05T11:04:15.740876",
     "exception": false,
     "start_time": "2024-09-05T11:04:15.711002",
     "status": "completed"
    },
    "tags": []
   },
   "source": [
    "### Fuel Type"
   ]
  },
  {
   "cell_type": "code",
   "execution_count": 28,
   "id": "6dc4bd01",
   "metadata": {
    "execution": {
     "iopub.execute_input": "2024-09-05T11:04:15.802349Z",
     "iopub.status.busy": "2024-09-05T11:04:15.801708Z",
     "iopub.status.idle": "2024-09-05T11:04:15.817152Z",
     "shell.execute_reply": "2024-09-05T11:04:15.815985Z"
    },
    "papermill": {
     "duration": 0.048864,
     "end_time": "2024-09-05T11:04:15.819284",
     "exception": false,
     "start_time": "2024-09-05T11:04:15.770420",
     "status": "completed"
    },
    "tags": []
   },
   "outputs": [
    {
     "data": {
      "text/plain": [
       "fuel_type\n",
       "Gasoline          165940\n",
       "Hybrid              6832\n",
       "E85 Flex Fuel       5406\n",
       "NaN                 5083\n",
       "Diesel              3955\n",
       "–                    781\n",
       "Plug-In Hybrid       521\n",
       "not supported         15\n",
       "Name: count, dtype: int64"
      ]
     },
     "execution_count": 28,
     "metadata": {},
     "output_type": "execute_result"
    }
   ],
   "source": [
    "raw_df['fuel_type'].value_counts(dropna=False)"
   ]
  },
  {
   "cell_type": "code",
   "execution_count": 29,
   "id": "7c65c2f1",
   "metadata": {
    "execution": {
     "iopub.execute_input": "2024-09-05T11:04:15.881570Z",
     "iopub.status.busy": "2024-09-05T11:04:15.880630Z",
     "iopub.status.idle": "2024-09-05T11:04:16.001694Z",
     "shell.execute_reply": "2024-09-05T11:04:16.000519Z"
    },
    "papermill": {
     "duration": 0.154646,
     "end_time": "2024-09-05T11:04:16.004154",
     "exception": false,
     "start_time": "2024-09-05T11:04:15.849508",
     "status": "completed"
    },
    "tags": []
   },
   "outputs": [],
   "source": [
    "for df in [raw_df, test_df, original_df]:\n",
    "    df['fuel_type'] = df['fuel_type'].apply(lambda x: 'rem' if (x==np.nan or str(x)=='nan') else x)"
   ]
  },
  {
   "cell_type": "code",
   "execution_count": 30,
   "id": "a1558131",
   "metadata": {
    "execution": {
     "iopub.execute_input": "2024-09-05T11:04:16.066928Z",
     "iopub.status.busy": "2024-09-05T11:04:16.065829Z",
     "iopub.status.idle": "2024-09-05T11:04:16.263539Z",
     "shell.execute_reply": "2024-09-05T11:04:16.262339Z"
    },
    "papermill": {
     "duration": 0.231517,
     "end_time": "2024-09-05T11:04:16.265845",
     "exception": false,
     "start_time": "2024-09-05T11:04:16.034328",
     "status": "completed"
    },
    "tags": []
   },
   "outputs": [
    {
     "data": {
      "text/plain": [
       "Gasoline          43360.013782\n",
       "E85 Flex Fuel     26729.755457\n",
       "rem               60822.612040\n",
       "Hybrid            55473.451698\n",
       "Diesel            48769.587358\n",
       "Plug-In Hybrid    44150.967370\n",
       "–                 36414.285531\n",
       "not supported     20692.733333\n",
       "dtype: float64"
      ]
     },
     "execution_count": 30,
     "metadata": {},
     "output_type": "execute_result"
    }
   ],
   "source": [
    "view_avg_of_each('fuel_type', 'price')"
   ]
  },
  {
   "cell_type": "code",
   "execution_count": 31,
   "id": "f77a7d5e",
   "metadata": {
    "execution": {
     "iopub.execute_input": "2024-09-05T11:04:16.327349Z",
     "iopub.status.busy": "2024-09-05T11:04:16.326710Z",
     "iopub.status.idle": "2024-09-05T11:04:16.331517Z",
     "shell.execute_reply": "2024-09-05T11:04:16.330463Z"
    },
    "papermill": {
     "duration": 0.037679,
     "end_time": "2024-09-05T11:04:16.333481",
     "exception": false,
     "start_time": "2024-09-05T11:04:16.295802",
     "status": "completed"
    },
    "tags": []
   },
   "outputs": [],
   "source": [
    "categorical_features.append('fuel_type')"
   ]
  },
  {
   "cell_type": "markdown",
   "id": "3c096a1d",
   "metadata": {
    "papermill": {
     "duration": 0.029427,
     "end_time": "2024-09-05T11:04:16.392850",
     "exception": false,
     "start_time": "2024-09-05T11:04:16.363423",
     "status": "completed"
    },
    "tags": []
   },
   "source": [
    "### Engine"
   ]
  },
  {
   "cell_type": "code",
   "execution_count": 32,
   "id": "c7fd12e8",
   "metadata": {
    "execution": {
     "iopub.execute_input": "2024-09-05T11:04:16.455948Z",
     "iopub.status.busy": "2024-09-05T11:04:16.455033Z",
     "iopub.status.idle": "2024-09-05T11:04:16.470553Z",
     "shell.execute_reply": "2024-09-05T11:04:16.469574Z"
    },
    "papermill": {
     "duration": 0.048693,
     "end_time": "2024-09-05T11:04:16.472646",
     "exception": false,
     "start_time": "2024-09-05T11:04:16.423953",
     "status": "completed"
    },
    "tags": []
   },
   "outputs": [
    {
     "data": {
      "text/plain": [
       "0"
      ]
     },
     "execution_count": 32,
     "metadata": {},
     "output_type": "execute_result"
    }
   ],
   "source": [
    "raw_df['engine'].isna().sum()"
   ]
  },
  {
   "cell_type": "code",
   "execution_count": 33,
   "id": "9b55ba85",
   "metadata": {
    "execution": {
     "iopub.execute_input": "2024-09-05T11:04:16.535251Z",
     "iopub.status.busy": "2024-09-05T11:04:16.534845Z",
     "iopub.status.idle": "2024-09-05T11:04:16.561263Z",
     "shell.execute_reply": "2024-09-05T11:04:16.560301Z"
    },
    "papermill": {
     "duration": 0.060152,
     "end_time": "2024-09-05T11:04:16.563338",
     "exception": false,
     "start_time": "2024-09-05T11:04:16.503186",
     "status": "completed"
    },
    "tags": []
   },
   "outputs": [
    {
     "data": {
      "text/plain": [
       "1117"
      ]
     },
     "execution_count": 33,
     "metadata": {},
     "output_type": "execute_result"
    }
   ],
   "source": [
    "len(raw_df['engine'].unique())"
   ]
  },
  {
   "cell_type": "code",
   "execution_count": 34,
   "id": "344cc07e",
   "metadata": {
    "execution": {
     "iopub.execute_input": "2024-09-05T11:04:16.625705Z",
     "iopub.status.busy": "2024-09-05T11:04:16.625296Z",
     "iopub.status.idle": "2024-09-05T11:04:16.636210Z",
     "shell.execute_reply": "2024-09-05T11:04:16.635214Z"
    },
    "papermill": {
     "duration": 0.044507,
     "end_time": "2024-09-05T11:04:16.638376",
     "exception": false,
     "start_time": "2024-09-05T11:04:16.593869",
     "status": "completed"
    },
    "tags": []
   },
   "outputs": [],
   "source": [
    "def split_engine(x, need_find: str):\n",
    "    result = {'horsepower': -1, 'litres': -1, \n",
    "              'num_cyl': -1, 'ver': -1,\n",
    "              'vol': -1, 'type_cyl': 'unk', 'turbo': -1}\n",
    "    x_lst = str(x).split(' ')\n",
    "    for i in range(len(x_lst)):\n",
    "        e = x_lst[i]\n",
    "        if e.find('HP')>=0 and result['horsepower']==-1:\n",
    "            result['horsepower'] = e.split('HP')[0]\n",
    "        elif e.find('L')>0 and result['litres']==-1:\n",
    "            result['litres'] = e.split('L')[0]\n",
    "        elif e == 'Liter' and result['litres']==-1 and i>=1:\n",
    "            result['litres'] = x_lst[i-1]\n",
    "        elif e == 'Cylinder' and result['num_cyl']==-1 and i>=1:\n",
    "            num = x_lst[i-1]\n",
    "            if num.isnumeric():\n",
    "                result['num_cyl'] = num\n",
    "        elif e in ['V6','V8','V10','V12','V14'] and result['ver']==-1:\n",
    "            result['ver'] = e.split('V')[1]\n",
    "        elif e.find('V')>0 and result['vol'] == -1:\n",
    "            num = e.split('V')[0]\n",
    "            if num.isnumeric():\n",
    "                result['vol'] = num\n",
    "        elif e in ['SOHC', 'DOHC', 'OHV', 'Electric'] and result['type_cyl']=='unk':\n",
    "            result['type_cyl'] = e\n",
    "        elif e == 'Turbo' and result['turbo']==-1:\n",
    "            result['turbo'] = 1\n",
    "            if i>=1 and x_lst[i-1] == 'Twin':\n",
    "                result['turbo'] = 2\n",
    "        else:\n",
    "            continue\n",
    "    return result[need_find]"
   ]
  },
  {
   "cell_type": "code",
   "execution_count": 35,
   "id": "fde78360",
   "metadata": {
    "execution": {
     "iopub.execute_input": "2024-09-05T11:04:16.700610Z",
     "iopub.status.busy": "2024-09-05T11:04:16.700211Z",
     "iopub.status.idle": "2024-09-05T11:04:16.717559Z",
     "shell.execute_reply": "2024-09-05T11:04:16.716509Z"
    },
    "papermill": {
     "duration": 0.050986,
     "end_time": "2024-09-05T11:04:16.719726",
     "exception": false,
     "start_time": "2024-09-05T11:04:16.668740",
     "status": "completed"
    },
    "tags": []
   },
   "outputs": [
    {
     "data": {
      "text/plain": [
       "711"
      ]
     },
     "execution_count": 35,
     "metadata": {},
     "output_type": "execute_result"
    }
   ],
   "source": [
    "noise_engine = raw_df['engine'].value_counts(dropna=False)\n",
    "noise_engine = noise_engine[noise_engine<min_threshold]\n",
    "len(noise_engine)"
   ]
  },
  {
   "cell_type": "code",
   "execution_count": 36,
   "id": "29d6c15b",
   "metadata": {
    "execution": {
     "iopub.execute_input": "2024-09-05T11:04:16.782537Z",
     "iopub.status.busy": "2024-09-05T11:04:16.781595Z",
     "iopub.status.idle": "2024-09-05T11:04:31.632846Z",
     "shell.execute_reply": "2024-09-05T11:04:31.631294Z"
    },
    "papermill": {
     "duration": 14.885047,
     "end_time": "2024-09-05T11:04:31.635333",
     "exception": false,
     "start_time": "2024-09-05T11:04:16.750286",
     "status": "completed"
    },
    "tags": []
   },
   "outputs": [],
   "source": [
    "for df in [raw_df, test_df, original_df]:\n",
    "    df['horsepower'] = df['engine'].apply(lambda x: split_engine(x, 'horsepower'))\n",
    "    df['horsepower'] = df['horsepower'].astype('float32')\n",
    "    \n",
    "    df['litres'] = df['engine'].apply(lambda x: split_engine(x, 'litres'))\n",
    "    df['litres'] = df['litres'].astype('float32')\n",
    "    \n",
    "    df['num_cyl'] = df['engine'].apply(lambda x: split_engine(x, 'num_cyl'))\n",
    "    df['num_cyl'] = df['num_cyl'].astype('int8')\n",
    "    \n",
    "    df['ver'] = df['engine'].apply(lambda x: split_engine(x, 'ver'))\n",
    "    df['ver'] = df['ver'].astype('int8')\n",
    "\n",
    "    df['vol'] = df['engine'].apply(lambda x: split_engine(x, 'vol'))\n",
    "    df['vol'] = df['vol'].astype('int8')\n",
    "    \n",
    "    df['type_cyl'] = df['engine'].apply(lambda x: split_engine(x, 'type_cyl'))\n",
    "    \n",
    "    df['turbo'] = df['engine'].apply(lambda x: split_engine(x, 'turbo'))\n",
    "    df['turbo'] = df['turbo'].astype('int8')\n",
    "\n",
    "    df['engine'] = df['engine'].apply(lambda x: 'noise' if x in noise_engine else x)"
   ]
  },
  {
   "cell_type": "code",
   "execution_count": 37,
   "id": "558070f0",
   "metadata": {
    "execution": {
     "iopub.execute_input": "2024-09-05T11:04:31.699043Z",
     "iopub.status.busy": "2024-09-05T11:04:31.697950Z",
     "iopub.status.idle": "2024-09-05T11:04:35.815033Z",
     "shell.execute_reply": "2024-09-05T11:04:35.813963Z"
    },
    "papermill": {
     "duration": 4.151476,
     "end_time": "2024-09-05T11:04:35.817634",
     "exception": false,
     "start_time": "2024-09-05T11:04:31.666158",
     "status": "completed"
    },
    "tags": []
   },
   "outputs": [],
   "source": [
    "for df in [raw_df, test_df, original_df]:\n",
    "    df['turbo'] = df['turbo'].apply(lambda x: x if x>0 else 0)\n",
    "    df['ver'] = df['ver'].apply(lambda x: x if x>0 else 0)\n",
    "    for col in ['horsepower','litres']:\n",
    "        avg = raw_df[raw_df[col]>=0][col].mean()\n",
    "        df[col] = df[col].apply(lambda x: x if x>=0 else avg)\n",
    "    for col in ['num_cyl','vol']:\n",
    "        avg = raw_df[raw_df[col]>=0][col].mean().astype('int8')\n",
    "        df[col] = df[col].apply(lambda x: x if x>=0 else avg)"
   ]
  },
  {
   "cell_type": "code",
   "execution_count": 38,
   "id": "587d1c33",
   "metadata": {
    "execution": {
     "iopub.execute_input": "2024-09-05T11:04:35.881373Z",
     "iopub.status.busy": "2024-09-05T11:04:35.880969Z",
     "iopub.status.idle": "2024-09-05T11:04:45.059107Z",
     "shell.execute_reply": "2024-09-05T11:04:45.058019Z"
    },
    "papermill": {
     "duration": 9.214224,
     "end_time": "2024-09-05T11:04:45.063372",
     "exception": false,
     "start_time": "2024-09-05T11:04:35.849148",
     "status": "completed"
    },
    "tags": []
   },
   "outputs": [
    {
     "data": {
      "image/png": "[encoded data removed]",
      "text/plain": [
       "<Figure size 3000x1000 with 1 Axes>"
      ]
     },
     "metadata": {},
     "output_type": "display_data"
    }
   ],
   "source": [
    "draw_numeric_features(raw_df, 'horsepower', 'price')"
   ]
  },
  {
   "cell_type": "code",
   "execution_count": 39,
   "id": "a9cd8efa",
   "metadata": {
    "execution": {
     "iopub.execute_input": "2024-09-05T11:04:45.137191Z",
     "iopub.status.busy": "2024-09-05T11:04:45.136744Z",
     "iopub.status.idle": "2024-09-05T11:04:47.274261Z",
     "shell.execute_reply": "2024-09-05T11:04:47.273117Z"
    },
    "papermill": {
     "duration": 2.177763,
     "end_time": "2024-09-05T11:04:47.277565",
     "exception": false,
     "start_time": "2024-09-05T11:04:45.099802",
     "status": "completed"
    },
    "tags": []
   },
   "outputs": [
    {
     "data": {
      "image/png": "[encoded data removed]",
      "text/plain": [
       "<Figure size 3000x1000 with 1 Axes>"
      ]
     },
     "metadata": {},
     "output_type": "display_data"
    }
   ],
   "source": [
    "draw_numeric_features(raw_df, 'num_cyl', 'price')"
   ]
  },
  {
   "cell_type": "code",
   "execution_count": 40,
   "id": "17083185",
   "metadata": {
    "execution": {
     "iopub.execute_input": "2024-09-05T11:04:47.355737Z",
     "iopub.status.busy": "2024-09-05T11:04:47.355210Z",
     "iopub.status.idle": "2024-09-05T11:04:49.543703Z",
     "shell.execute_reply": "2024-09-05T11:04:49.542565Z"
    },
    "papermill": {
     "duration": 2.231414,
     "end_time": "2024-09-05T11:04:49.547318",
     "exception": false,
     "start_time": "2024-09-05T11:04:47.315904",
     "status": "completed"
    },
    "tags": []
   },
   "outputs": [
    {
     "data": {
      "image/png": "[encoded data removed]",
      "text/plain": [
       "<Figure size 3000x1000 with 1 Axes>"
      ]
     },
     "metadata": {},
     "output_type": "display_data"
    }
   ],
   "source": [
    "draw_numeric_features(raw_df, 'vol', 'price')"
   ]
  },
  {
   "cell_type": "code",
   "execution_count": 41,
   "id": "1e83fa10",
   "metadata": {
    "execution": {
     "iopub.execute_input": "2024-09-05T11:04:49.627727Z",
     "iopub.status.busy": "2024-09-05T11:04:49.626951Z",
     "iopub.status.idle": "2024-09-05T11:04:49.703978Z",
     "shell.execute_reply": "2024-09-05T11:04:49.702890Z"
    },
    "papermill": {
     "duration": 0.11941,
     "end_time": "2024-09-05T11:04:49.706224",
     "exception": false,
     "start_time": "2024-09-05T11:04:49.586814",
     "status": "completed"
    },
    "tags": []
   },
   "outputs": [
    {
     "data": {
      "text/plain": [
       "0      44536.603343\n",
       "6      35480.522828\n",
       "10    157057.686375\n",
       "8      88027.528370\n",
       "12    173761.592593\n",
       "dtype: float64"
      ]
     },
     "execution_count": 41,
     "metadata": {},
     "output_type": "execute_result"
    }
   ],
   "source": [
    "view_avg_of_each('ver','price')"
   ]
  },
  {
   "cell_type": "code",
   "execution_count": 42,
   "id": "f212def6",
   "metadata": {
    "execution": {
     "iopub.execute_input": "2024-09-05T11:04:49.787210Z",
     "iopub.status.busy": "2024-09-05T11:04:49.786785Z",
     "iopub.status.idle": "2024-09-05T11:04:49.861015Z",
     "shell.execute_reply": "2024-09-05T11:04:49.859987Z"
    },
    "papermill": {
     "duration": 0.11716,
     "end_time": "2024-09-05T11:04:49.863207",
     "exception": false,
     "start_time": "2024-09-05T11:04:49.746047",
     "status": "completed"
    },
    "tags": []
   },
   "outputs": [
    {
     "data": {
      "text/plain": [
       "0    41760.937910\n",
       "2    91263.592075\n",
       "1    49775.101944\n",
       "dtype: float64"
      ]
     },
     "execution_count": 42,
     "metadata": {},
     "output_type": "execute_result"
    }
   ],
   "source": [
    "view_avg_of_each('turbo','price')"
   ]
  },
  {
   "cell_type": "code",
   "execution_count": 43,
   "id": "78f97c4d",
   "metadata": {
    "execution": {
     "iopub.execute_input": "2024-09-05T11:04:49.942945Z",
     "iopub.status.busy": "2024-09-05T11:04:49.941979Z",
     "iopub.status.idle": "2024-09-05T11:04:50.105442Z",
     "shell.execute_reply": "2024-09-05T11:04:50.104422Z"
    },
    "papermill": {
     "duration": 0.205638,
     "end_time": "2024-09-05T11:04:50.107840",
     "exception": false,
     "start_time": "2024-09-05T11:04:49.902202",
     "status": "completed"
    },
    "tags": []
   },
   "outputs": [
    {
     "data": {
      "text/plain": [
       "unk         39026.610939\n",
       "DOHC        68014.759650\n",
       "Electric    62678.295223\n",
       "OHV         70728.657875\n",
       "SOHC        54658.378913\n",
       "dtype: float64"
      ]
     },
     "execution_count": 43,
     "metadata": {},
     "output_type": "execute_result"
    }
   ],
   "source": [
    "view_avg_of_each('type_cyl','price')"
   ]
  },
  {
   "cell_type": "code",
   "execution_count": 44,
   "id": "58a0f4cd",
   "metadata": {
    "execution": {
     "iopub.execute_input": "2024-09-05T11:04:50.188287Z",
     "iopub.status.busy": "2024-09-05T11:04:50.187864Z",
     "iopub.status.idle": "2024-09-05T11:04:50.253390Z",
     "shell.execute_reply": "2024-09-05T11:04:50.252179Z"
    },
    "papermill": {
     "duration": 0.10864,
     "end_time": "2024-09-05T11:04:50.255731",
     "exception": false,
     "start_time": "2024-09-05T11:04:50.147091",
     "status": "completed"
    },
    "tags": []
   },
   "outputs": [
    {
     "data": {
      "text/plain": [
       "(1007, 407)"
      ]
     },
     "execution_count": 44,
     "metadata": {},
     "output_type": "execute_result"
    }
   ],
   "source": [
    "len(raw_df[['horsepower','litres','num_cyl','ver','vol','type_cyl','turbo']].value_counts()), len(raw_df['engine'].value_counts())"
   ]
  },
  {
   "cell_type": "code",
   "execution_count": 45,
   "id": "21c60eb3",
   "metadata": {
    "execution": {
     "iopub.execute_input": "2024-09-05T11:04:50.335564Z",
     "iopub.status.busy": "2024-09-05T11:04:50.335122Z",
     "iopub.status.idle": "2024-09-05T11:04:50.340198Z",
     "shell.execute_reply": "2024-09-05T11:04:50.339254Z"
    },
    "papermill": {
     "duration": 0.047634,
     "end_time": "2024-09-05T11:04:50.342370",
     "exception": false,
     "start_time": "2024-09-05T11:04:50.294736",
     "status": "completed"
    },
    "tags": []
   },
   "outputs": [],
   "source": [
    "numeric_features += ['horsepower','litres','num_cyl','ver','vol','turbo']\n",
    "categorical_features += ['engine','type_cyl']"
   ]
  },
  {
   "cell_type": "markdown",
   "id": "d8ae2e37",
   "metadata": {
    "papermill": {
     "duration": 0.03866,
     "end_time": "2024-09-05T11:04:50.419949",
     "exception": false,
     "start_time": "2024-09-05T11:04:50.381289",
     "status": "completed"
    },
    "tags": []
   },
   "source": [
    "### Transmission"
   ]
  },
  {
   "cell_type": "code",
   "execution_count": 46,
   "id": "5d0d6791",
   "metadata": {
    "execution": {
     "iopub.execute_input": "2024-09-05T11:04:50.499860Z",
     "iopub.status.busy": "2024-09-05T11:04:50.498914Z",
     "iopub.status.idle": "2024-09-05T11:04:50.518357Z",
     "shell.execute_reply": "2024-09-05T11:04:50.517373Z"
    },
    "papermill": {
     "duration": 0.061855,
     "end_time": "2024-09-05T11:04:50.520522",
     "exception": false,
     "start_time": "2024-09-05T11:04:50.458667",
     "status": "completed"
    },
    "scrolled": true,
    "tags": []
   },
   "outputs": [
    {
     "data": {
      "text/plain": [
       "52"
      ]
     },
     "execution_count": 46,
     "metadata": {},
     "output_type": "execute_result"
    }
   ],
   "source": [
    "len(raw_df['transmission'].unique())"
   ]
  },
  {
   "cell_type": "code",
   "execution_count": 47,
   "id": "f74f35f8",
   "metadata": {
    "execution": {
     "iopub.execute_input": "2024-09-05T11:04:50.602220Z",
     "iopub.status.busy": "2024-09-05T11:04:50.601794Z",
     "iopub.status.idle": "2024-09-05T11:04:50.678008Z",
     "shell.execute_reply": "2024-09-05T11:04:50.676968Z"
    },
    "papermill": {
     "duration": 0.119249,
     "end_time": "2024-09-05T11:04:50.680298",
     "exception": false,
     "start_time": "2024-09-05T11:04:50.561049",
     "status": "completed"
    },
    "tags": []
   },
   "outputs": [
    {
     "data": {
      "text/plain": [
       "0                                    a/t\n",
       "1                                    a/t\n",
       "2                                    a/t\n",
       "3         transmission w/dual shift mode\n",
       "4                            7-speed a/t\n",
       "                       ...              \n",
       "188528    transmission w/dual shift mode\n",
       "188529                       8-speed a/t\n",
       "188530                       7-speed a/t\n",
       "188531                 1-speed automatic\n",
       "188532    transmission w/dual shift mode\n",
       "Name: transmission, Length: 188533, dtype: object"
      ]
     },
     "execution_count": 47,
     "metadata": {},
     "output_type": "execute_result"
    }
   ],
   "source": [
    "raw_df['transmission'] = raw_df['transmission'].apply(lambda x: str(x).lower())\n",
    "raw_df['transmission']"
   ]
  },
  {
   "cell_type": "code",
   "execution_count": 48,
   "id": "3e76864e",
   "metadata": {
    "execution": {
     "iopub.execute_input": "2024-09-05T11:04:50.760241Z",
     "iopub.status.busy": "2024-09-05T11:04:50.759830Z",
     "iopub.status.idle": "2024-09-05T11:04:50.768579Z",
     "shell.execute_reply": "2024-09-05T11:04:50.767614Z"
    },
    "papermill": {
     "duration": 0.051233,
     "end_time": "2024-09-05T11:04:50.770617",
     "exception": false,
     "start_time": "2024-09-05T11:04:50.719384",
     "status": "completed"
    },
    "tags": []
   },
   "outputs": [],
   "source": [
    "def split_transmission(x, need_find:str):\n",
    "    result = {\n",
    "        'trans_speed': -1,\n",
    "        'trans_type': 'unk'\n",
    "    }\n",
    "    x_lst = str(x).split(' ')\n",
    "    for i in range(len(x_lst)):\n",
    "        e = x_lst[i]\n",
    "        if e.find('-speed')>=0 and result['trans_speed'] == -1:\n",
    "            val = e.split('-speed')[0]\n",
    "            if val == 'single':\n",
    "                val = 1\n",
    "            result['trans_speed'] = val\n",
    "        elif e == 'speed' and result['trans_speed'] == -1 and i>=1:\n",
    "            val = x_lst[i-1]\n",
    "            if val == 'single':\n",
    "                val = 1\n",
    "            result['trans_speed'] = val\n",
    "        elif e in ['at','a/t','automatic'] and result['trans_type'] == 'unk':\n",
    "            result['trans_type'] = 'a'\n",
    "        elif e in ['mt','m/t','manual'] and result['trans_type'] == 'unk':\n",
    "            result['trans_type'] = 'm'\n",
    "        elif e == 'cvt' and result['trans_type'] == 'unk':\n",
    "            result['trans_type'] = 'c'\n",
    "        elif e == 'w/dual' and result['trans_type'] == 'unk':\n",
    "            result['trans_type'] = 'w'\n",
    "        else:\n",
    "            continue\n",
    "    return result[need_find]"
   ]
  },
  {
   "cell_type": "code",
   "execution_count": 49,
   "id": "3caf72bc",
   "metadata": {
    "execution": {
     "iopub.execute_input": "2024-09-05T11:04:50.851752Z",
     "iopub.status.busy": "2024-09-05T11:04:50.851346Z",
     "iopub.status.idle": "2024-09-05T11:04:50.873531Z",
     "shell.execute_reply": "2024-09-05T11:04:50.872430Z"
    },
    "papermill": {
     "duration": 0.065879,
     "end_time": "2024-09-05T11:04:50.875727",
     "exception": false,
     "start_time": "2024-09-05T11:04:50.809848",
     "status": "completed"
    },
    "tags": []
   },
   "outputs": [
    {
     "data": {
      "text/plain": [
       "21"
      ]
     },
     "execution_count": 49,
     "metadata": {},
     "output_type": "execute_result"
    }
   ],
   "source": [
    "noise_transmission = raw_df['transmission'].value_counts(dropna=False)\n",
    "noise_transmission = noise_transmission[noise_transmission<min_threshold]\n",
    "len(noise_transmission)"
   ]
  },
  {
   "cell_type": "code",
   "execution_count": 50,
   "id": "a19bfb49",
   "metadata": {
    "execution": {
     "iopub.execute_input": "2024-09-05T11:04:50.956941Z",
     "iopub.status.busy": "2024-09-05T11:04:50.956247Z",
     "iopub.status.idle": "2024-09-05T11:04:52.163350Z",
     "shell.execute_reply": "2024-09-05T11:04:52.162306Z"
    },
    "papermill": {
     "duration": 1.250116,
     "end_time": "2024-09-05T11:04:52.165851",
     "exception": false,
     "start_time": "2024-09-05T11:04:50.915735",
     "status": "completed"
    },
    "tags": []
   },
   "outputs": [],
   "source": [
    "for df in [raw_df, test_df, original_df]:\n",
    "    df['trans_speed'] = df['transmission'].apply(lambda x: split_transmission(x, 'trans_speed'))\n",
    "    df['trans_speed'] = df['trans_speed'].astype('int8')\n",
    "    df['trans_type'] = df['transmission'].apply(lambda x: split_transmission(x, 'trans_type'))"
   ]
  },
  {
   "cell_type": "code",
   "execution_count": 51,
   "id": "306d8ae4",
   "metadata": {
    "execution": {
     "iopub.execute_input": "2024-09-05T11:04:52.247548Z",
     "iopub.status.busy": "2024-09-05T11:04:52.246799Z",
     "iopub.status.idle": "2024-09-05T11:04:53.493073Z",
     "shell.execute_reply": "2024-09-05T11:04:53.492150Z"
    },
    "papermill": {
     "duration": 1.289404,
     "end_time": "2024-09-05T11:04:53.495467",
     "exception": false,
     "start_time": "2024-09-05T11:04:52.206063",
     "status": "completed"
    },
    "tags": []
   },
   "outputs": [],
   "source": [
    "avg = raw_df[raw_df['trans_speed']>0]['trans_speed'].mean().astype('int8')\n",
    "for df in [raw_df, test_df, original_df]:\n",
    "    df['trans_speed'] = df['trans_speed'].apply(lambda x: x if x>=0 else avg)"
   ]
  },
  {
   "cell_type": "code",
   "execution_count": 52,
   "id": "c496ac9e",
   "metadata": {
    "execution": {
     "iopub.execute_input": "2024-09-05T11:04:53.576776Z",
     "iopub.status.busy": "2024-09-05T11:04:53.576352Z",
     "iopub.status.idle": "2024-09-05T11:04:53.581289Z",
     "shell.execute_reply": "2024-09-05T11:04:53.580296Z"
    },
    "papermill": {
     "duration": 0.048991,
     "end_time": "2024-09-05T11:04:53.583305",
     "exception": false,
     "start_time": "2024-09-05T11:04:53.534314",
     "status": "completed"
    },
    "tags": []
   },
   "outputs": [],
   "source": [
    "categorical_features += ['transmission','trans_type']\n",
    "numeric_features.append('trans_speed')"
   ]
  },
  {
   "cell_type": "markdown",
   "id": "b1264fd5",
   "metadata": {
    "papermill": {
     "duration": 0.03898,
     "end_time": "2024-09-05T11:04:53.661298",
     "exception": false,
     "start_time": "2024-09-05T11:04:53.622318",
     "status": "completed"
    },
    "tags": []
   },
   "source": [
    "### Color"
   ]
  },
  {
   "cell_type": "code",
   "execution_count": 53,
   "id": "d9c8c9d8",
   "metadata": {
    "execution": {
     "iopub.execute_input": "2024-09-05T11:04:53.742083Z",
     "iopub.status.busy": "2024-09-05T11:04:53.741088Z",
     "iopub.status.idle": "2024-09-05T11:04:53.972973Z",
     "shell.execute_reply": "2024-09-05T11:04:53.971881Z"
    },
    "papermill": {
     "duration": 0.275344,
     "end_time": "2024-09-05T11:04:53.975480",
     "exception": false,
     "start_time": "2024-09-05T11:04:53.700136",
     "status": "completed"
    },
    "tags": []
   },
   "outputs": [],
   "source": [
    "for df in [raw_df, test_df, original_df]:\n",
    "    df['ext_col'] = df['ext_col'].apply(lambda x: str(x).lower())\n",
    "    df['int_col'] = df['int_col'].apply(lambda x: str(x).lower())"
   ]
  },
  {
   "cell_type": "code",
   "execution_count": 54,
   "id": "28b8ea68",
   "metadata": {
    "execution": {
     "iopub.execute_input": "2024-09-05T11:04:54.055052Z",
     "iopub.status.busy": "2024-09-05T11:04:54.054649Z",
     "iopub.status.idle": "2024-09-05T11:04:54.059768Z",
     "shell.execute_reply": "2024-09-05T11:04:54.058732Z"
    },
    "papermill": {
     "duration": 0.047312,
     "end_time": "2024-09-05T11:04:54.061784",
     "exception": false,
     "start_time": "2024-09-05T11:04:54.014472",
     "status": "completed"
    },
    "tags": []
   },
   "outputs": [],
   "source": [
    "# To view ext and int color\n",
    "simple_cols = ['black','white','gray','silver','blue','red','green','gold',\n",
    "               'brown','orange','beige','yellow','parchment']"
   ]
  },
  {
   "cell_type": "code",
   "execution_count": 55,
   "id": "47f9307e",
   "metadata": {
    "execution": {
     "iopub.execute_input": "2024-09-05T11:04:54.143303Z",
     "iopub.status.busy": "2024-09-05T11:04:54.142344Z",
     "iopub.status.idle": "2024-09-05T11:04:54.148023Z",
     "shell.execute_reply": "2024-09-05T11:04:54.147019Z"
    },
    "papermill": {
     "duration": 0.048738,
     "end_time": "2024-09-05T11:04:54.150043",
     "exception": false,
     "start_time": "2024-09-05T11:04:54.101305",
     "status": "completed"
    },
    "tags": []
   },
   "outputs": [],
   "source": [
    "def get_simple_col(x):\n",
    "    x_lst = str(x).split(' ')\n",
    "    for s in x_lst:\n",
    "        if s in simple_cols: \n",
    "            return s\n",
    "        for col in simple_cols:\n",
    "            if s.find(col)>=0:\n",
    "                return col\n",
    "    return 'rem'"
   ]
  },
  {
   "cell_type": "code",
   "execution_count": 56,
   "id": "e7dbf6f9",
   "metadata": {
    "execution": {
     "iopub.execute_input": "2024-09-05T11:04:54.230498Z",
     "iopub.status.busy": "2024-09-05T11:04:54.230083Z",
     "iopub.status.idle": "2024-09-05T11:04:54.838270Z",
     "shell.execute_reply": "2024-09-05T11:04:54.837371Z"
    },
    "papermill": {
     "duration": 0.651438,
     "end_time": "2024-09-05T11:04:54.840749",
     "exception": false,
     "start_time": "2024-09-05T11:04:54.189311",
     "status": "completed"
    },
    "tags": []
   },
   "outputs": [],
   "source": [
    "for df in [raw_df, test_df, original_df]:\n",
    "    df['simple_ext_col'] = df['ext_col'].apply(lambda x: get_simple_col(x))\n",
    "    df['simple_int_col'] = df['int_col'].apply(lambda x: get_simple_col(x))"
   ]
  },
  {
   "cell_type": "code",
   "execution_count": 57,
   "id": "e012717a",
   "metadata": {
    "execution": {
     "iopub.execute_input": "2024-09-05T11:04:54.921369Z",
     "iopub.status.busy": "2024-09-05T11:04:54.920550Z",
     "iopub.status.idle": "2024-09-05T11:04:54.955279Z",
     "shell.execute_reply": "2024-09-05T11:04:54.954108Z"
    },
    "papermill": {
     "duration": 0.077547,
     "end_time": "2024-09-05T11:04:54.957476",
     "exception": false,
     "start_time": "2024-09-05T11:04:54.879929",
     "status": "completed"
    },
    "tags": []
   },
   "outputs": [
    {
     "data": {
      "text/plain": [
       "(257, 119)"
      ]
     },
     "execution_count": 57,
     "metadata": {},
     "output_type": "execute_result"
    }
   ],
   "source": [
    "noise_ext_col = raw_df['ext_col'].value_counts(dropna=False)\n",
    "noise_ext_col = noise_ext_col[noise_ext_col<min_threshold]\n",
    "\n",
    "noise_int_col = raw_df['int_col'].value_counts(dropna=False)\n",
    "noise_int_col = noise_int_col[noise_int_col<min_threshold]\n",
    "\n",
    "len(noise_ext_col), len(noise_int_col)"
   ]
  },
  {
   "cell_type": "code",
   "execution_count": 58,
   "id": "30343a81",
   "metadata": {
    "execution": {
     "iopub.execute_input": "2024-09-05T11:04:55.038468Z",
     "iopub.status.busy": "2024-09-05T11:04:55.037705Z",
     "iopub.status.idle": "2024-09-05T11:04:56.417764Z",
     "shell.execute_reply": "2024-09-05T11:04:56.416687Z"
    },
    "papermill": {
     "duration": 1.423388,
     "end_time": "2024-09-05T11:04:56.420256",
     "exception": false,
     "start_time": "2024-09-05T11:04:54.996868",
     "status": "completed"
    },
    "tags": []
   },
   "outputs": [],
   "source": [
    "for df in [raw_df, test_df, original_df]:\n",
    "    df['ext_col'] = df['ext_col'].apply(lambda x: 'noise' if x in noise_ext_col else x)\n",
    "    df['int_col'] = df['int_col'].apply(lambda x: 'noise' if x in noise_int_col else x)"
   ]
  },
  {
   "cell_type": "code",
   "execution_count": 59,
   "id": "e664f07f",
   "metadata": {
    "execution": {
     "iopub.execute_input": "2024-09-05T11:04:56.501516Z",
     "iopub.status.busy": "2024-09-05T11:04:56.500387Z",
     "iopub.status.idle": "2024-09-05T11:04:56.505088Z",
     "shell.execute_reply": "2024-09-05T11:04:56.504289Z"
    },
    "papermill": {
     "duration": 0.047537,
     "end_time": "2024-09-05T11:04:56.507220",
     "exception": false,
     "start_time": "2024-09-05T11:04:56.459683",
     "status": "completed"
    },
    "tags": []
   },
   "outputs": [],
   "source": [
    "categorical_features += ['ext_col','int_col','simple_ext_col','simple_int_col']"
   ]
  },
  {
   "cell_type": "markdown",
   "id": "e8493934",
   "metadata": {
    "papermill": {
     "duration": 0.040426,
     "end_time": "2024-09-05T11:04:56.586791",
     "exception": false,
     "start_time": "2024-09-05T11:04:56.546365",
     "status": "completed"
    },
    "tags": []
   },
   "source": [
    "### Accident"
   ]
  },
  {
   "cell_type": "code",
   "execution_count": 60,
   "id": "cbb255b7",
   "metadata": {
    "execution": {
     "iopub.execute_input": "2024-09-05T11:04:56.667817Z",
     "iopub.status.busy": "2024-09-05T11:04:56.666819Z",
     "iopub.status.idle": "2024-09-05T11:04:56.682085Z",
     "shell.execute_reply": "2024-09-05T11:04:56.681087Z"
    },
    "papermill": {
     "duration": 0.058457,
     "end_time": "2024-09-05T11:04:56.684294",
     "exception": false,
     "start_time": "2024-09-05T11:04:56.625837",
     "status": "completed"
    },
    "tags": []
   },
   "outputs": [
    {
     "data": {
      "text/plain": [
       "accident\n",
       "None reported                             144514\n",
       "At least 1 accident or damage reported     41567\n",
       "NaN                                         2452\n",
       "Name: count, dtype: int64"
      ]
     },
     "execution_count": 60,
     "metadata": {},
     "output_type": "execute_result"
    }
   ],
   "source": [
    "raw_df['accident'].value_counts(dropna=False)"
   ]
  },
  {
   "cell_type": "code",
   "execution_count": 61,
   "id": "05cc1552",
   "metadata": {
    "execution": {
     "iopub.execute_input": "2024-09-05T11:04:56.764782Z",
     "iopub.status.busy": "2024-09-05T11:04:56.764377Z",
     "iopub.status.idle": "2024-09-05T11:04:56.895344Z",
     "shell.execute_reply": "2024-09-05T11:04:56.894280Z"
    },
    "papermill": {
     "duration": 0.17407,
     "end_time": "2024-09-05T11:04:56.897819",
     "exception": false,
     "start_time": "2024-09-05T11:04:56.723749",
     "status": "completed"
    },
    "tags": []
   },
   "outputs": [],
   "source": [
    "for df in [raw_df, test_df, original_df]:\n",
    "    df['accident'] = df['accident'].apply(lambda x: 1 if x=='At least 1 accident or damage reported' else 0)"
   ]
  },
  {
   "cell_type": "code",
   "execution_count": 62,
   "id": "61614856",
   "metadata": {
    "execution": {
     "iopub.execute_input": "2024-09-05T11:04:56.979344Z",
     "iopub.status.busy": "2024-09-05T11:04:56.978472Z",
     "iopub.status.idle": "2024-09-05T11:04:57.074915Z",
     "shell.execute_reply": "2024-09-05T11:04:57.073682Z"
    },
    "papermill": {
     "duration": 0.139474,
     "end_time": "2024-09-05T11:04:57.077020",
     "exception": false,
     "start_time": "2024-09-05T11:04:56.937546",
     "status": "completed"
    },
    "tags": []
   },
   "outputs": [
    {
     "data": {
      "text/plain": [
       "0    49122.876550\n",
       "1    25334.071475\n",
       "dtype: float64"
      ]
     },
     "execution_count": 62,
     "metadata": {},
     "output_type": "execute_result"
    }
   ],
   "source": [
    "view_avg_of_each('accident','price')"
   ]
  },
  {
   "cell_type": "code",
   "execution_count": 63,
   "id": "562efe4a",
   "metadata": {
    "execution": {
     "iopub.execute_input": "2024-09-05T11:04:57.158385Z",
     "iopub.status.busy": "2024-09-05T11:04:57.157631Z",
     "iopub.status.idle": "2024-09-05T11:04:57.162476Z",
     "shell.execute_reply": "2024-09-05T11:04:57.161423Z"
    },
    "papermill": {
     "duration": 0.048074,
     "end_time": "2024-09-05T11:04:57.164527",
     "exception": false,
     "start_time": "2024-09-05T11:04:57.116453",
     "status": "completed"
    },
    "tags": []
   },
   "outputs": [],
   "source": [
    "numeric_features.append('accident')"
   ]
  },
  {
   "cell_type": "markdown",
   "id": "04c7e447",
   "metadata": {
    "papermill": {
     "duration": 0.039,
     "end_time": "2024-09-05T11:04:57.242841",
     "exception": false,
     "start_time": "2024-09-05T11:04:57.203841",
     "status": "completed"
    },
    "tags": []
   },
   "source": [
    "### Clean title"
   ]
  },
  {
   "cell_type": "code",
   "execution_count": 64,
   "id": "5284041d",
   "metadata": {
    "execution": {
     "iopub.execute_input": "2024-09-05T11:04:57.323192Z",
     "iopub.status.busy": "2024-09-05T11:04:57.322775Z",
     "iopub.status.idle": "2024-09-05T11:04:57.337471Z",
     "shell.execute_reply": "2024-09-05T11:04:57.336393Z"
    },
    "papermill": {
     "duration": 0.057587,
     "end_time": "2024-09-05T11:04:57.339651",
     "exception": false,
     "start_time": "2024-09-05T11:04:57.282064",
     "status": "completed"
    },
    "tags": []
   },
   "outputs": [
    {
     "data": {
      "text/plain": [
       "clean_title\n",
       "Yes    167114\n",
       "NaN     21419\n",
       "Name: count, dtype: int64"
      ]
     },
     "execution_count": 64,
     "metadata": {},
     "output_type": "execute_result"
    }
   ],
   "source": [
    "raw_df['clean_title'].value_counts(dropna=False)"
   ]
  },
  {
   "cell_type": "code",
   "execution_count": 65,
   "id": "96cf99fd",
   "metadata": {
    "execution": {
     "iopub.execute_input": "2024-09-05T11:04:57.420642Z",
     "iopub.status.busy": "2024-09-05T11:04:57.419839Z",
     "iopub.status.idle": "2024-09-05T11:04:57.548978Z",
     "shell.execute_reply": "2024-09-05T11:04:57.548055Z"
    },
    "papermill": {
     "duration": 0.172652,
     "end_time": "2024-09-05T11:04:57.551637",
     "exception": false,
     "start_time": "2024-09-05T11:04:57.378985",
     "status": "completed"
    },
    "tags": []
   },
   "outputs": [],
   "source": [
    "for df in [raw_df, test_df, original_df]:\n",
    "    df['clean_title'] = df['clean_title'].apply(lambda x: 1 if x=='Yes' else 0)"
   ]
  },
  {
   "cell_type": "code",
   "execution_count": 66,
   "id": "cb86dfd9",
   "metadata": {
    "execution": {
     "iopub.execute_input": "2024-09-05T11:04:57.636858Z",
     "iopub.status.busy": "2024-09-05T11:04:57.636161Z",
     "iopub.status.idle": "2024-09-05T11:04:57.723980Z",
     "shell.execute_reply": "2024-09-05T11:04:57.722958Z"
    },
    "papermill": {
     "duration": 0.131809,
     "end_time": "2024-09-05T11:04:57.726252",
     "exception": false,
     "start_time": "2024-09-05T11:04:57.594443",
     "status": "completed"
    },
    "tags": []
   },
   "outputs": [
    {
     "data": {
      "text/plain": [
       "1    41354.406704\n",
       "0    63567.566273\n",
       "dtype: float64"
      ]
     },
     "execution_count": 66,
     "metadata": {},
     "output_type": "execute_result"
    }
   ],
   "source": [
    "view_avg_of_each('clean_title','price')"
   ]
  },
  {
   "cell_type": "code",
   "execution_count": 67,
   "id": "7ee1b7ad",
   "metadata": {
    "execution": {
     "iopub.execute_input": "2024-09-05T11:04:57.808670Z",
     "iopub.status.busy": "2024-09-05T11:04:57.807911Z",
     "iopub.status.idle": "2024-09-05T11:04:57.812644Z",
     "shell.execute_reply": "2024-09-05T11:04:57.811645Z"
    },
    "papermill": {
     "duration": 0.048552,
     "end_time": "2024-09-05T11:04:57.814844",
     "exception": false,
     "start_time": "2024-09-05T11:04:57.766292",
     "status": "completed"
    },
    "tags": []
   },
   "outputs": [],
   "source": [
    "numeric_features.append('clean_title')"
   ]
  },
  {
   "cell_type": "code",
   "execution_count": 68,
   "id": "fbaac070",
   "metadata": {
    "execution": {
     "iopub.execute_input": "2024-09-05T11:04:57.896061Z",
     "iopub.status.busy": "2024-09-05T11:04:57.895388Z",
     "iopub.status.idle": "2024-09-05T11:04:57.901861Z",
     "shell.execute_reply": "2024-09-05T11:04:57.900895Z"
    },
    "papermill": {
     "duration": 0.049447,
     "end_time": "2024-09-05T11:04:57.904082",
     "exception": false,
     "start_time": "2024-09-05T11:04:57.854635",
     "status": "completed"
    },
    "tags": []
   },
   "outputs": [
    {
     "data": {
      "text/plain": [
       "(14, 12)"
      ]
     },
     "execution_count": 68,
     "metadata": {},
     "output_type": "execute_result"
    }
   ],
   "source": [
    "len(numeric_features), len(categorical_features)"
   ]
  },
  {
   "cell_type": "code",
   "execution_count": 69,
   "id": "8959dcd6",
   "metadata": {
    "execution": {
     "iopub.execute_input": "2024-09-05T11:04:57.986054Z",
     "iopub.status.busy": "2024-09-05T11:04:57.985058Z",
     "iopub.status.idle": "2024-09-05T11:04:57.991534Z",
     "shell.execute_reply": "2024-09-05T11:04:57.990581Z"
    },
    "papermill": {
     "duration": 0.049356,
     "end_time": "2024-09-05T11:04:57.993588",
     "exception": false,
     "start_time": "2024-09-05T11:04:57.944232",
     "status": "completed"
    },
    "tags": []
   },
   "outputs": [
    {
     "data": {
      "text/plain": [
       "['brand',\n",
       " 'model',\n",
       " 'short_model',\n",
       " 'fuel_type',\n",
       " 'engine',\n",
       " 'type_cyl',\n",
       " 'transmission',\n",
       " 'trans_type',\n",
       " 'ext_col',\n",
       " 'int_col',\n",
       " 'simple_ext_col',\n",
       " 'simple_int_col']"
      ]
     },
     "execution_count": 69,
     "metadata": {},
     "output_type": "execute_result"
    }
   ],
   "source": [
    "categorical_features"
   ]
  },
  {
   "cell_type": "markdown",
   "id": "0a7d832e",
   "metadata": {
    "papermill": {
     "duration": 0.039591,
     "end_time": "2024-09-05T11:04:58.073000",
     "exception": false,
     "start_time": "2024-09-05T11:04:58.033409",
     "status": "completed"
    },
    "tags": []
   },
   "source": [
    "### Interactive Features with Target"
   ]
  },
  {
   "cell_type": "code",
   "execution_count": 70,
   "id": "7f85bd07",
   "metadata": {
    "execution": {
     "iopub.execute_input": "2024-09-05T11:04:58.154595Z",
     "iopub.status.busy": "2024-09-05T11:04:58.153897Z",
     "iopub.status.idle": "2024-09-05T11:04:58.240491Z",
     "shell.execute_reply": "2024-09-05T11:04:58.239411Z"
    },
    "papermill": {
     "duration": 0.130181,
     "end_time": "2024-09-05T11:04:58.243033",
     "exception": false,
     "start_time": "2024-09-05T11:04:58.112852",
     "status": "completed"
    },
    "tags": []
   },
   "outputs": [],
   "source": [
    "brand_model_price = raw_df.groupby(['brand','model'])['price'].mean()\n",
    "fuel_engine_trans_price = raw_df.groupby(['fuel_type','type_cyl','trans_type'])['price'].mean()"
   ]
  },
  {
   "cell_type": "code",
   "execution_count": 71,
   "id": "5861511b",
   "metadata": {
    "execution": {
     "iopub.execute_input": "2024-09-05T11:04:58.324954Z",
     "iopub.status.busy": "2024-09-05T11:04:58.324539Z",
     "iopub.status.idle": "2024-09-05T11:05:20.855230Z",
     "shell.execute_reply": "2024-09-05T11:05:20.854132Z"
    },
    "papermill": {
     "duration": 22.574676,
     "end_time": "2024-09-05T11:05:20.857787",
     "exception": false,
     "start_time": "2024-09-05T11:04:58.283111",
     "status": "completed"
    },
    "tags": []
   },
   "outputs": [],
   "source": [
    "for df in [raw_df, test_df, original_df]:\n",
    "    df['brand_model_price'] = df.apply(lambda x: brand_model_price.get((x['brand'],\n",
    "                                                                        x['model'])), \n",
    "                                       axis=1)\n",
    "    df['fuel_engine_transmission_price'] = df.apply(lambda x: fuel_engine_trans_price.get((x['fuel_type'],\n",
    "                                                                                           x['type_cyl'],\n",
    "                                                                                           x['trans_type'])), \n",
    "                                                    axis=1)"
   ]
  },
  {
   "cell_type": "code",
   "execution_count": 72,
   "id": "308c93ac",
   "metadata": {
    "execution": {
     "iopub.execute_input": "2024-09-05T11:05:20.941021Z",
     "iopub.status.busy": "2024-09-05T11:05:20.940109Z",
     "iopub.status.idle": "2024-09-05T11:05:20.951168Z",
     "shell.execute_reply": "2024-09-05T11:05:20.950113Z"
    },
    "papermill": {
     "duration": 0.054757,
     "end_time": "2024-09-05T11:05:20.953425",
     "exception": false,
     "start_time": "2024-09-05T11:05:20.898668",
     "status": "completed"
    },
    "tags": []
   },
   "outputs": [],
   "source": [
    "avg_brand_model_price = raw_df['brand_model_price'].mean()\n",
    "avg_fuel_engine_transmission_price = raw_df['fuel_engine_transmission_price'].mean()\n",
    "test_df.fillna({'brand_model_price': avg_brand_model_price,\n",
    "                'fuel_engine_transmission_price': avg_fuel_engine_transmission_price},\n",
    "                inplace=True)\n",
    "original_df.fillna({'brand_model_price': avg_brand_model_price,\n",
    "                    'fuel_engine_transmission_price': avg_fuel_engine_transmission_price},\n",
    "                    inplace=True)"
   ]
  },
  {
   "cell_type": "code",
   "execution_count": 73,
   "id": "2156a80c",
   "metadata": {
    "execution": {
     "iopub.execute_input": "2024-09-05T11:05:21.035564Z",
     "iopub.status.busy": "2024-09-05T11:05:21.034584Z",
     "iopub.status.idle": "2024-09-05T11:05:21.039293Z",
     "shell.execute_reply": "2024-09-05T11:05:21.038309Z"
    },
    "papermill": {
     "duration": 0.048041,
     "end_time": "2024-09-05T11:05:21.041414",
     "exception": false,
     "start_time": "2024-09-05T11:05:20.993373",
     "status": "completed"
    },
    "tags": []
   },
   "outputs": [],
   "source": [
    "numeric_features += ['brand_model_price',\n",
    "                     'fuel_engine_transmission_price']"
   ]
  },
  {
   "cell_type": "markdown",
   "id": "11e308e4",
   "metadata": {
    "papermill": {
     "duration": 0.039616,
     "end_time": "2024-09-05T11:05:21.121328",
     "exception": false,
     "start_time": "2024-09-05T11:05:21.081712",
     "status": "completed"
    },
    "tags": []
   },
   "source": [
    "## Preprocessing"
   ]
  },
  {
   "cell_type": "code",
   "execution_count": 74,
   "id": "57bed2b4",
   "metadata": {
    "execution": {
     "iopub.execute_input": "2024-09-05T11:05:21.204181Z",
     "iopub.status.busy": "2024-09-05T11:05:21.202861Z",
     "iopub.status.idle": "2024-09-05T11:05:21.210034Z",
     "shell.execute_reply": "2024-09-05T11:05:21.209062Z"
    },
    "papermill": {
     "duration": 0.050698,
     "end_time": "2024-09-05T11:05:21.212335",
     "exception": false,
     "start_time": "2024-09-05T11:05:21.161637",
     "status": "completed"
    },
    "tags": []
   },
   "outputs": [
    {
     "data": {
      "text/plain": [
       "4009"
      ]
     },
     "execution_count": 74,
     "metadata": {},
     "output_type": "execute_result"
    }
   ],
   "source": [
    "len(original_df)"
   ]
  },
  {
   "cell_type": "code",
   "execution_count": 75,
   "id": "adf85120",
   "metadata": {
    "execution": {
     "iopub.execute_input": "2024-09-05T11:05:21.294736Z",
     "iopub.status.busy": "2024-09-05T11:05:21.293800Z",
     "iopub.status.idle": "2024-09-05T11:05:21.308812Z",
     "shell.execute_reply": "2024-09-05T11:05:21.307653Z"
    },
    "papermill": {
     "duration": 0.058662,
     "end_time": "2024-09-05T11:05:21.311014",
     "exception": false,
     "start_time": "2024-09-05T11:05:21.252352",
     "status": "completed"
    },
    "tags": []
   },
   "outputs": [],
   "source": [
    "original_df['id'] = [i for i in range(314223,314223+4009)]\n",
    "def help_change_price(x):\n",
    "    milage_str = str(x).split('$')[1]\n",
    "    milage_lst = milage_str.split(',')\n",
    "    if len(milage_lst) >= 2:\n",
    "        return int(milage_lst[0]) * 1000 + int(milage_lst[1])\n",
    "    return int(milage_lst[0])\n",
    "original_df['price'] = original_df['price'].apply(lambda x: help_change_price(x))"
   ]
  },
  {
   "cell_type": "code",
   "execution_count": 76,
   "id": "1483ff32",
   "metadata": {
    "execution": {
     "iopub.execute_input": "2024-09-05T11:05:21.397911Z",
     "iopub.status.busy": "2024-09-05T11:05:21.397200Z",
     "iopub.status.idle": "2024-09-05T11:05:21.402078Z",
     "shell.execute_reply": "2024-09-05T11:05:21.401142Z"
    },
    "papermill": {
     "duration": 0.05155,
     "end_time": "2024-09-05T11:05:21.404220",
     "exception": false,
     "start_time": "2024-09-05T11:05:21.352670",
     "status": "completed"
    },
    "tags": []
   },
   "outputs": [],
   "source": [
    "concat_cols = ['id'] + categorical_features + numeric_features"
   ]
  },
  {
   "cell_type": "code",
   "execution_count": 77,
   "id": "32a4380c",
   "metadata": {
    "execution": {
     "iopub.execute_input": "2024-09-05T11:05:21.498669Z",
     "iopub.status.busy": "2024-09-05T11:05:21.498083Z",
     "iopub.status.idle": "2024-09-05T11:05:22.021899Z",
     "shell.execute_reply": "2024-09-05T11:05:22.020827Z"
    },
    "papermill": {
     "duration": 0.579933,
     "end_time": "2024-09-05T11:05:22.024285",
     "exception": false,
     "start_time": "2024-09-05T11:05:21.444352",
     "status": "completed"
    },
    "tags": []
   },
   "outputs": [
    {
     "data": {
      "text/html": [
       "<div>\n",
       "<style scoped>\n",
       "    .dataframe tbody tr th:only-of-type {\n",
       "        vertical-align: middle;\n",
       "    }\n",
       "\n",
       "    .dataframe tbody tr th {\n",
       "        vertical-align: top;\n",
       "    }\n",
       "\n",
       "    .dataframe thead th {\n",
       "        text-align: right;\n",
       "    }\n",
       "</style>\n",
       "<table border=\"1\" class=\"dataframe\">\n",
       "  <thead>\n",
       "    <tr style=\"text-align: right;\">\n",
       "      <th></th>\n",
       "      <th>id</th>\n",
       "      <th>brand</th>\n",
       "      <th>model</th>\n",
       "      <th>short_model</th>\n",
       "      <th>fuel_type</th>\n",
       "      <th>engine</th>\n",
       "      <th>type_cyl</th>\n",
       "      <th>transmission</th>\n",
       "      <th>trans_type</th>\n",
       "      <th>ext_col</th>\n",
       "      <th>...</th>\n",
       "      <th>litres</th>\n",
       "      <th>num_cyl</th>\n",
       "      <th>ver</th>\n",
       "      <th>vol</th>\n",
       "      <th>turbo</th>\n",
       "      <th>trans_speed</th>\n",
       "      <th>accident</th>\n",
       "      <th>clean_title</th>\n",
       "      <th>brand_model_price</th>\n",
       "      <th>fuel_engine_transmission_price</th>\n",
       "    </tr>\n",
       "  </thead>\n",
       "  <tbody>\n",
       "    <tr>\n",
       "      <th>0</th>\n",
       "      <td>0</td>\n",
       "      <td>MINI</td>\n",
       "      <td>Cooper S Base</td>\n",
       "      <td>Cooper</td>\n",
       "      <td>Gasoline</td>\n",
       "      <td>172.0HP 1.6L 4 Cylinder Engine Gasoline Fuel</td>\n",
       "      <td>unk</td>\n",
       "      <td>a/t</td>\n",
       "      <td>a</td>\n",
       "      <td>yellow</td>\n",
       "      <td>...</td>\n",
       "      <td>1.6</td>\n",
       "      <td>4</td>\n",
       "      <td>0</td>\n",
       "      <td>22</td>\n",
       "      <td>0</td>\n",
       "      <td>7</td>\n",
       "      <td>0</td>\n",
       "      <td>1</td>\n",
       "      <td>12778.315972</td>\n",
       "      <td>38749.421740</td>\n",
       "    </tr>\n",
       "    <tr>\n",
       "      <th>1</th>\n",
       "      <td>1</td>\n",
       "      <td>Lincoln</td>\n",
       "      <td>noise</td>\n",
       "      <td>LS</td>\n",
       "      <td>Gasoline</td>\n",
       "      <td>noise</td>\n",
       "      <td>unk</td>\n",
       "      <td>a/t</td>\n",
       "      <td>a</td>\n",
       "      <td>silver</td>\n",
       "      <td>...</td>\n",
       "      <td>3.9</td>\n",
       "      <td>8</td>\n",
       "      <td>0</td>\n",
       "      <td>22</td>\n",
       "      <td>0</td>\n",
       "      <td>7</td>\n",
       "      <td>1</td>\n",
       "      <td>1</td>\n",
       "      <td>27746.704156</td>\n",
       "      <td>38749.421740</td>\n",
       "    </tr>\n",
       "    <tr>\n",
       "      <th>2</th>\n",
       "      <td>2</td>\n",
       "      <td>Chevrolet</td>\n",
       "      <td>noise</td>\n",
       "      <td>Silverado</td>\n",
       "      <td>E85 Flex Fuel</td>\n",
       "      <td>320.0HP 5.3L 8 Cylinder Engine Flex Fuel Capab...</td>\n",
       "      <td>unk</td>\n",
       "      <td>a/t</td>\n",
       "      <td>a</td>\n",
       "      <td>blue</td>\n",
       "      <td>...</td>\n",
       "      <td>5.3</td>\n",
       "      <td>8</td>\n",
       "      <td>0</td>\n",
       "      <td>22</td>\n",
       "      <td>0</td>\n",
       "      <td>7</td>\n",
       "      <td>0</td>\n",
       "      <td>1</td>\n",
       "      <td>35853.372897</td>\n",
       "      <td>25099.102016</td>\n",
       "    </tr>\n",
       "    <tr>\n",
       "      <th>3</th>\n",
       "      <td>3</td>\n",
       "      <td>Genesis</td>\n",
       "      <td>noise</td>\n",
       "      <td>G90</td>\n",
       "      <td>Gasoline</td>\n",
       "      <td>420.0HP 5.0L 8 Cylinder Engine Gasoline Fuel</td>\n",
       "      <td>unk</td>\n",
       "      <td>transmission w/dual shift mode</td>\n",
       "      <td>w</td>\n",
       "      <td>black</td>\n",
       "      <td>...</td>\n",
       "      <td>5.0</td>\n",
       "      <td>8</td>\n",
       "      <td>0</td>\n",
       "      <td>22</td>\n",
       "      <td>0</td>\n",
       "      <td>7</td>\n",
       "      <td>0</td>\n",
       "      <td>1</td>\n",
       "      <td>53186.033730</td>\n",
       "      <td>49938.540132</td>\n",
       "    </tr>\n",
       "    <tr>\n",
       "      <th>4</th>\n",
       "      <td>4</td>\n",
       "      <td>Mercedes-Benz</td>\n",
       "      <td>Metris Base</td>\n",
       "      <td>Metris</td>\n",
       "      <td>Gasoline</td>\n",
       "      <td>208.0HP 2.0L 4 Cylinder Engine Gasoline Fuel</td>\n",
       "      <td>unk</td>\n",
       "      <td>7-speed a/t</td>\n",
       "      <td>a</td>\n",
       "      <td>black</td>\n",
       "      <td>...</td>\n",
       "      <td>2.0</td>\n",
       "      <td>4</td>\n",
       "      <td>0</td>\n",
       "      <td>22</td>\n",
       "      <td>0</td>\n",
       "      <td>7</td>\n",
       "      <td>0</td>\n",
       "      <td>1</td>\n",
       "      <td>64855.673077</td>\n",
       "      <td>38749.421740</td>\n",
       "    </tr>\n",
       "  </tbody>\n",
       "</table>\n",
       "<p>5 rows × 29 columns</p>\n",
       "</div>"
      ],
      "text/plain": [
       "   id          brand          model short_model      fuel_type  \\\n",
       "0   0           MINI  Cooper S Base      Cooper       Gasoline   \n",
       "1   1        Lincoln          noise          LS       Gasoline   \n",
       "2   2      Chevrolet          noise   Silverado  E85 Flex Fuel   \n",
       "3   3        Genesis          noise         G90       Gasoline   \n",
       "4   4  Mercedes-Benz    Metris Base      Metris       Gasoline   \n",
       "\n",
       "                                              engine type_cyl  \\\n",
       "0       172.0HP 1.6L 4 Cylinder Engine Gasoline Fuel      unk   \n",
       "1                                              noise      unk   \n",
       "2  320.0HP 5.3L 8 Cylinder Engine Flex Fuel Capab...      unk   \n",
       "3       420.0HP 5.0L 8 Cylinder Engine Gasoline Fuel      unk   \n",
       "4       208.0HP 2.0L 4 Cylinder Engine Gasoline Fuel      unk   \n",
       "\n",
       "                     transmission trans_type ext_col  ... litres num_cyl ver  \\\n",
       "0                             a/t          a  yellow  ...    1.6       4   0   \n",
       "1                             a/t          a  silver  ...    3.9       8   0   \n",
       "2                             a/t          a    blue  ...    5.3       8   0   \n",
       "3  transmission w/dual shift mode          w   black  ...    5.0       8   0   \n",
       "4                     7-speed a/t          a   black  ...    2.0       4   0   \n",
       "\n",
       "   vol  turbo  trans_speed  accident  clean_title  brand_model_price  \\\n",
       "0   22      0            7         0            1       12778.315972   \n",
       "1   22      0            7         1            1       27746.704156   \n",
       "2   22      0            7         0            1       35853.372897   \n",
       "3   22      0            7         0            1       53186.033730   \n",
       "4   22      0            7         0            1       64855.673077   \n",
       "\n",
       "   fuel_engine_transmission_price  \n",
       "0                    38749.421740  \n",
       "1                    38749.421740  \n",
       "2                    25099.102016  \n",
       "3                    49938.540132  \n",
       "4                    38749.421740  \n",
       "\n",
       "[5 rows x 29 columns]"
      ]
     },
     "execution_count": 77,
     "metadata": {},
     "output_type": "execute_result"
    }
   ],
   "source": [
    "concat_df = pd.concat([raw_df[concat_cols], test_df[concat_cols], original_df[concat_cols]]).copy()\n",
    "concat_df.head()"
   ]
  },
  {
   "cell_type": "code",
   "execution_count": 78,
   "id": "b54395c8",
   "metadata": {
    "execution": {
     "iopub.execute_input": "2024-09-05T11:05:22.107367Z",
     "iopub.status.busy": "2024-09-05T11:05:22.106620Z",
     "iopub.status.idle": "2024-09-05T11:05:22.306266Z",
     "shell.execute_reply": "2024-09-05T11:05:22.305145Z"
    },
    "papermill": {
     "duration": 0.24365,
     "end_time": "2024-09-05T11:05:22.308463",
     "exception": false,
     "start_time": "2024-09-05T11:05:22.064813",
     "status": "completed"
    },
    "tags": []
   },
   "outputs": [
    {
     "data": {
      "text/html": [
       "<style>#sk-container-id-1 {color: black;background-color: white;}#sk-container-id-1 pre{padding: 0;}#sk-container-id-1 div.sk-toggleable {background-color: white;}#sk-container-id-1 label.sk-toggleable__label {cursor: pointer;display: block;width: 100%;margin-bottom: 0;padding: 0.3em;box-sizing: border-box;text-align: center;}#sk-container-id-1 label.sk-toggleable__label-arrow:before {content: \"▸\";float: left;margin-right: 0.25em;color: #696969;}#sk-container-id-1 label.sk-toggleable__label-arrow:hover:before {color: black;}#sk-container-id-1 div.sk-estimator:hover label.sk-toggleable__label-arrow:before {color: black;}#sk-container-id-1 div.sk-toggleable__content {max-height: 0;max-width: 0;overflow: hidden;text-align: left;background-color: #f0f8ff;}#sk-container-id-1 div.sk-toggleable__content pre {margin: 0.2em;color: black;border-radius: 0.25em;background-color: #f0f8ff;}#sk-container-id-1 input.sk-toggleable__control:checked~div.sk-toggleable__content {max-height: 200px;max-width: 100%;overflow: auto;}#sk-container-id-1 input.sk-toggleable__control:checked~label.sk-toggleable__label-arrow:before {content: \"▾\";}#sk-container-id-1 div.sk-estimator input.sk-toggleable__control:checked~label.sk-toggleable__label {background-color: #d4ebff;}#sk-container-id-1 div.sk-label input.sk-toggleable__control:checked~label.sk-toggleable__label {background-color: #d4ebff;}#sk-container-id-1 input.sk-hidden--visually {border: 0;clip: rect(1px 1px 1px 1px);clip: rect(1px, 1px, 1px, 1px);height: 1px;margin: -1px;overflow: hidden;padding: 0;position: absolute;width: 1px;}#sk-container-id-1 div.sk-estimator {font-family: monospace;background-color: #f0f8ff;border: 1px dotted black;border-radius: 0.25em;box-sizing: border-box;margin-bottom: 0.5em;}#sk-container-id-1 div.sk-estimator:hover {background-color: #d4ebff;}#sk-container-id-1 div.sk-parallel-item::after {content: \"\";width: 100%;border-bottom: 1px solid gray;flex-grow: 1;}#sk-container-id-1 div.sk-label:hover label.sk-toggleable__label {background-color: #d4ebff;}#sk-container-id-1 div.sk-serial::before {content: \"\";position: absolute;border-left: 1px solid gray;box-sizing: border-box;top: 0;bottom: 0;left: 50%;z-index: 0;}#sk-container-id-1 div.sk-serial {display: flex;flex-direction: column;align-items: center;background-color: white;padding-right: 0.2em;padding-left: 0.2em;position: relative;}#sk-container-id-1 div.sk-item {position: relative;z-index: 1;}#sk-container-id-1 div.sk-parallel {display: flex;align-items: stretch;justify-content: center;background-color: white;position: relative;}#sk-container-id-1 div.sk-item::before, #sk-container-id-1 div.sk-parallel-item::before {content: \"\";position: absolute;border-left: 1px solid gray;box-sizing: border-box;top: 0;bottom: 0;left: 50%;z-index: -1;}#sk-container-id-1 div.sk-parallel-item {display: flex;flex-direction: column;z-index: 1;position: relative;background-color: white;}#sk-container-id-1 div.sk-parallel-item:first-child::after {align-self: flex-end;width: 50%;}#sk-container-id-1 div.sk-parallel-item:last-child::after {align-self: flex-start;width: 50%;}#sk-container-id-1 div.sk-parallel-item:only-child::after {width: 0;}#sk-container-id-1 div.sk-dashed-wrapped {border: 1px dashed gray;margin: 0 0.4em 0.5em 0.4em;box-sizing: border-box;padding-bottom: 0.4em;background-color: white;}#sk-container-id-1 div.sk-label label {font-family: monospace;font-weight: bold;display: inline-block;line-height: 1.2em;}#sk-container-id-1 div.sk-label-container {text-align: center;}#sk-container-id-1 div.sk-container {/* jupyter's `normalize.less` sets `[hidden] { display: none; }` but bootstrap.min.css set `[hidden] { display: none !important; }` so we also need the `!important` here to be able to override the default hidden behavior on the sphinx rendered scikit-learn.org. See: https://github.com/scikit-learn/scikit-learn/issues/21755 */display: inline-block !important;position: relative;}#sk-container-id-1 div.sk-text-repr-fallback {display: none;}</style><div id=\"sk-container-id-1\" class=\"sk-top-container\"><div class=\"sk-text-repr-fallback\"><pre>OrdinalEncoder()</pre><b>In a Jupyter environment, please rerun this cell to show the HTML representation or trust the notebook. <br />On GitHub, the HTML representation is unable to render, please try loading this page with nbviewer.org.</b></div><div class=\"sk-container\" hidden><div class=\"sk-item\"><div class=\"sk-estimator sk-toggleable\"><input class=\"sk-toggleable__control sk-hidden--visually\" id=\"sk-estimator-id-1\" type=\"checkbox\" checked><label for=\"sk-estimator-id-1\" class=\"sk-toggleable__label sk-toggleable__label-arrow\">OrdinalEncoder</label><div class=\"sk-toggleable__content\"><pre>OrdinalEncoder()</pre></div></div></div></div></div>"
      ],
      "text/plain": [
       "OrdinalEncoder()"
      ]
     },
     "execution_count": 78,
     "metadata": {},
     "output_type": "execute_result"
    }
   ],
   "source": [
    "encoder = OrdinalEncoder()\n",
    "encoder.fit(concat_df[categorical_features])"
   ]
  },
  {
   "cell_type": "code",
   "execution_count": 79,
   "id": "a87116f8",
   "metadata": {
    "execution": {
     "iopub.execute_input": "2024-09-05T11:05:22.393015Z",
     "iopub.status.busy": "2024-09-05T11:05:22.392117Z",
     "iopub.status.idle": "2024-09-05T11:05:23.328880Z",
     "shell.execute_reply": "2024-09-05T11:05:23.327763Z"
    },
    "papermill": {
     "duration": 0.981463,
     "end_time": "2024-09-05T11:05:23.331696",
     "exception": false,
     "start_time": "2024-09-05T11:05:22.350233",
     "status": "completed"
    },
    "tags": []
   },
   "outputs": [],
   "source": [
    "for df in [raw_df, test_df, original_df]:\n",
    "    df[categorical_features] = encoder.transform(df[categorical_features])"
   ]
  },
  {
   "cell_type": "code",
   "execution_count": 80,
   "id": "6a0c8127",
   "metadata": {
    "execution": {
     "iopub.execute_input": "2024-09-05T11:05:23.414299Z",
     "iopub.status.busy": "2024-09-05T11:05:23.413881Z",
     "iopub.status.idle": "2024-09-05T11:05:23.420324Z",
     "shell.execute_reply": "2024-09-05T11:05:23.419353Z"
    },
    "papermill": {
     "duration": 0.050074,
     "end_time": "2024-09-05T11:05:23.422397",
     "exception": false,
     "start_time": "2024-09-05T11:05:23.372323",
     "status": "completed"
    },
    "tags": []
   },
   "outputs": [
    {
     "data": {
      "text/plain": [
       "28"
      ]
     },
     "execution_count": 80,
     "metadata": {},
     "output_type": "execute_result"
    }
   ],
   "source": [
    "all_features = numeric_features + categorical_features\n",
    "len(all_features)"
   ]
  },
  {
   "cell_type": "code",
   "execution_count": 81,
   "id": "d7cfb999",
   "metadata": {
    "execution": {
     "iopub.execute_input": "2024-09-05T11:05:23.505485Z",
     "iopub.status.busy": "2024-09-05T11:05:23.505052Z",
     "iopub.status.idle": "2024-09-05T11:05:23.562870Z",
     "shell.execute_reply": "2024-09-05T11:05:23.561801Z"
    },
    "papermill": {
     "duration": 0.102234,
     "end_time": "2024-09-05T11:05:23.565448",
     "exception": false,
     "start_time": "2024-09-05T11:05:23.463214",
     "status": "completed"
    },
    "tags": []
   },
   "outputs": [],
   "source": [
    "concat_df = pd.concat([raw_df, original_df]).copy()\n",
    "concat_df = concat_df.reset_index(drop=True)"
   ]
  },
  {
   "cell_type": "code",
   "execution_count": 82,
   "id": "b687d05a",
   "metadata": {
    "execution": {
     "iopub.execute_input": "2024-09-05T11:05:23.649667Z",
     "iopub.status.busy": "2024-09-05T11:05:23.648941Z",
     "iopub.status.idle": "2024-09-05T11:05:23.676248Z",
     "shell.execute_reply": "2024-09-05T11:05:23.675153Z"
    },
    "papermill": {
     "duration": 0.071539,
     "end_time": "2024-09-05T11:05:23.678505",
     "exception": false,
     "start_time": "2024-09-05T11:05:23.606966",
     "status": "completed"
    },
    "tags": []
   },
   "outputs": [
    {
     "data": {
      "text/html": [
       "<div>\n",
       "<style scoped>\n",
       "    .dataframe tbody tr th:only-of-type {\n",
       "        vertical-align: middle;\n",
       "    }\n",
       "\n",
       "    .dataframe tbody tr th {\n",
       "        vertical-align: top;\n",
       "    }\n",
       "\n",
       "    .dataframe thead th {\n",
       "        text-align: right;\n",
       "    }\n",
       "</style>\n",
       "<table border=\"1\" class=\"dataframe\">\n",
       "  <thead>\n",
       "    <tr style=\"text-align: right;\">\n",
       "      <th></th>\n",
       "      <th>id</th>\n",
       "      <th>brand</th>\n",
       "      <th>model</th>\n",
       "      <th>model_year</th>\n",
       "      <th>milage</th>\n",
       "      <th>fuel_type</th>\n",
       "      <th>engine</th>\n",
       "      <th>transmission</th>\n",
       "      <th>ext_col</th>\n",
       "      <th>int_col</th>\n",
       "      <th>...</th>\n",
       "      <th>ver</th>\n",
       "      <th>vol</th>\n",
       "      <th>type_cyl</th>\n",
       "      <th>turbo</th>\n",
       "      <th>trans_speed</th>\n",
       "      <th>trans_type</th>\n",
       "      <th>simple_ext_col</th>\n",
       "      <th>simple_int_col</th>\n",
       "      <th>brand_model_price</th>\n",
       "      <th>fuel_engine_transmission_price</th>\n",
       "    </tr>\n",
       "  </thead>\n",
       "  <tbody>\n",
       "    <tr>\n",
       "      <th>0</th>\n",
       "      <td>0</td>\n",
       "      <td>31.0</td>\n",
       "      <td>138.0</td>\n",
       "      <td>17</td>\n",
       "      <td>213000</td>\n",
       "      <td>2.0</td>\n",
       "      <td>21.0</td>\n",
       "      <td>97.0</td>\n",
       "      <td>59.0</td>\n",
       "      <td>14.0</td>\n",
       "      <td>...</td>\n",
       "      <td>0</td>\n",
       "      <td>22</td>\n",
       "      <td>4.0</td>\n",
       "      <td>0</td>\n",
       "      <td>7</td>\n",
       "      <td>0.0</td>\n",
       "      <td>12.0</td>\n",
       "      <td>5.0</td>\n",
       "      <td>12778.315972</td>\n",
       "      <td>38749.421740</td>\n",
       "    </tr>\n",
       "    <tr>\n",
       "      <th>1</th>\n",
       "      <td>1</td>\n",
       "      <td>28.0</td>\n",
       "      <td>481.0</td>\n",
       "      <td>22</td>\n",
       "      <td>143250</td>\n",
       "      <td>2.0</td>\n",
       "      <td>434.0</td>\n",
       "      <td>97.0</td>\n",
       "      <td>51.0</td>\n",
       "      <td>0.0</td>\n",
       "      <td>...</td>\n",
       "      <td>0</td>\n",
       "      <td>22</td>\n",
       "      <td>4.0</td>\n",
       "      <td>0</td>\n",
       "      <td>7</td>\n",
       "      <td>0.0</td>\n",
       "      <td>10.0</td>\n",
       "      <td>0.0</td>\n",
       "      <td>27746.704156</td>\n",
       "      <td>38749.421740</td>\n",
       "    </tr>\n",
       "    <tr>\n",
       "      <th>2</th>\n",
       "      <td>2</td>\n",
       "      <td>9.0</td>\n",
       "      <td>481.0</td>\n",
       "      <td>22</td>\n",
       "      <td>136731</td>\n",
       "      <td>1.0</td>\n",
       "      <td>224.0</td>\n",
       "      <td>97.0</td>\n",
       "      <td>10.0</td>\n",
       "      <td>14.0</td>\n",
       "      <td>...</td>\n",
       "      <td>0</td>\n",
       "      <td>22</td>\n",
       "      <td>4.0</td>\n",
       "      <td>0</td>\n",
       "      <td>7</td>\n",
       "      <td>0.0</td>\n",
       "      <td>2.0</td>\n",
       "      <td>5.0</td>\n",
       "      <td>35853.372897</td>\n",
       "      <td>25099.102016</td>\n",
       "    </tr>\n",
       "    <tr>\n",
       "      <th>3</th>\n",
       "      <td>3</td>\n",
       "      <td>16.0</td>\n",
       "      <td>481.0</td>\n",
       "      <td>7</td>\n",
       "      <td>19500</td>\n",
       "      <td>2.0</td>\n",
       "      <td>321.0</td>\n",
       "      <td>108.0</td>\n",
       "      <td>5.0</td>\n",
       "      <td>1.0</td>\n",
       "      <td>...</td>\n",
       "      <td>0</td>\n",
       "      <td>22</td>\n",
       "      <td>4.0</td>\n",
       "      <td>0</td>\n",
       "      <td>7</td>\n",
       "      <td>4.0</td>\n",
       "      <td>1.0</td>\n",
       "      <td>1.0</td>\n",
       "      <td>53186.033730</td>\n",
       "      <td>49938.540132</td>\n",
       "    </tr>\n",
       "    <tr>\n",
       "      <th>4</th>\n",
       "      <td>4</td>\n",
       "      <td>36.0</td>\n",
       "      <td>293.0</td>\n",
       "      <td>3</td>\n",
       "      <td>7388</td>\n",
       "      <td>2.0</td>\n",
       "      <td>67.0</td>\n",
       "      <td>51.0</td>\n",
       "      <td>5.0</td>\n",
       "      <td>0.0</td>\n",
       "      <td>...</td>\n",
       "      <td>0</td>\n",
       "      <td>22</td>\n",
       "      <td>4.0</td>\n",
       "      <td>0</td>\n",
       "      <td>7</td>\n",
       "      <td>0.0</td>\n",
       "      <td>1.0</td>\n",
       "      <td>0.0</td>\n",
       "      <td>64855.673077</td>\n",
       "      <td>38749.421740</td>\n",
       "    </tr>\n",
       "  </tbody>\n",
       "</table>\n",
       "<p>5 rows × 30 columns</p>\n",
       "</div>"
      ],
      "text/plain": [
       "   id  brand  model  model_year  milage  fuel_type  engine  transmission  \\\n",
       "0   0   31.0  138.0          17  213000        2.0    21.0          97.0   \n",
       "1   1   28.0  481.0          22  143250        2.0   434.0          97.0   \n",
       "2   2    9.0  481.0          22  136731        1.0   224.0          97.0   \n",
       "3   3   16.0  481.0           7   19500        2.0   321.0         108.0   \n",
       "4   4   36.0  293.0           3    7388        2.0    67.0          51.0   \n",
       "\n",
       "   ext_col  int_col  ...  ver  vol  type_cyl  turbo  trans_speed  trans_type  \\\n",
       "0     59.0     14.0  ...    0   22       4.0      0            7         0.0   \n",
       "1     51.0      0.0  ...    0   22       4.0      0            7         0.0   \n",
       "2     10.0     14.0  ...    0   22       4.0      0            7         0.0   \n",
       "3      5.0      1.0  ...    0   22       4.0      0            7         4.0   \n",
       "4      5.0      0.0  ...    0   22       4.0      0            7         0.0   \n",
       "\n",
       "   simple_ext_col  simple_int_col  brand_model_price  \\\n",
       "0            12.0             5.0       12778.315972   \n",
       "1            10.0             0.0       27746.704156   \n",
       "2             2.0             5.0       35853.372897   \n",
       "3             1.0             1.0       53186.033730   \n",
       "4             1.0             0.0       64855.673077   \n",
       "\n",
       "   fuel_engine_transmission_price  \n",
       "0                    38749.421740  \n",
       "1                    38749.421740  \n",
       "2                    25099.102016  \n",
       "3                    49938.540132  \n",
       "4                    38749.421740  \n",
       "\n",
       "[5 rows x 30 columns]"
      ]
     },
     "execution_count": 82,
     "metadata": {},
     "output_type": "execute_result"
    }
   ],
   "source": [
    "concat_df.head()"
   ]
  },
  {
   "cell_type": "code",
   "execution_count": 83,
   "id": "484cbd00",
   "metadata": {
    "execution": {
     "iopub.execute_input": "2024-09-05T11:05:23.762769Z",
     "iopub.status.busy": "2024-09-05T11:05:23.762054Z",
     "iopub.status.idle": "2024-09-05T11:05:23.775373Z",
     "shell.execute_reply": "2024-09-05T11:05:23.774510Z"
    },
    "papermill": {
     "duration": 0.057984,
     "end_time": "2024-09-05T11:05:23.777694",
     "exception": false,
     "start_time": "2024-09-05T11:05:23.719710",
     "status": "completed"
    },
    "tags": []
   },
   "outputs": [],
   "source": [
    "inputs, targets = concat_df[all_features], concat_df['price']"
   ]
  },
  {
   "cell_type": "code",
   "execution_count": 84,
   "id": "934adc0b",
   "metadata": {
    "execution": {
     "iopub.execute_input": "2024-09-05T11:05:23.861347Z",
     "iopub.status.busy": "2024-09-05T11:05:23.860612Z",
     "iopub.status.idle": "2024-09-05T11:07:10.541166Z",
     "shell.execute_reply": "2024-09-05T11:07:10.540036Z"
    },
    "papermill": {
     "duration": 106.76705,
     "end_time": "2024-09-05T11:07:10.585635",
     "exception": false,
     "start_time": "2024-09-05T11:05:23.818585",
     "status": "completed"
    },
    "tags": []
   },
   "outputs": [
    {
     "name": "stdout",
     "output_type": "stream",
     "text": [
      "CPU times: user 1min 46s, sys: 474 ms, total: 1min 46s\n",
      "Wall time: 1min 46s\n"
     ]
    },
    {
     "data": {
      "text/html": [
       "<style type=\"text/css\">\n",
       "#T_7e6c9_row0_col0 {\n",
       "  background-color: #ff00ff;\n",
       "  color: #f1f1f1;\n",
       "}\n",
       "#T_7e6c9_row1_col0 {\n",
       "  background-color: #d629ff;\n",
       "  color: #f1f1f1;\n",
       "}\n",
       "#T_7e6c9_row2_col0, #T_7e6c9_row3_col0 {\n",
       "  background-color: #c936ff;\n",
       "  color: #f1f1f1;\n",
       "}\n",
       "#T_7e6c9_row4_col0 {\n",
       "  background-color: #c43bff;\n",
       "  color: #f1f1f1;\n",
       "}\n",
       "#T_7e6c9_row5_col0 {\n",
       "  background-color: #9d62ff;\n",
       "  color: #f1f1f1;\n",
       "}\n",
       "#T_7e6c9_row6_col0 {\n",
       "  background-color: #8b74ff;\n",
       "  color: #f1f1f1;\n",
       "}\n",
       "#T_7e6c9_row7_col0 {\n",
       "  background-color: #6996ff;\n",
       "  color: #f1f1f1;\n",
       "}\n",
       "#T_7e6c9_row8_col0 {\n",
       "  background-color: #629dff;\n",
       "  color: #f1f1f1;\n",
       "}\n",
       "#T_7e6c9_row9_col0 {\n",
       "  background-color: #51aeff;\n",
       "  color: #f1f1f1;\n",
       "}\n",
       "#T_7e6c9_row10_col0 {\n",
       "  background-color: #50afff;\n",
       "  color: #f1f1f1;\n",
       "}\n",
       "#T_7e6c9_row11_col0 {\n",
       "  background-color: #44bbff;\n",
       "  color: #000000;\n",
       "}\n",
       "#T_7e6c9_row12_col0 {\n",
       "  background-color: #41beff;\n",
       "  color: #000000;\n",
       "}\n",
       "#T_7e6c9_row13_col0 {\n",
       "  background-color: #3cc3ff;\n",
       "  color: #000000;\n",
       "}\n",
       "#T_7e6c9_row14_col0, #T_7e6c9_row15_col0, #T_7e6c9_row16_col0 {\n",
       "  background-color: #36c9ff;\n",
       "  color: #000000;\n",
       "}\n",
       "#T_7e6c9_row17_col0 {\n",
       "  background-color: #33ccff;\n",
       "  color: #000000;\n",
       "}\n",
       "#T_7e6c9_row18_col0 {\n",
       "  background-color: #2fd0ff;\n",
       "  color: #000000;\n",
       "}\n",
       "#T_7e6c9_row19_col0, #T_7e6c9_row20_col0 {\n",
       "  background-color: #1de2ff;\n",
       "  color: #000000;\n",
       "}\n",
       "#T_7e6c9_row21_col0 {\n",
       "  background-color: #1be4ff;\n",
       "  color: #000000;\n",
       "}\n",
       "#T_7e6c9_row22_col0 {\n",
       "  background-color: #16e9ff;\n",
       "  color: #000000;\n",
       "}\n",
       "#T_7e6c9_row23_col0 {\n",
       "  background-color: #11eeff;\n",
       "  color: #000000;\n",
       "}\n",
       "#T_7e6c9_row24_col0 {\n",
       "  background-color: #10efff;\n",
       "  color: #000000;\n",
       "}\n",
       "#T_7e6c9_row25_col0, #T_7e6c9_row26_col0 {\n",
       "  background-color: #06f9ff;\n",
       "  color: #000000;\n",
       "}\n",
       "#T_7e6c9_row27_col0 {\n",
       "  background-color: #00ffff;\n",
       "  color: #000000;\n",
       "}\n",
       "</style>\n",
       "<table id=\"T_7e6c9\">\n",
       "  <thead>\n",
       "    <tr>\n",
       "      <th class=\"blank level0\" >&nbsp;</th>\n",
       "      <th id=\"T_7e6c9_level0_col0\" class=\"col_heading level0 col0\" >Numerical_Feature_MI</th>\n",
       "    </tr>\n",
       "  </thead>\n",
       "  <tbody>\n",
       "    <tr>\n",
       "      <th id=\"T_7e6c9_level0_row0\" class=\"row_heading level0 row0\" >milage</th>\n",
       "      <td id=\"T_7e6c9_row0_col0\" class=\"data row0 col0\" >0.700622</td>\n",
       "    </tr>\n",
       "    <tr>\n",
       "      <th id=\"T_7e6c9_level0_row1\" class=\"row_heading level0 row1\" >engine</th>\n",
       "      <td id=\"T_7e6c9_row1_col0\" class=\"data row1 col0\" >0.589732</td>\n",
       "    </tr>\n",
       "    <tr>\n",
       "      <th id=\"T_7e6c9_level0_row2\" class=\"row_heading level0 row2\" >model_year</th>\n",
       "      <td id=\"T_7e6c9_row2_col0\" class=\"data row2 col0\" >0.556075</td>\n",
       "    </tr>\n",
       "    <tr>\n",
       "      <th id=\"T_7e6c9_level0_row3\" class=\"row_heading level0 row3\" >assessing_epreciation_percent</th>\n",
       "      <td id=\"T_7e6c9_row3_col0\" class=\"data row3 col0\" >0.554952</td>\n",
       "    </tr>\n",
       "    <tr>\n",
       "      <th id=\"T_7e6c9_level0_row4\" class=\"row_heading level0 row4\" >horsepower</th>\n",
       "      <td id=\"T_7e6c9_row4_col0\" class=\"data row4 col0\" >0.541239</td>\n",
       "    </tr>\n",
       "    <tr>\n",
       "      <th id=\"T_7e6c9_level0_row5\" class=\"row_heading level0 row5\" >transmission</th>\n",
       "      <td id=\"T_7e6c9_row5_col0\" class=\"data row5 col0\" >0.436167</td>\n",
       "    </tr>\n",
       "    <tr>\n",
       "      <th id=\"T_7e6c9_level0_row6\" class=\"row_heading level0 row6\" >brand_model_price</th>\n",
       "      <td id=\"T_7e6c9_row6_col0\" class=\"data row6 col0\" >0.389633</td>\n",
       "    </tr>\n",
       "    <tr>\n",
       "      <th id=\"T_7e6c9_level0_row7\" class=\"row_heading level0 row7\" >short_model</th>\n",
       "      <td id=\"T_7e6c9_row7_col0\" class=\"data row7 col0\" >0.299897</td>\n",
       "    </tr>\n",
       "    <tr>\n",
       "      <th id=\"T_7e6c9_level0_row8\" class=\"row_heading level0 row8\" >model</th>\n",
       "      <td id=\"T_7e6c9_row8_col0\" class=\"data row8 col0\" >0.280765</td>\n",
       "    </tr>\n",
       "    <tr>\n",
       "      <th id=\"T_7e6c9_level0_row9\" class=\"row_heading level0 row9\" >fuel_engine_transmission_price</th>\n",
       "      <td id=\"T_7e6c9_row9_col0\" class=\"data row9 col0\" >0.234032</td>\n",
       "    </tr>\n",
       "    <tr>\n",
       "      <th id=\"T_7e6c9_level0_row10\" class=\"row_heading level0 row10\" >milage_per_year</th>\n",
       "      <td id=\"T_7e6c9_row10_col0\" class=\"data row10 col0\" >0.231478</td>\n",
       "    </tr>\n",
       "    <tr>\n",
       "      <th id=\"T_7e6c9_level0_row11\" class=\"row_heading level0 row11\" >type_cyl</th>\n",
       "      <td id=\"T_7e6c9_row11_col0\" class=\"data row11 col0\" >0.199303</td>\n",
       "    </tr>\n",
       "    <tr>\n",
       "      <th id=\"T_7e6c9_level0_row12\" class=\"row_heading level0 row12\" >vol</th>\n",
       "      <td id=\"T_7e6c9_row12_col0\" class=\"data row12 col0\" >0.192073</td>\n",
       "    </tr>\n",
       "    <tr>\n",
       "      <th id=\"T_7e6c9_level0_row13\" class=\"row_heading level0 row13\" >litres</th>\n",
       "      <td id=\"T_7e6c9_row13_col0\" class=\"data row13 col0\" >0.179624</td>\n",
       "    </tr>\n",
       "    <tr>\n",
       "      <th id=\"T_7e6c9_level0_row14\" class=\"row_heading level0 row14\" >ext_col</th>\n",
       "      <td id=\"T_7e6c9_row14_col0\" class=\"data row14 col0\" >0.163478</td>\n",
       "    </tr>\n",
       "    <tr>\n",
       "      <th id=\"T_7e6c9_level0_row15\" class=\"row_heading level0 row15\" >trans_speed</th>\n",
       "      <td id=\"T_7e6c9_row15_col0\" class=\"data row15 col0\" >0.163344</td>\n",
       "    </tr>\n",
       "    <tr>\n",
       "      <th id=\"T_7e6c9_level0_row16\" class=\"row_heading level0 row16\" >clean_title</th>\n",
       "      <td id=\"T_7e6c9_row16_col0\" class=\"data row16 col0\" >0.161157</td>\n",
       "    </tr>\n",
       "    <tr>\n",
       "      <th id=\"T_7e6c9_level0_row17\" class=\"row_heading level0 row17\" >brand</th>\n",
       "      <td id=\"T_7e6c9_row17_col0\" class=\"data row17 col0\" >0.153995</td>\n",
       "    </tr>\n",
       "    <tr>\n",
       "      <th id=\"T_7e6c9_level0_row18\" class=\"row_heading level0 row18\" >int_col</th>\n",
       "      <td id=\"T_7e6c9_row18_col0\" class=\"data row18 col0\" >0.143055</td>\n",
       "    </tr>\n",
       "    <tr>\n",
       "      <th id=\"T_7e6c9_level0_row19\" class=\"row_heading level0 row19\" >num_cyl</th>\n",
       "      <td id=\"T_7e6c9_row19_col0\" class=\"data row19 col0\" >0.096109</td>\n",
       "    </tr>\n",
       "    <tr>\n",
       "      <th id=\"T_7e6c9_level0_row20\" class=\"row_heading level0 row20\" >turbo</th>\n",
       "      <td id=\"T_7e6c9_row20_col0\" class=\"data row20 col0\" >0.095109</td>\n",
       "    </tr>\n",
       "    <tr>\n",
       "      <th id=\"T_7e6c9_level0_row21\" class=\"row_heading level0 row21\" >simple_int_col</th>\n",
       "      <td id=\"T_7e6c9_row21_col0\" class=\"data row21 col0\" >0.091221</td>\n",
       "    </tr>\n",
       "    <tr>\n",
       "      <th id=\"T_7e6c9_level0_row22\" class=\"row_heading level0 row22\" >ver</th>\n",
       "      <td id=\"T_7e6c9_row22_col0\" class=\"data row22 col0\" >0.077544</td>\n",
       "    </tr>\n",
       "    <tr>\n",
       "      <th id=\"T_7e6c9_level0_row23\" class=\"row_heading level0 row23\" >accident</th>\n",
       "      <td id=\"T_7e6c9_row23_col0\" class=\"data row23 col0\" >0.063658</td>\n",
       "    </tr>\n",
       "    <tr>\n",
       "      <th id=\"T_7e6c9_level0_row24\" class=\"row_heading level0 row24\" >simple_ext_col</th>\n",
       "      <td id=\"T_7e6c9_row24_col0\" class=\"data row24 col0\" >0.061931</td>\n",
       "    </tr>\n",
       "    <tr>\n",
       "      <th id=\"T_7e6c9_level0_row25\" class=\"row_heading level0 row25\" >trans_type</th>\n",
       "      <td id=\"T_7e6c9_row25_col0\" class=\"data row25 col0\" >0.035056</td>\n",
       "    </tr>\n",
       "    <tr>\n",
       "      <th id=\"T_7e6c9_level0_row26\" class=\"row_heading level0 row26\" >fuel_type</th>\n",
       "      <td id=\"T_7e6c9_row26_col0\" class=\"data row26 col0\" >0.034218</td>\n",
       "    </tr>\n",
       "    <tr>\n",
       "      <th id=\"T_7e6c9_level0_row27\" class=\"row_heading level0 row27\" >good_milage</th>\n",
       "      <td id=\"T_7e6c9_row27_col0\" class=\"data row27 col0\" >0.016768</td>\n",
       "    </tr>\n",
       "  </tbody>\n",
       "</table>\n"
      ],
      "text/plain": [
       "<pandas.io.formats.style.Styler at 0x7fbf7b9a1d80>"
      ]
     },
     "execution_count": 84,
     "metadata": {},
     "output_type": "execute_result"
    }
   ],
   "source": [
    "%%time\n",
    "mutual_info = mutual_info_classif(inputs, targets, random_state=42)\n",
    "mutual_info = pd.Series(mutual_info)\n",
    "mutual_info.index = inputs.columns\n",
    "mutual_info = pd.DataFrame(mutual_info.sort_values(ascending=False), columns = [\"Numerical_Feature_MI\"] )\n",
    "mutual_info.style.background_gradient(\"cool\")"
   ]
  },
  {
   "cell_type": "code",
   "execution_count": 85,
   "id": "fe598dee",
   "metadata": {
    "execution": {
     "iopub.execute_input": "2024-09-05T11:07:10.670627Z",
     "iopub.status.busy": "2024-09-05T11:07:10.669678Z",
     "iopub.status.idle": "2024-09-05T11:07:10.676547Z",
     "shell.execute_reply": "2024-09-05T11:07:10.675584Z"
    },
    "papermill": {
     "duration": 0.05185,
     "end_time": "2024-09-05T11:07:10.678702",
     "exception": false,
     "start_time": "2024-09-05T11:07:10.626852",
     "status": "completed"
    },
    "tags": []
   },
   "outputs": [
    {
     "data": {
      "text/plain": [
       "['brand',\n",
       " 'model',\n",
       " 'model_year',\n",
       " 'milage',\n",
       " 'fuel_type',\n",
       " 'engine',\n",
       " 'transmission',\n",
       " 'ext_col',\n",
       " 'int_col',\n",
       " 'accident',\n",
       " 'clean_title']"
      ]
     },
     "execution_count": 85,
     "metadata": {},
     "output_type": "execute_result"
    }
   ],
   "source": [
    "original_features.remove('id')\n",
    "original_features.remove('price')\n",
    "original_features"
   ]
  },
  {
   "cell_type": "markdown",
   "id": "24a5d560",
   "metadata": {
    "papermill": {
     "duration": 0.041225,
     "end_time": "2024-09-05T11:07:10.761488",
     "exception": false,
     "start_time": "2024-09-05T11:07:10.720263",
     "status": "completed"
    },
    "tags": []
   },
   "source": [
    "I have chosen a list of features that I fill important"
   ]
  },
  {
   "cell_type": "code",
   "execution_count": 86,
   "id": "e888f502",
   "metadata": {
    "execution": {
     "iopub.execute_input": "2024-09-05T11:07:10.846820Z",
     "iopub.status.busy": "2024-09-05T11:07:10.846073Z",
     "iopub.status.idle": "2024-09-05T11:07:10.853381Z",
     "shell.execute_reply": "2024-09-05T11:07:10.852386Z"
    },
    "papermill": {
     "duration": 0.051985,
     "end_time": "2024-09-05T11:07:10.855413",
     "exception": false,
     "start_time": "2024-09-05T11:07:10.803428",
     "status": "completed"
    },
    "tags": []
   },
   "outputs": [
    {
     "data": {
      "text/plain": [
       "20"
      ]
     },
     "execution_count": 86,
     "metadata": {},
     "output_type": "execute_result"
    }
   ],
   "source": [
    "extraction_features = ['brand','model','model_year','assessing_epreciation_percent',\n",
    "                       'milage','good_milage','fuel_type','horsepower','litres',\n",
    "                       'ver','vol','num_cyl','type_cyl','turbo','trans_speed',\n",
    "                       'trans_type','simple_ext_col','simple_int_col','accident','clean_title']\n",
    "len(extraction_features)"
   ]
  },
  {
   "cell_type": "code",
   "execution_count": 87,
   "id": "aa437bf3",
   "metadata": {
    "execution": {
     "iopub.execute_input": "2024-09-05T11:07:10.941015Z",
     "iopub.status.busy": "2024-09-05T11:07:10.940149Z",
     "iopub.status.idle": "2024-09-05T11:07:10.946771Z",
     "shell.execute_reply": "2024-09-05T11:07:10.945760Z"
    },
    "papermill": {
     "duration": 0.051606,
     "end_time": "2024-09-05T11:07:10.948767",
     "exception": false,
     "start_time": "2024-09-05T11:07:10.897161",
     "status": "completed"
    },
    "tags": []
   },
   "outputs": [
    {
     "data": {
      "text/plain": [
       "28"
      ]
     },
     "execution_count": 87,
     "metadata": {},
     "output_type": "execute_result"
    }
   ],
   "source": [
    "len(all_features)"
   ]
  },
  {
   "cell_type": "markdown",
   "id": "5bf158d1",
   "metadata": {
    "papermill": {
     "duration": 0.042316,
     "end_time": "2024-09-05T11:07:11.032856",
     "exception": false,
     "start_time": "2024-09-05T11:07:10.990540",
     "status": "completed"
    },
    "tags": []
   },
   "source": [
    "## Training model and tunning hyperparameters"
   ]
  },
  {
   "cell_type": "code",
   "execution_count": 88,
   "id": "370c590b",
   "metadata": {
    "execution": {
     "iopub.execute_input": "2024-09-05T11:07:11.119831Z",
     "iopub.status.busy": "2024-09-05T11:07:11.119008Z",
     "iopub.status.idle": "2024-09-05T11:07:11.139486Z",
     "shell.execute_reply": "2024-09-05T11:07:11.138400Z"
    },
    "papermill": {
     "duration": 0.065939,
     "end_time": "2024-09-05T11:07:11.141886",
     "exception": false,
     "start_time": "2024-09-05T11:07:11.075947",
     "status": "completed"
    },
    "tags": []
   },
   "outputs": [],
   "source": [
    "inte_cols = ['brand','model','fuel_type','engine','transmission',\n",
    "             'ext_col','int_col','short_model','type_cyl']\n",
    "for col in inte_cols:\n",
    "    raw_df[col] = raw_df[col].astype('int32')\n",
    "    test_df[col] = test_df[col].astype('int32')\n",
    "    original_df[col] = original_df[col].astype('int32')"
   ]
  },
  {
   "cell_type": "code",
   "execution_count": 89,
   "id": "290f2a0a",
   "metadata": {
    "execution": {
     "iopub.execute_input": "2024-09-05T11:07:11.227801Z",
     "iopub.status.busy": "2024-09-05T11:07:11.227387Z",
     "iopub.status.idle": "2024-09-05T11:07:11.237876Z",
     "shell.execute_reply": "2024-09-05T11:07:11.236830Z"
    },
    "papermill": {
     "duration": 0.05597,
     "end_time": "2024-09-05T11:07:11.240039",
     "exception": false,
     "start_time": "2024-09-05T11:07:11.184069",
     "status": "completed"
    },
    "tags": []
   },
   "outputs": [],
   "source": [
    "def cross_validation(reg, cv, inputs, targets, test_inputs=None, need_print=False):\n",
    "    train_losses = []\n",
    "    val_losses = []\n",
    "    if test_inputs is not None:\n",
    "        test_preds = np.zeros(len(test_inputs))\n",
    "    else:\n",
    "        test_preds = np.zeros(len(inputs))\n",
    "    for fold, (train_idx, val_idx) in enumerate(cv.split(inputs, targets)):\n",
    "        X_train = inputs.iloc[train_idx].reset_index(drop=True)\n",
    "        y_train = targets.iloc[train_idx].reset_index(drop=True)\n",
    "        X_val = inputs.iloc[val_idx].reset_index(drop=True)\n",
    "        y_val = targets.iloc[val_idx].reset_index(drop=True)\n",
    "\n",
    "        reg.fit(X_train, y_train)\n",
    "\n",
    "        train_pred = reg.predict(X_train)\n",
    "        train_loss = np.sqrt(mean_squared_error(y_train, train_pred))\n",
    "        train_losses.append(train_loss)\n",
    "        val_pred = reg.predict(X_val)\n",
    "        val_loss = np.sqrt(mean_squared_error(y_val, val_pred))\n",
    "        val_losses.append(val_loss)\n",
    "\n",
    "        if need_print:\n",
    "            print(f'Fold {fold}: train_loss = {train_loss:.5f}, val_loss = {val_loss:.5f}')\n",
    "\n",
    "        if test_inputs is not None:\n",
    "            test_pred = reg.predict(test_inputs)\n",
    "            test_preds += test_pred/cv.get_n_splits()\n",
    "\n",
    "    m_train_loss = np.mean(train_losses)\n",
    "    s_train_loss = np.std(train_losses)\n",
    "    m_val_loss = np.mean(val_losses)\n",
    "    s_val_loss = np.std(val_losses)\n",
    "    \n",
    "    msg = f'{m_val_loss:.7f} ± {s_val_loss:.7f}'\n",
    "    \n",
    "    if need_print:\n",
    "        print(f'Train loss: {m_train_loss:.7f} ± {s_train_loss:.7f} | Val loss: {m_val_loss:.7f} ± {s_val_loss:.7f}')\n",
    "    return test_preds, msg"
   ]
  },
  {
   "cell_type": "code",
   "execution_count": 90,
   "id": "e48d13cb",
   "metadata": {
    "execution": {
     "iopub.execute_input": "2024-09-05T11:07:11.325614Z",
     "iopub.status.busy": "2024-09-05T11:07:11.325203Z",
     "iopub.status.idle": "2024-09-05T11:07:11.332398Z",
     "shell.execute_reply": "2024-09-05T11:07:11.331411Z"
    },
    "papermill": {
     "duration": 0.052577,
     "end_time": "2024-09-05T11:07:11.334660",
     "exception": false,
     "start_time": "2024-09-05T11:07:11.282083",
     "status": "completed"
    },
    "tags": []
   },
   "outputs": [],
   "source": [
    "def test_with_models(models: dict, features: dict, \n",
    "                     df: pd.DataFrame, target: str, cv):\n",
    "    result = dict()\n",
    "    result['Regressor'] = []\n",
    "    for feature, _ in features.items():\n",
    "        result[f'RMSE with {feature} features'] = []\n",
    "    targets = df[target]\n",
    "    for name, model in models.items():\n",
    "        result['Regressor'].append(name)\n",
    "        for f_name, feature in features.items():\n",
    "            inputs = df[feature]\n",
    "            _, msg = cross_validation(model, cv, \n",
    "                                      inputs, targets, \n",
    "                                      test_inputs=None, \n",
    "                                      need_print=False)\n",
    "            result[f'RMSE with {f_name} features'].append(msg)\n",
    "    \n",
    "    return pd.DataFrame(result)"
   ]
  },
  {
   "cell_type": "code",
   "execution_count": 91,
   "id": "174319d0",
   "metadata": {
    "execution": {
     "iopub.execute_input": "2024-09-05T11:07:11.424427Z",
     "iopub.status.busy": "2024-09-05T11:07:11.423452Z",
     "iopub.status.idle": "2024-09-05T11:07:11.433021Z",
     "shell.execute_reply": "2024-09-05T11:07:11.432018Z"
    },
    "papermill": {
     "duration": 0.055116,
     "end_time": "2024-09-05T11:07:11.435293",
     "exception": false,
     "start_time": "2024-09-05T11:07:11.380177",
     "status": "completed"
    },
    "tags": []
   },
   "outputs": [],
   "source": [
    "regressors = {\n",
    "    'LinearRegression': LinearRegression(),\n",
    "    'Ridge': Ridge(),\n",
    "    'DecisionTreeRegressor': DecisionTreeRegressor(),\n",
    "    'RandomForestRegressor': RandomForestRegressor(n_jobs=-1),\n",
    "    'XGBRegressor': XGBRegressor(n_jobs=-1),\n",
    "    'LGBMRegressor': LGBMRegressor(n_jobs=-1, verbose=0),\n",
    "    'CatBoostRegressor': CatBoostRegressor(logging_level='Silent')\n",
    "}\n",
    "features = {\n",
    "    'all': all_features,\n",
    "    'original': original_features,\n",
    "    'extraction': extraction_features\n",
    "}\n",
    "cv = StratifiedKFold(n_splits=5, shuffle=True, random_state=42)"
   ]
  },
  {
   "cell_type": "code",
   "execution_count": 92,
   "id": "3585354e",
   "metadata": {
    "execution": {
     "iopub.execute_input": "2024-09-05T11:07:11.538901Z",
     "iopub.status.busy": "2024-09-05T11:07:11.538492Z",
     "iopub.status.idle": "2024-09-05T11:26:40.146047Z",
     "shell.execute_reply": "2024-09-05T11:26:40.145020Z"
    },
    "papermill": {
     "duration": 1168.702781,
     "end_time": "2024-09-05T11:26:40.190403",
     "exception": false,
     "start_time": "2024-09-05T11:07:11.487622",
     "status": "completed"
    },
    "tags": []
   },
   "outputs": [
    {
     "name": "stdout",
     "output_type": "stream",
     "text": [
      "CPU times: user 1h 9min 22s, sys: 51.5 s, total: 1h 10min 13s\n",
      "Wall time: 19min 28s\n"
     ]
    },
    {
     "data": {
      "text/html": [
       "<div>\n",
       "<style scoped>\n",
       "    .dataframe tbody tr th:only-of-type {\n",
       "        vertical-align: middle;\n",
       "    }\n",
       "\n",
       "    .dataframe tbody tr th {\n",
       "        vertical-align: top;\n",
       "    }\n",
       "\n",
       "    .dataframe thead th {\n",
       "        text-align: right;\n",
       "    }\n",
       "</style>\n",
       "<table border=\"1\" class=\"dataframe\">\n",
       "  <thead>\n",
       "    <tr style=\"text-align: right;\">\n",
       "      <th></th>\n",
       "      <th>Regressor</th>\n",
       "      <th>RMSE with all features</th>\n",
       "      <th>RMSE with original features</th>\n",
       "      <th>RMSE with extraction features</th>\n",
       "    </tr>\n",
       "  </thead>\n",
       "  <tbody>\n",
       "    <tr>\n",
       "      <th>0</th>\n",
       "      <td>LinearRegression</td>\n",
       "      <td>73329.9733852 ± 161.3133420</td>\n",
       "      <td>74957.1080142 ± 174.2834714</td>\n",
       "      <td>74123.9473804 ± 161.4219274</td>\n",
       "    </tr>\n",
       "    <tr>\n",
       "      <th>1</th>\n",
       "      <td>Ridge</td>\n",
       "      <td>73329.9729625 ± 161.3127762</td>\n",
       "      <td>74957.1079278 ± 174.2835769</td>\n",
       "      <td>74123.9470128 ± 161.4211963</td>\n",
       "    </tr>\n",
       "    <tr>\n",
       "      <th>2</th>\n",
       "      <td>DecisionTreeRegressor</td>\n",
       "      <td>112721.0122490 ± 3952.7216846</td>\n",
       "      <td>113703.5357879 ± 4380.7909664</td>\n",
       "      <td>109746.8779357 ± 4981.7594519</td>\n",
       "    </tr>\n",
       "    <tr>\n",
       "      <th>3</th>\n",
       "      <td>RandomForestRegressor</td>\n",
       "      <td>78136.9788859 ± 797.6101102</td>\n",
       "      <td>78108.8267005 ± 682.5623506</td>\n",
       "      <td>78439.0384466 ± 802.8524846</td>\n",
       "    </tr>\n",
       "    <tr>\n",
       "      <th>4</th>\n",
       "      <td>XGBRegressor</td>\n",
       "      <td>75743.7233536 ± 775.4875584</td>\n",
       "      <td>75082.1639632 ± 572.3848027</td>\n",
       "      <td>75366.0016374 ± 297.2434398</td>\n",
       "    </tr>\n",
       "    <tr>\n",
       "      <th>5</th>\n",
       "      <td>LGBMRegressor</td>\n",
       "      <td>73072.8444947 ± 212.4621118</td>\n",
       "      <td>73041.3727876 ± 191.1881200</td>\n",
       "      <td>72971.4040919 ± 232.0406854</td>\n",
       "    </tr>\n",
       "    <tr>\n",
       "      <th>6</th>\n",
       "      <td>CatBoostRegressor</td>\n",
       "      <td>74006.6433603 ± 499.6860227</td>\n",
       "      <td>73741.8550156 ± 259.2911015</td>\n",
       "      <td>74132.8158608 ± 708.9767923</td>\n",
       "    </tr>\n",
       "  </tbody>\n",
       "</table>\n",
       "</div>"
      ],
      "text/plain": [
       "               Regressor         RMSE with all features  \\\n",
       "0       LinearRegression    73329.9733852 ± 161.3133420   \n",
       "1                  Ridge    73329.9729625 ± 161.3127762   \n",
       "2  DecisionTreeRegressor  112721.0122490 ± 3952.7216846   \n",
       "3  RandomForestRegressor    78136.9788859 ± 797.6101102   \n",
       "4           XGBRegressor    75743.7233536 ± 775.4875584   \n",
       "5          LGBMRegressor    73072.8444947 ± 212.4621118   \n",
       "6      CatBoostRegressor    74006.6433603 ± 499.6860227   \n",
       "\n",
       "     RMSE with original features  RMSE with extraction features  \n",
       "0    74957.1080142 ± 174.2834714    74123.9473804 ± 161.4219274  \n",
       "1    74957.1079278 ± 174.2835769    74123.9470128 ± 161.4211963  \n",
       "2  113703.5357879 ± 4380.7909664  109746.8779357 ± 4981.7594519  \n",
       "3    78108.8267005 ± 682.5623506    78439.0384466 ± 802.8524846  \n",
       "4    75082.1639632 ± 572.3848027    75366.0016374 ± 297.2434398  \n",
       "5    73041.3727876 ± 191.1881200    72971.4040919 ± 232.0406854  \n",
       "6    73741.8550156 ± 259.2911015    74132.8158608 ± 708.9767923  "
      ]
     },
     "execution_count": 92,
     "metadata": {},
     "output_type": "execute_result"
    }
   ],
   "source": [
    "%%time\n",
    "test_with_models(regressors, features, raw_df, 'price', cv)"
   ]
  },
  {
   "cell_type": "markdown",
   "id": "e9c1e616",
   "metadata": {
    "papermill": {
     "duration": 0.042021,
     "end_time": "2024-09-05T11:26:40.274455",
     "exception": false,
     "start_time": "2024-09-05T11:26:40.232434",
     "status": "completed"
    },
    "tags": []
   },
   "source": [
    "So we choose 3 model to view with `concat_df`, are\n",
    "1. Linear Regression\n",
    "2. LGBM Regressor\n",
    "3. CatBoostRegressor"
   ]
  },
  {
   "cell_type": "code",
   "execution_count": 93,
   "id": "0682e048",
   "metadata": {
    "execution": {
     "iopub.execute_input": "2024-09-05T11:26:40.361354Z",
     "iopub.status.busy": "2024-09-05T11:26:40.360553Z",
     "iopub.status.idle": "2024-09-05T11:26:40.371281Z",
     "shell.execute_reply": "2024-09-05T11:26:40.370255Z"
    },
    "papermill": {
     "duration": 0.0564,
     "end_time": "2024-09-05T11:26:40.373337",
     "exception": false,
     "start_time": "2024-09-05T11:26:40.316937",
     "status": "completed"
    },
    "tags": []
   },
   "outputs": [],
   "source": [
    "regressors = {\n",
    "    'LinearRegression': LinearRegression(),\n",
    "    'LGBMRegressor': LGBMRegressor(n_jobs=-1, verbose=0),\n",
    "    'CatBoostRegressor': CatBoostRegressor(logging_level='Silent')\n",
    "}\n",
    "features = {\n",
    "    'all': all_features,\n",
    "    'original': original_features,\n",
    "    'extraction': extraction_features\n",
    "}"
   ]
  },
  {
   "cell_type": "code",
   "execution_count": 94,
   "id": "aa5940db",
   "metadata": {
    "_kg_hide-input": true,
    "_kg_hide-output": true,
    "execution": {
     "iopub.execute_input": "2024-09-05T11:26:40.460493Z",
     "iopub.status.busy": "2024-09-05T11:26:40.459543Z",
     "iopub.status.idle": "2024-09-05T11:32:12.844960Z",
     "shell.execute_reply": "2024-09-05T11:32:12.843815Z"
    },
    "papermill": {
     "duration": 332.475,
     "end_time": "2024-09-05T11:32:12.890780",
     "exception": false,
     "start_time": "2024-09-05T11:26:40.415780",
     "status": "completed"
    },
    "scrolled": true,
    "tags": []
   },
   "outputs": [
    {
     "name": "stderr",
     "output_type": "stream",
     "text": [
      "/opt/conda/lib/python3.10/site-packages/sklearn/model_selection/_split.py:700: UserWarning: The least populated class in y has only 1 members, which is less than n_splits=5.\n",
      "  warnings.warn(\n",
      "/opt/conda/lib/python3.10/site-packages/sklearn/model_selection/_split.py:700: UserWarning: The least populated class in y has only 1 members, which is less than n_splits=5.\n",
      "  warnings.warn(\n",
      "/opt/conda/lib/python3.10/site-packages/sklearn/model_selection/_split.py:700: UserWarning: The least populated class in y has only 1 members, which is less than n_splits=5.\n",
      "  warnings.warn(\n",
      "/opt/conda/lib/python3.10/site-packages/sklearn/model_selection/_split.py:700: UserWarning: The least populated class in y has only 1 members, which is less than n_splits=5.\n",
      "  warnings.warn(\n",
      "/opt/conda/lib/python3.10/site-packages/sklearn/model_selection/_split.py:700: UserWarning: The least populated class in y has only 1 members, which is less than n_splits=5.\n",
      "  warnings.warn(\n",
      "/opt/conda/lib/python3.10/site-packages/sklearn/model_selection/_split.py:700: UserWarning: The least populated class in y has only 1 members, which is less than n_splits=5.\n",
      "  warnings.warn(\n",
      "/opt/conda/lib/python3.10/site-packages/sklearn/model_selection/_split.py:700: UserWarning: The least populated class in y has only 1 members, which is less than n_splits=5.\n",
      "  warnings.warn(\n",
      "/opt/conda/lib/python3.10/site-packages/sklearn/model_selection/_split.py:700: UserWarning: The least populated class in y has only 1 members, which is less than n_splits=5.\n",
      "  warnings.warn(\n",
      "/opt/conda/lib/python3.10/site-packages/sklearn/model_selection/_split.py:700: UserWarning: The least populated class in y has only 1 members, which is less than n_splits=5.\n",
      "  warnings.warn(\n"
     ]
    },
    {
     "name": "stdout",
     "output_type": "stream",
     "text": [
      "CPU times: user 17min 20s, sys: 38.2 s, total: 17min 58s\n",
      "Wall time: 5min 32s\n"
     ]
    }
   ],
   "source": [
    "%%time\n",
    "result_df = test_with_models(regressors, features, concat_df, 'price', cv)"
   ]
  },
  {
   "cell_type": "code",
   "execution_count": 95,
   "id": "f749cc53",
   "metadata": {
    "execution": {
     "iopub.execute_input": "2024-09-05T11:32:12.978358Z",
     "iopub.status.busy": "2024-09-05T11:32:12.977597Z",
     "iopub.status.idle": "2024-09-05T11:32:12.988614Z",
     "shell.execute_reply": "2024-09-05T11:32:12.987582Z"
    },
    "papermill": {
     "duration": 0.057248,
     "end_time": "2024-09-05T11:32:12.990637",
     "exception": false,
     "start_time": "2024-09-05T11:32:12.933389",
     "status": "completed"
    },
    "tags": []
   },
   "outputs": [
    {
     "data": {
      "text/html": [
       "<div>\n",
       "<style scoped>\n",
       "    .dataframe tbody tr th:only-of-type {\n",
       "        vertical-align: middle;\n",
       "    }\n",
       "\n",
       "    .dataframe tbody tr th {\n",
       "        vertical-align: top;\n",
       "    }\n",
       "\n",
       "    .dataframe thead th {\n",
       "        text-align: right;\n",
       "    }\n",
       "</style>\n",
       "<table border=\"1\" class=\"dataframe\">\n",
       "  <thead>\n",
       "    <tr style=\"text-align: right;\">\n",
       "      <th></th>\n",
       "      <th>Regressor</th>\n",
       "      <th>RMSE with all features</th>\n",
       "      <th>RMSE with original features</th>\n",
       "      <th>RMSE with extraction features</th>\n",
       "    </tr>\n",
       "  </thead>\n",
       "  <tbody>\n",
       "    <tr>\n",
       "      <th>0</th>\n",
       "      <td>LinearRegression</td>\n",
       "      <td>72743.6896922 ± 356.2313086</td>\n",
       "      <td>74439.2270847 ± 328.8157069</td>\n",
       "      <td>73565.0945628 ± 345.5178397</td>\n",
       "    </tr>\n",
       "    <tr>\n",
       "      <th>1</th>\n",
       "      <td>LGBMRegressor</td>\n",
       "      <td>72381.3961587 ± 323.9726146</td>\n",
       "      <td>72493.7491743 ± 407.0598564</td>\n",
       "      <td>72313.5986067 ± 410.7104274</td>\n",
       "    </tr>\n",
       "    <tr>\n",
       "      <th>2</th>\n",
       "      <td>CatBoostRegressor</td>\n",
       "      <td>73133.6616395 ± 464.2767884</td>\n",
       "      <td>73063.8179139 ± 98.9338232</td>\n",
       "      <td>73131.7423994 ± 610.1192293</td>\n",
       "    </tr>\n",
       "  </tbody>\n",
       "</table>\n",
       "</div>"
      ],
      "text/plain": [
       "           Regressor       RMSE with all features  \\\n",
       "0   LinearRegression  72743.6896922 ± 356.2313086   \n",
       "1      LGBMRegressor  72381.3961587 ± 323.9726146   \n",
       "2  CatBoostRegressor  73133.6616395 ± 464.2767884   \n",
       "\n",
       "   RMSE with original features RMSE with extraction features  \n",
       "0  74439.2270847 ± 328.8157069   73565.0945628 ± 345.5178397  \n",
       "1  72493.7491743 ± 407.0598564   72313.5986067 ± 410.7104274  \n",
       "2   73063.8179139 ± 98.9338232   73131.7423994 ± 610.1192293  "
      ]
     },
     "execution_count": 95,
     "metadata": {},
     "output_type": "execute_result"
    }
   ],
   "source": [
    "result_df"
   ]
  },
  {
   "cell_type": "markdown",
   "id": "a253c703",
   "metadata": {
    "papermill": {
     "duration": 0.042901,
     "end_time": "2024-09-05T11:32:13.078324",
     "exception": false,
     "start_time": "2024-09-05T11:32:13.035423",
     "status": "completed"
    },
    "tags": []
   },
   "source": [
    "So concat_df make high performance and we will optim with LinearRegression and LGBMRegressor."
   ]
  },
  {
   "cell_type": "code",
   "execution_count": 96,
   "id": "69cb839a",
   "metadata": {
    "execution": {
     "iopub.execute_input": "2024-09-05T11:32:13.166619Z",
     "iopub.status.busy": "2024-09-05T11:32:13.165836Z",
     "iopub.status.idle": "2024-09-05T11:32:13.170741Z",
     "shell.execute_reply": "2024-09-05T11:32:13.169760Z"
    },
    "papermill": {
     "duration": 0.051666,
     "end_time": "2024-09-05T11:32:13.172981",
     "exception": false,
     "start_time": "2024-09-05T11:32:13.121315",
     "status": "completed"
    },
    "tags": []
   },
   "outputs": [],
   "source": [
    "# Save the LB score\n",
    "score_dict = dict()\n",
    "score_dict['Name'] = []\n",
    "score_dict['Val_score'] = []"
   ]
  },
  {
   "cell_type": "markdown",
   "id": "d389e93d",
   "metadata": {
    "papermill": {
     "duration": 0.043396,
     "end_time": "2024-09-05T11:32:13.260269",
     "exception": false,
     "start_time": "2024-09-05T11:32:13.216873",
     "status": "completed"
    },
    "tags": []
   },
   "source": [
    "### Linear Regression"
   ]
  },
  {
   "cell_type": "code",
   "execution_count": 97,
   "id": "267015ac",
   "metadata": {
    "execution": {
     "iopub.execute_input": "2024-09-05T11:32:13.349738Z",
     "iopub.status.busy": "2024-09-05T11:32:13.348905Z",
     "iopub.status.idle": "2024-09-05T11:32:14.974413Z",
     "shell.execute_reply": "2024-09-05T11:32:14.971834Z"
    },
    "papermill": {
     "duration": 1.673459,
     "end_time": "2024-09-05T11:32:14.977128",
     "exception": false,
     "start_time": "2024-09-05T11:32:13.303669",
     "status": "completed"
    },
    "tags": []
   },
   "outputs": [
    {
     "name": "stderr",
     "output_type": "stream",
     "text": [
      "/opt/conda/lib/python3.10/site-packages/sklearn/model_selection/_split.py:700: UserWarning: The least populated class in y has only 1 members, which is less than n_splits=5.\n",
      "  warnings.warn(\n"
     ]
    },
    {
     "name": "stdout",
     "output_type": "stream",
     "text": [
      "Fold 0: train_loss = 72622.92350, val_loss = 73157.15081\n",
      "Fold 1: train_loss = 72691.48262, val_loss = 72881.39760\n",
      "Fold 2: train_loss = 72844.65085, val_loss = 72274.22257\n",
      "Fold 3: train_loss = 72819.53933, val_loss = 72370.53377\n",
      "Fold 4: train_loss = 72652.33319, val_loss = 73035.14371\n",
      "Train loss: 72726.1858977 ± 89.5214707 | Val loss: 72743.6896922 ± 356.2313086\n",
      "CPU times: user 3.71 s, sys: 747 ms, total: 4.46 s\n",
      "Wall time: 1.62 s\n"
     ]
    }
   ],
   "source": [
    "%%time\n",
    "reg = LinearRegression()\n",
    "inputs, targets = concat_df[all_features], concat_df['price']\n",
    "test_inputs = test_df[all_features]\n",
    "test_preds, _ = cross_validation(reg, cv, inputs, targets, test_inputs, need_print=True)"
   ]
  },
  {
   "cell_type": "code",
   "execution_count": 98,
   "id": "5c264a19",
   "metadata": {
    "execution": {
     "iopub.execute_input": "2024-09-05T11:32:15.117155Z",
     "iopub.status.busy": "2024-09-05T11:32:15.116089Z",
     "iopub.status.idle": "2024-09-05T11:32:15.402816Z",
     "shell.execute_reply": "2024-09-05T11:32:15.401675Z"
    },
    "papermill": {
     "duration": 0.342134,
     "end_time": "2024-09-05T11:32:15.405287",
     "exception": false,
     "start_time": "2024-09-05T11:32:15.063153",
     "status": "completed"
    },
    "tags": []
   },
   "outputs": [
    {
     "data": {
      "text/html": [
       "<div>\n",
       "<style scoped>\n",
       "    .dataframe tbody tr th:only-of-type {\n",
       "        vertical-align: middle;\n",
       "    }\n",
       "\n",
       "    .dataframe tbody tr th {\n",
       "        vertical-align: top;\n",
       "    }\n",
       "\n",
       "    .dataframe thead th {\n",
       "        text-align: right;\n",
       "    }\n",
       "</style>\n",
       "<table border=\"1\" class=\"dataframe\">\n",
       "  <thead>\n",
       "    <tr style=\"text-align: right;\">\n",
       "      <th></th>\n",
       "      <th>id</th>\n",
       "      <th>price</th>\n",
       "    </tr>\n",
       "  </thead>\n",
       "  <tbody>\n",
       "    <tr>\n",
       "      <th>0</th>\n",
       "      <td>188533</td>\n",
       "      <td>32937.107603</td>\n",
       "    </tr>\n",
       "    <tr>\n",
       "      <th>1</th>\n",
       "      <td>188534</td>\n",
       "      <td>72689.740029</td>\n",
       "    </tr>\n",
       "    <tr>\n",
       "      <th>2</th>\n",
       "      <td>188535</td>\n",
       "      <td>81778.315887</td>\n",
       "    </tr>\n",
       "    <tr>\n",
       "      <th>3</th>\n",
       "      <td>188536</td>\n",
       "      <td>37781.026519</td>\n",
       "    </tr>\n",
       "    <tr>\n",
       "      <th>4</th>\n",
       "      <td>188537</td>\n",
       "      <td>31689.939755</td>\n",
       "    </tr>\n",
       "  </tbody>\n",
       "</table>\n",
       "</div>"
      ],
      "text/plain": [
       "       id         price\n",
       "0  188533  32937.107603\n",
       "1  188534  72689.740029\n",
       "2  188535  81778.315887\n",
       "3  188536  37781.026519\n",
       "4  188537  31689.939755"
      ]
     },
     "execution_count": 98,
     "metadata": {},
     "output_type": "execute_result"
    }
   ],
   "source": [
    "score_dict['Name'].append('LinearRegression_AllFeatures')\n",
    "score_dict['Val_score'].append('72743.6896922 ± 356.2313086')\n",
    "sub_df['price'] = test_preds\n",
    "sub_df.to_csv('/kaggle/working/sub_linear_all.csv', index=None)\n",
    "sub_df.head()"
   ]
  },
  {
   "cell_type": "code",
   "execution_count": 99,
   "id": "c992183f",
   "metadata": {
    "execution": {
     "iopub.execute_input": "2024-09-05T11:32:15.495070Z",
     "iopub.status.busy": "2024-09-05T11:32:15.494193Z",
     "iopub.status.idle": "2024-09-05T11:32:16.807983Z",
     "shell.execute_reply": "2024-09-05T11:32:16.806740Z"
    },
    "papermill": {
     "duration": 1.361751,
     "end_time": "2024-09-05T11:32:16.811033",
     "exception": false,
     "start_time": "2024-09-05T11:32:15.449282",
     "status": "completed"
    },
    "tags": []
   },
   "outputs": [
    {
     "name": "stderr",
     "output_type": "stream",
     "text": [
      "/opt/conda/lib/python3.10/site-packages/sklearn/model_selection/_split.py:700: UserWarning: The least populated class in y has only 1 members, which is less than n_splits=5.\n",
      "  warnings.warn(\n"
     ]
    },
    {
     "name": "stdout",
     "output_type": "stream",
     "text": [
      "Fold 0: train_loss = 73456.03255, val_loss = 73961.52885\n",
      "Fold 1: train_loss = 73534.23753, val_loss = 73649.29236\n",
      "Fold 2: train_loss = 73671.23405, val_loss = 73101.16412\n",
      "Fold 3: train_loss = 73639.96936, val_loss = 73227.12840\n",
      "Fold 4: train_loss = 73474.13223, val_loss = 73886.35909\n",
      "Train loss: 73555.1211458 ± 86.5971173 | Val loss: 73565.0945628 ± 345.5178397\n",
      "CPU times: user 3 s, sys: 711 ms, total: 3.71 s\n",
      "Wall time: 1.31 s\n"
     ]
    }
   ],
   "source": [
    "%%time\n",
    "reg = LinearRegression()\n",
    "inputs, targets = concat_df[extraction_features], concat_df['price']\n",
    "test_inputs = test_df[extraction_features]\n",
    "test_preds, _ = cross_validation(reg, cv, inputs, targets, test_inputs, need_print=True)"
   ]
  },
  {
   "cell_type": "code",
   "execution_count": 100,
   "id": "27a8a07a",
   "metadata": {
    "execution": {
     "iopub.execute_input": "2024-09-05T11:32:16.964228Z",
     "iopub.status.busy": "2024-09-05T11:32:16.963081Z",
     "iopub.status.idle": "2024-09-05T11:32:17.245990Z",
     "shell.execute_reply": "2024-09-05T11:32:17.244964Z"
    },
    "papermill": {
     "duration": 0.331519,
     "end_time": "2024-09-05T11:32:17.248252",
     "exception": false,
     "start_time": "2024-09-05T11:32:16.916733",
     "status": "completed"
    },
    "tags": []
   },
   "outputs": [
    {
     "data": {
      "text/html": [
       "<div>\n",
       "<style scoped>\n",
       "    .dataframe tbody tr th:only-of-type {\n",
       "        vertical-align: middle;\n",
       "    }\n",
       "\n",
       "    .dataframe tbody tr th {\n",
       "        vertical-align: top;\n",
       "    }\n",
       "\n",
       "    .dataframe thead th {\n",
       "        text-align: right;\n",
       "    }\n",
       "</style>\n",
       "<table border=\"1\" class=\"dataframe\">\n",
       "  <thead>\n",
       "    <tr style=\"text-align: right;\">\n",
       "      <th></th>\n",
       "      <th>id</th>\n",
       "      <th>price</th>\n",
       "    </tr>\n",
       "  </thead>\n",
       "  <tbody>\n",
       "    <tr>\n",
       "      <th>0</th>\n",
       "      <td>188533</td>\n",
       "      <td>17345.828388</td>\n",
       "    </tr>\n",
       "    <tr>\n",
       "      <th>1</th>\n",
       "      <td>188534</td>\n",
       "      <td>68900.140321</td>\n",
       "    </tr>\n",
       "    <tr>\n",
       "      <th>2</th>\n",
       "      <td>188535</td>\n",
       "      <td>83849.420874</td>\n",
       "    </tr>\n",
       "    <tr>\n",
       "      <th>3</th>\n",
       "      <td>188536</td>\n",
       "      <td>35235.954666</td>\n",
       "    </tr>\n",
       "    <tr>\n",
       "      <th>4</th>\n",
       "      <td>188537</td>\n",
       "      <td>36217.401259</td>\n",
       "    </tr>\n",
       "  </tbody>\n",
       "</table>\n",
       "</div>"
      ],
      "text/plain": [
       "       id         price\n",
       "0  188533  17345.828388\n",
       "1  188534  68900.140321\n",
       "2  188535  83849.420874\n",
       "3  188536  35235.954666\n",
       "4  188537  36217.401259"
      ]
     },
     "execution_count": 100,
     "metadata": {},
     "output_type": "execute_result"
    }
   ],
   "source": [
    "score_dict['Name'].append('LinearRegression_ExtractionFeatures')\n",
    "score_dict['Val_score'].append('73565.0945628 ± 345.5178397')\n",
    "sub_df['price'] = test_preds\n",
    "sub_df.to_csv('/kaggle/working/sub_linear_extraction.csv', index=None)\n",
    "sub_df.head()"
   ]
  },
  {
   "cell_type": "code",
   "execution_count": 101,
   "id": "a5194151",
   "metadata": {
    "execution": {
     "iopub.execute_input": "2024-09-05T11:32:17.338314Z",
     "iopub.status.busy": "2024-09-05T11:32:17.337638Z",
     "iopub.status.idle": "2024-09-05T11:32:18.758813Z",
     "shell.execute_reply": "2024-09-05T11:32:18.757821Z"
    },
    "papermill": {
     "duration": 1.469628,
     "end_time": "2024-09-05T11:32:18.761932",
     "exception": false,
     "start_time": "2024-09-05T11:32:17.292304",
     "status": "completed"
    },
    "tags": []
   },
   "outputs": [
    {
     "name": "stderr",
     "output_type": "stream",
     "text": [
      "/opt/conda/lib/python3.10/site-packages/sklearn/model_selection/_split.py:700: UserWarning: The least populated class in y has only 1 members, which is less than n_splits=5.\n",
      "  warnings.warn(\n"
     ]
    },
    {
     "name": "stdout",
     "output_type": "stream",
     "text": [
      "Fold 0: train_loss = 72719.63571, val_loss = 73242.78637\n",
      "Fold 1: train_loss = 72782.58558, val_loss = 72988.81681\n",
      "Fold 2: train_loss = 72935.09466, val_loss = 72384.37911\n",
      "Fold 3: train_loss = 72920.23010, val_loss = 72438.88424\n",
      "Fold 4: train_loss = 72749.08424, val_loss = 73120.04340\n",
      "Train loss: 72821.3260600 ± 89.2030695 | Val loss: 72834.9819857 ± 355.2931057\n",
      "CPU times: user 3.17 s, sys: 811 ms, total: 3.98 s\n",
      "Wall time: 1.41 s\n"
     ]
    }
   ],
   "source": [
    "%%time\n",
    "reg = LinearRegression()\n",
    "add_target_features = extraction_features + ['brand_model_price','fuel_engine_transmission_price']\n",
    "inputs, targets = concat_df[add_target_features], concat_df['price']\n",
    "test_inputs = test_df[add_target_features]\n",
    "test_preds, _ = cross_validation(reg, cv, inputs, targets, test_inputs, need_print=True)"
   ]
  },
  {
   "cell_type": "code",
   "execution_count": 102,
   "id": "1a1eb145",
   "metadata": {
    "execution": {
     "iopub.execute_input": "2024-09-05T11:32:18.913238Z",
     "iopub.status.busy": "2024-09-05T11:32:18.912793Z",
     "iopub.status.idle": "2024-09-05T11:32:19.199020Z",
     "shell.execute_reply": "2024-09-05T11:32:19.197972Z"
    },
    "papermill": {
     "duration": 0.34017,
     "end_time": "2024-09-05T11:32:19.201205",
     "exception": false,
     "start_time": "2024-09-05T11:32:18.861035",
     "status": "completed"
    },
    "tags": []
   },
   "outputs": [
    {
     "data": {
      "text/html": [
       "<div>\n",
       "<style scoped>\n",
       "    .dataframe tbody tr th:only-of-type {\n",
       "        vertical-align: middle;\n",
       "    }\n",
       "\n",
       "    .dataframe tbody tr th {\n",
       "        vertical-align: top;\n",
       "    }\n",
       "\n",
       "    .dataframe thead th {\n",
       "        text-align: right;\n",
       "    }\n",
       "</style>\n",
       "<table border=\"1\" class=\"dataframe\">\n",
       "  <thead>\n",
       "    <tr style=\"text-align: right;\">\n",
       "      <th></th>\n",
       "      <th>id</th>\n",
       "      <th>price</th>\n",
       "    </tr>\n",
       "  </thead>\n",
       "  <tbody>\n",
       "    <tr>\n",
       "      <th>0</th>\n",
       "      <td>188533</td>\n",
       "      <td>34443.470427</td>\n",
       "    </tr>\n",
       "    <tr>\n",
       "      <th>1</th>\n",
       "      <td>188534</td>\n",
       "      <td>69650.147403</td>\n",
       "    </tr>\n",
       "    <tr>\n",
       "      <th>2</th>\n",
       "      <td>188535</td>\n",
       "      <td>86023.804591</td>\n",
       "    </tr>\n",
       "    <tr>\n",
       "      <th>3</th>\n",
       "      <td>188536</td>\n",
       "      <td>40971.439414</td>\n",
       "    </tr>\n",
       "    <tr>\n",
       "      <th>4</th>\n",
       "      <td>188537</td>\n",
       "      <td>32839.915753</td>\n",
       "    </tr>\n",
       "  </tbody>\n",
       "</table>\n",
       "</div>"
      ],
      "text/plain": [
       "       id         price\n",
       "0  188533  34443.470427\n",
       "1  188534  69650.147403\n",
       "2  188535  86023.804591\n",
       "3  188536  40971.439414\n",
       "4  188537  32839.915753"
      ]
     },
     "execution_count": 102,
     "metadata": {},
     "output_type": "execute_result"
    }
   ],
   "source": [
    "score_dict['Name'].append('LinearRegression_AddTargetFeatures')\n",
    "score_dict['Val_score'].append('72834.9819857 ± 355.2931057')\n",
    "sub_df['price'] = test_preds\n",
    "sub_df.to_csv('/kaggle/working/sub_linear_extraction_add_target.csv', index=None)\n",
    "sub_df.head()"
   ]
  },
  {
   "cell_type": "markdown",
   "id": "59af2504",
   "metadata": {
    "papermill": {
     "duration": 0.044302,
     "end_time": "2024-09-05T11:32:19.290250",
     "exception": false,
     "start_time": "2024-09-05T11:32:19.245948",
     "status": "completed"
    },
    "tags": []
   },
   "source": [
    "### LGBM Regressor"
   ]
  },
  {
   "cell_type": "code",
   "execution_count": 103,
   "id": "0643e903",
   "metadata": {
    "execution": {
     "iopub.execute_input": "2024-09-05T11:32:19.381371Z",
     "iopub.status.busy": "2024-09-05T11:32:19.380963Z",
     "iopub.status.idle": "2024-09-05T11:32:19.393870Z",
     "shell.execute_reply": "2024-09-05T11:32:19.392658Z"
    },
    "papermill": {
     "duration": 0.061147,
     "end_time": "2024-09-05T11:32:19.396030",
     "exception": false,
     "start_time": "2024-09-05T11:32:19.334883",
     "status": "completed"
    },
    "tags": []
   },
   "outputs": [],
   "source": [
    "param_dis = {\n",
    "    'num_leaves': np.arange(35,300,7),\n",
    "    'n_jobs': [-1],\n",
    "    'reg_lambda': loguniform(1e-5,4),\n",
    "    'reg_alpha': loguniform(1e-5,4),\n",
    "    'n_estimators': np.arange(90,341,40),\n",
    "    'learning_rate': loguniform(0.001,0.2),\n",
    "    'max_depth': np.arange(25,55,3),\n",
    "    'min_split_gain': loguniform(1e-8,0.1),\n",
    "    'min_child_weight': loguniform(1e-4,0.1),\n",
    "    'min_child_samples': np.arange(14,30,4),\n",
    "    'subsample': loguniform(0.25,1),\n",
    "    'colsample_bytree': loguniform(0.25,1),\n",
    "    'random_state': [42],\n",
    "    'verbose': [0]\n",
    "}"
   ]
  },
  {
   "cell_type": "code",
   "execution_count": 104,
   "id": "259dccf4",
   "metadata": {
    "execution": {
     "iopub.execute_input": "2024-09-05T11:32:19.487012Z",
     "iopub.status.busy": "2024-09-05T11:32:19.486616Z",
     "iopub.status.idle": "2024-09-05T11:32:19.493761Z",
     "shell.execute_reply": "2024-09-05T11:32:19.492715Z"
    },
    "papermill": {
     "duration": 0.055259,
     "end_time": "2024-09-05T11:32:19.495948",
     "exception": false,
     "start_time": "2024-09-05T11:32:19.440689",
     "status": "completed"
    },
    "scrolled": true,
    "tags": []
   },
   "outputs": [
    {
     "data": {
      "text/plain": [
       "\"%%time\\n# Search for extraction features\\nsearch = RandomizedSearchCV(LGBMRegressor(),\\n                            param_dis,\\n                            n_iter=120,\\n                            scoring='neg_root_mean_squared_error', cv=4,\\n                            refit=True, verbose=3)\\ninputs, targets = concat_df[extraction_features], concat_df['price']\\ntest_inputs = test_df[extraction_features]\\nsearch.fit(inputs, targets)\\n\""
      ]
     },
     "execution_count": 104,
     "metadata": {},
     "output_type": "execute_result"
    }
   ],
   "source": [
    "'''%%time\n",
    "# Search for extraction features\n",
    "search = RandomizedSearchCV(LGBMRegressor(),\n",
    "                            param_dis,\n",
    "                            n_iter=120,\n",
    "                            scoring='neg_root_mean_squared_error', cv=4,\n",
    "                            refit=True, verbose=3)\n",
    "inputs, targets = concat_df[extraction_features], concat_df['price']\n",
    "test_inputs = test_df[extraction_features]\n",
    "search.fit(inputs, targets)\n",
    "'''"
   ]
  },
  {
   "cell_type": "code",
   "execution_count": 105,
   "id": "59e148ed",
   "metadata": {
    "execution": {
     "iopub.execute_input": "2024-09-05T11:32:19.588180Z",
     "iopub.status.busy": "2024-09-05T11:32:19.587762Z",
     "iopub.status.idle": "2024-09-05T11:32:19.593962Z",
     "shell.execute_reply": "2024-09-05T11:32:19.592852Z"
    },
    "papermill": {
     "duration": 0.054564,
     "end_time": "2024-09-05T11:32:19.596073",
     "exception": false,
     "start_time": "2024-09-05T11:32:19.541509",
     "status": "completed"
    },
    "tags": []
   },
   "outputs": [],
   "source": [
    "extraction_f_best_params = {\n",
    " 'colsample_bytree': 0.275285620500767,\n",
    " 'learning_rate': 0.01820360192457708,\n",
    " 'max_depth': 46,\n",
    " 'min_child_samples': 14,\n",
    " 'min_child_weight': 0.06972746009532313,\n",
    " 'min_split_gain': 0.0005670747320269855,\n",
    " 'n_estimators': 210,\n",
    " 'n_jobs': -1,\n",
    " 'num_leaves': 252,\n",
    " 'random_state': 42,\n",
    " 'reg_alpha': 1.9464128909292344e-05,\n",
    " 'reg_lambda': 3.1770454877179892,\n",
    " 'subsample': 0.6172369358699256,\n",
    " 'verbose': 0}\n",
    "reg = LGBMRegressor(**extraction_f_best_params)"
   ]
  },
  {
   "cell_type": "code",
   "execution_count": 106,
   "id": "9fd9eb7b",
   "metadata": {
    "execution": {
     "iopub.execute_input": "2024-09-05T11:32:19.688203Z",
     "iopub.status.busy": "2024-09-05T11:32:19.687197Z",
     "iopub.status.idle": "2024-09-05T11:33:41.868084Z",
     "shell.execute_reply": "2024-09-05T11:33:41.866913Z"
    },
    "papermill": {
     "duration": 82.229513,
     "end_time": "2024-09-05T11:33:41.870488",
     "exception": false,
     "start_time": "2024-09-05T11:32:19.640975",
     "status": "completed"
    },
    "tags": []
   },
   "outputs": [
    {
     "name": "stderr",
     "output_type": "stream",
     "text": [
      "/opt/conda/lib/python3.10/site-packages/sklearn/model_selection/_split.py:700: UserWarning: The least populated class in y has only 1 members, which is less than n_splits=5.\n",
      "  warnings.warn(\n"
     ]
    },
    {
     "name": "stdout",
     "output_type": "stream",
     "text": [
      "[LightGBM] [Warning] No further splits with positive gain, best gain: -inf\n",
      "[LightGBM] [Warning] No further splits with positive gain, best gain: -inf\n",
      "Fold 0: train_loss = 67270.73088, val_loss = 72647.66539\n",
      "[LightGBM] [Warning] No further splits with positive gain, best gain: -inf\n",
      "[LightGBM] [Warning] No further splits with positive gain, best gain: -inf\n",
      "Fold 1: train_loss = 67076.82485, val_loss = 72449.84046\n",
      "[LightGBM] [Warning] No further splits with positive gain, best gain: -inf\n",
      "[LightGBM] [Warning] No further splits with positive gain, best gain: -inf\n",
      "Fold 2: train_loss = 67400.47361, val_loss = 71699.23950\n",
      "[LightGBM] [Warning] No further splits with positive gain, best gain: -inf\n",
      "[LightGBM] [Warning] No further splits with positive gain, best gain: -inf\n",
      "Fold 3: train_loss = 67586.35663, val_loss = 71572.83501\n",
      "[LightGBM] [Warning] No further splits with positive gain, best gain: -inf\n",
      "[LightGBM] [Warning] No further splits with positive gain, best gain: -inf\n",
      "Fold 4: train_loss = 67093.21134, val_loss = 72424.27805\n",
      "Train loss: 67285.5194619 ± 192.0791569 | Val loss: 72158.7716847 ± 435.5969091\n",
      "CPU times: user 1min 22s, sys: 22.8 ms, total: 1min 22s\n",
      "Wall time: 1min 22s\n"
     ]
    }
   ],
   "source": [
    "%%time\n",
    "reg = LGBMRegressor(**extraction_f_best_params)\n",
    "inputs, targets = concat_df[extraction_features], concat_df['price']\n",
    "test_inputs = test_df[extraction_features]\n",
    "test_preds, _ = cross_validation(reg, cv, inputs, targets, test_inputs, need_print=True)"
   ]
  },
  {
   "cell_type": "code",
   "execution_count": 107,
   "id": "6f813b5d",
   "metadata": {
    "execution": {
     "iopub.execute_input": "2024-09-05T11:33:41.964032Z",
     "iopub.status.busy": "2024-09-05T11:33:41.963338Z",
     "iopub.status.idle": "2024-09-05T11:33:42.243945Z",
     "shell.execute_reply": "2024-09-05T11:33:42.242911Z"
    },
    "papermill": {
     "duration": 0.329984,
     "end_time": "2024-09-05T11:33:42.246182",
     "exception": false,
     "start_time": "2024-09-05T11:33:41.916198",
     "status": "completed"
    },
    "tags": []
   },
   "outputs": [
    {
     "data": {
      "text/html": [
       "<div>\n",
       "<style scoped>\n",
       "    .dataframe tbody tr th:only-of-type {\n",
       "        vertical-align: middle;\n",
       "    }\n",
       "\n",
       "    .dataframe tbody tr th {\n",
       "        vertical-align: top;\n",
       "    }\n",
       "\n",
       "    .dataframe thead th {\n",
       "        text-align: right;\n",
       "    }\n",
       "</style>\n",
       "<table border=\"1\" class=\"dataframe\">\n",
       "  <thead>\n",
       "    <tr style=\"text-align: right;\">\n",
       "      <th></th>\n",
       "      <th>id</th>\n",
       "      <th>price</th>\n",
       "    </tr>\n",
       "  </thead>\n",
       "  <tbody>\n",
       "    <tr>\n",
       "      <th>0</th>\n",
       "      <td>188533</td>\n",
       "      <td>19771.358717</td>\n",
       "    </tr>\n",
       "    <tr>\n",
       "      <th>1</th>\n",
       "      <td>188534</td>\n",
       "      <td>78824.976075</td>\n",
       "    </tr>\n",
       "    <tr>\n",
       "      <th>2</th>\n",
       "      <td>188535</td>\n",
       "      <td>54174.409237</td>\n",
       "    </tr>\n",
       "    <tr>\n",
       "      <th>3</th>\n",
       "      <td>188536</td>\n",
       "      <td>28810.193534</td>\n",
       "    </tr>\n",
       "    <tr>\n",
       "      <th>4</th>\n",
       "      <td>188537</td>\n",
       "      <td>30722.407573</td>\n",
       "    </tr>\n",
       "  </tbody>\n",
       "</table>\n",
       "</div>"
      ],
      "text/plain": [
       "       id         price\n",
       "0  188533  19771.358717\n",
       "1  188534  78824.976075\n",
       "2  188535  54174.409237\n",
       "3  188536  28810.193534\n",
       "4  188537  30722.407573"
      ]
     },
     "execution_count": 107,
     "metadata": {},
     "output_type": "execute_result"
    }
   ],
   "source": [
    "score_dict['Name'].append('LGBMRegressor_ExtractionFeatures')\n",
    "score_dict['Val_score'].append('72158.7716847 ± 435.5969091')\n",
    "sub_df['price'] = test_preds\n",
    "sub_df.to_csv('/kaggle/working/sub_lgbm_extraction.csv', index=None)\n",
    "sub_df.head()"
   ]
  },
  {
   "cell_type": "code",
   "execution_count": 108,
   "id": "5a5173a6",
   "metadata": {
    "execution": {
     "iopub.execute_input": "2024-09-05T11:33:42.342302Z",
     "iopub.status.busy": "2024-09-05T11:33:42.341554Z",
     "iopub.status.idle": "2024-09-05T11:35:04.459792Z",
     "shell.execute_reply": "2024-09-05T11:35:04.458014Z"
    },
    "papermill": {
     "duration": 82.17032,
     "end_time": "2024-09-05T11:35:04.462951",
     "exception": false,
     "start_time": "2024-09-05T11:33:42.292631",
     "status": "completed"
    },
    "tags": []
   },
   "outputs": [
    {
     "name": "stderr",
     "output_type": "stream",
     "text": [
      "/opt/conda/lib/python3.10/site-packages/sklearn/model_selection/_split.py:700: UserWarning: The least populated class in y has only 1 members, which is less than n_splits=5.\n",
      "  warnings.warn(\n"
     ]
    },
    {
     "name": "stdout",
     "output_type": "stream",
     "text": [
      "[LightGBM] [Warning] No further splits with positive gain, best gain: -inf\n",
      "Fold 0: train_loss = 66941.44139, val_loss = 72709.17333\n",
      "[LightGBM] [Warning] No further splits with positive gain, best gain: -inf\n",
      "Fold 1: train_loss = 66873.67604, val_loss = 72336.82434\n",
      "Fold 2: train_loss = 67127.01077, val_loss = 71767.96131\n",
      "[LightGBM] [Warning] No further splits with positive gain, best gain: -inf\n",
      "Fold 3: train_loss = 67293.96574, val_loss = 71553.90751\n",
      "[LightGBM] [Warning] No further splits with positive gain, best gain: -inf\n",
      "Fold 4: train_loss = 66928.29408, val_loss = 72306.94404\n",
      "Train loss: 67032.8776050 ± 155.9945525 | Val loss: 72134.9621062 ± 417.6981488\n",
      "CPU times: user 1min 22s, sys: 21.9 ms, total: 1min 22s\n",
      "Wall time: 1min 22s\n"
     ]
    }
   ],
   "source": [
    "%%time\n",
    "# Use extraction features best params to predict original features\n",
    "add_target_features = extraction_features + ['brand_model_price','fuel_engine_transmission_price']\n",
    "reg = LGBMRegressor(**extraction_f_best_params)\n",
    "inputs, targets = concat_df[add_target_features], concat_df['price']\n",
    "test_inputs = test_df[add_target_features]\n",
    "test_preds, _ = cross_validation(reg, cv, inputs, targets, test_inputs, need_print=True)"
   ]
  },
  {
   "cell_type": "code",
   "execution_count": 109,
   "id": "da897022",
   "metadata": {
    "execution": {
     "iopub.execute_input": "2024-09-05T11:35:04.558622Z",
     "iopub.status.busy": "2024-09-05T11:35:04.558203Z",
     "iopub.status.idle": "2024-09-05T11:35:04.845395Z",
     "shell.execute_reply": "2024-09-05T11:35:04.844319Z"
    },
    "papermill": {
     "duration": 0.337886,
     "end_time": "2024-09-05T11:35:04.847840",
     "exception": false,
     "start_time": "2024-09-05T11:35:04.509954",
     "status": "completed"
    },
    "tags": []
   },
   "outputs": [
    {
     "data": {
      "text/html": [
       "<div>\n",
       "<style scoped>\n",
       "    .dataframe tbody tr th:only-of-type {\n",
       "        vertical-align: middle;\n",
       "    }\n",
       "\n",
       "    .dataframe tbody tr th {\n",
       "        vertical-align: top;\n",
       "    }\n",
       "\n",
       "    .dataframe thead th {\n",
       "        text-align: right;\n",
       "    }\n",
       "</style>\n",
       "<table border=\"1\" class=\"dataframe\">\n",
       "  <thead>\n",
       "    <tr style=\"text-align: right;\">\n",
       "      <th></th>\n",
       "      <th>id</th>\n",
       "      <th>price</th>\n",
       "    </tr>\n",
       "  </thead>\n",
       "  <tbody>\n",
       "    <tr>\n",
       "      <th>0</th>\n",
       "      <td>188533</td>\n",
       "      <td>22705.024797</td>\n",
       "    </tr>\n",
       "    <tr>\n",
       "      <th>1</th>\n",
       "      <td>188534</td>\n",
       "      <td>82695.713244</td>\n",
       "    </tr>\n",
       "    <tr>\n",
       "      <th>2</th>\n",
       "      <td>188535</td>\n",
       "      <td>58282.461082</td>\n",
       "    </tr>\n",
       "    <tr>\n",
       "      <th>3</th>\n",
       "      <td>188536</td>\n",
       "      <td>30436.569478</td>\n",
       "    </tr>\n",
       "    <tr>\n",
       "      <th>4</th>\n",
       "      <td>188537</td>\n",
       "      <td>29082.212292</td>\n",
       "    </tr>\n",
       "  </tbody>\n",
       "</table>\n",
       "</div>"
      ],
      "text/plain": [
       "       id         price\n",
       "0  188533  22705.024797\n",
       "1  188534  82695.713244\n",
       "2  188535  58282.461082\n",
       "3  188536  30436.569478\n",
       "4  188537  29082.212292"
      ]
     },
     "execution_count": 109,
     "metadata": {},
     "output_type": "execute_result"
    }
   ],
   "source": [
    "score_dict['Name'].append('LGBMRegressor_AddTargetFeatures')\n",
    "score_dict['Val_score'].append('72134.9621062 ± 417.6981488')\n",
    "sub_df['price'] = test_preds\n",
    "sub_df.to_csv('/kaggle/working/sub_lgbm_extraction_add_target.csv', index=None)\n",
    "sub_df.head()"
   ]
  },
  {
   "cell_type": "code",
   "execution_count": 110,
   "id": "8b1af26c",
   "metadata": {
    "execution": {
     "iopub.execute_input": "2024-09-05T11:35:04.944330Z",
     "iopub.status.busy": "2024-09-05T11:35:04.943600Z",
     "iopub.status.idle": "2024-09-05T11:35:04.950330Z",
     "shell.execute_reply": "2024-09-05T11:35:04.949369Z"
    },
    "papermill": {
     "duration": 0.057473,
     "end_time": "2024-09-05T11:35:04.952445",
     "exception": false,
     "start_time": "2024-09-05T11:35:04.894972",
     "status": "completed"
    },
    "scrolled": true,
    "tags": []
   },
   "outputs": [
    {
     "data": {
      "text/plain": [
       "\"%%time\\n# Search for original features\\nsearch = RandomizedSearchCV(LGBMRegressor(),\\n                            param_dis,\\n                            n_iter=120,\\n                            scoring='neg_root_mean_squared_error', cv=4,\\n                            refit=True, verbose=3)\\ninputs, targets = concat_df[original_features], concat_df['price']\\ntest_inputs = test_df[original_features]\\nsearch.fit(inputs, targets)\\n\""
      ]
     },
     "execution_count": 110,
     "metadata": {},
     "output_type": "execute_result"
    }
   ],
   "source": [
    "'''%%time\n",
    "# Search for original features\n",
    "search = RandomizedSearchCV(LGBMRegressor(),\n",
    "                            param_dis,\n",
    "                            n_iter=120,\n",
    "                            scoring='neg_root_mean_squared_error', cv=4,\n",
    "                            refit=True, verbose=3)\n",
    "inputs, targets = concat_df[original_features], concat_df['price']\n",
    "test_inputs = test_df[original_features]\n",
    "search.fit(inputs, targets)\n",
    "'''"
   ]
  },
  {
   "cell_type": "code",
   "execution_count": 111,
   "id": "b3b8ca25",
   "metadata": {
    "execution": {
     "iopub.execute_input": "2024-09-05T11:35:05.049865Z",
     "iopub.status.busy": "2024-09-05T11:35:05.049448Z",
     "iopub.status.idle": "2024-09-05T11:35:05.056038Z",
     "shell.execute_reply": "2024-09-05T11:35:05.054998Z"
    },
    "papermill": {
     "duration": 0.057978,
     "end_time": "2024-09-05T11:35:05.058245",
     "exception": false,
     "start_time": "2024-09-05T11:35:05.000267",
     "status": "completed"
    },
    "tags": []
   },
   "outputs": [],
   "source": [
    "ori_f_best_params = {\n",
    " 'colsample_bytree': 0.45652518143960086,\n",
    " 'learning_rate': 0.013537421291420057,\n",
    " 'max_depth': 40,\n",
    " 'min_child_samples': 22,\n",
    " 'min_child_weight': 0.000984327704047003,\n",
    " 'min_split_gain': 4.9707874281395324e-05,\n",
    " 'n_estimators': 250,\n",
    " 'n_jobs': -1,\n",
    " 'num_leaves': 224,\n",
    " 'random_state': 42,\n",
    " 'reg_alpha': 1.677228327772117e-05,\n",
    " 'reg_lambda': 2.053807933204716,\n",
    " 'subsample': 0.34136734743287284,\n",
    " 'verbose': 0}\n",
    "reg = LGBMRegressor(**ori_f_best_params)"
   ]
  },
  {
   "cell_type": "code",
   "execution_count": 112,
   "id": "521f6b4f",
   "metadata": {
    "execution": {
     "iopub.execute_input": "2024-09-05T11:35:05.155347Z",
     "iopub.status.busy": "2024-09-05T11:35:05.154567Z",
     "iopub.status.idle": "2024-09-05T11:36:28.460772Z",
     "shell.execute_reply": "2024-09-05T11:36:28.459724Z"
    },
    "papermill": {
     "duration": 83.357595,
     "end_time": "2024-09-05T11:36:28.463170",
     "exception": false,
     "start_time": "2024-09-05T11:35:05.105575",
     "status": "completed"
    },
    "tags": []
   },
   "outputs": [
    {
     "name": "stderr",
     "output_type": "stream",
     "text": [
      "/opt/conda/lib/python3.10/site-packages/sklearn/model_selection/_split.py:700: UserWarning: The least populated class in y has only 1 members, which is less than n_splits=5.\n",
      "  warnings.warn(\n"
     ]
    },
    {
     "name": "stdout",
     "output_type": "stream",
     "text": [
      "Fold 0: train_loss = 67983.98747, val_loss = 72767.69019\n",
      "Fold 1: train_loss = 67926.24492, val_loss = 72488.84067\n",
      "Fold 2: train_loss = 68188.67318, val_loss = 71824.10760\n",
      "Fold 3: train_loss = 68253.56879, val_loss = 71712.96483\n",
      "Fold 4: train_loss = 67909.58079, val_loss = 72481.39818\n",
      "Train loss: 68052.4110319 ± 141.4439570 | Val loss: 72255.0002928 ± 411.8881438\n",
      "CPU times: user 1min 23s, sys: 16.8 ms, total: 1min 23s\n",
      "Wall time: 1min 23s\n"
     ]
    }
   ],
   "source": [
    "%%time\n",
    "inputs, targets = concat_df[original_features], concat_df['price']\n",
    "test_inputs = test_df[original_features]\n",
    "test_preds, _ = cross_validation(reg, cv, inputs, targets, test_inputs, need_print=True)"
   ]
  },
  {
   "cell_type": "code",
   "execution_count": 113,
   "id": "4d80b7e5",
   "metadata": {
    "execution": {
     "iopub.execute_input": "2024-09-05T11:36:28.559902Z",
     "iopub.status.busy": "2024-09-05T11:36:28.559259Z",
     "iopub.status.idle": "2024-09-05T11:36:28.841141Z",
     "shell.execute_reply": "2024-09-05T11:36:28.840130Z"
    },
    "papermill": {
     "duration": 0.332771,
     "end_time": "2024-09-05T11:36:28.843234",
     "exception": false,
     "start_time": "2024-09-05T11:36:28.510463",
     "status": "completed"
    },
    "tags": []
   },
   "outputs": [
    {
     "data": {
      "text/html": [
       "<div>\n",
       "<style scoped>\n",
       "    .dataframe tbody tr th:only-of-type {\n",
       "        vertical-align: middle;\n",
       "    }\n",
       "\n",
       "    .dataframe tbody tr th {\n",
       "        vertical-align: top;\n",
       "    }\n",
       "\n",
       "    .dataframe thead th {\n",
       "        text-align: right;\n",
       "    }\n",
       "</style>\n",
       "<table border=\"1\" class=\"dataframe\">\n",
       "  <thead>\n",
       "    <tr style=\"text-align: right;\">\n",
       "      <th></th>\n",
       "      <th>id</th>\n",
       "      <th>price</th>\n",
       "    </tr>\n",
       "  </thead>\n",
       "  <tbody>\n",
       "    <tr>\n",
       "      <th>0</th>\n",
       "      <td>188533</td>\n",
       "      <td>18102.441036</td>\n",
       "    </tr>\n",
       "    <tr>\n",
       "      <th>1</th>\n",
       "      <td>188534</td>\n",
       "      <td>78633.490816</td>\n",
       "    </tr>\n",
       "    <tr>\n",
       "      <th>2</th>\n",
       "      <td>188535</td>\n",
       "      <td>50700.008668</td>\n",
       "    </tr>\n",
       "    <tr>\n",
       "      <th>3</th>\n",
       "      <td>188536</td>\n",
       "      <td>29010.028684</td>\n",
       "    </tr>\n",
       "    <tr>\n",
       "      <th>4</th>\n",
       "      <td>188537</td>\n",
       "      <td>30676.303742</td>\n",
       "    </tr>\n",
       "  </tbody>\n",
       "</table>\n",
       "</div>"
      ],
      "text/plain": [
       "       id         price\n",
       "0  188533  18102.441036\n",
       "1  188534  78633.490816\n",
       "2  188535  50700.008668\n",
       "3  188536  29010.028684\n",
       "4  188537  30676.303742"
      ]
     },
     "execution_count": 113,
     "metadata": {},
     "output_type": "execute_result"
    }
   ],
   "source": [
    "score_dict['Name'].append('LGBMRegressor_OriginalFeatures')\n",
    "score_dict['Val_score'].append('72255.0002928 ± 411.8881438')\n",
    "sub_df['price'] = test_preds\n",
    "sub_df.to_csv('/kaggle/working/sub_lgbm_ori.csv', index=None)\n",
    "sub_df.head()"
   ]
  },
  {
   "cell_type": "markdown",
   "id": "69ebd6cf",
   "metadata": {
    "papermill": {
     "duration": 0.047405,
     "end_time": "2024-09-05T11:36:28.938795",
     "exception": false,
     "start_time": "2024-09-05T11:36:28.891390",
     "status": "completed"
    },
    "tags": []
   },
   "source": [
    "### View LB Score after submissions"
   ]
  },
  {
   "cell_type": "code",
   "execution_count": 114,
   "id": "f50af33f",
   "metadata": {
    "execution": {
     "iopub.execute_input": "2024-09-05T11:36:29.038411Z",
     "iopub.status.busy": "2024-09-05T11:36:29.037972Z",
     "iopub.status.idle": "2024-09-05T11:36:29.048701Z",
     "shell.execute_reply": "2024-09-05T11:36:29.047630Z"
    },
    "papermill": {
     "duration": 0.062967,
     "end_time": "2024-09-05T11:36:29.050944",
     "exception": false,
     "start_time": "2024-09-05T11:36:28.987977",
     "status": "completed"
    },
    "tags": []
   },
   "outputs": [
    {
     "data": {
      "text/html": [
       "<div>\n",
       "<style scoped>\n",
       "    .dataframe tbody tr th:only-of-type {\n",
       "        vertical-align: middle;\n",
       "    }\n",
       "\n",
       "    .dataframe tbody tr th {\n",
       "        vertical-align: top;\n",
       "    }\n",
       "\n",
       "    .dataframe thead th {\n",
       "        text-align: right;\n",
       "    }\n",
       "</style>\n",
       "<table border=\"1\" class=\"dataframe\">\n",
       "  <thead>\n",
       "    <tr style=\"text-align: right;\">\n",
       "      <th></th>\n",
       "      <th>Name</th>\n",
       "      <th>Val_score</th>\n",
       "    </tr>\n",
       "  </thead>\n",
       "  <tbody>\n",
       "    <tr>\n",
       "      <th>0</th>\n",
       "      <td>LinearRegression_AllFeatures</td>\n",
       "      <td>72743.6896922 ± 356.2313086</td>\n",
       "    </tr>\n",
       "    <tr>\n",
       "      <th>1</th>\n",
       "      <td>LinearRegression_ExtractionFeatures</td>\n",
       "      <td>73565.0945628 ± 345.5178397</td>\n",
       "    </tr>\n",
       "    <tr>\n",
       "      <th>2</th>\n",
       "      <td>LinearRegression_AddTargetFeatures</td>\n",
       "      <td>72834.9819857 ± 355.2931057</td>\n",
       "    </tr>\n",
       "    <tr>\n",
       "      <th>3</th>\n",
       "      <td>LGBMRegressor_ExtractionFeatures</td>\n",
       "      <td>72158.7716847 ± 435.5969091</td>\n",
       "    </tr>\n",
       "    <tr>\n",
       "      <th>4</th>\n",
       "      <td>LGBMRegressor_AddTargetFeatures</td>\n",
       "      <td>72134.9621062 ± 417.6981488</td>\n",
       "    </tr>\n",
       "    <tr>\n",
       "      <th>5</th>\n",
       "      <td>LGBMRegressor_OriginalFeatures</td>\n",
       "      <td>72255.0002928 ± 411.8881438</td>\n",
       "    </tr>\n",
       "  </tbody>\n",
       "</table>\n",
       "</div>"
      ],
      "text/plain": [
       "                                  Name                    Val_score\n",
       "0         LinearRegression_AllFeatures  72743.6896922 ± 356.2313086\n",
       "1  LinearRegression_ExtractionFeatures  73565.0945628 ± 345.5178397\n",
       "2   LinearRegression_AddTargetFeatures  72834.9819857 ± 355.2931057\n",
       "3     LGBMRegressor_ExtractionFeatures  72158.7716847 ± 435.5969091\n",
       "4      LGBMRegressor_AddTargetFeatures  72134.9621062 ± 417.6981488\n",
       "5       LGBMRegressor_OriginalFeatures  72255.0002928 ± 411.8881438"
      ]
     },
     "execution_count": 114,
     "metadata": {},
     "output_type": "execute_result"
    }
   ],
   "source": [
    "pd.DataFrame(score_dict)"
   ]
  },
  {
   "cell_type": "markdown",
   "id": "23eb8beb",
   "metadata": {
    "papermill": {
     "duration": 0.048221,
     "end_time": "2024-09-05T11:36:29.147456",
     "exception": false,
     "start_time": "2024-09-05T11:36:29.099235",
     "status": "completed"
    },
    "tags": []
   },
   "source": [
    "So, I try with LGBM Regressor with extraction, add_target, original features and receive 72276.25050, 72471.35091, 72422.96599 in LB, in this order. \n",
    "Thus, adding target features helps reduce val loss but increases test loss."
   ]
  },
  {
   "cell_type": "code",
   "execution_count": 115,
   "id": "35e942e9",
   "metadata": {
    "execution": {
     "iopub.execute_input": "2024-09-05T11:36:29.245919Z",
     "iopub.status.busy": "2024-09-05T11:36:29.245066Z",
     "iopub.status.idle": "2024-09-05T11:36:29.293519Z",
     "shell.execute_reply": "2024-09-05T11:36:29.292294Z"
    },
    "papermill": {
     "duration": 0.100742,
     "end_time": "2024-09-05T11:36:29.296037",
     "exception": false,
     "start_time": "2024-09-05T11:36:29.195295",
     "status": "completed"
    },
    "tags": []
   },
   "outputs": [
    {
     "data": {
      "text/html": [
       "<div>\n",
       "<style scoped>\n",
       "    .dataframe tbody tr th:only-of-type {\n",
       "        vertical-align: middle;\n",
       "    }\n",
       "\n",
       "    .dataframe tbody tr th {\n",
       "        vertical-align: top;\n",
       "    }\n",
       "\n",
       "    .dataframe thead th {\n",
       "        text-align: right;\n",
       "    }\n",
       "</style>\n",
       "<table border=\"1\" class=\"dataframe\">\n",
       "  <thead>\n",
       "    <tr style=\"text-align: right;\">\n",
       "      <th></th>\n",
       "      <th>id</th>\n",
       "      <th>price</th>\n",
       "    </tr>\n",
       "  </thead>\n",
       "  <tbody>\n",
       "    <tr>\n",
       "      <th>0</th>\n",
       "      <td>188533</td>\n",
       "      <td>19771.358717</td>\n",
       "    </tr>\n",
       "    <tr>\n",
       "      <th>1</th>\n",
       "      <td>188534</td>\n",
       "      <td>78824.976075</td>\n",
       "    </tr>\n",
       "    <tr>\n",
       "      <th>2</th>\n",
       "      <td>188535</td>\n",
       "      <td>54174.409237</td>\n",
       "    </tr>\n",
       "    <tr>\n",
       "      <th>3</th>\n",
       "      <td>188536</td>\n",
       "      <td>28810.193534</td>\n",
       "    </tr>\n",
       "    <tr>\n",
       "      <th>4</th>\n",
       "      <td>188537</td>\n",
       "      <td>30722.407573</td>\n",
       "    </tr>\n",
       "  </tbody>\n",
       "</table>\n",
       "</div>"
      ],
      "text/plain": [
       "       id         price\n",
       "0  188533  19771.358717\n",
       "1  188534  78824.976075\n",
       "2  188535  54174.409237\n",
       "3  188536  28810.193534\n",
       "4  188537  30722.407573"
      ]
     },
     "execution_count": 115,
     "metadata": {},
     "output_type": "execute_result"
    }
   ],
   "source": [
    "sub_df = pd.read_csv('/kaggle/working/sub_lgbm_extraction.csv')\n",
    "sub_df.head()"
   ]
  },
  {
   "cell_type": "code",
   "execution_count": 116,
   "id": "ee5a2e2d",
   "metadata": {
    "execution": {
     "iopub.execute_input": "2024-09-05T11:36:29.395736Z",
     "iopub.status.busy": "2024-09-05T11:36:29.394906Z",
     "iopub.status.idle": "2024-09-05T11:36:29.674430Z",
     "shell.execute_reply": "2024-09-05T11:36:29.673252Z"
    },
    "papermill": {
     "duration": 0.331877,
     "end_time": "2024-09-05T11:36:29.676650",
     "exception": false,
     "start_time": "2024-09-05T11:36:29.344773",
     "status": "completed"
    },
    "tags": []
   },
   "outputs": [
    {
     "data": {
      "text/html": [
       "<div>\n",
       "<style scoped>\n",
       "    .dataframe tbody tr th:only-of-type {\n",
       "        vertical-align: middle;\n",
       "    }\n",
       "\n",
       "    .dataframe tbody tr th {\n",
       "        vertical-align: top;\n",
       "    }\n",
       "\n",
       "    .dataframe thead th {\n",
       "        text-align: right;\n",
       "    }\n",
       "</style>\n",
       "<table border=\"1\" class=\"dataframe\">\n",
       "  <thead>\n",
       "    <tr style=\"text-align: right;\">\n",
       "      <th></th>\n",
       "      <th>id</th>\n",
       "      <th>price</th>\n",
       "    </tr>\n",
       "  </thead>\n",
       "  <tbody>\n",
       "    <tr>\n",
       "      <th>0</th>\n",
       "      <td>188533</td>\n",
       "      <td>19771.358717</td>\n",
       "    </tr>\n",
       "    <tr>\n",
       "      <th>1</th>\n",
       "      <td>188534</td>\n",
       "      <td>78824.976075</td>\n",
       "    </tr>\n",
       "    <tr>\n",
       "      <th>2</th>\n",
       "      <td>188535</td>\n",
       "      <td>54174.409237</td>\n",
       "    </tr>\n",
       "    <tr>\n",
       "      <th>3</th>\n",
       "      <td>188536</td>\n",
       "      <td>28810.193534</td>\n",
       "    </tr>\n",
       "    <tr>\n",
       "      <th>4</th>\n",
       "      <td>188537</td>\n",
       "      <td>30722.407573</td>\n",
       "    </tr>\n",
       "  </tbody>\n",
       "</table>\n",
       "</div>"
      ],
      "text/plain": [
       "       id         price\n",
       "0  188533  19771.358717\n",
       "1  188534  78824.976075\n",
       "2  188535  54174.409237\n",
       "3  188536  28810.193534\n",
       "4  188537  30722.407573"
      ]
     },
     "execution_count": 116,
     "metadata": {},
     "output_type": "execute_result"
    }
   ],
   "source": [
    "sub_df.to_csv('/kaggle/working/submission.csv', index=None)\n",
    "sub_df.head()"
   ]
  }
 ],
 "metadata": {
  "kaggle": {
   "accelerator": "none",
   "dataSources": [
    {
     "databundleVersionId": 9057646,
     "sourceId": 76728,
     "sourceType": "competition"
    },
    {
     "datasetId": 3742543,
     "sourceId": 6478229,
     "sourceType": "datasetVersion"
    }
   ],
   "dockerImageVersionId": 30761,
   "isGpuEnabled": false,
   "isInternetEnabled": false,
   "language": "python",
   "sourceType": "notebook"
  },
  "kernelspec": {
   "display_name": "Python 3",
   "language": "python",
   "name": "python3"
  },
  "language_info": {
   "codemirror_mode": {
    "name": "ipython",
    "version": 3
   },
   "file_extension": ".py",
   "mimetype": "text/x-python",
   "name": "python",
   "nbconvert_exporter": "python",
   "pygments_lexer": "ipython3",
   "version": "3.10.14"
  },
  "papermill": {
   "default_parameters": {},
   "duration": 1949.295121,
   "end_time": "2024-09-05T11:36:30.647737",
   "environment_variables": {},
   "exception": null,
   "input_path": "__notebook__.ipynb",
   "output_path": "__notebook__.ipynb",
   "parameters": {},
   "start_time": "2024-09-05T11:04:01.352616",
   "version": "2.6.0"
  }
 },
 "nbformat": 4,
 "nbformat_minor": 5
}
