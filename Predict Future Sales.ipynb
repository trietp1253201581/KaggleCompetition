{
 "cells": [
  {
   "cell_type": "markdown",
   "id": "e2ab16e0",
   "metadata": {
    "papermill": {
     "duration": 0.031748,
     "end_time": "2024-09-15T11:58:27.783577",
     "exception": false,
     "start_time": "2024-09-15T11:58:27.751829",
     "status": "completed"
    },
    "tags": []
   },
   "source": [
    "# Predict Future Sales"
   ]
  },
  {
   "cell_type": "markdown",
   "id": "8492e6d1",
   "metadata": {
    "papermill": {
     "duration": 0.029093,
     "end_time": "2024-09-15T11:58:27.845177",
     "exception": false,
     "start_time": "2024-09-15T11:58:27.816084",
     "status": "completed"
    },
    "tags": []
   },
   "source": [
    "## Import library and datasets"
   ]
  },
  {
   "cell_type": "code",
   "execution_count": 1,
   "id": "ea677221",
   "metadata": {
    "execution": {
     "iopub.execute_input": "2024-09-15T11:58:27.906496Z",
     "iopub.status.busy": "2024-09-15T11:58:27.906068Z",
     "iopub.status.idle": "2024-09-15T11:58:38.926869Z",
     "shell.execute_reply": "2024-09-15T11:58:38.925877Z"
    },
    "papermill": {
     "duration": 11.054665,
     "end_time": "2024-09-15T11:58:38.929376",
     "exception": false,
     "start_time": "2024-09-15T11:58:27.874711",
     "status": "completed"
    },
    "tags": []
   },
   "outputs": [],
   "source": [
    "import pandas as pd\n",
    "import numpy as np\n",
    "import re\n",
    "from itertools import product\n",
    "\n",
    "from sklearn.preprocessing import OneHotEncoder, OrdinalEncoder, MinMaxScaler, StandardScaler\n",
    "from sklearn.impute import SimpleImputer\n",
    "\n",
    "from sklearn.metrics import mean_squared_error, mean_squared_log_error\n",
    "\n",
    "from sklearn.model_selection import GridSearchCV, train_test_split, StratifiedKFold, cross_val_score, RandomizedSearchCV, TimeSeriesSplit\n",
    "from sklearn.feature_selection import mutual_info_classif\n",
    "\n",
    "from sklearn.pipeline import make_pipeline, Pipeline\n",
    "from sklearn.compose import ColumnTransformer\n",
    "\n",
    "from sklearn.linear_model import LinearRegression, Ridge\n",
    "from sklearn.tree import DecisionTreeRegressor\n",
    "from sklearn.ensemble import RandomForestRegressor, GradientBoostingRegressor\n",
    "from xgboost import XGBRegressor\n",
    "from lightgbm import LGBMRegressor\n",
    "from catboost import CatBoostRegressor\n",
    "\n",
    "from sklearn.cluster import KMeans\n",
    "\n",
    "from scipy.stats import loguniform, uniform\n",
    "from random import randrange\n",
    "from statsmodels.tsa.seasonal import seasonal_decompose\n",
    "\n",
    "import torch\n",
    "from torch.utils.data import TensorDataset, DataLoader, random_split\n",
    "import torch.nn as nn\n",
    "import torch.nn.functional as F\n",
    "import torchvision.transforms as T\n",
    "\n",
    "import warnings\n",
    "warnings.simplefilter(action='ignore', category=FutureWarning)\n",
    "\n",
    "import matplotlib.pyplot as plt\n",
    "import seaborn as sns\n",
    "%matplotlib inline"
   ]
  },
  {
   "cell_type": "code",
   "execution_count": 2,
   "id": "bdc21d56",
   "metadata": {
    "execution": {
     "iopub.execute_input": "2024-09-15T11:58:38.992177Z",
     "iopub.status.busy": "2024-09-15T11:58:38.991212Z",
     "iopub.status.idle": "2024-09-15T11:58:42.371433Z",
     "shell.execute_reply": "2024-09-15T11:58:42.370366Z"
    },
    "papermill": {
     "duration": 3.414166,
     "end_time": "2024-09-15T11:58:42.373989",
     "exception": false,
     "start_time": "2024-09-15T11:58:38.959823",
     "status": "completed"
    },
    "tags": []
   },
   "outputs": [],
   "source": [
    "data_dir = '/kaggle/input/competitive-data-science-predict-future-sales/'\n",
    "raw_df = pd.read_csv(data_dir + 'sales_train.csv')\n",
    "test_df = pd.read_csv(data_dir + 'test.csv')\n",
    "sub_df = pd.read_csv(data_dir + 'sample_submission.csv')\n",
    "items_df = pd.read_csv(data_dir + 'items.csv')\n",
    "item_cat_df = pd.read_csv(data_dir + 'item_categories.csv')\n",
    "shops_df = pd.read_csv(data_dir + 'shops.csv')"
   ]
  },
  {
   "cell_type": "code",
   "execution_count": 3,
   "id": "a8ae6e1c",
   "metadata": {
    "execution": {
     "iopub.execute_input": "2024-09-15T11:58:42.436621Z",
     "iopub.status.busy": "2024-09-15T11:58:42.435847Z",
     "iopub.status.idle": "2024-09-15T11:58:42.463785Z",
     "shell.execute_reply": "2024-09-15T11:58:42.462686Z"
    },
    "papermill": {
     "duration": 0.061135,
     "end_time": "2024-09-15T11:58:42.465871",
     "exception": false,
     "start_time": "2024-09-15T11:58:42.404736",
     "status": "completed"
    },
    "tags": []
   },
   "outputs": [
    {
     "data": {
      "text/html": [
       "<div>\n",
       "<style scoped>\n",
       "    .dataframe tbody tr th:only-of-type {\n",
       "        vertical-align: middle;\n",
       "    }\n",
       "\n",
       "    .dataframe tbody tr th {\n",
       "        vertical-align: top;\n",
       "    }\n",
       "\n",
       "    .dataframe thead th {\n",
       "        text-align: right;\n",
       "    }\n",
       "</style>\n",
       "<table border=\"1\" class=\"dataframe\">\n",
       "  <thead>\n",
       "    <tr style=\"text-align: right;\">\n",
       "      <th></th>\n",
       "      <th>date</th>\n",
       "      <th>date_block_num</th>\n",
       "      <th>shop_id</th>\n",
       "      <th>item_id</th>\n",
       "      <th>item_price</th>\n",
       "      <th>item_cnt_day</th>\n",
       "    </tr>\n",
       "  </thead>\n",
       "  <tbody>\n",
       "    <tr>\n",
       "      <th>0</th>\n",
       "      <td>02.01.2013</td>\n",
       "      <td>0</td>\n",
       "      <td>59</td>\n",
       "      <td>22154</td>\n",
       "      <td>999.00</td>\n",
       "      <td>1.0</td>\n",
       "    </tr>\n",
       "    <tr>\n",
       "      <th>1</th>\n",
       "      <td>03.01.2013</td>\n",
       "      <td>0</td>\n",
       "      <td>25</td>\n",
       "      <td>2552</td>\n",
       "      <td>899.00</td>\n",
       "      <td>1.0</td>\n",
       "    </tr>\n",
       "    <tr>\n",
       "      <th>2</th>\n",
       "      <td>05.01.2013</td>\n",
       "      <td>0</td>\n",
       "      <td>25</td>\n",
       "      <td>2552</td>\n",
       "      <td>899.00</td>\n",
       "      <td>-1.0</td>\n",
       "    </tr>\n",
       "    <tr>\n",
       "      <th>3</th>\n",
       "      <td>06.01.2013</td>\n",
       "      <td>0</td>\n",
       "      <td>25</td>\n",
       "      <td>2554</td>\n",
       "      <td>1709.05</td>\n",
       "      <td>1.0</td>\n",
       "    </tr>\n",
       "    <tr>\n",
       "      <th>4</th>\n",
       "      <td>15.01.2013</td>\n",
       "      <td>0</td>\n",
       "      <td>25</td>\n",
       "      <td>2555</td>\n",
       "      <td>1099.00</td>\n",
       "      <td>1.0</td>\n",
       "    </tr>\n",
       "    <tr>\n",
       "      <th>...</th>\n",
       "      <td>...</td>\n",
       "      <td>...</td>\n",
       "      <td>...</td>\n",
       "      <td>...</td>\n",
       "      <td>...</td>\n",
       "      <td>...</td>\n",
       "    </tr>\n",
       "    <tr>\n",
       "      <th>2935844</th>\n",
       "      <td>10.10.2015</td>\n",
       "      <td>33</td>\n",
       "      <td>25</td>\n",
       "      <td>7409</td>\n",
       "      <td>299.00</td>\n",
       "      <td>1.0</td>\n",
       "    </tr>\n",
       "    <tr>\n",
       "      <th>2935845</th>\n",
       "      <td>09.10.2015</td>\n",
       "      <td>33</td>\n",
       "      <td>25</td>\n",
       "      <td>7460</td>\n",
       "      <td>299.00</td>\n",
       "      <td>1.0</td>\n",
       "    </tr>\n",
       "    <tr>\n",
       "      <th>2935846</th>\n",
       "      <td>14.10.2015</td>\n",
       "      <td>33</td>\n",
       "      <td>25</td>\n",
       "      <td>7459</td>\n",
       "      <td>349.00</td>\n",
       "      <td>1.0</td>\n",
       "    </tr>\n",
       "    <tr>\n",
       "      <th>2935847</th>\n",
       "      <td>22.10.2015</td>\n",
       "      <td>33</td>\n",
       "      <td>25</td>\n",
       "      <td>7440</td>\n",
       "      <td>299.00</td>\n",
       "      <td>1.0</td>\n",
       "    </tr>\n",
       "    <tr>\n",
       "      <th>2935848</th>\n",
       "      <td>03.10.2015</td>\n",
       "      <td>33</td>\n",
       "      <td>25</td>\n",
       "      <td>7460</td>\n",
       "      <td>299.00</td>\n",
       "      <td>1.0</td>\n",
       "    </tr>\n",
       "  </tbody>\n",
       "</table>\n",
       "<p>2935849 rows × 6 columns</p>\n",
       "</div>"
      ],
      "text/plain": [
       "               date  date_block_num  shop_id  item_id  item_price  \\\n",
       "0        02.01.2013               0       59    22154      999.00   \n",
       "1        03.01.2013               0       25     2552      899.00   \n",
       "2        05.01.2013               0       25     2552      899.00   \n",
       "3        06.01.2013               0       25     2554     1709.05   \n",
       "4        15.01.2013               0       25     2555     1099.00   \n",
       "...             ...             ...      ...      ...         ...   \n",
       "2935844  10.10.2015              33       25     7409      299.00   \n",
       "2935845  09.10.2015              33       25     7460      299.00   \n",
       "2935846  14.10.2015              33       25     7459      349.00   \n",
       "2935847  22.10.2015              33       25     7440      299.00   \n",
       "2935848  03.10.2015              33       25     7460      299.00   \n",
       "\n",
       "         item_cnt_day  \n",
       "0                 1.0  \n",
       "1                 1.0  \n",
       "2                -1.0  \n",
       "3                 1.0  \n",
       "4                 1.0  \n",
       "...               ...  \n",
       "2935844           1.0  \n",
       "2935845           1.0  \n",
       "2935846           1.0  \n",
       "2935847           1.0  \n",
       "2935848           1.0  \n",
       "\n",
       "[2935849 rows x 6 columns]"
      ]
     },
     "execution_count": 3,
     "metadata": {},
     "output_type": "execute_result"
    }
   ],
   "source": [
    "raw_df"
   ]
  },
  {
   "cell_type": "code",
   "execution_count": 4,
   "id": "52ffd547",
   "metadata": {
    "execution": {
     "iopub.execute_input": "2024-09-15T11:58:42.527946Z",
     "iopub.status.busy": "2024-09-15T11:58:42.527286Z",
     "iopub.status.idle": "2024-09-15T11:58:42.538026Z",
     "shell.execute_reply": "2024-09-15T11:58:42.537112Z"
    },
    "papermill": {
     "duration": 0.0439,
     "end_time": "2024-09-15T11:58:42.540091",
     "exception": false,
     "start_time": "2024-09-15T11:58:42.496191",
     "status": "completed"
    },
    "tags": []
   },
   "outputs": [
    {
     "data": {
      "text/html": [
       "<div>\n",
       "<style scoped>\n",
       "    .dataframe tbody tr th:only-of-type {\n",
       "        vertical-align: middle;\n",
       "    }\n",
       "\n",
       "    .dataframe tbody tr th {\n",
       "        vertical-align: top;\n",
       "    }\n",
       "\n",
       "    .dataframe thead th {\n",
       "        text-align: right;\n",
       "    }\n",
       "</style>\n",
       "<table border=\"1\" class=\"dataframe\">\n",
       "  <thead>\n",
       "    <tr style=\"text-align: right;\">\n",
       "      <th></th>\n",
       "      <th>ID</th>\n",
       "      <th>shop_id</th>\n",
       "      <th>item_id</th>\n",
       "    </tr>\n",
       "  </thead>\n",
       "  <tbody>\n",
       "    <tr>\n",
       "      <th>0</th>\n",
       "      <td>0</td>\n",
       "      <td>5</td>\n",
       "      <td>5037</td>\n",
       "    </tr>\n",
       "    <tr>\n",
       "      <th>1</th>\n",
       "      <td>1</td>\n",
       "      <td>5</td>\n",
       "      <td>5320</td>\n",
       "    </tr>\n",
       "    <tr>\n",
       "      <th>2</th>\n",
       "      <td>2</td>\n",
       "      <td>5</td>\n",
       "      <td>5233</td>\n",
       "    </tr>\n",
       "    <tr>\n",
       "      <th>3</th>\n",
       "      <td>3</td>\n",
       "      <td>5</td>\n",
       "      <td>5232</td>\n",
       "    </tr>\n",
       "    <tr>\n",
       "      <th>4</th>\n",
       "      <td>4</td>\n",
       "      <td>5</td>\n",
       "      <td>5268</td>\n",
       "    </tr>\n",
       "    <tr>\n",
       "      <th>...</th>\n",
       "      <td>...</td>\n",
       "      <td>...</td>\n",
       "      <td>...</td>\n",
       "    </tr>\n",
       "    <tr>\n",
       "      <th>214195</th>\n",
       "      <td>214195</td>\n",
       "      <td>45</td>\n",
       "      <td>18454</td>\n",
       "    </tr>\n",
       "    <tr>\n",
       "      <th>214196</th>\n",
       "      <td>214196</td>\n",
       "      <td>45</td>\n",
       "      <td>16188</td>\n",
       "    </tr>\n",
       "    <tr>\n",
       "      <th>214197</th>\n",
       "      <td>214197</td>\n",
       "      <td>45</td>\n",
       "      <td>15757</td>\n",
       "    </tr>\n",
       "    <tr>\n",
       "      <th>214198</th>\n",
       "      <td>214198</td>\n",
       "      <td>45</td>\n",
       "      <td>19648</td>\n",
       "    </tr>\n",
       "    <tr>\n",
       "      <th>214199</th>\n",
       "      <td>214199</td>\n",
       "      <td>45</td>\n",
       "      <td>969</td>\n",
       "    </tr>\n",
       "  </tbody>\n",
       "</table>\n",
       "<p>214200 rows × 3 columns</p>\n",
       "</div>"
      ],
      "text/plain": [
       "            ID  shop_id  item_id\n",
       "0            0        5     5037\n",
       "1            1        5     5320\n",
       "2            2        5     5233\n",
       "3            3        5     5232\n",
       "4            4        5     5268\n",
       "...        ...      ...      ...\n",
       "214195  214195       45    18454\n",
       "214196  214196       45    16188\n",
       "214197  214197       45    15757\n",
       "214198  214198       45    19648\n",
       "214199  214199       45      969\n",
       "\n",
       "[214200 rows x 3 columns]"
      ]
     },
     "execution_count": 4,
     "metadata": {},
     "output_type": "execute_result"
    }
   ],
   "source": [
    "test_df"
   ]
  },
  {
   "cell_type": "code",
   "execution_count": 5,
   "id": "c3482701",
   "metadata": {
    "execution": {
     "iopub.execute_input": "2024-09-15T11:58:42.603908Z",
     "iopub.status.busy": "2024-09-15T11:58:42.602955Z",
     "iopub.status.idle": "2024-09-15T11:58:42.614394Z",
     "shell.execute_reply": "2024-09-15T11:58:42.613202Z"
    },
    "papermill": {
     "duration": 0.045673,
     "end_time": "2024-09-15T11:58:42.616527",
     "exception": false,
     "start_time": "2024-09-15T11:58:42.570854",
     "status": "completed"
    },
    "tags": []
   },
   "outputs": [
    {
     "data": {
      "text/html": [
       "<div>\n",
       "<style scoped>\n",
       "    .dataframe tbody tr th:only-of-type {\n",
       "        vertical-align: middle;\n",
       "    }\n",
       "\n",
       "    .dataframe tbody tr th {\n",
       "        vertical-align: top;\n",
       "    }\n",
       "\n",
       "    .dataframe thead th {\n",
       "        text-align: right;\n",
       "    }\n",
       "</style>\n",
       "<table border=\"1\" class=\"dataframe\">\n",
       "  <thead>\n",
       "    <tr style=\"text-align: right;\">\n",
       "      <th></th>\n",
       "      <th>item_name</th>\n",
       "      <th>item_id</th>\n",
       "      <th>item_category_id</th>\n",
       "    </tr>\n",
       "  </thead>\n",
       "  <tbody>\n",
       "    <tr>\n",
       "      <th>0</th>\n",
       "      <td>! ВО ВЛАСТИ НАВАЖДЕНИЯ (ПЛАСТ.)         D</td>\n",
       "      <td>0</td>\n",
       "      <td>40</td>\n",
       "    </tr>\n",
       "    <tr>\n",
       "      <th>1</th>\n",
       "      <td>!ABBYY FineReader 12 Professional Edition Full...</td>\n",
       "      <td>1</td>\n",
       "      <td>76</td>\n",
       "    </tr>\n",
       "    <tr>\n",
       "      <th>2</th>\n",
       "      <td>***В ЛУЧАХ СЛАВЫ   (UNV)                    D</td>\n",
       "      <td>2</td>\n",
       "      <td>40</td>\n",
       "    </tr>\n",
       "    <tr>\n",
       "      <th>3</th>\n",
       "      <td>***ГОЛУБАЯ ВОЛНА  (Univ)                      D</td>\n",
       "      <td>3</td>\n",
       "      <td>40</td>\n",
       "    </tr>\n",
       "    <tr>\n",
       "      <th>4</th>\n",
       "      <td>***КОРОБКА (СТЕКЛО)                       D</td>\n",
       "      <td>4</td>\n",
       "      <td>40</td>\n",
       "    </tr>\n",
       "    <tr>\n",
       "      <th>...</th>\n",
       "      <td>...</td>\n",
       "      <td>...</td>\n",
       "      <td>...</td>\n",
       "    </tr>\n",
       "    <tr>\n",
       "      <th>22165</th>\n",
       "      <td>Ядерный титбит 2 [PC, Цифровая версия]</td>\n",
       "      <td>22165</td>\n",
       "      <td>31</td>\n",
       "    </tr>\n",
       "    <tr>\n",
       "      <th>22166</th>\n",
       "      <td>Язык запросов 1С:Предприятия  [Цифровая версия]</td>\n",
       "      <td>22166</td>\n",
       "      <td>54</td>\n",
       "    </tr>\n",
       "    <tr>\n",
       "      <th>22167</th>\n",
       "      <td>Язык запросов 1С:Предприятия 8 (+CD). Хрустале...</td>\n",
       "      <td>22167</td>\n",
       "      <td>49</td>\n",
       "    </tr>\n",
       "    <tr>\n",
       "      <th>22168</th>\n",
       "      <td>Яйцо для Little Inu</td>\n",
       "      <td>22168</td>\n",
       "      <td>62</td>\n",
       "    </tr>\n",
       "    <tr>\n",
       "      <th>22169</th>\n",
       "      <td>Яйцо дракона (Игра престолов)</td>\n",
       "      <td>22169</td>\n",
       "      <td>69</td>\n",
       "    </tr>\n",
       "  </tbody>\n",
       "</table>\n",
       "<p>22170 rows × 3 columns</p>\n",
       "</div>"
      ],
      "text/plain": [
       "                                               item_name  item_id  \\\n",
       "0              ! ВО ВЛАСТИ НАВАЖДЕНИЯ (ПЛАСТ.)         D        0   \n",
       "1      !ABBYY FineReader 12 Professional Edition Full...        1   \n",
       "2          ***В ЛУЧАХ СЛАВЫ   (UNV)                    D        2   \n",
       "3        ***ГОЛУБАЯ ВОЛНА  (Univ)                      D        3   \n",
       "4            ***КОРОБКА (СТЕКЛО)                       D        4   \n",
       "...                                                  ...      ...   \n",
       "22165             Ядерный титбит 2 [PC, Цифровая версия]    22165   \n",
       "22166    Язык запросов 1С:Предприятия  [Цифровая версия]    22166   \n",
       "22167  Язык запросов 1С:Предприятия 8 (+CD). Хрустале...    22167   \n",
       "22168                                Яйцо для Little Inu    22168   \n",
       "22169                      Яйцо дракона (Игра престолов)    22169   \n",
       "\n",
       "       item_category_id  \n",
       "0                    40  \n",
       "1                    76  \n",
       "2                    40  \n",
       "3                    40  \n",
       "4                    40  \n",
       "...                 ...  \n",
       "22165                31  \n",
       "22166                54  \n",
       "22167                49  \n",
       "22168                62  \n",
       "22169                69  \n",
       "\n",
       "[22170 rows x 3 columns]"
      ]
     },
     "execution_count": 5,
     "metadata": {},
     "output_type": "execute_result"
    }
   ],
   "source": [
    "items_df"
   ]
  },
  {
   "cell_type": "code",
   "execution_count": 6,
   "id": "f0f1df8d",
   "metadata": {
    "execution": {
     "iopub.execute_input": "2024-09-15T11:58:42.681585Z",
     "iopub.status.busy": "2024-09-15T11:58:42.680795Z",
     "iopub.status.idle": "2024-09-15T11:58:42.691424Z",
     "shell.execute_reply": "2024-09-15T11:58:42.690481Z"
    },
    "papermill": {
     "duration": 0.045102,
     "end_time": "2024-09-15T11:58:42.693822",
     "exception": false,
     "start_time": "2024-09-15T11:58:42.648720",
     "status": "completed"
    },
    "tags": []
   },
   "outputs": [
    {
     "data": {
      "text/html": [
       "<div>\n",
       "<style scoped>\n",
       "    .dataframe tbody tr th:only-of-type {\n",
       "        vertical-align: middle;\n",
       "    }\n",
       "\n",
       "    .dataframe tbody tr th {\n",
       "        vertical-align: top;\n",
       "    }\n",
       "\n",
       "    .dataframe thead th {\n",
       "        text-align: right;\n",
       "    }\n",
       "</style>\n",
       "<table border=\"1\" class=\"dataframe\">\n",
       "  <thead>\n",
       "    <tr style=\"text-align: right;\">\n",
       "      <th></th>\n",
       "      <th>item_category_name</th>\n",
       "      <th>item_category_id</th>\n",
       "    </tr>\n",
       "  </thead>\n",
       "  <tbody>\n",
       "    <tr>\n",
       "      <th>0</th>\n",
       "      <td>PC - Гарнитуры/Наушники</td>\n",
       "      <td>0</td>\n",
       "    </tr>\n",
       "    <tr>\n",
       "      <th>1</th>\n",
       "      <td>Аксессуары - PS2</td>\n",
       "      <td>1</td>\n",
       "    </tr>\n",
       "    <tr>\n",
       "      <th>2</th>\n",
       "      <td>Аксессуары - PS3</td>\n",
       "      <td>2</td>\n",
       "    </tr>\n",
       "    <tr>\n",
       "      <th>3</th>\n",
       "      <td>Аксессуары - PS4</td>\n",
       "      <td>3</td>\n",
       "    </tr>\n",
       "    <tr>\n",
       "      <th>4</th>\n",
       "      <td>Аксессуары - PSP</td>\n",
       "      <td>4</td>\n",
       "    </tr>\n",
       "    <tr>\n",
       "      <th>...</th>\n",
       "      <td>...</td>\n",
       "      <td>...</td>\n",
       "    </tr>\n",
       "    <tr>\n",
       "      <th>79</th>\n",
       "      <td>Служебные</td>\n",
       "      <td>79</td>\n",
       "    </tr>\n",
       "    <tr>\n",
       "      <th>80</th>\n",
       "      <td>Служебные - Билеты</td>\n",
       "      <td>80</td>\n",
       "    </tr>\n",
       "    <tr>\n",
       "      <th>81</th>\n",
       "      <td>Чистые носители (шпиль)</td>\n",
       "      <td>81</td>\n",
       "    </tr>\n",
       "    <tr>\n",
       "      <th>82</th>\n",
       "      <td>Чистые носители (штучные)</td>\n",
       "      <td>82</td>\n",
       "    </tr>\n",
       "    <tr>\n",
       "      <th>83</th>\n",
       "      <td>Элементы питания</td>\n",
       "      <td>83</td>\n",
       "    </tr>\n",
       "  </tbody>\n",
       "</table>\n",
       "<p>84 rows × 2 columns</p>\n",
       "</div>"
      ],
      "text/plain": [
       "           item_category_name  item_category_id\n",
       "0     PC - Гарнитуры/Наушники                 0\n",
       "1            Аксессуары - PS2                 1\n",
       "2            Аксессуары - PS3                 2\n",
       "3            Аксессуары - PS4                 3\n",
       "4            Аксессуары - PSP                 4\n",
       "..                        ...               ...\n",
       "79                  Служебные                79\n",
       "80         Служебные - Билеты                80\n",
       "81    Чистые носители (шпиль)                81\n",
       "82  Чистые носители (штучные)                82\n",
       "83           Элементы питания                83\n",
       "\n",
       "[84 rows x 2 columns]"
      ]
     },
     "execution_count": 6,
     "metadata": {},
     "output_type": "execute_result"
    }
   ],
   "source": [
    "item_cat_df"
   ]
  },
  {
   "cell_type": "code",
   "execution_count": 7,
   "id": "5fae0cf4",
   "metadata": {
    "execution": {
     "iopub.execute_input": "2024-09-15T11:58:42.759406Z",
     "iopub.status.busy": "2024-09-15T11:58:42.758703Z",
     "iopub.status.idle": "2024-09-15T11:58:42.768163Z",
     "shell.execute_reply": "2024-09-15T11:58:42.767287Z"
    },
    "papermill": {
     "duration": 0.044715,
     "end_time": "2024-09-15T11:58:42.770138",
     "exception": false,
     "start_time": "2024-09-15T11:58:42.725423",
     "status": "completed"
    },
    "tags": []
   },
   "outputs": [
    {
     "data": {
      "text/html": [
       "<div>\n",
       "<style scoped>\n",
       "    .dataframe tbody tr th:only-of-type {\n",
       "        vertical-align: middle;\n",
       "    }\n",
       "\n",
       "    .dataframe tbody tr th {\n",
       "        vertical-align: top;\n",
       "    }\n",
       "\n",
       "    .dataframe thead th {\n",
       "        text-align: right;\n",
       "    }\n",
       "</style>\n",
       "<table border=\"1\" class=\"dataframe\">\n",
       "  <thead>\n",
       "    <tr style=\"text-align: right;\">\n",
       "      <th></th>\n",
       "      <th>shop_name</th>\n",
       "      <th>shop_id</th>\n",
       "    </tr>\n",
       "  </thead>\n",
       "  <tbody>\n",
       "    <tr>\n",
       "      <th>0</th>\n",
       "      <td>!Якутск Орджоникидзе, 56 фран</td>\n",
       "      <td>0</td>\n",
       "    </tr>\n",
       "    <tr>\n",
       "      <th>1</th>\n",
       "      <td>!Якутск ТЦ \"Центральный\" фран</td>\n",
       "      <td>1</td>\n",
       "    </tr>\n",
       "    <tr>\n",
       "      <th>2</th>\n",
       "      <td>Адыгея ТЦ \"Мега\"</td>\n",
       "      <td>2</td>\n",
       "    </tr>\n",
       "    <tr>\n",
       "      <th>3</th>\n",
       "      <td>Балашиха ТРК \"Октябрь-Киномир\"</td>\n",
       "      <td>3</td>\n",
       "    </tr>\n",
       "    <tr>\n",
       "      <th>4</th>\n",
       "      <td>Волжский ТЦ \"Волга Молл\"</td>\n",
       "      <td>4</td>\n",
       "    </tr>\n",
       "  </tbody>\n",
       "</table>\n",
       "</div>"
      ],
      "text/plain": [
       "                        shop_name  shop_id\n",
       "0   !Якутск Орджоникидзе, 56 фран        0\n",
       "1   !Якутск ТЦ \"Центральный\" фран        1\n",
       "2                Адыгея ТЦ \"Мега\"        2\n",
       "3  Балашиха ТРК \"Октябрь-Киномир\"        3\n",
       "4        Волжский ТЦ \"Волга Молл\"        4"
      ]
     },
     "execution_count": 7,
     "metadata": {},
     "output_type": "execute_result"
    }
   ],
   "source": [
    "shops_df.head()"
   ]
  },
  {
   "cell_type": "code",
   "execution_count": 8,
   "id": "b062d98a",
   "metadata": {
    "execution": {
     "iopub.execute_input": "2024-09-15T11:58:42.834825Z",
     "iopub.status.busy": "2024-09-15T11:58:42.833786Z",
     "iopub.status.idle": "2024-09-15T11:58:43.288372Z",
     "shell.execute_reply": "2024-09-15T11:58:43.287525Z"
    },
    "papermill": {
     "duration": 0.488505,
     "end_time": "2024-09-15T11:58:43.290490",
     "exception": false,
     "start_time": "2024-09-15T11:58:42.801985",
     "status": "completed"
    },
    "tags": []
   },
   "outputs": [
    {
     "data": {
      "text/html": [
       "<div>\n",
       "<style scoped>\n",
       "    .dataframe tbody tr th:only-of-type {\n",
       "        vertical-align: middle;\n",
       "    }\n",
       "\n",
       "    .dataframe tbody tr th {\n",
       "        vertical-align: top;\n",
       "    }\n",
       "\n",
       "    .dataframe thead th {\n",
       "        text-align: right;\n",
       "    }\n",
       "</style>\n",
       "<table border=\"1\" class=\"dataframe\">\n",
       "  <thead>\n",
       "    <tr style=\"text-align: right;\">\n",
       "      <th></th>\n",
       "      <th>date_block_num</th>\n",
       "      <th>shop_id</th>\n",
       "      <th>item_id</th>\n",
       "      <th>item_price</th>\n",
       "      <th>item_cnt_day</th>\n",
       "    </tr>\n",
       "  </thead>\n",
       "  <tbody>\n",
       "    <tr>\n",
       "      <th>count</th>\n",
       "      <td>2.935849e+06</td>\n",
       "      <td>2.935849e+06</td>\n",
       "      <td>2.935849e+06</td>\n",
       "      <td>2.935849e+06</td>\n",
       "      <td>2.935849e+06</td>\n",
       "    </tr>\n",
       "    <tr>\n",
       "      <th>mean</th>\n",
       "      <td>1.456991e+01</td>\n",
       "      <td>3.300173e+01</td>\n",
       "      <td>1.019723e+04</td>\n",
       "      <td>8.908532e+02</td>\n",
       "      <td>1.242641e+00</td>\n",
       "    </tr>\n",
       "    <tr>\n",
       "      <th>std</th>\n",
       "      <td>9.422988e+00</td>\n",
       "      <td>1.622697e+01</td>\n",
       "      <td>6.324297e+03</td>\n",
       "      <td>1.729800e+03</td>\n",
       "      <td>2.618834e+00</td>\n",
       "    </tr>\n",
       "    <tr>\n",
       "      <th>min</th>\n",
       "      <td>0.000000e+00</td>\n",
       "      <td>0.000000e+00</td>\n",
       "      <td>0.000000e+00</td>\n",
       "      <td>-1.000000e+00</td>\n",
       "      <td>-2.200000e+01</td>\n",
       "    </tr>\n",
       "    <tr>\n",
       "      <th>25%</th>\n",
       "      <td>7.000000e+00</td>\n",
       "      <td>2.200000e+01</td>\n",
       "      <td>4.476000e+03</td>\n",
       "      <td>2.490000e+02</td>\n",
       "      <td>1.000000e+00</td>\n",
       "    </tr>\n",
       "    <tr>\n",
       "      <th>50%</th>\n",
       "      <td>1.400000e+01</td>\n",
       "      <td>3.100000e+01</td>\n",
       "      <td>9.343000e+03</td>\n",
       "      <td>3.990000e+02</td>\n",
       "      <td>1.000000e+00</td>\n",
       "    </tr>\n",
       "    <tr>\n",
       "      <th>75%</th>\n",
       "      <td>2.300000e+01</td>\n",
       "      <td>4.700000e+01</td>\n",
       "      <td>1.568400e+04</td>\n",
       "      <td>9.990000e+02</td>\n",
       "      <td>1.000000e+00</td>\n",
       "    </tr>\n",
       "    <tr>\n",
       "      <th>max</th>\n",
       "      <td>3.300000e+01</td>\n",
       "      <td>5.900000e+01</td>\n",
       "      <td>2.216900e+04</td>\n",
       "      <td>3.079800e+05</td>\n",
       "      <td>2.169000e+03</td>\n",
       "    </tr>\n",
       "  </tbody>\n",
       "</table>\n",
       "</div>"
      ],
      "text/plain": [
       "       date_block_num       shop_id       item_id    item_price  item_cnt_day\n",
       "count    2.935849e+06  2.935849e+06  2.935849e+06  2.935849e+06  2.935849e+06\n",
       "mean     1.456991e+01  3.300173e+01  1.019723e+04  8.908532e+02  1.242641e+00\n",
       "std      9.422988e+00  1.622697e+01  6.324297e+03  1.729800e+03  2.618834e+00\n",
       "min      0.000000e+00  0.000000e+00  0.000000e+00 -1.000000e+00 -2.200000e+01\n",
       "25%      7.000000e+00  2.200000e+01  4.476000e+03  2.490000e+02  1.000000e+00\n",
       "50%      1.400000e+01  3.100000e+01  9.343000e+03  3.990000e+02  1.000000e+00\n",
       "75%      2.300000e+01  4.700000e+01  1.568400e+04  9.990000e+02  1.000000e+00\n",
       "max      3.300000e+01  5.900000e+01  2.216900e+04  3.079800e+05  2.169000e+03"
      ]
     },
     "execution_count": 8,
     "metadata": {},
     "output_type": "execute_result"
    }
   ],
   "source": [
    "raw_df.describe()"
   ]
  },
  {
   "cell_type": "markdown",
   "id": "6782bf46",
   "metadata": {
    "papermill": {
     "duration": 0.030636,
     "end_time": "2024-09-15T11:58:43.352360",
     "exception": false,
     "start_time": "2024-09-15T11:58:43.321724",
     "status": "completed"
    },
    "tags": []
   },
   "source": [
    "## Data Cleaning"
   ]
  },
  {
   "cell_type": "markdown",
   "id": "7394651f",
   "metadata": {
    "papermill": {
     "duration": 0.031339,
     "end_time": "2024-09-15T11:58:43.415203",
     "exception": false,
     "start_time": "2024-09-15T11:58:43.383864",
     "status": "completed"
    },
    "tags": []
   },
   "source": [
    "### Remove outliers"
   ]
  },
  {
   "cell_type": "code",
   "execution_count": 9,
   "id": "33544370",
   "metadata": {
    "execution": {
     "iopub.execute_input": "2024-09-15T11:58:43.479502Z",
     "iopub.status.busy": "2024-09-15T11:58:43.479103Z",
     "iopub.status.idle": "2024-09-15T11:58:46.180003Z",
     "shell.execute_reply": "2024-09-15T11:58:46.179005Z"
    },
    "papermill": {
     "duration": 2.735835,
     "end_time": "2024-09-15T11:58:46.182397",
     "exception": false,
     "start_time": "2024-09-15T11:58:43.446562",
     "status": "completed"
    },
    "tags": []
   },
   "outputs": [
    {
     "data": {
      "text/plain": [
       "<Axes: xlabel='item_price'>"
      ]
     },
     "execution_count": 9,
     "metadata": {},
     "output_type": "execute_result"
    },
    {
     "data": {
      "image/png": "[encoded data removed]",
      "text/plain": [
       "<Figure size 1200x800 with 1 Axes>"
      ]
     },
     "metadata": {},
     "output_type": "display_data"
    },
    {
     "data": {
      "image/png": "[encoded data removed]",
      "text/plain": [
       "<Figure size 1200x800 with 1 Axes>"
      ]
     },
     "metadata": {},
     "output_type": "display_data"
    }
   ],
   "source": [
    "plt.figure(figsize=(12,8))\n",
    "plt.xlim(-100,3000)\n",
    "flierprops = dict(marker='o', markerfacecolor='purple', markersize=6,\n",
    "                  linestyle='none', markeredgecolor='black')\n",
    "sns.boxplot(x=raw_df['item_cnt_day'], flierprops=flierprops)\n",
    "\n",
    "plt.figure(figsize=(12,8))\n",
    "plt.xlim(-50,4e5)\n",
    "sns.boxplot(x=raw_df['item_price'], flierprops=flierprops)"
   ]
  },
  {
   "cell_type": "markdown",
   "id": "5c62967a",
   "metadata": {
    "papermill": {
     "duration": 0.031624,
     "end_time": "2024-09-15T11:58:46.283813",
     "exception": false,
     "start_time": "2024-09-15T11:58:46.252189",
     "status": "completed"
    },
    "tags": []
   },
   "source": [
    "So we remove row has `item_price>=300000` or `item_cnt_day>=1000`"
   ]
  },
  {
   "cell_type": "code",
   "execution_count": 10,
   "id": "c0f3b4e5",
   "metadata": {
    "execution": {
     "iopub.execute_input": "2024-09-15T11:58:46.349882Z",
     "iopub.status.busy": "2024-09-15T11:58:46.348973Z",
     "iopub.status.idle": "2024-09-15T11:58:46.479144Z",
     "shell.execute_reply": "2024-09-15T11:58:46.478196Z"
    },
    "papermill": {
     "duration": 0.165643,
     "end_time": "2024-09-15T11:58:46.481581",
     "exception": false,
     "start_time": "2024-09-15T11:58:46.315938",
     "status": "completed"
    },
    "tags": []
   },
   "outputs": [],
   "source": [
    "raw_df = raw_df[(raw_df['item_price']<300000)&(raw_df['item_cnt_day']<1000)]"
   ]
  },
  {
   "cell_type": "markdown",
   "id": "b89892dc",
   "metadata": {
    "papermill": {
     "duration": 0.031801,
     "end_time": "2024-09-15T11:58:46.546124",
     "exception": false,
     "start_time": "2024-09-15T11:58:46.514323",
     "status": "completed"
    },
    "tags": []
   },
   "source": [
    "And we remove the negative values of `item_price` and make zeros with negative values of `item_cnt_day`."
   ]
  },
  {
   "cell_type": "code",
   "execution_count": 11,
   "id": "e85f3547",
   "metadata": {
    "execution": {
     "iopub.execute_input": "2024-09-15T11:58:46.611393Z",
     "iopub.status.busy": "2024-09-15T11:58:46.611051Z",
     "iopub.status.idle": "2024-09-15T11:58:48.069192Z",
     "shell.execute_reply": "2024-09-15T11:58:48.068133Z"
    },
    "papermill": {
     "duration": 1.493644,
     "end_time": "2024-09-15T11:58:48.071581",
     "exception": false,
     "start_time": "2024-09-15T11:58:46.577937",
     "status": "completed"
    },
    "tags": []
   },
   "outputs": [],
   "source": [
    "raw_df = raw_df[raw_df['item_price']>0].reset_index(drop=True)\n",
    "raw_df['item_cnt_day'] = raw_df['item_cnt_day'].apply(lambda x: 0 if x<1 else x)"
   ]
  },
  {
   "cell_type": "markdown",
   "id": "0fe2b6ff",
   "metadata": {
    "papermill": {
     "duration": 0.031712,
     "end_time": "2024-09-15T11:58:48.135828",
     "exception": false,
     "start_time": "2024-09-15T11:58:48.104116",
     "status": "completed"
    },
    "tags": []
   },
   "source": [
    "### Cleaning Shop Data"
   ]
  },
  {
   "cell_type": "code",
   "execution_count": 12,
   "id": "dda61109",
   "metadata": {
    "execution": {
     "iopub.execute_input": "2024-09-15T11:58:48.202809Z",
     "iopub.status.busy": "2024-09-15T11:58:48.202410Z",
     "iopub.status.idle": "2024-09-15T11:58:48.216078Z",
     "shell.execute_reply": "2024-09-15T11:58:48.215187Z"
    },
    "papermill": {
     "duration": 0.04989,
     "end_time": "2024-09-15T11:58:48.218845",
     "exception": false,
     "start_time": "2024-09-15T11:58:48.168955",
     "status": "completed"
    },
    "tags": []
   },
   "outputs": [
    {
     "data": {
      "text/html": [
       "<div>\n",
       "<style scoped>\n",
       "    .dataframe tbody tr th:only-of-type {\n",
       "        vertical-align: middle;\n",
       "    }\n",
       "\n",
       "    .dataframe tbody tr th {\n",
       "        vertical-align: top;\n",
       "    }\n",
       "\n",
       "    .dataframe thead th {\n",
       "        text-align: right;\n",
       "    }\n",
       "</style>\n",
       "<table border=\"1\" class=\"dataframe\">\n",
       "  <thead>\n",
       "    <tr style=\"text-align: right;\">\n",
       "      <th></th>\n",
       "      <th>shop_name</th>\n",
       "      <th>shop_id</th>\n",
       "    </tr>\n",
       "  </thead>\n",
       "  <tbody>\n",
       "    <tr>\n",
       "      <th>0</th>\n",
       "      <td>!Якутск Орджоникидзе, 56 фран</td>\n",
       "      <td>0</td>\n",
       "    </tr>\n",
       "    <tr>\n",
       "      <th>1</th>\n",
       "      <td>!Якутск ТЦ \"Центральный\" фран</td>\n",
       "      <td>1</td>\n",
       "    </tr>\n",
       "    <tr>\n",
       "      <th>2</th>\n",
       "      <td>Адыгея ТЦ \"Мега\"</td>\n",
       "      <td>2</td>\n",
       "    </tr>\n",
       "    <tr>\n",
       "      <th>3</th>\n",
       "      <td>Балашиха ТРК \"Октябрь-Киномир\"</td>\n",
       "      <td>3</td>\n",
       "    </tr>\n",
       "    <tr>\n",
       "      <th>4</th>\n",
       "      <td>Волжский ТЦ \"Волга Молл\"</td>\n",
       "      <td>4</td>\n",
       "    </tr>\n",
       "    <tr>\n",
       "      <th>5</th>\n",
       "      <td>Вологда ТРЦ \"Мармелад\"</td>\n",
       "      <td>5</td>\n",
       "    </tr>\n",
       "    <tr>\n",
       "      <th>6</th>\n",
       "      <td>Воронеж (Плехановская, 13)</td>\n",
       "      <td>6</td>\n",
       "    </tr>\n",
       "    <tr>\n",
       "      <th>7</th>\n",
       "      <td>Воронеж ТРЦ \"Максимир\"</td>\n",
       "      <td>7</td>\n",
       "    </tr>\n",
       "    <tr>\n",
       "      <th>8</th>\n",
       "      <td>Воронеж ТРЦ Сити-Парк \"Град\"</td>\n",
       "      <td>8</td>\n",
       "    </tr>\n",
       "    <tr>\n",
       "      <th>9</th>\n",
       "      <td>Выездная Торговля</td>\n",
       "      <td>9</td>\n",
       "    </tr>\n",
       "    <tr>\n",
       "      <th>10</th>\n",
       "      <td>Жуковский ул. Чкалова 39м?</td>\n",
       "      <td>10</td>\n",
       "    </tr>\n",
       "    <tr>\n",
       "      <th>11</th>\n",
       "      <td>Жуковский ул. Чкалова 39м²</td>\n",
       "      <td>11</td>\n",
       "    </tr>\n",
       "    <tr>\n",
       "      <th>12</th>\n",
       "      <td>Интернет-магазин ЧС</td>\n",
       "      <td>12</td>\n",
       "    </tr>\n",
       "    <tr>\n",
       "      <th>13</th>\n",
       "      <td>Казань ТЦ \"Бехетле\"</td>\n",
       "      <td>13</td>\n",
       "    </tr>\n",
       "    <tr>\n",
       "      <th>14</th>\n",
       "      <td>Казань ТЦ \"ПаркХаус\" II</td>\n",
       "      <td>14</td>\n",
       "    </tr>\n",
       "    <tr>\n",
       "      <th>15</th>\n",
       "      <td>Калуга ТРЦ \"XXI век\"</td>\n",
       "      <td>15</td>\n",
       "    </tr>\n",
       "    <tr>\n",
       "      <th>16</th>\n",
       "      <td>Коломна ТЦ \"Рио\"</td>\n",
       "      <td>16</td>\n",
       "    </tr>\n",
       "    <tr>\n",
       "      <th>17</th>\n",
       "      <td>Красноярск ТЦ \"Взлетка Плаза\"</td>\n",
       "      <td>17</td>\n",
       "    </tr>\n",
       "    <tr>\n",
       "      <th>18</th>\n",
       "      <td>Красноярск ТЦ \"Июнь\"</td>\n",
       "      <td>18</td>\n",
       "    </tr>\n",
       "    <tr>\n",
       "      <th>19</th>\n",
       "      <td>Курск ТЦ \"Пушкинский\"</td>\n",
       "      <td>19</td>\n",
       "    </tr>\n",
       "    <tr>\n",
       "      <th>20</th>\n",
       "      <td>Москва \"Распродажа\"</td>\n",
       "      <td>20</td>\n",
       "    </tr>\n",
       "    <tr>\n",
       "      <th>21</th>\n",
       "      <td>Москва МТРЦ \"Афи Молл\"</td>\n",
       "      <td>21</td>\n",
       "    </tr>\n",
       "    <tr>\n",
       "      <th>22</th>\n",
       "      <td>Москва Магазин С21</td>\n",
       "      <td>22</td>\n",
       "    </tr>\n",
       "    <tr>\n",
       "      <th>23</th>\n",
       "      <td>Москва ТК \"Буденовский\" (пав.А2)</td>\n",
       "      <td>23</td>\n",
       "    </tr>\n",
       "    <tr>\n",
       "      <th>24</th>\n",
       "      <td>Москва ТК \"Буденовский\" (пав.К7)</td>\n",
       "      <td>24</td>\n",
       "    </tr>\n",
       "    <tr>\n",
       "      <th>25</th>\n",
       "      <td>Москва ТРК \"Атриум\"</td>\n",
       "      <td>25</td>\n",
       "    </tr>\n",
       "    <tr>\n",
       "      <th>26</th>\n",
       "      <td>Москва ТЦ \"Ареал\" (Беляево)</td>\n",
       "      <td>26</td>\n",
       "    </tr>\n",
       "    <tr>\n",
       "      <th>27</th>\n",
       "      <td>Москва ТЦ \"МЕГА Белая Дача II\"</td>\n",
       "      <td>27</td>\n",
       "    </tr>\n",
       "    <tr>\n",
       "      <th>28</th>\n",
       "      <td>Москва ТЦ \"МЕГА Теплый Стан\" II</td>\n",
       "      <td>28</td>\n",
       "    </tr>\n",
       "    <tr>\n",
       "      <th>29</th>\n",
       "      <td>Москва ТЦ \"Новый век\" (Новокосино)</td>\n",
       "      <td>29</td>\n",
       "    </tr>\n",
       "    <tr>\n",
       "      <th>30</th>\n",
       "      <td>Москва ТЦ \"Перловский\"</td>\n",
       "      <td>30</td>\n",
       "    </tr>\n",
       "    <tr>\n",
       "      <th>31</th>\n",
       "      <td>Москва ТЦ \"Семеновский\"</td>\n",
       "      <td>31</td>\n",
       "    </tr>\n",
       "    <tr>\n",
       "      <th>32</th>\n",
       "      <td>Москва ТЦ \"Серебряный Дом\"</td>\n",
       "      <td>32</td>\n",
       "    </tr>\n",
       "    <tr>\n",
       "      <th>33</th>\n",
       "      <td>Мытищи ТРК \"XL-3\"</td>\n",
       "      <td>33</td>\n",
       "    </tr>\n",
       "    <tr>\n",
       "      <th>34</th>\n",
       "      <td>Н.Новгород ТРЦ \"РИО\"</td>\n",
       "      <td>34</td>\n",
       "    </tr>\n",
       "    <tr>\n",
       "      <th>35</th>\n",
       "      <td>Н.Новгород ТРЦ \"Фантастика\"</td>\n",
       "      <td>35</td>\n",
       "    </tr>\n",
       "    <tr>\n",
       "      <th>36</th>\n",
       "      <td>Новосибирск ТРЦ \"Галерея Новосибирск\"</td>\n",
       "      <td>36</td>\n",
       "    </tr>\n",
       "    <tr>\n",
       "      <th>37</th>\n",
       "      <td>Новосибирск ТЦ \"Мега\"</td>\n",
       "      <td>37</td>\n",
       "    </tr>\n",
       "    <tr>\n",
       "      <th>38</th>\n",
       "      <td>Омск ТЦ \"Мега\"</td>\n",
       "      <td>38</td>\n",
       "    </tr>\n",
       "    <tr>\n",
       "      <th>39</th>\n",
       "      <td>РостовНаДону ТРК \"Мегацентр Горизонт\"</td>\n",
       "      <td>39</td>\n",
       "    </tr>\n",
       "    <tr>\n",
       "      <th>40</th>\n",
       "      <td>РостовНаДону ТРК \"Мегацентр Горизонт\" Островной</td>\n",
       "      <td>40</td>\n",
       "    </tr>\n",
       "    <tr>\n",
       "      <th>41</th>\n",
       "      <td>РостовНаДону ТЦ \"Мега\"</td>\n",
       "      <td>41</td>\n",
       "    </tr>\n",
       "    <tr>\n",
       "      <th>42</th>\n",
       "      <td>СПб ТК \"Невский Центр\"</td>\n",
       "      <td>42</td>\n",
       "    </tr>\n",
       "    <tr>\n",
       "      <th>43</th>\n",
       "      <td>СПб ТК \"Сенная\"</td>\n",
       "      <td>43</td>\n",
       "    </tr>\n",
       "    <tr>\n",
       "      <th>44</th>\n",
       "      <td>Самара ТЦ \"Мелодия\"</td>\n",
       "      <td>44</td>\n",
       "    </tr>\n",
       "    <tr>\n",
       "      <th>45</th>\n",
       "      <td>Самара ТЦ \"ПаркХаус\"</td>\n",
       "      <td>45</td>\n",
       "    </tr>\n",
       "    <tr>\n",
       "      <th>46</th>\n",
       "      <td>Сергиев Посад ТЦ \"7Я\"</td>\n",
       "      <td>46</td>\n",
       "    </tr>\n",
       "    <tr>\n",
       "      <th>47</th>\n",
       "      <td>Сургут ТРЦ \"Сити Молл\"</td>\n",
       "      <td>47</td>\n",
       "    </tr>\n",
       "    <tr>\n",
       "      <th>48</th>\n",
       "      <td>Томск ТРЦ \"Изумрудный Город\"</td>\n",
       "      <td>48</td>\n",
       "    </tr>\n",
       "    <tr>\n",
       "      <th>49</th>\n",
       "      <td>Тюмень ТРЦ \"Кристалл\"</td>\n",
       "      <td>49</td>\n",
       "    </tr>\n",
       "    <tr>\n",
       "      <th>50</th>\n",
       "      <td>Тюмень ТЦ \"Гудвин\"</td>\n",
       "      <td>50</td>\n",
       "    </tr>\n",
       "    <tr>\n",
       "      <th>51</th>\n",
       "      <td>Тюмень ТЦ \"Зеленый Берег\"</td>\n",
       "      <td>51</td>\n",
       "    </tr>\n",
       "    <tr>\n",
       "      <th>52</th>\n",
       "      <td>Уфа ТК \"Центральный\"</td>\n",
       "      <td>52</td>\n",
       "    </tr>\n",
       "    <tr>\n",
       "      <th>53</th>\n",
       "      <td>Уфа ТЦ \"Семья\" 2</td>\n",
       "      <td>53</td>\n",
       "    </tr>\n",
       "    <tr>\n",
       "      <th>54</th>\n",
       "      <td>Химки ТЦ \"Мега\"</td>\n",
       "      <td>54</td>\n",
       "    </tr>\n",
       "    <tr>\n",
       "      <th>55</th>\n",
       "      <td>Цифровой склад 1С-Онлайн</td>\n",
       "      <td>55</td>\n",
       "    </tr>\n",
       "    <tr>\n",
       "      <th>56</th>\n",
       "      <td>Чехов ТРЦ \"Карнавал\"</td>\n",
       "      <td>56</td>\n",
       "    </tr>\n",
       "    <tr>\n",
       "      <th>57</th>\n",
       "      <td>Якутск Орджоникидзе, 56</td>\n",
       "      <td>57</td>\n",
       "    </tr>\n",
       "    <tr>\n",
       "      <th>58</th>\n",
       "      <td>Якутск ТЦ \"Центральный\"</td>\n",
       "      <td>58</td>\n",
       "    </tr>\n",
       "    <tr>\n",
       "      <th>59</th>\n",
       "      <td>Ярославль ТЦ \"Альтаир\"</td>\n",
       "      <td>59</td>\n",
       "    </tr>\n",
       "  </tbody>\n",
       "</table>\n",
       "</div>"
      ],
      "text/plain": [
       "                                          shop_name  shop_id\n",
       "0                     !Якутск Орджоникидзе, 56 фран        0\n",
       "1                     !Якутск ТЦ \"Центральный\" фран        1\n",
       "2                                  Адыгея ТЦ \"Мега\"        2\n",
       "3                    Балашиха ТРК \"Октябрь-Киномир\"        3\n",
       "4                          Волжский ТЦ \"Волга Молл\"        4\n",
       "5                            Вологда ТРЦ \"Мармелад\"        5\n",
       "6                        Воронеж (Плехановская, 13)        6\n",
       "7                            Воронеж ТРЦ \"Максимир\"        7\n",
       "8                      Воронеж ТРЦ Сити-Парк \"Град\"        8\n",
       "9                                 Выездная Торговля        9\n",
       "10                       Жуковский ул. Чкалова 39м?       10\n",
       "11                       Жуковский ул. Чкалова 39м²       11\n",
       "12                              Интернет-магазин ЧС       12\n",
       "13                              Казань ТЦ \"Бехетле\"       13\n",
       "14                          Казань ТЦ \"ПаркХаус\" II       14\n",
       "15                             Калуга ТРЦ \"XXI век\"       15\n",
       "16                                 Коломна ТЦ \"Рио\"       16\n",
       "17                    Красноярск ТЦ \"Взлетка Плаза\"       17\n",
       "18                             Красноярск ТЦ \"Июнь\"       18\n",
       "19                            Курск ТЦ \"Пушкинский\"       19\n",
       "20                              Москва \"Распродажа\"       20\n",
       "21                           Москва МТРЦ \"Афи Молл\"       21\n",
       "22                               Москва Магазин С21       22\n",
       "23                 Москва ТК \"Буденовский\" (пав.А2)       23\n",
       "24                 Москва ТК \"Буденовский\" (пав.К7)       24\n",
       "25                              Москва ТРК \"Атриум\"       25\n",
       "26                      Москва ТЦ \"Ареал\" (Беляево)       26\n",
       "27                   Москва ТЦ \"МЕГА Белая Дача II\"       27\n",
       "28                  Москва ТЦ \"МЕГА Теплый Стан\" II       28\n",
       "29               Москва ТЦ \"Новый век\" (Новокосино)       29\n",
       "30                           Москва ТЦ \"Перловский\"       30\n",
       "31                          Москва ТЦ \"Семеновский\"       31\n",
       "32                       Москва ТЦ \"Серебряный Дом\"       32\n",
       "33                                Мытищи ТРК \"XL-3\"       33\n",
       "34                             Н.Новгород ТРЦ \"РИО\"       34\n",
       "35                      Н.Новгород ТРЦ \"Фантастика\"       35\n",
       "36            Новосибирск ТРЦ \"Галерея Новосибирск\"       36\n",
       "37                            Новосибирск ТЦ \"Мега\"       37\n",
       "38                                   Омск ТЦ \"Мега\"       38\n",
       "39            РостовНаДону ТРК \"Мегацентр Горизонт\"       39\n",
       "40  РостовНаДону ТРК \"Мегацентр Горизонт\" Островной       40\n",
       "41                           РостовНаДону ТЦ \"Мега\"       41\n",
       "42                           СПб ТК \"Невский Центр\"       42\n",
       "43                                  СПб ТК \"Сенная\"       43\n",
       "44                              Самара ТЦ \"Мелодия\"       44\n",
       "45                             Самара ТЦ \"ПаркХаус\"       45\n",
       "46                            Сергиев Посад ТЦ \"7Я\"       46\n",
       "47                           Сургут ТРЦ \"Сити Молл\"       47\n",
       "48                     Томск ТРЦ \"Изумрудный Город\"       48\n",
       "49                            Тюмень ТРЦ \"Кристалл\"       49\n",
       "50                               Тюмень ТЦ \"Гудвин\"       50\n",
       "51                        Тюмень ТЦ \"Зеленый Берег\"       51\n",
       "52                             Уфа ТК \"Центральный\"       52\n",
       "53                                 Уфа ТЦ \"Семья\" 2       53\n",
       "54                                  Химки ТЦ \"Мега\"       54\n",
       "55                         Цифровой склад 1С-Онлайн       55\n",
       "56                             Чехов ТРЦ \"Карнавал\"       56\n",
       "57                          Якутск Орджоникидзе, 56       57\n",
       "58                          Якутск ТЦ \"Центральный\"       58\n",
       "59                           Ярославль ТЦ \"Альтаир\"       59"
      ]
     },
     "execution_count": 12,
     "metadata": {},
     "output_type": "execute_result"
    }
   ],
   "source": [
    "shops_df"
   ]
  },
  {
   "cell_type": "markdown",
   "id": "f8c623b3",
   "metadata": {
    "papermill": {
     "duration": 0.032396,
     "end_time": "2024-09-15T11:58:48.284610",
     "exception": false,
     "start_time": "2024-09-15T11:58:48.252214",
     "status": "completed"
    },
    "tags": []
   },
   "source": [
    "Several of shops look like duplicates of each other. This could be down to shops re-opening or possibly moving store location on the same street or shopping centre."
   ]
  },
  {
   "cell_type": "code",
   "execution_count": 13,
   "id": "22d3fa01",
   "metadata": {
    "execution": {
     "iopub.execute_input": "2024-09-15T11:58:48.351380Z",
     "iopub.status.busy": "2024-09-15T11:58:48.350976Z",
     "iopub.status.idle": "2024-09-15T11:58:50.949310Z",
     "shell.execute_reply": "2024-09-15T11:58:50.948367Z"
    },
    "papermill": {
     "duration": 2.634524,
     "end_time": "2024-09-15T11:58:50.951658",
     "exception": false,
     "start_time": "2024-09-15T11:58:48.317134",
     "status": "completed"
    },
    "tags": []
   },
   "outputs": [],
   "source": [
    "def drop_duplicate_shop(x):\n",
    "    if x==0:\n",
    "        return 57 # Якутск Орджоникидзе, 56 (0 and 57)\n",
    "    if x==1:\n",
    "        return 58 # Якутск ТЦ \"Центральный\"\t(1 and 58)\n",
    "    if x==10:\n",
    "        return 11 # Жуковский ул. Чкалова 39м² (10 and 11)\n",
    "    return x\n",
    "\n",
    "for df in [raw_df, test_df]:\n",
    "    df['shop_id'] = df['shop_id'].apply(lambda x: drop_duplicate_shop(x))"
   ]
  },
  {
   "cell_type": "markdown",
   "id": "bb662aa7",
   "metadata": {
    "papermill": {
     "duration": 0.03192,
     "end_time": "2024-09-15T11:58:51.017309",
     "exception": false,
     "start_time": "2024-09-15T11:58:50.985389",
     "status": "completed"
    },
    "tags": []
   },
   "source": [
    "The first part and second part of `shop_name`, which are separated by `' '`, look like city and category of shops. We can split `shop_name` like this."
   ]
  },
  {
   "cell_type": "code",
   "execution_count": 14,
   "id": "d6f16f2b",
   "metadata": {
    "execution": {
     "iopub.execute_input": "2024-09-15T11:58:51.083757Z",
     "iopub.status.busy": "2024-09-15T11:58:51.083378Z",
     "iopub.status.idle": "2024-09-15T11:58:51.088898Z",
     "shell.execute_reply": "2024-09-15T11:58:51.088002Z"
    },
    "papermill": {
     "duration": 0.041081,
     "end_time": "2024-09-15T11:58:51.090847",
     "exception": false,
     "start_time": "2024-09-15T11:58:51.049766",
     "status": "completed"
    },
    "tags": []
   },
   "outputs": [],
   "source": [
    "# First replace a shop name to more reasonable form.\n",
    "shops_df['shop_name'] = shops_df['shop_name'].apply(lambda x: 'СергиевПосад ТЦ \"7Я\"' \n",
    "                                                    if x=='Сергиев Посад ТЦ \"7Я\"' else x)"
   ]
  },
  {
   "cell_type": "code",
   "execution_count": 15,
   "id": "56133349",
   "metadata": {
    "execution": {
     "iopub.execute_input": "2024-09-15T11:58:51.159164Z",
     "iopub.status.busy": "2024-09-15T11:58:51.158159Z",
     "iopub.status.idle": "2024-09-15T11:58:51.166340Z",
     "shell.execute_reply": "2024-09-15T11:58:51.165600Z"
    },
    "papermill": {
     "duration": 0.04515,
     "end_time": "2024-09-15T11:58:51.168759",
     "exception": false,
     "start_time": "2024-09-15T11:58:51.123609",
     "status": "completed"
    },
    "tags": []
   },
   "outputs": [],
   "source": [
    "shops_df['shop_city'] = shops_df['shop_name'].apply(lambda x: str(x).split(' ')[0])\n",
    "shops_df['shop_category'] = shops_df['shop_name'].apply(lambda x: str(x).split(' ')[1])\n",
    "# And simple a city\n",
    "shops_df['shop_city'] = shops_df['shop_city'].apply(lambda x: 'Якутск' if x=='!Якутск' else x)"
   ]
  },
  {
   "cell_type": "markdown",
   "id": "abda6032",
   "metadata": {
    "papermill": {
     "duration": 0.031843,
     "end_time": "2024-09-15T11:58:51.234466",
     "exception": false,
     "start_time": "2024-09-15T11:58:51.202623",
     "status": "completed"
    },
    "tags": []
   },
   "source": [
    "We keep category where appear at least 5 times."
   ]
  },
  {
   "cell_type": "code",
   "execution_count": 16,
   "id": "47d4e07c",
   "metadata": {
    "execution": {
     "iopub.execute_input": "2024-09-15T11:58:51.300800Z",
     "iopub.status.busy": "2024-09-15T11:58:51.300469Z",
     "iopub.status.idle": "2024-09-15T11:58:51.309603Z",
     "shell.execute_reply": "2024-09-15T11:58:51.308709Z"
    },
    "papermill": {
     "duration": 0.044704,
     "end_time": "2024-09-15T11:58:51.311480",
     "exception": false,
     "start_time": "2024-09-15T11:58:51.266776",
     "status": "completed"
    },
    "tags": []
   },
   "outputs": [],
   "source": [
    "shop_cats = shops_df['shop_category'].value_counts()\n",
    "shop_cats = shop_cats[shop_cats>=5]\n",
    "shop_cats_idx = shop_cats.index.tolist()\n",
    "shops_df['shop_category'] = shops_df['shop_category'].apply(lambda x: x if x in shop_cats_idx else 'rem')"
   ]
  },
  {
   "cell_type": "code",
   "execution_count": 17,
   "id": "1cdef9d1",
   "metadata": {
    "execution": {
     "iopub.execute_input": "2024-09-15T11:58:51.377503Z",
     "iopub.status.busy": "2024-09-15T11:58:51.377184Z",
     "iopub.status.idle": "2024-09-15T11:58:51.384034Z",
     "shell.execute_reply": "2024-09-15T11:58:51.383296Z"
    },
    "papermill": {
     "duration": 0.042043,
     "end_time": "2024-09-15T11:58:51.386190",
     "exception": false,
     "start_time": "2024-09-15T11:58:51.344147",
     "status": "completed"
    },
    "tags": []
   },
   "outputs": [],
   "source": [
    "encoder = OrdinalEncoder()\n",
    "shops_df[['shop_city','shop_category']] = encoder.fit_transform(shops_df[['shop_city','shop_category']])"
   ]
  },
  {
   "cell_type": "code",
   "execution_count": 18,
   "id": "84d8727e",
   "metadata": {
    "execution": {
     "iopub.execute_input": "2024-09-15T11:58:51.451782Z",
     "iopub.status.busy": "2024-09-15T11:58:51.451490Z",
     "iopub.status.idle": "2024-09-15T11:58:51.456673Z",
     "shell.execute_reply": "2024-09-15T11:58:51.455811Z"
    },
    "papermill": {
     "duration": 0.040034,
     "end_time": "2024-09-15T11:58:51.458491",
     "exception": false,
     "start_time": "2024-09-15T11:58:51.418457",
     "status": "completed"
    },
    "tags": []
   },
   "outputs": [],
   "source": [
    "shops_df = shops_df[['shop_id','shop_city','shop_category']]"
   ]
  },
  {
   "cell_type": "markdown",
   "id": "4777df4a",
   "metadata": {
    "papermill": {
     "duration": 0.031857,
     "end_time": "2024-09-15T11:58:51.522964",
     "exception": false,
     "start_time": "2024-09-15T11:58:51.491107",
     "status": "completed"
    },
    "tags": []
   },
   "source": [
    "### Cleaning Item Category Data"
   ]
  },
  {
   "cell_type": "code",
   "execution_count": 19,
   "id": "30b7630c",
   "metadata": {
    "execution": {
     "iopub.execute_input": "2024-09-15T11:58:51.588474Z",
     "iopub.status.busy": "2024-09-15T11:58:51.588140Z",
     "iopub.status.idle": "2024-09-15T11:58:51.600265Z",
     "shell.execute_reply": "2024-09-15T11:58:51.599403Z"
    },
    "papermill": {
     "duration": 0.046974,
     "end_time": "2024-09-15T11:58:51.602259",
     "exception": false,
     "start_time": "2024-09-15T11:58:51.555285",
     "status": "completed"
    },
    "tags": []
   },
   "outputs": [
    {
     "data": {
      "text/html": [
       "<div>\n",
       "<style scoped>\n",
       "    .dataframe tbody tr th:only-of-type {\n",
       "        vertical-align: middle;\n",
       "    }\n",
       "\n",
       "    .dataframe tbody tr th {\n",
       "        vertical-align: top;\n",
       "    }\n",
       "\n",
       "    .dataframe thead th {\n",
       "        text-align: right;\n",
       "    }\n",
       "</style>\n",
       "<table border=\"1\" class=\"dataframe\">\n",
       "  <thead>\n",
       "    <tr style=\"text-align: right;\">\n",
       "      <th></th>\n",
       "      <th>item_category_name</th>\n",
       "      <th>item_category_id</th>\n",
       "    </tr>\n",
       "  </thead>\n",
       "  <tbody>\n",
       "    <tr>\n",
       "      <th>0</th>\n",
       "      <td>PC - Гарнитуры/Наушники</td>\n",
       "      <td>0</td>\n",
       "    </tr>\n",
       "    <tr>\n",
       "      <th>1</th>\n",
       "      <td>Аксессуары - PS2</td>\n",
       "      <td>1</td>\n",
       "    </tr>\n",
       "    <tr>\n",
       "      <th>2</th>\n",
       "      <td>Аксессуары - PS3</td>\n",
       "      <td>2</td>\n",
       "    </tr>\n",
       "    <tr>\n",
       "      <th>3</th>\n",
       "      <td>Аксессуары - PS4</td>\n",
       "      <td>3</td>\n",
       "    </tr>\n",
       "    <tr>\n",
       "      <th>4</th>\n",
       "      <td>Аксессуары - PSP</td>\n",
       "      <td>4</td>\n",
       "    </tr>\n",
       "    <tr>\n",
       "      <th>5</th>\n",
       "      <td>Аксессуары - PSVita</td>\n",
       "      <td>5</td>\n",
       "    </tr>\n",
       "    <tr>\n",
       "      <th>6</th>\n",
       "      <td>Аксессуары - XBOX 360</td>\n",
       "      <td>6</td>\n",
       "    </tr>\n",
       "    <tr>\n",
       "      <th>7</th>\n",
       "      <td>Аксессуары - XBOX ONE</td>\n",
       "      <td>7</td>\n",
       "    </tr>\n",
       "    <tr>\n",
       "      <th>8</th>\n",
       "      <td>Билеты (Цифра)</td>\n",
       "      <td>8</td>\n",
       "    </tr>\n",
       "    <tr>\n",
       "      <th>9</th>\n",
       "      <td>Доставка товара</td>\n",
       "      <td>9</td>\n",
       "    </tr>\n",
       "    <tr>\n",
       "      <th>10</th>\n",
       "      <td>Игровые консоли - PS2</td>\n",
       "      <td>10</td>\n",
       "    </tr>\n",
       "    <tr>\n",
       "      <th>11</th>\n",
       "      <td>Игровые консоли - PS3</td>\n",
       "      <td>11</td>\n",
       "    </tr>\n",
       "    <tr>\n",
       "      <th>12</th>\n",
       "      <td>Игровые консоли - PS4</td>\n",
       "      <td>12</td>\n",
       "    </tr>\n",
       "    <tr>\n",
       "      <th>13</th>\n",
       "      <td>Игровые консоли - PSP</td>\n",
       "      <td>13</td>\n",
       "    </tr>\n",
       "    <tr>\n",
       "      <th>14</th>\n",
       "      <td>Игровые консоли - PSVita</td>\n",
       "      <td>14</td>\n",
       "    </tr>\n",
       "    <tr>\n",
       "      <th>15</th>\n",
       "      <td>Игровые консоли - XBOX 360</td>\n",
       "      <td>15</td>\n",
       "    </tr>\n",
       "    <tr>\n",
       "      <th>16</th>\n",
       "      <td>Игровые консоли - XBOX ONE</td>\n",
       "      <td>16</td>\n",
       "    </tr>\n",
       "    <tr>\n",
       "      <th>17</th>\n",
       "      <td>Игровые консоли - Прочие</td>\n",
       "      <td>17</td>\n",
       "    </tr>\n",
       "    <tr>\n",
       "      <th>18</th>\n",
       "      <td>Игры - PS2</td>\n",
       "      <td>18</td>\n",
       "    </tr>\n",
       "    <tr>\n",
       "      <th>19</th>\n",
       "      <td>Игры - PS3</td>\n",
       "      <td>19</td>\n",
       "    </tr>\n",
       "    <tr>\n",
       "      <th>20</th>\n",
       "      <td>Игры - PS4</td>\n",
       "      <td>20</td>\n",
       "    </tr>\n",
       "    <tr>\n",
       "      <th>21</th>\n",
       "      <td>Игры - PSP</td>\n",
       "      <td>21</td>\n",
       "    </tr>\n",
       "    <tr>\n",
       "      <th>22</th>\n",
       "      <td>Игры - PSVita</td>\n",
       "      <td>22</td>\n",
       "    </tr>\n",
       "    <tr>\n",
       "      <th>23</th>\n",
       "      <td>Игры - XBOX 360</td>\n",
       "      <td>23</td>\n",
       "    </tr>\n",
       "    <tr>\n",
       "      <th>24</th>\n",
       "      <td>Игры - XBOX ONE</td>\n",
       "      <td>24</td>\n",
       "    </tr>\n",
       "    <tr>\n",
       "      <th>25</th>\n",
       "      <td>Игры - Аксессуары для игр</td>\n",
       "      <td>25</td>\n",
       "    </tr>\n",
       "    <tr>\n",
       "      <th>26</th>\n",
       "      <td>Игры Android - Цифра</td>\n",
       "      <td>26</td>\n",
       "    </tr>\n",
       "    <tr>\n",
       "      <th>27</th>\n",
       "      <td>Игры MAC - Цифра</td>\n",
       "      <td>27</td>\n",
       "    </tr>\n",
       "    <tr>\n",
       "      <th>28</th>\n",
       "      <td>Игры PC - Дополнительные издания</td>\n",
       "      <td>28</td>\n",
       "    </tr>\n",
       "    <tr>\n",
       "      <th>29</th>\n",
       "      <td>Игры PC - Коллекционные издания</td>\n",
       "      <td>29</td>\n",
       "    </tr>\n",
       "    <tr>\n",
       "      <th>30</th>\n",
       "      <td>Игры PC - Стандартные издания</td>\n",
       "      <td>30</td>\n",
       "    </tr>\n",
       "    <tr>\n",
       "      <th>31</th>\n",
       "      <td>Игры PC - Цифра</td>\n",
       "      <td>31</td>\n",
       "    </tr>\n",
       "    <tr>\n",
       "      <th>32</th>\n",
       "      <td>Карты оплаты (Кино, Музыка, Игры)</td>\n",
       "      <td>32</td>\n",
       "    </tr>\n",
       "    <tr>\n",
       "      <th>33</th>\n",
       "      <td>Карты оплаты - Live!</td>\n",
       "      <td>33</td>\n",
       "    </tr>\n",
       "    <tr>\n",
       "      <th>34</th>\n",
       "      <td>Карты оплаты - Live! (Цифра)</td>\n",
       "      <td>34</td>\n",
       "    </tr>\n",
       "    <tr>\n",
       "      <th>35</th>\n",
       "      <td>Карты оплаты - PSN</td>\n",
       "      <td>35</td>\n",
       "    </tr>\n",
       "    <tr>\n",
       "      <th>36</th>\n",
       "      <td>Карты оплаты - Windows (Цифра)</td>\n",
       "      <td>36</td>\n",
       "    </tr>\n",
       "    <tr>\n",
       "      <th>37</th>\n",
       "      <td>Кино - Blu-Ray</td>\n",
       "      <td>37</td>\n",
       "    </tr>\n",
       "    <tr>\n",
       "      <th>38</th>\n",
       "      <td>Кино - Blu-Ray 3D</td>\n",
       "      <td>38</td>\n",
       "    </tr>\n",
       "    <tr>\n",
       "      <th>39</th>\n",
       "      <td>Кино - Blu-Ray 4K</td>\n",
       "      <td>39</td>\n",
       "    </tr>\n",
       "    <tr>\n",
       "      <th>40</th>\n",
       "      <td>Кино - DVD</td>\n",
       "      <td>40</td>\n",
       "    </tr>\n",
       "    <tr>\n",
       "      <th>41</th>\n",
       "      <td>Кино - Коллекционное</td>\n",
       "      <td>41</td>\n",
       "    </tr>\n",
       "    <tr>\n",
       "      <th>42</th>\n",
       "      <td>Книги - Артбуки, энциклопедии</td>\n",
       "      <td>42</td>\n",
       "    </tr>\n",
       "    <tr>\n",
       "      <th>43</th>\n",
       "      <td>Книги - Аудиокниги</td>\n",
       "      <td>43</td>\n",
       "    </tr>\n",
       "    <tr>\n",
       "      <th>44</th>\n",
       "      <td>Книги - Аудиокниги (Цифра)</td>\n",
       "      <td>44</td>\n",
       "    </tr>\n",
       "    <tr>\n",
       "      <th>45</th>\n",
       "      <td>Книги - Аудиокниги 1С</td>\n",
       "      <td>45</td>\n",
       "    </tr>\n",
       "    <tr>\n",
       "      <th>46</th>\n",
       "      <td>Книги - Бизнес литература</td>\n",
       "      <td>46</td>\n",
       "    </tr>\n",
       "    <tr>\n",
       "      <th>47</th>\n",
       "      <td>Книги - Комиксы, манга</td>\n",
       "      <td>47</td>\n",
       "    </tr>\n",
       "    <tr>\n",
       "      <th>48</th>\n",
       "      <td>Книги - Компьютерная литература</td>\n",
       "      <td>48</td>\n",
       "    </tr>\n",
       "    <tr>\n",
       "      <th>49</th>\n",
       "      <td>Книги - Методические материалы 1С</td>\n",
       "      <td>49</td>\n",
       "    </tr>\n",
       "  </tbody>\n",
       "</table>\n",
       "</div>"
      ],
      "text/plain": [
       "                   item_category_name  item_category_id\n",
       "0             PC - Гарнитуры/Наушники                 0\n",
       "1                    Аксессуары - PS2                 1\n",
       "2                    Аксессуары - PS3                 2\n",
       "3                    Аксессуары - PS4                 3\n",
       "4                    Аксессуары - PSP                 4\n",
       "5                 Аксессуары - PSVita                 5\n",
       "6               Аксессуары - XBOX 360                 6\n",
       "7               Аксессуары - XBOX ONE                 7\n",
       "8                      Билеты (Цифра)                 8\n",
       "9                     Доставка товара                 9\n",
       "10              Игровые консоли - PS2                10\n",
       "11              Игровые консоли - PS3                11\n",
       "12              Игровые консоли - PS4                12\n",
       "13              Игровые консоли - PSP                13\n",
       "14           Игровые консоли - PSVita                14\n",
       "15         Игровые консоли - XBOX 360                15\n",
       "16         Игровые консоли - XBOX ONE                16\n",
       "17           Игровые консоли - Прочие                17\n",
       "18                         Игры - PS2                18\n",
       "19                         Игры - PS3                19\n",
       "20                         Игры - PS4                20\n",
       "21                         Игры - PSP                21\n",
       "22                      Игры - PSVita                22\n",
       "23                    Игры - XBOX 360                23\n",
       "24                    Игры - XBOX ONE                24\n",
       "25          Игры - Аксессуары для игр                25\n",
       "26               Игры Android - Цифра                26\n",
       "27                   Игры MAC - Цифра                27\n",
       "28   Игры PC - Дополнительные издания                28\n",
       "29    Игры PC - Коллекционные издания                29\n",
       "30      Игры PC - Стандартные издания                30\n",
       "31                    Игры PC - Цифра                31\n",
       "32  Карты оплаты (Кино, Музыка, Игры)                32\n",
       "33               Карты оплаты - Live!                33\n",
       "34       Карты оплаты - Live! (Цифра)                34\n",
       "35                 Карты оплаты - PSN                35\n",
       "36     Карты оплаты - Windows (Цифра)                36\n",
       "37                     Кино - Blu-Ray                37\n",
       "38                  Кино - Blu-Ray 3D                38\n",
       "39                  Кино - Blu-Ray 4K                39\n",
       "40                         Кино - DVD                40\n",
       "41               Кино - Коллекционное                41\n",
       "42      Книги - Артбуки, энциклопедии                42\n",
       "43                 Книги - Аудиокниги                43\n",
       "44         Книги - Аудиокниги (Цифра)                44\n",
       "45              Книги - Аудиокниги 1С                45\n",
       "46          Книги - Бизнес литература                46\n",
       "47             Книги - Комиксы, манга                47\n",
       "48    Книги - Компьютерная литература                48\n",
       "49  Книги - Методические материалы 1С                49"
      ]
     },
     "execution_count": 19,
     "metadata": {},
     "output_type": "execute_result"
    }
   ],
   "source": [
    "item_cat_df.head(50)"
   ]
  },
  {
   "cell_type": "code",
   "execution_count": 20,
   "id": "5b78062c",
   "metadata": {
    "execution": {
     "iopub.execute_input": "2024-09-15T11:58:51.671156Z",
     "iopub.status.busy": "2024-09-15T11:58:51.670796Z",
     "iopub.status.idle": "2024-09-15T11:58:51.678093Z",
     "shell.execute_reply": "2024-09-15T11:58:51.677164Z"
    },
    "papermill": {
     "duration": 0.044268,
     "end_time": "2024-09-15T11:58:51.680018",
     "exception": false,
     "start_time": "2024-09-15T11:58:51.635750",
     "status": "completed"
    },
    "tags": []
   },
   "outputs": [],
   "source": [
    "item_cat_df['item_category_type'] = item_cat_df['item_category_name'].apply(lambda x: str(x).split(' ')[0])\n",
    "item_cat_df['item_category_type'] = item_cat_df['item_category_type'].apply(lambda x: 'Игры' \n",
    "                                                                            if (x=='Игровые') or (x=='Аксессуары') \n",
    "                                                                            else x)"
   ]
  },
  {
   "cell_type": "code",
   "execution_count": 21,
   "id": "4c262bd2",
   "metadata": {
    "execution": {
     "iopub.execute_input": "2024-09-15T11:58:51.749597Z",
     "iopub.status.busy": "2024-09-15T11:58:51.748939Z",
     "iopub.status.idle": "2024-09-15T11:58:51.755819Z",
     "shell.execute_reply": "2024-09-15T11:58:51.754729Z"
    },
    "papermill": {
     "duration": 0.044023,
     "end_time": "2024-09-15T11:58:51.757862",
     "exception": false,
     "start_time": "2024-09-15T11:58:51.713839",
     "status": "completed"
    },
    "tags": []
   },
   "outputs": [],
   "source": [
    "item_cat_types = item_cat_df['item_category_type'].value_counts()\n",
    "item_cat_types = item_cat_types[item_cat_types>=5]\n",
    "item_cat_types_idx = item_cat_types.index.tolist()\n",
    "item_cat_df['item_category_type'] = item_cat_df['item_category_type'].apply(lambda x: x if x in item_cat_types_idx else 'rem')"
   ]
  },
  {
   "cell_type": "code",
   "execution_count": 22,
   "id": "ae5238f2",
   "metadata": {
    "execution": {
     "iopub.execute_input": "2024-09-15T11:58:51.827602Z",
     "iopub.status.busy": "2024-09-15T11:58:51.826875Z",
     "iopub.status.idle": "2024-09-15T11:58:51.833523Z",
     "shell.execute_reply": "2024-09-15T11:58:51.832630Z"
    },
    "papermill": {
     "duration": 0.043451,
     "end_time": "2024-09-15T11:58:51.835671",
     "exception": false,
     "start_time": "2024-09-15T11:58:51.792220",
     "status": "completed"
    },
    "tags": []
   },
   "outputs": [],
   "source": [
    "item_cat_df['split_sub'] = item_cat_df['item_category_name'].apply(lambda x: str(x).split('-'))\n",
    "item_cat_df['item_category_sub_type'] = item_cat_df['split_sub'].apply(lambda x: x[1].strip() if len(x)>1 else x[0].strip())"
   ]
  },
  {
   "cell_type": "code",
   "execution_count": 23,
   "id": "adfd8024",
   "metadata": {
    "execution": {
     "iopub.execute_input": "2024-09-15T11:58:51.904154Z",
     "iopub.status.busy": "2024-09-15T11:58:51.903758Z",
     "iopub.status.idle": "2024-09-15T11:58:51.911807Z",
     "shell.execute_reply": "2024-09-15T11:58:51.910846Z"
    },
    "papermill": {
     "duration": 0.044383,
     "end_time": "2024-09-15T11:58:51.913857",
     "exception": false,
     "start_time": "2024-09-15T11:58:51.869474",
     "status": "completed"
    },
    "tags": []
   },
   "outputs": [],
   "source": [
    "encoder = OrdinalEncoder()\n",
    "item_cat_df[['item_category_type','item_category_sub_type']] = encoder.fit_transform(item_cat_df[['item_category_type','item_category_sub_type']])"
   ]
  },
  {
   "cell_type": "code",
   "execution_count": 24,
   "id": "bacd9380",
   "metadata": {
    "execution": {
     "iopub.execute_input": "2024-09-15T11:58:51.981902Z",
     "iopub.status.busy": "2024-09-15T11:58:51.981526Z",
     "iopub.status.idle": "2024-09-15T11:58:51.987113Z",
     "shell.execute_reply": "2024-09-15T11:58:51.986292Z"
    },
    "papermill": {
     "duration": 0.041548,
     "end_time": "2024-09-15T11:58:51.989065",
     "exception": false,
     "start_time": "2024-09-15T11:58:51.947517",
     "status": "completed"
    },
    "tags": []
   },
   "outputs": [],
   "source": [
    "item_cat_df = item_cat_df[['item_category_id','item_category_type','item_category_sub_type']]"
   ]
  },
  {
   "cell_type": "markdown",
   "id": "f27963ba",
   "metadata": {
    "papermill": {
     "duration": 0.032628,
     "end_time": "2024-09-15T11:58:52.054962",
     "exception": false,
     "start_time": "2024-09-15T11:58:52.022334",
     "status": "completed"
    },
    "tags": []
   },
   "source": [
    "### Cleaning Item Data"
   ]
  },
  {
   "cell_type": "code",
   "execution_count": 25,
   "id": "821017fb",
   "metadata": {
    "execution": {
     "iopub.execute_input": "2024-09-15T11:58:52.123319Z",
     "iopub.status.busy": "2024-09-15T11:58:52.122918Z",
     "iopub.status.idle": "2024-09-15T11:58:52.134955Z",
     "shell.execute_reply": "2024-09-15T11:58:52.133831Z"
    },
    "papermill": {
     "duration": 0.048959,
     "end_time": "2024-09-15T11:58:52.137022",
     "exception": false,
     "start_time": "2024-09-15T11:58:52.088063",
     "status": "completed"
    },
    "tags": []
   },
   "outputs": [
    {
     "data": {
      "text/html": [
       "<div>\n",
       "<style scoped>\n",
       "    .dataframe tbody tr th:only-of-type {\n",
       "        vertical-align: middle;\n",
       "    }\n",
       "\n",
       "    .dataframe tbody tr th {\n",
       "        vertical-align: top;\n",
       "    }\n",
       "\n",
       "    .dataframe thead th {\n",
       "        text-align: right;\n",
       "    }\n",
       "</style>\n",
       "<table border=\"1\" class=\"dataframe\">\n",
       "  <thead>\n",
       "    <tr style=\"text-align: right;\">\n",
       "      <th></th>\n",
       "      <th>item_name</th>\n",
       "      <th>item_id</th>\n",
       "      <th>item_category_id</th>\n",
       "    </tr>\n",
       "  </thead>\n",
       "  <tbody>\n",
       "    <tr>\n",
       "      <th>0</th>\n",
       "      <td>! ВО ВЛАСТИ НАВАЖДЕНИЯ (ПЛАСТ.)         D</td>\n",
       "      <td>0</td>\n",
       "      <td>40</td>\n",
       "    </tr>\n",
       "    <tr>\n",
       "      <th>1</th>\n",
       "      <td>!ABBYY FineReader 12 Professional Edition Full...</td>\n",
       "      <td>1</td>\n",
       "      <td>76</td>\n",
       "    </tr>\n",
       "    <tr>\n",
       "      <th>2</th>\n",
       "      <td>***В ЛУЧАХ СЛАВЫ   (UNV)                    D</td>\n",
       "      <td>2</td>\n",
       "      <td>40</td>\n",
       "    </tr>\n",
       "    <tr>\n",
       "      <th>3</th>\n",
       "      <td>***ГОЛУБАЯ ВОЛНА  (Univ)                      D</td>\n",
       "      <td>3</td>\n",
       "      <td>40</td>\n",
       "    </tr>\n",
       "    <tr>\n",
       "      <th>4</th>\n",
       "      <td>***КОРОБКА (СТЕКЛО)                       D</td>\n",
       "      <td>4</td>\n",
       "      <td>40</td>\n",
       "    </tr>\n",
       "    <tr>\n",
       "      <th>...</th>\n",
       "      <td>...</td>\n",
       "      <td>...</td>\n",
       "      <td>...</td>\n",
       "    </tr>\n",
       "    <tr>\n",
       "      <th>22165</th>\n",
       "      <td>Ядерный титбит 2 [PC, Цифровая версия]</td>\n",
       "      <td>22165</td>\n",
       "      <td>31</td>\n",
       "    </tr>\n",
       "    <tr>\n",
       "      <th>22166</th>\n",
       "      <td>Язык запросов 1С:Предприятия  [Цифровая версия]</td>\n",
       "      <td>22166</td>\n",
       "      <td>54</td>\n",
       "    </tr>\n",
       "    <tr>\n",
       "      <th>22167</th>\n",
       "      <td>Язык запросов 1С:Предприятия 8 (+CD). Хрустале...</td>\n",
       "      <td>22167</td>\n",
       "      <td>49</td>\n",
       "    </tr>\n",
       "    <tr>\n",
       "      <th>22168</th>\n",
       "      <td>Яйцо для Little Inu</td>\n",
       "      <td>22168</td>\n",
       "      <td>62</td>\n",
       "    </tr>\n",
       "    <tr>\n",
       "      <th>22169</th>\n",
       "      <td>Яйцо дракона (Игра престолов)</td>\n",
       "      <td>22169</td>\n",
       "      <td>69</td>\n",
       "    </tr>\n",
       "  </tbody>\n",
       "</table>\n",
       "<p>22170 rows × 3 columns</p>\n",
       "</div>"
      ],
      "text/plain": [
       "                                               item_name  item_id  \\\n",
       "0              ! ВО ВЛАСТИ НАВАЖДЕНИЯ (ПЛАСТ.)         D        0   \n",
       "1      !ABBYY FineReader 12 Professional Edition Full...        1   \n",
       "2          ***В ЛУЧАХ СЛАВЫ   (UNV)                    D        2   \n",
       "3        ***ГОЛУБАЯ ВОЛНА  (Univ)                      D        3   \n",
       "4            ***КОРОБКА (СТЕКЛО)                       D        4   \n",
       "...                                                  ...      ...   \n",
       "22165             Ядерный титбит 2 [PC, Цифровая версия]    22165   \n",
       "22166    Язык запросов 1С:Предприятия  [Цифровая версия]    22166   \n",
       "22167  Язык запросов 1С:Предприятия 8 (+CD). Хрустале...    22167   \n",
       "22168                                Яйцо для Little Inu    22168   \n",
       "22169                      Яйцо дракона (Игра престолов)    22169   \n",
       "\n",
       "       item_category_id  \n",
       "0                    40  \n",
       "1                    76  \n",
       "2                    40  \n",
       "3                    40  \n",
       "4                    40  \n",
       "...                 ...  \n",
       "22165                31  \n",
       "22166                54  \n",
       "22167                49  \n",
       "22168                62  \n",
       "22169                69  \n",
       "\n",
       "[22170 rows x 3 columns]"
      ]
     },
     "execution_count": 25,
     "metadata": {},
     "output_type": "execute_result"
    }
   ],
   "source": [
    "items_df"
   ]
  },
  {
   "cell_type": "code",
   "execution_count": 26,
   "id": "7e1ad91e",
   "metadata": {
    "execution": {
     "iopub.execute_input": "2024-09-15T11:58:52.209113Z",
     "iopub.status.busy": "2024-09-15T11:58:52.208169Z",
     "iopub.status.idle": "2024-09-15T11:58:52.213920Z",
     "shell.execute_reply": "2024-09-15T11:58:52.212996Z"
    },
    "papermill": {
     "duration": 0.043488,
     "end_time": "2024-09-15T11:58:52.215909",
     "exception": false,
     "start_time": "2024-09-15T11:58:52.172421",
     "status": "completed"
    },
    "tags": []
   },
   "outputs": [],
   "source": [
    "def correct_item(x):\n",
    "    x = x.lower() # LowerCase\n",
    "    x = x.partition('[')[0]\n",
    "    x = x.partition('(')[0]\n",
    "    x = re.sub(r'[^A-Za-z0-9А-Яа-я]+',' ',x) # remove special char\n",
    "    x = x.replace('  ', ' ')\n",
    "    x = x.strip()\n",
    "    return x"
   ]
  },
  {
   "cell_type": "code",
   "execution_count": 27,
   "id": "d28b441e",
   "metadata": {
    "execution": {
     "iopub.execute_input": "2024-09-15T11:58:52.285790Z",
     "iopub.status.busy": "2024-09-15T11:58:52.285301Z",
     "iopub.status.idle": "2024-09-15T11:58:52.291617Z",
     "shell.execute_reply": "2024-09-15T11:58:52.290710Z"
    },
    "papermill": {
     "duration": 0.043325,
     "end_time": "2024-09-15T11:58:52.293708",
     "exception": false,
     "start_time": "2024-09-15T11:58:52.250383",
     "status": "completed"
    },
    "tags": []
   },
   "outputs": [
    {
     "data": {
      "text/plain": [
       "['a']"
      ]
     },
     "execution_count": 27,
     "metadata": {},
     "output_type": "execute_result"
    }
   ],
   "source": [
    "'a'.split('[')"
   ]
  },
  {
   "cell_type": "code",
   "execution_count": 28,
   "id": "a66b5890",
   "metadata": {
    "execution": {
     "iopub.execute_input": "2024-09-15T11:58:52.365796Z",
     "iopub.status.busy": "2024-09-15T11:58:52.364833Z",
     "iopub.status.idle": "2024-09-15T11:58:52.456880Z",
     "shell.execute_reply": "2024-09-15T11:58:52.455869Z"
    },
    "papermill": {
     "duration": 0.130469,
     "end_time": "2024-09-15T11:58:52.459402",
     "exception": false,
     "start_time": "2024-09-15T11:58:52.328933",
     "status": "completed"
    },
    "tags": []
   },
   "outputs": [],
   "source": [
    "# split item names by first bracket\n",
    "items_df['item_name1'] = items_df['item_name'].apply(lambda x: re.split(r'[\\[\\(]',x,1)[0])\n",
    "items_df['item_name2'] = items_df['item_name'].apply(lambda x: str(x).split('[',1)[1] if str(x).find('[')>=0 else '0')\n",
    "items_df['item_name3'] = items_df['item_name'].apply(lambda x: str(x).split('(',1)[1] if str(x).find('(')>=0 else '0')"
   ]
  },
  {
   "cell_type": "code",
   "execution_count": 29,
   "id": "332eeebc",
   "metadata": {
    "execution": {
     "iopub.execute_input": "2024-09-15T11:58:52.528798Z",
     "iopub.status.busy": "2024-09-15T11:58:52.527918Z",
     "iopub.status.idle": "2024-09-15T11:58:52.541710Z",
     "shell.execute_reply": "2024-09-15T11:58:52.540813Z"
    },
    "papermill": {
     "duration": 0.050688,
     "end_time": "2024-09-15T11:58:52.543941",
     "exception": false,
     "start_time": "2024-09-15T11:58:52.493253",
     "status": "completed"
    },
    "tags": []
   },
   "outputs": [
    {
     "data": {
      "text/html": [
       "<div>\n",
       "<style scoped>\n",
       "    .dataframe tbody tr th:only-of-type {\n",
       "        vertical-align: middle;\n",
       "    }\n",
       "\n",
       "    .dataframe tbody tr th {\n",
       "        vertical-align: top;\n",
       "    }\n",
       "\n",
       "    .dataframe thead th {\n",
       "        text-align: right;\n",
       "    }\n",
       "</style>\n",
       "<table border=\"1\" class=\"dataframe\">\n",
       "  <thead>\n",
       "    <tr style=\"text-align: right;\">\n",
       "      <th></th>\n",
       "      <th>item_name</th>\n",
       "      <th>item_id</th>\n",
       "      <th>item_category_id</th>\n",
       "      <th>item_name1</th>\n",
       "      <th>item_name2</th>\n",
       "      <th>item_name3</th>\n",
       "    </tr>\n",
       "  </thead>\n",
       "  <tbody>\n",
       "    <tr>\n",
       "      <th>0</th>\n",
       "      <td>! ВО ВЛАСТИ НАВАЖДЕНИЯ (ПЛАСТ.)         D</td>\n",
       "      <td>0</td>\n",
       "      <td>40</td>\n",
       "      <td>! ВО ВЛАСТИ НАВАЖДЕНИЯ</td>\n",
       "      <td>0</td>\n",
       "      <td>ПЛАСТ.)         D</td>\n",
       "    </tr>\n",
       "    <tr>\n",
       "      <th>1</th>\n",
       "      <td>!ABBYY FineReader 12 Professional Edition Full...</td>\n",
       "      <td>1</td>\n",
       "      <td>76</td>\n",
       "      <td>!ABBYY FineReader 12 Professional Edition Full</td>\n",
       "      <td>PC, Цифровая версия]</td>\n",
       "      <td>0</td>\n",
       "    </tr>\n",
       "    <tr>\n",
       "      <th>2</th>\n",
       "      <td>***В ЛУЧАХ СЛАВЫ   (UNV)                    D</td>\n",
       "      <td>2</td>\n",
       "      <td>40</td>\n",
       "      <td>***В ЛУЧАХ СЛАВЫ</td>\n",
       "      <td>0</td>\n",
       "      <td>UNV)                    D</td>\n",
       "    </tr>\n",
       "    <tr>\n",
       "      <th>3</th>\n",
       "      <td>***ГОЛУБАЯ ВОЛНА  (Univ)                      D</td>\n",
       "      <td>3</td>\n",
       "      <td>40</td>\n",
       "      <td>***ГОЛУБАЯ ВОЛНА</td>\n",
       "      <td>0</td>\n",
       "      <td>Univ)                      D</td>\n",
       "    </tr>\n",
       "    <tr>\n",
       "      <th>4</th>\n",
       "      <td>***КОРОБКА (СТЕКЛО)                       D</td>\n",
       "      <td>4</td>\n",
       "      <td>40</td>\n",
       "      <td>***КОРОБКА</td>\n",
       "      <td>0</td>\n",
       "      <td>СТЕКЛО)                       D</td>\n",
       "    </tr>\n",
       "    <tr>\n",
       "      <th>...</th>\n",
       "      <td>...</td>\n",
       "      <td>...</td>\n",
       "      <td>...</td>\n",
       "      <td>...</td>\n",
       "      <td>...</td>\n",
       "      <td>...</td>\n",
       "    </tr>\n",
       "    <tr>\n",
       "      <th>22165</th>\n",
       "      <td>Ядерный титбит 2 [PC, Цифровая версия]</td>\n",
       "      <td>22165</td>\n",
       "      <td>31</td>\n",
       "      <td>Ядерный титбит 2</td>\n",
       "      <td>PC, Цифровая версия]</td>\n",
       "      <td>0</td>\n",
       "    </tr>\n",
       "    <tr>\n",
       "      <th>22166</th>\n",
       "      <td>Язык запросов 1С:Предприятия  [Цифровая версия]</td>\n",
       "      <td>22166</td>\n",
       "      <td>54</td>\n",
       "      <td>Язык запросов 1С:Предприятия</td>\n",
       "      <td>Цифровая версия]</td>\n",
       "      <td>0</td>\n",
       "    </tr>\n",
       "    <tr>\n",
       "      <th>22167</th>\n",
       "      <td>Язык запросов 1С:Предприятия 8 (+CD). Хрустале...</td>\n",
       "      <td>22167</td>\n",
       "      <td>49</td>\n",
       "      <td>Язык запросов 1С:Предприятия 8</td>\n",
       "      <td>0</td>\n",
       "      <td>+CD). Хрусталева Е.Ю.</td>\n",
       "    </tr>\n",
       "    <tr>\n",
       "      <th>22168</th>\n",
       "      <td>Яйцо для Little Inu</td>\n",
       "      <td>22168</td>\n",
       "      <td>62</td>\n",
       "      <td>Яйцо для Little Inu</td>\n",
       "      <td>0</td>\n",
       "      <td>0</td>\n",
       "    </tr>\n",
       "    <tr>\n",
       "      <th>22169</th>\n",
       "      <td>Яйцо дракона (Игра престолов)</td>\n",
       "      <td>22169</td>\n",
       "      <td>69</td>\n",
       "      <td>Яйцо дракона</td>\n",
       "      <td>0</td>\n",
       "      <td>Игра престолов)</td>\n",
       "    </tr>\n",
       "  </tbody>\n",
       "</table>\n",
       "<p>22170 rows × 6 columns</p>\n",
       "</div>"
      ],
      "text/plain": [
       "                                               item_name  item_id  \\\n",
       "0              ! ВО ВЛАСТИ НАВАЖДЕНИЯ (ПЛАСТ.)         D        0   \n",
       "1      !ABBYY FineReader 12 Professional Edition Full...        1   \n",
       "2          ***В ЛУЧАХ СЛАВЫ   (UNV)                    D        2   \n",
       "3        ***ГОЛУБАЯ ВОЛНА  (Univ)                      D        3   \n",
       "4            ***КОРОБКА (СТЕКЛО)                       D        4   \n",
       "...                                                  ...      ...   \n",
       "22165             Ядерный титбит 2 [PC, Цифровая версия]    22165   \n",
       "22166    Язык запросов 1С:Предприятия  [Цифровая версия]    22166   \n",
       "22167  Язык запросов 1С:Предприятия 8 (+CD). Хрустале...    22167   \n",
       "22168                                Яйцо для Little Inu    22168   \n",
       "22169                      Яйцо дракона (Игра престолов)    22169   \n",
       "\n",
       "       item_category_id                                       item_name1  \\\n",
       "0                    40                          ! ВО ВЛАСТИ НАВАЖДЕНИЯ    \n",
       "1                    76  !ABBYY FineReader 12 Professional Edition Full    \n",
       "2                    40                              ***В ЛУЧАХ СЛАВЫ      \n",
       "3                    40                               ***ГОЛУБАЯ ВОЛНА     \n",
       "4                    40                                      ***КОРОБКА    \n",
       "...                 ...                                              ...   \n",
       "22165                31                                Ядерный титбит 2    \n",
       "22166                54                   Язык запросов 1С:Предприятия     \n",
       "22167                49                  Язык запросов 1С:Предприятия 8    \n",
       "22168                62                              Яйцо для Little Inu   \n",
       "22169                69                                    Яйцо дракона    \n",
       "\n",
       "                 item_name2                       item_name3  \n",
       "0                         0                ПЛАСТ.)         D  \n",
       "1      PC, Цифровая версия]                                0  \n",
       "2                         0        UNV)                    D  \n",
       "3                         0     Univ)                      D  \n",
       "4                         0  СТЕКЛО)                       D  \n",
       "...                     ...                              ...  \n",
       "22165  PC, Цифровая версия]                                0  \n",
       "22166      Цифровая версия]                                0  \n",
       "22167                     0            +CD). Хрусталева Е.Ю.  \n",
       "22168                     0                                0  \n",
       "22169                     0                  Игра престолов)  \n",
       "\n",
       "[22170 rows x 6 columns]"
      ]
     },
     "execution_count": 29,
     "metadata": {},
     "output_type": "execute_result"
    }
   ],
   "source": [
    "items_df"
   ]
  },
  {
   "cell_type": "code",
   "execution_count": 30,
   "id": "2809fad8",
   "metadata": {
    "execution": {
     "iopub.execute_input": "2024-09-15T11:58:52.613481Z",
     "iopub.status.busy": "2024-09-15T11:58:52.612807Z",
     "iopub.status.idle": "2024-09-15T11:58:52.896090Z",
     "shell.execute_reply": "2024-09-15T11:58:52.895019Z"
    },
    "papermill": {
     "duration": 0.320259,
     "end_time": "2024-09-15T11:58:52.898594",
     "exception": false,
     "start_time": "2024-09-15T11:58:52.578335",
     "status": "completed"
    },
    "tags": []
   },
   "outputs": [],
   "source": [
    "for i in [1,2,3]:\n",
    "    col = f'item_name{i}'\n",
    "    items_df[col] = items_df[col].apply(lambda x: correct_item(str(x)))"
   ]
  },
  {
   "cell_type": "code",
   "execution_count": 31,
   "id": "7945a538",
   "metadata": {
    "execution": {
     "iopub.execute_input": "2024-09-15T11:58:52.967790Z",
     "iopub.status.busy": "2024-09-15T11:58:52.967444Z",
     "iopub.status.idle": "2024-09-15T11:58:52.978370Z",
     "shell.execute_reply": "2024-09-15T11:58:52.977537Z"
    },
    "papermill": {
     "duration": 0.047447,
     "end_time": "2024-09-15T11:58:52.980134",
     "exception": false,
     "start_time": "2024-09-15T11:58:52.932687",
     "status": "completed"
    },
    "tags": []
   },
   "outputs": [],
   "source": [
    "items_df['item_name2'] = items_df['item_name2'].apply(lambda x: '0' if x=='' else x)"
   ]
  },
  {
   "cell_type": "code",
   "execution_count": 32,
   "id": "1b623499",
   "metadata": {
    "execution": {
     "iopub.execute_input": "2024-09-15T11:58:53.047820Z",
     "iopub.status.busy": "2024-09-15T11:58:53.047538Z",
     "iopub.status.idle": "2024-09-15T11:58:53.075268Z",
     "shell.execute_reply": "2024-09-15T11:58:53.074283Z"
    },
    "papermill": {
     "duration": 0.063842,
     "end_time": "2024-09-15T11:58:53.077219",
     "exception": false,
     "start_time": "2024-09-15T11:58:53.013377",
     "status": "completed"
    },
    "tags": []
   },
   "outputs": [
    {
     "data": {
      "text/plain": [
       "array(['0', 'pc', 'ps3', 'pс', 'xbox 360', 'цифровая', 'p', 'mac', 'psp',\n",
       "       'рs3', 'ps4', 'xbox one', 'x360', 'ps', 'xbox360', 'русская', 'рс',\n",
       "       'android', 'англ', 'ps2', 'только', 'цифров', '6jv', 'j72', 'hm3',\n",
       "       's3v', '6dv', '6l6', '5f4', 's4v', 'kg4', '5c5', '5c7', 'kf7',\n",
       "       'kf6'], dtype=object)"
      ]
     },
     "execution_count": 32,
     "metadata": {},
     "output_type": "execute_result"
    }
   ],
   "source": [
    "items_df['item_type'] = items_df['item_name2'].apply(lambda x: x[0:8]\n",
    "                                                     if x.split(' ')[0]=='xbox'\n",
    "                                                     else x.split(' ')[0])\n",
    "items_df['item_type'].unique()"
   ]
  },
  {
   "cell_type": "code",
   "execution_count": 33,
   "id": "de6c9707",
   "metadata": {
    "execution": {
     "iopub.execute_input": "2024-09-15T11:58:53.145668Z",
     "iopub.status.busy": "2024-09-15T11:58:53.145105Z",
     "iopub.status.idle": "2024-09-15T11:58:53.168525Z",
     "shell.execute_reply": "2024-09-15T11:58:53.167192Z"
    },
    "papermill": {
     "duration": 0.060224,
     "end_time": "2024-09-15T11:58:53.171136",
     "exception": false,
     "start_time": "2024-09-15T11:58:53.110912",
     "status": "completed"
    },
    "tags": []
   },
   "outputs": [],
   "source": [
    "def clean_item_type(x):\n",
    "    if x=='xbox 360' or x=='x360' or x=='xbox360':\n",
    "        return 'x360'\n",
    "    if x=='pc' or x=='pс' or x=='рс':\n",
    "        return 'pc'\n",
    "    if x=='ps3' or x=='рs3':\n",
    "        return 'ps3'\n",
    "    return x\n",
    "items_df['item_type'] = items_df['item_type'].apply(lambda x: clean_item_type(x))"
   ]
  },
  {
   "cell_type": "code",
   "execution_count": 34,
   "id": "711b99ec",
   "metadata": {
    "execution": {
     "iopub.execute_input": "2024-09-15T11:58:53.252344Z",
     "iopub.status.busy": "2024-09-15T11:58:53.251461Z",
     "iopub.status.idle": "2024-09-15T11:58:53.269095Z",
     "shell.execute_reply": "2024-09-15T11:58:53.268398Z"
    },
    "papermill": {
     "duration": 0.059172,
     "end_time": "2024-09-15T11:58:53.270928",
     "exception": false,
     "start_time": "2024-09-15T11:58:53.211756",
     "status": "completed"
    },
    "tags": []
   },
   "outputs": [],
   "source": [
    "item_types = items_df['item_type'].value_counts()\n",
    "item_types = item_types[item_types>=20]\n",
    "item_types_idx = item_types.index.tolist()\n",
    "items_df['item_type'] = items_df['item_type'].apply(lambda x: x if x in item_types_idx else 'rem')"
   ]
  },
  {
   "cell_type": "code",
   "execution_count": 35,
   "id": "92f78e53",
   "metadata": {
    "execution": {
     "iopub.execute_input": "2024-09-15T11:58:53.339347Z",
     "iopub.status.busy": "2024-09-15T11:58:53.339038Z",
     "iopub.status.idle": "2024-09-15T11:58:53.375778Z",
     "shell.execute_reply": "2024-09-15T11:58:53.374892Z"
    },
    "papermill": {
     "duration": 0.073229,
     "end_time": "2024-09-15T11:58:53.377781",
     "exception": false,
     "start_time": "2024-09-15T11:58:53.304552",
     "status": "completed"
    },
    "tags": []
   },
   "outputs": [],
   "source": [
    "encoder = OrdinalEncoder()\n",
    "items_df[['item_name2','item_name3','item_type']] = encoder.fit_transform(items_df[['item_name2','item_name3','item_type']])"
   ]
  },
  {
   "cell_type": "code",
   "execution_count": 36,
   "id": "e1292777",
   "metadata": {
    "execution": {
     "iopub.execute_input": "2024-09-15T11:58:53.446433Z",
     "iopub.status.busy": "2024-09-15T11:58:53.445643Z",
     "iopub.status.idle": "2024-09-15T11:58:53.462257Z",
     "shell.execute_reply": "2024-09-15T11:58:53.461397Z"
    },
    "papermill": {
     "duration": 0.052913,
     "end_time": "2024-09-15T11:58:53.464123",
     "exception": false,
     "start_time": "2024-09-15T11:58:53.411210",
     "status": "completed"
    },
    "tags": []
   },
   "outputs": [
    {
     "data": {
      "text/html": [
       "<div>\n",
       "<style scoped>\n",
       "    .dataframe tbody tr th:only-of-type {\n",
       "        vertical-align: middle;\n",
       "    }\n",
       "\n",
       "    .dataframe tbody tr th {\n",
       "        vertical-align: top;\n",
       "    }\n",
       "\n",
       "    .dataframe thead th {\n",
       "        text-align: right;\n",
       "    }\n",
       "</style>\n",
       "<table border=\"1\" class=\"dataframe\">\n",
       "  <thead>\n",
       "    <tr style=\"text-align: right;\">\n",
       "      <th></th>\n",
       "      <th>item_name</th>\n",
       "      <th>item_id</th>\n",
       "      <th>item_category_id</th>\n",
       "      <th>item_name1</th>\n",
       "      <th>item_name2</th>\n",
       "      <th>item_name3</th>\n",
       "      <th>item_type</th>\n",
       "    </tr>\n",
       "  </thead>\n",
       "  <tbody>\n",
       "    <tr>\n",
       "      <th>0</th>\n",
       "      <td>! ВО ВЛАСТИ НАВАЖДЕНИЯ (ПЛАСТ.)         D</td>\n",
       "      <td>0</td>\n",
       "      <td>40</td>\n",
       "      <td>во власти наваждения</td>\n",
       "      <td>0.0</td>\n",
       "      <td>1083.0</td>\n",
       "      <td>0.0</td>\n",
       "    </tr>\n",
       "    <tr>\n",
       "      <th>1</th>\n",
       "      <td>!ABBYY FineReader 12 Professional Edition Full...</td>\n",
       "      <td>1</td>\n",
       "      <td>76</td>\n",
       "      <td>abbyy finereader 12 professional edition full</td>\n",
       "      <td>59.0</td>\n",
       "      <td>1.0</td>\n",
       "      <td>2.0</td>\n",
       "    </tr>\n",
       "    <tr>\n",
       "      <th>2</th>\n",
       "      <td>***В ЛУЧАХ СЛАВЫ   (UNV)                    D</td>\n",
       "      <td>2</td>\n",
       "      <td>40</td>\n",
       "      <td>в лучах славы</td>\n",
       "      <td>0.0</td>\n",
       "      <td>795.0</td>\n",
       "      <td>0.0</td>\n",
       "    </tr>\n",
       "    <tr>\n",
       "      <th>3</th>\n",
       "      <td>***ГОЛУБАЯ ВОЛНА  (Univ)                      D</td>\n",
       "      <td>3</td>\n",
       "      <td>40</td>\n",
       "      <td>голубая волна</td>\n",
       "      <td>0.0</td>\n",
       "      <td>794.0</td>\n",
       "      <td>0.0</td>\n",
       "    </tr>\n",
       "    <tr>\n",
       "      <th>4</th>\n",
       "      <td>***КОРОБКА (СТЕКЛО)                       D</td>\n",
       "      <td>4</td>\n",
       "      <td>40</td>\n",
       "      <td>коробка</td>\n",
       "      <td>0.0</td>\n",
       "      <td>1285.0</td>\n",
       "      <td>0.0</td>\n",
       "    </tr>\n",
       "    <tr>\n",
       "      <th>...</th>\n",
       "      <td>...</td>\n",
       "      <td>...</td>\n",
       "      <td>...</td>\n",
       "      <td>...</td>\n",
       "      <td>...</td>\n",
       "      <td>...</td>\n",
       "      <td>...</td>\n",
       "    </tr>\n",
       "    <tr>\n",
       "      <th>22165</th>\n",
       "      <td>Ядерный титбит 2 [PC, Цифровая версия]</td>\n",
       "      <td>22165</td>\n",
       "      <td>31</td>\n",
       "      <td>ядерный титбит 2</td>\n",
       "      <td>59.0</td>\n",
       "      <td>1.0</td>\n",
       "      <td>2.0</td>\n",
       "    </tr>\n",
       "    <tr>\n",
       "      <th>22166</th>\n",
       "      <td>Язык запросов 1С:Предприятия  [Цифровая версия]</td>\n",
       "      <td>22166</td>\n",
       "      <td>54</td>\n",
       "      <td>язык запросов 1с предприятия</td>\n",
       "      <td>139.0</td>\n",
       "      <td>1.0</td>\n",
       "      <td>10.0</td>\n",
       "    </tr>\n",
       "    <tr>\n",
       "      <th>22167</th>\n",
       "      <td>Язык запросов 1С:Предприятия 8 (+CD). Хрустале...</td>\n",
       "      <td>22167</td>\n",
       "      <td>49</td>\n",
       "      <td>язык запросов 1с предприятия 8</td>\n",
       "      <td>0.0</td>\n",
       "      <td>461.0</td>\n",
       "      <td>0.0</td>\n",
       "    </tr>\n",
       "    <tr>\n",
       "      <th>22168</th>\n",
       "      <td>Яйцо для Little Inu</td>\n",
       "      <td>22168</td>\n",
       "      <td>62</td>\n",
       "      <td>яйцо для little inu</td>\n",
       "      <td>0.0</td>\n",
       "      <td>1.0</td>\n",
       "      <td>0.0</td>\n",
       "    </tr>\n",
       "    <tr>\n",
       "      <th>22169</th>\n",
       "      <td>Яйцо дракона (Игра престолов)</td>\n",
       "      <td>22169</td>\n",
       "      <td>69</td>\n",
       "      <td>яйцо дракона</td>\n",
       "      <td>0.0</td>\n",
       "      <td>949.0</td>\n",
       "      <td>0.0</td>\n",
       "    </tr>\n",
       "  </tbody>\n",
       "</table>\n",
       "<p>22170 rows × 7 columns</p>\n",
       "</div>"
      ],
      "text/plain": [
       "                                               item_name  item_id  \\\n",
       "0              ! ВО ВЛАСТИ НАВАЖДЕНИЯ (ПЛАСТ.)         D        0   \n",
       "1      !ABBYY FineReader 12 Professional Edition Full...        1   \n",
       "2          ***В ЛУЧАХ СЛАВЫ   (UNV)                    D        2   \n",
       "3        ***ГОЛУБАЯ ВОЛНА  (Univ)                      D        3   \n",
       "4            ***КОРОБКА (СТЕКЛО)                       D        4   \n",
       "...                                                  ...      ...   \n",
       "22165             Ядерный титбит 2 [PC, Цифровая версия]    22165   \n",
       "22166    Язык запросов 1С:Предприятия  [Цифровая версия]    22166   \n",
       "22167  Язык запросов 1С:Предприятия 8 (+CD). Хрустале...    22167   \n",
       "22168                                Яйцо для Little Inu    22168   \n",
       "22169                      Яйцо дракона (Игра престолов)    22169   \n",
       "\n",
       "       item_category_id                                     item_name1  \\\n",
       "0                    40                           во власти наваждения   \n",
       "1                    76  abbyy finereader 12 professional edition full   \n",
       "2                    40                                  в лучах славы   \n",
       "3                    40                                  голубая волна   \n",
       "4                    40                                        коробка   \n",
       "...                 ...                                            ...   \n",
       "22165                31                               ядерный титбит 2   \n",
       "22166                54                   язык запросов 1с предприятия   \n",
       "22167                49                 язык запросов 1с предприятия 8   \n",
       "22168                62                            яйцо для little inu   \n",
       "22169                69                                   яйцо дракона   \n",
       "\n",
       "       item_name2  item_name3  item_type  \n",
       "0             0.0      1083.0        0.0  \n",
       "1            59.0         1.0        2.0  \n",
       "2             0.0       795.0        0.0  \n",
       "3             0.0       794.0        0.0  \n",
       "4             0.0      1285.0        0.0  \n",
       "...           ...         ...        ...  \n",
       "22165        59.0         1.0        2.0  \n",
       "22166       139.0         1.0       10.0  \n",
       "22167         0.0       461.0        0.0  \n",
       "22168         0.0         1.0        0.0  \n",
       "22169         0.0       949.0        0.0  \n",
       "\n",
       "[22170 rows x 7 columns]"
      ]
     },
     "execution_count": 36,
     "metadata": {},
     "output_type": "execute_result"
    }
   ],
   "source": [
    "items_df"
   ]
  },
  {
   "cell_type": "code",
   "execution_count": 37,
   "id": "c9c18f75",
   "metadata": {
    "execution": {
     "iopub.execute_input": "2024-09-15T11:58:53.533372Z",
     "iopub.status.busy": "2024-09-15T11:58:53.533053Z",
     "iopub.status.idle": "2024-09-15T11:58:53.538453Z",
     "shell.execute_reply": "2024-09-15T11:58:53.537680Z"
    },
    "papermill": {
     "duration": 0.042549,
     "end_time": "2024-09-15T11:58:53.540542",
     "exception": false,
     "start_time": "2024-09-15T11:58:53.497993",
     "status": "completed"
    },
    "tags": []
   },
   "outputs": [],
   "source": [
    "items_df = items_df[['item_id','item_category_id','item_name2','item_name3','item_type']]"
   ]
  },
  {
   "cell_type": "markdown",
   "id": "48f8b10b",
   "metadata": {
    "papermill": {
     "duration": 0.034457,
     "end_time": "2024-09-15T11:58:53.609187",
     "exception": false,
     "start_time": "2024-09-15T11:58:53.574730",
     "status": "completed"
    },
    "tags": []
   },
   "source": [
    "## Feature Engineering and Preprocessing"
   ]
  },
  {
   "cell_type": "markdown",
   "id": "602c4408",
   "metadata": {
    "papermill": {
     "duration": 0.034221,
     "end_time": "2024-09-15T11:58:53.677912",
     "exception": false,
     "start_time": "2024-09-15T11:58:53.643691",
     "status": "completed"
    },
    "tags": []
   },
   "source": [
    "Create a matrix df with every combination of month, shop and item in order of increasing month. Item_cnt_day is summed into an item_cnt_month."
   ]
  },
  {
   "cell_type": "code",
   "execution_count": 38,
   "id": "ff24eac7",
   "metadata": {
    "execution": {
     "iopub.execute_input": "2024-09-15T11:58:53.748860Z",
     "iopub.status.busy": "2024-09-15T11:58:53.748468Z",
     "iopub.status.idle": "2024-09-15T11:58:53.771983Z",
     "shell.execute_reply": "2024-09-15T11:58:53.771228Z"
    },
    "papermill": {
     "duration": 0.061827,
     "end_time": "2024-09-15T11:58:53.774141",
     "exception": false,
     "start_time": "2024-09-15T11:58:53.712314",
     "status": "completed"
    },
    "tags": []
   },
   "outputs": [],
   "source": [
    "raw_df['revenue'] = raw_df['item_cnt_day'] * raw_df['item_price']"
   ]
  },
  {
   "cell_type": "code",
   "execution_count": 39,
   "id": "78e0d913",
   "metadata": {
    "execution": {
     "iopub.execute_input": "2024-09-15T11:58:53.846180Z",
     "iopub.status.busy": "2024-09-15T11:58:53.845792Z",
     "iopub.status.idle": "2024-09-15T11:59:05.626426Z",
     "shell.execute_reply": "2024-09-15T11:59:05.625402Z"
    },
    "papermill": {
     "duration": 11.818877,
     "end_time": "2024-09-15T11:59:05.628869",
     "exception": false,
     "start_time": "2024-09-15T11:58:53.809992",
     "status": "completed"
    },
    "tags": []
   },
   "outputs": [],
   "source": [
    "matrix = []\n",
    "cols = ['date_block_num','shop_id','item_id']\n",
    "for i in range(34):\n",
    "    sales = raw_df[raw_df['date_block_num']==i]\n",
    "    matrix.append(np.array(list(product([i],sales['shop_id'].unique(),sales['item_id'].unique())), dtype=np.int16))\n",
    "\n",
    "matrix_df = pd.DataFrame(data=np.vstack(matrix), columns=cols)\n",
    "matrix_df[\"date_block_num\"] = matrix_df[\"date_block_num\"].astype('int8')\n",
    "matrix_df[\"shop_id\"] = matrix_df[\"shop_id\"].astype('int8')\n",
    "matrix_df[\"item_id\"] = matrix_df[\"item_id\"].astype('int16')\n",
    "matrix_df.sort_values(cols, inplace=True)"
   ]
  },
  {
   "cell_type": "code",
   "execution_count": 40,
   "id": "427bfe5c",
   "metadata": {
    "execution": {
     "iopub.execute_input": "2024-09-15T11:59:05.701295Z",
     "iopub.status.busy": "2024-09-15T11:59:05.700887Z",
     "iopub.status.idle": "2024-09-15T11:59:05.730188Z",
     "shell.execute_reply": "2024-09-15T11:59:05.729408Z"
    },
    "papermill": {
     "duration": 0.068356,
     "end_time": "2024-09-15T11:59:05.732321",
     "exception": false,
     "start_time": "2024-09-15T11:59:05.663965",
     "status": "completed"
    },
    "tags": []
   },
   "outputs": [],
   "source": [
    "matrix_df = matrix_df.reset_index(drop=True)"
   ]
  },
  {
   "cell_type": "code",
   "execution_count": 41,
   "id": "813b85ea",
   "metadata": {
    "execution": {
     "iopub.execute_input": "2024-09-15T11:59:05.804056Z",
     "iopub.status.busy": "2024-09-15T11:59:05.803687Z",
     "iopub.status.idle": "2024-09-15T11:59:06.278580Z",
     "shell.execute_reply": "2024-09-15T11:59:06.277752Z"
    },
    "papermill": {
     "duration": 0.512792,
     "end_time": "2024-09-15T11:59:06.280870",
     "exception": false,
     "start_time": "2024-09-15T11:59:05.768078",
     "status": "completed"
    },
    "tags": []
   },
   "outputs": [],
   "source": [
    "group = raw_df.groupby(cols)['item_cnt_day'].aggregate(['sum'])\n",
    "group.columns = ['item_cnt_month']\n",
    "group.reset_index(inplace=True)"
   ]
  },
  {
   "cell_type": "code",
   "execution_count": 42,
   "id": "59b2fc7e",
   "metadata": {
    "execution": {
     "iopub.execute_input": "2024-09-15T11:59:06.350073Z",
     "iopub.status.busy": "2024-09-15T11:59:06.349764Z",
     "iopub.status.idle": "2024-09-15T11:59:10.347171Z",
     "shell.execute_reply": "2024-09-15T11:59:10.346291Z"
    },
    "papermill": {
     "duration": 4.034482,
     "end_time": "2024-09-15T11:59:10.349647",
     "exception": false,
     "start_time": "2024-09-15T11:59:06.315165",
     "status": "completed"
    },
    "tags": []
   },
   "outputs": [],
   "source": [
    "matrix_df = pd.merge(matrix_df, group, on=cols, how='left')\n",
    "matrix_df.fillna({'item_cnt_month':0},inplace=True)\n",
    "matrix_df['item_cnt_month'] = matrix_df['item_cnt_month'].astype('float16')"
   ]
  },
  {
   "cell_type": "code",
   "execution_count": 43,
   "id": "5b20e5a4",
   "metadata": {
    "execution": {
     "iopub.execute_input": "2024-09-15T11:59:10.420881Z",
     "iopub.status.busy": "2024-09-15T11:59:10.420499Z",
     "iopub.status.idle": "2024-09-15T11:59:10.433221Z",
     "shell.execute_reply": "2024-09-15T11:59:10.432283Z"
    },
    "papermill": {
     "duration": 0.050322,
     "end_time": "2024-09-15T11:59:10.435065",
     "exception": false,
     "start_time": "2024-09-15T11:59:10.384743",
     "status": "completed"
    },
    "tags": []
   },
   "outputs": [
    {
     "data": {
      "text/html": [
       "<div>\n",
       "<style scoped>\n",
       "    .dataframe tbody tr th:only-of-type {\n",
       "        vertical-align: middle;\n",
       "    }\n",
       "\n",
       "    .dataframe tbody tr th {\n",
       "        vertical-align: top;\n",
       "    }\n",
       "\n",
       "    .dataframe thead th {\n",
       "        text-align: right;\n",
       "    }\n",
       "</style>\n",
       "<table border=\"1\" class=\"dataframe\">\n",
       "  <thead>\n",
       "    <tr style=\"text-align: right;\">\n",
       "      <th></th>\n",
       "      <th>date_block_num</th>\n",
       "      <th>shop_id</th>\n",
       "      <th>item_id</th>\n",
       "      <th>item_cnt_month</th>\n",
       "    </tr>\n",
       "  </thead>\n",
       "  <tbody>\n",
       "    <tr>\n",
       "      <th>0</th>\n",
       "      <td>0</td>\n",
       "      <td>2</td>\n",
       "      <td>19</td>\n",
       "      <td>0.0</td>\n",
       "    </tr>\n",
       "    <tr>\n",
       "      <th>1</th>\n",
       "      <td>0</td>\n",
       "      <td>2</td>\n",
       "      <td>27</td>\n",
       "      <td>1.0</td>\n",
       "    </tr>\n",
       "    <tr>\n",
       "      <th>2</th>\n",
       "      <td>0</td>\n",
       "      <td>2</td>\n",
       "      <td>28</td>\n",
       "      <td>0.0</td>\n",
       "    </tr>\n",
       "    <tr>\n",
       "      <th>3</th>\n",
       "      <td>0</td>\n",
       "      <td>2</td>\n",
       "      <td>29</td>\n",
       "      <td>0.0</td>\n",
       "    </tr>\n",
       "    <tr>\n",
       "      <th>4</th>\n",
       "      <td>0</td>\n",
       "      <td>2</td>\n",
       "      <td>32</td>\n",
       "      <td>0.0</td>\n",
       "    </tr>\n",
       "    <tr>\n",
       "      <th>...</th>\n",
       "      <td>...</td>\n",
       "      <td>...</td>\n",
       "      <td>...</td>\n",
       "      <td>...</td>\n",
       "    </tr>\n",
       "    <tr>\n",
       "      <th>10913799</th>\n",
       "      <td>33</td>\n",
       "      <td>59</td>\n",
       "      <td>22162</td>\n",
       "      <td>0.0</td>\n",
       "    </tr>\n",
       "    <tr>\n",
       "      <th>10913800</th>\n",
       "      <td>33</td>\n",
       "      <td>59</td>\n",
       "      <td>22163</td>\n",
       "      <td>0.0</td>\n",
       "    </tr>\n",
       "    <tr>\n",
       "      <th>10913801</th>\n",
       "      <td>33</td>\n",
       "      <td>59</td>\n",
       "      <td>22164</td>\n",
       "      <td>0.0</td>\n",
       "    </tr>\n",
       "    <tr>\n",
       "      <th>10913802</th>\n",
       "      <td>33</td>\n",
       "      <td>59</td>\n",
       "      <td>22166</td>\n",
       "      <td>0.0</td>\n",
       "    </tr>\n",
       "    <tr>\n",
       "      <th>10913803</th>\n",
       "      <td>33</td>\n",
       "      <td>59</td>\n",
       "      <td>22167</td>\n",
       "      <td>0.0</td>\n",
       "    </tr>\n",
       "  </tbody>\n",
       "</table>\n",
       "<p>10913804 rows × 4 columns</p>\n",
       "</div>"
      ],
      "text/plain": [
       "          date_block_num  shop_id  item_id  item_cnt_month\n",
       "0                      0        2       19             0.0\n",
       "1                      0        2       27             1.0\n",
       "2                      0        2       28             0.0\n",
       "3                      0        2       29             0.0\n",
       "4                      0        2       32             0.0\n",
       "...                  ...      ...      ...             ...\n",
       "10913799              33       59    22162             0.0\n",
       "10913800              33       59    22163             0.0\n",
       "10913801              33       59    22164             0.0\n",
       "10913802              33       59    22166             0.0\n",
       "10913803              33       59    22167             0.0\n",
       "\n",
       "[10913804 rows x 4 columns]"
      ]
     },
     "execution_count": 43,
     "metadata": {},
     "output_type": "execute_result"
    }
   ],
   "source": [
    "matrix_df"
   ]
  },
  {
   "cell_type": "markdown",
   "id": "f446abfd",
   "metadata": {
    "papermill": {
     "duration": 0.034156,
     "end_time": "2024-09-15T11:59:10.504960",
     "exception": false,
     "start_time": "2024-09-15T11:59:10.470804",
     "status": "completed"
    },
    "tags": []
   },
   "source": [
    "Create test set with `date_block_num=34`"
   ]
  },
  {
   "cell_type": "code",
   "execution_count": 44,
   "id": "52d2ce52",
   "metadata": {
    "execution": {
     "iopub.execute_input": "2024-09-15T11:59:10.576192Z",
     "iopub.status.busy": "2024-09-15T11:59:10.575228Z",
     "iopub.status.idle": "2024-09-15T11:59:10.586032Z",
     "shell.execute_reply": "2024-09-15T11:59:10.585109Z"
    },
    "papermill": {
     "duration": 0.048551,
     "end_time": "2024-09-15T11:59:10.588317",
     "exception": false,
     "start_time": "2024-09-15T11:59:10.539766",
     "status": "completed"
    },
    "tags": []
   },
   "outputs": [],
   "source": [
    "test_df['date_block_num'] = 34\n",
    "test_df['date_block_num'] = test_df['date_block_num'].astype('int8')\n",
    "test_df['shop_id'] = test_df['shop_id'].astype('int8')\n",
    "test_df['item_id'] = test_df['item_id'].astype('int16')\n",
    "test_df.drop(columns='ID',inplace=True)"
   ]
  },
  {
   "cell_type": "code",
   "execution_count": 45,
   "id": "97dbe40b",
   "metadata": {
    "execution": {
     "iopub.execute_input": "2024-09-15T11:59:10.658624Z",
     "iopub.status.busy": "2024-09-15T11:59:10.657992Z",
     "iopub.status.idle": "2024-09-15T11:59:10.858642Z",
     "shell.execute_reply": "2024-09-15T11:59:10.857855Z"
    },
    "papermill": {
     "duration": 0.238207,
     "end_time": "2024-09-15T11:59:10.860944",
     "exception": false,
     "start_time": "2024-09-15T11:59:10.622737",
     "status": "completed"
    },
    "tags": []
   },
   "outputs": [],
   "source": [
    "concat_df = pd.concat([matrix_df,test_df]).copy()\n",
    "concat_df = concat_df.reset_index(drop=True)\n",
    "concat_df.fillna({'item_cnt_month':0},inplace=True)"
   ]
  },
  {
   "cell_type": "code",
   "execution_count": 46,
   "id": "c03ef160",
   "metadata": {
    "execution": {
     "iopub.execute_input": "2024-09-15T11:59:10.932896Z",
     "iopub.status.busy": "2024-09-15T11:59:10.932081Z",
     "iopub.status.idle": "2024-09-15T11:59:14.743172Z",
     "shell.execute_reply": "2024-09-15T11:59:14.742107Z"
    },
    "papermill": {
     "duration": 3.849151,
     "end_time": "2024-09-15T11:59:14.745382",
     "exception": false,
     "start_time": "2024-09-15T11:59:10.896231",
     "status": "completed"
    },
    "tags": []
   },
   "outputs": [
    {
     "data": {
      "text/plain": [
       "date_block_num               int8\n",
       "shop_id                      int8\n",
       "item_id                     int16\n",
       "item_cnt_month            float16\n",
       "item_category_id            int64\n",
       "item_name2                float64\n",
       "item_name3                float64\n",
       "item_type                 float64\n",
       "item_category_type        float64\n",
       "item_category_sub_type    float64\n",
       "shop_city                 float64\n",
       "shop_category             float64\n",
       "dtype: object"
      ]
     },
     "execution_count": 46,
     "metadata": {},
     "output_type": "execute_result"
    }
   ],
   "source": [
    "concat_df = pd.merge(concat_df, items_df, on='item_id', how='left')\n",
    "concat_df = pd.merge(concat_df, item_cat_df, on='item_category_id', how='left')\n",
    "concat_df = pd.merge(concat_df, shops_df, on='shop_id', how='left')\n",
    "concat_df.dtypes"
   ]
  },
  {
   "cell_type": "code",
   "execution_count": 47,
   "id": "9664e582",
   "metadata": {
    "execution": {
     "iopub.execute_input": "2024-09-15T11:59:14.817433Z",
     "iopub.status.busy": "2024-09-15T11:59:14.817043Z",
     "iopub.status.idle": "2024-09-15T11:59:14.999800Z",
     "shell.execute_reply": "2024-09-15T11:59:14.998977Z"
    },
    "papermill": {
     "duration": 0.221023,
     "end_time": "2024-09-15T11:59:15.002114",
     "exception": false,
     "start_time": "2024-09-15T11:59:14.781091",
     "status": "completed"
    },
    "tags": []
   },
   "outputs": [],
   "source": [
    "for col in ['item_category_id','item_type','item_category_type',\n",
    "            'item_category_sub_type','shop_city','shop_category']:\n",
    "    concat_df[col] = concat_df[col].astype('int8')\n",
    "concat_df['item_name2'] = concat_df['item_name2'].astype('int16')\n",
    "concat_df['item_name3'] = concat_df['item_name3'].astype('int16')"
   ]
  },
  {
   "cell_type": "markdown",
   "id": "71966302",
   "metadata": {
    "papermill": {
     "duration": 0.034271,
     "end_time": "2024-09-15T11:59:15.071366",
     "exception": false,
     "start_time": "2024-09-15T11:59:15.037095",
     "status": "completed"
    },
    "tags": []
   },
   "source": [
    "Now, we add lag feature"
   ]
  },
  {
   "cell_type": "code",
   "execution_count": 48,
   "id": "84539d13",
   "metadata": {
    "execution": {
     "iopub.execute_input": "2024-09-15T11:59:15.143213Z",
     "iopub.status.busy": "2024-09-15T11:59:15.142825Z",
     "iopub.status.idle": "2024-09-15T11:59:15.149446Z",
     "shell.execute_reply": "2024-09-15T11:59:15.148519Z"
    },
    "papermill": {
     "duration": 0.045039,
     "end_time": "2024-09-15T11:59:15.151421",
     "exception": false,
     "start_time": "2024-09-15T11:59:15.106382",
     "status": "completed"
    },
    "tags": []
   },
   "outputs": [],
   "source": [
    "def create_lag_feature(df, lags, features):\n",
    "    for feature in features:\n",
    "        print(feature)\n",
    "        for lag in lags:\n",
    "            shifted = df[['date_block_num','shop_id','item_id',feature]].copy()\n",
    "            shifted.columns = ['date_block_num','shop_id','item_id',f'{feature}_lag_{lag}']\n",
    "            shifted['date_block_num'] = shifted['date_block_num'] + lag\n",
    "            df = pd.merge(df, shifted, on=['date_block_num','shop_id','item_id'], how='left')\n",
    "    return df"
   ]
  },
  {
   "cell_type": "code",
   "execution_count": 49,
   "id": "94c2b7dd",
   "metadata": {
    "execution": {
     "iopub.execute_input": "2024-09-15T11:59:15.223530Z",
     "iopub.status.busy": "2024-09-15T11:59:15.222645Z",
     "iopub.status.idle": "2024-09-15T11:59:15.227619Z",
     "shell.execute_reply": "2024-09-15T11:59:15.226596Z"
    },
    "papermill": {
     "duration": 0.042951,
     "end_time": "2024-09-15T11:59:15.229541",
     "exception": false,
     "start_time": "2024-09-15T11:59:15.186590",
     "status": "completed"
    },
    "tags": []
   },
   "outputs": [],
   "source": [
    "lag_for_ml = [i+1 for i in range(3)]\n",
    "lag_for_lstm = [i+1 for i in range(6)]"
   ]
  },
  {
   "cell_type": "code",
   "execution_count": 50,
   "id": "f8d23cce",
   "metadata": {
    "execution": {
     "iopub.execute_input": "2024-09-15T11:59:15.302386Z",
     "iopub.status.busy": "2024-09-15T11:59:15.301661Z",
     "iopub.status.idle": "2024-09-15T11:59:52.763917Z",
     "shell.execute_reply": "2024-09-15T11:59:52.762752Z"
    },
    "papermill": {
     "duration": 37.536947,
     "end_time": "2024-09-15T11:59:52.802635",
     "exception": false,
     "start_time": "2024-09-15T11:59:15.265688",
     "status": "completed"
    },
    "tags": []
   },
   "outputs": [
    {
     "name": "stdout",
     "output_type": "stream",
     "text": [
      "item_cnt_month\n",
      "CPU times: user 30 s, sys: 7.48 s, total: 37.5 s\n",
      "Wall time: 37.5 s\n"
     ]
    }
   ],
   "source": [
    "%%time\n",
    "concat_df = create_lag_feature(concat_df, lags=lag_for_lstm, features=['item_cnt_month'])"
   ]
  },
  {
   "cell_type": "markdown",
   "id": "5134fce4",
   "metadata": {
    "execution": {
     "iopub.execute_input": "2024-09-12T06:26:15.317475Z",
     "iopub.status.busy": "2024-09-12T06:26:15.317054Z",
     "iopub.status.idle": "2024-09-12T06:26:15.325006Z",
     "shell.execute_reply": "2024-09-12T06:26:15.323221Z",
     "shell.execute_reply.started": "2024-09-12T06:26:15.317436Z"
    },
    "papermill": {
     "duration": 0.035316,
     "end_time": "2024-09-15T11:59:52.873594",
     "exception": false,
     "start_time": "2024-09-15T11:59:52.838278",
     "status": "completed"
    },
    "tags": []
   },
   "source": [
    "Add the previous month's average item_cnt."
   ]
  },
  {
   "cell_type": "code",
   "execution_count": 51,
   "id": "c51ecd36",
   "metadata": {
    "execution": {
     "iopub.execute_input": "2024-09-15T11:59:52.946122Z",
     "iopub.status.busy": "2024-09-15T11:59:52.945444Z",
     "iopub.status.idle": "2024-09-15T12:00:32.505010Z",
     "shell.execute_reply": "2024-09-15T12:00:32.504027Z"
    },
    "papermill": {
     "duration": 39.634403,
     "end_time": "2024-09-15T12:00:32.543373",
     "exception": false,
     "start_time": "2024-09-15T11:59:52.908970",
     "status": "completed"
    },
    "tags": []
   },
   "outputs": [
    {
     "name": "stdout",
     "output_type": "stream",
     "text": [
      "date_block_item_cnt_mean\n",
      "CPU times: user 31.2 s, sys: 8.35 s, total: 39.6 s\n",
      "Wall time: 39.6 s\n"
     ]
    }
   ],
   "source": [
    "%%time\n",
    "group = concat_df.groupby('date_block_num')['item_cnt_month'].aggregate(['mean'])\n",
    "group.columns = ['date_block_item_cnt_mean']\n",
    "group.reset_index(inplace=True)\n",
    "\n",
    "concat_df = pd.merge(concat_df, group, on='date_block_num', how='left')\n",
    "concat_df['date_block_item_cnt_mean'] = concat_df['date_block_item_cnt_mean'].astype('float16')\n",
    "\n",
    "concat_df = create_lag_feature(concat_df, lag_for_lstm, ['date_block_item_cnt_mean'])\n",
    "concat_df.drop(columns='date_block_item_cnt_mean', inplace=True)"
   ]
  },
  {
   "cell_type": "markdown",
   "id": "b745012e",
   "metadata": {
    "papermill": {
     "duration": 0.034053,
     "end_time": "2024-09-15T12:00:32.612375",
     "exception": false,
     "start_time": "2024-09-15T12:00:32.578322",
     "status": "completed"
    },
    "tags": []
   },
   "source": [
    "Add lag values of item_cnt_month for month / item_id."
   ]
  },
  {
   "cell_type": "code",
   "execution_count": 52,
   "id": "0e9b4cb7",
   "metadata": {
    "execution": {
     "iopub.execute_input": "2024-09-15T12:00:32.684078Z",
     "iopub.status.busy": "2024-09-15T12:00:32.683298Z",
     "iopub.status.idle": "2024-09-15T12:01:14.437689Z",
     "shell.execute_reply": "2024-09-15T12:01:14.436731Z"
    },
    "papermill": {
     "duration": 41.827021,
     "end_time": "2024-09-15T12:01:14.474432",
     "exception": false,
     "start_time": "2024-09-15T12:00:32.647411",
     "status": "completed"
    },
    "tags": []
   },
   "outputs": [
    {
     "name": "stdout",
     "output_type": "stream",
     "text": [
      "date_block_item_id_item_cnt_mean\n",
      "CPU times: user 32.5 s, sys: 9.25 s, total: 41.8 s\n",
      "Wall time: 41.7 s\n"
     ]
    }
   ],
   "source": [
    "%%time\n",
    "group = concat_df.groupby(['date_block_num','item_id'])['item_cnt_month'].aggregate(['mean'])\n",
    "group.columns = ['date_block_item_id_item_cnt_mean']\n",
    "group.reset_index(inplace=True)\n",
    "\n",
    "concat_df = pd.merge(concat_df, group, on=['date_block_num','item_id'], how='left')\n",
    "concat_df['date_block_item_id_item_cnt_mean'] = concat_df['date_block_item_id_item_cnt_mean'].astype('float16')\n",
    "\n",
    "concat_df = create_lag_feature(concat_df, lag_for_lstm, ['date_block_item_id_item_cnt_mean'])\n",
    "concat_df.drop(columns='date_block_item_id_item_cnt_mean', inplace=True)"
   ]
  },
  {
   "cell_type": "markdown",
   "id": "fd1abd3b",
   "metadata": {
    "papermill": {
     "duration": 0.034282,
     "end_time": "2024-09-15T12:01:14.543023",
     "exception": false,
     "start_time": "2024-09-15T12:01:14.508741",
     "status": "completed"
    },
    "tags": []
   },
   "source": [
    "Add lag values of item_cnt_month for month / shop_id."
   ]
  },
  {
   "cell_type": "code",
   "execution_count": 53,
   "id": "674d8ca8",
   "metadata": {
    "execution": {
     "iopub.execute_input": "2024-09-15T12:01:14.612858Z",
     "iopub.status.busy": "2024-09-15T12:01:14.612547Z",
     "iopub.status.idle": "2024-09-15T12:01:57.422011Z",
     "shell.execute_reply": "2024-09-15T12:01:57.421003Z"
    },
    "papermill": {
     "duration": 42.883909,
     "end_time": "2024-09-15T12:01:57.461111",
     "exception": false,
     "start_time": "2024-09-15T12:01:14.577202",
     "status": "completed"
    },
    "tags": []
   },
   "outputs": [
    {
     "name": "stdout",
     "output_type": "stream",
     "text": [
      "date_block_shop_id_item_cnt_mean\n",
      "CPU times: user 32.8 s, sys: 9.99 s, total: 42.8 s\n",
      "Wall time: 42.8 s\n"
     ]
    }
   ],
   "source": [
    "%%time\n",
    "group = concat_df.groupby(['date_block_num','shop_id'])['item_cnt_month'].aggregate(['mean'])\n",
    "group.columns = ['date_block_shop_id_item_cnt_mean']\n",
    "group.reset_index(inplace=True)\n",
    "\n",
    "concat_df = pd.merge(concat_df, group, on=['date_block_num','shop_id'], how='left')\n",
    "concat_df['date_block_shop_id_item_cnt_mean'] = concat_df['date_block_shop_id_item_cnt_mean'].astype('float16')\n",
    "\n",
    "concat_df = create_lag_feature(concat_df, lag_for_lstm, ['date_block_shop_id_item_cnt_mean'])\n",
    "concat_df.drop(columns='date_block_shop_id_item_cnt_mean', inplace=True)"
   ]
  },
  {
   "cell_type": "markdown",
   "id": "9805b30c",
   "metadata": {
    "papermill": {
     "duration": 0.035903,
     "end_time": "2024-09-15T12:01:57.533754",
     "exception": false,
     "start_time": "2024-09-15T12:01:57.497851",
     "status": "completed"
    },
    "tags": []
   },
   "source": [
    "Add lag values for item_cnt_month for month/shop/item."
   ]
  },
  {
   "cell_type": "code",
   "execution_count": 54,
   "id": "6aa61210",
   "metadata": {
    "execution": {
     "iopub.execute_input": "2024-09-15T12:01:57.607732Z",
     "iopub.status.busy": "2024-09-15T12:01:57.607053Z",
     "iopub.status.idle": "2024-09-15T12:02:49.677027Z",
     "shell.execute_reply": "2024-09-15T12:02:49.676042Z"
    },
    "papermill": {
     "duration": 52.145536,
     "end_time": "2024-09-15T12:02:49.715208",
     "exception": false,
     "start_time": "2024-09-15T12:01:57.569672",
     "status": "completed"
    },
    "tags": []
   },
   "outputs": [
    {
     "name": "stdout",
     "output_type": "stream",
     "text": [
      "date_block_shop_id_item_id_item_cnt_mean\n",
      "CPU times: user 40.1 s, sys: 12 s, total: 52.1 s\n",
      "Wall time: 52.1 s\n"
     ]
    }
   ],
   "source": [
    "%%time\n",
    "group = concat_df.groupby(['date_block_num','shop_id','item_id'])['item_cnt_month'].aggregate(['mean'])\n",
    "group.columns = ['date_block_shop_id_item_id_item_cnt_mean']\n",
    "group.reset_index(inplace=True)\n",
    "\n",
    "concat_df = pd.merge(concat_df, group, on=['date_block_num','shop_id','item_id'], how='left')\n",
    "concat_df['date_block_shop_id_item_id_item_cnt_mean'] = concat_df['date_block_shop_id_item_id_item_cnt_mean'].astype('float16')\n",
    "\n",
    "concat_df = create_lag_feature(concat_df, lag_for_lstm, ['date_block_shop_id_item_id_item_cnt_mean'])\n",
    "concat_df.drop(columns='date_block_shop_id_item_id_item_cnt_mean', inplace=True)"
   ]
  },
  {
   "cell_type": "markdown",
   "id": "933e9607",
   "metadata": {
    "papermill": {
     "duration": 0.035634,
     "end_time": "2024-09-15T12:02:49.787130",
     "exception": false,
     "start_time": "2024-09-15T12:02:49.751496",
     "status": "completed"
    },
    "tags": []
   },
   "source": [
    "Add lag values for item_cnt_month for month/shop/item subtype."
   ]
  },
  {
   "cell_type": "code",
   "execution_count": 55,
   "id": "aa03ee6d",
   "metadata": {
    "execution": {
     "iopub.execute_input": "2024-09-15T12:02:49.860638Z",
     "iopub.status.busy": "2024-09-15T12:02:49.859990Z",
     "iopub.status.idle": "2024-09-15T12:03:35.445405Z",
     "shell.execute_reply": "2024-09-15T12:03:35.444426Z"
    },
    "papermill": {
     "duration": 45.659667,
     "end_time": "2024-09-15T12:03:35.483106",
     "exception": false,
     "start_time": "2024-09-15T12:02:49.823439",
     "status": "completed"
    },
    "tags": []
   },
   "outputs": [
    {
     "name": "stdout",
     "output_type": "stream",
     "text": [
      "date_block_shop_id_item_category_type_item_cnt_mean\n",
      "CPU times: user 34.4 s, sys: 11.2 s, total: 45.6 s\n",
      "Wall time: 45.6 s\n"
     ]
    }
   ],
   "source": [
    "%%time\n",
    "group = concat_df.groupby(['date_block_num','shop_id','item_category_type'])['item_cnt_month'].aggregate(['mean'])\n",
    "group.columns = ['date_block_shop_id_item_category_type_item_cnt_mean']\n",
    "group.reset_index(inplace=True)\n",
    "\n",
    "concat_df = pd.merge(concat_df, group, on=['date_block_num','shop_id','item_category_type'], how='left')\n",
    "concat_df['date_block_shop_id_item_category_type_item_cnt_mean'] = concat_df['date_block_shop_id_item_category_type_item_cnt_mean'].astype('float16')\n",
    "\n",
    "concat_df = create_lag_feature(concat_df, lag_for_lstm, ['date_block_shop_id_item_category_type_item_cnt_mean'])\n",
    "concat_df.drop(columns='date_block_shop_id_item_category_type_item_cnt_mean', inplace=True)"
   ]
  },
  {
   "cell_type": "markdown",
   "id": "377b122d",
   "metadata": {
    "papermill": {
     "duration": 0.035275,
     "end_time": "2024-09-15T12:03:35.554169",
     "exception": false,
     "start_time": "2024-09-15T12:03:35.518894",
     "status": "completed"
    },
    "tags": []
   },
   "source": [
    "Add lag values for item_cnt_month for month/city."
   ]
  },
  {
   "cell_type": "code",
   "execution_count": 56,
   "id": "ce64ac96",
   "metadata": {
    "execution": {
     "iopub.execute_input": "2024-09-15T12:03:35.627259Z",
     "iopub.status.busy": "2024-09-15T12:03:35.626412Z",
     "iopub.status.idle": "2024-09-15T12:04:22.335556Z",
     "shell.execute_reply": "2024-09-15T12:04:22.334563Z"
    },
    "papermill": {
     "duration": 46.783522,
     "end_time": "2024-09-15T12:04:22.373137",
     "exception": false,
     "start_time": "2024-09-15T12:03:35.589615",
     "status": "completed"
    },
    "tags": []
   },
   "outputs": [
    {
     "name": "stdout",
     "output_type": "stream",
     "text": [
      "date_block_shop_city_item_cnt_mean\n",
      "CPU times: user 35 s, sys: 11.7 s, total: 46.7 s\n",
      "Wall time: 46.7 s\n"
     ]
    }
   ],
   "source": [
    "%%time\n",
    "group = concat_df.groupby(['date_block_num','shop_city'])['item_cnt_month'].aggregate(['mean'])\n",
    "group.columns = ['date_block_shop_city_item_cnt_mean']\n",
    "group.reset_index(inplace=True)\n",
    "\n",
    "concat_df = pd.merge(concat_df, group, on=['date_block_num','shop_city'], how='left')\n",
    "concat_df['date_block_shop_city_item_cnt_mean'] = concat_df['date_block_shop_city_item_cnt_mean'].astype('float16')\n",
    "\n",
    "concat_df = create_lag_feature(concat_df, lag_for_lstm, ['date_block_shop_city_item_cnt_mean'])\n",
    "concat_df.drop(columns='date_block_shop_city_item_cnt_mean', inplace=True)"
   ]
  },
  {
   "cell_type": "markdown",
   "id": "7cbe0721",
   "metadata": {
    "papermill": {
     "duration": 0.035877,
     "end_time": "2024-09-15T12:04:22.445297",
     "exception": false,
     "start_time": "2024-09-15T12:04:22.409420",
     "status": "completed"
    },
    "tags": []
   },
   "source": [
    "Add lag values for item_cnt_month for month/city/item."
   ]
  },
  {
   "cell_type": "code",
   "execution_count": 57,
   "id": "40c4ba87",
   "metadata": {
    "execution": {
     "iopub.execute_input": "2024-09-15T12:04:22.519707Z",
     "iopub.status.busy": "2024-09-15T12:04:22.518884Z",
     "iopub.status.idle": "2024-09-15T12:05:15.691164Z",
     "shell.execute_reply": "2024-09-15T12:05:15.690170Z"
    },
    "papermill": {
     "duration": 53.246785,
     "end_time": "2024-09-15T12:05:15.728679",
     "exception": false,
     "start_time": "2024-09-15T12:04:22.481894",
     "status": "completed"
    },
    "tags": []
   },
   "outputs": [
    {
     "name": "stdout",
     "output_type": "stream",
     "text": [
      "date_block_shop_city_item_id_item_cnt_mean\n",
      "CPU times: user 39.9 s, sys: 13.3 s, total: 53.2 s\n",
      "Wall time: 53.2 s\n"
     ]
    }
   ],
   "source": [
    "%%time\n",
    "group = concat_df.groupby(['date_block_num','shop_city','item_id'])['item_cnt_month'].aggregate(['mean'])\n",
    "group.columns = ['date_block_shop_city_item_id_item_cnt_mean']\n",
    "group.reset_index(inplace=True)\n",
    "\n",
    "concat_df = pd.merge(concat_df, group, on=['date_block_num','shop_city','item_id'], how='left')\n",
    "concat_df['date_block_shop_city_item_id_item_cnt_mean'] = concat_df['date_block_shop_city_item_id_item_cnt_mean'].astype('float16')\n",
    "\n",
    "concat_df = create_lag_feature(concat_df, lag_for_lstm, ['date_block_shop_city_item_id_item_cnt_mean'])\n",
    "concat_df.drop(columns='date_block_shop_city_item_id_item_cnt_mean', inplace=True)"
   ]
  },
  {
   "cell_type": "markdown",
   "id": "7cdbaf4e",
   "metadata": {
    "papermill": {
     "duration": 0.034838,
     "end_time": "2024-09-15T12:05:15.799208",
     "exception": false,
     "start_time": "2024-09-15T12:05:15.764370",
     "status": "completed"
    },
    "tags": []
   },
   "source": [
    "Now, we add price features to concat_df"
   ]
  },
  {
   "cell_type": "code",
   "execution_count": 58,
   "id": "fbb84ad7",
   "metadata": {
    "execution": {
     "iopub.execute_input": "2024-09-15T12:05:15.871514Z",
     "iopub.status.busy": "2024-09-15T12:05:15.871148Z",
     "iopub.status.idle": "2024-09-15T12:09:17.837315Z",
     "shell.execute_reply": "2024-09-15T12:09:17.836345Z"
    },
    "papermill": {
     "duration": 242.041064,
     "end_time": "2024-09-15T12:09:17.875988",
     "exception": false,
     "start_time": "2024-09-15T12:05:15.834924",
     "status": "completed"
    },
    "tags": []
   },
   "outputs": [
    {
     "name": "stdout",
     "output_type": "stream",
     "text": [
      "date_block_item_id_item_price_mean\n",
      "CPU times: user 3min 46s, sys: 15.5 s, total: 4min 2s\n",
      "Wall time: 4min 1s\n"
     ]
    }
   ],
   "source": [
    "%%time\n",
    "group = raw_df.groupby('item_id')['item_price'].aggregate(['mean'])\n",
    "group.columns = ['item_id_item_price_mean']\n",
    "group.reset_index(inplace=True)\n",
    "\n",
    "concat_df = pd.merge(concat_df, group, on='item_id', how='left')\n",
    "concat_df['item_id_item_price_mean'] = concat_df['item_id_item_price_mean'].astype('float16')\n",
    "\n",
    "group = raw_df.groupby(['date_block_num','item_id'])['item_price'].aggregate(['mean'])\n",
    "group.columns = ['date_block_item_id_item_price_mean']\n",
    "group.reset_index(inplace=True)\n",
    "\n",
    "concat_df = pd.merge(concat_df, group, on=['date_block_num','item_id'], how='left')\n",
    "concat_df['date_block_item_id_item_price_mean'] = concat_df['date_block_item_id_item_price_mean'].astype('float16')\n",
    "\n",
    "concat_df = create_lag_feature(concat_df, lag_for_lstm, ['date_block_item_id_item_price_mean'])\n",
    "for i in lag_for_lstm:\n",
    "    concat_df[f'delta_price_lag_{i}'] = (concat_df[f'date_block_item_id_item_price_mean_lag_{i}']-concat_df['item_id_item_price_mean'])/concat_df['item_id_item_price_mean']\n",
    "    concat_df[f'delta_price_lag_{i}'] = concat_df[f'delta_price_lag_{i}'].astype('float32')\n",
    "    \n",
    "def select_trend(x):\n",
    "    for i in lag_for_lstm:\n",
    "        if x[f'delta_price_lag_{i}']:\n",
    "            return x[f'delta_price_lag_{i}']\n",
    "    return 0\n",
    "concat_df['delta_price_lag'] = concat_df.apply(select_trend, axis=1)\n",
    "concat_df['delta_price_lag'] = concat_df['delta_price_lag'].astype('float32')\n",
    "concat_df.fillna({'delta_price_lag':0}, inplace=True)\n",
    "\n",
    "drop_cols = ['date_block_item_id_item_price_mean','item_id_item_price_mean']\n",
    "for lag in lag_for_lstm:\n",
    "    drop_cols.append(f'date_block_item_id_item_price_mean_lag_{lag}')\n",
    "concat_df.drop(columns=drop_cols, inplace=True)"
   ]
  },
  {
   "cell_type": "markdown",
   "id": "e3936fa8",
   "metadata": {
    "papermill": {
     "duration": 0.036381,
     "end_time": "2024-09-15T12:09:17.948942",
     "exception": false,
     "start_time": "2024-09-15T12:09:17.912561",
     "status": "completed"
    },
    "tags": []
   },
   "source": [
    "We evaluate how current month average pirce relates to global average."
   ]
  },
  {
   "cell_type": "markdown",
   "id": "54580eef",
   "metadata": {
    "papermill": {
     "duration": 0.036488,
     "end_time": "2024-09-15T12:09:18.022229",
     "exception": false,
     "start_time": "2024-09-15T12:09:17.985741",
     "status": "completed"
    },
    "tags": []
   },
   "source": [
    "We do similarly with revenue"
   ]
  },
  {
   "cell_type": "code",
   "execution_count": 59,
   "id": "0ea70df2",
   "metadata": {
    "execution": {
     "iopub.execute_input": "2024-09-15T12:09:18.098030Z",
     "iopub.status.busy": "2024-09-15T12:09:18.097136Z",
     "iopub.status.idle": "2024-09-15T12:10:07.372409Z",
     "shell.execute_reply": "2024-09-15T12:10:07.371318Z"
    },
    "papermill": {
     "duration": 49.351655,
     "end_time": "2024-09-15T12:10:07.411135",
     "exception": false,
     "start_time": "2024-09-15T12:09:18.059480",
     "status": "completed"
    },
    "tags": []
   },
   "outputs": [
    {
     "name": "stdout",
     "output_type": "stream",
     "text": [
      "delta_revenue\n",
      "CPU times: user 36.1 s, sys: 13.2 s, total: 49.3 s\n",
      "Wall time: 49.3 s\n"
     ]
    }
   ],
   "source": [
    "%%time\n",
    "group = raw_df.groupby('shop_id')['revenue'].aggregate(['mean'])\n",
    "group.columns = ['shop_id_revenue_mean']\n",
    "group.reset_index(inplace=True)\n",
    "\n",
    "concat_df = pd.merge(concat_df, group, on='shop_id', how='left')\n",
    "concat_df['shop_id_revenue_mean'] = concat_df['shop_id_revenue_mean'].astype('float16')\n",
    "\n",
    "group = raw_df.groupby(['date_block_num','shop_id'])['revenue'].aggregate(['mean'])\n",
    "group.columns = ['date_block_shop_id_revenue_mean']\n",
    "group.reset_index(inplace=True)\n",
    "\n",
    "concat_df = pd.merge(concat_df, group, on=['date_block_num','shop_id'], how='left')\n",
    "concat_df['date_block_shop_id_revenue_mean'] = concat_df['date_block_shop_id_revenue_mean'].astype('float16')\n",
    "\n",
    "concat_df['delta_revenue'] = (concat_df['date_block_shop_id_revenue_mean']-concat_df['shop_id_revenue_mean'])/concat_df['shop_id_revenue_mean']\n",
    "concat_df['delta_revenue'] = concat_df['delta_revenue'].astype('float32')\n",
    "\n",
    "concat_df = create_lag_feature(concat_df, lag_for_lstm, ['delta_revenue'])\n",
    "for lag in lag_for_lstm:\n",
    "    concat_df[f'delta_revenue_lag_{lag}'] = concat_df[f'delta_revenue_lag_{lag}'].astype('float32')\n",
    "\n",
    "concat_df.drop(columns=['delta_revenue','date_block_shop_id_revenue_mean','shop_id_revenue_mean'],inplace=True)"
   ]
  },
  {
   "cell_type": "code",
   "execution_count": 60,
   "id": "310482ab",
   "metadata": {
    "execution": {
     "iopub.execute_input": "2024-09-15T12:10:07.486643Z",
     "iopub.status.busy": "2024-09-15T12:10:07.485748Z",
     "iopub.status.idle": "2024-09-15T12:10:56.465980Z",
     "shell.execute_reply": "2024-09-15T12:10:56.464994Z"
    },
    "papermill": {
     "duration": 49.056305,
     "end_time": "2024-09-15T12:10:56.503876",
     "exception": false,
     "start_time": "2024-09-15T12:10:07.447571",
     "status": "completed"
    },
    "tags": []
   },
   "outputs": [
    {
     "name": "stdout",
     "output_type": "stream",
     "text": [
      "CPU times: user 47.2 s, sys: 1.86 s, total: 49.1 s\n",
      "Wall time: 49 s\n"
     ]
    }
   ],
   "source": [
    "%%time\n",
    "concat_df['month'] = concat_df['date_block_num'] % 12\n",
    "days = pd.Series([31,28,31,30,31,30,31,31,30,31,30,31])\n",
    "concat_df['days'] = concat_df['month'].map(days).astype('int8')\n",
    "for lag in lag_for_lstm:\n",
    "    concat_df[f'month_lag_{lag}'] = (concat_df['date_block_num'] - lag) % 12\n",
    "    concat_df[f'days_lag_{lag}'] = concat_df[f'month_lag_{lag}'].map(days).astype('int8')\n",
    "    concat_df[f'date_block_num_lag_{lag}'] = concat_df['date_block_num'].apply(lambda x: x-lag if x>=lag else 0)"
   ]
  },
  {
   "cell_type": "code",
   "execution_count": 61,
   "id": "72135b26",
   "metadata": {
    "execution": {
     "iopub.execute_input": "2024-09-15T12:10:56.578832Z",
     "iopub.status.busy": "2024-09-15T12:10:56.578420Z",
     "iopub.status.idle": "2024-09-15T12:10:57.808853Z",
     "shell.execute_reply": "2024-09-15T12:10:57.808025Z"
    },
    "papermill": {
     "duration": 1.271044,
     "end_time": "2024-09-15T12:10:57.811384",
     "exception": false,
     "start_time": "2024-09-15T12:10:56.540340",
     "status": "completed"
    },
    "tags": []
   },
   "outputs": [],
   "source": [
    "concat_df['item_shop_first_sale'] = concat_df['date_block_num'] - concat_df.groupby(['item_id','shop_id'])['date_block_num'].transform('min')\n",
    "concat_df['item_first_sale'] = concat_df['date_block_num'] - concat_df.groupby(['item_id'])['date_block_num'].transform('min')"
   ]
  },
  {
   "cell_type": "code",
   "execution_count": 62,
   "id": "6d34525c",
   "metadata": {
    "execution": {
     "iopub.execute_input": "2024-09-15T12:10:57.890173Z",
     "iopub.status.busy": "2024-09-15T12:10:57.889152Z",
     "iopub.status.idle": "2024-09-15T12:10:57.893831Z",
     "shell.execute_reply": "2024-09-15T12:10:57.892937Z"
    },
    "papermill": {
     "duration": 0.044988,
     "end_time": "2024-09-15T12:10:57.895821",
     "exception": false,
     "start_time": "2024-09-15T12:10:57.850833",
     "status": "completed"
    },
    "tags": []
   },
   "outputs": [],
   "source": [
    "#concat_df = concat_df[concat_df['date_block_num']>4] # Remove first 3 months to have lag values"
   ]
  },
  {
   "cell_type": "code",
   "execution_count": 63,
   "id": "b098c575",
   "metadata": {
    "execution": {
     "iopub.execute_input": "2024-09-15T12:10:57.971793Z",
     "iopub.status.busy": "2024-09-15T12:10:57.971426Z",
     "iopub.status.idle": "2024-09-15T12:10:57.975874Z",
     "shell.execute_reply": "2024-09-15T12:10:57.974892Z"
    },
    "papermill": {
     "duration": 0.044605,
     "end_time": "2024-09-15T12:10:57.977872",
     "exception": false,
     "start_time": "2024-09-15T12:10:57.933267",
     "status": "completed"
    },
    "tags": []
   },
   "outputs": [],
   "source": [
    "#concat_df.head().T"
   ]
  },
  {
   "cell_type": "code",
   "execution_count": 64,
   "id": "ae4d7147",
   "metadata": {
    "execution": {
     "iopub.execute_input": "2024-09-15T12:10:58.055357Z",
     "iopub.status.busy": "2024-09-15T12:10:58.054941Z",
     "iopub.status.idle": "2024-09-15T12:11:08.209003Z",
     "shell.execute_reply": "2024-09-15T12:11:08.208192Z"
    },
    "papermill": {
     "duration": 10.196576,
     "end_time": "2024-09-15T12:11:08.211565",
     "exception": false,
     "start_time": "2024-09-15T12:10:58.014989",
     "status": "completed"
    },
    "tags": []
   },
   "outputs": [],
   "source": [
    "concat_df.fillna(0,inplace=True)"
   ]
  },
  {
   "cell_type": "code",
   "execution_count": 65,
   "id": "904efdcb",
   "metadata": {
    "execution": {
     "iopub.execute_input": "2024-09-15T12:11:08.286083Z",
     "iopub.status.busy": "2024-09-15T12:11:08.285210Z",
     "iopub.status.idle": "2024-09-15T12:11:08.291192Z",
     "shell.execute_reply": "2024-09-15T12:11:08.290312Z"
    },
    "papermill": {
     "duration": 0.045064,
     "end_time": "2024-09-15T12:11:08.293226",
     "exception": false,
     "start_time": "2024-09-15T12:11:08.248162",
     "status": "completed"
    },
    "tags": []
   },
   "outputs": [
    {
     "data": {
      "text/plain": [
       "[1, 2, 3]"
      ]
     },
     "execution_count": 65,
     "metadata": {},
     "output_type": "execute_result"
    }
   ],
   "source": [
    "lag_for_ml"
   ]
  },
  {
   "cell_type": "code",
   "execution_count": 66,
   "id": "684db7de",
   "metadata": {
    "execution": {
     "iopub.execute_input": "2024-09-15T12:11:08.369453Z",
     "iopub.status.busy": "2024-09-15T12:11:08.368571Z",
     "iopub.status.idle": "2024-09-15T12:11:08.828954Z",
     "shell.execute_reply": "2024-09-15T12:11:08.827956Z"
    },
    "papermill": {
     "duration": 0.502563,
     "end_time": "2024-09-15T12:11:08.832306",
     "exception": false,
     "start_time": "2024-09-15T12:11:08.329743",
     "status": "completed"
    },
    "tags": []
   },
   "outputs": [
    {
     "name": "stdout",
     "output_type": "stream",
     "text": [
      "CPU times: user 237 ms, sys: 213 ms, total: 450 ms\n",
      "Wall time: 449 ms\n"
     ]
    },
    {
     "name": "stderr",
     "output_type": "stream",
     "text": [
      "<timed exec>:25: PerformanceWarning: DataFrame is highly fragmented.  This is usually the result of calling `frame.insert` many times, which has poor performance.  Consider joining all columns at once using pd.concat(axis=1) instead. To get a de-fragmented frame, use `newframe = frame.copy()`\n",
      "<timed exec>:25: PerformanceWarning: DataFrame is highly fragmented.  This is usually the result of calling `frame.insert` many times, which has poor performance.  Consider joining all columns at once using pd.concat(axis=1) instead. To get a de-fragmented frame, use `newframe = frame.copy()`\n",
      "<timed exec>:25: PerformanceWarning: DataFrame is highly fragmented.  This is usually the result of calling `frame.insert` many times, which has poor performance.  Consider joining all columns at once using pd.concat(axis=1) instead. To get a de-fragmented frame, use `newframe = frame.copy()`\n",
      "<timed exec>:25: PerformanceWarning: DataFrame is highly fragmented.  This is usually the result of calling `frame.insert` many times, which has poor performance.  Consider joining all columns at once using pd.concat(axis=1) instead. To get a de-fragmented frame, use `newframe = frame.copy()`\n"
     ]
    },
    {
     "data": {
      "text/plain": [
       "(43, 150)"
      ]
     },
     "execution_count": 66,
     "metadata": {},
     "output_type": "execute_result"
    }
   ],
   "source": [
    "%%time\n",
    "time_series_features_for_ml = []\n",
    "time_series_features_for_lstm = []\n",
    "# Add lag features first\n",
    "lag_features = ['date_block_shop_city_item_cnt_mean',\n",
    "                'date_block_shop_id_item_cnt_mean',\n",
    "                'date_block_item_cnt_mean',\n",
    "                'date_block_shop_id_item_category_type_item_cnt_mean',\n",
    "                'date_block_shop_id_item_id_item_cnt_mean',\n",
    "                'date_block_shop_city_item_id_item_cnt_mean',\n",
    "                'date_block_item_id_item_cnt_mean',\n",
    "                'delta_revenue',\n",
    "                'delta_price',\n",
    "                'month', 'days',\n",
    "                'date_block_num',\n",
    "                'item_cnt_month']\n",
    "# Add other feature\n",
    "other_features = ['item_type','item_shop_first_sale','item_first_sale',\n",
    "                  'item_name3','item_name2','shop_city','shop_id',\n",
    "                  'item_category_sub_type',\n",
    "                  'item_category_id',\n",
    "                  'item_category_type','shop_category',\n",
    "                  'item_id']\n",
    "for feature in other_features:\n",
    "    for lag in lag_for_lstm:\n",
    "        concat_df[f'{feature}_lag_{lag}'] = concat_df[feature]\n",
    "all_features = other_features + lag_features\n",
    "\n",
    "for lag in list(reversed(lag_for_ml)):\n",
    "    for feature in lag_features[:-5] + ['item_cnt_month']:\n",
    "        time_series_features_for_ml.append(f'{feature}_lag_{lag}')\n",
    "time_series_features_for_ml += other_features\n",
    "time_series_features_for_ml += ['delta_price_lag','month','days','date_block_num']\n",
    "\n",
    "for lag in list(reversed(lag_for_lstm)):\n",
    "    for feature in all_features:\n",
    "        time_series_features_for_lstm.append(f'{feature}_lag_{lag}')\n",
    "\n",
    "len(time_series_features_for_ml), len(time_series_features_for_lstm)"
   ]
  },
  {
   "cell_type": "markdown",
   "id": "c1814e39",
   "metadata": {
    "papermill": {
     "duration": 0.037082,
     "end_time": "2024-09-15T12:11:08.908087",
     "exception": false,
     "start_time": "2024-09-15T12:11:08.871005",
     "status": "completed"
    },
    "tags": []
   },
   "source": [
    "## Mutual Info"
   ]
  },
  {
   "cell_type": "code",
   "execution_count": 67,
   "id": "e8abf054",
   "metadata": {
    "execution": {
     "iopub.execute_input": "2024-09-15T12:11:08.984928Z",
     "iopub.status.busy": "2024-09-15T12:11:08.984568Z",
     "iopub.status.idle": "2024-09-15T12:11:11.221403Z",
     "shell.execute_reply": "2024-09-15T12:11:11.220507Z"
    },
    "papermill": {
     "duration": 2.278199,
     "end_time": "2024-09-15T12:11:11.223800",
     "exception": false,
     "start_time": "2024-09-15T12:11:08.945601",
     "status": "completed"
    },
    "tags": []
   },
   "outputs": [],
   "source": [
    "sample_inputs = concat_df[(concat_df['date_block_num']>=28)&(concat_df['date_block_num']<=33)][time_series_features_for_ml]\n",
    "sample_targets = concat_df[(concat_df['date_block_num']>=28)&(concat_df['date_block_num']<=33)]['item_cnt_month']\n",
    "sample_targets = sample_targets.clip(0,20).astype('int8')"
   ]
  },
  {
   "cell_type": "code",
   "execution_count": 68,
   "id": "40163bbb",
   "metadata": {
    "execution": {
     "iopub.execute_input": "2024-09-15T12:11:11.297994Z",
     "iopub.status.busy": "2024-09-15T12:11:11.297677Z",
     "iopub.status.idle": "2024-09-15T12:17:44.685732Z",
     "shell.execute_reply": "2024-09-15T12:17:44.684754Z"
    },
    "papermill": {
     "duration": 393.463741,
     "end_time": "2024-09-15T12:17:44.724402",
     "exception": false,
     "start_time": "2024-09-15T12:11:11.260661",
     "status": "completed"
    },
    "tags": []
   },
   "outputs": [
    {
     "name": "stdout",
     "output_type": "stream",
     "text": [
      "CPU times: user 6min 32s, sys: 1.25 s, total: 6min 33s\n",
      "Wall time: 6min 33s\n"
     ]
    }
   ],
   "source": [
    "%%time\n",
    "mutual_info = mutual_info_classif(sample_inputs, sample_targets, random_state=42)\n",
    "mutual_info = pd.Series(mutual_info)\n",
    "mutual_info.index = sample_inputs.columns\n",
    "mutual_info = pd.DataFrame(mutual_info.sort_values(ascending=False), columns = [\"Numerical_Feature_MI\"] )"
   ]
  },
  {
   "cell_type": "code",
   "execution_count": 69,
   "id": "ab8c651e",
   "metadata": {
    "execution": {
     "iopub.execute_input": "2024-09-15T12:17:44.798385Z",
     "iopub.status.busy": "2024-09-15T12:17:44.798025Z",
     "iopub.status.idle": "2024-09-15T12:17:44.810439Z",
     "shell.execute_reply": "2024-09-15T12:17:44.809560Z"
    },
    "papermill": {
     "duration": 0.051757,
     "end_time": "2024-09-15T12:17:44.812628",
     "exception": false,
     "start_time": "2024-09-15T12:17:44.760871",
     "status": "completed"
    },
    "tags": []
   },
   "outputs": [
    {
     "data": {
      "text/html": [
       "<div>\n",
       "<style scoped>\n",
       "    .dataframe tbody tr th:only-of-type {\n",
       "        vertical-align: middle;\n",
       "    }\n",
       "\n",
       "    .dataframe tbody tr th {\n",
       "        vertical-align: top;\n",
       "    }\n",
       "\n",
       "    .dataframe thead th {\n",
       "        text-align: right;\n",
       "    }\n",
       "</style>\n",
       "<table border=\"1\" class=\"dataframe\">\n",
       "  <thead>\n",
       "    <tr style=\"text-align: right;\">\n",
       "      <th></th>\n",
       "      <th>Numerical_Feature_MI</th>\n",
       "    </tr>\n",
       "  </thead>\n",
       "  <tbody>\n",
       "    <tr>\n",
       "      <th>days</th>\n",
       "      <td>0.153460</td>\n",
       "    </tr>\n",
       "    <tr>\n",
       "      <th>item_id</th>\n",
       "      <td>0.100862</td>\n",
       "    </tr>\n",
       "    <tr>\n",
       "      <th>shop_category</th>\n",
       "      <td>0.091989</td>\n",
       "    </tr>\n",
       "    <tr>\n",
       "      <th>date_block_item_id_item_cnt_mean_lag_1</th>\n",
       "      <td>0.076433</td>\n",
       "    </tr>\n",
       "    <tr>\n",
       "      <th>date_block_shop_city_item_id_item_cnt_mean_lag_1</th>\n",
       "      <td>0.071089</td>\n",
       "    </tr>\n",
       "    <tr>\n",
       "      <th>date_block_shop_id_item_id_item_cnt_mean_lag_1</th>\n",
       "      <td>0.068149</td>\n",
       "    </tr>\n",
       "    <tr>\n",
       "      <th>item_cnt_month_lag_1</th>\n",
       "      <td>0.067755</td>\n",
       "    </tr>\n",
       "    <tr>\n",
       "      <th>delta_price_lag</th>\n",
       "      <td>0.063647</td>\n",
       "    </tr>\n",
       "    <tr>\n",
       "      <th>date_block_item_id_item_cnt_mean_lag_2</th>\n",
       "      <td>0.059208</td>\n",
       "    </tr>\n",
       "    <tr>\n",
       "      <th>item_category_type</th>\n",
       "      <td>0.056428</td>\n",
       "    </tr>\n",
       "    <tr>\n",
       "      <th>date_block_shop_city_item_id_item_cnt_mean_lag_2</th>\n",
       "      <td>0.053048</td>\n",
       "    </tr>\n",
       "    <tr>\n",
       "      <th>item_cnt_month_lag_2</th>\n",
       "      <td>0.052039</td>\n",
       "    </tr>\n",
       "    <tr>\n",
       "      <th>date_block_shop_id_item_id_item_cnt_mean_lag_2</th>\n",
       "      <td>0.051934</td>\n",
       "    </tr>\n",
       "    <tr>\n",
       "      <th>date_block_num</th>\n",
       "      <td>0.050866</td>\n",
       "    </tr>\n",
       "    <tr>\n",
       "      <th>item_category_id</th>\n",
       "      <td>0.050204</td>\n",
       "    </tr>\n",
       "    <tr>\n",
       "      <th>date_block_item_id_item_cnt_mean_lag_3</th>\n",
       "      <td>0.050102</td>\n",
       "    </tr>\n",
       "    <tr>\n",
       "      <th>date_block_shop_id_item_category_type_item_cnt_mean_lag_1</th>\n",
       "      <td>0.045820</td>\n",
       "    </tr>\n",
       "    <tr>\n",
       "      <th>month</th>\n",
       "      <td>0.044576</td>\n",
       "    </tr>\n",
       "    <tr>\n",
       "      <th>date_block_item_cnt_mean_lag_1</th>\n",
       "      <td>0.043199</td>\n",
       "    </tr>\n",
       "    <tr>\n",
       "      <th>item_category_sub_type</th>\n",
       "      <td>0.042950</td>\n",
       "    </tr>\n",
       "    <tr>\n",
       "      <th>date_block_shop_city_item_id_item_cnt_mean_lag_3</th>\n",
       "      <td>0.042909</td>\n",
       "    </tr>\n",
       "    <tr>\n",
       "      <th>item_cnt_month_lag_3</th>\n",
       "      <td>0.042545</td>\n",
       "    </tr>\n",
       "    <tr>\n",
       "      <th>date_block_shop_id_item_id_item_cnt_mean_lag_3</th>\n",
       "      <td>0.042121</td>\n",
       "    </tr>\n",
       "    <tr>\n",
       "      <th>date_block_shop_id_item_category_type_item_cnt_mean_lag_2</th>\n",
       "      <td>0.040216</td>\n",
       "    </tr>\n",
       "    <tr>\n",
       "      <th>date_block_item_cnt_mean_lag_2</th>\n",
       "      <td>0.039341</td>\n",
       "    </tr>\n",
       "    <tr>\n",
       "      <th>date_block_item_cnt_mean_lag_3</th>\n",
       "      <td>0.038076</td>\n",
       "    </tr>\n",
       "    <tr>\n",
       "      <th>date_block_shop_id_item_category_type_item_cnt_mean_lag_3</th>\n",
       "      <td>0.037123</td>\n",
       "    </tr>\n",
       "    <tr>\n",
       "      <th>date_block_shop_id_item_cnt_mean_lag_1</th>\n",
       "      <td>0.030224</td>\n",
       "    </tr>\n",
       "    <tr>\n",
       "      <th>delta_revenue_lag_1</th>\n",
       "      <td>0.029319</td>\n",
       "    </tr>\n",
       "    <tr>\n",
       "      <th>shop_id</th>\n",
       "      <td>0.028629</td>\n",
       "    </tr>\n",
       "    <tr>\n",
       "      <th>shop_city</th>\n",
       "      <td>0.025942</td>\n",
       "    </tr>\n",
       "    <tr>\n",
       "      <th>date_block_shop_id_item_cnt_mean_lag_2</th>\n",
       "      <td>0.024476</td>\n",
       "    </tr>\n",
       "    <tr>\n",
       "      <th>date_block_shop_city_item_cnt_mean_lag_1</th>\n",
       "      <td>0.023908</td>\n",
       "    </tr>\n",
       "    <tr>\n",
       "      <th>item_name2</th>\n",
       "      <td>0.023794</td>\n",
       "    </tr>\n",
       "    <tr>\n",
       "      <th>delta_revenue_lag_2</th>\n",
       "      <td>0.023677</td>\n",
       "    </tr>\n",
       "    <tr>\n",
       "      <th>item_name3</th>\n",
       "      <td>0.023495</td>\n",
       "    </tr>\n",
       "    <tr>\n",
       "      <th>delta_revenue_lag_3</th>\n",
       "      <td>0.021446</td>\n",
       "    </tr>\n",
       "    <tr>\n",
       "      <th>date_block_shop_id_item_cnt_mean_lag_3</th>\n",
       "      <td>0.021114</td>\n",
       "    </tr>\n",
       "    <tr>\n",
       "      <th>date_block_shop_city_item_cnt_mean_lag_2</th>\n",
       "      <td>0.017620</td>\n",
       "    </tr>\n",
       "    <tr>\n",
       "      <th>item_first_sale</th>\n",
       "      <td>0.017334</td>\n",
       "    </tr>\n",
       "    <tr>\n",
       "      <th>item_shop_first_sale</th>\n",
       "      <td>0.016657</td>\n",
       "    </tr>\n",
       "    <tr>\n",
       "      <th>date_block_shop_city_item_cnt_mean_lag_3</th>\n",
       "      <td>0.015351</td>\n",
       "    </tr>\n",
       "    <tr>\n",
       "      <th>item_type</th>\n",
       "      <td>0.012629</td>\n",
       "    </tr>\n",
       "  </tbody>\n",
       "</table>\n",
       "</div>"
      ],
      "text/plain": [
       "                                                    Numerical_Feature_MI\n",
       "days                                                            0.153460\n",
       "item_id                                                         0.100862\n",
       "shop_category                                                   0.091989\n",
       "date_block_item_id_item_cnt_mean_lag_1                          0.076433\n",
       "date_block_shop_city_item_id_item_cnt_mean_lag_1                0.071089\n",
       "date_block_shop_id_item_id_item_cnt_mean_lag_1                  0.068149\n",
       "item_cnt_month_lag_1                                            0.067755\n",
       "delta_price_lag                                                 0.063647\n",
       "date_block_item_id_item_cnt_mean_lag_2                          0.059208\n",
       "item_category_type                                              0.056428\n",
       "date_block_shop_city_item_id_item_cnt_mean_lag_2                0.053048\n",
       "item_cnt_month_lag_2                                            0.052039\n",
       "date_block_shop_id_item_id_item_cnt_mean_lag_2                  0.051934\n",
       "date_block_num                                                  0.050866\n",
       "item_category_id                                                0.050204\n",
       "date_block_item_id_item_cnt_mean_lag_3                          0.050102\n",
       "date_block_shop_id_item_category_type_item_cnt_...              0.045820\n",
       "month                                                           0.044576\n",
       "date_block_item_cnt_mean_lag_1                                  0.043199\n",
       "item_category_sub_type                                          0.042950\n",
       "date_block_shop_city_item_id_item_cnt_mean_lag_3                0.042909\n",
       "item_cnt_month_lag_3                                            0.042545\n",
       "date_block_shop_id_item_id_item_cnt_mean_lag_3                  0.042121\n",
       "date_block_shop_id_item_category_type_item_cnt_...              0.040216\n",
       "date_block_item_cnt_mean_lag_2                                  0.039341\n",
       "date_block_item_cnt_mean_lag_3                                  0.038076\n",
       "date_block_shop_id_item_category_type_item_cnt_...              0.037123\n",
       "date_block_shop_id_item_cnt_mean_lag_1                          0.030224\n",
       "delta_revenue_lag_1                                             0.029319\n",
       "shop_id                                                         0.028629\n",
       "shop_city                                                       0.025942\n",
       "date_block_shop_id_item_cnt_mean_lag_2                          0.024476\n",
       "date_block_shop_city_item_cnt_mean_lag_1                        0.023908\n",
       "item_name2                                                      0.023794\n",
       "delta_revenue_lag_2                                             0.023677\n",
       "item_name3                                                      0.023495\n",
       "delta_revenue_lag_3                                             0.021446\n",
       "date_block_shop_id_item_cnt_mean_lag_3                          0.021114\n",
       "date_block_shop_city_item_cnt_mean_lag_2                        0.017620\n",
       "item_first_sale                                                 0.017334\n",
       "item_shop_first_sale                                            0.016657\n",
       "date_block_shop_city_item_cnt_mean_lag_3                        0.015351\n",
       "item_type                                                       0.012629"
      ]
     },
     "execution_count": 69,
     "metadata": {},
     "output_type": "execute_result"
    }
   ],
   "source": [
    "mutual_info"
   ]
  },
  {
   "cell_type": "code",
   "execution_count": 70,
   "id": "19b66f0c",
   "metadata": {
    "execution": {
     "iopub.execute_input": "2024-09-15T12:17:44.888173Z",
     "iopub.status.busy": "2024-09-15T12:17:44.887908Z",
     "iopub.status.idle": "2024-09-15T12:17:44.914204Z",
     "shell.execute_reply": "2024-09-15T12:17:44.913378Z"
    },
    "papermill": {
     "duration": 0.065717,
     "end_time": "2024-09-15T12:17:44.916031",
     "exception": false,
     "start_time": "2024-09-15T12:17:44.850314",
     "status": "completed"
    },
    "tags": []
   },
   "outputs": [],
   "source": [
    "del mutual_info, sample_inputs, sample_targets, raw_df, items_df, item_cat_df, shops_df"
   ]
  },
  {
   "cell_type": "markdown",
   "id": "cd50860b",
   "metadata": {
    "papermill": {
     "duration": 0.036367,
     "end_time": "2024-09-15T12:17:44.989474",
     "exception": false,
     "start_time": "2024-09-15T12:17:44.953107",
     "status": "completed"
    },
    "tags": []
   },
   "source": [
    "## Training model"
   ]
  },
  {
   "cell_type": "markdown",
   "id": "6d38a68e",
   "metadata": {
    "papermill": {
     "duration": 0.036357,
     "end_time": "2024-09-15T12:17:45.062718",
     "exception": false,
     "start_time": "2024-09-15T12:17:45.026361",
     "status": "completed"
    },
    "tags": []
   },
   "source": [
    "### XGB"
   ]
  },
  {
   "cell_type": "code",
   "execution_count": 71,
   "id": "852d2ad1",
   "metadata": {
    "execution": {
     "iopub.execute_input": "2024-09-15T12:17:45.137073Z",
     "iopub.status.busy": "2024-09-15T12:17:45.136796Z",
     "iopub.status.idle": "2024-09-15T12:18:00.213182Z",
     "shell.execute_reply": "2024-09-15T12:18:00.212296Z"
    },
    "papermill": {
     "duration": 15.116496,
     "end_time": "2024-09-15T12:18:00.215632",
     "exception": false,
     "start_time": "2024-09-15T12:17:45.099136",
     "status": "completed"
    },
    "tags": []
   },
   "outputs": [],
   "source": [
    "train_inputs = concat_df[(concat_df['date_block_num']<33)&(concat_df['date_block_num']>3)][time_series_features_for_ml]\n",
    "train_targets = concat_df[(concat_df['date_block_num']<33)&(concat_df['date_block_num']>3)]['item_cnt_month']\n",
    "\n",
    "val_inputs = concat_df[concat_df['date_block_num']==33][time_series_features_for_ml]\n",
    "val_targets = concat_df[concat_df['date_block_num']==33]['item_cnt_month']\n",
    "\n",
    "test_inputs = concat_df[concat_df['date_block_num']==34][time_series_features_for_ml]"
   ]
  },
  {
   "cell_type": "code",
   "execution_count": 72,
   "id": "66bf7bfe",
   "metadata": {
    "execution": {
     "iopub.execute_input": "2024-09-15T12:18:00.294314Z",
     "iopub.status.busy": "2024-09-15T12:18:00.293482Z",
     "iopub.status.idle": "2024-09-15T12:18:00.297684Z",
     "shell.execute_reply": "2024-09-15T12:18:00.296743Z"
    },
    "papermill": {
     "duration": 0.046722,
     "end_time": "2024-09-15T12:18:00.300234",
     "exception": false,
     "start_time": "2024-09-15T12:18:00.253512",
     "status": "completed"
    },
    "tags": []
   },
   "outputs": [],
   "source": [
    "# del concat_df"
   ]
  },
  {
   "cell_type": "code",
   "execution_count": 73,
   "id": "c034c719",
   "metadata": {
    "execution": {
     "iopub.execute_input": "2024-09-15T12:18:00.383053Z",
     "iopub.status.busy": "2024-09-15T12:18:00.382114Z",
     "iopub.status.idle": "2024-09-15T12:18:00.566907Z",
     "shell.execute_reply": "2024-09-15T12:18:00.566056Z"
    },
    "papermill": {
     "duration": 0.227473,
     "end_time": "2024-09-15T12:18:00.569263",
     "exception": false,
     "start_time": "2024-09-15T12:18:00.341790",
     "status": "completed"
    },
    "tags": []
   },
   "outputs": [],
   "source": [
    "train_targets = train_targets.clip(0,20)\n",
    "val_targets = val_targets.clip(0,20)"
   ]
  },
  {
   "cell_type": "code",
   "execution_count": 74,
   "id": "8394d8d7",
   "metadata": {
    "execution": {
     "iopub.execute_input": "2024-09-15T12:18:00.646841Z",
     "iopub.status.busy": "2024-09-15T12:18:00.646446Z",
     "iopub.status.idle": "2024-09-15T12:18:00.651022Z",
     "shell.execute_reply": "2024-09-15T12:18:00.650118Z"
    },
    "papermill": {
     "duration": 0.046109,
     "end_time": "2024-09-15T12:18:00.653130",
     "exception": false,
     "start_time": "2024-09-15T12:18:00.607021",
     "status": "completed"
    },
    "tags": []
   },
   "outputs": [],
   "source": [
    "cv = TimeSeriesSplit(n_splits=5, test_size=210000)"
   ]
  },
  {
   "cell_type": "code",
   "execution_count": 75,
   "id": "a3e789ec",
   "metadata": {
    "execution": {
     "iopub.execute_input": "2024-09-15T12:18:00.730059Z",
     "iopub.status.busy": "2024-09-15T12:18:00.729169Z",
     "iopub.status.idle": "2024-09-15T12:18:00.736349Z",
     "shell.execute_reply": "2024-09-15T12:18:00.735415Z"
    },
    "papermill": {
     "duration": 0.048086,
     "end_time": "2024-09-15T12:18:00.738316",
     "exception": false,
     "start_time": "2024-09-15T12:18:00.690230",
     "status": "completed"
    },
    "tags": []
   },
   "outputs": [
    {
     "data": {
      "text/plain": [
       "\"param_dis = {\\n    'n_estimators': np.arange(100,1000,150),\\n    'max_depth': np.arange(8,13),\\n    'learning_rate': loguniform(0.009,0.18),\\n    'reg_lambda': loguniform(1e-5,3),\\n    'subsample': loguniform(0.5,1),\\n    'min_child_weight': loguniform(0.4,5),\\n    'eval_metric': ['rmse'],\\n    'tree_method': ['hist'],\\n    'colsample_bytree': loguniform(0.5,1),\\n    'nthread': [2],\\n    'device': ['cuda'],\\n    'max_bin': [256,1024]\\n}\\nsearch = RandomizedSearchCV(XGBRegressor(), param_dis, \\n                            n_iter=100, refit=True,\\n                            scoring = 'neg_root_mean_squared_error',\\n                            cv=cv, verbose=3)\""
      ]
     },
     "execution_count": 75,
     "metadata": {},
     "output_type": "execute_result"
    }
   ],
   "source": [
    "'''param_dis = {\n",
    "    'n_estimators': np.arange(100,1000,150),\n",
    "    'max_depth': np.arange(8,13),\n",
    "    'learning_rate': loguniform(0.009,0.18),\n",
    "    'reg_lambda': loguniform(1e-5,3),\n",
    "    'subsample': loguniform(0.5,1),\n",
    "    'min_child_weight': loguniform(0.4,5),\n",
    "    'eval_metric': ['rmse'],\n",
    "    'tree_method': ['hist'],\n",
    "    'colsample_bytree': loguniform(0.5,1),\n",
    "    'nthread': [2],\n",
    "    'device': ['cuda'],\n",
    "    'max_bin': [256,1024]\n",
    "}\n",
    "search = RandomizedSearchCV(XGBRegressor(), param_dis, \n",
    "                            n_iter=100, refit=True,\n",
    "                            scoring = 'neg_root_mean_squared_error',\n",
    "                            cv=cv, verbose=3)'''"
   ]
  },
  {
   "cell_type": "code",
   "execution_count": 76,
   "id": "225828bd",
   "metadata": {
    "execution": {
     "iopub.execute_input": "2024-09-15T12:18:00.817930Z",
     "iopub.status.busy": "2024-09-15T12:18:00.817546Z",
     "iopub.status.idle": "2024-09-15T12:18:00.824202Z",
     "shell.execute_reply": "2024-09-15T12:18:00.823189Z"
    },
    "papermill": {
     "duration": 0.048504,
     "end_time": "2024-09-15T12:18:00.826313",
     "exception": false,
     "start_time": "2024-09-15T12:18:00.777809",
     "status": "completed"
    },
    "scrolled": true,
    "tags": []
   },
   "outputs": [
    {
     "data": {
      "text/plain": [
       "\"%%time\\nsearch.fit(sample_inputs, sample_targets)\\nresult_df = pd.DataFrame(search.cv_results_)\\ntop_best_params_df = result_df.sort_values(by=['split4_test_score','mean_test_score'],ascending=False).head(5)\\ntop_best_params = top_best_params_df['params']\\ntop_best_params = top_best_params.values\\ntop_best_params\""
      ]
     },
     "execution_count": 76,
     "metadata": {},
     "output_type": "execute_result"
    }
   ],
   "source": [
    "'''%%time\n",
    "search.fit(sample_inputs, sample_targets)\n",
    "result_df = pd.DataFrame(search.cv_results_)\n",
    "top_best_params_df = result_df.sort_values(by=['split4_test_score','mean_test_score'],ascending=False).head(5)\n",
    "top_best_params = top_best_params_df['params']\n",
    "top_best_params = top_best_params.values\n",
    "top_best_params'''"
   ]
  },
  {
   "cell_type": "code",
   "execution_count": 77,
   "id": "473c2598",
   "metadata": {
    "execution": {
     "iopub.execute_input": "2024-09-15T12:18:00.910900Z",
     "iopub.status.busy": "2024-09-15T12:18:00.909988Z",
     "iopub.status.idle": "2024-09-15T12:18:00.920211Z",
     "shell.execute_reply": "2024-09-15T12:18:00.919227Z"
    },
    "papermill": {
     "duration": 0.05494,
     "end_time": "2024-09-15T12:18:00.922326",
     "exception": false,
     "start_time": "2024-09-15T12:18:00.867386",
     "status": "completed"
    },
    "tags": []
   },
   "outputs": [],
   "source": [
    "top_best_params = [\n",
    "       {'colsample_bytree': 0.8406368905921987, 'device': 'cuda', 'eval_metric': 'rmse', 'learning_rate': 0.023622088178310074, 'max_bin': 256, 'max_depth': 12, 'min_child_weight': 1.9311905509233425, 'n_estimators': 700, 'nthread': 2, 'reg_lambda': 0.004641439538226732, 'subsample': 0.8055867639368266, 'tree_method': 'hist'},\n",
    "       {'colsample_bytree': 0.9286474255634593, 'device': 'cuda', 'eval_metric': 'rmse', 'learning_rate': 0.0826010856865518, 'max_bin': 1024, 'max_depth': 9, 'min_child_weight': 1.5163752033499591, 'n_estimators': 550, 'nthread': 2, 'reg_lambda': 0.5020515121371055, 'subsample': 0.8090208851854477, 'tree_method': 'hist'},\n",
    "       {'colsample_bytree': 0.9923064353005371, 'device': 'cuda', 'eval_metric': 'rmse', 'learning_rate': 0.03707294337983016, 'max_bin': 256, 'max_depth': 10, 'min_child_weight': 1.2233028596025521, 'n_estimators': 850, 'nthread': 2, 'reg_lambda': 0.05887969954572442, 'subsample': 0.6364851962400843, 'tree_method': 'hist'},\n",
    "       {'colsample_bytree': 0.9428913565012352, 'device': 'cuda', 'eval_metric': 'rmse', 'learning_rate': 0.05075939507917509, 'max_bin': 1024, 'max_depth': 11, 'min_child_weight': 3.0489766186636404, 'n_estimators': 400, 'nthread': 2, 'reg_lambda': 0.00034652750730686997, 'subsample': 0.8566185068955063, 'tree_method': 'hist'},\n",
    "       {'colsample_bytree': 0.856443674442178, 'device': 'cuda', 'eval_metric': 'rmse', 'learning_rate': 0.05135726532592475, 'max_bin': 256, 'max_depth': 11, 'min_child_weight': 1.0366119410173558, 'n_estimators': 700, 'nthread': 2, 'reg_lambda': 0.011260527416729546, 'subsample': 0.7862695971780262, 'tree_method': 'hist'}\n",
    "]"
   ]
  },
  {
   "cell_type": "code",
   "execution_count": 78,
   "id": "cd96ac19",
   "metadata": {
    "execution": {
     "iopub.execute_input": "2024-09-15T12:18:01.012894Z",
     "iopub.status.busy": "2024-09-15T12:18:01.012456Z",
     "iopub.status.idle": "2024-09-15T12:22:31.935335Z",
     "shell.execute_reply": "2024-09-15T12:22:31.934272Z"
    },
    "papermill": {
     "duration": 271.015303,
     "end_time": "2024-09-15T12:22:31.976569",
     "exception": false,
     "start_time": "2024-09-15T12:18:00.961266",
     "status": "completed"
    },
    "tags": []
   },
   "outputs": [
    {
     "name": "stderr",
     "output_type": "stream",
     "text": [
      "/opt/conda/lib/python3.10/site-packages/xgboost/core.py:160: UserWarning: [12:18:50] WARNING: /workspace/src/common/error_msg.cc:58: Falling back to prediction using DMatrix due to mismatched devices. This might lead to higher memory usage and slower performance. XGBoost is running on: cuda:0, while the input data is on: cpu.\n",
      "Potential solutions:\n",
      "- Use a data structure that matches the device ordinal in the booster.\n",
      "- Set the device for booster before call to inplace_predict.\n",
      "\n",
      "This warning will only be shown once.\n",
      "\n",
      "  warnings.warn(smsg, UserWarning)\n"
     ]
    },
    {
     "name": "stdout",
     "output_type": "stream",
     "text": [
      "0.7112149 0.89121675\n",
      "0.75131536 0.88770336\n",
      "0.73220104 0.8867584\n",
      "0.7082646 0.8896602\n",
      "0.7514341 0.89291865\n",
      "CPU times: user 8min 23s, sys: 13.8 s, total: 8min 37s\n",
      "Wall time: 4min 30s\n"
     ]
    }
   ],
   "source": [
    "%%time\n",
    "for params in top_best_params:\n",
    "    xgb = XGBRegressor(**params, early_stopping_rounds=40)\n",
    "    eval_set = (val_inputs, val_targets)\n",
    "    xgb.fit(train_inputs, train_targets, eval_set=[eval_set], verbose=False)\n",
    "    best_iter = xgb.best_iteration\n",
    "    train_preds = xgb.predict(train_inputs, iteration_range=(0,best_iter))\n",
    "    val_preds = xgb.predict(val_inputs, iteration_range=(0,best_iter)) \n",
    "    train_score = np.sqrt(mean_squared_error(train_targets, train_preds))\n",
    "    val_score = np.sqrt(mean_squared_error(val_targets, val_preds))\n",
    "    print(train_score, val_score)"
   ]
  },
  {
   "cell_type": "markdown",
   "id": "97ed809c",
   "metadata": {
    "papermill": {
     "duration": 0.0388,
     "end_time": "2024-09-15T12:22:32.054847",
     "exception": false,
     "start_time": "2024-09-15T12:22:32.016047",
     "status": "completed"
    },
    "tags": []
   },
   "source": [
    "So we choose 3rd one"
   ]
  },
  {
   "cell_type": "code",
   "execution_count": 79,
   "id": "d3946bce",
   "metadata": {
    "execution": {
     "iopub.execute_input": "2024-09-15T12:22:32.133572Z",
     "iopub.status.busy": "2024-09-15T12:22:32.132823Z",
     "iopub.status.idle": "2024-09-15T12:23:22.764200Z",
     "shell.execute_reply": "2024-09-15T12:23:22.763204Z"
    },
    "papermill": {
     "duration": 50.711145,
     "end_time": "2024-09-15T12:23:22.804583",
     "exception": false,
     "start_time": "2024-09-15T12:22:32.093438",
     "status": "completed"
    },
    "tags": []
   },
   "outputs": [
    {
     "name": "stdout",
     "output_type": "stream",
     "text": [
      "CPU times: user 1min 31s, sys: 699 ms, total: 1min 32s\n",
      "Wall time: 50.6 s\n"
     ]
    },
    {
     "data": {
      "text/html": [
       "<style>#sk-container-id-1 {color: black;background-color: white;}#sk-container-id-1 pre{padding: 0;}#sk-container-id-1 div.sk-toggleable {background-color: white;}#sk-container-id-1 label.sk-toggleable__label {cursor: pointer;display: block;width: 100%;margin-bottom: 0;padding: 0.3em;box-sizing: border-box;text-align: center;}#sk-container-id-1 label.sk-toggleable__label-arrow:before {content: \"▸\";float: left;margin-right: 0.25em;color: #696969;}#sk-container-id-1 label.sk-toggleable__label-arrow:hover:before {color: black;}#sk-container-id-1 div.sk-estimator:hover label.sk-toggleable__label-arrow:before {color: black;}#sk-container-id-1 div.sk-toggleable__content {max-height: 0;max-width: 0;overflow: hidden;text-align: left;background-color: #f0f8ff;}#sk-container-id-1 div.sk-toggleable__content pre {margin: 0.2em;color: black;border-radius: 0.25em;background-color: #f0f8ff;}#sk-container-id-1 input.sk-toggleable__control:checked~div.sk-toggleable__content {max-height: 200px;max-width: 100%;overflow: auto;}#sk-container-id-1 input.sk-toggleable__control:checked~label.sk-toggleable__label-arrow:before {content: \"▾\";}#sk-container-id-1 div.sk-estimator input.sk-toggleable__control:checked~label.sk-toggleable__label {background-color: #d4ebff;}#sk-container-id-1 div.sk-label input.sk-toggleable__control:checked~label.sk-toggleable__label {background-color: #d4ebff;}#sk-container-id-1 input.sk-hidden--visually {border: 0;clip: rect(1px 1px 1px 1px);clip: rect(1px, 1px, 1px, 1px);height: 1px;margin: -1px;overflow: hidden;padding: 0;position: absolute;width: 1px;}#sk-container-id-1 div.sk-estimator {font-family: monospace;background-color: #f0f8ff;border: 1px dotted black;border-radius: 0.25em;box-sizing: border-box;margin-bottom: 0.5em;}#sk-container-id-1 div.sk-estimator:hover {background-color: #d4ebff;}#sk-container-id-1 div.sk-parallel-item::after {content: \"\";width: 100%;border-bottom: 1px solid gray;flex-grow: 1;}#sk-container-id-1 div.sk-label:hover label.sk-toggleable__label {background-color: #d4ebff;}#sk-container-id-1 div.sk-serial::before {content: \"\";position: absolute;border-left: 1px solid gray;box-sizing: border-box;top: 0;bottom: 0;left: 50%;z-index: 0;}#sk-container-id-1 div.sk-serial {display: flex;flex-direction: column;align-items: center;background-color: white;padding-right: 0.2em;padding-left: 0.2em;position: relative;}#sk-container-id-1 div.sk-item {position: relative;z-index: 1;}#sk-container-id-1 div.sk-parallel {display: flex;align-items: stretch;justify-content: center;background-color: white;position: relative;}#sk-container-id-1 div.sk-item::before, #sk-container-id-1 div.sk-parallel-item::before {content: \"\";position: absolute;border-left: 1px solid gray;box-sizing: border-box;top: 0;bottom: 0;left: 50%;z-index: -1;}#sk-container-id-1 div.sk-parallel-item {display: flex;flex-direction: column;z-index: 1;position: relative;background-color: white;}#sk-container-id-1 div.sk-parallel-item:first-child::after {align-self: flex-end;width: 50%;}#sk-container-id-1 div.sk-parallel-item:last-child::after {align-self: flex-start;width: 50%;}#sk-container-id-1 div.sk-parallel-item:only-child::after {width: 0;}#sk-container-id-1 div.sk-dashed-wrapped {border: 1px dashed gray;margin: 0 0.4em 0.5em 0.4em;box-sizing: border-box;padding-bottom: 0.4em;background-color: white;}#sk-container-id-1 div.sk-label label {font-family: monospace;font-weight: bold;display: inline-block;line-height: 1.2em;}#sk-container-id-1 div.sk-label-container {text-align: center;}#sk-container-id-1 div.sk-container {/* jupyter's `normalize.less` sets `[hidden] { display: none; }` but bootstrap.min.css set `[hidden] { display: none !important; }` so we also need the `!important` here to be able to override the default hidden behavior on the sphinx rendered scikit-learn.org. See: https://github.com/scikit-learn/scikit-learn/issues/21755 */display: inline-block !important;position: relative;}#sk-container-id-1 div.sk-text-repr-fallback {display: none;}</style><div id=\"sk-container-id-1\" class=\"sk-top-container\"><div class=\"sk-text-repr-fallback\"><pre>XGBRegressor(base_score=None, booster=None, callbacks=None,\n",
       "             colsample_bylevel=None, colsample_bynode=None,\n",
       "             colsample_bytree=0.9923064353005371, device=&#x27;cuda&#x27;,\n",
       "             early_stopping_rounds=40, enable_categorical=False,\n",
       "             eval_metric=&#x27;rmse&#x27;, feature_types=None, gamma=None,\n",
       "             grow_policy=None, importance_type=None,\n",
       "             interaction_constraints=None, learning_rate=0.03707294337983016,\n",
       "             max_bin=256, max_cat_threshold=None, max_cat_to_onehot=None,\n",
       "             max_delta_step=None, max_depth=10, max_leaves=None,\n",
       "             min_child_weight=1.2233028596025521, missing=nan,\n",
       "             monotone_constraints=None, multi_strategy=None, n_estimators=850,\n",
       "             n_jobs=None, nthread=2, num_parallel_tree=None, ...)</pre><b>In a Jupyter environment, please rerun this cell to show the HTML representation or trust the notebook. <br />On GitHub, the HTML representation is unable to render, please try loading this page with nbviewer.org.</b></div><div class=\"sk-container\" hidden><div class=\"sk-item\"><div class=\"sk-estimator sk-toggleable\"><input class=\"sk-toggleable__control sk-hidden--visually\" id=\"sk-estimator-id-1\" type=\"checkbox\" checked><label for=\"sk-estimator-id-1\" class=\"sk-toggleable__label sk-toggleable__label-arrow\">XGBRegressor</label><div class=\"sk-toggleable__content\"><pre>XGBRegressor(base_score=None, booster=None, callbacks=None,\n",
       "             colsample_bylevel=None, colsample_bynode=None,\n",
       "             colsample_bytree=0.9923064353005371, device=&#x27;cuda&#x27;,\n",
       "             early_stopping_rounds=40, enable_categorical=False,\n",
       "             eval_metric=&#x27;rmse&#x27;, feature_types=None, gamma=None,\n",
       "             grow_policy=None, importance_type=None,\n",
       "             interaction_constraints=None, learning_rate=0.03707294337983016,\n",
       "             max_bin=256, max_cat_threshold=None, max_cat_to_onehot=None,\n",
       "             max_delta_step=None, max_depth=10, max_leaves=None,\n",
       "             min_child_weight=1.2233028596025521, missing=nan,\n",
       "             monotone_constraints=None, multi_strategy=None, n_estimators=850,\n",
       "             n_jobs=None, nthread=2, num_parallel_tree=None, ...)</pre></div></div></div></div></div>"
      ],
      "text/plain": [
       "XGBRegressor(base_score=None, booster=None, callbacks=None,\n",
       "             colsample_bylevel=None, colsample_bynode=None,\n",
       "             colsample_bytree=0.9923064353005371, device='cuda',\n",
       "             early_stopping_rounds=40, enable_categorical=False,\n",
       "             eval_metric='rmse', feature_types=None, gamma=None,\n",
       "             grow_policy=None, importance_type=None,\n",
       "             interaction_constraints=None, learning_rate=0.03707294337983016,\n",
       "             max_bin=256, max_cat_threshold=None, max_cat_to_onehot=None,\n",
       "             max_delta_step=None, max_depth=10, max_leaves=None,\n",
       "             min_child_weight=1.2233028596025521, missing=nan,\n",
       "             monotone_constraints=None, multi_strategy=None, n_estimators=850,\n",
       "             n_jobs=None, nthread=2, num_parallel_tree=None, ...)"
      ]
     },
     "execution_count": 79,
     "metadata": {},
     "output_type": "execute_result"
    }
   ],
   "source": [
    "%%time\n",
    "xgb = XGBRegressor(**top_best_params[2], early_stopping_rounds = 40)\n",
    "eval_set = (val_inputs, val_targets)\n",
    "xgb.fit(train_inputs, train_targets, eval_set=[eval_set], verbose=False)"
   ]
  },
  {
   "cell_type": "code",
   "execution_count": 80,
   "id": "1b682c70",
   "metadata": {
    "execution": {
     "iopub.execute_input": "2024-09-15T12:23:22.883448Z",
     "iopub.status.busy": "2024-09-15T12:23:22.883025Z",
     "iopub.status.idle": "2024-09-15T12:23:35.733329Z",
     "shell.execute_reply": "2024-09-15T12:23:35.732294Z"
    },
    "papermill": {
     "duration": 12.892298,
     "end_time": "2024-09-15T12:23:35.735675",
     "exception": false,
     "start_time": "2024-09-15T12:23:22.843377",
     "status": "completed"
    },
    "tags": []
   },
   "outputs": [],
   "source": [
    "best_iter = xgb.best_iteration\n",
    "train_preds = xgb.predict(train_inputs, iteration_range=(0,best_iter))\n",
    "val_preds = xgb.predict(val_inputs, iteration_range=(0,best_iter)) \n",
    "train_score = np.sqrt(mean_squared_error(train_targets, train_preds))\n",
    "val_score = np.sqrt(mean_squared_error(val_targets, val_preds))"
   ]
  },
  {
   "cell_type": "code",
   "execution_count": 81,
   "id": "91b6f587",
   "metadata": {
    "execution": {
     "iopub.execute_input": "2024-09-15T12:23:35.816416Z",
     "iopub.status.busy": "2024-09-15T12:23:35.815599Z",
     "iopub.status.idle": "2024-09-15T12:23:35.821656Z",
     "shell.execute_reply": "2024-09-15T12:23:35.820793Z"
    },
    "papermill": {
     "duration": 0.047955,
     "end_time": "2024-09-15T12:23:35.823535",
     "exception": false,
     "start_time": "2024-09-15T12:23:35.775580",
     "status": "completed"
    },
    "tags": []
   },
   "outputs": [
    {
     "data": {
      "text/plain": [
       "(0.73220104, 0.8867584)"
      ]
     },
     "execution_count": 81,
     "metadata": {},
     "output_type": "execute_result"
    }
   ],
   "source": [
    "train_score, val_score"
   ]
  },
  {
   "cell_type": "code",
   "execution_count": 82,
   "id": "aedcba2a",
   "metadata": {
    "execution": {
     "iopub.execute_input": "2024-09-15T12:23:35.905830Z",
     "iopub.status.busy": "2024-09-15T12:23:35.904848Z",
     "iopub.status.idle": "2024-09-15T12:23:36.148341Z",
     "shell.execute_reply": "2024-09-15T12:23:36.146965Z"
    },
    "papermill": {
     "duration": 0.287511,
     "end_time": "2024-09-15T12:23:36.150811",
     "exception": false,
     "start_time": "2024-09-15T12:23:35.863300",
     "status": "completed"
    },
    "tags": []
   },
   "outputs": [],
   "source": [
    "test_preds = xgb.predict(test_inputs, iteration_range=(0,best_iter))"
   ]
  },
  {
   "cell_type": "code",
   "execution_count": 83,
   "id": "6b78eba4",
   "metadata": {
    "execution": {
     "iopub.execute_input": "2024-09-15T12:23:36.233170Z",
     "iopub.status.busy": "2024-09-15T12:23:36.232263Z",
     "iopub.status.idle": "2024-09-15T12:23:36.683912Z",
     "shell.execute_reply": "2024-09-15T12:23:36.682931Z"
    },
    "papermill": {
     "duration": 0.495127,
     "end_time": "2024-09-15T12:23:36.686296",
     "exception": false,
     "start_time": "2024-09-15T12:23:36.191169",
     "status": "completed"
    },
    "tags": []
   },
   "outputs": [],
   "source": [
    "sub_df['item_cnt_month'] = test_preds.clip(0,20)\n",
    "sub_df.to_csv('/kaggle/working/submission.csv', index=None)"
   ]
  },
  {
   "cell_type": "markdown",
   "id": "2658f3b1",
   "metadata": {
    "papermill": {
     "duration": 0.039092,
     "end_time": "2024-09-15T12:23:36.765152",
     "exception": false,
     "start_time": "2024-09-15T12:23:36.726060",
     "status": "completed"
    },
    "tags": []
   },
   "source": [
    "### LSTM Model"
   ]
  },
  {
   "cell_type": "markdown",
   "id": "3cdd9335",
   "metadata": {
    "papermill": {
     "duration": 0.040398,
     "end_time": "2024-09-15T12:23:36.846067",
     "exception": false,
     "start_time": "2024-09-15T12:23:36.805669",
     "status": "completed"
    },
    "tags": []
   },
   "source": [
    "We change feature to match time series"
   ]
  },
  {
   "cell_type": "code",
   "execution_count": 84,
   "id": "a7cd63e4",
   "metadata": {
    "execution": {
     "iopub.execute_input": "2024-09-15T12:23:36.928848Z",
     "iopub.status.busy": "2024-09-15T12:23:36.927857Z",
     "iopub.status.idle": "2024-09-15T12:23:37.091289Z",
     "shell.execute_reply": "2024-09-15T12:23:37.090297Z"
    },
    "papermill": {
     "duration": 0.207312,
     "end_time": "2024-09-15T12:23:37.093729",
     "exception": false,
     "start_time": "2024-09-15T12:23:36.886417",
     "status": "completed"
    },
    "tags": []
   },
   "outputs": [],
   "source": [
    "concat_df['item_cnt_month'] = concat_df['item_cnt_month'].clip(0,20)"
   ]
  },
  {
   "cell_type": "code",
   "execution_count": 85,
   "id": "cd4f711a",
   "metadata": {
    "execution": {
     "iopub.execute_input": "2024-09-15T12:23:37.220990Z",
     "iopub.status.busy": "2024-09-15T12:23:37.220358Z",
     "iopub.status.idle": "2024-09-15T12:23:45.930569Z",
     "shell.execute_reply": "2024-09-15T12:23:45.929541Z"
    },
    "papermill": {
     "duration": 8.753628,
     "end_time": "2024-09-15T12:23:45.933064",
     "exception": false,
     "start_time": "2024-09-15T12:23:37.179436",
     "status": "completed"
    },
    "tags": []
   },
   "outputs": [],
   "source": [
    "concat_df = concat_df[time_series_features_for_lstm+['date_block_num','item_cnt_month']].copy()"
   ]
  },
  {
   "cell_type": "code",
   "execution_count": 86,
   "id": "674e9173",
   "metadata": {
    "execution": {
     "iopub.execute_input": "2024-09-15T12:23:46.014914Z",
     "iopub.status.busy": "2024-09-15T12:23:46.014514Z",
     "iopub.status.idle": "2024-09-15T12:23:54.773603Z",
     "shell.execute_reply": "2024-09-15T12:23:54.772605Z"
    },
    "papermill": {
     "duration": 8.802603,
     "end_time": "2024-09-15T12:23:54.775914",
     "exception": false,
     "start_time": "2024-09-15T12:23:45.973311",
     "status": "completed"
    },
    "tags": []
   },
   "outputs": [
    {
     "data": {
      "text/plain": [
       "((8026294, 150), (238172, 150), (214200, 150))"
      ]
     },
     "execution_count": 86,
     "metadata": {},
     "output_type": "execute_result"
    }
   ],
   "source": [
    "train_inputs = concat_df[(concat_df['date_block_num']<33)&(concat_df['date_block_num']>6)][time_series_features_for_lstm].copy()\n",
    "train_targets = concat_df[(concat_df['date_block_num']<33)&(concat_df['date_block_num']>6)]['item_cnt_month'].copy()\n",
    "\n",
    "val_inputs = concat_df[concat_df['date_block_num']==33][time_series_features_for_lstm].copy()\n",
    "val_targets = concat_df[concat_df['date_block_num']==33]['item_cnt_month'].copy()\n",
    "\n",
    "test_inputs = concat_df[concat_df['date_block_num']==34][time_series_features_for_lstm].copy()\n",
    "\n",
    "train_inputs.shape, val_inputs.shape, test_inputs.shape"
   ]
  },
  {
   "cell_type": "code",
   "execution_count": 87,
   "id": "4c53644e",
   "metadata": {
    "execution": {
     "iopub.execute_input": "2024-09-15T12:23:54.861932Z",
     "iopub.status.busy": "2024-09-15T12:23:54.861536Z",
     "iopub.status.idle": "2024-09-15T12:23:54.873303Z",
     "shell.execute_reply": "2024-09-15T12:23:54.872289Z"
    },
    "papermill": {
     "duration": 0.054967,
     "end_time": "2024-09-15T12:23:54.875184",
     "exception": false,
     "start_time": "2024-09-15T12:23:54.820217",
     "status": "completed"
    },
    "tags": []
   },
   "outputs": [],
   "source": [
    "del concat_df"
   ]
  },
  {
   "cell_type": "code",
   "execution_count": 88,
   "id": "7439ee72",
   "metadata": {
    "execution": {
     "iopub.execute_input": "2024-09-15T12:23:54.958002Z",
     "iopub.status.busy": "2024-09-15T12:23:54.957608Z",
     "iopub.status.idle": "2024-09-15T12:24:01.100864Z",
     "shell.execute_reply": "2024-09-15T12:24:01.099956Z"
    },
    "papermill": {
     "duration": 6.187587,
     "end_time": "2024-09-15T12:24:01.103225",
     "exception": false,
     "start_time": "2024-09-15T12:23:54.915638",
     "status": "completed"
    },
    "tags": []
   },
   "outputs": [],
   "source": [
    "train_inputs = torch.tensor(train_inputs.values, dtype=torch.float32)\n",
    "train_targets = torch.tensor(train_targets.values, dtype=torch.float32)\n",
    "\n",
    "val_inputs = torch.tensor(val_inputs.values, dtype=torch.float32)\n",
    "val_targets = torch.tensor(val_targets.values, dtype=torch.float32)\n",
    "\n",
    "test_inputs = torch.tensor(test_inputs.values, dtype=torch.float32)"
   ]
  },
  {
   "cell_type": "code",
   "execution_count": 89,
   "id": "1cd36bbe",
   "metadata": {
    "execution": {
     "iopub.execute_input": "2024-09-15T12:24:01.185030Z",
     "iopub.status.busy": "2024-09-15T12:24:01.184203Z",
     "iopub.status.idle": "2024-09-15T12:24:01.190011Z",
     "shell.execute_reply": "2024-09-15T12:24:01.189098Z"
    },
    "papermill": {
     "duration": 0.048476,
     "end_time": "2024-09-15T12:24:01.192185",
     "exception": false,
     "start_time": "2024-09-15T12:24:01.143709",
     "status": "completed"
    },
    "tags": []
   },
   "outputs": [],
   "source": [
    "train_ds = TensorDataset(train_inputs, train_targets)\n",
    "val_ds = TensorDataset(val_inputs, val_targets)\n",
    "test_ds = TensorDataset(test_inputs,)"
   ]
  },
  {
   "cell_type": "code",
   "execution_count": 90,
   "id": "0197e359",
   "metadata": {
    "execution": {
     "iopub.execute_input": "2024-09-15T12:24:01.273425Z",
     "iopub.status.busy": "2024-09-15T12:24:01.273113Z",
     "iopub.status.idle": "2024-09-15T12:24:01.278526Z",
     "shell.execute_reply": "2024-09-15T12:24:01.277680Z"
    },
    "papermill": {
     "duration": 0.047266,
     "end_time": "2024-09-15T12:24:01.280530",
     "exception": false,
     "start_time": "2024-09-15T12:24:01.233264",
     "status": "completed"
    },
    "tags": []
   },
   "outputs": [],
   "source": [
    "BATCH_SIZE = 256\n",
    "train_dl = DataLoader(train_ds, batch_size=BATCH_SIZE, shuffle=True, num_workers=2, pin_memory=True)\n",
    "val_dl = DataLoader(val_ds, batch_size=BATCH_SIZE*2, num_workers=2, pin_memory=True)\n",
    "test_dl = DataLoader(test_ds, batch_size=BATCH_SIZE*2, num_workers=2, pin_memory=True)"
   ]
  },
  {
   "cell_type": "code",
   "execution_count": 91,
   "id": "9295ee74",
   "metadata": {
    "execution": {
     "iopub.execute_input": "2024-09-15T12:24:01.361782Z",
     "iopub.status.busy": "2024-09-15T12:24:01.360900Z",
     "iopub.status.idle": "2024-09-15T12:24:01.365636Z",
     "shell.execute_reply": "2024-09-15T12:24:01.364702Z"
    },
    "papermill": {
     "duration": 0.048175,
     "end_time": "2024-09-15T12:24:01.367671",
     "exception": false,
     "start_time": "2024-09-15T12:24:01.319496",
     "status": "completed"
    },
    "tags": []
   },
   "outputs": [],
   "source": [
    "del train_inputs, train_targets, val_inputs, val_targets, test_inputs"
   ]
  },
  {
   "cell_type": "code",
   "execution_count": 92,
   "id": "1e5b4a0f",
   "metadata": {
    "execution": {
     "iopub.execute_input": "2024-09-15T12:24:01.450537Z",
     "iopub.status.busy": "2024-09-15T12:24:01.449751Z",
     "iopub.status.idle": "2024-09-15T12:24:01.457542Z",
     "shell.execute_reply": "2024-09-15T12:24:01.456625Z"
    },
    "papermill": {
     "duration": 0.051069,
     "end_time": "2024-09-15T12:24:01.459469",
     "exception": false,
     "start_time": "2024-09-15T12:24:01.408400",
     "status": "completed"
    },
    "tags": []
   },
   "outputs": [],
   "source": [
    "def get_default_device():\n",
    "    if torch.cuda.is_available():\n",
    "        return torch.device('cuda')\n",
    "    else:\n",
    "        return torch.device('cpu')\n",
    "\n",
    "def to_device(data, device):\n",
    "    if isinstance(data, (list,tuple)):\n",
    "        return [to_device(x, device) for x in data]\n",
    "    return data.to(device, non_blocking=True)\n",
    "\n",
    "class DeviceDataLoader():\n",
    "    def __init__(self, dl, device):\n",
    "        self.dl = dl\n",
    "        self.device = device\n",
    "\n",
    "    def __iter__(self):\n",
    "        for b in self.dl:\n",
    "            yield to_device(b, self.device)\n",
    "\n",
    "    def __len__(self):\n",
    "        return len(self.dl)"
   ]
  },
  {
   "cell_type": "code",
   "execution_count": 93,
   "id": "80c32496",
   "metadata": {
    "execution": {
     "iopub.execute_input": "2024-09-15T12:24:01.541639Z",
     "iopub.status.busy": "2024-09-15T12:24:01.541230Z",
     "iopub.status.idle": "2024-09-15T12:24:01.547892Z",
     "shell.execute_reply": "2024-09-15T12:24:01.547073Z"
    },
    "papermill": {
     "duration": 0.050211,
     "end_time": "2024-09-15T12:24:01.549843",
     "exception": false,
     "start_time": "2024-09-15T12:24:01.499632",
     "status": "completed"
    },
    "tags": []
   },
   "outputs": [],
   "source": [
    "device = get_default_device()"
   ]
  },
  {
   "cell_type": "code",
   "execution_count": 94,
   "id": "c7ffe470",
   "metadata": {
    "execution": {
     "iopub.execute_input": "2024-09-15T12:24:01.630647Z",
     "iopub.status.busy": "2024-09-15T12:24:01.630188Z",
     "iopub.status.idle": "2024-09-15T12:24:01.634937Z",
     "shell.execute_reply": "2024-09-15T12:24:01.634130Z"
    },
    "papermill": {
     "duration": 0.047203,
     "end_time": "2024-09-15T12:24:01.636893",
     "exception": false,
     "start_time": "2024-09-15T12:24:01.589690",
     "status": "completed"
    },
    "tags": []
   },
   "outputs": [],
   "source": [
    "train_dl = DeviceDataLoader(train_dl, device)\n",
    "val_dl = DeviceDataLoader(val_dl, device)\n",
    "test_dl = DeviceDataLoader(test_dl, device)"
   ]
  },
  {
   "cell_type": "code",
   "execution_count": 95,
   "id": "dc31b92c",
   "metadata": {
    "execution": {
     "iopub.execute_input": "2024-09-15T12:24:01.719233Z",
     "iopub.status.busy": "2024-09-15T12:24:01.718295Z",
     "iopub.status.idle": "2024-09-15T12:24:01.726404Z",
     "shell.execute_reply": "2024-09-15T12:24:01.725518Z"
    },
    "papermill": {
     "duration": 0.050514,
     "end_time": "2024-09-15T12:24:01.728232",
     "exception": false,
     "start_time": "2024-09-15T12:24:01.677718",
     "status": "completed"
    },
    "tags": []
   },
   "outputs": [],
   "source": [
    "class BaseModel(nn.Module):\n",
    "    def training_step(self, batch):\n",
    "        inputs, targets = batch\n",
    "        outputs = self(inputs)\n",
    "        loss = F.mse_loss(outputs.flatten(), targets)\n",
    "        return loss\n",
    "    \n",
    "    def validation_step(self, batch):\n",
    "        inputs, targets = batch\n",
    "        outputs = self(inputs)\n",
    "        loss = F.mse_loss(outputs.flatten(), targets)\n",
    "        return {'val_loss': loss.detach()}\n",
    "\n",
    "    def validation_epoch_end(self, outputs):\n",
    "        batch_losses = [x['val_loss'] for x in outputs]\n",
    "        epoch_loss = torch.stack(batch_losses).mean()\n",
    "        return {'val_loss': epoch_loss.item()}\n",
    "\n",
    "    def epoch_end(self, epoch, result):\n",
    "        print(\"Epoch [{}], train_loss: {:.4f}, val_loss: {:.4f}\".format(epoch, result['train_loss'], result['val_loss']))"
   ]
  },
  {
   "cell_type": "code",
   "execution_count": 96,
   "id": "9d9448c6",
   "metadata": {
    "execution": {
     "iopub.execute_input": "2024-09-15T12:24:01.811726Z",
     "iopub.status.busy": "2024-09-15T12:24:01.810896Z",
     "iopub.status.idle": "2024-09-15T12:24:01.816486Z",
     "shell.execute_reply": "2024-09-15T12:24:01.815527Z"
    },
    "papermill": {
     "duration": 0.049583,
     "end_time": "2024-09-15T12:24:01.818584",
     "exception": false,
     "start_time": "2024-09-15T12:24:01.769001",
     "status": "completed"
    },
    "tags": []
   },
   "outputs": [],
   "source": [
    "@torch.no_grad()\n",
    "def evaluate(model, val_dl):\n",
    "    torch.cuda.empty_cache()\n",
    "    model.eval()\n",
    "    outputs = [model.validation_step(batch) for batch in val_dl]\n",
    "    return model.validation_epoch_end(outputs)"
   ]
  },
  {
   "cell_type": "code",
   "execution_count": 97,
   "id": "91787eb6",
   "metadata": {
    "execution": {
     "iopub.execute_input": "2024-09-15T12:24:01.902329Z",
     "iopub.status.busy": "2024-09-15T12:24:01.901920Z",
     "iopub.status.idle": "2024-09-15T12:24:01.906735Z",
     "shell.execute_reply": "2024-09-15T12:24:01.905895Z"
    },
    "papermill": {
     "duration": 0.048391,
     "end_time": "2024-09-15T12:24:01.908641",
     "exception": false,
     "start_time": "2024-09-15T12:24:01.860250",
     "status": "completed"
    },
    "tags": []
   },
   "outputs": [],
   "source": [
    "def get_lr(optimizer):\n",
    "    for param_group in optimizer.param_groups:\n",
    "        return param_group['lr']"
   ]
  },
  {
   "cell_type": "code",
   "execution_count": 98,
   "id": "396adc3f",
   "metadata": {
    "execution": {
     "iopub.execute_input": "2024-09-15T12:24:01.992139Z",
     "iopub.status.busy": "2024-09-15T12:24:01.991753Z",
     "iopub.status.idle": "2024-09-15T12:24:02.000799Z",
     "shell.execute_reply": "2024-09-15T12:24:01.999774Z"
    },
    "papermill": {
     "duration": 0.053245,
     "end_time": "2024-09-15T12:24:02.002834",
     "exception": false,
     "start_time": "2024-09-15T12:24:01.949589",
     "status": "completed"
    },
    "tags": []
   },
   "outputs": [],
   "source": [
    "def fit(epochs, lr, model, train_dl, val_dl, opt_func=torch.optim.SGD,\n",
    "        weight_decay=0,grad_clip=None):\n",
    "    torch.cuda.empty_cache()\n",
    "    history = []\n",
    "    optimizer = opt_func(model.parameters(), lr, weight_decay=weight_decay)\n",
    "    sched = torch.optim.lr_scheduler.OneCycleLR(optimizer, lr, epochs=epochs,\n",
    "                                                steps_per_epoch=len(train_dl))\n",
    "    for epoch in range(epochs):\n",
    "        # Training\n",
    "        model.train()\n",
    "        train_losses = []\n",
    "        for batch in train_dl:\n",
    "            loss = model.training_step(batch)\n",
    "            train_losses.append(loss)\n",
    "            loss.backward()\n",
    "            if grad_clip:\n",
    "                nn.utils.clip_grad_value_(model.parameters(), grad_clip)\n",
    "            optimizer.step()\n",
    "            optimizer.zero_grad()\n",
    "            sched.step()\n",
    "        # Validation\n",
    "        result = evaluate(model, val_dl)\n",
    "        result['train_loss'] = torch.stack(train_losses).mean().item()\n",
    "        model.epoch_end(epoch, result)\n",
    "        history.append(result)\n",
    "    return history"
   ]
  },
  {
   "cell_type": "code",
   "execution_count": 99,
   "id": "a91fcf41",
   "metadata": {
    "execution": {
     "iopub.execute_input": "2024-09-15T12:24:02.086410Z",
     "iopub.status.busy": "2024-09-15T12:24:02.085991Z",
     "iopub.status.idle": "2024-09-15T12:24:02.093656Z",
     "shell.execute_reply": "2024-09-15T12:24:02.092694Z"
    },
    "papermill": {
     "duration": 0.051296,
     "end_time": "2024-09-15T12:24:02.095670",
     "exception": false,
     "start_time": "2024-09-15T12:24:02.044374",
     "status": "completed"
    },
    "tags": []
   },
   "outputs": [],
   "source": [
    "class LSTMModel(BaseModel):\n",
    "    def __init__(self):\n",
    "        super().__init__()\n",
    "        self.lstm = nn.LSTM(1, 64, 1,batch_first=True)\n",
    "        self.fc_1 = nn.Linear(64, 32)\n",
    "        self.fc_2 = nn.Linear(32, 1)\n",
    "    \n",
    "    def forward(self, x):\n",
    "        x = x.reshape(x.shape[0], x.shape[1],1)\n",
    "        out, _ = self.lstm(x)\n",
    "        out = F.relu(out[:,-1,:])\n",
    "        out = self.fc_1(out)\n",
    "        out = F.relu(out)\n",
    "        out = self.fc_2(out)\n",
    "        return out"
   ]
  },
  {
   "cell_type": "code",
   "execution_count": 100,
   "id": "167fabc9",
   "metadata": {
    "execution": {
     "iopub.execute_input": "2024-09-15T12:24:02.179034Z",
     "iopub.status.busy": "2024-09-15T12:24:02.178366Z",
     "iopub.status.idle": "2024-09-15T12:24:02.311631Z",
     "shell.execute_reply": "2024-09-15T12:24:02.310776Z"
    },
    "papermill": {
     "duration": 0.178085,
     "end_time": "2024-09-15T12:24:02.313915",
     "exception": false,
     "start_time": "2024-09-15T12:24:02.135830",
     "status": "completed"
    },
    "tags": []
   },
   "outputs": [],
   "source": [
    "model = to_device(LSTMModel(), device)"
   ]
  },
  {
   "cell_type": "code",
   "execution_count": 101,
   "id": "0508d6a5",
   "metadata": {
    "execution": {
     "iopub.execute_input": "2024-09-15T12:24:02.394417Z",
     "iopub.status.busy": "2024-09-15T12:24:02.394047Z",
     "iopub.status.idle": "2024-09-15T12:24:05.047724Z",
     "shell.execute_reply": "2024-09-15T12:24:05.046723Z"
    },
    "papermill": {
     "duration": 2.696593,
     "end_time": "2024-09-15T12:24:05.049952",
     "exception": false,
     "start_time": "2024-09-15T12:24:02.353359",
     "status": "completed"
    },
    "scrolled": true,
    "tags": []
   },
   "outputs": [
    {
     "data": {
      "text/plain": [
       "[{'val_loss': 1.3021235466003418}]"
      ]
     },
     "execution_count": 101,
     "metadata": {},
     "output_type": "execute_result"
    }
   ],
   "source": [
    "history = [evaluate(model, val_dl)]\n",
    "history"
   ]
  },
  {
   "cell_type": "code",
   "execution_count": 102,
   "id": "c12eb8cb",
   "metadata": {
    "execution": {
     "iopub.execute_input": "2024-09-15T12:24:05.133918Z",
     "iopub.status.busy": "2024-09-15T12:24:05.133082Z",
     "iopub.status.idle": "2024-09-15T12:45:48.299056Z",
     "shell.execute_reply": "2024-09-15T12:45:48.297715Z"
    },
    "papermill": {
     "duration": 1303.209951,
     "end_time": "2024-09-15T12:45:48.301288",
     "exception": false,
     "start_time": "2024-09-15T12:24:05.091337",
     "status": "completed"
    },
    "tags": []
   },
   "outputs": [
    {
     "name": "stdout",
     "output_type": "stream",
     "text": [
      "Epoch [0], train_loss: 0.9125, val_loss: 1.0178\n",
      "Epoch [1], train_loss: 0.9174, val_loss: 0.9059\n",
      "Epoch [2], train_loss: 0.9078, val_loss: 1.0102\n",
      "Epoch [3], train_loss: 0.9369, val_loss: 0.9394\n",
      "Epoch [4], train_loss: 0.9356, val_loss: 0.9480\n",
      "Epoch [5], train_loss: 0.8937, val_loss: 0.9018\n",
      "Epoch [6], train_loss: 0.8769, val_loss: 1.0182\n",
      "Epoch [7], train_loss: 0.8537, val_loss: 0.9233\n",
      "CPU times: user 22min 12s, sys: 2min 49s, total: 25min 2s\n",
      "Wall time: 21min 43s\n"
     ]
    }
   ],
   "source": [
    "%%time\n",
    "history += fit(8, 0.01, model, train_dl, val_dl, opt_func=torch.optim.Adam,\n",
    "               weight_decay=1e-5, grad_clip=0.1)"
   ]
  },
  {
   "cell_type": "code",
   "execution_count": 103,
   "id": "5ff8413c",
   "metadata": {
    "execution": {
     "iopub.execute_input": "2024-09-15T12:45:48.384786Z",
     "iopub.status.busy": "2024-09-15T12:45:48.384346Z",
     "iopub.status.idle": "2024-09-15T13:02:05.672128Z",
     "shell.execute_reply": "2024-09-15T13:02:05.670818Z"
    },
    "papermill": {
     "duration": 977.332247,
     "end_time": "2024-09-15T13:02:05.674280",
     "exception": false,
     "start_time": "2024-09-15T12:45:48.342033",
     "status": "completed"
    },
    "tags": []
   },
   "outputs": [
    {
     "name": "stdout",
     "output_type": "stream",
     "text": [
      "Epoch [0], train_loss: 0.8720, val_loss: 1.2012\n",
      "Epoch [1], train_loss: 0.9182, val_loss: 0.9500\n",
      "Epoch [2], train_loss: 0.9187, val_loss: 0.9365\n",
      "Epoch [3], train_loss: 0.8862, val_loss: 0.9377\n",
      "Epoch [4], train_loss: 0.8471, val_loss: 0.8994\n",
      "Epoch [5], train_loss: 0.8411, val_loss: 0.9272\n",
      "CPU times: user 16min 38s, sys: 2min 8s, total: 18min 46s\n",
      "Wall time: 16min 17s\n"
     ]
    }
   ],
   "source": [
    "%%time\n",
    "history += fit(6, 0.005, model, train_dl, val_dl, opt_func=torch.optim.Adam,\n",
    "               weight_decay=1e-5, grad_clip=0.1)"
   ]
  },
  {
   "cell_type": "code",
   "execution_count": 104,
   "id": "cabc5508",
   "metadata": {
    "execution": {
     "iopub.execute_input": "2024-09-15T13:02:05.759334Z",
     "iopub.status.busy": "2024-09-15T13:02:05.758459Z",
     "iopub.status.idle": "2024-09-15T13:02:07.524091Z",
     "shell.execute_reply": "2024-09-15T13:02:07.522962Z"
    },
    "papermill": {
     "duration": 1.810308,
     "end_time": "2024-09-15T13:02:07.526290",
     "exception": false,
     "start_time": "2024-09-15T13:02:05.715982",
     "status": "completed"
    },
    "tags": []
   },
   "outputs": [
    {
     "data": {
      "text/plain": [
       "0         0.335693\n",
       "1         0.718394\n",
       "2         0.426197\n",
       "3         0.393860\n",
       "4         3.036471\n",
       "            ...   \n",
       "214195    0.195260\n",
       "214196    0.197692\n",
       "214197    0.216200\n",
       "214198    0.200222\n",
       "214199    0.211531\n",
       "Length: 214200, dtype: float64"
      ]
     },
     "execution_count": 104,
     "metadata": {},
     "output_type": "execute_result"
    }
   ],
   "source": [
    "test_preds = []\n",
    "for batch in test_dl:\n",
    "    inputs = batch[0]\n",
    "    outputs = model(inputs)\n",
    "    test_preds += outputs[:,0].cpu().detach().numpy().tolist()\n",
    "test_preds = pd.Series(test_preds).clip(0,20)\n",
    "test_preds"
   ]
  },
  {
   "cell_type": "code",
   "execution_count": 105,
   "id": "d181db94",
   "metadata": {
    "execution": {
     "iopub.execute_input": "2024-09-15T13:02:07.609191Z",
     "iopub.status.busy": "2024-09-15T13:02:07.608841Z",
     "iopub.status.idle": "2024-09-15T13:02:08.187939Z",
     "shell.execute_reply": "2024-09-15T13:02:08.186928Z"
    },
    "papermill": {
     "duration": 0.622954,
     "end_time": "2024-09-15T13:02:08.190403",
     "exception": false,
     "start_time": "2024-09-15T13:02:07.567449",
     "status": "completed"
    },
    "tags": []
   },
   "outputs": [],
   "source": [
    "sub_df['item_cnt_month'] = test_preds\n",
    "sub_df.to_csv('/kaggle/working/submission_lstm.csv', index=None)"
   ]
  }
 ],
 "metadata": {
  "kaggle": {
   "accelerator": "gpu",
   "dataSources": [
    {
     "databundleVersionId": 868304,
     "sourceId": 8587,
     "sourceType": "competition"
    }
   ],
   "dockerImageVersionId": 30761,
   "isGpuEnabled": true,
   "isInternetEnabled": true,
   "language": "python",
   "sourceType": "notebook"
  },
  "kernelspec": {
   "display_name": "Python 3",
   "language": "python",
   "name": "python3"
  },
  "language_info": {
   "codemirror_mode": {
    "name": "ipython",
    "version": 3
   },
   "file_extension": ".py",
   "mimetype": "text/x-python",
   "name": "python",
   "nbconvert_exporter": "python",
   "pygments_lexer": "ipython3",
   "version": "3.10.14"
  },
  "papermill": {
   "default_parameters": {},
   "duration": 3826.378472,
   "end_time": "2024-09-15T13:02:11.369296",
   "environment_variables": {},
   "exception": null,
   "input_path": "__notebook__.ipynb",
   "output_path": "__notebook__.ipynb",
   "parameters": {},
   "start_time": "2024-09-15T11:58:24.990824",
   "version": "2.6.0"
  }
 },
 "nbformat": 4,
 "nbformat_minor": 5
}
