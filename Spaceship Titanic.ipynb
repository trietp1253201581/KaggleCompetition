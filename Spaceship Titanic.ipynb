{
 "cells": [
  {
   "cell_type": "markdown",
   "id": "28d9672a",
   "metadata": {
    "papermill": {
     "duration": 0.022898,
     "end_time": "2024-09-18T14:49:24.264002",
     "exception": false,
     "start_time": "2024-09-18T14:49:24.241104",
     "status": "completed"
    },
    "tags": []
   },
   "source": [
    "# Spaceship Titanic Competition"
   ]
  },
  {
   "cell_type": "markdown",
   "id": "67cc3c2b",
   "metadata": {
    "papermill": {
     "duration": 0.022546,
     "end_time": "2024-09-18T14:49:24.309050",
     "exception": false,
     "start_time": "2024-09-18T14:49:24.286504",
     "status": "completed"
    },
    "tags": []
   },
   "source": [
    "## Import library and datasets"
   ]
  },
  {
   "cell_type": "code",
   "execution_count": 1,
   "id": "dfd5af4f",
   "metadata": {
    "execution": {
     "iopub.execute_input": "2024-09-18T14:49:24.354650Z",
     "iopub.status.busy": "2024-09-18T14:49:24.354093Z",
     "iopub.status.idle": "2024-09-18T14:49:28.470807Z",
     "shell.execute_reply": "2024-09-18T14:49:28.469673Z"
    },
    "papermill": {
     "duration": 4.142698,
     "end_time": "2024-09-18T14:49:28.473396",
     "exception": false,
     "start_time": "2024-09-18T14:49:24.330698",
     "status": "completed"
    },
    "tags": []
   },
   "outputs": [],
   "source": [
    "import pandas as pd\n",
    "import numpy as np\n",
    "\n",
    "from sklearn.preprocessing import OneHotEncoder, OrdinalEncoder, MinMaxScaler, StandardScaler\n",
    "from sklearn.impute import SimpleImputer\n",
    "\n",
    "from sklearn.metrics import mean_squared_error, accuracy_score\n",
    "\n",
    "from sklearn.model_selection import GridSearchCV, train_test_split, StratifiedKFold, cross_val_score, RandomizedSearchCV\n",
    "from sklearn.feature_selection import mutual_info_classif\n",
    "\n",
    "from sklearn.pipeline import make_pipeline, Pipeline\n",
    "from sklearn.compose import ColumnTransformer\n",
    "\n",
    "from sklearn.ensemble import RandomForestClassifier, StackingClassifier\n",
    "from xgboost import XGBClassifier\n",
    "from lightgbm import LGBMClassifier\n",
    "from catboost import CatBoostClassifier\n",
    "\n",
    "from scipy.stats import loguniform, uniform\n",
    "\n",
    "import warnings\n",
    "warnings.simplefilter(action='ignore', category=FutureWarning)\n",
    "\n",
    "import matplotlib.pyplot as plt\n",
    "import seaborn as sns\n",
    "%matplotlib inline"
   ]
  },
  {
   "cell_type": "code",
   "execution_count": 2,
   "id": "e2f01097",
   "metadata": {
    "execution": {
     "iopub.execute_input": "2024-09-18T14:49:28.519536Z",
     "iopub.status.busy": "2024-09-18T14:49:28.518962Z",
     "iopub.status.idle": "2024-09-18T14:49:28.608275Z",
     "shell.execute_reply": "2024-09-18T14:49:28.607322Z"
    },
    "papermill": {
     "duration": 0.114992,
     "end_time": "2024-09-18T14:49:28.610719",
     "exception": false,
     "start_time": "2024-09-18T14:49:28.495727",
     "status": "completed"
    },
    "tags": []
   },
   "outputs": [],
   "source": [
    "data_dir = '/kaggle/input/spaceship-titanic/'\n",
    "raw_df = pd.read_csv(data_dir + 'train.csv')\n",
    "test_df = pd.read_csv(data_dir + 'test.csv')\n",
    "sample_sub_df = pd.read_csv(data_dir + 'sample_submission.csv')"
   ]
  },
  {
   "cell_type": "code",
   "execution_count": 3,
   "id": "d8394ca6",
   "metadata": {
    "execution": {
     "iopub.execute_input": "2024-09-18T14:49:28.656676Z",
     "iopub.status.busy": "2024-09-18T14:49:28.655667Z",
     "iopub.status.idle": "2024-09-18T14:49:28.698490Z",
     "shell.execute_reply": "2024-09-18T14:49:28.697379Z"
    },
    "papermill": {
     "duration": 0.068272,
     "end_time": "2024-09-18T14:49:28.700997",
     "exception": false,
     "start_time": "2024-09-18T14:49:28.632725",
     "status": "completed"
    },
    "tags": []
   },
   "outputs": [
    {
     "data": {
      "text/html": [
       "<div>\n",
       "<style scoped>\n",
       "    .dataframe tbody tr th:only-of-type {\n",
       "        vertical-align: middle;\n",
       "    }\n",
       "\n",
       "    .dataframe tbody tr th {\n",
       "        vertical-align: top;\n",
       "    }\n",
       "\n",
       "    .dataframe thead th {\n",
       "        text-align: right;\n",
       "    }\n",
       "</style>\n",
       "<table border=\"1\" class=\"dataframe\">\n",
       "  <thead>\n",
       "    <tr style=\"text-align: right;\">\n",
       "      <th></th>\n",
       "      <th>PassengerId</th>\n",
       "      <th>HomePlanet</th>\n",
       "      <th>CryoSleep</th>\n",
       "      <th>Cabin</th>\n",
       "      <th>Destination</th>\n",
       "      <th>Age</th>\n",
       "      <th>VIP</th>\n",
       "      <th>RoomService</th>\n",
       "      <th>FoodCourt</th>\n",
       "      <th>ShoppingMall</th>\n",
       "      <th>Spa</th>\n",
       "      <th>VRDeck</th>\n",
       "      <th>Name</th>\n",
       "      <th>Transported</th>\n",
       "    </tr>\n",
       "  </thead>\n",
       "  <tbody>\n",
       "    <tr>\n",
       "      <th>0</th>\n",
       "      <td>0001_01</td>\n",
       "      <td>Europa</td>\n",
       "      <td>False</td>\n",
       "      <td>B/0/P</td>\n",
       "      <td>TRAPPIST-1e</td>\n",
       "      <td>39.0</td>\n",
       "      <td>False</td>\n",
       "      <td>0.0</td>\n",
       "      <td>0.0</td>\n",
       "      <td>0.0</td>\n",
       "      <td>0.0</td>\n",
       "      <td>0.0</td>\n",
       "      <td>Maham Ofracculy</td>\n",
       "      <td>False</td>\n",
       "    </tr>\n",
       "    <tr>\n",
       "      <th>1</th>\n",
       "      <td>0002_01</td>\n",
       "      <td>Earth</td>\n",
       "      <td>False</td>\n",
       "      <td>F/0/S</td>\n",
       "      <td>TRAPPIST-1e</td>\n",
       "      <td>24.0</td>\n",
       "      <td>False</td>\n",
       "      <td>109.0</td>\n",
       "      <td>9.0</td>\n",
       "      <td>25.0</td>\n",
       "      <td>549.0</td>\n",
       "      <td>44.0</td>\n",
       "      <td>Juanna Vines</td>\n",
       "      <td>True</td>\n",
       "    </tr>\n",
       "    <tr>\n",
       "      <th>2</th>\n",
       "      <td>0003_01</td>\n",
       "      <td>Europa</td>\n",
       "      <td>False</td>\n",
       "      <td>A/0/S</td>\n",
       "      <td>TRAPPIST-1e</td>\n",
       "      <td>58.0</td>\n",
       "      <td>True</td>\n",
       "      <td>43.0</td>\n",
       "      <td>3576.0</td>\n",
       "      <td>0.0</td>\n",
       "      <td>6715.0</td>\n",
       "      <td>49.0</td>\n",
       "      <td>Altark Susent</td>\n",
       "      <td>False</td>\n",
       "    </tr>\n",
       "    <tr>\n",
       "      <th>3</th>\n",
       "      <td>0003_02</td>\n",
       "      <td>Europa</td>\n",
       "      <td>False</td>\n",
       "      <td>A/0/S</td>\n",
       "      <td>TRAPPIST-1e</td>\n",
       "      <td>33.0</td>\n",
       "      <td>False</td>\n",
       "      <td>0.0</td>\n",
       "      <td>1283.0</td>\n",
       "      <td>371.0</td>\n",
       "      <td>3329.0</td>\n",
       "      <td>193.0</td>\n",
       "      <td>Solam Susent</td>\n",
       "      <td>False</td>\n",
       "    </tr>\n",
       "    <tr>\n",
       "      <th>4</th>\n",
       "      <td>0004_01</td>\n",
       "      <td>Earth</td>\n",
       "      <td>False</td>\n",
       "      <td>F/1/S</td>\n",
       "      <td>TRAPPIST-1e</td>\n",
       "      <td>16.0</td>\n",
       "      <td>False</td>\n",
       "      <td>303.0</td>\n",
       "      <td>70.0</td>\n",
       "      <td>151.0</td>\n",
       "      <td>565.0</td>\n",
       "      <td>2.0</td>\n",
       "      <td>Willy Santantines</td>\n",
       "      <td>True</td>\n",
       "    </tr>\n",
       "    <tr>\n",
       "      <th>...</th>\n",
       "      <td>...</td>\n",
       "      <td>...</td>\n",
       "      <td>...</td>\n",
       "      <td>...</td>\n",
       "      <td>...</td>\n",
       "      <td>...</td>\n",
       "      <td>...</td>\n",
       "      <td>...</td>\n",
       "      <td>...</td>\n",
       "      <td>...</td>\n",
       "      <td>...</td>\n",
       "      <td>...</td>\n",
       "      <td>...</td>\n",
       "      <td>...</td>\n",
       "    </tr>\n",
       "    <tr>\n",
       "      <th>8688</th>\n",
       "      <td>9276_01</td>\n",
       "      <td>Europa</td>\n",
       "      <td>False</td>\n",
       "      <td>A/98/P</td>\n",
       "      <td>55 Cancri e</td>\n",
       "      <td>41.0</td>\n",
       "      <td>True</td>\n",
       "      <td>0.0</td>\n",
       "      <td>6819.0</td>\n",
       "      <td>0.0</td>\n",
       "      <td>1643.0</td>\n",
       "      <td>74.0</td>\n",
       "      <td>Gravior Noxnuther</td>\n",
       "      <td>False</td>\n",
       "    </tr>\n",
       "    <tr>\n",
       "      <th>8689</th>\n",
       "      <td>9278_01</td>\n",
       "      <td>Earth</td>\n",
       "      <td>True</td>\n",
       "      <td>G/1499/S</td>\n",
       "      <td>PSO J318.5-22</td>\n",
       "      <td>18.0</td>\n",
       "      <td>False</td>\n",
       "      <td>0.0</td>\n",
       "      <td>0.0</td>\n",
       "      <td>0.0</td>\n",
       "      <td>0.0</td>\n",
       "      <td>0.0</td>\n",
       "      <td>Kurta Mondalley</td>\n",
       "      <td>False</td>\n",
       "    </tr>\n",
       "    <tr>\n",
       "      <th>8690</th>\n",
       "      <td>9279_01</td>\n",
       "      <td>Earth</td>\n",
       "      <td>False</td>\n",
       "      <td>G/1500/S</td>\n",
       "      <td>TRAPPIST-1e</td>\n",
       "      <td>26.0</td>\n",
       "      <td>False</td>\n",
       "      <td>0.0</td>\n",
       "      <td>0.0</td>\n",
       "      <td>1872.0</td>\n",
       "      <td>1.0</td>\n",
       "      <td>0.0</td>\n",
       "      <td>Fayey Connon</td>\n",
       "      <td>True</td>\n",
       "    </tr>\n",
       "    <tr>\n",
       "      <th>8691</th>\n",
       "      <td>9280_01</td>\n",
       "      <td>Europa</td>\n",
       "      <td>False</td>\n",
       "      <td>E/608/S</td>\n",
       "      <td>55 Cancri e</td>\n",
       "      <td>32.0</td>\n",
       "      <td>False</td>\n",
       "      <td>0.0</td>\n",
       "      <td>1049.0</td>\n",
       "      <td>0.0</td>\n",
       "      <td>353.0</td>\n",
       "      <td>3235.0</td>\n",
       "      <td>Celeon Hontichre</td>\n",
       "      <td>False</td>\n",
       "    </tr>\n",
       "    <tr>\n",
       "      <th>8692</th>\n",
       "      <td>9280_02</td>\n",
       "      <td>Europa</td>\n",
       "      <td>False</td>\n",
       "      <td>E/608/S</td>\n",
       "      <td>TRAPPIST-1e</td>\n",
       "      <td>44.0</td>\n",
       "      <td>False</td>\n",
       "      <td>126.0</td>\n",
       "      <td>4688.0</td>\n",
       "      <td>0.0</td>\n",
       "      <td>0.0</td>\n",
       "      <td>12.0</td>\n",
       "      <td>Propsh Hontichre</td>\n",
       "      <td>True</td>\n",
       "    </tr>\n",
       "  </tbody>\n",
       "</table>\n",
       "<p>8693 rows × 14 columns</p>\n",
       "</div>"
      ],
      "text/plain": [
       "     PassengerId HomePlanet CryoSleep     Cabin    Destination   Age    VIP  \\\n",
       "0        0001_01     Europa     False     B/0/P    TRAPPIST-1e  39.0  False   \n",
       "1        0002_01      Earth     False     F/0/S    TRAPPIST-1e  24.0  False   \n",
       "2        0003_01     Europa     False     A/0/S    TRAPPIST-1e  58.0   True   \n",
       "3        0003_02     Europa     False     A/0/S    TRAPPIST-1e  33.0  False   \n",
       "4        0004_01      Earth     False     F/1/S    TRAPPIST-1e  16.0  False   \n",
       "...          ...        ...       ...       ...            ...   ...    ...   \n",
       "8688     9276_01     Europa     False    A/98/P    55 Cancri e  41.0   True   \n",
       "8689     9278_01      Earth      True  G/1499/S  PSO J318.5-22  18.0  False   \n",
       "8690     9279_01      Earth     False  G/1500/S    TRAPPIST-1e  26.0  False   \n",
       "8691     9280_01     Europa     False   E/608/S    55 Cancri e  32.0  False   \n",
       "8692     9280_02     Europa     False   E/608/S    TRAPPIST-1e  44.0  False   \n",
       "\n",
       "      RoomService  FoodCourt  ShoppingMall     Spa  VRDeck               Name  \\\n",
       "0             0.0        0.0           0.0     0.0     0.0    Maham Ofracculy   \n",
       "1           109.0        9.0          25.0   549.0    44.0       Juanna Vines   \n",
       "2            43.0     3576.0           0.0  6715.0    49.0      Altark Susent   \n",
       "3             0.0     1283.0         371.0  3329.0   193.0       Solam Susent   \n",
       "4           303.0       70.0         151.0   565.0     2.0  Willy Santantines   \n",
       "...           ...        ...           ...     ...     ...                ...   \n",
       "8688          0.0     6819.0           0.0  1643.0    74.0  Gravior Noxnuther   \n",
       "8689          0.0        0.0           0.0     0.0     0.0    Kurta Mondalley   \n",
       "8690          0.0        0.0        1872.0     1.0     0.0       Fayey Connon   \n",
       "8691          0.0     1049.0           0.0   353.0  3235.0   Celeon Hontichre   \n",
       "8692        126.0     4688.0           0.0     0.0    12.0   Propsh Hontichre   \n",
       "\n",
       "      Transported  \n",
       "0           False  \n",
       "1            True  \n",
       "2           False  \n",
       "3           False  \n",
       "4            True  \n",
       "...           ...  \n",
       "8688        False  \n",
       "8689        False  \n",
       "8690         True  \n",
       "8691        False  \n",
       "8692         True  \n",
       "\n",
       "[8693 rows x 14 columns]"
      ]
     },
     "execution_count": 3,
     "metadata": {},
     "output_type": "execute_result"
    }
   ],
   "source": [
    "raw_df"
   ]
  },
  {
   "cell_type": "code",
   "execution_count": 4,
   "id": "6154e5c2",
   "metadata": {
    "execution": {
     "iopub.execute_input": "2024-09-18T14:49:28.747497Z",
     "iopub.status.busy": "2024-09-18T14:49:28.746535Z",
     "iopub.status.idle": "2024-09-18T14:49:28.759849Z",
     "shell.execute_reply": "2024-09-18T14:49:28.758847Z"
    },
    "papermill": {
     "duration": 0.038825,
     "end_time": "2024-09-18T14:49:28.761974",
     "exception": false,
     "start_time": "2024-09-18T14:49:28.723149",
     "status": "completed"
    },
    "tags": []
   },
   "outputs": [
    {
     "data": {
      "text/plain": [
       "PassengerId       0\n",
       "HomePlanet      201\n",
       "CryoSleep       217\n",
       "Cabin           199\n",
       "Destination     182\n",
       "Age             179\n",
       "VIP             203\n",
       "RoomService     181\n",
       "FoodCourt       183\n",
       "ShoppingMall    208\n",
       "Spa             183\n",
       "VRDeck          188\n",
       "Name            200\n",
       "Transported       0\n",
       "dtype: int64"
      ]
     },
     "execution_count": 4,
     "metadata": {},
     "output_type": "execute_result"
    }
   ],
   "source": [
    "raw_df.isna().sum()"
   ]
  },
  {
   "cell_type": "code",
   "execution_count": 5,
   "id": "8722111d",
   "metadata": {
    "execution": {
     "iopub.execute_input": "2024-09-18T14:49:28.809293Z",
     "iopub.status.busy": "2024-09-18T14:49:28.808871Z",
     "iopub.status.idle": "2024-09-18T14:49:28.832924Z",
     "shell.execute_reply": "2024-09-18T14:49:28.831877Z"
    },
    "papermill": {
     "duration": 0.050944,
     "end_time": "2024-09-18T14:49:28.835495",
     "exception": false,
     "start_time": "2024-09-18T14:49:28.784551",
     "status": "completed"
    },
    "tags": []
   },
   "outputs": [],
   "source": [
    "def view_categoricals_feature(cat_col: str):\n",
    "    d = dict()    \n",
    "    total = raw_df[cat_col].value_counts()\n",
    "    idx = raw_df['Transported'].value_counts().index.tolist()\n",
    "    for t in idx:\n",
    "        x = raw_df[raw_df['Transported']==t][cat_col].value_counts()\n",
    "        d[t] = x/total*100\n",
    "    \n",
    "    return pd.DataFrame(data=d, columns=idx)"
   ]
  },
  {
   "cell_type": "code",
   "execution_count": 6,
   "id": "02b85fd8",
   "metadata": {
    "execution": {
     "iopub.execute_input": "2024-09-18T14:49:28.882375Z",
     "iopub.status.busy": "2024-09-18T14:49:28.881968Z",
     "iopub.status.idle": "2024-09-18T14:49:28.897486Z",
     "shell.execute_reply": "2024-09-18T14:49:28.896457Z"
    },
    "papermill": {
     "duration": 0.041705,
     "end_time": "2024-09-18T14:49:28.900013",
     "exception": false,
     "start_time": "2024-09-18T14:49:28.858308",
     "status": "completed"
    },
    "tags": []
   },
   "outputs": [],
   "source": [
    "concat_df = pd.concat([raw_df, test_df]).copy()"
   ]
  },
  {
   "cell_type": "markdown",
   "id": "76bd21d9",
   "metadata": {
    "papermill": {
     "duration": 0.023234,
     "end_time": "2024-09-18T14:49:28.946052",
     "exception": false,
     "start_time": "2024-09-18T14:49:28.922818",
     "status": "completed"
    },
    "tags": []
   },
   "source": [
    "## EDA and Feature Engineering"
   ]
  },
  {
   "cell_type": "markdown",
   "id": "ff4fea0b",
   "metadata": {
    "papermill": {
     "duration": 0.022103,
     "end_time": "2024-09-18T14:49:28.990717",
     "exception": false,
     "start_time": "2024-09-18T14:49:28.968614",
     "status": "completed"
    },
    "tags": []
   },
   "source": [
    "### Home Planet"
   ]
  },
  {
   "cell_type": "code",
   "execution_count": 7,
   "id": "f38478c5",
   "metadata": {
    "execution": {
     "iopub.execute_input": "2024-09-18T14:49:29.038310Z",
     "iopub.status.busy": "2024-09-18T14:49:29.037302Z",
     "iopub.status.idle": "2024-09-18T14:49:29.055001Z",
     "shell.execute_reply": "2024-09-18T14:49:29.053753Z"
    },
    "papermill": {
     "duration": 0.043575,
     "end_time": "2024-09-18T14:49:29.057202",
     "exception": false,
     "start_time": "2024-09-18T14:49:29.013627",
     "status": "completed"
    },
    "tags": []
   },
   "outputs": [
    {
     "data": {
      "text/plain": [
       "HomePlanet\n",
       "Earth     6865\n",
       "Europa    3133\n",
       "Mars      2684\n",
       "NaN        288\n",
       "Name: count, dtype: int64"
      ]
     },
     "execution_count": 7,
     "metadata": {},
     "output_type": "execute_result"
    }
   ],
   "source": [
    "concat_df['HomePlanet'].value_counts(dropna=False)"
   ]
  },
  {
   "cell_type": "code",
   "execution_count": 8,
   "id": "42f13af9",
   "metadata": {
    "execution": {
     "iopub.execute_input": "2024-09-18T14:49:29.104228Z",
     "iopub.status.busy": "2024-09-18T14:49:29.103818Z",
     "iopub.status.idle": "2024-09-18T14:49:29.112560Z",
     "shell.execute_reply": "2024-09-18T14:49:29.111384Z"
    },
    "papermill": {
     "duration": 0.035358,
     "end_time": "2024-09-18T14:49:29.115176",
     "exception": false,
     "start_time": "2024-09-18T14:49:29.079818",
     "status": "completed"
    },
    "tags": []
   },
   "outputs": [],
   "source": [
    "concat_df.fillna({'HomePlanet': 'UNK'}, inplace=True)"
   ]
  },
  {
   "cell_type": "markdown",
   "id": "1658fbcb",
   "metadata": {
    "papermill": {
     "duration": 0.022322,
     "end_time": "2024-09-18T14:49:29.160190",
     "exception": false,
     "start_time": "2024-09-18T14:49:29.137868",
     "status": "completed"
    },
    "tags": []
   },
   "source": [
    "### CryoSleep"
   ]
  },
  {
   "cell_type": "code",
   "execution_count": 9,
   "id": "e4c26ca2",
   "metadata": {
    "execution": {
     "iopub.execute_input": "2024-09-18T14:49:29.206926Z",
     "iopub.status.busy": "2024-09-18T14:49:29.206481Z",
     "iopub.status.idle": "2024-09-18T14:49:29.218093Z",
     "shell.execute_reply": "2024-09-18T14:49:29.217028Z"
    },
    "papermill": {
     "duration": 0.037891,
     "end_time": "2024-09-18T14:49:29.220547",
     "exception": false,
     "start_time": "2024-09-18T14:49:29.182656",
     "status": "completed"
    },
    "tags": []
   },
   "outputs": [
    {
     "data": {
      "text/plain": [
       "CryoSleep\n",
       "False    8079\n",
       "True     4581\n",
       "NaN       310\n",
       "Name: count, dtype: int64"
      ]
     },
     "execution_count": 9,
     "metadata": {},
     "output_type": "execute_result"
    }
   ],
   "source": [
    "concat_df['CryoSleep'].value_counts(dropna=False)"
   ]
  },
  {
   "cell_type": "code",
   "execution_count": 10,
   "id": "a93c7208",
   "metadata": {
    "execution": {
     "iopub.execute_input": "2024-09-18T14:49:29.268637Z",
     "iopub.status.busy": "2024-09-18T14:49:29.268208Z",
     "iopub.status.idle": "2024-09-18T14:49:29.276214Z",
     "shell.execute_reply": "2024-09-18T14:49:29.275300Z"
    },
    "papermill": {
     "duration": 0.035339,
     "end_time": "2024-09-18T14:49:29.278634",
     "exception": false,
     "start_time": "2024-09-18T14:49:29.243295",
     "status": "completed"
    },
    "tags": []
   },
   "outputs": [],
   "source": [
    "concat_df.fillna({'CryoSleep': False}, inplace=True)"
   ]
  },
  {
   "cell_type": "markdown",
   "id": "1837d351",
   "metadata": {
    "papermill": {
     "duration": 0.022083,
     "end_time": "2024-09-18T14:49:29.323261",
     "exception": false,
     "start_time": "2024-09-18T14:49:29.301178",
     "status": "completed"
    },
    "tags": []
   },
   "source": [
    "### Cabin"
   ]
  },
  {
   "cell_type": "code",
   "execution_count": 11,
   "id": "52c8b23d",
   "metadata": {
    "execution": {
     "iopub.execute_input": "2024-09-18T14:49:29.425275Z",
     "iopub.status.busy": "2024-09-18T14:49:29.424840Z",
     "iopub.status.idle": "2024-09-18T14:49:29.449649Z",
     "shell.execute_reply": "2024-09-18T14:49:29.448661Z"
    },
    "papermill": {
     "duration": 0.106159,
     "end_time": "2024-09-18T14:49:29.451998",
     "exception": false,
     "start_time": "2024-09-18T14:49:29.345839",
     "status": "completed"
    },
    "tags": []
   },
   "outputs": [],
   "source": [
    "concat_df['Deck'] = concat_df['Cabin'].apply(lambda x: x.split('/')[0] if str(x).count('/') > 0 else 'UNK')\n",
    "concat_df['Side'] = concat_df['Cabin'].apply(lambda x: x.split('/')[2] if str(x).count('/') > 1 else 'UNK')"
   ]
  },
  {
   "cell_type": "code",
   "execution_count": 12,
   "id": "cd971aa1",
   "metadata": {
    "execution": {
     "iopub.execute_input": "2024-09-18T14:49:29.499934Z",
     "iopub.status.busy": "2024-09-18T14:49:29.498405Z",
     "iopub.status.idle": "2024-09-18T14:49:29.508494Z",
     "shell.execute_reply": "2024-09-18T14:49:29.507426Z"
    },
    "papermill": {
     "duration": 0.036339,
     "end_time": "2024-09-18T14:49:29.510870",
     "exception": false,
     "start_time": "2024-09-18T14:49:29.474531",
     "status": "completed"
    },
    "tags": []
   },
   "outputs": [
    {
     "data": {
      "text/plain": [
       "Deck\n",
       "F      4239\n",
       "G      3781\n",
       "E      1323\n",
       "B      1141\n",
       "C      1102\n",
       "D       720\n",
       "A       354\n",
       "UNK     299\n",
       "T        11\n",
       "Name: count, dtype: int64"
      ]
     },
     "execution_count": 12,
     "metadata": {},
     "output_type": "execute_result"
    }
   ],
   "source": [
    "concat_df['Deck'].value_counts(dropna=False)"
   ]
  },
  {
   "cell_type": "code",
   "execution_count": 13,
   "id": "8ef34a71",
   "metadata": {
    "execution": {
     "iopub.execute_input": "2024-09-18T14:49:29.558109Z",
     "iopub.status.busy": "2024-09-18T14:49:29.557712Z",
     "iopub.status.idle": "2024-09-18T14:49:29.567492Z",
     "shell.execute_reply": "2024-09-18T14:49:29.566496Z"
    },
    "papermill": {
     "duration": 0.036206,
     "end_time": "2024-09-18T14:49:29.569848",
     "exception": false,
     "start_time": "2024-09-18T14:49:29.533642",
     "status": "completed"
    },
    "tags": []
   },
   "outputs": [
    {
     "data": {
      "text/plain": [
       "Side\n",
       "S      6381\n",
       "P      6290\n",
       "UNK     299\n",
       "Name: count, dtype: int64"
      ]
     },
     "execution_count": 13,
     "metadata": {},
     "output_type": "execute_result"
    }
   ],
   "source": [
    "concat_df['Side'].value_counts(dropna=False)"
   ]
  },
  {
   "cell_type": "markdown",
   "id": "8af0f680",
   "metadata": {
    "papermill": {
     "duration": 0.022482,
     "end_time": "2024-09-18T14:49:29.615773",
     "exception": false,
     "start_time": "2024-09-18T14:49:29.593291",
     "status": "completed"
    },
    "tags": []
   },
   "source": [
    "### Destination"
   ]
  },
  {
   "cell_type": "code",
   "execution_count": 14,
   "id": "e3d14001",
   "metadata": {
    "execution": {
     "iopub.execute_input": "2024-09-18T14:49:29.663884Z",
     "iopub.status.busy": "2024-09-18T14:49:29.662883Z",
     "iopub.status.idle": "2024-09-18T14:49:29.671990Z",
     "shell.execute_reply": "2024-09-18T14:49:29.670975Z"
    },
    "papermill": {
     "duration": 0.035407,
     "end_time": "2024-09-18T14:49:29.674171",
     "exception": false,
     "start_time": "2024-09-18T14:49:29.638764",
     "status": "completed"
    },
    "tags": []
   },
   "outputs": [
    {
     "data": {
      "text/plain": [
       "Destination\n",
       "TRAPPIST-1e      8871\n",
       "55 Cancri e      2641\n",
       "PSO J318.5-22    1184\n",
       "NaN               274\n",
       "Name: count, dtype: int64"
      ]
     },
     "execution_count": 14,
     "metadata": {},
     "output_type": "execute_result"
    }
   ],
   "source": [
    "concat_df['Destination'].value_counts(dropna=False)"
   ]
  },
  {
   "cell_type": "code",
   "execution_count": 15,
   "id": "c819e12d",
   "metadata": {
    "execution": {
     "iopub.execute_input": "2024-09-18T14:49:29.721876Z",
     "iopub.status.busy": "2024-09-18T14:49:29.721449Z",
     "iopub.status.idle": "2024-09-18T14:49:29.729212Z",
     "shell.execute_reply": "2024-09-18T14:49:29.728158Z"
    },
    "papermill": {
     "duration": 0.034444,
     "end_time": "2024-09-18T14:49:29.731497",
     "exception": false,
     "start_time": "2024-09-18T14:49:29.697053",
     "status": "completed"
    },
    "tags": []
   },
   "outputs": [],
   "source": [
    "concat_df.fillna({'Destination': 'UNK'}, inplace=True)"
   ]
  },
  {
   "cell_type": "markdown",
   "id": "0389c64b",
   "metadata": {
    "papermill": {
     "duration": 0.022926,
     "end_time": "2024-09-18T14:49:29.777696",
     "exception": false,
     "start_time": "2024-09-18T14:49:29.754770",
     "status": "completed"
    },
    "tags": []
   },
   "source": [
    "### Vip"
   ]
  },
  {
   "cell_type": "code",
   "execution_count": 16,
   "id": "3b228b2c",
   "metadata": {
    "execution": {
     "iopub.execute_input": "2024-09-18T14:49:29.826065Z",
     "iopub.status.busy": "2024-09-18T14:49:29.825645Z",
     "iopub.status.idle": "2024-09-18T14:49:29.834980Z",
     "shell.execute_reply": "2024-09-18T14:49:29.833739Z"
    },
    "papermill": {
     "duration": 0.036166,
     "end_time": "2024-09-18T14:49:29.837371",
     "exception": false,
     "start_time": "2024-09-18T14:49:29.801205",
     "status": "completed"
    },
    "tags": []
   },
   "outputs": [
    {
     "data": {
      "text/plain": [
       "VIP\n",
       "False    12401\n",
       "NaN        296\n",
       "True       273\n",
       "Name: count, dtype: int64"
      ]
     },
     "execution_count": 16,
     "metadata": {},
     "output_type": "execute_result"
    }
   ],
   "source": [
    "concat_df['VIP'].value_counts(dropna=False)"
   ]
  },
  {
   "cell_type": "code",
   "execution_count": 17,
   "id": "b65b97c8",
   "metadata": {
    "execution": {
     "iopub.execute_input": "2024-09-18T14:49:29.885302Z",
     "iopub.status.busy": "2024-09-18T14:49:29.884894Z",
     "iopub.status.idle": "2024-09-18T14:49:29.892543Z",
     "shell.execute_reply": "2024-09-18T14:49:29.891401Z"
    },
    "papermill": {
     "duration": 0.034116,
     "end_time": "2024-09-18T14:49:29.894656",
     "exception": false,
     "start_time": "2024-09-18T14:49:29.860540",
     "status": "completed"
    },
    "tags": []
   },
   "outputs": [],
   "source": [
    "concat_df.fillna({'VIP': False}, inplace=True)"
   ]
  },
  {
   "cell_type": "markdown",
   "id": "17f8ca3a",
   "metadata": {
    "papermill": {
     "duration": 0.023328,
     "end_time": "2024-09-18T14:49:29.941571",
     "exception": false,
     "start_time": "2024-09-18T14:49:29.918243",
     "status": "completed"
    },
    "tags": []
   },
   "source": [
    "### Name"
   ]
  },
  {
   "cell_type": "code",
   "execution_count": 18,
   "id": "a3eca510",
   "metadata": {
    "execution": {
     "iopub.execute_input": "2024-09-18T14:49:29.992153Z",
     "iopub.status.busy": "2024-09-18T14:49:29.990947Z",
     "iopub.status.idle": "2024-09-18T14:49:30.017973Z",
     "shell.execute_reply": "2024-09-18T14:49:30.016848Z"
    },
    "papermill": {
     "duration": 0.054385,
     "end_time": "2024-09-18T14:49:30.020544",
     "exception": false,
     "start_time": "2024-09-18T14:49:29.966159",
     "status": "completed"
    },
    "tags": []
   },
   "outputs": [],
   "source": [
    "concat_df['FirstName'] = concat_df['Name'].apply(lambda x: x.split(' ')[0] if str(x).find(' ')!=-1 else 'unk')\n",
    "concat_df['LastName'] = concat_df['Name'].apply(lambda x: x.split(' ')[1] if str(x).find(' ')!=-1 else 'unk')"
   ]
  },
  {
   "cell_type": "code",
   "execution_count": 19,
   "id": "8797fafb",
   "metadata": {
    "execution": {
     "iopub.execute_input": "2024-09-18T14:49:30.068398Z",
     "iopub.status.busy": "2024-09-18T14:49:30.067980Z",
     "iopub.status.idle": "2024-09-18T14:49:30.079474Z",
     "shell.execute_reply": "2024-09-18T14:49:30.078397Z"
    },
    "papermill": {
     "duration": 0.038148,
     "end_time": "2024-09-18T14:49:30.081835",
     "exception": false,
     "start_time": "2024-09-18T14:49:30.043687",
     "status": "completed"
    },
    "tags": []
   },
   "outputs": [],
   "source": [
    "first_name = concat_df['FirstName'].value_counts()\n",
    "last_name = concat_df['LastName'].value_counts()"
   ]
  },
  {
   "cell_type": "code",
   "execution_count": 20,
   "id": "9c19b43c",
   "metadata": {
    "execution": {
     "iopub.execute_input": "2024-09-18T14:49:30.129606Z",
     "iopub.status.busy": "2024-09-18T14:49:30.129169Z",
     "iopub.status.idle": "2024-09-18T14:49:30.238363Z",
     "shell.execute_reply": "2024-09-18T14:49:30.237364Z"
    },
    "papermill": {
     "duration": 0.136034,
     "end_time": "2024-09-18T14:49:30.240893",
     "exception": false,
     "start_time": "2024-09-18T14:49:30.104859",
     "status": "completed"
    },
    "tags": []
   },
   "outputs": [],
   "source": [
    "concat_df['FirstName'] = concat_df['FirstName'].apply(lambda x: x if first_name.get(x)>4 else 'rem')\n",
    "concat_df['LastName'] = concat_df['LastName'].apply(lambda x: x if last_name.get(x)>4 else 'rem')"
   ]
  },
  {
   "cell_type": "markdown",
   "id": "636bd0ff",
   "metadata": {
    "papermill": {
     "duration": 0.02368,
     "end_time": "2024-09-18T14:49:30.287819",
     "exception": false,
     "start_time": "2024-09-18T14:49:30.264139",
     "status": "completed"
    },
    "tags": []
   },
   "source": [
    "### Passenger Id"
   ]
  },
  {
   "cell_type": "code",
   "execution_count": 21,
   "id": "6ebeff20",
   "metadata": {
    "execution": {
     "iopub.execute_input": "2024-09-18T14:49:30.336277Z",
     "iopub.status.busy": "2024-09-18T14:49:30.335844Z",
     "iopub.status.idle": "2024-09-18T14:49:30.346431Z",
     "shell.execute_reply": "2024-09-18T14:49:30.345286Z"
    },
    "papermill": {
     "duration": 0.037142,
     "end_time": "2024-09-18T14:49:30.348729",
     "exception": false,
     "start_time": "2024-09-18T14:49:30.311587",
     "status": "completed"
    },
    "tags": []
   },
   "outputs": [],
   "source": [
    "concat_df['GroupId'] = concat_df['PassengerId'].map(lambda x: x[0:4])"
   ]
  },
  {
   "cell_type": "code",
   "execution_count": 22,
   "id": "6d3633e3",
   "metadata": {
    "execution": {
     "iopub.execute_input": "2024-09-18T14:49:30.397249Z",
     "iopub.status.busy": "2024-09-18T14:49:30.396841Z",
     "iopub.status.idle": "2024-09-18T14:49:30.482244Z",
     "shell.execute_reply": "2024-09-18T14:49:30.481282Z"
    },
    "papermill": {
     "duration": 0.112605,
     "end_time": "2024-09-18T14:49:30.484731",
     "exception": false,
     "start_time": "2024-09-18T14:49:30.372126",
     "status": "completed"
    },
    "tags": []
   },
   "outputs": [],
   "source": [
    "group_count = concat_df['GroupId'].value_counts()\n",
    "concat_df['NumInGroup'] = concat_df['GroupId'].apply(lambda x: group_count.get(x))"
   ]
  },
  {
   "cell_type": "markdown",
   "id": "39ddb14b",
   "metadata": {
    "papermill": {
     "duration": 0.022685,
     "end_time": "2024-09-18T14:49:30.530486",
     "exception": false,
     "start_time": "2024-09-18T14:49:30.507801",
     "status": "completed"
    },
    "tags": []
   },
   "source": [
    "### Age"
   ]
  },
  {
   "cell_type": "code",
   "execution_count": 23,
   "id": "a6c0bb10",
   "metadata": {
    "execution": {
     "iopub.execute_input": "2024-09-18T14:49:30.578761Z",
     "iopub.status.busy": "2024-09-18T14:49:30.577976Z",
     "iopub.status.idle": "2024-09-18T14:49:30.591374Z",
     "shell.execute_reply": "2024-09-18T14:49:30.590139Z"
    },
    "papermill": {
     "duration": 0.040123,
     "end_time": "2024-09-18T14:49:30.593594",
     "exception": false,
     "start_time": "2024-09-18T14:49:30.553471",
     "status": "completed"
    },
    "tags": []
   },
   "outputs": [
    {
     "data": {
      "text/plain": [
       "count    12700.000000\n",
       "mean        28.771969\n",
       "std         14.387261\n",
       "min          0.000000\n",
       "25%         19.000000\n",
       "50%         27.000000\n",
       "75%         38.000000\n",
       "max         79.000000\n",
       "Name: Age, dtype: float64"
      ]
     },
     "execution_count": 23,
     "metadata": {},
     "output_type": "execute_result"
    }
   ],
   "source": [
    "concat_df['Age'].describe()"
   ]
  },
  {
   "cell_type": "code",
   "execution_count": 24,
   "id": "87d3b0d7",
   "metadata": {
    "execution": {
     "iopub.execute_input": "2024-09-18T14:49:30.641833Z",
     "iopub.status.busy": "2024-09-18T14:49:30.640985Z",
     "iopub.status.idle": "2024-09-18T14:49:30.647759Z",
     "shell.execute_reply": "2024-09-18T14:49:30.646727Z"
    },
    "papermill": {
     "duration": 0.033388,
     "end_time": "2024-09-18T14:49:30.650052",
     "exception": false,
     "start_time": "2024-09-18T14:49:30.616664",
     "status": "completed"
    },
    "tags": []
   },
   "outputs": [],
   "source": [
    "avg_age = concat_df['Age'].mean()\n",
    "concat_df.fillna({'Age': avg_age}, inplace=True)"
   ]
  },
  {
   "cell_type": "code",
   "execution_count": 25,
   "id": "120e3ba9",
   "metadata": {
    "execution": {
     "iopub.execute_input": "2024-09-18T14:49:30.700313Z",
     "iopub.status.busy": "2024-09-18T14:49:30.699491Z",
     "iopub.status.idle": "2024-09-18T14:49:30.988360Z",
     "shell.execute_reply": "2024-09-18T14:49:30.987209Z"
    },
    "papermill": {
     "duration": 0.316984,
     "end_time": "2024-09-18T14:49:30.991015",
     "exception": false,
     "start_time": "2024-09-18T14:49:30.674031",
     "status": "completed"
    },
    "tags": []
   },
   "outputs": [
    {
     "data": {
      "image/png": "[encoded data removed]",
      "text/plain": [
       "<Figure size 1200x800 with 1 Axes>"
      ]
     },
     "metadata": {},
     "output_type": "display_data"
    }
   ],
   "source": [
    "plt.figure(figsize=(12,8))\n",
    "plt.hist(raw_df['Age'], bins=np.arange(0,80,5));"
   ]
  },
  {
   "cell_type": "code",
   "execution_count": 26,
   "id": "385f2790",
   "metadata": {
    "execution": {
     "iopub.execute_input": "2024-09-18T14:49:31.040908Z",
     "iopub.status.busy": "2024-09-18T14:49:31.040494Z",
     "iopub.status.idle": "2024-09-18T14:49:31.051739Z",
     "shell.execute_reply": "2024-09-18T14:49:31.050478Z"
    },
    "papermill": {
     "duration": 0.03875,
     "end_time": "2024-09-18T14:49:31.054316",
     "exception": false,
     "start_time": "2024-09-18T14:49:31.015566",
     "status": "completed"
    },
    "tags": []
   },
   "outputs": [],
   "source": [
    "concat_df['AgeGroup'] = pd.cut(concat_df['Age'],\n",
    "                               bins=[-1,5,14,18,30,52,100],\n",
    "                               labels=['Baby','Child','Teenager','Adult','OldAdult','Old'])"
   ]
  },
  {
   "cell_type": "code",
   "execution_count": 27,
   "id": "b54ad223",
   "metadata": {
    "execution": {
     "iopub.execute_input": "2024-09-18T14:49:31.103065Z",
     "iopub.status.busy": "2024-09-18T14:49:31.102647Z",
     "iopub.status.idle": "2024-09-18T14:49:31.109702Z",
     "shell.execute_reply": "2024-09-18T14:49:31.108549Z"
    },
    "papermill": {
     "duration": 0.034057,
     "end_time": "2024-09-18T14:49:31.111936",
     "exception": false,
     "start_time": "2024-09-18T14:49:31.077879",
     "status": "completed"
    },
    "tags": []
   },
   "outputs": [],
   "source": [
    "concat_df['CanHandle'] = concat_df['AgeGroup'].apply(lambda x: 1 if x in ['Baby', 'Child'] else 0)"
   ]
  },
  {
   "cell_type": "markdown",
   "id": "174f0c7a",
   "metadata": {
    "papermill": {
     "duration": 0.0229,
     "end_time": "2024-09-18T14:49:31.158697",
     "exception": false,
     "start_time": "2024-09-18T14:49:31.135797",
     "status": "completed"
    },
    "tags": []
   },
   "source": [
    "### Costs"
   ]
  },
  {
   "cell_type": "code",
   "execution_count": 28,
   "id": "cccaf16f",
   "metadata": {
    "execution": {
     "iopub.execute_input": "2024-09-18T14:49:31.222004Z",
     "iopub.status.busy": "2024-09-18T14:49:31.220908Z",
     "iopub.status.idle": "2024-09-18T14:49:31.239247Z",
     "shell.execute_reply": "2024-09-18T14:49:31.237765Z"
    },
    "papermill": {
     "duration": 0.057399,
     "end_time": "2024-09-18T14:49:31.241623",
     "exception": false,
     "start_time": "2024-09-18T14:49:31.184224",
     "status": "completed"
    },
    "tags": []
   },
   "outputs": [
    {
     "data": {
      "text/html": [
       "<style>#sk-container-id-1 {color: black;background-color: white;}#sk-container-id-1 pre{padding: 0;}#sk-container-id-1 div.sk-toggleable {background-color: white;}#sk-container-id-1 label.sk-toggleable__label {cursor: pointer;display: block;width: 100%;margin-bottom: 0;padding: 0.3em;box-sizing: border-box;text-align: center;}#sk-container-id-1 label.sk-toggleable__label-arrow:before {content: \"▸\";float: left;margin-right: 0.25em;color: #696969;}#sk-container-id-1 label.sk-toggleable__label-arrow:hover:before {color: black;}#sk-container-id-1 div.sk-estimator:hover label.sk-toggleable__label-arrow:before {color: black;}#sk-container-id-1 div.sk-toggleable__content {max-height: 0;max-width: 0;overflow: hidden;text-align: left;background-color: #f0f8ff;}#sk-container-id-1 div.sk-toggleable__content pre {margin: 0.2em;color: black;border-radius: 0.25em;background-color: #f0f8ff;}#sk-container-id-1 input.sk-toggleable__control:checked~div.sk-toggleable__content {max-height: 200px;max-width: 100%;overflow: auto;}#sk-container-id-1 input.sk-toggleable__control:checked~label.sk-toggleable__label-arrow:before {content: \"▾\";}#sk-container-id-1 div.sk-estimator input.sk-toggleable__control:checked~label.sk-toggleable__label {background-color: #d4ebff;}#sk-container-id-1 div.sk-label input.sk-toggleable__control:checked~label.sk-toggleable__label {background-color: #d4ebff;}#sk-container-id-1 input.sk-hidden--visually {border: 0;clip: rect(1px 1px 1px 1px);clip: rect(1px, 1px, 1px, 1px);height: 1px;margin: -1px;overflow: hidden;padding: 0;position: absolute;width: 1px;}#sk-container-id-1 div.sk-estimator {font-family: monospace;background-color: #f0f8ff;border: 1px dotted black;border-radius: 0.25em;box-sizing: border-box;margin-bottom: 0.5em;}#sk-container-id-1 div.sk-estimator:hover {background-color: #d4ebff;}#sk-container-id-1 div.sk-parallel-item::after {content: \"\";width: 100%;border-bottom: 1px solid gray;flex-grow: 1;}#sk-container-id-1 div.sk-label:hover label.sk-toggleable__label {background-color: #d4ebff;}#sk-container-id-1 div.sk-serial::before {content: \"\";position: absolute;border-left: 1px solid gray;box-sizing: border-box;top: 0;bottom: 0;left: 50%;z-index: 0;}#sk-container-id-1 div.sk-serial {display: flex;flex-direction: column;align-items: center;background-color: white;padding-right: 0.2em;padding-left: 0.2em;position: relative;}#sk-container-id-1 div.sk-item {position: relative;z-index: 1;}#sk-container-id-1 div.sk-parallel {display: flex;align-items: stretch;justify-content: center;background-color: white;position: relative;}#sk-container-id-1 div.sk-item::before, #sk-container-id-1 div.sk-parallel-item::before {content: \"\";position: absolute;border-left: 1px solid gray;box-sizing: border-box;top: 0;bottom: 0;left: 50%;z-index: -1;}#sk-container-id-1 div.sk-parallel-item {display: flex;flex-direction: column;z-index: 1;position: relative;background-color: white;}#sk-container-id-1 div.sk-parallel-item:first-child::after {align-self: flex-end;width: 50%;}#sk-container-id-1 div.sk-parallel-item:last-child::after {align-self: flex-start;width: 50%;}#sk-container-id-1 div.sk-parallel-item:only-child::after {width: 0;}#sk-container-id-1 div.sk-dashed-wrapped {border: 1px dashed gray;margin: 0 0.4em 0.5em 0.4em;box-sizing: border-box;padding-bottom: 0.4em;background-color: white;}#sk-container-id-1 div.sk-label label {font-family: monospace;font-weight: bold;display: inline-block;line-height: 1.2em;}#sk-container-id-1 div.sk-label-container {text-align: center;}#sk-container-id-1 div.sk-container {/* jupyter's `normalize.less` sets `[hidden] { display: none; }` but bootstrap.min.css set `[hidden] { display: none !important; }` so we also need the `!important` here to be able to override the default hidden behavior on the sphinx rendered scikit-learn.org. See: https://github.com/scikit-learn/scikit-learn/issues/21755 */display: inline-block !important;position: relative;}#sk-container-id-1 div.sk-text-repr-fallback {display: none;}</style><div id=\"sk-container-id-1\" class=\"sk-top-container\"><div class=\"sk-text-repr-fallback\"><pre>SimpleImputer()</pre><b>In a Jupyter environment, please rerun this cell to show the HTML representation or trust the notebook. <br />On GitHub, the HTML representation is unable to render, please try loading this page with nbviewer.org.</b></div><div class=\"sk-container\" hidden><div class=\"sk-item\"><div class=\"sk-estimator sk-toggleable\"><input class=\"sk-toggleable__control sk-hidden--visually\" id=\"sk-estimator-id-1\" type=\"checkbox\" checked><label for=\"sk-estimator-id-1\" class=\"sk-toggleable__label sk-toggleable__label-arrow\">SimpleImputer</label><div class=\"sk-toggleable__content\"><pre>SimpleImputer()</pre></div></div></div></div></div>"
      ],
      "text/plain": [
       "SimpleImputer()"
      ]
     },
     "execution_count": 28,
     "metadata": {},
     "output_type": "execute_result"
    }
   ],
   "source": [
    "imputer = SimpleImputer()\n",
    "imputer.fit(concat_df[['RoomService','FoodCourt','ShoppingMall','Spa','VRDeck']])"
   ]
  },
  {
   "cell_type": "code",
   "execution_count": 29,
   "id": "2d0c746e",
   "metadata": {
    "execution": {
     "iopub.execute_input": "2024-09-18T14:49:31.293284Z",
     "iopub.status.busy": "2024-09-18T14:49:31.292243Z",
     "iopub.status.idle": "2024-09-18T14:49:31.303366Z",
     "shell.execute_reply": "2024-09-18T14:49:31.301887Z"
    },
    "papermill": {
     "duration": 0.040174,
     "end_time": "2024-09-18T14:49:31.306704",
     "exception": false,
     "start_time": "2024-09-18T14:49:31.266530",
     "status": "completed"
    },
    "tags": []
   },
   "outputs": [],
   "source": [
    "concat_df[['RoomService','FoodCourt','ShoppingMall','Spa','VRDeck']] = imputer.transform(concat_df[['RoomService','FoodCourt','ShoppingMall','Spa','VRDeck']])"
   ]
  },
  {
   "cell_type": "code",
   "execution_count": 30,
   "id": "30f01efe",
   "metadata": {
    "execution": {
     "iopub.execute_input": "2024-09-18T14:49:31.367575Z",
     "iopub.status.busy": "2024-09-18T14:49:31.366374Z",
     "iopub.status.idle": "2024-09-18T14:49:31.375947Z",
     "shell.execute_reply": "2024-09-18T14:49:31.374787Z"
    },
    "papermill": {
     "duration": 0.044063,
     "end_time": "2024-09-18T14:49:31.378608",
     "exception": false,
     "start_time": "2024-09-18T14:49:31.334545",
     "status": "completed"
    },
    "tags": []
   },
   "outputs": [],
   "source": [
    "concat_df['TotalPrice'] = concat_df['RoomService'] + concat_df['FoodCourt'] + concat_df['ShoppingMall'] + concat_df['Spa'] + concat_df['VRDeck']"
   ]
  },
  {
   "cell_type": "code",
   "execution_count": 31,
   "id": "a96ab324",
   "metadata": {
    "execution": {
     "iopub.execute_input": "2024-09-18T14:49:31.432257Z",
     "iopub.status.busy": "2024-09-18T14:49:31.431867Z",
     "iopub.status.idle": "2024-09-18T14:49:31.437454Z",
     "shell.execute_reply": "2024-09-18T14:49:31.436287Z"
    },
    "papermill": {
     "duration": 0.033574,
     "end_time": "2024-09-18T14:49:31.439695",
     "exception": false,
     "start_time": "2024-09-18T14:49:31.406121",
     "status": "completed"
    },
    "tags": []
   },
   "outputs": [],
   "source": [
    "def count_amenity(x):\n",
    "    total = 0\n",
    "    for col in ['RoomService','FoodCourt','ShoppingMall','Spa','VRDeck']:\n",
    "        if x[col] > 0:\n",
    "            total += 1\n",
    "    return total"
   ]
  },
  {
   "cell_type": "code",
   "execution_count": 32,
   "id": "54d2e59f",
   "metadata": {
    "execution": {
     "iopub.execute_input": "2024-09-18T14:49:31.489602Z",
     "iopub.status.busy": "2024-09-18T14:49:31.489181Z",
     "iopub.status.idle": "2024-09-18T14:49:31.685490Z",
     "shell.execute_reply": "2024-09-18T14:49:31.684355Z"
    },
    "papermill": {
     "duration": 0.224356,
     "end_time": "2024-09-18T14:49:31.688142",
     "exception": false,
     "start_time": "2024-09-18T14:49:31.463786",
     "status": "completed"
    },
    "tags": []
   },
   "outputs": [],
   "source": [
    "concat_df['TotalAmenity'] = raw_df.apply(count_amenity, axis=1)"
   ]
  },
  {
   "cell_type": "code",
   "execution_count": 33,
   "id": "14598503",
   "metadata": {
    "execution": {
     "iopub.execute_input": "2024-09-18T14:49:31.739247Z",
     "iopub.status.busy": "2024-09-18T14:49:31.738305Z",
     "iopub.status.idle": "2024-09-18T14:49:31.750193Z",
     "shell.execute_reply": "2024-09-18T14:49:31.749063Z"
    },
    "papermill": {
     "duration": 0.039612,
     "end_time": "2024-09-18T14:49:31.752547",
     "exception": false,
     "start_time": "2024-09-18T14:49:31.712935",
     "status": "completed"
    },
    "tags": []
   },
   "outputs": [],
   "source": [
    "for col in ['RoomService','FoodCourt','ShoppingMall','Spa','VRDeck','TotalPrice']:\n",
    "    concat_df[f'log_{col}'] = np.log(concat_df[col] + 1.5)"
   ]
  },
  {
   "cell_type": "code",
   "execution_count": 34,
   "id": "790ef11d",
   "metadata": {
    "execution": {
     "iopub.execute_input": "2024-09-18T14:49:31.801838Z",
     "iopub.status.busy": "2024-09-18T14:49:31.801430Z",
     "iopub.status.idle": "2024-09-18T14:49:31.821444Z",
     "shell.execute_reply": "2024-09-18T14:49:31.820400Z"
    },
    "papermill": {
     "duration": 0.047658,
     "end_time": "2024-09-18T14:49:31.824068",
     "exception": false,
     "start_time": "2024-09-18T14:49:31.776410",
     "status": "completed"
    },
    "tags": []
   },
   "outputs": [],
   "source": [
    "concat_df['avg_log_TotalPrice_GroupId'] = concat_df.groupby('GroupId')['log_TotalPrice'].transform('mean')\n",
    "concat_df['avg_log_TotalPrice_AgeGroup'] = concat_df.groupby('AgeGroup')['log_TotalPrice'].transform('mean')"
   ]
  },
  {
   "cell_type": "markdown",
   "id": "c20773de",
   "metadata": {
    "papermill": {
     "duration": 0.033302,
     "end_time": "2024-09-18T14:49:31.881855",
     "exception": false,
     "start_time": "2024-09-18T14:49:31.848553",
     "status": "completed"
    },
    "tags": []
   },
   "source": [
    "### Preprocessing"
   ]
  },
  {
   "cell_type": "code",
   "execution_count": 35,
   "id": "60cc77b9",
   "metadata": {
    "execution": {
     "iopub.execute_input": "2024-09-18T14:49:31.945422Z",
     "iopub.status.busy": "2024-09-18T14:49:31.944406Z",
     "iopub.status.idle": "2024-09-18T14:49:31.953923Z",
     "shell.execute_reply": "2024-09-18T14:49:31.952771Z"
    },
    "papermill": {
     "duration": 0.04143,
     "end_time": "2024-09-18T14:49:31.956227",
     "exception": false,
     "start_time": "2024-09-18T14:49:31.914797",
     "status": "completed"
    },
    "tags": []
   },
   "outputs": [
    {
     "data": {
      "text/plain": [
       "PassengerId                      object\n",
       "HomePlanet                       object\n",
       "CryoSleep                          bool\n",
       "Cabin                            object\n",
       "Destination                      object\n",
       "Age                             float64\n",
       "VIP                                bool\n",
       "RoomService                     float64\n",
       "FoodCourt                       float64\n",
       "ShoppingMall                    float64\n",
       "Spa                             float64\n",
       "VRDeck                          float64\n",
       "Name                             object\n",
       "Transported                      object\n",
       "Deck                             object\n",
       "Side                             object\n",
       "FirstName                        object\n",
       "LastName                         object\n",
       "GroupId                          object\n",
       "NumInGroup                        int64\n",
       "AgeGroup                       category\n",
       "CanHandle                         int64\n",
       "TotalPrice                      float64\n",
       "TotalAmenity                      int64\n",
       "log_RoomService                 float64\n",
       "log_FoodCourt                   float64\n",
       "log_ShoppingMall                float64\n",
       "log_Spa                         float64\n",
       "log_VRDeck                      float64\n",
       "log_TotalPrice                  float64\n",
       "avg_log_TotalPrice_GroupId      float64\n",
       "avg_log_TotalPrice_AgeGroup     float64\n",
       "dtype: object"
      ]
     },
     "execution_count": 35,
     "metadata": {},
     "output_type": "execute_result"
    }
   ],
   "source": [
    "concat_df.dtypes"
   ]
  },
  {
   "cell_type": "code",
   "execution_count": 36,
   "id": "fe0b366c",
   "metadata": {
    "execution": {
     "iopub.execute_input": "2024-09-18T14:49:32.007467Z",
     "iopub.status.busy": "2024-09-18T14:49:32.007058Z",
     "iopub.status.idle": "2024-09-18T14:49:32.017627Z",
     "shell.execute_reply": "2024-09-18T14:49:32.016530Z"
    },
    "papermill": {
     "duration": 0.038667,
     "end_time": "2024-09-18T14:49:32.020219",
     "exception": false,
     "start_time": "2024-09-18T14:49:31.981552",
     "status": "completed"
    },
    "tags": []
   },
   "outputs": [],
   "source": [
    "categorical_cols = ['HomePlanet','CryoSleep','Destination','VIP',\n",
    "                    'Deck','Side','FirstName','LastName','GroupId',\n",
    "                    'AgeGroup']\n",
    "numeric_cols = concat_df.select_dtypes(include=[np.float64,np.int64]).columns.tolist()"
   ]
  },
  {
   "cell_type": "code",
   "execution_count": 37,
   "id": "7bcc86dd",
   "metadata": {
    "execution": {
     "iopub.execute_input": "2024-09-18T14:49:32.069971Z",
     "iopub.status.busy": "2024-09-18T14:49:32.069540Z",
     "iopub.status.idle": "2024-09-18T14:49:32.158447Z",
     "shell.execute_reply": "2024-09-18T14:49:32.157103Z"
    },
    "papermill": {
     "duration": 0.116798,
     "end_time": "2024-09-18T14:49:32.160932",
     "exception": false,
     "start_time": "2024-09-18T14:49:32.044134",
     "status": "completed"
    },
    "tags": []
   },
   "outputs": [],
   "source": [
    "encoder = OrdinalEncoder()\n",
    "concat_df[categorical_cols] = encoder.fit_transform(concat_df[categorical_cols])"
   ]
  },
  {
   "cell_type": "code",
   "execution_count": 38,
   "id": "7d5f9cae",
   "metadata": {
    "execution": {
     "iopub.execute_input": "2024-09-18T14:49:32.211327Z",
     "iopub.status.busy": "2024-09-18T14:49:32.210897Z",
     "iopub.status.idle": "2024-09-18T14:49:32.220648Z",
     "shell.execute_reply": "2024-09-18T14:49:32.219453Z"
    },
    "papermill": {
     "duration": 0.038102,
     "end_time": "2024-09-18T14:49:32.223133",
     "exception": false,
     "start_time": "2024-09-18T14:49:32.185031",
     "status": "completed"
    },
    "tags": []
   },
   "outputs": [],
   "source": [
    "concat_df[categorical_cols] = concat_df[categorical_cols].astype('int32')"
   ]
  },
  {
   "cell_type": "code",
   "execution_count": 39,
   "id": "d7068933",
   "metadata": {
    "execution": {
     "iopub.execute_input": "2024-09-18T14:49:32.276197Z",
     "iopub.status.busy": "2024-09-18T14:49:32.275790Z",
     "iopub.status.idle": "2024-09-18T14:49:32.288676Z",
     "shell.execute_reply": "2024-09-18T14:49:32.287577Z"
    },
    "papermill": {
     "duration": 0.04159,
     "end_time": "2024-09-18T14:49:32.291388",
     "exception": false,
     "start_time": "2024-09-18T14:49:32.249798",
     "status": "completed"
    },
    "tags": []
   },
   "outputs": [],
   "source": [
    "raw_df = concat_df[concat_df['Transported'].isna()==False] \n",
    "test_df = concat_df[concat_df['Transported'].isna()]"
   ]
  },
  {
   "cell_type": "code",
   "execution_count": 40,
   "id": "fbe61302",
   "metadata": {
    "execution": {
     "iopub.execute_input": "2024-09-18T14:49:32.341525Z",
     "iopub.status.busy": "2024-09-18T14:49:32.341058Z",
     "iopub.status.idle": "2024-09-18T14:49:32.346327Z",
     "shell.execute_reply": "2024-09-18T14:49:32.345189Z"
    },
    "papermill": {
     "duration": 0.0332,
     "end_time": "2024-09-18T14:49:32.348653",
     "exception": false,
     "start_time": "2024-09-18T14:49:32.315453",
     "status": "completed"
    },
    "tags": []
   },
   "outputs": [],
   "source": [
    "input_cols = numeric_cols+categorical_cols"
   ]
  },
  {
   "cell_type": "code",
   "execution_count": 41,
   "id": "a872309f",
   "metadata": {
    "execution": {
     "iopub.execute_input": "2024-09-18T14:49:32.398995Z",
     "iopub.status.busy": "2024-09-18T14:49:32.398589Z",
     "iopub.status.idle": "2024-09-18T14:49:32.410426Z",
     "shell.execute_reply": "2024-09-18T14:49:32.409224Z"
    },
    "papermill": {
     "duration": 0.040328,
     "end_time": "2024-09-18T14:49:32.413070",
     "exception": false,
     "start_time": "2024-09-18T14:49:32.372742",
     "status": "completed"
    },
    "tags": []
   },
   "outputs": [],
   "source": [
    "inputs = raw_df[input_cols]\n",
    "test_inputs = test_df[input_cols]"
   ]
  },
  {
   "cell_type": "code",
   "execution_count": 42,
   "id": "efd5383b",
   "metadata": {
    "execution": {
     "iopub.execute_input": "2024-09-18T14:49:32.463464Z",
     "iopub.status.busy": "2024-09-18T14:49:32.462452Z",
     "iopub.status.idle": "2024-09-18T14:49:32.472949Z",
     "shell.execute_reply": "2024-09-18T14:49:32.471912Z"
    },
    "papermill": {
     "duration": 0.038689,
     "end_time": "2024-09-18T14:49:32.475807",
     "exception": false,
     "start_time": "2024-09-18T14:49:32.437118",
     "status": "completed"
    },
    "tags": []
   },
   "outputs": [
    {
     "name": "stderr",
     "output_type": "stream",
     "text": [
      "/tmp/ipykernel_17/672608153.py:1: SettingWithCopyWarning: \n",
      "A value is trying to be set on a copy of a slice from a DataFrame.\n",
      "Try using .loc[row_indexer,col_indexer] = value instead\n",
      "\n",
      "See the caveats in the documentation: https://pandas.pydata.org/pandas-docs/stable/user_guide/indexing.html#returning-a-view-versus-a-copy\n",
      "  raw_df['Transported'] = raw_df['Transported'].apply(lambda x: 1 if x==True else 0)\n"
     ]
    }
   ],
   "source": [
    "raw_df['Transported'] = raw_df['Transported'].apply(lambda x: 1 if x==True else 0)"
   ]
  },
  {
   "cell_type": "code",
   "execution_count": 43,
   "id": "afaaf296",
   "metadata": {
    "execution": {
     "iopub.execute_input": "2024-09-18T14:49:32.527150Z",
     "iopub.status.busy": "2024-09-18T14:49:32.526745Z",
     "iopub.status.idle": "2024-09-18T14:49:32.532409Z",
     "shell.execute_reply": "2024-09-18T14:49:32.531242Z"
    },
    "papermill": {
     "duration": 0.034344,
     "end_time": "2024-09-18T14:49:32.534934",
     "exception": false,
     "start_time": "2024-09-18T14:49:32.500590",
     "status": "completed"
    },
    "tags": []
   },
   "outputs": [],
   "source": [
    "targets = raw_df['Transported']"
   ]
  },
  {
   "cell_type": "markdown",
   "id": "958da82f",
   "metadata": {
    "papermill": {
     "duration": 0.023876,
     "end_time": "2024-09-18T14:49:32.583655",
     "exception": false,
     "start_time": "2024-09-18T14:49:32.559779",
     "status": "completed"
    },
    "tags": []
   },
   "source": [
    "## Mutual info"
   ]
  },
  {
   "cell_type": "code",
   "execution_count": 44,
   "id": "41532825",
   "metadata": {
    "execution": {
     "iopub.execute_input": "2024-09-18T14:49:32.633528Z",
     "iopub.status.busy": "2024-09-18T14:49:32.633104Z",
     "iopub.status.idle": "2024-09-18T14:49:33.754962Z",
     "shell.execute_reply": "2024-09-18T14:49:33.753810Z"
    },
    "papermill": {
     "duration": 1.149457,
     "end_time": "2024-09-18T14:49:33.757287",
     "exception": false,
     "start_time": "2024-09-18T14:49:32.607830",
     "status": "completed"
    },
    "tags": []
   },
   "outputs": [
    {
     "name": "stdout",
     "output_type": "stream",
     "text": [
      "CPU times: user 1.09 s, sys: 6.38 ms, total: 1.1 s\n",
      "Wall time: 1.11 s\n"
     ]
    },
    {
     "data": {
      "text/html": [
       "<style type=\"text/css\">\n",
       "#T_e22de_row0_col0 {\n",
       "  background-color: #ff00ff;\n",
       "  color: #f1f1f1;\n",
       "}\n",
       "#T_e22de_row1_col0 {\n",
       "  background-color: #f708ff;\n",
       "  color: #f1f1f1;\n",
       "}\n",
       "#T_e22de_row2_col0 {\n",
       "  background-color: #f30cff;\n",
       "  color: #f1f1f1;\n",
       "}\n",
       "#T_e22de_row3_col0 {\n",
       "  background-color: #da25ff;\n",
       "  color: #f1f1f1;\n",
       "}\n",
       "#T_e22de_row4_col0 {\n",
       "  background-color: #b946ff;\n",
       "  color: #f1f1f1;\n",
       "}\n",
       "#T_e22de_row5_col0 {\n",
       "  background-color: #9c63ff;\n",
       "  color: #f1f1f1;\n",
       "}\n",
       "#T_e22de_row6_col0 {\n",
       "  background-color: #8d72ff;\n",
       "  color: #f1f1f1;\n",
       "}\n",
       "#T_e22de_row7_col0 {\n",
       "  background-color: #8b74ff;\n",
       "  color: #f1f1f1;\n",
       "}\n",
       "#T_e22de_row8_col0 {\n",
       "  background-color: #817eff;\n",
       "  color: #f1f1f1;\n",
       "}\n",
       "#T_e22de_row9_col0 {\n",
       "  background-color: #7986ff;\n",
       "  color: #f1f1f1;\n",
       "}\n",
       "#T_e22de_row10_col0 {\n",
       "  background-color: #718eff;\n",
       "  color: #f1f1f1;\n",
       "}\n",
       "#T_e22de_row11_col0 {\n",
       "  background-color: #6699ff;\n",
       "  color: #f1f1f1;\n",
       "}\n",
       "#T_e22de_row12_col0 {\n",
       "  background-color: #5fa0ff;\n",
       "  color: #f1f1f1;\n",
       "}\n",
       "#T_e22de_row13_col0 {\n",
       "  background-color: #58a7ff;\n",
       "  color: #f1f1f1;\n",
       "}\n",
       "#T_e22de_row14_col0 {\n",
       "  background-color: #44bbff;\n",
       "  color: #000000;\n",
       "}\n",
       "#T_e22de_row15_col0 {\n",
       "  background-color: #31ceff;\n",
       "  color: #000000;\n",
       "}\n",
       "#T_e22de_row16_col0, #T_e22de_row17_col0 {\n",
       "  background-color: #2bd4ff;\n",
       "  color: #000000;\n",
       "}\n",
       "#T_e22de_row18_col0 {\n",
       "  background-color: #20dfff;\n",
       "  color: #000000;\n",
       "}\n",
       "#T_e22de_row19_col0, #T_e22de_row20_col0 {\n",
       "  background-color: #1fe0ff;\n",
       "  color: #000000;\n",
       "}\n",
       "#T_e22de_row21_col0 {\n",
       "  background-color: #1de2ff;\n",
       "  color: #000000;\n",
       "}\n",
       "#T_e22de_row22_col0 {\n",
       "  background-color: #1be4ff;\n",
       "  color: #000000;\n",
       "}\n",
       "#T_e22de_row23_col0 {\n",
       "  background-color: #11eeff;\n",
       "  color: #000000;\n",
       "}\n",
       "#T_e22de_row24_col0 {\n",
       "  background-color: #0df2ff;\n",
       "  color: #000000;\n",
       "}\n",
       "#T_e22de_row25_col0 {\n",
       "  background-color: #0cf3ff;\n",
       "  color: #000000;\n",
       "}\n",
       "#T_e22de_row26_col0, #T_e22de_row27_col0 {\n",
       "  background-color: #00ffff;\n",
       "  color: #000000;\n",
       "}\n",
       "</style>\n",
       "<table id=\"T_e22de\">\n",
       "  <thead>\n",
       "    <tr>\n",
       "      <th class=\"blank level0\" >&nbsp;</th>\n",
       "      <th id=\"T_e22de_level0_col0\" class=\"col_heading level0 col0\" >Numerical_Feature_MI</th>\n",
       "    </tr>\n",
       "  </thead>\n",
       "  <tbody>\n",
       "    <tr>\n",
       "      <th id=\"T_e22de_level0_row0\" class=\"row_heading level0 row0\" >TotalPrice</th>\n",
       "      <td id=\"T_e22de_row0_col0\" class=\"data row0 col0\" >0.133410</td>\n",
       "    </tr>\n",
       "    <tr>\n",
       "      <th id=\"T_e22de_level0_row1\" class=\"row_heading level0 row1\" >log_TotalPrice</th>\n",
       "      <td id=\"T_e22de_row1_col0\" class=\"data row1 col0\" >0.129225</td>\n",
       "    </tr>\n",
       "    <tr>\n",
       "      <th id=\"T_e22de_level0_row2\" class=\"row_heading level0 row2\" >TotalAmenity</th>\n",
       "      <td id=\"T_e22de_row2_col0\" class=\"data row2 col0\" >0.126676</td>\n",
       "    </tr>\n",
       "    <tr>\n",
       "      <th id=\"T_e22de_level0_row3\" class=\"row_heading level0 row3\" >CryoSleep</th>\n",
       "      <td id=\"T_e22de_row3_col0\" class=\"data row3 col0\" >0.113691</td>\n",
       "    </tr>\n",
       "    <tr>\n",
       "      <th id=\"T_e22de_level0_row4\" class=\"row_heading level0 row4\" >avg_log_TotalPrice_GroupId</th>\n",
       "      <td id=\"T_e22de_row4_col0\" class=\"data row4 col0\" >0.096861</td>\n",
       "    </tr>\n",
       "    <tr>\n",
       "      <th id=\"T_e22de_level0_row5\" class=\"row_heading level0 row5\" >log_Spa</th>\n",
       "      <td id=\"T_e22de_row5_col0\" class=\"data row5 col0\" >0.081416</td>\n",
       "    </tr>\n",
       "    <tr>\n",
       "      <th id=\"T_e22de_level0_row6\" class=\"row_heading level0 row6\" >RoomService</th>\n",
       "      <td id=\"T_e22de_row6_col0\" class=\"data row6 col0\" >0.073670</td>\n",
       "    </tr>\n",
       "    <tr>\n",
       "      <th id=\"T_e22de_level0_row7\" class=\"row_heading level0 row7\" >Spa</th>\n",
       "      <td id=\"T_e22de_row7_col0\" class=\"data row7 col0\" >0.072794</td>\n",
       "    </tr>\n",
       "    <tr>\n",
       "      <th id=\"T_e22de_level0_row8\" class=\"row_heading level0 row8\" >log_RoomService</th>\n",
       "      <td id=\"T_e22de_row8_col0\" class=\"data row8 col0\" >0.067238</td>\n",
       "    </tr>\n",
       "    <tr>\n",
       "      <th id=\"T_e22de_level0_row9\" class=\"row_heading level0 row9\" >VRDeck</th>\n",
       "      <td id=\"T_e22de_row9_col0\" class=\"data row9 col0\" >0.063512</td>\n",
       "    </tr>\n",
       "    <tr>\n",
       "      <th id=\"T_e22de_level0_row10\" class=\"row_heading level0 row10\" >log_VRDeck</th>\n",
       "      <td id=\"T_e22de_row10_col0\" class=\"data row10 col0\" >0.059057</td>\n",
       "    </tr>\n",
       "    <tr>\n",
       "      <th id=\"T_e22de_level0_row11\" class=\"row_heading level0 row11\" >log_ShoppingMall</th>\n",
       "      <td id=\"T_e22de_row11_col0\" class=\"data row11 col0\" >0.053204</td>\n",
       "    </tr>\n",
       "    <tr>\n",
       "      <th id=\"T_e22de_level0_row12\" class=\"row_heading level0 row12\" >ShoppingMall</th>\n",
       "      <td id=\"T_e22de_row12_col0\" class=\"data row12 col0\" >0.049823</td>\n",
       "    </tr>\n",
       "    <tr>\n",
       "      <th id=\"T_e22de_level0_row13\" class=\"row_heading level0 row13\" >log_FoodCourt</th>\n",
       "      <td id=\"T_e22de_row13_col0\" class=\"data row13 col0\" >0.045938</td>\n",
       "    </tr>\n",
       "    <tr>\n",
       "      <th id=\"T_e22de_level0_row14\" class=\"row_heading level0 row14\" >FoodCourt</th>\n",
       "      <td id=\"T_e22de_row14_col0\" class=\"data row14 col0\" >0.035741</td>\n",
       "    </tr>\n",
       "    <tr>\n",
       "      <th id=\"T_e22de_level0_row15\" class=\"row_heading level0 row15\" >HomePlanet</th>\n",
       "      <td id=\"T_e22de_row15_col0\" class=\"data row15 col0\" >0.025765</td>\n",
       "    </tr>\n",
       "    <tr>\n",
       "      <th id=\"T_e22de_level0_row16\" class=\"row_heading level0 row16\" >GroupId</th>\n",
       "      <td id=\"T_e22de_row16_col0\" class=\"data row16 col0\" >0.022856</td>\n",
       "    </tr>\n",
       "    <tr>\n",
       "      <th id=\"T_e22de_level0_row17\" class=\"row_heading level0 row17\" >LastName</th>\n",
       "      <td id=\"T_e22de_row17_col0\" class=\"data row17 col0\" >0.022848</td>\n",
       "    </tr>\n",
       "    <tr>\n",
       "      <th id=\"T_e22de_level0_row18\" class=\"row_heading level0 row18\" >avg_log_TotalPrice_AgeGroup</th>\n",
       "      <td id=\"T_e22de_row18_col0\" class=\"data row18 col0\" >0.016939</td>\n",
       "    </tr>\n",
       "    <tr>\n",
       "      <th id=\"T_e22de_level0_row19\" class=\"row_heading level0 row19\" >AgeGroup</th>\n",
       "      <td id=\"T_e22de_row19_col0\" class=\"data row19 col0\" >0.016667</td>\n",
       "    </tr>\n",
       "    <tr>\n",
       "      <th id=\"T_e22de_level0_row20\" class=\"row_heading level0 row20\" >Deck</th>\n",
       "      <td id=\"T_e22de_row20_col0\" class=\"data row20 col0\" >0.016567</td>\n",
       "    </tr>\n",
       "    <tr>\n",
       "      <th id=\"T_e22de_level0_row21\" class=\"row_heading level0 row21\" >FirstName</th>\n",
       "      <td id=\"T_e22de_row21_col0\" class=\"data row21 col0\" >0.015304</td>\n",
       "    </tr>\n",
       "    <tr>\n",
       "      <th id=\"T_e22de_level0_row22\" class=\"row_heading level0 row22\" >CanHandle</th>\n",
       "      <td id=\"T_e22de_row22_col0\" class=\"data row22 col0\" >0.014225</td>\n",
       "    </tr>\n",
       "    <tr>\n",
       "      <th id=\"T_e22de_level0_row23\" class=\"row_heading level0 row23\" >NumInGroup</th>\n",
       "      <td id=\"T_e22de_row23_col0\" class=\"data row23 col0\" >0.008921</td>\n",
       "    </tr>\n",
       "    <tr>\n",
       "      <th id=\"T_e22de_level0_row24\" class=\"row_heading level0 row24\" >Age</th>\n",
       "      <td id=\"T_e22de_row24_col0\" class=\"data row24 col0\" >0.007176</td>\n",
       "    </tr>\n",
       "    <tr>\n",
       "      <th id=\"T_e22de_level0_row25\" class=\"row_heading level0 row25\" >Destination</th>\n",
       "      <td id=\"T_e22de_row25_col0\" class=\"data row25 col0\" >0.006480</td>\n",
       "    </tr>\n",
       "    <tr>\n",
       "      <th id=\"T_e22de_level0_row26\" class=\"row_heading level0 row26\" >VIP</th>\n",
       "      <td id=\"T_e22de_row26_col0\" class=\"data row26 col0\" >0.000000</td>\n",
       "    </tr>\n",
       "    <tr>\n",
       "      <th id=\"T_e22de_level0_row27\" class=\"row_heading level0 row27\" >Side</th>\n",
       "      <td id=\"T_e22de_row27_col0\" class=\"data row27 col0\" >0.000000</td>\n",
       "    </tr>\n",
       "  </tbody>\n",
       "</table>\n"
      ],
      "text/plain": [
       "<pandas.io.formats.style.Styler at 0x793a31681540>"
      ]
     },
     "execution_count": 44,
     "metadata": {},
     "output_type": "execute_result"
    }
   ],
   "source": [
    "%%time\n",
    "mutual_info = mutual_info_classif(inputs, targets, random_state=42)\n",
    "mutual_info = pd.Series(mutual_info)\n",
    "mutual_info.index = inputs.columns\n",
    "mutual_info = pd.DataFrame(mutual_info.sort_values(ascending=False), columns = [\"Numerical_Feature_MI\"] )\n",
    "mutual_info.style.background_gradient(\"cool\")"
   ]
  },
  {
   "cell_type": "code",
   "execution_count": 45,
   "id": "c698bb0e",
   "metadata": {
    "execution": {
     "iopub.execute_input": "2024-09-18T14:49:33.810897Z",
     "iopub.status.busy": "2024-09-18T14:49:33.810139Z",
     "iopub.status.idle": "2024-09-18T14:49:33.815698Z",
     "shell.execute_reply": "2024-09-18T14:49:33.814557Z"
    },
    "papermill": {
     "duration": 0.034844,
     "end_time": "2024-09-18T14:49:33.817712",
     "exception": false,
     "start_time": "2024-09-18T14:49:33.782868",
     "status": "completed"
    },
    "tags": []
   },
   "outputs": [],
   "source": [
    "importance_cols = ['log_TotalPrice','TotalAmenity','CryoSleep',\n",
    "                  'avg_log_TotalPrice_GroupId','log_Spa',\n",
    "                  'log_RoomService','log_VRDeck','log_ShoppingMall',\n",
    "                  'log_FoodCourt','HomePlanet','GroupId','LastName',\n",
    "                  'avg_log_TotalPrice_AgeGroup','AgeGroup',\n",
    "                  'Deck','FirstName','CanHandle','NumInGroup',\n",
    "                  'Age','VIP','Destination']"
   ]
  },
  {
   "cell_type": "code",
   "execution_count": 46,
   "id": "8958f9db",
   "metadata": {
    "execution": {
     "iopub.execute_input": "2024-09-18T14:49:33.868939Z",
     "iopub.status.busy": "2024-09-18T14:49:33.868231Z",
     "iopub.status.idle": "2024-09-18T14:49:33.875287Z",
     "shell.execute_reply": "2024-09-18T14:49:33.874098Z"
    },
    "papermill": {
     "duration": 0.035141,
     "end_time": "2024-09-18T14:49:33.877547",
     "exception": false,
     "start_time": "2024-09-18T14:49:33.842406",
     "status": "completed"
    },
    "tags": []
   },
   "outputs": [
    {
     "data": {
      "text/plain": [
       "(28, 21)"
      ]
     },
     "execution_count": 46,
     "metadata": {},
     "output_type": "execute_result"
    }
   ],
   "source": [
    "len(input_cols), len(importance_cols)"
   ]
  },
  {
   "cell_type": "markdown",
   "id": "6f006e4c",
   "metadata": {
    "papermill": {
     "duration": 0.026071,
     "end_time": "2024-09-18T14:49:33.928361",
     "exception": false,
     "start_time": "2024-09-18T14:49:33.902290",
     "status": "completed"
    },
    "tags": []
   },
   "source": [
    "## Model and training model"
   ]
  },
  {
   "cell_type": "code",
   "execution_count": 47,
   "id": "ee954926",
   "metadata": {
    "execution": {
     "iopub.execute_input": "2024-09-18T14:49:33.980684Z",
     "iopub.status.busy": "2024-09-18T14:49:33.980261Z",
     "iopub.status.idle": "2024-09-18T14:49:33.991934Z",
     "shell.execute_reply": "2024-09-18T14:49:33.990714Z"
    },
    "papermill": {
     "duration": 0.041007,
     "end_time": "2024-09-18T14:49:33.994516",
     "exception": false,
     "start_time": "2024-09-18T14:49:33.953509",
     "status": "completed"
    },
    "tags": []
   },
   "outputs": [],
   "source": [
    "def cross_validation(clf, cv, inputs, targets, test_inputs=None, need_print=False):\n",
    "    train_accs = []\n",
    "    val_accs = []\n",
    "    test_pred_memo = []\n",
    "    if test_inputs is not None:\n",
    "        test_preds = np.zeros(len(test_inputs))\n",
    "    else:\n",
    "        test_preds = np.zeros(len(inputs))\n",
    "    for fold, (train_idx, val_idx) in enumerate(cv.split(inputs, targets)):\n",
    "        X_train = inputs.iloc[train_idx].reset_index(drop=True)\n",
    "        y_train = targets.iloc[train_idx].reset_index(drop=True)\n",
    "        X_val = inputs.iloc[val_idx].reset_index(drop=True)\n",
    "        y_val = targets.iloc[val_idx].reset_index(drop=True)\n",
    "\n",
    "        clf.fit(X_train, y_train)\n",
    "\n",
    "        train_pred = clf.predict(X_train)\n",
    "        train_acc = accuracy_score(y_train, train_pred)\n",
    "        train_accs.append(train_acc)\n",
    "        val_pred = clf.predict(X_val)\n",
    "        val_acc = accuracy_score(y_val, val_pred)\n",
    "        val_accs.append(val_acc)\n",
    "\n",
    "        if need_print:\n",
    "            print(f'Fold {fold}: train_acc = {train_acc:.5f}, val_acc = {val_acc:.5f}')\n",
    "\n",
    "        if test_inputs is not None:\n",
    "            test_pred = clf.predict_proba(test_inputs)[:,1]\n",
    "            test_preds += test_pred/cv.get_n_splits()\n",
    "            \n",
    "            test_pred = clf.predict(test_inputs)\n",
    "            test_pred_memo.append(test_pred)\n",
    "\n",
    "    m_train_acc = np.mean(train_accs)\n",
    "    s_train_acc = np.std(train_accs)\n",
    "    m_val_acc = np.mean(val_accs)\n",
    "    s_val_acc = np.std(val_accs)\n",
    "    \n",
    "    msg = f'{m_val_acc:.7f} ± {s_val_acc:.7f}'\n",
    "    \n",
    "    if need_print:\n",
    "        print(f'Train acc: {m_train_acc:.7f} ± {s_train_acc:.7f} | Val acc: {m_val_acc:.7f} ± {s_val_acc:.7f}')\n",
    "    return test_preds, test_pred_memo, msg"
   ]
  },
  {
   "cell_type": "code",
   "execution_count": 48,
   "id": "ff9de040",
   "metadata": {
    "execution": {
     "iopub.execute_input": "2024-09-18T14:49:34.048831Z",
     "iopub.status.busy": "2024-09-18T14:49:34.048425Z",
     "iopub.status.idle": "2024-09-18T14:49:34.055944Z",
     "shell.execute_reply": "2024-09-18T14:49:34.054874Z"
    },
    "papermill": {
     "duration": 0.035924,
     "end_time": "2024-09-18T14:49:34.058140",
     "exception": false,
     "start_time": "2024-09-18T14:49:34.022216",
     "status": "completed"
    },
    "tags": []
   },
   "outputs": [],
   "source": [
    "def test_with_models(models: dict, features: dict, \n",
    "                     df: pd.DataFrame, target: str, cv):\n",
    "    result = dict()\n",
    "    result['Classifier'] = []\n",
    "    for feature, _ in features.items():\n",
    "        result[f'Acc with {feature} features'] = []\n",
    "    targets = df[target]\n",
    "    for name, model in models.items():\n",
    "        result['Classifier'].append(name)\n",
    "        for f_name, feature in features.items():\n",
    "            inputs = df[feature]\n",
    "            _, _, msg = cross_validation(model, cv, \n",
    "                                         inputs, targets, \n",
    "                                         test_inputs=None, \n",
    "                                         need_print=False)\n",
    "            result[f'Acc with {f_name} features'].append(msg)\n",
    "    \n",
    "    return pd.DataFrame(result)"
   ]
  },
  {
   "cell_type": "code",
   "execution_count": 49,
   "id": "5ce1fc73",
   "metadata": {
    "execution": {
     "iopub.execute_input": "2024-09-18T14:49:34.110269Z",
     "iopub.status.busy": "2024-09-18T14:49:34.109848Z",
     "iopub.status.idle": "2024-09-18T14:49:34.119871Z",
     "shell.execute_reply": "2024-09-18T14:49:34.118681Z"
    },
    "papermill": {
     "duration": 0.038895,
     "end_time": "2024-09-18T14:49:34.122414",
     "exception": false,
     "start_time": "2024-09-18T14:49:34.083519",
     "status": "completed"
    },
    "tags": []
   },
   "outputs": [],
   "source": [
    "classifiers = {\n",
    "    'RandomForest': RandomForestClassifier(n_jobs=-1),\n",
    "    'XGB': XGBClassifier(n_jobs=-1),\n",
    "    'LGBM' : LGBMClassifier(n_jobs=-1,verbose=0),\n",
    "    'CAT': CatBoostClassifier(logging_level='Silent')\n",
    "}\n",
    "features = {\n",
    "    'all': input_cols,\n",
    "    'importance': importance_cols\n",
    "}\n",
    "cv = StratifiedKFold(n_splits=5, shuffle=True, random_state=42)"
   ]
  },
  {
   "cell_type": "code",
   "execution_count": 50,
   "id": "c4694998",
   "metadata": {
    "execution": {
     "iopub.execute_input": "2024-09-18T14:49:34.173876Z",
     "iopub.status.busy": "2024-09-18T14:49:34.173459Z",
     "iopub.status.idle": "2024-09-18T14:50:40.654731Z",
     "shell.execute_reply": "2024-09-18T14:50:40.653720Z"
    },
    "papermill": {
     "duration": 66.534893,
     "end_time": "2024-09-18T14:50:40.682426",
     "exception": false,
     "start_time": "2024-09-18T14:49:34.147533",
     "status": "completed"
    },
    "tags": []
   },
   "outputs": [
    {
     "name": "stdout",
     "output_type": "stream",
     "text": [
      "CPU times: user 3min 13s, sys: 26.8 s, total: 3min 40s\n",
      "Wall time: 1min 6s\n"
     ]
    },
    {
     "data": {
      "text/html": [
       "<div>\n",
       "<style scoped>\n",
       "    .dataframe tbody tr th:only-of-type {\n",
       "        vertical-align: middle;\n",
       "    }\n",
       "\n",
       "    .dataframe tbody tr th {\n",
       "        vertical-align: top;\n",
       "    }\n",
       "\n",
       "    .dataframe thead th {\n",
       "        text-align: right;\n",
       "    }\n",
       "</style>\n",
       "<table border=\"1\" class=\"dataframe\">\n",
       "  <thead>\n",
       "    <tr style=\"text-align: right;\">\n",
       "      <th></th>\n",
       "      <th>Classifier</th>\n",
       "      <th>Acc with all features</th>\n",
       "      <th>Acc with importance features</th>\n",
       "    </tr>\n",
       "  </thead>\n",
       "  <tbody>\n",
       "    <tr>\n",
       "      <th>0</th>\n",
       "      <td>RandomForest</td>\n",
       "      <td>0.7961567 ± 0.0075186</td>\n",
       "      <td>0.7910949 ± 0.0115531</td>\n",
       "    </tr>\n",
       "    <tr>\n",
       "      <th>1</th>\n",
       "      <td>XGB</td>\n",
       "      <td>0.8002986 ± 0.0065458</td>\n",
       "      <td>0.7898311 ± 0.0074824</td>\n",
       "    </tr>\n",
       "    <tr>\n",
       "      <th>2</th>\n",
       "      <td>LGBM</td>\n",
       "      <td>0.8020242 ± 0.0065750</td>\n",
       "      <td>0.7966174 ± 0.0071414</td>\n",
       "    </tr>\n",
       "    <tr>\n",
       "      <th>3</th>\n",
       "      <td>CAT</td>\n",
       "      <td>0.8093877 ± 0.0089147</td>\n",
       "      <td>0.8051301 ± 0.0082301</td>\n",
       "    </tr>\n",
       "  </tbody>\n",
       "</table>\n",
       "</div>"
      ],
      "text/plain": [
       "     Classifier  Acc with all features Acc with importance features\n",
       "0  RandomForest  0.7961567 ± 0.0075186        0.7910949 ± 0.0115531\n",
       "1           XGB  0.8002986 ± 0.0065458        0.7898311 ± 0.0074824\n",
       "2          LGBM  0.8020242 ± 0.0065750        0.7966174 ± 0.0071414\n",
       "3           CAT  0.8093877 ± 0.0089147        0.8051301 ± 0.0082301"
      ]
     },
     "execution_count": 50,
     "metadata": {},
     "output_type": "execute_result"
    }
   ],
   "source": [
    "%%time\n",
    "test_with_models(classifiers, features, raw_df, 'Transported', cv)"
   ]
  },
  {
   "cell_type": "markdown",
   "id": "4b1454cd",
   "metadata": {
    "papermill": {
     "duration": 0.024617,
     "end_time": "2024-09-18T14:50:40.731776",
     "exception": false,
     "start_time": "2024-09-18T14:50:40.707159",
     "status": "completed"
    },
    "tags": []
   },
   "source": [
    "So we choose all features"
   ]
  },
  {
   "cell_type": "code",
   "execution_count": 51,
   "id": "004e1637",
   "metadata": {
    "execution": {
     "iopub.execute_input": "2024-09-18T14:50:40.783926Z",
     "iopub.status.busy": "2024-09-18T14:50:40.783517Z",
     "iopub.status.idle": "2024-09-18T14:50:40.790333Z",
     "shell.execute_reply": "2024-09-18T14:50:40.789298Z"
    },
    "papermill": {
     "duration": 0.036308,
     "end_time": "2024-09-18T14:50:40.792906",
     "exception": false,
     "start_time": "2024-09-18T14:50:40.756598",
     "status": "completed"
    },
    "tags": []
   },
   "outputs": [],
   "source": [
    "scores = {\n",
    "    'Classifier': [],\n",
    "    'Train Acc': [],\n",
    "    'Val Acc': [],\n",
    "    'Test Acc': []\n",
    "}"
   ]
  },
  {
   "cell_type": "markdown",
   "id": "cbcd9557",
   "metadata": {
    "papermill": {
     "duration": 0.024556,
     "end_time": "2024-09-18T14:50:40.843571",
     "exception": false,
     "start_time": "2024-09-18T14:50:40.819015",
     "status": "completed"
    },
    "tags": []
   },
   "source": [
    "### RF"
   ]
  },
  {
   "cell_type": "code",
   "execution_count": 52,
   "id": "9627bc32",
   "metadata": {
    "execution": {
     "iopub.execute_input": "2024-09-18T14:50:40.896030Z",
     "iopub.status.busy": "2024-09-18T14:50:40.895251Z",
     "iopub.status.idle": "2024-09-18T14:50:50.853402Z",
     "shell.execute_reply": "2024-09-18T14:50:50.852294Z"
    },
    "papermill": {
     "duration": 9.986706,
     "end_time": "2024-09-18T14:50:50.855766",
     "exception": false,
     "start_time": "2024-09-18T14:50:40.869060",
     "status": "completed"
    },
    "tags": []
   },
   "outputs": [
    {
     "name": "stdout",
     "output_type": "stream",
     "text": [
      "Fold 0: train_acc = 1.00000, val_acc = 0.79931\n",
      "Fold 1: train_acc = 1.00000, val_acc = 0.78896\n",
      "Fold 2: train_acc = 1.00000, val_acc = 0.80851\n",
      "Fold 3: train_acc = 1.00000, val_acc = 0.80092\n",
      "Fold 4: train_acc = 1.00000, val_acc = 0.78366\n",
      "Train acc: 1.0000000 ± 0.0000000 | Val acc: 0.7962719 ± 0.0088677\n",
      "CPU times: user 9.92 s, sys: 25.3 ms, total: 9.95 s\n",
      "Wall time: 9.95 s\n"
     ]
    }
   ],
   "source": [
    "%%time\n",
    "rf = RandomForestClassifier(n_jobs=-1)\n",
    "test_preds, test_pred_memo, _ = cross_validation(rf, cv, inputs, targets, test_inputs, need_print=True)"
   ]
  },
  {
   "cell_type": "code",
   "execution_count": 53,
   "id": "f176e098",
   "metadata": {
    "execution": {
     "iopub.execute_input": "2024-09-18T14:50:50.908554Z",
     "iopub.status.busy": "2024-09-18T14:50:50.908142Z",
     "iopub.status.idle": "2024-09-18T14:50:50.922449Z",
     "shell.execute_reply": "2024-09-18T14:50:50.921361Z"
    },
    "papermill": {
     "duration": 0.043416,
     "end_time": "2024-09-18T14:50:50.924855",
     "exception": false,
     "start_time": "2024-09-18T14:50:50.881439",
     "status": "completed"
    },
    "tags": []
   },
   "outputs": [],
   "source": [
    "sample_sub_df['Transported'] = test_preds\n",
    "sample_sub_df['Transported'] = sample_sub_df['Transported'].apply(lambda x: True if x>=0.5 else False)\n",
    "sample_sub_df.to_csv('/kaggle/working/sub_rf.csv', index=None)"
   ]
  },
  {
   "cell_type": "code",
   "execution_count": 54,
   "id": "63d2b071",
   "metadata": {
    "execution": {
     "iopub.execute_input": "2024-09-18T14:50:50.976589Z",
     "iopub.status.busy": "2024-09-18T14:50:50.976178Z",
     "iopub.status.idle": "2024-09-18T14:50:50.981509Z",
     "shell.execute_reply": "2024-09-18T14:50:50.980508Z"
    },
    "papermill": {
     "duration": 0.033758,
     "end_time": "2024-09-18T14:50:50.983711",
     "exception": false,
     "start_time": "2024-09-18T14:50:50.949953",
     "status": "completed"
    },
    "tags": []
   },
   "outputs": [],
   "source": [
    "scores['Classifier'].append('RF without tuning')\n",
    "scores['Train Acc'].append(1.00000)\n",
    "scores['Val Acc'].append(0.79915)\n",
    "scores['Test Acc'].append(0.79074)"
   ]
  },
  {
   "cell_type": "code",
   "execution_count": 55,
   "id": "5f5aae37",
   "metadata": {
    "execution": {
     "iopub.execute_input": "2024-09-18T14:50:51.036549Z",
     "iopub.status.busy": "2024-09-18T14:50:51.036122Z",
     "iopub.status.idle": "2024-09-18T14:50:51.044484Z",
     "shell.execute_reply": "2024-09-18T14:50:51.043413Z"
    },
    "papermill": {
     "duration": 0.037782,
     "end_time": "2024-09-18T14:50:51.046617",
     "exception": false,
     "start_time": "2024-09-18T14:50:51.008835",
     "status": "completed"
    },
    "tags": []
   },
   "outputs": [],
   "source": [
    "param_dis = {\n",
    "    'n_estimators': np.arange(50,500,50),\n",
    "    'max_depth': np.arange(10,70,6),\n",
    "    'min_samples_split': np.arange(2,6),\n",
    "    'min_samples_leaf': np.arange(1,5),\n",
    "    'max_features': ['sqrt','log2',None],\n",
    "    'min_weight_fraction_leaf': loguniform(1e-6,0.4),\n",
    "    'max_leaf_nodes': np.arange(20,600,45),\n",
    "    'n_jobs': [-1],\n",
    "    'random_state': [0,17,42,123,1212],\n",
    "    'max_samples': loguniform(0.2,1)\n",
    "}"
   ]
  },
  {
   "cell_type": "code",
   "execution_count": 56,
   "id": "67b1e6d8",
   "metadata": {
    "execution": {
     "iopub.execute_input": "2024-09-18T14:50:51.102669Z",
     "iopub.status.busy": "2024-09-18T14:50:51.102202Z",
     "iopub.status.idle": "2024-09-18T14:50:51.109677Z",
     "shell.execute_reply": "2024-09-18T14:50:51.108621Z"
    },
    "papermill": {
     "duration": 0.038869,
     "end_time": "2024-09-18T14:50:51.111820",
     "exception": false,
     "start_time": "2024-09-18T14:50:51.072951",
     "status": "completed"
    },
    "scrolled": true,
    "tags": []
   },
   "outputs": [
    {
     "data": {
      "text/plain": [
       "\"%%time\\nsearch = RandomizedSearchCV(RandomForestClassifier(),\\n                            param_dis,\\n                            n_iter=80,\\n                            scoring='accuracy', cv=cv,\\n                            refit=True, verbose=3)\\nsearch.fit(inputs, targets)\""
      ]
     },
     "execution_count": 56,
     "metadata": {},
     "output_type": "execute_result"
    }
   ],
   "source": [
    "'''%%time\n",
    "search = RandomizedSearchCV(RandomForestClassifier(),\n",
    "                            param_dis,\n",
    "                            n_iter=80,\n",
    "                            scoring='accuracy', cv=cv,\n",
    "                            refit=True, verbose=3)\n",
    "search.fit(inputs, targets)'''"
   ]
  },
  {
   "cell_type": "code",
   "execution_count": 57,
   "id": "ccaf07fc",
   "metadata": {
    "execution": {
     "iopub.execute_input": "2024-09-18T14:50:51.164402Z",
     "iopub.status.busy": "2024-09-18T14:50:51.163460Z",
     "iopub.status.idle": "2024-09-18T14:50:51.169131Z",
     "shell.execute_reply": "2024-09-18T14:50:51.168030Z"
    },
    "papermill": {
     "duration": 0.034345,
     "end_time": "2024-09-18T14:50:51.171436",
     "exception": false,
     "start_time": "2024-09-18T14:50:51.137091",
     "status": "completed"
    },
    "tags": []
   },
   "outputs": [],
   "source": [
    "best_params = {\n",
    " 'max_depth': 28,\n",
    " 'max_features': None,\n",
    " 'max_leaf_nodes': 335,\n",
    " 'max_samples': 0.24520523651775328,\n",
    " 'min_samples_leaf': 1,\n",
    " 'min_samples_split': 5,\n",
    " 'min_weight_fraction_leaf': 8.713898917237253e-05,\n",
    " 'n_estimators': 400,\n",
    " 'n_jobs': -1,\n",
    " 'random_state': 0\n",
    "}"
   ]
  },
  {
   "cell_type": "code",
   "execution_count": 58,
   "id": "76313a08",
   "metadata": {
    "execution": {
     "iopub.execute_input": "2024-09-18T14:50:51.228003Z",
     "iopub.status.busy": "2024-09-18T14:50:51.227582Z",
     "iopub.status.idle": "2024-09-18T14:51:37.866023Z",
     "shell.execute_reply": "2024-09-18T14:51:37.864990Z"
    },
    "papermill": {
     "duration": 46.667448,
     "end_time": "2024-09-18T14:51:37.868297",
     "exception": false,
     "start_time": "2024-09-18T14:50:51.200849",
     "status": "completed"
    },
    "tags": []
   },
   "outputs": [
    {
     "name": "stdout",
     "output_type": "stream",
     "text": [
      "Fold 0: train_acc = 0.88812, val_acc = 0.79873\n",
      "Fold 1: train_acc = 0.89114, val_acc = 0.78838\n",
      "Fold 2: train_acc = 0.89172, val_acc = 0.80909\n",
      "Fold 3: train_acc = 0.88886, val_acc = 0.79862\n",
      "Fold 4: train_acc = 0.89547, val_acc = 0.79632\n",
      "Train acc: 0.8910617 ± 0.0025838 | Val acc: 0.7982283 ± 0.0066159\n",
      "CPU times: user 46.6 s, sys: 50.5 ms, total: 46.6 s\n",
      "Wall time: 46.6 s\n"
     ]
    }
   ],
   "source": [
    "%%time\n",
    "rf = RandomForestClassifier(**best_params)\n",
    "test_preds, test_pred_memo, _ = cross_validation(rf, cv, inputs, targets, test_inputs, need_print=True)"
   ]
  },
  {
   "cell_type": "code",
   "execution_count": 59,
   "id": "3b2b4bf3",
   "metadata": {
    "execution": {
     "iopub.execute_input": "2024-09-18T14:51:37.921316Z",
     "iopub.status.busy": "2024-09-18T14:51:37.920908Z",
     "iopub.status.idle": "2024-09-18T14:51:37.935594Z",
     "shell.execute_reply": "2024-09-18T14:51:37.934518Z"
    },
    "papermill": {
     "duration": 0.04412,
     "end_time": "2024-09-18T14:51:37.938118",
     "exception": false,
     "start_time": "2024-09-18T14:51:37.893998",
     "status": "completed"
    },
    "tags": []
   },
   "outputs": [],
   "source": [
    "sample_sub_df['Transported'] = test_preds\n",
    "sample_sub_df['Transported'] = sample_sub_df['Transported'].apply(lambda x: True if x>=0.5 else False)\n",
    "sample_sub_df.to_csv('/kaggle/working/sub_rf_tuning.csv', index=None)"
   ]
  },
  {
   "cell_type": "code",
   "execution_count": 60,
   "id": "63556469",
   "metadata": {
    "execution": {
     "iopub.execute_input": "2024-09-18T14:51:37.991392Z",
     "iopub.status.busy": "2024-09-18T14:51:37.990958Z",
     "iopub.status.idle": "2024-09-18T14:51:37.996370Z",
     "shell.execute_reply": "2024-09-18T14:51:37.995273Z"
    },
    "papermill": {
     "duration": 0.034759,
     "end_time": "2024-09-18T14:51:37.998675",
     "exception": false,
     "start_time": "2024-09-18T14:51:37.963916",
     "status": "completed"
    },
    "tags": []
   },
   "outputs": [],
   "source": [
    "scores['Classifier'].append('RF with tuning')\n",
    "scores['Train Acc'].append(0.89106)\n",
    "scores['Val Acc'].append(0.79822)\n",
    "scores['Test Acc'].append(0.57446)"
   ]
  },
  {
   "cell_type": "markdown",
   "id": "4d5baffa",
   "metadata": {
    "papermill": {
     "duration": 0.027201,
     "end_time": "2024-09-18T14:51:38.052095",
     "exception": false,
     "start_time": "2024-09-18T14:51:38.024894",
     "status": "completed"
    },
    "tags": []
   },
   "source": [
    "### XGB"
   ]
  },
  {
   "cell_type": "code",
   "execution_count": 61,
   "id": "e4068f62",
   "metadata": {
    "execution": {
     "iopub.execute_input": "2024-09-18T14:51:38.106288Z",
     "iopub.status.busy": "2024-09-18T14:51:38.105845Z",
     "iopub.status.idle": "2024-09-18T14:51:40.975916Z",
     "shell.execute_reply": "2024-09-18T14:51:40.974559Z"
    },
    "papermill": {
     "duration": 2.900113,
     "end_time": "2024-09-18T14:51:40.978356",
     "exception": false,
     "start_time": "2024-09-18T14:51:38.078243",
     "status": "completed"
    },
    "tags": []
   },
   "outputs": [
    {
     "name": "stdout",
     "output_type": "stream",
     "text": [
      "Fold 0: train_acc = 0.96391, val_acc = 0.80621\n",
      "Fold 1: train_acc = 0.96808, val_acc = 0.79356\n",
      "Fold 2: train_acc = 0.97239, val_acc = 0.80506\n",
      "Fold 3: train_acc = 0.97009, val_acc = 0.80552\n",
      "Fold 4: train_acc = 0.96808, val_acc = 0.79114\n",
      "Train acc: 0.9685091 ± 0.0027977 | Val acc: 0.8002986 ± 0.0065458\n",
      "CPU times: user 2.85 s, sys: 17.7 ms, total: 2.87 s\n",
      "Wall time: 2.86 s\n"
     ]
    }
   ],
   "source": [
    "%%time\n",
    "xgb = XGBClassifier(n_jobs=-1)\n",
    "test_preds, test_pred_memo, _ = cross_validation(xgb, cv, inputs, targets, test_inputs, need_print=True)"
   ]
  },
  {
   "cell_type": "code",
   "execution_count": 62,
   "id": "96172d0d",
   "metadata": {
    "execution": {
     "iopub.execute_input": "2024-09-18T14:51:41.034011Z",
     "iopub.status.busy": "2024-09-18T14:51:41.033592Z",
     "iopub.status.idle": "2024-09-18T14:51:41.046250Z",
     "shell.execute_reply": "2024-09-18T14:51:41.045280Z"
    },
    "papermill": {
     "duration": 0.044206,
     "end_time": "2024-09-18T14:51:41.048832",
     "exception": false,
     "start_time": "2024-09-18T14:51:41.004626",
     "status": "completed"
    },
    "tags": []
   },
   "outputs": [],
   "source": [
    "sample_sub_df['Transported'] = test_preds\n",
    "sample_sub_df['Transported'] = sample_sub_df['Transported'].apply(lambda x: True if x>=0.5 else False)\n",
    "sample_sub_df.to_csv('/kaggle/working/sub_xgb.csv', index=None)"
   ]
  },
  {
   "cell_type": "code",
   "execution_count": 63,
   "id": "aea256d3",
   "metadata": {
    "execution": {
     "iopub.execute_input": "2024-09-18T14:51:41.103769Z",
     "iopub.status.busy": "2024-09-18T14:51:41.103324Z",
     "iopub.status.idle": "2024-09-18T14:51:41.109007Z",
     "shell.execute_reply": "2024-09-18T14:51:41.107835Z"
    },
    "papermill": {
     "duration": 0.035542,
     "end_time": "2024-09-18T14:51:41.111227",
     "exception": false,
     "start_time": "2024-09-18T14:51:41.075685",
     "status": "completed"
    },
    "tags": []
   },
   "outputs": [],
   "source": [
    "scores['Classifier'].append('XGB without tuning')\n",
    "scores['Train Acc'].append(0.96851)\n",
    "scores['Val Acc'].append(0.80030)\n",
    "scores['Test Acc'].append(0.75964)"
   ]
  },
  {
   "cell_type": "code",
   "execution_count": 64,
   "id": "4aaad634",
   "metadata": {
    "execution": {
     "iopub.execute_input": "2024-09-18T14:51:41.165059Z",
     "iopub.status.busy": "2024-09-18T14:51:41.164649Z",
     "iopub.status.idle": "2024-09-18T14:51:41.177048Z",
     "shell.execute_reply": "2024-09-18T14:51:41.175516Z"
    },
    "papermill": {
     "duration": 0.042659,
     "end_time": "2024-09-18T14:51:41.179986",
     "exception": false,
     "start_time": "2024-09-18T14:51:41.137327",
     "status": "completed"
    },
    "tags": []
   },
   "outputs": [],
   "source": [
    "param_dis = {\n",
    "    'n_estimators': np.arange(100,600,150),\n",
    "    'max_depth': np.arange(8,17,2),\n",
    "    'learning_rate': loguniform(0.009,0.25),\n",
    "    'reg_lambda': loguniform(1e-5,5),\n",
    "    'subsample': loguniform(0.5,1),\n",
    "    'min_child_weight': loguniform(0.4,5),\n",
    "    'objective': ['binary:logistic'],\n",
    "    'tree_method': ['hist'],\n",
    "    'colsample_bytree': loguniform(0.25,1),\n",
    "    'n_jobs': [-1],\n",
    "    'max_bin': [256,1024]\n",
    "}"
   ]
  },
  {
   "cell_type": "code",
   "execution_count": 65,
   "id": "467192c2",
   "metadata": {
    "execution": {
     "iopub.execute_input": "2024-09-18T14:51:41.237992Z",
     "iopub.status.busy": "2024-09-18T14:51:41.237498Z",
     "iopub.status.idle": "2024-09-18T14:51:41.244066Z",
     "shell.execute_reply": "2024-09-18T14:51:41.243050Z"
    },
    "papermill": {
     "duration": 0.036113,
     "end_time": "2024-09-18T14:51:41.246422",
     "exception": false,
     "start_time": "2024-09-18T14:51:41.210309",
     "status": "completed"
    },
    "scrolled": true,
    "tags": []
   },
   "outputs": [
    {
     "data": {
      "text/plain": [
       "\"%%time\\nsearch = RandomizedSearchCV(XGBClassifier(), param_dis, \\n                            n_iter=150, refit=True,\\n                            scoring = 'accuracy',\\n                            cv=cv, verbose=3)\\nsearch.fit(inputs, targets)\""
      ]
     },
     "execution_count": 65,
     "metadata": {},
     "output_type": "execute_result"
    }
   ],
   "source": [
    "'''%%time\n",
    "search = RandomizedSearchCV(XGBClassifier(), param_dis, \n",
    "                            n_iter=150, refit=True,\n",
    "                            scoring = 'accuracy',\n",
    "                            cv=cv, verbose=3)\n",
    "search.fit(inputs, targets)'''"
   ]
  },
  {
   "cell_type": "code",
   "execution_count": 66,
   "id": "5dff7981",
   "metadata": {
    "execution": {
     "iopub.execute_input": "2024-09-18T14:51:41.301244Z",
     "iopub.status.busy": "2024-09-18T14:51:41.300749Z",
     "iopub.status.idle": "2024-09-18T14:51:41.308513Z",
     "shell.execute_reply": "2024-09-18T14:51:41.306977Z"
    },
    "papermill": {
     "duration": 0.038592,
     "end_time": "2024-09-18T14:51:41.311663",
     "exception": false,
     "start_time": "2024-09-18T14:51:41.273071",
     "status": "completed"
    },
    "tags": []
   },
   "outputs": [],
   "source": [
    "best_params = {\n",
    " 'colsample_bytree': 0.5704035544959706,\n",
    " 'learning_rate': 0.01057734726899081,\n",
    " 'max_bin': 256,\n",
    " 'max_depth': 12,\n",
    " 'min_child_weight': 2.577854328449342,\n",
    " 'n_estimators': 550,\n",
    " 'n_jobs': -1,\n",
    " 'objective': 'binary:logistic',\n",
    " 'reg_lambda': 2.3051847677178476,\n",
    " 'subsample': 0.6043893970395925,\n",
    " 'tree_method': 'hist'\n",
    "}"
   ]
  },
  {
   "cell_type": "code",
   "execution_count": 67,
   "id": "2ad2b237",
   "metadata": {
    "execution": {
     "iopub.execute_input": "2024-09-18T14:51:41.383735Z",
     "iopub.status.busy": "2024-09-18T14:51:41.383071Z",
     "iopub.status.idle": "2024-09-18T14:52:10.725531Z",
     "shell.execute_reply": "2024-09-18T14:52:10.724219Z"
    },
    "papermill": {
     "duration": 29.377582,
     "end_time": "2024-09-18T14:52:10.727955",
     "exception": false,
     "start_time": "2024-09-18T14:51:41.350373",
     "status": "completed"
    },
    "tags": []
   },
   "outputs": [
    {
     "name": "stdout",
     "output_type": "stream",
     "text": [
      "Fold 0: train_acc = 0.92235, val_acc = 0.80621\n",
      "Fold 1: train_acc = 0.92479, val_acc = 0.80334\n",
      "Fold 2: train_acc = 0.92637, val_acc = 0.81484\n",
      "Fold 3: train_acc = 0.92509, val_acc = 0.80783\n",
      "Fold 4: train_acc = 0.92653, val_acc = 0.79747\n",
      "Train acc: 0.9250258 ± 0.0015038 | Val acc: 0.8059351 ± 0.0056802\n",
      "CPU times: user 29 s, sys: 335 ms, total: 29.3 s\n",
      "Wall time: 29.3 s\n"
     ]
    }
   ],
   "source": [
    "%%time\n",
    "xgb = XGBClassifier(**best_params)\n",
    "test_preds, test_pred_memo, _ = cross_validation(xgb, cv, inputs, targets, test_inputs, need_print=True)"
   ]
  },
  {
   "cell_type": "code",
   "execution_count": 68,
   "id": "6a464cd2",
   "metadata": {
    "execution": {
     "iopub.execute_input": "2024-09-18T14:52:10.783141Z",
     "iopub.status.busy": "2024-09-18T14:52:10.782725Z",
     "iopub.status.idle": "2024-09-18T14:52:10.795584Z",
     "shell.execute_reply": "2024-09-18T14:52:10.794576Z"
    },
    "papermill": {
     "duration": 0.043287,
     "end_time": "2024-09-18T14:52:10.798073",
     "exception": false,
     "start_time": "2024-09-18T14:52:10.754786",
     "status": "completed"
    },
    "tags": []
   },
   "outputs": [],
   "source": [
    "sample_sub_df['Transported'] = test_preds\n",
    "sample_sub_df['Transported'] = sample_sub_df['Transported'].apply(lambda x: True if x>=0.5 else False)\n",
    "sample_sub_df.to_csv('/kaggle/working/sub_xgb_tuning.csv', index=None)"
   ]
  },
  {
   "cell_type": "code",
   "execution_count": 69,
   "id": "5b9ada79",
   "metadata": {
    "execution": {
     "iopub.execute_input": "2024-09-18T14:52:10.853171Z",
     "iopub.status.busy": "2024-09-18T14:52:10.852773Z",
     "iopub.status.idle": "2024-09-18T14:52:10.858457Z",
     "shell.execute_reply": "2024-09-18T14:52:10.857294Z"
    },
    "papermill": {
     "duration": 0.036014,
     "end_time": "2024-09-18T14:52:10.860831",
     "exception": false,
     "start_time": "2024-09-18T14:52:10.824817",
     "status": "completed"
    },
    "tags": []
   },
   "outputs": [],
   "source": [
    "scores['Classifier'].append('XGB with tuning')\n",
    "scores['Train Acc'].append(0.92503)\n",
    "scores['Val Acc'].append(0.80594)\n",
    "scores['Test Acc'].append(0.78629)"
   ]
  },
  {
   "cell_type": "markdown",
   "id": "65f364cd",
   "metadata": {
    "papermill": {
     "duration": 0.028121,
     "end_time": "2024-09-18T14:52:10.915779",
     "exception": false,
     "start_time": "2024-09-18T14:52:10.887658",
     "status": "completed"
    },
    "tags": []
   },
   "source": [
    "### LGBM"
   ]
  },
  {
   "cell_type": "code",
   "execution_count": 70,
   "id": "8f6b1c8a",
   "metadata": {
    "execution": {
     "iopub.execute_input": "2024-09-18T14:52:10.972591Z",
     "iopub.status.busy": "2024-09-18T14:52:10.971594Z",
     "iopub.status.idle": "2024-09-18T14:52:13.499635Z",
     "shell.execute_reply": "2024-09-18T14:52:13.498533Z"
    },
    "papermill": {
     "duration": 2.558747,
     "end_time": "2024-09-18T14:52:13.502045",
     "exception": false,
     "start_time": "2024-09-18T14:52:10.943298",
     "status": "completed"
    },
    "tags": []
   },
   "outputs": [
    {
     "name": "stdout",
     "output_type": "stream",
     "text": [
      "Fold 0: train_acc = 0.90883, val_acc = 0.80334\n",
      "Fold 1: train_acc = 0.90955, val_acc = 0.79873\n",
      "Fold 2: train_acc = 0.90811, val_acc = 0.80736\n",
      "Fold 3: train_acc = 0.90726, val_acc = 0.80955\n",
      "Fold 4: train_acc = 0.90971, val_acc = 0.79114\n",
      "Train acc: 0.9086909 ± 0.0009127 | Val acc: 0.8020242 ± 0.0065750\n",
      "CPU times: user 2.52 s, sys: 1.8 ms, total: 2.52 s\n",
      "Wall time: 2.52 s\n"
     ]
    }
   ],
   "source": [
    "%%time\n",
    "lgbm = LGBMClassifier(n_jobs=-1, verbose=-1)\n",
    "test_preds, test_pred_memo, _ = cross_validation(lgbm, cv, inputs, targets, test_inputs, need_print=True)"
   ]
  },
  {
   "cell_type": "code",
   "execution_count": 71,
   "id": "cd53da1b",
   "metadata": {
    "execution": {
     "iopub.execute_input": "2024-09-18T14:52:13.557664Z",
     "iopub.status.busy": "2024-09-18T14:52:13.557247Z",
     "iopub.status.idle": "2024-09-18T14:52:13.571183Z",
     "shell.execute_reply": "2024-09-18T14:52:13.570085Z"
    },
    "papermill": {
     "duration": 0.044501,
     "end_time": "2024-09-18T14:52:13.573607",
     "exception": false,
     "start_time": "2024-09-18T14:52:13.529106",
     "status": "completed"
    },
    "tags": []
   },
   "outputs": [],
   "source": [
    "sample_sub_df['Transported'] = test_preds\n",
    "sample_sub_df['Transported'] = sample_sub_df['Transported'].apply(lambda x: True if x>=0.5 else False)\n",
    "sample_sub_df.to_csv('/kaggle/working/sub_lgbm.csv', index=None)"
   ]
  },
  {
   "cell_type": "code",
   "execution_count": 72,
   "id": "8885581b",
   "metadata": {
    "execution": {
     "iopub.execute_input": "2024-09-18T14:52:13.629216Z",
     "iopub.status.busy": "2024-09-18T14:52:13.628827Z",
     "iopub.status.idle": "2024-09-18T14:52:13.634373Z",
     "shell.execute_reply": "2024-09-18T14:52:13.633209Z"
    },
    "papermill": {
     "duration": 0.036056,
     "end_time": "2024-09-18T14:52:13.636613",
     "exception": false,
     "start_time": "2024-09-18T14:52:13.600557",
     "status": "completed"
    },
    "tags": []
   },
   "outputs": [],
   "source": [
    "scores['Classifier'].append('LGBM without tuning')\n",
    "scores['Train Acc'].append(0.90869)\n",
    "scores['Val Acc'].append(0.80202)\n",
    "scores['Test Acc'].append(0.77414)"
   ]
  },
  {
   "cell_type": "code",
   "execution_count": 73,
   "id": "85f39371",
   "metadata": {
    "execution": {
     "iopub.execute_input": "2024-09-18T14:52:13.693482Z",
     "iopub.status.busy": "2024-09-18T14:52:13.693046Z",
     "iopub.status.idle": "2024-09-18T14:52:13.705738Z",
     "shell.execute_reply": "2024-09-18T14:52:13.704690Z"
    },
    "papermill": {
     "duration": 0.044001,
     "end_time": "2024-09-18T14:52:13.708182",
     "exception": false,
     "start_time": "2024-09-18T14:52:13.664181",
     "status": "completed"
    },
    "tags": []
   },
   "outputs": [],
   "source": [
    "param_dis = {\n",
    "    'num_leaves': np.arange(32,300,7),\n",
    "    'n_jobs': [-1],\n",
    "    'reg_lambda': loguniform(1e-5,4),\n",
    "    'reg_alpha': loguniform(1e-5,4),\n",
    "    'n_estimators': np.arange(50,341,40),\n",
    "    'learning_rate': loguniform(0.001,0.2),\n",
    "    'max_depth': np.arange(15,55,4),\n",
    "    'min_split_gain': loguniform(1e-8,0.1),\n",
    "    'min_child_weight': loguniform(1e-4,0.1),\n",
    "    'min_child_samples': np.arange(8,30,4),\n",
    "    'subsample': loguniform(0.25,1),\n",
    "    'colsample_bytree': loguniform(0.25,1),\n",
    "    'random_state': [42],\n",
    "    'verbose': [-1]\n",
    "}"
   ]
  },
  {
   "cell_type": "code",
   "execution_count": 74,
   "id": "b6412a56",
   "metadata": {
    "execution": {
     "iopub.execute_input": "2024-09-18T14:52:13.766397Z",
     "iopub.status.busy": "2024-09-18T14:52:13.765512Z",
     "iopub.status.idle": "2024-09-18T14:52:13.772134Z",
     "shell.execute_reply": "2024-09-18T14:52:13.771105Z"
    },
    "papermill": {
     "duration": 0.037267,
     "end_time": "2024-09-18T14:52:13.774384",
     "exception": false,
     "start_time": "2024-09-18T14:52:13.737117",
     "status": "completed"
    },
    "scrolled": true,
    "tags": []
   },
   "outputs": [
    {
     "data": {
      "text/plain": [
       "\"%%time\\nsearch = RandomizedSearchCV(LGBMClassifier(), param_dis, \\n                            n_iter=150, refit=True,\\n                            scoring = 'accuracy',\\n                            cv=cv, verbose=3)\\nsearch.fit(inputs, targets)\""
      ]
     },
     "execution_count": 74,
     "metadata": {},
     "output_type": "execute_result"
    }
   ],
   "source": [
    "'''%%time\n",
    "search = RandomizedSearchCV(LGBMClassifier(), param_dis, \n",
    "                            n_iter=150, refit=True,\n",
    "                            scoring = 'accuracy',\n",
    "                            cv=cv, verbose=3)\n",
    "search.fit(inputs, targets)'''"
   ]
  },
  {
   "cell_type": "code",
   "execution_count": 75,
   "id": "5286e5d1",
   "metadata": {
    "execution": {
     "iopub.execute_input": "2024-09-18T14:52:13.832411Z",
     "iopub.status.busy": "2024-09-18T14:52:13.831353Z",
     "iopub.status.idle": "2024-09-18T14:52:13.837881Z",
     "shell.execute_reply": "2024-09-18T14:52:13.836877Z"
    },
    "papermill": {
     "duration": 0.037645,
     "end_time": "2024-09-18T14:52:13.840302",
     "exception": false,
     "start_time": "2024-09-18T14:52:13.802657",
     "status": "completed"
    },
    "tags": []
   },
   "outputs": [],
   "source": [
    "best_params = {\n",
    " 'colsample_bytree': 0.4061085734468846,\n",
    " 'learning_rate': 0.05034075959033461,\n",
    " 'max_depth': 39,\n",
    " 'min_child_samples': 24,\n",
    " 'min_child_weight': 0.007321631014810341,\n",
    " 'min_split_gain': 0.01755821643745654,\n",
    " 'n_estimators': 210,\n",
    " 'n_jobs': -1,\n",
    " 'num_leaves': 81,\n",
    " 'random_state': 42,\n",
    " 'reg_alpha': 0.6912607880108492,\n",
    " 'reg_lambda': 8.033509871111954e-05,\n",
    " 'subsample': 0.3938468258049639,\n",
    " 'verbose': -1\n",
    "}"
   ]
  },
  {
   "cell_type": "code",
   "execution_count": 76,
   "id": "f279a2f2",
   "metadata": {
    "execution": {
     "iopub.execute_input": "2024-09-18T14:52:13.897444Z",
     "iopub.status.busy": "2024-09-18T14:52:13.896914Z",
     "iopub.status.idle": "2024-09-18T14:52:20.812224Z",
     "shell.execute_reply": "2024-09-18T14:52:20.810913Z"
    },
    "papermill": {
     "duration": 6.946459,
     "end_time": "2024-09-18T14:52:20.814863",
     "exception": false,
     "start_time": "2024-09-18T14:52:13.868404",
     "status": "completed"
    },
    "tags": []
   },
   "outputs": [
    {
     "name": "stdout",
     "output_type": "stream",
     "text": [
      "Fold 0: train_acc = 0.97282, val_acc = 0.80909\n",
      "Fold 1: train_acc = 0.97527, val_acc = 0.79873\n",
      "Fold 2: train_acc = 0.97340, val_acc = 0.80794\n",
      "Fold 3: train_acc = 0.97168, val_acc = 0.81646\n",
      "Fold 4: train_acc = 0.97426, val_acc = 0.79689\n",
      "Train acc: 0.9734844 ± 0.0012249 | Val acc: 0.8058210 ± 0.0071854\n",
      "CPU times: user 6.9 s, sys: 4.53 ms, total: 6.91 s\n",
      "Wall time: 6.91 s\n"
     ]
    }
   ],
   "source": [
    "%%time\n",
    "lgbm = LGBMClassifier(**best_params)\n",
    "test_preds, test_pred_memo, _ = cross_validation(lgbm, cv, inputs, targets, test_inputs, need_print=True)"
   ]
  },
  {
   "cell_type": "code",
   "execution_count": 77,
   "id": "52435115",
   "metadata": {
    "execution": {
     "iopub.execute_input": "2024-09-18T14:52:20.873175Z",
     "iopub.status.busy": "2024-09-18T14:52:20.872180Z",
     "iopub.status.idle": "2024-09-18T14:52:20.885021Z",
     "shell.execute_reply": "2024-09-18T14:52:20.883900Z"
    },
    "papermill": {
     "duration": 0.044386,
     "end_time": "2024-09-18T14:52:20.887451",
     "exception": false,
     "start_time": "2024-09-18T14:52:20.843065",
     "status": "completed"
    },
    "tags": []
   },
   "outputs": [],
   "source": [
    "sample_sub_df['Transported'] = test_preds\n",
    "sample_sub_df['Transported'] = sample_sub_df['Transported'].apply(lambda x: True if x>=0.5 else False)\n",
    "sample_sub_df.to_csv('/kaggle/working/sub_lgbm_tuning.csv', index=None)"
   ]
  },
  {
   "cell_type": "code",
   "execution_count": 78,
   "id": "7f370feb",
   "metadata": {
    "execution": {
     "iopub.execute_input": "2024-09-18T14:52:20.946562Z",
     "iopub.status.busy": "2024-09-18T14:52:20.945433Z",
     "iopub.status.idle": "2024-09-18T14:52:20.951255Z",
     "shell.execute_reply": "2024-09-18T14:52:20.950311Z"
    },
    "papermill": {
     "duration": 0.038589,
     "end_time": "2024-09-18T14:52:20.953513",
     "exception": false,
     "start_time": "2024-09-18T14:52:20.914924",
     "status": "completed"
    },
    "tags": []
   },
   "outputs": [],
   "source": [
    "scores['Classifier'].append('LGBM with tuning')\n",
    "scores['Train Acc'].append(0.97348)\n",
    "scores['Val Acc'].append(0.80582)\n",
    "scores['Test Acc'].append(0.79003)"
   ]
  },
  {
   "cell_type": "markdown",
   "id": "4eb70873",
   "metadata": {
    "papermill": {
     "duration": 0.027117,
     "end_time": "2024-09-18T14:52:21.008299",
     "exception": false,
     "start_time": "2024-09-18T14:52:20.981182",
     "status": "completed"
    },
    "tags": []
   },
   "source": [
    "### CatBoost"
   ]
  },
  {
   "cell_type": "code",
   "execution_count": 79,
   "id": "6bd28482",
   "metadata": {
    "execution": {
     "iopub.execute_input": "2024-09-18T14:52:21.066111Z",
     "iopub.status.busy": "2024-09-18T14:52:21.065721Z",
     "iopub.status.idle": "2024-09-18T14:52:48.111028Z",
     "shell.execute_reply": "2024-09-18T14:52:48.109791Z"
    },
    "papermill": {
     "duration": 27.077387,
     "end_time": "2024-09-18T14:52:48.113746",
     "exception": false,
     "start_time": "2024-09-18T14:52:21.036359",
     "status": "completed"
    },
    "scrolled": true,
    "tags": []
   },
   "outputs": [
    {
     "name": "stdout",
     "output_type": "stream",
     "text": [
      "Fold 0: train_acc = 0.89747, val_acc = 0.80621\n",
      "Fold 1: train_acc = 0.89790, val_acc = 0.80621\n",
      "Fold 2: train_acc = 0.90078, val_acc = 0.80851\n",
      "Fold 3: train_acc = 0.89619, val_acc = 0.82624\n",
      "Fold 4: train_acc = 0.89576, val_acc = 0.79977\n",
      "Train acc: 0.8976189 ± 0.0017650 | Val acc: 0.8093877 ± 0.0089147\n",
      "CPU times: user 1min 23s, sys: 12.8 s, total: 1min 36s\n",
      "Wall time: 27 s\n"
     ]
    }
   ],
   "source": [
    "%%time\n",
    "cat = CatBoostClassifier(logging_level='Silent')\n",
    "test_preds, test_pred_memo, _ = cross_validation(cat, cv, inputs, targets, test_inputs, need_print=True)"
   ]
  },
  {
   "cell_type": "code",
   "execution_count": 80,
   "id": "fb10a9fe",
   "metadata": {
    "execution": {
     "iopub.execute_input": "2024-09-18T14:52:48.171759Z",
     "iopub.status.busy": "2024-09-18T14:52:48.171321Z",
     "iopub.status.idle": "2024-09-18T14:52:48.185574Z",
     "shell.execute_reply": "2024-09-18T14:52:48.184241Z"
    },
    "papermill": {
     "duration": 0.046353,
     "end_time": "2024-09-18T14:52:48.188548",
     "exception": false,
     "start_time": "2024-09-18T14:52:48.142195",
     "status": "completed"
    },
    "tags": []
   },
   "outputs": [],
   "source": [
    "sample_sub_df['Transported'] = test_preds\n",
    "sample_sub_df['Transported'] = sample_sub_df['Transported'].apply(lambda x: True if x>=0.5 else False)\n",
    "sample_sub_df.to_csv('/kaggle/working/sub_cat.csv', index=None)"
   ]
  },
  {
   "cell_type": "code",
   "execution_count": 81,
   "id": "97447377",
   "metadata": {
    "execution": {
     "iopub.execute_input": "2024-09-18T14:52:48.247501Z",
     "iopub.status.busy": "2024-09-18T14:52:48.246752Z",
     "iopub.status.idle": "2024-09-18T14:52:48.252599Z",
     "shell.execute_reply": "2024-09-18T14:52:48.251408Z"
    },
    "papermill": {
     "duration": 0.038119,
     "end_time": "2024-09-18T14:52:48.254822",
     "exception": false,
     "start_time": "2024-09-18T14:52:48.216703",
     "status": "completed"
    },
    "tags": []
   },
   "outputs": [],
   "source": [
    "scores['Classifier'].append('CAT without tuning')\n",
    "scores['Train Acc'].append(0.89762)\n",
    "scores['Val Acc'].append(0.80939)\n",
    "scores['Test Acc'].append(0.80009)"
   ]
  },
  {
   "cell_type": "code",
   "execution_count": 82,
   "id": "e782dc3c",
   "metadata": {
    "execution": {
     "iopub.execute_input": "2024-09-18T14:52:48.312810Z",
     "iopub.status.busy": "2024-09-18T14:52:48.312388Z",
     "iopub.status.idle": "2024-09-18T14:52:48.321377Z",
     "shell.execute_reply": "2024-09-18T14:52:48.320112Z"
    },
    "papermill": {
     "duration": 0.040464,
     "end_time": "2024-09-18T14:52:48.323489",
     "exception": false,
     "start_time": "2024-09-18T14:52:48.283025",
     "status": "completed"
    },
    "tags": []
   },
   "outputs": [],
   "source": [
    "param_dis = {\n",
    "    'eval_metric': ['Accuracy'],\n",
    "    'iterations': np.arange(750,2500,250),\n",
    "    'learning_rate': loguniform(0.005,0.15),\n",
    "    'random_seed': [42],\n",
    "    'l2_leaf_reg': loguniform(0.8,50),\n",
    "    'bagging_temperature': loguniform(1e-4,1),\n",
    "    'random_strength': np.arange(1,10),\n",
    "    'depth': np.arange(6,10),\n",
    "    'min_data_in_leaf': np.arange(1,4),\n",
    "    'border_count': np.arange(24,296,50),\n",
    "    'logging_level': ['Silent']\n",
    "}"
   ]
  },
  {
   "cell_type": "code",
   "execution_count": 83,
   "id": "874fa94f",
   "metadata": {
    "execution": {
     "iopub.execute_input": "2024-09-18T14:52:48.381171Z",
     "iopub.status.busy": "2024-09-18T14:52:48.380730Z",
     "iopub.status.idle": "2024-09-18T14:52:48.388063Z",
     "shell.execute_reply": "2024-09-18T14:52:48.387002Z"
    },
    "papermill": {
     "duration": 0.03905,
     "end_time": "2024-09-18T14:52:48.390544",
     "exception": false,
     "start_time": "2024-09-18T14:52:48.351494",
     "status": "completed"
    },
    "scrolled": true,
    "tags": []
   },
   "outputs": [
    {
     "data": {
      "text/plain": [
       "\"%%time\\nsearch = RandomizedSearchCV(CatBoostClassifier(), param_dis, \\n                            n_iter=100, refit=True,\\n                            scoring = 'accuracy',\\n                            cv=cv, verbose=3)\\nsearch.fit(inputs, targets)\""
      ]
     },
     "execution_count": 83,
     "metadata": {},
     "output_type": "execute_result"
    }
   ],
   "source": [
    "'''%%time\n",
    "search = RandomizedSearchCV(CatBoostClassifier(), param_dis, \n",
    "                            n_iter=100, refit=True,\n",
    "                            scoring = 'accuracy',\n",
    "                            cv=cv, verbose=3)\n",
    "search.fit(inputs, targets)'''"
   ]
  },
  {
   "cell_type": "code",
   "execution_count": 84,
   "id": "991624b5",
   "metadata": {
    "execution": {
     "iopub.execute_input": "2024-09-18T14:52:48.449213Z",
     "iopub.status.busy": "2024-09-18T14:52:48.448782Z",
     "iopub.status.idle": "2024-09-18T14:52:48.454759Z",
     "shell.execute_reply": "2024-09-18T14:52:48.453646Z"
    },
    "papermill": {
     "duration": 0.038381,
     "end_time": "2024-09-18T14:52:48.457167",
     "exception": false,
     "start_time": "2024-09-18T14:52:48.418786",
     "status": "completed"
    },
    "tags": []
   },
   "outputs": [],
   "source": [
    "best_params = {\n",
    " 'bagging_temperature': 0.7070111158416169,\n",
    " 'border_count': 174,\n",
    " 'depth': 9,\n",
    " 'eval_metric': 'Accuracy',\n",
    " 'iterations': 2000,\n",
    " 'l2_leaf_reg': 0.8238074734091383,\n",
    " 'learning_rate': 0.007059702818146471,\n",
    " 'logging_level': 'Silent',\n",
    " 'min_data_in_leaf': 1,\n",
    " 'random_seed': 42,\n",
    " 'random_strength': 9\n",
    "}"
   ]
  },
  {
   "cell_type": "code",
   "execution_count": 85,
   "id": "c22d02b5",
   "metadata": {
    "execution": {
     "iopub.execute_input": "2024-09-18T14:52:48.515248Z",
     "iopub.status.busy": "2024-09-18T14:52:48.514803Z",
     "iopub.status.idle": "2024-09-18T14:54:56.724078Z",
     "shell.execute_reply": "2024-09-18T14:54:56.722716Z"
    },
    "papermill": {
     "duration": 128.240941,
     "end_time": "2024-09-18T14:54:56.726564",
     "exception": false,
     "start_time": "2024-09-18T14:52:48.485623",
     "status": "completed"
    },
    "tags": []
   },
   "outputs": [
    {
     "name": "stdout",
     "output_type": "stream",
     "text": [
      "Fold 0: train_acc = 0.93097, val_acc = 0.81024\n",
      "Fold 1: train_acc = 0.92997, val_acc = 0.80736\n",
      "Fold 2: train_acc = 0.93256, val_acc = 0.81944\n",
      "Fold 3: train_acc = 0.92725, val_acc = 0.81876\n",
      "Fold 4: train_acc = 0.92825, val_acc = 0.80380\n",
      "Train acc: 0.9298000 ± 0.0018932 | Val acc: 0.8119175 ± 0.0062104\n",
      "CPU times: user 7min 11s, sys: 32.9 s, total: 7min 44s\n",
      "Wall time: 2min 8s\n"
     ]
    }
   ],
   "source": [
    "%%time\n",
    "cat = CatBoostClassifier(**best_params)\n",
    "test_preds, test_pred_memo, _ = cross_validation(cat, cv, inputs, targets, test_inputs, need_print=True)"
   ]
  },
  {
   "cell_type": "code",
   "execution_count": 86,
   "id": "2ab435af",
   "metadata": {
    "execution": {
     "iopub.execute_input": "2024-09-18T14:54:56.785822Z",
     "iopub.status.busy": "2024-09-18T14:54:56.785405Z",
     "iopub.status.idle": "2024-09-18T14:54:56.799612Z",
     "shell.execute_reply": "2024-09-18T14:54:56.798515Z"
    },
    "papermill": {
     "duration": 0.046825,
     "end_time": "2024-09-18T14:54:56.802142",
     "exception": false,
     "start_time": "2024-09-18T14:54:56.755317",
     "status": "completed"
    },
    "tags": []
   },
   "outputs": [],
   "source": [
    "sample_sub_df['Transported'] = test_preds\n",
    "sample_sub_df['Transported'] = sample_sub_df['Transported'].apply(lambda x: True if x>=0.5 else False)\n",
    "sample_sub_df.to_csv('/kaggle/working/sub_cat_tuning.csv', index=None)"
   ]
  },
  {
   "cell_type": "code",
   "execution_count": 87,
   "id": "725a3d11",
   "metadata": {
    "execution": {
     "iopub.execute_input": "2024-09-18T14:54:56.862302Z",
     "iopub.status.busy": "2024-09-18T14:54:56.861859Z",
     "iopub.status.idle": "2024-09-18T14:54:56.867511Z",
     "shell.execute_reply": "2024-09-18T14:54:56.866313Z"
    },
    "papermill": {
     "duration": 0.037484,
     "end_time": "2024-09-18T14:54:56.869764",
     "exception": false,
     "start_time": "2024-09-18T14:54:56.832280",
     "status": "completed"
    },
    "tags": []
   },
   "outputs": [],
   "source": [
    "scores['Classifier'].append('LGBM with tuning')\n",
    "scores['Train Acc'].append(0.92980)\n",
    "scores['Val Acc'].append(0.81192)\n",
    "scores['Test Acc'].append(0.79845)"
   ]
  },
  {
   "cell_type": "markdown",
   "id": "2e169ba1",
   "metadata": {
    "papermill": {
     "duration": 0.028221,
     "end_time": "2024-09-18T14:54:56.926242",
     "exception": false,
     "start_time": "2024-09-18T14:54:56.898021",
     "status": "completed"
    },
    "tags": []
   },
   "source": [
    "### Stacking"
   ]
  },
  {
   "cell_type": "code",
   "execution_count": 88,
   "id": "4cb30e96",
   "metadata": {
    "execution": {
     "iopub.execute_input": "2024-09-18T14:54:56.984665Z",
     "iopub.status.busy": "2024-09-18T14:54:56.984211Z",
     "iopub.status.idle": "2024-09-18T14:54:56.990708Z",
     "shell.execute_reply": "2024-09-18T14:54:56.989547Z"
    },
    "papermill": {
     "duration": 0.03851,
     "end_time": "2024-09-18T14:54:56.993074",
     "exception": false,
     "start_time": "2024-09-18T14:54:56.954564",
     "status": "completed"
    },
    "tags": []
   },
   "outputs": [],
   "source": [
    "level0 = list()\n",
    "level0.append(('rf', RandomForestClassifier(n_jobs=-1)))\n",
    "level0.append(('cat', CatBoostClassifier(logging_level='Silent')))\n",
    "\n",
    "stack = StackingClassifier(estimators=level0, cv=cv)"
   ]
  },
  {
   "cell_type": "code",
   "execution_count": 89,
   "id": "ff6a82d5",
   "metadata": {
    "execution": {
     "iopub.execute_input": "2024-09-18T14:54:57.052953Z",
     "iopub.status.busy": "2024-09-18T14:54:57.052510Z",
     "iopub.status.idle": "2024-09-18T14:58:11.292503Z",
     "shell.execute_reply": "2024-09-18T14:58:11.291088Z"
    },
    "papermill": {
     "duration": 194.29802,
     "end_time": "2024-09-18T14:58:11.320623",
     "exception": false,
     "start_time": "2024-09-18T14:54:57.022603",
     "status": "completed"
    },
    "tags": []
   },
   "outputs": [
    {
     "name": "stdout",
     "output_type": "stream",
     "text": [
      "Fold 0: train_acc = 0.90610, val_acc = 0.80794\n",
      "Fold 1: train_acc = 0.91458, val_acc = 0.80391\n",
      "Fold 2: train_acc = 0.91027, val_acc = 0.81081\n",
      "Fold 3: train_acc = 0.91733, val_acc = 0.82163\n",
      "Fold 4: train_acc = 0.91531, val_acc = 0.80092\n",
      "Train acc: 0.9127169 ± 0.0040318 | Val acc: 0.8090423 ± 0.0071443\n",
      "CPU times: user 8min 33s, sys: 1min 11s, total: 9min 44s\n",
      "Wall time: 3min 14s\n"
     ]
    }
   ],
   "source": [
    "%%time\n",
    "test_preds, test_pred_memo, _ = cross_validation(stack, cv, inputs, targets, test_inputs, need_print=True)"
   ]
  },
  {
   "cell_type": "code",
   "execution_count": 90,
   "id": "1bd75e3d",
   "metadata": {
    "execution": {
     "iopub.execute_input": "2024-09-18T14:58:11.400323Z",
     "iopub.status.busy": "2024-09-18T14:58:11.399893Z",
     "iopub.status.idle": "2024-09-18T14:58:11.412855Z",
     "shell.execute_reply": "2024-09-18T14:58:11.411948Z"
    },
    "papermill": {
     "duration": 0.054885,
     "end_time": "2024-09-18T14:58:11.415147",
     "exception": false,
     "start_time": "2024-09-18T14:58:11.360262",
     "status": "completed"
    },
    "tags": []
   },
   "outputs": [],
   "source": [
    "sample_sub_df['Transported'] = test_preds\n",
    "sample_sub_df['Transported'] = sample_sub_df['Transported'].apply(lambda x: True if x>=0.5 else False)\n",
    "sample_sub_df.to_csv('/kaggle/working/sub_stack_rf_cat.csv', index=None)"
   ]
  },
  {
   "cell_type": "code",
   "execution_count": 91,
   "id": "915fb721",
   "metadata": {
    "execution": {
     "iopub.execute_input": "2024-09-18T14:58:11.474529Z",
     "iopub.status.busy": "2024-09-18T14:58:11.474090Z",
     "iopub.status.idle": "2024-09-18T14:58:11.479741Z",
     "shell.execute_reply": "2024-09-18T14:58:11.478801Z"
    },
    "papermill": {
     "duration": 0.037817,
     "end_time": "2024-09-18T14:58:11.482013",
     "exception": false,
     "start_time": "2024-09-18T14:58:11.444196",
     "status": "completed"
    },
    "tags": []
   },
   "outputs": [],
   "source": [
    "scores['Classifier'].append('Stacking RF, CAT')\n",
    "scores['Train Acc'].append(0.91735)\n",
    "scores['Val Acc'].append(0.80950)\n",
    "scores['Test Acc'].append(0.79962)"
   ]
  },
  {
   "cell_type": "markdown",
   "id": "555f62db",
   "metadata": {
    "papermill": {
     "duration": 0.028582,
     "end_time": "2024-09-18T14:58:11.539637",
     "exception": false,
     "start_time": "2024-09-18T14:58:11.511055",
     "status": "completed"
    },
    "tags": []
   },
   "source": [
    "### View LB Score"
   ]
  },
  {
   "cell_type": "code",
   "execution_count": 92,
   "id": "6af06bc4",
   "metadata": {
    "execution": {
     "iopub.execute_input": "2024-09-18T14:58:11.599407Z",
     "iopub.status.busy": "2024-09-18T14:58:11.598368Z",
     "iopub.status.idle": "2024-09-18T14:58:11.614910Z",
     "shell.execute_reply": "2024-09-18T14:58:11.613830Z"
    },
    "papermill": {
     "duration": 0.048684,
     "end_time": "2024-09-18T14:58:11.617106",
     "exception": false,
     "start_time": "2024-09-18T14:58:11.568422",
     "status": "completed"
    },
    "tags": []
   },
   "outputs": [
    {
     "data": {
      "text/html": [
       "<style type=\"text/css\">\n",
       "#T_6a09b_row0_col1, #T_6a09b_row6_col3, #T_6a09b_row7_col2, #T_6a09b_row8_col3 {\n",
       "  background-color: #ff00ff;\n",
       "  color: #f1f1f1;\n",
       "}\n",
       "#T_6a09b_row0_col2 {\n",
       "  background-color: #11eeff;\n",
       "  color: #000000;\n",
       "}\n",
       "#T_6a09b_row0_col3 {\n",
       "  background-color: #f50aff;\n",
       "  color: #f1f1f1;\n",
       "}\n",
       "#T_6a09b_row1_col1, #T_6a09b_row1_col2, #T_6a09b_row1_col3 {\n",
       "  background-color: #00ffff;\n",
       "  color: #000000;\n",
       "}\n",
       "#T_6a09b_row2_col1 {\n",
       "  background-color: #b649ff;\n",
       "  color: #f1f1f1;\n",
       "}\n",
       "#T_6a09b_row2_col2 {\n",
       "  background-color: #26d9ff;\n",
       "  color: #000000;\n",
       "}\n",
       "#T_6a09b_row2_col3, #T_6a09b_row8_col2 {\n",
       "  background-color: #d22dff;\n",
       "  color: #f1f1f1;\n",
       "}\n",
       "#T_6a09b_row3_col1 {\n",
       "  background-color: #4fb0ff;\n",
       "  color: #f1f1f1;\n",
       "}\n",
       "#T_6a09b_row3_col2 {\n",
       "  background-color: #906fff;\n",
       "  color: #f1f1f1;\n",
       "}\n",
       "#T_6a09b_row3_col3 {\n",
       "  background-color: #f00fff;\n",
       "  color: #f1f1f1;\n",
       "}\n",
       "#T_6a09b_row4_col1 {\n",
       "  background-color: #29d6ff;\n",
       "  color: #000000;\n",
       "}\n",
       "#T_6a09b_row4_col2 {\n",
       "  background-color: #47b8ff;\n",
       "  color: #000000;\n",
       "}\n",
       "#T_6a09b_row4_col3 {\n",
       "  background-color: #e21dff;\n",
       "  color: #f1f1f1;\n",
       "}\n",
       "#T_6a09b_row5_col1 {\n",
       "  background-color: #c13eff;\n",
       "  color: #f1f1f1;\n",
       "}\n",
       "#T_6a09b_row5_col2 {\n",
       "  background-color: #8e71ff;\n",
       "  color: #f1f1f1;\n",
       "}\n",
       "#T_6a09b_row5_col3 {\n",
       "  background-color: #f40bff;\n",
       "  color: #f1f1f1;\n",
       "}\n",
       "#T_6a09b_row6_col1 {\n",
       "  background-color: #0ff0ff;\n",
       "  color: #000000;\n",
       "}\n",
       "#T_6a09b_row6_col2 {\n",
       "  background-color: #d02fff;\n",
       "  color: #f1f1f1;\n",
       "}\n",
       "#T_6a09b_row7_col1 {\n",
       "  background-color: #5ba4ff;\n",
       "  color: #f1f1f1;\n",
       "}\n",
       "#T_6a09b_row7_col3 {\n",
       "  background-color: #fe01ff;\n",
       "  color: #f1f1f1;\n",
       "}\n",
       "#T_6a09b_row8_col1 {\n",
       "  background-color: #3dc2ff;\n",
       "  color: #000000;\n",
       "}\n",
       "</style>\n",
       "<table id=\"T_6a09b\">\n",
       "  <thead>\n",
       "    <tr>\n",
       "      <th class=\"blank level0\" >&nbsp;</th>\n",
       "      <th id=\"T_6a09b_level0_col0\" class=\"col_heading level0 col0\" >Classifier</th>\n",
       "      <th id=\"T_6a09b_level0_col1\" class=\"col_heading level0 col1\" >Train Acc</th>\n",
       "      <th id=\"T_6a09b_level0_col2\" class=\"col_heading level0 col2\" >Val Acc</th>\n",
       "      <th id=\"T_6a09b_level0_col3\" class=\"col_heading level0 col3\" >Test Acc</th>\n",
       "    </tr>\n",
       "  </thead>\n",
       "  <tbody>\n",
       "    <tr>\n",
       "      <th id=\"T_6a09b_level0_row0\" class=\"row_heading level0 row0\" >0</th>\n",
       "      <td id=\"T_6a09b_row0_col0\" class=\"data row0 col0\" >RF without tuning</td>\n",
       "      <td id=\"T_6a09b_row0_col1\" class=\"data row0 col1\" >1.000000</td>\n",
       "      <td id=\"T_6a09b_row0_col2\" class=\"data row0 col2\" >0.799150</td>\n",
       "      <td id=\"T_6a09b_row0_col3\" class=\"data row0 col3\" >0.790740</td>\n",
       "    </tr>\n",
       "    <tr>\n",
       "      <th id=\"T_6a09b_level0_row1\" class=\"row_heading level0 row1\" >1</th>\n",
       "      <td id=\"T_6a09b_row1_col0\" class=\"data row1 col0\" >RF with tuning</td>\n",
       "      <td id=\"T_6a09b_row1_col1\" class=\"data row1 col1\" >0.891060</td>\n",
       "      <td id=\"T_6a09b_row1_col2\" class=\"data row1 col2\" >0.798220</td>\n",
       "      <td id=\"T_6a09b_row1_col3\" class=\"data row1 col3\" >0.574460</td>\n",
       "    </tr>\n",
       "    <tr>\n",
       "      <th id=\"T_6a09b_level0_row2\" class=\"row_heading level0 row2\" >2</th>\n",
       "      <td id=\"T_6a09b_row2_col0\" class=\"data row2 col0\" >XGB without tuning</td>\n",
       "      <td id=\"T_6a09b_row2_col1\" class=\"data row2 col1\" >0.968510</td>\n",
       "      <td id=\"T_6a09b_row2_col2\" class=\"data row2 col2\" >0.800300</td>\n",
       "      <td id=\"T_6a09b_row2_col3\" class=\"data row2 col3\" >0.759640</td>\n",
       "    </tr>\n",
       "    <tr>\n",
       "      <th id=\"T_6a09b_level0_row3\" class=\"row_heading level0 row3\" >3</th>\n",
       "      <td id=\"T_6a09b_row3_col0\" class=\"data row3 col0\" >XGB with tuning</td>\n",
       "      <td id=\"T_6a09b_row3_col1\" class=\"data row3 col1\" >0.925030</td>\n",
       "      <td id=\"T_6a09b_row3_col2\" class=\"data row3 col2\" >0.805940</td>\n",
       "      <td id=\"T_6a09b_row3_col3\" class=\"data row3 col3\" >0.786290</td>\n",
       "    </tr>\n",
       "    <tr>\n",
       "      <th id=\"T_6a09b_level0_row4\" class=\"row_heading level0 row4\" >4</th>\n",
       "      <td id=\"T_6a09b_row4_col0\" class=\"data row4 col0\" >LGBM without tuning</td>\n",
       "      <td id=\"T_6a09b_row4_col1\" class=\"data row4 col1\" >0.908690</td>\n",
       "      <td id=\"T_6a09b_row4_col2\" class=\"data row4 col2\" >0.802020</td>\n",
       "      <td id=\"T_6a09b_row4_col3\" class=\"data row4 col3\" >0.774140</td>\n",
       "    </tr>\n",
       "    <tr>\n",
       "      <th id=\"T_6a09b_level0_row5\" class=\"row_heading level0 row5\" >5</th>\n",
       "      <td id=\"T_6a09b_row5_col0\" class=\"data row5 col0\" >LGBM with tuning</td>\n",
       "      <td id=\"T_6a09b_row5_col1\" class=\"data row5 col1\" >0.973480</td>\n",
       "      <td id=\"T_6a09b_row5_col2\" class=\"data row5 col2\" >0.805820</td>\n",
       "      <td id=\"T_6a09b_row5_col3\" class=\"data row5 col3\" >0.790030</td>\n",
       "    </tr>\n",
       "    <tr>\n",
       "      <th id=\"T_6a09b_level0_row6\" class=\"row_heading level0 row6\" >6</th>\n",
       "      <td id=\"T_6a09b_row6_col0\" class=\"data row6 col0\" >CAT without tuning</td>\n",
       "      <td id=\"T_6a09b_row6_col1\" class=\"data row6 col1\" >0.897620</td>\n",
       "      <td id=\"T_6a09b_row6_col2\" class=\"data row6 col2\" >0.809390</td>\n",
       "      <td id=\"T_6a09b_row6_col3\" class=\"data row6 col3\" >0.800090</td>\n",
       "    </tr>\n",
       "    <tr>\n",
       "      <th id=\"T_6a09b_level0_row7\" class=\"row_heading level0 row7\" >7</th>\n",
       "      <td id=\"T_6a09b_row7_col0\" class=\"data row7 col0\" >LGBM with tuning</td>\n",
       "      <td id=\"T_6a09b_row7_col1\" class=\"data row7 col1\" >0.929800</td>\n",
       "      <td id=\"T_6a09b_row7_col2\" class=\"data row7 col2\" >0.811920</td>\n",
       "      <td id=\"T_6a09b_row7_col3\" class=\"data row7 col3\" >0.798450</td>\n",
       "    </tr>\n",
       "    <tr>\n",
       "      <th id=\"T_6a09b_level0_row8\" class=\"row_heading level0 row8\" >8</th>\n",
       "      <td id=\"T_6a09b_row8_col0\" class=\"data row8 col0\" >Stacking RF, CAT</td>\n",
       "      <td id=\"T_6a09b_row8_col1\" class=\"data row8 col1\" >0.917350</td>\n",
       "      <td id=\"T_6a09b_row8_col2\" class=\"data row8 col2\" >0.809500</td>\n",
       "      <td id=\"T_6a09b_row8_col3\" class=\"data row8 col3\" >0.799620</td>\n",
       "    </tr>\n",
       "  </tbody>\n",
       "</table>\n"
      ],
      "text/plain": [
       "<pandas.io.formats.style.Styler at 0x793a31666860>"
      ]
     },
     "execution_count": 92,
     "metadata": {},
     "output_type": "execute_result"
    }
   ],
   "source": [
    "scores_df = pd.DataFrame(scores)\n",
    "scores_df.style.background_gradient(\"cool\")"
   ]
  },
  {
   "cell_type": "markdown",
   "id": "3a9add57",
   "metadata": {
    "papermill": {
     "duration": 0.028628,
     "end_time": "2024-09-18T14:58:11.674755",
     "exception": false,
     "start_time": "2024-09-18T14:58:11.646127",
     "status": "completed"
    },
    "tags": []
   },
   "source": [
    "So CAT without tuning have the best performance in test datas."
   ]
  },
  {
   "cell_type": "code",
   "execution_count": 93,
   "id": "f549200e",
   "metadata": {
    "execution": {
     "iopub.execute_input": "2024-09-18T14:58:11.734270Z",
     "iopub.status.busy": "2024-09-18T14:58:11.733864Z",
     "iopub.status.idle": "2024-09-18T14:58:11.748118Z",
     "shell.execute_reply": "2024-09-18T14:58:11.747102Z"
    },
    "papermill": {
     "duration": 0.04724,
     "end_time": "2024-09-18T14:58:11.750758",
     "exception": false,
     "start_time": "2024-09-18T14:58:11.703518",
     "status": "completed"
    },
    "tags": []
   },
   "outputs": [],
   "source": [
    "sample_sub_df = pd.read_csv('/kaggle/working/sub_cat.csv')\n",
    "sample_sub_df.to_csv('/kaggle/working/submission.csv', index=None)"
   ]
  },
  {
   "cell_type": "code",
   "execution_count": null,
   "id": "a1cccc24",
   "metadata": {
    "papermill": {
     "duration": 0.028927,
     "end_time": "2024-09-18T14:58:11.810312",
     "exception": false,
     "start_time": "2024-09-18T14:58:11.781385",
     "status": "completed"
    },
    "tags": []
   },
   "outputs": [],
   "source": []
  }
 ],
 "metadata": {
  "kaggle": {
   "accelerator": "none",
   "dataSources": [
    {
     "databundleVersionId": 3220602,
     "sourceId": 34377,
     "sourceType": "competition"
    }
   ],
   "dockerImageVersionId": 30761,
   "isGpuEnabled": false,
   "isInternetEnabled": true,
   "language": "python",
   "sourceType": "notebook"
  },
  "kernelspec": {
   "display_name": "Python 3",
   "language": "python",
   "name": "python3"
  },
  "language_info": {
   "codemirror_mode": {
    "name": "ipython",
    "version": 3
   },
   "file_extension": ".py",
   "mimetype": "text/x-python",
   "name": "python",
   "nbconvert_exporter": "python",
   "pygments_lexer": "ipython3",
   "version": "3.10.14"
  },
  "papermill": {
   "default_parameters": {},
   "duration": 531.257992,
   "end_time": "2024-09-18T14:58:12.663053",
   "environment_variables": {},
   "exception": null,
   "input_path": "__notebook__.ipynb",
   "output_path": "__notebook__.ipynb",
   "parameters": {},
   "start_time": "2024-09-18T14:49:21.405061",
   "version": "2.6.0"
  }
 },
 "nbformat": 4,
 "nbformat_minor": 5
}
