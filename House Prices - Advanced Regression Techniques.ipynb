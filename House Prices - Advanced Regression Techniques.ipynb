{
 "cells": [
  {
   "cell_type": "markdown",
   "id": "07647f81",
   "metadata": {
    "papermill": {
     "duration": 0.032755,
     "end_time": "2024-09-10T09:10:28.548716",
     "exception": false,
     "start_time": "2024-09-10T09:10:28.515961",
     "status": "completed"
    },
    "tags": []
   },
   "source": [
    "# House Prices - Advanced Regression Techniques"
   ]
  },
  {
   "cell_type": "markdown",
   "id": "23657403",
   "metadata": {
    "papermill": {
     "duration": 0.031666,
     "end_time": "2024-09-10T09:10:28.612071",
     "exception": false,
     "start_time": "2024-09-10T09:10:28.580405",
     "status": "completed"
    },
    "tags": []
   },
   "source": [
    "## Import library and datasets"
   ]
  },
  {
   "cell_type": "code",
   "execution_count": 1,
   "id": "8a9ca8ea",
   "metadata": {
    "execution": {
     "iopub.execute_input": "2024-09-10T09:10:28.680125Z",
     "iopub.status.busy": "2024-09-10T09:10:28.679590Z",
     "iopub.status.idle": "2024-09-10T09:10:33.081869Z",
     "shell.execute_reply": "2024-09-10T09:10:33.080765Z"
    },
    "papermill": {
     "duration": 4.438026,
     "end_time": "2024-09-10T09:10:33.084607",
     "exception": false,
     "start_time": "2024-09-10T09:10:28.646581",
     "status": "completed"
    },
    "tags": []
   },
   "outputs": [],
   "source": [
    "import pandas as pd\n",
    "import numpy as np\n",
    "\n",
    "from sklearn.preprocessing import OneHotEncoder, OrdinalEncoder, MinMaxScaler, StandardScaler\n",
    "from sklearn.impute import SimpleImputer\n",
    "\n",
    "from sklearn.metrics import mean_squared_error, mean_squared_log_error\n",
    "\n",
    "from sklearn.model_selection import GridSearchCV, train_test_split, StratifiedKFold, cross_val_score, RandomizedSearchCV\n",
    "from sklearn.feature_selection import mutual_info_classif\n",
    "\n",
    "from sklearn.pipeline import make_pipeline, Pipeline\n",
    "from sklearn.compose import ColumnTransformer\n",
    "\n",
    "from sklearn.linear_model import LinearRegression, Ridge\n",
    "from sklearn.tree import DecisionTreeRegressor\n",
    "from sklearn.ensemble import RandomForestRegressor, GradientBoostingRegressor\n",
    "from xgboost import XGBRegressor\n",
    "from lightgbm import LGBMRegressor\n",
    "from catboost import CatBoostRegressor\n",
    "\n",
    "from sklearn.cluster import KMeans\n",
    "\n",
    "from scipy.stats import loguniform, uniform\n",
    "\n",
    "import warnings\n",
    "warnings.simplefilter(action='ignore', category=FutureWarning)\n",
    "\n",
    "import matplotlib.pyplot as plt\n",
    "import seaborn as sns\n",
    "%matplotlib inline"
   ]
  },
  {
   "cell_type": "code",
   "execution_count": 2,
   "id": "150f1c1f",
   "metadata": {
    "execution": {
     "iopub.execute_input": "2024-09-10T09:10:33.149969Z",
     "iopub.status.busy": "2024-09-10T09:10:33.149314Z",
     "iopub.status.idle": "2024-09-10T09:10:33.243393Z",
     "shell.execute_reply": "2024-09-10T09:10:33.242238Z"
    },
    "papermill": {
     "duration": 0.129767,
     "end_time": "2024-09-10T09:10:33.246231",
     "exception": false,
     "start_time": "2024-09-10T09:10:33.116464",
     "status": "completed"
    },
    "tags": []
   },
   "outputs": [],
   "source": [
    "data_dir = '/kaggle/input/house-prices-advanced-regression-techniques/'\n",
    "raw_df = pd.read_csv(data_dir + 'train.csv')\n",
    "test_df = pd.read_csv(data_dir + 'test.csv')\n",
    "sub_df = pd.read_csv(data_dir + 'sample_submission.csv')"
   ]
  },
  {
   "cell_type": "code",
   "execution_count": 3,
   "id": "51c91d02",
   "metadata": {
    "execution": {
     "iopub.execute_input": "2024-09-10T09:10:33.310964Z",
     "iopub.status.busy": "2024-09-10T09:10:33.310154Z",
     "iopub.status.idle": "2024-09-10T09:10:33.351380Z",
     "shell.execute_reply": "2024-09-10T09:10:33.350219Z"
    },
    "papermill": {
     "duration": 0.076202,
     "end_time": "2024-09-10T09:10:33.353860",
     "exception": false,
     "start_time": "2024-09-10T09:10:33.277658",
     "status": "completed"
    },
    "tags": []
   },
   "outputs": [
    {
     "data": {
      "text/html": [
       "<div>\n",
       "<style scoped>\n",
       "    .dataframe tbody tr th:only-of-type {\n",
       "        vertical-align: middle;\n",
       "    }\n",
       "\n",
       "    .dataframe tbody tr th {\n",
       "        vertical-align: top;\n",
       "    }\n",
       "\n",
       "    .dataframe thead th {\n",
       "        text-align: right;\n",
       "    }\n",
       "</style>\n",
       "<table border=\"1\" class=\"dataframe\">\n",
       "  <thead>\n",
       "    <tr style=\"text-align: right;\">\n",
       "      <th></th>\n",
       "      <th>Id</th>\n",
       "      <th>MSSubClass</th>\n",
       "      <th>MSZoning</th>\n",
       "      <th>LotFrontage</th>\n",
       "      <th>LotArea</th>\n",
       "      <th>Street</th>\n",
       "      <th>Alley</th>\n",
       "      <th>LotShape</th>\n",
       "      <th>LandContour</th>\n",
       "      <th>Utilities</th>\n",
       "      <th>...</th>\n",
       "      <th>PoolArea</th>\n",
       "      <th>PoolQC</th>\n",
       "      <th>Fence</th>\n",
       "      <th>MiscFeature</th>\n",
       "      <th>MiscVal</th>\n",
       "      <th>MoSold</th>\n",
       "      <th>YrSold</th>\n",
       "      <th>SaleType</th>\n",
       "      <th>SaleCondition</th>\n",
       "      <th>SalePrice</th>\n",
       "    </tr>\n",
       "  </thead>\n",
       "  <tbody>\n",
       "    <tr>\n",
       "      <th>0</th>\n",
       "      <td>1</td>\n",
       "      <td>60</td>\n",
       "      <td>RL</td>\n",
       "      <td>65.0</td>\n",
       "      <td>8450</td>\n",
       "      <td>Pave</td>\n",
       "      <td>NaN</td>\n",
       "      <td>Reg</td>\n",
       "      <td>Lvl</td>\n",
       "      <td>AllPub</td>\n",
       "      <td>...</td>\n",
       "      <td>0</td>\n",
       "      <td>NaN</td>\n",
       "      <td>NaN</td>\n",
       "      <td>NaN</td>\n",
       "      <td>0</td>\n",
       "      <td>2</td>\n",
       "      <td>2008</td>\n",
       "      <td>WD</td>\n",
       "      <td>Normal</td>\n",
       "      <td>208500</td>\n",
       "    </tr>\n",
       "    <tr>\n",
       "      <th>1</th>\n",
       "      <td>2</td>\n",
       "      <td>20</td>\n",
       "      <td>RL</td>\n",
       "      <td>80.0</td>\n",
       "      <td>9600</td>\n",
       "      <td>Pave</td>\n",
       "      <td>NaN</td>\n",
       "      <td>Reg</td>\n",
       "      <td>Lvl</td>\n",
       "      <td>AllPub</td>\n",
       "      <td>...</td>\n",
       "      <td>0</td>\n",
       "      <td>NaN</td>\n",
       "      <td>NaN</td>\n",
       "      <td>NaN</td>\n",
       "      <td>0</td>\n",
       "      <td>5</td>\n",
       "      <td>2007</td>\n",
       "      <td>WD</td>\n",
       "      <td>Normal</td>\n",
       "      <td>181500</td>\n",
       "    </tr>\n",
       "    <tr>\n",
       "      <th>2</th>\n",
       "      <td>3</td>\n",
       "      <td>60</td>\n",
       "      <td>RL</td>\n",
       "      <td>68.0</td>\n",
       "      <td>11250</td>\n",
       "      <td>Pave</td>\n",
       "      <td>NaN</td>\n",
       "      <td>IR1</td>\n",
       "      <td>Lvl</td>\n",
       "      <td>AllPub</td>\n",
       "      <td>...</td>\n",
       "      <td>0</td>\n",
       "      <td>NaN</td>\n",
       "      <td>NaN</td>\n",
       "      <td>NaN</td>\n",
       "      <td>0</td>\n",
       "      <td>9</td>\n",
       "      <td>2008</td>\n",
       "      <td>WD</td>\n",
       "      <td>Normal</td>\n",
       "      <td>223500</td>\n",
       "    </tr>\n",
       "    <tr>\n",
       "      <th>3</th>\n",
       "      <td>4</td>\n",
       "      <td>70</td>\n",
       "      <td>RL</td>\n",
       "      <td>60.0</td>\n",
       "      <td>9550</td>\n",
       "      <td>Pave</td>\n",
       "      <td>NaN</td>\n",
       "      <td>IR1</td>\n",
       "      <td>Lvl</td>\n",
       "      <td>AllPub</td>\n",
       "      <td>...</td>\n",
       "      <td>0</td>\n",
       "      <td>NaN</td>\n",
       "      <td>NaN</td>\n",
       "      <td>NaN</td>\n",
       "      <td>0</td>\n",
       "      <td>2</td>\n",
       "      <td>2006</td>\n",
       "      <td>WD</td>\n",
       "      <td>Abnorml</td>\n",
       "      <td>140000</td>\n",
       "    </tr>\n",
       "    <tr>\n",
       "      <th>4</th>\n",
       "      <td>5</td>\n",
       "      <td>60</td>\n",
       "      <td>RL</td>\n",
       "      <td>84.0</td>\n",
       "      <td>14260</td>\n",
       "      <td>Pave</td>\n",
       "      <td>NaN</td>\n",
       "      <td>IR1</td>\n",
       "      <td>Lvl</td>\n",
       "      <td>AllPub</td>\n",
       "      <td>...</td>\n",
       "      <td>0</td>\n",
       "      <td>NaN</td>\n",
       "      <td>NaN</td>\n",
       "      <td>NaN</td>\n",
       "      <td>0</td>\n",
       "      <td>12</td>\n",
       "      <td>2008</td>\n",
       "      <td>WD</td>\n",
       "      <td>Normal</td>\n",
       "      <td>250000</td>\n",
       "    </tr>\n",
       "  </tbody>\n",
       "</table>\n",
       "<p>5 rows × 81 columns</p>\n",
       "</div>"
      ],
      "text/plain": [
       "   Id  MSSubClass MSZoning  LotFrontage  LotArea Street Alley LotShape  \\\n",
       "0   1          60       RL         65.0     8450   Pave   NaN      Reg   \n",
       "1   2          20       RL         80.0     9600   Pave   NaN      Reg   \n",
       "2   3          60       RL         68.0    11250   Pave   NaN      IR1   \n",
       "3   4          70       RL         60.0     9550   Pave   NaN      IR1   \n",
       "4   5          60       RL         84.0    14260   Pave   NaN      IR1   \n",
       "\n",
       "  LandContour Utilities  ... PoolArea PoolQC Fence MiscFeature MiscVal MoSold  \\\n",
       "0         Lvl    AllPub  ...        0    NaN   NaN         NaN       0      2   \n",
       "1         Lvl    AllPub  ...        0    NaN   NaN         NaN       0      5   \n",
       "2         Lvl    AllPub  ...        0    NaN   NaN         NaN       0      9   \n",
       "3         Lvl    AllPub  ...        0    NaN   NaN         NaN       0      2   \n",
       "4         Lvl    AllPub  ...        0    NaN   NaN         NaN       0     12   \n",
       "\n",
       "  YrSold  SaleType  SaleCondition  SalePrice  \n",
       "0   2008        WD         Normal     208500  \n",
       "1   2007        WD         Normal     181500  \n",
       "2   2008        WD         Normal     223500  \n",
       "3   2006        WD        Abnorml     140000  \n",
       "4   2008        WD         Normal     250000  \n",
       "\n",
       "[5 rows x 81 columns]"
      ]
     },
     "execution_count": 3,
     "metadata": {},
     "output_type": "execute_result"
    }
   ],
   "source": [
    "raw_df.head()"
   ]
  },
  {
   "cell_type": "code",
   "execution_count": 4,
   "id": "5193ca07",
   "metadata": {
    "execution": {
     "iopub.execute_input": "2024-09-10T09:10:33.419560Z",
     "iopub.status.busy": "2024-09-10T09:10:33.418988Z",
     "iopub.status.idle": "2024-09-10T09:10:33.435783Z",
     "shell.execute_reply": "2024-09-10T09:10:33.434678Z"
    },
    "papermill": {
     "duration": 0.05228,
     "end_time": "2024-09-10T09:10:33.438331",
     "exception": false,
     "start_time": "2024-09-10T09:10:33.386051",
     "status": "completed"
    },
    "tags": []
   },
   "outputs": [
    {
     "data": {
      "text/plain": [
       "LotFrontage      259\n",
       "Alley           1369\n",
       "MasVnrType       872\n",
       "MasVnrArea         8\n",
       "BsmtQual          37\n",
       "BsmtCond          37\n",
       "BsmtExposure      38\n",
       "BsmtFinType1      37\n",
       "BsmtFinType2      38\n",
       "Electrical         1\n",
       "FireplaceQu      690\n",
       "GarageType        81\n",
       "GarageYrBlt       81\n",
       "GarageFinish      81\n",
       "GarageQual        81\n",
       "GarageCond        81\n",
       "PoolQC          1453\n",
       "Fence           1179\n",
       "MiscFeature     1406\n",
       "dtype: int64"
      ]
     },
     "execution_count": 4,
     "metadata": {},
     "output_type": "execute_result"
    }
   ],
   "source": [
    "isna_sr = raw_df.isna().sum()\n",
    "isna_sr[isna_sr>0]"
   ]
  },
  {
   "cell_type": "code",
   "execution_count": 5,
   "id": "b474ba3c",
   "metadata": {
    "execution": {
     "iopub.execute_input": "2024-09-10T09:10:33.504101Z",
     "iopub.status.busy": "2024-09-10T09:10:33.503699Z",
     "iopub.status.idle": "2024-09-10T09:10:33.512318Z",
     "shell.execute_reply": "2024-09-10T09:10:33.511199Z"
    },
    "papermill": {
     "duration": 0.044424,
     "end_time": "2024-09-10T09:10:33.514737",
     "exception": false,
     "start_time": "2024-09-10T09:10:33.470313",
     "status": "completed"
    },
    "tags": []
   },
   "outputs": [],
   "source": [
    "def draw_numeric_features(data, x=None, y=None, overlap=None):\n",
    "    plt.figure(figsize=(30,10))\n",
    "    plt.grid()\n",
    "    sns.lineplot(data, x=x, y=y)\n",
    "    if overlap is not None:\n",
    "        for plot in overlap:\n",
    "            sns.lineplot(data=plot[0], x=plot[1], y=plot[2])\n",
    "\n",
    "def view_avg_of_each(cat_features: str, target: str, df):\n",
    "    d = dict()\n",
    "    cols = df[cat_features].unique()\n",
    "    for x in cols:\n",
    "        d[x] = df[df[cat_features]==x][target].mean()\n",
    "    return pd.Series(d, index=cols)"
   ]
  },
  {
   "cell_type": "code",
   "execution_count": 6,
   "id": "57d47390",
   "metadata": {
    "execution": {
     "iopub.execute_input": "2024-09-10T09:10:33.580610Z",
     "iopub.status.busy": "2024-09-10T09:10:33.580152Z",
     "iopub.status.idle": "2024-09-10T09:10:33.973462Z",
     "shell.execute_reply": "2024-09-10T09:10:33.972224Z"
    },
    "papermill": {
     "duration": 0.429186,
     "end_time": "2024-09-10T09:10:33.976116",
     "exception": false,
     "start_time": "2024-09-10T09:10:33.546930",
     "status": "completed"
    },
    "tags": []
   },
   "outputs": [
    {
     "data": {
      "image/png": "[encoded data removed]",
      "text/plain": [
       "<Figure size 1200x800 with 1 Axes>"
      ]
     },
     "metadata": {},
     "output_type": "display_data"
    }
   ],
   "source": [
    "plt.figure(figsize=(12,8))\n",
    "plt.hist(raw_df['SalePrice'], bins=20);"
   ]
  },
  {
   "cell_type": "markdown",
   "id": "e8e446bc",
   "metadata": {
    "papermill": {
     "duration": 0.03249,
     "end_time": "2024-09-10T09:10:34.048768",
     "exception": false,
     "start_time": "2024-09-10T09:10:34.016278",
     "status": "completed"
    },
    "tags": []
   },
   "source": [
    "## EDA and Feature Engineering"
   ]
  },
  {
   "cell_type": "code",
   "execution_count": 7,
   "id": "762be460",
   "metadata": {
    "execution": {
     "iopub.execute_input": "2024-09-10T09:10:34.132979Z",
     "iopub.status.busy": "2024-09-10T09:10:34.131877Z",
     "iopub.status.idle": "2024-09-10T09:10:34.138239Z",
     "shell.execute_reply": "2024-09-10T09:10:34.136968Z"
    },
    "papermill": {
     "duration": 0.055093,
     "end_time": "2024-09-10T09:10:34.141343",
     "exception": false,
     "start_time": "2024-09-10T09:10:34.086250",
     "status": "completed"
    },
    "tags": []
   },
   "outputs": [],
   "source": [
    "target = 'SalePrice'"
   ]
  },
  {
   "cell_type": "code",
   "execution_count": 8,
   "id": "050f3434",
   "metadata": {
    "execution": {
     "iopub.execute_input": "2024-09-10T09:10:34.217908Z",
     "iopub.status.busy": "2024-09-10T09:10:34.217471Z",
     "iopub.status.idle": "2024-09-10T09:10:34.270345Z",
     "shell.execute_reply": "2024-09-10T09:10:34.269259Z"
    },
    "papermill": {
     "duration": 0.08978,
     "end_time": "2024-09-10T09:10:34.273196",
     "exception": false,
     "start_time": "2024-09-10T09:10:34.183416",
     "status": "completed"
    },
    "tags": []
   },
   "outputs": [
    {
     "data": {
      "text/html": [
       "<div>\n",
       "<style scoped>\n",
       "    .dataframe tbody tr th:only-of-type {\n",
       "        vertical-align: middle;\n",
       "    }\n",
       "\n",
       "    .dataframe tbody tr th {\n",
       "        vertical-align: top;\n",
       "    }\n",
       "\n",
       "    .dataframe thead th {\n",
       "        text-align: right;\n",
       "    }\n",
       "</style>\n",
       "<table border=\"1\" class=\"dataframe\">\n",
       "  <thead>\n",
       "    <tr style=\"text-align: right;\">\n",
       "      <th></th>\n",
       "      <th>Id</th>\n",
       "      <th>MSSubClass</th>\n",
       "      <th>MSZoning</th>\n",
       "      <th>LotFrontage</th>\n",
       "      <th>LotArea</th>\n",
       "      <th>Street</th>\n",
       "      <th>Alley</th>\n",
       "      <th>LotShape</th>\n",
       "      <th>LandContour</th>\n",
       "      <th>Utilities</th>\n",
       "      <th>...</th>\n",
       "      <th>PoolArea</th>\n",
       "      <th>PoolQC</th>\n",
       "      <th>Fence</th>\n",
       "      <th>MiscFeature</th>\n",
       "      <th>MiscVal</th>\n",
       "      <th>MoSold</th>\n",
       "      <th>YrSold</th>\n",
       "      <th>SaleType</th>\n",
       "      <th>SaleCondition</th>\n",
       "      <th>SalePrice</th>\n",
       "    </tr>\n",
       "    <tr>\n",
       "      <th>Id</th>\n",
       "      <th></th>\n",
       "      <th></th>\n",
       "      <th></th>\n",
       "      <th></th>\n",
       "      <th></th>\n",
       "      <th></th>\n",
       "      <th></th>\n",
       "      <th></th>\n",
       "      <th></th>\n",
       "      <th></th>\n",
       "      <th></th>\n",
       "      <th></th>\n",
       "      <th></th>\n",
       "      <th></th>\n",
       "      <th></th>\n",
       "      <th></th>\n",
       "      <th></th>\n",
       "      <th></th>\n",
       "      <th></th>\n",
       "      <th></th>\n",
       "      <th></th>\n",
       "    </tr>\n",
       "  </thead>\n",
       "  <tbody>\n",
       "    <tr>\n",
       "      <th>1</th>\n",
       "      <td>1</td>\n",
       "      <td>60</td>\n",
       "      <td>RL</td>\n",
       "      <td>65.0</td>\n",
       "      <td>8450</td>\n",
       "      <td>Pave</td>\n",
       "      <td>NaN</td>\n",
       "      <td>Reg</td>\n",
       "      <td>Lvl</td>\n",
       "      <td>AllPub</td>\n",
       "      <td>...</td>\n",
       "      <td>0</td>\n",
       "      <td>NaN</td>\n",
       "      <td>NaN</td>\n",
       "      <td>NaN</td>\n",
       "      <td>0</td>\n",
       "      <td>2</td>\n",
       "      <td>2008</td>\n",
       "      <td>WD</td>\n",
       "      <td>Normal</td>\n",
       "      <td>208500.0</td>\n",
       "    </tr>\n",
       "    <tr>\n",
       "      <th>2</th>\n",
       "      <td>2</td>\n",
       "      <td>20</td>\n",
       "      <td>RL</td>\n",
       "      <td>80.0</td>\n",
       "      <td>9600</td>\n",
       "      <td>Pave</td>\n",
       "      <td>NaN</td>\n",
       "      <td>Reg</td>\n",
       "      <td>Lvl</td>\n",
       "      <td>AllPub</td>\n",
       "      <td>...</td>\n",
       "      <td>0</td>\n",
       "      <td>NaN</td>\n",
       "      <td>NaN</td>\n",
       "      <td>NaN</td>\n",
       "      <td>0</td>\n",
       "      <td>5</td>\n",
       "      <td>2007</td>\n",
       "      <td>WD</td>\n",
       "      <td>Normal</td>\n",
       "      <td>181500.0</td>\n",
       "    </tr>\n",
       "    <tr>\n",
       "      <th>3</th>\n",
       "      <td>3</td>\n",
       "      <td>60</td>\n",
       "      <td>RL</td>\n",
       "      <td>68.0</td>\n",
       "      <td>11250</td>\n",
       "      <td>Pave</td>\n",
       "      <td>NaN</td>\n",
       "      <td>IR1</td>\n",
       "      <td>Lvl</td>\n",
       "      <td>AllPub</td>\n",
       "      <td>...</td>\n",
       "      <td>0</td>\n",
       "      <td>NaN</td>\n",
       "      <td>NaN</td>\n",
       "      <td>NaN</td>\n",
       "      <td>0</td>\n",
       "      <td>9</td>\n",
       "      <td>2008</td>\n",
       "      <td>WD</td>\n",
       "      <td>Normal</td>\n",
       "      <td>223500.0</td>\n",
       "    </tr>\n",
       "    <tr>\n",
       "      <th>4</th>\n",
       "      <td>4</td>\n",
       "      <td>70</td>\n",
       "      <td>RL</td>\n",
       "      <td>60.0</td>\n",
       "      <td>9550</td>\n",
       "      <td>Pave</td>\n",
       "      <td>NaN</td>\n",
       "      <td>IR1</td>\n",
       "      <td>Lvl</td>\n",
       "      <td>AllPub</td>\n",
       "      <td>...</td>\n",
       "      <td>0</td>\n",
       "      <td>NaN</td>\n",
       "      <td>NaN</td>\n",
       "      <td>NaN</td>\n",
       "      <td>0</td>\n",
       "      <td>2</td>\n",
       "      <td>2006</td>\n",
       "      <td>WD</td>\n",
       "      <td>Abnorml</td>\n",
       "      <td>140000.0</td>\n",
       "    </tr>\n",
       "    <tr>\n",
       "      <th>5</th>\n",
       "      <td>5</td>\n",
       "      <td>60</td>\n",
       "      <td>RL</td>\n",
       "      <td>84.0</td>\n",
       "      <td>14260</td>\n",
       "      <td>Pave</td>\n",
       "      <td>NaN</td>\n",
       "      <td>IR1</td>\n",
       "      <td>Lvl</td>\n",
       "      <td>AllPub</td>\n",
       "      <td>...</td>\n",
       "      <td>0</td>\n",
       "      <td>NaN</td>\n",
       "      <td>NaN</td>\n",
       "      <td>NaN</td>\n",
       "      <td>0</td>\n",
       "      <td>12</td>\n",
       "      <td>2008</td>\n",
       "      <td>WD</td>\n",
       "      <td>Normal</td>\n",
       "      <td>250000.0</td>\n",
       "    </tr>\n",
       "    <tr>\n",
       "      <th>...</th>\n",
       "      <td>...</td>\n",
       "      <td>...</td>\n",
       "      <td>...</td>\n",
       "      <td>...</td>\n",
       "      <td>...</td>\n",
       "      <td>...</td>\n",
       "      <td>...</td>\n",
       "      <td>...</td>\n",
       "      <td>...</td>\n",
       "      <td>...</td>\n",
       "      <td>...</td>\n",
       "      <td>...</td>\n",
       "      <td>...</td>\n",
       "      <td>...</td>\n",
       "      <td>...</td>\n",
       "      <td>...</td>\n",
       "      <td>...</td>\n",
       "      <td>...</td>\n",
       "      <td>...</td>\n",
       "      <td>...</td>\n",
       "      <td>...</td>\n",
       "    </tr>\n",
       "    <tr>\n",
       "      <th>2915</th>\n",
       "      <td>2915</td>\n",
       "      <td>160</td>\n",
       "      <td>RM</td>\n",
       "      <td>21.0</td>\n",
       "      <td>1936</td>\n",
       "      <td>Pave</td>\n",
       "      <td>NaN</td>\n",
       "      <td>Reg</td>\n",
       "      <td>Lvl</td>\n",
       "      <td>AllPub</td>\n",
       "      <td>...</td>\n",
       "      <td>0</td>\n",
       "      <td>NaN</td>\n",
       "      <td>NaN</td>\n",
       "      <td>NaN</td>\n",
       "      <td>0</td>\n",
       "      <td>6</td>\n",
       "      <td>2006</td>\n",
       "      <td>WD</td>\n",
       "      <td>Normal</td>\n",
       "      <td>NaN</td>\n",
       "    </tr>\n",
       "    <tr>\n",
       "      <th>2916</th>\n",
       "      <td>2916</td>\n",
       "      <td>160</td>\n",
       "      <td>RM</td>\n",
       "      <td>21.0</td>\n",
       "      <td>1894</td>\n",
       "      <td>Pave</td>\n",
       "      <td>NaN</td>\n",
       "      <td>Reg</td>\n",
       "      <td>Lvl</td>\n",
       "      <td>AllPub</td>\n",
       "      <td>...</td>\n",
       "      <td>0</td>\n",
       "      <td>NaN</td>\n",
       "      <td>NaN</td>\n",
       "      <td>NaN</td>\n",
       "      <td>0</td>\n",
       "      <td>4</td>\n",
       "      <td>2006</td>\n",
       "      <td>WD</td>\n",
       "      <td>Abnorml</td>\n",
       "      <td>NaN</td>\n",
       "    </tr>\n",
       "    <tr>\n",
       "      <th>2917</th>\n",
       "      <td>2917</td>\n",
       "      <td>20</td>\n",
       "      <td>RL</td>\n",
       "      <td>160.0</td>\n",
       "      <td>20000</td>\n",
       "      <td>Pave</td>\n",
       "      <td>NaN</td>\n",
       "      <td>Reg</td>\n",
       "      <td>Lvl</td>\n",
       "      <td>AllPub</td>\n",
       "      <td>...</td>\n",
       "      <td>0</td>\n",
       "      <td>NaN</td>\n",
       "      <td>NaN</td>\n",
       "      <td>NaN</td>\n",
       "      <td>0</td>\n",
       "      <td>9</td>\n",
       "      <td>2006</td>\n",
       "      <td>WD</td>\n",
       "      <td>Abnorml</td>\n",
       "      <td>NaN</td>\n",
       "    </tr>\n",
       "    <tr>\n",
       "      <th>2918</th>\n",
       "      <td>2918</td>\n",
       "      <td>85</td>\n",
       "      <td>RL</td>\n",
       "      <td>62.0</td>\n",
       "      <td>10441</td>\n",
       "      <td>Pave</td>\n",
       "      <td>NaN</td>\n",
       "      <td>Reg</td>\n",
       "      <td>Lvl</td>\n",
       "      <td>AllPub</td>\n",
       "      <td>...</td>\n",
       "      <td>0</td>\n",
       "      <td>NaN</td>\n",
       "      <td>MnPrv</td>\n",
       "      <td>Shed</td>\n",
       "      <td>700</td>\n",
       "      <td>7</td>\n",
       "      <td>2006</td>\n",
       "      <td>WD</td>\n",
       "      <td>Normal</td>\n",
       "      <td>NaN</td>\n",
       "    </tr>\n",
       "    <tr>\n",
       "      <th>2919</th>\n",
       "      <td>2919</td>\n",
       "      <td>60</td>\n",
       "      <td>RL</td>\n",
       "      <td>74.0</td>\n",
       "      <td>9627</td>\n",
       "      <td>Pave</td>\n",
       "      <td>NaN</td>\n",
       "      <td>Reg</td>\n",
       "      <td>Lvl</td>\n",
       "      <td>AllPub</td>\n",
       "      <td>...</td>\n",
       "      <td>0</td>\n",
       "      <td>NaN</td>\n",
       "      <td>NaN</td>\n",
       "      <td>NaN</td>\n",
       "      <td>0</td>\n",
       "      <td>11</td>\n",
       "      <td>2006</td>\n",
       "      <td>WD</td>\n",
       "      <td>Normal</td>\n",
       "      <td>NaN</td>\n",
       "    </tr>\n",
       "  </tbody>\n",
       "</table>\n",
       "<p>2919 rows × 81 columns</p>\n",
       "</div>"
      ],
      "text/plain": [
       "        Id  MSSubClass MSZoning  LotFrontage  LotArea Street Alley LotShape  \\\n",
       "Id                                                                            \n",
       "1        1          60       RL         65.0     8450   Pave   NaN      Reg   \n",
       "2        2          20       RL         80.0     9600   Pave   NaN      Reg   \n",
       "3        3          60       RL         68.0    11250   Pave   NaN      IR1   \n",
       "4        4          70       RL         60.0     9550   Pave   NaN      IR1   \n",
       "5        5          60       RL         84.0    14260   Pave   NaN      IR1   \n",
       "...    ...         ...      ...          ...      ...    ...   ...      ...   \n",
       "2915  2915         160       RM         21.0     1936   Pave   NaN      Reg   \n",
       "2916  2916         160       RM         21.0     1894   Pave   NaN      Reg   \n",
       "2917  2917          20       RL        160.0    20000   Pave   NaN      Reg   \n",
       "2918  2918          85       RL         62.0    10441   Pave   NaN      Reg   \n",
       "2919  2919          60       RL         74.0     9627   Pave   NaN      Reg   \n",
       "\n",
       "     LandContour Utilities  ... PoolArea PoolQC  Fence MiscFeature MiscVal  \\\n",
       "Id                          ...                                              \n",
       "1            Lvl    AllPub  ...        0    NaN    NaN         NaN       0   \n",
       "2            Lvl    AllPub  ...        0    NaN    NaN         NaN       0   \n",
       "3            Lvl    AllPub  ...        0    NaN    NaN         NaN       0   \n",
       "4            Lvl    AllPub  ...        0    NaN    NaN         NaN       0   \n",
       "5            Lvl    AllPub  ...        0    NaN    NaN         NaN       0   \n",
       "...          ...       ...  ...      ...    ...    ...         ...     ...   \n",
       "2915         Lvl    AllPub  ...        0    NaN    NaN         NaN       0   \n",
       "2916         Lvl    AllPub  ...        0    NaN    NaN         NaN       0   \n",
       "2917         Lvl    AllPub  ...        0    NaN    NaN         NaN       0   \n",
       "2918         Lvl    AllPub  ...        0    NaN  MnPrv        Shed     700   \n",
       "2919         Lvl    AllPub  ...        0    NaN    NaN         NaN       0   \n",
       "\n",
       "     MoSold YrSold  SaleType  SaleCondition  SalePrice  \n",
       "Id                                                      \n",
       "1         2   2008        WD         Normal   208500.0  \n",
       "2         5   2007        WD         Normal   181500.0  \n",
       "3         9   2008        WD         Normal   223500.0  \n",
       "4         2   2006        WD        Abnorml   140000.0  \n",
       "5        12   2008        WD         Normal   250000.0  \n",
       "...     ...    ...       ...            ...        ...  \n",
       "2915      6   2006        WD         Normal        NaN  \n",
       "2916      4   2006        WD        Abnorml        NaN  \n",
       "2917      9   2006        WD        Abnorml        NaN  \n",
       "2918      7   2006        WD         Normal        NaN  \n",
       "2919     11   2006        WD         Normal        NaN  \n",
       "\n",
       "[2919 rows x 81 columns]"
      ]
     },
     "execution_count": 8,
     "metadata": {},
     "output_type": "execute_result"
    }
   ],
   "source": [
    "concat_df = pd.concat([raw_df,test_df]).copy()\n",
    "concat_df.index = concat_df['Id']\n",
    "concat_df.drop(columns='Id')\n",
    "concat_df"
   ]
  },
  {
   "cell_type": "markdown",
   "id": "a6871ddf",
   "metadata": {
    "papermill": {
     "duration": 0.032336,
     "end_time": "2024-09-10T09:10:34.338536",
     "exception": false,
     "start_time": "2024-09-10T09:10:34.306200",
     "status": "completed"
    },
    "tags": []
   },
   "source": [
    "### LotFrontage & LotArea"
   ]
  },
  {
   "cell_type": "code",
   "execution_count": 9,
   "id": "84092ca7",
   "metadata": {
    "execution": {
     "iopub.execute_input": "2024-09-10T09:10:34.405396Z",
     "iopub.status.busy": "2024-09-10T09:10:34.404953Z",
     "iopub.status.idle": "2024-09-10T09:10:34.414921Z",
     "shell.execute_reply": "2024-09-10T09:10:34.413942Z"
    },
    "papermill": {
     "duration": 0.046225,
     "end_time": "2024-09-10T09:10:34.417325",
     "exception": false,
     "start_time": "2024-09-10T09:10:34.371100",
     "status": "completed"
    },
    "tags": []
   },
   "outputs": [
    {
     "data": {
      "text/plain": [
       "LotFrontage    486\n",
       "LotArea          0\n",
       "dtype: int64"
      ]
     },
     "execution_count": 9,
     "metadata": {},
     "output_type": "execute_result"
    }
   ],
   "source": [
    "concat_df[['LotFrontage','LotArea']].isna().sum()"
   ]
  },
  {
   "cell_type": "code",
   "execution_count": 10,
   "id": "d04477c0",
   "metadata": {
    "execution": {
     "iopub.execute_input": "2024-09-10T09:10:34.484949Z",
     "iopub.status.busy": "2024-09-10T09:10:34.484525Z",
     "iopub.status.idle": "2024-09-10T09:10:34.503868Z",
     "shell.execute_reply": "2024-09-10T09:10:34.502879Z"
    },
    "papermill": {
     "duration": 0.05634,
     "end_time": "2024-09-10T09:10:34.506364",
     "exception": false,
     "start_time": "2024-09-10T09:10:34.450024",
     "status": "completed"
    },
    "tags": []
   },
   "outputs": [
    {
     "data": {
      "text/html": [
       "<div>\n",
       "<style scoped>\n",
       "    .dataframe tbody tr th:only-of-type {\n",
       "        vertical-align: middle;\n",
       "    }\n",
       "\n",
       "    .dataframe tbody tr th {\n",
       "        vertical-align: top;\n",
       "    }\n",
       "\n",
       "    .dataframe thead th {\n",
       "        text-align: right;\n",
       "    }\n",
       "</style>\n",
       "<table border=\"1\" class=\"dataframe\">\n",
       "  <thead>\n",
       "    <tr style=\"text-align: right;\">\n",
       "      <th></th>\n",
       "      <th>LotFrontage</th>\n",
       "      <th>LotArea</th>\n",
       "    </tr>\n",
       "  </thead>\n",
       "  <tbody>\n",
       "    <tr>\n",
       "      <th>count</th>\n",
       "      <td>2433.000000</td>\n",
       "      <td>2919.000000</td>\n",
       "    </tr>\n",
       "    <tr>\n",
       "      <th>mean</th>\n",
       "      <td>69.305795</td>\n",
       "      <td>10168.114080</td>\n",
       "    </tr>\n",
       "    <tr>\n",
       "      <th>std</th>\n",
       "      <td>23.344905</td>\n",
       "      <td>7886.996359</td>\n",
       "    </tr>\n",
       "    <tr>\n",
       "      <th>min</th>\n",
       "      <td>21.000000</td>\n",
       "      <td>1300.000000</td>\n",
       "    </tr>\n",
       "    <tr>\n",
       "      <th>25%</th>\n",
       "      <td>59.000000</td>\n",
       "      <td>7478.000000</td>\n",
       "    </tr>\n",
       "    <tr>\n",
       "      <th>50%</th>\n",
       "      <td>68.000000</td>\n",
       "      <td>9453.000000</td>\n",
       "    </tr>\n",
       "    <tr>\n",
       "      <th>75%</th>\n",
       "      <td>80.000000</td>\n",
       "      <td>11570.000000</td>\n",
       "    </tr>\n",
       "    <tr>\n",
       "      <th>max</th>\n",
       "      <td>313.000000</td>\n",
       "      <td>215245.000000</td>\n",
       "    </tr>\n",
       "  </tbody>\n",
       "</table>\n",
       "</div>"
      ],
      "text/plain": [
       "       LotFrontage        LotArea\n",
       "count  2433.000000    2919.000000\n",
       "mean     69.305795   10168.114080\n",
       "std      23.344905    7886.996359\n",
       "min      21.000000    1300.000000\n",
       "25%      59.000000    7478.000000\n",
       "50%      68.000000    9453.000000\n",
       "75%      80.000000   11570.000000\n",
       "max     313.000000  215245.000000"
      ]
     },
     "execution_count": 10,
     "metadata": {},
     "output_type": "execute_result"
    }
   ],
   "source": [
    "concat_df[['LotFrontage','LotArea']].describe()"
   ]
  },
  {
   "cell_type": "code",
   "execution_count": 11,
   "id": "3b426f3f",
   "metadata": {
    "execution": {
     "iopub.execute_input": "2024-09-10T09:10:34.574675Z",
     "iopub.status.busy": "2024-09-10T09:10:34.574247Z",
     "iopub.status.idle": "2024-09-10T09:10:34.581304Z",
     "shell.execute_reply": "2024-09-10T09:10:34.580195Z"
    },
    "papermill": {
     "duration": 0.044022,
     "end_time": "2024-09-10T09:10:34.583611",
     "exception": false,
     "start_time": "2024-09-10T09:10:34.539589",
     "status": "completed"
    },
    "tags": []
   },
   "outputs": [],
   "source": [
    "avg = concat_df['LotFrontage'].mean()\n",
    "concat_df.fillna({'LotFrontage':avg}, inplace=True)"
   ]
  },
  {
   "cell_type": "code",
   "execution_count": 12,
   "id": "1caf4510",
   "metadata": {
    "execution": {
     "iopub.execute_input": "2024-09-10T09:10:34.651965Z",
     "iopub.status.busy": "2024-09-10T09:10:34.651533Z",
     "iopub.status.idle": "2024-09-10T09:10:34.658071Z",
     "shell.execute_reply": "2024-09-10T09:10:34.657010Z"
    },
    "papermill": {
     "duration": 0.043668,
     "end_time": "2024-09-10T09:10:34.660546",
     "exception": false,
     "start_time": "2024-09-10T09:10:34.616878",
     "status": "completed"
    },
    "tags": []
   },
   "outputs": [],
   "source": [
    "concat_df['LotArea_LotFrontAge_Divide'] = concat_df['LotArea']/concat_df['LotFrontage']"
   ]
  },
  {
   "cell_type": "code",
   "execution_count": 13,
   "id": "d174d21e",
   "metadata": {
    "execution": {
     "iopub.execute_input": "2024-09-10T09:10:34.777122Z",
     "iopub.status.busy": "2024-09-10T09:10:34.776191Z",
     "iopub.status.idle": "2024-09-10T09:10:44.142930Z",
     "shell.execute_reply": "2024-09-10T09:10:44.141809Z"
    },
    "papermill": {
     "duration": 9.452725,
     "end_time": "2024-09-10T09:10:44.146534",
     "exception": false,
     "start_time": "2024-09-10T09:10:34.693809",
     "status": "completed"
    },
    "tags": []
   },
   "outputs": [
    {
     "data": {
      "text/plain": [
       "LotFrontage_LotArea_Cluster\n",
       "0    1571\n",
       "3     705\n",
       "4     527\n",
       "5      90\n",
       "2      22\n",
       "1       4\n",
       "Name: count, dtype: int64"
      ]
     },
     "execution_count": 13,
     "metadata": {},
     "output_type": "execute_result"
    }
   ],
   "source": [
    "kmeans = KMeans(n_clusters=6)\n",
    "concat_df['LotFrontage_LotArea_Cluster'] = kmeans.fit_predict(concat_df[['LotFrontage','LotArea']])\n",
    "concat_df['LotFrontage_LotArea_Cluster'].value_counts()"
   ]
  },
  {
   "cell_type": "code",
   "execution_count": 14,
   "id": "9e20fefd",
   "metadata": {
    "execution": {
     "iopub.execute_input": "2024-09-10T09:10:44.219300Z",
     "iopub.status.busy": "2024-09-10T09:10:44.218834Z",
     "iopub.status.idle": "2024-09-10T09:10:44.237657Z",
     "shell.execute_reply": "2024-09-10T09:10:44.236504Z"
    },
    "papermill": {
     "duration": 0.057055,
     "end_time": "2024-09-10T09:10:44.240414",
     "exception": false,
     "start_time": "2024-09-10T09:10:44.183359",
     "status": "completed"
    },
    "tags": []
   },
   "outputs": [
    {
     "data": {
      "text/plain": [
       "0    167565.519796\n",
       "3    228421.265928\n",
       "4    138295.291339\n",
       "2    300173.076923\n",
       "5    228196.955556\n",
       "1    295737.500000\n",
       "dtype: float64"
      ]
     },
     "execution_count": 14,
     "metadata": {},
     "output_type": "execute_result"
    }
   ],
   "source": [
    "view_avg_of_each('LotFrontage_LotArea_Cluster', target, concat_df)"
   ]
  },
  {
   "cell_type": "markdown",
   "id": "6357d984",
   "metadata": {
    "papermill": {
     "duration": 0.03384,
     "end_time": "2024-09-10T09:10:44.309729",
     "exception": false,
     "start_time": "2024-09-10T09:10:44.275889",
     "status": "completed"
    },
    "tags": []
   },
   "source": [
    "### OverallQual & OverallCond"
   ]
  },
  {
   "cell_type": "code",
   "execution_count": 15,
   "id": "d75bc3a6",
   "metadata": {
    "execution": {
     "iopub.execute_input": "2024-09-10T09:10:44.382226Z",
     "iopub.status.busy": "2024-09-10T09:10:44.381218Z",
     "iopub.status.idle": "2024-09-10T09:10:44.448940Z",
     "shell.execute_reply": "2024-09-10T09:10:44.447786Z"
    },
    "papermill": {
     "duration": 0.10713,
     "end_time": "2024-09-10T09:10:44.451418",
     "exception": false,
     "start_time": "2024-09-10T09:10:44.344288",
     "status": "completed"
    },
    "tags": []
   },
   "outputs": [
    {
     "data": {
      "text/plain": [
       "OverallQual_OverallCond_Merge\n",
       "1    2311\n",
       "2     531\n",
       "0      77\n",
       "Name: count, dtype: int64"
      ]
     },
     "execution_count": 15,
     "metadata": {},
     "output_type": "execute_result"
    }
   ],
   "source": [
    "def get_overall_merge(x, y):\n",
    "    if x>=6 and y>=6:\n",
    "        return 2\n",
    "    if x<=4 and y<=4:\n",
    "        return 0\n",
    "    return 1\n",
    "concat_df['OverallQual_OverallCond_Merge'] = concat_df[['OverallQual','OverallCond']].apply(lambda x: get_overall_merge(x['OverallQual'],x['OverallCond']),axis=1)\n",
    "concat_df['OverallQual_OverallCond_Merge'].value_counts()"
   ]
  },
  {
   "cell_type": "code",
   "execution_count": 16,
   "id": "32dc53c7",
   "metadata": {
    "execution": {
     "iopub.execute_input": "2024-09-10T09:10:44.524306Z",
     "iopub.status.busy": "2024-09-10T09:10:44.522977Z",
     "iopub.status.idle": "2024-09-10T09:10:44.540696Z",
     "shell.execute_reply": "2024-09-10T09:10:44.539266Z"
    },
    "papermill": {
     "duration": 0.056576,
     "end_time": "2024-09-10T09:10:44.543687",
     "exception": false,
     "start_time": "2024-09-10T09:10:44.487111",
     "status": "completed"
    },
    "tags": []
   },
   "outputs": [
    {
     "data": {
      "text/plain": [
       "1    182706.114211\n",
       "2    186878.055147\n",
       "0     91468.341463\n",
       "dtype: float64"
      ]
     },
     "execution_count": 16,
     "metadata": {},
     "output_type": "execute_result"
    }
   ],
   "source": [
    "view_avg_of_each('OverallQual_OverallCond_Merge',target,concat_df)"
   ]
  },
  {
   "cell_type": "markdown",
   "id": "88487e1c",
   "metadata": {
    "papermill": {
     "duration": 0.034442,
     "end_time": "2024-09-10T09:10:44.614338",
     "exception": false,
     "start_time": "2024-09-10T09:10:44.579896",
     "status": "completed"
    },
    "tags": []
   },
   "source": [
    "### YearBuilt, YearRemodAdd"
   ]
  },
  {
   "cell_type": "code",
   "execution_count": 17,
   "id": "25cf9df0",
   "metadata": {
    "execution": {
     "iopub.execute_input": "2024-09-10T09:10:44.686667Z",
     "iopub.status.busy": "2024-09-10T09:10:44.686160Z",
     "iopub.status.idle": "2024-09-10T09:10:44.698560Z",
     "shell.execute_reply": "2024-09-10T09:10:44.697410Z"
    },
    "papermill": {
     "duration": 0.052323,
     "end_time": "2024-09-10T09:10:44.701278",
     "exception": false,
     "start_time": "2024-09-10T09:10:44.648955",
     "status": "completed"
    },
    "tags": []
   },
   "outputs": [
    {
     "data": {
      "text/plain": [
       "count    2919.000000\n",
       "mean     1971.312778\n",
       "std        30.291442\n",
       "min      1872.000000\n",
       "25%      1953.500000\n",
       "50%      1973.000000\n",
       "75%      2001.000000\n",
       "max      2010.000000\n",
       "Name: YearBuilt, dtype: float64"
      ]
     },
     "execution_count": 17,
     "metadata": {},
     "output_type": "execute_result"
    }
   ],
   "source": [
    "concat_df['YearBuilt'].describe()"
   ]
  },
  {
   "cell_type": "code",
   "execution_count": 18,
   "id": "7b2e80d9",
   "metadata": {
    "execution": {
     "iopub.execute_input": "2024-09-10T09:10:44.772540Z",
     "iopub.status.busy": "2024-09-10T09:10:44.772046Z",
     "iopub.status.idle": "2024-09-10T09:10:44.785594Z",
     "shell.execute_reply": "2024-09-10T09:10:44.784266Z"
    },
    "papermill": {
     "duration": 0.052218,
     "end_time": "2024-09-10T09:10:44.788182",
     "exception": false,
     "start_time": "2024-09-10T09:10:44.735964",
     "status": "completed"
    },
    "tags": []
   },
   "outputs": [
    {
     "data": {
      "text/plain": [
       "count    2919.000000\n",
       "mean     1984.264474\n",
       "std        20.894344\n",
       "min      1950.000000\n",
       "25%      1965.000000\n",
       "50%      1993.000000\n",
       "75%      2004.000000\n",
       "max      2010.000000\n",
       "Name: YearRemodAdd, dtype: float64"
      ]
     },
     "execution_count": 18,
     "metadata": {},
     "output_type": "execute_result"
    }
   ],
   "source": [
    "concat_df['YearRemodAdd'].describe()"
   ]
  },
  {
   "cell_type": "code",
   "execution_count": 19,
   "id": "45a46b12",
   "metadata": {
    "execution": {
     "iopub.execute_input": "2024-09-10T09:10:44.861188Z",
     "iopub.status.busy": "2024-09-10T09:10:44.860748Z",
     "iopub.status.idle": "2024-09-10T09:10:44.872947Z",
     "shell.execute_reply": "2024-09-10T09:10:44.871585Z"
    },
    "papermill": {
     "duration": 0.051541,
     "end_time": "2024-09-10T09:10:44.875439",
     "exception": false,
     "start_time": "2024-09-10T09:10:44.823898",
     "status": "completed"
    },
    "tags": []
   },
   "outputs": [],
   "source": [
    "for col in ['YearBuilt','YearRemodAdd']:\n",
    "    concat_df[col] = concat_df[col].apply(lambda x: 2020-x)"
   ]
  },
  {
   "cell_type": "markdown",
   "id": "7a450264",
   "metadata": {
    "papermill": {
     "duration": 0.034052,
     "end_time": "2024-09-10T09:10:44.944038",
     "exception": false,
     "start_time": "2024-09-10T09:10:44.909986",
     "status": "completed"
    },
    "tags": []
   },
   "source": [
    "### BsmtSF"
   ]
  },
  {
   "cell_type": "code",
   "execution_count": 20,
   "id": "3ebd1e46",
   "metadata": {
    "execution": {
     "iopub.execute_input": "2024-09-10T09:10:45.018486Z",
     "iopub.status.busy": "2024-09-10T09:10:45.017998Z",
     "iopub.status.idle": "2024-09-10T09:10:45.023748Z",
     "shell.execute_reply": "2024-09-10T09:10:45.022437Z"
    },
    "papermill": {
     "duration": 0.045174,
     "end_time": "2024-09-10T09:10:45.026647",
     "exception": false,
     "start_time": "2024-09-10T09:10:44.981473",
     "status": "completed"
    },
    "tags": []
   },
   "outputs": [],
   "source": [
    "bsmt_sfs = ['BsmtFinSF1','BsmtFinSF2','BsmtUnfSF','TotalBsmtSF']"
   ]
  },
  {
   "cell_type": "code",
   "execution_count": 21,
   "id": "89eadc3d",
   "metadata": {
    "execution": {
     "iopub.execute_input": "2024-09-10T09:10:45.099438Z",
     "iopub.status.busy": "2024-09-10T09:10:45.098979Z",
     "iopub.status.idle": "2024-09-10T09:10:45.118403Z",
     "shell.execute_reply": "2024-09-10T09:10:45.117142Z"
    },
    "papermill": {
     "duration": 0.059803,
     "end_time": "2024-09-10T09:10:45.121230",
     "exception": false,
     "start_time": "2024-09-10T09:10:45.061427",
     "status": "completed"
    },
    "tags": []
   },
   "outputs": [
    {
     "data": {
      "text/html": [
       "<div>\n",
       "<style scoped>\n",
       "    .dataframe tbody tr th:only-of-type {\n",
       "        vertical-align: middle;\n",
       "    }\n",
       "\n",
       "    .dataframe tbody tr th {\n",
       "        vertical-align: top;\n",
       "    }\n",
       "\n",
       "    .dataframe thead th {\n",
       "        text-align: right;\n",
       "    }\n",
       "</style>\n",
       "<table border=\"1\" class=\"dataframe\">\n",
       "  <thead>\n",
       "    <tr style=\"text-align: right;\">\n",
       "      <th></th>\n",
       "      <th>BsmtFinSF1</th>\n",
       "      <th>BsmtFinSF2</th>\n",
       "      <th>BsmtUnfSF</th>\n",
       "      <th>TotalBsmtSF</th>\n",
       "    </tr>\n",
       "    <tr>\n",
       "      <th>Id</th>\n",
       "      <th></th>\n",
       "      <th></th>\n",
       "      <th></th>\n",
       "      <th></th>\n",
       "    </tr>\n",
       "  </thead>\n",
       "  <tbody>\n",
       "    <tr>\n",
       "      <th>1</th>\n",
       "      <td>706.0</td>\n",
       "      <td>0.0</td>\n",
       "      <td>150.0</td>\n",
       "      <td>856.0</td>\n",
       "    </tr>\n",
       "    <tr>\n",
       "      <th>2</th>\n",
       "      <td>978.0</td>\n",
       "      <td>0.0</td>\n",
       "      <td>284.0</td>\n",
       "      <td>1262.0</td>\n",
       "    </tr>\n",
       "    <tr>\n",
       "      <th>3</th>\n",
       "      <td>486.0</td>\n",
       "      <td>0.0</td>\n",
       "      <td>434.0</td>\n",
       "      <td>920.0</td>\n",
       "    </tr>\n",
       "    <tr>\n",
       "      <th>4</th>\n",
       "      <td>216.0</td>\n",
       "      <td>0.0</td>\n",
       "      <td>540.0</td>\n",
       "      <td>756.0</td>\n",
       "    </tr>\n",
       "    <tr>\n",
       "      <th>5</th>\n",
       "      <td>655.0</td>\n",
       "      <td>0.0</td>\n",
       "      <td>490.0</td>\n",
       "      <td>1145.0</td>\n",
       "    </tr>\n",
       "    <tr>\n",
       "      <th>...</th>\n",
       "      <td>...</td>\n",
       "      <td>...</td>\n",
       "      <td>...</td>\n",
       "      <td>...</td>\n",
       "    </tr>\n",
       "    <tr>\n",
       "      <th>2915</th>\n",
       "      <td>0.0</td>\n",
       "      <td>0.0</td>\n",
       "      <td>546.0</td>\n",
       "      <td>546.0</td>\n",
       "    </tr>\n",
       "    <tr>\n",
       "      <th>2916</th>\n",
       "      <td>252.0</td>\n",
       "      <td>0.0</td>\n",
       "      <td>294.0</td>\n",
       "      <td>546.0</td>\n",
       "    </tr>\n",
       "    <tr>\n",
       "      <th>2917</th>\n",
       "      <td>1224.0</td>\n",
       "      <td>0.0</td>\n",
       "      <td>0.0</td>\n",
       "      <td>1224.0</td>\n",
       "    </tr>\n",
       "    <tr>\n",
       "      <th>2918</th>\n",
       "      <td>337.0</td>\n",
       "      <td>0.0</td>\n",
       "      <td>575.0</td>\n",
       "      <td>912.0</td>\n",
       "    </tr>\n",
       "    <tr>\n",
       "      <th>2919</th>\n",
       "      <td>758.0</td>\n",
       "      <td>0.0</td>\n",
       "      <td>238.0</td>\n",
       "      <td>996.0</td>\n",
       "    </tr>\n",
       "  </tbody>\n",
       "</table>\n",
       "<p>2919 rows × 4 columns</p>\n",
       "</div>"
      ],
      "text/plain": [
       "      BsmtFinSF1  BsmtFinSF2  BsmtUnfSF  TotalBsmtSF\n",
       "Id                                                  \n",
       "1          706.0         0.0      150.0        856.0\n",
       "2          978.0         0.0      284.0       1262.0\n",
       "3          486.0         0.0      434.0        920.0\n",
       "4          216.0         0.0      540.0        756.0\n",
       "5          655.0         0.0      490.0       1145.0\n",
       "...          ...         ...        ...          ...\n",
       "2915         0.0         0.0      546.0        546.0\n",
       "2916       252.0         0.0      294.0        546.0\n",
       "2917      1224.0         0.0        0.0       1224.0\n",
       "2918       337.0         0.0      575.0        912.0\n",
       "2919       758.0         0.0      238.0        996.0\n",
       "\n",
       "[2919 rows x 4 columns]"
      ]
     },
     "execution_count": 21,
     "metadata": {},
     "output_type": "execute_result"
    }
   ],
   "source": [
    "concat_df[bsmt_sfs]"
   ]
  },
  {
   "cell_type": "code",
   "execution_count": 22,
   "id": "5f8f4855",
   "metadata": {
    "execution": {
     "iopub.execute_input": "2024-09-10T09:10:45.196210Z",
     "iopub.status.busy": "2024-09-10T09:10:45.195705Z",
     "iopub.status.idle": "2024-09-10T09:10:45.208315Z",
     "shell.execute_reply": "2024-09-10T09:10:45.206297Z"
    },
    "papermill": {
     "duration": 0.053562,
     "end_time": "2024-09-10T09:10:45.211400",
     "exception": false,
     "start_time": "2024-09-10T09:10:45.157838",
     "status": "completed"
    },
    "tags": []
   },
   "outputs": [
    {
     "data": {
      "text/plain": [
       "BsmtFinSF1     1\n",
       "BsmtFinSF2     1\n",
       "BsmtUnfSF      1\n",
       "TotalBsmtSF    1\n",
       "dtype: int64"
      ]
     },
     "execution_count": 22,
     "metadata": {},
     "output_type": "execute_result"
    }
   ],
   "source": [
    "concat_df[bsmt_sfs].isna().sum()"
   ]
  },
  {
   "cell_type": "code",
   "execution_count": 23,
   "id": "023dc607",
   "metadata": {
    "execution": {
     "iopub.execute_input": "2024-09-10T09:10:45.285556Z",
     "iopub.status.busy": "2024-09-10T09:10:45.284111Z",
     "iopub.status.idle": "2024-09-10T09:10:45.295958Z",
     "shell.execute_reply": "2024-09-10T09:10:45.294746Z"
    },
    "papermill": {
     "duration": 0.051686,
     "end_time": "2024-09-10T09:10:45.298945",
     "exception": false,
     "start_time": "2024-09-10T09:10:45.247259",
     "status": "completed"
    },
    "tags": []
   },
   "outputs": [],
   "source": [
    "avg = concat_df[bsmt_sfs].mean()\n",
    "concat_df.fillna({\n",
    "    'BsmtFinSF1': avg.get('BsmtFinSF1'),\n",
    "    'BsmtFinSF2': avg.get('BsmtFinSF2'),\n",
    "    'BsmtUnfSF': avg.get('BsmtUnfSF'),\n",
    "    'TotalBsmtSF': avg.get('TotalBsmtSF')\n",
    "}, inplace=True)"
   ]
  },
  {
   "cell_type": "code",
   "execution_count": 24,
   "id": "bec4bac1",
   "metadata": {
    "execution": {
     "iopub.execute_input": "2024-09-10T09:10:45.371743Z",
     "iopub.status.busy": "2024-09-10T09:10:45.371303Z",
     "iopub.status.idle": "2024-09-10T09:10:45.376608Z",
     "shell.execute_reply": "2024-09-10T09:10:45.375417Z"
    },
    "papermill": {
     "duration": 0.045184,
     "end_time": "2024-09-10T09:10:45.379331",
     "exception": false,
     "start_time": "2024-09-10T09:10:45.334147",
     "status": "completed"
    },
    "tags": []
   },
   "outputs": [],
   "source": [
    "bsmt_sfs.remove('TotalBsmtSF')"
   ]
  },
  {
   "cell_type": "code",
   "execution_count": 25,
   "id": "1131899b",
   "metadata": {
    "execution": {
     "iopub.execute_input": "2024-09-10T09:10:45.451380Z",
     "iopub.status.busy": "2024-09-10T09:10:45.450876Z",
     "iopub.status.idle": "2024-09-10T09:10:45.530474Z",
     "shell.execute_reply": "2024-09-10T09:10:45.529157Z"
    },
    "papermill": {
     "duration": 0.118833,
     "end_time": "2024-09-10T09:10:45.533306",
     "exception": false,
     "start_time": "2024-09-10T09:10:45.414473",
     "status": "completed"
    },
    "tags": []
   },
   "outputs": [
    {
     "data": {
      "text/plain": [
       "Bsmt_Cluster\n",
       "1    704\n",
       "3    651\n",
       "0    473\n",
       "6    330\n",
       "4    321\n",
       "2    290\n",
       "5    150\n",
       "Name: count, dtype: int64"
      ]
     },
     "execution_count": 25,
     "metadata": {},
     "output_type": "execute_result"
    }
   ],
   "source": [
    "kmeans = KMeans(n_clusters=7)\n",
    "concat_df['Bsmt_Cluster'] = kmeans.fit_predict(concat_df[bsmt_sfs])\n",
    "concat_df['Bsmt_Cluster'].value_counts()"
   ]
  },
  {
   "cell_type": "code",
   "execution_count": 26,
   "id": "ca6ccef5",
   "metadata": {
    "execution": {
     "iopub.execute_input": "2024-09-10T09:10:45.606386Z",
     "iopub.status.busy": "2024-09-10T09:10:45.605830Z",
     "iopub.status.idle": "2024-09-10T09:10:45.627992Z",
     "shell.execute_reply": "2024-09-10T09:10:45.626809Z"
    },
    "papermill": {
     "duration": 0.06178,
     "end_time": "2024-09-10T09:10:45.630720",
     "exception": false,
     "start_time": "2024-09-10T09:10:45.568940",
     "status": "completed"
    },
    "tags": []
   },
   "outputs": [
    {
     "data": {
      "text/plain": [
       "3    171445.003021\n",
       "0    173908.130435\n",
       "2    294220.634483\n",
       "1    152913.676966\n",
       "4    227736.539877\n",
       "6    123836.601449\n",
       "5    163353.040541\n",
       "dtype: float64"
      ]
     },
     "execution_count": 26,
     "metadata": {},
     "output_type": "execute_result"
    }
   ],
   "source": [
    "view_avg_of_each('Bsmt_Cluster',target,concat_df)"
   ]
  },
  {
   "cell_type": "markdown",
   "id": "79c72636",
   "metadata": {
    "papermill": {
     "duration": 0.035657,
     "end_time": "2024-09-10T09:10:45.702942",
     "exception": false,
     "start_time": "2024-09-10T09:10:45.667285",
     "status": "completed"
    },
    "tags": []
   },
   "source": [
    "### FloorSF"
   ]
  },
  {
   "cell_type": "code",
   "execution_count": 27,
   "id": "b6bdb603",
   "metadata": {
    "execution": {
     "iopub.execute_input": "2024-09-10T09:10:45.777191Z",
     "iopub.status.busy": "2024-09-10T09:10:45.776719Z",
     "iopub.status.idle": "2024-09-10T09:10:45.782535Z",
     "shell.execute_reply": "2024-09-10T09:10:45.781182Z"
    },
    "papermill": {
     "duration": 0.046252,
     "end_time": "2024-09-10T09:10:45.785195",
     "exception": false,
     "start_time": "2024-09-10T09:10:45.738943",
     "status": "completed"
    },
    "tags": []
   },
   "outputs": [],
   "source": [
    "flr_sfs = ['1stFlrSF','2ndFlrSF','LowQualFinSF','GrLivArea']"
   ]
  },
  {
   "cell_type": "code",
   "execution_count": 28,
   "id": "3944709b",
   "metadata": {
    "execution": {
     "iopub.execute_input": "2024-09-10T09:10:45.858986Z",
     "iopub.status.busy": "2024-09-10T09:10:45.857929Z",
     "iopub.status.idle": "2024-09-10T09:10:45.868200Z",
     "shell.execute_reply": "2024-09-10T09:10:45.867119Z"
    },
    "papermill": {
     "duration": 0.049894,
     "end_time": "2024-09-10T09:10:45.870593",
     "exception": false,
     "start_time": "2024-09-10T09:10:45.820699",
     "status": "completed"
    },
    "tags": []
   },
   "outputs": [
    {
     "data": {
      "text/plain": [
       "1stFlrSF        0\n",
       "2ndFlrSF        0\n",
       "LowQualFinSF    0\n",
       "GrLivArea       0\n",
       "dtype: int64"
      ]
     },
     "execution_count": 28,
     "metadata": {},
     "output_type": "execute_result"
    }
   ],
   "source": [
    "concat_df[flr_sfs].isna().sum()"
   ]
  },
  {
   "cell_type": "code",
   "execution_count": 29,
   "id": "df37141a",
   "metadata": {
    "execution": {
     "iopub.execute_input": "2024-09-10T09:10:45.944715Z",
     "iopub.status.busy": "2024-09-10T09:10:45.944256Z",
     "iopub.status.idle": "2024-09-10T09:10:45.951468Z",
     "shell.execute_reply": "2024-09-10T09:10:45.950158Z"
    },
    "papermill": {
     "duration": 0.047207,
     "end_time": "2024-09-10T09:10:45.954031",
     "exception": false,
     "start_time": "2024-09-10T09:10:45.906824",
     "status": "completed"
    },
    "tags": []
   },
   "outputs": [],
   "source": [
    "flr_sfs.remove('GrLivArea')"
   ]
  },
  {
   "cell_type": "code",
   "execution_count": 30,
   "id": "57714952",
   "metadata": {
    "execution": {
     "iopub.execute_input": "2024-09-10T09:10:46.030456Z",
     "iopub.status.busy": "2024-09-10T09:10:46.029448Z",
     "iopub.status.idle": "2024-09-10T09:10:46.111243Z",
     "shell.execute_reply": "2024-09-10T09:10:46.109854Z"
    },
    "papermill": {
     "duration": 0.121751,
     "end_time": "2024-09-10T09:10:46.113998",
     "exception": false,
     "start_time": "2024-09-10T09:10:45.992247",
     "status": "completed"
    },
    "tags": []
   },
   "outputs": [
    {
     "data": {
      "text/plain": [
       "Flr_Cluster\n",
       "6    632\n",
       "2    550\n",
       "0    509\n",
       "3    480\n",
       "1    459\n",
       "4    208\n",
       "5     81\n",
       "Name: count, dtype: int64"
      ]
     },
     "execution_count": 30,
     "metadata": {},
     "output_type": "execute_result"
    }
   ],
   "source": [
    "kmeans = KMeans(n_clusters=7)\n",
    "concat_df['Flr_Cluster'] = kmeans.fit_predict(concat_df[flr_sfs])\n",
    "concat_df['Flr_Cluster'].value_counts()"
   ]
  },
  {
   "cell_type": "code",
   "execution_count": 31,
   "id": "53a94df1",
   "metadata": {
    "execution": {
     "iopub.execute_input": "2024-09-10T09:10:46.189397Z",
     "iopub.status.busy": "2024-09-10T09:10:46.188945Z",
     "iopub.status.idle": "2024-09-10T09:10:46.211473Z",
     "shell.execute_reply": "2024-09-10T09:10:46.210244Z"
    },
    "papermill": {
     "duration": 0.063173,
     "end_time": "2024-09-10T09:10:46.214226",
     "exception": false,
     "start_time": "2024-09-10T09:10:46.151053",
     "status": "completed"
    },
    "tags": []
   },
   "outputs": [
    {
     "data": {
      "text/plain": [
       "0    194691.740876\n",
       "2    162095.094340\n",
       "3    138846.197248\n",
       "1    234399.811404\n",
       "6    118556.472393\n",
       "4    300122.736364\n",
       "5    319735.128205\n",
       "dtype: float64"
      ]
     },
     "execution_count": 31,
     "metadata": {},
     "output_type": "execute_result"
    }
   ],
   "source": [
    "view_avg_of_each('Flr_Cluster',target,concat_df)"
   ]
  },
  {
   "cell_type": "markdown",
   "id": "db882509",
   "metadata": {
    "papermill": {
     "duration": 0.036329,
     "end_time": "2024-09-10T09:10:46.286914",
     "exception": false,
     "start_time": "2024-09-10T09:10:46.250585",
     "status": "completed"
    },
    "tags": []
   },
   "source": [
    "### GarageCars & GarageArea"
   ]
  },
  {
   "cell_type": "code",
   "execution_count": 32,
   "id": "c610e653",
   "metadata": {
    "execution": {
     "iopub.execute_input": "2024-09-10T09:10:46.362411Z",
     "iopub.status.busy": "2024-09-10T09:10:46.361457Z",
     "iopub.status.idle": "2024-09-10T09:10:46.377658Z",
     "shell.execute_reply": "2024-09-10T09:10:46.376527Z"
    },
    "papermill": {
     "duration": 0.057723,
     "end_time": "2024-09-10T09:10:46.381109",
     "exception": false,
     "start_time": "2024-09-10T09:10:46.323386",
     "status": "completed"
    },
    "tags": []
   },
   "outputs": [
    {
     "data": {
      "text/plain": [
       "GarageCars    1\n",
       "GarageArea    1\n",
       "dtype: int64"
      ]
     },
     "execution_count": 32,
     "metadata": {},
     "output_type": "execute_result"
    }
   ],
   "source": [
    "concat_df[['GarageCars','GarageArea']].isna().sum()"
   ]
  },
  {
   "cell_type": "code",
   "execution_count": 33,
   "id": "421f47b1",
   "metadata": {
    "execution": {
     "iopub.execute_input": "2024-09-10T09:10:46.456425Z",
     "iopub.status.busy": "2024-09-10T09:10:46.455905Z",
     "iopub.status.idle": "2024-09-10T09:10:46.467591Z",
     "shell.execute_reply": "2024-09-10T09:10:46.466284Z"
    },
    "papermill": {
     "duration": 0.05205,
     "end_time": "2024-09-10T09:10:46.470202",
     "exception": false,
     "start_time": "2024-09-10T09:10:46.418152",
     "status": "completed"
    },
    "tags": []
   },
   "outputs": [
    {
     "data": {
      "text/plain": [
       "(2.0, 472.8745716244003)"
      ]
     },
     "execution_count": 33,
     "metadata": {},
     "output_type": "execute_result"
    }
   ],
   "source": [
    "concat_df['GarageCars'].mode().get(0), concat_df['GarageArea'].mean()"
   ]
  },
  {
   "cell_type": "code",
   "execution_count": 34,
   "id": "e420d9f3",
   "metadata": {
    "execution": {
     "iopub.execute_input": "2024-09-10T09:10:46.544943Z",
     "iopub.status.busy": "2024-09-10T09:10:46.543960Z",
     "iopub.status.idle": "2024-09-10T09:10:46.552123Z",
     "shell.execute_reply": "2024-09-10T09:10:46.551109Z"
    },
    "papermill": {
     "duration": 0.048272,
     "end_time": "2024-09-10T09:10:46.554605",
     "exception": false,
     "start_time": "2024-09-10T09:10:46.506333",
     "status": "completed"
    },
    "tags": []
   },
   "outputs": [],
   "source": [
    "concat_df.fillna({\n",
    "    'GarageCars': concat_df['GarageCars'].mode().get(0),\n",
    "    'GarageArea': concat_df['GarageArea'].mean()\n",
    "},inplace=True)"
   ]
  },
  {
   "cell_type": "code",
   "execution_count": 35,
   "id": "a59ecd09",
   "metadata": {
    "execution": {
     "iopub.execute_input": "2024-09-10T09:10:46.629706Z",
     "iopub.status.busy": "2024-09-10T09:10:46.629226Z",
     "iopub.status.idle": "2024-09-10T09:10:46.649934Z",
     "shell.execute_reply": "2024-09-10T09:10:46.648620Z"
    },
    "papermill": {
     "duration": 0.061724,
     "end_time": "2024-09-10T09:10:46.653144",
     "exception": false,
     "start_time": "2024-09-10T09:10:46.591420",
     "status": "completed"
    },
    "tags": []
   },
   "outputs": [
    {
     "data": {
      "text/html": [
       "<div>\n",
       "<style scoped>\n",
       "    .dataframe tbody tr th:only-of-type {\n",
       "        vertical-align: middle;\n",
       "    }\n",
       "\n",
       "    .dataframe tbody tr th {\n",
       "        vertical-align: top;\n",
       "    }\n",
       "\n",
       "    .dataframe thead th {\n",
       "        text-align: right;\n",
       "    }\n",
       "</style>\n",
       "<table border=\"1\" class=\"dataframe\">\n",
       "  <thead>\n",
       "    <tr style=\"text-align: right;\">\n",
       "      <th></th>\n",
       "      <th>GarageCars</th>\n",
       "      <th>GarageArea</th>\n",
       "    </tr>\n",
       "  </thead>\n",
       "  <tbody>\n",
       "    <tr>\n",
       "      <th>count</th>\n",
       "      <td>2919.000000</td>\n",
       "      <td>2919.000000</td>\n",
       "    </tr>\n",
       "    <tr>\n",
       "      <th>mean</th>\n",
       "      <td>1.766701</td>\n",
       "      <td>472.874572</td>\n",
       "    </tr>\n",
       "    <tr>\n",
       "      <th>std</th>\n",
       "      <td>0.761506</td>\n",
       "      <td>215.357904</td>\n",
       "    </tr>\n",
       "    <tr>\n",
       "      <th>min</th>\n",
       "      <td>0.000000</td>\n",
       "      <td>0.000000</td>\n",
       "    </tr>\n",
       "    <tr>\n",
       "      <th>25%</th>\n",
       "      <td>1.000000</td>\n",
       "      <td>320.000000</td>\n",
       "    </tr>\n",
       "    <tr>\n",
       "      <th>50%</th>\n",
       "      <td>2.000000</td>\n",
       "      <td>480.000000</td>\n",
       "    </tr>\n",
       "    <tr>\n",
       "      <th>75%</th>\n",
       "      <td>2.000000</td>\n",
       "      <td>576.000000</td>\n",
       "    </tr>\n",
       "    <tr>\n",
       "      <th>max</th>\n",
       "      <td>5.000000</td>\n",
       "      <td>1488.000000</td>\n",
       "    </tr>\n",
       "  </tbody>\n",
       "</table>\n",
       "</div>"
      ],
      "text/plain": [
       "        GarageCars   GarageArea\n",
       "count  2919.000000  2919.000000\n",
       "mean      1.766701   472.874572\n",
       "std       0.761506   215.357904\n",
       "min       0.000000     0.000000\n",
       "25%       1.000000   320.000000\n",
       "50%       2.000000   480.000000\n",
       "75%       2.000000   576.000000\n",
       "max       5.000000  1488.000000"
      ]
     },
     "execution_count": 35,
     "metadata": {},
     "output_type": "execute_result"
    }
   ],
   "source": [
    "concat_df[['GarageCars','GarageArea']].describe()"
   ]
  },
  {
   "cell_type": "code",
   "execution_count": 36,
   "id": "5379dca3",
   "metadata": {
    "execution": {
     "iopub.execute_input": "2024-09-10T09:10:46.729701Z",
     "iopub.status.busy": "2024-09-10T09:10:46.728736Z",
     "iopub.status.idle": "2024-09-10T09:10:46.789527Z",
     "shell.execute_reply": "2024-09-10T09:10:46.788310Z"
    },
    "papermill": {
     "duration": 0.102259,
     "end_time": "2024-09-10T09:10:46.792455",
     "exception": false,
     "start_time": "2024-09-10T09:10:46.690196",
     "status": "completed"
    },
    "tags": []
   },
   "outputs": [],
   "source": [
    "def get_area_per_car(cars, area):\n",
    "    if cars == 0 or area == 0:\n",
    "        return 0\n",
    "    return area/cars\n",
    "\n",
    "concat_df['Garage_Area_per_Car'] = concat_df[['GarageCars','GarageArea']].apply(lambda x: get_area_per_car(x['GarageCars'],x['GarageArea']),axis=1)"
   ]
  },
  {
   "cell_type": "code",
   "execution_count": 37,
   "id": "a30127c4",
   "metadata": {
    "execution": {
     "iopub.execute_input": "2024-09-10T09:10:46.867755Z",
     "iopub.status.busy": "2024-09-10T09:10:46.867303Z",
     "iopub.status.idle": "2024-09-10T09:10:46.879512Z",
     "shell.execute_reply": "2024-09-10T09:10:46.878416Z"
    },
    "papermill": {
     "duration": 0.052765,
     "end_time": "2024-09-10T09:10:46.881996",
     "exception": false,
     "start_time": "2024-09-10T09:10:46.829231",
     "status": "completed"
    },
    "tags": []
   },
   "outputs": [
    {
     "data": {
      "text/plain": [
       "count    2919.000000\n",
       "mean      257.639056\n",
       "std        85.918497\n",
       "min         0.000000\n",
       "25%       226.583333\n",
       "50%       262.666667\n",
       "75%       294.000000\n",
       "max       924.000000\n",
       "Name: Garage_Area_per_Car, dtype: float64"
      ]
     },
     "execution_count": 37,
     "metadata": {},
     "output_type": "execute_result"
    }
   ],
   "source": [
    "concat_df['Garage_Area_per_Car'].describe()"
   ]
  },
  {
   "cell_type": "markdown",
   "id": "90e2af5b",
   "metadata": {
    "papermill": {
     "duration": 0.036992,
     "end_time": "2024-09-10T09:10:46.955746",
     "exception": false,
     "start_time": "2024-09-10T09:10:46.918754",
     "status": "completed"
    },
    "tags": []
   },
   "source": [
    "### Other SF"
   ]
  },
  {
   "cell_type": "code",
   "execution_count": 38,
   "id": "5fd41ed1",
   "metadata": {
    "execution": {
     "iopub.execute_input": "2024-09-10T09:10:47.032768Z",
     "iopub.status.busy": "2024-09-10T09:10:47.032344Z",
     "iopub.status.idle": "2024-09-10T09:10:47.037679Z",
     "shell.execute_reply": "2024-09-10T09:10:47.036392Z"
    },
    "papermill": {
     "duration": 0.045772,
     "end_time": "2024-09-10T09:10:47.040057",
     "exception": false,
     "start_time": "2024-09-10T09:10:46.994285",
     "status": "completed"
    },
    "tags": []
   },
   "outputs": [],
   "source": [
    "other_sfs = ['WoodDeckSF','OpenPorchSF','EnclosedPorch','3SsnPorch','ScreenPorch','PoolArea']"
   ]
  },
  {
   "cell_type": "code",
   "execution_count": 39,
   "id": "56e43ad2",
   "metadata": {
    "execution": {
     "iopub.execute_input": "2024-09-10T09:10:47.115228Z",
     "iopub.status.busy": "2024-09-10T09:10:47.114773Z",
     "iopub.status.idle": "2024-09-10T09:10:47.124610Z",
     "shell.execute_reply": "2024-09-10T09:10:47.123484Z"
    },
    "papermill": {
     "duration": 0.050851,
     "end_time": "2024-09-10T09:10:47.127139",
     "exception": false,
     "start_time": "2024-09-10T09:10:47.076288",
     "status": "completed"
    },
    "tags": []
   },
   "outputs": [
    {
     "data": {
      "text/plain": [
       "WoodDeckSF       0\n",
       "OpenPorchSF      0\n",
       "EnclosedPorch    0\n",
       "3SsnPorch        0\n",
       "ScreenPorch      0\n",
       "PoolArea         0\n",
       "dtype: int64"
      ]
     },
     "execution_count": 39,
     "metadata": {},
     "output_type": "execute_result"
    }
   ],
   "source": [
    "concat_df[other_sfs].isna().sum()"
   ]
  },
  {
   "cell_type": "code",
   "execution_count": 40,
   "id": "12252047",
   "metadata": {
    "execution": {
     "iopub.execute_input": "2024-09-10T09:10:47.202400Z",
     "iopub.status.busy": "2024-09-10T09:10:47.201965Z",
     "iopub.status.idle": "2024-09-10T09:10:47.325188Z",
     "shell.execute_reply": "2024-09-10T09:10:47.323716Z"
    },
    "papermill": {
     "duration": 0.165298,
     "end_time": "2024-09-10T09:10:47.329190",
     "exception": false,
     "start_time": "2024-09-10T09:10:47.163892",
     "status": "completed"
    },
    "tags": []
   },
   "outputs": [
    {
     "data": {
      "text/plain": [
       "Other_SF_Cluster\n",
       "3    1057\n",
       "1     759\n",
       "5     336\n",
       "6     265\n",
       "0     229\n",
       "4     183\n",
       "2      90\n",
       "Name: count, dtype: int64"
      ]
     },
     "execution_count": 40,
     "metadata": {},
     "output_type": "execute_result"
    }
   ],
   "source": [
    "kmeans = KMeans(n_clusters=7)\n",
    "concat_df['Other_SF_Cluster'] = kmeans.fit_predict(concat_df[other_sfs])\n",
    "concat_df['Other_SF_Cluster'].value_counts()"
   ]
  },
  {
   "cell_type": "code",
   "execution_count": 41,
   "id": "71b51e5f",
   "metadata": {
    "execution": {
     "iopub.execute_input": "2024-09-10T09:10:47.454188Z",
     "iopub.status.busy": "2024-09-10T09:10:47.453761Z",
     "iopub.status.idle": "2024-09-10T09:10:47.472868Z",
     "shell.execute_reply": "2024-09-10T09:10:47.471823Z"
    },
    "papermill": {
     "duration": 0.068114,
     "end_time": "2024-09-10T09:10:47.475220",
     "exception": false,
     "start_time": "2024-09-10T09:10:47.407106",
     "status": "completed"
    },
    "tags": []
   },
   "outputs": [
    {
     "data": {
      "text/plain": [
       "3    152484.423729\n",
       "5    211167.318182\n",
       "6    145455.455882\n",
       "1    204752.840000\n",
       "4    213158.517241\n",
       "0    185013.360360\n",
       "2    235562.227273\n",
       "dtype: float64"
      ]
     },
     "execution_count": 41,
     "metadata": {},
     "output_type": "execute_result"
    }
   ],
   "source": [
    "view_avg_of_each('Other_SF_Cluster',target,concat_df)"
   ]
  },
  {
   "cell_type": "markdown",
   "id": "ec843c46",
   "metadata": {
    "papermill": {
     "duration": 0.036484,
     "end_time": "2024-09-10T09:10:47.548643",
     "exception": false,
     "start_time": "2024-09-10T09:10:47.512159",
     "status": "completed"
    },
    "tags": []
   },
   "source": [
    "## Preprocessing"
   ]
  },
  {
   "cell_type": "markdown",
   "id": "499915ab",
   "metadata": {
    "papermill": {
     "duration": 0.036887,
     "end_time": "2024-09-10T09:10:47.622034",
     "exception": false,
     "start_time": "2024-09-10T09:10:47.585147",
     "status": "completed"
    },
    "tags": []
   },
   "source": [
    "### Impute missing values"
   ]
  },
  {
   "cell_type": "code",
   "execution_count": 42,
   "id": "ec9e1fff",
   "metadata": {
    "execution": {
     "iopub.execute_input": "2024-09-10T09:10:47.697610Z",
     "iopub.status.busy": "2024-09-10T09:10:47.697142Z",
     "iopub.status.idle": "2024-09-10T09:10:47.721584Z",
     "shell.execute_reply": "2024-09-10T09:10:47.720522Z"
    },
    "papermill": {
     "duration": 0.064978,
     "end_time": "2024-09-10T09:10:47.723994",
     "exception": false,
     "start_time": "2024-09-10T09:10:47.659016",
     "status": "completed"
    },
    "tags": []
   },
   "outputs": [
    {
     "data": {
      "text/plain": [
       "MSZoning           4\n",
       "Alley           2721\n",
       "Utilities          2\n",
       "Exterior1st        1\n",
       "Exterior2nd        1\n",
       "MasVnrType      1766\n",
       "MasVnrArea        23\n",
       "BsmtQual          81\n",
       "BsmtCond          82\n",
       "BsmtExposure      82\n",
       "BsmtFinType1      79\n",
       "BsmtFinType2      80\n",
       "Electrical         1\n",
       "BsmtFullBath       2\n",
       "BsmtHalfBath       2\n",
       "KitchenQual        1\n",
       "Functional         2\n",
       "FireplaceQu     1420\n",
       "GarageType       157\n",
       "GarageYrBlt      159\n",
       "GarageFinish     159\n",
       "GarageQual       159\n",
       "GarageCond       159\n",
       "PoolQC          2909\n",
       "Fence           2348\n",
       "MiscFeature     2814\n",
       "SaleType           1\n",
       "SalePrice       1459\n",
       "dtype: int64"
      ]
     },
     "execution_count": 42,
     "metadata": {},
     "output_type": "execute_result"
    }
   ],
   "source": [
    "isna_sr = concat_df.isna().sum()\n",
    "isna_sr[isna_sr>0]"
   ]
  },
  {
   "cell_type": "code",
   "execution_count": 43,
   "id": "7c0533b2",
   "metadata": {
    "execution": {
     "iopub.execute_input": "2024-09-10T09:10:47.801338Z",
     "iopub.status.busy": "2024-09-10T09:10:47.800080Z",
     "iopub.status.idle": "2024-09-10T09:10:47.809367Z",
     "shell.execute_reply": "2024-09-10T09:10:47.808247Z"
    },
    "papermill": {
     "duration": 0.050599,
     "end_time": "2024-09-10T09:10:47.811920",
     "exception": false,
     "start_time": "2024-09-10T09:10:47.761321",
     "status": "completed"
    },
    "tags": []
   },
   "outputs": [],
   "source": [
    "concat_df['GarageYrBlt'] = concat_df['GarageYrBlt'].apply(lambda x: 2020-x if x<2020 else 0)"
   ]
  },
  {
   "cell_type": "code",
   "execution_count": 44,
   "id": "30c0e32b",
   "metadata": {
    "execution": {
     "iopub.execute_input": "2024-09-10T09:10:47.888527Z",
     "iopub.status.busy": "2024-09-10T09:10:47.888058Z",
     "iopub.status.idle": "2024-09-10T09:10:47.894627Z",
     "shell.execute_reply": "2024-09-10T09:10:47.893372Z"
    },
    "papermill": {
     "duration": 0.047668,
     "end_time": "2024-09-10T09:10:47.897263",
     "exception": false,
     "start_time": "2024-09-10T09:10:47.849595",
     "status": "completed"
    },
    "tags": []
   },
   "outputs": [],
   "source": [
    "concat_df['GarageYrBlt'] = concat_df['GarageYrBlt'].astype('int64')"
   ]
  },
  {
   "cell_type": "code",
   "execution_count": 45,
   "id": "3001a06b",
   "metadata": {
    "execution": {
     "iopub.execute_input": "2024-09-10T09:10:47.973631Z",
     "iopub.status.busy": "2024-09-10T09:10:47.973183Z",
     "iopub.status.idle": "2024-09-10T09:10:47.986456Z",
     "shell.execute_reply": "2024-09-10T09:10:47.985347Z"
    },
    "papermill": {
     "duration": 0.054219,
     "end_time": "2024-09-10T09:10:47.988946",
     "exception": false,
     "start_time": "2024-09-10T09:10:47.934727",
     "status": "completed"
    },
    "tags": []
   },
   "outputs": [],
   "source": [
    "imputer = SimpleImputer(strategy='mean')\n",
    "concat_df[['MasVnrArea','GarageYrBlt']] = imputer.fit_transform(concat_df[['MasVnrArea','GarageYrBlt']])"
   ]
  },
  {
   "cell_type": "code",
   "execution_count": 46,
   "id": "ba79e6e3",
   "metadata": {
    "execution": {
     "iopub.execute_input": "2024-09-10T09:10:48.065085Z",
     "iopub.status.busy": "2024-09-10T09:10:48.064655Z",
     "iopub.status.idle": "2024-09-10T09:10:48.102360Z",
     "shell.execute_reply": "2024-09-10T09:10:48.101229Z"
    },
    "papermill": {
     "duration": 0.078975,
     "end_time": "2024-09-10T09:10:48.104973",
     "exception": false,
     "start_time": "2024-09-10T09:10:48.025998",
     "status": "completed"
    },
    "tags": []
   },
   "outputs": [],
   "source": [
    "isna_sr = concat_df.isna().sum()\n",
    "cols = isna_sr[(isna_sr>0) & (isna_sr<10)].index.tolist()\n",
    "imputer = SimpleImputer(strategy='most_frequent')\n",
    "concat_df[cols] = imputer.fit_transform(concat_df[cols])"
   ]
  },
  {
   "cell_type": "code",
   "execution_count": 47,
   "id": "e97cf062",
   "metadata": {
    "execution": {
     "iopub.execute_input": "2024-09-10T09:10:48.181714Z",
     "iopub.status.busy": "2024-09-10T09:10:48.181235Z",
     "iopub.status.idle": "2024-09-10T09:10:48.218846Z",
     "shell.execute_reply": "2024-09-10T09:10:48.217693Z"
    },
    "papermill": {
     "duration": 0.079368,
     "end_time": "2024-09-10T09:10:48.221644",
     "exception": false,
     "start_time": "2024-09-10T09:10:48.142276",
     "status": "completed"
    },
    "tags": []
   },
   "outputs": [],
   "source": [
    "isna_sr = concat_df.isna().sum()\n",
    "cols = isna_sr[isna_sr>0].index.tolist()\n",
    "cols.remove('SalePrice')\n",
    "imputer = SimpleImputer(strategy='constant',fill_value='unk')\n",
    "concat_df[cols] = imputer.fit_transform(concat_df[cols])"
   ]
  },
  {
   "cell_type": "markdown",
   "id": "67cbe8b3",
   "metadata": {
    "papermill": {
     "duration": 0.037326,
     "end_time": "2024-09-10T09:10:48.296118",
     "exception": false,
     "start_time": "2024-09-10T09:10:48.258792",
     "status": "completed"
    },
    "tags": []
   },
   "source": [
    "### Encode cat features"
   ]
  },
  {
   "cell_type": "code",
   "execution_count": 48,
   "id": "2e102c12",
   "metadata": {
    "execution": {
     "iopub.execute_input": "2024-09-10T09:10:48.372675Z",
     "iopub.status.busy": "2024-09-10T09:10:48.372240Z",
     "iopub.status.idle": "2024-09-10T09:10:48.384217Z",
     "shell.execute_reply": "2024-09-10T09:10:48.383247Z"
    },
    "papermill": {
     "duration": 0.053446,
     "end_time": "2024-09-10T09:10:48.386901",
     "exception": false,
     "start_time": "2024-09-10T09:10:48.333455",
     "status": "completed"
    },
    "tags": []
   },
   "outputs": [],
   "source": [
    "cat_features = concat_df.select_dtypes(include='object').columns.tolist()\n",
    "cat_features.append('MSSubClass')"
   ]
  },
  {
   "cell_type": "code",
   "execution_count": 49,
   "id": "b7271043",
   "metadata": {
    "execution": {
     "iopub.execute_input": "2024-09-10T09:10:48.463590Z",
     "iopub.status.busy": "2024-09-10T09:10:48.463127Z",
     "iopub.status.idle": "2024-09-10T09:10:48.470334Z",
     "shell.execute_reply": "2024-09-10T09:10:48.469243Z"
    },
    "papermill": {
     "duration": 0.048522,
     "end_time": "2024-09-10T09:10:48.472679",
     "exception": false,
     "start_time": "2024-09-10T09:10:48.424157",
     "status": "completed"
    },
    "tags": []
   },
   "outputs": [],
   "source": [
    "for col in ['BsmtFullBath','BsmtHalfBath']:\n",
    "    concat_df[col] = concat_df[col].astype('int64')"
   ]
  },
  {
   "cell_type": "code",
   "execution_count": 50,
   "id": "12299f2b",
   "metadata": {
    "execution": {
     "iopub.execute_input": "2024-09-10T09:10:48.549361Z",
     "iopub.status.busy": "2024-09-10T09:10:48.548902Z",
     "iopub.status.idle": "2024-09-10T09:10:48.554088Z",
     "shell.execute_reply": "2024-09-10T09:10:48.553052Z"
    },
    "papermill": {
     "duration": 0.045851,
     "end_time": "2024-09-10T09:10:48.556536",
     "exception": false,
     "start_time": "2024-09-10T09:10:48.510685",
     "status": "completed"
    },
    "tags": []
   },
   "outputs": [],
   "source": [
    "cat_features.remove('BsmtFullBath')\n",
    "cat_features.remove('BsmtHalfBath')"
   ]
  },
  {
   "cell_type": "code",
   "execution_count": 51,
   "id": "f331ac91",
   "metadata": {
    "execution": {
     "iopub.execute_input": "2024-09-10T09:10:48.632137Z",
     "iopub.status.busy": "2024-09-10T09:10:48.631698Z",
     "iopub.status.idle": "2024-09-10T09:10:48.710400Z",
     "shell.execute_reply": "2024-09-10T09:10:48.709268Z"
    },
    "papermill": {
     "duration": 0.119635,
     "end_time": "2024-09-10T09:10:48.713122",
     "exception": false,
     "start_time": "2024-09-10T09:10:48.593487",
     "status": "completed"
    },
    "tags": []
   },
   "outputs": [],
   "source": [
    "encoder = OrdinalEncoder()\n",
    "concat_df[cat_features] = encoder.fit_transform(concat_df[cat_features])"
   ]
  },
  {
   "cell_type": "code",
   "execution_count": 52,
   "id": "79ad1ff2",
   "metadata": {
    "execution": {
     "iopub.execute_input": "2024-09-10T09:10:48.788943Z",
     "iopub.status.busy": "2024-09-10T09:10:48.788503Z",
     "iopub.status.idle": "2024-09-10T09:10:48.807100Z",
     "shell.execute_reply": "2024-09-10T09:10:48.805949Z"
    },
    "papermill": {
     "duration": 0.059914,
     "end_time": "2024-09-10T09:10:48.809828",
     "exception": false,
     "start_time": "2024-09-10T09:10:48.749914",
     "status": "completed"
    },
    "tags": []
   },
   "outputs": [],
   "source": [
    "for f in cat_features:\n",
    "    concat_df[f] = concat_df[f].astype('int64')"
   ]
  },
  {
   "cell_type": "code",
   "execution_count": 53,
   "id": "c4a1e670",
   "metadata": {
    "execution": {
     "iopub.execute_input": "2024-09-10T09:10:48.887555Z",
     "iopub.status.busy": "2024-09-10T09:10:48.887106Z",
     "iopub.status.idle": "2024-09-10T09:10:48.920383Z",
     "shell.execute_reply": "2024-09-10T09:10:48.919179Z"
    },
    "papermill": {
     "duration": 0.074867,
     "end_time": "2024-09-10T09:10:48.923088",
     "exception": false,
     "start_time": "2024-09-10T09:10:48.848221",
     "status": "completed"
    },
    "tags": []
   },
   "outputs": [
    {
     "data": {
      "text/html": [
       "<div>\n",
       "<style scoped>\n",
       "    .dataframe tbody tr th:only-of-type {\n",
       "        vertical-align: middle;\n",
       "    }\n",
       "\n",
       "    .dataframe tbody tr th {\n",
       "        vertical-align: top;\n",
       "    }\n",
       "\n",
       "    .dataframe thead th {\n",
       "        text-align: right;\n",
       "    }\n",
       "</style>\n",
       "<table border=\"1\" class=\"dataframe\">\n",
       "  <thead>\n",
       "    <tr style=\"text-align: right;\">\n",
       "      <th></th>\n",
       "      <th>Id</th>\n",
       "      <th>MSSubClass</th>\n",
       "      <th>MSZoning</th>\n",
       "      <th>LotFrontage</th>\n",
       "      <th>LotArea</th>\n",
       "      <th>Street</th>\n",
       "      <th>Alley</th>\n",
       "      <th>LotShape</th>\n",
       "      <th>LandContour</th>\n",
       "      <th>Utilities</th>\n",
       "      <th>...</th>\n",
       "      <th>SaleType</th>\n",
       "      <th>SaleCondition</th>\n",
       "      <th>SalePrice</th>\n",
       "      <th>LotArea_LotFrontAge_Divide</th>\n",
       "      <th>LotFrontage_LotArea_Cluster</th>\n",
       "      <th>OverallQual_OverallCond_Merge</th>\n",
       "      <th>Bsmt_Cluster</th>\n",
       "      <th>Flr_Cluster</th>\n",
       "      <th>Garage_Area_per_Car</th>\n",
       "      <th>Other_SF_Cluster</th>\n",
       "    </tr>\n",
       "    <tr>\n",
       "      <th>Id</th>\n",
       "      <th></th>\n",
       "      <th></th>\n",
       "      <th></th>\n",
       "      <th></th>\n",
       "      <th></th>\n",
       "      <th></th>\n",
       "      <th></th>\n",
       "      <th></th>\n",
       "      <th></th>\n",
       "      <th></th>\n",
       "      <th></th>\n",
       "      <th></th>\n",
       "      <th></th>\n",
       "      <th></th>\n",
       "      <th></th>\n",
       "      <th></th>\n",
       "      <th></th>\n",
       "      <th></th>\n",
       "      <th></th>\n",
       "      <th></th>\n",
       "      <th></th>\n",
       "    </tr>\n",
       "  </thead>\n",
       "  <tbody>\n",
       "    <tr>\n",
       "      <th>1</th>\n",
       "      <td>1</td>\n",
       "      <td>5</td>\n",
       "      <td>3</td>\n",
       "      <td>65.0</td>\n",
       "      <td>8450</td>\n",
       "      <td>1</td>\n",
       "      <td>2</td>\n",
       "      <td>3</td>\n",
       "      <td>3</td>\n",
       "      <td>0</td>\n",
       "      <td>...</td>\n",
       "      <td>8</td>\n",
       "      <td>4</td>\n",
       "      <td>208500.0</td>\n",
       "      <td>130.000000</td>\n",
       "      <td>0</td>\n",
       "      <td>1</td>\n",
       "      <td>3</td>\n",
       "      <td>0</td>\n",
       "      <td>274.000000</td>\n",
       "      <td>3</td>\n",
       "    </tr>\n",
       "    <tr>\n",
       "      <th>2</th>\n",
       "      <td>2</td>\n",
       "      <td>0</td>\n",
       "      <td>3</td>\n",
       "      <td>80.0</td>\n",
       "      <td>9600</td>\n",
       "      <td>1</td>\n",
       "      <td>2</td>\n",
       "      <td>3</td>\n",
       "      <td>3</td>\n",
       "      <td>0</td>\n",
       "      <td>...</td>\n",
       "      <td>8</td>\n",
       "      <td>4</td>\n",
       "      <td>181500.0</td>\n",
       "      <td>120.000000</td>\n",
       "      <td>0</td>\n",
       "      <td>2</td>\n",
       "      <td>3</td>\n",
       "      <td>2</td>\n",
       "      <td>230.000000</td>\n",
       "      <td>5</td>\n",
       "    </tr>\n",
       "    <tr>\n",
       "      <th>3</th>\n",
       "      <td>3</td>\n",
       "      <td>5</td>\n",
       "      <td>3</td>\n",
       "      <td>68.0</td>\n",
       "      <td>11250</td>\n",
       "      <td>1</td>\n",
       "      <td>2</td>\n",
       "      <td>0</td>\n",
       "      <td>3</td>\n",
       "      <td>0</td>\n",
       "      <td>...</td>\n",
       "      <td>8</td>\n",
       "      <td>4</td>\n",
       "      <td>223500.0</td>\n",
       "      <td>165.441176</td>\n",
       "      <td>3</td>\n",
       "      <td>1</td>\n",
       "      <td>0</td>\n",
       "      <td>0</td>\n",
       "      <td>304.000000</td>\n",
       "      <td>3</td>\n",
       "    </tr>\n",
       "    <tr>\n",
       "      <th>4</th>\n",
       "      <td>4</td>\n",
       "      <td>6</td>\n",
       "      <td>3</td>\n",
       "      <td>60.0</td>\n",
       "      <td>9550</td>\n",
       "      <td>1</td>\n",
       "      <td>2</td>\n",
       "      <td>0</td>\n",
       "      <td>3</td>\n",
       "      <td>0</td>\n",
       "      <td>...</td>\n",
       "      <td>8</td>\n",
       "      <td>0</td>\n",
       "      <td>140000.0</td>\n",
       "      <td>159.166667</td>\n",
       "      <td>0</td>\n",
       "      <td>1</td>\n",
       "      <td>0</td>\n",
       "      <td>0</td>\n",
       "      <td>214.000000</td>\n",
       "      <td>6</td>\n",
       "    </tr>\n",
       "    <tr>\n",
       "      <th>5</th>\n",
       "      <td>5</td>\n",
       "      <td>5</td>\n",
       "      <td>3</td>\n",
       "      <td>84.0</td>\n",
       "      <td>14260</td>\n",
       "      <td>1</td>\n",
       "      <td>2</td>\n",
       "      <td>0</td>\n",
       "      <td>3</td>\n",
       "      <td>0</td>\n",
       "      <td>...</td>\n",
       "      <td>8</td>\n",
       "      <td>4</td>\n",
       "      <td>250000.0</td>\n",
       "      <td>169.761905</td>\n",
       "      <td>3</td>\n",
       "      <td>1</td>\n",
       "      <td>0</td>\n",
       "      <td>0</td>\n",
       "      <td>278.666667</td>\n",
       "      <td>1</td>\n",
       "    </tr>\n",
       "    <tr>\n",
       "      <th>...</th>\n",
       "      <td>...</td>\n",
       "      <td>...</td>\n",
       "      <td>...</td>\n",
       "      <td>...</td>\n",
       "      <td>...</td>\n",
       "      <td>...</td>\n",
       "      <td>...</td>\n",
       "      <td>...</td>\n",
       "      <td>...</td>\n",
       "      <td>...</td>\n",
       "      <td>...</td>\n",
       "      <td>...</td>\n",
       "      <td>...</td>\n",
       "      <td>...</td>\n",
       "      <td>...</td>\n",
       "      <td>...</td>\n",
       "      <td>...</td>\n",
       "      <td>...</td>\n",
       "      <td>...</td>\n",
       "      <td>...</td>\n",
       "      <td>...</td>\n",
       "    </tr>\n",
       "    <tr>\n",
       "      <th>2915</th>\n",
       "      <td>2915</td>\n",
       "      <td>13</td>\n",
       "      <td>4</td>\n",
       "      <td>21.0</td>\n",
       "      <td>1936</td>\n",
       "      <td>1</td>\n",
       "      <td>2</td>\n",
       "      <td>3</td>\n",
       "      <td>3</td>\n",
       "      <td>0</td>\n",
       "      <td>...</td>\n",
       "      <td>8</td>\n",
       "      <td>4</td>\n",
       "      <td>NaN</td>\n",
       "      <td>92.190476</td>\n",
       "      <td>4</td>\n",
       "      <td>1</td>\n",
       "      <td>1</td>\n",
       "      <td>3</td>\n",
       "      <td>0.000000</td>\n",
       "      <td>3</td>\n",
       "    </tr>\n",
       "    <tr>\n",
       "      <th>2916</th>\n",
       "      <td>2916</td>\n",
       "      <td>13</td>\n",
       "      <td>4</td>\n",
       "      <td>21.0</td>\n",
       "      <td>1894</td>\n",
       "      <td>1</td>\n",
       "      <td>2</td>\n",
       "      <td>3</td>\n",
       "      <td>3</td>\n",
       "      <td>0</td>\n",
       "      <td>...</td>\n",
       "      <td>8</td>\n",
       "      <td>0</td>\n",
       "      <td>NaN</td>\n",
       "      <td>90.190476</td>\n",
       "      <td>4</td>\n",
       "      <td>1</td>\n",
       "      <td>6</td>\n",
       "      <td>3</td>\n",
       "      <td>286.000000</td>\n",
       "      <td>3</td>\n",
       "    </tr>\n",
       "    <tr>\n",
       "      <th>2917</th>\n",
       "      <td>2917</td>\n",
       "      <td>0</td>\n",
       "      <td>3</td>\n",
       "      <td>160.0</td>\n",
       "      <td>20000</td>\n",
       "      <td>1</td>\n",
       "      <td>2</td>\n",
       "      <td>3</td>\n",
       "      <td>3</td>\n",
       "      <td>0</td>\n",
       "      <td>...</td>\n",
       "      <td>8</td>\n",
       "      <td>0</td>\n",
       "      <td>NaN</td>\n",
       "      <td>125.000000</td>\n",
       "      <td>5</td>\n",
       "      <td>1</td>\n",
       "      <td>2</td>\n",
       "      <td>2</td>\n",
       "      <td>288.000000</td>\n",
       "      <td>2</td>\n",
       "    </tr>\n",
       "    <tr>\n",
       "      <th>2918</th>\n",
       "      <td>2918</td>\n",
       "      <td>9</td>\n",
       "      <td>3</td>\n",
       "      <td>62.0</td>\n",
       "      <td>10441</td>\n",
       "      <td>1</td>\n",
       "      <td>2</td>\n",
       "      <td>3</td>\n",
       "      <td>3</td>\n",
       "      <td>0</td>\n",
       "      <td>...</td>\n",
       "      <td>8</td>\n",
       "      <td>4</td>\n",
       "      <td>NaN</td>\n",
       "      <td>168.403226</td>\n",
       "      <td>0</td>\n",
       "      <td>1</td>\n",
       "      <td>0</td>\n",
       "      <td>6</td>\n",
       "      <td>0.000000</td>\n",
       "      <td>1</td>\n",
       "    </tr>\n",
       "    <tr>\n",
       "      <th>2919</th>\n",
       "      <td>2919</td>\n",
       "      <td>5</td>\n",
       "      <td>3</td>\n",
       "      <td>74.0</td>\n",
       "      <td>9627</td>\n",
       "      <td>1</td>\n",
       "      <td>2</td>\n",
       "      <td>3</td>\n",
       "      <td>3</td>\n",
       "      <td>0</td>\n",
       "      <td>...</td>\n",
       "      <td>8</td>\n",
       "      <td>4</td>\n",
       "      <td>NaN</td>\n",
       "      <td>130.094595</td>\n",
       "      <td>0</td>\n",
       "      <td>1</td>\n",
       "      <td>3</td>\n",
       "      <td>0</td>\n",
       "      <td>216.666667</td>\n",
       "      <td>1</td>\n",
       "    </tr>\n",
       "  </tbody>\n",
       "</table>\n",
       "<p>2919 rows × 88 columns</p>\n",
       "</div>"
      ],
      "text/plain": [
       "        Id  MSSubClass  MSZoning  LotFrontage  LotArea  Street  Alley  \\\n",
       "Id                                                                      \n",
       "1        1           5         3         65.0     8450       1      2   \n",
       "2        2           0         3         80.0     9600       1      2   \n",
       "3        3           5         3         68.0    11250       1      2   \n",
       "4        4           6         3         60.0     9550       1      2   \n",
       "5        5           5         3         84.0    14260       1      2   \n",
       "...    ...         ...       ...          ...      ...     ...    ...   \n",
       "2915  2915          13         4         21.0     1936       1      2   \n",
       "2916  2916          13         4         21.0     1894       1      2   \n",
       "2917  2917           0         3        160.0    20000       1      2   \n",
       "2918  2918           9         3         62.0    10441       1      2   \n",
       "2919  2919           5         3         74.0     9627       1      2   \n",
       "\n",
       "      LotShape  LandContour  Utilities  ...  SaleType  SaleCondition  \\\n",
       "Id                                      ...                            \n",
       "1            3            3          0  ...         8              4   \n",
       "2            3            3          0  ...         8              4   \n",
       "3            0            3          0  ...         8              4   \n",
       "4            0            3          0  ...         8              0   \n",
       "5            0            3          0  ...         8              4   \n",
       "...        ...          ...        ...  ...       ...            ...   \n",
       "2915         3            3          0  ...         8              4   \n",
       "2916         3            3          0  ...         8              0   \n",
       "2917         3            3          0  ...         8              0   \n",
       "2918         3            3          0  ...         8              4   \n",
       "2919         3            3          0  ...         8              4   \n",
       "\n",
       "      SalePrice  LotArea_LotFrontAge_Divide  LotFrontage_LotArea_Cluster  \\\n",
       "Id                                                                         \n",
       "1      208500.0                  130.000000                            0   \n",
       "2      181500.0                  120.000000                            0   \n",
       "3      223500.0                  165.441176                            3   \n",
       "4      140000.0                  159.166667                            0   \n",
       "5      250000.0                  169.761905                            3   \n",
       "...         ...                         ...                          ...   \n",
       "2915        NaN                   92.190476                            4   \n",
       "2916        NaN                   90.190476                            4   \n",
       "2917        NaN                  125.000000                            5   \n",
       "2918        NaN                  168.403226                            0   \n",
       "2919        NaN                  130.094595                            0   \n",
       "\n",
       "      OverallQual_OverallCond_Merge  Bsmt_Cluster  Flr_Cluster  \\\n",
       "Id                                                               \n",
       "1                                 1             3            0   \n",
       "2                                 2             3            2   \n",
       "3                                 1             0            0   \n",
       "4                                 1             0            0   \n",
       "5                                 1             0            0   \n",
       "...                             ...           ...          ...   \n",
       "2915                              1             1            3   \n",
       "2916                              1             6            3   \n",
       "2917                              1             2            2   \n",
       "2918                              1             0            6   \n",
       "2919                              1             3            0   \n",
       "\n",
       "      Garage_Area_per_Car  Other_SF_Cluster  \n",
       "Id                                           \n",
       "1              274.000000                 3  \n",
       "2              230.000000                 5  \n",
       "3              304.000000                 3  \n",
       "4              214.000000                 6  \n",
       "5              278.666667                 1  \n",
       "...                   ...               ...  \n",
       "2915             0.000000                 3  \n",
       "2916           286.000000                 3  \n",
       "2917           288.000000                 2  \n",
       "2918             0.000000                 1  \n",
       "2919           216.666667                 1  \n",
       "\n",
       "[2919 rows x 88 columns]"
      ]
     },
     "execution_count": 53,
     "metadata": {},
     "output_type": "execute_result"
    }
   ],
   "source": [
    "concat_df"
   ]
  },
  {
   "cell_type": "code",
   "execution_count": 54,
   "id": "9b1edfd9",
   "metadata": {
    "execution": {
     "iopub.execute_input": "2024-09-10T09:10:49.003207Z",
     "iopub.status.busy": "2024-09-10T09:10:49.002111Z",
     "iopub.status.idle": "2024-09-10T09:10:49.010047Z",
     "shell.execute_reply": "2024-09-10T09:10:49.008954Z"
    },
    "papermill": {
     "duration": 0.051522,
     "end_time": "2024-09-10T09:10:49.012621",
     "exception": false,
     "start_time": "2024-09-10T09:10:48.961099",
     "status": "completed"
    },
    "tags": []
   },
   "outputs": [
    {
     "data": {
      "text/plain": [
       "86"
      ]
     },
     "execution_count": 54,
     "metadata": {},
     "output_type": "execute_result"
    }
   ],
   "source": [
    "input_cols = concat_df.columns.tolist()\n",
    "input_cols.remove('Id')\n",
    "input_cols.remove('SalePrice')\n",
    "len(input_cols)"
   ]
  },
  {
   "cell_type": "markdown",
   "id": "e91bbdb9",
   "metadata": {
    "papermill": {
     "duration": 0.037725,
     "end_time": "2024-09-10T09:10:49.088455",
     "exception": false,
     "start_time": "2024-09-10T09:10:49.050730",
     "status": "completed"
    },
    "tags": []
   },
   "source": [
    "### Scale"
   ]
  },
  {
   "cell_type": "code",
   "execution_count": 55,
   "id": "64cb714f",
   "metadata": {
    "execution": {
     "iopub.execute_input": "2024-09-10T09:10:49.167314Z",
     "iopub.status.busy": "2024-09-10T09:10:49.166147Z",
     "iopub.status.idle": "2024-09-10T09:10:49.175200Z",
     "shell.execute_reply": "2024-09-10T09:10:49.174092Z"
    },
    "papermill": {
     "duration": 0.050852,
     "end_time": "2024-09-10T09:10:49.177658",
     "exception": false,
     "start_time": "2024-09-10T09:10:49.126806",
     "status": "completed"
    },
    "tags": []
   },
   "outputs": [
    {
     "data": {
      "text/plain": [
       "25"
      ]
     },
     "execution_count": 55,
     "metadata": {},
     "output_type": "execute_result"
    }
   ],
   "source": [
    "scale_cols = ['LotFrontage','LotArea','MasVnrArea','BsmtFinSF1','BsmtFinSF2',\n",
    "              'BsmtUnfSF','TotalBsmtSF','1stFlrSF','2ndFlrSF','LowQualFinSF',\n",
    "              'GrLivArea','GarageYrBlt','GarageArea','WoodDeckSF','OpenPorchSF',\n",
    "              'EnclosedPorch','3SsnPorch','ScreenPorch','PoolArea','MiscVal',\n",
    "              'YrSold','LotArea_LotFrontAge_Divide','Garage_Area_per_Car',\n",
    "              'YearBuilt','YearRemodAdd']\n",
    "len(scale_cols)"
   ]
  },
  {
   "cell_type": "code",
   "execution_count": 56,
   "id": "043f53f9",
   "metadata": {
    "execution": {
     "iopub.execute_input": "2024-09-10T09:10:49.258227Z",
     "iopub.status.busy": "2024-09-10T09:10:49.257757Z",
     "iopub.status.idle": "2024-09-10T09:10:49.272293Z",
     "shell.execute_reply": "2024-09-10T09:10:49.271246Z"
    },
    "papermill": {
     "duration": 0.058788,
     "end_time": "2024-09-10T09:10:49.274789",
     "exception": false,
     "start_time": "2024-09-10T09:10:49.216001",
     "status": "completed"
    },
    "tags": []
   },
   "outputs": [
    {
     "data": {
      "text/html": [
       "<style>#sk-container-id-1 {color: black;background-color: white;}#sk-container-id-1 pre{padding: 0;}#sk-container-id-1 div.sk-toggleable {background-color: white;}#sk-container-id-1 label.sk-toggleable__label {cursor: pointer;display: block;width: 100%;margin-bottom: 0;padding: 0.3em;box-sizing: border-box;text-align: center;}#sk-container-id-1 label.sk-toggleable__label-arrow:before {content: \"▸\";float: left;margin-right: 0.25em;color: #696969;}#sk-container-id-1 label.sk-toggleable__label-arrow:hover:before {color: black;}#sk-container-id-1 div.sk-estimator:hover label.sk-toggleable__label-arrow:before {color: black;}#sk-container-id-1 div.sk-toggleable__content {max-height: 0;max-width: 0;overflow: hidden;text-align: left;background-color: #f0f8ff;}#sk-container-id-1 div.sk-toggleable__content pre {margin: 0.2em;color: black;border-radius: 0.25em;background-color: #f0f8ff;}#sk-container-id-1 input.sk-toggleable__control:checked~div.sk-toggleable__content {max-height: 200px;max-width: 100%;overflow: auto;}#sk-container-id-1 input.sk-toggleable__control:checked~label.sk-toggleable__label-arrow:before {content: \"▾\";}#sk-container-id-1 div.sk-estimator input.sk-toggleable__control:checked~label.sk-toggleable__label {background-color: #d4ebff;}#sk-container-id-1 div.sk-label input.sk-toggleable__control:checked~label.sk-toggleable__label {background-color: #d4ebff;}#sk-container-id-1 input.sk-hidden--visually {border: 0;clip: rect(1px 1px 1px 1px);clip: rect(1px, 1px, 1px, 1px);height: 1px;margin: -1px;overflow: hidden;padding: 0;position: absolute;width: 1px;}#sk-container-id-1 div.sk-estimator {font-family: monospace;background-color: #f0f8ff;border: 1px dotted black;border-radius: 0.25em;box-sizing: border-box;margin-bottom: 0.5em;}#sk-container-id-1 div.sk-estimator:hover {background-color: #d4ebff;}#sk-container-id-1 div.sk-parallel-item::after {content: \"\";width: 100%;border-bottom: 1px solid gray;flex-grow: 1;}#sk-container-id-1 div.sk-label:hover label.sk-toggleable__label {background-color: #d4ebff;}#sk-container-id-1 div.sk-serial::before {content: \"\";position: absolute;border-left: 1px solid gray;box-sizing: border-box;top: 0;bottom: 0;left: 50%;z-index: 0;}#sk-container-id-1 div.sk-serial {display: flex;flex-direction: column;align-items: center;background-color: white;padding-right: 0.2em;padding-left: 0.2em;position: relative;}#sk-container-id-1 div.sk-item {position: relative;z-index: 1;}#sk-container-id-1 div.sk-parallel {display: flex;align-items: stretch;justify-content: center;background-color: white;position: relative;}#sk-container-id-1 div.sk-item::before, #sk-container-id-1 div.sk-parallel-item::before {content: \"\";position: absolute;border-left: 1px solid gray;box-sizing: border-box;top: 0;bottom: 0;left: 50%;z-index: -1;}#sk-container-id-1 div.sk-parallel-item {display: flex;flex-direction: column;z-index: 1;position: relative;background-color: white;}#sk-container-id-1 div.sk-parallel-item:first-child::after {align-self: flex-end;width: 50%;}#sk-container-id-1 div.sk-parallel-item:last-child::after {align-self: flex-start;width: 50%;}#sk-container-id-1 div.sk-parallel-item:only-child::after {width: 0;}#sk-container-id-1 div.sk-dashed-wrapped {border: 1px dashed gray;margin: 0 0.4em 0.5em 0.4em;box-sizing: border-box;padding-bottom: 0.4em;background-color: white;}#sk-container-id-1 div.sk-label label {font-family: monospace;font-weight: bold;display: inline-block;line-height: 1.2em;}#sk-container-id-1 div.sk-label-container {text-align: center;}#sk-container-id-1 div.sk-container {/* jupyter's `normalize.less` sets `[hidden] { display: none; }` but bootstrap.min.css set `[hidden] { display: none !important; }` so we also need the `!important` here to be able to override the default hidden behavior on the sphinx rendered scikit-learn.org. See: https://github.com/scikit-learn/scikit-learn/issues/21755 */display: inline-block !important;position: relative;}#sk-container-id-1 div.sk-text-repr-fallback {display: none;}</style><div id=\"sk-container-id-1\" class=\"sk-top-container\"><div class=\"sk-text-repr-fallback\"><pre>MinMaxScaler(feature_range=(0, 7))</pre><b>In a Jupyter environment, please rerun this cell to show the HTML representation or trust the notebook. <br />On GitHub, the HTML representation is unable to render, please try loading this page with nbviewer.org.</b></div><div class=\"sk-container\" hidden><div class=\"sk-item\"><div class=\"sk-estimator sk-toggleable\"><input class=\"sk-toggleable__control sk-hidden--visually\" id=\"sk-estimator-id-1\" type=\"checkbox\" checked><label for=\"sk-estimator-id-1\" class=\"sk-toggleable__label sk-toggleable__label-arrow\">MinMaxScaler</label><div class=\"sk-toggleable__content\"><pre>MinMaxScaler(feature_range=(0, 7))</pre></div></div></div></div></div>"
      ],
      "text/plain": [
       "MinMaxScaler(feature_range=(0, 7))"
      ]
     },
     "execution_count": 56,
     "metadata": {},
     "output_type": "execute_result"
    }
   ],
   "source": [
    "scaler = MinMaxScaler(feature_range=(0,7))\n",
    "scaler.fit(concat_df[scale_cols])"
   ]
  },
  {
   "cell_type": "code",
   "execution_count": 57,
   "id": "814a46e9",
   "metadata": {
    "execution": {
     "iopub.execute_input": "2024-09-10T09:10:49.353356Z",
     "iopub.status.busy": "2024-09-10T09:10:49.352887Z",
     "iopub.status.idle": "2024-09-10T09:10:49.366198Z",
     "shell.execute_reply": "2024-09-10T09:10:49.365160Z"
    },
    "papermill": {
     "duration": 0.055473,
     "end_time": "2024-09-10T09:10:49.368814",
     "exception": false,
     "start_time": "2024-09-10T09:10:49.313341",
     "status": "completed"
    },
    "tags": []
   },
   "outputs": [],
   "source": [
    "concat_df[scale_cols] = scaler.transform(concat_df[scale_cols])"
   ]
  },
  {
   "cell_type": "markdown",
   "id": "82b9a8e1",
   "metadata": {
    "papermill": {
     "duration": 0.038147,
     "end_time": "2024-09-10T09:10:49.445302",
     "exception": false,
     "start_time": "2024-09-10T09:10:49.407155",
     "status": "completed"
    },
    "tags": []
   },
   "source": [
    "### Split raw and test, view mutual info"
   ]
  },
  {
   "cell_type": "code",
   "execution_count": 58,
   "id": "aa139526",
   "metadata": {
    "execution": {
     "iopub.execute_input": "2024-09-10T09:10:49.524026Z",
     "iopub.status.busy": "2024-09-10T09:10:49.523008Z",
     "iopub.status.idle": "2024-09-10T09:10:49.528700Z",
     "shell.execute_reply": "2024-09-10T09:10:49.527523Z"
    },
    "papermill": {
     "duration": 0.047828,
     "end_time": "2024-09-10T09:10:49.531075",
     "exception": false,
     "start_time": "2024-09-10T09:10:49.483247",
     "status": "completed"
    },
    "tags": []
   },
   "outputs": [],
   "source": [
    "raw_max_idx = raw_df['Id'].max()"
   ]
  },
  {
   "cell_type": "code",
   "execution_count": 59,
   "id": "67cce1fb",
   "metadata": {
    "execution": {
     "iopub.execute_input": "2024-09-10T09:10:49.609564Z",
     "iopub.status.busy": "2024-09-10T09:10:49.609101Z",
     "iopub.status.idle": "2024-09-10T09:10:49.629497Z",
     "shell.execute_reply": "2024-09-10T09:10:49.628356Z"
    },
    "papermill": {
     "duration": 0.062866,
     "end_time": "2024-09-10T09:10:49.632293",
     "exception": false,
     "start_time": "2024-09-10T09:10:49.569427",
     "status": "completed"
    },
    "tags": []
   },
   "outputs": [],
   "source": [
    "raw_df = concat_df[concat_df['Id']<=raw_max_idx].copy()\n",
    "test_df = concat_df[concat_df['Id']>raw_max_idx].copy()"
   ]
  },
  {
   "cell_type": "code",
   "execution_count": 60,
   "id": "8435ba32",
   "metadata": {
    "execution": {
     "iopub.execute_input": "2024-09-10T09:10:49.710933Z",
     "iopub.status.busy": "2024-09-10T09:10:49.710507Z",
     "iopub.status.idle": "2024-09-10T09:10:49.717603Z",
     "shell.execute_reply": "2024-09-10T09:10:49.716636Z"
    },
    "papermill": {
     "duration": 0.048923,
     "end_time": "2024-09-10T09:10:49.719918",
     "exception": false,
     "start_time": "2024-09-10T09:10:49.670995",
     "status": "completed"
    },
    "tags": []
   },
   "outputs": [],
   "source": [
    "inputs, targets = raw_df[input_cols], raw_df[target].astype('int64')"
   ]
  },
  {
   "cell_type": "code",
   "execution_count": 61,
   "id": "c1eb1b9f",
   "metadata": {
    "execution": {
     "iopub.execute_input": "2024-09-10T09:10:49.799081Z",
     "iopub.status.busy": "2024-09-10T09:10:49.798021Z",
     "iopub.status.idle": "2024-09-10T09:11:08.017589Z",
     "shell.execute_reply": "2024-09-10T09:11:08.016471Z"
    },
    "papermill": {
     "duration": 18.262326,
     "end_time": "2024-09-10T09:11:08.020337",
     "exception": false,
     "start_time": "2024-09-10T09:10:49.758011",
     "status": "completed"
    },
    "tags": []
   },
   "outputs": [
    {
     "name": "stdout",
     "output_type": "stream",
     "text": [
      "CPU times: user 17.3 s, sys: 904 ms, total: 18.2 s\n",
      "Wall time: 18.2 s\n"
     ]
    }
   ],
   "source": [
    "%%time\n",
    "mutual_info = mutual_info_classif(inputs, targets, random_state=42)\n",
    "mutual_info = pd.Series(mutual_info)\n",
    "mutual_info.index = inputs.columns\n",
    "mutual_info = pd.DataFrame(mutual_info.sort_values(ascending=False), columns = [\"Numerical_Feature_MI\"] )"
   ]
  },
  {
   "cell_type": "code",
   "execution_count": 62,
   "id": "05e8b0cc",
   "metadata": {
    "execution": {
     "iopub.execute_input": "2024-09-10T09:11:08.101126Z",
     "iopub.status.busy": "2024-09-10T09:11:08.100683Z",
     "iopub.status.idle": "2024-09-10T09:11:08.111839Z",
     "shell.execute_reply": "2024-09-10T09:11:08.110723Z"
    },
    "papermill": {
     "duration": 0.055442,
     "end_time": "2024-09-10T09:11:08.114791",
     "exception": false,
     "start_time": "2024-09-10T09:11:08.059349",
     "status": "completed"
    },
    "tags": []
   },
   "outputs": [
    {
     "data": {
      "text/html": [
       "<div>\n",
       "<style scoped>\n",
       "    .dataframe tbody tr th:only-of-type {\n",
       "        vertical-align: middle;\n",
       "    }\n",
       "\n",
       "    .dataframe tbody tr th {\n",
       "        vertical-align: top;\n",
       "    }\n",
       "\n",
       "    .dataframe thead th {\n",
       "        text-align: right;\n",
       "    }\n",
       "</style>\n",
       "<table border=\"1\" class=\"dataframe\">\n",
       "  <thead>\n",
       "    <tr style=\"text-align: right;\">\n",
       "      <th></th>\n",
       "      <th>Numerical_Feature_MI</th>\n",
       "    </tr>\n",
       "  </thead>\n",
       "  <tbody>\n",
       "    <tr>\n",
       "      <th>PoolQC</th>\n",
       "      <td>3.255945</td>\n",
       "    </tr>\n",
       "    <tr>\n",
       "      <th>RoofMatl</th>\n",
       "      <td>3.144530</td>\n",
       "    </tr>\n",
       "    <tr>\n",
       "      <th>Condition2</th>\n",
       "      <td>3.058057</td>\n",
       "    </tr>\n",
       "    <tr>\n",
       "      <th>MiscFeature</th>\n",
       "      <td>3.003508</td>\n",
       "    </tr>\n",
       "    <tr>\n",
       "      <th>Street</th>\n",
       "      <td>2.980583</td>\n",
       "    </tr>\n",
       "    <tr>\n",
       "      <th>KitchenAbvGr</th>\n",
       "      <td>2.861980</td>\n",
       "    </tr>\n",
       "    <tr>\n",
       "      <th>Alley</th>\n",
       "      <td>2.856693</td>\n",
       "    </tr>\n",
       "    <tr>\n",
       "      <th>Heating</th>\n",
       "      <td>2.830507</td>\n",
       "    </tr>\n",
       "  </tbody>\n",
       "</table>\n",
       "</div>"
      ],
      "text/plain": [
       "              Numerical_Feature_MI\n",
       "PoolQC                    3.255945\n",
       "RoofMatl                  3.144530\n",
       "Condition2                3.058057\n",
       "MiscFeature               3.003508\n",
       "Street                    2.980583\n",
       "KitchenAbvGr              2.861980\n",
       "Alley                     2.856693\n",
       "Heating                   2.830507"
      ]
     },
     "execution_count": 62,
     "metadata": {},
     "output_type": "execute_result"
    }
   ],
   "source": [
    "mutual_info.head(8)"
   ]
  },
  {
   "cell_type": "code",
   "execution_count": 63,
   "id": "2d180e34",
   "metadata": {
    "execution": {
     "iopub.execute_input": "2024-09-10T09:11:08.196083Z",
     "iopub.status.busy": "2024-09-10T09:11:08.195081Z",
     "iopub.status.idle": "2024-09-10T09:11:08.206036Z",
     "shell.execute_reply": "2024-09-10T09:11:08.205051Z"
    },
    "papermill": {
     "duration": 0.05375,
     "end_time": "2024-09-10T09:11:08.208347",
     "exception": false,
     "start_time": "2024-09-10T09:11:08.154597",
     "status": "completed"
    },
    "tags": []
   },
   "outputs": [
    {
     "data": {
      "text/html": [
       "<div>\n",
       "<style scoped>\n",
       "    .dataframe tbody tr th:only-of-type {\n",
       "        vertical-align: middle;\n",
       "    }\n",
       "\n",
       "    .dataframe tbody tr th {\n",
       "        vertical-align: top;\n",
       "    }\n",
       "\n",
       "    .dataframe thead th {\n",
       "        text-align: right;\n",
       "    }\n",
       "</style>\n",
       "<table border=\"1\" class=\"dataframe\">\n",
       "  <thead>\n",
       "    <tr style=\"text-align: right;\">\n",
       "      <th></th>\n",
       "      <th>Numerical_Feature_MI</th>\n",
       "    </tr>\n",
       "  </thead>\n",
       "  <tbody>\n",
       "    <tr>\n",
       "      <th>BsmtUnfSF</th>\n",
       "      <td>0.015068</td>\n",
       "    </tr>\n",
       "    <tr>\n",
       "      <th>BsmtFinSF2</th>\n",
       "      <td>0.014392</td>\n",
       "    </tr>\n",
       "    <tr>\n",
       "      <th>PoolArea</th>\n",
       "      <td>0.014189</td>\n",
       "    </tr>\n",
       "    <tr>\n",
       "      <th>LowQualFinSF</th>\n",
       "      <td>0.001124</td>\n",
       "    </tr>\n",
       "    <tr>\n",
       "      <th>ScreenPorch</th>\n",
       "      <td>0.000000</td>\n",
       "    </tr>\n",
       "    <tr>\n",
       "      <th>LandSlope</th>\n",
       "      <td>0.000000</td>\n",
       "    </tr>\n",
       "    <tr>\n",
       "      <th>Utilities</th>\n",
       "      <td>0.000000</td>\n",
       "    </tr>\n",
       "    <tr>\n",
       "      <th>BldgType</th>\n",
       "      <td>0.000000</td>\n",
       "    </tr>\n",
       "  </tbody>\n",
       "</table>\n",
       "</div>"
      ],
      "text/plain": [
       "              Numerical_Feature_MI\n",
       "BsmtUnfSF                 0.015068\n",
       "BsmtFinSF2                0.014392\n",
       "PoolArea                  0.014189\n",
       "LowQualFinSF              0.001124\n",
       "ScreenPorch               0.000000\n",
       "LandSlope                 0.000000\n",
       "Utilities                 0.000000\n",
       "BldgType                  0.000000"
      ]
     },
     "execution_count": 63,
     "metadata": {},
     "output_type": "execute_result"
    }
   ],
   "source": [
    "mutual_info.tail(8)"
   ]
  },
  {
   "cell_type": "code",
   "execution_count": 64,
   "id": "dcbd5631",
   "metadata": {
    "execution": {
     "iopub.execute_input": "2024-09-10T09:11:08.289287Z",
     "iopub.status.busy": "2024-09-10T09:11:08.288774Z",
     "iopub.status.idle": "2024-09-10T09:11:08.293965Z",
     "shell.execute_reply": "2024-09-10T09:11:08.292766Z"
    },
    "papermill": {
     "duration": 0.0488,
     "end_time": "2024-09-10T09:11:08.296486",
     "exception": false,
     "start_time": "2024-09-10T09:11:08.247686",
     "status": "completed"
    },
    "tags": []
   },
   "outputs": [],
   "source": [
    "all_features = input_cols.copy()"
   ]
  },
  {
   "cell_type": "code",
   "execution_count": 65,
   "id": "b8c6b2f3",
   "metadata": {
    "execution": {
     "iopub.execute_input": "2024-09-10T09:11:08.378153Z",
     "iopub.status.busy": "2024-09-10T09:11:08.377709Z",
     "iopub.status.idle": "2024-09-10T09:11:08.384886Z",
     "shell.execute_reply": "2024-09-10T09:11:08.383717Z"
    },
    "papermill": {
     "duration": 0.051102,
     "end_time": "2024-09-10T09:11:08.387552",
     "exception": false,
     "start_time": "2024-09-10T09:11:08.336450",
     "status": "completed"
    },
    "tags": []
   },
   "outputs": [
    {
     "data": {
      "text/plain": [
       "86"
      ]
     },
     "execution_count": 65,
     "metadata": {},
     "output_type": "execute_result"
    }
   ],
   "source": [
    "len(all_features)"
   ]
  },
  {
   "cell_type": "code",
   "execution_count": 66,
   "id": "9a9e6aa7",
   "metadata": {
    "execution": {
     "iopub.execute_input": "2024-09-10T09:11:08.468765Z",
     "iopub.status.busy": "2024-09-10T09:11:08.468323Z",
     "iopub.status.idle": "2024-09-10T09:11:08.479086Z",
     "shell.execute_reply": "2024-09-10T09:11:08.478142Z"
    },
    "papermill": {
     "duration": 0.053851,
     "end_time": "2024-09-10T09:11:08.481503",
     "exception": false,
     "start_time": "2024-09-10T09:11:08.427652",
     "status": "completed"
    },
    "tags": []
   },
   "outputs": [
    {
     "data": {
      "text/plain": [
       "86"
      ]
     },
     "execution_count": 66,
     "metadata": {},
     "output_type": "execute_result"
    }
   ],
   "source": [
    "for non_info_f in ['LowQualFinSF','ScreenPorch','LandSlope','Utilities','BldgType']:\n",
    "    all_features.remove(non_info_f)\n",
    "len(input_cols)"
   ]
  },
  {
   "cell_type": "markdown",
   "id": "d11536be",
   "metadata": {
    "papermill": {
     "duration": 0.039102,
     "end_time": "2024-09-10T09:11:08.560094",
     "exception": false,
     "start_time": "2024-09-10T09:11:08.520992",
     "status": "completed"
    },
    "tags": []
   },
   "source": [
    "## Traning model and tuning hyperparameters"
   ]
  },
  {
   "cell_type": "code",
   "execution_count": 67,
   "id": "8b7c4b6a",
   "metadata": {
    "execution": {
     "iopub.execute_input": "2024-09-10T09:11:08.641318Z",
     "iopub.status.busy": "2024-09-10T09:11:08.640841Z",
     "iopub.status.idle": "2024-09-10T09:11:08.655193Z",
     "shell.execute_reply": "2024-09-10T09:11:08.654096Z"
    },
    "papermill": {
     "duration": 0.058296,
     "end_time": "2024-09-10T09:11:08.657756",
     "exception": false,
     "start_time": "2024-09-10T09:11:08.599460",
     "status": "completed"
    },
    "tags": []
   },
   "outputs": [],
   "source": [
    "def cross_validation(reg, cv, inputs, targets, test_inputs=None, need_print=False):\n",
    "    train_losses = []\n",
    "    val_losses = []\n",
    "    if test_inputs is not None:\n",
    "        test_preds = np.zeros(len(test_inputs))\n",
    "    else:\n",
    "        test_preds = np.zeros(len(inputs))\n",
    "    for fold, (train_idx, val_idx) in enumerate(cv.split(inputs, targets)):\n",
    "        X_train = inputs.iloc[train_idx].reset_index(drop=True)\n",
    "        y_train = targets.iloc[train_idx].reset_index(drop=True)\n",
    "        X_val = inputs.iloc[val_idx].reset_index(drop=True)\n",
    "        y_val = targets.iloc[val_idx].reset_index(drop=True)\n",
    "\n",
    "        reg.fit(X_train, y_train)\n",
    "\n",
    "        train_pred = pd.Series(reg.predict(X_train)).apply(lambda x: 0 if x<0 else x)\n",
    "        train_loss = np.sqrt(mean_squared_log_error(y_train, train_pred))\n",
    "        train_losses.append(train_loss)\n",
    "        val_pred = pd.Series(reg.predict(X_val)).apply(lambda x: 0 if x<0 else x)\n",
    "        val_loss = np.sqrt(mean_squared_log_error(y_val, val_pred))\n",
    "        val_losses.append(val_loss)\n",
    "\n",
    "        if need_print:\n",
    "            print(f'Fold {fold}: train_loss = {train_loss:.5f}, val_loss = {val_loss:.5f}')\n",
    "\n",
    "        if test_inputs is not None:\n",
    "            test_pred = reg.predict(test_inputs)\n",
    "            test_preds += test_pred/cv.get_n_splits()\n",
    "\n",
    "    m_train_loss = np.mean(train_losses)\n",
    "    s_train_loss = np.std(train_losses)\n",
    "    m_val_loss = np.mean(val_losses)\n",
    "    s_val_loss = np.std(val_losses)\n",
    "    \n",
    "    msg = f'{m_val_loss:.7f} ± {s_val_loss:.7f}'\n",
    "    \n",
    "    if need_print:\n",
    "        print(f'Train loss: {m_train_loss:.7f} ± {s_train_loss:.7f} | Val loss: {m_val_loss:.7f} ± {s_val_loss:.7f}')\n",
    "    return test_preds, msg"
   ]
  },
  {
   "cell_type": "code",
   "execution_count": 68,
   "id": "b861a635",
   "metadata": {
    "execution": {
     "iopub.execute_input": "2024-09-10T09:11:08.738950Z",
     "iopub.status.busy": "2024-09-10T09:11:08.738502Z",
     "iopub.status.idle": "2024-09-10T09:11:08.749286Z",
     "shell.execute_reply": "2024-09-10T09:11:08.748237Z"
    },
    "papermill": {
     "duration": 0.054164,
     "end_time": "2024-09-10T09:11:08.751817",
     "exception": false,
     "start_time": "2024-09-10T09:11:08.697653",
     "status": "completed"
    },
    "tags": []
   },
   "outputs": [],
   "source": [
    "def test_with_models(models: dict, features: dict, \n",
    "                     df: pd.DataFrame, target: str, cv):\n",
    "    result = dict()\n",
    "    result['Regressor'] = []\n",
    "    for feature, _ in features.items():\n",
    "        result[f'RMSE with {feature} features'] = []\n",
    "    targets = df[target]\n",
    "    for name, model in models.items():\n",
    "        result['Regressor'].append(name)\n",
    "        for f_name, feature in features.items():\n",
    "            inputs = df[feature]\n",
    "            _, msg = cross_validation(model, cv, \n",
    "                                      inputs, targets, \n",
    "                                      test_inputs=None, \n",
    "                                      need_print=False)\n",
    "            result[f'RMSE with {f_name} features'].append(msg)\n",
    "    \n",
    "    return pd.DataFrame(result)"
   ]
  },
  {
   "cell_type": "code",
   "execution_count": 69,
   "id": "c8d6ee90",
   "metadata": {
    "execution": {
     "iopub.execute_input": "2024-09-10T09:11:08.832555Z",
     "iopub.status.busy": "2024-09-10T09:11:08.832091Z",
     "iopub.status.idle": "2024-09-10T09:11:08.842855Z",
     "shell.execute_reply": "2024-09-10T09:11:08.841693Z"
    },
    "papermill": {
     "duration": 0.053801,
     "end_time": "2024-09-10T09:11:08.845338",
     "exception": false,
     "start_time": "2024-09-10T09:11:08.791537",
     "status": "completed"
    },
    "tags": []
   },
   "outputs": [],
   "source": [
    "regressors = {\n",
    "    'LinearRegression': LinearRegression(),\n",
    "    'DecisionTreeRegressor': DecisionTreeRegressor(),\n",
    "    'RandomForestRegressor': RandomForestRegressor(n_jobs=-1),\n",
    "    'XGBRegressor': XGBRegressor(n_jobs=-1),\n",
    "    'LGBMRegressor': LGBMRegressor(n_jobs=-1, verbose=0),\n",
    "    'CatBoostRegressor': CatBoostRegressor(logging_level='Silent')\n",
    "}\n",
    "features = {\n",
    "    'all': all_features\n",
    "}\n",
    "cv = StratifiedKFold(n_splits=5, shuffle=True, random_state=42)"
   ]
  },
  {
   "cell_type": "code",
   "execution_count": 70,
   "id": "d2828a99",
   "metadata": {
    "execution": {
     "iopub.execute_input": "2024-09-10T09:11:08.925482Z",
     "iopub.status.busy": "2024-09-10T09:11:08.924787Z",
     "iopub.status.idle": "2024-09-10T09:11:42.241436Z",
     "shell.execute_reply": "2024-09-10T09:11:42.239996Z"
    },
    "papermill": {
     "duration": 33.397806,
     "end_time": "2024-09-10T09:11:42.282367",
     "exception": false,
     "start_time": "2024-09-10T09:11:08.884561",
     "status": "completed"
    },
    "tags": []
   },
   "outputs": [
    {
     "name": "stderr",
     "output_type": "stream",
     "text": [
      "/opt/conda/lib/python3.10/site-packages/sklearn/model_selection/_split.py:700: UserWarning: The least populated class in y has only 1 members, which is less than n_splits=5.\n",
      "  warnings.warn(\n",
      "/opt/conda/lib/python3.10/site-packages/sklearn/model_selection/_split.py:700: UserWarning: The least populated class in y has only 1 members, which is less than n_splits=5.\n",
      "  warnings.warn(\n",
      "/opt/conda/lib/python3.10/site-packages/sklearn/model_selection/_split.py:700: UserWarning: The least populated class in y has only 1 members, which is less than n_splits=5.\n",
      "  warnings.warn(\n",
      "/opt/conda/lib/python3.10/site-packages/sklearn/model_selection/_split.py:700: UserWarning: The least populated class in y has only 1 members, which is less than n_splits=5.\n",
      "  warnings.warn(\n",
      "/opt/conda/lib/python3.10/site-packages/sklearn/model_selection/_split.py:700: UserWarning: The least populated class in y has only 1 members, which is less than n_splits=5.\n",
      "  warnings.warn(\n",
      "/opt/conda/lib/python3.10/site-packages/sklearn/model_selection/_split.py:700: UserWarning: The least populated class in y has only 1 members, which is less than n_splits=5.\n",
      "  warnings.warn(\n"
     ]
    },
    {
     "name": "stdout",
     "output_type": "stream",
     "text": [
      "CPU times: user 1min 14s, sys: 6.71 s, total: 1min 21s\n",
      "Wall time: 33.3 s\n"
     ]
    },
    {
     "data": {
      "text/html": [
       "<div>\n",
       "<style scoped>\n",
       "    .dataframe tbody tr th:only-of-type {\n",
       "        vertical-align: middle;\n",
       "    }\n",
       "\n",
       "    .dataframe tbody tr th {\n",
       "        vertical-align: top;\n",
       "    }\n",
       "\n",
       "    .dataframe thead th {\n",
       "        text-align: right;\n",
       "    }\n",
       "</style>\n",
       "<table border=\"1\" class=\"dataframe\">\n",
       "  <thead>\n",
       "    <tr style=\"text-align: right;\">\n",
       "      <th></th>\n",
       "      <th>Regressor</th>\n",
       "      <th>RMSE with all features</th>\n",
       "    </tr>\n",
       "  </thead>\n",
       "  <tbody>\n",
       "    <tr>\n",
       "      <th>0</th>\n",
       "      <td>LinearRegression</td>\n",
       "      <td>0.3420511 ± 0.3345974</td>\n",
       "    </tr>\n",
       "    <tr>\n",
       "      <th>1</th>\n",
       "      <td>DecisionTreeRegressor</td>\n",
       "      <td>0.2115319 ± 0.0059297</td>\n",
       "    </tr>\n",
       "    <tr>\n",
       "      <th>2</th>\n",
       "      <td>RandomForestRegressor</td>\n",
       "      <td>0.1477675 ± 0.0163637</td>\n",
       "    </tr>\n",
       "    <tr>\n",
       "      <th>3</th>\n",
       "      <td>XGBRegressor</td>\n",
       "      <td>0.1437943 ± 0.0156298</td>\n",
       "    </tr>\n",
       "    <tr>\n",
       "      <th>4</th>\n",
       "      <td>LGBMRegressor</td>\n",
       "      <td>0.1374621 ± 0.0134985</td>\n",
       "    </tr>\n",
       "    <tr>\n",
       "      <th>5</th>\n",
       "      <td>CatBoostRegressor</td>\n",
       "      <td>0.1257141 ± 0.0141226</td>\n",
       "    </tr>\n",
       "  </tbody>\n",
       "</table>\n",
       "</div>"
      ],
      "text/plain": [
       "               Regressor RMSE with all features\n",
       "0       LinearRegression  0.3420511 ± 0.3345974\n",
       "1  DecisionTreeRegressor  0.2115319 ± 0.0059297\n",
       "2  RandomForestRegressor  0.1477675 ± 0.0163637\n",
       "3           XGBRegressor  0.1437943 ± 0.0156298\n",
       "4          LGBMRegressor  0.1374621 ± 0.0134985\n",
       "5      CatBoostRegressor  0.1257141 ± 0.0141226"
      ]
     },
     "execution_count": 70,
     "metadata": {},
     "output_type": "execute_result"
    }
   ],
   "source": [
    "%%time\n",
    "test_with_models(regressors, features, raw_df, 'SalePrice', cv)"
   ]
  },
  {
   "cell_type": "markdown",
   "id": "08043a4a",
   "metadata": {
    "papermill": {
     "duration": 0.039397,
     "end_time": "2024-09-10T09:11:42.361038",
     "exception": false,
     "start_time": "2024-09-10T09:11:42.321641",
     "status": "completed"
    },
    "tags": []
   },
   "source": [
    "So we try with RandomForest, LGBM, CatBoost"
   ]
  },
  {
   "cell_type": "markdown",
   "id": "543b36b2",
   "metadata": {
    "papermill": {
     "duration": 0.039184,
     "end_time": "2024-09-10T09:11:42.439843",
     "exception": false,
     "start_time": "2024-09-10T09:11:42.400659",
     "status": "completed"
    },
    "tags": []
   },
   "source": [
    "### RandomForestRegressor"
   ]
  },
  {
   "cell_type": "code",
   "execution_count": 71,
   "id": "07af5cc2",
   "metadata": {
    "execution": {
     "iopub.execute_input": "2024-09-10T09:11:42.520917Z",
     "iopub.status.busy": "2024-09-10T09:11:42.520480Z",
     "iopub.status.idle": "2024-09-10T09:11:42.530359Z",
     "shell.execute_reply": "2024-09-10T09:11:42.529143Z"
    },
    "papermill": {
     "duration": 0.05318,
     "end_time": "2024-09-10T09:11:42.532948",
     "exception": false,
     "start_time": "2024-09-10T09:11:42.479768",
     "status": "completed"
    },
    "tags": []
   },
   "outputs": [],
   "source": [
    "param_dis = {\n",
    "    'n_estimators': np.arange(50,500,50),\n",
    "    'max_depth': np.arange(10,70,6),\n",
    "    'min_samples_split': np.arange(2,6),\n",
    "    'min_samples_leaf': np.arange(1,5),\n",
    "    'max_features': ['sqrt','log2',None],\n",
    "    'min_weight_fraction_leaf': loguniform(1e-6,0.4),\n",
    "    'max_leaf_nodes': np.arange(20,600,45),\n",
    "    'n_jobs': [-1],\n",
    "    'random_state': [0,17,42,123,1212],\n",
    "    'max_samples': loguniform(0.2,1)\n",
    "}"
   ]
  },
  {
   "cell_type": "code",
   "execution_count": 72,
   "id": "f8d2e09b",
   "metadata": {
    "execution": {
     "iopub.execute_input": "2024-09-10T09:11:42.615991Z",
     "iopub.status.busy": "2024-09-10T09:11:42.615320Z",
     "iopub.status.idle": "2024-09-10T09:11:42.622933Z",
     "shell.execute_reply": "2024-09-10T09:11:42.621911Z"
    },
    "papermill": {
     "duration": 0.051342,
     "end_time": "2024-09-10T09:11:42.625127",
     "exception": false,
     "start_time": "2024-09-10T09:11:42.573785",
     "status": "completed"
    },
    "tags": []
   },
   "outputs": [
    {
     "data": {
      "text/plain": [
       "\"%%time\\nsearch = RandomizedSearchCV(RandomForestRegressor(),\\n                            param_dis,\\n                            n_iter=150,\\n                            scoring='neg_mean_squared_log_error', cv=cv,\\n                            refit=True, verbose=3)\\ninputs, targets = raw_df[all_features], raw_df['SalePrice']\\ntest_inputs = test_df[all_features]\\nsearch.fit(inputs, targets)\""
      ]
     },
     "execution_count": 72,
     "metadata": {},
     "output_type": "execute_result"
    }
   ],
   "source": [
    "'''%%time\n",
    "search = RandomizedSearchCV(RandomForestRegressor(),\n",
    "                            param_dis,\n",
    "                            n_iter=150,\n",
    "                            scoring='neg_mean_squared_log_error', cv=cv,\n",
    "                            refit=True, verbose=3)\n",
    "inputs, targets = raw_df[all_features], raw_df['SalePrice']\n",
    "test_inputs = test_df[all_features]\n",
    "search.fit(inputs, targets)'''"
   ]
  },
  {
   "cell_type": "code",
   "execution_count": 73,
   "id": "33f5e21e",
   "metadata": {
    "execution": {
     "iopub.execute_input": "2024-09-10T09:11:42.706914Z",
     "iopub.status.busy": "2024-09-10T09:11:42.706015Z",
     "iopub.status.idle": "2024-09-10T09:11:42.712216Z",
     "shell.execute_reply": "2024-09-10T09:11:42.711190Z"
    },
    "papermill": {
     "duration": 0.049389,
     "end_time": "2024-09-10T09:11:42.714463",
     "exception": false,
     "start_time": "2024-09-10T09:11:42.665074",
     "status": "completed"
    },
    "tags": []
   },
   "outputs": [],
   "source": [
    "best_params = {\n",
    " 'max_depth': 58,\n",
    " 'max_features': None,\n",
    " 'max_leaf_nodes': 560,\n",
    " 'max_samples': 0.9072359965528524,\n",
    " 'min_samples_leaf': 3,\n",
    " 'min_samples_split': 2,\n",
    " 'min_weight_fraction_leaf': 1.1128876112819692e-06,\n",
    " 'n_estimators': 400,\n",
    " 'n_jobs': -1,\n",
    " 'random_state': 42\n",
    "}"
   ]
  },
  {
   "cell_type": "code",
   "execution_count": 74,
   "id": "4a4f58d7",
   "metadata": {
    "execution": {
     "iopub.execute_input": "2024-09-10T09:11:42.795663Z",
     "iopub.status.busy": "2024-09-10T09:11:42.795223Z",
     "iopub.status.idle": "2024-09-10T09:12:14.801317Z",
     "shell.execute_reply": "2024-09-10T09:12:14.800031Z"
    },
    "papermill": {
     "duration": 32.090787,
     "end_time": "2024-09-10T09:12:14.844930",
     "exception": false,
     "start_time": "2024-09-10T09:11:42.754143",
     "status": "completed"
    },
    "tags": []
   },
   "outputs": [
    {
     "name": "stderr",
     "output_type": "stream",
     "text": [
      "/opt/conda/lib/python3.10/site-packages/sklearn/model_selection/_split.py:700: UserWarning: The least populated class in y has only 1 members, which is less than n_splits=5.\n",
      "  warnings.warn(\n"
     ]
    },
    {
     "name": "stdout",
     "output_type": "stream",
     "text": [
      "Fold 0: train_loss = 0.08288, val_loss = 0.16987\n",
      "Fold 1: train_loss = 0.08203, val_loss = 0.15184\n",
      "Fold 2: train_loss = 0.08727, val_loss = 0.12814\n",
      "Fold 3: train_loss = 0.08700, val_loss = 0.13245\n",
      "Fold 4: train_loss = 0.08374, val_loss = 0.15963\n",
      "Train loss: 0.0845833 ± 0.0021524 | Val loss: 0.1483858 ± 0.0158965\n",
      "CPU times: user 31.9 s, sys: 59.8 ms, total: 32 s\n",
      "Wall time: 32 s\n"
     ]
    }
   ],
   "source": [
    "%%time\n",
    "reg = RandomForestRegressor(**best_params)\n",
    "inputs, targets = raw_df[all_features], raw_df['SalePrice']\n",
    "test_inputs = test_df[all_features]\n",
    "test_preds, _ = cross_validation(reg, cv, inputs, targets, test_inputs, need_print=True)"
   ]
  },
  {
   "cell_type": "code",
   "execution_count": 75,
   "id": "15dd0be9",
   "metadata": {
    "execution": {
     "iopub.execute_input": "2024-09-10T09:12:14.931026Z",
     "iopub.status.busy": "2024-09-10T09:12:14.930060Z",
     "iopub.status.idle": "2024-09-10T09:12:14.950527Z",
     "shell.execute_reply": "2024-09-10T09:12:14.949426Z"
    },
    "papermill": {
     "duration": 0.065829,
     "end_time": "2024-09-10T09:12:14.953134",
     "exception": false,
     "start_time": "2024-09-10T09:12:14.887305",
     "status": "completed"
    },
    "tags": []
   },
   "outputs": [
    {
     "data": {
      "text/plain": [
       "count      1459.000000\n",
       "mean     179089.770427\n",
       "std       72006.262685\n",
       "min       63544.172378\n",
       "25%      130841.360239\n",
       "50%      158752.680674\n",
       "75%      209600.279347\n",
       "max      497524.336999\n",
       "Name: SalePrice, dtype: float64"
      ]
     },
     "execution_count": 75,
     "metadata": {},
     "output_type": "execute_result"
    }
   ],
   "source": [
    "sub_df['SalePrice'] = test_preds\n",
    "sub_df.to_csv('/kaggle/working/sub_rf.csv',index=None)\n",
    "sub_df['SalePrice'].describe()"
   ]
  },
  {
   "cell_type": "markdown",
   "id": "af45a277",
   "metadata": {
    "papermill": {
     "duration": 0.041876,
     "end_time": "2024-09-10T09:12:15.036587",
     "exception": false,
     "start_time": "2024-09-10T09:12:14.994711",
     "status": "completed"
    },
    "tags": []
   },
   "source": [
    "### LGBMRegressor"
   ]
  },
  {
   "cell_type": "code",
   "execution_count": 76,
   "id": "d2c8c9d3",
   "metadata": {
    "execution": {
     "iopub.execute_input": "2024-09-10T09:12:15.120352Z",
     "iopub.status.busy": "2024-09-10T09:12:15.119875Z",
     "iopub.status.idle": "2024-09-10T09:12:15.134666Z",
     "shell.execute_reply": "2024-09-10T09:12:15.133392Z"
    },
    "papermill": {
     "duration": 0.05976,
     "end_time": "2024-09-10T09:12:15.137272",
     "exception": false,
     "start_time": "2024-09-10T09:12:15.077512",
     "status": "completed"
    },
    "tags": []
   },
   "outputs": [],
   "source": [
    "param_dis = {\n",
    "    'num_leaves': np.arange(32,300,7),\n",
    "    'n_jobs': [-1],\n",
    "    'reg_lambda': loguniform(1e-5,4),\n",
    "    'reg_alpha': loguniform(1e-5,4),\n",
    "    'n_estimators': np.arange(50,341,40),\n",
    "    'learning_rate': loguniform(0.001,0.2),\n",
    "    'max_depth': np.arange(15,55,4),\n",
    "    'min_split_gain': loguniform(1e-8,0.1),\n",
    "    'min_child_weight': loguniform(1e-4,0.1),\n",
    "    'min_child_samples': np.arange(14,30,4),\n",
    "    'subsample': loguniform(0.25,1),\n",
    "    'colsample_bytree': loguniform(0.25,1),\n",
    "    'random_state': [42],\n",
    "    'verbose': [-1]\n",
    "}"
   ]
  },
  {
   "cell_type": "code",
   "execution_count": 77,
   "id": "83373f44",
   "metadata": {
    "execution": {
     "iopub.execute_input": "2024-09-10T09:12:15.222576Z",
     "iopub.status.busy": "2024-09-10T09:12:15.222075Z",
     "iopub.status.idle": "2024-09-10T09:12:15.231718Z",
     "shell.execute_reply": "2024-09-10T09:12:15.230313Z"
    },
    "papermill": {
     "duration": 0.054571,
     "end_time": "2024-09-10T09:12:15.234248",
     "exception": false,
     "start_time": "2024-09-10T09:12:15.179677",
     "status": "completed"
    },
    "scrolled": true,
    "tags": []
   },
   "outputs": [
    {
     "data": {
      "text/plain": [
       "\"%%time\\nsearch = RandomizedSearchCV(LGBMRegressor(),\\n                            param_dis,\\n                            n_iter=150,\\n                            scoring='neg_mean_squared_log_error', cv=cv,\\n                            refit=True, verbose=3)\\ninputs, targets = raw_df[all_features], raw_df['SalePrice']\\ntest_inputs = test_df[all_features]\\nsearch.fit(inputs, targets)\""
      ]
     },
     "execution_count": 77,
     "metadata": {},
     "output_type": "execute_result"
    }
   ],
   "source": [
    "'''%%time\n",
    "search = RandomizedSearchCV(LGBMRegressor(),\n",
    "                            param_dis,\n",
    "                            n_iter=150,\n",
    "                            scoring='neg_mean_squared_log_error', cv=cv,\n",
    "                            refit=True, verbose=3)\n",
    "inputs, targets = raw_df[all_features], raw_df['SalePrice']\n",
    "test_inputs = test_df[all_features]\n",
    "search.fit(inputs, targets)'''"
   ]
  },
  {
   "cell_type": "code",
   "execution_count": 78,
   "id": "e7cbe9ab",
   "metadata": {
    "execution": {
     "iopub.execute_input": "2024-09-10T09:12:15.318143Z",
     "iopub.status.busy": "2024-09-10T09:12:15.317718Z",
     "iopub.status.idle": "2024-09-10T09:12:15.324715Z",
     "shell.execute_reply": "2024-09-10T09:12:15.323520Z"
    },
    "papermill": {
     "duration": 0.05182,
     "end_time": "2024-09-10T09:12:15.327203",
     "exception": false,
     "start_time": "2024-09-10T09:12:15.275383",
     "status": "completed"
    },
    "tags": []
   },
   "outputs": [],
   "source": [
    "best_params = {\n",
    " 'colsample_bytree': 0.3758505807831109,\n",
    " 'learning_rate': 0.025172541401115973,\n",
    " 'max_depth': 35,\n",
    " 'min_child_samples': 26,\n",
    " 'min_child_weight': 0.0001115968142335559,\n",
    " 'min_split_gain': 0.0017346920635754118,\n",
    " 'n_estimators': 290,\n",
    " 'n_jobs': -1,\n",
    " 'num_leaves': 81,\n",
    " 'random_state': 42,\n",
    " 'reg_alpha': 9.808308247121393e-05,\n",
    " 'reg_lambda': 1.864868733111634e-05,\n",
    " 'subsample': 0.3363131845770683,\n",
    " 'verbose': -1\n",
    "}"
   ]
  },
  {
   "cell_type": "code",
   "execution_count": 79,
   "id": "c2896692",
   "metadata": {
    "execution": {
     "iopub.execute_input": "2024-09-10T09:12:15.413981Z",
     "iopub.status.busy": "2024-09-10T09:12:15.413554Z",
     "iopub.status.idle": "2024-09-10T09:12:18.175717Z",
     "shell.execute_reply": "2024-09-10T09:12:18.174297Z"
    },
    "papermill": {
     "duration": 2.80856,
     "end_time": "2024-09-10T09:12:18.179312",
     "exception": false,
     "start_time": "2024-09-10T09:12:15.370752",
     "status": "completed"
    },
    "tags": []
   },
   "outputs": [
    {
     "name": "stderr",
     "output_type": "stream",
     "text": [
      "/opt/conda/lib/python3.10/site-packages/sklearn/model_selection/_split.py:700: UserWarning: The least populated class in y has only 1 members, which is less than n_splits=5.\n",
      "  warnings.warn(\n"
     ]
    },
    {
     "name": "stdout",
     "output_type": "stream",
     "text": [
      "Fold 0: train_loss = 0.06546, val_loss = 0.14558\n",
      "Fold 1: train_loss = 0.06690, val_loss = 0.13546\n",
      "Fold 2: train_loss = 0.07203, val_loss = 0.12015\n",
      "Fold 3: train_loss = 0.07231, val_loss = 0.11876\n",
      "Fold 4: train_loss = 0.06889, val_loss = 0.14013\n",
      "Train loss: 0.0691176 ± 0.0027206 | Val loss: 0.1320162 ± 0.0107545\n",
      "CPU times: user 2.75 s, sys: 7.65 ms, total: 2.76 s\n",
      "Wall time: 2.75 s\n"
     ]
    }
   ],
   "source": [
    "%%time\n",
    "reg = LGBMRegressor(**best_params)\n",
    "inputs, targets = raw_df[all_features], raw_df['SalePrice']\n",
    "test_inputs = test_df[all_features]\n",
    "test_preds, _ = cross_validation(reg, cv, inputs, targets, test_inputs, need_print=True)"
   ]
  },
  {
   "cell_type": "code",
   "execution_count": 80,
   "id": "9ec872cf",
   "metadata": {
    "execution": {
     "iopub.execute_input": "2024-09-10T09:12:18.270150Z",
     "iopub.status.busy": "2024-09-10T09:12:18.269607Z",
     "iopub.status.idle": "2024-09-10T09:12:18.294941Z",
     "shell.execute_reply": "2024-09-10T09:12:18.293633Z"
    },
    "papermill": {
     "duration": 0.071989,
     "end_time": "2024-09-10T09:12:18.297678",
     "exception": false,
     "start_time": "2024-09-10T09:12:18.225689",
     "status": "completed"
    },
    "tags": []
   },
   "outputs": [
    {
     "data": {
      "text/plain": [
       "count      1459.000000\n",
       "mean     179021.293420\n",
       "std       75515.947027\n",
       "min       56356.150110\n",
       "25%      128504.166728\n",
       "50%      159018.211013\n",
       "75%      210877.380521\n",
       "max      487664.845385\n",
       "Name: SalePrice, dtype: float64"
      ]
     },
     "execution_count": 80,
     "metadata": {},
     "output_type": "execute_result"
    }
   ],
   "source": [
    "sub_df['SalePrice'] = test_preds\n",
    "sub_df.to_csv('/kaggle/working/sub_lgbm.csv',index=None)\n",
    "sub_df['SalePrice'].describe()"
   ]
  },
  {
   "cell_type": "markdown",
   "id": "fca04326",
   "metadata": {
    "papermill": {
     "duration": 0.046049,
     "end_time": "2024-09-10T09:12:18.386003",
     "exception": false,
     "start_time": "2024-09-10T09:12:18.339954",
     "status": "completed"
    },
    "tags": []
   },
   "source": [
    "### CatBoostRegressor"
   ]
  },
  {
   "cell_type": "code",
   "execution_count": 81,
   "id": "16348847",
   "metadata": {
    "execution": {
     "iopub.execute_input": "2024-09-10T09:12:18.472370Z",
     "iopub.status.busy": "2024-09-10T09:12:18.471341Z",
     "iopub.status.idle": "2024-09-10T09:12:18.484070Z",
     "shell.execute_reply": "2024-09-10T09:12:18.482832Z"
    },
    "papermill": {
     "duration": 0.058838,
     "end_time": "2024-09-10T09:12:18.486798",
     "exception": false,
     "start_time": "2024-09-10T09:12:18.427960",
     "status": "completed"
    },
    "tags": []
   },
   "outputs": [],
   "source": [
    "param_dis = {\n",
    "    'eval_metric': ['RMSE'],\n",
    "    'iterations': np.arange(750,2500,250),\n",
    "    'learning_rate': loguniform(0.005,0.1),\n",
    "    'random_seed': [42],\n",
    "    'l2_leaf_reg': loguniform(0.8,50),\n",
    "    'bagging_temperature': loguniform(1e-4,1),\n",
    "    'random_strength': np.arange(1,10),\n",
    "    'depth': np.arange(6,10),\n",
    "    'min_data_in_leaf': np.arange(1,4),\n",
    "    'border_count': np.arange(24,296,50),\n",
    "    'logging_level': ['Silent']\n",
    "}"
   ]
  },
  {
   "cell_type": "code",
   "execution_count": 82,
   "id": "a5d3ab46",
   "metadata": {
    "execution": {
     "iopub.execute_input": "2024-09-10T09:12:18.573089Z",
     "iopub.status.busy": "2024-09-10T09:12:18.572651Z",
     "iopub.status.idle": "2024-09-10T09:12:18.580564Z",
     "shell.execute_reply": "2024-09-10T09:12:18.579407Z"
    },
    "papermill": {
     "duration": 0.053674,
     "end_time": "2024-09-10T09:12:18.583082",
     "exception": false,
     "start_time": "2024-09-10T09:12:18.529408",
     "status": "completed"
    },
    "scrolled": true,
    "tags": []
   },
   "outputs": [
    {
     "data": {
      "text/plain": [
       "\"%%time\\nsearch = RandomizedSearchCV(CatBoostRegressor(),\\n                            param_dis,\\n                            n_iter=150,\\n                            scoring='neg_mean_squared_log_error', cv=cv,\\n                            refit=True, verbose=3)\\ninputs, targets = raw_df[all_features], raw_df['SalePrice']\\ntest_inputs = test_df[all_features]\\nsearch.fit(inputs, targets)\""
      ]
     },
     "execution_count": 82,
     "metadata": {},
     "output_type": "execute_result"
    }
   ],
   "source": [
    "'''%%time\n",
    "search = RandomizedSearchCV(CatBoostRegressor(),\n",
    "                            param_dis,\n",
    "                            n_iter=150,\n",
    "                            scoring='neg_mean_squared_log_error', cv=cv,\n",
    "                            refit=True, verbose=3)\n",
    "inputs, targets = raw_df[all_features], raw_df['SalePrice']\n",
    "test_inputs = test_df[all_features]\n",
    "search.fit(inputs, targets)'''"
   ]
  },
  {
   "cell_type": "code",
   "execution_count": 83,
   "id": "029f9456",
   "metadata": {
    "execution": {
     "iopub.execute_input": "2024-09-10T09:12:18.669872Z",
     "iopub.status.busy": "2024-09-10T09:12:18.669427Z",
     "iopub.status.idle": "2024-09-10T09:12:18.676072Z",
     "shell.execute_reply": "2024-09-10T09:12:18.674869Z"
    },
    "papermill": {
     "duration": 0.052748,
     "end_time": "2024-09-10T09:12:18.678479",
     "exception": false,
     "start_time": "2024-09-10T09:12:18.625731",
     "status": "completed"
    },
    "tags": []
   },
   "outputs": [],
   "source": [
    "best_params = {\n",
    " 'bagging_temperature': 0.9941368192771662,\n",
    " 'border_count': 124,\n",
    " 'depth': 6,\n",
    " 'eval_metric': 'RMSE',\n",
    " 'iterations': 2000,\n",
    " 'l2_leaf_reg': 7.797320124613558,\n",
    " 'learning_rate': 0.017764286686603632,\n",
    " 'logging_level': 'Silent',\n",
    " 'min_data_in_leaf': 1,\n",
    " 'random_seed': 42,\n",
    " 'random_strength': 3\n",
    "}"
   ]
  },
  {
   "cell_type": "code",
   "execution_count": 84,
   "id": "f4fce1fc",
   "metadata": {
    "execution": {
     "iopub.execute_input": "2024-09-10T09:12:18.765412Z",
     "iopub.status.busy": "2024-09-10T09:12:18.764380Z",
     "iopub.status.idle": "2024-09-10T09:12:43.667693Z",
     "shell.execute_reply": "2024-09-10T09:12:43.666181Z"
    },
    "papermill": {
     "duration": 24.949229,
     "end_time": "2024-09-10T09:12:43.670034",
     "exception": false,
     "start_time": "2024-09-10T09:12:18.720805",
     "status": "completed"
    },
    "tags": []
   },
   "outputs": [
    {
     "name": "stderr",
     "output_type": "stream",
     "text": [
      "/opt/conda/lib/python3.10/site-packages/sklearn/model_selection/_split.py:700: UserWarning: The least populated class in y has only 1 members, which is less than n_splits=5.\n",
      "  warnings.warn(\n"
     ]
    },
    {
     "name": "stdout",
     "output_type": "stream",
     "text": [
      "Fold 0: train_loss = 0.05665, val_loss = 0.14123\n",
      "Fold 1: train_loss = 0.06103, val_loss = 0.13163\n",
      "Fold 2: train_loss = 0.06037, val_loss = 0.10726\n",
      "Fold 3: train_loss = 0.06244, val_loss = 0.11497\n",
      "Fold 4: train_loss = 0.05910, val_loss = 0.13207\n",
      "Train loss: 0.0599172 ± 0.0019591 | Val loss: 0.1254325 ± 0.0124236\n",
      "CPU times: user 1min 24s, sys: 10.9 s, total: 1min 35s\n",
      "Wall time: 24.9 s\n"
     ]
    }
   ],
   "source": [
    "%%time\n",
    "reg = CatBoostRegressor(**best_params)\n",
    "inputs, targets = raw_df[all_features], raw_df['SalePrice']\n",
    "test_inputs = test_df[all_features]\n",
    "test_preds, _ = cross_validation(reg, cv, inputs, targets, test_inputs, need_print=True)"
   ]
  },
  {
   "cell_type": "code",
   "execution_count": 85,
   "id": "aebbcffd",
   "metadata": {
    "execution": {
     "iopub.execute_input": "2024-09-10T09:12:43.756773Z",
     "iopub.status.busy": "2024-09-10T09:12:43.755641Z",
     "iopub.status.idle": "2024-09-10T09:12:43.773306Z",
     "shell.execute_reply": "2024-09-10T09:12:43.772226Z"
    },
    "papermill": {
     "duration": 0.063582,
     "end_time": "2024-09-10T09:12:43.775744",
     "exception": false,
     "start_time": "2024-09-10T09:12:43.712162",
     "status": "completed"
    },
    "tags": []
   },
   "outputs": [
    {
     "data": {
      "text/plain": [
       "count      1459.000000\n",
       "mean     179120.958389\n",
       "std       75156.910567\n",
       "min       49032.792333\n",
       "25%      129315.739738\n",
       "50%      159285.158649\n",
       "75%      210251.494687\n",
       "max      495105.694485\n",
       "Name: SalePrice, dtype: float64"
      ]
     },
     "execution_count": 85,
     "metadata": {},
     "output_type": "execute_result"
    }
   ],
   "source": [
    "sub_df['SalePrice'] = test_preds\n",
    "sub_df.to_csv('/kaggle/working/sub_cat.csv',index=None)\n",
    "sub_df['SalePrice'].describe()"
   ]
  },
  {
   "cell_type": "code",
   "execution_count": 86,
   "id": "7b93fd3f",
   "metadata": {
    "execution": {
     "iopub.execute_input": "2024-09-10T09:12:43.862481Z",
     "iopub.status.busy": "2024-09-10T09:12:43.861689Z",
     "iopub.status.idle": "2024-09-10T09:12:43.873536Z",
     "shell.execute_reply": "2024-09-10T09:12:43.872356Z"
    },
    "papermill": {
     "duration": 0.058855,
     "end_time": "2024-09-10T09:12:43.877131",
     "exception": false,
     "start_time": "2024-09-10T09:12:43.818276",
     "status": "completed"
    },
    "tags": []
   },
   "outputs": [
    {
     "data": {
      "text/plain": [
       "57"
      ]
     },
     "execution_count": 86,
     "metadata": {},
     "output_type": "execute_result"
    }
   ],
   "source": [
    "cat_f = raw_df[all_features].select_dtypes(include=['int32','int64']).columns.tolist()\n",
    "len(cat_f)"
   ]
  },
  {
   "cell_type": "code",
   "execution_count": 87,
   "id": "8a7b15fb",
   "metadata": {
    "execution": {
     "iopub.execute_input": "2024-09-10T09:12:43.968863Z",
     "iopub.status.busy": "2024-09-10T09:12:43.968333Z",
     "iopub.status.idle": "2024-09-10T09:17:36.706581Z",
     "shell.execute_reply": "2024-09-10T09:17:36.705426Z"
    },
    "papermill": {
     "duration": 292.827047,
     "end_time": "2024-09-10T09:17:36.750753",
     "exception": false,
     "start_time": "2024-09-10T09:12:43.923706",
     "status": "completed"
    },
    "tags": []
   },
   "outputs": [
    {
     "name": "stderr",
     "output_type": "stream",
     "text": [
      "/opt/conda/lib/python3.10/site-packages/sklearn/model_selection/_split.py:700: UserWarning: The least populated class in y has only 1 members, which is less than n_splits=5.\n",
      "  warnings.warn(\n"
     ]
    },
    {
     "name": "stdout",
     "output_type": "stream",
     "text": [
      "Fold 0: train_loss = 0.08659, val_loss = 0.14775\n",
      "Fold 1: train_loss = 0.08770, val_loss = 0.13875\n",
      "Fold 2: train_loss = 0.09174, val_loss = 0.11401\n",
      "Fold 3: train_loss = 0.09073, val_loss = 0.11695\n",
      "Fold 4: train_loss = 0.08572, val_loss = 0.13380\n",
      "Train loss: 0.0884963 ± 0.0023462 | Val loss: 0.1302517 ± 0.0128971\n",
      "CPU times: user 14min 26s, sys: 2min 31s, total: 16min 57s\n",
      "Wall time: 4min 52s\n"
     ]
    }
   ],
   "source": [
    "%%time\n",
    "reg = CatBoostRegressor(**best_params, cat_features=cat_f)\n",
    "inputs, targets = raw_df[all_features], raw_df['SalePrice']\n",
    "test_inputs = test_df[all_features]\n",
    "test_preds, _ = cross_validation(reg, cv, inputs, targets, test_inputs, need_print=True)"
   ]
  },
  {
   "cell_type": "code",
   "execution_count": 88,
   "id": "03226448",
   "metadata": {
    "execution": {
     "iopub.execute_input": "2024-09-10T09:17:36.840432Z",
     "iopub.status.busy": "2024-09-10T09:17:36.839314Z",
     "iopub.status.idle": "2024-09-10T09:17:36.857995Z",
     "shell.execute_reply": "2024-09-10T09:17:36.856910Z"
    },
    "papermill": {
     "duration": 0.066206,
     "end_time": "2024-09-10T09:17:36.860413",
     "exception": false,
     "start_time": "2024-09-10T09:17:36.794207",
     "status": "completed"
    },
    "tags": []
   },
   "outputs": [
    {
     "data": {
      "text/plain": [
       "count      1459.000000\n",
       "mean     178889.586716\n",
       "std       76013.267659\n",
       "min       48698.907034\n",
       "25%      129064.269870\n",
       "50%      157773.490703\n",
       "75%      208626.977008\n",
       "max      506525.124575\n",
       "Name: SalePrice, dtype: float64"
      ]
     },
     "execution_count": 88,
     "metadata": {},
     "output_type": "execute_result"
    }
   ],
   "source": [
    "sub_df['SalePrice'] = test_preds\n",
    "sub_df.to_csv('/kaggle/working/sub_cat2.csv',index=None)\n",
    "sub_df['SalePrice'].describe()"
   ]
  },
  {
   "cell_type": "code",
   "execution_count": 89,
   "id": "9241c1dc",
   "metadata": {
    "execution": {
     "iopub.execute_input": "2024-09-10T09:17:36.949198Z",
     "iopub.status.busy": "2024-09-10T09:17:36.948317Z",
     "iopub.status.idle": "2024-09-10T09:17:54.100384Z",
     "shell.execute_reply": "2024-09-10T09:17:54.099038Z"
    },
    "papermill": {
     "duration": 17.2004,
     "end_time": "2024-09-10T09:17:54.104080",
     "exception": false,
     "start_time": "2024-09-10T09:17:36.903680",
     "status": "completed"
    },
    "tags": []
   },
   "outputs": [
    {
     "name": "stderr",
     "output_type": "stream",
     "text": [
      "/opt/conda/lib/python3.10/site-packages/sklearn/model_selection/_split.py:700: UserWarning: The least populated class in y has only 1 members, which is less than n_splits=5.\n",
      "  warnings.warn(\n"
     ]
    },
    {
     "name": "stdout",
     "output_type": "stream",
     "text": [
      "Fold 0: train_loss = 0.03505, val_loss = 0.14307\n",
      "Fold 1: train_loss = 0.03551, val_loss = 0.13103\n",
      "Fold 2: train_loss = 0.03384, val_loss = 0.10668\n",
      "Fold 3: train_loss = 0.03597, val_loss = 0.11167\n",
      "Fold 4: train_loss = 0.03260, val_loss = 0.13612\n",
      "Train loss: 0.0345946 ± 0.0012215 | Val loss: 0.1257141 ± 0.0141226\n",
      "CPU times: user 57.4 s, sys: 6.12 s, total: 1min 3s\n",
      "Wall time: 17.1 s\n"
     ]
    }
   ],
   "source": [
    "%%time\n",
    "reg = CatBoostRegressor(logging_level='Silent')\n",
    "inputs, targets = raw_df[all_features], raw_df['SalePrice']\n",
    "test_inputs = test_df[all_features]\n",
    "test_preds, _ = cross_validation(reg, cv, inputs, targets, test_inputs, need_print=True)"
   ]
  },
  {
   "cell_type": "code",
   "execution_count": 90,
   "id": "492b72bb",
   "metadata": {
    "execution": {
     "iopub.execute_input": "2024-09-10T09:17:54.210236Z",
     "iopub.status.busy": "2024-09-10T09:17:54.209283Z",
     "iopub.status.idle": "2024-09-10T09:17:54.226912Z",
     "shell.execute_reply": "2024-09-10T09:17:54.225853Z"
    },
    "papermill": {
     "duration": 0.065954,
     "end_time": "2024-09-10T09:17:54.229423",
     "exception": false,
     "start_time": "2024-09-10T09:17:54.163469",
     "status": "completed"
    },
    "tags": []
   },
   "outputs": [
    {
     "data": {
      "text/plain": [
       "count      1459.000000\n",
       "mean     178918.552070\n",
       "std       75261.210921\n",
       "min       47535.590972\n",
       "25%      128925.684591\n",
       "50%      159371.825837\n",
       "75%      211442.269055\n",
       "max      505635.548569\n",
       "Name: SalePrice, dtype: float64"
      ]
     },
     "execution_count": 90,
     "metadata": {},
     "output_type": "execute_result"
    }
   ],
   "source": [
    "sub_df['SalePrice'] = test_preds\n",
    "sub_df.to_csv('/kaggle/working/sub_cat3.csv',index=None)\n",
    "sub_df['SalePrice'].describe()"
   ]
  },
  {
   "cell_type": "code",
   "execution_count": 91,
   "id": "1f1349f2",
   "metadata": {
    "execution": {
     "iopub.execute_input": "2024-09-10T09:17:54.321808Z",
     "iopub.status.busy": "2024-09-10T09:17:54.320721Z",
     "iopub.status.idle": "2024-09-10T09:20:31.309051Z",
     "shell.execute_reply": "2024-09-10T09:20:31.307923Z"
    },
    "papermill": {
     "duration": 157.081048,
     "end_time": "2024-09-10T09:20:31.354999",
     "exception": false,
     "start_time": "2024-09-10T09:17:54.273951",
     "status": "completed"
    },
    "tags": []
   },
   "outputs": [
    {
     "name": "stderr",
     "output_type": "stream",
     "text": [
      "/opt/conda/lib/python3.10/site-packages/sklearn/model_selection/_split.py:700: UserWarning: The least populated class in y has only 1 members, which is less than n_splits=5.\n",
      "  warnings.warn(\n"
     ]
    },
    {
     "name": "stdout",
     "output_type": "stream",
     "text": [
      "Fold 0: train_loss = 0.06993, val_loss = 0.14550\n",
      "Fold 1: train_loss = 0.06708, val_loss = 0.13109\n",
      "Fold 2: train_loss = 0.06842, val_loss = 0.11781\n",
      "Fold 3: train_loss = 0.07177, val_loss = 0.11620\n",
      "Fold 4: train_loss = 0.06360, val_loss = 0.13470\n",
      "Train loss: 0.0681591 ± 0.0027633 | Val loss: 0.1290600 ± 0.0109396\n",
      "CPU times: user 7min 40s, sys: 1min 23s, total: 9min 4s\n",
      "Wall time: 2min 36s\n"
     ]
    }
   ],
   "source": [
    "%%time\n",
    "reg = CatBoostRegressor(logging_level='Silent', cat_features=cat_f)\n",
    "inputs, targets = raw_df[all_features], raw_df['SalePrice']\n",
    "test_inputs = test_df[all_features]\n",
    "test_preds, _ = cross_validation(reg, cv, inputs, targets, test_inputs, need_print=True)"
   ]
  },
  {
   "cell_type": "code",
   "execution_count": 92,
   "id": "b21b178b",
   "metadata": {
    "execution": {
     "iopub.execute_input": "2024-09-10T09:20:31.447448Z",
     "iopub.status.busy": "2024-09-10T09:20:31.446911Z",
     "iopub.status.idle": "2024-09-10T09:20:31.465089Z",
     "shell.execute_reply": "2024-09-10T09:20:31.463991Z"
    },
    "papermill": {
     "duration": 0.066405,
     "end_time": "2024-09-10T09:20:31.467464",
     "exception": false,
     "start_time": "2024-09-10T09:20:31.401059",
     "status": "completed"
    },
    "tags": []
   },
   "outputs": [
    {
     "data": {
      "text/plain": [
       "count      1459.000000\n",
       "mean     179236.538533\n",
       "std       76578.861819\n",
       "min       47786.152469\n",
       "25%      129053.643026\n",
       "50%      157297.174325\n",
       "75%      210095.378213\n",
       "max      523627.318392\n",
       "Name: SalePrice, dtype: float64"
      ]
     },
     "execution_count": 92,
     "metadata": {},
     "output_type": "execute_result"
    }
   ],
   "source": [
    "sub_df['SalePrice'] = test_preds\n",
    "sub_df.to_csv('/kaggle/working/sub_cat4.csv',index=None)\n",
    "sub_df['SalePrice'].describe()"
   ]
  },
  {
   "cell_type": "markdown",
   "id": "061a6640",
   "metadata": {
    "papermill": {
     "duration": 0.044237,
     "end_time": "2024-09-10T09:20:31.556390",
     "exception": false,
     "start_time": "2024-09-10T09:20:31.512153",
     "status": "completed"
    },
    "tags": []
   },
   "source": [
    "I submit all 6 csvs, and CatBoost without tuning hyperparameters and within cat features achieve highest score in LB (0.12727)"
   ]
  },
  {
   "cell_type": "code",
   "execution_count": 93,
   "id": "7c77cdbb",
   "metadata": {
    "execution": {
     "iopub.execute_input": "2024-09-10T09:20:31.648334Z",
     "iopub.status.busy": "2024-09-10T09:20:31.647353Z",
     "iopub.status.idle": "2024-09-10T09:20:31.667667Z",
     "shell.execute_reply": "2024-09-10T09:20:31.666565Z"
    },
    "papermill": {
     "duration": 0.068771,
     "end_time": "2024-09-10T09:20:31.670083",
     "exception": false,
     "start_time": "2024-09-10T09:20:31.601312",
     "status": "completed"
    },
    "tags": []
   },
   "outputs": [
    {
     "data": {
      "text/plain": [
       "count      1459.000000\n",
       "mean     179236.538533\n",
       "std       76578.861819\n",
       "min       47786.152469\n",
       "25%      129053.643026\n",
       "50%      157297.174325\n",
       "75%      210095.378213\n",
       "max      523627.318392\n",
       "Name: SalePrice, dtype: float64"
      ]
     },
     "execution_count": 93,
     "metadata": {},
     "output_type": "execute_result"
    }
   ],
   "source": [
    "sub_df = pd.read_csv('/kaggle/working/sub_cat4.csv')\n",
    "sub_df.to_csv('/kaggle/working/submission.csv',index=None)\n",
    "sub_df['SalePrice'].describe()"
   ]
  }
 ],
 "metadata": {
  "kaggle": {
   "accelerator": "none",
   "dataSources": [
    {
     "databundleVersionId": 868283,
     "sourceId": 5407,
     "sourceType": "competition"
    }
   ],
   "dockerImageVersionId": 30761,
   "isGpuEnabled": false,
   "isInternetEnabled": true,
   "language": "python",
   "sourceType": "notebook"
  },
  "kernelspec": {
   "display_name": "Python 3",
   "language": "python",
   "name": "python3"
  },
  "language_info": {
   "codemirror_mode": {
    "name": "ipython",
    "version": 3
   },
   "file_extension": ".py",
   "mimetype": "text/x-python",
   "name": "python",
   "nbconvert_exporter": "python",
   "pygments_lexer": "ipython3",
   "version": "3.10.14"
  },
  "papermill": {
   "default_parameters": {},
   "duration": 607.039227,
   "end_time": "2024-09-10T09:20:32.538498",
   "environment_variables": {},
   "exception": null,
   "input_path": "__notebook__.ipynb",
   "output_path": "__notebook__.ipynb",
   "parameters": {},
   "start_time": "2024-09-10T09:10:25.499271",
   "version": "2.6.0"
  }
 },
 "nbformat": 4,
 "nbformat_minor": 5
}
