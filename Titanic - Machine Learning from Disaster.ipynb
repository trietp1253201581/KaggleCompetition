{
 "cells": [
  {
   "cell_type": "markdown",
   "id": "b9717eca",
   "metadata": {
    "id": "k-7svIwcupuG",
    "papermill": {
     "duration": 0.028565,
     "end_time": "2024-09-17T12:05:48.588883",
     "exception": false,
     "start_time": "2024-09-17T12:05:48.560318",
     "status": "completed"
    },
    "tags": []
   },
   "source": [
    "# Titanic - Machine Learning from Disaster"
   ]
  },
  {
   "cell_type": "markdown",
   "id": "8633661b",
   "metadata": {
    "papermill": {
     "duration": 0.026888,
     "end_time": "2024-09-17T12:05:48.643430",
     "exception": false,
     "start_time": "2024-09-17T12:05:48.616542",
     "status": "completed"
    },
    "tags": []
   },
   "source": [
    "## Import library and datasets"
   ]
  },
  {
   "cell_type": "code",
   "execution_count": 1,
   "id": "20994fc7",
   "metadata": {
    "execution": {
     "iopub.execute_input": "2024-09-17T12:05:48.702905Z",
     "iopub.status.busy": "2024-09-17T12:05:48.702444Z",
     "iopub.status.idle": "2024-09-17T12:05:53.428866Z",
     "shell.execute_reply": "2024-09-17T12:05:53.427275Z"
    },
    "papermill": {
     "duration": 4.758099,
     "end_time": "2024-09-17T12:05:53.431970",
     "exception": false,
     "start_time": "2024-09-17T12:05:48.673871",
     "status": "completed"
    },
    "tags": []
   },
   "outputs": [],
   "source": [
    "import pandas as pd\n",
    "import numpy as np\n",
    "\n",
    "from sklearn.preprocessing import OneHotEncoder, OrdinalEncoder, MinMaxScaler, StandardScaler\n",
    "from sklearn.impute import SimpleImputer\n",
    "\n",
    "from sklearn.metrics import mean_squared_error, accuracy_score\n",
    "\n",
    "from sklearn.model_selection import GridSearchCV, train_test_split, StratifiedKFold, cross_val_score, RandomizedSearchCV\n",
    "from sklearn.feature_selection import mutual_info_classif\n",
    "\n",
    "from sklearn.pipeline import make_pipeline, Pipeline\n",
    "from sklearn.compose import ColumnTransformer\n",
    "\n",
    "from sklearn.ensemble import RandomForestClassifier\n",
    "from xgboost import XGBClassifier\n",
    "from lightgbm import LGBMClassifier\n",
    "from catboost import CatBoostClassifier\n",
    "\n",
    "from scipy.stats import loguniform, uniform\n",
    "\n",
    "import warnings\n",
    "warnings.simplefilter(action='ignore', category=FutureWarning)\n",
    "\n",
    "import matplotlib.pyplot as plt\n",
    "import seaborn as sns\n",
    "%matplotlib inline"
   ]
  },
  {
   "cell_type": "code",
   "execution_count": 2,
   "id": "0feebf4d",
   "metadata": {
    "execution": {
     "iopub.execute_input": "2024-09-17T12:05:53.489241Z",
     "iopub.status.busy": "2024-09-17T12:05:53.488569Z",
     "iopub.status.idle": "2024-09-17T12:05:53.531043Z",
     "shell.execute_reply": "2024-09-17T12:05:53.529807Z"
    },
    "papermill": {
     "duration": 0.074581,
     "end_time": "2024-09-17T12:05:53.534341",
     "exception": false,
     "start_time": "2024-09-17T12:05:53.459760",
     "status": "completed"
    },
    "tags": []
   },
   "outputs": [],
   "source": [
    "data_dir = '/kaggle/input/titanic/'\n",
    "raw_df = pd.read_csv(data_dir + 'train.csv')\n",
    "test_df = pd.read_csv(data_dir + 'test.csv')\n",
    "sub_df = pd.read_csv(data_dir + 'gender_submission.csv')"
   ]
  },
  {
   "cell_type": "code",
   "execution_count": 3,
   "id": "656c020e",
   "metadata": {
    "execution": {
     "iopub.execute_input": "2024-09-17T12:05:53.593921Z",
     "iopub.status.busy": "2024-09-17T12:05:53.593463Z",
     "iopub.status.idle": "2024-09-17T12:05:53.628676Z",
     "shell.execute_reply": "2024-09-17T12:05:53.627337Z"
    },
    "papermill": {
     "duration": 0.068471,
     "end_time": "2024-09-17T12:05:53.631556",
     "exception": false,
     "start_time": "2024-09-17T12:05:53.563085",
     "status": "completed"
    },
    "tags": []
   },
   "outputs": [
    {
     "data": {
      "text/html": [
       "<div>\n",
       "<style scoped>\n",
       "    .dataframe tbody tr th:only-of-type {\n",
       "        vertical-align: middle;\n",
       "    }\n",
       "\n",
       "    .dataframe tbody tr th {\n",
       "        vertical-align: top;\n",
       "    }\n",
       "\n",
       "    .dataframe thead th {\n",
       "        text-align: right;\n",
       "    }\n",
       "</style>\n",
       "<table border=\"1\" class=\"dataframe\">\n",
       "  <thead>\n",
       "    <tr style=\"text-align: right;\">\n",
       "      <th></th>\n",
       "      <th>PassengerId</th>\n",
       "      <th>Survived</th>\n",
       "      <th>Pclass</th>\n",
       "      <th>Name</th>\n",
       "      <th>Sex</th>\n",
       "      <th>Age</th>\n",
       "      <th>SibSp</th>\n",
       "      <th>Parch</th>\n",
       "      <th>Ticket</th>\n",
       "      <th>Fare</th>\n",
       "      <th>Cabin</th>\n",
       "      <th>Embarked</th>\n",
       "    </tr>\n",
       "  </thead>\n",
       "  <tbody>\n",
       "    <tr>\n",
       "      <th>0</th>\n",
       "      <td>1</td>\n",
       "      <td>0</td>\n",
       "      <td>3</td>\n",
       "      <td>Braund, Mr. Owen Harris</td>\n",
       "      <td>male</td>\n",
       "      <td>22.0</td>\n",
       "      <td>1</td>\n",
       "      <td>0</td>\n",
       "      <td>A/5 21171</td>\n",
       "      <td>7.2500</td>\n",
       "      <td>NaN</td>\n",
       "      <td>S</td>\n",
       "    </tr>\n",
       "    <tr>\n",
       "      <th>1</th>\n",
       "      <td>2</td>\n",
       "      <td>1</td>\n",
       "      <td>1</td>\n",
       "      <td>Cumings, Mrs. John Bradley (Florence Briggs Th...</td>\n",
       "      <td>female</td>\n",
       "      <td>38.0</td>\n",
       "      <td>1</td>\n",
       "      <td>0</td>\n",
       "      <td>PC 17599</td>\n",
       "      <td>71.2833</td>\n",
       "      <td>C85</td>\n",
       "      <td>C</td>\n",
       "    </tr>\n",
       "    <tr>\n",
       "      <th>2</th>\n",
       "      <td>3</td>\n",
       "      <td>1</td>\n",
       "      <td>3</td>\n",
       "      <td>Heikkinen, Miss. Laina</td>\n",
       "      <td>female</td>\n",
       "      <td>26.0</td>\n",
       "      <td>0</td>\n",
       "      <td>0</td>\n",
       "      <td>STON/O2. 3101282</td>\n",
       "      <td>7.9250</td>\n",
       "      <td>NaN</td>\n",
       "      <td>S</td>\n",
       "    </tr>\n",
       "    <tr>\n",
       "      <th>3</th>\n",
       "      <td>4</td>\n",
       "      <td>1</td>\n",
       "      <td>1</td>\n",
       "      <td>Futrelle, Mrs. Jacques Heath (Lily May Peel)</td>\n",
       "      <td>female</td>\n",
       "      <td>35.0</td>\n",
       "      <td>1</td>\n",
       "      <td>0</td>\n",
       "      <td>113803</td>\n",
       "      <td>53.1000</td>\n",
       "      <td>C123</td>\n",
       "      <td>S</td>\n",
       "    </tr>\n",
       "    <tr>\n",
       "      <th>4</th>\n",
       "      <td>5</td>\n",
       "      <td>0</td>\n",
       "      <td>3</td>\n",
       "      <td>Allen, Mr. William Henry</td>\n",
       "      <td>male</td>\n",
       "      <td>35.0</td>\n",
       "      <td>0</td>\n",
       "      <td>0</td>\n",
       "      <td>373450</td>\n",
       "      <td>8.0500</td>\n",
       "      <td>NaN</td>\n",
       "      <td>S</td>\n",
       "    </tr>\n",
       "  </tbody>\n",
       "</table>\n",
       "</div>"
      ],
      "text/plain": [
       "   PassengerId  Survived  Pclass  \\\n",
       "0            1         0       3   \n",
       "1            2         1       1   \n",
       "2            3         1       3   \n",
       "3            4         1       1   \n",
       "4            5         0       3   \n",
       "\n",
       "                                                Name     Sex   Age  SibSp  \\\n",
       "0                            Braund, Mr. Owen Harris    male  22.0      1   \n",
       "1  Cumings, Mrs. John Bradley (Florence Briggs Th...  female  38.0      1   \n",
       "2                             Heikkinen, Miss. Laina  female  26.0      0   \n",
       "3       Futrelle, Mrs. Jacques Heath (Lily May Peel)  female  35.0      1   \n",
       "4                           Allen, Mr. William Henry    male  35.0      0   \n",
       "\n",
       "   Parch            Ticket     Fare Cabin Embarked  \n",
       "0      0         A/5 21171   7.2500   NaN        S  \n",
       "1      0          PC 17599  71.2833   C85        C  \n",
       "2      0  STON/O2. 3101282   7.9250   NaN        S  \n",
       "3      0            113803  53.1000  C123        S  \n",
       "4      0            373450   8.0500   NaN        S  "
      ]
     },
     "execution_count": 3,
     "metadata": {},
     "output_type": "execute_result"
    }
   ],
   "source": [
    "raw_df.head()"
   ]
  },
  {
   "cell_type": "code",
   "execution_count": 4,
   "id": "d9f6e6fc",
   "metadata": {
    "execution": {
     "iopub.execute_input": "2024-09-17T12:05:53.689623Z",
     "iopub.status.busy": "2024-09-17T12:05:53.689141Z",
     "iopub.status.idle": "2024-09-17T12:05:53.705159Z",
     "shell.execute_reply": "2024-09-17T12:05:53.703876Z"
    },
    "papermill": {
     "duration": 0.04829,
     "end_time": "2024-09-17T12:05:53.707911",
     "exception": false,
     "start_time": "2024-09-17T12:05:53.659621",
     "status": "completed"
    },
    "tags": []
   },
   "outputs": [
    {
     "data": {
      "text/plain": [
       "Survived\n",
       "0    549\n",
       "1    342\n",
       "Name: count, dtype: int64"
      ]
     },
     "execution_count": 4,
     "metadata": {},
     "output_type": "execute_result"
    }
   ],
   "source": [
    "raw_df['Survived'].value_counts()"
   ]
  },
  {
   "cell_type": "code",
   "execution_count": 5,
   "id": "19315540",
   "metadata": {
    "execution": {
     "iopub.execute_input": "2024-09-17T12:05:53.768687Z",
     "iopub.status.busy": "2024-09-17T12:05:53.768210Z",
     "iopub.status.idle": "2024-09-17T12:05:53.806221Z",
     "shell.execute_reply": "2024-09-17T12:05:53.804404Z"
    },
    "papermill": {
     "duration": 0.070854,
     "end_time": "2024-09-17T12:05:53.809531",
     "exception": false,
     "start_time": "2024-09-17T12:05:53.738677",
     "status": "completed"
    },
    "tags": []
   },
   "outputs": [
    {
     "data": {
      "text/html": [
       "<div>\n",
       "<style scoped>\n",
       "    .dataframe tbody tr th:only-of-type {\n",
       "        vertical-align: middle;\n",
       "    }\n",
       "\n",
       "    .dataframe tbody tr th {\n",
       "        vertical-align: top;\n",
       "    }\n",
       "\n",
       "    .dataframe thead th {\n",
       "        text-align: right;\n",
       "    }\n",
       "</style>\n",
       "<table border=\"1\" class=\"dataframe\">\n",
       "  <thead>\n",
       "    <tr style=\"text-align: right;\">\n",
       "      <th></th>\n",
       "      <th>PassengerId</th>\n",
       "      <th>Survived</th>\n",
       "      <th>Pclass</th>\n",
       "      <th>Name</th>\n",
       "      <th>Sex</th>\n",
       "      <th>Age</th>\n",
       "      <th>SibSp</th>\n",
       "      <th>Parch</th>\n",
       "      <th>Ticket</th>\n",
       "      <th>Fare</th>\n",
       "      <th>Cabin</th>\n",
       "      <th>Embarked</th>\n",
       "    </tr>\n",
       "  </thead>\n",
       "  <tbody>\n",
       "    <tr>\n",
       "      <th>0</th>\n",
       "      <td>1</td>\n",
       "      <td>0.0</td>\n",
       "      <td>3</td>\n",
       "      <td>Braund, Mr. Owen Harris</td>\n",
       "      <td>male</td>\n",
       "      <td>22.0</td>\n",
       "      <td>1</td>\n",
       "      <td>0</td>\n",
       "      <td>A/5 21171</td>\n",
       "      <td>7.2500</td>\n",
       "      <td>NaN</td>\n",
       "      <td>S</td>\n",
       "    </tr>\n",
       "    <tr>\n",
       "      <th>1</th>\n",
       "      <td>2</td>\n",
       "      <td>1.0</td>\n",
       "      <td>1</td>\n",
       "      <td>Cumings, Mrs. John Bradley (Florence Briggs Th...</td>\n",
       "      <td>female</td>\n",
       "      <td>38.0</td>\n",
       "      <td>1</td>\n",
       "      <td>0</td>\n",
       "      <td>PC 17599</td>\n",
       "      <td>71.2833</td>\n",
       "      <td>C85</td>\n",
       "      <td>C</td>\n",
       "    </tr>\n",
       "    <tr>\n",
       "      <th>2</th>\n",
       "      <td>3</td>\n",
       "      <td>1.0</td>\n",
       "      <td>3</td>\n",
       "      <td>Heikkinen, Miss. Laina</td>\n",
       "      <td>female</td>\n",
       "      <td>26.0</td>\n",
       "      <td>0</td>\n",
       "      <td>0</td>\n",
       "      <td>STON/O2. 3101282</td>\n",
       "      <td>7.9250</td>\n",
       "      <td>NaN</td>\n",
       "      <td>S</td>\n",
       "    </tr>\n",
       "    <tr>\n",
       "      <th>3</th>\n",
       "      <td>4</td>\n",
       "      <td>1.0</td>\n",
       "      <td>1</td>\n",
       "      <td>Futrelle, Mrs. Jacques Heath (Lily May Peel)</td>\n",
       "      <td>female</td>\n",
       "      <td>35.0</td>\n",
       "      <td>1</td>\n",
       "      <td>0</td>\n",
       "      <td>113803</td>\n",
       "      <td>53.1000</td>\n",
       "      <td>C123</td>\n",
       "      <td>S</td>\n",
       "    </tr>\n",
       "    <tr>\n",
       "      <th>4</th>\n",
       "      <td>5</td>\n",
       "      <td>0.0</td>\n",
       "      <td>3</td>\n",
       "      <td>Allen, Mr. William Henry</td>\n",
       "      <td>male</td>\n",
       "      <td>35.0</td>\n",
       "      <td>0</td>\n",
       "      <td>0</td>\n",
       "      <td>373450</td>\n",
       "      <td>8.0500</td>\n",
       "      <td>NaN</td>\n",
       "      <td>S</td>\n",
       "    </tr>\n",
       "    <tr>\n",
       "      <th>...</th>\n",
       "      <td>...</td>\n",
       "      <td>...</td>\n",
       "      <td>...</td>\n",
       "      <td>...</td>\n",
       "      <td>...</td>\n",
       "      <td>...</td>\n",
       "      <td>...</td>\n",
       "      <td>...</td>\n",
       "      <td>...</td>\n",
       "      <td>...</td>\n",
       "      <td>...</td>\n",
       "      <td>...</td>\n",
       "    </tr>\n",
       "    <tr>\n",
       "      <th>1304</th>\n",
       "      <td>1305</td>\n",
       "      <td>NaN</td>\n",
       "      <td>3</td>\n",
       "      <td>Spector, Mr. Woolf</td>\n",
       "      <td>male</td>\n",
       "      <td>NaN</td>\n",
       "      <td>0</td>\n",
       "      <td>0</td>\n",
       "      <td>A.5. 3236</td>\n",
       "      <td>8.0500</td>\n",
       "      <td>NaN</td>\n",
       "      <td>S</td>\n",
       "    </tr>\n",
       "    <tr>\n",
       "      <th>1305</th>\n",
       "      <td>1306</td>\n",
       "      <td>NaN</td>\n",
       "      <td>1</td>\n",
       "      <td>Oliva y Ocana, Dona. Fermina</td>\n",
       "      <td>female</td>\n",
       "      <td>39.0</td>\n",
       "      <td>0</td>\n",
       "      <td>0</td>\n",
       "      <td>PC 17758</td>\n",
       "      <td>108.9000</td>\n",
       "      <td>C105</td>\n",
       "      <td>C</td>\n",
       "    </tr>\n",
       "    <tr>\n",
       "      <th>1306</th>\n",
       "      <td>1307</td>\n",
       "      <td>NaN</td>\n",
       "      <td>3</td>\n",
       "      <td>Saether, Mr. Simon Sivertsen</td>\n",
       "      <td>male</td>\n",
       "      <td>38.5</td>\n",
       "      <td>0</td>\n",
       "      <td>0</td>\n",
       "      <td>SOTON/O.Q. 3101262</td>\n",
       "      <td>7.2500</td>\n",
       "      <td>NaN</td>\n",
       "      <td>S</td>\n",
       "    </tr>\n",
       "    <tr>\n",
       "      <th>1307</th>\n",
       "      <td>1308</td>\n",
       "      <td>NaN</td>\n",
       "      <td>3</td>\n",
       "      <td>Ware, Mr. Frederick</td>\n",
       "      <td>male</td>\n",
       "      <td>NaN</td>\n",
       "      <td>0</td>\n",
       "      <td>0</td>\n",
       "      <td>359309</td>\n",
       "      <td>8.0500</td>\n",
       "      <td>NaN</td>\n",
       "      <td>S</td>\n",
       "    </tr>\n",
       "    <tr>\n",
       "      <th>1308</th>\n",
       "      <td>1309</td>\n",
       "      <td>NaN</td>\n",
       "      <td>3</td>\n",
       "      <td>Peter, Master. Michael J</td>\n",
       "      <td>male</td>\n",
       "      <td>NaN</td>\n",
       "      <td>1</td>\n",
       "      <td>1</td>\n",
       "      <td>2668</td>\n",
       "      <td>22.3583</td>\n",
       "      <td>NaN</td>\n",
       "      <td>C</td>\n",
       "    </tr>\n",
       "  </tbody>\n",
       "</table>\n",
       "<p>1309 rows × 12 columns</p>\n",
       "</div>"
      ],
      "text/plain": [
       "      PassengerId  Survived  Pclass  \\\n",
       "0               1       0.0       3   \n",
       "1               2       1.0       1   \n",
       "2               3       1.0       3   \n",
       "3               4       1.0       1   \n",
       "4               5       0.0       3   \n",
       "...           ...       ...     ...   \n",
       "1304         1305       NaN       3   \n",
       "1305         1306       NaN       1   \n",
       "1306         1307       NaN       3   \n",
       "1307         1308       NaN       3   \n",
       "1308         1309       NaN       3   \n",
       "\n",
       "                                                   Name     Sex   Age  SibSp  \\\n",
       "0                               Braund, Mr. Owen Harris    male  22.0      1   \n",
       "1     Cumings, Mrs. John Bradley (Florence Briggs Th...  female  38.0      1   \n",
       "2                                Heikkinen, Miss. Laina  female  26.0      0   \n",
       "3          Futrelle, Mrs. Jacques Heath (Lily May Peel)  female  35.0      1   \n",
       "4                              Allen, Mr. William Henry    male  35.0      0   \n",
       "...                                                 ...     ...   ...    ...   \n",
       "1304                                 Spector, Mr. Woolf    male   NaN      0   \n",
       "1305                       Oliva y Ocana, Dona. Fermina  female  39.0      0   \n",
       "1306                       Saether, Mr. Simon Sivertsen    male  38.5      0   \n",
       "1307                                Ware, Mr. Frederick    male   NaN      0   \n",
       "1308                           Peter, Master. Michael J    male   NaN      1   \n",
       "\n",
       "      Parch              Ticket      Fare Cabin Embarked  \n",
       "0         0           A/5 21171    7.2500   NaN        S  \n",
       "1         0            PC 17599   71.2833   C85        C  \n",
       "2         0    STON/O2. 3101282    7.9250   NaN        S  \n",
       "3         0              113803   53.1000  C123        S  \n",
       "4         0              373450    8.0500   NaN        S  \n",
       "...     ...                 ...       ...   ...      ...  \n",
       "1304      0           A.5. 3236    8.0500   NaN        S  \n",
       "1305      0            PC 17758  108.9000  C105        C  \n",
       "1306      0  SOTON/O.Q. 3101262    7.2500   NaN        S  \n",
       "1307      0              359309    8.0500   NaN        S  \n",
       "1308      1                2668   22.3583   NaN        C  \n",
       "\n",
       "[1309 rows x 12 columns]"
      ]
     },
     "execution_count": 5,
     "metadata": {},
     "output_type": "execute_result"
    }
   ],
   "source": [
    "concat_df = pd.concat([raw_df, test_df]).copy()\n",
    "concat_df.reset_index(drop=True)"
   ]
  },
  {
   "cell_type": "code",
   "execution_count": 6,
   "id": "fe408e66",
   "metadata": {
    "execution": {
     "iopub.execute_input": "2024-09-17T12:05:53.871556Z",
     "iopub.status.busy": "2024-09-17T12:05:53.870433Z",
     "iopub.status.idle": "2024-09-17T12:05:53.882618Z",
     "shell.execute_reply": "2024-09-17T12:05:53.881472Z"
    },
    "papermill": {
     "duration": 0.044927,
     "end_time": "2024-09-17T12:05:53.885303",
     "exception": false,
     "start_time": "2024-09-17T12:05:53.840376",
     "status": "completed"
    },
    "tags": []
   },
   "outputs": [
    {
     "data": {
      "text/plain": [
       "PassengerId       0\n",
       "Survived        418\n",
       "Pclass            0\n",
       "Name              0\n",
       "Sex               0\n",
       "Age             263\n",
       "SibSp             0\n",
       "Parch             0\n",
       "Ticket            0\n",
       "Fare              1\n",
       "Cabin          1014\n",
       "Embarked          2\n",
       "dtype: int64"
      ]
     },
     "execution_count": 6,
     "metadata": {},
     "output_type": "execute_result"
    }
   ],
   "source": [
    "concat_df.isna().sum()"
   ]
  },
  {
   "cell_type": "code",
   "execution_count": 7,
   "id": "c13aaa99",
   "metadata": {
    "execution": {
     "iopub.execute_input": "2024-09-17T12:05:53.956495Z",
     "iopub.status.busy": "2024-09-17T12:05:53.955540Z",
     "iopub.status.idle": "2024-09-17T12:05:53.965230Z",
     "shell.execute_reply": "2024-09-17T12:05:53.964078Z"
    },
    "papermill": {
     "duration": 0.055711,
     "end_time": "2024-09-17T12:05:53.971455",
     "exception": false,
     "start_time": "2024-09-17T12:05:53.915744",
     "status": "completed"
    },
    "tags": []
   },
   "outputs": [
    {
     "data": {
      "text/plain": [
       "PassengerId      int64\n",
       "Survived       float64\n",
       "Pclass           int64\n",
       "Name            object\n",
       "Sex             object\n",
       "Age            float64\n",
       "SibSp            int64\n",
       "Parch            int64\n",
       "Ticket          object\n",
       "Fare           float64\n",
       "Cabin           object\n",
       "Embarked        object\n",
       "dtype: object"
      ]
     },
     "execution_count": 7,
     "metadata": {},
     "output_type": "execute_result"
    }
   ],
   "source": [
    "concat_df.dtypes"
   ]
  },
  {
   "cell_type": "code",
   "execution_count": 8,
   "id": "5cc41136",
   "metadata": {
    "execution": {
     "iopub.execute_input": "2024-09-17T12:05:54.044546Z",
     "iopub.status.busy": "2024-09-17T12:05:54.044084Z",
     "iopub.status.idle": "2024-09-17T12:05:54.054725Z",
     "shell.execute_reply": "2024-09-17T12:05:54.052774Z"
    },
    "papermill": {
     "duration": 0.054133,
     "end_time": "2024-09-17T12:05:54.058554",
     "exception": false,
     "start_time": "2024-09-17T12:05:54.004421",
     "status": "completed"
    },
    "tags": []
   },
   "outputs": [],
   "source": [
    "def draw_numeric_features(data, x=None, y=None, overlap=None):\n",
    "    plt.figure(figsize=(30,10))\n",
    "    plt.grid()\n",
    "    sns.lineplot(data, x=x, y=y)\n",
    "    if overlap is not None:\n",
    "        for plot in overlap:\n",
    "            sns.lineplot(data=plot[0], x=plot[1], y=plot[2])\n",
    "\n",
    "def view_avg_of_each(cat_features: str, target: str):\n",
    "    d = dict()\n",
    "    cols = raw_df[cat_features].unique()\n",
    "    for x in cols:\n",
    "        d[x] = raw_df[raw_df[cat_features]==x][target].mean()\n",
    "    return pd.Series(d, index=cols)"
   ]
  },
  {
   "cell_type": "markdown",
   "id": "3d658993",
   "metadata": {
    "papermill": {
     "duration": 0.046674,
     "end_time": "2024-09-17T12:05:54.139718",
     "exception": false,
     "start_time": "2024-09-17T12:05:54.093044",
     "status": "completed"
    },
    "tags": []
   },
   "source": [
    "## EDA and Feature Engineering"
   ]
  },
  {
   "cell_type": "code",
   "execution_count": 9,
   "id": "729144eb",
   "metadata": {
    "execution": {
     "iopub.execute_input": "2024-09-17T12:05:54.228387Z",
     "iopub.status.busy": "2024-09-17T12:05:54.225039Z",
     "iopub.status.idle": "2024-09-17T12:05:54.235033Z",
     "shell.execute_reply": "2024-09-17T12:05:54.233649Z"
    },
    "papermill": {
     "duration": 0.059583,
     "end_time": "2024-09-17T12:05:54.240347",
     "exception": false,
     "start_time": "2024-09-17T12:05:54.180764",
     "status": "completed"
    },
    "tags": []
   },
   "outputs": [],
   "source": [
    "target = 'Survived'"
   ]
  },
  {
   "cell_type": "markdown",
   "id": "c43321f5",
   "metadata": {
    "papermill": {
     "duration": 0.029671,
     "end_time": "2024-09-17T12:05:54.308743",
     "exception": false,
     "start_time": "2024-09-17T12:05:54.279072",
     "status": "completed"
    },
    "tags": []
   },
   "source": [
    "### Pclass"
   ]
  },
  {
   "cell_type": "code",
   "execution_count": 10,
   "id": "4eaf14d6",
   "metadata": {
    "execution": {
     "iopub.execute_input": "2024-09-17T12:05:54.372203Z",
     "iopub.status.busy": "2024-09-17T12:05:54.371325Z",
     "iopub.status.idle": "2024-09-17T12:05:54.382508Z",
     "shell.execute_reply": "2024-09-17T12:05:54.380880Z"
    },
    "papermill": {
     "duration": 0.045691,
     "end_time": "2024-09-17T12:05:54.385387",
     "exception": false,
     "start_time": "2024-09-17T12:05:54.339696",
     "status": "completed"
    },
    "tags": []
   },
   "outputs": [
    {
     "data": {
      "text/plain": [
       "Pclass\n",
       "3    709\n",
       "1    323\n",
       "2    277\n",
       "Name: count, dtype: int64"
      ]
     },
     "execution_count": 10,
     "metadata": {},
     "output_type": "execute_result"
    }
   ],
   "source": [
    "concat_df['Pclass'].value_counts()"
   ]
  },
  {
   "cell_type": "code",
   "execution_count": 11,
   "id": "edba76e9",
   "metadata": {
    "execution": {
     "iopub.execute_input": "2024-09-17T12:05:54.448485Z",
     "iopub.status.busy": "2024-09-17T12:05:54.447468Z",
     "iopub.status.idle": "2024-09-17T12:05:54.454095Z",
     "shell.execute_reply": "2024-09-17T12:05:54.452840Z"
    },
    "papermill": {
     "duration": 0.041157,
     "end_time": "2024-09-17T12:05:54.457015",
     "exception": false,
     "start_time": "2024-09-17T12:05:54.415858",
     "status": "completed"
    },
    "tags": []
   },
   "outputs": [],
   "source": [
    "concat_df['Pclass'] = concat_df['Pclass'].astype('int8')"
   ]
  },
  {
   "cell_type": "markdown",
   "id": "6c5eda0a",
   "metadata": {
    "papermill": {
     "duration": 0.02973,
     "end_time": "2024-09-17T12:05:54.516694",
     "exception": false,
     "start_time": "2024-09-17T12:05:54.486964",
     "status": "completed"
    },
    "tags": []
   },
   "source": [
    "### Age"
   ]
  },
  {
   "cell_type": "code",
   "execution_count": 12,
   "id": "21660b10",
   "metadata": {
    "execution": {
     "iopub.execute_input": "2024-09-17T12:05:54.578284Z",
     "iopub.status.busy": "2024-09-17T12:05:54.577823Z",
     "iopub.status.idle": "2024-09-17T12:05:54.592650Z",
     "shell.execute_reply": "2024-09-17T12:05:54.591453Z"
    },
    "id": "7Qo58Y3rupuM",
    "outputId": "1dde0070-a6a9-4f6d-e14d-e6f42830396a",
    "papermill": {
     "duration": 0.048476,
     "end_time": "2024-09-17T12:05:54.595133",
     "exception": false,
     "start_time": "2024-09-17T12:05:54.546657",
     "status": "completed"
    },
    "tags": []
   },
   "outputs": [
    {
     "data": {
      "text/plain": [
       "count    1046.000000\n",
       "mean       29.881138\n",
       "std        14.413493\n",
       "min         0.170000\n",
       "25%        21.000000\n",
       "50%        28.000000\n",
       "75%        39.000000\n",
       "max        80.000000\n",
       "Name: Age, dtype: float64"
      ]
     },
     "execution_count": 12,
     "metadata": {},
     "output_type": "execute_result"
    }
   ],
   "source": [
    "concat_df['Age'].describe()"
   ]
  },
  {
   "cell_type": "code",
   "execution_count": 13,
   "id": "f51b7da1",
   "metadata": {
    "execution": {
     "iopub.execute_input": "2024-09-17T12:05:54.714574Z",
     "iopub.status.busy": "2024-09-17T12:05:54.714100Z",
     "iopub.status.idle": "2024-09-17T12:05:54.721651Z",
     "shell.execute_reply": "2024-09-17T12:05:54.720540Z"
    },
    "id": "fiU5TvARupuM",
    "outputId": "1b2c0111-912b-43cc-dbfd-b0cd3c46807e",
    "papermill": {
     "duration": 0.099474,
     "end_time": "2024-09-17T12:05:54.724148",
     "exception": false,
     "start_time": "2024-09-17T12:05:54.624674",
     "status": "completed"
    },
    "tags": []
   },
   "outputs": [],
   "source": [
    "avg_age = concat_df['Age'].mean()\n",
    "concat_df.fillna({'Age': avg_age}, inplace=True)"
   ]
  },
  {
   "cell_type": "code",
   "execution_count": 14,
   "id": "5420079a",
   "metadata": {
    "execution": {
     "iopub.execute_input": "2024-09-17T12:05:54.786482Z",
     "iopub.status.busy": "2024-09-17T12:05:54.785330Z",
     "iopub.status.idle": "2024-09-17T12:05:54.799165Z",
     "shell.execute_reply": "2024-09-17T12:05:54.797975Z"
    },
    "id": "4s2j2M14upuM",
    "papermill": {
     "duration": 0.047984,
     "end_time": "2024-09-17T12:05:54.801815",
     "exception": false,
     "start_time": "2024-09-17T12:05:54.753831",
     "status": "completed"
    },
    "tags": []
   },
   "outputs": [],
   "source": [
    "concat_df['AgeGroup'] = pd.cut(concat_df['Age'],\n",
    "                               bins=[-1,5,14,18,30,60,100],\n",
    "                               labels=[0,1,2,3,4,5])\n",
    "concat_df['AgeGroup'] = concat_df['AgeGroup'].astype('int8')"
   ]
  },
  {
   "cell_type": "markdown",
   "id": "1fce59af",
   "metadata": {
    "papermill": {
     "duration": 0.030369,
     "end_time": "2024-09-17T12:05:54.864015",
     "exception": false,
     "start_time": "2024-09-17T12:05:54.833646",
     "status": "completed"
    },
    "tags": []
   },
   "source": [
    "### Name"
   ]
  },
  {
   "cell_type": "code",
   "execution_count": 15,
   "id": "d786d5c6",
   "metadata": {
    "execution": {
     "iopub.execute_input": "2024-09-17T12:05:54.930423Z",
     "iopub.status.busy": "2024-09-17T12:05:54.928829Z",
     "iopub.status.idle": "2024-09-17T12:05:54.938922Z",
     "shell.execute_reply": "2024-09-17T12:05:54.937845Z"
    },
    "papermill": {
     "duration": 0.046799,
     "end_time": "2024-09-17T12:05:54.941544",
     "exception": false,
     "start_time": "2024-09-17T12:05:54.894745",
     "status": "completed"
    },
    "tags": []
   },
   "outputs": [
    {
     "data": {
      "text/plain": [
       "0                                Braund, Mr. Owen Harris\n",
       "1      Cumings, Mrs. John Bradley (Florence Briggs Th...\n",
       "2                                 Heikkinen, Miss. Laina\n",
       "3           Futrelle, Mrs. Jacques Heath (Lily May Peel)\n",
       "4                               Allen, Mr. William Henry\n",
       "                             ...                        \n",
       "413                                   Spector, Mr. Woolf\n",
       "414                         Oliva y Ocana, Dona. Fermina\n",
       "415                         Saether, Mr. Simon Sivertsen\n",
       "416                                  Ware, Mr. Frederick\n",
       "417                             Peter, Master. Michael J\n",
       "Name: Name, Length: 1309, dtype: object"
      ]
     },
     "execution_count": 15,
     "metadata": {},
     "output_type": "execute_result"
    }
   ],
   "source": [
    "concat_df['Name']"
   ]
  },
  {
   "cell_type": "code",
   "execution_count": 16,
   "id": "0534378a",
   "metadata": {
    "execution": {
     "iopub.execute_input": "2024-09-17T12:05:55.005564Z",
     "iopub.status.busy": "2024-09-17T12:05:55.005125Z",
     "iopub.status.idle": "2024-09-17T12:05:55.011992Z",
     "shell.execute_reply": "2024-09-17T12:05:55.010653Z"
    },
    "papermill": {
     "duration": 0.041267,
     "end_time": "2024-09-17T12:05:55.014582",
     "exception": false,
     "start_time": "2024-09-17T12:05:54.973315",
     "status": "completed"
    },
    "tags": []
   },
   "outputs": [],
   "source": [
    "def sub_in_str(s, sub_strs: list[str]):\n",
    "    st = str(s)\n",
    "    for sub_str in sub_strs:\n",
    "        if st.find(sub_str) != -1:\n",
    "            return sub_str\n",
    "    return np.nan"
   ]
  },
  {
   "cell_type": "code",
   "execution_count": 17,
   "id": "9f1f5bfc",
   "metadata": {
    "execution": {
     "iopub.execute_input": "2024-09-17T12:05:55.078812Z",
     "iopub.status.busy": "2024-09-17T12:05:55.078334Z",
     "iopub.status.idle": "2024-09-17T12:05:55.086753Z",
     "shell.execute_reply": "2024-09-17T12:05:55.084840Z"
    },
    "papermill": {
     "duration": 0.045369,
     "end_time": "2024-09-17T12:05:55.090573",
     "exception": false,
     "start_time": "2024-09-17T12:05:55.045204",
     "status": "completed"
    },
    "tags": []
   },
   "outputs": [],
   "source": [
    "title_list=['Mrs', 'Mr', 'Master', 'Miss', 'Major', 'Rev',\n",
    "                    'Dr', 'Ms', 'Mlle','Col', 'Capt', 'Mme', 'Countess',\n",
    "                    'Don', 'Jonkheer']"
   ]
  },
  {
   "cell_type": "code",
   "execution_count": 18,
   "id": "c38c229d",
   "metadata": {
    "execution": {
     "iopub.execute_input": "2024-09-17T12:05:55.155333Z",
     "iopub.status.busy": "2024-09-17T12:05:55.154838Z",
     "iopub.status.idle": "2024-09-17T12:05:55.164062Z",
     "shell.execute_reply": "2024-09-17T12:05:55.162830Z"
    },
    "papermill": {
     "duration": 0.044961,
     "end_time": "2024-09-17T12:05:55.166804",
     "exception": false,
     "start_time": "2024-09-17T12:05:55.121843",
     "status": "completed"
    },
    "tags": []
   },
   "outputs": [],
   "source": [
    "concat_df['Title'] = concat_df['Name'].apply(lambda x: sub_in_str(x, title_list))"
   ]
  },
  {
   "cell_type": "code",
   "execution_count": 19,
   "id": "75a284c2",
   "metadata": {
    "execution": {
     "iopub.execute_input": "2024-09-17T12:05:55.231500Z",
     "iopub.status.busy": "2024-09-17T12:05:55.230984Z",
     "iopub.status.idle": "2024-09-17T12:05:55.242524Z",
     "shell.execute_reply": "2024-09-17T12:05:55.241287Z"
    },
    "papermill": {
     "duration": 0.047187,
     "end_time": "2024-09-17T12:05:55.245942",
     "exception": false,
     "start_time": "2024-09-17T12:05:55.198755",
     "status": "completed"
    },
    "tags": []
   },
   "outputs": [
    {
     "data": {
      "text/plain": [
       "Title\n",
       "Mr          758\n",
       "Miss        258\n",
       "Mrs         201\n",
       "Master       61\n",
       "Rev           8\n",
       "Dr            8\n",
       "Col           4\n",
       "Don           2\n",
       "Ms            2\n",
       "Major         2\n",
       "Mme           1\n",
       "Mlle          1\n",
       "Capt          1\n",
       "Countess      1\n",
       "Jonkheer      1\n",
       "Name: count, dtype: int64"
      ]
     },
     "execution_count": 19,
     "metadata": {},
     "output_type": "execute_result"
    }
   ],
   "source": [
    "concat_df['Title'].value_counts()"
   ]
  },
  {
   "cell_type": "code",
   "execution_count": 20,
   "id": "aeb33746",
   "metadata": {
    "execution": {
     "iopub.execute_input": "2024-09-17T12:05:55.310043Z",
     "iopub.status.busy": "2024-09-17T12:05:55.309545Z",
     "iopub.status.idle": "2024-09-17T12:05:55.318770Z",
     "shell.execute_reply": "2024-09-17T12:05:55.316870Z"
    },
    "papermill": {
     "duration": 0.044745,
     "end_time": "2024-09-17T12:05:55.321832",
     "exception": false,
     "start_time": "2024-09-17T12:05:55.277087",
     "status": "completed"
    },
    "tags": []
   },
   "outputs": [],
   "source": [
    "def replace_title(x):\n",
    "    title = x['Title']\n",
    "    if title in ['Don', 'Major', 'Capt', 'Jonkheer', 'Rev', 'Col']:\n",
    "        return 'Mr'\n",
    "    if title in ['Countess', 'Mme']:\n",
    "        return 'Mrs'\n",
    "    if title in ['Mlle', 'Ms']:\n",
    "        return 'Miss'\n",
    "    if title == 'Dr':\n",
    "        if x['Sex'] == 'Male':\n",
    "            return 'Mr'\n",
    "        else:\n",
    "            return 'Mrs'\n",
    "    return title"
   ]
  },
  {
   "cell_type": "code",
   "execution_count": 21,
   "id": "a2bca03f",
   "metadata": {
    "execution": {
     "iopub.execute_input": "2024-09-17T12:05:55.387696Z",
     "iopub.status.busy": "2024-09-17T12:05:55.386877Z",
     "iopub.status.idle": "2024-09-17T12:05:55.412069Z",
     "shell.execute_reply": "2024-09-17T12:05:55.410472Z"
    },
    "papermill": {
     "duration": 0.059697,
     "end_time": "2024-09-17T12:05:55.414890",
     "exception": false,
     "start_time": "2024-09-17T12:05:55.355193",
     "status": "completed"
    },
    "tags": []
   },
   "outputs": [],
   "source": [
    "concat_df['Title'] = concat_df.apply(replace_title, axis=1)"
   ]
  },
  {
   "cell_type": "markdown",
   "id": "3ddb014a",
   "metadata": {
    "papermill": {
     "duration": 0.03052,
     "end_time": "2024-09-17T12:05:55.477157",
     "exception": false,
     "start_time": "2024-09-17T12:05:55.446637",
     "status": "completed"
    },
    "tags": []
   },
   "source": [
    "### Cabin"
   ]
  },
  {
   "cell_type": "code",
   "execution_count": 22,
   "id": "49464f94",
   "metadata": {
    "execution": {
     "iopub.execute_input": "2024-09-17T12:05:55.541824Z",
     "iopub.status.busy": "2024-09-17T12:05:55.541298Z",
     "iopub.status.idle": "2024-09-17T12:05:55.551655Z",
     "shell.execute_reply": "2024-09-17T12:05:55.550548Z"
    },
    "papermill": {
     "duration": 0.0464,
     "end_time": "2024-09-17T12:05:55.554198",
     "exception": false,
     "start_time": "2024-09-17T12:05:55.507798",
     "status": "completed"
    },
    "tags": []
   },
   "outputs": [
    {
     "data": {
      "text/plain": [
       "Cabin\n",
       "C23 C25 C27        6\n",
       "G6                 5\n",
       "B57 B59 B63 B66    5\n",
       "C22 C26            4\n",
       "F33                4\n",
       "                  ..\n",
       "A14                1\n",
       "E63                1\n",
       "E12                1\n",
       "E38                1\n",
       "C105               1\n",
       "Name: count, Length: 186, dtype: int64"
      ]
     },
     "execution_count": 22,
     "metadata": {},
     "output_type": "execute_result"
    }
   ],
   "source": [
    "concat_df['Cabin'].value_counts()"
   ]
  },
  {
   "cell_type": "code",
   "execution_count": 23,
   "id": "5ec0e82e",
   "metadata": {
    "execution": {
     "iopub.execute_input": "2024-09-17T12:05:55.621868Z",
     "iopub.status.busy": "2024-09-17T12:05:55.621371Z",
     "iopub.status.idle": "2024-09-17T12:05:55.633999Z",
     "shell.execute_reply": "2024-09-17T12:05:55.632231Z"
    },
    "papermill": {
     "duration": 0.050117,
     "end_time": "2024-09-17T12:05:55.636966",
     "exception": false,
     "start_time": "2024-09-17T12:05:55.586849",
     "status": "completed"
    },
    "tags": []
   },
   "outputs": [],
   "source": [
    "deck_lst = ['A', 'B', 'C', 'D', 'E', 'F', 'T', 'G', 'UNK']\n",
    "concat_df['Deck'] = concat_df['Cabin'].apply(lambda x: sub_in_str(x, deck_lst))"
   ]
  },
  {
   "cell_type": "code",
   "execution_count": 24,
   "id": "9b7fb31b",
   "metadata": {
    "execution": {
     "iopub.execute_input": "2024-09-17T12:05:55.703050Z",
     "iopub.status.busy": "2024-09-17T12:05:55.702577Z",
     "iopub.status.idle": "2024-09-17T12:05:55.712758Z",
     "shell.execute_reply": "2024-09-17T12:05:55.711533Z"
    },
    "papermill": {
     "duration": 0.046491,
     "end_time": "2024-09-17T12:05:55.715579",
     "exception": false,
     "start_time": "2024-09-17T12:05:55.669088",
     "status": "completed"
    },
    "tags": []
   },
   "outputs": [
    {
     "data": {
      "text/plain": [
       "Deck\n",
       "NaN    1014\n",
       "C        94\n",
       "B        65\n",
       "D        46\n",
       "E        44\n",
       "A        22\n",
       "F        18\n",
       "G         5\n",
       "T         1\n",
       "Name: count, dtype: int64"
      ]
     },
     "execution_count": 24,
     "metadata": {},
     "output_type": "execute_result"
    }
   ],
   "source": [
    "concat_df['Deck'].value_counts(dropna=False)"
   ]
  },
  {
   "cell_type": "code",
   "execution_count": 25,
   "id": "91ccdfa4",
   "metadata": {
    "execution": {
     "iopub.execute_input": "2024-09-17T12:05:55.779771Z",
     "iopub.status.busy": "2024-09-17T12:05:55.779309Z",
     "iopub.status.idle": "2024-09-17T12:05:55.786143Z",
     "shell.execute_reply": "2024-09-17T12:05:55.785105Z"
    },
    "papermill": {
     "duration": 0.042094,
     "end_time": "2024-09-17T12:05:55.788742",
     "exception": false,
     "start_time": "2024-09-17T12:05:55.746648",
     "status": "completed"
    },
    "tags": []
   },
   "outputs": [],
   "source": [
    "concat_df['Deck'].fillna('UNK', inplace=True)"
   ]
  },
  {
   "cell_type": "markdown",
   "id": "453e6042",
   "metadata": {
    "papermill": {
     "duration": 0.030677,
     "end_time": "2024-09-17T12:05:55.851408",
     "exception": false,
     "start_time": "2024-09-17T12:05:55.820731",
     "status": "completed"
    },
    "tags": []
   },
   "source": [
    "### Embarked"
   ]
  },
  {
   "cell_type": "code",
   "execution_count": 26,
   "id": "85dd3304",
   "metadata": {
    "execution": {
     "iopub.execute_input": "2024-09-17T12:05:55.916923Z",
     "iopub.status.busy": "2024-09-17T12:05:55.916468Z",
     "iopub.status.idle": "2024-09-17T12:05:55.927300Z",
     "shell.execute_reply": "2024-09-17T12:05:55.925745Z"
    },
    "papermill": {
     "duration": 0.046038,
     "end_time": "2024-09-17T12:05:55.930099",
     "exception": false,
     "start_time": "2024-09-17T12:05:55.884061",
     "status": "completed"
    },
    "tags": []
   },
   "outputs": [
    {
     "data": {
      "text/plain": [
       "Embarked\n",
       "S      914\n",
       "C      270\n",
       "Q      123\n",
       "NaN      2\n",
       "Name: count, dtype: int64"
      ]
     },
     "execution_count": 26,
     "metadata": {},
     "output_type": "execute_result"
    }
   ],
   "source": [
    "concat_df['Embarked'].value_counts(dropna=False)"
   ]
  },
  {
   "cell_type": "code",
   "execution_count": 27,
   "id": "46a20250",
   "metadata": {
    "execution": {
     "iopub.execute_input": "2024-09-17T12:05:55.995480Z",
     "iopub.status.busy": "2024-09-17T12:05:55.995075Z",
     "iopub.status.idle": "2024-09-17T12:05:56.002440Z",
     "shell.execute_reply": "2024-09-17T12:05:56.000839Z"
    },
    "id": "XBTVVdxTupuM",
    "papermill": {
     "duration": 0.043835,
     "end_time": "2024-09-17T12:05:56.004934",
     "exception": false,
     "start_time": "2024-09-17T12:05:55.961099",
     "status": "completed"
    },
    "tags": []
   },
   "outputs": [],
   "source": [
    "concat_df.fillna({'Embarked': 'S'}, inplace=True)"
   ]
  },
  {
   "cell_type": "markdown",
   "id": "e73b154c",
   "metadata": {
    "papermill": {
     "duration": 0.030224,
     "end_time": "2024-09-17T12:05:56.066024",
     "exception": false,
     "start_time": "2024-09-17T12:05:56.035800",
     "status": "completed"
    },
    "tags": []
   },
   "source": [
    "### Fare"
   ]
  },
  {
   "cell_type": "code",
   "execution_count": 28,
   "id": "38bd1cd1",
   "metadata": {
    "execution": {
     "iopub.execute_input": "2024-09-17T12:05:56.129493Z",
     "iopub.status.busy": "2024-09-17T12:05:56.128663Z",
     "iopub.status.idle": "2024-09-17T12:05:56.145321Z",
     "shell.execute_reply": "2024-09-17T12:05:56.143908Z"
    },
    "papermill": {
     "duration": 0.050555,
     "end_time": "2024-09-17T12:05:56.148050",
     "exception": false,
     "start_time": "2024-09-17T12:05:56.097495",
     "status": "completed"
    },
    "tags": []
   },
   "outputs": [
    {
     "data": {
      "text/plain": [
       "count    1291.000000\n",
       "mean       33.733917\n",
       "std        51.956349\n",
       "min         3.170800\n",
       "25%         7.925000\n",
       "50%        14.500000\n",
       "75%        31.331250\n",
       "max       512.329200\n",
       "Name: Fare, dtype: float64"
      ]
     },
     "execution_count": 28,
     "metadata": {},
     "output_type": "execute_result"
    }
   ],
   "source": [
    "concat_df[concat_df['Fare']>0]['Fare'].describe()"
   ]
  },
  {
   "cell_type": "code",
   "execution_count": 29,
   "id": "6aa557eb",
   "metadata": {
    "execution": {
     "iopub.execute_input": "2024-09-17T12:05:56.211966Z",
     "iopub.status.busy": "2024-09-17T12:05:56.211489Z",
     "iopub.status.idle": "2024-09-17T12:05:56.218872Z",
     "shell.execute_reply": "2024-09-17T12:05:56.217682Z"
    },
    "papermill": {
     "duration": 0.041791,
     "end_time": "2024-09-17T12:05:56.221336",
     "exception": false,
     "start_time": "2024-09-17T12:05:56.179545",
     "status": "completed"
    },
    "tags": []
   },
   "outputs": [],
   "source": [
    "concat_df['Fare'] = concat_df['Fare'].apply(lambda x: 1.1 if x==0 else x)"
   ]
  },
  {
   "cell_type": "code",
   "execution_count": 30,
   "id": "b37ebf6d",
   "metadata": {
    "execution": {
     "iopub.execute_input": "2024-09-17T12:05:56.286020Z",
     "iopub.status.busy": "2024-09-17T12:05:56.285100Z",
     "iopub.status.idle": "2024-09-17T12:05:56.292020Z",
     "shell.execute_reply": "2024-09-17T12:05:56.290781Z"
    },
    "papermill": {
     "duration": 0.041934,
     "end_time": "2024-09-17T12:05:56.294640",
     "exception": false,
     "start_time": "2024-09-17T12:05:56.252706",
     "status": "completed"
    },
    "tags": []
   },
   "outputs": [],
   "source": [
    "concat_df.fillna({'Fare': 33.3}, inplace=True)"
   ]
  },
  {
   "cell_type": "code",
   "execution_count": 31,
   "id": "847ad41c",
   "metadata": {
    "execution": {
     "iopub.execute_input": "2024-09-17T12:05:56.361543Z",
     "iopub.status.busy": "2024-09-17T12:05:56.361084Z",
     "iopub.status.idle": "2024-09-17T12:05:56.774741Z",
     "shell.execute_reply": "2024-09-17T12:05:56.773455Z"
    },
    "papermill": {
     "duration": 0.451025,
     "end_time": "2024-09-17T12:05:56.777188",
     "exception": false,
     "start_time": "2024-09-17T12:05:56.326163",
     "status": "completed"
    },
    "tags": []
   },
   "outputs": [
    {
     "data": {
      "image/png": "[encoded data removed]",
      "text/plain": [
       "<Figure size 1200x800 with 1 Axes>"
      ]
     },
     "metadata": {},
     "output_type": "display_data"
    }
   ],
   "source": [
    "plt.figure(figsize=(12,8))\n",
    "plt.hist(concat_df['Fare'], bins=np.arange(0,600,20));"
   ]
  },
  {
   "cell_type": "code",
   "execution_count": 32,
   "id": "33e1f5f5",
   "metadata": {
    "execution": {
     "iopub.execute_input": "2024-09-17T12:05:56.843403Z",
     "iopub.status.busy": "2024-09-17T12:05:56.842396Z",
     "iopub.status.idle": "2024-09-17T12:05:56.851548Z",
     "shell.execute_reply": "2024-09-17T12:05:56.850200Z"
    },
    "papermill": {
     "duration": 0.047352,
     "end_time": "2024-09-17T12:05:56.855105",
     "exception": false,
     "start_time": "2024-09-17T12:05:56.807753",
     "status": "completed"
    },
    "tags": []
   },
   "outputs": [],
   "source": [
    "concat_df['log_Fare'] = np.log(concat_df['Fare'])"
   ]
  },
  {
   "cell_type": "code",
   "execution_count": 33,
   "id": "56dcb712",
   "metadata": {
    "execution": {
     "iopub.execute_input": "2024-09-17T12:05:56.919430Z",
     "iopub.status.busy": "2024-09-17T12:05:56.918642Z",
     "iopub.status.idle": "2024-09-17T12:05:56.932629Z",
     "shell.execute_reply": "2024-09-17T12:05:56.931384Z"
    },
    "papermill": {
     "duration": 0.048646,
     "end_time": "2024-09-17T12:05:56.935287",
     "exception": false,
     "start_time": "2024-09-17T12:05:56.886641",
     "status": "completed"
    },
    "tags": []
   },
   "outputs": [
    {
     "data": {
      "text/plain": [
       "count    1309.000000\n",
       "mean        2.912283\n",
       "std         1.000459\n",
       "min         0.095310\n",
       "25%         2.066331\n",
       "50%         2.670985\n",
       "75%         3.442819\n",
       "max         6.238967\n",
       "Name: log_Fare, dtype: float64"
      ]
     },
     "execution_count": 33,
     "metadata": {},
     "output_type": "execute_result"
    }
   ],
   "source": [
    "concat_df['log_Fare'].describe()"
   ]
  },
  {
   "cell_type": "code",
   "execution_count": 34,
   "id": "f4c79dbe",
   "metadata": {
    "execution": {
     "iopub.execute_input": "2024-09-17T12:05:57.000703Z",
     "iopub.status.busy": "2024-09-17T12:05:56.999819Z",
     "iopub.status.idle": "2024-09-17T12:05:57.349043Z",
     "shell.execute_reply": "2024-09-17T12:05:57.347832Z"
    },
    "papermill": {
     "duration": 0.384841,
     "end_time": "2024-09-17T12:05:57.351545",
     "exception": false,
     "start_time": "2024-09-17T12:05:56.966704",
     "status": "completed"
    },
    "tags": []
   },
   "outputs": [
    {
     "data": {
      "image/png": "[encoded data removed]",
      "text/plain": [
       "<Figure size 1200x800 with 1 Axes>"
      ]
     },
     "metadata": {},
     "output_type": "display_data"
    }
   ],
   "source": [
    "plt.figure(figsize=(12,8))\n",
    "plt.hist(concat_df['log_Fare'], bins=15);"
   ]
  },
  {
   "cell_type": "markdown",
   "id": "b7a531e2",
   "metadata": {
    "papermill": {
     "duration": 0.032247,
     "end_time": "2024-09-17T12:05:57.415738",
     "exception": false,
     "start_time": "2024-09-17T12:05:57.383491",
     "status": "completed"
    },
    "tags": []
   },
   "source": [
    "### SibSp, Parch"
   ]
  },
  {
   "cell_type": "code",
   "execution_count": 35,
   "id": "ffd90f3d",
   "metadata": {
    "execution": {
     "iopub.execute_input": "2024-09-17T12:05:57.480371Z",
     "iopub.status.busy": "2024-09-17T12:05:57.479546Z",
     "iopub.status.idle": "2024-09-17T12:05:57.492342Z",
     "shell.execute_reply": "2024-09-17T12:05:57.491014Z"
    },
    "papermill": {
     "duration": 0.047381,
     "end_time": "2024-09-17T12:05:57.494822",
     "exception": false,
     "start_time": "2024-09-17T12:05:57.447441",
     "status": "completed"
    },
    "tags": []
   },
   "outputs": [
    {
     "data": {
      "text/html": [
       "<div>\n",
       "<style scoped>\n",
       "    .dataframe tbody tr th:only-of-type {\n",
       "        vertical-align: middle;\n",
       "    }\n",
       "\n",
       "    .dataframe tbody tr th {\n",
       "        vertical-align: top;\n",
       "    }\n",
       "\n",
       "    .dataframe thead th {\n",
       "        text-align: right;\n",
       "    }\n",
       "</style>\n",
       "<table border=\"1\" class=\"dataframe\">\n",
       "  <thead>\n",
       "    <tr style=\"text-align: right;\">\n",
       "      <th></th>\n",
       "      <th>SibSp</th>\n",
       "      <th>Parch</th>\n",
       "    </tr>\n",
       "  </thead>\n",
       "  <tbody>\n",
       "    <tr>\n",
       "      <th>0</th>\n",
       "      <td>1</td>\n",
       "      <td>0</td>\n",
       "    </tr>\n",
       "    <tr>\n",
       "      <th>1</th>\n",
       "      <td>1</td>\n",
       "      <td>0</td>\n",
       "    </tr>\n",
       "    <tr>\n",
       "      <th>2</th>\n",
       "      <td>0</td>\n",
       "      <td>0</td>\n",
       "    </tr>\n",
       "    <tr>\n",
       "      <th>3</th>\n",
       "      <td>1</td>\n",
       "      <td>0</td>\n",
       "    </tr>\n",
       "    <tr>\n",
       "      <th>4</th>\n",
       "      <td>0</td>\n",
       "      <td>0</td>\n",
       "    </tr>\n",
       "  </tbody>\n",
       "</table>\n",
       "</div>"
      ],
      "text/plain": [
       "   SibSp  Parch\n",
       "0      1      0\n",
       "1      1      0\n",
       "2      0      0\n",
       "3      1      0\n",
       "4      0      0"
      ]
     },
     "execution_count": 35,
     "metadata": {},
     "output_type": "execute_result"
    }
   ],
   "source": [
    "concat_df[['SibSp', 'Parch']].head()"
   ]
  },
  {
   "cell_type": "code",
   "execution_count": 36,
   "id": "9259a671",
   "metadata": {
    "execution": {
     "iopub.execute_input": "2024-09-17T12:05:57.558951Z",
     "iopub.status.busy": "2024-09-17T12:05:57.558463Z",
     "iopub.status.idle": "2024-09-17T12:05:57.565321Z",
     "shell.execute_reply": "2024-09-17T12:05:57.564001Z"
    },
    "papermill": {
     "duration": 0.041875,
     "end_time": "2024-09-17T12:05:57.567824",
     "exception": false,
     "start_time": "2024-09-17T12:05:57.525949",
     "status": "completed"
    },
    "tags": []
   },
   "outputs": [],
   "source": [
    "concat_df['FamilySize'] = concat_df['SibSp'] + concat_df['Parch']"
   ]
  },
  {
   "cell_type": "markdown",
   "id": "ee85cc8d",
   "metadata": {
    "papermill": {
     "duration": 0.030992,
     "end_time": "2024-09-17T12:05:57.630333",
     "exception": false,
     "start_time": "2024-09-17T12:05:57.599341",
     "status": "completed"
    },
    "tags": []
   },
   "source": [
    "### Ticket"
   ]
  },
  {
   "cell_type": "code",
   "execution_count": 37,
   "id": "e8ed470c",
   "metadata": {
    "execution": {
     "iopub.execute_input": "2024-09-17T12:05:57.694312Z",
     "iopub.status.busy": "2024-09-17T12:05:57.693876Z",
     "iopub.status.idle": "2024-09-17T12:05:57.702101Z",
     "shell.execute_reply": "2024-09-17T12:05:57.700897Z"
    },
    "papermill": {
     "duration": 0.043596,
     "end_time": "2024-09-17T12:05:57.705022",
     "exception": false,
     "start_time": "2024-09-17T12:05:57.661426",
     "status": "completed"
    },
    "tags": []
   },
   "outputs": [
    {
     "data": {
      "text/plain": [
       "True"
      ]
     },
     "execution_count": 37,
     "metadata": {},
     "output_type": "execute_result"
    }
   ],
   "source": [
    "'113803'.isnumeric()"
   ]
  },
  {
   "cell_type": "code",
   "execution_count": 38,
   "id": "f12e27bf",
   "metadata": {
    "execution": {
     "iopub.execute_input": "2024-09-17T12:05:57.770189Z",
     "iopub.status.busy": "2024-09-17T12:05:57.769754Z",
     "iopub.status.idle": "2024-09-17T12:05:57.782344Z",
     "shell.execute_reply": "2024-09-17T12:05:57.781155Z"
    },
    "papermill": {
     "duration": 0.047872,
     "end_time": "2024-09-17T12:05:57.784729",
     "exception": false,
     "start_time": "2024-09-17T12:05:57.736857",
     "status": "completed"
    },
    "tags": []
   },
   "outputs": [],
   "source": [
    "concat_df['Ticket_Type'] = concat_df['Ticket'].apply(lambda x: str(x).split(' ')[0])\n",
    "concat_df['Ticket_Type'] = concat_df['Ticket_Type'].apply(lambda x: 'UNK' if str(x).isnumeric() else x)\n",
    "concat_df['Ticket_Type'] = concat_df['Ticket_Type'].apply(lambda x: str(x).replace('.',''))\n",
    "ticket_types = concat_df['Ticket_Type'].value_counts()"
   ]
  },
  {
   "cell_type": "code",
   "execution_count": 39,
   "id": "e45b16ec",
   "metadata": {
    "execution": {
     "iopub.execute_input": "2024-09-17T12:05:57.851652Z",
     "iopub.status.busy": "2024-09-17T12:05:57.851191Z",
     "iopub.status.idle": "2024-09-17T12:05:57.859791Z",
     "shell.execute_reply": "2024-09-17T12:05:57.858632Z"
    },
    "papermill": {
     "duration": 0.045226,
     "end_time": "2024-09-17T12:05:57.862210",
     "exception": false,
     "start_time": "2024-09-17T12:05:57.816984",
     "status": "completed"
    },
    "tags": []
   },
   "outputs": [],
   "source": [
    "concat_df['Ticket_Small_Type'] = concat_df['Ticket_Type'].apply(lambda x: str(x).split('/')[0])\n",
    "ticket_small_types = concat_df['Ticket_Small_Type'].value_counts()"
   ]
  },
  {
   "cell_type": "code",
   "execution_count": 40,
   "id": "da89d677",
   "metadata": {
    "execution": {
     "iopub.execute_input": "2024-09-17T12:05:57.927207Z",
     "iopub.status.busy": "2024-09-17T12:05:57.926397Z",
     "iopub.status.idle": "2024-09-17T12:05:57.949862Z",
     "shell.execute_reply": "2024-09-17T12:05:57.948653Z"
    },
    "papermill": {
     "duration": 0.058507,
     "end_time": "2024-09-17T12:05:57.952277",
     "exception": false,
     "start_time": "2024-09-17T12:05:57.893770",
     "status": "completed"
    },
    "tags": []
   },
   "outputs": [],
   "source": [
    "concat_df['Ticket_Type'] = concat_df['Ticket_Type'].apply(lambda x: x if ticket_types.get(x)>=4 else 'rem')\n",
    "concat_df['Ticket_Small_Type'] = concat_df['Ticket_Small_Type'].apply(lambda x: x if ticket_small_types.get(x)>=4 else 'rem')"
   ]
  },
  {
   "cell_type": "markdown",
   "id": "de4517aa",
   "metadata": {
    "papermill": {
     "duration": 0.030881,
     "end_time": "2024-09-17T12:05:58.016018",
     "exception": false,
     "start_time": "2024-09-17T12:05:57.985137",
     "status": "completed"
    },
    "tags": []
   },
   "source": [
    "### Interactive Feature"
   ]
  },
  {
   "cell_type": "code",
   "execution_count": 41,
   "id": "2655493e",
   "metadata": {
    "execution": {
     "iopub.execute_input": "2024-09-17T12:05:58.080821Z",
     "iopub.status.busy": "2024-09-17T12:05:58.080363Z",
     "iopub.status.idle": "2024-09-17T12:05:58.087401Z",
     "shell.execute_reply": "2024-09-17T12:05:58.086144Z"
    },
    "papermill": {
     "duration": 0.042563,
     "end_time": "2024-09-17T12:05:58.089923",
     "exception": false,
     "start_time": "2024-09-17T12:05:58.047360",
     "status": "completed"
    },
    "tags": []
   },
   "outputs": [],
   "source": [
    "concat_df['FarePerMember'] = concat_df['Fare']/(concat_df['FamilySize']+1)"
   ]
  },
  {
   "cell_type": "code",
   "execution_count": 42,
   "id": "449c8815",
   "metadata": {
    "execution": {
     "iopub.execute_input": "2024-09-17T12:05:58.155106Z",
     "iopub.status.busy": "2024-09-17T12:05:58.154664Z",
     "iopub.status.idle": "2024-09-17T12:05:58.173179Z",
     "shell.execute_reply": "2024-09-17T12:05:58.171803Z"
    },
    "papermill": {
     "duration": 0.053889,
     "end_time": "2024-09-17T12:05:58.175763",
     "exception": false,
     "start_time": "2024-09-17T12:05:58.121874",
     "status": "completed"
    },
    "tags": []
   },
   "outputs": [
    {
     "data": {
      "text/plain": [
       "count    1309.000000\n",
       "mean        6.099640\n",
       "std         1.953648\n",
       "min         0.095310\n",
       "25%         4.987167\n",
       "50%         6.143079\n",
       "75%         6.516193\n",
       "max        12.726138\n",
       "Name: log_Fare*Pclass, dtype: float64"
      ]
     },
     "execution_count": 42,
     "metadata": {},
     "output_type": "execute_result"
    }
   ],
   "source": [
    "concat_df['log_Fare*Pclass'] = concat_df['log_Fare'] * concat_df['Pclass']\n",
    "concat_df['log_Fare*Pclass'].describe()"
   ]
  },
  {
   "cell_type": "code",
   "execution_count": 43,
   "id": "b48ac115",
   "metadata": {
    "execution": {
     "iopub.execute_input": "2024-09-17T12:05:58.242048Z",
     "iopub.status.busy": "2024-09-17T12:05:58.241614Z",
     "iopub.status.idle": "2024-09-17T12:05:58.562312Z",
     "shell.execute_reply": "2024-09-17T12:05:58.560916Z"
    },
    "papermill": {
     "duration": 0.356335,
     "end_time": "2024-09-17T12:05:58.565174",
     "exception": false,
     "start_time": "2024-09-17T12:05:58.208839",
     "status": "completed"
    },
    "tags": []
   },
   "outputs": [
    {
     "data": {
      "image/png": "[encoded data removed]",
      "text/plain": [
       "<Figure size 1200x800 with 1 Axes>"
      ]
     },
     "metadata": {},
     "output_type": "display_data"
    }
   ],
   "source": [
    "plt.figure(figsize=(12,8))\n",
    "plt.hist(concat_df['log_Fare*Pclass'], bins=10);"
   ]
  },
  {
   "cell_type": "code",
   "execution_count": 44,
   "id": "f511fe84",
   "metadata": {
    "execution": {
     "iopub.execute_input": "2024-09-17T12:05:58.633218Z",
     "iopub.status.busy": "2024-09-17T12:05:58.632228Z",
     "iopub.status.idle": "2024-09-17T12:05:58.638677Z",
     "shell.execute_reply": "2024-09-17T12:05:58.637581Z"
    },
    "papermill": {
     "duration": 0.042491,
     "end_time": "2024-09-17T12:05:58.641117",
     "exception": false,
     "start_time": "2024-09-17T12:05:58.598626",
     "status": "completed"
    },
    "tags": []
   },
   "outputs": [],
   "source": [
    "concat_df['Age*Pclass'] = concat_df['Age'] * concat_df['Pclass']"
   ]
  },
  {
   "cell_type": "code",
   "execution_count": 45,
   "id": "1e2a27e9",
   "metadata": {
    "execution": {
     "iopub.execute_input": "2024-09-17T12:05:58.708636Z",
     "iopub.status.busy": "2024-09-17T12:05:58.708173Z",
     "iopub.status.idle": "2024-09-17T12:05:58.714617Z",
     "shell.execute_reply": "2024-09-17T12:05:58.713439Z"
    },
    "papermill": {
     "duration": 0.042782,
     "end_time": "2024-09-17T12:05:58.717094",
     "exception": false,
     "start_time": "2024-09-17T12:05:58.674312",
     "status": "completed"
    },
    "tags": []
   },
   "outputs": [],
   "source": [
    "concat_df['Pclass+FamilySize'] = concat_df['Pclass'] + concat_df['FamilySize']"
   ]
  },
  {
   "cell_type": "markdown",
   "id": "76d20783",
   "metadata": {
    "papermill": {
     "duration": 0.031402,
     "end_time": "2024-09-17T12:05:58.781131",
     "exception": false,
     "start_time": "2024-09-17T12:05:58.749729",
     "status": "completed"
    },
    "tags": []
   },
   "source": [
    "## Preprocessing"
   ]
  },
  {
   "cell_type": "code",
   "execution_count": 46,
   "id": "827a968f",
   "metadata": {
    "execution": {
     "iopub.execute_input": "2024-09-17T12:05:58.846621Z",
     "iopub.status.busy": "2024-09-17T12:05:58.846163Z",
     "iopub.status.idle": "2024-09-17T12:05:58.858304Z",
     "shell.execute_reply": "2024-09-17T12:05:58.856896Z"
    },
    "papermill": {
     "duration": 0.048085,
     "end_time": "2024-09-17T12:05:58.860953",
     "exception": false,
     "start_time": "2024-09-17T12:05:58.812868",
     "status": "completed"
    },
    "tags": []
   },
   "outputs": [
    {
     "data": {
      "text/plain": [
       "PassengerId             0\n",
       "Survived              418\n",
       "Pclass                  0\n",
       "Name                    0\n",
       "Sex                     0\n",
       "Age                     0\n",
       "SibSp                   0\n",
       "Parch                   0\n",
       "Ticket                  0\n",
       "Fare                    0\n",
       "Cabin                1014\n",
       "Embarked                0\n",
       "AgeGroup                0\n",
       "Title                   0\n",
       "Deck                    0\n",
       "log_Fare                0\n",
       "FamilySize              0\n",
       "Ticket_Type             0\n",
       "Ticket_Small_Type       0\n",
       "FarePerMember           0\n",
       "log_Fare*Pclass         0\n",
       "Age*Pclass              0\n",
       "Pclass+FamilySize       0\n",
       "dtype: int64"
      ]
     },
     "execution_count": 46,
     "metadata": {},
     "output_type": "execute_result"
    }
   ],
   "source": [
    "concat_df.isna().sum()"
   ]
  },
  {
   "cell_type": "code",
   "execution_count": 47,
   "id": "8765d32f",
   "metadata": {
    "execution": {
     "iopub.execute_input": "2024-09-17T12:05:58.927075Z",
     "iopub.status.busy": "2024-09-17T12:05:58.926612Z",
     "iopub.status.idle": "2024-09-17T12:05:58.934521Z",
     "shell.execute_reply": "2024-09-17T12:05:58.933368Z"
    },
    "papermill": {
     "duration": 0.043942,
     "end_time": "2024-09-17T12:05:58.937087",
     "exception": false,
     "start_time": "2024-09-17T12:05:58.893145",
     "status": "completed"
    },
    "tags": []
   },
   "outputs": [
    {
     "data": {
      "text/plain": [
       "Index(['PassengerId', 'Survived', 'Pclass', 'Name', 'Sex', 'Age', 'SibSp',\n",
       "       'Parch', 'Ticket', 'Fare', 'Cabin', 'Embarked', 'AgeGroup', 'Title',\n",
       "       'Deck', 'log_Fare', 'FamilySize', 'Ticket_Type', 'Ticket_Small_Type',\n",
       "       'FarePerMember', 'log_Fare*Pclass', 'Age*Pclass', 'Pclass+FamilySize'],\n",
       "      dtype='object')"
      ]
     },
     "execution_count": 47,
     "metadata": {},
     "output_type": "execute_result"
    }
   ],
   "source": [
    "concat_df.columns"
   ]
  },
  {
   "cell_type": "code",
   "execution_count": 48,
   "id": "0c49f5e4",
   "metadata": {
    "execution": {
     "iopub.execute_input": "2024-09-17T12:05:59.005629Z",
     "iopub.status.busy": "2024-09-17T12:05:59.005178Z",
     "iopub.status.idle": "2024-09-17T12:05:59.011136Z",
     "shell.execute_reply": "2024-09-17T12:05:59.009993Z"
    },
    "papermill": {
     "duration": 0.044178,
     "end_time": "2024-09-17T12:05:59.013527",
     "exception": false,
     "start_time": "2024-09-17T12:05:58.969349",
     "status": "completed"
    },
    "tags": []
   },
   "outputs": [],
   "source": [
    "numeric_cols = ['Age','SibSp','Parch','Fare','log_Fare','FamilySize',\n",
    "                'FarePerMember','log_Fare*Pclass','Age*Pclass',\n",
    "                'Pclass+FamilySize','Pclass','AgeGroup']\n",
    "categorical_cols = ['Sex','Embarked','Title','Deck',\n",
    "                    'Ticket_Type','Ticket_Small_Type']"
   ]
  },
  {
   "cell_type": "code",
   "execution_count": 49,
   "id": "1bf0394c",
   "metadata": {
    "execution": {
     "iopub.execute_input": "2024-09-17T12:05:59.079850Z",
     "iopub.status.busy": "2024-09-17T12:05:59.079362Z",
     "iopub.status.idle": "2024-09-17T12:05:59.092937Z",
     "shell.execute_reply": "2024-09-17T12:05:59.091689Z"
    },
    "papermill": {
     "duration": 0.049367,
     "end_time": "2024-09-17T12:05:59.095437",
     "exception": false,
     "start_time": "2024-09-17T12:05:59.046070",
     "status": "completed"
    },
    "tags": []
   },
   "outputs": [
    {
     "data": {
      "text/html": [
       "<style>#sk-container-id-1 {color: black;background-color: white;}#sk-container-id-1 pre{padding: 0;}#sk-container-id-1 div.sk-toggleable {background-color: white;}#sk-container-id-1 label.sk-toggleable__label {cursor: pointer;display: block;width: 100%;margin-bottom: 0;padding: 0.3em;box-sizing: border-box;text-align: center;}#sk-container-id-1 label.sk-toggleable__label-arrow:before {content: \"▸\";float: left;margin-right: 0.25em;color: #696969;}#sk-container-id-1 label.sk-toggleable__label-arrow:hover:before {color: black;}#sk-container-id-1 div.sk-estimator:hover label.sk-toggleable__label-arrow:before {color: black;}#sk-container-id-1 div.sk-toggleable__content {max-height: 0;max-width: 0;overflow: hidden;text-align: left;background-color: #f0f8ff;}#sk-container-id-1 div.sk-toggleable__content pre {margin: 0.2em;color: black;border-radius: 0.25em;background-color: #f0f8ff;}#sk-container-id-1 input.sk-toggleable__control:checked~div.sk-toggleable__content {max-height: 200px;max-width: 100%;overflow: auto;}#sk-container-id-1 input.sk-toggleable__control:checked~label.sk-toggleable__label-arrow:before {content: \"▾\";}#sk-container-id-1 div.sk-estimator input.sk-toggleable__control:checked~label.sk-toggleable__label {background-color: #d4ebff;}#sk-container-id-1 div.sk-label input.sk-toggleable__control:checked~label.sk-toggleable__label {background-color: #d4ebff;}#sk-container-id-1 input.sk-hidden--visually {border: 0;clip: rect(1px 1px 1px 1px);clip: rect(1px, 1px, 1px, 1px);height: 1px;margin: -1px;overflow: hidden;padding: 0;position: absolute;width: 1px;}#sk-container-id-1 div.sk-estimator {font-family: monospace;background-color: #f0f8ff;border: 1px dotted black;border-radius: 0.25em;box-sizing: border-box;margin-bottom: 0.5em;}#sk-container-id-1 div.sk-estimator:hover {background-color: #d4ebff;}#sk-container-id-1 div.sk-parallel-item::after {content: \"\";width: 100%;border-bottom: 1px solid gray;flex-grow: 1;}#sk-container-id-1 div.sk-label:hover label.sk-toggleable__label {background-color: #d4ebff;}#sk-container-id-1 div.sk-serial::before {content: \"\";position: absolute;border-left: 1px solid gray;box-sizing: border-box;top: 0;bottom: 0;left: 50%;z-index: 0;}#sk-container-id-1 div.sk-serial {display: flex;flex-direction: column;align-items: center;background-color: white;padding-right: 0.2em;padding-left: 0.2em;position: relative;}#sk-container-id-1 div.sk-item {position: relative;z-index: 1;}#sk-container-id-1 div.sk-parallel {display: flex;align-items: stretch;justify-content: center;background-color: white;position: relative;}#sk-container-id-1 div.sk-item::before, #sk-container-id-1 div.sk-parallel-item::before {content: \"\";position: absolute;border-left: 1px solid gray;box-sizing: border-box;top: 0;bottom: 0;left: 50%;z-index: -1;}#sk-container-id-1 div.sk-parallel-item {display: flex;flex-direction: column;z-index: 1;position: relative;background-color: white;}#sk-container-id-1 div.sk-parallel-item:first-child::after {align-self: flex-end;width: 50%;}#sk-container-id-1 div.sk-parallel-item:last-child::after {align-self: flex-start;width: 50%;}#sk-container-id-1 div.sk-parallel-item:only-child::after {width: 0;}#sk-container-id-1 div.sk-dashed-wrapped {border: 1px dashed gray;margin: 0 0.4em 0.5em 0.4em;box-sizing: border-box;padding-bottom: 0.4em;background-color: white;}#sk-container-id-1 div.sk-label label {font-family: monospace;font-weight: bold;display: inline-block;line-height: 1.2em;}#sk-container-id-1 div.sk-label-container {text-align: center;}#sk-container-id-1 div.sk-container {/* jupyter's `normalize.less` sets `[hidden] { display: none; }` but bootstrap.min.css set `[hidden] { display: none !important; }` so we also need the `!important` here to be able to override the default hidden behavior on the sphinx rendered scikit-learn.org. See: https://github.com/scikit-learn/scikit-learn/issues/21755 */display: inline-block !important;position: relative;}#sk-container-id-1 div.sk-text-repr-fallback {display: none;}</style><div id=\"sk-container-id-1\" class=\"sk-top-container\"><div class=\"sk-text-repr-fallback\"><pre>OrdinalEncoder()</pre><b>In a Jupyter environment, please rerun this cell to show the HTML representation or trust the notebook. <br />On GitHub, the HTML representation is unable to render, please try loading this page with nbviewer.org.</b></div><div class=\"sk-container\" hidden><div class=\"sk-item\"><div class=\"sk-estimator sk-toggleable\"><input class=\"sk-toggleable__control sk-hidden--visually\" id=\"sk-estimator-id-1\" type=\"checkbox\" checked><label for=\"sk-estimator-id-1\" class=\"sk-toggleable__label sk-toggleable__label-arrow\">OrdinalEncoder</label><div class=\"sk-toggleable__content\"><pre>OrdinalEncoder()</pre></div></div></div></div></div>"
      ],
      "text/plain": [
       "OrdinalEncoder()"
      ]
     },
     "execution_count": 49,
     "metadata": {},
     "output_type": "execute_result"
    }
   ],
   "source": [
    "encoder = OrdinalEncoder()\n",
    "encoder.fit(concat_df[categorical_cols])"
   ]
  },
  {
   "cell_type": "code",
   "execution_count": 50,
   "id": "5349e639",
   "metadata": {
    "execution": {
     "iopub.execute_input": "2024-09-17T12:05:59.163262Z",
     "iopub.status.busy": "2024-09-17T12:05:59.162840Z",
     "iopub.status.idle": "2024-09-17T12:05:59.175935Z",
     "shell.execute_reply": "2024-09-17T12:05:59.174868Z"
    },
    "papermill": {
     "duration": 0.049685,
     "end_time": "2024-09-17T12:05:59.178585",
     "exception": false,
     "start_time": "2024-09-17T12:05:59.128900",
     "status": "completed"
    },
    "tags": []
   },
   "outputs": [],
   "source": [
    "concat_df[categorical_cols] = encoder.transform(concat_df[categorical_cols])"
   ]
  },
  {
   "cell_type": "code",
   "execution_count": 51,
   "id": "ce63003a",
   "metadata": {
    "execution": {
     "iopub.execute_input": "2024-09-17T12:05:59.246906Z",
     "iopub.status.busy": "2024-09-17T12:05:59.245885Z",
     "iopub.status.idle": "2024-09-17T12:05:59.264404Z",
     "shell.execute_reply": "2024-09-17T12:05:59.263170Z"
    },
    "papermill": {
     "duration": 0.055867,
     "end_time": "2024-09-17T12:05:59.266999",
     "exception": false,
     "start_time": "2024-09-17T12:05:59.211132",
     "status": "completed"
    },
    "tags": []
   },
   "outputs": [
    {
     "data": {
      "text/html": [
       "<div>\n",
       "<style scoped>\n",
       "    .dataframe tbody tr th:only-of-type {\n",
       "        vertical-align: middle;\n",
       "    }\n",
       "\n",
       "    .dataframe tbody tr th {\n",
       "        vertical-align: top;\n",
       "    }\n",
       "\n",
       "    .dataframe thead th {\n",
       "        text-align: right;\n",
       "    }\n",
       "</style>\n",
       "<table border=\"1\" class=\"dataframe\">\n",
       "  <thead>\n",
       "    <tr style=\"text-align: right;\">\n",
       "      <th></th>\n",
       "      <th>Sex</th>\n",
       "      <th>Embarked</th>\n",
       "      <th>Title</th>\n",
       "      <th>Deck</th>\n",
       "      <th>Ticket_Type</th>\n",
       "      <th>Ticket_Small_Type</th>\n",
       "    </tr>\n",
       "  </thead>\n",
       "  <tbody>\n",
       "    <tr>\n",
       "      <th>0</th>\n",
       "      <td>1</td>\n",
       "      <td>2</td>\n",
       "      <td>2</td>\n",
       "      <td>8</td>\n",
       "      <td>1</td>\n",
       "      <td>0</td>\n",
       "    </tr>\n",
       "    <tr>\n",
       "      <th>1</th>\n",
       "      <td>0</td>\n",
       "      <td>0</td>\n",
       "      <td>3</td>\n",
       "      <td>2</td>\n",
       "      <td>6</td>\n",
       "      <td>5</td>\n",
       "    </tr>\n",
       "    <tr>\n",
       "      <th>2</th>\n",
       "      <td>0</td>\n",
       "      <td>2</td>\n",
       "      <td>1</td>\n",
       "      <td>8</td>\n",
       "      <td>15</td>\n",
       "      <td>11</td>\n",
       "    </tr>\n",
       "    <tr>\n",
       "      <th>3</th>\n",
       "      <td>0</td>\n",
       "      <td>2</td>\n",
       "      <td>3</td>\n",
       "      <td>2</td>\n",
       "      <td>16</td>\n",
       "      <td>12</td>\n",
       "    </tr>\n",
       "    <tr>\n",
       "      <th>4</th>\n",
       "      <td>1</td>\n",
       "      <td>2</td>\n",
       "      <td>2</td>\n",
       "      <td>8</td>\n",
       "      <td>16</td>\n",
       "      <td>12</td>\n",
       "    </tr>\n",
       "    <tr>\n",
       "      <th>...</th>\n",
       "      <td>...</td>\n",
       "      <td>...</td>\n",
       "      <td>...</td>\n",
       "      <td>...</td>\n",
       "      <td>...</td>\n",
       "      <td>...</td>\n",
       "    </tr>\n",
       "    <tr>\n",
       "      <th>413</th>\n",
       "      <td>1</td>\n",
       "      <td>2</td>\n",
       "      <td>2</td>\n",
       "      <td>8</td>\n",
       "      <td>18</td>\n",
       "      <td>14</td>\n",
       "    </tr>\n",
       "    <tr>\n",
       "      <th>414</th>\n",
       "      <td>0</td>\n",
       "      <td>0</td>\n",
       "      <td>2</td>\n",
       "      <td>2</td>\n",
       "      <td>6</td>\n",
       "      <td>5</td>\n",
       "    </tr>\n",
       "    <tr>\n",
       "      <th>415</th>\n",
       "      <td>1</td>\n",
       "      <td>2</td>\n",
       "      <td>2</td>\n",
       "      <td>8</td>\n",
       "      <td>13</td>\n",
       "      <td>10</td>\n",
       "    </tr>\n",
       "    <tr>\n",
       "      <th>416</th>\n",
       "      <td>1</td>\n",
       "      <td>2</td>\n",
       "      <td>2</td>\n",
       "      <td>8</td>\n",
       "      <td>16</td>\n",
       "      <td>12</td>\n",
       "    </tr>\n",
       "    <tr>\n",
       "      <th>417</th>\n",
       "      <td>1</td>\n",
       "      <td>0</td>\n",
       "      <td>0</td>\n",
       "      <td>8</td>\n",
       "      <td>16</td>\n",
       "      <td>12</td>\n",
       "    </tr>\n",
       "  </tbody>\n",
       "</table>\n",
       "<p>1309 rows × 6 columns</p>\n",
       "</div>"
      ],
      "text/plain": [
       "     Sex  Embarked  Title  Deck  Ticket_Type  Ticket_Small_Type\n",
       "0      1         2      2     8            1                  0\n",
       "1      0         0      3     2            6                  5\n",
       "2      0         2      1     8           15                 11\n",
       "3      0         2      3     2           16                 12\n",
       "4      1         2      2     8           16                 12\n",
       "..   ...       ...    ...   ...          ...                ...\n",
       "413    1         2      2     8           18                 14\n",
       "414    0         0      2     2            6                  5\n",
       "415    1         2      2     8           13                 10\n",
       "416    1         2      2     8           16                 12\n",
       "417    1         0      0     8           16                 12\n",
       "\n",
       "[1309 rows x 6 columns]"
      ]
     },
     "execution_count": 51,
     "metadata": {},
     "output_type": "execute_result"
    }
   ],
   "source": [
    "concat_df[categorical_cols] = concat_df[categorical_cols].astype('int32')\n",
    "concat_df[categorical_cols]"
   ]
  },
  {
   "cell_type": "code",
   "execution_count": 52,
   "id": "4484e318",
   "metadata": {
    "execution": {
     "iopub.execute_input": "2024-09-17T12:05:59.335740Z",
     "iopub.status.busy": "2024-09-17T12:05:59.335261Z",
     "iopub.status.idle": "2024-09-17T12:05:59.401998Z",
     "shell.execute_reply": "2024-09-17T12:05:59.400701Z"
    },
    "papermill": {
     "duration": 0.103843,
     "end_time": "2024-09-17T12:05:59.404672",
     "exception": false,
     "start_time": "2024-09-17T12:05:59.300829",
     "status": "completed"
    },
    "tags": []
   },
   "outputs": [
    {
     "data": {
      "text/html": [
       "<div>\n",
       "<style scoped>\n",
       "    .dataframe tbody tr th:only-of-type {\n",
       "        vertical-align: middle;\n",
       "    }\n",
       "\n",
       "    .dataframe tbody tr th {\n",
       "        vertical-align: top;\n",
       "    }\n",
       "\n",
       "    .dataframe thead th {\n",
       "        text-align: right;\n",
       "    }\n",
       "</style>\n",
       "<table border=\"1\" class=\"dataframe\">\n",
       "  <thead>\n",
       "    <tr style=\"text-align: right;\">\n",
       "      <th></th>\n",
       "      <th>Age</th>\n",
       "      <th>SibSp</th>\n",
       "      <th>Parch</th>\n",
       "      <th>Fare</th>\n",
       "      <th>log_Fare</th>\n",
       "      <th>FamilySize</th>\n",
       "      <th>FarePerMember</th>\n",
       "      <th>log_Fare*Pclass</th>\n",
       "      <th>Age*Pclass</th>\n",
       "      <th>Pclass+FamilySize</th>\n",
       "      <th>Pclass</th>\n",
       "      <th>AgeGroup</th>\n",
       "      <th>Sex</th>\n",
       "      <th>Embarked</th>\n",
       "      <th>Title</th>\n",
       "      <th>Deck</th>\n",
       "      <th>Ticket_Type</th>\n",
       "      <th>Ticket_Small_Type</th>\n",
       "    </tr>\n",
       "  </thead>\n",
       "  <tbody>\n",
       "    <tr>\n",
       "      <th>count</th>\n",
       "      <td>1309.000000</td>\n",
       "      <td>1309.000000</td>\n",
       "      <td>1309.000000</td>\n",
       "      <td>1309.000000</td>\n",
       "      <td>1309.000000</td>\n",
       "      <td>1309.000000</td>\n",
       "      <td>1309.000000</td>\n",
       "      <td>1309.000000</td>\n",
       "      <td>1309.000000</td>\n",
       "      <td>1309.000000</td>\n",
       "      <td>1309.000000</td>\n",
       "      <td>1309.000000</td>\n",
       "      <td>1309.000000</td>\n",
       "      <td>1309.000000</td>\n",
       "      <td>1309.000000</td>\n",
       "      <td>1309.000000</td>\n",
       "      <td>1309.000000</td>\n",
       "      <td>1309.000000</td>\n",
       "    </tr>\n",
       "    <tr>\n",
       "      <th>mean</th>\n",
       "      <td>29.881138</td>\n",
       "      <td>0.498854</td>\n",
       "      <td>0.385027</td>\n",
       "      <td>33.309768</td>\n",
       "      <td>2.912283</td>\n",
       "      <td>0.883881</td>\n",
       "      <td>20.542265</td>\n",
       "      <td>6.099640</td>\n",
       "      <td>64.622086</td>\n",
       "      <td>3.178762</td>\n",
       "      <td>2.294882</td>\n",
       "      <td>3.087089</td>\n",
       "      <td>0.644003</td>\n",
       "      <td>1.493506</td>\n",
       "      <td>1.868602</td>\n",
       "      <td>6.727273</td>\n",
       "      <td>13.802903</td>\n",
       "      <td>10.314744</td>\n",
       "    </tr>\n",
       "    <tr>\n",
       "      <th>std</th>\n",
       "      <td>12.883193</td>\n",
       "      <td>1.041658</td>\n",
       "      <td>0.865560</td>\n",
       "      <td>51.729828</td>\n",
       "      <td>1.000459</td>\n",
       "      <td>1.583639</td>\n",
       "      <td>35.754414</td>\n",
       "      <td>1.953648</td>\n",
       "      <td>31.710022</td>\n",
       "      <td>1.828288</td>\n",
       "      <td>0.837836</td>\n",
       "      <td>1.004604</td>\n",
       "      <td>0.478997</td>\n",
       "      <td>0.814244</td>\n",
       "      <td>0.728095</td>\n",
       "      <td>2.456601</td>\n",
       "      <td>4.616911</td>\n",
       "      <td>3.510614</td>\n",
       "    </tr>\n",
       "    <tr>\n",
       "      <th>min</th>\n",
       "      <td>0.170000</td>\n",
       "      <td>0.000000</td>\n",
       "      <td>0.000000</td>\n",
       "      <td>1.100000</td>\n",
       "      <td>0.095310</td>\n",
       "      <td>0.000000</td>\n",
       "      <td>1.100000</td>\n",
       "      <td>0.095310</td>\n",
       "      <td>0.510000</td>\n",
       "      <td>1.000000</td>\n",
       "      <td>1.000000</td>\n",
       "      <td>0.000000</td>\n",
       "      <td>0.000000</td>\n",
       "      <td>0.000000</td>\n",
       "      <td>0.000000</td>\n",
       "      <td>0.000000</td>\n",
       "      <td>0.000000</td>\n",
       "      <td>0.000000</td>\n",
       "    </tr>\n",
       "    <tr>\n",
       "      <th>25%</th>\n",
       "      <td>22.000000</td>\n",
       "      <td>0.000000</td>\n",
       "      <td>0.000000</td>\n",
       "      <td>7.895800</td>\n",
       "      <td>2.066331</td>\n",
       "      <td>0.000000</td>\n",
       "      <td>7.452767</td>\n",
       "      <td>4.987167</td>\n",
       "      <td>42.000000</td>\n",
       "      <td>2.000000</td>\n",
       "      <td>2.000000</td>\n",
       "      <td>3.000000</td>\n",
       "      <td>0.000000</td>\n",
       "      <td>1.000000</td>\n",
       "      <td>2.000000</td>\n",
       "      <td>8.000000</td>\n",
       "      <td>16.000000</td>\n",
       "      <td>12.000000</td>\n",
       "    </tr>\n",
       "    <tr>\n",
       "      <th>50%</th>\n",
       "      <td>29.881138</td>\n",
       "      <td>0.000000</td>\n",
       "      <td>0.000000</td>\n",
       "      <td>14.454200</td>\n",
       "      <td>2.670985</td>\n",
       "      <td>0.000000</td>\n",
       "      <td>8.566667</td>\n",
       "      <td>6.143079</td>\n",
       "      <td>62.000000</td>\n",
       "      <td>3.000000</td>\n",
       "      <td>3.000000</td>\n",
       "      <td>3.000000</td>\n",
       "      <td>1.000000</td>\n",
       "      <td>2.000000</td>\n",
       "      <td>2.000000</td>\n",
       "      <td>8.000000</td>\n",
       "      <td>16.000000</td>\n",
       "      <td>12.000000</td>\n",
       "    </tr>\n",
       "    <tr>\n",
       "      <th>75%</th>\n",
       "      <td>35.000000</td>\n",
       "      <td>1.000000</td>\n",
       "      <td>0.000000</td>\n",
       "      <td>31.275000</td>\n",
       "      <td>3.442819</td>\n",
       "      <td>1.000000</td>\n",
       "      <td>24.500000</td>\n",
       "      <td>6.516193</td>\n",
       "      <td>89.643413</td>\n",
       "      <td>3.000000</td>\n",
       "      <td>3.000000</td>\n",
       "      <td>4.000000</td>\n",
       "      <td>1.000000</td>\n",
       "      <td>2.000000</td>\n",
       "      <td>2.000000</td>\n",
       "      <td>8.000000</td>\n",
       "      <td>16.000000</td>\n",
       "      <td>12.000000</td>\n",
       "    </tr>\n",
       "    <tr>\n",
       "      <th>max</th>\n",
       "      <td>80.000000</td>\n",
       "      <td>8.000000</td>\n",
       "      <td>9.000000</td>\n",
       "      <td>512.329200</td>\n",
       "      <td>6.238967</td>\n",
       "      <td>10.000000</td>\n",
       "      <td>512.329200</td>\n",
       "      <td>12.726138</td>\n",
       "      <td>222.000000</td>\n",
       "      <td>13.000000</td>\n",
       "      <td>3.000000</td>\n",
       "      <td>5.000000</td>\n",
       "      <td>1.000000</td>\n",
       "      <td>2.000000</td>\n",
       "      <td>3.000000</td>\n",
       "      <td>8.000000</td>\n",
       "      <td>18.000000</td>\n",
       "      <td>14.000000</td>\n",
       "    </tr>\n",
       "  </tbody>\n",
       "</table>\n",
       "</div>"
      ],
      "text/plain": [
       "               Age        SibSp        Parch         Fare     log_Fare  \\\n",
       "count  1309.000000  1309.000000  1309.000000  1309.000000  1309.000000   \n",
       "mean     29.881138     0.498854     0.385027    33.309768     2.912283   \n",
       "std      12.883193     1.041658     0.865560    51.729828     1.000459   \n",
       "min       0.170000     0.000000     0.000000     1.100000     0.095310   \n",
       "25%      22.000000     0.000000     0.000000     7.895800     2.066331   \n",
       "50%      29.881138     0.000000     0.000000    14.454200     2.670985   \n",
       "75%      35.000000     1.000000     0.000000    31.275000     3.442819   \n",
       "max      80.000000     8.000000     9.000000   512.329200     6.238967   \n",
       "\n",
       "        FamilySize  FarePerMember  log_Fare*Pclass   Age*Pclass  \\\n",
       "count  1309.000000    1309.000000      1309.000000  1309.000000   \n",
       "mean      0.883881      20.542265         6.099640    64.622086   \n",
       "std       1.583639      35.754414         1.953648    31.710022   \n",
       "min       0.000000       1.100000         0.095310     0.510000   \n",
       "25%       0.000000       7.452767         4.987167    42.000000   \n",
       "50%       0.000000       8.566667         6.143079    62.000000   \n",
       "75%       1.000000      24.500000         6.516193    89.643413   \n",
       "max      10.000000     512.329200        12.726138   222.000000   \n",
       "\n",
       "       Pclass+FamilySize       Pclass     AgeGroup          Sex     Embarked  \\\n",
       "count        1309.000000  1309.000000  1309.000000  1309.000000  1309.000000   \n",
       "mean            3.178762     2.294882     3.087089     0.644003     1.493506   \n",
       "std             1.828288     0.837836     1.004604     0.478997     0.814244   \n",
       "min             1.000000     1.000000     0.000000     0.000000     0.000000   \n",
       "25%             2.000000     2.000000     3.000000     0.000000     1.000000   \n",
       "50%             3.000000     3.000000     3.000000     1.000000     2.000000   \n",
       "75%             3.000000     3.000000     4.000000     1.000000     2.000000   \n",
       "max            13.000000     3.000000     5.000000     1.000000     2.000000   \n",
       "\n",
       "             Title         Deck  Ticket_Type  Ticket_Small_Type  \n",
       "count  1309.000000  1309.000000  1309.000000        1309.000000  \n",
       "mean      1.868602     6.727273    13.802903          10.314744  \n",
       "std       0.728095     2.456601     4.616911           3.510614  \n",
       "min       0.000000     0.000000     0.000000           0.000000  \n",
       "25%       2.000000     8.000000    16.000000          12.000000  \n",
       "50%       2.000000     8.000000    16.000000          12.000000  \n",
       "75%       2.000000     8.000000    16.000000          12.000000  \n",
       "max       3.000000     8.000000    18.000000          14.000000  "
      ]
     },
     "execution_count": 52,
     "metadata": {},
     "output_type": "execute_result"
    }
   ],
   "source": [
    "input_cols = numeric_cols + categorical_cols\n",
    "concat_df[input_cols].describe()"
   ]
  },
  {
   "cell_type": "code",
   "execution_count": 53,
   "id": "6d826ac3",
   "metadata": {
    "execution": {
     "iopub.execute_input": "2024-09-17T12:05:59.473834Z",
     "iopub.status.busy": "2024-09-17T12:05:59.473379Z",
     "iopub.status.idle": "2024-09-17T12:05:59.481800Z",
     "shell.execute_reply": "2024-09-17T12:05:59.480431Z"
    },
    "papermill": {
     "duration": 0.045696,
     "end_time": "2024-09-17T12:05:59.484429",
     "exception": false,
     "start_time": "2024-09-17T12:05:59.438733",
     "status": "completed"
    },
    "tags": []
   },
   "outputs": [
    {
     "data": {
      "text/plain": [
       "892"
      ]
     },
     "execution_count": 53,
     "metadata": {},
     "output_type": "execute_result"
    }
   ],
   "source": [
    "test_df['PassengerId'].min()"
   ]
  },
  {
   "cell_type": "code",
   "execution_count": 54,
   "id": "0251cff9",
   "metadata": {
    "execution": {
     "iopub.execute_input": "2024-09-17T12:05:59.554326Z",
     "iopub.status.busy": "2024-09-17T12:05:59.553322Z",
     "iopub.status.idle": "2024-09-17T12:05:59.563508Z",
     "shell.execute_reply": "2024-09-17T12:05:59.562369Z"
    },
    "papermill": {
     "duration": 0.048489,
     "end_time": "2024-09-17T12:05:59.566703",
     "exception": false,
     "start_time": "2024-09-17T12:05:59.518214",
     "status": "completed"
    },
    "tags": []
   },
   "outputs": [],
   "source": [
    "raw_df = concat_df[concat_df['PassengerId']<892]\n",
    "test_df = concat_df[concat_df['PassengerId']>=892]"
   ]
  },
  {
   "cell_type": "markdown",
   "id": "c1ec0f2d",
   "metadata": {
    "papermill": {
     "duration": 0.034382,
     "end_time": "2024-09-17T12:05:59.635360",
     "exception": false,
     "start_time": "2024-09-17T12:05:59.600978",
     "status": "completed"
    },
    "tags": []
   },
   "source": [
    "## Mutual Info"
   ]
  },
  {
   "cell_type": "code",
   "execution_count": 55,
   "id": "4197814d",
   "metadata": {
    "execution": {
     "iopub.execute_input": "2024-09-17T12:05:59.704716Z",
     "iopub.status.busy": "2024-09-17T12:05:59.703813Z",
     "iopub.status.idle": "2024-09-17T12:05:59.711852Z",
     "shell.execute_reply": "2024-09-17T12:05:59.710466Z"
    },
    "papermill": {
     "duration": 0.045372,
     "end_time": "2024-09-17T12:05:59.714419",
     "exception": false,
     "start_time": "2024-09-17T12:05:59.669047",
     "status": "completed"
    },
    "tags": []
   },
   "outputs": [],
   "source": [
    "inputs = raw_df[input_cols]\n",
    "targets = raw_df[target].astype('int8')"
   ]
  },
  {
   "cell_type": "code",
   "execution_count": 56,
   "id": "a2ea1b7f",
   "metadata": {
    "execution": {
     "iopub.execute_input": "2024-09-17T12:05:59.783210Z",
     "iopub.status.busy": "2024-09-17T12:05:59.782788Z",
     "iopub.status.idle": "2024-09-17T12:05:59.953848Z",
     "shell.execute_reply": "2024-09-17T12:05:59.952621Z"
    },
    "papermill": {
     "duration": 0.208474,
     "end_time": "2024-09-17T12:05:59.956390",
     "exception": false,
     "start_time": "2024-09-17T12:05:59.747916",
     "status": "completed"
    },
    "tags": []
   },
   "outputs": [
    {
     "name": "stdout",
     "output_type": "stream",
     "text": [
      "CPU times: user 149 ms, sys: 1.15 ms, total: 150 ms\n",
      "Wall time: 155 ms\n"
     ]
    },
    {
     "data": {
      "text/html": [
       "<style type=\"text/css\">\n",
       "#T_cedf0_row0_col0 {\n",
       "  background-color: #ff00ff;\n",
       "  color: #f1f1f1;\n",
       "}\n",
       "#T_cedf0_row1_col0 {\n",
       "  background-color: #ed12ff;\n",
       "  color: #f1f1f1;\n",
       "}\n",
       "#T_cedf0_row2_col0 {\n",
       "  background-color: #db24ff;\n",
       "  color: #f1f1f1;\n",
       "}\n",
       "#T_cedf0_row3_col0 {\n",
       "  background-color: #da25ff;\n",
       "  color: #f1f1f1;\n",
       "}\n",
       "#T_cedf0_row4_col0 {\n",
       "  background-color: #d02fff;\n",
       "  color: #f1f1f1;\n",
       "}\n",
       "#T_cedf0_row5_col0 {\n",
       "  background-color: #c639ff;\n",
       "  color: #f1f1f1;\n",
       "}\n",
       "#T_cedf0_row6_col0 {\n",
       "  background-color: #6a95ff;\n",
       "  color: #f1f1f1;\n",
       "}\n",
       "#T_cedf0_row7_col0 {\n",
       "  background-color: #5da2ff;\n",
       "  color: #f1f1f1;\n",
       "}\n",
       "#T_cedf0_row8_col0 {\n",
       "  background-color: #4fb0ff;\n",
       "  color: #f1f1f1;\n",
       "}\n",
       "#T_cedf0_row9_col0 {\n",
       "  background-color: #44bbff;\n",
       "  color: #000000;\n",
       "}\n",
       "#T_cedf0_row10_col0 {\n",
       "  background-color: #2ad5ff;\n",
       "  color: #000000;\n",
       "}\n",
       "#T_cedf0_row11_col0 {\n",
       "  background-color: #27d8ff;\n",
       "  color: #000000;\n",
       "}\n",
       "#T_cedf0_row12_col0 {\n",
       "  background-color: #1fe0ff;\n",
       "  color: #000000;\n",
       "}\n",
       "#T_cedf0_row13_col0 {\n",
       "  background-color: #02fdff;\n",
       "  color: #000000;\n",
       "}\n",
       "#T_cedf0_row14_col0, #T_cedf0_row15_col0, #T_cedf0_row16_col0, #T_cedf0_row17_col0 {\n",
       "  background-color: #00ffff;\n",
       "  color: #000000;\n",
       "}\n",
       "</style>\n",
       "<table id=\"T_cedf0\">\n",
       "  <thead>\n",
       "    <tr>\n",
       "      <th class=\"blank level0\" >&nbsp;</th>\n",
       "      <th id=\"T_cedf0_level0_col0\" class=\"col_heading level0 col0\" >Numerical_Feature_MI</th>\n",
       "    </tr>\n",
       "  </thead>\n",
       "  <tbody>\n",
       "    <tr>\n",
       "      <th id=\"T_cedf0_level0_row0\" class=\"row_heading level0 row0\" >Title</th>\n",
       "      <td id=\"T_cedf0_row0_col0\" class=\"data row0 col0\" >0.170877</td>\n",
       "    </tr>\n",
       "    <tr>\n",
       "      <th id=\"T_cedf0_level0_row1\" class=\"row_heading level0 row1\" >log_Fare*Pclass</th>\n",
       "      <td id=\"T_cedf0_row1_col0\" class=\"data row1 col0\" >0.158805</td>\n",
       "    </tr>\n",
       "    <tr>\n",
       "      <th id=\"T_cedf0_level0_row2\" class=\"row_heading level0 row2\" >FarePerMember</th>\n",
       "      <td id=\"T_cedf0_row2_col0\" class=\"data row2 col0\" >0.146430</td>\n",
       "    </tr>\n",
       "    <tr>\n",
       "      <th id=\"T_cedf0_level0_row3\" class=\"row_heading level0 row3\" >Sex</th>\n",
       "      <td id=\"T_cedf0_row3_col0\" class=\"data row3 col0\" >0.145743</td>\n",
       "    </tr>\n",
       "    <tr>\n",
       "      <th id=\"T_cedf0_level0_row4\" class=\"row_heading level0 row4\" >Fare</th>\n",
       "      <td id=\"T_cedf0_row4_col0\" class=\"data row4 col0\" >0.139157</td>\n",
       "    </tr>\n",
       "    <tr>\n",
       "      <th id=\"T_cedf0_level0_row5\" class=\"row_heading level0 row5\" >log_Fare</th>\n",
       "      <td id=\"T_cedf0_row5_col0\" class=\"data row5 col0\" >0.132748</td>\n",
       "    </tr>\n",
       "    <tr>\n",
       "      <th id=\"T_cedf0_level0_row6\" class=\"row_heading level0 row6\" >Age*Pclass</th>\n",
       "      <td id=\"T_cedf0_row6_col0\" class=\"data row6 col0\" >0.070975</td>\n",
       "    </tr>\n",
       "    <tr>\n",
       "      <th id=\"T_cedf0_level0_row7\" class=\"row_heading level0 row7\" >Pclass</th>\n",
       "      <td id=\"T_cedf0_row7_col0\" class=\"data row7 col0\" >0.062253</td>\n",
       "    </tr>\n",
       "    <tr>\n",
       "      <th id=\"T_cedf0_level0_row8\" class=\"row_heading level0 row8\" >FamilySize</th>\n",
       "      <td id=\"T_cedf0_row8_col0\" class=\"data row8 col0\" >0.052931</td>\n",
       "    </tr>\n",
       "    <tr>\n",
       "      <th id=\"T_cedf0_level0_row9\" class=\"row_heading level0 row9\" >Pclass+FamilySize</th>\n",
       "      <td id=\"T_cedf0_row9_col0\" class=\"data row9 col0\" >0.045924</td>\n",
       "    </tr>\n",
       "    <tr>\n",
       "      <th id=\"T_cedf0_level0_row10\" class=\"row_heading level0 row10\" >Deck</th>\n",
       "      <td id=\"T_cedf0_row10_col0\" class=\"data row10 col0\" >0.028052</td>\n",
       "    </tr>\n",
       "    <tr>\n",
       "      <th id=\"T_cedf0_level0_row11\" class=\"row_heading level0 row11\" >Age</th>\n",
       "      <td id=\"T_cedf0_row11_col0\" class=\"data row11 col0\" >0.026442</td>\n",
       "    </tr>\n",
       "    <tr>\n",
       "      <th id=\"T_cedf0_level0_row12\" class=\"row_heading level0 row12\" >Ticket_Small_Type</th>\n",
       "      <td id=\"T_cedf0_row12_col0\" class=\"data row12 col0\" >0.020977</td>\n",
       "    </tr>\n",
       "    <tr>\n",
       "      <th id=\"T_cedf0_level0_row13\" class=\"row_heading level0 row13\" >AgeGroup</th>\n",
       "      <td id=\"T_cedf0_row13_col0\" class=\"data row13 col0\" >0.001822</td>\n",
       "    </tr>\n",
       "    <tr>\n",
       "      <th id=\"T_cedf0_level0_row14\" class=\"row_heading level0 row14\" >Embarked</th>\n",
       "      <td id=\"T_cedf0_row14_col0\" class=\"data row14 col0\" >0.000000</td>\n",
       "    </tr>\n",
       "    <tr>\n",
       "      <th id=\"T_cedf0_level0_row15\" class=\"row_heading level0 row15\" >SibSp</th>\n",
       "      <td id=\"T_cedf0_row15_col0\" class=\"data row15 col0\" >0.000000</td>\n",
       "    </tr>\n",
       "    <tr>\n",
       "      <th id=\"T_cedf0_level0_row16\" class=\"row_heading level0 row16\" >Parch</th>\n",
       "      <td id=\"T_cedf0_row16_col0\" class=\"data row16 col0\" >0.000000</td>\n",
       "    </tr>\n",
       "    <tr>\n",
       "      <th id=\"T_cedf0_level0_row17\" class=\"row_heading level0 row17\" >Ticket_Type</th>\n",
       "      <td id=\"T_cedf0_row17_col0\" class=\"data row17 col0\" >0.000000</td>\n",
       "    </tr>\n",
       "  </tbody>\n",
       "</table>\n"
      ],
      "text/plain": [
       "<pandas.io.formats.style.Styler at 0x7a23026d93c0>"
      ]
     },
     "execution_count": 56,
     "metadata": {},
     "output_type": "execute_result"
    }
   ],
   "source": [
    "%%time\n",
    "mutual_info = mutual_info_classif(inputs, targets, random_state=42)\n",
    "mutual_info = pd.Series(mutual_info)\n",
    "mutual_info.index = inputs.columns\n",
    "mutual_info = pd.DataFrame(mutual_info.sort_values(ascending=False), columns = [\"Numerical_Feature_MI\"] )\n",
    "mutual_info.style.background_gradient(\"cool\")"
   ]
  },
  {
   "cell_type": "markdown",
   "id": "27601813",
   "metadata": {
    "papermill": {
     "duration": 0.034384,
     "end_time": "2024-09-17T12:06:00.026421",
     "exception": false,
     "start_time": "2024-09-17T12:05:59.992037",
     "status": "completed"
    },
    "tags": []
   },
   "source": [
    "## Training model"
   ]
  },
  {
   "cell_type": "code",
   "execution_count": 57,
   "id": "2c3737b1",
   "metadata": {
    "execution": {
     "iopub.execute_input": "2024-09-17T12:06:00.096995Z",
     "iopub.status.busy": "2024-09-17T12:06:00.096475Z",
     "iopub.status.idle": "2024-09-17T12:06:00.111389Z",
     "shell.execute_reply": "2024-09-17T12:06:00.110116Z"
    },
    "papermill": {
     "duration": 0.053974,
     "end_time": "2024-09-17T12:06:00.114075",
     "exception": false,
     "start_time": "2024-09-17T12:06:00.060101",
     "status": "completed"
    },
    "tags": []
   },
   "outputs": [],
   "source": [
    "def cross_validation(clf, cv, inputs, targets, test_inputs=None, need_print=False):\n",
    "    train_accs = []\n",
    "    val_accs = []\n",
    "    if test_inputs is not None:\n",
    "        test_preds = np.zeros(len(test_inputs))\n",
    "    else:\n",
    "        test_preds = np.zeros(len(inputs))\n",
    "    for fold, (train_idx, val_idx) in enumerate(cv.split(inputs, targets)):\n",
    "        X_train = inputs.iloc[train_idx].reset_index(drop=True)\n",
    "        y_train = targets.iloc[train_idx].reset_index(drop=True)\n",
    "        X_val = inputs.iloc[val_idx].reset_index(drop=True)\n",
    "        y_val = targets.iloc[val_idx].reset_index(drop=True)\n",
    "\n",
    "        clf.fit(X_train, y_train)\n",
    "\n",
    "        train_pred = clf.predict(X_train)\n",
    "        train_acc = accuracy_score(y_train, train_pred)\n",
    "        train_accs.append(train_acc)\n",
    "        val_pred = clf.predict(X_val)\n",
    "        val_acc = accuracy_score(y_val, val_pred)\n",
    "        val_accs.append(val_acc)\n",
    "\n",
    "        if need_print:\n",
    "            print(f'Fold {fold}: train_acc = {train_acc:.5f}, val_acc = {val_acc:.5f}')\n",
    "\n",
    "        if test_inputs is not None:\n",
    "            test_pred = clf.predict_proba(test_inputs)[:,1]\n",
    "            test_preds += test_pred/cv.get_n_splits()\n",
    "\n",
    "    m_train_acc = np.mean(train_accs)\n",
    "    s_train_acc = np.std(train_accs)\n",
    "    m_val_acc = np.mean(val_accs)\n",
    "    s_val_acc = np.std(val_accs)\n",
    "    \n",
    "    msg = f'{m_val_acc:.7f} ± {s_val_acc:.7f}'\n",
    "    \n",
    "    if need_print:\n",
    "        print(f'Train acc: {m_train_acc:.7f} ± {s_train_acc:.7f} | Val acc: {m_val_acc:.7f} ± {s_val_acc:.7f}')\n",
    "    return test_preds, msg"
   ]
  },
  {
   "cell_type": "code",
   "execution_count": 58,
   "id": "472c197a",
   "metadata": {
    "execution": {
     "iopub.execute_input": "2024-09-17T12:06:00.184755Z",
     "iopub.status.busy": "2024-09-17T12:06:00.184274Z",
     "iopub.status.idle": "2024-09-17T12:06:00.193183Z",
     "shell.execute_reply": "2024-09-17T12:06:00.192017Z"
    },
    "papermill": {
     "duration": 0.047091,
     "end_time": "2024-09-17T12:06:00.195558",
     "exception": false,
     "start_time": "2024-09-17T12:06:00.148467",
     "status": "completed"
    },
    "tags": []
   },
   "outputs": [],
   "source": [
    "def test_with_models(models: dict, features: dict, \n",
    "                     df: pd.DataFrame, target: str, cv):\n",
    "    result = dict()\n",
    "    result['Classifier'] = []\n",
    "    for feature, _ in features.items():\n",
    "        result[f'Acc with {feature} features'] = []\n",
    "    targets = df[target]\n",
    "    for name, model in models.items():\n",
    "        result['Classifier'].append(name)\n",
    "        for f_name, feature in features.items():\n",
    "            inputs = df[feature]\n",
    "            _, msg = cross_validation(model, cv, \n",
    "                                      inputs, targets, \n",
    "                                      test_inputs=None, \n",
    "                                      need_print=False)\n",
    "            result[f'Acc with {f_name} features'].append(msg)\n",
    "    \n",
    "    return pd.DataFrame(result)"
   ]
  },
  {
   "cell_type": "code",
   "execution_count": 59,
   "id": "dac0a219",
   "metadata": {
    "execution": {
     "iopub.execute_input": "2024-09-17T12:06:00.265623Z",
     "iopub.status.busy": "2024-09-17T12:06:00.265151Z",
     "iopub.status.idle": "2024-09-17T12:06:00.276482Z",
     "shell.execute_reply": "2024-09-17T12:06:00.275097Z"
    },
    "papermill": {
     "duration": 0.050159,
     "end_time": "2024-09-17T12:06:00.279428",
     "exception": false,
     "start_time": "2024-09-17T12:06:00.229269",
     "status": "completed"
    },
    "tags": []
   },
   "outputs": [],
   "source": [
    "classifiers = {\n",
    "    'RF': RandomForestClassifier(n_jobs=-1),\n",
    "    'XGB': XGBClassifier(n_jobs=-1),\n",
    "    'LGBM': LGBMClassifier(n_jobs=-1, verbose=0),\n",
    "    'CAT': CatBoostClassifier(logging_level='Silent')\n",
    "}\n",
    "features = {\n",
    "    'all': input_cols\n",
    "}"
   ]
  },
  {
   "cell_type": "code",
   "execution_count": 60,
   "id": "67cdd3e8",
   "metadata": {
    "execution": {
     "iopub.execute_input": "2024-09-17T12:06:00.350116Z",
     "iopub.status.busy": "2024-09-17T12:06:00.349672Z",
     "iopub.status.idle": "2024-09-17T12:06:00.355361Z",
     "shell.execute_reply": "2024-09-17T12:06:00.354213Z"
    },
    "papermill": {
     "duration": 0.04371,
     "end_time": "2024-09-17T12:06:00.357788",
     "exception": false,
     "start_time": "2024-09-17T12:06:00.314078",
     "status": "completed"
    },
    "tags": []
   },
   "outputs": [],
   "source": [
    "cv = StratifiedKFold(n_splits=5, shuffle=True, random_state=42)"
   ]
  },
  {
   "cell_type": "code",
   "execution_count": 61,
   "id": "51607606",
   "metadata": {
    "execution": {
     "iopub.execute_input": "2024-09-17T12:06:00.428859Z",
     "iopub.status.busy": "2024-09-17T12:06:00.428426Z",
     "iopub.status.idle": "2024-09-17T12:06:13.877614Z",
     "shell.execute_reply": "2024-09-17T12:06:13.876490Z"
    },
    "papermill": {
     "duration": 13.488393,
     "end_time": "2024-09-17T12:06:13.880133",
     "exception": false,
     "start_time": "2024-09-17T12:06:00.391740",
     "status": "completed"
    },
    "scrolled": true,
    "tags": []
   },
   "outputs": [
    {
     "name": "stdout",
     "output_type": "stream",
     "text": [
      "[LightGBM] [Warning] No further splits with positive gain, best gain: -inf\n",
      "[LightGBM] [Warning] No further splits with positive gain, best gain: -inf\n",
      "[LightGBM] [Warning] No further splits with positive gain, best gain: -inf\n",
      "[LightGBM] [Warning] No further splits with positive gain, best gain: -inf\n",
      "[LightGBM] [Warning] No further splits with positive gain, best gain: -inf\n",
      "[LightGBM] [Warning] No further splits with positive gain, best gain: -inf\n",
      "[LightGBM] [Warning] No further splits with positive gain, best gain: -inf\n",
      "[LightGBM] [Warning] No further splits with positive gain, best gain: -inf\n",
      "[LightGBM] [Warning] No further splits with positive gain, best gain: -inf\n",
      "[LightGBM] [Warning] No further splits with positive gain, best gain: -inf\n",
      "[LightGBM] [Warning] No further splits with positive gain, best gain: -inf\n",
      "[LightGBM] [Warning] No further splits with positive gain, best gain: -inf\n",
      "[LightGBM] [Warning] No further splits with positive gain, best gain: -inf\n",
      "[LightGBM] [Warning] No further splits with positive gain, best gain: -inf\n",
      "[LightGBM] [Warning] No further splits with positive gain, best gain: -inf\n",
      "[LightGBM] [Warning] No further splits with positive gain, best gain: -inf\n",
      "[LightGBM] [Warning] No further splits with positive gain, best gain: -inf\n",
      "[LightGBM] [Warning] No further splits with positive gain, best gain: -inf\n",
      "[LightGBM] [Warning] No further splits with positive gain, best gain: -inf\n",
      "[LightGBM] [Warning] No further splits with positive gain, best gain: -inf\n",
      "[LightGBM] [Warning] No further splits with positive gain, best gain: -inf\n",
      "[LightGBM] [Warning] No further splits with positive gain, best gain: -inf\n",
      "[LightGBM] [Warning] No further splits with positive gain, best gain: -inf\n",
      "[LightGBM] [Warning] No further splits with positive gain, best gain: -inf\n",
      "[LightGBM] [Warning] No further splits with positive gain, best gain: -inf\n",
      "[LightGBM] [Warning] No further splits with positive gain, best gain: -inf\n",
      "[LightGBM] [Warning] No further splits with positive gain, best gain: -inf\n",
      "[LightGBM] [Warning] No further splits with positive gain, best gain: -inf\n",
      "[LightGBM] [Warning] No further splits with positive gain, best gain: -inf\n",
      "[LightGBM] [Warning] No further splits with positive gain, best gain: -inf\n",
      "[LightGBM] [Warning] No further splits with positive gain, best gain: -inf\n",
      "[LightGBM] [Warning] No further splits with positive gain, best gain: -inf\n",
      "[LightGBM] [Warning] No further splits with positive gain, best gain: -inf\n",
      "[LightGBM] [Warning] No further splits with positive gain, best gain: -inf\n",
      "[LightGBM] [Warning] No further splits with positive gain, best gain: -inf\n",
      "[LightGBM] [Warning] No further splits with positive gain, best gain: -inf\n",
      "[LightGBM] [Warning] No further splits with positive gain, best gain: -inf\n",
      "[LightGBM] [Warning] No further splits with positive gain, best gain: -inf\n",
      "[LightGBM] [Warning] No further splits with positive gain, best gain: -inf\n",
      "[LightGBM] [Warning] No further splits with positive gain, best gain: -inf\n",
      "[LightGBM] [Warning] No further splits with positive gain, best gain: -inf\n",
      "[LightGBM] [Warning] No further splits with positive gain, best gain: -inf\n",
      "[LightGBM] [Warning] No further splits with positive gain, best gain: -inf\n",
      "[LightGBM] [Warning] No further splits with positive gain, best gain: -inf\n",
      "[LightGBM] [Warning] No further splits with positive gain, best gain: -inf\n",
      "[LightGBM] [Warning] No further splits with positive gain, best gain: -inf\n",
      "[LightGBM] [Warning] No further splits with positive gain, best gain: -inf\n",
      "[LightGBM] [Warning] No further splits with positive gain, best gain: -inf\n",
      "[LightGBM] [Warning] No further splits with positive gain, best gain: -inf\n",
      "[LightGBM] [Warning] No further splits with positive gain, best gain: -inf\n",
      "[LightGBM] [Warning] No further splits with positive gain, best gain: -inf\n",
      "[LightGBM] [Warning] No further splits with positive gain, best gain: -inf\n",
      "[LightGBM] [Warning] No further splits with positive gain, best gain: -inf\n",
      "[LightGBM] [Warning] No further splits with positive gain, best gain: -inf\n",
      "[LightGBM] [Warning] No further splits with positive gain, best gain: -inf\n",
      "[LightGBM] [Warning] No further splits with positive gain, best gain: -inf\n",
      "[LightGBM] [Warning] No further splits with positive gain, best gain: -inf\n",
      "[LightGBM] [Warning] No further splits with positive gain, best gain: -inf\n",
      "[LightGBM] [Warning] No further splits with positive gain, best gain: -inf\n",
      "[LightGBM] [Warning] No further splits with positive gain, best gain: -inf\n",
      "[LightGBM] [Warning] No further splits with positive gain, best gain: -inf\n",
      "[LightGBM] [Warning] No further splits with positive gain, best gain: -inf\n",
      "[LightGBM] [Warning] No further splits with positive gain, best gain: -inf\n",
      "[LightGBM] [Warning] No further splits with positive gain, best gain: -inf\n",
      "[LightGBM] [Warning] No further splits with positive gain, best gain: -inf\n",
      "[LightGBM] [Warning] No further splits with positive gain, best gain: -inf\n",
      "[LightGBM] [Warning] No further splits with positive gain, best gain: -inf\n",
      "[LightGBM] [Warning] No further splits with positive gain, best gain: -inf\n",
      "[LightGBM] [Warning] No further splits with positive gain, best gain: -inf\n",
      "[LightGBM] [Warning] No further splits with positive gain, best gain: -inf\n",
      "[LightGBM] [Warning] No further splits with positive gain, best gain: -inf\n",
      "[LightGBM] [Warning] No further splits with positive gain, best gain: -inf\n",
      "[LightGBM] [Warning] No further splits with positive gain, best gain: -inf\n",
      "[LightGBM] [Warning] No further splits with positive gain, best gain: -inf\n",
      "[LightGBM] [Warning] No further splits with positive gain, best gain: -inf\n",
      "[LightGBM] [Warning] No further splits with positive gain, best gain: -inf\n",
      "[LightGBM] [Warning] No further splits with positive gain, best gain: -inf\n",
      "[LightGBM] [Warning] No further splits with positive gain, best gain: -inf\n",
      "[LightGBM] [Warning] No further splits with positive gain, best gain: -inf\n",
      "[LightGBM] [Warning] No further splits with positive gain, best gain: -inf\n",
      "[LightGBM] [Warning] No further splits with positive gain, best gain: -inf\n",
      "[LightGBM] [Warning] No further splits with positive gain, best gain: -inf\n",
      "[LightGBM] [Warning] No further splits with positive gain, best gain: -inf\n",
      "[LightGBM] [Warning] No further splits with positive gain, best gain: -inf\n",
      "[LightGBM] [Warning] No further splits with positive gain, best gain: -inf\n",
      "[LightGBM] [Warning] No further splits with positive gain, best gain: -inf\n",
      "[LightGBM] [Warning] No further splits with positive gain, best gain: -inf\n",
      "[LightGBM] [Warning] No further splits with positive gain, best gain: -inf\n",
      "[LightGBM] [Warning] No further splits with positive gain, best gain: -inf\n",
      "[LightGBM] [Warning] No further splits with positive gain, best gain: -inf\n",
      "[LightGBM] [Warning] No further splits with positive gain, best gain: -inf\n",
      "[LightGBM] [Warning] No further splits with positive gain, best gain: -inf\n",
      "[LightGBM] [Warning] No further splits with positive gain, best gain: -inf\n",
      "[LightGBM] [Warning] No further splits with positive gain, best gain: -inf\n",
      "[LightGBM] [Warning] No further splits with positive gain, best gain: -inf\n",
      "[LightGBM] [Warning] No further splits with positive gain, best gain: -inf\n",
      "[LightGBM] [Warning] No further splits with positive gain, best gain: -inf\n",
      "[LightGBM] [Warning] No further splits with positive gain, best gain: -inf\n",
      "[LightGBM] [Warning] No further splits with positive gain, best gain: -inf\n",
      "[LightGBM] [Warning] No further splits with positive gain, best gain: -inf\n",
      "[LightGBM] [Warning] No further splits with positive gain, best gain: -inf\n",
      "[LightGBM] [Warning] No further splits with positive gain, best gain: -inf\n",
      "[LightGBM] [Warning] No further splits with positive gain, best gain: -inf\n",
      "[LightGBM] [Warning] No further splits with positive gain, best gain: -inf\n",
      "[LightGBM] [Warning] No further splits with positive gain, best gain: -inf\n",
      "[LightGBM] [Warning] No further splits with positive gain, best gain: -inf\n",
      "[LightGBM] [Warning] No further splits with positive gain, best gain: -inf\n",
      "[LightGBM] [Warning] No further splits with positive gain, best gain: -inf\n",
      "[LightGBM] [Warning] No further splits with positive gain, best gain: -inf\n",
      "[LightGBM] [Warning] No further splits with positive gain, best gain: -inf\n",
      "[LightGBM] [Warning] No further splits with positive gain, best gain: -inf\n",
      "[LightGBM] [Warning] No further splits with positive gain, best gain: -inf\n",
      "[LightGBM] [Warning] No further splits with positive gain, best gain: -inf\n",
      "[LightGBM] [Warning] No further splits with positive gain, best gain: -inf\n",
      "[LightGBM] [Warning] No further splits with positive gain, best gain: -inf\n",
      "[LightGBM] [Warning] No further splits with positive gain, best gain: -inf\n",
      "[LightGBM] [Warning] No further splits with positive gain, best gain: -inf\n",
      "[LightGBM] [Warning] No further splits with positive gain, best gain: -inf\n",
      "[LightGBM] [Warning] No further splits with positive gain, best gain: -inf\n",
      "[LightGBM] [Warning] No further splits with positive gain, best gain: -inf\n",
      "[LightGBM] [Warning] No further splits with positive gain, best gain: -inf\n",
      "[LightGBM] [Warning] No further splits with positive gain, best gain: -inf\n",
      "[LightGBM] [Warning] No further splits with positive gain, best gain: -inf\n",
      "[LightGBM] [Warning] No further splits with positive gain, best gain: -inf\n",
      "[LightGBM] [Warning] No further splits with positive gain, best gain: -inf\n",
      "[LightGBM] [Warning] No further splits with positive gain, best gain: -inf\n",
      "[LightGBM] [Warning] No further splits with positive gain, best gain: -inf\n",
      "[LightGBM] [Warning] No further splits with positive gain, best gain: -inf\n",
      "[LightGBM] [Warning] No further splits with positive gain, best gain: -inf\n",
      "[LightGBM] [Warning] No further splits with positive gain, best gain: -inf\n",
      "[LightGBM] [Warning] No further splits with positive gain, best gain: -inf\n",
      "[LightGBM] [Warning] No further splits with positive gain, best gain: -inf\n",
      "[LightGBM] [Warning] No further splits with positive gain, best gain: -inf\n",
      "[LightGBM] [Warning] No further splits with positive gain, best gain: -inf\n",
      "[LightGBM] [Warning] No further splits with positive gain, best gain: -inf\n",
      "[LightGBM] [Warning] No further splits with positive gain, best gain: -inf\n",
      "[LightGBM] [Warning] No further splits with positive gain, best gain: -inf\n",
      "[LightGBM] [Warning] No further splits with positive gain, best gain: -inf\n",
      "[LightGBM] [Warning] No further splits with positive gain, best gain: -inf\n",
      "[LightGBM] [Warning] No further splits with positive gain, best gain: -inf\n",
      "[LightGBM] [Warning] No further splits with positive gain, best gain: -inf\n",
      "[LightGBM] [Warning] No further splits with positive gain, best gain: -inf\n",
      "[LightGBM] [Warning] No further splits with positive gain, best gain: -inf\n",
      "[LightGBM] [Warning] No further splits with positive gain, best gain: -inf\n",
      "[LightGBM] [Warning] No further splits with positive gain, best gain: -inf\n",
      "[LightGBM] [Warning] No further splits with positive gain, best gain: -inf\n",
      "[LightGBM] [Warning] No further splits with positive gain, best gain: -inf\n",
      "[LightGBM] [Warning] No further splits with positive gain, best gain: -inf\n",
      "[LightGBM] [Warning] No further splits with positive gain, best gain: -inf\n",
      "[LightGBM] [Warning] No further splits with positive gain, best gain: -inf\n",
      "[LightGBM] [Warning] No further splits with positive gain, best gain: -inf\n",
      "[LightGBM] [Warning] No further splits with positive gain, best gain: -inf\n",
      "[LightGBM] [Warning] No further splits with positive gain, best gain: -inf\n",
      "[LightGBM] [Warning] No further splits with positive gain, best gain: -inf\n",
      "[LightGBM] [Warning] No further splits with positive gain, best gain: -inf\n",
      "[LightGBM] [Warning] No further splits with positive gain, best gain: -inf\n",
      "[LightGBM] [Warning] No further splits with positive gain, best gain: -inf\n",
      "[LightGBM] [Warning] No further splits with positive gain, best gain: -inf\n",
      "[LightGBM] [Warning] No further splits with positive gain, best gain: -inf\n",
      "[LightGBM] [Warning] No further splits with positive gain, best gain: -inf\n",
      "[LightGBM] [Warning] No further splits with positive gain, best gain: -inf\n",
      "[LightGBM] [Warning] No further splits with positive gain, best gain: -inf\n",
      "[LightGBM] [Warning] No further splits with positive gain, best gain: -inf\n",
      "[LightGBM] [Warning] No further splits with positive gain, best gain: -inf\n",
      "[LightGBM] [Warning] No further splits with positive gain, best gain: -inf\n",
      "[LightGBM] [Warning] No further splits with positive gain, best gain: -inf\n",
      "[LightGBM] [Warning] No further splits with positive gain, best gain: -inf\n",
      "[LightGBM] [Warning] No further splits with positive gain, best gain: -inf\n",
      "[LightGBM] [Warning] No further splits with positive gain, best gain: -inf\n",
      "[LightGBM] [Warning] No further splits with positive gain, best gain: -inf\n",
      "[LightGBM] [Warning] No further splits with positive gain, best gain: -inf\n",
      "[LightGBM] [Warning] No further splits with positive gain, best gain: -inf\n",
      "[LightGBM] [Warning] No further splits with positive gain, best gain: -inf\n",
      "[LightGBM] [Warning] No further splits with positive gain, best gain: -inf\n",
      "[LightGBM] [Warning] No further splits with positive gain, best gain: -inf\n",
      "[LightGBM] [Warning] No further splits with positive gain, best gain: -inf\n",
      "[LightGBM] [Warning] No further splits with positive gain, best gain: -inf\n",
      "[LightGBM] [Warning] No further splits with positive gain, best gain: -inf\n",
      "[LightGBM] [Warning] No further splits with positive gain, best gain: -inf\n",
      "[LightGBM] [Warning] No further splits with positive gain, best gain: -inf\n",
      "[LightGBM] [Warning] No further splits with positive gain, best gain: -inf\n",
      "[LightGBM] [Warning] No further splits with positive gain, best gain: -inf\n",
      "[LightGBM] [Warning] No further splits with positive gain, best gain: -inf\n",
      "[LightGBM] [Warning] No further splits with positive gain, best gain: -inf\n",
      "[LightGBM] [Warning] No further splits with positive gain, best gain: -inf\n",
      "[LightGBM] [Warning] No further splits with positive gain, best gain: -inf\n",
      "[LightGBM] [Warning] No further splits with positive gain, best gain: -inf\n",
      "[LightGBM] [Warning] No further splits with positive gain, best gain: -inf\n",
      "[LightGBM] [Warning] No further splits with positive gain, best gain: -inf\n",
      "[LightGBM] [Warning] No further splits with positive gain, best gain: -inf\n",
      "[LightGBM] [Warning] No further splits with positive gain, best gain: -inf\n",
      "[LightGBM] [Warning] No further splits with positive gain, best gain: -inf\n",
      "[LightGBM] [Warning] No further splits with positive gain, best gain: -inf\n",
      "[LightGBM] [Warning] No further splits with positive gain, best gain: -inf\n",
      "[LightGBM] [Warning] No further splits with positive gain, best gain: -inf\n",
      "[LightGBM] [Warning] No further splits with positive gain, best gain: -inf\n",
      "[LightGBM] [Warning] No further splits with positive gain, best gain: -inf\n",
      "[LightGBM] [Warning] No further splits with positive gain, best gain: -inf\n",
      "[LightGBM] [Warning] No further splits with positive gain, best gain: -inf\n",
      "[LightGBM] [Warning] No further splits with positive gain, best gain: -inf\n",
      "[LightGBM] [Warning] No further splits with positive gain, best gain: -inf\n",
      "[LightGBM] [Warning] No further splits with positive gain, best gain: -inf\n",
      "[LightGBM] [Warning] No further splits with positive gain, best gain: -inf\n",
      "[LightGBM] [Warning] No further splits with positive gain, best gain: -inf\n",
      "[LightGBM] [Warning] No further splits with positive gain, best gain: -inf\n",
      "[LightGBM] [Warning] No further splits with positive gain, best gain: -inf\n",
      "[LightGBM] [Warning] No further splits with positive gain, best gain: -inf\n",
      "[LightGBM] [Warning] No further splits with positive gain, best gain: -inf\n",
      "[LightGBM] [Warning] No further splits with positive gain, best gain: -inf\n",
      "[LightGBM] [Warning] No further splits with positive gain, best gain: -inf\n",
      "[LightGBM] [Warning] No further splits with positive gain, best gain: -inf\n",
      "[LightGBM] [Warning] No further splits with positive gain, best gain: -inf\n",
      "[LightGBM] [Warning] No further splits with positive gain, best gain: -inf\n",
      "[LightGBM] [Warning] No further splits with positive gain, best gain: -inf\n",
      "[LightGBM] [Warning] No further splits with positive gain, best gain: -inf\n",
      "[LightGBM] [Warning] No further splits with positive gain, best gain: -inf\n",
      "[LightGBM] [Warning] No further splits with positive gain, best gain: -inf\n",
      "[LightGBM] [Warning] No further splits with positive gain, best gain: -inf\n",
      "[LightGBM] [Warning] No further splits with positive gain, best gain: -inf\n",
      "[LightGBM] [Warning] No further splits with positive gain, best gain: -inf\n",
      "[LightGBM] [Warning] No further splits with positive gain, best gain: -inf\n",
      "[LightGBM] [Warning] No further splits with positive gain, best gain: -inf\n",
      "[LightGBM] [Warning] No further splits with positive gain, best gain: -inf\n",
      "[LightGBM] [Warning] No further splits with positive gain, best gain: -inf\n",
      "[LightGBM] [Warning] No further splits with positive gain, best gain: -inf\n",
      "[LightGBM] [Warning] No further splits with positive gain, best gain: -inf\n",
      "[LightGBM] [Warning] No further splits with positive gain, best gain: -inf\n",
      "[LightGBM] [Warning] No further splits with positive gain, best gain: -inf\n",
      "[LightGBM] [Warning] No further splits with positive gain, best gain: -inf\n",
      "[LightGBM] [Warning] No further splits with positive gain, best gain: -inf\n",
      "[LightGBM] [Warning] No further splits with positive gain, best gain: -inf\n",
      "[LightGBM] [Warning] No further splits with positive gain, best gain: -inf\n",
      "[LightGBM] [Warning] No further splits with positive gain, best gain: -inf\n",
      "[LightGBM] [Warning] No further splits with positive gain, best gain: -inf\n",
      "[LightGBM] [Warning] No further splits with positive gain, best gain: -inf\n",
      "[LightGBM] [Warning] No further splits with positive gain, best gain: -inf\n",
      "[LightGBM] [Warning] No further splits with positive gain, best gain: -inf\n",
      "[LightGBM] [Warning] No further splits with positive gain, best gain: -inf\n",
      "[LightGBM] [Warning] No further splits with positive gain, best gain: -inf\n",
      "[LightGBM] [Warning] No further splits with positive gain, best gain: -inf\n",
      "[LightGBM] [Warning] No further splits with positive gain, best gain: -inf\n",
      "[LightGBM] [Warning] No further splits with positive gain, best gain: -inf\n",
      "[LightGBM] [Warning] No further splits with positive gain, best gain: -inf\n",
      "[LightGBM] [Warning] No further splits with positive gain, best gain: -inf\n",
      "[LightGBM] [Warning] No further splits with positive gain, best gain: -inf\n",
      "[LightGBM] [Warning] No further splits with positive gain, best gain: -inf\n",
      "[LightGBM] [Warning] No further splits with positive gain, best gain: -inf\n",
      "[LightGBM] [Warning] No further splits with positive gain, best gain: -inf\n",
      "[LightGBM] [Warning] No further splits with positive gain, best gain: -inf\n",
      "[LightGBM] [Warning] No further splits with positive gain, best gain: -inf\n",
      "[LightGBM] [Warning] No further splits with positive gain, best gain: -inf\n",
      "[LightGBM] [Warning] No further splits with positive gain, best gain: -inf\n",
      "[LightGBM] [Warning] No further splits with positive gain, best gain: -inf\n",
      "[LightGBM] [Warning] No further splits with positive gain, best gain: -inf\n",
      "[LightGBM] [Warning] No further splits with positive gain, best gain: -inf\n",
      "[LightGBM] [Warning] No further splits with positive gain, best gain: -inf\n",
      "[LightGBM] [Warning] No further splits with positive gain, best gain: -inf\n",
      "[LightGBM] [Warning] No further splits with positive gain, best gain: -inf\n",
      "[LightGBM] [Warning] No further splits with positive gain, best gain: -inf\n",
      "[LightGBM] [Warning] No further splits with positive gain, best gain: -inf\n",
      "[LightGBM] [Warning] No further splits with positive gain, best gain: -inf\n",
      "[LightGBM] [Warning] No further splits with positive gain, best gain: -inf\n",
      "[LightGBM] [Warning] No further splits with positive gain, best gain: -inf\n",
      "[LightGBM] [Warning] No further splits with positive gain, best gain: -inf\n",
      "[LightGBM] [Warning] No further splits with positive gain, best gain: -inf\n",
      "[LightGBM] [Warning] No further splits with positive gain, best gain: -inf\n",
      "[LightGBM] [Warning] No further splits with positive gain, best gain: -inf\n",
      "[LightGBM] [Warning] No further splits with positive gain, best gain: -inf\n",
      "[LightGBM] [Warning] No further splits with positive gain, best gain: -inf\n",
      "[LightGBM] [Warning] No further splits with positive gain, best gain: -inf\n",
      "[LightGBM] [Warning] No further splits with positive gain, best gain: -inf\n",
      "[LightGBM] [Warning] No further splits with positive gain, best gain: -inf\n",
      "[LightGBM] [Warning] No further splits with positive gain, best gain: -inf\n",
      "[LightGBM] [Warning] No further splits with positive gain, best gain: -inf\n",
      "[LightGBM] [Warning] No further splits with positive gain, best gain: -inf\n",
      "[LightGBM] [Warning] No further splits with positive gain, best gain: -inf\n",
      "[LightGBM] [Warning] No further splits with positive gain, best gain: -inf\n",
      "[LightGBM] [Warning] No further splits with positive gain, best gain: -inf\n",
      "[LightGBM] [Warning] No further splits with positive gain, best gain: -inf\n",
      "[LightGBM] [Warning] No further splits with positive gain, best gain: -inf\n",
      "[LightGBM] [Warning] No further splits with positive gain, best gain: -inf\n",
      "[LightGBM] [Warning] No further splits with positive gain, best gain: -inf\n",
      "[LightGBM] [Warning] No further splits with positive gain, best gain: -inf\n",
      "[LightGBM] [Warning] No further splits with positive gain, best gain: -inf\n",
      "[LightGBM] [Warning] No further splits with positive gain, best gain: -inf\n",
      "[LightGBM] [Warning] No further splits with positive gain, best gain: -inf\n",
      "[LightGBM] [Warning] No further splits with positive gain, best gain: -inf\n",
      "[LightGBM] [Warning] No further splits with positive gain, best gain: -inf\n",
      "[LightGBM] [Warning] No further splits with positive gain, best gain: -inf\n",
      "[LightGBM] [Warning] No further splits with positive gain, best gain: -inf\n",
      "[LightGBM] [Warning] No further splits with positive gain, best gain: -inf\n",
      "[LightGBM] [Warning] No further splits with positive gain, best gain: -inf\n",
      "[LightGBM] [Warning] No further splits with positive gain, best gain: -inf\n",
      "[LightGBM] [Warning] No further splits with positive gain, best gain: -inf\n",
      "[LightGBM] [Warning] No further splits with positive gain, best gain: -inf\n",
      "[LightGBM] [Warning] No further splits with positive gain, best gain: -inf\n",
      "[LightGBM] [Warning] No further splits with positive gain, best gain: -inf\n",
      "[LightGBM] [Warning] No further splits with positive gain, best gain: -inf\n",
      "[LightGBM] [Warning] No further splits with positive gain, best gain: -inf\n",
      "[LightGBM] [Warning] No further splits with positive gain, best gain: -inf\n",
      "[LightGBM] [Warning] No further splits with positive gain, best gain: -inf\n",
      "[LightGBM] [Warning] No further splits with positive gain, best gain: -inf\n",
      "[LightGBM] [Warning] No further splits with positive gain, best gain: -inf\n",
      "[LightGBM] [Warning] No further splits with positive gain, best gain: -inf\n",
      "[LightGBM] [Warning] No further splits with positive gain, best gain: -inf\n",
      "[LightGBM] [Warning] No further splits with positive gain, best gain: -inf\n",
      "[LightGBM] [Warning] No further splits with positive gain, best gain: -inf\n",
      "[LightGBM] [Warning] No further splits with positive gain, best gain: -inf\n",
      "[LightGBM] [Warning] No further splits with positive gain, best gain: -inf\n",
      "[LightGBM] [Warning] No further splits with positive gain, best gain: -inf\n",
      "[LightGBM] [Warning] No further splits with positive gain, best gain: -inf\n",
      "[LightGBM] [Warning] No further splits with positive gain, best gain: -inf\n",
      "[LightGBM] [Warning] No further splits with positive gain, best gain: -inf\n",
      "[LightGBM] [Warning] No further splits with positive gain, best gain: -inf\n",
      "[LightGBM] [Warning] No further splits with positive gain, best gain: -inf\n",
      "[LightGBM] [Warning] No further splits with positive gain, best gain: -inf\n",
      "[LightGBM] [Warning] No further splits with positive gain, best gain: -inf\n",
      "[LightGBM] [Warning] No further splits with positive gain, best gain: -inf\n",
      "[LightGBM] [Warning] No further splits with positive gain, best gain: -inf\n",
      "[LightGBM] [Warning] No further splits with positive gain, best gain: -inf\n",
      "[LightGBM] [Warning] No further splits with positive gain, best gain: -inf\n",
      "[LightGBM] [Warning] No further splits with positive gain, best gain: -inf\n",
      "[LightGBM] [Warning] No further splits with positive gain, best gain: -inf\n",
      "[LightGBM] [Warning] No further splits with positive gain, best gain: -inf\n",
      "[LightGBM] [Warning] No further splits with positive gain, best gain: -inf\n",
      "[LightGBM] [Warning] No further splits with positive gain, best gain: -inf\n",
      "[LightGBM] [Warning] No further splits with positive gain, best gain: -inf\n",
      "[LightGBM] [Warning] No further splits with positive gain, best gain: -inf\n",
      "[LightGBM] [Warning] No further splits with positive gain, best gain: -inf\n",
      "[LightGBM] [Warning] No further splits with positive gain, best gain: -inf\n",
      "[LightGBM] [Warning] No further splits with positive gain, best gain: -inf\n",
      "[LightGBM] [Warning] No further splits with positive gain, best gain: -inf\n",
      "[LightGBM] [Warning] No further splits with positive gain, best gain: -inf\n",
      "[LightGBM] [Warning] No further splits with positive gain, best gain: -inf\n",
      "[LightGBM] [Warning] No further splits with positive gain, best gain: -inf\n",
      "[LightGBM] [Warning] No further splits with positive gain, best gain: -inf\n",
      "[LightGBM] [Warning] No further splits with positive gain, best gain: -inf\n",
      "[LightGBM] [Warning] No further splits with positive gain, best gain: -inf\n",
      "[LightGBM] [Warning] No further splits with positive gain, best gain: -inf\n",
      "[LightGBM] [Warning] No further splits with positive gain, best gain: -inf\n",
      "[LightGBM] [Warning] No further splits with positive gain, best gain: -inf\n",
      "[LightGBM] [Warning] No further splits with positive gain, best gain: -inf\n",
      "[LightGBM] [Warning] No further splits with positive gain, best gain: -inf\n",
      "[LightGBM] [Warning] No further splits with positive gain, best gain: -inf\n",
      "[LightGBM] [Warning] No further splits with positive gain, best gain: -inf\n",
      "[LightGBM] [Warning] No further splits with positive gain, best gain: -inf\n",
      "[LightGBM] [Warning] No further splits with positive gain, best gain: -inf\n",
      "[LightGBM] [Warning] No further splits with positive gain, best gain: -inf\n",
      "[LightGBM] [Warning] No further splits with positive gain, best gain: -inf\n",
      "[LightGBM] [Warning] No further splits with positive gain, best gain: -inf\n",
      "[LightGBM] [Warning] No further splits with positive gain, best gain: -inf\n",
      "[LightGBM] [Warning] No further splits with positive gain, best gain: -inf\n",
      "[LightGBM] [Warning] No further splits with positive gain, best gain: -inf\n",
      "[LightGBM] [Warning] No further splits with positive gain, best gain: -inf\n",
      "[LightGBM] [Warning] No further splits with positive gain, best gain: -inf\n",
      "[LightGBM] [Warning] No further splits with positive gain, best gain: -inf\n",
      "[LightGBM] [Warning] No further splits with positive gain, best gain: -inf\n",
      "[LightGBM] [Warning] No further splits with positive gain, best gain: -inf\n",
      "[LightGBM] [Warning] No further splits with positive gain, best gain: -inf\n",
      "[LightGBM] [Warning] No further splits with positive gain, best gain: -inf\n",
      "[LightGBM] [Warning] No further splits with positive gain, best gain: -inf\n",
      "[LightGBM] [Warning] No further splits with positive gain, best gain: -inf\n",
      "[LightGBM] [Warning] No further splits with positive gain, best gain: -inf\n",
      "[LightGBM] [Warning] No further splits with positive gain, best gain: -inf\n",
      "[LightGBM] [Warning] No further splits with positive gain, best gain: -inf\n",
      "[LightGBM] [Warning] No further splits with positive gain, best gain: -inf\n",
      "[LightGBM] [Warning] No further splits with positive gain, best gain: -inf\n",
      "[LightGBM] [Warning] No further splits with positive gain, best gain: -inf\n",
      "[LightGBM] [Warning] No further splits with positive gain, best gain: -inf\n",
      "[LightGBM] [Warning] No further splits with positive gain, best gain: -inf\n",
      "[LightGBM] [Warning] No further splits with positive gain, best gain: -inf\n",
      "[LightGBM] [Warning] No further splits with positive gain, best gain: -inf\n",
      "[LightGBM] [Warning] No further splits with positive gain, best gain: -inf\n",
      "[LightGBM] [Warning] No further splits with positive gain, best gain: -inf\n",
      "[LightGBM] [Warning] No further splits with positive gain, best gain: -inf\n",
      "[LightGBM] [Warning] No further splits with positive gain, best gain: -inf\n",
      "[LightGBM] [Warning] No further splits with positive gain, best gain: -inf\n",
      "[LightGBM] [Warning] No further splits with positive gain, best gain: -inf\n",
      "[LightGBM] [Warning] No further splits with positive gain, best gain: -inf\n",
      "[LightGBM] [Warning] No further splits with positive gain, best gain: -inf\n",
      "[LightGBM] [Warning] No further splits with positive gain, best gain: -inf\n",
      "[LightGBM] [Warning] No further splits with positive gain, best gain: -inf\n",
      "[LightGBM] [Warning] No further splits with positive gain, best gain: -inf\n",
      "[LightGBM] [Warning] No further splits with positive gain, best gain: -inf\n",
      "[LightGBM] [Warning] No further splits with positive gain, best gain: -inf\n",
      "[LightGBM] [Warning] No further splits with positive gain, best gain: -inf\n",
      "[LightGBM] [Warning] No further splits with positive gain, best gain: -inf\n",
      "[LightGBM] [Warning] No further splits with positive gain, best gain: -inf\n",
      "[LightGBM] [Warning] No further splits with positive gain, best gain: -inf\n",
      "[LightGBM] [Warning] No further splits with positive gain, best gain: -inf\n",
      "[LightGBM] [Warning] No further splits with positive gain, best gain: -inf\n",
      "[LightGBM] [Warning] No further splits with positive gain, best gain: -inf\n",
      "[LightGBM] [Warning] No further splits with positive gain, best gain: -inf\n",
      "[LightGBM] [Warning] No further splits with positive gain, best gain: -inf\n",
      "[LightGBM] [Warning] No further splits with positive gain, best gain: -inf\n",
      "[LightGBM] [Warning] No further splits with positive gain, best gain: -inf\n",
      "[LightGBM] [Warning] No further splits with positive gain, best gain: -inf\n",
      "[LightGBM] [Warning] No further splits with positive gain, best gain: -inf\n",
      "[LightGBM] [Warning] No further splits with positive gain, best gain: -inf\n",
      "[LightGBM] [Warning] No further splits with positive gain, best gain: -inf\n",
      "[LightGBM] [Warning] No further splits with positive gain, best gain: -inf\n",
      "[LightGBM] [Warning] No further splits with positive gain, best gain: -inf\n",
      "[LightGBM] [Warning] No further splits with positive gain, best gain: -inf\n",
      "[LightGBM] [Warning] No further splits with positive gain, best gain: -inf\n",
      "[LightGBM] [Warning] No further splits with positive gain, best gain: -inf\n",
      "[LightGBM] [Warning] No further splits with positive gain, best gain: -inf\n",
      "[LightGBM] [Warning] No further splits with positive gain, best gain: -inf\n",
      "[LightGBM] [Warning] No further splits with positive gain, best gain: -inf\n",
      "[LightGBM] [Warning] No further splits with positive gain, best gain: -inf\n",
      "[LightGBM] [Warning] No further splits with positive gain, best gain: -inf\n",
      "[LightGBM] [Warning] No further splits with positive gain, best gain: -inf\n",
      "[LightGBM] [Warning] No further splits with positive gain, best gain: -inf\n",
      "[LightGBM] [Warning] No further splits with positive gain, best gain: -inf\n",
      "[LightGBM] [Warning] No further splits with positive gain, best gain: -inf\n",
      "[LightGBM] [Warning] No further splits with positive gain, best gain: -inf\n",
      "[LightGBM] [Warning] No further splits with positive gain, best gain: -inf\n",
      "[LightGBM] [Warning] No further splits with positive gain, best gain: -inf\n",
      "[LightGBM] [Warning] No further splits with positive gain, best gain: -inf\n",
      "[LightGBM] [Warning] No further splits with positive gain, best gain: -inf\n",
      "[LightGBM] [Warning] No further splits with positive gain, best gain: -inf\n",
      "[LightGBM] [Warning] No further splits with positive gain, best gain: -inf\n",
      "[LightGBM] [Warning] No further splits with positive gain, best gain: -inf\n",
      "[LightGBM] [Warning] No further splits with positive gain, best gain: -inf\n",
      "[LightGBM] [Warning] No further splits with positive gain, best gain: -inf\n",
      "[LightGBM] [Warning] No further splits with positive gain, best gain: -inf\n",
      "[LightGBM] [Warning] No further splits with positive gain, best gain: -inf\n",
      "[LightGBM] [Warning] No further splits with positive gain, best gain: -inf\n",
      "[LightGBM] [Warning] No further splits with positive gain, best gain: -inf\n",
      "[LightGBM] [Warning] No further splits with positive gain, best gain: -inf\n",
      "[LightGBM] [Warning] No further splits with positive gain, best gain: -inf\n",
      "[LightGBM] [Warning] No further splits with positive gain, best gain: -inf\n",
      "[LightGBM] [Warning] No further splits with positive gain, best gain: -inf\n",
      "[LightGBM] [Warning] No further splits with positive gain, best gain: -inf\n",
      "[LightGBM] [Warning] No further splits with positive gain, best gain: -inf\n",
      "[LightGBM] [Warning] No further splits with positive gain, best gain: -inf\n",
      "[LightGBM] [Warning] No further splits with positive gain, best gain: -inf\n",
      "[LightGBM] [Warning] No further splits with positive gain, best gain: -inf\n",
      "[LightGBM] [Warning] No further splits with positive gain, best gain: -inf\n",
      "[LightGBM] [Warning] No further splits with positive gain, best gain: -inf\n",
      "CPU times: user 32.5 s, sys: 7.93 s, total: 40.4 s\n",
      "Wall time: 13.4 s\n"
     ]
    },
    {
     "data": {
      "text/html": [
       "<div>\n",
       "<style scoped>\n",
       "    .dataframe tbody tr th:only-of-type {\n",
       "        vertical-align: middle;\n",
       "    }\n",
       "\n",
       "    .dataframe tbody tr th {\n",
       "        vertical-align: top;\n",
       "    }\n",
       "\n",
       "    .dataframe thead th {\n",
       "        text-align: right;\n",
       "    }\n",
       "</style>\n",
       "<table border=\"1\" class=\"dataframe\">\n",
       "  <thead>\n",
       "    <tr style=\"text-align: right;\">\n",
       "      <th></th>\n",
       "      <th>Classifier</th>\n",
       "      <th>Acc with all features</th>\n",
       "    </tr>\n",
       "  </thead>\n",
       "  <tbody>\n",
       "    <tr>\n",
       "      <th>0</th>\n",
       "      <td>RF</td>\n",
       "      <td>0.8349884 ± 0.0259213</td>\n",
       "    </tr>\n",
       "    <tr>\n",
       "      <th>1</th>\n",
       "      <td>XGB</td>\n",
       "      <td>0.8181345 ± 0.0368637</td>\n",
       "    </tr>\n",
       "    <tr>\n",
       "      <th>2</th>\n",
       "      <td>LGBM</td>\n",
       "      <td>0.8226665 ± 0.0229488</td>\n",
       "    </tr>\n",
       "    <tr>\n",
       "      <th>3</th>\n",
       "      <td>CAT</td>\n",
       "      <td>0.8417300 ± 0.0150137</td>\n",
       "    </tr>\n",
       "  </tbody>\n",
       "</table>\n",
       "</div>"
      ],
      "text/plain": [
       "  Classifier  Acc with all features\n",
       "0         RF  0.8349884 ± 0.0259213\n",
       "1        XGB  0.8181345 ± 0.0368637\n",
       "2       LGBM  0.8226665 ± 0.0229488\n",
       "3        CAT  0.8417300 ± 0.0150137"
      ]
     },
     "execution_count": 61,
     "metadata": {},
     "output_type": "execute_result"
    }
   ],
   "source": [
    "%%time\n",
    "test_with_models(classifiers, features, raw_df, target, cv)"
   ]
  },
  {
   "cell_type": "markdown",
   "id": "97de4139",
   "metadata": {
    "papermill": {
     "duration": 0.037824,
     "end_time": "2024-09-17T12:06:13.956033",
     "exception": false,
     "start_time": "2024-09-17T12:06:13.918209",
     "status": "completed"
    },
    "tags": []
   },
   "source": [
    "### RF"
   ]
  },
  {
   "cell_type": "code",
   "execution_count": 62,
   "id": "fe867144",
   "metadata": {
    "execution": {
     "iopub.execute_input": "2024-09-17T12:06:14.028759Z",
     "iopub.status.busy": "2024-09-17T12:06:14.028282Z",
     "iopub.status.idle": "2024-09-17T12:06:14.040423Z",
     "shell.execute_reply": "2024-09-17T12:06:14.039243Z"
    },
    "papermill": {
     "duration": 0.051557,
     "end_time": "2024-09-17T12:06:14.042862",
     "exception": false,
     "start_time": "2024-09-17T12:06:13.991305",
     "status": "completed"
    },
    "tags": []
   },
   "outputs": [],
   "source": [
    "param_dis = {\n",
    "    'n_estimators': np.arange(50,500,50),\n",
    "    'max_depth': np.arange(10,70,6),\n",
    "    'min_samples_split': np.arange(2,6),\n",
    "    'min_samples_leaf': np.arange(1,5),\n",
    "    'max_features': ['sqrt','log2',None],\n",
    "    'min_weight_fraction_leaf': loguniform(1e-6,0.4),\n",
    "    'max_leaf_nodes': np.arange(20,600,45),\n",
    "    'n_jobs': [-1],\n",
    "    'random_state': [0,17,42,123,1212],\n",
    "    'max_samples': loguniform(0.2,1)\n",
    "}"
   ]
  },
  {
   "cell_type": "code",
   "execution_count": 63,
   "id": "b346e96d",
   "metadata": {
    "execution": {
     "iopub.execute_input": "2024-09-17T12:06:14.130744Z",
     "iopub.status.busy": "2024-09-17T12:06:14.130199Z",
     "iopub.status.idle": "2024-09-17T12:06:14.141809Z",
     "shell.execute_reply": "2024-09-17T12:06:14.138993Z"
    },
    "papermill": {
     "duration": 0.065065,
     "end_time": "2024-09-17T12:06:14.144159",
     "exception": false,
     "start_time": "2024-09-17T12:06:14.079094",
     "status": "completed"
    },
    "scrolled": true,
    "tags": []
   },
   "outputs": [
    {
     "data": {
      "text/plain": [
       "\"%%time\\nsearch = RandomizedSearchCV(RandomForestClassifier(),\\n                            param_dis,\\n                            n_iter=150,\\n                            scoring='accuracy', cv=cv,\\n                            refit=True, verbose=3)\\nsearch.fit(inputs, targets)\""
      ]
     },
     "execution_count": 63,
     "metadata": {},
     "output_type": "execute_result"
    }
   ],
   "source": [
    "'''%%time\n",
    "search = RandomizedSearchCV(RandomForestClassifier(),\n",
    "                            param_dis,\n",
    "                            n_iter=150,\n",
    "                            scoring='accuracy', cv=cv,\n",
    "                            refit=True, verbose=3)\n",
    "search.fit(inputs, targets)'''"
   ]
  },
  {
   "cell_type": "code",
   "execution_count": 64,
   "id": "3f658b4e",
   "metadata": {
    "execution": {
     "iopub.execute_input": "2024-09-17T12:06:14.227972Z",
     "iopub.status.busy": "2024-09-17T12:06:14.227502Z",
     "iopub.status.idle": "2024-09-17T12:06:14.234981Z",
     "shell.execute_reply": "2024-09-17T12:06:14.234063Z"
    },
    "papermill": {
     "duration": 0.046791,
     "end_time": "2024-09-17T12:06:14.237511",
     "exception": false,
     "start_time": "2024-09-17T12:06:14.190720",
     "status": "completed"
    },
    "tags": []
   },
   "outputs": [],
   "source": [
    "best_params = {\n",
    " 'max_depth': 22,\n",
    " 'max_features': 'sqrt',\n",
    " 'max_leaf_nodes': 200,\n",
    " 'max_samples': 0.6071625810640303,\n",
    " 'min_samples_leaf': 2,\n",
    " 'min_samples_split': 5,\n",
    " 'min_weight_fraction_leaf': 1.2997082420198925e-05,\n",
    " 'n_estimators': 150,\n",
    " 'n_jobs': -1,\n",
    " 'random_state': 123\n",
    "}\n",
    "rf = RandomForestClassifier(**best_params)"
   ]
  },
  {
   "cell_type": "code",
   "execution_count": 65,
   "id": "00e4f32b",
   "metadata": {
    "execution": {
     "iopub.execute_input": "2024-09-17T12:06:14.310769Z",
     "iopub.status.busy": "2024-09-17T12:06:14.310330Z",
     "iopub.status.idle": "2024-09-17T12:06:16.721798Z",
     "shell.execute_reply": "2024-09-17T12:06:16.720733Z"
    },
    "papermill": {
     "duration": 2.450578,
     "end_time": "2024-09-17T12:06:16.724310",
     "exception": false,
     "start_time": "2024-09-17T12:06:14.273732",
     "status": "completed"
    },
    "tags": []
   },
   "outputs": [
    {
     "name": "stdout",
     "output_type": "stream",
     "text": [
      "Fold 0: train_acc = 0.90730, val_acc = 0.84916\n",
      "Fold 1: train_acc = 0.90603, val_acc = 0.84831\n",
      "Fold 2: train_acc = 0.90743, val_acc = 0.83146\n",
      "Fold 3: train_acc = 0.91585, val_acc = 0.84270\n",
      "Fold 4: train_acc = 0.92006, val_acc = 0.85955\n",
      "Train acc: 0.9113344 ± 0.0055864 | Val acc: 0.8462369 ± 0.0091760\n",
      "CPU times: user 2.39 s, sys: 17.8 ms, total: 2.41 s\n",
      "Wall time: 2.41 s\n"
     ]
    }
   ],
   "source": [
    "%%time\n",
    "test_inputs = test_df[input_cols]\n",
    "test_preds, _ = cross_validation(rf, cv, inputs, targets, test_inputs, need_print=True)"
   ]
  },
  {
   "cell_type": "code",
   "execution_count": 66,
   "id": "717db11b",
   "metadata": {
    "execution": {
     "iopub.execute_input": "2024-09-17T12:06:16.798618Z",
     "iopub.status.busy": "2024-09-17T12:06:16.798180Z",
     "iopub.status.idle": "2024-09-17T12:06:16.809233Z",
     "shell.execute_reply": "2024-09-17T12:06:16.808060Z"
    },
    "papermill": {
     "duration": 0.050903,
     "end_time": "2024-09-17T12:06:16.811885",
     "exception": false,
     "start_time": "2024-09-17T12:06:16.760982",
     "status": "completed"
    },
    "tags": []
   },
   "outputs": [],
   "source": [
    "sub_df[target] = test_preds\n",
    "sub_df[target] = sub_df[target].apply(lambda x: 1 if x>=0.5 else 0)\n",
    "sub_df.to_csv('/kaggle/working/sub_rf.csv', index=None)"
   ]
  },
  {
   "cell_type": "markdown",
   "id": "7454addd",
   "metadata": {
    "papermill": {
     "duration": 0.036402,
     "end_time": "2024-09-17T12:06:16.885339",
     "exception": false,
     "start_time": "2024-09-17T12:06:16.848937",
     "status": "completed"
    },
    "tags": []
   },
   "source": [
    "### XGB"
   ]
  },
  {
   "cell_type": "code",
   "execution_count": 67,
   "id": "06359fe2",
   "metadata": {
    "execution": {
     "iopub.execute_input": "2024-09-17T12:06:16.958823Z",
     "iopub.status.busy": "2024-09-17T12:06:16.958342Z",
     "iopub.status.idle": "2024-09-17T12:06:16.970892Z",
     "shell.execute_reply": "2024-09-17T12:06:16.969762Z"
    },
    "papermill": {
     "duration": 0.052063,
     "end_time": "2024-09-17T12:06:16.973251",
     "exception": false,
     "start_time": "2024-09-17T12:06:16.921188",
     "status": "completed"
    },
    "tags": []
   },
   "outputs": [],
   "source": [
    "param_dis = {\n",
    "    'n_estimators': np.arange(100,600,150),\n",
    "    'max_depth': np.arange(8,17,2),\n",
    "    'learning_rate': loguniform(0.009,0.25),\n",
    "    'reg_lambda': loguniform(1e-5,5),\n",
    "    'subsample': loguniform(0.5,1),\n",
    "    'min_child_weight': loguniform(0.4,5),\n",
    "    'objective': ['binary:logistic'],\n",
    "    'tree_method': ['hist'],\n",
    "    'colsample_bytree': loguniform(0.25,1),\n",
    "    'n_jobs': [-1],\n",
    "    'max_bin': [256,1024]\n",
    "}"
   ]
  },
  {
   "cell_type": "code",
   "execution_count": 68,
   "id": "dd1efc01",
   "metadata": {
    "execution": {
     "iopub.execute_input": "2024-09-17T12:06:17.046760Z",
     "iopub.status.busy": "2024-09-17T12:06:17.046279Z",
     "iopub.status.idle": "2024-09-17T12:06:17.054946Z",
     "shell.execute_reply": "2024-09-17T12:06:17.053818Z"
    },
    "papermill": {
     "duration": 0.048325,
     "end_time": "2024-09-17T12:06:17.057363",
     "exception": false,
     "start_time": "2024-09-17T12:06:17.009038",
     "status": "completed"
    },
    "scrolled": true,
    "tags": []
   },
   "outputs": [
    {
     "data": {
      "text/plain": [
       "\"%%time\\nsearch = RandomizedSearchCV(XGBClassifier(), param_dis, \\n                            n_iter=150, refit=True,\\n                            scoring = 'accuracy',\\n                            cv=cv, verbose=3)\\nsearch.fit(inputs, targets)\""
      ]
     },
     "execution_count": 68,
     "metadata": {},
     "output_type": "execute_result"
    }
   ],
   "source": [
    "'''%%time\n",
    "search = RandomizedSearchCV(XGBClassifier(), param_dis, \n",
    "                            n_iter=150, refit=True,\n",
    "                            scoring = 'accuracy',\n",
    "                            cv=cv, verbose=3)\n",
    "search.fit(inputs, targets)'''"
   ]
  },
  {
   "cell_type": "code",
   "execution_count": 69,
   "id": "c82e3f4e",
   "metadata": {
    "execution": {
     "iopub.execute_input": "2024-09-17T12:06:17.131656Z",
     "iopub.status.busy": "2024-09-17T12:06:17.130573Z",
     "iopub.status.idle": "2024-09-17T12:06:17.137198Z",
     "shell.execute_reply": "2024-09-17T12:06:17.136154Z"
    },
    "papermill": {
     "duration": 0.046743,
     "end_time": "2024-09-17T12:06:17.140165",
     "exception": false,
     "start_time": "2024-09-17T12:06:17.093422",
     "status": "completed"
    },
    "tags": []
   },
   "outputs": [],
   "source": [
    "best_params = {\n",
    " 'colsample_bytree': 0.35020607266529896,\n",
    " 'learning_rate': 0.04851955654670649,\n",
    " 'max_bin': 256,\n",
    " 'max_depth': 8,\n",
    " 'min_child_weight': 1.083629011547537,\n",
    " 'n_estimators': 100,\n",
    " 'n_jobs': -1,\n",
    " 'objective': 'binary:logistic',\n",
    " 'reg_lambda': 6.44000554492529e-05,\n",
    " 'subsample': 0.6398780835011133,\n",
    " 'tree_method': 'hist'\n",
    "}\n",
    "xgb = XGBClassifier(**best_params)"
   ]
  },
  {
   "cell_type": "code",
   "execution_count": 70,
   "id": "0d067cc7",
   "metadata": {
    "execution": {
     "iopub.execute_input": "2024-09-17T12:06:17.215313Z",
     "iopub.status.busy": "2024-09-17T12:06:17.214899Z",
     "iopub.status.idle": "2024-09-17T12:06:17.865084Z",
     "shell.execute_reply": "2024-09-17T12:06:17.863966Z"
    },
    "papermill": {
     "duration": 0.690212,
     "end_time": "2024-09-17T12:06:17.867544",
     "exception": false,
     "start_time": "2024-09-17T12:06:17.177332",
     "status": "completed"
    },
    "tags": []
   },
   "outputs": [
    {
     "name": "stdout",
     "output_type": "stream",
     "text": [
      "Fold 0: train_acc = 0.92978, val_acc = 0.87151\n",
      "Fold 1: train_acc = 0.92987, val_acc = 0.84270\n",
      "Fold 2: train_acc = 0.93969, val_acc = 0.83708\n",
      "Fold 3: train_acc = 0.93128, val_acc = 0.84831\n",
      "Fold 4: train_acc = 0.93548, val_acc = 0.86517\n",
      "Train acc: 0.9332201 ± 0.0038431 | Val acc: 0.8529534 ± 0.0132078\n",
      "CPU times: user 622 ms, sys: 23.9 ms, total: 646 ms\n",
      "Wall time: 644 ms\n"
     ]
    }
   ],
   "source": [
    "%%time\n",
    "test_inputs = test_df[input_cols]\n",
    "test_preds, _ = cross_validation(xgb, cv, inputs, targets, test_inputs, need_print=True)"
   ]
  },
  {
   "cell_type": "code",
   "execution_count": 71,
   "id": "7342a00f",
   "metadata": {
    "execution": {
     "iopub.execute_input": "2024-09-17T12:06:17.943643Z",
     "iopub.status.busy": "2024-09-17T12:06:17.943163Z",
     "iopub.status.idle": "2024-09-17T12:06:17.952226Z",
     "shell.execute_reply": "2024-09-17T12:06:17.951074Z"
    },
    "papermill": {
     "duration": 0.049702,
     "end_time": "2024-09-17T12:06:17.954542",
     "exception": false,
     "start_time": "2024-09-17T12:06:17.904840",
     "status": "completed"
    },
    "tags": []
   },
   "outputs": [],
   "source": [
    "sub_df[target] = test_preds\n",
    "sub_df[target] = sub_df[target].apply(lambda x: 1 if x>=0.5 else 0)\n",
    "sub_df.to_csv('/kaggle/working/sub_xgb.csv', index=None)"
   ]
  },
  {
   "cell_type": "markdown",
   "id": "b835dedf",
   "metadata": {
    "papermill": {
     "duration": 0.036056,
     "end_time": "2024-09-17T12:06:18.027154",
     "exception": false,
     "start_time": "2024-09-17T12:06:17.991098",
     "status": "completed"
    },
    "tags": []
   },
   "source": [
    "### CatBoost"
   ]
  },
  {
   "cell_type": "code",
   "execution_count": 72,
   "id": "861e1fb7",
   "metadata": {
    "execution": {
     "iopub.execute_input": "2024-09-17T12:06:18.104470Z",
     "iopub.status.busy": "2024-09-17T12:06:18.103975Z",
     "iopub.status.idle": "2024-09-17T12:06:18.114861Z",
     "shell.execute_reply": "2024-09-17T12:06:18.113584Z"
    },
    "papermill": {
     "duration": 0.051331,
     "end_time": "2024-09-17T12:06:18.117273",
     "exception": false,
     "start_time": "2024-09-17T12:06:18.065942",
     "status": "completed"
    },
    "tags": []
   },
   "outputs": [],
   "source": [
    "param_dis = {\n",
    "    'eval_metric': ['Accuracy'],\n",
    "    'iterations': np.arange(750,2500,250),\n",
    "    'learning_rate': loguniform(0.005,0.15),\n",
    "    'random_seed': [42],\n",
    "    'l2_leaf_reg': loguniform(0.8,50),\n",
    "    'bagging_temperature': loguniform(1e-4,1),\n",
    "    'random_strength': np.arange(1,10),\n",
    "    'depth': np.arange(6,10),\n",
    "    'min_data_in_leaf': np.arange(1,4),\n",
    "    'border_count': np.arange(24,296,50),\n",
    "    'logging_level': ['Silent']\n",
    "}"
   ]
  },
  {
   "cell_type": "code",
   "execution_count": 73,
   "id": "8a525d9a",
   "metadata": {
    "execution": {
     "iopub.execute_input": "2024-09-17T12:06:18.193447Z",
     "iopub.status.busy": "2024-09-17T12:06:18.192993Z",
     "iopub.status.idle": "2024-09-17T12:06:18.200687Z",
     "shell.execute_reply": "2024-09-17T12:06:18.199475Z"
    },
    "papermill": {
     "duration": 0.048338,
     "end_time": "2024-09-17T12:06:18.203108",
     "exception": false,
     "start_time": "2024-09-17T12:06:18.154770",
     "status": "completed"
    },
    "scrolled": true,
    "tags": []
   },
   "outputs": [
    {
     "data": {
      "text/plain": [
       "\"%%time\\nsearch = RandomizedSearchCV(CatBoostClassifier(), param_dis, \\n                            n_iter=150, refit=True,\\n                            scoring = 'accuracy',\\n                            cv=cv, verbose=3)\\nsearch.fit(inputs, targets)\""
      ]
     },
     "execution_count": 73,
     "metadata": {},
     "output_type": "execute_result"
    }
   ],
   "source": [
    "'''%%time\n",
    "search = RandomizedSearchCV(CatBoostClassifier(), param_dis, \n",
    "                            n_iter=150, refit=True,\n",
    "                            scoring = 'accuracy',\n",
    "                            cv=cv, verbose=3)\n",
    "search.fit(inputs, targets)'''"
   ]
  },
  {
   "cell_type": "code",
   "execution_count": 74,
   "id": "c9b6bc54",
   "metadata": {
    "execution": {
     "iopub.execute_input": "2024-09-17T12:06:18.279199Z",
     "iopub.status.busy": "2024-09-17T12:06:18.278771Z",
     "iopub.status.idle": "2024-09-17T12:06:18.285309Z",
     "shell.execute_reply": "2024-09-17T12:06:18.284222Z"
    },
    "papermill": {
     "duration": 0.047391,
     "end_time": "2024-09-17T12:06:18.287751",
     "exception": false,
     "start_time": "2024-09-17T12:06:18.240360",
     "status": "completed"
    },
    "tags": []
   },
   "outputs": [],
   "source": [
    "best_params = {\n",
    " 'bagging_temperature': 0.506401040040299,\n",
    " 'border_count': 174,\n",
    " 'depth': 8,\n",
    " 'eval_metric': 'Accuracy',\n",
    " 'iterations': 1000,\n",
    " 'l2_leaf_reg': 48.819216909544856,\n",
    " 'learning_rate': 0.04216278462488399,\n",
    " 'logging_level': 'Silent',\n",
    " 'min_data_in_leaf': 1,\n",
    " 'random_seed': 42,\n",
    " 'random_strength': 6\n",
    "}\n",
    "cat = CatBoostClassifier(**best_params)"
   ]
  },
  {
   "cell_type": "code",
   "execution_count": 75,
   "id": "51899596",
   "metadata": {
    "execution": {
     "iopub.execute_input": "2024-09-17T12:06:18.364170Z",
     "iopub.status.busy": "2024-09-17T12:06:18.363731Z",
     "iopub.status.idle": "2024-09-17T12:06:34.196180Z",
     "shell.execute_reply": "2024-09-17T12:06:34.195021Z"
    },
    "papermill": {
     "duration": 15.873871,
     "end_time": "2024-09-17T12:06:34.198919",
     "exception": false,
     "start_time": "2024-09-17T12:06:18.325048",
     "status": "completed"
    },
    "tags": []
   },
   "outputs": [
    {
     "name": "stdout",
     "output_type": "stream",
     "text": [
      "Fold 0: train_acc = 0.93680, val_acc = 0.85475\n",
      "Fold 1: train_acc = 0.94109, val_acc = 0.85393\n",
      "Fold 2: train_acc = 0.94951, val_acc = 0.82584\n",
      "Fold 3: train_acc = 0.95091, val_acc = 0.83708\n",
      "Fold 4: train_acc = 0.93829, val_acc = 0.85955\n",
      "Train acc: 0.9433203 ± 0.0058094 | Val acc: 0.8462306 ± 0.0127179\n",
      "CPU times: user 46.5 s, sys: 9.03 s, total: 55.6 s\n",
      "Wall time: 15.8 s\n"
     ]
    }
   ],
   "source": [
    "%%time\n",
    "test_inputs = test_df[input_cols]\n",
    "test_preds, _ = cross_validation(cat, cv, inputs, targets, test_inputs, need_print=True)"
   ]
  },
  {
   "cell_type": "code",
   "execution_count": 76,
   "id": "f859b6c8",
   "metadata": {
    "execution": {
     "iopub.execute_input": "2024-09-17T12:06:34.276403Z",
     "iopub.status.busy": "2024-09-17T12:06:34.275946Z",
     "iopub.status.idle": "2024-09-17T12:06:34.285873Z",
     "shell.execute_reply": "2024-09-17T12:06:34.284624Z"
    },
    "papermill": {
     "duration": 0.051378,
     "end_time": "2024-09-17T12:06:34.288532",
     "exception": false,
     "start_time": "2024-09-17T12:06:34.237154",
     "status": "completed"
    },
    "tags": []
   },
   "outputs": [],
   "source": [
    "sub_df[target] = test_preds\n",
    "sub_df[target] = sub_df[target].apply(lambda x: 1 if x>=0.5 else 0)\n",
    "sub_df.to_csv('/kaggle/working/sub_cat.csv', index=None)"
   ]
  },
  {
   "cell_type": "code",
   "execution_count": 77,
   "id": "e259895e",
   "metadata": {
    "execution": {
     "iopub.execute_input": "2024-09-17T12:06:34.366366Z",
     "iopub.status.busy": "2024-09-17T12:06:34.365933Z",
     "iopub.status.idle": "2024-09-17T12:06:34.372096Z",
     "shell.execute_reply": "2024-09-17T12:06:34.370574Z"
    },
    "papermill": {
     "duration": 0.047776,
     "end_time": "2024-09-17T12:06:34.374946",
     "exception": false,
     "start_time": "2024-09-17T12:06:34.327170",
     "status": "completed"
    },
    "tags": []
   },
   "outputs": [],
   "source": [
    "cat_cols = ['SibSp','Parch','FamilySize','Pclass+FamilySize',\n",
    "            'Pclass','AgeGroup','Sex','Embarked','Title',\n",
    "            'Deck','Ticket_Type','Ticket_Small_Type']"
   ]
  },
  {
   "cell_type": "code",
   "execution_count": 78,
   "id": "a2873c63",
   "metadata": {
    "execution": {
     "iopub.execute_input": "2024-09-17T12:06:34.455524Z",
     "iopub.status.busy": "2024-09-17T12:06:34.455020Z",
     "iopub.status.idle": "2024-09-17T12:06:34.463076Z",
     "shell.execute_reply": "2024-09-17T12:06:34.461764Z"
    },
    "papermill": {
     "duration": 0.050768,
     "end_time": "2024-09-17T12:06:34.465545",
     "exception": false,
     "start_time": "2024-09-17T12:06:34.414777",
     "status": "completed"
    },
    "tags": []
   },
   "outputs": [],
   "source": [
    "cat = CatBoostClassifier(**best_params, cat_features=cat_cols)"
   ]
  },
  {
   "cell_type": "code",
   "execution_count": 79,
   "id": "acdbfabe",
   "metadata": {
    "execution": {
     "iopub.execute_input": "2024-09-17T12:06:34.542640Z",
     "iopub.status.busy": "2024-09-17T12:06:34.541705Z",
     "iopub.status.idle": "2024-09-17T12:08:00.659473Z",
     "shell.execute_reply": "2024-09-17T12:08:00.657832Z"
    },
    "papermill": {
     "duration": 86.161259,
     "end_time": "2024-09-17T12:08:00.663994",
     "exception": false,
     "start_time": "2024-09-17T12:06:34.502735",
     "status": "completed"
    },
    "tags": []
   },
   "outputs": [
    {
     "name": "stdout",
     "output_type": "stream",
     "text": [
      "Fold 0: train_acc = 0.88343, val_acc = 0.83799\n",
      "Fold 1: train_acc = 0.88219, val_acc = 0.83146\n",
      "Fold 2: train_acc = 0.88359, val_acc = 0.78652\n",
      "Fold 3: train_acc = 0.87938, val_acc = 0.83708\n",
      "Fold 4: train_acc = 0.88920, val_acc = 0.84270\n",
      "Train acc: 0.8835578 ± 0.0031989 | Val acc: 0.8271483 ± 0.0206271\n",
      "CPU times: user 3min 51s, sys: 1min 5s, total: 4min 57s\n",
      "Wall time: 1min 26s\n"
     ]
    }
   ],
   "source": [
    "%%time\n",
    "test_inputs = test_df[input_cols]\n",
    "test_preds, _ = cross_validation(cat, cv, inputs, targets, test_inputs, need_print=True)"
   ]
  },
  {
   "cell_type": "code",
   "execution_count": 80,
   "id": "368107b9",
   "metadata": {
    "execution": {
     "iopub.execute_input": "2024-09-17T12:08:00.743041Z",
     "iopub.status.busy": "2024-09-17T12:08:00.742617Z",
     "iopub.status.idle": "2024-09-17T12:08:00.752290Z",
     "shell.execute_reply": "2024-09-17T12:08:00.750699Z"
    },
    "papermill": {
     "duration": 0.052896,
     "end_time": "2024-09-17T12:08:00.755696",
     "exception": false,
     "start_time": "2024-09-17T12:08:00.702800",
     "status": "completed"
    },
    "tags": []
   },
   "outputs": [],
   "source": [
    "sub_df[target] = test_preds\n",
    "sub_df[target] = sub_df[target].apply(lambda x: 1 if x>=0.5 else 0)\n",
    "sub_df.to_csv('/kaggle/working/submission.csv', index=None)"
   ]
  }
 ],
 "metadata": {
  "colab": {
   "include_colab_link": true,
   "provenance": []
  },
  "kaggle": {
   "accelerator": "none",
   "dataSources": [
    {
     "databundleVersionId": 26502,
     "sourceId": 3136,
     "sourceType": "competition"
    }
   ],
   "dockerImageVersionId": 30761,
   "isGpuEnabled": false,
   "isInternetEnabled": true,
   "language": "python",
   "sourceType": "notebook"
  },
  "kernelspec": {
   "display_name": "Python 3",
   "language": "python",
   "name": "python3"
  },
  "language_info": {
   "codemirror_mode": {
    "name": "ipython",
    "version": 3
   },
   "file_extension": ".py",
   "mimetype": "text/x-python",
   "name": "python",
   "nbconvert_exporter": "python",
   "pygments_lexer": "ipython3",
   "version": "3.10.14"
  },
  "papermill": {
   "default_parameters": {},
   "duration": 136.183522,
   "end_time": "2024-09-17T12:08:01.719032",
   "environment_variables": {},
   "exception": null,
   "input_path": "__notebook__.ipynb",
   "output_path": "__notebook__.ipynb",
   "parameters": {},
   "start_time": "2024-09-17T12:05:45.535510",
   "version": "2.6.0"
  }
 },
 "nbformat": 4,
 "nbformat_minor": 5
}
